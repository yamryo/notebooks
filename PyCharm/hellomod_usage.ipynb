{
 "cells": [
  {
   "cell_type": "code",
   "execution_count": 1,
   "id": "8bbdb340-1394-48fe-90d7-23058ff400ba",
   "metadata": {},
   "outputs": [
    {
     "ename": "ModuleNotFoundError",
     "evalue": "No module named 'hellomod'",
     "output_type": "error",
     "traceback": [
      "\u001b[0;31m---------------------------------------------------------------------------\u001b[0m",
      "\u001b[0;31mModuleNotFoundError\u001b[0m                       Traceback (most recent call last)",
      "Cell \u001b[0;32mIn[1], line 2\u001b[0m\n\u001b[1;32m      1\u001b[0m \u001b[38;5;66;03m#import sys; sys.path.append('~/notebooks/PyCharm/')  # exp配下のパスを追加\u001b[39;00m\n\u001b[0;32m----> 2\u001b[0m \u001b[38;5;28;01mimport\u001b[39;00m \u001b[38;5;21;01mhellomod\u001b[39;00m\n\u001b[1;32m      3\u001b[0m hellomod\u001b[38;5;241m.\u001b[39mgreet()\n",
      "\u001b[0;31mModuleNotFoundError\u001b[0m: No module named 'hellomod'"
     ]
    }
   ],
   "source": [
    "#import sys; sys.path.append('~/notebooks/PyCharm/')  # exp配下のパスを追加\n",
    "import pybridge as pyb\n",
    "\n",
    "import hellomod\n",
    "hellomod.greet()  # \"Hello from your C++ module!\" と表示されます"
   ]
  },
  {
   "cell_type": "code",
   "execution_count": null,
   "id": "fd798bd0-cb31-4aec-99e9-a642af257007",
   "metadata": {},
   "outputs": [],
   "source": [
    "print(sys.path)"
   ]
  },
  {
   "cell_type": "code",
   "execution_count": null,
   "id": "fe3623a7-7e02-4acb-bca3-58c0bbcdb0c5",
   "metadata": {},
   "outputs": [],
   "source": []
  }
 ],
 "metadata": {
  "kernelspec": {
   "display_name": "Python 3 (ipykernel)",
   "language": "python",
   "name": "python3"
  },
  "language_info": {
   "codemirror_mode": {
    "name": "ipython",
    "version": 3
   },
   "file_extension": ".py",
   "mimetype": "text/x-python",
   "name": "python",
   "nbconvert_exporter": "python",
   "pygments_lexer": "ipython3",
   "version": "3.11.8"
  }
 },
 "nbformat": 4,
 "nbformat_minor": 5
}
