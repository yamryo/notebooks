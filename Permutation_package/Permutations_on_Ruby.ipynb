{
 "cells": [
  {
   "cell_type": "markdown",
   "metadata": {},
   "source": [
    "# Permutations on Ruby"
   ]
  },
  {
   "cell_type": "code",
   "execution_count": 1,
   "metadata": {},
   "outputs": [],
   "source": [
    "require './permutations.rb'; nil"
   ]
  },
  {
   "cell_type": "code",
   "execution_count": 2,
   "metadata": {
    "ExecuteTime": {
     "end_time": "2020-01-23T10:01:05.847714Z",
     "start_time": "2020-01-23T10:01:05.837Z"
    },
    "hidden": true
   },
   "outputs": [
    {
     "name": "stdout",
     "output_type": "stream",
     "text": [
      "[0, 1, 2, 3]\n",
      "[1, 2, 0, 3]\n"
     ]
    },
    {
     "data": {
      "text/plain": [
       "\"[2, 0, 3, 4, 1]  |-(0↦1,1↦2,2↦0,3↦3)->  [0, 1, 3, 4, 2]\""
      ]
     },
     "execution_count": 2,
     "metadata": {},
     "output_type": "execute_result"
    }
   ],
   "source": [
    "sigma = Permutation.new([1,2,0,3])\n",
    "puts sigma.to_s\n",
    "\n",
    "before = [2,0,3,4,1]\n",
    "sigma.display(before)"
   ]
  },
  {
   "cell_type": "code",
   "execution_count": 3,
   "metadata": {
    "ExecuteTime": {
     "end_time": "2020-01-24T06:40:32.699844Z",
     "start_time": "2020-01-24T06:40:32.689Z"
    },
    "hidden": true
   },
   "outputs": [
    {
     "name": "stdout",
     "output_type": "stream",
     "text": [
      "[0, 2, 4, 3, 1]\n",
      "\"(2,4,1)\"\n",
      "\"(2↦4↦1↦)\"\n"
     ]
    },
    {
     "data": {
      "text/plain": [
       "\"[0, 2, 1, 3, 4]  |-(2↦4↦1↦)->  [0, 4, 2, 3, 1]\""
      ]
     },
     "execution_count": 3,
     "metadata": {},
     "output_type": "execute_result"
    }
   ],
   "source": [
    "c = Cycle.new([2,4,1])\n",
    "\n",
    "p c.image, c.to_s, c.inspect\n",
    "\n",
    "c.display([0,2,1,3,4])"
   ]
  },
  {
   "cell_type": "code",
   "execution_count": 4,
   "metadata": {
    "ExecuteTime": {
     "end_time": "2020-01-24T06:42:10.744718Z",
     "start_time": "2020-01-24T06:42:10.736Z"
    },
    "hidden": true
   },
   "outputs": [
    {
     "name": "stdout",
     "output_type": "stream",
     "text": [
      "(3,4)\n",
      "(3⇄4)\n"
     ]
    },
    {
     "data": {
      "text/plain": [
       "\"[0, 1, 2, 3, 4, 5]  |-(3⇄4)->  [0, 1, 2, 4, 3, 5]\""
      ]
     },
     "execution_count": 4,
     "metadata": {},
     "output_type": "execute_result"
    }
   ],
   "source": [
    "t = Transposition.new(3,4)\n",
    "puts t.to_s, t.inspect\n",
    "\n",
    "t.display((0..5).to_a)"
   ]
  },
  {
   "cell_type": "code",
   "execution_count": 5,
   "metadata": {
    "ExecuteTime": {
     "end_time": "2020-01-24T06:35:59.043727Z",
     "start_time": "2020-01-24T06:35:58.900Z"
    }
   },
   "outputs": [
    {
     "name": "stdout",
     "output_type": "stream",
     "text": [
      "(0↦3,1↦2,2↦4,3↦0,4↦8,5↦7,6↦1,7↦6,8↦5)\n",
      "[(3↦0↦), (2↦4↦8↦5↦7↦6↦1↦)]\n",
      "\"[0, 1, 2, 3, 4, 5, 6]  |-(3↦0↦)->  [3, 1, 2, 0, 4, 5, 6]\"\n",
      "\"[3, 1, 2, 0, 4, 5, 6]  |-(2↦4↦8↦5↦7↦6↦1↦)->  [3, 2, 4, 0, 8, 7, 1]\"\n"
     ]
    }
   ],
   "source": [
    "v = (0..8).to_a.permutation.to_a.sample\n",
    "s = Permutation.new(v).tap{|x| p x}\n",
    "\n",
    "decomp = decompose(s).tap{|x| p x}\n",
    "\n",
    "arr = (0..6).to_a\n",
    "decomp.each do |perm|\n",
    "  p perm.display(arr)\n",
    "  arr = perm.act(arr)\n",
    "end; nil"
   ]
  },
  {
   "cell_type": "markdown",
   "metadata": {},
   "source": [
    "## Experiments"
   ]
  },
  {
   "cell_type": "code",
   "execution_count": 6,
   "metadata": {
    "ExecuteTime": {
     "end_time": "2020-01-23T09:18:24.207850Z",
     "start_time": "2020-01-23T09:18:24.200Z"
    }
   },
   "outputs": [
    {
     "name": "stdout",
     "output_type": "stream",
     "text": [
      "[0, 1, 2, 3, 4, 5]  |-(0↦1,1↦2,2↦0,3↦4,4↦3)->  [1, 2, 0, 4, 3, 5]\n"
     ]
    },
    {
     "data": {
      "text/plain": [
       "\"[0, 1, 2, 3, 4, 5]  |-(3⇄4)->  [0, 1, 2, 4, 3, 5] 5]  |-(0↦1,1↦2,2↦0,3↦3)->  [1, 2, 0, 4, 3, 5]\""
      ]
     },
     "execution_count": 6,
     "metadata": {},
     "output_type": "execute_result"
    }
   ],
   "source": [
    "s = Permutation.new([1,2,0,3])\n",
    "t = Transposition.new(3,4)\n",
    "st = s*t; #puts st.to_s\n",
    "\n",
    "start = (0..5).to_a\n",
    "\n",
    "puts st.display(start)\n",
    "\n",
    "[t,s].map do |perm|\n",
    "  perm.display(start).tap{|v| start = perm.act(start)}\n",
    "end.join('mark').sub(/mark(.{15})/, '')"
   ]
  },
  {
   "cell_type": "code",
   "execution_count": 7,
   "metadata": {
    "ExecuteTime": {
     "end_time": "2020-01-23T09:18:43.976584Z",
     "start_time": "2020-01-23T09:18:43.968Z"
    }
   },
   "outputs": [
    {
     "name": "stdout",
     "output_type": "stream",
     "text": [
      "\"[1, 2, 0, 4, 3, 5]  |-(3⇄4)->  [1, 2, 0, 3, 4, 5]\"\n",
      "\"[1, 2, 0, 4, 3, 5]  |-(3↦4↦)->  [1, 2, 0, 3, 4, 5]\"\n"
     ]
    }
   ],
   "source": [
    "p t.display(start)\n",
    "\n",
    "c = Cycle.new([3,4])\n",
    "p c.display(start)\n",
    "nil"
   ]
  },
  {
   "cell_type": "code",
   "execution_count": null,
   "metadata": {},
   "outputs": [],
   "source": []
  }
 ],
 "metadata": {
  "kernelspec": {
   "display_name": "Ruby 2.7.0",
   "language": "ruby",
   "name": "ruby"
  },
  "language_info": {
   "file_extension": ".rb",
   "mimetype": "application/x-ruby",
   "name": "ruby",
   "version": "2.7.0"
  },
  "toc": {
   "base_numbering": 1,
   "nav_menu": {},
   "number_sections": true,
   "sideBar": true,
   "skip_h1_title": true,
   "title_cell": "Table of Contents",
   "title_sidebar": "Contents",
   "toc_cell": false,
   "toc_position": {},
   "toc_section_display": true,
   "toc_window_display": true
  }
 },
 "nbformat": 4,
 "nbformat_minor": 4
}
