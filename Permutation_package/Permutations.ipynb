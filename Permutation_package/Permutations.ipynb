{
 "cells": [
  {
   "cell_type": "markdown",
   "id": "f1935744",
   "metadata": {},
   "source": [
    "# Permutations on Python"
   ]
  },
  {
   "cell_type": "markdown",
   "id": "ab87207d",
   "metadata": {
    "heading_collapsed": true
   },
   "source": [
    "## Import libraries"
   ]
  },
  {
   "cell_type": "code",
   "execution_count": 12,
   "id": "1dab1db7",
   "metadata": {
    "ExecuteTime": {
     "end_time": "2021-05-21T05:29:54.547114Z",
     "start_time": "2021-05-21T05:29:54.538703Z"
    },
    "hidden": true
   },
   "outputs": [],
   "source": [
    "import math\n",
    "import itertools\n",
    "import random\n",
    "\n",
    "import sympy\n",
    "sympy.init_printing()"
   ]
  },
  {
   "cell_type": "markdown",
   "id": "6bb4ed57",
   "metadata": {},
   "source": [
    "## Classes"
   ]
  },
  {
   "cell_type": "markdown",
   "id": "92ddaabf",
   "metadata": {
    "heading_collapsed": true
   },
   "source": [
    "### Permutation class"
   ]
  },
  {
   "cell_type": "code",
   "execution_count": 85,
   "id": "22835adf",
   "metadata": {
    "ExecuteTime": {
     "end_time": "2021-05-22T06:58:35.277499Z",
     "start_time": "2021-05-22T06:58:35.240222Z"
    },
    "hidden": true
   },
   "outputs": [],
   "source": [
    "class Permutation:\n",
    "    '''Permutation class'''\n",
    "    \n",
    "    def __init__(self, image=list(range(4))):\n",
    "        if not type(image) is list: raise(TypeError)\n",
    "        try:\n",
    "            [image.index(v) for v in range(max(image)+1)]\n",
    "        except:\n",
    "            print(\"ArgumentError: \", image)\n",
    "        self.image = image\n",
    "        self.size = len(image)\n",
    "        self.repr = [list(range(self.size)),self.image]\n",
    "#-----    \n",
    "    def act(self,arg):\n",
    "        if not type(arg) in [list,int]: \n",
    "            raise TypeError(\"type(arg)={}\".format(type(arg)))\n",
    "        if type(arg) is int:\n",
    "            if arg in self.image:\n",
    "                return self.image[arg]\n",
    "            else: \n",
    "                return arg\n",
    "        else:\n",
    "            try:\n",
    "                return [self.act(v) for v in arg]\n",
    "            except IndexError as e: print(e)\n",
    "#-----\n",
    "    def __mul__(self,aPerm):\n",
    "        if not isinstance(aPerm, type(self)): raise(TypeError)\n",
    "        return type(self)(self.act(aPerm.image))\n",
    "                \n",
    "    def inverse(self):\n",
    "        inverse_image = []\n",
    "        inverse_image = [self.image.index(v) for v in range(self.size)]\n",
    "        return type(self)(inverse_image)\n",
    "#-----    \n",
    "    def __repr__(self):\n",
    "        return \"{}\\n{}\".format(self.repr[0],self.repr[1])\n",
    "    \n",
    "    def display(self):\n",
    "        display(sympy.Matrix(self.repr))"
   ]
  },
  {
   "cell_type": "markdown",
   "id": "0d60d62a",
   "metadata": {
    "heading_collapsed": true
   },
   "source": [
    "### Cycle class"
   ]
  },
  {
   "cell_type": "code",
   "execution_count": 18,
   "id": "77e52ef6",
   "metadata": {
    "ExecuteTime": {
     "end_time": "2021-05-21T05:29:56.537003Z",
     "start_time": "2021-05-21T05:29:56.505953Z"
    },
    "hidden": true
   },
   "outputs": [],
   "source": [
    "class Cycle(Permutation):\n",
    "    def __init__(self, arg):\n",
    "        if not type(arg) is list: raise(TypeError)\n",
    "        self.seq = arg\n",
    "        self.len = len(arg)\n",
    "        image = []\n",
    "        for k in range(max(arg)+1):\n",
    "            if k in arg:\n",
    "                ind = arg.index(k)\n",
    "                image += [arg[(ind+1)%self.len]]\n",
    "            else:\n",
    "                image += [k]\n",
    "        super().__init__(image)\n",
    "        \n",
    "    def __repr__(self):\n",
    "        return \"{}\".format(self.seq)\n",
    "    \n",
    "    def repr_as_perm(self):\n",
    "        return \"{}\\n{}\".format(self.repr[0],self.repr[1])\n",
    "#        super().__repr__()\n",
    "        \n",
    "    def display(self, flag=False):\n",
    "        if flag:\n",
    "            super(Cycle, self).display(self)\n",
    "        else:\n",
    "            display(sympy.transpose(sympy.Matrix(self.seq)))"
   ]
  },
  {
   "cell_type": "markdown",
   "id": "b4cf589f",
   "metadata": {
    "heading_collapsed": true
   },
   "source": [
    "### Transposition class"
   ]
  },
  {
   "cell_type": "code",
   "execution_count": 22,
   "id": "a9cf2d4a",
   "metadata": {
    "ExecuteTime": {
     "end_time": "2021-05-21T05:29:58.330422Z",
     "start_time": "2021-05-21T05:29:58.311635Z"
    },
    "hidden": true
   },
   "outputs": [],
   "source": [
    "class Transposition(Cycle):\n",
    "    def __init__(self, i, j):\n",
    "        self.pair = [i,j]\n",
    "        super().__init__(self.pair)"
   ]
  },
  {
   "cell_type": "markdown",
   "id": "f486feb3",
   "metadata": {},
   "source": [
    "## Decompositions"
   ]
  },
  {
   "cell_type": "markdown",
   "id": "219ac12f",
   "metadata": {},
   "source": [
    "### Decompose into Cycles"
   ]
  },
  {
   "cell_type": "code",
   "execution_count": 26,
   "id": "ec2cfdb3",
   "metadata": {
    "ExecuteTime": {
     "end_time": "2021-05-21T05:30:20.653557Z",
     "start_time": "2021-05-21T05:30:20.642990Z"
    }
   },
   "outputs": [],
   "source": [
    "def cycle_decomp(aPerm):\n",
    "    factors = []\n",
    "    im = [v for v in aPerm.image]  #a deep-copy of aPerm.image\n",
    "    while len(im) > 0:\n",
    "        orbit = [im[0]]\n",
    "        while orbit.count(orbit[0]) == 1:\n",
    "            current = orbit[-1]\n",
    "            succ = aPerm.act(current)\n",
    "            orbit += [succ]\n",
    "        orbit.pop()\n",
    "        factors += [Cycle(orbit)]\n",
    "        im = [v for v in im if not v in orbit]\n",
    "    return factors"
   ]
  },
  {
   "cell_type": "markdown",
   "id": "1ec8a1eb",
   "metadata": {},
   "source": [
    "### Decompose into Transpositions"
   ]
  },
  {
   "cell_type": "code",
   "execution_count": null,
   "id": "598927f6",
   "metadata": {},
   "outputs": [],
   "source": [
    "def trans_decomp(aPerm):\n",
    "    "
   ]
  },
  {
   "cell_type": "markdown",
   "id": "beb620c4",
   "metadata": {
    "heading_collapsed": true
   },
   "source": [
    "# Scratch"
   ]
  },
  {
   "cell_type": "code",
   "execution_count": 45,
   "id": "50ac7431",
   "metadata": {
    "ExecuteTime": {
     "end_time": "2021-05-22T05:24:24.552922Z",
     "start_time": "2021-05-22T05:24:24.534914Z"
    },
    "hidden": true
   },
   "outputs": [],
   "source": [
    "class StopImportNotebook(Exception):\n",
    "    def _render_traceback_(self):\n",
    "        pass\n",
    "\n",
    "raise StopImportNotebook"
   ]
  },
  {
   "cell_type": "code",
   "execution_count": 14,
   "id": "61cb7e56",
   "metadata": {
    "ExecuteTime": {
     "end_time": "2021-05-21T05:29:55.497345Z",
     "start_time": "2021-05-21T05:29:54.593760Z"
    },
    "hidden": true
   },
   "outputs": [
    {
     "name": "stdout",
     "output_type": "stream",
     "text": [
      "[1, 2, 0, 3],4\n"
     ]
    },
    {
     "data": {
      "image/png": "[encoded data removed]",
      "text/latex": [
       "$\\displaystyle \\left[ 2, \\  3, \\  1, \\  0\\right]$"
      ],
      "text/plain": [
       "[2, 3, 1, 0]"
      ]
     },
     "execution_count": 14,
     "metadata": {},
     "output_type": "execute_result"
    }
   ],
   "source": [
    "sigma = Permutation([1,2,0,3])\n",
    "print(\"{},{}\".format(sigma.image,sigma.size))\n",
    "sigma.act([1,3,0,2])"
   ]
  }
 ],
 "metadata": {
  "kernelspec": {
   "display_name": "Python 3",
   "language": "python",
   "name": "python3"
  },
  "language_info": {
   "codemirror_mode": {
    "name": "ipython",
    "version": 3
   },
   "file_extension": ".py",
   "mimetype": "text/x-python",
   "name": "python",
   "nbconvert_exporter": "python",
   "pygments_lexer": "ipython3",
   "version": "3.6.13"
  },
  "toc": {
   "base_numbering": 1,
   "nav_menu": {},
   "number_sections": false,
   "sideBar": true,
   "skip_h1_title": true,
   "title_cell": "Table of Contents",
   "title_sidebar": "Contents",
   "toc_cell": false,
   "toc_position": {},
   "toc_section_display": true,
   "toc_window_display": false
  }
 },
 "nbformat": 4,
 "nbformat_minor": 5
}
