{
 "cells": [
  {
   "cell_type": "markdown",
   "metadata": {},
   "source": [
    "## $P^{n}(X_{4})$ の位数"
   ]
  },
  {
   "cell_type": "markdown",
   "metadata": {},
   "source": [
    "$$\n",
    "P^{n}(X_{4}) = \\{(\\sigma_{1}, \\dots, \\sigma_{n}) | \\sigma_{1}\\sigma_{2} \\cdots \\sigma_{n} = 1, \\sigma_{i} \\neq \\sigma_{j} [\\forall i,j] \\}\n",
    "$$"
   ]
  },
  {
   "cell_type": "code",
   "execution_count": 1,
   "metadata": {
    "ExecuteTime": {
     "end_time": "2020-01-18T23:50:05.022869Z",
     "start_time": "2020-01-18T23:50:05.008Z"
    }
   },
   "outputs": [],
   "source": [
    "require 'benchmark'\n",
    "nil"
   ]
  },
  {
   "cell_type": "markdown",
   "metadata": {},
   "source": [
    "## Cyclic permutations"
   ]
  },
  {
   "cell_type": "code",
   "execution_count": null,
   "metadata": {
    "ExecuteTime": {
     "end_time": "2020-01-18T09:19:10.757855Z",
     "start_time": "2020-01-18T09:19:10.752Z"
    }
   },
   "outputs": [],
   "source": [
    "def act(sigma, k)\n",
    "  if k.is_a? Array\n",
    "    return k.map{|v| act(sigma, v)}\n",
    "  else \n",
    "    return sigma[(sigma.index(k)+1)%4]\n",
    "  end\n",
    "end; nil"
   ]
  },
  {
   "cell_type": "code",
   "execution_count": null,
   "metadata": {
    "ExecuteTime": {
     "end_time": "2020-01-18T09:19:11.425526Z",
     "start_time": "2020-01-18T09:19:11.419Z"
    }
   },
   "outputs": [],
   "source": [
    "def act01(sigma, k)\n",
    "  if k.is_a? Array\n",
    "    return k.map{|v| act(sigma, v)}\n",
    "  else\n",
    "    ind = sigma.index(k)+1\n",
    "    return sigma[ind].then{|x| (x.nil?) ? sigma[0] : x}\n",
    "  end\n",
    "end; nil"
   ]
  },
  {
   "cell_type": "code",
   "execution_count": null,
   "metadata": {
    "ExecuteTime": {
     "end_time": "2020-01-18T09:19:13.808876Z",
     "start_time": "2020-01-18T09:19:13.803Z"
    }
   },
   "outputs": [],
   "source": [
    "def act02(sigma, k)\n",
    "  if k.is_a? Array\n",
    "    return k.map{|v| act(sigma, v)}\n",
    "  else\n",
    "    ind = (sigma.index(k)+1).then{|x| (x > 4) ? 0 : x}\n",
    "    return sigma[ind]\n",
    "  end\n",
    "end; nil"
   ]
  },
  {
   "cell_type": "code",
   "execution_count": null,
   "metadata": {
    "ExecuteTime": {
     "end_time": "2020-01-18T11:00:35.952612Z",
     "start_time": "2020-01-18T11:00:35.947Z"
    }
   },
   "outputs": [],
   "source": [
    "def act03(sigma, k)\n",
    "  if k.is_a? Array\n",
    "    return k.map{|v| act(sigma, v)}\n",
    "  else\n",
    "    ind = (sigma.index(k)+1).then{|x| (x == 4) ? 0 : x}\n",
    "    return sigma[ind]\n",
    "  end\n",
    "end; nil"
   ]
  },
  {
   "cell_type": "code",
   "execution_count": null,
   "metadata": {
    "ExecuteTime": {
     "end_time": "2020-01-18T11:03:18.211574Z",
     "start_time": "2020-01-18T11:03:18.205Z"
    }
   },
   "outputs": [],
   "source": [
    "def act04(sigma, k)\n",
    "  if k.is_a? Array\n",
    "    k.map{|v| act(sigma, v)}\n",
    "  else\n",
    "    sigma[(sigma.index(k)+1).then{|x| (x == 4) ? 0 : x}]\n",
    "  end\n",
    "end; nil"
   ]
  },
  {
   "cell_type": "code",
   "execution_count": null,
   "metadata": {
    "ExecuteTime": {
     "end_time": "2020-01-18T11:03:27.392588Z",
     "start_time": "2020-01-18T11:03:27.386Z"
    }
   },
   "outputs": [],
   "source": [
    "marr = (0..3).to_a\n",
    "\n",
    "marr.permutation.each do |sigma|\n",
    "  p sigma if act(sigma, marr) != act04(sigma, marr)\n",
    "end; nil"
   ]
  },
  {
   "cell_type": "code",
   "execution_count": null,
   "metadata": {
    "ExecuteTime": {
     "end_time": "2020-01-18T11:04:02.144873Z",
     "start_time": "2020-01-18T11:03:55.360Z"
    }
   },
   "outputs": [],
   "source": [
    "count = (10**6)*2\n",
    "\n",
    "Benchmark.bm(10) do |x|\n",
    "#   x.report \"act\" do\n",
    "#     myarr = [0,1,2,3]\n",
    "#     count.times do |k|\n",
    "#       myarr = act([1,3,0,2], myarr)\n",
    "#     end\n",
    "#   end\n",
    "  x.report \"act01\" do\n",
    "    myarr = [0,1,2,3]\n",
    "    count.times do |k|\n",
    "      myarr = act01([1,3,0,2], myarr)\n",
    "    end\n",
    "  end\n",
    "  x.report \"act03\" do\n",
    "    myarr = [0,1,2,3]\n",
    "    count.times do |k|\n",
    "      myarr = act03([1,3,0,2], myarr)\n",
    "    end\n",
    "  end\n",
    "  x.report \"act04\" do\n",
    "    myarr = [0,1,2,3]\n",
    "    count.times do |k|\n",
    "      myarr = act04([1,3,0,2], myarr)\n",
    "    end\n",
    "  end\n",
    "end; nil"
   ]
  },
  {
   "cell_type": "code",
   "execution_count": null,
   "metadata": {
    "ExecuteTime": {
     "end_time": "2020-01-17T10:03:21.357745Z",
     "start_time": "2020-01-17T10:03:21.346Z"
    }
   },
   "outputs": [],
   "source": [
    "a = (0..3).to_a\n",
    "sigma = [2,3,0,1]\n",
    "tau = [3,2,0,1]\n",
    "sa = act(sigma, a)\n",
    "tsa = act(tau, sa)\n",
    "\n",
    "puts \"#{a}   |-#{sigma}->   #{sa}   |-#{tau}->   #{tsa}\"\n",
    "nil"
   ]
  },
  {
   "cell_type": "markdown",
   "metadata": {
    "heading_collapsed": true
   },
   "source": [
    "## Tuples of cyclic permutations"
   ]
  },
  {
   "cell_type": "code",
   "execution_count": null,
   "metadata": {
    "ExecuteTime": {
     "end_time": "2020-01-18T11:25:32.691911Z",
     "start_time": "2020-01-18T11:25:32.685Z"
    },
    "hidden": true
   },
   "outputs": [],
   "source": [
    "k = 4\n",
    "CPLIST = (0..k-2).to_a.permutation.map{|s| s << (k-1)}\n",
    "INDICES = (0..CPLIST.size-1).to_a\n",
    "\n",
    "INITIAL = (0..k-1).to_a\n",
    "EVENS = (1..100).map{|k| 2*k}\n",
    "\n",
    "CPLIST"
   ]
  },
  {
   "cell_type": "code",
   "execution_count": null,
   "metadata": {
    "ExecuteTime": {
     "end_time": "2020-01-17T07:58:24.324551Z",
     "start_time": "2020-01-17T07:58:24.303Z"
    },
    "hidden": true
   },
   "outputs": [],
   "source": [
    "n = 4\n",
    "cp_tuples = [()]\n",
    "n.times{|i| cp_tuples = cp_tuples.product(CPLIST)}\n",
    "\n",
    "puts \"#{cp_tuples[3]} \\n---\"\n",
    "\n",
    "cp_tuples.map! do |cps|\n",
    "  n.times.map{|k| (cps.pop).tap{|x| cps.flatten!(1)}}\n",
    "end\n",
    "\n",
    "p cp_tuples[3]\n",
    "\n",
    "nil"
   ]
  },
  {
   "cell_type": "code",
   "execution_count": null,
   "metadata": {
    "ExecuteTime": {
     "end_time": "2020-01-17T07:58:34.946460Z",
     "start_time": "2020-01-17T07:58:34.930Z"
    },
    "hidden": true
   },
   "outputs": [],
   "source": [
    "n = 4\n",
    "\n",
    "cp_tuples = INDICES\n",
    "(n-1).times{|i| cp_tuples = cp_tuples.product(INDICES)}\n",
    "\n",
    "puts \"#{cp_tuples[10].flatten} \\n---\"\n",
    "\n",
    "cp_tuples.map!{|cps| cps.flatten.map{|i| CPLIST[i]}}\n",
    "\n",
    "p cp_tuples[10]\n",
    "\n",
    "nil"
   ]
  },
  {
   "cell_type": "code",
   "execution_count": null,
   "metadata": {
    "ExecuteTime": {
     "end_time": "2020-01-17T07:58:34.946460Z",
     "start_time": "2020-01-17T07:58:34.930Z"
    },
    "hidden": true
   },
   "outputs": [],
   "source": [
    "n = 4\n",
    "\n",
    "cp_tuples = INDICES\n",
    "(n-1).times{|i| cp_tuples = cp_tuples.product(INDICES)}\n",
    "cp_tuples\n",
    "puts \"#{cp_tuples[10].flatten} \\n---\"\n",
    "\n",
    "cp_tuples.map!{|cps| cps.flatten.map{|i| CPLIST[i]}}\n",
    "\n",
    "p cp_tuples[10]\n",
    "\n",
    "nil"
   ]
  },
  {
   "cell_type": "code",
   "execution_count": null,
   "metadata": {
    "ExecuteTime": {
     "end_time": "2020-01-17T07:59:18.024504Z",
     "start_time": "2020-01-17T07:59:17.875Z"
    },
    "hidden": true
   },
   "outputs": [],
   "source": [
    "initial = (0..k-1).to_a\n",
    "\n",
    "p cp_tuples.size\n",
    "\n",
    "cp_tuples.delete_if do |cps|\n",
    "  marr = initial.dup\n",
    "  cps.each{|sigma| marr = act(sigma, marr)}\n",
    "  (marr != (0..k-1).to_a) || (cps.uniq.size == 1)\n",
    "end\n",
    "\n",
    "p cp_tuples.size\n",
    "\n",
    "cp_tuples.each do |cps|\n",
    "  marr = INITIAL.dup\n",
    "  following = cps.map do |sigma|\n",
    "    \" |--> #{act(sigma, marr)}\"\n",
    "  end.join\n",
    "  p initial.to_s + following\n",
    "end\n",
    "nil"
   ]
  },
  {
   "cell_type": "markdown",
   "metadata": {
    "ExecuteTime": {
     "end_time": "2020-01-16T06:02:16.120422Z",
     "start_time": "2020-01-16T06:02:16.113Z"
    }
   },
   "source": [
    "## Getting the sequence"
   ]
  },
  {
   "cell_type": "code",
   "execution_count": null,
   "metadata": {
    "ExecuteTime": {
     "end_time": "2020-01-18T10:57:58.313527Z",
     "start_time": "2020-01-18T10:57:58.306Z"
    }
   },
   "outputs": [],
   "source": [
    "def get_cardinality(num)\n",
    "  cp_tuples_inds = INDICES\n",
    "  (num - 1).times{|i| cp_tuples_inds = cp_tuples_inds.product(INDICES)}\n",
    "  \n",
    "  cp_tuples_inds.map do |cps|\n",
    "    marr = INITIAL.dup\n",
    "    (cps.flatten).each{|i| marr = act02(CPLIST[i], marr)}\n",
    "    (marr == INITIAL)\n",
    "  end.count(true)\n",
    "end; nil"
   ]
  },
  {
   "cell_type": "code",
   "execution_count": null,
   "metadata": {
    "ExecuteTime": {
     "end_time": "2020-01-18T10:58:25.826566Z",
     "start_time": "2020-01-18T10:57:59.633Z"
    }
   },
   "outputs": [],
   "source": [
    "get_cardinality(8)"
   ]
  },
  {
   "cell_type": "code",
   "execution_count": null,
   "metadata": {
    "ExecuteTime": {
     "end_time": "2020-01-18T11:12:14.081070Z",
     "start_time": "2020-01-18T11:11:48.364Z"
    }
   },
   "outputs": [],
   "source": [
    "max = 4\n",
    "EVENS[0..max-1].map{|even| get_cardinality(even)}"
   ]
  },
  {
   "cell_type": "code",
   "execution_count": null,
   "metadata": {
    "ExecuteTime": {
     "end_time": "2020-01-18T11:28:27.616125Z",
     "start_time": "2020-01-18T11:28:27.610Z"
    }
   },
   "outputs": [],
   "source": [
    "class Tree\n",
    "  def initialize(cp)\n",
    "    @cp = cp\n",
    "    @children = []\n",
    "  end\n",
    "  attr_accessor :cp, :children\n",
    "end; nil"
   ]
  },
  {
   "cell_type": "code",
   "execution_count": null,
   "metadata": {
    "ExecuteTime": {
     "end_time": "2020-01-18T11:29:23.076613Z",
     "start_time": "2020-01-18T11:29:23.070Z"
    }
   },
   "outputs": [],
   "source": [
    "root = Tree.new(0)\n",
    "CPLIST.each{|cp| root.children << cp}\n",
    "root.children"
   ]
  },
  {
   "cell_type": "markdown",
   "metadata": {},
   "source": [
    "## Experiments"
   ]
  },
  {
   "cell_type": "code",
   "execution_count": null,
   "metadata": {
    "ExecuteTime": {
     "end_time": "2020-01-18T10:53:22.725857Z",
     "start_time": "2020-01-18T10:53:22.718Z"
    }
   },
   "outputs": [],
   "source": [
    "def get_cardinality_01(num)\n",
    "  cp_tuples = [()]\n",
    "  num.times{|i| cp_tuples = cp_tuples.product(CPLIST)}\n",
    "  cp_tuples.map!{|cps| num.times.map{|k| (cps.pop).tap{|x| cps.flatten!(1)}}}\n",
    "  \n",
    "  cp_tuples.delete_if do |cps|\n",
    "    marr = INITIAL.dup\n",
    "    cps.each{|sigma| marr = act(sigma, marr)}\n",
    "    (marr != INITIAL) #|| (cps.uniq.size == 1)\n",
    "  end\n",
    "  return cp_tuples.size\n",
    "end; nil"
   ]
  },
  {
   "cell_type": "code",
   "execution_count": null,
   "metadata": {
    "ExecuteTime": {
     "end_time": "2020-01-18T10:53:23.391989Z",
     "start_time": "2020-01-18T10:53:23.385Z"
    }
   },
   "outputs": [],
   "source": [
    "def get_cardinality_02(num)\n",
    "  cp_tuples = [()]\n",
    "  num.times{|i| cp_tuples = cp_tuples.product(CPLIST)}\n",
    "  cp_tuples.map!{|cps| num.times.map{|k| (cps.pop).tap{|x| cps.flatten!(1)}}}\n",
    "    \n",
    "  cp_tuples.map do |cps|\n",
    "    marr = INITIAL.dup\n",
    "    cps.each{|sigma| marr = act(sigma, marr)}\n",
    "    (marr == INITIAL) #|| (cps.uniq.size == 1)\n",
    "  end.count(true)\n",
    "end; nil"
   ]
  },
  {
   "cell_type": "code",
   "execution_count": null,
   "metadata": {
    "ExecuteTime": {
     "end_time": "2020-01-17T08:05:47.951055Z",
     "start_time": "2020-01-17T08:05:47.026Z"
    }
   },
   "outputs": [],
   "source": [
    "get_cardinality_02(6)"
   ]
  },
  {
   "cell_type": "code",
   "execution_count": null,
   "metadata": {
    "ExecuteTime": {
     "end_time": "2020-01-17T08:06:08.132339Z",
     "start_time": "2020-01-17T08:06:05.523Z"
    }
   },
   "outputs": [],
   "source": [
    "Benchmark.bm(10) do |x|\n",
    "  n = 6\n",
    "  x.report(\"get_card\") { get_cardinality(n) }\n",
    "  x.report(\"get_card_01\") { get_cardinality_01(n) }\n",
    "  x.report(\"get_card_02\") { get_cardinality_02(n) }\n",
    "end; nil"
   ]
  },
  {
   "cell_type": "code",
   "execution_count": null,
   "metadata": {
    "ExecuteTime": {
     "end_time": "2020-01-18T10:57:50.402057Z",
     "start_time": "2020-01-18T10:57:48.373Z"
    }
   },
   "outputs": [],
   "source": [
    "Benchmark.bm(15) do |x|\n",
    "  num = 6\n",
    "  x.report(\"get_card\") { get_cardinality(num) }\n",
    "  x.report(\"get_card act02\") do\n",
    "    cp_tuples_inds = INDICES\n",
    "    (num - 1).times{|i| cp_tuples_inds = cp_tuples_inds.product(INDICES)}\n",
    "  \n",
    "    cp_tuples_inds.map do |cps|\n",
    "      marr = INITIAL.dup\n",
    "      (cps.flatten).each{|i| marr = act02(CPLIST[i], marr)}\n",
    "      (marr == INITIAL)\n",
    "    end.count(true)\n",
    "  end\n",
    "  x.report(\"get_card fix\") do\n",
    "    cp_tuples_inds = INDICES\n",
    "    (num - 1).times{|i| cp_tuples_inds = cp_tuples_inds.product(INDICES)}\n",
    "  \n",
    "    cp_tuples_inds.map do |cps|\n",
    "      cps.flatten!\n",
    "      marr = INITIAL.dup\n",
    "      cps.each{|i| marr = act02(CPLIST[i], marr)}\n",
    "      (marr == INITIAL)\n",
    "    end.count(true)\n",
    "  end\n",
    "end; nil"
   ]
  }
 ],
 "metadata": {
  "kernelspec": {
   "display_name": "Ruby 2.6.3",
   "language": "ruby",
   "name": "ruby"
  },
  "language_info": {
   "file_extension": ".rb",
   "mimetype": "application/x-ruby",
   "name": "ruby",
   "version": "2.6.3"
  },
  "toc": {
   "base_numbering": 1,
   "nav_menu": {},
   "number_sections": false,
   "sideBar": true,
   "skip_h1_title": true,
   "title_cell": "Table of Contents",
   "title_sidebar": "Contents",
   "toc_cell": false,
   "toc_position": {},
   "toc_section_display": true,
   "toc_window_display": false
  },
  "varInspector": {
   "cols": {
    "lenName": 16,
    "lenType": 16,
    "lenVar": 40
   },
   "kernels_config": {
    "python": {
     "delete_cmd_postfix": "",
     "delete_cmd_prefix": "del ",
     "library": "var_list.py",
     "varRefreshCmd": "print(var_dic_list())"
    },
    "r": {
     "delete_cmd_postfix": ") ",
     "delete_cmd_prefix": "rm(",
     "library": "var_list.r",
     "varRefreshCmd": "cat(var_dic_list()) "
    }
   },
   "types_to_exclude": [
    "module",
    "function",
    "builtin_function_or_method",
    "instance",
    "_Feature"
   ],
   "window_display": false
  }
 },
 "nbformat": 4,
 "nbformat_minor": 2
}
