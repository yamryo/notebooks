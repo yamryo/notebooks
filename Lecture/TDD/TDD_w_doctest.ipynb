{
 "cells": [
  {
   "cell_type": "markdown",
   "metadata": {},
   "source": [
    "# テスト駆動開発 with doctest"
   ]
  },
  {
   "cell_type": "markdown",
   "metadata": {},
   "source": [
    "## モジュール読み込み"
   ]
  },
  {
   "cell_type": "code",
   "execution_count": 1,
   "metadata": {
    "ExecuteTime": {
     "end_time": "2018-06-27T07:58:01.870377Z",
     "start_time": "2018-06-27T07:58:01.866166Z"
    }
   },
   "outputs": [],
   "source": [
    "import doctest"
   ]
  },
  {
   "cell_type": "markdown",
   "metadata": {},
   "source": [
    "## 初手"
   ]
  },
  {
   "cell_type": "code",
   "execution_count": 2,
   "metadata": {
    "ExecuteTime": {
     "end_time": "2018-06-27T07:58:02.957096Z",
     "start_time": "2018-06-27T07:58:02.944642Z"
    }
   },
   "outputs": [
    {
     "name": "stdout",
     "output_type": "stream",
     "text": [
      "**********************************************************************\n",
      "File \"__main__\", line 3, in __main__.is_perfect\n",
      "Failed example:\n",
      "    is_perfect(6)\n",
      "Expected:\n",
      "    True\n",
      "Got nothing\n",
      "**********************************************************************\n",
      "File \"__main__\", line 5, in __main__.is_perfect\n",
      "Failed example:\n",
      "    is_perfect(7)\n",
      "Expected:\n",
      "    False\n",
      "Got nothing\n",
      "**********************************************************************\n",
      "1 items had failures:\n",
      "   2 of   2 in __main__.is_perfect\n",
      "***Test Failed*** 2 failures.\n"
     ]
    },
    {
     "data": {
      "text/plain": [
       "TestResults(failed=2, attempted=2)"
      ]
     },
     "execution_count": 2,
     "metadata": {},
     "output_type": "execute_result"
    }
   ],
   "source": [
    "def is_perfect(num):\n",
    "    '''\n",
    "    >>> is_perfect(6)\n",
    "    True\n",
    "    >>> is_perfect(7)\n",
    "    False\n",
    "    '''\n",
    "    pass\n",
    "\n",
    "doctest.testmod()"
   ]
  },
  {
   "cell_type": "markdown",
   "metadata": {},
   "source": [
    "## 2手目"
   ]
  },
  {
   "cell_type": "code",
   "execution_count": 3,
   "metadata": {
    "ExecuteTime": {
     "end_time": "2018-06-27T09:10:04.384623Z",
     "start_time": "2018-06-27T09:10:04.356121Z"
    }
   },
   "outputs": [
    {
     "name": "stdout",
     "output_type": "stream",
     "text": [
      "**********************************************************************\n",
      "File \"__main__\", line 3, in __main__.factors\n",
      "Failed example:\n",
      "    factors(6)\n",
      "Expected:\n",
      "    [1, 2, 3]\n",
      "Got nothing\n",
      "**********************************************************************\n",
      "File \"__main__\", line 5, in __main__.factors\n",
      "Failed example:\n",
      "    factors(11)\n",
      "Expected:\n",
      "    [1,11]\n",
      "Got nothing\n",
      "**********************************************************************\n",
      "File \"__main__\", line 12, in __main__.is_perfect\n",
      "Failed example:\n",
      "    is_perfect(6)\n",
      "Exception raised:\n",
      "    Traceback (most recent call last):\n",
      "      File \"/usr/local/Cellar/python@3.12/3.12.3/Frameworks/Python.framework/Versions/3.12/lib/python3.12/doctest.py\", line 1361, in __run\n",
      "        exec(compile(example.source, filename, \"single\",\n",
      "      File \"<doctest __main__.is_perfect[0]>\", line 1, in <module>\n",
      "        is_perfect(6)\n",
      "      File \"/var/folders/_2/y9pyq6t17cx_0cdgclxth5mh0000gn/T/ipykernel_15584/2586267052.py\", line 18, in is_perfect\n",
      "        return (sum(facs) == num)\n",
      "                ^^^^^^^^^\n",
      "    TypeError: 'NoneType' object is not iterable\n",
      "**********************************************************************\n",
      "File \"__main__\", line 14, in __main__.is_perfect\n",
      "Failed example:\n",
      "    is_perfect(7)\n",
      "Exception raised:\n",
      "    Traceback (most recent call last):\n",
      "      File \"/usr/local/Cellar/python@3.12/3.12.3/Frameworks/Python.framework/Versions/3.12/lib/python3.12/doctest.py\", line 1361, in __run\n",
      "        exec(compile(example.source, filename, \"single\",\n",
      "      File \"<doctest __main__.is_perfect[1]>\", line 1, in <module>\n",
      "        is_perfect(7)\n",
      "      File \"/var/folders/_2/y9pyq6t17cx_0cdgclxth5mh0000gn/T/ipykernel_15584/2586267052.py\", line 18, in is_perfect\n",
      "        return (sum(facs) == num)\n",
      "                ^^^^^^^^^\n",
      "    TypeError: 'NoneType' object is not iterable\n",
      "**********************************************************************\n",
      "2 items had failures:\n",
      "   2 of   2 in __main__.factors\n",
      "   2 of   2 in __main__.is_perfect\n",
      "***Test Failed*** 4 failures.\n"
     ]
    },
    {
     "data": {
      "text/plain": [
       "TestResults(failed=4, attempted=4)"
      ]
     },
     "execution_count": 3,
     "metadata": {},
     "output_type": "execute_result"
    }
   ],
   "source": [
    "def factors(num):\n",
    "    '''\n",
    "    >>> factors(6)\n",
    "    [1, 2, 3]\n",
    "    >>> factors(11)\n",
    "    [1,11]\n",
    "    '''\n",
    "    pass\n",
    "\n",
    "def is_perfect(num):\n",
    "    '''\n",
    "    >>> is_perfect(6)\n",
    "    True\n",
    "    >>> is_perfect(7)\n",
    "    False\n",
    "    '''\n",
    "    facs = factors(num)\n",
    "    return (sum(facs) == num)\n",
    "\n",
    "doctest.testmod()"
   ]
  },
  {
   "cell_type": "markdown",
   "metadata": {},
   "source": [
    "## 実装"
   ]
  },
  {
   "cell_type": "code",
   "execution_count": 4,
   "metadata": {
    "ExecuteTime": {
     "end_time": "2018-06-27T08:40:12.623033Z",
     "start_time": "2018-06-27T08:40:12.586558Z"
    }
   },
   "outputs": [
    {
     "name": "stdout",
     "output_type": "stream",
     "text": [
      "Trying:\n",
      "    factors(6)\n",
      "Expecting:\n",
      "    [1, 2, 3, 6]\n",
      "ok\n",
      "Trying:\n",
      "    factors(19)\n",
      "Expecting:\n",
      "    [1, 19]\n",
      "ok\n",
      "Trying:\n",
      "    is_factor(2,4)\n",
      "Expecting:\n",
      "    True\n",
      "ok\n",
      "Trying:\n",
      "    is_factor(4,19)\n",
      "Expecting:\n",
      "    False\n",
      "ok\n",
      "Trying:\n",
      "    is_perfect(6)\n",
      "Expecting:\n",
      "    True\n",
      "ok\n",
      "Trying:\n",
      "    is_perfect(28)\n",
      "Expecting:\n",
      "    True\n",
      "ok\n",
      "Trying:\n",
      "    is_perfect(100)\n",
      "Expecting:\n",
      "    False\n",
      "ok\n",
      "1 items had no tests:\n",
      "    __main__\n",
      "3 items passed all tests:\n",
      "   2 tests in __main__.factors\n",
      "   2 tests in __main__.is_factor\n",
      "   3 tests in __main__.is_perfect\n",
      "7 tests in 4 items.\n",
      "7 passed and 0 failed.\n",
      "Test passed.\n"
     ]
    },
    {
     "data": {
      "text/plain": [
       "TestResults(failed=0, attempted=7)"
      ]
     },
     "execution_count": 4,
     "metadata": {},
     "output_type": "execute_result"
    }
   ],
   "source": [
    "import math\n",
    "\n",
    "def is_factor(n, m):\n",
    "    '''\n",
    "    >>> is_factor(2,4)\n",
    "    True\n",
    "    >>> is_factor(4,19)\n",
    "    False\n",
    "    '''\n",
    "    return (m%n == 0)\n",
    "\n",
    "def factors(num):\n",
    "    '''\n",
    "    >>> factors(6)\n",
    "    [1, 2, 3, 6]\n",
    "    >>> factors(19)\n",
    "    [1, 19]\n",
    "    '''\n",
    "    facs = [1]\n",
    "    facs += [k for k in range(2, num) if is_factor(k, num)]\n",
    "    facs.append(num)\n",
    "    return facs\n",
    "\n",
    "def is_perfect(num):\n",
    "    '''\n",
    "    >>> is_perfect(6)\n",
    "    True\n",
    "    >>> is_perfect(28)\n",
    "    True\n",
    "    >>> is_perfect(100)\n",
    "    False\n",
    "    '''\n",
    "    facs = factors(num)\n",
    "    return sum(facs[:-1]) == num\n",
    "\n",
    "doctest.testmod(verbose=True)"
   ]
  },
  {
   "cell_type": "code",
   "execution_count": 5,
   "metadata": {
    "ExecuteTime": {
     "end_time": "2018-06-27T08:32:56.821684Z",
     "start_time": "2018-06-27T08:32:47.545730Z"
    }
   },
   "outputs": [
    {
     "name": "stdout",
     "output_type": "stream",
     "text": [
      "[6, 28, 496, 8128]\n"
     ]
    }
   ],
   "source": [
    "print([n for n in range(2,10000) if is_perfect(n)])    "
   ]
  }
 ],
 "metadata": {
  "kernelspec": {
   "display_name": "Python 3 (ipykernel)",
   "language": "python",
   "name": "python3"
  },
  "language_info": {
   "codemirror_mode": {
    "name": "ipython",
    "version": 3
   },
   "file_extension": ".py",
   "mimetype": "text/x-python",
   "name": "python",
   "nbconvert_exporter": "python",
   "pygments_lexer": "ipython3",
   "version": "3.12.3"
  },
  "toc": {
   "nav_menu": {},
   "number_sections": true,
   "sideBar": true,
   "skip_h1_title": true,
   "title_cell": "Table of Contents",
   "title_sidebar": "Contents",
   "toc_cell": false,
   "toc_position": {},
   "toc_section_display": true,
   "toc_window_display": false
  },
  "varInspector": {
   "cols": {
    "lenName": 16,
    "lenType": 16,
    "lenVar": 40
   },
   "kernels_config": {
    "python": {
     "delete_cmd_postfix": "",
     "delete_cmd_prefix": "del ",
     "library": "var_list.py",
     "varRefreshCmd": "print(var_dic_list())"
    },
    "r": {
     "delete_cmd_postfix": ") ",
     "delete_cmd_prefix": "rm(",
     "library": "var_list.r",
     "varRefreshCmd": "cat(var_dic_list()) "
    }
   },
   "types_to_exclude": [
    "module",
    "function",
    "builtin_function_or_method",
    "instance",
    "_Feature"
   ],
   "window_display": false
  }
 },
 "nbformat": 4,
 "nbformat_minor": 4
}
