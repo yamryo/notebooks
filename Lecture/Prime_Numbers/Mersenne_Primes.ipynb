{
 "cells": [
  {
   "cell_type": "markdown",
   "metadata": {},
   "source": [
    "# メルセンヌ素数"
   ]
  },
  {
   "cell_type": "code",
   "execution_count": 1,
   "metadata": {
    "ExecuteTime": {
     "end_time": "2021-04-21T07:00:23.494351Z",
     "start_time": "2021-04-21T07:00:19.650858Z"
    }
   },
   "outputs": [],
   "source": [
    "import math\n",
    "from sympy import *\n",
    "from tqdm.notebook import tqdm\n",
    "from decimal import *\n",
    "getcontext()\n",
    "from functools import reduce\n",
    "\n",
    "import matplotlib.pyplot as plt\n",
    "%matplotlib inline"
   ]
  },
  {
   "cell_type": "markdown",
   "metadata": {},
   "source": [
    "## メルセンヌ素数を探す"
   ]
  },
  {
   "cell_type": "markdown",
   "metadata": {},
   "source": [
    "まずは素数判定関数を定義"
   ]
  },
  {
   "cell_type": "code",
   "execution_count": 2,
   "metadata": {
    "ExecuteTime": {
     "end_time": "2021-04-21T07:00:28.915431Z",
     "start_time": "2021-04-21T07:00:28.907302Z"
    }
   },
   "outputs": [],
   "source": [
    "def find_a_factor(num):\n",
    "    for k in range(2, int(math.sqrt(num))+1):\n",
    "        if num%k == 0:\n",
    "            return k\n",
    "            break\n",
    "    else: return num\n",
    "    \n",
    "def is_prime(num):\n",
    "    return find_a_factor(num)==num"
   ]
  },
  {
   "cell_type": "markdown",
   "metadata": {},
   "source": [
    "素数リスト `plist` の作成"
   ]
  },
  {
   "cell_type": "code",
   "execution_count": 3,
   "metadata": {
    "ExecuteTime": {
     "end_time": "2021-04-21T07:00:31.466842Z",
     "start_time": "2021-04-21T07:00:31.455681Z"
    }
   },
   "outputs": [
    {
     "name": "stdout",
     "output_type": "stream",
     "text": [
      "[2, 3, 5, 7, 11, 13, 17, 19, 23, 29, 31, 37, 41, 43, 47, 53, 59]\n"
     ]
    }
   ],
   "source": [
    "Num = 60\n",
    "plist = [n for n in range(2,Num+1) if is_prime(n)]\n",
    "print(plist)"
   ]
  },
  {
   "cell_type": "markdown",
   "metadata": {
    "ExecuteTime": {
     "end_time": "2019-03-28T08:38:10.029368Z",
     "start_time": "2019-03-28T08:38:10.021491Z"
    }
   },
   "source": [
    "メルセンヌ素数を素朴に探す。"
   ]
  },
  {
   "cell_type": "code",
   "execution_count": 4,
   "metadata": {
    "ExecuteTime": {
     "end_time": "2021-04-21T07:00:35.073767Z",
     "start_time": "2021-04-21T07:00:34.967527Z"
    }
   },
   "outputs": [
    {
     "name": "stdout",
     "output_type": "stream",
     "text": [
      "2^2-1 = 3 is prime\n",
      "2^3-1 = 7 is prime\n",
      "2^5-1 = 31 is prime\n",
      "2^7-1 = 127 is prime\n",
      "2^13-1 = 8191 is prime\n",
      "2^17-1 = 131071 is prime\n",
      "2^19-1 = 524287 is prime\n",
      "2^31-1 = 2147483647 is prime\n"
     ]
    }
   ],
   "source": [
    "for p in plist:\n",
    "    mp = 2**p-1\n",
    "    if is_prime(mp):\n",
    "        print('2^{}-1 = {} is prime'.format(p, mp))"
   ]
  },
  {
   "cell_type": "markdown",
   "metadata": {},
   "source": [
    "**(おまけ)** $2^{61}-1$ の素数判定はずいぶん時間がかかるので、別で処理。"
   ]
  },
  {
   "cell_type": "code",
   "execution_count": 17,
   "metadata": {
    "ExecuteTime": {
     "end_time": "2019-05-21T05:06:56.704458Z",
     "start_time": "2019-05-21T05:06:10.651819Z"
    },
    "collapsed": true
   },
   "outputs": [
    {
     "ename": "KeyboardInterrupt",
     "evalue": "",
     "output_type": "error",
     "traceback": [
      "\u001b[0;31m-----------------------------------------------------------------------\u001b[0m",
      "\u001b[0;31mKeyboardInterrupt\u001b[0m                     Traceback (most recent call last)",
      "\u001b[0;32m<ipython-input-17-53f95f058977>\u001b[0m in \u001b[0;36m<module>\u001b[0;34m\u001b[0m\n\u001b[0;32m----> 1\u001b[0;31m \u001b[0mresult\u001b[0m \u001b[0;34m=\u001b[0m \u001b[0mis_prime\u001b[0m\u001b[0;34m(\u001b[0m\u001b[0;36m2\u001b[0m\u001b[0;34m**\u001b[0m\u001b[0;36m61\u001b[0m\u001b[0;34m-\u001b[0m\u001b[0;36m1\u001b[0m\u001b[0;34m)\u001b[0m\u001b[0;34m;\u001b[0m \u001b[0mprint\u001b[0m\u001b[0;34m(\u001b[0m\u001b[0mresult\u001b[0m\u001b[0;34m)\u001b[0m\u001b[0;34m\u001b[0m\u001b[0;34m\u001b[0m\u001b[0m\n\u001b[0m",
      "\u001b[0;32m<ipython-input-2-48aaeb029f3e>\u001b[0m in \u001b[0;36mis_prime\u001b[0;34m(num)\u001b[0m\n\u001b[1;32m      7\u001b[0m \u001b[0;34m\u001b[0m\u001b[0m\n\u001b[1;32m      8\u001b[0m \u001b[0;32mdef\u001b[0m \u001b[0mis_prime\u001b[0m\u001b[0;34m(\u001b[0m\u001b[0mnum\u001b[0m\u001b[0;34m)\u001b[0m\u001b[0;34m:\u001b[0m\u001b[0;34m\u001b[0m\u001b[0;34m\u001b[0m\u001b[0m\n\u001b[0;32m----> 9\u001b[0;31m     \u001b[0;32mreturn\u001b[0m \u001b[0mfind_a_factor\u001b[0m\u001b[0;34m(\u001b[0m\u001b[0mnum\u001b[0m\u001b[0;34m)\u001b[0m\u001b[0;34m==\u001b[0m\u001b[0mnum\u001b[0m\u001b[0;34m\u001b[0m\u001b[0;34m\u001b[0m\u001b[0m\n\u001b[0m",
      "\u001b[0;32m<ipython-input-2-48aaeb029f3e>\u001b[0m in \u001b[0;36mfind_a_factor\u001b[0;34m(num)\u001b[0m\n\u001b[1;32m      1\u001b[0m \u001b[0;32mdef\u001b[0m \u001b[0mfind_a_factor\u001b[0m\u001b[0;34m(\u001b[0m\u001b[0mnum\u001b[0m\u001b[0;34m)\u001b[0m\u001b[0;34m:\u001b[0m\u001b[0;34m\u001b[0m\u001b[0;34m\u001b[0m\u001b[0m\n\u001b[1;32m      2\u001b[0m     \u001b[0;32mfor\u001b[0m \u001b[0mk\u001b[0m \u001b[0;32min\u001b[0m \u001b[0mrange\u001b[0m\u001b[0;34m(\u001b[0m\u001b[0;36m2\u001b[0m\u001b[0;34m,\u001b[0m \u001b[0mint\u001b[0m\u001b[0;34m(\u001b[0m\u001b[0mmath\u001b[0m\u001b[0;34m.\u001b[0m\u001b[0msqrt\u001b[0m\u001b[0;34m(\u001b[0m\u001b[0mnum\u001b[0m\u001b[0;34m)\u001b[0m\u001b[0;34m)\u001b[0m\u001b[0;34m+\u001b[0m\u001b[0;36m1\u001b[0m\u001b[0;34m)\u001b[0m\u001b[0;34m:\u001b[0m\u001b[0;34m\u001b[0m\u001b[0;34m\u001b[0m\u001b[0m\n\u001b[0;32m----> 3\u001b[0;31m         \u001b[0;32mif\u001b[0m \u001b[0mnum\u001b[0m\u001b[0;34m%\u001b[0m\u001b[0mk\u001b[0m \u001b[0;34m==\u001b[0m \u001b[0;36m0\u001b[0m\u001b[0;34m:\u001b[0m\u001b[0;34m\u001b[0m\u001b[0;34m\u001b[0m\u001b[0m\n\u001b[0m\u001b[1;32m      4\u001b[0m             \u001b[0;32mreturn\u001b[0m \u001b[0mk\u001b[0m\u001b[0;34m\u001b[0m\u001b[0;34m\u001b[0m\u001b[0m\n\u001b[1;32m      5\u001b[0m             \u001b[0;32mbreak\u001b[0m\u001b[0;34m\u001b[0m\u001b[0;34m\u001b[0m\u001b[0m\n",
      "\u001b[0;31mKeyboardInterrupt\u001b[0m: "
     ]
    }
   ],
   "source": [
    "result = is_prime(2**61-1); print(result)"
   ]
  },
  {
   "cell_type": "markdown",
   "metadata": {},
   "source": [
    "## フェルマーテスト"
   ]
  },
  {
   "cell_type": "markdown",
   "metadata": {},
   "source": [
    "素数判定をもっと高速のものにしたい。まずはフェルマーテスト。\n",
    "\n",
    "**フェルマーの小定理**\n",
    "\n",
    "$p$ が素数のとき、\n",
    "$p$ と互いに素な整数 $a$ に対して、\n",
    "$$ a^{p-1} \\equiv 1 \\mod p$$\n",
    "\n",
    "この定理の対偶が以下。\n",
    "\n",
    "$a^{n-1} \\not\\equiv 1 \\mod n$ ならば、$n$ は素数でない。"
   ]
  },
  {
   "cell_type": "code",
   "execution_count": 5,
   "metadata": {
    "ExecuteTime": {
     "end_time": "2021-04-21T07:00:44.023238Z",
     "start_time": "2021-04-21T07:00:44.014938Z"
    }
   },
   "outputs": [],
   "source": [
    "def fermat(num):\n",
    "    num = abs(num)\n",
    "    if num == 2:\n",
    "        return True\n",
    "    elif num < 2 or num%2 == 0:\n",
    "        return False\n",
    "    else:\n",
    "        return pow(2, num-1, num) == 1"
   ]
  },
  {
   "cell_type": "code",
   "execution_count": 18,
   "metadata": {
    "ExecuteTime": {
     "end_time": "2019-05-21T05:07:46.746401Z",
     "start_time": "2019-05-21T05:07:46.690818Z"
    }
   },
   "outputs": [
    {
     "data": {
      "application/vnd.jupyter.widget-view+json": {
       "model_id": "ede76aee4c4c4e9fa8700c702b0cce44",
       "version_major": 2,
       "version_minor": 0
      },
      "text/plain": [
       "HBox(children=(IntProgress(value=0, max=17), HTML(value='')))"
      ]
     },
     "metadata": {},
     "output_type": "display_data"
    },
    {
     "name": "stdout",
     "output_type": "stream",
     "text": [
      "\n"
     ]
    },
    {
     "ename": "NameError",
     "evalue": "name 'fermat' is not defined",
     "output_type": "error",
     "traceback": [
      "\u001b[0;31m-----------------------------------------------------------------------\u001b[0m",
      "\u001b[0;31mNameError\u001b[0m                             Traceback (most recent call last)",
      "\u001b[0;32m<ipython-input-18-b47faabf1369>\u001b[0m in \u001b[0;36m<module>\u001b[0;34m\u001b[0m\n\u001b[1;32m      1\u001b[0m \u001b[0;32mfor\u001b[0m \u001b[0mk\u001b[0m \u001b[0;32min\u001b[0m \u001b[0mtqdm\u001b[0m\u001b[0;34m(\u001b[0m\u001b[0mplist\u001b[0m\u001b[0;34m)\u001b[0m\u001b[0;34m:\u001b[0m\u001b[0;34m\u001b[0m\u001b[0;34m\u001b[0m\u001b[0m\n\u001b[0;32m----> 2\u001b[0;31m     \u001b[0;32mif\u001b[0m \u001b[0mfermat\u001b[0m\u001b[0;34m(\u001b[0m\u001b[0;36m2\u001b[0m\u001b[0;34m**\u001b[0m\u001b[0mk\u001b[0m\u001b[0;34m-\u001b[0m\u001b[0;36m1\u001b[0m\u001b[0;34m)\u001b[0m\u001b[0;34m:\u001b[0m \u001b[0mprint\u001b[0m\u001b[0;34m(\u001b[0m\u001b[0;34m'2^{}-1 = {} is prime'\u001b[0m\u001b[0;34m.\u001b[0m\u001b[0mformat\u001b[0m\u001b[0;34m(\u001b[0m\u001b[0mk\u001b[0m\u001b[0;34m,\u001b[0m \u001b[0;36m2\u001b[0m\u001b[0;34m**\u001b[0m\u001b[0mk\u001b[0m\u001b[0;34m-\u001b[0m\u001b[0;36m1\u001b[0m\u001b[0;34m)\u001b[0m\u001b[0;34m)\u001b[0m\u001b[0;34m\u001b[0m\u001b[0;34m\u001b[0m\u001b[0m\n\u001b[0m",
      "\u001b[0;31mNameError\u001b[0m: name 'fermat' is not defined"
     ]
    }
   ],
   "source": [
    "for k in plist:\n",
    "    if fermat(2**k-1): print('2^{}-1 = {} is prime'.format(k, 2**k-1))"
   ]
  },
  {
   "cell_type": "markdown",
   "metadata": {},
   "source": [
    "上の出力のように、$2^{11}-1$ や $2^{23}-1$ が素数と判定されてしまった。"
   ]
  },
  {
   "cell_type": "markdown",
   "metadata": {
    "ExecuteTime": {
     "end_time": "2019-03-07T09:31:10.696106Z",
     "start_time": "2019-03-07T09:31:10.687709Z"
    }
   },
   "source": [
    "## リュカ-レーマー・テスト"
   ]
  },
  {
   "cell_type": "markdown",
   "metadata": {},
   "source": [
    "数列 $\\{s_{n}\\}$ を以下で定める。\n",
    "\n",
    "$$\n",
    "s_{0}=4,~~\n",
    "s_{n+1} = s_{n}^{2} -2\n",
    "$$\n",
    "\n",
    "このとき、以下が成立する。\n",
    "\n",
    ">**定理.** &nbsp;\n",
    ">$p$ を奇素数とする。\n",
    ">$M_{p}=2^{p-1}$ が素数であるための必要十分条件は、\n",
    ">$M_{p}$ が $s_{p-2}$ を割り切ることである。"
   ]
  },
  {
   "cell_type": "markdown",
   "metadata": {},
   "source": [
    "#### 疑似コード(from Wikipedia)\n",
    "```\n",
    "入力: p:奇素数であるテスト対象の整数\n",
    "出力: PRIME:素数の場合, COMPOSITE:合成数の場合\n",
    "Lucas_Lehmer_Test(p):\n",
    "    var s = 4\n",
    "    var M = 2**p − 1\n",
    "    repeat p-2 times:\n",
    "        s = (s*s-2) mod M\n",
    "    if s == 0 return PRIME else return COMPOSITE\n",
    "```"
   ]
  },
  {
   "cell_type": "code",
   "execution_count": 5,
   "metadata": {
    "ExecuteTime": {
     "end_time": "2019-05-20T09:44:53.450846Z",
     "start_time": "2019-05-20T09:44:53.445640Z"
    }
   },
   "outputs": [],
   "source": [
    "def lucas_lehmer(p):\n",
    "    s = 4\n",
    "    mp = 2**p-1\n",
    "    for n in range(p-2): # p-2 times iteration (list(range(p-2))=[0,1,...,p-1])\n",
    "         s = (s**2-2)%mp\n",
    "    return s==0"
   ]
  },
  {
   "cell_type": "markdown",
   "metadata": {},
   "source": [
    "2冪や、数列の次項を求める際に2進数計算を行うことで高速化。"
   ]
  },
  {
   "cell_type": "code",
   "execution_count": 6,
   "metadata": {
    "ExecuteTime": {
     "end_time": "2019-05-20T09:44:57.716639Z",
     "start_time": "2019-05-20T09:44:57.709835Z"
    }
   },
   "outputs": [],
   "source": [
    "def lucas_lehmer_FAST(p):\n",
    "    s = 4\n",
    "    mp = (1<<p)-1\n",
    "    for n in range(p-2):\n",
    "        ss = s*s        \n",
    "        s = (ss & mp) + (ss >> p)\n",
    "        if s >= mp: s = s-mp\n",
    "        s = s-2\n",
    "    return s==0"
   ]
  },
  {
   "cell_type": "code",
   "execution_count": 7,
   "metadata": {
    "ExecuteTime": {
     "end_time": "2019-05-20T09:45:07.757189Z",
     "start_time": "2019-05-20T09:44:59.254396Z"
    }
   },
   "outputs": [
    {
     "name": "stdout",
     "output_type": "stream",
     "text": [
      "264 ms ± 5.75 ms per loop (mean ± std. dev. of 7 runs, 1 loop each)\n",
      "78.4 ms ± 806 µs per loop (mean ± std. dev. of 7 runs, 10 loops each)\n"
     ]
    }
   ],
   "source": [
    "%timeit lucas_lehmer(4423)\n",
    "%timeit lucas_lehmer_FAST(4423)"
   ]
  },
  {
   "cell_type": "markdown",
   "metadata": {},
   "source": [
    "### リュカ-レーマー・テストを使う。"
   ]
  },
  {
   "cell_type": "code",
   "execution_count": 8,
   "metadata": {
    "ExecuteTime": {
     "end_time": "2019-05-20T09:45:12.183720Z",
     "start_time": "2019-05-20T09:45:12.173786Z"
    }
   },
   "outputs": [],
   "source": [
    "def mp_str(p):\n",
    "    mp = Decimal(2**p-1)\n",
    "    nod = mp.adjusted()+1\n",
    "    if nod <= 40:\n",
    "        return str(mp)\n",
    "    else:\n",
    "        getcontext().prec = nod\n",
    "        top = (mp/(Decimal(10)**(nod-20))).quantize(1)\n",
    "        bottom = mp-math.floor(mp/Decimal(1.0e+20))*Decimal(1.0e+20)\n",
    "        return '{}...{} [{} digits]'.format(top,bottom,nod)\n",
    "\n",
    "def find_mp(nmin, nmax):\n",
    "    plist = [n for n in range(nmin, nmax+1) if is_prime(n)]\n",
    "    for p in tqdm(plist):\n",
    "        if lucas_lehmer_FAST(p): print('2^{}-1 = {} is prime'.format(p, mp_str(p)))"
   ]
  },
  {
   "cell_type": "code",
   "execution_count": 9,
   "metadata": {
    "ExecuteTime": {
     "end_time": "2019-05-20T09:45:15.151413Z",
     "start_time": "2019-05-20T09:45:14.964208Z"
    },
    "scrolled": false
   },
   "outputs": [
    {
     "data": {
      "application/vnd.jupyter.widget-view+json": {
       "model_id": "8d828d5582af4dce8c3caf7fa1a8640f",
       "version_major": 2,
       "version_minor": 0
      },
      "text/plain": [
       "HBox(children=(IntProgress(value=0, max=143), HTML(value='')))"
      ]
     },
     "metadata": {},
     "output_type": "display_data"
    },
    {
     "name": "stdout",
     "output_type": "stream",
     "text": [
      "2^107-1 = 162259276829213363391578010288127 is prime\n",
      "2^127-1 = 170141183460469231731687303715884105727 is prime\n",
      "2^521-1 = 68647976601306097150...12574028291115057151 [157 digits] is prime\n",
      "2^607-1 = 53113799281676709869...70835393219031728127 [183 digits] is prime\n",
      "\n"
     ]
    }
   ],
   "source": [
    "find_mp(100, 1000)"
   ]
  },
  {
   "cell_type": "code",
   "execution_count": 10,
   "metadata": {
    "ExecuteTime": {
     "end_time": "2019-05-20T09:45:26.683375Z",
     "start_time": "2019-05-20T09:45:17.951322Z"
    },
    "scrolled": true
   },
   "outputs": [
    {
     "data": {
      "application/vnd.jupyter.widget-view+json": {
       "model_id": "f72ceec7daa1431bac8950c07882ad5f",
       "version_major": 2,
       "version_minor": 0
      },
      "text/plain": [
       "HBox(children=(IntProgress(value=0, max=382), HTML(value='')))"
      ]
     },
     "metadata": {},
     "output_type": "display_data"
    },
    {
     "name": "stdout",
     "output_type": "stream",
     "text": [
      "2^1279-1 = 10407932194664399082...20710555703168729087 [386 digits] is prime\n",
      "2^2203-1 = 14759799152141802351...50419497686697771007 [664 digits] is prime\n",
      "2^2281-1 = 44608755718375842957...64133172418132836351 [687 digits] is prime\n",
      "2^3217-1 = 25911708601320262778...46160677362909315071 [969 digits] is prime\n",
      "\n"
     ]
    }
   ],
   "source": [
    "find_mp(1000, 4000)"
   ]
  },
  {
   "cell_type": "code",
   "execution_count": null,
   "metadata": {
    "ExecuteTime": {
     "end_time": "2019-04-02T06:27:56.870925Z",
     "start_time": "2019-04-02T06:27:53.236754Z"
    }
   },
   "outputs": [],
   "source": [
    "find_mp(10000, 20000)"
   ]
  },
  {
   "cell_type": "code",
   "execution_count": null,
   "metadata": {
    "ExecuteTime": {
     "end_time": "2019-03-29T07:18:20.620757Z",
     "start_time": "2019-03-29T06:59:02.158225Z"
    }
   },
   "outputs": [],
   "source": [
    "find_mp(20000, 50000)"
   ]
  },
  {
   "cell_type": "markdown",
   "metadata": {},
   "source": [
    "### リュカ-レーマー・テストのコードの改良"
   ]
  },
  {
   "cell_type": "markdown",
   "metadata": {},
   "source": [
    "$s_{p-2}$ を一般項から直接求める。"
   ]
  },
  {
   "cell_type": "code",
   "execution_count": null,
   "metadata": {
    "ExecuteTime": {
     "end_time": "2019-04-02T05:58:36.589532Z",
     "start_time": "2019-04-02T05:58:36.578248Z"
    }
   },
   "outputs": [],
   "source": [
    "getcontext().prec=100000\n",
    "p = 17\n",
    "mp = 2**p-1\n",
    "seq = [4]\n",
    "for n in range(p-2): seq.append((seq[-1]**2-2)%mp)\n",
    "print(seq)"
   ]
  },
  {
   "cell_type": "code",
   "execution_count": null,
   "metadata": {
    "ExecuteTime": {
     "end_time": "2019-04-02T05:55:14.339291Z",
     "start_time": "2019-04-02T05:55:14.330462Z"
    }
   },
   "outputs": [],
   "source": [
    "def binom(n,k,mod):\n",
    "#    nume = Decimal(math.factorial(n))\n",
    "#    deno = Decimal(math.factorial(k)*math.factorial(n-k))\n",
    "    if k==0: nume, deno = 1, 1\n",
    "    else:\n",
    "        nume = reduce(lambda x,y: x*y, range(n-k+1, n+1))\n",
    "        deno = reduce(lambda x,y: x*y, range(1, k+1))\n",
    "    return Decimal(nume)/Decimal(deno)"
   ]
  },
  {
   "cell_type": "code",
   "execution_count": null,
   "metadata": {
    "ExecuteTime": {
     "end_time": "2019-04-02T05:58:09.069580Z",
     "start_time": "2019-04-02T05:55:18.138718Z"
    }
   },
   "outputs": [],
   "source": [
    "getcontext().prec=10000\n",
    "p = 17\n",
    "mp = Decimal(2**p-1)\n",
    "for i in range(1,p-2+1):\n",
    "    n = 2**i\n",
    "    seq = [2*binom(n,2*k,mp)*2**(n-2*k)*3**k for k in range(2**(i-1)+1)]\n",
    "    print(sum(seq)%mp)"
   ]
  },
  {
   "cell_type": "code",
   "execution_count": null,
   "metadata": {
    "ExecuteTime": {
     "start_time": "2019-04-02T05:58:41.956Z"
    }
   },
   "outputs": [],
   "source": [
    "p = 17\n",
    "mp = (1<<p)-1\n",
    "n = 1<<(p-2)\n",
    "sum([2*binom(n,2*k,mp)*(2**(n-2*k))*(3**k) for k in range(int(n/2)+1)])%mp"
   ]
  },
  {
   "cell_type": "markdown",
   "metadata": {},
   "source": [
    "2項係数の計算に時間が掛かって、結局速くはならないようだ。"
   ]
  },
  {
   "cell_type": "markdown",
   "metadata": {},
   "source": [
    "### \"メルセンヌ合成数\" の素因数分解"
   ]
  },
  {
   "cell_type": "code",
   "execution_count": 11,
   "metadata": {
    "ExecuteTime": {
     "end_time": "2019-05-20T09:45:36.932065Z",
     "start_time": "2019-05-20T09:45:36.925723Z"
    }
   },
   "outputs": [],
   "source": [
    "getcontext().prec=10000\n",
    "def factorisation(num, facs_list=None):\n",
    "    if facs_list is None: facs_list = []\n",
    "    facs_list.append(find_a_factor(num))\n",
    "    if facs_list[-1]!=num:\n",
    "        num = int(Decimal(num)/Decimal(facs_list[-1]))\n",
    "        facs_list=factorisation(num, facs_list)\n",
    "    return facs_list"
   ]
  },
  {
   "cell_type": "code",
   "execution_count": 12,
   "metadata": {
    "ExecuteTime": {
     "end_time": "2019-05-20T09:46:49.821082Z",
     "start_time": "2019-05-20T09:45:38.149919Z"
    }
   },
   "outputs": [
    {
     "name": "stdout",
     "output_type": "stream",
     "text": [
      "2**11-1=2047=23*89\n",
      "2**23-1=8388607=47*178481\n",
      "2**29-1=536870911=233*1103*2089\n",
      "2**37-1=137438953471=223*616318177\n",
      "2**41-1=2199023255551=13367*164511353\n",
      "2**43-1=8796093022207=431*9719*2099863\n",
      "2**47-1=140737488355327=2351*4513*13264529\n",
      "2**53-1=9007199254740991=6361*69431*20394401\n",
      "2**59-1=576460752303423487=179951*3203431780337\n",
      "2**67-1=147573952589676412927=193707721*761838257287\n",
      "2**71-1=2361183241434822606847=228479*48544121*212885833\n",
      "2**73-1=9444732965739290427391=439*2298041*9361973132609\n",
      "2**79-1=604462909807314587353087=2687*202029703*1113491139767\n"
     ]
    }
   ],
   "source": [
    "N = 80\n",
    "plist = [n for n in list(range(3, N)) if is_prime(n)]\n",
    "\n",
    "for p in plist:\n",
    "    if not lucas_lehmer_FAST(p):\n",
    "        mp = (1<<p)-1\n",
    "        fctd = \"*\".join(map(str,factorisation(mp)))\n",
    "        print(\"2**{}-1={}={}\".format(p,mp,fctd))"
   ]
  },
  {
   "cell_type": "code",
   "execution_count": null,
   "metadata": {
    "ExecuteTime": {
     "end_time": "2019-04-04T15:37:13.541008Z",
     "start_time": "2019-04-04T07:28:59.315418Z"
    }
   },
   "outputs": [],
   "source": [
    "factorisation(2**83-1)"
   ]
  },
  {
   "cell_type": "code",
   "execution_count": null,
   "metadata": {
    "ExecuteTime": {
     "end_time": "2019-04-05T04:50:33.418685Z",
     "start_time": "2019-04-05T04:50:32.900895Z"
    }
   },
   "outputs": [],
   "source": [
    "factorisation(Decimal(2**83-1)/167+1)"
   ]
  },
  {
   "cell_type": "markdown",
   "metadata": {},
   "source": [
    "## ミラーラビン法"
   ]
  },
  {
   "cell_type": "markdown",
   "metadata": {},
   "source": [
    "確率的判定法。"
   ]
  },
  {
   "cell_type": "code",
   "execution_count": null,
   "metadata": {
    "ExecuteTime": {
     "end_time": "2019-03-28T08:39:54.413620Z",
     "start_time": "2019-03-28T08:39:54.396261Z"
    }
   },
   "outputs": [],
   "source": [
    "import random\n",
    "def millerrabin(n):\n",
    "    if n%2 == 0 or n%3 == 0 or n%5 == 0:\n",
    "        return False\n",
    "    else:\n",
    "        s, d = 0, n-1\n",
    "        while d%2==0: s,d = s+1, int(d/2)\n",
    "        k = 50\n",
    "#        for j in tqdm(range(k)):\n",
    "        while k > 0:\n",
    "            k = k-1\n",
    "            a = random.randint(1,n-1)\n",
    "            t, y = d, pow(a,d,n)\n",
    "            while t != n-1 and y != 1 and y != n-1:\n",
    "                y = pow(y,2,n)\n",
    "                t <<= 1\n",
    "            if y != n-1 and t%2 == 0:\n",
    "                return False\n",
    "        return True"
   ]
  },
  {
   "cell_type": "code",
   "execution_count": null,
   "metadata": {
    "ExecuteTime": {
     "end_time": "2019-03-28T08:40:37.585679Z",
     "start_time": "2019-03-28T08:40:00.652300Z"
    },
    "scrolled": true
   },
   "outputs": [],
   "source": [
    "for k in tqdm(plist):\n",
    "    if millerrabin(2**k-1): print('2^{}-1 = {} is prime'.format(k, 2**k-1))"
   ]
  },
  {
   "cell_type": "markdown",
   "metadata": {},
   "source": [
    "ずいぶん時間がかかってしまう。なぜ?"
   ]
  }
 ],
 "metadata": {
  "kernelspec": {
   "display_name": "Python 3",
   "language": "python",
   "name": "python3"
  },
  "language_info": {
   "codemirror_mode": {
    "name": "ipython",
    "version": 3
   },
   "file_extension": ".py",
   "mimetype": "text/x-python",
   "name": "python",
   "nbconvert_exporter": "python",
   "pygments_lexer": "ipython3",
   "version": "3.6.13"
  },
  "toc": {
   "base_numbering": 1,
   "nav_menu": {},
   "number_sections": false,
   "sideBar": true,
   "skip_h1_title": true,
   "title_cell": "Table of Contents",
   "title_sidebar": "Contents",
   "toc_cell": false,
   "toc_position": {},
   "toc_section_display": true,
   "toc_window_display": true
  },
  "varInspector": {
   "cols": {
    "lenName": 16,
    "lenType": 16,
    "lenVar": 40
   },
   "kernels_config": {
    "python": {
     "delete_cmd_postfix": "",
     "delete_cmd_prefix": "del ",
     "library": "var_list.py",
     "varRefreshCmd": "print(var_dic_list())"
    },
    "r": {
     "delete_cmd_postfix": ") ",
     "delete_cmd_prefix": "rm(",
     "library": "var_list.r",
     "varRefreshCmd": "cat(var_dic_list()) "
    }
   },
   "types_to_exclude": [
    "module",
    "function",
    "builtin_function_or_method",
    "instance",
    "_Feature"
   ],
   "window_display": false
  }
 },
 "nbformat": 4,
 "nbformat_minor": 1
}
