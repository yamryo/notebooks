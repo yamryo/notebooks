{
 "cells": [
  {
   "cell_type": "markdown",
   "metadata": {},
   "source": [
    "# 素数判定あれこれ"
   ]
  },
  {
   "cell_type": "code",
   "execution_count": 1,
   "metadata": {
    "ExecuteTime": {
     "end_time": "2019-09-24T07:02:43.391108Z",
     "start_time": "2019-09-24T07:02:41.684659Z"
    }
   },
   "outputs": [],
   "source": [
    "import math\n",
    "import matplotlib.pyplot as plt\n",
    "%matplotlib inline\n",
    "from sympy import *\n",
    "from decimal import *\n",
    "getcontext()\n",
    "import random"
   ]
  },
  {
   "cell_type": "markdown",
   "metadata": {
    "heading_collapsed": true
   },
   "source": [
    "## 素朴な素数判定"
   ]
  },
  {
   "cell_type": "code",
   "execution_count": 2,
   "metadata": {
    "ExecuteTime": {
     "end_time": "2019-09-24T07:02:46.800096Z",
     "start_time": "2019-09-24T07:02:46.794696Z"
    },
    "hidden": true
   },
   "outputs": [],
   "source": [
    "def is_prime(num):\n",
    "    for k in range(2, int(math.sqrt(num))+1):\n",
    "        if num%k == 0:\n",
    "            return False\n",
    "            break\n",
    "    else: return True"
   ]
  },
  {
   "cell_type": "markdown",
   "metadata": {
    "heading_collapsed": true
   },
   "source": [
    "## フェルマー法"
   ]
  },
  {
   "cell_type": "code",
   "execution_count": 41,
   "metadata": {
    "ExecuteTime": {
     "end_time": "2019-09-24T07:02:48.310213Z",
     "start_time": "2019-09-24T07:02:48.300625Z"
    },
    "hidden": true
   },
   "outputs": [],
   "source": [
    "def fermat(num):\n",
    "    num = abs(num)\n",
    "    if num == 2:\n",
    "        return True\n",
    "    elif num < 2 or num%2 == 0:\n",
    "        return False\n",
    "    else:\n",
    "        return pow(2, num-1, num) == 1"
   ]
  },
  {
   "cell_type": "code",
   "execution_count": null,
   "metadata": {
    "ExecuteTime": {
     "end_time": "2019-09-24T07:02:49.106755Z",
     "start_time": "2019-09-24T07:02:49.096938Z"
    },
    "hidden": true
   },
   "outputs": [],
   "source": [
    "fermat((2**20)*13+1)"
   ]
  },
  {
   "cell_type": "markdown",
   "metadata": {},
   "source": [
    "## ミラー・ラビン法"
   ]
  },
  {
   "cell_type": "code",
   "execution_count": 34,
   "metadata": {
    "ExecuteTime": {
     "end_time": "2019-09-24T07:02:51.137567Z",
     "start_time": "2019-09-24T07:02:51.130166Z"
    }
   },
   "outputs": [],
   "source": [
    "def miller_rabin(k,init):\n",
    "    num = (2**k)*init+1\n",
    "    a = random.randrange(num-2)+1\n",
    "    if pow(a, init, num) ==1: #(a**init)%num == 1:\n",
    "        return True\n",
    "    else:\n",
    "        for r in range(k):\n",
    "            b = (2**r)*init\n",
    "            if pow(a, b, num) == num-1: #(a**b)%num == num-1:\n",
    "                return True\n",
    "                break\n",
    "        else: \n",
    "            return False"
   ]
  },
  {
   "cell_type": "code",
   "execution_count": null,
   "metadata": {
    "ExecuteTime": {
     "end_time": "2019-09-24T07:02:51.980151Z",
     "start_time": "2019-09-24T07:02:51.971717Z"
    }
   },
   "outputs": [],
   "source": [
    "k=20\n",
    "init=13\n",
    "num = (2**k)*init+1\n",
    "print(num)\n",
    "\n",
    "print(miller_rabin(k,init),is_prime(num))"
   ]
  },
  {
   "cell_type": "code",
   "execution_count": null,
   "metadata": {
    "ExecuteTime": {
     "start_time": "2019-09-11T06:09:29.131Z"
    }
   },
   "outputs": [],
   "source": [
    "init=13\n",
    "%timeit [is_prime((2**k)*init+1) for k in range(1,100)]\n",
    "%timeit [fermat((2**k)*init+1) for k in range(1,100)]\n",
    "%timeit [miller_rabin(k,init) for k in range(1,100)]"
   ]
  },
  {
   "cell_type": "markdown",
   "metadata": {},
   "source": [
    "# 大竹先生の問題"
   ]
  },
  {
   "cell_type": "markdown",
   "metadata": {},
   "source": [
    "任意の奇素数 $p$ に対し、$p-1$ は偶数であり、$k \\in \\mathbb{N}$ と奇数 $M$ が存在して、\n",
    "$$ p-1 = 2^{k}M $$\n",
    "と分解される。\n",
    "\n",
    "この逆を考える。\n",
    "つまり、以下の問題を考える。\n",
    "\n",
    ">**問題.** すべての奇数 $M$ に対し、$2^{k}*M + 1$ が素数となるような $k \\in \\mathbb{N}$ が存在するか?\n",
    "\n",
    "https://ja.wikipedia.org/wiki/シェルピンスキー数"
   ]
  },
  {
   "cell_type": "code",
   "execution_count": 33,
   "metadata": {
    "ExecuteTime": {
     "end_time": "2019-09-24T07:03:25.171833Z",
     "start_time": "2019-09-24T07:03:25.161752Z"
    }
   },
   "outputs": [
    {
     "name": "stdout",
     "output_type": "stream",
     "text": [
      "283\n",
      "303868936193=2^6*283+1 is a prime.\n"
     ]
    }
   ],
   "source": [
    "M = 2*random.randint(1,500)-1; print(M)\n",
    "\n",
    "Limit = 10**2\n",
    "power=0\n",
    "num = M\n",
    "while not is_prime(num+1):\n",
    "    power += 1\n",
    "    if power > Limit:\n",
    "        print(\"Reach the limit\")\n",
    "        break\n",
    "    num *= 2\n",
    "else:\n",
    "    print(\"{}=2^{}*{}+1 is a prime.\".format(num+1, count, M))"
   ]
  },
  {
   "cell_type": "markdown",
   "metadata": {
    "heading_collapsed": true
   },
   "source": [
    "## グラフ表示"
   ]
  },
  {
   "cell_type": "code",
   "execution_count": null,
   "metadata": {
    "ExecuteTime": {
     "end_time": "2019-09-24T07:10:56.630920Z",
     "start_time": "2019-09-24T07:10:56.624701Z"
    },
    "hidden": true
   },
   "outputs": [],
   "source": [
    "def get_k(odd, Limit = 10**3):\n",
    "    count = 0\n",
    "    num = odd\n",
    "    while not fermat(num+1): #is_prime(num+1):\n",
    "        count += 1\n",
    "        if count > Limit:\n",
    "            return -1\n",
    "            break\n",
    "        num *= 2\n",
    "    else:\n",
    "        return count"
   ]
  },
  {
   "cell_type": "code",
   "execution_count": 35,
   "metadata": {
    "ExecuteTime": {
     "end_time": "2019-09-24T07:10:57.140166Z",
     "start_time": "2019-09-24T07:10:57.133704Z"
    },
    "hidden": true
   },
   "outputs": [],
   "source": [
    "def get_k_mr(odd, Limit = 10**3):\n",
    "    count = 0\n",
    "    while not miller_rabin(count, odd):\n",
    "        count += 1\n",
    "        if count > Limit:\n",
    "            return -1\n",
    "            break\n",
    "    else:\n",
    "        return count"
   ]
  },
  {
   "cell_type": "code",
   "execution_count": 51,
   "metadata": {
    "ExecuteTime": {
     "end_time": "2019-09-24T07:16:59.494316Z",
     "start_time": "2019-09-24T07:16:16.588968Z"
    },
    "hidden": true
   },
   "outputs": [
    {
     "data": {
      "image/png": "[encoded data removed]",
      "text/plain": [
       "<Figure size 1600x1000 with 1 Axes>"
      ]
     },
     "metadata": {},
     "output_type": "display_data"
    }
   ],
   "source": [
    "X = [2*k-1 for k in range(1,10**4)][10:100]\n",
    "Y = [get_k_mr(odd) for odd in X] #[get_k(odd) for odd in X]\n",
    "\n",
    "# Make the plot\n",
    "plt.figure(figsize=(16,10))\n",
    "\n",
    "ax = plt.subplot()\n",
    "ax.grid()\n",
    "ax.set(xlabel='number (n)', ylabel='# of primes up to n')\n",
    "\n",
    "plt.bar(X, Y, color='blue')\n",
    "#plt.xticks(X)\n",
    "plt.show()"
   ]
  },
  {
   "cell_type": "code",
   "execution_count": 37,
   "metadata": {
    "ExecuteTime": {
     "end_time": "2019-09-24T07:19:13.023254Z",
     "start_time": "2019-09-24T07:18:29.937342Z"
    },
    "hidden": true
   },
   "outputs": [
    {
     "data": {
      "text/plain": [
       "583"
      ]
     },
     "execution_count": 37,
     "metadata": {},
     "output_type": "execute_result"
    }
   ],
   "source": [
    "get_k_mr(47)"
   ]
  },
  {
   "cell_type": "code",
   "execution_count": 38,
   "metadata": {
    "ExecuteTime": {
     "end_time": "2019-09-24T07:24:10.977344Z",
     "start_time": "2019-09-24T07:24:10.620841Z"
    },
    "hidden": true
   },
   "outputs": [
    {
     "name": "stdout",
     "output_type": "stream",
     "text": [
      "1487939695262196876907983166454197495251350196192890428923003345454869706240895712896623468784438158657419591298913094265537812046389415279164757669092989298186306341246574002177\n"
     ]
    },
    {
     "data": {
      "text/plain": [
       "True"
      ]
     },
     "execution_count": 38,
     "metadata": {},
     "output_type": "execute_result"
    }
   ],
   "source": [
    "print((2**583)*47+1)\n",
    "miller_rabin(583,47)"
   ]
  },
  {
   "cell_type": "markdown",
   "metadata": {},
   "source": [
    "## 改良"
   ]
  },
  {
   "cell_type": "code",
   "execution_count": 44,
   "metadata": {
    "ExecuteTime": {
     "end_time": "2019-09-24T08:25:36.986272Z",
     "start_time": "2019-09-24T08:25:36.979475Z"
    }
   },
   "outputs": [],
   "source": [
    "def get_k_hybrid(odd, Limit = 10**5):\n",
    "    count = 0\n",
    "    num = odd\n",
    "    num_is_prime = False\n",
    "    while not num_is_prime:\n",
    "        count += 1\n",
    "        if count > Limit:\n",
    "            return -1\n",
    "            break\n",
    "        num = (2**count)*odd + 1\n",
    "        if fermat(num):\n",
    "            num_is_prime = miller_rabin(count, odd)\n",
    "    else:\n",
    "        return count"
   ]
  },
  {
   "cell_type": "code",
   "execution_count": 45,
   "metadata": {
    "ExecuteTime": {
     "end_time": "2019-09-24T08:28:50.524097Z",
     "start_time": "2019-09-24T08:28:47.703913Z"
    },
    "scrolled": true
   },
   "outputs": [
    {
     "name": "stdout",
     "output_type": "stream",
     "text": [
      "801 |-> 5\n",
      "803 |-> 1\n",
      "805 |-> 2\n",
      "807 |-> 2\n",
      "809 |-> 1\n",
      "811 |-> 16\n",
      "813 |-> 1\n",
      "815 |-> 3\n",
      "817 |-> 6\n",
      "819 |-> 3\n",
      "821 |-> 3\n",
      "823 |-> 6\n",
      "825 |-> 2\n",
      "827 |-> 19\n",
      "829 |-> 18\n",
      "831 |-> 1\n",
      "833 |-> 1\n",
      "835 |-> 6\n",
      "837 |-> 6\n",
      "839 |-> 5\n",
      "841 |-> 4\n",
      "843 |-> 2\n",
      "845 |-> 3\n",
      "847 |-> 2\n",
      "849 |-> 1\n",
      "851 |-> 7\n",
      "853 |-> 2\n",
      "855 |-> 3\n",
      "857 |-> 3\n",
      "859 |-> 10\n",
      "861 |-> 1\n",
      "863 |-> 5\n",
      "865 |-> 2\n",
      "867 |-> 2\n",
      "869 |-> 5\n",
      "871 |-> 8\n",
      "873 |-> 1\n",
      "875 |-> 3\n",
      "877 |-> 4\n",
      "879 |-> 1\n",
      "881 |-> 1027\n",
      "883 |-> 2\n",
      "885 |-> 2\n",
      "887 |-> 7\n",
      "889 |-> 2\n",
      "891 |-> 1\n",
      "893 |-> 1\n",
      "895 |-> 2\n",
      "897 |-> 3\n",
      "899 |-> 3\n",
      "901 |-> 12\n",
      "903 |-> 2\n",
      "905 |-> 1\n",
      "907 |-> 6\n",
      "909 |-> 2\n",
      "911 |-> 1\n",
      "913 |-> 18\n",
      "915 |-> 1\n",
      "917 |-> 27\n",
      "919 |-> 2\n",
      "921 |-> 3\n",
      "923 |-> 1\n",
      "925 |-> 2\n",
      "927 |-> 2\n",
      "929 |-> 3\n",
      "931 |-> 4\n",
      "933 |-> 1\n",
      "935 |-> 1\n",
      "937 |-> 8\n",
      "939 |-> 1\n",
      "941 |-> 3\n",
      "943 |-> 6\n",
      "945 |-> 3\n",
      "947 |-> 3\n",
      "949 |-> 2\n",
      "951 |-> 4\n",
      "953 |-> 1\n",
      "955 |-> 2\n",
      "957 |-> 4\n",
      "959 |-> 3\n",
      "961 |-> 4\n",
      "963 |-> 2\n",
      "965 |-> 1\n",
      "967 |-> 4\n",
      "969 |-> 2\n",
      "971 |-> 9\n",
      "973 |-> 4\n",
      "975 |-> 1\n",
      "977 |-> 3\n",
      "979 |-> 2\n",
      "981 |-> 5\n",
      "983 |-> 9\n",
      "985 |-> 4\n",
      "987 |-> 7\n",
      "989 |-> 1\n",
      "991 |-> 16\n",
      "993 |-> 1\n",
      "995 |-> 9\n",
      "997 |-> 2\n",
      "999 |-> 1\n"
     ]
    }
   ],
   "source": [
    "for n in range(400,500):\n",
    "    odd = 2*n+1\n",
    "    print(\"{} |-> {}\".format(odd, get_k_hybrid(odd)))"
   ]
  },
  {
   "cell_type": "code",
   "execution_count": null,
   "metadata": {
    "ExecuteTime": {
     "end_time": "2019-09-24T08:26:01.239415Z",
     "start_time": "2019-09-24T08:26:01.231109Z"
    }
   },
   "outputs": [],
   "source": [
    "num = (2**3)*161+1\n",
    "print(num)\n",
    "is_prime(num)"
   ]
  },
  {
   "cell_type": "code",
   "execution_count": 47,
   "metadata": {
    "ExecuteTime": {
     "end_time": "2019-09-24T08:28:03.765179Z",
     "start_time": "2019-09-24T08:28:00.250530Z"
    }
   },
   "outputs": [
    {
     "data": {
      "image/png": "[encoded data removed]",
      "text/plain": [
       "<Figure size 1600x1000 with 1 Axes>"
      ]
     },
     "metadata": {},
     "output_type": "display_data"
    }
   ],
   "source": [
    "X = [2*k-1 for k in range(1,10**4)][400:700] #[1:1000]\n",
    "Y = [get_k_hybrid(odd) for odd in X] #[get_k(odd) for odd in X]\n",
    "\n",
    "# Make the plot\n",
    "plt.figure(figsize=(16,10))\n",
    "\n",
    "ax = plt.subplot()\n",
    "ax.grid()\n",
    "ax.set(xlabel='number (n)', ylabel='# of primes up to n')\n",
    "\n",
    "plt.bar(X, Y, color='blue')\n",
    "#plt.xticks(X)\n",
    "plt.show()"
   ]
  }
 ],
 "metadata": {
  "kernelspec": {
   "display_name": "Python 3 (ipykernel)",
   "language": "python",
   "name": "python3"
  },
  "language_info": {
   "codemirror_mode": {
    "name": "ipython",
    "version": 3
   },
   "file_extension": ".py",
   "mimetype": "text/x-python",
   "name": "python",
   "nbconvert_exporter": "python",
   "pygments_lexer": "ipython3",
   "version": "3.12.3"
  },
  "toc": {
   "base_numbering": 1,
   "nav_menu": {},
   "number_sections": true,
   "sideBar": true,
   "skip_h1_title": false,
   "title_cell": "Table of Contents",
   "title_sidebar": "Contents",
   "toc_cell": false,
   "toc_position": {},
   "toc_section_display": true,
   "toc_window_display": false
  },
  "varInspector": {
   "cols": {
    "lenName": 16,
    "lenType": 16,
    "lenVar": 40
   },
   "kernels_config": {
    "python": {
     "delete_cmd_postfix": "",
     "delete_cmd_prefix": "del ",
     "library": "var_list.py",
     "varRefreshCmd": "print(var_dic_list())"
    },
    "r": {
     "delete_cmd_postfix": ") ",
     "delete_cmd_prefix": "rm(",
     "library": "var_list.r",
     "varRefreshCmd": "cat(var_dic_list()) "
    }
   },
   "types_to_exclude": [
    "module",
    "function",
    "builtin_function_or_method",
    "instance",
    "_Feature"
   ],
   "window_display": false
  }
 },
 "nbformat": 4,
 "nbformat_minor": 4
}
