{
 "cells": [
  {
   "cell_type": "markdown",
   "metadata": {
    "colab_type": "text",
    "id": "Zya0JSNFlbxo"
   },
   "source": [
    "# 4元数クラス"
   ]
  },
  {
   "cell_type": "markdown",
   "metadata": {
    "colab_type": "text",
    "id": "6Hg7Tdm-lbxu"
   },
   "source": [
    "## クラス定義"
   ]
  },
  {
   "cell_type": "markdown",
   "metadata": {
    "colab_type": "text",
    "id": "rAONXTGOnphc"
   },
   "source": [
    "4元数クラス:\n",
    "\n",
    "* r-part (実部), i-part, j-part, k-part の4つの実数からなる。\n",
    "    $$ 2-3i+j+5k$$\n",
    "* 足し算と掛け算ができる。\n",
    "* 表示機能がある。"
   ]
  },
  {
   "cell_type": "code",
   "execution_count": 0,
   "metadata": {
    "ExecuteTime": {
     "end_time": "2019-07-03T00:29:57.590102Z",
     "start_time": "2019-07-03T00:29:57.564275Z"
    },
    "colab": {},
    "colab_type": "code",
    "id": "wOIgvMB7lbxz"
   },
   "outputs": [],
   "source": [
    "import re\n",
    "import math\n",
    "\n",
    "class Quaternion:\n",
    "    '''Quaternion class'''\n",
    "    \n",
    "    parts = ['r', 'i', 'j', 'k']\n",
    "    \n",
    "    mul_table = {\n",
    "        'rr': 'r', 'ri': 'i', 'rj': 'j', 'rk': 'k',\n",
    "        'ir': 'i', 'ii': '-r','ij': 'k', 'ik': '-j',\n",
    "        'jr': 'j', 'ji': '-k','jj': '-r','jk': 'i',\n",
    "        'kr': 'k', 'ki': 'j', 'kj': '-i','kk': '-r'\n",
    "    }\n",
    "     \n",
    "    def __init__(self, vec = (0,0,0,0)): \n",
    "        self.coeffs = {'r':0, 'i':0, 'j':0, 'k':0}\n",
    "        for i in range(len(self.parts)):\n",
    "            self.coeffs[self.parts[i]] = vec[i]\n",
    "                    \n",
    "    def __add__(self, q):\n",
    "        vec = [self.coeffs[p]+q.coeffs[p] for p in self.parts]\n",
    "        return type(self)(vec)\n",
    "    \n",
    "    def show(self):\n",
    "        mylist = [ str(self.coeffs[p]) + p for p in self.parts ]\n",
    "        mystr = '+'.join( mylist )\n",
    "        mystr = mystr.replace('r', '')\n",
    "\n",
    "        mystr = re.sub(r'^0', '', mystr)                    # 0+2i --> +2i\n",
    "        mystr = re.sub(r'([+-])1([ijk])', r'\\1\\2', mystr)   # 1+1i --> 1+i\n",
    "        mystr = re.sub(r'[+]0[ijk]', '', mystr)             # 2+0i+3j --> 2+3j \n",
    "        mystr = re.sub(r'[+]([-+])', r'\\1', mystr)          # 1+-3i --> 1-3i, 1++3i --> 1+3i\n",
    "        mystr = re.sub(r'^[+]|[+]$', '', mystr)             # +2i --> 2i\n",
    "        return mystr if mystr != '' else '0'\n",
    "    #---\n",
    "    def __mul__(self, q):\n",
    "        result = type(self)()\n",
    "        #---\n",
    "        nonzeros = [(p,v) for p,v in self.coeffs.items() if v != 0]   # 係数がゼロでないパートの数を数える。\n",
    "        if len(nonzeros) == 0:\n",
    "            return result\n",
    "        elif len(nonzeros) > 1:\n",
    "            for p in self.parts:\n",
    "                mono = type(self)()\n",
    "                mono.coeffs[p] = self.coeffs[p]\n",
    "                result += mono*q\n",
    "        else:                                                         # ノンゼロパートが1つ、つまり単項式なら、掛け算実行。\n",
    "            sp, sv = nonzeros[0][0], nonzeros[0][1]\n",
    "            for qp, qv in q.coeffs.items():\n",
    "                cc = sv*qv\n",
    "                pp = self.mul_table[sp+qp]\n",
    "                ppp = re.sub(r'[-]([rijk])', r'\\1', pp)\n",
    "                if pp != ppp:\n",
    "                    cc = cc*(-1)\n",
    "                    pp = ppp\n",
    "                result.coeffs[pp] += cc\n",
    "        return result\n",
    "    \n",
    "    def conjugate(self):\n",
    "        result = type(self)()\n",
    "        for p in self.parts:\n",
    "            sign = -1 if p != 'r' else 1\n",
    "            result.coeffs[p] = self.coeffs[p]*sign\n",
    "        return result\n",
    "    \n",
    "    def norm(self):\n",
    "        val = (self*(self.conjugate())).coeffs['r']\n",
    "        return math.sqrt(val)\n",
    "    \n",
    "    def inverse(self):\n",
    "        conj = self.conjugate()\n",
    "        nrm_sq = (self*conj).coeffs['r']\n",
    "        return type(self)([1/nrm_sq,0,0,0])*conj        \n",
    "    #---    "
   ]
  },
  {
   "cell_type": "code",
   "execution_count": 0,
   "metadata": {
    "ExecuteTime": {
     "end_time": "2019-07-03T00:30:04.251398Z",
     "start_time": "2019-07-03T00:30:04.228051Z"
    },
    "colab": {
     "base_uri": "https://localhost:8080/",
     "height": 136
    },
    "colab_type": "code",
    "executionInfo": {
     "elapsed": 1142,
     "status": "ok",
     "timestamp": 1563856563426,
     "user": {
      "displayName": "山本亮介",
      "photoUrl": "",
      "userId": "01861936879830612877"
     },
     "user_tz": -540
    },
    "id": "9AaQ1byu5b0n",
    "outputId": "9985c35f-3daa-47f3-e158-c584ae9aab8f"
   },
   "outputs": [
    {
     "name": "stdout",
     "output_type": "stream",
     "text": [
      "{'r': 1, 'i': 2, 'j': 3, 'k': 4}\n",
      "<class 'dict'>\n",
      "2\n",
      "1+2i+3j+4k\n",
      "-25+7i-15j-k\n",
      "1-2i-3j-4k\n",
      "5.477225575051661\n"
     ]
    }
   ],
   "source": [
    "q = Quaternion([1,2,3,4])\n",
    "print(q.coeffs)\n",
    "print(type(q.coeffs))\n",
    "\n",
    "print(q.coeffs['i'])\n",
    "print(q.show())\n",
    "\n",
    "q1 = Quaternion([-2,0,1,5])\n",
    "print((q*q1).show())\n",
    "\n",
    "print(q.conjugate().show())\n",
    "print(q.norm())"
   ]
  },
  {
   "cell_type": "markdown",
   "metadata": {
    "colab_type": "text",
    "id": "H8h1dq-8E_t7"
   },
   "source": [
    "## 3次元空間の回転運動"
   ]
  },
  {
   "cell_type": "markdown",
   "metadata": {
    "colab_type": "text",
    "id": "747BsaMvFKKJ"
   },
   "source": [
    "$\\mathbb{R}^{3}$ において、\n",
    "\n",
    "「原点を通る単位ベクトル $\\vec{u}$ を回転軸として，右ねじの方向に角 $\\theta$ だけ回転させる」\n",
    "    \n",
    "という回転運動を $R_{\\vec{u},\\theta}$ と表す。\n",
    "\n",
    "ベクトル $R_{\\vec{u},\\theta}(\\vec{x})$ は四元数を使って次のように表現できる。\n",
    "\n",
    "4元数 $q$ を\n",
    "$$\n",
    "\\displaystyle q=\\cos {\\theta \\over 2} + u \\sin {\\theta \\over 2}\n",
    "~~~~~(\\text{ここで}，u = iu_{1}+ju_{2}+ku_{3}).\n",
    "$$\n",
    "として,\n",
    "$$\n",
    "R_{\\vec{u},\\theta}(\\vec{x}) = q \\,\\vec{x}\\, \\overline {q}.\n",
    "$$\n",
    "\n"
   ]
  },
  {
   "cell_type": "code",
   "execution_count": 0,
   "metadata": {
    "colab": {
     "base_uri": "https://localhost:8080/",
     "height": 34
    },
    "colab_type": "code",
    "executionInfo": {
     "elapsed": 1031,
     "status": "ok",
     "timestamp": 1563853256645,
     "user": {
      "displayName": "山本亮介",
      "photoUrl": "",
      "userId": "01861936879830612877"
     },
     "user_tz": -540
    },
    "id": "WFqW13VuFIp9",
    "outputId": "8bf45443-b8fb-40ab-8134-10f00b91764f"
   },
   "outputs": [
    {
     "name": "stdout",
     "output_type": "stream",
     "text": [
      ".0+4.440892098500626e-16i+0.0j-3.0k\n"
     ]
    }
   ],
   "source": [
    "u = [0,1,0]\n",
    "t = math.pi/2\n",
    "\n",
    "uq = Quaternion([0]+u)\n",
    "q = Quaternion([math.cos(t/2),0,0,0])+uq*Quaternion([math.sin(t/2),0,0,0])\n",
    "\n",
    "x = [3,0,0]\n",
    "xq = Quaternion([0]+x)\n",
    "\n",
    "yq = q*xq*(q.conjugate())\n",
    "print(yq.show())"
   ]
  },
  {
   "cell_type": "markdown",
   "metadata": {
    "colab_type": "text",
    "heading_collapsed": true,
    "id": "gduv78jklbyP"
   },
   "source": [
    "## テスト"
   ]
  },
  {
   "cell_type": "code",
   "execution_count": 0,
   "metadata": {
    "colab": {},
    "colab_type": "code",
    "hidden": true,
    "id": "Fm3ePOCr0F0Z"
   },
   "outputs": [],
   "source": [
    "from random import randrange"
   ]
  },
  {
   "cell_type": "markdown",
   "metadata": {
    "colab_type": "text",
    "heading_collapsed": true,
    "hidden": true,
    "id": "UEsiUFCNihDg"
   },
   "source": [
    "### メソッド ```__add__``` のテスト"
   ]
  },
  {
   "cell_type": "code",
   "execution_count": 0,
   "metadata": {
    "colab": {},
    "colab_type": "code",
    "hidden": true,
    "id": "4T7eiQRW1_2q"
   },
   "outputs": [],
   "source": [
    "vec_samples = [\n",
    "    [[1,1,1,1], [-2,0,1,3], [-1,1,2,4]],\n",
    "    [[1,0,0,0], [0,0,1,0], [1,0,1,0]],\n",
    "    [[1,0,-1,0], [-1,0,1,0], [0,0,0,0]]\n",
    "]\n",
    "samples = [ [Quaternion(v) for v in vs] for vs in vec_samples ]\n",
    "\n",
    "for s in samples:\n",
    "    assert (s[0]+s[1]).coeffs == s[2].coeffs, 'FAILED'"
   ]
  },
  {
   "cell_type": "markdown",
   "metadata": {
    "colab_type": "text",
    "heading_collapsed": true,
    "hidden": true,
    "id": "JUnvXfvFit2F"
   },
   "source": [
    "### メソッド ```show``` のテスト"
   ]
  },
  {
   "cell_type": "code",
   "execution_count": 0,
   "metadata": {
    "colab": {},
    "colab_type": "code",
    "hidden": true,
    "id": "SSdCDItW35LK"
   },
   "outputs": [],
   "source": [
    "vec = [1,2,3,4]\n",
    "q = Quaternion(vec)\n",
    "print(q.show())\n",
    "assert q.show() == '1+2i+3j+4k', 'FAILED'"
   ]
  },
  {
   "cell_type": "code",
   "execution_count": 0,
   "metadata": {
    "colab": {},
    "colab_type": "code",
    "hidden": true,
    "id": "otPvUpp1hjP5"
   },
   "outputs": [],
   "source": [
    "data = ( \n",
    "        ([1,2,3,4], '1+2i+3j+4k'),\n",
    "        ([0,1,1,1], 'i+j+k'),\n",
    "        ([1,1,1,1], '1+i+j+k'),\n",
    "        ([-1,0,3,1], '-1+3j+k'),\n",
    "        ([1,-1,1,1], '1-i+j+k'),\n",
    "        ([0,-2,1,-3], '-2i+j-3k'),\n",
    "        ([0,0,0,0], '0'),\n",
    "        ([0,1,0,0], 'i'),\n",
    "        ([101,10,0,-21], '101+10i-21k'),\n",
    "        )\n",
    "\n",
    "for p in data:\n",
    "    q = Quaternion(p[0])\n",
    "    try:\n",
    "        assert(q.show() == p[1])\n",
    "    except AssertionError:\n",
    "        print('FAILED  q = {}, q.show()={}'.format(q.coeffs, q.show()))\n",
    "        break\n",
    "else: print('PASSED') "
   ]
  },
  {
   "cell_type": "code",
   "execution_count": 0,
   "metadata": {
    "ExecuteTime": {
     "end_time": "2018-07-12T23:21:13.338781Z",
     "start_time": "2018-07-12T23:21:13.326466Z"
    },
    "colab": {},
    "colab_type": "code",
    "hidden": true,
    "id": "fMQDouQ0lbyl"
   },
   "outputs": [],
   "source": [
    "qi, qj, qk = Quaternion((0,1,0,0)), Quaternion((0,0,1,0)), Quaternion((0,0,0,1))\n",
    "(qi.show(), qj.show(), qk.show())"
   ]
  },
  {
   "cell_type": "markdown",
   "metadata": {
    "colab_type": "text",
    "hidden": true,
    "id": "zJdvzk_WrVq-"
   },
   "source": [
    "### メソッド ```__mul__``` のテスト"
   ]
  },
  {
   "cell_type": "code",
   "execution_count": 0,
   "metadata": {
    "ExecuteTime": {
     "end_time": "2019-07-03T00:40:53.056521Z",
     "start_time": "2019-07-03T00:40:53.029727Z"
    },
    "colab": {
     "base_uri": "https://localhost:8080/",
     "height": 34
    },
    "colab_type": "code",
    "executionInfo": {
     "elapsed": 1297,
     "status": "ok",
     "timestamp": 1562649139623,
     "user": {
      "displayName": "山本亮介",
      "photoUrl": "",
      "userId": "01861936879830612877"
     },
     "user_tz": -540
    },
    "hidden": true,
    "id": "InCFrqLLXd1z",
    "outputId": "4a96b6dd-07b8-4e8d-f825-83d5e7822a88"
   },
   "outputs": [
    {
     "name": "stdout",
     "output_type": "stream",
     "text": [
      "PASSED\n"
     ]
    }
   ],
   "source": [
    "data = []\n",
    "for k in range(100):\n",
    "    vec1 = [randrange(20)*((-1)**(randrange(2))) for k in range(4)]\n",
    "    vec2 = [randrange(20)*((-1)**(randrange(2))) for k in range(4)]\n",
    "    \n",
    "    prdt = [\n",
    "        vec1[0]*vec2[0]-vec1[1]*vec2[1]-vec1[2]*vec2[2]-vec1[3]*vec2[3],\n",
    "        vec1[0]*vec2[1]+vec1[1]*vec2[0]+vec1[2]*vec2[3]-vec1[3]*vec2[2],\n",
    "        vec1[0]*vec2[2]-vec1[1]*vec2[3]+vec1[2]*vec2[0]+vec1[3]*vec2[1],\n",
    "        vec1[0]*vec2[3]+vec1[1]*vec2[2]-vec1[2]*vec2[1]+vec1[3]*vec2[0]        \n",
    "    ]\n",
    "    data.append((vec1, vec2, prdt))\n",
    "    \n",
    "for p in data:\n",
    "    q1xq2 = Quaternion(p[0])*Quaternion(p[1])\n",
    "    qp = Quaternion(p[2])\n",
    "\n",
    "    try:\n",
    "        assert q1xq2.coeffs == qp.coeffs\n",
    "    except AssertionError:\n",
    "        print('FAILED  q1xq2 = {}, qp={}'.format(q1xq2.show(), qp.show()))\n",
    "        break\n",
    "else: print('PASSED')"
   ]
  },
  {
   "cell_type": "markdown",
   "metadata": {
    "colab_type": "text",
    "hidden": true,
    "id": "HGx1zs0CRmCp"
   },
   "source": [
    "### メソッド conjugate のテスト"
   ]
  },
  {
   "cell_type": "code",
   "execution_count": 0,
   "metadata": {
    "colab": {
     "base_uri": "https://localhost:8080/",
     "height": 34
    },
    "colab_type": "code",
    "executionInfo": {
     "elapsed": 1660,
     "status": "ok",
     "timestamp": 1562636541442,
     "user": {
      "displayName": "山本亮介",
      "photoUrl": "",
      "userId": "01861936879830612877"
     },
     "user_tz": -540
    },
    "hidden": true,
    "id": "x_BE1NYHRsnD",
    "outputId": "f18195a5-f4a5-46a6-a768-4d0741256331"
   },
   "outputs": [
    {
     "name": "stdout",
     "output_type": "stream",
     "text": [
      "PASSED\n"
     ]
    }
   ],
   "source": [
    "data = []\n",
    "for k in range(100):\n",
    "    vec = [randrange(20)*((-1)**(randrange(2))) for k in range(4)]\n",
    "    \n",
    "    conj = [vec[0], vec[1]*(-1), vec[2]*(-1), vec[3]*(-1)]\n",
    "            \n",
    "    data.append((vec, conj))\n",
    "    \n",
    "for p in data:\n",
    "    q = Quaternion(p[0])\n",
    "    qc = Quaternion(p[1])\n",
    "\n",
    "    try:\n",
    "        assert q.conjugate().coeffs == qc.coeffs\n",
    "    except AssertionError:\n",
    "        print('FAILED  q = {} --> q.conjugate() = {}, qc={}'.format(q.show(), q.conjugate().show(), qc.show()))\n",
    "        break\n",
    "else: print('PASSED')"
   ]
  },
  {
   "cell_type": "markdown",
   "metadata": {
    "colab_type": "text",
    "hidden": true,
    "id": "6ZwJCgOYXWU3"
   },
   "source": [
    "### メソッド norm のテスト"
   ]
  },
  {
   "cell_type": "code",
   "execution_count": 0,
   "metadata": {
    "colab": {
     "base_uri": "https://localhost:8080/",
     "height": 34
    },
    "colab_type": "code",
    "executionInfo": {
     "elapsed": 944,
     "status": "ok",
     "timestamp": 1563265738723,
     "user": {
      "displayName": "山本亮介",
      "photoUrl": "",
      "userId": "01861936879830612877"
     },
     "user_tz": -540
    },
    "hidden": true,
    "id": "CZyiZl8VXa4X",
    "outputId": "69caabe8-062b-4532-fd22-c70ef752d56e"
   },
   "outputs": [
    {
     "name": "stdout",
     "output_type": "stream",
     "text": [
      "PASSED\n"
     ]
    }
   ],
   "source": [
    "data = []\n",
    "for k in range(100):\n",
    "    vec = [randrange(20)*((-1)**(randrange(2))) for k in range(4)]\n",
    "    \n",
    "    norm_sq = vec[0]**2+vec[1]**2+vec[2]**2+vec[3]**2\n",
    "            \n",
    "    data.append((vec, norm_sq))\n",
    "    \n",
    "for p in data:\n",
    "    q = Quaternion(p[0])\n",
    "    ns = p[1]\n",
    "\n",
    "    try:\n",
    "        assert round(q.norm()**2) == ns\n",
    "#        assert q.norm() == math.sqrt(ns)\n",
    "    except AssertionError:\n",
    "        print('FAILED  q = {} --> q.norm()**2 = {}, ns={}'.format(q.show(), q.norm()**2, ns))\n",
    "        break\n",
    "else: print('PASSED')"
   ]
  },
  {
   "cell_type": "markdown",
   "metadata": {
    "colab_type": "text",
    "hidden": true,
    "id": "LqMk0dH2zrpw"
   },
   "source": [
    "### メソッド inverse のテスト"
   ]
  },
  {
   "cell_type": "code",
   "execution_count": 0,
   "metadata": {
    "colab": {
     "base_uri": "https://localhost:8080/",
     "height": 34
    },
    "colab_type": "code",
    "executionInfo": {
     "elapsed": 892,
     "status": "ok",
     "timestamp": 1563265695921,
     "user": {
      "displayName": "山本亮介",
      "photoUrl": "",
      "userId": "01861936879830612877"
     },
     "user_tz": -540
    },
    "hidden": true,
    "id": "w7Ln0XhAzpxp",
    "outputId": "6e3611d3-4991-4220-9dd8-125061d9a535"
   },
   "outputs": [
    {
     "name": "stdout",
     "output_type": "stream",
     "text": [
      "PASSED\n"
     ]
    }
   ],
   "source": [
    "data = [[1,0,0,0], [0,1,0,0], [1,1,0,0], [1,1,1,1], [-1,0,1,0]]\n",
    "for k in range(10):\n",
    "    vec = [randrange(20)*((-1)**(randrange(2))) for k in range(4)]\n",
    "    data.append(vec)\n",
    "    \n",
    "for vec in data:\n",
    "    q = Quaternion(vec)\n",
    "    i = q*(q.inverse())\n",
    "    for p,v in i.coeffs.items():\n",
    "        i.coeffs[p] = round(v)\n",
    "    \n",
    "    try:\n",
    "        assert i.show() == '1'\n",
    "    except AssertionError:\n",
    "        print('FAILED  q = {} --> q*(q.inverse) = {}'.format(q.show(), i.show()))\n",
    "        break\n",
    "else: print('PASSED')"
   ]
  },
  {
   "cell_type": "markdown",
   "metadata": {
    "colab_type": "text",
    "heading_collapsed": true,
    "id": "0CnhDyN_jWa8"
   },
   "source": [
    "## `unittest` ライブラリを使う。"
   ]
  },
  {
   "cell_type": "code",
   "execution_count": 0,
   "metadata": {
    "colab": {},
    "colab_type": "code",
    "hidden": true,
    "id": "6zNY9NAxjOkO"
   },
   "outputs": [],
   "source": [
    "import unittest\n",
    "from IPython.display import Markdown, display\n",
    "\n",
    "def run_check(test_class):\n",
    "    t = test_class\n",
    "    try:\n",
    "        t.check()\n",
    "    except t.failureException as e:\n",
    "        display(Markdown('**<span style=\"color: red;\">FAILED</span>**'))\n",
    "        print('Hint:',  e)\n",
    "    else: display(Markdown('**<span style=\"color: green;\">PASSED</span>**'))"
   ]
  },
  {
   "cell_type": "code",
   "execution_count": 0,
   "metadata": {
    "colab": {},
    "colab_type": "code",
    "hidden": true,
    "id": "3RJ-KRZpjprh"
   },
   "outputs": [],
   "source": [
    "class add_test(unittest.TestCase):\n",
    "    vecs = [(0,0,0,0), (1,0,0,0), (0,1,0,0), (0,0,1,0), (0,0,0,1), (1,-2,-1,0)]\n",
    "    pairs = ( ((0,0), (0,0,0,0)),\n",
    "            ((0,1), vecs[0]),\n",
    "            ((0,5), vecs[5]),\n",
    "            ((3,5), (1,-2,0,0))\n",
    "             )\n",
    "       \n",
    "    def check(self):\n",
    "        for p, v in self.pairs:\n",
    "            s = Quaternion(self.vecs[p[0]]) + Quaternion(self.vecs[p[1]])\n",
    "            self.assertEqual(s.coeffs, v)\n",
    "            \n",
    "run_check(add_test())"
   ]
  },
  {
   "cell_type": "code",
   "execution_count": 0,
   "metadata": {
    "colab": {},
    "colab_type": "code",
    "hidden": true,
    "id": "KgNKQezbjmYK"
   },
   "outputs": [],
   "source": [
    "class show_test(unittest.TestCase):\n",
    "    pairs = ( \n",
    "        ([1,2,3,4],'1+2i+3j+4k'),\n",
    "        ([0,1,1,1], 'i+j+k'),\n",
    "        ([1,1,1,1],'1+i+j+k'),\n",
    "        ([-1,0,3,1],'-1+3j+k'),\n",
    "        ([1,-1,1,1],'1-i+j+k'),\n",
    "        ([0,-2,1,-3],'-2i+j-3k'),\n",
    "        ([0,0,0,0],'0'),\n",
    "        ([0,1,0,0],'i'),\n",
    "        ([101,10,0,-21],'101+10i-21k'),\n",
    "        )\n",
    "    \n",
    "    def check(self):\n",
    "        for v, s in self.pairs:\n",
    "            q = Quaternion(v)\n",
    "            self.assertEqual(q.show(), s)\n",
    "            \n",
    "run_check(show_test())"
   ]
  },
  {
   "cell_type": "markdown",
   "metadata": {
    "colab_type": "text",
    "heading_collapsed": true,
    "id": "44fpweP7jPy4"
   },
   "source": [
    "## 退避場所"
   ]
  },
  {
   "cell_type": "code",
   "execution_count": 0,
   "metadata": {
    "colab": {},
    "colab_type": "code",
    "hidden": true,
    "id": "TjS66BbSqoTu"
   },
   "outputs": [],
   "source": [
    "class Quaternion:\n",
    "    '''Quaternion class'''\n",
    "    \n",
    "    parts = ['r', 'i', 'j', 'k']\n",
    "    \n",
    "    def __init__(self, vec = (0,0,0,0)):\n",
    "        self.coeffs = {'r':0, 'i':0, 'j':0, 'k':0}\n",
    "        for i in range(len(self.parts)):\n",
    "            self.coeffs[self.parts[i]] = vec[i]\n",
    "            \n",
    "#    def get_coeff(self, p):\n",
    "#        return self.coeffs[p]\n",
    "        \n",
    "    def __add__(self, q):\n",
    "        pass\n",
    "#        vec = ([self.get_coeff(p) + q.get_coeff(p) for p in self.parts])\n",
    "#        return type(self)(vec)\n",
    "        \n",
    "    def __product__(self, q):\n",
    "        pass\n",
    "    \n",
    "    def show(self):\n",
    "        pass "
   ]
  },
  {
   "cell_type": "code",
   "execution_count": 0,
   "metadata": {
    "colab": {},
    "colab_type": "code",
    "hidden": true,
    "id": "Q7w6ovlo2a8B"
   },
   "outputs": [],
   "source": [
    "import re\n",
    "\n",
    "class Quaternion:\n",
    "    '''Quaternion class'''\n",
    "    \n",
    "    parts = ['r', 'i', 'j', 'k']\n",
    "    \n",
    "    def __init__(self, vec = (0,0,0,0)):\n",
    "        self.coeffs = {'r':0, 'i':0, 'j':0, 'k':0}\n",
    "        for i in range(len(self.parts)):\n",
    "            self.coeffs[self.parts[i]] = vec[i]\n",
    "    \n",
    "    def __add__(self, q):\n",
    "        if type(q) != type(self):\n",
    "            raise ValueError(\"Can't add {}\".format(type(q)))\n",
    "        vec = tuple([self.get_coeff(p) + q.get_coeff(p) for p in self.parts])\n",
    "        return type(self)(vec)\n",
    "    \n",
    "    def get_coeff(self, p):\n",
    "        return self.coeffs[p]\n",
    "    \n",
    "    def show(self):\n",
    "        mstr = '+'.join([str(self.get_coeff(p)) + p for p in self.parts])\n",
    "        mstr = mstr.replace('r','')                      # 2r+3i --> 2+3i\n",
    "        mstr = re.sub(r'1([ijk])', r'\\1', mstr)          # 1+1i --> 1+i\n",
    "        mstr = re.sub(r'^0', '', mstr)   # 0+2i --> +2i, 2+0i+3j --> 2++3j\n",
    "        mstr = re.sub(r'[+]0[ijk]', '', mstr)\n",
    "        mstr = re.sub(r'[+]([-+])',r'\\1', mstr)         # 1+-3i --> 1-3i, 1++3i --> 1+3i\n",
    "        mstr = re.sub(r'^[+]|[+]$','', mstr)             # +2i --> 2i\n",
    "        return mstr if mstr != '' else '0'"
   ]
  },
  {
   "cell_type": "code",
   "execution_count": 0,
   "metadata": {
    "colab": {},
    "colab_type": "code",
    "hidden": true,
    "id": "D2KBC9beK1TP"
   },
   "outputs": [],
   "source": [
    "import re\n",
    "\n",
    "class Quaternion:\n",
    "    '''Quaternion class'''\n",
    "    \n",
    "    parts = ['r', 'i', 'j', 'k']\n",
    "    \n",
    "    def __init__(self, vec = (0,0,0,0)): \n",
    "        self.coeffs = {'r':0, 'i':0, 'j':0, 'k':0}\n",
    "        for i in range(len(self.parts)):\n",
    "            self.coeffs[self.parts[i]] = vec[i]\n",
    "                    \n",
    "    def __add__(self, q):\n",
    "        rc = self.coeffs['r']+q.coeffs['r']\n",
    "        ic = self.coeffs['i']+q.coeffs['i']    \n",
    "        jc = self.coeffs['j']+q.coeffs['j']    \n",
    "        kc = self.coeffs['k']+q.coeffs['k']\n",
    "        return type(self)([rc, ic, jc, kc])\n",
    "    \n",
    "    def show(self):\n",
    "        mylist = [ str(self.coeffs[p]) + p for p in self.parts ]\n",
    "        mystr = '+'.join( mylist )\n",
    "        mystr = mystr.replace('r', '')\n",
    "\n",
    "        mystr = re.sub(r'^0', '', mystr)                    # 0+2i --> +2i\n",
    "        mystr = re.sub(r'([+-])1([ijk])', r'\\1\\2', mystr)   # 1+1i --> 1+i\n",
    "        mystr = re.sub(r'[+]0[ijk]', '', mystr)             # 2+0i+3j --> 2+3j \n",
    "        mystr = re.sub(r'[+]([-+])', r'\\1', mystr)          # 1+-3i --> 1-3i, 1++3i --> 1+3i\n",
    "        mystr = re.sub(r'^[+]|[+]$', '', mystr)             # +2i --> 2i\n",
    "        return mystr if mystr != '' else '0'\n",
    "    #---\n",
    "    def times(self, q): \n",
    "        for p in self.coeffs:\n",
    "            #print(p + str(self.coeffs[p]) )\n",
    "            for p2 in q.coeffs:\n",
    "                cc = self.coeffs[p]*(q.coeffs[p2])\n",
    "                vec = [0,0,0,0]\n",
    "                if p == 'r':\n",
    "                    pp = p2\n",
    "                elif p == 'i':\n",
    "                    if p2 == 'r':\n",
    "                        pp = 'i'\n",
    "                        vec[1] = cc\n",
    "                    elif p2 == 'i':\n",
    "                        pp = 'r'\n",
    "                        cc = cc*(-1)\n",
    "                        vec[0] = cc\n",
    "                    elif p2 == 'j':\n",
    "                        pp = 'k'\n",
    "                        vec[3] = cc\n",
    "                    else:\n",
    "                        pp = 'j'\n",
    "                        cc = cc*(-1)\n",
    "                        vec[2] = cc\n",
    "                    quat = Quaternion(vec)\n",
    "                elif p == 'j':\n",
    "                    if p2 == 'r':\n",
    "                        pp = 'j'\n",
    "                    elif p2 == 'i':\n",
    "                        pp = 'k'\n",
    "                        cc = cc*(-1)\n",
    "                    elif p2 == 'j':\n",
    "                        pp = 'r'\n",
    "                        cc = cc*(-1)\n",
    "                        vec[0] = cc\n",
    "                    else:\n",
    "                        pp = 'i'\n",
    "                        vec[1] = cc\n",
    "                    quat = Quaternion(vec)\n",
    "                elif p == 'k':\n",
    "                    if p2 == 'r':\n",
    "                        pp = 'k'\n",
    "                    elif p2 == 'i':\n",
    "                        pp = 'j'\n",
    "                    elif p2 == 'j':\n",
    "                        pp = 'i'\n",
    "                        cc = cc*(-1)\n",
    "                        vec[1] = cc\n",
    "                    else:\n",
    "                        pp = 'r'\n",
    "                        cc = cc*(-1)\n",
    "                        vec[0] = cc\n",
    "                    quat = Quaternion(vec)"
   ]
  },
  {
   "cell_type": "code",
   "execution_count": 0,
   "metadata": {
    "colab": {},
    "colab_type": "code",
    "hidden": true,
    "id": "o5Pr0KOO_jUB"
   },
   "outputs": [],
   "source": [
    "    def conjugate(self):\n",
    "        result = type(self)()\n",
    "        for p in self.parts:\n",
    "            sign = -1 if p != 'r' else 1\n",
    "            result.coeffs[p] = self.coeffs[p]*sign\n",
    "        return result\n",
    "\n",
    "    def norm(self):\n",
    "        val = (self*(self.conjugate())).coeffs['r']\n",
    "        return math.sqrt(val)\n",
    "    \n",
    "    def inverse(self):\n",
    "        conj = self.conjugate()\n",
    "        nrm_sq = (self*conj).coeffs['r']\n",
    "        return type(self)([1/nrm_sq,0,0,0])*conj\n",
    "\n"
   ]
  }
 ],
 "metadata": {
  "accelerator": "GPU",
  "colab": {
   "collapsed_sections": [
    "H8h1dq-8E_t7",
    "gduv78jklbyP",
    "UEsiUFCNihDg",
    "JUnvXfvFit2F",
    "zJdvzk_WrVq-",
    "HGx1zs0CRmCp",
    "0CnhDyN_jWa8",
    "44fpweP7jPy4"
   ],
   "name": "quaternion.ipynb",
   "provenance": []
  },
  "kernelspec": {
   "display_name": "Python 3",
   "language": "python",
   "name": "python3"
  },
  "language_info": {
   "codemirror_mode": {
    "name": "ipython",
    "version": 3
   },
   "file_extension": ".py",
   "mimetype": "text/x-python",
   "name": "python",
   "nbconvert_exporter": "python",
   "pygments_lexer": "ipython3",
   "version": "3.6.13"
  },
  "toc": {
   "base_numbering": 1,
   "nav_menu": {},
   "number_sections": false,
   "sideBar": true,
   "skip_h1_title": true,
   "title_cell": "Table of Contents",
   "title_sidebar": "Contents",
   "toc_cell": false,
   "toc_position": {},
   "toc_section_display": true,
   "toc_window_display": false
  }
 },
 "nbformat": 4,
 "nbformat_minor": 1
}
