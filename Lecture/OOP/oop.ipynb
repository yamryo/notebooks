{
 "cells": [
  {
   "cell_type": "markdown",
   "metadata": {
    "colab_type": "text",
    "id": "_2oSEReHk73M"
   },
   "source": [
    "# オブジェクト指向プログラミング"
   ]
  },
  {
   "cell_type": "markdown",
   "metadata": {
    "colab_type": "text",
    "id": "hbbNu5vOk73R"
   },
   "source": [
    "## クラス定義"
   ]
  },
  {
   "cell_type": "markdown",
   "metadata": {
    "colab_type": "text",
    "id": "co8bvWOok73V"
   },
   "source": [
    "### 基本形"
   ]
  },
  {
   "cell_type": "code",
   "execution_count": 0,
   "metadata": {
    "ExecuteTime": {
     "end_time": "2018-06-29T00:00:32.688747Z",
     "start_time": "2018-06-29T00:00:32.684370Z"
    },
    "code_folding": [],
    "colab": {},
    "colab_type": "code",
    "id": "KpiV9GWTk73a"
   },
   "outputs": [],
   "source": [
    "class MyClass:\n",
    "    \"\"\"A simple class\"\"\"\n",
    "    i = 12345\n",
    "\n",
    "    def ff(self):\n",
    "        return 'hello world'\n",
    "    \n",
    "    def kakeru(self, num):\n",
    "        return self.i*num"
   ]
  },
  {
   "cell_type": "code",
   "execution_count": 24,
   "metadata": {
    "ExecuteTime": {
     "end_time": "2018-06-29T00:15:46.704916Z",
     "start_time": "2018-06-29T00:15:46.699296Z"
    },
    "colab": {
     "base_uri": "https://localhost:8080/",
     "height": 68
    },
    "colab_type": "code",
    "executionInfo": {
     "elapsed": 784,
     "status": "ok",
     "timestamp": 1560225778668,
     "user": {
      "displayName": "山本亮介",
      "photoUrl": "",
      "userId": "01861936879830612877"
     },
     "user_tz": -540
    },
    "id": "FcOjPMihk73n",
    "outputId": "86da7e0d-c45d-4771-bded-a7e4bc2cf4c8"
   },
   "outputs": [
    {
     "name": "stdout",
     "output_type": "stream",
     "text": [
      "12345\n",
      "hello world\n",
      "37035\n"
     ]
    }
   ],
   "source": [
    "mc = MyClass()\n",
    "print(mc.i)\n",
    "print(mc.ff())\n",
    "print(mc.kakeru(3))"
   ]
  },
  {
   "cell_type": "markdown",
   "metadata": {
    "colab_type": "text",
    "id": "qpWVhLTgk731"
   },
   "source": [
    "### 初期化とメソッド"
   ]
  },
  {
   "cell_type": "code",
   "execution_count": 0,
   "metadata": {
    "ExecuteTime": {
     "end_time": "2018-06-29T00:02:14.211192Z",
     "start_time": "2018-06-29T00:02:14.204579Z"
    },
    "colab": {},
    "colab_type": "code",
    "id": "2pu3S93zk733"
   },
   "outputs": [],
   "source": [
    "class Circle:\n",
    "    \"\"\"円周クラス\"\"\"\n",
    "    def __init__(self, c=(0,0), r=1):\n",
    "        self.center = c\n",
    "        self.radius = r\n",
    "        \n",
    "    def get_diameter(self):\n",
    "        return self.radius * 2\n",
    "    \n",
    "    def move_center(self, c):\n",
    "        self.center = c"
   ]
  },
  {
   "cell_type": "code",
   "execution_count": 30,
   "metadata": {
    "ExecuteTime": {
     "end_time": "2018-06-29T00:02:14.891088Z",
     "start_time": "2018-06-29T00:02:14.868640Z"
    },
    "colab": {
     "base_uri": "https://localhost:8080/",
     "height": 51
    },
    "colab_type": "code",
    "executionInfo": {
     "elapsed": 830,
     "status": "ok",
     "timestamp": 1560226663857,
     "user": {
      "displayName": "山本亮介",
      "photoUrl": "",
      "userId": "01861936879830612877"
     },
     "user_tz": -540
    },
    "id": "FWAk4a97k739",
    "outputId": "c47ce4f0-e097-490a-c361-cce55e981b0c"
   },
   "outputs": [
    {
     "name": "stdout",
     "output_type": "stream",
     "text": [
      "(1, 2) 3\n"
     ]
    },
    {
     "data": {
      "text/plain": [
       "6"
      ]
     },
     "execution_count": 30,
     "metadata": {
      "tags": []
     },
     "output_type": "execute_result"
    }
   ],
   "source": [
    "c = Circle((1,2),3)\n",
    "print(c.center, c.radius)\n",
    "c.get_diameter()"
   ]
  },
  {
   "cell_type": "code",
   "execution_count": 36,
   "metadata": {
    "colab": {
     "base_uri": "https://localhost:8080/",
     "height": 51
    },
    "colab_type": "code",
    "executionInfo": {
     "elapsed": 853,
     "status": "ok",
     "timestamp": 1560226935811,
     "user": {
      "displayName": "山本亮介",
      "photoUrl": "",
      "userId": "01861936879830612877"
     },
     "user_tz": -540
    },
    "id": "qcAMfsYfwgnD",
    "outputId": "811d1d2e-7641-4308-b314-52e212894beb"
   },
   "outputs": [
    {
     "name": "stdout",
     "output_type": "stream",
     "text": [
      "(0, 0) (1, 1)\n"
     ]
    },
    {
     "data": {
      "text/plain": [
       "(10, 5)"
      ]
     },
     "execution_count": 36,
     "metadata": {
      "tags": []
     },
     "output_type": "execute_result"
    }
   ],
   "source": [
    "c1, c2 = Circle(), Circle((1,1),20)\n",
    "print(c1.center, c2.center)\n",
    "c2.get_diameter()\n",
    "c1.move_center((10,5))\n",
    "c1.center"
   ]
  },
  {
   "cell_type": "markdown",
   "metadata": {
    "colab_type": "text",
    "id": "Ri0mD9tgk74G"
   },
   "source": [
    "### クラス変数とインスタンス変数"
   ]
  },
  {
   "cell_type": "code",
   "execution_count": 0,
   "metadata": {
    "ExecuteTime": {
     "end_time": "2018-06-29T00:26:49.344236Z",
     "start_time": "2018-06-29T00:26:49.337938Z"
    },
    "colab": {},
    "colab_type": "code",
    "id": "tj6RnWD7k74H"
   },
   "outputs": [],
   "source": [
    "class Circle(Circle):\n",
    "    c_points = []\n",
    "    \n",
    "    def __init__(self, c=(0,0), r=1):\n",
    "        self.center = c\n",
    "        self.radius = r\n",
    "        self.points = []\n",
    "        \n",
    "    def add_points(self, p):\n",
    "        self.points.append(p)\n",
    "        self.c_points.append(p)"
   ]
  },
  {
   "cell_type": "code",
   "execution_count": 58,
   "metadata": {
    "ExecuteTime": {
     "end_time": "2018-06-29T00:26:51.615956Z",
     "start_time": "2018-06-29T00:26:51.609676Z"
    },
    "colab": {
     "base_uri": "https://localhost:8080/",
     "height": 51
    },
    "colab_type": "code",
    "executionInfo": {
     "elapsed": 861,
     "status": "ok",
     "timestamp": 1560228109617,
     "user": {
      "displayName": "山本亮介",
      "photoUrl": "",
      "userId": "01861936879830612877"
     },
     "user_tz": -540
    },
    "id": "pidoWwCBk74L",
    "outputId": "60169452-8cd9-4cad-b839-231b0ce5a63a"
   },
   "outputs": [
    {
     "name": "stdout",
     "output_type": "stream",
     "text": [
      "[(3, 5)] [(3, 5)]\n",
      "[] [(3, 5)]\n"
     ]
    }
   ],
   "source": [
    "c1, c2 = Circle(), Circle((1,2),3)\n",
    "c1.add_points((3,5))\n",
    "\n",
    "for c in [c1,c2]:\n",
    "    print(c.points, c.c_points)"
   ]
  },
  {
   "cell_type": "code",
   "execution_count": 0,
   "metadata": {
    "colab": {},
    "colab_type": "code",
    "id": "aWUWNOdek74h"
   },
   "outputs": [],
   "source": []
  }
 ],
 "metadata": {
  "colab": {
   "name": "oop.ipynb",
   "provenance": [],
   "version": "0.3.2"
  },
  "kernelspec": {
   "display_name": "Python 3",
   "language": "python",
   "name": "python3"
  },
  "language_info": {
   "codemirror_mode": {
    "name": "ipython",
    "version": 3
   },
   "file_extension": ".py",
   "mimetype": "text/x-python",
   "name": "python",
   "nbconvert_exporter": "python",
   "pygments_lexer": "ipython3",
   "version": "3.6.13"
  },
  "toc": {
   "base_numbering": 1,
   "nav_menu": {},
   "number_sections": false,
   "sideBar": true,
   "skip_h1_title": true,
   "title_cell": "Table of Contents",
   "title_sidebar": "Contents",
   "toc_cell": false,
   "toc_position": {},
   "toc_section_display": true,
   "toc_window_display": false
  }
 },
 "nbformat": 4,
 "nbformat_minor": 1
}
