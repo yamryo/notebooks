{
 "cells": [
  {
   "cell_type": "markdown",
   "metadata": {},
   "source": [
    "# 数列クラス"
   ]
  },
  {
   "cell_type": "markdown",
   "metadata": {},
   "source": [
    "## 項クラス"
   ]
  },
  {
   "cell_type": "code",
   "execution_count": 1,
   "metadata": {
    "ExecuteTime": {
     "end_time": "2018-06-27T01:37:38.846219Z",
     "start_time": "2018-06-27T01:37:38.834086Z"
    }
   },
   "outputs": [],
   "source": [
    "class term:\n",
    "    def __init__(self, val, index):\n",
    "        self.val = val\n",
    "        self.ind = index\n",
    "    \n",
    "    def show(self):\n",
    "        return '(index={}, val={})'.format(self.ind, self.val)"
   ]
  },
  {
   "cell_type": "markdown",
   "metadata": {},
   "source": [
    "## 隣接二項漸化式を持つ数列"
   ]
  },
  {
   "cell_type": "code",
   "execution_count": 31,
   "metadata": {
    "ExecuteTime": {
     "end_time": "2018-06-27T01:53:04.381524Z",
     "start_time": "2018-06-27T01:53:04.360914Z"
    }
   },
   "outputs": [],
   "source": [
    "class seq:\n",
    "    '''Sequence with a reccurence relation'''\n",
    "    \n",
    "    def __init__(self, initial, func):\n",
    "        self.initial = term(initial, 1)\n",
    "        self.func = func\n",
    "        \n",
    "    def get_next(self, trm):\n",
    "        return term(self.func(trm.val), trm.ind + 1)\n",
    "    \n",
    "    def nth(self, n):\n",
    "        t = self.initial\n",
    "        for i in range(1,n):\n",
    "            t = self.get_next(t)\n",
    "        else: return t\n",
    "    \n",
    "    def show(self, num=5):\n",
    "        terms = [self.initial]\n",
    "        for i in range(num):\n",
    "            terms.append(self.get_next(terms[-1]))\n",
    "        return [t.val for t in terms]"
   ]
  },
  {
   "cell_type": "code",
   "execution_count": 23,
   "metadata": {
    "ExecuteTime": {
     "end_time": "2018-06-27T01:49:08.083011Z",
     "start_time": "2018-06-27T01:49:08.063759Z"
    }
   },
   "outputs": [
    {
     "name": "stdout",
     "output_type": "stream",
     "text": [
      "(index=11, val=236197)\n",
      "(index=11, val=236197)\n",
      "(index=11, val=236197)\n",
      "(index=11, val=236197)\n",
      "(index=11, val=236197)\n",
      "(index=11, val=236197)\n",
      "(index=11, val=236197)\n",
      "(index=11, val=236197)\n",
      "(index=11, val=236197)\n",
      "(index=11, val=236197)\n",
      "(index=5, val=325)\n",
      "[5, 13, 37, 109, 325, 973, 2917, 8749, 26245, 78733, 236197, 708589, 2125765, 6377293, 19131877, 57395629, 172186885, 516560653, 1549681957, 4649045869, 13947137605]\n"
     ]
    }
   ],
   "source": [
    "ss = seq(5, (lambda x: 3*x - 2))\n",
    "\n",
    "t = ss.initial\n",
    "for i in range(10):\n",
    "    print(mterm.show())\n",
    "    t = ss.get_next(t)\n",
    "    \n",
    "fifth = ss.nth(5); print(fifth.show())\n",
    "\n",
    "print(ss.show(20))"
   ]
  },
  {
   "cell_type": "markdown",
   "metadata": {},
   "source": [
    "## フィボナッチ数列"
   ]
  },
  {
   "cell_type": "markdown",
   "metadata": {},
   "source": [
    "### クラス定義"
   ]
  },
  {
   "cell_type": "code",
   "execution_count": 33,
   "metadata": {
    "ExecuteTime": {
     "end_time": "2018-06-27T01:58:59.148376Z",
     "start_time": "2018-06-27T01:58:59.130620Z"
    }
   },
   "outputs": [],
   "source": [
    "class fib():\n",
    "    def __init__(self, init1, init2, func = (lambda x, y: x+y)):\n",
    "        self.initial = (term(init1,1), term(init2,2))\n",
    "        self.func = func\n",
    "    \n",
    "    def get_next(self, trm1, trm2):\n",
    "        return term(self.func(trm1.val, trm2.val), trm2.ind + 1)\n",
    "    \n",
    "    def nth(self, n):\n",
    "        prev = self.initial\n",
    "        for i in range(n-2):\n",
    "            t = self.get_next(*prev)\n",
    "            prev = (prev[-1], t)\n",
    "        else: return t"
   ]
  },
  {
   "cell_type": "markdown",
   "metadata": {},
   "source": [
    "### 実験"
   ]
  },
  {
   "cell_type": "code",
   "execution_count": 34,
   "metadata": {
    "ExecuteTime": {
     "end_time": "2018-06-27T01:59:00.683416Z",
     "start_time": "2018-06-27T01:59:00.669509Z"
    }
   },
   "outputs": [
    {
     "name": "stdout",
     "output_type": "stream",
     "text": [
      "(index=1, val=1)\n",
      "(index=2, val=1)\n",
      "(index=3, val=2)\n",
      "(index=4, val=3)\n",
      "(index=5, val=5)\n",
      "(index=6, val=8)\n",
      "(index=7, val=13)\n",
      "(index=8, val=21)\n",
      "(index=9, val=34)\n",
      "(index=10, val=55)\n"
     ]
    }
   ],
   "source": [
    "ff = fib(1,1)\n",
    "\n",
    "prev = ff.initial\n",
    "for i in range(10):\n",
    "    print(prev[0].show())\n",
    "    prev = (prev[1], ff.get_next(*prev))"
   ]
  },
  {
   "cell_type": "code",
   "execution_count": 29,
   "metadata": {
    "ExecuteTime": {
     "end_time": "2018-06-27T01:50:53.309817Z",
     "start_time": "2018-06-27T01:50:41.780524Z"
    }
   },
   "outputs": [
    {
     "name": "stdout",
     "output_type": "stream",
     "text": [
      "(index=100, val=354224848179261915075)\n",
      "208987\n"
     ]
    }
   ],
   "source": [
    "import math\n",
    "\n",
    "print(ff.nth(100).show())\n",
    "print(int(math.log10(ff.nth(10**6).val)))"
   ]
  },
  {
   "cell_type": "code",
   "execution_count": 30,
   "metadata": {
    "ExecuteTime": {
     "end_time": "2018-06-27T01:50:53.322137Z",
     "start_time": "2018-06-27T01:50:53.311232Z"
    }
   },
   "outputs": [
    {
     "name": "stdout",
     "output_type": "stream",
     "text": [
      "[-1, 5, 4, 9, 13, 22, 35, 57, 92, 149, 241, 390]\n"
     ]
    }
   ],
   "source": [
    "ff = fib(-1,5)\n",
    "prev = ff.initial\n",
    "fibseq = [t for t in prev]\n",
    "for i in range(10):\n",
    "    fibseq.append(ff.get_next(fibseq[-2], fibseq[-1]))\n",
    "print([t.val for t in fibseq])"
   ]
  },
  {
   "cell_type": "markdown",
   "metadata": {},
   "source": [
    "### 二項間の比の収束"
   ]
  },
  {
   "cell_type": "code",
   "execution_count": 247,
   "metadata": {
    "ExecuteTime": {
     "end_time": "2018-06-06T01:43:38.503497Z",
     "start_time": "2018-06-06T01:43:38.220357Z"
    }
   },
   "outputs": [
    {
     "data": {
      "image/png": "[encoded data removed]",
      "text/plain": [
       "<matplotlib.figure.Figure at 0x11997b400>"
      ]
     },
     "metadata": {},
     "output_type": "display_data"
    }
   ],
   "source": [
    "import matplotlib.pyplot as plt\n",
    "%matplotlib inline\n",
    "\n",
    "N = 20\n",
    "X = range(1,N)\n",
    "\n",
    "plt.figure(figsize=(16,10))\n",
    "\n",
    "for k in range(1,20,4):\n",
    "    ff = fib(1,k)\n",
    "    fibseq = list(ff.initial)\n",
    "    Y = []\n",
    "    for i in range(1,N):\n",
    "        Y.append(fibseq[-2].val/fibseq[-1].val) \n",
    "        fibseq.append(ff.get_next(fibseq[-2], fibseq[-1]))\n",
    "    plt.plot(X, Y, label='fib(1,{})'.format(k))\n",
    "\n",
    "plt.legend(loc='upper right', shadow=True, fontsize='x-large')\n",
    "\n",
    "plt.show()"
   ]
  },
  {
   "cell_type": "code",
   "execution_count": null,
   "metadata": {},
   "outputs": [],
   "source": []
  }
 ],
 "metadata": {
  "kernelspec": {
   "display_name": "Python 3",
   "language": "python",
   "name": "python3"
  },
  "language_info": {
   "codemirror_mode": {
    "name": "ipython",
    "version": 3
   },
   "file_extension": ".py",
   "mimetype": "text/x-python",
   "name": "python",
   "nbconvert_exporter": "python",
   "pygments_lexer": "ipython3",
   "version": "3.6.13"
  },
  "toc": {
   "base_numbering": 1,
   "nav_menu": {},
   "number_sections": true,
   "sideBar": true,
   "skip_h1_title": true,
   "title_cell": "Table of Contents",
   "title_sidebar": "Contents",
   "toc_cell": false,
   "toc_position": {},
   "toc_section_display": true,
   "toc_window_display": false
  },
  "varInspector": {
   "cols": {
    "lenName": 16,
    "lenType": 16,
    "lenVar": 40
   },
   "kernels_config": {
    "python": {
     "delete_cmd_postfix": "",
     "delete_cmd_prefix": "del ",
     "library": "var_list.py",
     "varRefreshCmd": "print(var_dic_list())"
    },
    "r": {
     "delete_cmd_postfix": ") ",
     "delete_cmd_prefix": "rm(",
     "library": "var_list.r",
     "varRefreshCmd": "cat(var_dic_list()) "
    }
   },
   "types_to_exclude": [
    "module",
    "function",
    "builtin_function_or_method",
    "instance",
    "_Feature"
   ],
   "window_display": false
  }
 },
 "nbformat": 4,
 "nbformat_minor": 2
}
