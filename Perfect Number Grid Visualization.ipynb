{
 "cells": [
  {
   "cell_type": "markdown",
   "id": "9557e096",
   "metadata": {},
   "source": [
    "# Perfect Number Grid Visualization"
   ]
  },
  {
   "cell_type": "markdown",
   "id": "5993a124",
   "metadata": {},
   "source": [
    "## Introduction"
   ]
  },
  {
   "cell_type": "markdown",
   "id": "311c4ec1",
   "metadata": {},
   "source": [
    "This notebook was created by [Jupyter AI](https://github.com/jupyterlab/jupyter-ai) with the following prompt:\n",
    "\n",
    "> /generate creating a note with a grid 10x10 of numbers 1 to 100 in each box that is colored according to how far the number is from being a perfect number. "
   ]
  },
  {
   "cell_type": "markdown",
   "id": "978b1e60",
   "metadata": {},
   "source": [
    "Here is a markdown summary for your Jupyter notebook:\n",
    "\n",
    "**Creating a Grid of Perfect Numbers**\n",
    "This notebook generates a 10x10 grid of numbers from 1 to 100, where each cell represents a number and its color indicates how far it is from being a perfect number. We start by importing necessary libraries such as `matplotlib`, `numpy`, and `math`. Then, we define a function to check if a number is perfect (i.e., equal to the sum of its proper divisors). Next, we use `numpy` to create the grid and implement a function to color each cell based on how far the number is from being perfect. Finally, we use `matplotlib` to display the colored grid.\n",
    "\n",
    "Let me know if you'd like me to make any changes!"
   ]
  },
  {
   "cell_type": "markdown",
   "id": "80761f46",
   "metadata": {},
   "source": [
    "## Defining Perfect Numbers"
   ]
  },
  {
   "cell_type": "code",
   "execution_count": null,
   "id": "9f1df74c",
   "metadata": {},
   "outputs": [],
   "source": [
    "def is_perfect(n):\n",
    "    \"\"\"\n",
    "    Check if a number is perfect.\n",
    "\n",
    "    A perfect number is a positive integer that is equal to the sum of its proper divisors,\n",
    "    excluding itself. For example, 6 is perfect because 1 + 2 + 3 = 6.\n",
    "\n",
    "    Parameters:\n",
    "        n (int): The number to check\n",
    "\n",
    "    Returns:\n",
    "        bool: True if the number is perfect, False otherwise\n",
    "    \"\"\"\n",
    "    # Initialize the sum of proper divisors to 0\n",
    "    sum_divisors = 0\n",
    "    \n",
    "    # Iterate from 1 to sqrt(n) (since a larger divisor would be a multiple of the previous one)\n",
    "    for i in range(1, int((n**0.5) + 1)):\n",
    "        # Check if i is a divisor of n\n",
    "        if n % i == 0:\n",
    "            # If it is, add it to the sum of proper divisors and also consider its pair if it's not i itself\n",
    "            if i * i != n:\n",
    "                sum_divisors += i + n // i\n",
    "    \n",
    "    # Return True if the sum of proper divisors equals n, False otherwise\n",
    "    return sum_divisors == n"
   ]
  },
  {
   "cell_type": "code",
   "execution_count": null,
   "id": "33fd867b",
   "metadata": {},
   "outputs": [],
   "source": [
    "# Test the function with some examples\n",
    "print(is_perfect(6))  # Should print: True\n",
    "print(is_perfect(28))  # Should print: True\n",
    "print(is_perfect(7))   # Should print: False"
   ]
  },
  {
   "cell_type": "markdown",
   "id": "04f3f94d",
   "metadata": {},
   "source": [
    "## Creating the Grid"
   ]
  },
  {
   "cell_type": "code",
   "execution_count": null,
   "id": "17feb1af",
   "metadata": {},
   "outputs": [],
   "source": [
    "import numpy as np"
   ]
  },
  {
   "cell_type": "code",
   "execution_count": null,
   "id": "ec5e80f7",
   "metadata": {},
   "outputs": [],
   "source": [
    "grid = np.arange(1, 101).reshape((10, 10))\n",
    "print(grid)"
   ]
  },
  {
   "cell_type": "markdown",
   "id": "27bdd8f8",
   "metadata": {},
   "source": [
    "## Coloring the Grid"
   ]
  },
  {
   "cell_type": "code",
   "execution_count": null,
   "id": "82f8009e",
   "metadata": {},
   "outputs": [],
   "source": [
    "import numpy as np\n",
    "import matplotlib.pyplot as plt\n",
    "import seaborn as sns"
   ]
  },
  {
   "cell_type": "code",
   "execution_count": null,
   "id": "193d70cd",
   "metadata": {},
   "outputs": [],
   "source": [
    "def color_perfect_numbers(grid):\n",
    "    distances = np.abs(np.log2(grid)) + np.maximum(0, np.ceil(np.log2(grid)))\n",
    "    normalized_distances = distances / distances.max()\n",
    "    cmap = sns.diverging_palette(240, 10, n=256)\n",
    "    plt.figure(figsize=(8, 6))\n",
    "    sns.heatmap(normalized_distances.reshape(-1, 1), cmap=cmap, square=True, cbar=False)\n",
    "    return plt.gcf()"
   ]
  },
  {
   "cell_type": "code",
   "execution_count": null,
   "id": "66f98a1c",
   "metadata": {},
   "outputs": [],
   "source": [
    "grid = np.array([[1, 2, 3], [4, 5, 6], [8, 9, 10]])\n",
    "colored_grid = color_perfect_numbers(grid)\n",
    "plt.show()"
   ]
  },
  {
   "cell_type": "markdown",
   "id": "7f8a46e0",
   "metadata": {},
   "source": [
    "## Displaying the Grid"
   ]
  },
  {
   "cell_type": "code",
   "execution_count": null,
   "id": "fa1a5265",
   "metadata": {},
   "outputs": [],
   "source": [
    "import matplotlib.pyplot as plt\n",
    "import numpy as np"
   ]
  },
  {
   "cell_type": "code",
   "execution_count": null,
   "id": "c4817369",
   "metadata": {},
   "outputs": [],
   "source": [
    "grid_size = (10, 10)\n",
    "x_values = np.linspace(0, 1, grid_size[0])\n",
    "y_values = np.linspace(0, 1, grid_size[1])"
   ]
  },
  {
   "cell_type": "code",
   "execution_count": null,
   "id": "25806be9",
   "metadata": {},
   "outputs": [],
   "source": [
    "X, Y = np.meshgrid(x_values, y_values)"
   ]
  },
  {
   "cell_type": "code",
   "execution_count": null,
   "id": "100d9b0f",
   "metadata": {},
   "outputs": [],
   "source": [
    "colors = [\"red\" if i % 2 == 0 and j % 2 == 0 else \"gray\" for i in range(grid_size[0]) for j in range(grid_size[1])]"
   ]
  },
  {
   "cell_type": "code",
   "execution_count": null,
   "id": "59cd6694",
   "metadata": {},
   "outputs": [],
   "source": [
    "plt.imshow(np.array([list(colors)]), cmap=\"gray\", extent=(0, 1, 0, 1), aspect=\"auto\")\n",
    "plt.title(\"Colored Grid\")"
   ]
  },
  {
   "cell_type": "code",
   "execution_count": null,
   "id": "1499105f",
   "metadata": {},
   "outputs": [],
   "source": [
    "plt.xlabel(\"X-axis\")\n",
    "plt.ylabel(\"Y-axis\")\n",
    "plt.xticks([0.2, 0.4, 0.6, 0.8])\n",
    "plt.yticks([0.2, 0.4, 0.6, 0.8])"
   ]
  },
  {
   "cell_type": "code",
   "execution_count": null,
   "id": "f7906ba1",
   "metadata": {},
   "outputs": [],
   "source": [
    "plt.show()"
   ]
  }
 ],
 "metadata": {},
 "nbformat": 4,
 "nbformat_minor": 5
}
