{
 "cells": [
  {
   "cell_type": "markdown",
   "id": "ba76e3f3-0853-40ca-8cce-7974eefaaf43",
   "metadata": {
    "tags": []
   },
   "source": [
    "# ライブラリ"
   ]
  },
  {
   "cell_type": "code",
   "execution_count": null,
   "id": "d10d7e0c-84ce-4c80-b147-bf928d46684d",
   "metadata": {
    "tags": []
   },
   "outputs": [],
   "source": [
    "import numpy as np\n",
    "import itertools\n",
    "\n",
    "from ipycanvas import Canvas"
   ]
  },
  {
   "cell_type": "markdown",
   "id": "021d6f08-416e-4aee-9683-b9f1b155967e",
   "metadata": {},
   "source": [
    "# 平面上の図形"
   ]
  },
  {
   "cell_type": "code",
   "execution_count": null,
   "id": "a720757f-e45d-4514-a6d9-dbd7f57cd32f",
   "metadata": {
    "tags": []
   },
   "outputs": [],
   "source": [
    "canvas = Canvas(size=(100, 100))\n",
    "canvas.translate(50, 50)\n",
    "\n",
    "vertices = []\n",
    "Mag = 50\n",
    "for v in itertools.product(range(2),repeat=2):\n",
    "    vm = [int(x) for x in np.array(v)*Mag]\n",
    "    vertices.append(vm)\n",
    "\n",
    "#print(vertices)\n",
    "\n",
    "edges = []\n",
    "for couple in itertools.combinations(vertices, 2):\n",
    "    if (couple[0][0] == couple[1][0] or couple[0][1] == couple[1][1]):\n",
    "        edges.append(couple)\n",
    "\n",
    "#print(edges)\n",
    "\n",
    "for e in edges:\n",
    "    canvas.stroke_line(*e[0], *e[1])\n",
    "    \n",
    "canvas"
   ]
  },
  {
   "cell_type": "markdown",
   "id": "4daaf523-1df3-418b-8a87-b52085e52efd",
   "metadata": {},
   "source": [
    "# 立方体"
   ]
  },
  {
   "cell_type": "markdown",
   "id": "3ad0963b-38f3-4a77-9278-a55820a7ba4d",
   "metadata": {
    "tags": []
   },
   "source": [
    "### 頂点・辺データの構築"
   ]
  },
  {
   "cell_type": "code",
   "execution_count": null,
   "id": "5b1748a4-69ad-4390-9a04-e4bf4101ae60",
   "metadata": {
    "tags": []
   },
   "outputs": [],
   "source": [
    "vertices = []\n",
    "for v in itertools.product(range(2), repeat=3):\n",
    "    vm = [int(x) for x in np.array(v)]\n",
    "    vertices.append(vm)\n",
    "\n",
    "#print(vertices)\n",
    "\n",
    "edges = []\n",
    "for couple in itertools.combinations(vertices, 2):\n",
    "    count = 0\n",
    "    for i in range(3):\n",
    "        if couple[0][i] == couple[1][i]:\n",
    "            count += 1\n",
    "    if count == 2:\n",
    "        edges.append(couple)\n",
    "\n",
    "#print(edges, len(edges))"
   ]
  },
  {
   "cell_type": "markdown",
   "id": "34260bb7-acd0-4bf4-9589-24e7439deb67",
   "metadata": {},
   "source": [
    "## ピンホール投射"
   ]
  },
  {
   "cell_type": "markdown",
   "id": "3e871670-a8d8-4710-a400-94c746593230",
   "metadata": {},
   "source": [
    "射影する $\\mathbb{R}^{2}$ の $\\mathbb{R}^{3}$ への埋め込み先を平面$\\{(x,y,z)|x = -s\\}$とする($s>0$)。\n",
    "\n",
    "$\\mathbf{p}=(x,y,z) \\in \\mathbb{R}^{3}_{x\\geq 0}$ の hole $\\mathbf{a}=(a,b,c)$ ($-1 < a < 0$) に関する射影$\\Pi$ による像は、\n",
    "\n",
    "$$\\Pi(\\mathbf{p})\n",
    "=\\Pi_{yz}\\left(\\frac{s+a}{x-a}(\\mathbf{p}-\\mathbf{a})+\\mathbf{a}\\right)\n",
    "=\\begin{pmatrix}\\frac{s+a}{x-a}(y-b)+b \\\\ \\frac{s+a}{x-a}(z-c)+c\\end{pmatrix}$$."
   ]
  },
  {
   "cell_type": "code",
   "execution_count": null,
   "id": "33ac8a48-8858-448a-9b18-a39b2d9bcd7e",
   "metadata": {
    "tags": []
   },
   "outputs": [],
   "source": [
    "canvas = Canvas(size=(200, 200))\n",
    "\n",
    "#--- 射影 ---\n",
    "def projection(vec, hole = [0,0,0], s=5):\n",
    "    k = (s+hole[0])/(vec[0]-hole[0]) \n",
    "    return np.array([(vec[1]-hole[1])*k+hole[1], (vec[2]-hole[2])*k+hole[2]])\n",
    "\n",
    "#--- 描画 ---\n",
    "hole = [-2/3, 1+1/3, -1/2]\n",
    "screen = 10\n",
    "Mag = 10\n",
    "for e in edges:\n",
    "    tr = np.array([20,10])\n",
    "    pe = [(projection(bp, hole, screen)+tr)*Mag for bp in e]\n",
    "    canvas.stroke_line(*pe[0], *pe[1])\n",
    "#canvas.stroke_rect(10, 10, 400)\n",
    "canvas"
   ]
  },
  {
   "cell_type": "markdown",
   "id": "f422b6c4-a1c5-440b-85c6-dc7aaf8b77db",
   "metadata": {
    "tags": []
   },
   "source": [
    "## 平行投象"
   ]
  },
  {
   "cell_type": "markdown",
   "id": "bd9ff701-ce23-46f8-85b4-a30d7f39e0f1",
   "metadata": {},
   "source": [
    "射影する $\\mathbb{R}^{2}$ の $\\mathbb{R}^{3}$ への埋め込み先を平面$\\{(x,y,z)|x = -1\\}$とする。\n",
    "\n",
    "$\\mathbf{p}=(x,y,z) \\in \\mathbb{R}^{3}_{x\\geq 0}$ の ray $\\mathbf{a}=(a,b,c)$ に関する射影$\\Pi$ による像は、\n",
    "\n",
    "$$\\Pi(\\mathbf{p})\n",
    "=\\Pi_{yz}\\left(\\mathbf{p}-\\frac{1+x}{a}\\mathbf{a}\\right)\n",
    "=\\begin{pmatrix}y-\\frac{(1+x)b}{a} \\\\ z - \\frac{(1+x)c}{a}\\end{pmatrix}.$$"
   ]
  },
  {
   "cell_type": "code",
   "execution_count": null,
   "id": "5fef5b23-cc20-4572-90ec-bb719a8126f1",
   "metadata": {
    "tags": []
   },
   "outputs": [],
   "source": [
    "canvas = Canvas(size=(200, 200))\n",
    "\n",
    "def projection(vec, ray = [1,0,0]):\n",
    "    k = (1+vec[0])/ray[0]\n",
    "    return np.array([vec[1], vec[2]]) - np.array([ray[1],ray[2]])*k\n",
    "\n",
    "r = [2/3, -1/2, 1/3]\n",
    "Mag = 100\n",
    "for e in edges:\n",
    "    tr = np.array([0,2])\n",
    "    pe = [(projection(bp, r)+tr)*Mag for bp in e]\n",
    "    canvas.stroke_line(*pe[0], *pe[1])\n",
    "canvas"
   ]
  }
 ],
 "metadata": {
  "kernelspec": {
   "display_name": "Python 3",
   "language": "python",
   "name": "python3"
  },
  "language_info": {
   "codemirror_mode": {
    "name": "ipython",
    "version": 3
   },
   "file_extension": ".py",
   "mimetype": "text/x-python",
   "name": "python",
   "nbconvert_exporter": "python",
   "pygments_lexer": "ipython3",
   "version": "3.6.8"
  }
 },
 "nbformat": 4,
 "nbformat_minor": 5
}
