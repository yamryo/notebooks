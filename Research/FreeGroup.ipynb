{
 "cells": [
  {
   "cell_type": "markdown",
   "metadata": {},
   "source": [
    "# Free Group"
   ]
  },
  {
   "cell_type": "code",
   "execution_count": null,
   "metadata": {
    "ExecuteTime": {
     "end_time": "2019-04-16T07:32:33.954345Z",
     "start_time": "2019-04-16T07:32:32.347Z"
    }
   },
   "outputs": [],
   "source": [
    "module Element\n",
    "  def initialize(factors = [])\n",
    "    @factors = factors\n",
    "  end\n",
    "  attr_reader :factors\n",
    "  #---\n",
    "  def to_s() @factors.map(&:to_s).join end\n",
    "  def show() self.to_s end\n",
    "  def length() @factors.length end\n",
    "  def ==(anElement) self.show == anElement.show end\n",
    "end; nil"
   ]
  },
  {
   "cell_type": "code",
   "execution_count": null,
   "metadata": {
    "ExecuteTime": {
     "end_time": "2019-04-16T07:30:27.266645Z",
     "start_time": "2019-04-16T07:30:25.661Z"
    }
   },
   "outputs": [],
   "source": [
    "class Letter\n",
    "  include Element\n",
    "  #---\n",
    "  def initialize(char='1')\n",
    "    raise ArgumentError, \"You can use alphabet and '1'\" \\\n",
    "      unless char[0] =~ /[1a-zA-Z]/\n",
    "    super([char])\n",
    "    @char = char[0]\n",
    "  end\n",
    "  attr_reader :char\n",
    "  #---\n",
    "  def =~(a_Letter)\n",
    "    raise ArgumentError unless a_Letter.is_a? Letter\n",
    "    @char.downcase == a_Letter.char.downcase\n",
    "  end\n",
    "  def ==(a_Letter)\n",
    "    raise ArgumentError unless a_Letter.is_a? Letter\n",
    "    (self =~ a_Letter) && (self.inverse? == a_Letter.inverse?)\n",
    "  end\n",
    "  def ===(a_Letter)\n",
    "    raise(ArgumentError) unless a_Letter.is_a? Letter\n",
    "    self.object_id == a_Letter.object_id\n",
    "  end\n",
    "  def <=>(a_Letter)\n",
    "    raise(ArgumentError) unless a_Letter.is_a? Letter\n",
    "    self.show <=> another.show\n",
    "  end\n",
    "  #---\n",
    "  def inverse\n",
    "    if @char == '1' then\n",
    "      self.dup\n",
    "    else\n",
    "      inv_char = (self.inverse?) ? @char.downcase : @char.upcase\n",
    "      self.class.new(inv_char)\n",
    "    end\n",
    "  end\n",
    "  def inverse?() (@char == '1') ? nil : (@char == @char.upcase) end\n",
    "  def inverse_of?(a_Letter)\n",
    "    (@char == '1') ? (a_Letter.char == '1') : (self =~ a_Letter) && !(self == a_Letter)\n",
    "  end\n",
    "end; nil"
   ]
  },
  {
   "cell_type": "code",
   "execution_count": null,
   "metadata": {
    "ExecuteTime": {
     "end_time": "2019-04-11T05:53:32.538092Z",
     "start_time": "2019-04-11T05:53:33.036Z"
    }
   },
   "outputs": [],
   "source": [
    "class Word\n",
    "  include Element\n",
    "  #---\n",
    "  # Word class consists of a (nested) array of Letter objects.\n",
    "  #---\n",
    "  def initialize(*args)\n",
    "    args.flatten!\n",
    "    @factors = []\n",
    "    if args.empty?\n",
    "        @factors << Letter.new('1')\n",
    "    else\n",
    "      args.each do |arg|\n",
    "        @factors << case arg\n",
    "                    when Letter then\n",
    "                      arg\n",
    "                    when String then\n",
    "                      subarr = []\n",
    "                      arg.each_char{|c| subarr << Letter.new(c) if c =~ /[1a-zA-Z]/}\n",
    "                      if subarr.empty?\n",
    "                        Letter.new('1')\n",
    "                       elsif subarr.length == 1\n",
    "                         subarr[0]\n",
    "                      else\n",
    "                        subarr\n",
    "                      end\n",
    "                    else raise ArgumentError \n",
    "                    end\n",
    "      end\n",
    "      @factors = @factors[0] if (@factors.length == 1 and @factors[0].is_a?(Array))\n",
    "    end\n",
    "#     super(factors)\n",
    "  end\n",
    "  #---\n",
    "  def pop() @factors.pop end\n",
    "  def letter_at(int) @factors[int] end\n",
    "  def [](int) self.letter_at(int) end\n",
    "  #---\n",
    "  def flatten\n",
    "    flat_factors = @factors.flatten\n",
    "    self.class.new(flat_factors)\n",
    "  end\n",
    "  def flatten!() @factors.flatten!; self end\n",
    "  #---\n",
    "  def show() show_parens end \n",
    "  def show_parens()\n",
    "    @factors.map{|f| (f.length == 1) ? f.show : \"(#{self.class.new(f).show_parens})\"}.join\n",
    "  end\n",
    "  #---\n",
    "  def contract_once\n",
    "#     self.flatten!\n",
    "    rtn = [@factors[0]]\n",
    "    @factors.each_cons(2) do |f1, f2|\n",
    "      (f1 =~ f2 and f1 != f2) ? rtn.pop : rtn << f2\n",
    "    end\n",
    "    @factors = (rtn.empty?) ? [Letter.new('1')] : rtn \n",
    "    return self\n",
    "  end\n",
    "  def contract\n",
    "    self.flatten!\n",
    "    size_diff = 1\n",
    "    while (size_diff > 0 and @factors.size > 1)\n",
    "      size_diff = @factors.size - self.contract_once.factors.size\n",
    "    end\n",
    "    #\n",
    "    return self\n",
    "  end\n",
    "  #---\n",
    "  def *(anElement)\n",
    "    raise ArgumentError unless anElement.is_a? Element\n",
    "    return self.class.new(self.show, anElement.show)\n",
    "  end\n",
    "end; nil"
   ]
  },
  {
   "cell_type": "code",
   "execution_count": null,
   "metadata": {
    "ExecuteTime": {
     "end_time": "2019-04-11T05:32:46.088330Z",
     "start_time": "2019-04-11T05:32:46.597Z"
    }
   },
   "outputs": [],
   "source": [
    "module Group extend self\n",
    "  Identity = Word.new('1')\n",
    "  #---\n",
    "  def product(element1,element2)\n",
    "    raise ArgumentError unless [element1, element2].all?{|elm| elm.is_a? Element}\n",
    "    return Word.new(element1.factors, element2.factors)\n",
    "  end\n",
    "end; nil "
   ]
  }
 ],
 "metadata": {
  "kernelspec": {
   "display_name": "Ruby 3.3.0",
   "language": "ruby",
   "name": "ruby"
  },
  "language_info": {
   "file_extension": ".rb",
   "mimetype": "application/x-ruby",
   "name": "ruby",
   "version": "3.3.0"
  },
  "toc": {
   "base_numbering": 1,
   "nav_menu": {},
   "number_sections": true,
   "sideBar": true,
   "skip_h1_title": true,
   "title_cell": "Table of Contents",
   "title_sidebar": "Contents",
   "toc_cell": false,
   "toc_position": {},
   "toc_section_display": true,
   "toc_window_display": false
  },
  "varInspector": {
   "cols": {
    "lenName": 16,
    "lenType": 16,
    "lenVar": 40
   },
   "kernels_config": {
    "python": {
     "delete_cmd_postfix": "",
     "delete_cmd_prefix": "del ",
     "library": "var_list.py",
     "varRefreshCmd": "print(var_dic_list())"
    },
    "r": {
     "delete_cmd_postfix": ") ",
     "delete_cmd_prefix": "rm(",
     "library": "var_list.r",
     "varRefreshCmd": "cat(var_dic_list()) "
    }
   },
   "types_to_exclude": [
    "module",
    "function",
    "builtin_function_or_method",
    "instance",
    "_Feature"
   ],
   "window_display": false
  }
 },
 "nbformat": 4,
 "nbformat_minor": 4
}
