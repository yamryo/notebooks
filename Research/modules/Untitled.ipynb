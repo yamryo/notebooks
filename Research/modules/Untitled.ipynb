{
 "cells": [
  {
   "cell_type": "code",
   "execution_count": 1,
   "id": "0053f610-dbb7-42e1-83b4-01f30cf98482",
   "metadata": {},
   "outputs": [],
   "source": [
    "from Ideal_elm_pair_class import *\n",
    "%display latex"
   ]
  },
  {
   "cell_type": "code",
   "execution_count": 11,
   "id": "3c0d8389-3032-449f-8905-21b2f04f2a56",
   "metadata": {},
   "outputs": [
    {
     "data": {
      "text/html": [
       "<html>\\(\\displaystyle \\left[\\alpha^{3} - 3 \\alpha^{2} + 2 \\alpha - 1, -\\alpha^{3} + 3 \\alpha^{2} - 2 \\alpha + 3\\right]\\)</html>"
      ],
      "text/latex": [
       "$\\displaystyle \\left[\\alpha^{3} - 3 \\alpha^{2} + 2 \\alpha - 1, -\\alpha^{3} + 3 \\alpha^{2} - 2 \\alpha + 3\\right]$"
      ],
      "text/plain": [
       "[alpha^3 - 3*alpha^2 + 2*alpha - 1, -alpha^3 + 3*alpha^2 - 2*alpha + 3]"
      ]
     },
     "metadata": {},
     "output_type": "display_data"
    }
   ],
   "source": [
    "monodromy_list = [A*b*c*d, a*b*c*D] #[a*b*c*d, a*b*a*C*D*f]\n",
    "\n",
    "marr = [ideal_elm_pair(m).generator for m in monodromy_list]\n",
    "display(marr)"
   ]
  },
  {
   "cell_type": "code",
   "execution_count": 21,
   "id": "5a612990-5b0a-4cab-ac38-e6eb2891e4b6",
   "metadata": {},
   "outputs": [
    {
     "ename": "AttributeError",
     "evalue": "'ideal_elm_pair' object has no attribute 'equiv_rel'",
     "output_type": "error",
     "traceback": [
      "\u001b[0;31m---------------------------------------------------------------------------\u001b[0m",
      "\u001b[0;31mAttributeError\u001b[0m                            Traceback (most recent call last)",
      "Cell \u001b[0;32mIn[21], line 6\u001b[0m\n\u001b[1;32m      4\u001b[0m found_class \u001b[38;5;241m=\u001b[39m \u001b[38;5;28;01mFalse\u001b[39;00m\n\u001b[1;32m      5\u001b[0m \u001b[38;5;28;01mfor\u001b[39;00m \u001b[38;5;28mcls\u001b[39m \u001b[38;5;129;01min\u001b[39;00m classes:\n\u001b[0;32m----> 6\u001b[0m     \u001b[38;5;28;01mif\u001b[39;00m \u001b[43mIEP\u001b[49m\u001b[38;5;241;43m.\u001b[39;49m\u001b[43mequiv_rel\u001b[49m(k, \u001b[38;5;28mcls\u001b[39m[Integer(\u001b[38;5;241m0\u001b[39m)]):\n\u001b[1;32m      7\u001b[0m         \u001b[38;5;28mcls\u001b[39m\u001b[38;5;241m.\u001b[39mappend(k)\n\u001b[1;32m      8\u001b[0m         found_class \u001b[38;5;241m=\u001b[39m \u001b[38;5;28;01mTrue\u001b[39;00m\n",
      "\u001b[0;31mAttributeError\u001b[0m: 'ideal_elm_pair' object has no attribute 'equiv_rel'"
     ]
    }
   ],
   "source": [
    "classes = []\n",
    "\n",
    "for k in marr:\n",
    "    found_class = False\n",
    "    for cls in classes:\n",
    "        if IEP.equiv_rel(k, cls[0]):\n",
    "            cls.append(k)\n",
    "            found_class = True\n",
    "            break\n",
    "    if not found_class:\n",
    "        classes.append([k])\n",
    "        \n",
    "classes"
   ]
  },
  {
   "cell_type": "code",
   "execution_count": null,
   "id": "fcce137b-ceef-4448-b452-248d02e4f78f",
   "metadata": {},
   "outputs": [],
   "source": []
  }
 ],
 "metadata": {
  "kernelspec": {
   "display_name": "SageMath 10.7",
   "language": "sage",
   "name": "sagemath"
  },
  "language_info": {
   "codemirror_mode": {
    "name": "ipython",
    "version": 3
   },
   "file_extension": ".py",
   "mimetype": "text/x-python",
   "name": "python",
   "nbconvert_exporter": "python",
   "pygments_lexer": "ipython3",
   "version": "3.12.3"
  }
 },
 "nbformat": 4,
 "nbformat_minor": 5
}
