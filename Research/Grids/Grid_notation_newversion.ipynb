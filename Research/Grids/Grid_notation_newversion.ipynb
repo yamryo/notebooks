{
 "cells": [
  {
   "cell_type": "markdown",
   "id": "14d1259d-831e-43cf-92e1-533d80bf61e8",
   "metadata": {
    "tags": []
   },
   "source": [
    "# Grid notation of permutations"
   ]
  },
  {
   "cell_type": "markdown",
   "id": "fede5985-2813-433b-91a3-5b77dcef6e4e",
   "metadata": {},
   "source": [
    "## Libraries"
   ]
  },
  {
   "cell_type": "code",
   "execution_count": 1,
   "id": "a6094ec6-be62-47e5-acfa-e62d0b6c458d",
   "metadata": {
    "tags": []
   },
   "outputs": [],
   "source": [
    "import random\n",
    "import itertools\n",
    "import sympy\n",
    "sympy.init_printing()\n",
    "import sys\n",
    "sys.path.append(\"../modules\")\n",
    "t = sympy.symbols('t')\n",
    "from tqdm.notebook import tqdm\n",
    "\n",
    "import Permutation as pm\n",
    "from Grid_notation import *\n",
    "\n",
    "%matplotlib inline\n",
    "import matplotlib.pyplot as plt\n",
    "\n",
    "# ----- Debugger -----\n",
    "# from IPython.core.debugger import Pdb; Pdb().set_trace()"
   ]
  },
  {
   "cell_type": "code",
   "execution_count": 2,
   "id": "31d245e4-bca7-4883-91f2-9d11e50db102",
   "metadata": {},
   "outputs": [],
   "source": [
    "import numpy as np\n",
    "# import matplotlib.pyplot as plt\n",
    "from  matplotlib import patches\n",
    "from matplotlib.figure import Figure\n",
    "from matplotlib import rcParams\n",
    "    \n",
    "def zplane(mdict):\n",
    "    \"\"\"Plot the complex z-plane given a transfer function.\n",
    "    \"\"\"\n",
    "    # get a figure/plot\n",
    "    ax = plt.subplot(111)\n",
    "\n",
    "    # create the unit circle\n",
    "    uc = patches.Circle((0,0), radius=1, fill=False,\n",
    "                        color='black', ls='dashed')\n",
    "    ax.add_patch(uc)\n",
    "\n",
    "    # Plot the points\n",
    "    for v in mdict:\n",
    "        z = complex(v)\n",
    "        t1 = plt.plot(z.real, z.imag, 'go', ms=5, label=mdict[v])\n",
    "        plt.setp( t1, markersize=10.0, markeredgewidth=1.0, markeredgecolor='k', markerfacecolor='g')\n",
    "\n",
    "    ax.spines['left'].set_position('center')\n",
    "    ax.spines['bottom'].set_position('center')\n",
    "    ax.spines['right'].set_visible(False)\n",
    "    ax.spines['top'].set_visible(False)\n",
    "\n",
    "    # set the ticks\n",
    "    r = 1.5; plt.axis('scaled'); plt.axis([-r, r, -r, r])\n",
    "    ticks = [-1, 1]; plt.xticks(ticks); plt.yticks(ticks)\n",
    "\n",
    "    return mdict"
   ]
  },
  {
   "cell_type": "markdown",
   "id": "469c780e-da86-4362-a655-55667352e89d",
   "metadata": {
    "tags": []
   },
   "source": [
    "## Sequence of reduction"
   ]
  },
  {
   "cell_type": "code",
   "execution_count": 3,
   "id": "944559eb-e992-4de7-a815-415020f90742",
   "metadata": {
    "tags": []
   },
   "outputs": [
    {
     "data": {
      "text/latex": [
       "$\\displaystyle \\left[\\begin{matrix}0 & 1 & 2 & 3 & 4 & 5 & 6\\\\6 & 0 & 5 & 2 & 4 & 3 & 1\\end{matrix}\\right]$"
      ],
      "text/plain": [
       "⎡0  1  2  3  4  5  6⎤\n",
       "⎢                   ⎥\n",
       "⎣6  0  5  2  4  3  1⎦"
      ]
     },
     "metadata": {},
     "output_type": "display_data"
    },
    {
     "name": "stdout",
     "output_type": "stream",
     "text": [
      "[[6, 1, 0], [5, 3, 2], [4]], 3\n",
      "+---+---+---+---+---+---+---+\n",
      "|   |   |   |   |   |   | 1 |\n",
      "+---+---+---+---+---+---+---+\n",
      "| 1 |   |   |   |   |   |   |\n",
      "+---+---+---+---+---+---+---+\n",
      "|   |   |   |   |   | 1 |   |\n",
      "+---+---+---+---+---+---+---+\n",
      "|   |   | 1 |   |   |   |   |\n",
      "+---+---+---+---+---+---+---+\n",
      "|   |   |   |   | 1 |   |   |\n",
      "+---+---+---+---+---+---+---+\n",
      "|   |   |   | 1 |   |   |   |\n",
      "+---+---+---+---+---+---+---+\n",
      "|   | 1 |   |   |   |   |   |\n",
      "+---+---+---+---+---+---+---+\n"
     ]
    }
   ],
   "source": [
    "N = 7 #random.randint(2,20)\n",
    "img = list(range(N)); random.shuffle(img)\n",
    "\n",
    "prm = pm.Permutation(img)\n",
    "display(sympy.Matrix(prm.two_line()))  # , prm.image, prm.size)\n",
    "cd = pm.cycle_decomp(prm); print(\"{}, {}\".format(cd, len(cd)))\n",
    "\n",
    "G = Grid(prm)\n",
    "G.show()"
   ]
  },
  {
   "cell_type": "code",
   "execution_count": 4,
   "id": "c666477e-b59d-4388-8d5b-c0d43262aace",
   "metadata": {
    "tags": []
   },
   "outputs": [
    {
     "name": "stdout",
     "output_type": "stream",
     "text": [
      "\n",
      " G = \n",
      "\n",
      "+---+---+---+---+---+---+---+\n",
      "|   |   |   |   |   |   | 1 |\n",
      "+---+---+---+---+---+---+---+\n",
      "| 1 |   |   |   |   |   |   |\n",
      "+---+---+---+---+---+---+---+\n",
      "|   |   |   |   |   | 1 |   |\n",
      "+---+---+---+---+---+---+---+\n",
      "|   |   | 1 |   |   |   |   |\n",
      "+---+---+---+---+---+---+---+\n",
      "|   |   |   |   | 1 |   |   |\n",
      "+---+---+---+---+---+---+---+\n",
      "|   |   |   | 1 |   |   |   |\n",
      "+---+---+---+---+---+---+---+\n",
      "|   | 1 |   |   |   |   |   |\n",
      "+---+---+---+---+---+---+---+\n"
     ]
    },
    {
     "data": {
      "image/png": "[encoded data removed]",
      "text/latex": [
       "$\\displaystyle - \\left(t - 1\\right)^{3} \\left(t^{2} + t + 1\\right)^{2}$"
      ],
      "text/plain": [
       "                      2\n",
       "        3 ⎛ 2        ⎞ \n",
       "-(t - 1) ⋅⎝t  + t + 1⎠ "
      ]
     },
     "metadata": {},
     "output_type": "display_data"
    },
    {
     "name": "stdout",
     "output_type": "stream",
     "text": [
      "\n",
      " ↓ TL  [0] \n",
      "\n",
      "+---+---+---+---+---+---+\n",
      "|   |   |   |   |   | 1 |\n",
      "+---+---+---+---+---+---+\n",
      "|   |   | 1 |   |   |   |\n",
      "+---+---+---+---+---+---+\n",
      "|   |   |   |   | 1 |   |\n",
      "+---+---+---+---+---+---+\n",
      "|   |   |   | 1 |   |   |\n",
      "+---+---+---+---+---+---+\n",
      "|   | 1 |   |   |   |   |\n",
      "+---+---+---+---+---+---+\n",
      "| 1 |   |   |   |   |   |\n",
      "+---+---+---+---+---+---+\n"
     ]
    },
    {
     "data": {
      "image/png": "[encoded data removed]",
      "text/latex": [
       "$\\displaystyle - \\left(t - 1\\right)^{3} \\left(t + 1\\right) \\left(t^{2} + t + 1\\right)$"
      ],
      "text/plain": [
       "        3         ⎛ 2        ⎞\n",
       "-(t - 1) ⋅(t + 1)⋅⎝t  + t + 1⎠"
      ]
     },
     "metadata": {},
     "output_type": "display_data"
    },
    {
     "name": "stdout",
     "output_type": "stream",
     "text": [
      "\n",
      " ↓ TL  [0] \n",
      "\n",
      "+---+---+---+---+---+\n",
      "|   |   |   | 1 |   |\n",
      "+---+---+---+---+---+\n",
      "| 1 |   |   |   |   |\n",
      "+---+---+---+---+---+\n",
      "|   |   | 1 |   |   |\n",
      "+---+---+---+---+---+\n",
      "|   | 1 |   |   |   |\n",
      "+---+---+---+---+---+\n",
      "|   |   |   |   | 1 |\n",
      "+---+---+---+---+---+\n"
     ]
    },
    {
     "data": {
      "image/png": "[encoded data removed]",
      "text/latex": [
       "$\\displaystyle - \\left(t - 1\\right)^{3} \\left(t^{2} + t + 1\\right)$"
      ],
      "text/plain": [
       "        3 ⎛ 2        ⎞\n",
       "-(t - 1) ⋅⎝t  + t + 1⎠"
      ]
     },
     "metadata": {},
     "output_type": "display_data"
    },
    {
     "name": "stdout",
     "output_type": "stream",
     "text": [
      "\n",
      " ↓ TL  [0] \n",
      "\n",
      "+---+---+---+---+\n",
      "|   |   | 1 |   |\n",
      "+---+---+---+---+\n",
      "|   | 1 |   |   |\n",
      "+---+---+---+---+\n",
      "| 1 |   |   |   |\n",
      "+---+---+---+---+\n",
      "|   |   |   | 1 |\n",
      "+---+---+---+---+\n"
     ]
    },
    {
     "data": {
      "image/png": "[encoded data removed]",
      "text/latex": [
       "$\\displaystyle - \\left(t - 1\\right)^{3} \\left(t + 1\\right)$"
      ],
      "text/plain": [
       "        3        \n",
       "-(t - 1) ⋅(t + 1)"
      ]
     },
     "metadata": {},
     "output_type": "display_data"
    },
    {
     "name": "stdout",
     "output_type": "stream",
     "text": [
      "\n",
      " ↓ TL  [0] \n",
      "\n",
      "+---+\n",
      "| 3 |\n",
      "+---+\n"
     ]
    },
    {
     "data": {
      "image/png": "[encoded data removed]",
      "text/latex": [
       "$\\displaystyle - \\left(t - 1\\right)^{3}$"
      ],
      "text/plain": [
       "        3\n",
       "-(t - 1) "
      ]
     },
     "metadata": {},
     "output_type": "display_data"
    },
    {
     "name": "stdout",
     "output_type": "stream",
     "text": [
      "\n",
      " |G| = 3\n"
     ]
    }
   ],
   "source": [
    "descending_seq = G.get_reduction()\n",
    "\n",
    "total = 0\n",
    "for d in descending_seq:\n",
    "    \n",
    "    if d[\"direction\"] == None:\n",
    "        mstr = \"G =\" \n",
    "    else:\n",
    "        total += d[\"num\"]\n",
    "        mstr = \"↓ {}  [{}]\".format(d[\"direction\"], total)\n",
    "    print(\"\\n {} \\n\".format(mstr))\n",
    "    G = d[\"grid\"]\n",
    "    P = G.permutation.matrix()\n",
    "    I = sympy.eye(len(P))\n",
    "    D = (I-t*P).det()\n",
    "    #---\n",
    "    G.show(); display(D.factor())\n",
    "#---    \n",
    "print(\"\\n |G| = {}\".format(total+descending_seq[-1][\"grid\"].matrix[0][0]))"
   ]
  },
  {
   "cell_type": "code",
   "execution_count": null,
   "id": "9812f418-1f22-44a0-8f41-cb48f11185b1",
   "metadata": {
    "tags": []
   },
   "outputs": [],
   "source": [
    "A = sympy.Matrix(prm.matrix()); display(A)\n",
    "evs = A.eigenvals()\n",
    "print(evs) #, A.diagonalize()[1])\n",
    "    \n",
    "zplane(evs)\n",
    "\n",
    "I = sympy.eye(N)\n",
    "\n",
    "dt = (I-t*A).det()\n",
    "display(dt, dt.factor())"
   ]
  },
  {
   "cell_type": "code",
   "execution_count": null,
   "id": "ec32d49c-1df1-4c67-94a7-46cc9f5e50d6",
   "metadata": {},
   "outputs": [],
   "source": [
    "B = A.copy()\n",
    "s = sympy.shape(B)[0]\n",
    "\n",
    "for row, col in itertools.product(range(s),range(s)):\n",
    "    entry = B[row,col]\n",
    "    if entry == 1:\n",
    "        B[row,col] *= (-1)**random.randint(0,1)\n",
    "display(B)#, B.eigenvals()) #, B.diagonalize()[1])\n",
    "evs = B.eigenvals(); print(evs)\n",
    "zplane(evs)\n",
    "\n",
    "dtt = (I-t*B).det(); display(dtt, dtt.factor())"
   ]
  },
  {
   "cell_type": "markdown",
   "id": "03fc4743-ae85-440d-aabc-acddb25a02e8",
   "metadata": {},
   "source": [
    "# scratch 01"
   ]
  },
  {
   "cell_type": "code",
   "execution_count": null,
   "id": "d963eac3-573e-4624-aa23-1b0e09bad95e",
   "metadata": {},
   "outputs": [],
   "source": [
    "C = sympy.Matrix([[0,1],[-1,0]])\n",
    "display(C, C.eigenvals())\n",
    "    \n",
    "D = (sympy.eye(2)-t*C).det()\n",
    "display(D, D.factor())"
   ]
  },
  {
   "cell_type": "code",
   "execution_count": null,
   "id": "feaea617-aa79-4073-a33a-195df69e2929",
   "metadata": {},
   "outputs": [],
   "source": [
    "C = sympy.Matrix([[0,1,0],[0,0,-1],[-1,0,0]])\n",
    "cs = sympy.shape(C)[0]\n",
    "display(C, C.eigenvals())\n",
    "    \n",
    "D = (sympy.eye(cs)-t*C).det()\n",
    "display(D, D.factor())"
   ]
  },
  {
   "cell_type": "code",
   "execution_count": null,
   "id": "7cf65e94-7082-406c-a308-5b9a18f29cbf",
   "metadata": {},
   "outputs": [],
   "source": [
    "C = sympy.Matrix([[0,0,1],[1,0,0],[0,-1,0]])\n",
    "cs = sympy.shape(C)[0]\n",
    "display(C, C.eigenvals())\n",
    "    \n",
    "D = (sympy.eye(cs)-t*C).det()\n",
    "display(D, D.factor())"
   ]
  },
  {
   "cell_type": "code",
   "execution_count": null,
   "id": "45941d96-c591-4172-bac5-d693b19ec089",
   "metadata": {},
   "outputs": [],
   "source": [
    "C = sympy.Matrix([[0,1],[1,0]])\n",
    "display(C, C.eigenvals())\n",
    "    \n",
    "D = (sympy.eye(2)-t*C).det()\n",
    "display(D, D.factor())"
   ]
  },
  {
   "cell_type": "code",
   "execution_count": null,
   "id": "e37e9608-b6b0-4b20-81a6-87ce3a2691b6",
   "metadata": {},
   "outputs": [],
   "source": [
    "C = sympy.Matrix([[0,1,0],[0,0,1],[1,0,0]])\n",
    "cs = sympy.shape(C)[0]\n",
    "display(C, C.eigenvals())\n",
    "    \n",
    "D = (sympy.eye(cs)-t*C).det()\n",
    "display(D, D.factor())"
   ]
  },
  {
   "cell_type": "code",
   "execution_count": null,
   "id": "bbcbbdbc-290b-47ed-a355-6fc457c39f22",
   "metadata": {},
   "outputs": [],
   "source": [
    "np.matrix([[0,1,0],[0,0,1],[1,0,0]])\n",
    "signlist = [1,-1,-1]\n",
    "D = sympy.diag(*signlist)\n",
    "display(D*C)\n",
    "print((D*C).type())"
   ]
  },
  {
   "cell_type": "code",
   "execution_count": null,
   "id": "88739c0f-ad6f-4f62-8b1f-1afec9b9d615",
   "metadata": {},
   "outputs": [],
   "source": [
    "C = sympy.Matrix([[0,0,1],[1,0,0],[0,-1,0]])\n",
    "cs = sympy.shape(C)[0]\n",
    "display(C, C.eigenvals())\n",
    "    \n",
    "D = (sympy.eye(cs)-t*C).det()\n",
    "display(D, D.factor())"
   ]
  },
  {
   "cell_type": "code",
   "execution_count": null,
   "id": "17dfc76c-510f-4ac2-90d2-9f7f0e4081a3",
   "metadata": {},
   "outputs": [],
   "source": [
    "C = sympy.Matrix([[0,0,1],[0,1,0],[-1,0,0]])\n",
    "cs = sympy.shape(C)[0]\n",
    "display(C, C.eigenvals())\n",
    "    \n",
    "D = (sympy.eye(cs)-t*C).det()\n",
    "display(D, D.factor())"
   ]
  },
  {
   "cell_type": "code",
   "execution_count": null,
   "id": "bc821488-de62-495a-b3a0-a5c70c083b0a",
   "metadata": {},
   "outputs": [],
   "source": [
    "C = sympy.Matrix([[1,0],[0,-1]])\n",
    "cs = sympy.shape(C)[0]\n",
    "display(C, C.eigenvals())\n",
    "    \n",
    "D = (sympy.eye(cs)-t*C).det()\n",
    "display(D, D.factor())"
   ]
  },
  {
   "cell_type": "code",
   "execution_count": null,
   "id": "711cdb84-0ab6-41f1-8006-ca55cbe1bcd8",
   "metadata": {},
   "outputs": [],
   "source": [
    "C = sympy.Matrix([[0,0,1,0,0],[0,0,0,0,1],[0,0,0,1,0],[1,0,0,0,0],[0,1,0,0,0]])\n",
    "cs = sympy.shape(C)[0]\n",
    "display(C, C.eigenvals())\n",
    "    \n",
    "D = (sympy.eye(cs)-t*C).det()\n",
    "display(D, D.factor())"
   ]
  },
  {
   "cell_type": "code",
   "execution_count": null,
   "id": "ab146043-f6bb-4651-bc14-e721a06d4225",
   "metadata": {},
   "outputs": [],
   "source": [
    "C = sympy.Matrix([[0,0,0,1],[0,0,1,0],[0,1,0,0],[1,0,0,0]])\n",
    "cs = sympy.shape(C)[0]\n",
    "display(C, C.eigenvals())\n",
    "    \n",
    "D = (sympy.eye(cs)-t*C).det()\n",
    "display(D, D.factor())"
   ]
  },
  {
   "cell_type": "code",
   "execution_count": null,
   "id": "84c9db70-aa35-41ec-9bcd-8bc67ea571dc",
   "metadata": {},
   "outputs": [],
   "source": [
    "C = sympy.Matrix([[1,0,0],[0,-1,0],[0,0,1]])\n",
    "cs = sympy.shape(C)[0]\n",
    "display(C, C.eigenvals())\n",
    "    \n",
    "D = (sympy.eye(cs)-t*C).det()\n",
    "display(D, D.factor())"
   ]
  },
  {
   "cell_type": "code",
   "execution_count": null,
   "id": "8a6f1bbd-4d51-4700-8fba-64c247daf777",
   "metadata": {},
   "outputs": [],
   "source": [
    "C = sympy.Matrix([[1,0,0],[0,1,0],[0,0,-1]])\n",
    "cs = sympy.shape(C)[0]\n",
    "display(C, C.eigenvals())\n",
    "    \n",
    "D = (sympy.eye(cs)-t*C).det()\n",
    "display(D, D.factor())"
   ]
  },
  {
   "cell_type": "code",
   "execution_count": null,
   "id": "12745ce5-1062-4ee9-b6ca-37b19f0dfc23",
   "metadata": {},
   "outputs": [],
   "source": [
    "C = sympy.Matrix([[1,0,0,0,0],[0,-1,0,0,0],[0,0,-1,0,0],[0,0,0,1,0],[0,0,0,0,-1]])\n",
    "cs = sympy.shape(C)[0]\n",
    "display(C, C.eigenvals())\n",
    "    \n",
    "D = (sympy.eye(cs)-t*C).det()\n",
    "display(D, D.factor())"
   ]
  },
  {
   "cell_type": "code",
   "execution_count": null,
   "id": "52300016-8e34-4f7f-8f51-7d3815912455",
   "metadata": {},
   "outputs": [],
   "source": [
    "C = sympy.Matrix([[0,0,1,0,0,0],[0,1,0,0,0,0],[-1,0,0,0,0,0],[0,0,0,-1,0,0],[0,0,0,0,1,0],[0,0,0,0,0,-1]])\n",
    "cs = sympy.shape(C)[0]\n",
    "display(C, C.eigenvals())\n",
    "    \n",
    "D = (sympy.eye(cs)-t*C).det()\n",
    "display(D, D.factor())"
   ]
  },
  {
   "cell_type": "code",
   "execution_count": null,
   "id": "29f27d87-062e-4455-90e1-d806fd625854",
   "metadata": {},
   "outputs": [],
   "source": [
    "C = sympy.Matrix([[0,0,0,1,0],[0,0,0,0,1],[0,0,-1,0,0],[1,0,0,0,0],[0,1,0,0,0]])\n",
    "cs = sympy.shape(C)[0]\n",
    "display(C, C.eigenvals())\n",
    "    \n",
    "D = (sympy.eye(cs)-t*C).det()\n",
    "display(D, D.factor())"
   ]
  },
  {
   "cell_type": "code",
   "execution_count": null,
   "id": "29721e58-432d-4f02-8387-24ebc09337a4",
   "metadata": {},
   "outputs": [],
   "source": [
    "C = sympy.Matrix([[0,0,0,1,0],[0,0,0,0,1],[1,0,0,0,0],[0,-1,0,0,0],[0,0,-1,0,0]])\n",
    "cs = sympy.shape(C)[0]\n",
    "display(C, C.eigenvals())\n",
    "    \n",
    "D = (sympy.eye(cs)-t*C).det()\n",
    "display(D, D.factor())"
   ]
  },
  {
   "cell_type": "code",
   "execution_count": null,
   "id": "ddfbc345-2d36-4725-8bc6-4901c1b8ffef",
   "metadata": {},
   "outputs": [],
   "source": [
    "C = sympy.Matrix([[0,-1,0],[0,0,-1],[1,0,0]])\n",
    "cs = sympy.shape(C)[0]\n",
    "display(C, C.eigenvals())\n",
    "    \n",
    "D = (sympy.eye(cs)-t*C).det()\n",
    "display(D, D.factor())"
   ]
  },
  {
   "cell_type": "code",
   "execution_count": null,
   "id": "784bf584-5397-4b65-af5b-db99035b19a6",
   "metadata": {},
   "outputs": [],
   "source": [
    "C = sympy.Matrix([[0,-1,0,0],[0,0,-1,0],[0,0,0,-1],[1,0,0,0]])\n",
    "cs = sympy.shape(C)[0]\n",
    "display(C, C.eigenvals())\n",
    "    \n",
    "D = (sympy.eye(cs)-t*C).det()\n",
    "display(D, D.factor())"
   ]
  },
  {
   "cell_type": "code",
   "execution_count": null,
   "id": "dbe46f16-19e3-48f7-84b6-bc37f2ff4d31",
   "metadata": {},
   "outputs": [],
   "source": [
    "C = sympy.Matrix([[0,0,0,0,-1,0,0],[0,0,0,0,0,-1,0],[0,0,0,0,0,0,-1],[1,0,0,0,0,0,0],[0,1,0,0,0,0,0],[0,0,1,0,0,0,0],[0,0,0,1,0,0,0]])\n",
    "cs = sympy.shape(C)[0]\n",
    "display(C, C.eigenvals())\n",
    "    \n",
    "D = (sympy.eye(cs)-t*C).det()\n",
    "display(D, D.factor())"
   ]
  },
  {
   "cell_type": "code",
   "execution_count": null,
   "id": "531c11b6-1b1b-4196-9d35-234edb62fe4b",
   "metadata": {},
   "outputs": [],
   "source": [
    "C = sympy.Matrix([[0,0,0,0,-1,0],[0,0,0,0,0,-1],[0,0,0,-1,0,0],[1,0,0,0,0,0],[0,1,0,0,0,0],[0,0,1,0,0,0]])\n",
    "cs = sympy.shape(C)[0]\n",
    "display(C, C.eigenvals())\n",
    "    \n",
    "D = (sympy.eye(cs)-t*C).det()\n",
    "display(D, D.factor())"
   ]
  },
  {
   "cell_type": "code",
   "execution_count": null,
   "id": "5f55d855-16d0-4d35-8abb-fc583237c8ef",
   "metadata": {},
   "outputs": [],
   "source": [
    "C = sympy.Matrix([[0,-1,0],[0,0,-1],[-1,0,0]])\n",
    "cs = sympy.shape(C)[0]\n",
    "display(C, C.eigenvals())\n",
    "    \n",
    "D = (sympy.eye(cs)-t*C).det()\n",
    "display(D, D.factor())"
   ]
  },
  {
   "cell_type": "code",
   "execution_count": null,
   "id": "c4b5cd0a-a7e9-4fd9-b446-50254a4d9e94",
   "metadata": {},
   "outputs": [],
   "source": [
    "C = sympy.Matrix([[0,-1,0,0],[0,0,-1,0],[0,0,0,-1],[1,0,0,0]])\n",
    "cs = sympy.shape(C)[0]\n",
    "display(C, C.eigenvals())\n",
    "    \n",
    "D = (sympy.eye(cs)-t*C).det()\n",
    "display(D, D.factor())"
   ]
  },
  {
   "cell_type": "markdown",
   "id": "23fc6381-af3d-4134-80f2-e9571e7ee892",
   "metadata": {},
   "source": [
    "# scratch 02"
   ]
  },
  {
   "cell_type": "code",
   "execution_count": null,
   "id": "5df66878-5765-4cab-a136-91fe0ad12329",
   "metadata": {},
   "outputs": [],
   "source": [
    "def reduce_nagatively(mtx):\n",
    "    size = len(mtx)\n",
    "    for row in range(size-1):\n",
    "        col = np.where(mtx[row] != 0)[0][0]\n",
    "        if not col == 0:\n",
    "            cc_num = mtx[row][col]\n",
    "            ld_num = mtx[row+1][col-1]\n",
    "            if (cc_num <= 1 and ld_num <= 1 and cc_num*ld_num !=0):\n",
    "                mtx[row][col] = (abs(cc_num) + abs(ld_num))*(-1)\n",
    "                mtx = np.delete(mtx, row + 1, 0)\n",
    "                mtx = np.delete(mtx, col - 1, 1)\n",
    "                break\n",
    "    return mtx\n",
    "\n",
    "def complete_reduce(matrix):\n",
    "    mtx = matrix.copy()\n",
    "    prev_size = len(mtx)\n",
    "    while True:\n",
    "        mtx = reduce_nagatively(mtx)\n",
    "        if len(mtx) < prev_size:\n",
    "            prev_size = len(mtx)\n",
    "        else:\n",
    "            break\n",
    "    return mtx"
   ]
  },
  {
   "cell_type": "code",
   "execution_count": null,
   "id": "6553f8e3-abb9-4883-bfd4-5a40a52fa681",
   "metadata": {
    "tags": []
   },
   "outputs": [],
   "source": [
    "N = 7 #random.randint(2,20)\n",
    "img = list(range(N)); random.shuffle(img)\n",
    "\n",
    "prm = pm.Permutation(img)\n",
    "display(sympy.Matrix(prm.two_line()))  # , prm.image, prm.size)\n",
    "cd = pm.cycle_decomp(prm); print(\"{}, {}\".format(cd, len(cd)))\n",
    "\n",
    "G = Grid(prm)\n",
    "G.show()"
   ]
  },
  {
   "cell_type": "code",
   "execution_count": null,
   "id": "3f3e01e3-1e92-4dc3-9d27-1ee052283c74",
   "metadata": {},
   "outputs": [],
   "source": [
    "P = sympy.Matrix(prm.matrix()); display(P, P.eigenvals())\n",
    "size = sympy.shape(P)[0]\n",
    "D = (sympy.eye(size)-t*P).det(); display(D, D.factor())\n",
    "\n",
    "display(P.jordan_form()[1], size - (sympy.eye(size)-P).rank())\n",
    "PP = (sympy.eye(size)-P)**2\n",
    "display(PP, PP.rank())"
   ]
  },
  {
   "cell_type": "code",
   "execution_count": null,
   "id": "2fde8bd6-7ef6-4bc5-a6bb-7567d48281f8",
   "metadata": {
    "tags": []
   },
   "outputs": [],
   "source": [
    "Q = sympy.Matrix(complete_reduce(G.matrix)); display(Q, Q.eigenvals())\n",
    "E = (sympy.eye(sympy.shape(Q)[0])-t*Q).det(); display(E, E.factor())"
   ]
  },
  {
   "cell_type": "code",
   "execution_count": null,
   "id": "5a4563ea-b9f3-4163-93c5-90d2bc574d05",
   "metadata": {},
   "outputs": [],
   "source": [
    "rows = []\n",
    "for i in range(sympy.shape(Q)[0]):\n",
    "    rows.append(list(map(lambda x: 1 if not x == 0 else x, Q.row(i))))\n",
    "\n",
    "S = sympy.Matrix(rows); display(S, S.eigenvals())\n",
    "K = (sympy.eye(sympy.shape(S)[0])-t*S).det(); display(K, K.factor())"
   ]
  },
  {
   "cell_type": "code",
   "execution_count": null,
   "id": "1df9bf77-c7ca-464e-ac0b-ba944aee6c9f",
   "metadata": {},
   "outputs": [],
   "source": [
    "rows = []\n",
    "for i in range(sympy.shape(Q)[0]):\n",
    "    rows.append(list(map(lambda x: x/abs(x) if not x == 0 else x, Q.row(i))))\n",
    "\n",
    "R = sympy.Matrix(rows); display(R, R.eigenvals())\n",
    "F = (sympy.eye(sympy.shape(R)[0])-t*R).det(); display(F, F.factor())"
   ]
  },
  {
   "cell_type": "markdown",
   "id": "7b5701c4-9a5b-4ea0-ad2b-430fe568a3be",
   "metadata": {
    "tags": []
   },
   "source": [
    "# scratch 03"
   ]
  },
  {
   "cell_type": "code",
   "execution_count": null,
   "id": "34618c3f-aae9-4203-8c64-d8dcfd119d49",
   "metadata": {},
   "outputs": [],
   "source": [
    "def get_perm(monomial_matrix):\n",
    "    d, p = monomial_matrix['diagonal'], monomial_matrix['permutation']\n",
    "    size, pinv = sum([abs(v) for v in d]), p.inverse()\n",
    "    \n",
    "    I, A = sympy.eye(size), sympy.zeros(0,size)\n",
    "    for k in range(len(d)):\n",
    "        x = abs(d[k])\n",
    "        sign = 1 if d[k]==x else -1\n",
    "        prev = [abs(d[pinv.act(j)]) for j in range(p.act(k))]\n",
    "        abov = [abs(d[i]) for i in range(k)]\n",
    "        sp, sa = sum(prev), sum(abov)\n",
    "    \n",
    "        for i in range(x):\n",
    "            start = sp if sign == 1 else sp+x-1\n",
    "            A = A.row_insert(sa+i, I.row(start+sign*i))\n",
    "    #-----\n",
    "    img = [np.where(row > 0)[0][0] for row in np.array(A)]\n",
    "    return pm.Permutation(img)"
   ]
  },
  {
   "cell_type": "code",
   "execution_count": null,
   "id": "007b30ed-3d35-4ca3-abc4-f932419ef6f9",
   "metadata": {},
   "outputs": [],
   "source": [
    "my_img = [2,0,3,1]\n",
    "my_perm = pm.Permutation(my_img)\n",
    "my_mm = {'diagonal': [-5,3,-2,1], 'permutation': my_perm}"
   ]
  },
  {
   "cell_type": "code",
   "execution_count": null,
   "id": "5c4398d2-babb-4979-bb57-67f629e953fc",
   "metadata": {
    "tags": []
   },
   "outputs": [],
   "source": [
    "my_perm = get_perm(my_mm)\n",
    "display(my_perm)\n",
    "print(len(pm.cycle_decomp(my_perm)))"
   ]
  },
  {
   "cell_type": "code",
   "execution_count": null,
   "id": "f2d30569-a6ed-418b-8160-ca36580b347a",
   "metadata": {
    "tags": []
   },
   "outputs": [],
   "source": [
    "a,b,c,r = 5, 3, 2, 1\n",
    "\n",
    "mymm = {'diagonal': [-a,b,c,-a,-(a-r),c,b,-(a-r),-2*r], 'permutation': pm.Permutation([8,2,1,5,3,7,6,0,4])}\n",
    "gg = Grid(get_perm(mymm))\n",
    "gg.show()"
   ]
  },
  {
   "cell_type": "code",
   "execution_count": null,
   "id": "1d96a530-c223-4820-a369-6d268513b89d",
   "metadata": {
    "tags": []
   },
   "outputs": [],
   "source": [
    "for count in tqdm(range(100)):\n",
    "    N = 8\n",
    "    c,b = random.randint(1,N), random.randint(1,N)\n",
    "    r = c + random.randint(1,int(N/2))\n",
    "    a = r + random.randint(1,int(N/2))\n",
    "    if (a-r<0 or r-c<0): raise Exception(\"a<r or r<c\") \n",
    "    mm1 = {'diagonal': [-a,b,c,-a,-(a-r),c,b,-(a-r),-2*r], 'permutation': pm.Permutation([8,2,1,5,3,7,6,0,4])}\n",
    "    #-----\n",
    "    X, Y = b%(r-c), (a-r)%(2*r)\n",
    "    Xi, Yi = (r-c)-X, (2*r)-Y\n",
    "    mm2 = {'diagonal': [-Xi,-X,-c,-Xi,-X,-c,Y,-Y,-Yi], 'permutation': pm.Permutation([6,7,8,3,4,5,0,1,2])}\n",
    "    #-----\n",
    "    nums = []\n",
    "    for mm in [mm1,mm2]:\n",
    "        nums.append(len(pm.cycle_decomp(get_perm(mm))))\n",
    "    #-----\n",
    "\n",
    "    # if count%10 == 0: print(int(count/10))\n",
    "    if not nums[0] == nums[1]: print(\"nums are different!! {},(a,b,c,r)={}\".format(nums,[a,b,c,r]))"
   ]
  },
  {
   "cell_type": "code",
   "execution_count": null,
   "id": "c5c3060d-22af-4490-99af-019caf11a396",
   "metadata": {},
   "outputs": [],
   "source": []
  }
 ],
 "metadata": {
  "kernelspec": {
   "display_name": "Python 3",
   "language": "python",
   "name": "python3"
  },
  "language_info": {
   "codemirror_mode": {
    "name": "ipython",
    "version": 3
   },
   "file_extension": ".py",
   "mimetype": "text/x-python",
   "name": "python",
   "nbconvert_exporter": "python",
   "pygments_lexer": "ipython3",
   "version": "3.6.8"
  }
 },
 "nbformat": 4,
 "nbformat_minor": 5
}
