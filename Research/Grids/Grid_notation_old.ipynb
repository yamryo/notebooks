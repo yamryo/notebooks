{
 "cells": [
  {
   "cell_type": "markdown",
   "id": "14d1259d-831e-43cf-92e1-533d80bf61e8",
   "metadata": {},
   "source": [
    "# Grid notation of permutations (the previous version)"
   ]
  },
  {
   "cell_type": "markdown",
   "id": "fede5985-2813-433b-91a3-5b77dcef6e4e",
   "metadata": {},
   "source": [
    "## Libraries"
   ]
  },
  {
   "cell_type": "code",
   "execution_count": 1,
   "id": "38837ea6-e052-46a8-95a6-873664edf383",
   "metadata": {
    "tags": []
   },
   "outputs": [],
   "source": [
    "import random\n",
    "\n",
    "import numpy as np\n",
    "import Permutations as pm\n",
    "import sympy\n",
    "\n",
    "sympy.init_printing()\n",
    "\n",
    "# import plotly.graph_objects as go\n",
    "\n",
    "# ----- Debugger -----\n",
    "# from IPython.core.debugger import Pdb; Pdb().set_trace()\n",
    "# --------------------"
   ]
  },
  {
   "cell_type": "markdown",
   "id": "c11724da-417e-46cc-acbc-e13407d357d9",
   "metadata": {
    "jp-MarkdownHeadingCollapsed": true,
    "tags": []
   },
   "source": [
    "## Functions"
   ]
  },
  {
   "cell_type": "code",
   "execution_count": null,
   "id": "c5034312-4440-4275-997c-08b5c68b3fc9",
   "metadata": {
    "tags": []
   },
   "outputs": [],
   "source": [
    "def reduce(pm):\n",
    "    mtx = pm.copy()\n",
    "    size = len(mtx)\n",
    "    for row in range(len(mtx)-1):\n",
    "        col = np.where(mtx[row] > 0)[0][0]\n",
    "        if (row < size-1) and (col < size-1):\n",
    "            rb_num = mtx[row+1][col+1]\n",
    "            if rb_num > 0:\n",
    "                mtx[row][col] += rb_num\n",
    "                mtx = np.delete(mtx, row + 1, 0)\n",
    "                mtx = np.delete(mtx, col + 1, 1)\n",
    "                break\n",
    "    return mtx"
   ]
  },
  {
   "cell_type": "code",
   "execution_count": null,
   "id": "3ea664c5-a741-47c3-bda5-950e43c559e5",
   "metadata": {},
   "outputs": [],
   "source": [
    "def get_grid(pm):\n",
    "    mtx = pm.copy()\n",
    "    prev_size = len(mtx)\n",
    "    while True:\n",
    "        mtx = reduce(mtx)\n",
    "        if len(mtx) < prev_size:\n",
    "            prev_size = len(mtx)\n",
    "        else:\n",
    "            break\n",
    "    return mtx"
   ]
  },
  {
   "cell_type": "code",
   "execution_count": null,
   "id": "2a77faa2-ecb2-40a5-8991-876ff1f14ade",
   "metadata": {},
   "outputs": [],
   "source": [
    "def show(grid):\n",
    "    hline, vline = \"+---\" * len(grid) + \"+\", \"|   \" * len(grid) + \"|\"\n",
    "    for row in grid:\n",
    "        idx = np.where(row > 0)[0][0]\n",
    "        print(\n",
    "            hline\n",
    "            + \"\\n\"\n",
    "            + vline[: 4 * idx + 2]\n",
    "            + \"{}\".format(row[idx])\n",
    "            + vline[4 * (idx + 1) - 1 :]\n",
    "        )\n",
    "    else:\n",
    "        print(hline)"
   ]
  },
  {
   "cell_type": "code",
   "execution_count": null,
   "id": "91906e4e-cd8e-4b59-91e2-5c829645f355",
   "metadata": {},
   "outputs": [],
   "source": [
    "def transform(grid):\n",
    "    gd = grid.copy()\n",
    "    if gd[0][0] > 0:\n",
    "        num = gd[0][0]\n",
    "        gd = np.delete(gd, 0, 0)\n",
    "        gd = np.delete(gd, 0, 1)\n",
    "        # print(\"Decompose into {} + the remaining grid\".format(num))\n",
    "        gd = {\"num\": num, \"grid\": gd}\n",
    "    else:\n",
    "        a_col = np.where(gd[0] > 0)[0][0]\n",
    "        a = gd[0][a_col]\n",
    "        fc = np.array([r[0] for r in gd])\n",
    "        b_row = np.where(fc > 0)[0][0]\n",
    "        b = fc[b_row]\n",
    "        if a > b:\n",
    "            gd[0][a_col] = a - b\n",
    "            gd = np.insert(gd, a_col, fc, 1)\n",
    "            gd = np.delete(gd, 0, 1)\n",
    "        elif a < b:\n",
    "            gd[b_row][0] = b - a\n",
    "            gd = np.insert(gd, b_row, gd[0], 0)\n",
    "            gd = np.delete(gd, 0, 0)\n",
    "        else:  # a == b\n",
    "            gd[b_row][a_col] = a\n",
    "            gd = np.delete(gd, 0, 0)\n",
    "            gd = np.delete(gd, 0, 1)\n",
    "    return gd"
   ]
  },
  {
   "cell_type": "markdown",
   "id": "00345d09-de52-4fdf-8edd-066e6075ecb5",
   "metadata": {},
   "source": [
    "## Grid class"
   ]
  },
  {
   "cell_type": "code",
   "execution_count": 21,
   "id": "9663d59c-283f-4cf4-a90c-87ec4dbbb885",
   "metadata": {},
   "outputs": [],
   "source": [
    "# import random\n",
    "# import numpy as np\n",
    "# import Permutations as pm\n",
    "\n",
    "class Grid:\n",
    "    '''Grid notation of permutations'''\n",
    "    \n",
    "    def __init__(self, perm=pm.Permutation()):\n",
    "        if not type(perm) is pm.Permutation: raise(TypeError)\n",
    "        #---\n",
    "        self.permutation = perm\n",
    "        self.matrix = self.form_grid(perm.matrix())\n",
    "        self.size = len(self.matrix)\n",
    "#-----\n",
    "    def reduce(self,pm):\n",
    "        mtx = pm.copy()\n",
    "        size = len(mtx)\n",
    "        for row in range(len(mtx)-1):\n",
    "            col = np.where(mtx[row] > 0)[0][0]\n",
    "            if (row < size-1) and (col < size-1):\n",
    "                rb_num = mtx[row+1][col+1]\n",
    "                if rb_num > 0:\n",
    "                    mtx[row][col] += rb_num\n",
    "                    mtx = np.delete(mtx, row + 1, 0)\n",
    "                    mtx = np.delete(mtx, col + 1, 1)\n",
    "                    break\n",
    "        return mtx\n",
    "\n",
    "    def form_grid(self,pm):\n",
    "        mtx = pm.copy()\n",
    "        prev_size = len(mtx)\n",
    "        while True:\n",
    "            mtx = self.reduce(mtx)\n",
    "            if len(mtx) < prev_size:\n",
    "                prev_size = len(mtx)\n",
    "            else:\n",
    "                break\n",
    "        return mtx\n",
    "    \n",
    "    def to_permutation(self,gmtx):\n",
    "        marr = [max(row) for row in gmtx]\n",
    "        img = []\n",
    "        for col in np.transpose(gmtx):\n",
    "            i = np.where(col>0)[0][0]\n",
    "            num = col[i]\n",
    "            s = sum(marr[:i])\n",
    "            img += [s+k for k in range(num)]\n",
    "        return pm.Permutation(img)\n",
    "    \n",
    "    def copy(self):\n",
    "        return type(self)(self.permutation)\n",
    "#-----\n",
    "    def show(self):\n",
    "        hline, vline = \"+---\" * self.size + \"+\", \"|   \" * self.size + \"|\"\n",
    "        for row in self.matrix:\n",
    "            idx = np.where(row > 0)[0][0]\n",
    "            print(\n",
    "                hline\n",
    "                + \"\\n\"\n",
    "                + vline[: 4 * idx + 2]\n",
    "                + \"{}\".format(row[idx])\n",
    "                + vline[4 * (idx + 1) - 1 :]\n",
    "            )\n",
    "        else: print(hline)\n",
    "#-----\n",
    "    def transform(self):\n",
    "        gd = self.matrix.copy()\n",
    "        if gd[0][0] > 0:\n",
    "            num = gd[0][0]\n",
    "            gd = np.delete(np.delete(gd, 0, 0), 0, 1)\n",
    "            # print(\"Decompose into {} + the remaining grid\".format(num))\n",
    "            rtn = {\"num\": num, \"grid\": type(self)(self.to_permutation(gd))}\n",
    "        else:\n",
    "            a_col = np.where(gd[0] > 0)[0][0]\n",
    "            a = gd[0][a_col]\n",
    "            fc = np.array([r[0] for r in gd])\n",
    "            b_row = np.where(fc > 0)[0][0]\n",
    "            b = fc[b_row]\n",
    "            if a > b:\n",
    "                gd[0][a_col] = a - b\n",
    "                gd = np.insert(gd, a_col, fc, 1)\n",
    "                gd = np.delete(gd, 0, 1)\n",
    "            elif a < b:\n",
    "                gd[b_row][0] = b - a\n",
    "                gd = np.insert(gd, b_row, gd[0], 0)\n",
    "                gd = np.delete(gd, 0, 0)\n",
    "            else:  # a == b  ## trans III\n",
    "                gd[b_row][a_col] = a\n",
    "                gd = np.delete(gd, 0, 0)\n",
    "                gd = np.delete(gd, 0, 1)\n",
    "            rtn = type(self)(self.to_permutation(gd))\n",
    "        return rtn"
   ]
  },
  {
   "cell_type": "markdown",
   "id": "469c780e-da86-4362-a655-55667352e89d",
   "metadata": {
    "jp-MarkdownHeadingCollapsed": true,
    "tags": []
   },
   "source": [
    "## Sequence of reduction"
   ]
  },
  {
   "cell_type": "code",
   "execution_count": null,
   "id": "2ca32f5c-2b27-496b-8183-1ab4501f5a17",
   "metadata": {
    "tags": []
   },
   "outputs": [],
   "source": [
    "N = 10\n",
    "img = list(range(N))\n",
    "random.shuffle(img)\n",
    "\n",
    "prm = pm.Permutation(img)\n",
    "display(sympy.Matrix(prm.two_line()))  # , prm.image, prm.size)\n",
    "cd = pm.cycle_decomp(prm)\n",
    "print(\"{}, {}\".format(cd, len(cd)))\n",
    "G = get_grid(prm.matrix())\n",
    "\n",
    "show(G)"
   ]
  },
  {
   "cell_type": "code",
   "execution_count": null,
   "id": "c53e7457-6809-4495-bdfb-57dc4d63567e",
   "metadata": {
    "tags": []
   },
   "outputs": [],
   "source": [
    "grid = G.copy()\n",
    "nums = []\n",
    "\n",
    "while len(grid) > 1:\n",
    "    new = transform(grid)\n",
    "    if type(new) == dict:\n",
    "        nums += [new[\"num\"]]\n",
    "        grid = get_grid(new[\"grid\"])\n",
    "    else:\n",
    "        grid = get_grid(new)\n",
    "    show(grid)\n",
    "    print(\"\\n↓ {}\\n\".format(nums)) if len(grid) > 1 else \"END\"\n",
    "else:\n",
    "    nums += [grid[0][0]]\n",
    "    print(\"list:{}, total:{}\".format(nums, sum(nums)))"
   ]
  },
  {
   "cell_type": "markdown",
   "id": "bad16570-33ee-4e96-ab1f-d59946006383",
   "metadata": {},
   "source": [
    "# Scratch"
   ]
  },
  {
   "cell_type": "code",
   "execution_count": 33,
   "id": "944559eb-e992-4de7-a815-415020f90742",
   "metadata": {
    "tags": []
   },
   "outputs": [
    {
     "data": {
      "image/png": "[encoded data removed]",
      "text/latex": [
       "$\\displaystyle \\left[\\begin{matrix}0 & 1 & 2 & 3 & 4 & 5 & 6 & 7 & 8 & 9\\\\0 & 9 & 4 & 6 & 3 & 5 & 2 & 1 & 7 & 8\\end{matrix}\\right]$"
      ],
      "text/plain": [
       "⎡0  1  2  3  4  5  6  7  8  9⎤\n",
       "⎢                            ⎥\n",
       "⎣0  9  4  6  3  5  2  1  7  8⎦"
      ]
     },
     "metadata": {},
     "output_type": "display_data"
    },
    {
     "name": "stdout",
     "output_type": "stream",
     "text": [
      "[[0], [9, 8, 7, 1], [4, 3, 6, 2], [5]], 4\n",
      "+---+---+---+---+---+---+---+---+---+\n",
      "| 1 |   |   |   |   |   |   |   |   |\n",
      "+---+---+---+---+---+---+---+---+---+\n",
      "|   |   |   |   |   |   |   | 1 |   |\n",
      "+---+---+---+---+---+---+---+---+---+\n",
      "|   |   |   |   |   |   | 1 |   |   |\n",
      "+---+---+---+---+---+---+---+---+---+\n",
      "|   |   |   |   | 1 |   |   |   |   |\n",
      "+---+---+---+---+---+---+---+---+---+\n",
      "|   |   | 1 |   |   |   |   |   |   |\n",
      "+---+---+---+---+---+---+---+---+---+\n",
      "|   |   |   |   |   | 1 |   |   |   |\n",
      "+---+---+---+---+---+---+---+---+---+\n",
      "|   |   |   | 1 |   |   |   |   |   |\n",
      "+---+---+---+---+---+---+---+---+---+\n",
      "|   |   |   |   |   |   |   |   | 2 |\n",
      "+---+---+---+---+---+---+---+---+---+\n",
      "|   | 1 |   |   |   |   |   |   |   |\n",
      "+---+---+---+---+---+---+---+---+---+\n"
     ]
    }
   ],
   "source": [
    "N = 10\n",
    "img = list(range(N))\n",
    "random.shuffle(img)\n",
    "\n",
    "prm = pm.Permutation(img)\n",
    "display(sympy.Matrix(prm.two_line()))  # , prm.image, prm.size)\n",
    "cd = pm.cycle_decomp(prm)\n",
    "print(\"{}, {}\".format(cd, len(cd)))\n",
    "G = Grid(prm)\n",
    "\n",
    "G.show()"
   ]
  },
  {
   "cell_type": "code",
   "execution_count": 34,
   "id": "74faa9e8-020c-48ff-9318-f2036f1079e0",
   "metadata": {
    "tags": []
   },
   "outputs": [
    {
     "name": "stdout",
     "output_type": "stream",
     "text": [
      "+---+---+---+---+---+---+---+---+\n",
      "|   |   |   |   |   |   | 1 |   |\n",
      "+---+---+---+---+---+---+---+---+\n",
      "|   |   |   |   |   | 1 |   |   |\n",
      "+---+---+---+---+---+---+---+---+\n",
      "|   |   |   | 1 |   |   |   |   |\n",
      "+---+---+---+---+---+---+---+---+\n",
      "|   | 1 |   |   |   |   |   |   |\n",
      "+---+---+---+---+---+---+---+---+\n",
      "|   |   |   |   | 1 |   |   |   |\n",
      "+---+---+---+---+---+---+---+---+\n",
      "|   |   | 1 |   |   |   |   |   |\n",
      "+---+---+---+---+---+---+---+---+\n",
      "|   |   |   |   |   |   |   | 2 |\n",
      "+---+---+---+---+---+---+---+---+\n",
      "| 1 |   |   |   |   |   |   |   |\n",
      "+---+---+---+---+---+---+---+---+\n",
      "\n",
      "↓ [1]\n",
      "\n",
      "+---+---+---+---+---+---+---+\n",
      "|   |   |   |   | 1 |   |   |\n",
      "+---+---+---+---+---+---+---+\n",
      "|   |   | 1 |   |   |   |   |\n",
      "+---+---+---+---+---+---+---+\n",
      "| 1 |   |   |   |   |   |   |\n",
      "+---+---+---+---+---+---+---+\n",
      "|   |   |   | 1 |   |   |   |\n",
      "+---+---+---+---+---+---+---+\n",
      "|   | 1 |   |   |   |   |   |\n",
      "+---+---+---+---+---+---+---+\n",
      "|   |   |   |   |   |   | 2 |\n",
      "+---+---+---+---+---+---+---+\n",
      "|   |   |   |   |   | 1 |   |\n",
      "+---+---+---+---+---+---+---+\n",
      "\n",
      "↓ [1]\n",
      "\n",
      "+---+---+---+---+---+---+\n",
      "|   | 1 |   |   |   |   |\n",
      "+---+---+---+---+---+---+\n",
      "|   |   |   | 1 |   |   |\n",
      "+---+---+---+---+---+---+\n",
      "|   |   | 1 |   |   |   |\n",
      "+---+---+---+---+---+---+\n",
      "| 1 |   |   |   |   |   |\n",
      "+---+---+---+---+---+---+\n",
      "|   |   |   |   |   | 2 |\n",
      "+---+---+---+---+---+---+\n",
      "|   |   |   |   | 1 |   |\n",
      "+---+---+---+---+---+---+\n",
      "\n",
      "↓ [1]\n",
      "\n",
      "+---+---+---+---+---+\n",
      "|   |   | 1 |   |   |\n",
      "+---+---+---+---+---+\n",
      "|   | 1 |   |   |   |\n",
      "+---+---+---+---+---+\n",
      "| 1 |   |   |   |   |\n",
      "+---+---+---+---+---+\n",
      "|   |   |   |   | 2 |\n",
      "+---+---+---+---+---+\n",
      "|   |   |   | 1 |   |\n",
      "+---+---+---+---+---+\n",
      "\n",
      "↓ [1]\n",
      "\n",
      "+---+---+---+\n",
      "| 2 |   |   |\n",
      "+---+---+---+\n",
      "|   |   | 2 |\n",
      "+---+---+---+\n",
      "|   | 1 |   |\n",
      "+---+---+---+\n",
      "\n",
      "↓ [1]\n",
      "\n",
      "+---+---+\n",
      "|   | 2 |\n",
      "+---+---+\n",
      "| 1 |   |\n",
      "+---+---+\n",
      "\n",
      "↓ [1, 2]\n",
      "\n",
      "+---+---+\n",
      "|   | 1 |\n",
      "+---+---+\n",
      "| 1 |   |\n",
      "+---+---+\n",
      "\n",
      "↓ [1, 2]\n",
      "\n",
      "+---+\n",
      "| 1 |\n",
      "+---+\n",
      "list:[1, 2, 1], total:4\n"
     ]
    }
   ],
   "source": [
    "grid = G.copy()\n",
    "nums = []\n",
    "\n",
    "while grid.size > 1:\n",
    "    new = grid.transform()\n",
    "    if type(new) == dict:\n",
    "        nums += [new[\"num\"]]\n",
    "        grid = new[\"grid\"]\n",
    "    else:\n",
    "        grid = new\n",
    "    grid.show()\n",
    "    print(\"\\n↓ {}\\n\".format(nums)) if grid.size > 1 else \"END\"\n",
    "else:\n",
    "    nums += [grid.matrix[0][0]]\n",
    "    print(\"list:{}, total:{}\".format(nums, sum(nums)))"
   ]
  },
  {
   "cell_type": "code",
   "execution_count": null,
   "id": "96a7318e-be2c-4814-94d7-c6da62ee4683",
   "metadata": {},
   "outputs": [],
   "source": []
  }
 ],
 "metadata": {
  "kernelspec": {
   "display_name": "Python 3",
   "language": "python",
   "name": "python3"
  },
  "language_info": {
   "codemirror_mode": {
    "name": "ipython",
    "version": 3
   },
   "file_extension": ".py",
   "mimetype": "text/x-python",
   "name": "python",
   "nbconvert_exporter": "python",
   "pygments_lexer": "ipython3",
   "version": "3.6.13"
  }
 },
 "nbformat": 4,
 "nbformat_minor": 5
}
