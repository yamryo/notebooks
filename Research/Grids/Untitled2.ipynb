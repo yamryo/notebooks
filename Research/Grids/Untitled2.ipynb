{
 "cells": [
  {
   "cell_type": "code",
   "execution_count": null,
   "id": "c2cdd082-ef91-4549-be56-6cd499d248fc",
   "metadata": {},
   "outputs": [],
   "source": [
    "from collections.abc import Generator, Iterator"
   ]
  },
  {
   "cell_type": "code",
   "execution_count": null,
   "id": "79840c7c-14b5-4764-959f-d4aadcb225cf",
   "metadata": {},
   "outputs": [],
   "source": [
    "def fib(max: int) -> Iterator[int]:\n",
    "    a, b = 0,1\n",
    "    while a <= max:\n",
    "        yield a\n",
    "        a, b = b, a+b"
   ]
  },
  {
   "cell_type": "code",
   "execution_count": null,
   "id": "a2764969-e32d-47a1-b204-002db90a85c4",
   "metadata": {},
   "outputs": [],
   "source": [
    "for a in fib(100):\n",
    "    print(a)"
   ]
  },
  {
   "cell_type": "code",
   "execution_count": null,
   "id": "e1bf8316-1a7f-4d26-ab39-51cff966f713",
   "metadata": {
    "scrolled": true
   },
   "outputs": [],
   "source": [
    "ma = list(range(100))\n",
    "mi = iter(ma)\n",
    "for _ in ma:\n",
    "    print(next(mi))"
   ]
  }
 ],
 "metadata": {
  "kernelspec": {
   "display_name": "py312",
   "language": "python",
   "name": "py312"
  },
  "language_info": {
   "codemirror_mode": {
    "name": "ipython",
    "version": 3
   },
   "file_extension": ".py",
   "mimetype": "text/x-python",
   "name": "python",
   "nbconvert_exporter": "python",
   "pygments_lexer": "ipython3",
   "version": "3.12.1"
  }
 },
 "nbformat": 4,
 "nbformat_minor": 5
}
