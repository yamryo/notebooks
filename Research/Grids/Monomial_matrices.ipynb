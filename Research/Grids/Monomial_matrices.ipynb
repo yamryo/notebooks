{
 "cells": [
  {
   "cell_type": "markdown",
   "id": "960abae3-3425-4b6a-bd61-021218adf1a8",
   "metadata": {},
   "source": [
    "# Monomial matrices and their transformations"
   ]
  },
  {
   "cell_type": "markdown",
   "id": "b9860c1d-780b-4e97-a5a5-e1cd8401e435",
   "metadata": {
    "tags": []
   },
   "source": [
    "## Libraries"
   ]
  },
  {
   "cell_type": "code",
   "execution_count": null,
   "id": "d1ce61ce-0b53-43a4-b12d-1400a0252d97",
   "metadata": {
    "tags": []
   },
   "outputs": [],
   "source": [
    "import sys; sys.path.append(\"../modules\")\n",
    "import random\n",
    "\n",
    "import numpy as np\n",
    "import sympy; sympy.init_printing()\n",
    "\n",
    "import Permutations as pm\n",
    "from Grid import *\n",
    "\n",
    "from tqdm.notebook import tqdm\n",
    "# ----- Debugger -----\n",
    "# from IPython.core.debugger import Pdb; Pdb().set_trace()"
   ]
  },
  {
   "cell_type": "markdown",
   "id": "baea4840-b9d5-4b0d-b250-2e391aa4169b",
   "metadata": {
    "tags": []
   },
   "source": [
    "## Monomial Matrix Class"
   ]
  },
  {
   "cell_type": "code",
   "execution_count": null,
   "id": "e4b7370d-9d4b-40ba-99b6-f5afabd95f71",
   "metadata": {},
   "outputs": [],
   "source": [
    "class MonomialMatrix(dict):\n",
    "    '''Monomial matrices in a style of a pair of a diagonal matrix and a permutation matrix.'''\n",
    "    def __init__(self, diag, perm):\n",
    "        if not ((type(diag) is list) and (type(perm) is pm.Permutation)): raise(TypeError)\n",
    "        if not len(diag) == perm.size: raise(ValueError(\"len(diag) != perm.size\"))\n",
    "        \n",
    "        self['diagonal'] = diag\n",
    "        self['permutation'] = perm\n",
    "        self.size = len(diag)\n",
    "        self.matrix = sympy.diag(*self['diagonal'])*sympy.Matrix(self['permutation'].matrix())\n",
    "        \n",
    "    def associate_PM(self):\n",
    "        d, p = self['diagonal'], self['permutation']\n",
    "        size, pinv = sum([abs(v) for v in d]), p.inverse()\n",
    "    \n",
    "        I, A = sympy.eye(size), sympy.zeros(0,size)\n",
    "        for k in range(len(d)):\n",
    "            x = abs(d[k])\n",
    "            sign = 1 if d[k]==x else -1\n",
    "            prev = [abs(d[pinv.act(j)]) for j in range(p.act(k))]\n",
    "            abov = [abs(d[i]) for i in range(k)]\n",
    "            sp, sa = sum(prev), sum(abov)\n",
    "        \n",
    "            for i in range(x):\n",
    "                start = sp if sign == 1 else sp+x-1\n",
    "                A = A.row_insert(sa+i, I.row(start+sign*i))\n",
    "        #---\n",
    "        img = [np.where(row > 0)[0][0] for row in np.array(A)]\n",
    "        return pm.Permutation(img)\n",
    "    \n",
    "    def show_in_grid(self):\n",
    "        hline, vline = \"+---\" * self.size + \"+\", \"|   \" * self.size + \"|\"\n",
    "        for row in np.array(self.matrix):\n",
    "            idx_list = np.where(row != 0)[0]\n",
    "            if idx_list.size > 0:\n",
    "                idx = idx_list[0]\n",
    "                val = row[idx]\n",
    "                val_str = \"{}\" if val > 0 else \"\\033[31m{}\\033[0m\"\n",
    "                print(hline + \"\\n\"\n",
    "                    + vline[: 4 * idx + 2]\n",
    "                    + val_str.format(abs(val))\n",
    "                    + vline[4 * (idx + 1) - 1 :])\n",
    "            else: print(hline + \"\\n\" + vline)\n",
    "        else: print(hline)\n",
    "#---    \n",
    "MM = MonomialMatrix"
   ]
  },
  {
   "cell_type": "markdown",
   "id": "54d1a28b-8149-42ac-9d65-30b37ad29016",
   "metadata": {
    "jp-MarkdownHeadingCollapsed": true,
    "tags": []
   },
   "source": [
    "### scratch"
   ]
  },
  {
   "cell_type": "code",
   "execution_count": null,
   "id": "306d29b9-c55a-41d6-9121-41eee7e71886",
   "metadata": {
    "tags": []
   },
   "outputs": [],
   "source": [
    "mm = MM([-4,2,3], pm.Permutation([1,0,2])) #; print(type(mm), mm['diagonal'], mm['permutation'].act(0))\n",
    "aprm = mm.associate_PM()\n",
    "pmtx = sympy.Matrix(aprm.matrix())\n",
    "\n",
    "display(mm.matrix, pmtx)\n",
    "mm.show_in_grid()"
   ]
  },
  {
   "cell_type": "markdown",
   "id": "e9b2d893-926d-4bad-95a2-baac8843f514",
   "metadata": {},
   "source": [
    "## Correctness checking function"
   ]
  },
  {
   "cell_type": "code",
   "execution_count": null,
   "id": "642a05cf-7d0f-49ae-834c-a6a771f4863b",
   "metadata": {
    "tags": []
   },
   "outputs": [],
   "source": [
    "def correctness_checking(code, restriction=''):\n",
    "#-- Starting MM --\n",
    "    a,b,c,r = code[0], code[1], code[2], code[3]\n",
    "    starting_mm = MM([-a,b,c,-a,-(a-r),c,b,-(a-r),-2*r], pm.Permutation([8,2,1,5,3,7,6,0,4]))\n",
    "    sdata = {'mm': starting_mm, '#orbits': len(pm.cycle_decomp(starting_mm.associate_PM())), 'memo': ''}\n",
    "\n",
    "#-- Resulting MM --\n",
    "    flag = True\n",
    "    resulting_mm, rnum, memo = None, None, ''\n",
    "    if a-r>=0:\n",
    "        case = \"a>=r\"\n",
    "        if r-c == 0:\n",
    "            case += \", r=c\"\n",
    "            if restriction in case:\n",
    "                resulting_mm = MM([-r,-a,-(a-r),r,a-r,-2*r,2*b], pm.Permutation([4,2,0,3,5,1,6]))\n",
    "                memo = \", b={}\".format(b)\n",
    "            else: case = \"(x)\"\n",
    "        elif r-c > 0:\n",
    "            case += \", r>c\"\n",
    "            X, Y = b%(r-c), (a-r)%(2*r)\n",
    "            Xi, Yi = (r-c)-X, (2*r)-Y\n",
    "            if restriction in case:\n",
    "                resulting_mm = MM([Xi,X,c,Xi,X,c,2*Y], pm.Permutation([3,2,1,6,5,4,0]))\n",
    "            else: case = \"(x)\"\n",
    "        else: # r-c < 0\n",
    "            case += \", r<c\"\n",
    "            X, Y = b%(c-r), (a-r)%(2*r)\n",
    "            Xi, Yi = (c-r)-X, (2*r)-Y\n",
    "            if r-Xi == 0:\n",
    "                case += \", r=Xi\"\n",
    "                if restriction in case:\n",
    "                    resulting_mm = MM([-Y,-Yi,-2*r,Y,2*X], pm.Permutation([2,3,0,1,4]))\n",
    "                    memo = \", (Y,r)+X=({},{})+{}={}+{}\".format(Y, r, X, np.gcd(Y, r),X)\n",
    "                else: case = \"(x)\"\n",
    "            # elif r-Xi > 0:\n",
    "            #     case += \", r>Xi\"\n",
    "            #     Z = X%abs(r-Xi)\n",
    "            #     Zi = abs(r-Xi)-Z\n",
    "            #     if restriction in case:\n",
    "            #         resulting_mm = MM([Zi,Z,Xi,Zi,Z,Xi,2*Y], pm.Permutation([3,2,1,6,5,4,0]))\n",
    "            #     else: case = \"(x)\"\n",
    "            else: # r-Xi != 0\n",
    "                case = \"r!=Xi\"\n",
    "                while r < Xi:\n",
    "                    X = X%(Xi-r)\n",
    "                    Xi = (Xi-r)-X\n",
    "                if r-Xi == 0:\n",
    "                    case += \", r%=Xi\"\n",
    "                    if restriction in case:\n",
    "                        resulting_mm = MM([-Y,-Yi,-2*r,Y,2*X], pm.Permutation([2,3,0,1,4]))\n",
    "                        memo = \", (Y,r)+X=({},{})+{}={}+{}\".format(Y, r, X, np.gcd(Y, r),X)\n",
    "                    else: case = \"(x)\"\n",
    "                else:\n",
    "                    Z = X%abs(r-Xi)\n",
    "                    Zi = abs(r-Xi)-Z\n",
    "                    if restriction in case:\n",
    "                        resulting_mm = MM([Zi,Z,Xi,Zi,Z,Xi,2*Y], pm.Permutation([3,2,1,6,5,4,0]))\n",
    "                    else: case = \"(x)\"\n",
    "    else: case = \"(x)\"\n",
    "    if resulting_mm is not None: rnum = len(pm.cycle_decomp(resulting_mm.associate_PM()))\n",
    "    rdata = {'mm': resulting_mm, '#orbits': rnum, 'memo': memo}\n",
    "#----    \n",
    "    return [sdata, rdata], case"
   ]
  },
  {
   "cell_type": "markdown",
   "id": "dc6dde79-1078-4bfa-a934-3da50bbd8f9a",
   "metadata": {
    "tags": []
   },
   "source": [
    "### scratch"
   ]
  },
  {
   "cell_type": "code",
   "execution_count": null,
   "id": "daf05b17-ecf9-4129-bf2c-51f9f4c803a0",
   "metadata": {
    "tags": []
   },
   "outputs": [],
   "source": [
    "N, case, skip_count = 20, \"(x)\", 0\n",
    "restriction = \"\" #\"r=c\" #\"r!=Xi\" #\"\" #\"r=Xi\"\n",
    "\n",
    "while case == \"(x)\" and skip_count < 1000: #\n",
    "    code = [random.randint(0,N) for i in range(4)]\n",
    "    # code = [7,1,5,2] #[7,12,13,3] #[12,4,3,3] #[10,9,4,8] #[8,6,2,7] #[19,4,4,1] #\n",
    "    d = 2*code[0]+code[1]+code[2]\n",
    "    code[3] = code[3]%d\n",
    "    if not code[3] == 0:\n",
    "        data = correctness_checking(code, restriction)\n",
    "        case = data[1]\n",
    "        skip_count += 1\n",
    "        \n",
    "#-- Display --\n",
    "print(\"skip_count={}\".format(skip_count))\n",
    "print(\"code={}, case=[ {} ]\".format(code,case))\n",
    "for d in data[0]:\n",
    "    d['mm'].show_in_grid() #; display(mm.matrix)\n",
    "    num = int(d['#orbits']/2)\n",
    "    print(\"# of components = {}\".format(num)+d['memo'])\n",
    "    \n",
    "nums = [data[0][i]['#orbits'] for i in [0,1]]\n",
    "if not nums[0] == nums[1]:\n",
    "    print(\"nums are different!! nums = {}\".format(nums) )"
   ]
  },
  {
   "cell_type": "markdown",
   "id": "32e16a7e-3588-40d5-a6ae-316e0d51c490",
   "metadata": {},
   "source": [
    "### Experiments"
   ]
  },
  {
   "cell_type": "code",
   "execution_count": null,
   "id": "1e44f55c-ce64-445d-8a05-61d7166772e7",
   "metadata": {
    "tags": []
   },
   "outputs": [],
   "source": [
    "R, skipped, ones = 100, 0, 0\n",
    "rstn = \"\" #\"r!=Xi\"\n",
    "for count in tqdm(range(R)):\n",
    "    N, case = 10, \"(x)\"\n",
    "\n",
    "    while case == \"(x)\": #\n",
    "        code = [random.randint(0,N) for i in range(4)]\n",
    "        try:\n",
    "            code[3] = code[3]%(2*code[0]+code[1]+code[2])\n",
    "        except:\n",
    "            print(code)\n",
    "        if not (code[0]==0 or code[3] == 0):\n",
    "            data = correctness_checking(code, rstn)\n",
    "            case = data[1]\n",
    "        skipped += 1\n",
    "            \n",
    "    nums = [data[0][i]['#orbits'] for i in [0,1]]\n",
    "    if data[0][0]['#orbits']/2 == 1: ones += 1\n",
    "    if not nums[0] == nums[1]:\n",
    "        print(\"nums are different!! nums = {}\".format(nums) )\n",
    "        print(\"code={}, case=[ {} ]\".format(code,case))\n",
    "        for d in data[0]:\n",
    "            d['mm'].show_in_grid() #; display(mm.matrix)\n",
    "            print(\"# of components = {}\".format(int(d['#orbits']/2))+d['memo'])\n",
    "    \n",
    "print(\"ones = {},  skipped = {}\".format(ones, skipped))"
   ]
  },
  {
   "cell_type": "markdown",
   "id": "06c67e12-01b3-499a-89c2-ac7acbed2b04",
   "metadata": {},
   "source": [
    "### Nando"
   ]
  },
  {
   "cell_type": "code",
   "execution_count": null,
   "id": "2156d153-611e-4dd3-8513-e8ebd44a9e24",
   "metadata": {
    "tags": []
   },
   "outputs": [],
   "source": [
    "def correctness_checking(code, restriction=''):\n",
    "#-- Starting MM --\n",
    "    a,b,c,r = code[0], code[1], code[2], code[3]\n",
    "    starting_mm = MM([-a,b,c,-a,-(a-r),c,b,-(a-r),-2*r], pm.Permutation([8,2,1,5,3,7,6,0,4]))\n",
    "    snum  = len(pm.cycle_decomp(starting_mm.associate_PM()))\n",
    "    sdata = {'mm': starting_mm, '#orbits': snum, 'memo': ''}\n",
    "\n",
    "#-- Resulting MM --\n",
    "    flag = True\n",
    "    resulting_mm, rnum, memo = None, None, ''\n",
    "    if a-r>=0:\n",
    "        case = \"a>=r\"\n",
    "        if r-c == 0:\n",
    "            case += \", r=c\"\n",
    "            if restriction in case:\n",
    "                resulting_mm = MM([-r,-a,-(a-r),r,a-r,-2*r,2*b], pm.Permutation([4,2,0,3,5,1,6]))\n",
    "                rnum = len(pm.cycle_decomp(resulting_mm.associate_PM())) + 2*b\n",
    "                memo = \", b={}\".format(b)\n",
    "            else: case = \"(x)\"\n",
    "        elif r-c > 0:\n",
    "            case += \", r>c\"\n",
    "            X, Y = b%(r-c), (a-r)%(2*r)\n",
    "            Xi, Yi = (r-c)-X, (2*r)-Y\n",
    "            if restriction in case:\n",
    "                resulting_mm = MM([Xi,X,c,Xi,X,c,2*Y], pm.Permutation([3,2,1,6,5,4,0]))\n",
    "                rnum = len(pm.cycle_decomp(resulting_mm.associate_PM()))\n",
    "            else: case = \"(x)\"\n",
    "            # if Xi == Y:\n",
    "            #     case += \", Xi=Y\"\n",
    "            #     resulting_mm = MM([X,c,Xi,X,c,Xi], pm.Permutation([2,1,0,5,4,3]))\n",
    "            #     rnum = 2*np.gcd(X+c, r-X) #len(pm.cycle_decomp(resulting_mm.associate_PM()))\n",
    "            #     memo = \", (X+c, r-X)=({},{})={}\".format(X+c, r-X, np.gcd(X+c, r-X))\n",
    "            # elif Xi > Y:\n",
    "            #     case += \", Xi>Y\"\n",
    "            #     Z = Xi-Y\n",
    "            #     # resulting_mm = MM([-Z,-X,-c,-Z,Y,-X,-c,-Y,-Yi], pm.Permutation([5,7,8,2,0,3,4,6,1]))\n",
    "            #     # resulting_mm = MM([-Z,X,c,Z,Y,-X,-c,-Y,-r], pm.Permutation([7,2,1,4,0,5,6,8,3]))\n",
    "            #     # resulting_mm = MM([Z,X,c,Z,Y,X,c,Y], pm.Permutation([4,2,1,7,0,6,5,3]))\n",
    "            #     resulting_mm = MM([Xi,X,c,Xi,X,c,2*Y], pm.Permutation([3,2,1,6,5,4,0]))\n",
    "            #     rnum = len(pm.cycle_decomp(resulting_mm.associate_PM()))\n",
    "            # else:\n",
    "            #     case += \", Xi<Y\"\n",
    "            #     # resulting_mm = MM([-Xi,-X,-c,-Xi,-X,-c,Y,-Y,-Yi], pm.Permutation([6,7,8,3,4,5,0,1,2]))\n",
    "            #     resulting_mm = MM([Xi,X,c,Xi,X,c,2*Y], pm.Permutation([3,2,1,6,5,4,0]))\n",
    "            #     rnum = len(pm.cycle_decomp(resulting_mm.associate_PM()))\n",
    "        else: # r-c < 0\n",
    "            case += \", r<c\"\n",
    "            X, Y = b%(c-r), (a-r)%(2*r)\n",
    "            Xi, Yi = (c-r)-X, (2*r)-Y\n",
    "            # if r-Yi == 0:\n",
    "            #     case += \", r=Yi\"\n",
    "            #     if restriction in case:\n",
    "            #         resulting_mm = MM([Xi,X,r,r,X,Xi], pm.Permutation([2,1,0,5,4,3]))\n",
    "            #         rnum = len(pm.cycle_decomp(resulting_mm.associate_PM()))\n",
    "            #     else: case = \"(x)\"\n",
    "            # else:\n",
    "                # case += \", r!=Yi\"\n",
    "            if r-Xi == 0:\n",
    "                case += \", r=Xi\"\n",
    "                if restriction in case:\n",
    "                    resulting_mm = MM([-Y,-Yi,-2*r,Y,2*X], pm.Permutation([2,3,0,1,4]))\n",
    "                    rnum = len(pm.cycle_decomp(resulting_mm.associate_PM()))\n",
    "                    memo = \", (Y,r)+X=({},{})+{}={}+{}\".format(Y, r, X, np.gcd(Y, r),X)\n",
    "                else: case = \"(x)\"\n",
    "            if r-Xi > 0:\n",
    "                case += \", r>Xi\"\n",
    "                Z = X%abs(r-Xi)\n",
    "                Zi = abs(r-Xi)-Z\n",
    "                if restriction in case:\n",
    "                    # resulting_mm = MM([2*Y,Xi,X,r,r,X,Xi], pm.Permutation([6,2,1,0,5,4,3]))\n",
    "                    # resulting_mm = MM([Xi,X,-Y,-Yi,-r,X,Xi,-r,Y], pm.Permutation([2,1,7,8,3,5,4,0,6]))\n",
    "                    # resulting_mm = MM([Xi,X,-Y,-(Yi-r),r,X,Xi,-r,Y], pm.Permutation([2,1,6,8,7,4,3,0,5]))\n",
    "                    # resulting_mm = MM([Xi,X,-r,r,X,Xi,-r,2*Y], pm.Permutation([2,1,7,6,4,3,0,5]))\n",
    "                    resulting_mm = MM([Zi,Z,Xi,Zi,Z,Xi,2*Y], pm.Permutation([3,2,1,6,5,4,0]))\n",
    "                    rnum = len(pm.cycle_decomp(resulting_mm.associate_PM()))\n",
    "                else: case = \"(x)\"\n",
    "            else: case = \"(x)\"\n",
    "    else: case = \"(x)\"\n",
    "    rdata = {'mm': resulting_mm, '#orbits': rnum, 'memo': memo}\n",
    "#----    \n",
    "    return [sdata, rdata], case"
   ]
  }
 ],
 "metadata": {
  "kernelspec": {
   "display_name": "Python 3",
   "language": "python",
   "name": "python3"
  },
  "language_info": {
   "codemirror_mode": {
    "name": "ipython",
    "version": 3
   },
   "file_extension": ".py",
   "mimetype": "text/x-python",
   "name": "python",
   "nbconvert_exporter": "python",
   "pygments_lexer": "ipython3",
   "version": "3.6.13"
  }
 },
 "nbformat": 4,
 "nbformat_minor": 5
}
