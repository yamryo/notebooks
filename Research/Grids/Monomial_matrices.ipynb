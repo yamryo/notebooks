{
 "cells": [
  {
   "cell_type": "markdown",
   "id": "960abae3-3425-4b6a-bd61-021218adf1a8",
   "metadata": {},
   "source": [
    "# Monomial matrices and their transformations"
   ]
  },
  {
   "cell_type": "markdown",
   "id": "b9860c1d-780b-4e97-a5a5-e1cd8401e435",
   "metadata": {
    "tags": []
   },
   "source": [
    "## Libraries"
   ]
  },
  {
   "cell_type": "code",
   "execution_count": 1,
   "id": "d1ce61ce-0b53-43a4-b12d-1400a0252d97",
   "metadata": {
    "tags": []
   },
   "outputs": [],
   "source": [
    "import sys; sys.path.append(\"../modules\")\n",
    "import random\n",
    "\n",
    "import numpy as np\n",
    "import sympy; sympy.init_printing()\n",
    "\n",
    "import Permutations as pm\n",
    "from Grid import *\n",
    "\n",
    "from tqdm.notebook import tqdm\n",
    "# ----- Debugger -----\n",
    "# from IPython.core.debugger import Pdb; Pdb().set_trace()"
   ]
  },
  {
   "cell_type": "code",
   "execution_count": 2,
   "id": "68e8495c-5702-4e76-8b1b-2ff5cf8ab661",
   "metadata": {},
   "outputs": [],
   "source": [
    "t = sympy.symbols('t')"
   ]
  },
  {
   "cell_type": "markdown",
   "id": "baea4840-b9d5-4b0d-b250-2e391aa4169b",
   "metadata": {
    "tags": []
   },
   "source": [
    "## Classes and functions"
   ]
  },
  {
   "cell_type": "code",
   "execution_count": 3,
   "id": "e4b7370d-9d4b-40ba-99b6-f5afabd95f71",
   "metadata": {},
   "outputs": [],
   "source": [
    "class MonomialMatrix(dict):\n",
    "    '''Monomial matrices in a style of a pair of a diagonal matrix and a permutation matrix.'''\n",
    "    def __init__(self, diag, perm):\n",
    "        if not ((type(diag) is list) and (type(perm) is pm.Permutation)): raise(TypeError)\n",
    "        if not len(diag) == perm.size: raise(ValueError(\"len(diag) != perm.size\"))\n",
    "        \n",
    "        self['diagonal'] = diag\n",
    "        self['permutation'] = perm\n",
    "        self.size = len(diag)\n",
    "        self.matrix = sympy.diag(*self['diagonal'])*sympy.Matrix(self['permutation'].matrix())\n",
    "        \n",
    "    def associate_PM(self):\n",
    "        d, p = self['diagonal'], self['permutation']\n",
    "        size, pinv = sum([abs(v) for v in d]), p.inverse()\n",
    "    \n",
    "        I, A = sympy.eye(size), sympy.zeros(0,size)\n",
    "        for k in range(len(d)):\n",
    "            x = abs(d[k])\n",
    "            sign = 1 if d[k]==x else -1\n",
    "            prev = [abs(d[pinv.act(j)]) for j in range(p.act(k))]\n",
    "            abov = [abs(d[i]) for i in range(k)]\n",
    "            sp, sa = sum(prev), sum(abov)\n",
    "        \n",
    "            for i in range(x):\n",
    "                start = sp if sign == 1 else sp+x-1\n",
    "                A = A.row_insert(sa+i, I.row(start+sign*i))\n",
    "        #---\n",
    "        img = [np.where(row > 0)[0][0] for row in np.array(A)]\n",
    "        return pm.Permutation(img)\n",
    "    \n",
    "    def show_in_grid(self):\n",
    "        hline, vline = \"+---\" * self.size + \"+\", \"|   \" * self.size + \"|\"\n",
    "        for row in np.array(self.matrix):\n",
    "            idx_list = np.where(row != 0)[0]\n",
    "            if idx_list.size > 0:\n",
    "                idx = idx_list[0]\n",
    "                val = row[idx]\n",
    "                val_str = \"{}\" if val > 0 else \"\\033[31m{}\\033[0m\"\n",
    "                print(hline + \"\\n\"\n",
    "                    + vline[: 4 * idx + 2]\n",
    "                    + val_str.format(abs(val))\n",
    "                    + vline[4 * (idx + 1) - 1 :])\n",
    "            else: print(hline + \"\\n\" + vline)\n",
    "        else: print(hline)\n",
    "#---    \n",
    "MM = MonomialMatrix"
   ]
  },
  {
   "cell_type": "code",
   "execution_count": 4,
   "id": "306d29b9-c55a-41d6-9121-41eee7e71886",
   "metadata": {
    "collapsed": true,
    "jupyter": {
     "outputs_hidden": true
    },
    "tags": []
   },
   "outputs": [
    {
     "data": {
      "text/latex": [
       "$\\displaystyle \\left[\\begin{matrix}0 & -4 & 0\\\\2 & 0 & 0\\\\0 & 0 & 3\\end{matrix}\\right]$"
      ],
      "text/plain": [
       "⎡0  -4  0⎤\n",
       "⎢        ⎥\n",
       "⎢2  0   0⎥\n",
       "⎢        ⎥\n",
       "⎣0  0   3⎦"
      ]
     },
     "metadata": {},
     "output_type": "display_data"
    },
    {
     "data": {
      "text/latex": [
       "$\\displaystyle \\left[\\begin{matrix}0 & 0 & 0 & 0 & 0 & 1 & 0 & 0 & 0\\\\0 & 0 & 0 & 0 & 1 & 0 & 0 & 0 & 0\\\\0 & 0 & 0 & 1 & 0 & 0 & 0 & 0 & 0\\\\0 & 0 & 1 & 0 & 0 & 0 & 0 & 0 & 0\\\\1 & 0 & 0 & 0 & 0 & 0 & 0 & 0 & 0\\\\0 & 1 & 0 & 0 & 0 & 0 & 0 & 0 & 0\\\\0 & 0 & 0 & 0 & 0 & 0 & 1 & 0 & 0\\\\0 & 0 & 0 & 0 & 0 & 0 & 0 & 1 & 0\\\\0 & 0 & 0 & 0 & 0 & 0 & 0 & 0 & 1\\end{matrix}\\right]$"
      ],
      "text/plain": [
       "⎡0  0  0  0  0  1  0  0  0⎤\n",
       "⎢                         ⎥\n",
       "⎢0  0  0  0  1  0  0  0  0⎥\n",
       "⎢                         ⎥\n",
       "⎢0  0  0  1  0  0  0  0  0⎥\n",
       "⎢                         ⎥\n",
       "⎢0  0  1  0  0  0  0  0  0⎥\n",
       "⎢                         ⎥\n",
       "⎢1  0  0  0  0  0  0  0  0⎥\n",
       "⎢                         ⎥\n",
       "⎢0  1  0  0  0  0  0  0  0⎥\n",
       "⎢                         ⎥\n",
       "⎢0  0  0  0  0  0  1  0  0⎥\n",
       "⎢                         ⎥\n",
       "⎢0  0  0  0  0  0  0  1  0⎥\n",
       "⎢                         ⎥\n",
       "⎣0  0  0  0  0  0  0  0  1⎦"
      ]
     },
     "metadata": {},
     "output_type": "display_data"
    },
    {
     "name": "stdout",
     "output_type": "stream",
     "text": [
      "+---+---+---+\n",
      "|   | \u001b[31m4\u001b[0m |   |\n",
      "+---+---+---+\n",
      "| 2 |   |   |\n",
      "+---+---+---+\n",
      "|   |   | 3 |\n",
      "+---+---+---+\n"
     ]
    }
   ],
   "source": [
    "mm = MM([-4,2,3], pm.Permutation([1,0,2])) #; print(type(mm), mm['diagonal'], mm['permutation'].act(0))\n",
    "aprm = mm.associate_PM()\n",
    "pmtx = sympy.Matrix(aprm.matrix())\n",
    "\n",
    "display(mm.matrix, pmtx)\n",
    "mm.show_in_grid()"
   ]
  },
  {
   "cell_type": "markdown",
   "id": "32e16a7e-3588-40d5-a6ae-316e0d51c490",
   "metadata": {},
   "source": [
    "## Experiments"
   ]
  },
  {
   "cell_type": "code",
   "execution_count": 5,
   "id": "3fc6b5af-c1bf-4f03-8516-d3c837067521",
   "metadata": {
    "collapsed": true,
    "jupyter": {
     "outputs_hidden": true
    },
    "tags": []
   },
   "outputs": [
    {
     "data": {
      "application/vnd.jupyter.widget-view+json": {
       "model_id": "83716ff90a2b4af298b85da38cab9dcb",
       "version_major": 2,
       "version_minor": 0
      },
      "text/plain": [
       "  0%|          | 0/100 [00:00<?, ?it/s]"
      ]
     },
     "metadata": {},
     "output_type": "display_data"
    },
    {
     "ename": "KeyboardInterrupt",
     "evalue": "",
     "output_type": "error",
     "traceback": [
      "\u001b[0;31m---------------------------------------------------------------------------\u001b[0m",
      "\u001b[0;31mKeyboardInterrupt\u001b[0m                         Traceback (most recent call last)",
      "\u001b[0;32m/tmp/ipykernel_17839/4137901310.py\u001b[0m in \u001b[0;36m<module>\u001b[0;34m\u001b[0m\n\u001b[1;32m     14\u001b[0m     \u001b[0mnums\u001b[0m \u001b[0;34m=\u001b[0m \u001b[0;34m[\u001b[0m\u001b[0;34m]\u001b[0m\u001b[0;34m\u001b[0m\u001b[0;34m\u001b[0m\u001b[0m\n\u001b[1;32m     15\u001b[0m     \u001b[0;32mfor\u001b[0m \u001b[0mmm\u001b[0m \u001b[0;32min\u001b[0m \u001b[0;34m[\u001b[0m\u001b[0mmm1\u001b[0m\u001b[0;34m,\u001b[0m\u001b[0mmm2\u001b[0m\u001b[0;34m]\u001b[0m\u001b[0;34m:\u001b[0m\u001b[0;34m\u001b[0m\u001b[0;34m\u001b[0m\u001b[0m\n\u001b[0;32m---> 16\u001b[0;31m         \u001b[0mnums\u001b[0m\u001b[0;34m.\u001b[0m\u001b[0mappend\u001b[0m\u001b[0;34m(\u001b[0m\u001b[0mlen\u001b[0m\u001b[0;34m(\u001b[0m\u001b[0mpm\u001b[0m\u001b[0;34m.\u001b[0m\u001b[0mcycle_decomp\u001b[0m\u001b[0;34m(\u001b[0m\u001b[0mmm\u001b[0m\u001b[0;34m.\u001b[0m\u001b[0massociate_PM\u001b[0m\u001b[0;34m(\u001b[0m\u001b[0;34m)\u001b[0m\u001b[0;34m)\u001b[0m\u001b[0;34m)\u001b[0m\u001b[0;34m)\u001b[0m\u001b[0;34m\u001b[0m\u001b[0;34m\u001b[0m\u001b[0m\n\u001b[0m\u001b[1;32m     17\u001b[0m     \u001b[0;32mif\u001b[0m \u001b[0;32mnot\u001b[0m \u001b[0mnums\u001b[0m\u001b[0;34m[\u001b[0m\u001b[0;36m0\u001b[0m\u001b[0;34m]\u001b[0m \u001b[0;34m==\u001b[0m \u001b[0mnums\u001b[0m\u001b[0;34m[\u001b[0m\u001b[0;36m1\u001b[0m\u001b[0;34m]\u001b[0m\u001b[0;34m:\u001b[0m \u001b[0mprint\u001b[0m\u001b[0;34m(\u001b[0m\u001b[0;34m\"nums are different!! {},(a,b,c,r)={}\"\u001b[0m\u001b[0;34m.\u001b[0m\u001b[0mformat\u001b[0m\u001b[0;34m(\u001b[0m\u001b[0mnums\u001b[0m\u001b[0;34m,\u001b[0m\u001b[0;34m[\u001b[0m\u001b[0ma\u001b[0m\u001b[0;34m,\u001b[0m\u001b[0mb\u001b[0m\u001b[0;34m,\u001b[0m\u001b[0mc\u001b[0m\u001b[0;34m,\u001b[0m\u001b[0mr\u001b[0m\u001b[0;34m]\u001b[0m\u001b[0;34m)\u001b[0m\u001b[0;34m)\u001b[0m\u001b[0;34m\u001b[0m\u001b[0;34m\u001b[0m\u001b[0m\n",
      "\u001b[0;32m/tmp/ipykernel_17839/890014756.py\u001b[0m in \u001b[0;36massociate_PM\u001b[0;34m(self)\u001b[0m\n\u001b[1;32m     24\u001b[0m             \u001b[0;32mfor\u001b[0m \u001b[0mi\u001b[0m \u001b[0;32min\u001b[0m \u001b[0mrange\u001b[0m\u001b[0;34m(\u001b[0m\u001b[0mx\u001b[0m\u001b[0;34m)\u001b[0m\u001b[0;34m:\u001b[0m\u001b[0;34m\u001b[0m\u001b[0;34m\u001b[0m\u001b[0m\n\u001b[1;32m     25\u001b[0m                 \u001b[0mstart\u001b[0m \u001b[0;34m=\u001b[0m \u001b[0msp\u001b[0m \u001b[0;32mif\u001b[0m \u001b[0msign\u001b[0m \u001b[0;34m==\u001b[0m \u001b[0;36m1\u001b[0m \u001b[0;32melse\u001b[0m \u001b[0msp\u001b[0m\u001b[0;34m+\u001b[0m\u001b[0mx\u001b[0m\u001b[0;34m-\u001b[0m\u001b[0;36m1\u001b[0m\u001b[0;34m\u001b[0m\u001b[0;34m\u001b[0m\u001b[0m\n\u001b[0;32m---> 26\u001b[0;31m                 \u001b[0mA\u001b[0m \u001b[0;34m=\u001b[0m \u001b[0mA\u001b[0m\u001b[0;34m.\u001b[0m\u001b[0mrow_insert\u001b[0m\u001b[0;34m(\u001b[0m\u001b[0msa\u001b[0m\u001b[0;34m+\u001b[0m\u001b[0mi\u001b[0m\u001b[0;34m,\u001b[0m \u001b[0mI\u001b[0m\u001b[0;34m.\u001b[0m\u001b[0mrow\u001b[0m\u001b[0;34m(\u001b[0m\u001b[0mstart\u001b[0m\u001b[0;34m+\u001b[0m\u001b[0msign\u001b[0m\u001b[0;34m*\u001b[0m\u001b[0mi\u001b[0m\u001b[0;34m)\u001b[0m\u001b[0;34m)\u001b[0m\u001b[0;34m\u001b[0m\u001b[0;34m\u001b[0m\u001b[0m\n\u001b[0m\u001b[1;32m     27\u001b[0m         \u001b[0;31m#---\u001b[0m\u001b[0;34m\u001b[0m\u001b[0;34m\u001b[0m\u001b[0;34m\u001b[0m\u001b[0m\n\u001b[1;32m     28\u001b[0m         \u001b[0mimg\u001b[0m \u001b[0;34m=\u001b[0m \u001b[0;34m[\u001b[0m\u001b[0mnp\u001b[0m\u001b[0;34m.\u001b[0m\u001b[0mwhere\u001b[0m\u001b[0;34m(\u001b[0m\u001b[0mrow\u001b[0m \u001b[0;34m>\u001b[0m \u001b[0;36m0\u001b[0m\u001b[0;34m)\u001b[0m\u001b[0;34m[\u001b[0m\u001b[0;36m0\u001b[0m\u001b[0;34m]\u001b[0m\u001b[0;34m[\u001b[0m\u001b[0;36m0\u001b[0m\u001b[0;34m]\u001b[0m \u001b[0;32mfor\u001b[0m \u001b[0mrow\u001b[0m \u001b[0;32min\u001b[0m \u001b[0mnp\u001b[0m\u001b[0;34m.\u001b[0m\u001b[0marray\u001b[0m\u001b[0;34m(\u001b[0m\u001b[0mA\u001b[0m\u001b[0;34m)\u001b[0m\u001b[0;34m]\u001b[0m\u001b[0;34m\u001b[0m\u001b[0;34m\u001b[0m\u001b[0m\n",
      "\u001b[0;32m/opt/miniconda3/lib/python3.7/site-packages/sympy/matrices/common.py\u001b[0m in \u001b[0;36mrow_insert\u001b[0;34m(self, pos, other)\u001b[0m\n\u001b[1;32m    496\u001b[0m                 \"`self` and `other` must have the same number of columns.\")\n\u001b[1;32m    497\u001b[0m \u001b[0;34m\u001b[0m\u001b[0m\n\u001b[0;32m--> 498\u001b[0;31m         \u001b[0;32mreturn\u001b[0m \u001b[0mself\u001b[0m\u001b[0;34m.\u001b[0m\u001b[0m_eval_row_insert\u001b[0m\u001b[0;34m(\u001b[0m\u001b[0mpos\u001b[0m\u001b[0;34m,\u001b[0m \u001b[0mother\u001b[0m\u001b[0;34m)\u001b[0m\u001b[0;34m\u001b[0m\u001b[0;34m\u001b[0m\u001b[0m\n\u001b[0m\u001b[1;32m    499\u001b[0m \u001b[0;34m\u001b[0m\u001b[0m\n\u001b[1;32m    500\u001b[0m     \u001b[0;32mdef\u001b[0m \u001b[0mrow_join\u001b[0m\u001b[0;34m(\u001b[0m\u001b[0mself\u001b[0m\u001b[0;34m,\u001b[0m \u001b[0mother\u001b[0m\u001b[0;34m)\u001b[0m\u001b[0;34m:\u001b[0m\u001b[0;34m\u001b[0m\u001b[0;34m\u001b[0m\u001b[0m\n",
      "\u001b[0;32m/opt/miniconda3/lib/python3.7/site-packages/sympy/matrices/common.py\u001b[0m in \u001b[0;36m_eval_row_insert\u001b[0;34m(self, pos, other)\u001b[0m\n\u001b[1;32m    159\u001b[0m \u001b[0;34m\u001b[0m\u001b[0m\n\u001b[1;32m    160\u001b[0m     \u001b[0;32mdef\u001b[0m \u001b[0m_eval_row_insert\u001b[0m\u001b[0;34m(\u001b[0m\u001b[0mself\u001b[0m\u001b[0;34m,\u001b[0m \u001b[0mpos\u001b[0m\u001b[0;34m,\u001b[0m \u001b[0mother\u001b[0m\u001b[0;34m)\u001b[0m\u001b[0;34m:\u001b[0m\u001b[0;34m\u001b[0m\u001b[0;34m\u001b[0m\u001b[0m\n\u001b[0;32m--> 161\u001b[0;31m         \u001b[0mentries\u001b[0m \u001b[0;34m=\u001b[0m \u001b[0mlist\u001b[0m\u001b[0;34m(\u001b[0m\u001b[0mself\u001b[0m\u001b[0;34m)\u001b[0m\u001b[0;34m\u001b[0m\u001b[0;34m\u001b[0m\u001b[0m\n\u001b[0m\u001b[1;32m    162\u001b[0m         \u001b[0minsert_pos\u001b[0m \u001b[0;34m=\u001b[0m \u001b[0mpos\u001b[0m \u001b[0;34m*\u001b[0m \u001b[0mself\u001b[0m\u001b[0;34m.\u001b[0m\u001b[0mcols\u001b[0m\u001b[0;34m\u001b[0m\u001b[0;34m\u001b[0m\u001b[0m\n\u001b[1;32m    163\u001b[0m         \u001b[0mentries\u001b[0m\u001b[0;34m[\u001b[0m\u001b[0minsert_pos\u001b[0m\u001b[0;34m:\u001b[0m\u001b[0minsert_pos\u001b[0m\u001b[0;34m]\u001b[0m \u001b[0;34m=\u001b[0m \u001b[0mlist\u001b[0m\u001b[0;34m(\u001b[0m\u001b[0mother\u001b[0m\u001b[0;34m)\u001b[0m\u001b[0;34m\u001b[0m\u001b[0;34m\u001b[0m\u001b[0m\n",
      "\u001b[0;32m/opt/miniconda3/lib/python3.7/site-packages/sympy/matrices/dense.py\u001b[0m in \u001b[0;36m__getitem__\u001b[0;34m(self, key)\u001b[0m\n\u001b[1;32m    126\u001b[0m             \u001b[0;32mif\u001b[0m \u001b[0misinstance\u001b[0m\u001b[0;34m(\u001b[0m\u001b[0mkey\u001b[0m\u001b[0;34m,\u001b[0m \u001b[0mslice\u001b[0m\u001b[0;34m)\u001b[0m\u001b[0;34m:\u001b[0m\u001b[0;34m\u001b[0m\u001b[0;34m\u001b[0m\u001b[0m\n\u001b[1;32m    127\u001b[0m                 \u001b[0;32mreturn\u001b[0m \u001b[0mself\u001b[0m\u001b[0;34m.\u001b[0m\u001b[0m_mat\u001b[0m\u001b[0;34m[\u001b[0m\u001b[0mkey\u001b[0m\u001b[0;34m]\u001b[0m\u001b[0;34m\u001b[0m\u001b[0;34m\u001b[0m\u001b[0m\n\u001b[0;32m--> 128\u001b[0;31m             \u001b[0;32mreturn\u001b[0m \u001b[0mself\u001b[0m\u001b[0;34m.\u001b[0m\u001b[0m_mat\u001b[0m\u001b[0;34m[\u001b[0m\u001b[0ma2idx\u001b[0m\u001b[0;34m(\u001b[0m\u001b[0mkey\u001b[0m\u001b[0;34m)\u001b[0m\u001b[0;34m]\u001b[0m\u001b[0;34m\u001b[0m\u001b[0;34m\u001b[0m\u001b[0m\n\u001b[0m\u001b[1;32m    129\u001b[0m \u001b[0;34m\u001b[0m\u001b[0m\n\u001b[1;32m    130\u001b[0m     \u001b[0;32mdef\u001b[0m \u001b[0m__setitem__\u001b[0m\u001b[0;34m(\u001b[0m\u001b[0mself\u001b[0m\u001b[0;34m,\u001b[0m \u001b[0mkey\u001b[0m\u001b[0;34m,\u001b[0m \u001b[0mvalue\u001b[0m\u001b[0;34m)\u001b[0m\u001b[0;34m:\u001b[0m\u001b[0;34m\u001b[0m\u001b[0;34m\u001b[0m\u001b[0m\n",
      "\u001b[0;32m/opt/miniconda3/lib/python3.7/site-packages/sympy/matrices/common.py\u001b[0m in \u001b[0;36ma2idx\u001b[0;34m(j, n)\u001b[0m\n\u001b[1;32m   3214\u001b[0m \u001b[0;32mdef\u001b[0m \u001b[0ma2idx\u001b[0m\u001b[0;34m(\u001b[0m\u001b[0mj\u001b[0m\u001b[0;34m,\u001b[0m \u001b[0mn\u001b[0m\u001b[0;34m=\u001b[0m\u001b[0;32mNone\u001b[0m\u001b[0;34m)\u001b[0m\u001b[0;34m:\u001b[0m\u001b[0;34m\u001b[0m\u001b[0;34m\u001b[0m\u001b[0m\n\u001b[1;32m   3215\u001b[0m     \u001b[0;34m\"\"\"Return integer after making positive and validating against n.\"\"\"\u001b[0m\u001b[0;34m\u001b[0m\u001b[0;34m\u001b[0m\u001b[0m\n\u001b[0;32m-> 3216\u001b[0;31m     \u001b[0;32mif\u001b[0m \u001b[0mtype\u001b[0m\u001b[0;34m(\u001b[0m\u001b[0mj\u001b[0m\u001b[0;34m)\u001b[0m \u001b[0;32mis\u001b[0m \u001b[0;32mnot\u001b[0m \u001b[0mint\u001b[0m\u001b[0;34m:\u001b[0m\u001b[0;34m\u001b[0m\u001b[0;34m\u001b[0m\u001b[0m\n\u001b[0m\u001b[1;32m   3217\u001b[0m         \u001b[0mjindex\u001b[0m \u001b[0;34m=\u001b[0m \u001b[0mgetattr\u001b[0m\u001b[0;34m(\u001b[0m\u001b[0mj\u001b[0m\u001b[0;34m,\u001b[0m \u001b[0;34m'__index__'\u001b[0m\u001b[0;34m,\u001b[0m \u001b[0;32mNone\u001b[0m\u001b[0;34m)\u001b[0m\u001b[0;34m\u001b[0m\u001b[0;34m\u001b[0m\u001b[0m\n\u001b[1;32m   3218\u001b[0m         \u001b[0;32mif\u001b[0m \u001b[0mjindex\u001b[0m \u001b[0;32mis\u001b[0m \u001b[0;32mnot\u001b[0m \u001b[0;32mNone\u001b[0m\u001b[0;34m:\u001b[0m\u001b[0;34m\u001b[0m\u001b[0;34m\u001b[0m\u001b[0m\n",
      "\u001b[0;31mKeyboardInterrupt\u001b[0m: "
     ]
    }
   ],
   "source": [
    "for count in tqdm(range(100)):\n",
    "    N = 8\n",
    "    #-----\n",
    "    c,b = random.randint(1,N), random.randint(1,N)\n",
    "    r = c + random.randint(1,int(N/2))\n",
    "    a = r + random.randint(1,int(N/2))\n",
    "    if (a-r<0 or r-c<0): raise Exception(\"a<r or r<c\") \n",
    "    mm1 = MM([-a,b,c,-a,-(a-r),c,b,-(a-r),-2*r], pm.Permutation([8,2,1,5,3,7,6,0,4]))\n",
    "    #-----\n",
    "    X, Y = b%(r-c), (a-r)%(2*r)\n",
    "    Xi, Yi = (r-c)-X, (2*r)-Y\n",
    "    mm2 = MM([-Xi,-X,-c,-Xi,-X,-c,Y,-Y,-Yi], pm.Permutation([6,7,8,3,4,5,0,1,2]))\n",
    "    #-----\n",
    "    nums = []\n",
    "    for mm in [mm1,mm2]:\n",
    "        nums.append(len(pm.cycle_decomp(mm.associate_PM())))\n",
    "    if not nums[0] == nums[1]: print(\"nums are different!! {},(a,b,c,r)={}\".format(nums,[a,b,c,r]))"
   ]
  },
  {
   "cell_type": "markdown",
   "id": "4cff847b-e8fa-48bd-ab70-811492ba3dc1",
   "metadata": {},
   "source": [
    "## scratch"
   ]
  },
  {
   "cell_type": "code",
   "execution_count": 162,
   "id": "642a05cf-7d0f-49ae-834c-a6a771f4863b",
   "metadata": {
    "tags": []
   },
   "outputs": [],
   "source": [
    "def correctness_checking(code):\n",
    "#-- Starting MM --\n",
    "    a,b,c,r = code[0], code[1], code[2], code[3]\n",
    "    starting_mm = MM([-a,b,c,-a,-(a-r),c,b,-(a-r),-2*r], pm.Permutation([8,2,1,5,3,7,6,0,4]))\n",
    "    snum  = len(pm.cycle_decomp(starting_mm.associate_PM()))\n",
    "    sdata = {'mm': starting_mm, '#cmps': snum, 'memo': ''}\n",
    "\n",
    "#-- Resulting MM --\n",
    "    flag = True\n",
    "    resulting_mm, rnum, memo = None, None, ''\n",
    "    if a-r>=0:\n",
    "        case = \"a>=r\"\n",
    "        if r-c == 0:\n",
    "            case += \", r=c\"\n",
    "            resulting_mm = MM([-r,-a,-(a-r),r,a-r,-2*r], pm.Permutation([4,2,0,3,5,1]))\n",
    "            rnum = len(pm.cycle_decomp(resulting_mm.associate_PM())) + 2*b\n",
    "            memo = \", b={}\".format(b)\n",
    "#----\n",
    "        elif r-c > 0:\n",
    "            case += \", r>c\"\n",
    "            X, Y = b%(r-c), (a-r)%(2*r)\n",
    "            Xi, Yi = (r-c)-X, (2*r)-Y\n",
    "            if Xi == Y:\n",
    "                case += \", Xi=Y\"\n",
    "                resulting_mm = MM([X,c,Xi,X,c,Xi], pm.Permutation([2,1,0,5,4,3]))\n",
    "                rnum = len(pm.cycle_decomp(resulting_mm.associate_PM()))\n",
    "                memo = \", (X+c, r-X)=({},{})={}\".format(X+c, r-X, np.gcd(X+c, r-X))\n",
    "            elif Xi > Y:\n",
    "                case += \", Xi>Y\"\n",
    "                Z = Xi-Y\n",
    "                resulting_mm = MM([-Z,-X,-c,-Z,Y,-X,-c,-Y,-Yi], pm.Permutation([5,7,8,2,0,3,4,6,1]))\n",
    "                rnum = len(pm.cycle_decomp(resulting_mm.associate_PM()))\n",
    "                memo = \"\"\n",
    "            else:\n",
    "                resulting_mm = MM([-Xi,-X,-c,-Xi,-X,-c,Y,-Y,-Yi], pm.Permutation([6,7,8,3,4,5,0,1,2]))\n",
    "                rnum = len(pm.cycle_decomp(resulting_mm.associate_PM()))\n",
    "                memo = ''\n",
    "        else: case = \"(x)\"\n",
    "    else: case = \"(x)\"\n",
    "#----\n",
    "    rdata = {'mm': resulting_mm, '#cmps': rnum, 'memo': memo}\n",
    "    \n",
    "    return [sdata, rdata], case"
   ]
  },
  {
   "cell_type": "code",
   "execution_count": 194,
   "id": "1e44f55c-ce64-445d-8a05-61d7166772e7",
   "metadata": {
    "tags": []
   },
   "outputs": [
    {
     "name": "stdout",
     "output_type": "stream",
     "text": [
      "10\n",
      "code=[7, 7, 3, 6], case=[ a>=r, r>c, Xi>Y ]\n",
      "+---+---+---+---+---+---+---+---+---+\n",
      "|   |   |   |   |   |   |   |   | \u001b[31m7\u001b[0m |\n",
      "+---+---+---+---+---+---+---+---+---+\n",
      "|   |   | 7 |   |   |   |   |   |   |\n",
      "+---+---+---+---+---+---+---+---+---+\n",
      "|   | 3 |   |   |   |   |   |   |   |\n",
      "+---+---+---+---+---+---+---+---+---+\n",
      "|   |   |   |   |   | \u001b[31m7\u001b[0m |   |   |   |\n",
      "+---+---+---+---+---+---+---+---+---+\n",
      "|   |   |   | \u001b[31m1\u001b[0m |   |   |   |   |   |\n",
      "+---+---+---+---+---+---+---+---+---+\n",
      "|   |   |   |   |   |   |   | 3 |   |\n",
      "+---+---+---+---+---+---+---+---+---+\n",
      "|   |   |   |   |   |   | 7 |   |   |\n",
      "+---+---+---+---+---+---+---+---+---+\n",
      "| \u001b[31m1\u001b[0m |   |   |   |   |   |   |   |   |\n",
      "+---+---+---+---+---+---+---+---+---+\n",
      "|   |   |   |   | \u001b[31m12\u001b[0m |   |   |   |   |\n",
      "+---+---+---+---+---+---+---+---+---+\n",
      "# of components = 2\n",
      "+---+---+---+---+---+---+---+---+---+\n",
      "|   |   |   |   |   | \u001b[31m1\u001b[0m |   |   |   |\n",
      "+---+---+---+---+---+---+---+---+---+\n",
      "|   |   |   |   |   |   |   | \u001b[31m1\u001b[0m |   |\n",
      "+---+---+---+---+---+---+---+---+---+\n",
      "|   |   |   |   |   |   |   |   | \u001b[31m3\u001b[0m |\n",
      "+---+---+---+---+---+---+---+---+---+\n",
      "|   |   | \u001b[31m1\u001b[0m |   |   |   |   |   |   |\n",
      "+---+---+---+---+---+---+---+---+---+\n",
      "| 1 |   |   |   |   |   |   |   |   |\n",
      "+---+---+---+---+---+---+---+---+---+\n",
      "|   |   |   | \u001b[31m1\u001b[0m |   |   |   |   |   |\n",
      "+---+---+---+---+---+---+---+---+---+\n",
      "|   |   |   |   | \u001b[31m3\u001b[0m |   |   |   |   |\n",
      "+---+---+---+---+---+---+---+---+---+\n",
      "|   |   |   |   |   |   | \u001b[31m1\u001b[0m |   |   |\n",
      "+---+---+---+---+---+---+---+---+---+\n",
      "|   | \u001b[31m11\u001b[0m |   |   |   |   |   |   |   |\n",
      "+---+---+---+---+---+---+---+---+---+\n",
      "# of components = 2\n"
     ]
    }
   ],
   "source": [
    "N, case, count = 12, \"(x)\", 0\n",
    "\n",
    "while case == \"(x)\":\n",
    "    code = [random.randint(0,N) for i in range(4)] #[10,10,4,8] #[8,6,2,7] #\n",
    "    code[3] = code[3]%(sum(code)+code[0])\n",
    "    data = correctness_checking(code)\n",
    "    case = data[1]\n",
    "    count += 1\n",
    "        \n",
    "#-- Display --\n",
    "print(count)\n",
    "print(\"code={}, case=[ {} ]\".format(code,case))\n",
    "for d in data[0]:\n",
    "    d['mm'].show_in_grid() #; display(mm.matrix)\n",
    "    print(\"# of components = {}\".format(int(d['#cmps']/2))+d['memo'])\n",
    "    \n",
    "nums = [data[0][i]['#cmps'] for i in [0,1]]\n",
    "if not nums[0] == nums[1]:\n",
    "    print(\"nums are different!! nums = {}\".format(nums) )"
   ]
  }
 ],
 "metadata": {
  "kernelspec": {
   "display_name": "Python 3 (ipykernel)",
   "language": "python",
   "name": "python3"
  },
  "language_info": {
   "codemirror_mode": {
    "name": "ipython",
    "version": 3
   },
   "file_extension": ".py",
   "mimetype": "text/x-python",
   "name": "python",
   "nbconvert_exporter": "python",
   "pygments_lexer": "ipython3",
   "version": "3.7.16"
  }
 },
 "nbformat": 4,
 "nbformat_minor": 5
}
