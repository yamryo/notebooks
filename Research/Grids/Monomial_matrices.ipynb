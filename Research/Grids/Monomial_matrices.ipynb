{
 "cells": [
  {
   "cell_type": "markdown",
   "id": "960abae3-3425-4b6a-bd61-021218adf1a8",
   "metadata": {},
   "source": [
    "# Monomial matrices and transformations on them"
   ]
  },
  {
   "cell_type": "markdown",
   "id": "b9860c1d-780b-4e97-a5a5-e1cd8401e435",
   "metadata": {
    "tags": []
   },
   "source": [
    "## Libraries"
   ]
  },
  {
   "cell_type": "code",
   "execution_count": 25,
   "id": "d1ce61ce-0b53-43a4-b12d-1400a0252d97",
   "metadata": {
    "editable": true,
    "slideshow": {
     "slide_type": ""
    },
    "tags": []
   },
   "outputs": [],
   "source": [
    "import sys; sys.path.append(\"../modules\")\n",
    "from collections.abc import Iterator\n",
    "\n",
    "import random\n",
    "import numpy as np\n",
    "import sympy; sympy.init_printing()\n",
    "from tqdm.notebook import tqdm\n",
    "\n",
    "from Permutation import * # as pm\n",
    "from Grid import *\n",
    "\n",
    "# ----- Debugger -----\n",
    "# from IPython.core.debugger import Pdb; Pdb().set_trace()"
   ]
  },
  {
   "cell_type": "markdown",
   "id": "baea4840-b9d5-4b0d-b250-2e391aa4169b",
   "metadata": {
    "editable": true,
    "slideshow": {
     "slide_type": ""
    },
    "tags": []
   },
   "source": [
    "## Monomial Matrix Class"
   ]
  },
  {
   "cell_type": "code",
   "execution_count": 42,
   "id": "fc8e0cc0-208c-4e31-b9a0-31031c2ffb85",
   "metadata": {
    "editable": true,
    "slideshow": {
     "slide_type": ""
    },
    "tags": []
   },
   "outputs": [],
   "source": [
    "class MonomialMatrix(dict):\n",
    "    '''A monomial matrix in a form of a pair of a diagonal matrix and a permutation matrix.'''\n",
    "    def __init__(self, diag, perm):\n",
    "        if not ((type(diag) is list) and (type(perm) is Permutation)): raise(TypeError)\n",
    "        if not len(diag) == perm.size: raise(ValueError(\"len(diag) != perm.size\"))\n",
    "        \n",
    "        self['diagonal'] = diag\n",
    "        self['permutation'] = perm\n",
    "        self.size = len(diag)\n",
    "        self.matrix = sympy.diag(*self['diagonal'])*sympy.Matrix(self['permutation'].matrix())\n",
    "        \n",
    "    def represented_PM(self) -> Permutation:\n",
    "        d, p = self['diagonal'], self['permutation']\n",
    "        size, pinv = sum([abs(v) for v in d]), p.inverse()\n",
    "    \n",
    "        I, A = sympy.eye(size), sympy.zeros(0,size)\n",
    "        for k in range(len(d)):\n",
    "            x = abs(d[k])\n",
    "            sign = 1 if d[k]==x else -1\n",
    "            prev = [abs(d[pinv.act(j)]) for j in range(p.act(k))]\n",
    "            abov = [abs(d[i]) for i in range(k)]\n",
    "            sp, sa = sum(prev), sum(abov)\n",
    "        \n",
    "            for i in range(x):\n",
    "                start = sp if sign == 1 else sp+x-1\n",
    "                A = A.row_insert(sa+i, I.row(start+sign*i))\n",
    "        #---\n",
    "        img :list = [np.where(row > 0)[0][0] for row in np.array(A)]\n",
    "        return Permutation(img)\n",
    "    \n",
    "    def grid_generator(self) -> Iterator[str]:\n",
    "        hline = \"+---\" * self.size + \"+\"\n",
    "        vline = \"|   \" * self.size + \"|\"\n",
    "        for row in np.array(self.matrix):\n",
    "            if (idx := np.where(row != 0)[0][0]):\n",
    "                val = row[idx]\n",
    "                val_str = f\"{abs(val)}\"\n",
    "                if val < 0: val_str = \"\\033[31m\" + val_str + \"\\033[0m\"\n",
    "                yield hline + \"\\n\" + vline[: 4*idx+2] + val_str + vline[4*(idx+1)-1 :]\n",
    "            else: yield hline + \"\\n\" + vline\n",
    "        else: yield hline\n",
    "\n",
    "    def show_in_grid(self) -> None:\n",
    "        for line in self.grid_generator(): print(line)\n",
    "#---    \n",
    "MM = MonomialMatrix"
   ]
  },
  {
   "cell_type": "markdown",
   "id": "54d1a28b-8149-42ac-9d65-30b37ad29016",
   "metadata": {
    "editable": true,
    "slideshow": {
     "slide_type": ""
    },
    "tags": []
   },
   "source": [
    "### scratch"
   ]
  },
  {
   "cell_type": "code",
   "execution_count": 44,
   "id": "306d29b9-c55a-41d6-9121-41eee7e71886",
   "metadata": {
    "slideshow": {
     "slide_type": ""
    },
    "tags": []
   },
   "outputs": [
    {
     "data": {
      "image/png": "[encoded data removed]",
      "text/latex": [
       "$\\displaystyle \\left[\\begin{matrix}0 & -4 & 0\\\\2 & 0 & 0\\\\0 & 0 & 3\\end{matrix}\\right]$"
      ],
      "text/plain": [
       "⎡0  -4  0⎤\n",
       "⎢        ⎥\n",
       "⎢2  0   0⎥\n",
       "⎢        ⎥\n",
       "⎣0  0   3⎦"
      ]
     },
     "metadata": {},
     "output_type": "display_data"
    },
    {
     "data": {
      "image/png": "[encoded data removed]",
      "text/latex": [
       "$\\displaystyle \\left[\\begin{matrix}0 & 0 & 0 & 0 & 0 & 1 & 0 & 0 & 0\\\\0 & 0 & 0 & 0 & 1 & 0 & 0 & 0 & 0\\\\0 & 0 & 0 & 1 & 0 & 0 & 0 & 0 & 0\\\\0 & 0 & 1 & 0 & 0 & 0 & 0 & 0 & 0\\\\1 & 0 & 0 & 0 & 0 & 0 & 0 & 0 & 0\\\\0 & 1 & 0 & 0 & 0 & 0 & 0 & 0 & 0\\\\0 & 0 & 0 & 0 & 0 & 0 & 1 & 0 & 0\\\\0 & 0 & 0 & 0 & 0 & 0 & 0 & 1 & 0\\\\0 & 0 & 0 & 0 & 0 & 0 & 0 & 0 & 1\\end{matrix}\\right]$"
      ],
      "text/plain": [
       "⎡0  0  0  0  0  1  0  0  0⎤\n",
       "⎢                         ⎥\n",
       "⎢0  0  0  0  1  0  0  0  0⎥\n",
       "⎢                         ⎥\n",
       "⎢0  0  0  1  0  0  0  0  0⎥\n",
       "⎢                         ⎥\n",
       "⎢0  0  1  0  0  0  0  0  0⎥\n",
       "⎢                         ⎥\n",
       "⎢1  0  0  0  0  0  0  0  0⎥\n",
       "⎢                         ⎥\n",
       "⎢0  1  0  0  0  0  0  0  0⎥\n",
       "⎢                         ⎥\n",
       "⎢0  0  0  0  0  0  1  0  0⎥\n",
       "⎢                         ⎥\n",
       "⎢0  0  0  0  0  0  0  1  0⎥\n",
       "⎢                         ⎥\n",
       "⎣0  0  0  0  0  0  0  0  1⎦"
      ]
     },
     "metadata": {},
     "output_type": "display_data"
    },
    {
     "name": "stdout",
     "output_type": "stream",
     "text": [
      "+---+---+---+\n",
      "|   | \u001b[31m4\u001b[0m |   |\n",
      "+---+---+---+\n",
      "|   |   |   |\n",
      "+---+---+---+\n",
      "|   |   | 3 |\n",
      "+---+---+---+\n"
     ]
    }
   ],
   "source": [
    "mm = MM([-4,2,3], Perm([1,0,2])) #; print(type(mm), mm['diagonal'], mm['permutation'].act(0))\n",
    "aprm = mm.represented_PM()\n",
    "pmtx = sympy.Matrix(aprm.matrix())\n",
    "\n",
    "display(mm.matrix, pmtx)\n",
    "#for row in mm.grid_generator(): print(row)\n",
    "mm.show_in_grid()"
   ]
  },
  {
   "cell_type": "markdown",
   "id": "e9b2d893-926d-4bad-95a2-baac8843f514",
   "metadata": {
    "editable": true,
    "slideshow": {
     "slide_type": ""
    },
    "tags": []
   },
   "source": [
    "## Correctness checking function"
   ]
  },
  {
   "cell_type": "code",
   "execution_count": 29,
   "id": "e36c2915-d326-417e-9bbd-c8573bdc2db3",
   "metadata": {
    "editable": true,
    "slideshow": {
     "slide_type": ""
    },
    "tags": []
   },
   "outputs": [],
   "source": [
    "def correctness_checking(code, restriction='') -> tuple[list[dict, dict],str]:\n",
    "    a,b,c,r = code[0], code[1], code[2], code[3]\n",
    "    d = 2*a+b+c\n",
    "    memo = ''\n",
    "\n",
    "    #-- Set the starting MM --#\n",
    "    if a >= r:\n",
    "        case = \"a>=r\"\n",
    "        s_diag, s_perm_img = [-a,b,c,-a,-(a-r),c,b,-(a-r),-2*r], [8,2,1,5,3,7,6,0,4]\n",
    "    elif r<=a+c:\n",
    "        case = \"a<r<=a+c\"\n",
    "        s_diag, s_perm_img = [-a,b,r-a,a+c-r,-a,a+c-r,b,-2*a,r-a], [8,1,3,0,4,7,5,2,6]\n",
    "    elif r<=a+b+c:\n",
    "        case = \"a+c<r<=a+b+c\"\n",
    "        s_diag, s_perm_img = [-a,r-a-c,a+b+c-r,c,-a,a+b+c-r,-2*a,c,r-a-c], [8,3,0,2,4,6,1,7,5]\n",
    "    elif r<d:\n",
    "        case = \"a+b+c<r<d\"\n",
    "        s_diag, s_perm_img = [-a,b,c,-a,-(d-r),-(d-r),-(a+r-d),c,b,-(a+r-d)], [9,4,3,6,1,0,5,8,7,2]\n",
    "    else: \n",
    "        case = 'ERROR'\n",
    "\n",
    "    #-- Get a transformed MM --#\n",
    "    A = a%r\n",
    "    X, Xi = b, c\n",
    "    Xseq = [(X,Xi)]\n",
    "    while Xi > r:\n",
    "        X = X%(Xi-r)\n",
    "        Xi = (Xi-r)-X\n",
    "        Xseq.append((X,Xi))\n",
    "    case += \" --> Xseq={} --> \".format(Xseq)\n",
    "    #---\n",
    "    if r == Xi:\n",
    "        case += \"Xi=r\"\n",
    "        if restriction in case:\n",
    "            diag, perm_img = [2*r,2*A,2*X], [1,0,2]\n",
    "            memo = f\"(a,r)+X={(a, r)}+{X}={np.gcd(a,r)}+{X}\"\n",
    "        else: case = 'SKIP'\n",
    "    else: #r > Xi:\n",
    "        case += \"Xi<r\"\n",
    "        Z = X%(r-Xi)\n",
    "        Zi = (r-Xi)-Z\n",
    "        if restriction in case:\n",
    "            # diag, perm_img = [Zi,Z,Xi,Zi,Z,Xi,2*a], [3,2,1,6,5,4,0]\n",
    "            diag, perm_img = [Zi,Z,Xi,Zi,Z,Xi,2*A], [3,2,1,6,5,4,0]\n",
    "        else: case = 'SKIP'\n",
    "        \n",
    "    #-- Return MMs --#\n",
    "    sdata, rdata = None, None\n",
    "    if not 'SKIP' in case: \n",
    "        smm = MM(s_diag, Permutation(s_perm_img))\n",
    "        sdata = {'mm': smm, '#orbits': len(cycle_decomp(smm.represented_PM())), 'memo': ''}\n",
    "        #---\n",
    "        rmm = MM(diag, Permutation(perm_img))\n",
    "        rdata = {'mm': rmm, '#orbits': len(cycle_decomp(rmm.represented_PM())), 'memo': memo}\n",
    "    return [sdata, rdata], case    "
   ]
  },
  {
   "cell_type": "markdown",
   "id": "32e16a7e-3588-40d5-a6ae-316e0d51c490",
   "metadata": {
    "editable": true,
    "slideshow": {
     "slide_type": ""
    },
    "tags": []
   },
   "source": [
    "### Experiments"
   ]
  },
  {
   "cell_type": "code",
   "execution_count": 39,
   "id": "daf05b17-ecf9-4129-bf2c-51f9f4c803a0",
   "metadata": {
    "editable": true,
    "slideshow": {
     "slide_type": ""
    },
    "tags": []
   },
   "outputs": [
    {
     "name": "stdout",
     "output_type": "stream",
     "text": [
      "code=[2, 8, 2, 3], case='a<r<=a+c --> Xseq=[(8, 2)] --> Xi<r'\n",
      "nums=[2, 2], memo: \n",
      "+---+---+---+---+---+---+---+---+---+\n",
      "|   | 8 |   |   |   |   |   |   |   |    +---+---+---+---+---+---+---+\n",
      "|   |   |   |   |   |   |   |\n",
      "+---+---+---+---+---+---+---+---+---+\n",
      "| 1 |   |   |   |   |   |   |   |   |    +---+---+---+---+---+---+---+\n",
      "|   |   |   |   |   |   | 1 |\n",
      "+---+---+---+---+---+---+---+---+---+\n",
      "|   |   |   |   |   |   |   | 1 |   |    +---+---+---+---+---+---+---+\n",
      "|   |   |   |   | 2 |   |   |\n",
      "+---+---+---+---+---+---+---+---+---+\n",
      "|   |   | \u001b[31m4\u001b[0m |   |   |   |   |   |   |    +---+---+---+---+---+---+---+\n"
     ]
    },
    {
     "ename": "StopIteration",
     "evalue": "",
     "output_type": "error",
     "traceback": [
      "\u001b[0;31m---------------------------------------------------------------------------\u001b[0m",
      "\u001b[0;31mStopIteration\u001b[0m                             Traceback (most recent call last)",
      "Cell \u001b[0;32mIn[39], line 24\u001b[0m\n\u001b[1;32m     22\u001b[0m \u001b[38;5;28;01mwhile\u001b[39;00m flag:\n\u001b[1;32m     23\u001b[0m     left \u001b[38;5;241m=\u001b[39m \u001b[38;5;28mnext\u001b[39m(gg1)\n\u001b[0;32m---> 24\u001b[0m     right \u001b[38;5;241m=\u001b[39m (\u001b[38;5;28;43mnext\u001b[39;49m\u001b[43m(\u001b[49m\u001b[43mgg2\u001b[49m\u001b[43m)\u001b[49m)\u001b[38;5;241m.\u001b[39mreplace(\u001b[38;5;124m\"\u001b[39m\u001b[38;5;130;01m\\n\u001b[39;00m\u001b[38;5;124m\"\u001b[39m,\u001b[38;5;124m'\u001b[39m\u001b[38;5;124m'\u001b[39m)\n\u001b[1;32m     25\u001b[0m     \u001b[38;5;28mprint\u001b[39m(\u001b[38;5;28mnext\u001b[39m(gg1) \u001b[38;5;241m+\u001b[39m \u001b[38;5;124m'\u001b[39m\u001b[38;5;124m    \u001b[39m\u001b[38;5;124m'\u001b[39m \u001b[38;5;241m+\u001b[39m \u001b[38;5;28mnext\u001b[39m(gg2))\n",
      "\u001b[0;31mStopIteration\u001b[0m: "
     ]
    }
   ],
   "source": [
    "N = 10\n",
    "restriction = '' #\"Xi<r\" #\"r<d\" #\"\" #\n",
    "\n",
    "case = 'SKIP'\n",
    "while 'SKIP' in case: #\n",
    "    code = [0,0,0,0]\n",
    "    while code[0]*code[3] == 0:\n",
    "        code = [random.randint(0,N) for i in range(4)]\n",
    "        d = 2*code[0]+code[1]+code[2]\n",
    "        code[3] = code[3]%(2*code[0]+code[1]+code[2]) if d > 0 else 0\n",
    "    data = correctness_checking(code, restriction)\n",
    "    case = data[1]\n",
    "        \n",
    "#-- Display --\n",
    "print(f\"{code=}, {case=}\")\n",
    "nums :list = [int(data[0][i]['#orbits']/2) for i in [0,1]]\n",
    "err_str = \"\\033[31m!! nums are different !!\\033[0m\"\n",
    "print(f\"{nums=}\" + (err_str if not nums[0] == nums[1] else '') + f\", memo: {data[0][1]['memo']}\")\n",
    "\n",
    "gg1, gg2 = data[0][0]['mm'].grid_generator(), data[0][1]['mm'].grid_generator()\n",
    "flag = True\n",
    "while flag:\n",
    "    left = next(gg1)\n",
    "    right = (next(gg2)).replace(\"\\n\",'')\n",
    "    print(next(gg1) + '    ' + next(gg2))"
   ]
  },
  {
   "cell_type": "code",
   "execution_count": 38,
   "id": "4c838096-1888-4338-a802-0c24f18447f5",
   "metadata": {},
   "outputs": [
    {
     "name": "stdout",
     "output_type": "stream",
     "text": [
      "\n",
      "ABC\n",
      "ABC\n"
     ]
    }
   ],
   "source": [
    "mstr = \"\\n\" + \"ABC\"\n",
    "print(mstr)\n",
    "print(mstr.replace(\"\\n\",\"\"))"
   ]
  },
  {
   "cell_type": "code",
   "execution_count": 6,
   "id": "1e44f55c-ce64-445d-8a05-61d7166772e7",
   "metadata": {
    "editable": true,
    "slideshow": {
     "slide_type": ""
    },
    "tags": []
   },
   "outputs": [
    {
     "data": {
      "application/vnd.jupyter.widget-view+json": {
       "model_id": "654949a5b4be45469b88892049cc20c6",
       "version_major": 2,
       "version_minor": 0
      },
      "text/plain": [
       "  0%|          | 0/200 [00:00<?, ?it/s]"
      ]
     },
     "metadata": {},
     "output_type": "display_data"
    },
    {
     "name": "stdout",
     "output_type": "stream",
     "text": [
      "ones=106,  skipped=0\n"
     ]
    }
   ],
   "source": [
    "R, N, skipped, ones = 200, 20, 0, 0\n",
    "rstn = '' #'r<d' #'a+b+c' #\"Xi=r\" #\"r<=a+c\"\n",
    "\n",
    "for count in tqdm(range(R)):\n",
    "    case = 'SKIP'\n",
    "    while 'SKIP' in case:\n",
    "        code = [0,0,0,0]\n",
    "        while code[0]*code[3] == 0:\n",
    "            code = [random.randint(0,N) for i in range(4)]\n",
    "            d = 2*code[0]+code[1]+code[2]\n",
    "            code[3] = code[3]%d if d>0 else 0\n",
    "        data = correctness_checking(code, rstn)\n",
    "        case = data[1]\n",
    "        if 'SKIP' in case: skipped += 1\n",
    "            \n",
    "    nums = [int(data[0][i]['#orbits']/2) for i in [0,1]]\n",
    "    if nums[0] == 1: ones += 1\n",
    "    if not nums[0] == nums[1]:\n",
    "        print(f\"nums are different!! {nums=} / {code=}, {case=}\")\n",
    "        for d in data[0]:\n",
    "            d['mm'].show_in_grid() #; display(mm.matrix)\n",
    "            print(d['memo'])\n",
    "    \n",
    "print(f\"{ones=},  {skipped=}\")"
   ]
  },
  {
   "cell_type": "markdown",
   "id": "dc6dde79-1078-4bfa-a934-3da50bbd8f9a",
   "metadata": {
    "tags": []
   },
   "source": [
    "### scratch"
   ]
  },
  {
   "cell_type": "code",
   "execution_count": null,
   "id": "3d734825-367d-45e2-a380-2bf0b95c85d2",
   "metadata": {
    "scrolled": true
   },
   "outputs": [],
   "source": [
    "a,b,c = random.randint(1,10),random.randint(1,10), random.randint(1,10)\n",
    "r = c + random.randint(1,5)\n",
    "# a,b,c,r = 9,4,8,3\n",
    "\n",
    "b1=b%(c-r)\n",
    "c1=(c-r)-b1\n",
    "\n",
    "Z = b1%(r-c)\n",
    "Zi = (r-c)-Z\n",
    "\n",
    "mm1 = MM([Zi,Z,c,Zi,Z,c,2*(a%r)], Perm([3,2,1,6,5,4,0]))\n",
    "mm2 = MM([r,b,c,r,b,c,2*(a%r)], Perm([3,2,1,6,5,4,0]))\n",
    "mm3 = MM([c1,b1,c,c1,b1,c,2*(a%r)], Perm([3,2,1,6,5,4,0]))\n",
    "mm4 = MM([Zi,Z,c,Zi,Z,c,2*(a%r)], Perm([3,2,1,6,5,4,0]))\n",
    "mms = [mm1, mm2, mm3, mm4]\n",
    "\n",
    "print([len(cycle_decomp(mm.represented_PM())) for mm in mms], 2*np.gcd(a,r))\n",
    "[mm.show_in_grid() for mm in mms]"
   ]
  },
  {
   "cell_type": "code",
   "execution_count": null,
   "id": "580eeaa2-d3b6-45b3-80aa-77014c6f804c",
   "metadata": {},
   "outputs": [],
   "source": [
    "a,b,c = random.randint(1,10),random.randint(1,10), random.randint(1,10)\n",
    "r = c + random.randint(1,5)\n",
    "\n",
    "Z = b%(r-c)\n",
    "Zi = (r-c)-Z\n",
    "\n",
    "mm1 = MM([Zi,Z,c,Zi,Z,c,2*(a%r)+r], Perm([6,5,4,3,2,1,0]))\n",
    "mm2 = MM([Zi,Z,c,a%r], Perm([1,2,3,0]))\n",
    "mm3 = MM([Zi,Z,c,a%r], Perm([2,3,0,1]))\n",
    "\n",
    "nums = []\n",
    "for mm in [mm1, mm2, mm3]: \n",
    "    mm.show_in_grid()\n",
    "    nums.append(len(cycle_decomp(mm.represented_PM())))\n",
    "print(nums)"
   ]
  },
  {
   "cell_type": "code",
   "execution_count": null,
   "id": "ab57f842-bbee-4546-96b1-a4651b0cdc20",
   "metadata": {},
   "outputs": [],
   "source": [
    "a, r = random.randint(1,10), random.randint(1,10) #1, 1 #\n",
    "A = a%r\n",
    "\n",
    "mm1 = MM([-A, -(2*r-A),-2*r,A],Perm([2,3,0,1]))\n",
    "mm2 = MM([2*r-A,-A,A],Perm([2,1,0]))\n",
    "mm3 = MM([2*r,-A,A],Perm([2,0,1]))\n",
    "mms = [mm1, mm2, mm3]\n",
    "\n",
    "[mm.show_in_grid() for mm in mms]\n",
    "\n",
    "print([len(cycle_decomp(mm.represented_PM())) for mm in mms], 2*np.gcd(A,r))"
   ]
  },
  {
   "cell_type": "markdown",
   "id": "06c67e12-01b3-499a-89c2-ac7acbed2b04",
   "metadata": {
    "jp-MarkdownHeadingCollapsed": true,
    "tags": []
   },
   "source": [
    "### Nando"
   ]
  },
  {
   "cell_type": "code",
   "execution_count": null,
   "id": "e67575a6-6265-487e-a397-6d608e4fd952",
   "metadata": {
    "tags": []
   },
   "outputs": [],
   "source": [
    "def correctness_checking(code, restriction=''):\n",
    "    a,b,c,r = code[0], code[1], code[2], code[3]\n",
    "    sdata, rdata, case, memo = None, None, None, ''\n",
    "\n",
    "#-- Transforming MMs --\n",
    "    if a >= r:\n",
    "        case = \"a>=r\"\n",
    "        s_diag, s_perm_img = [-a,b,c,-a,-(a-r),c,b,-(a-r),-2*r], [8,2,1,5,3,7,6,0,4]\n",
    "        #---\n",
    "        A = a%r\n",
    "        X, Xi = b, c\n",
    "        Xseq = [X]\n",
    "        while Xi > r:\n",
    "            X = X%(Xi-r)\n",
    "            Xi = (Xi-r)-X\n",
    "            Xseq.append(X)\n",
    "        case += \", ...Xseq={}...\".format(Xseq)\n",
    "        if r == Xi:\n",
    "            case += \", Xi=r\"\n",
    "            if restriction in case:\n",
    "                diag, perm_img = [2*r,2*A,2*X], [1,0,2]\n",
    "                memo = \"(A,r)+X=({},{})+{}={}+{}\".format(A, r, X, np.gcd(A, r),X)\n",
    "            else: case = None\n",
    "        else: #r > Xi:\n",
    "            case += \", Xi<r\"\n",
    "            Z = X%(r-Xi)\n",
    "            Zi = (r-Xi)-Z\n",
    "            if restriction in case:\n",
    "                diag, perm_img = [Zi,Z,Xi,Zi,Z,Xi,2*A], [3,2,1,6,5,4,0]\n",
    "                # diag, perm_img = [Zi,Z,Xi,Zi,Z,Xi,(2*A+r)%(2*r)], [6,5,4,3,2,1,0]\n",
    "            else: case = None\n",
    "    elif r <= a+c:\n",
    "        case = \"a<r<=a+c\"\n",
    "        s_diag, s_perm_img = [-a,b,r-a,a+c-r,-a,a+c-r,b,-2*a,r-a], [8,1,3,0,4,7,5,2,6]\n",
    "        #---\n",
    "        B = b%a\n",
    "        Bi = a-B\n",
    "        if False: #r == a+c:\n",
    "            case += \", r=a+c\"\n",
    "            if restriction in case:\n",
    "                diag, perm_img = [r, Bi, B, B, Bi, r], [2,1,0,5,4,3]\n",
    "                memo = \"(a,r-B)=({},{})={}\".format(a, r-B, np.gcd(a,r-B))\n",
    "            else: case = None\n",
    "        elif r <= a+c:\n",
    "            case += \", r<=a+c\"\n",
    "            X, Xi = b, c\n",
    "            Xseq = [X]\n",
    "            while Xi > r:\n",
    "                X = X%(Xi-r)\n",
    "                Xi = (Xi-r)-X\n",
    "                Xseq.append(X)\n",
    "            case += \", ...Xseq={}...\".format(Xseq)\n",
    "            if r == Xi:\n",
    "                case += \", Xi=r\"\n",
    "                R = r%(2*a)\n",
    "                Ri = 2*a-R\n",
    "                if restriction in case:\n",
    "                    diag, perm_img = [-R,-Ri,-Ri,-R,2*X], [2,3,0,1,4]\n",
    "                    # diag, perm_img = [r,-2*a,-2*a,r,2*X], [1,3,0,2,4]\n",
    "                    # memo = \"(R,Ri)=({},{})={}\".format(R,Ri,np.gcd(R,Ri))\n",
    "                else: case = None\n",
    "            else: #r > Xi\n",
    "                case += \", Xi<r\"\n",
    "                Z = X%(r-Xi)\n",
    "                Zi = (r-Xi)-Z\n",
    "                if restriction in case:\n",
    "                    # diag, perm_img = [Zi,Z,Xi,-2*a,-2*a,Xi,Z,Zi], [3,2,1,7,0,6,5,4]\n",
    "                  c  diag, perm_img = [Zi,Z,Xi,Zi,Z,Xi,2*a], [3,2,1,6,5,4,0]\n",
    "                else: case = None\n",
    "        else: case = None\n",
    "    elif a+c < r < a+b+c:\n",
    "        case = \"a+c<r<a+b+c\"\n",
    "        ###=== CONSTRUCTING NOW! ===###        \n",
    "        case = None\n",
    "    else: case = None\n",
    "    #----    \n",
    "    if case is not None: \n",
    "        starting_mm = MM(s_diag, pm.Permutation(s_perm_img))\n",
    "        sdata = {'mm': starting_mm, '#orbits': len(pm.cycle_decomp(starting_mm.associate_PM())), 'memo': ''}\n",
    "        #---\n",
    "        resulting_mm = MM(diag, pm.Permutation(perm_img))\n",
    "        rdata = {'mm': resulting_mm, '#orbits': len(pm.cycle_decomp(resulting_mm.associate_PM())), 'memo': memo}\n",
    "#----    \n",
    "    return [sdata, rdata], case"
   ]
  },
  {
   "cell_type": "code",
   "execution_count": null,
   "id": "2156d153-611e-4dd3-8513-e8ebd44a9e24",
   "metadata": {
    "tags": []
   },
   "outputs": [],
   "source": [
    "def correctness_checking(code, restriction=''):\n",
    "#-- Starting MM --\n",
    "    a,b,c,r = code[0], code[1], code[2], code[3]\n",
    "    starting_mm = MM([-a,b,c,-a,-(a-r),c,b,-(a-r),-2*r], pm.Permutation([8,2,1,5,3,7,6,0,4]))\n",
    "    snum  = len(pm.cycle_decomp(starting_mm.associate_PM()))\n",
    "    sdata = {'mm': starting_mm, '#orbits': snum, 'memo': ''}\n",
    "\n",
    "#-- Resulting MM --\n",
    "    flag = True\n",
    "    resulting_mm, rnum, memo = None, None, ''\n",
    "    if a-r>=0:\n",
    "        case = \"a>=r\"\n",
    "        if r-c == 0:\n",
    "            case += \", r=c\"\n",
    "            if restriction in case:\n",
    "                resulting_mm = MM([-r,-a,-(a-r),r,a-r,-2*r,2*b], pm.Permutation([4,2,0,3,5,1,6]))\n",
    "                rnum = len(pm.cycle_decomp(resulting_mm.associate_PM())) + 2*b\n",
    "                memo = \", b={}\".format(b)\n",
    "            else: case = \"(x)\"\n",
    "        elif r-c > 0:\n",
    "            case += \", r>c\"\n",
    "            X, Y = b%(r-c), (a-r)%(2*r)\n",
    "            Xi, Yi = (r-c)-X, (2*r)-Y\n",
    "            if restriction in case:\n",
    "                resulting_mm = MM([Xi,X,c,Xi,X,c,2*Y], pm.Permutation([3,2,1,6,5,4,0]))\n",
    "                rnum = len(pm.cycle_decomp(resulting_mm.associate_PM()))\n",
    "            else: case = \"(x)\"\n",
    "            # if Xi == Y:\n",
    "            #     case += \", Xi=Y\"\n",
    "            #     resulting_mm = MM([X,c,Xi,X,c,Xi], pm.Permutation([2,1,0,5,4,3]))\n",
    "            #     rnum = 2*np.gcd(X+c, r-X) #len(pm.cycle_decomp(resulting_mm.associate_PM()))\n",
    "            #     memo = \", (X+c, r-X)=({},{})={}\".format(X+c, r-X, np.gcd(X+c, r-X))\n",
    "            # elif Xi > Y:\n",
    "            #     case += \", Xi>Y\"\n",
    "            #     Z = Xi-Y\n",
    "            #     # resulting_mm = MM([-Z,-X,-c,-Z,Y,-X,-c,-Y,-Yi], pm.Permutation([5,7,8,2,0,3,4,6,1]))\n",
    "            #     # resulting_mm = MM([-Z,X,c,Z,Y,-X,-c,-Y,-r], pm.Permutation([7,2,1,4,0,5,6,8,3]))\n",
    "            #     # resulting_mm = MM([Z,X,c,Z,Y,X,c,Y], pm.Permutation([4,2,1,7,0,6,5,3]))\n",
    "            #     resulting_mm = MM([Xi,X,c,Xi,X,c,2*Y], pm.Permutation([3,2,1,6,5,4,0]))\n",
    "            #     rnum = len(pm.cycle_decomp(resulting_mm.associate_PM()))\n",
    "            # else:\n",
    "            #     case += \", Xi<Y\"\n",
    "            #     # resulting_mm = MM([-Xi,-X,-c,-Xi,-X,-c,Y,-Y,-Yi], pm.Permutation([6,7,8,3,4,5,0,1,2]))\n",
    "            #     resulting_mm = MM([Xi,X,c,Xi,X,c,2*Y], pm.Permutation([3,2,1,6,5,4,0]))\n",
    "            #     rnum = len(pm.cycle_decomp(resulting_mm.associate_PM()))\n",
    "        else: # r-c < 0\n",
    "            case += \", r<c\"\n",
    "            X, Y = b%(c-r), (a-r)%(2*r)\n",
    "            Xi, Yi = (c-r)-X, (2*r)-Y\n",
    "            # if r-Yi == 0:\n",
    "            #     case += \", r=Yi\"\n",
    "            #     if restriction in case:\n",
    "            #         resulting_mm = MM([Xi,X,r,r,X,Xi], pm.Permutation([2,1,0,5,4,3]))\n",
    "            #         rnum = len(pm.cycle_decomp(resulting_mm.associate_PM()))\n",
    "            #     else: case = \"(x)\"\n",
    "            # else:\n",
    "                # case += \", r!=Yi\"\n",
    "            if r-Xi == 0:\n",
    "                case += \", r=Xi\"\n",
    "                if restriction in case:\n",
    "                    resulting_mm = MM([-Y,-Yi,-2*r,Y,2*X], pm.Permutation([2,3,0,1,4]))\n",
    "                    rnum = len(pm.cycle_decomp(resulting_mm.associate_PM()))\n",
    "                    memo = \", (Y,r)+X=({},{})+{}={}+{}\".format(Y, r, X, np.gcd(Y, r),X)\n",
    "                else: case = \"(x)\"\n",
    "            if r-Xi > 0:\n",
    "                case += \", r>Xi\"\n",
    "                Z = X%abs(r-Xi)\n",
    "                Zi = abs(r-Xi)-Z\n",
    "                if restriction in case:\n",
    "                    # resulting_mm = MM([2*Y,Xi,X,r,r,X,Xi], pm.Permutation([6,2,1,0,5,4,3]))\n",
    "                    # resulting_mm = MM([Xi,X,-Y,-Yi,-r,X,Xi,-r,Y], pm.Permutation([2,1,7,8,3,5,4,0,6]))\n",
    "                    # resulting_mm = MM([Xi,X,-Y,-(Yi-r),r,X,Xi,-r,Y], pm.Permutation([2,1,6,8,7,4,3,0,5]))\n",
    "                    # resulting_mm = MM([Xi,X,-r,r,X,Xi,-r,2*Y], pm.Permutation([2,1,7,6,4,3,0,5]))\n",
    "                    resulting_mm = MM([Zi,Z,Xi,Zi,Z,Xi,2*Y], pm.Permutation([3,2,1,6,5,4,0]))\n",
    "                    rnum = len(pm.cycle_decomp(resulting_mm.associate_PM()))\n",
    "                else: case = \"(x)\"\n",
    "            else: case = \"(x)\"\n",
    "    else: case = \"(x)\"\n",
    "    rdata = {'mm': resulting_mm, '#orbits': rnum, 'memo': memo}\n",
    "#----    \n",
    "    return [sdata, rdata], case"
   ]
  }
 ],
 "metadata": {
  "kernelspec": {
   "display_name": "py312",
   "language": "python",
   "name": "py312"
  },
  "language_info": {
   "codemirror_mode": {
    "name": "ipython",
    "version": 3
   },
   "file_extension": ".py",
   "mimetype": "text/x-python",
   "name": "python",
   "nbconvert_exporter": "python",
   "pygments_lexer": "ipython3",
   "version": "3.12.1"
  }
 },
 "nbformat": 4,
 "nbformat_minor": 5
}
