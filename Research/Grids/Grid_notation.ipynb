{
 "cells": [
  {
   "cell_type": "markdown",
   "id": "14d1259d-831e-43cf-92e1-533d80bf61e8",
   "metadata": {
    "tags": []
   },
   "source": [
    "# Grid notation of permutations"
   ]
  },
  {
   "cell_type": "markdown",
   "id": "fede5985-2813-433b-91a3-5b77dcef6e4e",
   "metadata": {},
   "source": [
    "## Libraries"
   ]
  },
  {
   "cell_type": "code",
   "execution_count": 1,
   "id": "38837ea6-e052-46a8-95a6-873664edf383",
   "metadata": {
    "tags": []
   },
   "outputs": [],
   "source": [
    "import random\n",
    "import sympy\n",
    "sympy.init_printing()\n",
    "\n",
    "# import plotly.graph_objects as go\n",
    "\n",
    "# ----- Debugger -----\n",
    "# from IPython.core.debugger import Pdb; Pdb().set_trace()\n",
    "# --------------------"
   ]
  },
  {
   "cell_type": "code",
   "execution_count": 2,
   "id": "a5a57112-f537-420b-b2fd-7779f74ef991",
   "metadata": {},
   "outputs": [],
   "source": [
    "import sys\n",
    "sys.path.append(\"../modules\")\n",
    "\n",
    "import Permutations as pm\n",
    "from Grid import *"
   ]
  },
  {
   "cell_type": "markdown",
   "id": "469c780e-da86-4362-a655-55667352e89d",
   "metadata": {
    "tags": []
   },
   "source": [
    "## Sequence of reduction"
   ]
  },
  {
   "cell_type": "code",
   "execution_count": 3,
   "id": "944559eb-e992-4de7-a815-415020f90742",
   "metadata": {
    "tags": []
   },
   "outputs": [
    {
     "data": {
      "image/png": "[encoded data removed]",
      "text/latex": [
       "$\\displaystyle \\left[\\begin{matrix}0 & 1 & 2 & 3 & 4 & 5 & 6 & 7 & 8 & 9\\\\2 & 1 & 3 & 5 & 9 & 6 & 8 & 4 & 0 & 7\\end{matrix}\\right]$"
      ],
      "text/plain": [
       "⎡0  1  2  3  4  5  6  7  8  9⎤\n",
       "⎢                            ⎥\n",
       "⎣2  1  3  5  9  6  8  4  0  7⎦"
      ]
     },
     "metadata": {},
     "output_type": "display_data"
    },
    {
     "name": "stdout",
     "output_type": "stream",
     "text": [
      "[[2, 3, 5, 6, 8, 0], [1], [9, 7, 4]], 3\n",
      "+---+---+---+---+---+---+---+---+---+---+\n",
      "|   |   |   |   |   |   |   |   | 1 |   |\n",
      "+---+---+---+---+---+---+---+---+---+---+\n",
      "|   | 1 |   |   |   |   |   |   |   |   |\n",
      "+---+---+---+---+---+---+---+---+---+---+\n",
      "| 1 |   |   |   |   |   |   |   |   |   |\n",
      "+---+---+---+---+---+---+---+---+---+---+\n",
      "|   |   | 1 |   |   |   |   |   |   |   |\n",
      "+---+---+---+---+---+---+---+---+---+---+\n",
      "|   |   |   |   |   |   |   | 1 |   |   |\n",
      "+---+---+---+---+---+---+---+---+---+---+\n",
      "|   |   |   | 1 |   |   |   |   |   |   |\n",
      "+---+---+---+---+---+---+---+---+---+---+\n",
      "|   |   |   |   |   | 1 |   |   |   |   |\n",
      "+---+---+---+---+---+---+---+---+---+---+\n",
      "|   |   |   |   |   |   |   |   |   | 1 |\n",
      "+---+---+---+---+---+---+---+---+---+---+\n",
      "|   |   |   |   |   |   | 1 |   |   |   |\n",
      "+---+---+---+---+---+---+---+---+---+---+\n",
      "|   |   |   |   | 1 |   |   |   |   |   |\n",
      "+---+---+---+---+---+---+---+---+---+---+\n"
     ]
    }
   ],
   "source": [
    "N = 10\n",
    "img = list(range(N)); random.shuffle(img)\n",
    "\n",
    "prm = pm.Permutation(img)\n",
    "display(sympy.Matrix(prm.two_line()))  # , prm.image, prm.size)\n",
    "cd = pm.cycle_decomp(prm); print(\"{}, {}\".format(cd, len(cd)))\n",
    "\n",
    "G = Grid(prm)\n",
    "G.show()"
   ]
  },
  {
   "cell_type": "code",
   "execution_count": 4,
   "id": "74faa9e8-020c-48ff-9318-f2036f1079e0",
   "metadata": {
    "tags": []
   },
   "outputs": [
    {
     "name": "stdout",
     "output_type": "stream",
     "text": [
      "+---+---+---+---+---+---+---+---+---+\n",
      "| 1 |   |   |   |   |   |   |   |   |\n",
      "+---+---+---+---+---+---+---+---+---+\n",
      "|   |   |   |   |   |   |   | 1 |   |\n",
      "+---+---+---+---+---+---+---+---+---+\n",
      "|   | 1 |   |   |   |   |   |   |   |\n",
      "+---+---+---+---+---+---+---+---+---+\n",
      "|   |   |   |   |   |   | 1 |   |   |\n",
      "+---+---+---+---+---+---+---+---+---+\n",
      "|   |   | 1 |   |   |   |   |   |   |\n",
      "+---+---+---+---+---+---+---+---+---+\n",
      "|   |   |   |   | 1 |   |   |   |   |\n",
      "+---+---+---+---+---+---+---+---+---+\n",
      "|   |   |   |   |   |   |   |   | 1 |\n",
      "+---+---+---+---+---+---+---+---+---+\n",
      "|   |   |   |   |   | 1 |   |   |   |\n",
      "+---+---+---+---+---+---+---+---+---+\n",
      "|   |   |   | 1 |   |   |   |   |   |\n",
      "+---+---+---+---+---+---+---+---+---+\n",
      "\n",
      "↓ []\n",
      "\n",
      "+---+---+---+---+---+---+---+---+\n",
      "|   |   |   |   |   |   | 1 |   |\n",
      "+---+---+---+---+---+---+---+---+\n",
      "| 1 |   |   |   |   |   |   |   |\n",
      "+---+---+---+---+---+---+---+---+\n",
      "|   |   |   |   |   | 1 |   |   |\n",
      "+---+---+---+---+---+---+---+---+\n",
      "|   | 1 |   |   |   |   |   |   |\n",
      "+---+---+---+---+---+---+---+---+\n",
      "|   |   |   | 1 |   |   |   |   |\n",
      "+---+---+---+---+---+---+---+---+\n",
      "|   |   |   |   |   |   |   | 1 |\n",
      "+---+---+---+---+---+---+---+---+\n",
      "|   |   |   |   | 1 |   |   |   |\n",
      "+---+---+---+---+---+---+---+---+\n",
      "|   |   | 1 |   |   |   |   |   |\n",
      "+---+---+---+---+---+---+---+---+\n",
      "\n",
      "↓ [1]\n",
      "\n",
      "+---+---+---+---+---+---+---+\n",
      "|   |   |   |   |   | 1 |   |\n",
      "+---+---+---+---+---+---+---+\n",
      "|   |   |   |   | 1 |   |   |\n",
      "+---+---+---+---+---+---+---+\n",
      "| 1 |   |   |   |   |   |   |\n",
      "+---+---+---+---+---+---+---+\n",
      "|   |   | 1 |   |   |   |   |\n",
      "+---+---+---+---+---+---+---+\n",
      "|   |   |   |   |   |   | 1 |\n",
      "+---+---+---+---+---+---+---+\n",
      "|   |   |   | 1 |   |   |   |\n",
      "+---+---+---+---+---+---+---+\n",
      "|   | 1 |   |   |   |   |   |\n",
      "+---+---+---+---+---+---+---+\n",
      "\n",
      "↓ [1]\n",
      "\n",
      "+---+---+---+---+---+\n",
      "|   |   |   | 2 |   |\n",
      "+---+---+---+---+---+\n",
      "|   | 1 |   |   |   |\n",
      "+---+---+---+---+---+\n",
      "|   |   |   |   | 1 |\n",
      "+---+---+---+---+---+\n",
      "|   |   | 1 |   |   |\n",
      "+---+---+---+---+---+\n",
      "| 1 |   |   |   |   |\n",
      "+---+---+---+---+---+\n",
      "\n",
      "↓ [1]\n",
      "\n",
      "+---+---+---+---+\n",
      "|   |   | 1 |   |\n",
      "+---+---+---+---+\n",
      "| 1 |   |   |   |\n",
      "+---+---+---+---+\n",
      "|   |   |   | 1 |\n",
      "+---+---+---+---+\n",
      "|   | 2 |   |   |\n",
      "+---+---+---+---+\n",
      "\n",
      "↓ [1]\n",
      "\n",
      "+---+---+\n",
      "|   | 2 |\n",
      "+---+---+\n",
      "| 2 |   |\n",
      "+---+---+\n",
      "\n",
      "↓ [1]\n",
      "\n",
      "+---+\n",
      "| 2 |\n",
      "+---+\n",
      "numbers:[1, 2], total:3\n"
     ]
    }
   ],
   "source": [
    "grid = G.copy()\n",
    "nums = []\n",
    "\n",
    "while grid.size > 1:\n",
    "    new = grid.transform()\n",
    "    if type(new) == dict:\n",
    "        nums += [new[\"num\"]]\n",
    "        grid = new[\"grid\"]\n",
    "    else:\n",
    "        grid = new\n",
    "    grid.show()\n",
    "    print(\"\\n↓ {}\\n\".format(nums)) if grid.size > 1 else \"END\"\n",
    "else:\n",
    "    nums += [grid.matrix[0][0]]\n",
    "    print(\"numbers:{}, total:{}\".format(nums, sum(nums)))"
   ]
  },
  {
   "cell_type": "code",
   "execution_count": null,
   "id": "96a7318e-be2c-4814-94d7-c6da62ee4683",
   "metadata": {},
   "outputs": [],
   "source": []
  }
 ],
 "metadata": {
  "kernelspec": {
   "display_name": "Python 3",
   "language": "python",
   "name": "python3"
  },
  "language_info": {
   "codemirror_mode": {
    "name": "ipython",
    "version": 3
   },
   "file_extension": ".py",
   "mimetype": "text/x-python",
   "name": "python",
   "nbconvert_exporter": "python",
   "pygments_lexer": "ipython3",
   "version": "3.6.13"
  }
 },
 "nbformat": 4,
 "nbformat_minor": 5
}
