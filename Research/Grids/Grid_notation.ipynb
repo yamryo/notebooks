{
 "cells": [
  {
   "cell_type": "markdown",
   "id": "14d1259d-831e-43cf-92e1-533d80bf61e8",
   "metadata": {
    "tags": []
   },
   "source": [
    "# Grid notation of permutations"
   ]
  },
  {
   "cell_type": "markdown",
   "id": "fede5985-2813-433b-91a3-5b77dcef6e4e",
   "metadata": {},
   "source": [
    "## Libraries"
   ]
  },
  {
   "cell_type": "code",
   "execution_count": 8,
   "id": "38837ea6-e052-46a8-95a6-873664edf383",
   "metadata": {
    "tags": []
   },
   "outputs": [],
   "source": [
    "import random\n",
    "import sympy\n",
    "sympy.init_printing()\n",
    "\n",
    "from ipywidgets import interact\n",
    "\n",
    "# import plotly.graph_objects as go\n",
    "\n",
    "# ----- Debugger -----\n",
    "# from IPython.core.debugger import Pdb; Pdb().set_trace()\n",
    "# --------------------"
   ]
  },
  {
   "cell_type": "code",
   "execution_count": 2,
   "id": "a5a57112-f537-420b-b2fd-7779f74ef991",
   "metadata": {},
   "outputs": [],
   "source": [
    "import sys\n",
    "sys.path.append(\"../modules\")\n",
    "\n",
    "import Permutations as pm\n",
    "from Grid import *"
   ]
  },
  {
   "cell_type": "markdown",
   "id": "96aad443-da31-4bad-836b-94cd559663e9",
   "metadata": {},
   "source": [
    "## Grid notation"
   ]
  },
  {
   "cell_type": "code",
   "execution_count": 17,
   "id": "90ca4f84-da0b-4941-a96d-5d25b16916e4",
   "metadata": {},
   "outputs": [],
   "source": [
    "def get_grid(N):\n",
    "    img = list(range(N)); random.shuffle(img)\n",
    "\n",
    "    prm = pm.Permutation(img)\n",
    "    display(sympy.Matrix(prm.two_line()))  # , prm.image, prm.size)\n",
    "    cd = pm.cycle_decomp(prm); print(\"{}, {}\".format(cd, len(cd)))\n",
    "\n",
    "    return Grid(prm)"
   ]
  },
  {
   "cell_type": "code",
   "execution_count": 25,
   "id": "456ac219-91b4-47b2-82f7-788f63808a94",
   "metadata": {},
   "outputs": [
    {
     "data": {
      "application/vnd.jupyter.widget-view+json": {
       "model_id": "cd4f5a127f97457db535a2ad1361b044",
       "version_major": 2,
       "version_minor": 0
      },
      "text/plain": [
       "interactive(children=(IntSlider(value=10, description='N', max=30, min=-10), Output()), _dom_classes=('widget-…"
      ]
     },
     "metadata": {},
     "output_type": "display_data"
    }
   ],
   "source": [
    "interact(show_grid, N=10);"
   ]
  },
  {
   "cell_type": "markdown",
   "id": "469c780e-da86-4362-a655-55667352e89d",
   "metadata": {
    "tags": []
   },
   "source": [
    "## Sequence of reduction"
   ]
  },
  {
   "cell_type": "code",
   "execution_count": 26,
   "id": "70ed1a04-56be-44a0-93aa-6117bc35f0ca",
   "metadata": {
    "tags": []
   },
   "outputs": [
    {
     "data": {
      "image/png": "[encoded data removed]",
      "text/latex": [
       "$\\displaystyle \\left[\\begin{matrix}0 & 1 & 2 & 3 & 4 & 5 & 6 & 7 & 8 & 9\\\\8 & 1 & 6 & 5 & 9 & 2 & 3 & 7 & 0 & 4\\end{matrix}\\right]$"
      ],
      "text/plain": [
       "⎡0  1  2  3  4  5  6  7  8  9⎤\n",
       "⎢                            ⎥\n",
       "⎣8  1  6  5  9  2  3  7  0  4⎦"
      ]
     },
     "metadata": {},
     "output_type": "display_data"
    },
    {
     "name": "stdout",
     "output_type": "stream",
     "text": [
      "[[8, 0], [1], [6, 3, 5, 2], [9, 4], [7]], 5\n",
      "+---+---+---+---+---+---+---+---+---+\n",
      "|   |   |   |   |   |   |   | 1 |   |\n",
      "+---+---+---+---+---+---+---+---+---+\n",
      "|   | 1 |   |   |   |   |   |   |   |\n",
      "+---+---+---+---+---+---+---+---+---+\n",
      "|   |   |   |   |   | 2 |   |   |   |\n",
      "+---+---+---+---+---+---+---+---+---+\n",
      "|   |   |   |   |   |   |   |   | 1 |\n",
      "+---+---+---+---+---+---+---+---+---+\n",
      "|   |   |   | 1 |   |   |   |   |   |\n",
      "+---+---+---+---+---+---+---+---+---+\n",
      "|   |   | 1 |   |   |   |   |   |   |\n",
      "+---+---+---+---+---+---+---+---+---+\n",
      "|   |   |   |   |   |   | 1 |   |   |\n",
      "+---+---+---+---+---+---+---+---+---+\n",
      "| 1 |   |   |   |   |   |   |   |   |\n",
      "+---+---+---+---+---+---+---+---+---+\n",
      "|   |   |   |   | 1 |   |   |   |   |\n",
      "+---+---+---+---+---+---+---+---+---+\n",
      "\n",
      "TL ↓   nums = []\n",
      "\n",
      "+---+---+---+---+---+---+---+\n",
      "| 1 |   |   |   |   |   |   |\n",
      "+---+---+---+---+---+---+---+\n",
      "|   |   |   |   | 2 |   |   |\n",
      "+---+---+---+---+---+---+---+\n",
      "|   |   |   |   |   |   | 1 |\n",
      "+---+---+---+---+---+---+---+\n",
      "|   |   | 1 |   |   |   |   |\n",
      "+---+---+---+---+---+---+---+\n",
      "|   | 1 |   |   |   |   |   |\n",
      "+---+---+---+---+---+---+---+\n",
      "|   |   |   |   |   | 2 |   |\n",
      "+---+---+---+---+---+---+---+\n",
      "|   |   |   | 1 |   |   |   |\n",
      "+---+---+---+---+---+---+---+\n",
      "\n",
      "BR ↓   nums = []\n",
      "\n",
      "+---+---+---+---+---+---+\n",
      "| 1 |   |   |   |   |   |\n",
      "+---+---+---+---+---+---+\n",
      "|   |   |   |   | 2 |   |\n",
      "+---+---+---+---+---+---+\n",
      "|   |   |   | 1 |   |   |\n",
      "+---+---+---+---+---+---+\n",
      "|   |   | 1 |   |   |   |\n",
      "+---+---+---+---+---+---+\n",
      "|   | 1 |   |   |   |   |\n",
      "+---+---+---+---+---+---+\n",
      "|   |   |   |   |   | 2 |\n",
      "+---+---+---+---+---+---+\n",
      "\n",
      "BR ↓   nums = [2]\n",
      "\n",
      "+---+---+---+---+---+\n",
      "| 1 |   |   |   |   |\n",
      "+---+---+---+---+---+\n",
      "|   |   |   |   | 2 |\n",
      "+---+---+---+---+---+\n",
      "|   |   |   | 1 |   |\n",
      "+---+---+---+---+---+\n",
      "|   |   | 1 |   |   |\n",
      "+---+---+---+---+---+\n",
      "|   | 1 |   |   |   |\n",
      "+---+---+---+---+---+\n",
      "\n",
      "TL ↓   nums = [2, 1]\n",
      "\n",
      "+---+---+---+---+\n",
      "|   |   |   | 2 |\n",
      "+---+---+---+---+\n",
      "|   |   | 1 |   |\n",
      "+---+---+---+---+\n",
      "|   | 1 |   |   |\n",
      "+---+---+---+---+\n",
      "| 1 |   |   |   |\n",
      "+---+---+---+---+\n",
      "\n",
      "BR ↓   nums = [2, 1]\n",
      "\n",
      "+---+---+---+---+\n",
      "|   |   |   | 1 |\n",
      "+---+---+---+---+\n",
      "| 1 |   |   |   |\n",
      "+---+---+---+---+\n",
      "|   |   | 1 |   |\n",
      "+---+---+---+---+\n",
      "|   | 1 |   |   |\n",
      "+---+---+---+---+\n",
      "\n",
      "BR ↓   nums = [2, 1]\n",
      "\n",
      "+---+---+---+\n",
      "|   | 1 |   |\n",
      "+---+---+---+\n",
      "| 1 |   |   |\n",
      "+---+---+---+\n",
      "|   |   | 1 |\n",
      "+---+---+---+\n",
      "\n",
      "TL ↓   nums = [2, 1]\n",
      "\n",
      "+---+\n",
      "| 2 |\n",
      "+---+\n",
      "numbers:[2, 1, 2], total:5\n"
     ]
    }
   ],
   "source": [
    "grid = get_grid(10); grid.show()#; print(\"\\n↓ \\n\")\n",
    "nums = []\n",
    "\n",
    "while grid.size > 1:\n",
    "    bln = False if random.randint(0,1) == 0 else True\n",
    "    new = grid.transform(bln)\n",
    "    if type(new) == dict:\n",
    "        nums += [new[\"num\"]]\n",
    "        grid = new[\"grid\"]\n",
    "    else:\n",
    "        grid = new\n",
    "    #---\n",
    "    print(\"\\n{} ↓   nums = {}\\n\".format(\"BR\" if bln else \"TL\",nums))\n",
    "    grid.show()\n",
    "else:\n",
    "    nums += [grid.matrix[0][0]]\n",
    "    print(\"numbers:{}, total:{}\".format(nums, sum(nums)))"
   ]
  },
  {
   "cell_type": "markdown",
   "id": "8a45a974-9c00-4c03-a5ab-55b0c3d6aaf0",
   "metadata": {},
   "source": [
    "## About permutation matrices"
   ]
  },
  {
   "cell_type": "code",
   "execution_count": 5,
   "id": "9812f418-1f22-44a0-8f41-cb48f11185b1",
   "metadata": {
    "tags": []
   },
   "outputs": [
    {
     "data": {
      "image/png": "[encoded data removed]",
      "text/latex": [
       "$\\displaystyle \\left[\\begin{array}{ccccccccccccccc}0 & 0 & 0 & 0 & 0 & 0 & 0 & 0 & 0 & 0 & 1 & 0 & 0 & 0 & 0\\\\0 & 0 & 0 & 0 & 0 & 0 & 0 & 0 & 1 & 0 & 0 & 0 & 0 & 0 & 0\\\\0 & 0 & 0 & 0 & 0 & 0 & 0 & 0 & 0 & 0 & 0 & 0 & 1 & 0 & 0\\\\0 & 0 & 0 & 1 & 0 & 0 & 0 & 0 & 0 & 0 & 0 & 0 & 0 & 0 & 0\\\\0 & 0 & 0 & 0 & 0 & 0 & 0 & 0 & 0 & 0 & 0 & 0 & 0 & 1 & 0\\\\0 & 0 & 0 & 0 & 0 & 1 & 0 & 0 & 0 & 0 & 0 & 0 & 0 & 0 & 0\\\\1 & 0 & 0 & 0 & 0 & 0 & 0 & 0 & 0 & 0 & 0 & 0 & 0 & 0 & 0\\\\0 & 0 & 0 & 0 & 0 & 0 & 0 & 0 & 0 & 0 & 0 & 1 & 0 & 0 & 0\\\\0 & 0 & 1 & 0 & 0 & 0 & 0 & 0 & 0 & 0 & 0 & 0 & 0 & 0 & 0\\\\0 & 0 & 0 & 0 & 0 & 0 & 1 & 0 & 0 & 0 & 0 & 0 & 0 & 0 & 0\\\\0 & 0 & 0 & 0 & 0 & 0 & 0 & 0 & 0 & 1 & 0 & 0 & 0 & 0 & 0\\\\0 & 0 & 0 & 0 & 0 & 0 & 0 & 1 & 0 & 0 & 0 & 0 & 0 & 0 & 0\\\\0 & 0 & 0 & 0 & 0 & 0 & 0 & 0 & 0 & 0 & 0 & 0 & 0 & 0 & 1\\\\0 & 1 & 0 & 0 & 0 & 0 & 0 & 0 & 0 & 0 & 0 & 0 & 0 & 0 & 0\\\\0 & 0 & 0 & 0 & 1 & 0 & 0 & 0 & 0 & 0 & 0 & 0 & 0 & 0 & 0\\end{array}\\right]$"
      ],
      "text/plain": [
       "⎡0  0  0  0  0  0  0  0  0  0  1  0  0  0  0⎤\n",
       "⎢                                           ⎥\n",
       "⎢0  0  0  0  0  0  0  0  1  0  0  0  0  0  0⎥\n",
       "⎢                                           ⎥\n",
       "⎢0  0  0  0  0  0  0  0  0  0  0  0  1  0  0⎥\n",
       "⎢                                           ⎥\n",
       "⎢0  0  0  1  0  0  0  0  0  0  0  0  0  0  0⎥\n",
       "⎢                                           ⎥\n",
       "⎢0  0  0  0  0  0  0  0  0  0  0  0  0  1  0⎥\n",
       "⎢                                           ⎥\n",
       "⎢0  0  0  0  0  1  0  0  0  0  0  0  0  0  0⎥\n",
       "⎢                                           ⎥\n",
       "⎢1  0  0  0  0  0  0  0  0  0  0  0  0  0  0⎥\n",
       "⎢                                           ⎥\n",
       "⎢0  0  0  0  0  0  0  0  0  0  0  1  0  0  0⎥\n",
       "⎢                                           ⎥\n",
       "⎢0  0  1  0  0  0  0  0  0  0  0  0  0  0  0⎥\n",
       "⎢                                           ⎥\n",
       "⎢0  0  0  0  0  0  1  0  0  0  0  0  0  0  0⎥\n",
       "⎢                                           ⎥\n",
       "⎢0  0  0  0  0  0  0  0  0  1  0  0  0  0  0⎥\n",
       "⎢                                           ⎥\n",
       "⎢0  0  0  0  0  0  0  1  0  0  0  0  0  0  0⎥\n",
       "⎢                                           ⎥\n",
       "⎢0  0  0  0  0  0  0  0  0  0  0  0  0  0  1⎥\n",
       "⎢                                           ⎥\n",
       "⎢0  1  0  0  0  0  0  0  0  0  0  0  0  0  0⎥\n",
       "⎢                                           ⎥\n",
       "⎣0  0  0  0  1  0  0  0  0  0  0  0  0  0  0⎦"
      ]
     },
     "metadata": {},
     "output_type": "display_data"
    },
    {
     "data": {
      "image/png": "[encoded data removed]",
      "text/latex": [
       "$\\displaystyle - t^{15} + 2 t^{14} - 2 t^{12} + 2 t^{11} - 2 t^{10} + 3 t^{8} - 3 t^{7} + 2 t^{5} - 2 t^{4} + 2 t^{3} - 2 t + 1$"
      ],
      "text/plain": [
       "   15      14      12      11      10      8      7      5      4      3      \n",
       "- t   + 2⋅t   - 2⋅t   + 2⋅t   - 2⋅t   + 3⋅t  - 3⋅t  + 2⋅t  - 2⋅t  + 2⋅t  - 2⋅t\n",
       "\n",
       "    \n",
       " + 1"
      ]
     },
     "metadata": {},
     "output_type": "display_data"
    },
    {
     "data": {
      "image/png": "[encoded data removed]",
      "text/latex": [
       "$\\displaystyle - \\left(t - 1\\right)^{5} \\left(t + 1\\right)^{2} \\left(t^{2} + 1\\right) \\left(t^{6} + t^{5} + t^{4} + t^{3} + t^{2} + t + 1\\right)$"
      ],
      "text/plain": [
       "        5        2 ⎛ 2    ⎞ ⎛ 6    5    4    3    2        ⎞\n",
       "-(t - 1) ⋅(t + 1) ⋅⎝t  + 1⎠⋅⎝t  + t  + t  + t  + t  + t + 1⎠"
      ]
     },
     "metadata": {},
     "output_type": "display_data"
    }
   ],
   "source": [
    "A = sympy.Matrix(prm.matrix())\n",
    "display(A)\n",
    "\n",
    "I = sympy.eye(N)\n",
    "t = sympy.symbols('t')\n",
    "\n",
    "dt = (I-t*A).det()\n",
    "display(dt, dt.factor())"
   ]
  },
  {
   "cell_type": "code",
   "execution_count": 6,
   "id": "36639336-6755-4046-a303-4ff24962e6a5",
   "metadata": {},
   "outputs": [
    {
     "data": {
      "image/png": "[encoded data removed]",
      "text/latex": [
       "$\\displaystyle \\left[\\begin{array}{ccccccccccccccc}1 & 0 & 0 & 0 & 0 & 0 & 0 & 0 & 0 & 0 & - t & 0 & 0 & 0 & 0\\\\0 & 1 & 0 & 0 & 0 & 0 & 0 & 0 & - t & 0 & 0 & 0 & 0 & 0 & 0\\\\0 & 0 & 1 & 0 & 0 & 0 & 0 & 0 & 0 & 0 & 0 & 0 & - t & 0 & 0\\\\0 & 0 & 0 & 1 - t & 0 & 0 & 0 & 0 & 0 & 0 & 0 & 0 & 0 & 0 & 0\\\\0 & 0 & 0 & 0 & 1 & 0 & 0 & 0 & 0 & 0 & 0 & 0 & 0 & - t & 0\\\\0 & 0 & 0 & 0 & 0 & 1 - t & 0 & 0 & 0 & 0 & 0 & 0 & 0 & 0 & 0\\\\- t & 0 & 0 & 0 & 0 & 0 & 1 & 0 & 0 & 0 & 0 & 0 & 0 & 0 & 0\\\\0 & 0 & 0 & 0 & 0 & 0 & 0 & 1 & 0 & 0 & 0 & - t & 0 & 0 & 0\\\\0 & 0 & - t & 0 & 0 & 0 & 0 & 0 & 1 & 0 & 0 & 0 & 0 & 0 & 0\\\\0 & 0 & 0 & 0 & 0 & 0 & - t & 0 & 0 & 1 & 0 & 0 & 0 & 0 & 0\\\\0 & 0 & 0 & 0 & 0 & 0 & 0 & 0 & 0 & - t & 1 & 0 & 0 & 0 & 0\\\\0 & 0 & 0 & 0 & 0 & 0 & 0 & - t & 0 & 0 & 0 & 1 & 0 & 0 & 0\\\\0 & 0 & 0 & 0 & 0 & 0 & 0 & 0 & 0 & 0 & 0 & 0 & 1 & 0 & - t\\\\0 & - t & 0 & 0 & 0 & 0 & 0 & 0 & 0 & 0 & 0 & 0 & 0 & 1 & 0\\\\0 & 0 & 0 & 0 & - t & 0 & 0 & 0 & 0 & 0 & 0 & 0 & 0 & 0 & 1\\end{array}\\right]$"
      ],
      "text/plain": [
       "⎡1   0   0     0    0     0    0   0   0   0   -t  0   0   0   0 ⎤\n",
       "⎢                                                                ⎥\n",
       "⎢0   1   0     0    0     0    0   0   -t  0   0   0   0   0   0 ⎥\n",
       "⎢                                                                ⎥\n",
       "⎢0   0   1     0    0     0    0   0   0   0   0   0   -t  0   0 ⎥\n",
       "⎢                                                                ⎥\n",
       "⎢0   0   0   1 - t  0     0    0   0   0   0   0   0   0   0   0 ⎥\n",
       "⎢                                                                ⎥\n",
       "⎢0   0   0     0    1     0    0   0   0   0   0   0   0   -t  0 ⎥\n",
       "⎢                                                                ⎥\n",
       "⎢0   0   0     0    0   1 - t  0   0   0   0   0   0   0   0   0 ⎥\n",
       "⎢                                                                ⎥\n",
       "⎢-t  0   0     0    0     0    1   0   0   0   0   0   0   0   0 ⎥\n",
       "⎢                                                                ⎥\n",
       "⎢0   0   0     0    0     0    0   1   0   0   0   -t  0   0   0 ⎥\n",
       "⎢                                                                ⎥\n",
       "⎢0   0   -t    0    0     0    0   0   1   0   0   0   0   0   0 ⎥\n",
       "⎢                                                                ⎥\n",
       "⎢0   0   0     0    0     0    -t  0   0   1   0   0   0   0   0 ⎥\n",
       "⎢                                                                ⎥\n",
       "⎢0   0   0     0    0     0    0   0   0   -t  1   0   0   0   0 ⎥\n",
       "⎢                                                                ⎥\n",
       "⎢0   0   0     0    0     0    0   -t  0   0   0   1   0   0   0 ⎥\n",
       "⎢                                                                ⎥\n",
       "⎢0   0   0     0    0     0    0   0   0   0   0   0   1   0   -t⎥\n",
       "⎢                                                                ⎥\n",
       "⎢0   -t  0     0    0     0    0   0   0   0   0   0   0   1   0 ⎥\n",
       "⎢                                                                ⎥\n",
       "⎣0   0   0     0    -t    0    0   0   0   0   0   0   0   0   1 ⎦"
      ]
     },
     "metadata": {},
     "output_type": "display_data"
    }
   ],
   "source": [
    "display(I-t*A)"
   ]
  },
  {
   "cell_type": "code",
   "execution_count": 7,
   "id": "6addb875-39d1-44a0-84b9-c0f72e7921ab",
   "metadata": {},
   "outputs": [
    {
     "data": {
      "image/png": "[encoded data removed]",
      "text/latex": [
       "$\\displaystyle \\left(1 - t^{2}\\right)^{3} \\left(1 - t^{9}\\right)$"
      ],
      "text/plain": [
       "        3         \n",
       "⎛     2⎞  ⎛     9⎞\n",
       "⎝1 - t ⎠ ⋅⎝1 - t ⎠"
      ]
     },
     "metadata": {},
     "output_type": "display_data"
    },
    {
     "data": {
      "image/png": "[encoded data removed]",
      "text/latex": [
       "$\\displaystyle t^{15} - 3 t^{13} + 3 t^{11} - t^{9} - t^{6} + 3 t^{4} - 3 t^{2} + 1$"
      ],
      "text/plain": [
       " 15      13      11    9    6      4      2    \n",
       "t   - 3⋅t   + 3⋅t   - t  - t  + 3⋅t  - 3⋅t  + 1"
      ]
     },
     "metadata": {},
     "output_type": "display_data"
    }
   ],
   "source": [
    "pol = (1-t**2)**3*(1-t**9)\n",
    "display(pol, pol.expand())"
   ]
  }
 ],
 "metadata": {
  "kernelspec": {
   "display_name": "Python 3",
   "language": "python",
   "name": "python3"
  },
  "language_info": {
   "codemirror_mode": {
    "name": "ipython",
    "version": 3
   },
   "file_extension": ".py",
   "mimetype": "text/x-python",
   "name": "python",
   "nbconvert_exporter": "python",
   "pygments_lexer": "ipython3",
   "version": "3.6.13"
  }
 },
 "nbformat": 4,
 "nbformat_minor": 5
}
