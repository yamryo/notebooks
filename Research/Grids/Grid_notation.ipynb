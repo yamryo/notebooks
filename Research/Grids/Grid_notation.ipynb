{
 "cells": [
  {
   "cell_type": "markdown",
   "id": "14d1259d-831e-43cf-92e1-533d80bf61e8",
   "metadata": {
    "tags": []
   },
   "source": [
    "# Grid notation of permutations"
   ]
  },
  {
   "cell_type": "markdown",
   "id": "fede5985-2813-433b-91a3-5b77dcef6e4e",
   "metadata": {},
   "source": [
    "## Libraries"
   ]
  },
  {
   "cell_type": "code",
   "execution_count": 1,
   "id": "38837ea6-e052-46a8-95a6-873664edf383",
   "metadata": {
    "tags": []
   },
   "outputs": [],
   "source": [
    "import random\n",
    "import sympy\n",
    "sympy.init_printing()\n",
    "\n",
    "# import plotly.graph_objects as go\n",
    "\n",
    "# ----- Debugger -----\n",
    "# from IPython.core.debugger import Pdb; Pdb().set_trace()\n",
    "# --------------------"
   ]
  },
  {
   "cell_type": "code",
   "execution_count": 2,
   "id": "a5a57112-f537-420b-b2fd-7779f74ef991",
   "metadata": {},
   "outputs": [],
   "source": [
    "import sys\n",
    "sys.path.append(\"../modules\")\n",
    "\n",
    "import Permutations as pm\n",
    "from Grid import *"
   ]
  },
  {
   "cell_type": "markdown",
   "id": "469c780e-da86-4362-a655-55667352e89d",
   "metadata": {
    "tags": []
   },
   "source": [
    "## Sequence of reduction"
   ]
  },
  {
   "cell_type": "code",
   "execution_count": 59,
   "id": "944559eb-e992-4de7-a815-415020f90742",
   "metadata": {
    "tags": []
   },
   "outputs": [
    {
     "data": {
      "text/latex": [
       "$\\displaystyle \\left[\\begin{array}{ccccccccccccccc}0 & 1 & 2 & 3 & 4 & 5 & 6 & 7 & 8 & 9 & 10 & 11 & 12 & 13 & 14\\\\4 & 14 & 12 & 5 & 0 & 3 & 7 & 1 & 6 & 13 & 11 & 8 & 2 & 10 & 9\\end{array}\\right]$"
      ],
      "text/plain": [
       "⎡0  1   2   3  4  5  6  7  8  9   10  11  12  13  14⎤\n",
       "⎢                                                   ⎥\n",
       "⎣4  14  12  5  0  3  7  1  6  13  11  8   2   10  9 ⎦"
      ]
     },
     "metadata": {},
     "output_type": "display_data"
    },
    {
     "name": "stdout",
     "output_type": "stream",
     "text": [
      "[[4, 0], [14, 9, 13, 10, 11, 8, 6, 7, 1], [12, 2], [5, 3]], 4\n",
      "+---+---+---+---+---+---+---+---+---+---+---+---+---+---+---+\n",
      "|   |   |   |   | 1 |   |   |   |   |   |   |   |   |   |   |\n",
      "+---+---+---+---+---+---+---+---+---+---+---+---+---+---+---+\n",
      "|   |   |   |   |   |   |   | 1 |   |   |   |   |   |   |   |\n",
      "+---+---+---+---+---+---+---+---+---+---+---+---+---+---+---+\n",
      "|   |   |   |   |   |   |   |   |   |   |   |   | 1 |   |   |\n",
      "+---+---+---+---+---+---+---+---+---+---+---+---+---+---+---+\n",
      "|   |   |   |   |   | 1 |   |   |   |   |   |   |   |   |   |\n",
      "+---+---+---+---+---+---+---+---+---+---+---+---+---+---+---+\n",
      "| 1 |   |   |   |   |   |   |   |   |   |   |   |   |   |   |\n",
      "+---+---+---+---+---+---+---+---+---+---+---+---+---+---+---+\n",
      "|   |   |   | 1 |   |   |   |   |   |   |   |   |   |   |   |\n",
      "+---+---+---+---+---+---+---+---+---+---+---+---+---+---+---+\n",
      "|   |   |   |   |   |   |   |   | 1 |   |   |   |   |   |   |\n",
      "+---+---+---+---+---+---+---+---+---+---+---+---+---+---+---+\n",
      "|   |   |   |   |   |   | 1 |   |   |   |   |   |   |   |   |\n",
      "+---+---+---+---+---+---+---+---+---+---+---+---+---+---+---+\n",
      "|   |   |   |   |   |   |   |   |   |   |   | 1 |   |   |   |\n",
      "+---+---+---+---+---+---+---+---+---+---+---+---+---+---+---+\n",
      "|   |   |   |   |   |   |   |   |   |   |   |   |   |   | 1 |\n",
      "+---+---+---+---+---+---+---+---+---+---+---+---+---+---+---+\n",
      "|   |   |   |   |   |   |   |   |   |   |   |   |   | 1 |   |\n",
      "+---+---+---+---+---+---+---+---+---+---+---+---+---+---+---+\n",
      "|   |   |   |   |   |   |   |   |   |   | 1 |   |   |   |   |\n",
      "+---+---+---+---+---+---+---+---+---+---+---+---+---+---+---+\n",
      "|   |   | 1 |   |   |   |   |   |   |   |   |   |   |   |   |\n",
      "+---+---+---+---+---+---+---+---+---+---+---+---+---+---+---+\n",
      "|   |   |   |   |   |   |   |   |   | 1 |   |   |   |   |   |\n",
      "+---+---+---+---+---+---+---+---+---+---+---+---+---+---+---+\n",
      "|   | 1 |   |   |   |   |   |   |   |   |   |   |   |   |   |\n",
      "+---+---+---+---+---+---+---+---+---+---+---+---+---+---+---+\n"
     ]
    }
   ],
   "source": [
    "N = 15\n",
    "img = list(range(N)); random.shuffle(img)\n",
    "\n",
    "prm = pm.Permutation(img)\n",
    "display(sympy.Matrix(prm.two_line()))  # , prm.image, prm.size)\n",
    "cd = pm.cycle_decomp(prm); print(\"{}, {}\".format(cd, len(cd)))\n",
    "\n",
    "G = Grid(prm)\n",
    "G.show()"
   ]
  },
  {
   "cell_type": "code",
   "execution_count": 48,
   "id": "70ed1a04-56be-44a0-93aa-6117bc35f0ca",
   "metadata": {
    "collapsed": true,
    "jupyter": {
     "outputs_hidden": true,
     "source_hidden": true
    },
    "tags": []
   },
   "outputs": [
    {
     "name": "stdout",
     "output_type": "stream",
     "text": [
      "+---+---+---+---+---+---+---+---+---+---+---+---+---+\n",
      "|   |   |   |   |   |   | 2 |   |   |   |   |   |   |\n",
      "+---+---+---+---+---+---+---+---+---+---+---+---+---+\n",
      "| 1 |   |   |   |   |   |   |   |   |   |   |   |   |\n",
      "+---+---+---+---+---+---+---+---+---+---+---+---+---+\n",
      "|   |   |   | 1 |   |   |   |   |   |   |   |   |   |\n",
      "+---+---+---+---+---+---+---+---+---+---+---+---+---+\n",
      "|   |   |   |   |   |   |   |   |   | 1 |   |   |   |\n",
      "+---+---+---+---+---+---+---+---+---+---+---+---+---+\n",
      "|   |   |   |   |   | 1 |   |   |   |   |   |   |   |\n",
      "+---+---+---+---+---+---+---+---+---+---+---+---+---+\n",
      "|   |   |   |   |   |   |   | 1 |   |   |   |   |   |\n",
      "+---+---+---+---+---+---+---+---+---+---+---+---+---+\n",
      "|   |   | 1 |   |   |   |   |   |   |   |   |   |   |\n",
      "+---+---+---+---+---+---+---+---+---+---+---+---+---+\n",
      "|   |   |   |   |   |   |   |   |   |   |   | 1 |   |\n",
      "+---+---+---+---+---+---+---+---+---+---+---+---+---+\n",
      "|   |   |   |   |   |   |   |   |   |   | 1 |   |   |\n",
      "+---+---+---+---+---+---+---+---+---+---+---+---+---+\n",
      "|   | 1 |   |   |   |   |   |   |   |   |   |   |   |\n",
      "+---+---+---+---+---+---+---+---+---+---+---+---+---+\n",
      "|   |   |   |   |   |   |   |   | 1 |   |   |   |   |\n",
      "+---+---+---+---+---+---+---+---+---+---+---+---+---+\n",
      "|   |   |   |   | 2 |   |   |   |   |   |   |   |   |\n",
      "+---+---+---+---+---+---+---+---+---+---+---+---+---+\n",
      "|   |   |   |   |   |   |   |   |   |   |   |   | 1 |\n",
      "+---+---+---+---+---+---+---+---+---+---+---+---+---+\n",
      "\n",
      "BR ↓   nums = [1]\n",
      "\n",
      "+---+---+---+---+---+---+---+---+---+---+---+---+\n",
      "|   |   |   |   |   |   | 2 |   |   |   |   |   |\n",
      "+---+---+---+---+---+---+---+---+---+---+---+---+\n",
      "| 1 |   |   |   |   |   |   |   |   |   |   |   |\n",
      "+---+---+---+---+---+---+---+---+---+---+---+---+\n",
      "|   |   |   | 1 |   |   |   |   |   |   |   |   |\n",
      "+---+---+---+---+---+---+---+---+---+---+---+---+\n",
      "|   |   |   |   |   |   |   |   |   | 1 |   |   |\n",
      "+---+---+---+---+---+---+---+---+---+---+---+---+\n",
      "|   |   |   |   |   | 1 |   |   |   |   |   |   |\n",
      "+---+---+---+---+---+---+---+---+---+---+---+---+\n",
      "|   |   |   |   |   |   |   | 1 |   |   |   |   |\n",
      "+---+---+---+---+---+---+---+---+---+---+---+---+\n",
      "|   |   | 1 |   |   |   |   |   |   |   |   |   |\n",
      "+---+---+---+---+---+---+---+---+---+---+---+---+\n",
      "|   |   |   |   |   |   |   |   |   |   |   | 1 |\n",
      "+---+---+---+---+---+---+---+---+---+---+---+---+\n",
      "|   |   |   |   |   |   |   |   |   |   | 1 |   |\n",
      "+---+---+---+---+---+---+---+---+---+---+---+---+\n",
      "|   | 1 |   |   |   |   |   |   |   |   |   |   |\n",
      "+---+---+---+---+---+---+---+---+---+---+---+---+\n",
      "|   |   |   |   |   |   |   |   | 1 |   |   |   |\n",
      "+---+---+---+---+---+---+---+---+---+---+---+---+\n",
      "|   |   |   |   | 2 |   |   |   |   |   |   |   |\n",
      "+---+---+---+---+---+---+---+---+---+---+---+---+\n",
      "\n",
      "TL ↓   nums = [1]\n",
      "\n",
      "+---+---+---+---+---+---+---+---+---+---+---+---+\n",
      "|   |   |   |   |   |   | 1 |   |   |   |   |   |\n",
      "+---+---+---+---+---+---+---+---+---+---+---+---+\n",
      "|   |   |   |   |   | 1 |   |   |   |   |   |   |\n",
      "+---+---+---+---+---+---+---+---+---+---+---+---+\n",
      "|   |   | 1 |   |   |   |   |   |   |   |   |   |\n",
      "+---+---+---+---+---+---+---+---+---+---+---+---+\n",
      "|   |   |   |   |   |   |   |   |   | 1 |   |   |\n",
      "+---+---+---+---+---+---+---+---+---+---+---+---+\n",
      "|   |   |   |   | 1 |   |   |   |   |   |   |   |\n",
      "+---+---+---+---+---+---+---+---+---+---+---+---+\n",
      "|   |   |   |   |   |   |   | 1 |   |   |   |   |\n",
      "+---+---+---+---+---+---+---+---+---+---+---+---+\n",
      "|   | 1 |   |   |   |   |   |   |   |   |   |   |\n",
      "+---+---+---+---+---+---+---+---+---+---+---+---+\n",
      "|   |   |   |   |   |   |   |   |   |   |   | 1 |\n",
      "+---+---+---+---+---+---+---+---+---+---+---+---+\n",
      "|   |   |   |   |   |   |   |   |   |   | 1 |   |\n",
      "+---+---+---+---+---+---+---+---+---+---+---+---+\n",
      "| 1 |   |   |   |   |   |   |   |   |   |   |   |\n",
      "+---+---+---+---+---+---+---+---+---+---+---+---+\n",
      "|   |   |   |   |   |   |   |   | 1 |   |   |   |\n",
      "+---+---+---+---+---+---+---+---+---+---+---+---+\n",
      "|   |   |   | 2 |   |   |   |   |   |   |   |   |\n",
      "+---+---+---+---+---+---+---+---+---+---+---+---+\n",
      "\n",
      "BR ↓   nums = [1]\n",
      "\n",
      "+---+---+---+---+---+---+---+---+---+---+---+---+\n",
      "|   |   |   |   |   |   |   | 1 |   |   |   |   |\n",
      "+---+---+---+---+---+---+---+---+---+---+---+---+\n",
      "|   |   |   |   |   |   | 1 |   |   |   |   |   |\n",
      "+---+---+---+---+---+---+---+---+---+---+---+---+\n",
      "|   |   | 1 |   |   |   |   |   |   |   |   |   |\n",
      "+---+---+---+---+---+---+---+---+---+---+---+---+\n",
      "|   |   |   |   |   |   |   |   |   |   | 1 |   |\n",
      "+---+---+---+---+---+---+---+---+---+---+---+---+\n",
      "|   |   |   |   |   | 1 |   |   |   |   |   |   |\n",
      "+---+---+---+---+---+---+---+---+---+---+---+---+\n",
      "|   |   |   |   |   |   |   |   | 1 |   |   |   |\n",
      "+---+---+---+---+---+---+---+---+---+---+---+---+\n",
      "|   | 1 |   |   |   |   |   |   |   |   |   |   |\n",
      "+---+---+---+---+---+---+---+---+---+---+---+---+\n",
      "|   |   |   |   | 1 |   |   |   |   |   |   |   |\n",
      "+---+---+---+---+---+---+---+---+---+---+---+---+\n",
      "|   |   |   |   |   |   |   |   |   |   |   | 1 |\n",
      "+---+---+---+---+---+---+---+---+---+---+---+---+\n",
      "| 1 |   |   |   |   |   |   |   |   |   |   |   |\n",
      "+---+---+---+---+---+---+---+---+---+---+---+---+\n",
      "|   |   |   |   |   |   |   |   |   | 1 |   |   |\n",
      "+---+---+---+---+---+---+---+---+---+---+---+---+\n",
      "|   |   |   | 1 |   |   |   |   |   |   |   |   |\n",
      "+---+---+---+---+---+---+---+---+---+---+---+---+\n",
      "\n",
      "BR ↓   nums = [1]\n",
      "\n",
      "+---+---+---+---+---+---+---+---+---+---+---+\n",
      "|   |   |   |   |   |   |   | 1 |   |   |   |\n",
      "+---+---+---+---+---+---+---+---+---+---+---+\n",
      "|   |   |   |   |   |   | 1 |   |   |   |   |\n",
      "+---+---+---+---+---+---+---+---+---+---+---+\n",
      "|   |   | 1 |   |   |   |   |   |   |   |   |\n",
      "+---+---+---+---+---+---+---+---+---+---+---+\n",
      "|   |   |   |   |   |   |   |   |   |   | 1 |\n",
      "+---+---+---+---+---+---+---+---+---+---+---+\n",
      "|   |   |   |   |   | 1 |   |   |   |   |   |\n",
      "+---+---+---+---+---+---+---+---+---+---+---+\n",
      "|   |   |   |   |   |   |   |   | 1 |   |   |\n",
      "+---+---+---+---+---+---+---+---+---+---+---+\n",
      "|   | 1 |   |   |   |   |   |   |   |   |   |\n",
      "+---+---+---+---+---+---+---+---+---+---+---+\n",
      "|   |   |   |   | 1 |   |   |   |   |   |   |\n",
      "+---+---+---+---+---+---+---+---+---+---+---+\n",
      "|   |   |   | 1 |   |   |   |   |   |   |   |\n",
      "+---+---+---+---+---+---+---+---+---+---+---+\n",
      "| 1 |   |   |   |   |   |   |   |   |   |   |\n",
      "+---+---+---+---+---+---+---+---+---+---+---+\n",
      "|   |   |   |   |   |   |   |   |   | 1 |   |\n",
      "+---+---+---+---+---+---+---+---+---+---+---+\n",
      "\n",
      "TL ↓   nums = [1]\n",
      "\n",
      "+---+---+---+---+---+---+---+---+---+---+\n",
      "|   |   |   |   |   | 1 |   |   |   |   |\n",
      "+---+---+---+---+---+---+---+---+---+---+\n",
      "|   | 1 |   |   |   |   |   |   |   |   |\n",
      "+---+---+---+---+---+---+---+---+---+---+\n",
      "|   |   |   |   |   |   |   |   |   | 1 |\n",
      "+---+---+---+---+---+---+---+---+---+---+\n",
      "|   |   |   |   | 1 |   |   |   |   |   |\n",
      "+---+---+---+---+---+---+---+---+---+---+\n",
      "|   |   |   |   |   |   |   | 1 |   |   |\n",
      "+---+---+---+---+---+---+---+---+---+---+\n",
      "| 1 |   |   |   |   |   |   |   |   |   |\n",
      "+---+---+---+---+---+---+---+---+---+---+\n",
      "|   |   |   | 1 |   |   |   |   |   |   |\n",
      "+---+---+---+---+---+---+---+---+---+---+\n",
      "|   |   | 1 |   |   |   |   |   |   |   |\n",
      "+---+---+---+---+---+---+---+---+---+---+\n",
      "|   |   |   |   |   |   | 1 |   |   |   |\n",
      "+---+---+---+---+---+---+---+---+---+---+\n",
      "|   |   |   |   |   |   |   |   | 1 |   |\n",
      "+---+---+---+---+---+---+---+---+---+---+\n",
      "\n",
      "TL ↓   nums = [1]\n",
      "\n",
      "+---+---+---+---+---+---+---+---+---+\n",
      "| 1 |   |   |   |   |   |   |   |   |\n",
      "+---+---+---+---+---+---+---+---+---+\n",
      "|   |   |   |   |   |   |   |   | 1 |\n",
      "+---+---+---+---+---+---+---+---+---+\n",
      "|   |   |   | 1 |   |   |   |   |   |\n",
      "+---+---+---+---+---+---+---+---+---+\n",
      "|   |   |   |   |   |   | 1 |   |   |\n",
      "+---+---+---+---+---+---+---+---+---+\n",
      "|   |   |   |   | 1 |   |   |   |   |\n",
      "+---+---+---+---+---+---+---+---+---+\n",
      "|   |   | 1 |   |   |   |   |   |   |\n",
      "+---+---+---+---+---+---+---+---+---+\n",
      "|   | 1 |   |   |   |   |   |   |   |\n",
      "+---+---+---+---+---+---+---+---+---+\n",
      "|   |   |   |   |   | 1 |   |   |   |\n",
      "+---+---+---+---+---+---+---+---+---+\n",
      "|   |   |   |   |   |   |   | 1 |   |\n",
      "+---+---+---+---+---+---+---+---+---+\n",
      "|   |   |   |   | 1 |   |   |   |   |\n",
      "+---+---+---+---+---+---+---+---+---+\n",
      "|   |   |   |   |   |   |   |   | 1 |\n",
      "+---+---+---+---+---+---+---+---+---+\n",
      "|   |   |   |   |   | 1 |   |   |   |\n",
      "+---+---+---+---+---+---+---+---+---+\n",
      "|   |   |   | 1 |   |   |   |   |   |\n",
      "+---+---+---+---+---+---+---+---+---+\n",
      "\n",
      "BR ↓   nums = [1]\n",
      "\n",
      "+---+---+---+---+---+---+---+---+\n",
      "| 1 |   |   |   |   |   |   |   |\n",
      "+---+---+---+---+---+---+---+---+\n",
      "|   |   |   |   |   |   |   | 1 |\n",
      "+---+---+---+---+---+---+---+---+\n",
      "|   |   |   | 1 |   |   |   |   |\n",
      "+---+---+---+---+---+---+---+---+\n",
      "|   |   |   |   |   |   | 1 |   |\n",
      "+---+---+---+---+---+---+---+---+\n",
      "|   |   |   |   | 1 |   |   |   |\n",
      "+---+---+---+---+---+---+---+---+\n",
      "|   |   | 1 |   |   |   |   |   |\n",
      "+---+---+---+---+---+---+---+---+\n",
      "|   | 1 |   |   |   |   |   |   |\n",
      "+---+---+---+---+---+---+---+---+\n",
      "|   |   |   |   |   | 1 |   |   |\n",
      "+---+---+---+---+---+---+---+---+\n",
      "|   |   |   |   |   |   |   | 1 |\n",
      "+---+---+---+---+---+---+---+---+\n",
      "|   |   |   |   | 1 |   |   |   |\n",
      "+---+---+---+---+---+---+---+---+\n",
      "|   |   | 1 |   |   |   |   |   |\n",
      "+---+---+---+---+---+---+---+---+\n",
      "\n",
      "BR ↓   nums = [1]\n",
      "\n",
      "+---+---+---+---+---+---+---+\n",
      "| 1 |   |   |   |   |   |   |\n",
      "+---+---+---+---+---+---+---+\n",
      "|   |   |   |   |   | 1 |   |\n",
      "+---+---+---+---+---+---+---+\n",
      "|   |   |   |   | 1 |   |   |\n",
      "+---+---+---+---+---+---+---+\n",
      "| 1 |   |   |   |   |   |   |\n",
      "+---+---+---+---+---+---+---+\n",
      "|   |   | 1 |   |   |   |   |\n",
      "+---+---+---+---+---+---+---+\n",
      "|   |   |   |   |   |   | 1 |\n",
      "+---+---+---+---+---+---+---+\n",
      "|   |   |   | 1 |   |   |   |\n",
      "+---+---+---+---+---+---+---+\n",
      "|   |   | 1 |   |   |   |   |\n",
      "+---+---+---+---+---+---+---+\n",
      "|   | 1 |   |   |   |   |   |\n",
      "+---+---+---+---+---+---+---+\n",
      "\n",
      "TL ↓   nums = [1, 1]\n",
      "\n",
      "+---+---+---+---+---+---+\n",
      "|   |   |   |   | 1 |   |\n",
      "+---+---+---+---+---+---+\n",
      "|   |   | 1 |   |   |   |\n",
      "+---+---+---+---+---+---+\n",
      "|   |   |   |   |   | 1 |\n",
      "+---+---+---+---+---+---+\n",
      "|   |   |   | 1 |   |   |\n",
      "+---+---+---+---+---+---+\n",
      "|   | 1 |   |   |   |   |\n",
      "+---+---+---+---+---+---+\n",
      "| 1 |   |   |   |   |   |\n",
      "+---+---+---+---+---+---+\n",
      "\n",
      "BR ↓   nums = [1, 1]\n",
      "\n",
      "+---+---+---+---+---+\n",
      "|   |   |   |   | 1 |\n",
      "+---+---+---+---+---+\n",
      "|   |   | 1 |   |   |\n",
      "+---+---+---+---+---+\n",
      "| 1 |   |   |   |   |\n",
      "+---+---+---+---+---+\n",
      "|   |   |   | 1 |   |\n",
      "+---+---+---+---+---+\n",
      "|   | 1 |   |   |   |\n",
      "+---+---+---+---+---+\n",
      "\n",
      "BR ↓   nums = [1, 1]\n",
      "\n",
      "+---+---+\n",
      "|   | 2 |   |\n",
      "+---+---+---+\n",
      "| 1 |   |   |\n",
      "+---+---+---+\n",
      "|   |   | 1 |\n",
      "+---+---+---+\n",
      "\n",
      "BR ↓   nums = [1, 1, 1]\n",
      "\n",
      "+---+---+\n",
      "|   | 2 |\n",
      "+---+---+\n",
      "| 1 |   |\n",
      "+---+---+\n",
      "\n",
      "TL ↓   nums = [1, 1, 1]\n",
      "\n",
      "+---+---+\n",
      "|   | 1 |\n",
      "+---+---+\n",
      "| 1 |   |\n",
      "+---+---+\n",
      "\n",
      "BR ↓   nums = [1, 1, 1]\n",
      "\n",
      "+---+\n",
      "| 1 |\n",
      "+---+\n",
      "numbers:[1, 1, 1, 1], total:4\n"
     ]
    }
   ],
   "source": [
    "grid = G.copy(); G.show()#; print(\"\\n↓ \\n\")\n",
    "nums = []\n",
    "\n",
    "while grid.size > 1:\n",
    "    bln = False if random.randint(0,1) == 0 else True\n",
    "    new = grid.transform(bln)\n",
    "    if type(new) == dict:\n",
    "        nums += [new[\"num\"]]\n",
    "        grid = new[\"grid\"]\n",
    "    else:\n",
    "        grid = new\n",
    "    #---\n",
    "    print(\"\\n{} ↓   nums = {}\\n\".format(\"BR\" if bln else \"TL\",nums))\n",
    "    grid.show()\n",
    "else:\n",
    "    nums += [grid.matrix[0][0]]\n",
    "    print(\"numbers:{}, total:{}\".format(nums, sum(nums)))"
   ]
  },
  {
   "cell_type": "code",
   "execution_count": 68,
   "id": "9812f418-1f22-44a0-8f41-cb48f11185b1",
   "metadata": {
    "tags": []
   },
   "outputs": [
    {
     "data": {
      "text/latex": [
       "$\\displaystyle \\left[\\begin{array}{ccccccccccccccc}0 & 0 & 0 & 0 & 1 & 0 & 0 & 0 & 0 & 0 & 0 & 0 & 0 & 0 & 0\\\\0 & 0 & 0 & 0 & 0 & 0 & 0 & 1 & 0 & 0 & 0 & 0 & 0 & 0 & 0\\\\0 & 0 & 0 & 0 & 0 & 0 & 0 & 0 & 0 & 0 & 0 & 0 & 1 & 0 & 0\\\\0 & 0 & 0 & 0 & 0 & 1 & 0 & 0 & 0 & 0 & 0 & 0 & 0 & 0 & 0\\\\1 & 0 & 0 & 0 & 0 & 0 & 0 & 0 & 0 & 0 & 0 & 0 & 0 & 0 & 0\\\\0 & 0 & 0 & 1 & 0 & 0 & 0 & 0 & 0 & 0 & 0 & 0 & 0 & 0 & 0\\\\0 & 0 & 0 & 0 & 0 & 0 & 0 & 0 & 1 & 0 & 0 & 0 & 0 & 0 & 0\\\\0 & 0 & 0 & 0 & 0 & 0 & 1 & 0 & 0 & 0 & 0 & 0 & 0 & 0 & 0\\\\0 & 0 & 0 & 0 & 0 & 0 & 0 & 0 & 0 & 0 & 0 & 1 & 0 & 0 & 0\\\\0 & 0 & 0 & 0 & 0 & 0 & 0 & 0 & 0 & 0 & 0 & 0 & 0 & 0 & 1\\\\0 & 0 & 0 & 0 & 0 & 0 & 0 & 0 & 0 & 0 & 0 & 0 & 0 & 1 & 0\\\\0 & 0 & 0 & 0 & 0 & 0 & 0 & 0 & 0 & 0 & 1 & 0 & 0 & 0 & 0\\\\0 & 0 & 1 & 0 & 0 & 0 & 0 & 0 & 0 & 0 & 0 & 0 & 0 & 0 & 0\\\\0 & 0 & 0 & 0 & 0 & 0 & 0 & 0 & 0 & 1 & 0 & 0 & 0 & 0 & 0\\\\0 & 1 & 0 & 0 & 0 & 0 & 0 & 0 & 0 & 0 & 0 & 0 & 0 & 0 & 0\\end{array}\\right]$"
      ],
      "text/plain": [
       "⎡0  0  0  0  1  0  0  0  0  0  0  0  0  0  0⎤\n",
       "⎢                                           ⎥\n",
       "⎢0  0  0  0  0  0  0  1  0  0  0  0  0  0  0⎥\n",
       "⎢                                           ⎥\n",
       "⎢0  0  0  0  0  0  0  0  0  0  0  0  1  0  0⎥\n",
       "⎢                                           ⎥\n",
       "⎢0  0  0  0  0  1  0  0  0  0  0  0  0  0  0⎥\n",
       "⎢                                           ⎥\n",
       "⎢1  0  0  0  0  0  0  0  0  0  0  0  0  0  0⎥\n",
       "⎢                                           ⎥\n",
       "⎢0  0  0  1  0  0  0  0  0  0  0  0  0  0  0⎥\n",
       "⎢                                           ⎥\n",
       "⎢0  0  0  0  0  0  0  0  1  0  0  0  0  0  0⎥\n",
       "⎢                                           ⎥\n",
       "⎢0  0  0  0  0  0  1  0  0  0  0  0  0  0  0⎥\n",
       "⎢                                           ⎥\n",
       "⎢0  0  0  0  0  0  0  0  0  0  0  1  0  0  0⎥\n",
       "⎢                                           ⎥\n",
       "⎢0  0  0  0  0  0  0  0  0  0  0  0  0  0  1⎥\n",
       "⎢                                           ⎥\n",
       "⎢0  0  0  0  0  0  0  0  0  0  0  0  0  1  0⎥\n",
       "⎢                                           ⎥\n",
       "⎢0  0  0  0  0  0  0  0  0  0  1  0  0  0  0⎥\n",
       "⎢                                           ⎥\n",
       "⎢0  0  1  0  0  0  0  0  0  0  0  0  0  0  0⎥\n",
       "⎢                                           ⎥\n",
       "⎢0  0  0  0  0  0  0  0  0  1  0  0  0  0  0⎥\n",
       "⎢                                           ⎥\n",
       "⎣0  1  0  0  0  0  0  0  0  0  0  0  0  0  0⎦"
      ]
     },
     "metadata": {},
     "output_type": "display_data"
    },
    {
     "data": {
      "image/png": "[encoded data removed]",
      "text/latex": [
       "$\\displaystyle t^{15} - 3 t^{13} + 3 t^{11} - t^{9} - t^{6} + 3 t^{4} - 3 t^{2} + 1$"
      ],
      "text/plain": [
       " 15      13      11    9    6      4      2    \n",
       "t   - 3⋅t   + 3⋅t   - t  - t  + 3⋅t  - 3⋅t  + 1"
      ]
     },
     "metadata": {},
     "output_type": "display_data"
    },
    {
     "data": {
      "image/png": "[encoded data removed]",
      "text/latex": [
       "$\\displaystyle \\left(t - 1\\right)^{4} \\left(t + 1\\right)^{3} \\left(t^{2} + t + 1\\right) \\left(t^{6} + t^{3} + 1\\right)$"
      ],
      "text/plain": [
       "       4        3 ⎛ 2        ⎞ ⎛ 6    3    ⎞\n",
       "(t - 1) ⋅(t + 1) ⋅⎝t  + t + 1⎠⋅⎝t  + t  + 1⎠"
      ]
     },
     "metadata": {},
     "output_type": "display_data"
    }
   ],
   "source": [
    "A = sympy.Matrix(prm.matrix())\n",
    "display(A)\n",
    "\n",
    "I = sympy.eye(N)\n",
    "t = sympy.symbols('t')\n",
    "\n",
    "dt = (I-t*A).det()\n",
    "display(dt, dt.factor())"
   ]
  },
  {
   "cell_type": "code",
   "execution_count": 56,
   "id": "36639336-6755-4046-a303-4ff24962e6a5",
   "metadata": {},
   "outputs": [
    {
     "data": {
      "text/latex": [
       "$\\displaystyle \\left[\\begin{array}{ccccccccccccccc}1 & 0 & 0 & - t & 0 & 0 & 0 & 0 & 0 & 0 & 0 & 0 & 0 & 0 & 0\\\\0 & 1 & 0 & 0 & 0 & 0 & 0 & 0 & - t & 0 & 0 & 0 & 0 & 0 & 0\\\\0 & 0 & 1 & 0 & 0 & 0 & 0 & 0 & 0 & 0 & 0 & 0 & - t & 0 & 0\\\\- t & 0 & 0 & 1 & 0 & 0 & 0 & 0 & 0 & 0 & 0 & 0 & 0 & 0 & 0\\\\0 & 0 & 0 & 0 & 1 & - t & 0 & 0 & 0 & 0 & 0 & 0 & 0 & 0 & 0\\\\0 & 0 & 0 & 0 & 0 & 1 & 0 & 0 & 0 & 0 & - t & 0 & 0 & 0 & 0\\\\0 & 0 & 0 & 0 & - t & 0 & 1 & 0 & 0 & 0 & 0 & 0 & 0 & 0 & 0\\\\0 & 0 & 0 & 0 & 0 & 0 & 0 & 1 - t & 0 & 0 & 0 & 0 & 0 & 0 & 0\\\\0 & - t & 0 & 0 & 0 & 0 & 0 & 0 & 1 & 0 & 0 & 0 & 0 & 0 & 0\\\\0 & 0 & 0 & 0 & 0 & 0 & 0 & 0 & 0 & 1 & 0 & 0 & 0 & - t & 0\\\\0 & 0 & - t & 0 & 0 & 0 & 0 & 0 & 0 & 0 & 1 & 0 & 0 & 0 & 0\\\\0 & 0 & 0 & 0 & 0 & 0 & 0 & 0 & 0 & - t & 0 & 1 & 0 & 0 & 0\\\\0 & 0 & 0 & 0 & 0 & 0 & 0 & 0 & 0 & 0 & 0 & 0 & 1 & 0 & - t\\\\0 & 0 & 0 & 0 & 0 & 0 & 0 & 0 & 0 & 0 & 0 & - t & 0 & 1 & 0\\\\0 & 0 & 0 & 0 & 0 & 0 & - t & 0 & 0 & 0 & 0 & 0 & 0 & 0 & 1\\end{array}\\right]$"
      ],
      "text/plain": [
       "⎡1   0   0   -t  0   0   0     0    0   0   0   0   0   0   0 ⎤\n",
       "⎢                                                             ⎥\n",
       "⎢0   1   0   0   0   0   0     0    -t  0   0   0   0   0   0 ⎥\n",
       "⎢                                                             ⎥\n",
       "⎢0   0   1   0   0   0   0     0    0   0   0   0   -t  0   0 ⎥\n",
       "⎢                                                             ⎥\n",
       "⎢-t  0   0   1   0   0   0     0    0   0   0   0   0   0   0 ⎥\n",
       "⎢                                                             ⎥\n",
       "⎢0   0   0   0   1   -t  0     0    0   0   0   0   0   0   0 ⎥\n",
       "⎢                                                             ⎥\n",
       "⎢0   0   0   0   0   1   0     0    0   0   -t  0   0   0   0 ⎥\n",
       "⎢                                                             ⎥\n",
       "⎢0   0   0   0   -t  0   1     0    0   0   0   0   0   0   0 ⎥\n",
       "⎢                                                             ⎥\n",
       "⎢0   0   0   0   0   0   0   1 - t  0   0   0   0   0   0   0 ⎥\n",
       "⎢                                                             ⎥\n",
       "⎢0   -t  0   0   0   0   0     0    1   0   0   0   0   0   0 ⎥\n",
       "⎢                                                             ⎥\n",
       "⎢0   0   0   0   0   0   0     0    0   1   0   0   0   -t  0 ⎥\n",
       "⎢                                                             ⎥\n",
       "⎢0   0   -t  0   0   0   0     0    0   0   1   0   0   0   0 ⎥\n",
       "⎢                                                             ⎥\n",
       "⎢0   0   0   0   0   0   0     0    0   -t  0   1   0   0   0 ⎥\n",
       "⎢                                                             ⎥\n",
       "⎢0   0   0   0   0   0   0     0    0   0   0   0   1   0   -t⎥\n",
       "⎢                                                             ⎥\n",
       "⎢0   0   0   0   0   0   0     0    0   0   0   -t  0   1   0 ⎥\n",
       "⎢                                                             ⎥\n",
       "⎣0   0   0   0   0   0   -t    0    0   0   0   0   0   0   1 ⎦"
      ]
     },
     "metadata": {},
     "output_type": "display_data"
    }
   ],
   "source": [
    "display(I-t*A)"
   ]
  },
  {
   "cell_type": "code",
   "execution_count": 69,
   "id": "6addb875-39d1-44a0-84b9-c0f72e7921ab",
   "metadata": {},
   "outputs": [
    {
     "data": {
      "image/png": "[encoded data removed]",
      "text/latex": [
       "$\\displaystyle \\left(1 - t^{2}\\right)^{3} \\left(1 - t^{9}\\right)$"
      ],
      "text/plain": [
       "        3         \n",
       "⎛     2⎞  ⎛     9⎞\n",
       "⎝1 - t ⎠ ⋅⎝1 - t ⎠"
      ]
     },
     "metadata": {},
     "output_type": "display_data"
    },
    {
     "data": {
      "image/png": "[encoded data removed]",
      "text/latex": [
       "$\\displaystyle t^{15} - 3 t^{13} + 3 t^{11} - t^{9} - t^{6} + 3 t^{4} - 3 t^{2} + 1$"
      ],
      "text/plain": [
       " 15      13      11    9    6      4      2    \n",
       "t   - 3⋅t   + 3⋅t   - t  - t  + 3⋅t  - 3⋅t  + 1"
      ]
     },
     "metadata": {},
     "output_type": "display_data"
    }
   ],
   "source": [
    "pol = (1-t**2)**3*(1-t**9)\n",
    "display(pol, pol.expand())"
   ]
  }
 ],
 "metadata": {
  "kernelspec": {
   "display_name": "Python 3 (ipykernel)",
   "language": "python",
   "name": "python3"
  },
  "language_info": {
   "codemirror_mode": {
    "name": "ipython",
    "version": 3
   },
   "file_extension": ".py",
   "mimetype": "text/x-python",
   "name": "python",
   "nbconvert_exporter": "python",
   "pygments_lexer": "ipython3",
   "version": "3.7.10"
  }
 },
 "nbformat": 4,
 "nbformat_minor": 5
}
