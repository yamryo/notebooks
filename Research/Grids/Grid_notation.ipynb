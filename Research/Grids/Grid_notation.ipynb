{
 "cells": [
  {
   "cell_type": "markdown",
   "id": "14d1259d-831e-43cf-92e1-533d80bf61e8",
   "metadata": {},
   "source": [
    "# Grid notation of permutations"
   ]
  },
  {
   "cell_type": "code",
   "execution_count": 1,
   "id": "38837ea6-e052-46a8-95a6-873664edf383",
   "metadata": {
    "tags": []
   },
   "outputs": [],
   "source": [
    "import random\n",
    "\n",
    "import numpy as np\n",
    "import Permutations as pm\n",
    "import sympy\n",
    "\n",
    "sympy.init_printing()\n",
    "\n",
    "# import plotly.graph_objects as go\n",
    "\n",
    "# ----- Debugger -----\n",
    "# from IPython.core.debugger import Pdb; Pdb().set_trace()\n",
    "# --------------------"
   ]
  },
  {
   "cell_type": "markdown",
   "id": "c11724da-417e-46cc-acbc-e13407d357d9",
   "metadata": {},
   "source": [
    "## Functions"
   ]
  },
  {
   "cell_type": "code",
   "execution_count": 2,
   "id": "c5034312-4440-4275-997c-08b5c68b3fc9",
   "metadata": {},
   "outputs": [],
   "source": [
    "def reduce(pm):\n",
    "    mtx = pm.copy()\n",
    "    size = len(mtx)\n",
    "    for row in range(len(mtx)-1):\n",
    "        col = np.where(mtx[row] > 0)[0][0]\n",
    "        if (row < size-1) and (col < size-1):\n",
    "            rb_num = mtx[row+1][col+1]\n",
    "            if rb_num > 0:\n",
    "                mtx[row][col] += rb_num\n",
    "                mtx = np.delete(mtx, row + 1, 0)\n",
    "                mtx = np.delete(mtx, col + 1, 1)\n",
    "                break\n",
    "    return mtx"
   ]
  },
  {
   "cell_type": "code",
   "execution_count": 3,
   "id": "3ea664c5-a741-47c3-bda5-950e43c559e5",
   "metadata": {},
   "outputs": [],
   "source": [
    "def get_grid(pm):\n",
    "    mtx = pm.copy()\n",
    "    prev_size = len(mtx)\n",
    "    while True:\n",
    "        mtx = reduce(mtx)\n",
    "        if len(mtx) < prev_size:\n",
    "            prev_size = len(mtx)\n",
    "        else:\n",
    "            break\n",
    "    return mtx"
   ]
  },
  {
   "cell_type": "code",
   "execution_count": 4,
   "id": "2a77faa2-ecb2-40a5-8991-876ff1f14ade",
   "metadata": {},
   "outputs": [],
   "source": [
    "def show(grid):\n",
    "    hline, vline = \"+---\" * len(grid) + \"+\", \"|   \" * len(grid) + \"|\"\n",
    "    for row in grid:\n",
    "        idx = np.where(row > 0)[0][0]\n",
    "        print(\n",
    "            hline\n",
    "            + \"\\n\"\n",
    "            + vline[: 4 * idx + 2]\n",
    "            + \"{}\".format(row[idx])\n",
    "            + vline[4 * (idx + 1) - 1 :]\n",
    "        )\n",
    "    else:\n",
    "        print(hline)"
   ]
  },
  {
   "cell_type": "code",
   "execution_count": 5,
   "id": "91906e4e-cd8e-4b59-91e2-5c829645f355",
   "metadata": {},
   "outputs": [],
   "source": [
    "def transform(grid):\n",
    "    gd = grid.copy()\n",
    "    if gd[0][0] > 0:\n",
    "        num = gd[0][0]\n",
    "        gd = np.delete(gd, 0, 0)\n",
    "        gd = np.delete(gd, 0, 1)\n",
    "        # print(\"Decompose into {} + the remaining grid\".format(num))\n",
    "        gd = {\"num\": num, \"grid\": gd}\n",
    "    else:\n",
    "        a_col = np.where(gd[0] > 0)[0][0]\n",
    "        a = gd[0][a_col]\n",
    "        fc = np.array([r[0] for r in gd])\n",
    "        b_row = np.where(fc > 0)[0][0]\n",
    "        b = fc[b_row]\n",
    "        if a > b:\n",
    "            gd[0][a_col] = a - b\n",
    "            gd = np.insert(gd, a_col, fc, 1)\n",
    "            gd = np.delete(gd, 0, 1)\n",
    "        elif a < b:\n",
    "            gd[b_row][0] = b - a\n",
    "            gd = np.insert(gd, b_row, gd[0], 0)\n",
    "            gd = np.delete(gd, 0, 0)\n",
    "        else:  # a == b\n",
    "            gd[b_row][a_col] = a\n",
    "            gd = np.delete(gd, 0, 0)\n",
    "            gd = np.delete(gd, 0, 1)\n",
    "    return gd"
   ]
  },
  {
   "cell_type": "markdown",
   "id": "469c780e-da86-4362-a655-55667352e89d",
   "metadata": {},
   "source": [
    "# Sequence of reduction"
   ]
  },
  {
   "cell_type": "code",
   "execution_count": 6,
   "id": "2ca32f5c-2b27-496b-8183-1ab4501f5a17",
   "metadata": {
    "tags": []
   },
   "outputs": [
    {
     "data": {
      "image/png": "[encoded data removed]",
      "text/latex": [
       "$\\displaystyle \\left[\\begin{matrix}0 & 1 & 2 & 3 & 4 & 5 & 6 & 7 & 8 & 9\\\\0 & 1 & 8 & 9 & 3 & 2 & 5 & 7 & 4 & 6\\end{matrix}\\right]$"
      ],
      "text/plain": [
       "⎡0  1  2  3  4  5  6  7  8  9⎤\n",
       "⎢                            ⎥\n",
       "⎣0  1  8  9  3  2  5  7  4  6⎦"
      ]
     },
     "metadata": {},
     "output_type": "display_data"
    },
    {
     "name": "stdout",
     "output_type": "stream",
     "text": [
      "[[0], [1], [8, 4, 3, 9, 6, 5, 2], [7]], 4\n",
      "+---+---+---+---+---+---+---+---+\n",
      "| 2 |   |   |   |   |   |   |   |\n",
      "+---+---+---+---+---+---+---+---+\n",
      "|   |   |   | 1 |   |   |   |   |\n",
      "+---+---+---+---+---+---+---+---+\n",
      "|   |   | 1 |   |   |   |   |   |\n",
      "+---+---+---+---+---+---+---+---+\n",
      "|   |   |   |   |   |   | 1 |   |\n",
      "+---+---+---+---+---+---+---+---+\n",
      "|   |   |   |   | 1 |   |   |   |\n",
      "+---+---+---+---+---+---+---+---+\n",
      "|   |   |   |   |   |   |   | 1 |\n",
      "+---+---+---+---+---+---+---+---+\n",
      "|   |   |   |   |   | 1 |   |   |\n",
      "+---+---+---+---+---+---+---+---+\n",
      "|   | 2 |   |   |   |   |   |   |\n",
      "+---+---+---+---+---+---+---+---+\n"
     ]
    }
   ],
   "source": [
    "N = 10\n",
    "img = list(range(N))\n",
    "random.shuffle(img)\n",
    "\n",
    "prm = pm.Permutation(img)\n",
    "display(sympy.Matrix(prm.two_line()))  # , prm.image, prm.size)\n",
    "cd = pm.cycle_decomp(prm)\n",
    "print(\"{}, {}\".format(cd, len(cd)))\n",
    "G = get_grid(prm.matrix())\n",
    "\n",
    "show(G)"
   ]
  },
  {
   "cell_type": "code",
   "execution_count": 7,
   "id": "c53e7457-6809-4495-bdfb-57dc4d63567e",
   "metadata": {
    "tags": []
   },
   "outputs": [
    {
     "name": "stdout",
     "output_type": "stream",
     "text": [
      "+---+---+---+---+---+---+---+\n",
      "|   |   | 1 |   |   |   |   |\n",
      "+---+---+---+---+---+---+---+\n",
      "|   | 1 |   |   |   |   |   |\n",
      "+---+---+---+---+---+---+---+\n",
      "|   |   |   |   |   | 1 |   |\n",
      "+---+---+---+---+---+---+---+\n",
      "|   |   |   | 1 |   |   |   |\n",
      "+---+---+---+---+---+---+---+\n",
      "|   |   |   |   |   |   | 1 |\n",
      "+---+---+---+---+---+---+---+\n",
      "|   |   |   |   | 1 |   |   |\n",
      "+---+---+---+---+---+---+---+\n",
      "| 2 |   |   |   |   |   |   |\n",
      "+---+---+---+---+---+---+---+\n",
      "\n",
      "↓ [2]\n",
      "\n",
      "+---+---+---+---+---+---+---+\n",
      "|   | 1 |   |   |   |   |   |\n",
      "+---+---+---+---+---+---+---+\n",
      "|   |   |   |   |   | 1 |   |\n",
      "+---+---+---+---+---+---+---+\n",
      "|   |   |   | 1 |   |   |   |\n",
      "+---+---+---+---+---+---+---+\n",
      "|   |   |   |   |   |   | 1 |\n",
      "+---+---+---+---+---+---+---+\n",
      "|   |   |   |   | 1 |   |   |\n",
      "+---+---+---+---+---+---+---+\n",
      "|   |   | 1 |   |   |   |   |\n",
      "+---+---+---+---+---+---+---+\n",
      "| 1 |   |   |   |   |   |   |\n",
      "+---+---+---+---+---+---+---+\n",
      "\n",
      "↓ [2]\n",
      "\n",
      "+---+---+---+---+---+---+\n",
      "|   |   |   |   | 1 |   |\n",
      "+---+---+---+---+---+---+\n",
      "|   |   | 1 |   |   |   |\n",
      "+---+---+---+---+---+---+\n",
      "|   |   |   |   |   | 1 |\n",
      "+---+---+---+---+---+---+\n",
      "|   |   |   | 1 |   |   |\n",
      "+---+---+---+---+---+---+\n",
      "|   | 1 |   |   |   |   |\n",
      "+---+---+---+---+---+---+\n",
      "| 1 |   |   |   |   |   |\n",
      "+---+---+---+---+---+---+\n",
      "\n",
      "↓ [2]\n",
      "\n",
      "+---+---+---+---+---+\n",
      "|   | 1 |   |   |   |\n",
      "+---+---+---+---+---+\n",
      "|   |   |   |   | 1 |\n",
      "+---+---+---+---+---+\n",
      "|   |   | 1 |   |   |\n",
      "+---+---+---+---+---+\n",
      "| 1 |   |   |   |   |\n",
      "+---+---+---+---+---+\n",
      "|   |   |   | 1 |   |\n",
      "+---+---+---+---+---+\n",
      "\n",
      "↓ [2]\n",
      "\n",
      "+---+---+---+---+\n",
      "|   |   |   | 1 |\n",
      "+---+---+---+---+\n",
      "|   | 1 |   |   |\n",
      "+---+---+---+---+\n",
      "| 1 |   |   |   |\n",
      "+---+---+---+---+\n",
      "|   |   | 1 |   |\n",
      "+---+---+---+---+\n",
      "\n",
      "↓ [2]\n",
      "\n",
      "+---+---+---+\n",
      "| 1 |   |   |\n",
      "+---+---+---+\n",
      "|   |   | 1 |\n",
      "+---+---+---+\n",
      "|   | 1 |   |\n",
      "+---+---+---+\n",
      "\n",
      "↓ [2]\n",
      "\n",
      "+---+---+\n",
      "|   | 1 |\n",
      "+---+---+\n",
      "| 1 |   |\n",
      "+---+---+\n",
      "\n",
      "↓ [2, 1]\n",
      "\n",
      "+---+\n",
      "| 1 |\n",
      "+---+\n",
      "list:[2, 1, 1], total:4\n"
     ]
    }
   ],
   "source": [
    "grid = G.copy()\n",
    "nums = []\n",
    "\n",
    "while len(grid) > 1:\n",
    "    new = transform(grid)\n",
    "    if type(new) == dict:\n",
    "        nums += [new[\"num\"]]\n",
    "        grid = get_grid(new[\"grid\"])\n",
    "    else:\n",
    "        grid = get_grid(new)\n",
    "    show(grid)\n",
    "    print(\"\\n↓ {}\\n\".format(nums)) if len(grid) > 1 else \"END\"\n",
    "else:\n",
    "    nums += [grid[0][0]]\n",
    "    print(\"list:{}, total:{}\".format(nums, sum(nums)))"
   ]
  },
  {
   "cell_type": "markdown",
   "id": "bad16570-33ee-4e96-ab1f-d59946006383",
   "metadata": {},
   "source": [
    "## Scratch"
   ]
  },
  {
   "cell_type": "code",
   "execution_count": null,
   "id": "9f197292-d804-4e6c-b75b-825e97c8cc09",
   "metadata": {},
   "outputs": [],
   "source": [
    "reduce(np.array([[1, 0], [0, 2]]))"
   ]
  },
  {
   "cell_type": "code",
   "execution_count": null,
   "id": "e87ab73d-8abb-4594-bebd-a365dc73caeb",
   "metadata": {},
   "outputs": [],
   "source": [
    "print(range(1))"
   ]
  }
 ],
 "metadata": {
  "kernelspec": {
   "display_name": "Python 3",
   "language": "python",
   "name": "python3"
  },
  "language_info": {
   "codemirror_mode": {
    "name": "ipython",
    "version": 3
   },
   "file_extension": ".py",
   "mimetype": "text/x-python",
   "name": "python",
   "nbconvert_exporter": "python",
   "pygments_lexer": "ipython3",
   "version": "3.6.13"
  }
 },
 "nbformat": 4,
 "nbformat_minor": 5
}
