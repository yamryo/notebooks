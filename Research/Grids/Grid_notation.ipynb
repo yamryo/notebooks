{
 "cells": [
  {
   "cell_type": "markdown",
   "id": "14d1259d-831e-43cf-92e1-533d80bf61e8",
   "metadata": {
    "tags": []
   },
   "source": [
    "# Grid notation of permutations"
   ]
  },
  {
   "cell_type": "markdown",
   "id": "fede5985-2813-433b-91a3-5b77dcef6e4e",
   "metadata": {},
   "source": [
    "## Libraries"
   ]
  },
  {
   "cell_type": "code",
   "execution_count": null,
   "id": "38837ea6-e052-46a8-95a6-873664edf383",
   "metadata": {
    "tags": []
   },
   "outputs": [],
   "source": [
    "import random\n",
    "import sympy\n",
    "sympy.init_printing()\n",
    "\n",
    "# import plotly.graph_objects as go\n",
    "\n",
    "# ----- Debugger -----\n",
    "# from IPython.core.debugger import Pdb; Pdb().set_trace()\n",
    "# --------------------"
   ]
  },
  {
   "cell_type": "code",
   "execution_count": null,
   "id": "a5a57112-f537-420b-b2fd-7779f74ef991",
   "metadata": {},
   "outputs": [],
   "source": [
    "import sys\n",
    "sys.path.append(\"../modules\")\n",
    "\n",
    "import Permutations as pm\n",
    "from Grid import *"
   ]
  },
  {
   "cell_type": "markdown",
   "id": "469c780e-da86-4362-a655-55667352e89d",
   "metadata": {
    "tags": []
   },
   "source": [
    "## Sequence of reduction"
   ]
  },
  {
   "cell_type": "code",
   "execution_count": null,
   "id": "944559eb-e992-4de7-a815-415020f90742",
   "metadata": {
    "tags": []
   },
   "outputs": [],
   "source": [
    "N = 15\n",
    "img = list(range(N)); random.shuffle(img)\n",
    "\n",
    "prm = pm.Permutation(img)\n",
    "display(sympy.Matrix(prm.two_line()))  # , prm.image, prm.size)\n",
    "cd = pm.cycle_decomp(prm); print(\"{}, {}\".format(cd, len(cd)))\n",
    "\n",
    "G = Grid(prm)\n",
    "G.show()"
   ]
  },
  {
   "cell_type": "code",
   "execution_count": null,
   "id": "70ed1a04-56be-44a0-93aa-6117bc35f0ca",
   "metadata": {
    "jupyter": {
     "source_hidden": true
    },
    "tags": []
   },
   "outputs": [],
   "source": [
    "grid = G.copy(); G.show()#; print(\"\\n↓ \\n\")\n",
    "nums = []\n",
    "\n",
    "while grid.size > 1:\n",
    "    bln = False if random.randint(0,1) == 0 else True\n",
    "    new = grid.transform(bln)\n",
    "    if type(new) == dict:\n",
    "        nums += [new[\"num\"]]\n",
    "        grid = new[\"grid\"]\n",
    "    else:\n",
    "        grid = new\n",
    "    #---\n",
    "    print(\"\\n{} ↓   nums = {}\\n\".format(\"BR\" if bln else \"TL\",nums))\n",
    "    grid.show()\n",
    "else:\n",
    "    nums += [grid.matrix[0][0]]\n",
    "    print(\"numbers:{}, total:{}\".format(nums, sum(nums)))"
   ]
  },
  {
   "cell_type": "code",
   "execution_count": null,
   "id": "9812f418-1f22-44a0-8f41-cb48f11185b1",
   "metadata": {
    "tags": []
   },
   "outputs": [],
   "source": [
    "A = sympy.Matrix(prm.matrix())\n",
    "display(A)\n",
    "\n",
    "I = sympy.eye(N)\n",
    "t = sympy.symbols('t')\n",
    "\n",
    "dt = (I-t*A).det()\n",
    "display(dt, dt.factor())"
   ]
  },
  {
   "cell_type": "code",
   "execution_count": null,
   "id": "36639336-6755-4046-a303-4ff24962e6a5",
   "metadata": {},
   "outputs": [],
   "source": [
    "display(I-t*A)"
   ]
  },
  {
   "cell_type": "code",
   "execution_count": null,
   "id": "6addb875-39d1-44a0-84b9-c0f72e7921ab",
   "metadata": {},
   "outputs": [],
   "source": [
    "pol = (1-t**2)**3*(1-t**9)\n",
    "display(pol, pol.expand())"
   ]
  }
 ],
 "metadata": {
  "kernelspec": {
   "display_name": "Python 3",
   "language": "python",
   "name": "python3"
  },
  "language_info": {
   "codemirror_mode": {
    "name": "ipython",
    "version": 3
   },
   "file_extension": ".py",
   "mimetype": "text/x-python",
   "name": "python",
   "nbconvert_exporter": "python",
   "pygments_lexer": "ipython3",
   "version": "3.6.13"
  }
 },
 "nbformat": 4,
 "nbformat_minor": 5
}
