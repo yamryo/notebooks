{
 "cells": [
  {
   "cell_type": "code",
   "execution_count": 55,
   "id": "9fb0fea6-8e15-4782-ab96-991eeb91aa35",
   "metadata": {},
   "outputs": [
    {
     "name": "stdout",
     "output_type": "stream",
     "text": [
      "4\n",
      "a=4\n"
     ]
    }
   ],
   "source": [
    "import random\n",
    "\n",
    "a = random.randint(1, 10); print(a)\n",
    "\n",
    "match a:\n",
    "    case 1:\n",
    "        print(\"a=1\")\n",
    "    case 2:\n",
    "        print(\"a=2\")\n",
    "    case x:\n",
    "        print(f\"a={x}\")"
   ]
  }
 ],
 "metadata": {
  "kernelspec": {
   "display_name": "py312",
   "language": "python",
   "name": "py312"
  },
  "language_info": {
   "codemirror_mode": {
    "name": "ipython",
    "version": 3
   },
   "file_extension": ".py",
   "mimetype": "text/x-python",
   "name": "python",
   "nbconvert_exporter": "python",
   "pygments_lexer": "ipython3",
   "version": "3.12.1"
  }
 },
 "nbformat": 4,
 "nbformat_minor": 5
}
