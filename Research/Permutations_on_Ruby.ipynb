{
 "cells": [
  {
   "cell_type": "markdown",
   "metadata": {},
   "source": [
    "# Permutations on Ruby"
   ]
  },
  {
   "cell_type": "markdown",
   "metadata": {
    "ExecuteTime": {
     "end_time": "2020-01-21T09:43:20.557320Z",
     "start_time": "2020-01-21T09:43:20.550Z"
    }
   },
   "source": [
    "## Classes"
   ]
  },
  {
   "cell_type": "markdown",
   "metadata": {
    "heading_collapsed": true
   },
   "source": [
    "### Permutation class"
   ]
  },
  {
   "cell_type": "code",
   "execution_count": 115,
   "metadata": {
    "ExecuteTime": {
     "end_time": "2020-01-23T10:01:04.539261Z",
     "start_time": "2020-01-23T10:01:04.530Z"
    },
    "hidden": true
   },
   "outputs": [],
   "source": [
    "class Permutation\n",
    "  def initialize(image=(0..4).to_a)\n",
    "    raise ArgumentError, \"Not non-negative integers\" unless image.all?{|v| v.is_a?(Integer) && (v >= 0)}\n",
    "    raise ArgumentError, \"Not a permutation of 0 to #{image.size}\" unless image.sort == (0..image.size-1).to_a\n",
    "    @size = image.size\n",
    "    @image = image\n",
    "  end\n",
    "  attr_accessor :size, :image\n",
    "#-----\n",
    "  def act(arg)\n",
    "#    raise ArgumentError, \"#{self.show} can not act onto #{arg}\" unless image.all?{|v| arg.include?(v)}\n",
    "    raise ArgumentError, \"Not non-negative integers\" unless [arg].flatten.all?{|v| v.is_a?(Integer) && (v >= 0)}\n",
    "    case arg\n",
    "    when Integer\n",
    "      return @image[arg].then{|v| (v.nil?) ? arg : v}\n",
    "    when Array\n",
    "      return arg.map{|v| self.act(v)}\n",
    "    else\n",
    "      raise ArgumentError, \"Input an Integer or an Array!\"\n",
    "    end\n",
    "  end\n",
    "  def *(aPerm)\n",
    "    raise ArgumentError, \"Not a Permutation\" unless aPerm.is_a?(Permutation)\n",
    "    return Permutation.new(self.act(aPerm.image))\n",
    "  end\n",
    "#-----    \n",
    "  def to_s\n",
    "    \"#{(0..@size-1).to_a}\\n#{image}\"\n",
    "  end\n",
    "  def inspect\n",
    "    \"(\" + (0..@size-1).map{|i| \"#{i}\\u{21a6}#{image[i]}\"}.join(',') + \")\"\n",
    "#    \"(\" + (0..@size-1).map{|i| \"\\u{21a6}#{image[i]}\"}.join(',') + \")\"\n",
    "  end\n",
    "  def display(before)\n",
    "    \"#{before}  |-#{self.inspect}->  #{self.act(before)}\"\n",
    "  end\n",
    "end; nil"
   ]
  },
  {
   "cell_type": "code",
   "execution_count": 116,
   "metadata": {
    "ExecuteTime": {
     "end_time": "2020-01-23T10:01:05.847714Z",
     "start_time": "2020-01-23T10:01:05.837Z"
    },
    "hidden": true
   },
   "outputs": [
    {
     "name": "stdout",
     "output_type": "stream",
     "text": [
      "[0, 1, 2, 3]\n",
      "[1, 2, 0, 3]\n"
     ]
    },
    {
     "data": {
      "text/plain": [
       "\"[2, 0, 3, 4, 1]  |-(0↦1,1↦2,2↦0,3↦3)->  [0, 1, 3, 4, 2]\""
      ]
     },
     "execution_count": 116,
     "metadata": {},
     "output_type": "execute_result"
    }
   ],
   "source": [
    "sigma = Permutation.new([1,2,0,3])\n",
    "puts sigma.to_s\n",
    "\n",
    "before = [2,0,3,4,1]\n",
    "sigma.display(before)"
   ]
  },
  {
   "cell_type": "markdown",
   "metadata": {
    "heading_collapsed": true
   },
   "source": [
    "### Cycle class (Cyclic permutation)"
   ]
  },
  {
   "cell_type": "code",
   "execution_count": 182,
   "metadata": {
    "ExecuteTime": {
     "end_time": "2020-01-24T06:40:32.153658Z",
     "start_time": "2020-01-24T06:40:32.146Z"
    },
    "hidden": true
   },
   "outputs": [],
   "source": [
    "class Cycle < Permutation\n",
    "  def initialize(arg)\n",
    "    @seq = arg\n",
    "    @length = arg.size\n",
    "    image = (0..arg.max).map do |k|\n",
    "      ind = arg.index(k)\n",
    "      (ind.nil?) ? k : arg[(ind+1)%arg.size]\n",
    "    end\n",
    "    super(image)\n",
    "  end\n",
    "  attr_accessor :length\n",
    "#-----  \n",
    "  def to_s\n",
    "    \"(#{@seq.join(',')})\"\n",
    "  end\n",
    "  def inspect\n",
    "    \"(#{@seq.join(\"\\u{21a6}\")}\\u{21a6})\"\n",
    "  end\n",
    "end; nil"
   ]
  },
  {
   "cell_type": "code",
   "execution_count": 183,
   "metadata": {
    "ExecuteTime": {
     "end_time": "2020-01-24T06:40:32.699844Z",
     "start_time": "2020-01-24T06:40:32.689Z"
    },
    "hidden": true
   },
   "outputs": [
    {
     "name": "stdout",
     "output_type": "stream",
     "text": [
      "[0, 2, 4, 3, 1]\n",
      "\"(2,4,1)\"\n",
      "\"(2↦4↦1↦)\"\n"
     ]
    },
    {
     "data": {
      "text/plain": [
       "\"[0, 2, 1, 3, 4]  |-(2↦4↦1↦)->  [0, 4, 2, 3, 1]\""
      ]
     },
     "execution_count": 183,
     "metadata": {},
     "output_type": "execute_result"
    }
   ],
   "source": [
    "c = Cycle.new([2,4,1])\n",
    "\n",
    "p c.image, c.to_s, c.inspect\n",
    "\n",
    "c.display([0,2,1,3,4])"
   ]
  },
  {
   "cell_type": "markdown",
   "metadata": {
    "ExecuteTime": {
     "end_time": "2020-01-21T09:14:39.624642Z",
     "start_time": "2020-01-21T09:14:39.616Z"
    },
    "heading_collapsed": true
   },
   "source": [
    "### Transposition class"
   ]
  },
  {
   "cell_type": "code",
   "execution_count": 194,
   "metadata": {
    "ExecuteTime": {
     "end_time": "2020-01-24T06:42:10.123380Z",
     "start_time": "2020-01-24T06:42:10.117Z"
    },
    "hidden": true
   },
   "outputs": [],
   "source": [
    "class Transposition < Cycle\n",
    "  def initialize(i,j)\n",
    "    @pair = [i,j]\n",
    "    super(@pair)\n",
    "  end\n",
    "#-----  \n",
    "  def inspect\n",
    "    \"(#{@seq.join(\"\\u{21c4}\")})\"\n",
    "  end\n",
    "end; nil"
   ]
  },
  {
   "cell_type": "code",
   "execution_count": 195,
   "metadata": {
    "ExecuteTime": {
     "end_time": "2020-01-24T06:42:10.744718Z",
     "start_time": "2020-01-24T06:42:10.736Z"
    },
    "hidden": true
   },
   "outputs": [
    {
     "name": "stdout",
     "output_type": "stream",
     "text": [
      "(3,4)\n",
      "(3⇄4)\n"
     ]
    },
    {
     "data": {
      "text/plain": [
       "\"[0, 1, 2, 3, 4, 5]  |-(3⇄4)->  [0, 1, 2, 4, 3, 5]\""
      ]
     },
     "execution_count": 195,
     "metadata": {},
     "output_type": "execute_result"
    }
   ],
   "source": [
    "t = Transposition.new(3,4)\n",
    "puts t.to_s, t.inspect\n",
    "\n",
    "t.display((0..5).to_a)"
   ]
  },
  {
   "cell_type": "markdown",
   "metadata": {},
   "source": [
    "## Decomposition into Cycles"
   ]
  },
  {
   "cell_type": "code",
   "execution_count": 165,
   "metadata": {
    "ExecuteTime": {
     "end_time": "2020-01-24T06:35:31.743922Z",
     "start_time": "2020-01-24T06:35:31.736Z"
    }
   },
   "outputs": [],
   "source": [
    "def decompose(perm)\n",
    "  seqs = []\n",
    "  im = perm.image.dup\n",
    "  while im.size > 0\n",
    "    seq = [im.first]\n",
    "    while seq.count(seq.first) == 1\n",
    "      seq << perm.act(seq.last)\n",
    "    end\n",
    "    seq.pop\n",
    "    seqs << Cycle.new(seq)\n",
    "    seq.each{|v| im.delete(v)}\n",
    "  end\n",
    "  return seqs.sort_by{|a| a.length }\n",
    "end;nil"
   ]
  },
  {
   "cell_type": "code",
   "execution_count": 178,
   "metadata": {
    "ExecuteTime": {
     "end_time": "2020-01-24T06:35:59.043727Z",
     "start_time": "2020-01-24T06:35:58.900Z"
    }
   },
   "outputs": [
    {
     "name": "stdout",
     "output_type": "stream",
     "text": [
      "(0↦8,1↦2,2↦3,3↦4,4↦7,5↦6,6↦5,7↦1,8↦0)\n",
      "[(8↦0↦), (6↦5↦), (2↦3↦4↦7↦1↦)]\n",
      "\"[0, 1, 2, 3, 4, 5, 6]  |-(8↦0↦)->  [8, 1, 2, 3, 4, 5, 6]\"\n",
      "\"[8, 1, 2, 3, 4, 5, 6]  |-(6↦5↦)->  [8, 1, 2, 3, 4, 6, 5]\"\n",
      "\"[8, 1, 2, 3, 4, 6, 5]  |-(2↦3↦4↦7↦1↦)->  [8, 2, 3, 4, 7, 6, 5]\"\n"
     ]
    }
   ],
   "source": [
    "v = (0..8).to_a.permutation.to_a.sample\n",
    "s = Permutation.new(v).tap{|x| p x}\n",
    "\n",
    "decomp = decompose(s).tap{|x| p x}\n",
    "\n",
    "arr = (0..6).to_a\n",
    "decomp.each do |perm|\n",
    "  p perm.display(arr)\n",
    "  arr = perm.act(arr)\n",
    "end; nil"
   ]
  },
  {
   "cell_type": "markdown",
   "metadata": {},
   "source": [
    "## Experiments"
   ]
  },
  {
   "cell_type": "code",
   "execution_count": 45,
   "metadata": {
    "ExecuteTime": {
     "end_time": "2020-01-23T09:18:24.207850Z",
     "start_time": "2020-01-23T09:18:24.200Z"
    }
   },
   "outputs": [
    {
     "name": "stdout",
     "output_type": "stream",
     "text": [
      "[0, 1, 2, 3, 4, 5]  |-(0↦1,1↦2,2↦0,3↦4,4↦3)->  [1, 2, 0, 4, 3, 5]\n"
     ]
    },
    {
     "data": {
      "text/plain": [
       "\"[0, 1, 2, 3, 4, 5]  |-(3⇄4)->  [0, 1, 2, 4, 3, 5] 5]  |-(0↦1,1↦2,2↦0,3↦3)->  [1, 2, 0, 4, 3, 5]\""
      ]
     },
     "execution_count": 45,
     "metadata": {},
     "output_type": "execute_result"
    }
   ],
   "source": [
    "s = Permutation.new([1,2,0,3])\n",
    "t = Transposition.new(3,4)\n",
    "st = s*t; #puts st.to_s\n",
    "\n",
    "start = (0..5).to_a\n",
    "\n",
    "puts st.display(start)\n",
    "\n",
    "[t,s].map do |perm|\n",
    "  perm.display(start).tap{|v| start = perm.act(start)}\n",
    "end.join('mark').sub(/mark(.{15})/, '')"
   ]
  },
  {
   "cell_type": "code",
   "execution_count": 47,
   "metadata": {
    "ExecuteTime": {
     "end_time": "2020-01-23T09:18:43.976584Z",
     "start_time": "2020-01-23T09:18:43.968Z"
    }
   },
   "outputs": [
    {
     "name": "stdout",
     "output_type": "stream",
     "text": [
      "\"[1, 2, 0, 4, 3, 5]  |-(3⇄4)->  [1, 2, 0, 3, 4, 5]\"\n",
      "\"[1, 2, 0, 4, 3, 5]  |-(3↦4↦)->  [1, 2, 0, 3, 4, 5]\"\n"
     ]
    }
   ],
   "source": [
    "p t.display(start)\n",
    "\n",
    "c = Cycle.new([3,4])\n",
    "p c.display(start)\n",
    "nil"
   ]
  }
 ],
 "metadata": {
  "kernelspec": {
   "display_name": "Ruby 2.7.0",
   "language": "ruby",
   "name": "ruby"
  },
  "language_info": {
   "file_extension": ".rb",
   "mimetype": "application/x-ruby",
   "name": "ruby",
   "version": "2.7.0"
  },
  "toc": {
   "base_numbering": 1,
   "nav_menu": {},
   "number_sections": true,
   "sideBar": true,
   "skip_h1_title": true,
   "title_cell": "Table of Contents",
   "title_sidebar": "Contents",
   "toc_cell": false,
   "toc_position": {},
   "toc_section_display": true,
   "toc_window_display": true
  }
 },
 "nbformat": 4,
 "nbformat_minor": 4
}
