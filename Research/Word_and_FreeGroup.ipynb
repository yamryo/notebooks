{
 "cells": [
  {
   "cell_type": "code",
   "execution_count": 7,
   "metadata": {},
   "outputs": [],
   "source": [
    "import copy\n",
    "\n",
    "class Word(list):\n",
    "    \n",
    "    def __init__(self, string):\n",
    "        list.__init__(self, list(string))\n",
    "        \n",
    "    def contract_once(self):\n",
    "        myword = copy.copy(self)\n",
    "        new = []\n",
    "#         from IPython.core.debugger import Pdb; Pdb().set_trace()\n",
    "        while len(myword) > 1:\n",
    "            last = myword.pop()\n",
    "#             print [myword, last, new]\n",
    "            if (last.upper() == myword[-1].upper() \n",
    "                and last != myword[-1]):\n",
    "                last = '1'\n",
    "                myword.pop()\n",
    "            new.insert(0,last)\n",
    "#             print [myword, new]\n",
    "        mylist = [x for x in myword + new if x != '1']\n",
    "        result = Word(mylist) if ''.join(mylist) != '' else Word('1')\n",
    "        return result\n",
    "    \n",
    "    def contract(self):\n",
    "        myword = copy.copy(self)\n",
    "        length_diff = 1\n",
    "        while length_diff > 0 and len(myword) > 1:\n",
    "            pre_length = len(myword)\n",
    "            myword = myword.contract_once()\n",
    "            length_diff = pre_length - len(myword)\n",
    "        return myword\n",
    "    \n",
    "    def show(self):\n",
    "        return ''.join(self)"
   ]
  },
  {
   "cell_type": "code",
   "execution_count": 8,
   "metadata": {},
   "outputs": [],
   "source": [
    "from numpy.random import *\n",
    "\n",
    "class FreeGroup:\n",
    "    def __init__(self, alphabet):\n",
    "        self.alph = alphabet\n",
    "        \n",
    "    def random_word(self, n):\n",
    "        indices = randint(0,len(self.alph),n)\n",
    "        letters = map(lambda x: [self.alph[x],randint(2)], indices)\n",
    "        return Word(''.join(map(\n",
    "            lambda p: p[0] if p[1] else p[0].upper(), letters)))"
   ]
  },
  {
   "cell_type": "code",
   "execution_count": 9,
   "metadata": {},
   "outputs": [
    {
     "data": {
      "text/plain": [
       "['AACbCABC', 'AACbCABC']"
      ]
     },
     "execution_count": 9,
     "metadata": {},
     "output_type": "execute_result"
    }
   ],
   "source": [
    "fg = FreeGroup(['a','b','c'])\n",
    "myword = fg.random_word(8)\n",
    "[myword.show(), myword.contract().show()]"
   ]
  },
  {
   "cell_type": "code",
   "execution_count": 10,
   "metadata": {},
   "outputs": [
    {
     "data": {
      "text/plain": [
       "['1']"
      ]
     },
     "execution_count": 10,
     "metadata": {},
     "output_type": "execute_result"
    }
   ],
   "source": [
    "Word('AbBa').contract()"
   ]
  },
  {
   "cell_type": "code",
   "execution_count": 12,
   "metadata": {},
   "outputs": [
    {
     "data": {
      "text/plain": [
       "['b', 'a', 'c', 'A', 'B']"
      ]
     },
     "execution_count": 12,
     "metadata": {},
     "output_type": "execute_result"
    }
   ],
   "source": [
    "Word('bacABcC').contract()"
   ]
  },
  {
   "cell_type": "code",
   "execution_count": null,
   "metadata": {},
   "outputs": [],
   "source": [
    "arr = []; arr[0]"
   ]
  },
  {
   "cell_type": "code",
   "execution_count": null,
   "metadata": {},
   "outputs": [],
   "source": []
  }
 ],
 "metadata": {
  "kernelspec": {
   "display_name": "Python 3",
   "language": "python",
   "name": "python3"
  },
  "language_info": {
   "codemirror_mode": {
    "name": "ipython",
    "version": 3
   },
   "file_extension": ".py",
   "mimetype": "text/x-python",
   "name": "python",
   "nbconvert_exporter": "python",
   "pygments_lexer": "ipython3",
   "version": "3.6.13"
  },
  "toc": {
   "nav_menu": {},
   "number_sections": true,
   "sideBar": true,
   "skip_h1_title": false,
   "title_cell": "Table of Contents",
   "title_sidebar": "Contents",
   "toc_cell": false,
   "toc_position": {},
   "toc_section_display": true,
   "toc_window_display": false
  },
  "varInspector": {
   "cols": {
    "lenName": 16,
    "lenType": 16,
    "lenVar": 40
   },
   "kernels_config": {
    "python": {
     "delete_cmd_postfix": "",
     "delete_cmd_prefix": "del ",
     "library": "var_list.py",
     "varRefreshCmd": "print(var_dic_list())"
    },
    "r": {
     "delete_cmd_postfix": ") ",
     "delete_cmd_prefix": "rm(",
     "library": "var_list.r",
     "varRefreshCmd": "cat(var_dic_list()) "
    }
   },
   "types_to_exclude": [
    "module",
    "function",
    "builtin_function_or_method",
    "instance",
    "_Feature"
   ],
   "window_display": false
  }
 },
 "nbformat": 4,
 "nbformat_minor": 4
}
