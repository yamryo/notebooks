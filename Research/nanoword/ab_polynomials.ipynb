{
 "cells": [
  {
   "cell_type": "markdown",
   "id": "678a6b20-fa30-42bc-b791-42d29e5ae40e",
   "metadata": {
    "editable": true,
    "slideshow": {
     "slide_type": ""
    },
    "tags": []
   },
   "source": [
    "# ab polynomials(仮称) for virtual knots\n",
    "研究打ち合わせ@山梨大学教育学部 中村研究室\n",
    "\n",
    "2024年 6月 22日(土)"
   ]
  },
  {
   "cell_type": "markdown",
   "id": "ba76e3f3-0853-40ca-8cce-7974eefaaf43",
   "metadata": {
    "editable": true,
    "slideshow": {
     "slide_type": ""
    },
    "tags": []
   },
   "source": [
    "### Modules"
   ]
  },
  {
   "cell_type": "code",
   "execution_count": 1,
   "id": "295be3dc-af86-4218-9aa6-f974bd814dd6",
   "metadata": {},
   "outputs": [
    {
     "ename": "ImportError",
     "evalue": "cannot import name 'Literal'",
     "output_type": "error",
     "traceback": [
      "\u001b[0;31m---------------------------------------------------------------------------\u001b[0m",
      "\u001b[0;31mImportError\u001b[0m                               Traceback (most recent call last)",
      "\u001b[0;32m<ipython-input-1-63866dd398d8>\u001b[0m in \u001b[0;36m<module>\u001b[0;34m\u001b[0m\n\u001b[1;32m      1\u001b[0m \u001b[0;31m# import sys; sys.path.append(\"../modules\")\u001b[0m\u001b[0;34m\u001b[0m\u001b[0;34m\u001b[0m\u001b[0;34m\u001b[0m\u001b[0m\n\u001b[0;32m----> 2\u001b[0;31m \u001b[0;32mfrom\u001b[0m \u001b[0mnanoword\u001b[0m \u001b[0;32mimport\u001b[0m \u001b[0;34m*\u001b[0m\u001b[0;34m\u001b[0m\u001b[0;34m\u001b[0m\u001b[0m\n\u001b[0m\u001b[1;32m      3\u001b[0m \u001b[0;34m\u001b[0m\u001b[0m\n\u001b[1;32m      4\u001b[0m \u001b[0;32mimport\u001b[0m \u001b[0mpprint\u001b[0m\u001b[0;34m\u001b[0m\u001b[0;34m\u001b[0m\u001b[0m\n",
      "\u001b[0;32m~/notebooks/Research/nanoword/nanoword.py\u001b[0m in \u001b[0;36m<module>\u001b[0;34m\u001b[0m\n\u001b[1;32m      9\u001b[0m \u001b[0;34m\u001b[0m\u001b[0m\n\u001b[1;32m     10\u001b[0m \u001b[0;32mimport\u001b[0m \u001b[0mitertools\u001b[0m\u001b[0;34m\u001b[0m\u001b[0;34m\u001b[0m\u001b[0m\n\u001b[0;32m---> 11\u001b[0;31m \u001b[0;32mfrom\u001b[0m \u001b[0mtyping\u001b[0m \u001b[0;32mimport\u001b[0m \u001b[0mLiteral\u001b[0m\u001b[0;34m\u001b[0m\u001b[0;34m\u001b[0m\u001b[0m\n\u001b[0m\u001b[1;32m     12\u001b[0m \u001b[0;32mimport\u001b[0m \u001b[0mplotly\u001b[0m\u001b[0;34m.\u001b[0m\u001b[0mgraph_objects\u001b[0m \u001b[0;32mas\u001b[0m \u001b[0mgo\u001b[0m\u001b[0;34m\u001b[0m\u001b[0;34m\u001b[0m\u001b[0m\n\u001b[1;32m     13\u001b[0m \u001b[0;34m\u001b[0m\u001b[0m\n",
      "\u001b[0;31mImportError\u001b[0m: cannot import name 'Literal'"
     ]
    }
   ],
   "source": [
    "# import sys; sys.path.append(\"../modules\")\n",
    "from nanoword import *\n",
    "\n",
    "import pprint"
   ]
  },
  {
   "cell_type": "markdown",
   "id": "88b6afa2-1448-45f4-8c74-2397b4041a56",
   "metadata": {},
   "source": [
    "# 1. 準備"
   ]
  },
  {
   "cell_type": "markdown",
   "id": "310be925-d21b-43a7-b9cf-f24b1f16eedb",
   "metadata": {},
   "source": [
    "## 1.1. Nanoword"
   ]
  },
  {
   "cell_type": "code",
   "execution_count": null,
   "id": "0b9a05f0-a8fe-4fa9-afc9-df549d822548",
   "metadata": {
    "editable": true,
    "slideshow": {
     "slide_type": ""
    },
    "tags": []
   },
   "outputs": [],
   "source": [
    "nw = Nanoword.random_generator(5)\n",
    "print(f\"A nanoword {nw.word} on an alphabet {nw.alphabet}\")\n",
    "nw.diagram(size=300).show()"
   ]
  },
  {
   "cell_type": "markdown",
   "id": "2f62ce34-c44d-4962-bba0-82ff50a4bc53",
   "metadata": {
    "editable": true,
    "slideshow": {
     "slide_type": ""
    },
    "tags": []
   },
   "source": [
    "## 1.2. 符号 $\\{a+, a-, b+, b-\\}$ と、その代数系"
   ]
  },
  {
   "cell_type": "markdown",
   "id": "27f0a49a-4ba0-4be7-b224-b0c050139c46",
   "metadata": {},
   "source": [
    "<div><center>    \n",
    "<img src=\"signs.png\" width=\"200\"/>\n",
    "</center>\n",
    "</div>\n",
    "\n",
    "$R(a) := \\{a+, b-\\},~~R(b) :=  \\{b+, a-\\}$\n",
    "\n",
    "$\\pi := \\braket{a}\\oplus\\braket{b}$\n",
    "\n",
    "以下のように同一視する。\n",
    "$$ a+ \\mapsto a, ~~ \n",
    "b- \\mapsto a^{-1}, $$\n",
    "$$ b+ \\mapsto b, ~~ \n",
    "a- \\mapsto b^{-1}.$$"
   ]
  },
  {
   "cell_type": "markdown",
   "id": "1a0ff7ff-c360-4215-a0b6-1224c8744876",
   "metadata": {},
   "source": [
    "# 2. ab polynomials の定義"
   ]
  },
  {
   "cell_type": "markdown",
   "id": "a592ccaf-e0cd-4ddb-af6c-f0c43404687d",
   "metadata": {},
   "source": [
    "$nw=ABCBAC$ を alphabet ${\\cal{A}}=[(A,a+), (B,a-), (C,a+)]$ 上の nanoword とする。"
   ]
  },
  {
   "cell_type": "code",
   "execution_count": null,
   "id": "c41d5a21-a423-4062-b20e-737f699d9fe1",
   "metadata": {},
   "outputs": [],
   "source": [
    "nw = Nanoword(\"ABCBAC\", [Letter('A','a+'),Letter('B','a-'),Letter('C','a+')])\n",
    "print(f\"nw = {nw.word} / {nw.alphabet}\"); nw.diagram(size=280).show()"
   ]
  },
  {
   "cell_type": "markdown",
   "id": "1e4a1c6d-4165-4db0-afbd-27b27d16e549",
   "metadata": {},
   "source": [
    "## 2.1. self-linking of letters"
   ]
  },
  {
   "cell_type": "markdown",
   "id": "3edef0f9-a7c4-4228-b009-4566df84a4ea",
   "metadata": {},
   "source": [
    "nanoword $nw$ の letter $A$ の self-linking $[A]_{nw}$:\n",
    "$$[A]_{nw} := \\prod_{B \\in \\cal{A}} x^{\\operatorname{pm}(B)\\operatorname{lk}(A,B)} ~~ \\in \\braket{x}$$\n",
    "* $|A| \\in R(a)$ のとき $x=a$、そうでないとき $x=b$ と定める。"
   ]
  },
  {
   "cell_type": "markdown",
   "id": "1952906c-f80b-4a1e-87e3-652a377081bf",
   "metadata": {},
   "source": [
    "$nw$ の各 letter の self-linking の一覧。\n",
    "(次数だけを示している。)"
   ]
  },
  {
   "cell_type": "code",
   "execution_count": null,
   "id": "c2f2c9dc-c0f9-4ccf-a5ae-15d964734292",
   "metadata": {},
   "outputs": [],
   "source": [
    "for ltr in nw.alphabet:\n",
    "    sl = nw.self_linking(ltr)    \n",
    "    print(f\"{ltr}  --> {sl}\")"
   ]
  },
  {
   "cell_type": "markdown",
   "id": "fccb4a36-84f1-46f6-b95c-82a71ba467c9",
   "metadata": {},
   "source": [
    "$$ \\log_{x}[A]_{nw} = \\sum_{B \\in \\cal{A}} \\operatorname{pm}(B)\\operatorname{lk}(A,B) $$"
   ]
  },
  {
   "cell_type": "markdown",
   "id": "74de9379-136d-454f-8b7a-ebc717a4ca9f",
   "metadata": {},
   "source": [
    "## 2.2. ab polynomials of a nanoword"
   ]
  },
  {
   "cell_type": "markdown",
   "id": "7bc92080-b483-49f4-9eaf-5f304752ef66",
   "metadata": {
    "editable": true,
    "slideshow": {
     "slide_type": ""
    },
    "tags": []
   },
   "source": [
    "$nw$ の ab polynomials を以下で定義;\n",
    "$$ (\\sum_{A \\in {\\cal A},~ |A| \\in R(a),~ [A]_{nw} \\neq 1} [A]_{nw}~, \\sum_{A \\in {\\cal A},~ |A| \\in R(b),~ [A]_{nw} \\neq 1} [A]_{nw}) ~~ \\in \\mathbb{Z}\\braket{a}\\times \\mathbb{Z}\\braket{b}$$"
   ]
  },
  {
   "cell_type": "code",
   "execution_count": null,
   "id": "3c69a37c-9462-4d7f-90ee-e397e2ee3eba",
   "metadata": {},
   "outputs": [],
   "source": [
    "print(nw.ab_polynomials())"
   ]
  },
  {
   "cell_type": "markdown",
   "id": "c2c56734-a443-40cf-9fc2-6c34f9395aef",
   "metadata": {},
   "source": [
    "# 3. Writhe polynomial vs ab polynomials"
   ]
  },
  {
   "cell_type": "markdown",
   "id": "611c65be-ffaa-42b9-821d-586a3afad717",
   "metadata": {},
   "source": [
    "## 3.1. Ind vs self-linking"
   ]
  },
  {
   "cell_type": "markdown",
   "id": "d922518a-69a7-4e1c-913e-353301db13ce",
   "metadata": {},
   "source": [
    "7交点(classical)の nanoword をランダムに作成。"
   ]
  },
  {
   "cell_type": "code",
   "execution_count": null,
   "id": "5e336ce9-7d09-425a-ae21-a21476edc7cb",
   "metadata": {
    "tags": []
   },
   "outputs": [],
   "source": [
    "mnw = Nanoword.random_generator(7)\n",
    "print(f\"{mnw.word} on {mnw.alphabet}\"); mnw.diagram(size=300).show()"
   ]
  },
  {
   "cell_type": "markdown",
   "id": "ce1eecc6-572e-4a9b-a7bd-f84d9638e2b4",
   "metadata": {},
   "source": [
    "各交点の ind と self-linking を計算し比較する。"
   ]
  },
  {
   "cell_type": "code",
   "execution_count": null,
   "id": "975d564f-e47f-4696-84b0-75d2ea74d076",
   "metadata": {
    "tags": []
   },
   "outputs": [],
   "source": [
    "for ltr in mnw.alphabet:\n",
    "    print(f\"{ltr}   -->  ind: {mnw.ind(ltr):>2}  /  sl: {mnw.self_linking(ltr)}\")\n",
    "\n",
    "print(\"\\n-----\\n\")\n",
    "print(f\"writhe poly: {mnw.writhe_polynomial()}\")\n",
    "print(f\"ab polys:    {mnw.ab_polynomials()}\")"
   ]
  },
  {
   "cell_type": "markdown",
   "id": "15a3cbb7-b7e2-435b-aa89-c264d3128397",
   "metadata": {},
   "source": [
    "## 3.2. writhe polynomial が自明な nanoword\n",
    "writhe poly が自明でも、ab polys が自明でないことがある。"
   ]
  },
  {
   "cell_type": "code",
   "execution_count": null,
   "id": "24661e11-060e-4b8e-b3d1-16d1ed66ac10",
   "metadata": {},
   "outputs": [],
   "source": [
    "Count, data = 0, []\n",
    "while len(data) < 1 and Count < 1000:\n",
    "    mnw = Nanoword.random_generator(7)\n",
    "    wp, abps = mnw.writhe_polynomial(), mnw.ab_polynomials()\n",
    "    if wp == '(0)' and abps != ['','']: # and len(abps[0]) > 10:\n",
    "        data.append(mnw)\n",
    "    Count += 1\n",
    "for nw in data: \n",
    "    print(f\"{nw.word}  --> ab polys: {nw.ab_polynomials()}\")\n",
    "    nw.diagram(size=300).show()    "
   ]
  },
  {
   "cell_type": "markdown",
   "id": "611cd675-164e-4bba-a2f3-582c144dc1fb",
   "metadata": {},
   "source": [
    "## 3.3 ランダムに計算"
   ]
  },
  {
   "cell_type": "code",
   "execution_count": null,
   "id": "c0a6264c-8a87-4731-a42a-4c38a974673f",
   "metadata": {},
   "outputs": [],
   "source": [
    "Count = 0\n",
    "data = []\n",
    "while Count < 10:\n",
    "    nw = Nanoword.random_generator(random.randint(0,10))\n",
    "    if nw.word:\n",
    "        wp, abps = nw.writhe_polynomial(), nw.ab_polynomials()\n",
    "        print(f\"{nw.word}, {nw.alphabet}\\n\\t-->   wp: {wp}\\n\\t--> abps: {abps}\\n\")\n",
    "        Count += 1"
   ]
  },
  {
   "cell_type": "markdown",
   "id": "1fce29b7-acb8-4160-8c4d-bc234cf4b21e",
   "metadata": {},
   "source": [
    "# 4. 具体計算"
   ]
  },
  {
   "cell_type": "code",
   "execution_count": null,
   "id": "93243f3f-e7e3-449c-87f8-3e9521dc964d",
   "metadata": {
    "editable": true,
    "slideshow": {
     "slide_type": ""
    },
    "tags": []
   },
   "outputs": [],
   "source": [
    "def alph(arg: list[str]) -> list[Letter]:\n",
    "    chars = Letter.ALL_CHARS[:len(arg)]\n",
    "    return [Letter(c, arg[i]) for i, c in enumerate(chars)]\n",
    "    \n",
    "nwdata = [('ABCABC', ('a+', 'b-', 'b+')),\n",
    "          ('ABCABC', ('a+', 'a+', 'a+')),]\n",
    "\n",
    "for nwd in nwdata:\n",
    "    nw = Nanoword(nwd[0], alph(nwd[1]))\n",
    "    print(nw.word, nw.alphabet); nw.diagram(size=200).show()\n",
    "    print(f\"ab_poly: {nw.ab_polynomials()},   writhe_poly: {nw.writhe_polynomial()}\")\n",
    "    print(\"--------------------------\\n\")"
   ]
  }
 ],
 "metadata": {
  "kernelspec": {
   "display_name": "Python 3",
   "language": "python",
   "name": "python3"
  },
  "language_info": {
   "codemirror_mode": {
    "name": "ipython",
    "version": 3
   },
   "file_extension": ".py",
   "mimetype": "text/x-python",
   "name": "python",
   "nbconvert_exporter": "python",
   "pygments_lexer": "ipython3",
   "version": "3.6.8"
  }
 },
 "nbformat": 4,
 "nbformat_minor": 5
}
