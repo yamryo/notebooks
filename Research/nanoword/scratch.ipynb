{
 "cells": [
  {
   "cell_type": "markdown",
   "id": "ba76e3f3-0853-40ca-8cce-7974eefaaf43",
   "metadata": {
    "jp-MarkdownHeadingCollapsed": true,
    "tags": []
   },
   "source": [
    "# Modules"
   ]
  },
  {
   "cell_type": "code",
   "execution_count": 25,
   "id": "d10d7e0c-84ce-4c80-b147-bf928d46684d",
   "metadata": {},
   "outputs": [],
   "source": [
    "import sys; sys.path.append(\"../modules\")\n",
    "from nanoword import *\n",
    "\n",
    "import pprint"
   ]
  },
  {
   "cell_type": "markdown",
   "id": "c2c56734-a443-40cf-9fc2-6c34f9395aef",
   "metadata": {},
   "source": [
    "# writhe polynomial vs ab polynomials"
   ]
  },
  {
   "cell_type": "markdown",
   "id": "d922518a-69a7-4e1c-913e-353301db13ce",
   "metadata": {},
   "source": [
    "### nanoword の生成\n",
    "7交点(classical)の nanoword をランダムに作成。"
   ]
  },
  {
   "cell_type": "code",
   "execution_count": 97,
   "id": "5e336ce9-7d09-425a-ae21-a21476edc7cb",
   "metadata": {
    "tags": []
   },
   "outputs": [
    {
     "data": {
      "text/plain": [
       "'CACFEDGGEBDFBA'"
      ]
     },
     "metadata": {},
     "output_type": "display_data"
    },
    {
     "data": {
      "text/plain": [
       "[(A,b+), (B,b-), (C,b-), (D,a+), (E,a+), (F,b-), (G,a-)]"
      ]
     },
     "metadata": {},
     "output_type": "display_data"
    }
   ],
   "source": [
    "mnw = Nanoword.generate_random_nanoword(7)\n",
    "display(mnw.word, mnw.alphabet)"
   ]
  },
  {
   "cell_type": "markdown",
   "id": "611c65be-ffaa-42b9-821d-586a3afad717",
   "metadata": {},
   "source": [
    "### Ind vs self-linking\n",
    "各交点の ind と self-linking を計算し比較。"
   ]
  },
  {
   "cell_type": "code",
   "execution_count": 98,
   "id": "975d564f-e47f-4696-84b0-75d2ea74d076",
   "metadata": {
    "tags": []
   },
   "outputs": [
    {
     "name": "stdout",
     "output_type": "stream",
     "text": [
      "A, b+  -->  ind:  1  /  sl: {'R(a)': 0, 'R(b)': -1}\n",
      "B, b-  -->  ind:  0  /  sl: {'R(a)': 0, 'R(b)': 0}\n",
      "C, b-  -->  ind:  1  /  sl: {'R(a)': -1, 'R(b)': 0}\n",
      "D, a+  -->  ind:  2  /  sl: {'R(a)': -2, 'R(b)': 0}\n",
      "E, a+  -->  ind: -1  /  sl: {'R(a)': 1, 'R(b)': 0}\n",
      "F, b-  -->  ind:  1  /  sl: {'R(a)': -1, 'R(b)': 0}\n",
      "G, a-  -->  ind:  0  /  sl: {'R(a)': 0, 'R(b)': 0}\n",
      "\n",
      "-----\n",
      "\n",
      "writhe poly: (1)t^2+(-1)t^1+(-1)+(1)t^-1\n",
      "ab polys:    ['(1)a^-2+(-2)a^-1+(1)a^1', '(1)b^-1']\n"
     ]
    }
   ],
   "source": [
    "for ltr in mnw.alphabet:\n",
    "    print(f\"{ltr}  -->  ind: {mnw.ind(ltr):>2}  /  sl: {mnw.self_linking(ltr)}\")\n",
    "\n",
    "print(\"\\n-----\\n\")\n",
    "print(f\"writhe poly: {mnw.writhe_polynomial()}\")\n",
    "print(f\"ab polys:    {mnw.ab_polynomials()}\")"
   ]
  },
  {
   "cell_type": "markdown",
   "id": "15a3cbb7-b7e2-435b-aa89-c264d3128397",
   "metadata": {},
   "source": [
    "writhe poly が自明でも、ab polys が自明でないことがある。"
   ]
  },
  {
   "cell_type": "code",
   "execution_count": 112,
   "id": "24661e11-060e-4b8e-b3d1-16d1ed66ac10",
   "metadata": {},
   "outputs": [
    {
     "name": "stdout",
     "output_type": "stream",
     "text": [
      "CFFDBABDAEGCGE --> ab polys: ['(-1)a^-1+(-1)a^1+(1)a^2', '(1)b^-1+(1)b^1+(-1)b^2']\n"
     ]
    }
   ],
   "source": [
    "Count, data = 0, []\n",
    "while len(data) < 1 and Count < 1000:\n",
    "    mnw = Nanoword.generate_random_nanoword(7)\n",
    "    wp, abps = mnw.writhe_polynomial(), mnw.ab_polynomials()\n",
    "    if wp == '(0)' and abps != ['',''] and len(abps[0]) > 10:\n",
    "        data.append(mnw)\n",
    "    Count += 1\n",
    "for nw in data: print(f\"{nw.word} --> ab polys: {nw.ab_polynomials()}\")"
   ]
  },
  {
   "cell_type": "markdown",
   "id": "611cd675-164e-4bba-a2f3-582c144dc1fb",
   "metadata": {},
   "source": [
    "### ランダムに計算"
   ]
  },
  {
   "cell_type": "code",
   "execution_count": 33,
   "id": "c0a6264c-8a87-4731-a42a-4c38a974673f",
   "metadata": {},
   "outputs": [
    {
     "name": "stdout",
     "output_type": "stream",
     "text": [
      "EFBGDICAEDAFBGCHHI\n",
      " -->   wp: (4)t^1+(-7)+(2)t^-1+(1)t^-2\n",
      " --> abps: ['(3)a^-1+(1)a^1', '(1)b^-1+(1)b^1+(1)b^2']\n",
      "AGEICBFIHFEGHADDBC\n",
      " -->   wp: (1)t^1+(-2)+(1)t^-1\n",
      " --> abps: ['', '(1)b^-1+(1)b^1']\n",
      "GHCBIDFCEFHGBAIEDA\n",
      " -->   wp: (-1)+(1)t^-1+(1)t^-2+(-1)t^-3\n",
      " --> abps: ['(1)a^1+(1)a^2+(-1)a^3', '']\n",
      "IIGDHDAEBCBFCEGFAH\n",
      " -->   wp: (-1)t^1+(1)+(1)t^-1+(-1)t^-2\n",
      " --> abps: ['(1)a^-1+(-1)a^2', '(-2)b^-1+(1)b^1']\n",
      "GIHECABGIFADFHDECB\n",
      " -->   wp: (-1)+(1)t^-2+(1)t^-3+(-1)t^-4+(1)t^-5+(-1)t^-6\n",
      " --> abps: ['', '(1)b^2+(1)b^3+(-1)b^4+(1)b^5+(-1)b^6']\n",
      "BBFHAHCFCEAEIDGDIG\n",
      " -->   wp: (-2)t^1+(2)+(1)t^-1+(-1)t^-3\n",
      " --> abps: ['(-2)a^-1+(1)a^1', '(-1)b^3']\n",
      "DHAFFEBBCICIAGHDEG\n",
      " -->   wp: (1)t^3+(1)t^2+(-1)t^1+(-3)+(2)t^-2\n",
      " --> abps: ['(-1)a^-1', '(1)b^-3+(1)b^-2+(2)b^2']\n",
      "HBCFAAFDGCGEDBIIHE\n",
      " -->   wp: (1)t^1+(-1)+(-1)t^-1+(1)t^-2\n",
      " --> abps: ['(-1)a^1', '(1)b^-1+(1)b^2']\n",
      "EIEGAADHDCIGFCBFHB\n",
      " -->   wp: (-1)t^2+(2)t^1+(-2)+(2)t^-1+(-1)t^-2\n",
      " --> abps: ['(-1)a^-2+(1)a^1', '(2)b^-1+(1)b^1+(-1)b^2']\n",
      "EFIDDBGBGCAHCFIAHE\n",
      " -->   wp: (0)\n",
      " --> abps: ['', '']\n"
     ]
    }
   ],
   "source": [
    "Count = 0\n",
    "data = []\n",
    "while Count < 10:\n",
    "    nw = Nanoword.generate_random_nanoword(9)\n",
    "    wp, abps = nw.writhe_polynomial(), nw.ab_polynomials()\n",
    "    print(f\"{nw.word}\\n -->   wp: {wp}\\n --> abps: {abps}\")\n",
    "    Count += 1"
   ]
  },
  {
   "cell_type": "markdown",
   "id": "aacfaa88-54bc-4358-b940-896a494f24c7",
   "metadata": {},
   "source": [
    "# Scratch"
   ]
  },
  {
   "cell_type": "code",
   "execution_count": 4,
   "id": "70500bbb-68fd-4918-88f5-aa8b01aaaa95",
   "metadata": {},
   "outputs": [
    {
     "name": "stdout",
     "output_type": "stream",
     "text": [
      "{'a': {'b-', 'a+'}, 'b': {'b+', 'a-'}}\n"
     ]
    }
   ],
   "source": [
    "LABELS_ab = ['a', 'b']  # the second strand in a crossing is going (a) up and (b) down.\n",
    "LABELS_pm = ['+', '-']  # the sign of a crossing\n",
    "LABELS = list(zip(LABELS_ab, LABELS_pm))  # = ['a+', 'a-', 'b+', 'b-']\n",
    "R = {x: set([Sign(x+'+'), Sign(x+'+').tau()]) for x in LABELS_ab}  # = {'a': set(['a+', 'b-']), 'b': set(['b+', 'a-'])}\n",
    "print(R)   "
   ]
  },
  {
   "cell_type": "code",
   "execution_count": null,
   "id": "de775968-ae7a-4d93-91e3-3d7ebdef27f5",
   "metadata": {
    "tags": []
   },
   "outputs": [],
   "source": [
    "mnw = Nanoword.generate_random_nanoword(5)\n",
    "mnw_rmi = R.I(mnw, reverse=True)\n",
    "mnw_rmii = R.II(mnw, reverse=True)\n",
    "mnw_rmiii = R.III(mnw)\n",
    "print(mnw, [f\"{l}\" for l in mnw.alphabet])\n",
    "#print(mnw, mnw_rmi_inv, mnw_rmii_inv)\n",
    "#\n",
    "for ltr in mnw_rmii.alphabet:\n",
    "    for nw in [mnw, mnw_rmi, mnw_rmii, mnw_rmiii]:\n",
    "        if nw is not None:\n",
    "            print(f\"{ltr} --self_linking--> {nw.self_linking(ltr)}\")\n",
    "    print(\"-----\")"
   ]
  },
  {
   "cell_type": "markdown",
   "id": "8c584168-7826-46ae-9831-5396fef06d8c",
   "metadata": {},
   "source": [
    "## n-writhe"
   ]
  },
  {
   "cell_type": "code",
   "execution_count": null,
   "id": "12756c8e-9805-4e0e-b892-dd037c9c0938",
   "metadata": {},
   "outputs": [],
   "source": [
    "mnw = Nanoword(\"ABCDACEEBD\", [Letter('A','a+'),Letter('B','b-'),Letter('C','b-'),Letter('D','b-'),Letter('E','b+')]) #Nanoword.generate_random_nanoword(4)\n",
    "print(mnw)\n",
    "\n",
    "print([f\"{l}, {s}\" for l,s in mnw.signs_on_word()])\n",
    "\n",
    "alph_w_ind=[{'letter': ltr, 'ind': mnw.ind(ltr)} for ltr in mnw.alphabet]; print(alph_w_ind)\n",
    "\n",
    "J = [{'n': ind, 'c': 0} for ind in set([x['ind'] for x in alph_w_ind])]\n",
    "for elm in J:\n",
    "    for d in alph_w_ind:\n",
    "        if d['ind'] == elm['n']:\n",
    "            elm['c'] += d['letter'].sign.pm\n",
    "if len([d for d in J if d['n'] == 0]) == 0:\n",
    "    J.append({'n': 0, 'c': 0})\n",
    "print(J)\n",
    "\n",
    "wp = \"\"\n",
    "for d in sorted(J, key=lambda x: x['n'], reverse=True):\n",
    "    if not d['n'] == 0:\n",
    "        wp += f\"+({d['c']})t^{d['n']}\"\n",
    "    else:\n",
    "        s = sum([d['c'] for d in J if not d['n'] == 0])\n",
    "        wp += f\"+({-s})\"\n",
    "        \n",
    "print(wp[1:])\n",
    "print()"
   ]
  },
  {
   "cell_type": "code",
   "execution_count": null,
   "id": "cf09b9e6-c17f-4bbb-9202-e9eba220c8ec",
   "metadata": {},
   "outputs": [],
   "source": [
    "mnw.ab_polynomials()"
   ]
  },
  {
   "cell_type": "markdown",
   "id": "19f4c413-3cf0-4f6c-a044-e7d9337ccd75",
   "metadata": {},
   "source": [
    "# Drawing Gauss diagrams"
   ]
  },
  {
   "cell_type": "code",
   "execution_count": 226,
   "id": "a3b100aa-15e0-406d-be65-737da1543e7f",
   "metadata": {},
   "outputs": [
    {
     "name": "stdout",
     "output_type": "stream",
     "text": [
      "DBAFCEEGDABFCG\n"
     ]
    },
    {
     "data": {
      "application/vnd.plotly.v1+json": {
       "config": {
        "plotlyServerURL": "https://plot.ly"
       },
       "data": [
        {
         "marker": {
          "color": "RoyalBlue",
          "size": 8
         },
         "mode": "markers",
         "showlegend": false,
         "type": "scatter",
         "x": [
          2.2,
          2.100968867902419,
          1.8234898018587335,
          1.4225209339563145,
          0.9774790660436856,
          0.5765101981412666,
          0.2990311320975809,
          0.19999999999999996,
          0.2990311320975808,
          0.5765101981412663,
          0.9774790660436854,
          1.4225209339563132,
          1.8234898018587333,
          2.100968867902419
         ],
         "y": [
          1.2,
          1.633883739117558,
          1.9818314824680296,
          2.1749279121818237,
          2.1749279121818237,
          1.9818314824680299,
          1.6338837391175582,
          1.2000000000000002,
          0.7661162608824419,
          0.41816851753197026,
          0.22507208781817645,
          0.22507208781817611,
          0.41816851753197004,
          0.7661162608824424
         ]
        },
        {
         "mode": "text",
         "showlegend": false,
         "text": [
          "D, a+",
          "B, b+",
          "A, b-",
          "F, a+",
          "C, a-",
          "E, b+",
          "E, b+",
          "G, b-",
          "D, a+",
          "A, b-",
          "B, b+",
          "F, a+",
          "C, a-",
          "G, b-"
         ],
         "type": "scatter",
         "x": [
          2.35,
          2.236114198087782,
          1.9170132721375437,
          1.4558990740497617,
          0.9441009259502384,
          0.48298672786245656,
          0.16388580191221808,
          0.04999999999999996,
          0.16388580191221794,
          0.4829867278624562,
          0.9441009259502382,
          1.4558990740497602,
          1.9170132721375432,
          2.236114198087782
         ],
         "y": [
          1.2,
          1.6989662999851918,
          2.0991062048382343,
          2.3211670990090973,
          2.3211670990090973,
          2.0991062048382343,
          1.698966299985192,
          1.2000000000000002,
          0.7010337000148081,
          0.30089379516176584,
          0.07883290099090293,
          0.07883290099090254,
          0.30089379516176556,
          0.7010337000148088
         ]
        }
       ],
       "layout": {
        "height": 600,
        "margin": {
         "b": 0,
         "l": 0,
         "r": 0,
         "t": 0
        },
        "plot_bgcolor": "white",
        "shapes": [
         {
          "line": {
           "color": "orange"
          },
          "path": "M 1.8234898018587335,1.9818314824680296 Q 1.2,1.2 0.5765101981412663,0.41816851753197026",
          "type": "path"
         },
         {
          "line": {
           "color": "orange"
          },
          "path": "M 2.100968867902419,1.633883739117558 Q 1.2,1.2 0.9774790660436854,0.22507208781817645",
          "type": "path"
         },
         {
          "line": {
           "color": "orange"
          },
          "path": "M 0.9774790660436856,2.1749279121818237 Q 1.2,1.2 1.8234898018587333,0.41816851753197004",
          "type": "path"
         },
         {
          "line": {
           "color": "orange"
          },
          "path": "M 2.2,1.2 Q 1.2,1.2 0.2990311320975808,0.7661162608824419",
          "type": "path"
         },
         {
          "line": {
           "color": "orange"
          },
          "path": "M 0.5765101981412666,1.9818314824680299 Q 1.2,1.2 0.2990311320975809,1.6338837391175582",
          "type": "path"
         },
         {
          "line": {
           "color": "orange"
          },
          "path": "M 1.4225209339563145,2.1749279121818237 Q 1.2,1.2 1.4225209339563132,0.22507208781817611",
          "type": "path"
         },
         {
          "line": {
           "color": "orange"
          },
          "path": "M 0.19999999999999996,1.2000000000000002 Q 1.2,1.2 2.100968867902419,0.7661162608824424",
          "type": "path"
         },
         {
          "line": {
           "color": "LightSeaGreen"
          },
          "type": "circle",
          "x0": 0.2,
          "x1": 2.2,
          "xref": "x",
          "y0": 0.2,
          "y1": 2.2,
          "yref": "y"
         }
        ],
        "template": {
         "data": {
          "bar": [
           {
            "error_x": {
             "color": "#2a3f5f"
            },
            "error_y": {
             "color": "#2a3f5f"
            },
            "marker": {
             "line": {
              "color": "#E5ECF6",
              "width": 0.5
             },
             "pattern": {
              "fillmode": "overlay",
              "size": 10,
              "solidity": 0.2
             }
            },
            "type": "bar"
           }
          ],
          "barpolar": [
           {
            "marker": {
             "line": {
              "color": "#E5ECF6",
              "width": 0.5
             },
             "pattern": {
              "fillmode": "overlay",
              "size": 10,
              "solidity": 0.2
             }
            },
            "type": "barpolar"
           }
          ],
          "carpet": [
           {
            "aaxis": {
             "endlinecolor": "#2a3f5f",
             "gridcolor": "white",
             "linecolor": "white",
             "minorgridcolor": "white",
             "startlinecolor": "#2a3f5f"
            },
            "baxis": {
             "endlinecolor": "#2a3f5f",
             "gridcolor": "white",
             "linecolor": "white",
             "minorgridcolor": "white",
             "startlinecolor": "#2a3f5f"
            },
            "type": "carpet"
           }
          ],
          "choropleth": [
           {
            "colorbar": {
             "outlinewidth": 0,
             "ticks": ""
            },
            "type": "choropleth"
           }
          ],
          "contour": [
           {
            "colorbar": {
             "outlinewidth": 0,
             "ticks": ""
            },
            "colorscale": [
             [
              0,
              "#0d0887"
             ],
             [
              0.1111111111111111,
              "#46039f"
             ],
             [
              0.2222222222222222,
              "#7201a8"
             ],
             [
              0.3333333333333333,
              "#9c179e"
             ],
             [
              0.4444444444444444,
              "#bd3786"
             ],
             [
              0.5555555555555556,
              "#d8576b"
             ],
             [
              0.6666666666666666,
              "#ed7953"
             ],
             [
              0.7777777777777778,
              "#fb9f3a"
             ],
             [
              0.8888888888888888,
              "#fdca26"
             ],
             [
              1,
              "#f0f921"
             ]
            ],
            "type": "contour"
           }
          ],
          "contourcarpet": [
           {
            "colorbar": {
             "outlinewidth": 0,
             "ticks": ""
            },
            "type": "contourcarpet"
           }
          ],
          "heatmap": [
           {
            "colorbar": {
             "outlinewidth": 0,
             "ticks": ""
            },
            "colorscale": [
             [
              0,
              "#0d0887"
             ],
             [
              0.1111111111111111,
              "#46039f"
             ],
             [
              0.2222222222222222,
              "#7201a8"
             ],
             [
              0.3333333333333333,
              "#9c179e"
             ],
             [
              0.4444444444444444,
              "#bd3786"
             ],
             [
              0.5555555555555556,
              "#d8576b"
             ],
             [
              0.6666666666666666,
              "#ed7953"
             ],
             [
              0.7777777777777778,
              "#fb9f3a"
             ],
             [
              0.8888888888888888,
              "#fdca26"
             ],
             [
              1,
              "#f0f921"
             ]
            ],
            "type": "heatmap"
           }
          ],
          "heatmapgl": [
           {
            "colorbar": {
             "outlinewidth": 0,
             "ticks": ""
            },
            "colorscale": [
             [
              0,
              "#0d0887"
             ],
             [
              0.1111111111111111,
              "#46039f"
             ],
             [
              0.2222222222222222,
              "#7201a8"
             ],
             [
              0.3333333333333333,
              "#9c179e"
             ],
             [
              0.4444444444444444,
              "#bd3786"
             ],
             [
              0.5555555555555556,
              "#d8576b"
             ],
             [
              0.6666666666666666,
              "#ed7953"
             ],
             [
              0.7777777777777778,
              "#fb9f3a"
             ],
             [
              0.8888888888888888,
              "#fdca26"
             ],
             [
              1,
              "#f0f921"
             ]
            ],
            "type": "heatmapgl"
           }
          ],
          "histogram": [
           {
            "marker": {
             "pattern": {
              "fillmode": "overlay",
              "size": 10,
              "solidity": 0.2
             }
            },
            "type": "histogram"
           }
          ],
          "histogram2d": [
           {
            "colorbar": {
             "outlinewidth": 0,
             "ticks": ""
            },
            "colorscale": [
             [
              0,
              "#0d0887"
             ],
             [
              0.1111111111111111,
              "#46039f"
             ],
             [
              0.2222222222222222,
              "#7201a8"
             ],
             [
              0.3333333333333333,
              "#9c179e"
             ],
             [
              0.4444444444444444,
              "#bd3786"
             ],
             [
              0.5555555555555556,
              "#d8576b"
             ],
             [
              0.6666666666666666,
              "#ed7953"
             ],
             [
              0.7777777777777778,
              "#fb9f3a"
             ],
             [
              0.8888888888888888,
              "#fdca26"
             ],
             [
              1,
              "#f0f921"
             ]
            ],
            "type": "histogram2d"
           }
          ],
          "histogram2dcontour": [
           {
            "colorbar": {
             "outlinewidth": 0,
             "ticks": ""
            },
            "colorscale": [
             [
              0,
              "#0d0887"
             ],
             [
              0.1111111111111111,
              "#46039f"
             ],
             [
              0.2222222222222222,
              "#7201a8"
             ],
             [
              0.3333333333333333,
              "#9c179e"
             ],
             [
              0.4444444444444444,
              "#bd3786"
             ],
             [
              0.5555555555555556,
              "#d8576b"
             ],
             [
              0.6666666666666666,
              "#ed7953"
             ],
             [
              0.7777777777777778,
              "#fb9f3a"
             ],
             [
              0.8888888888888888,
              "#fdca26"
             ],
             [
              1,
              "#f0f921"
             ]
            ],
            "type": "histogram2dcontour"
           }
          ],
          "mesh3d": [
           {
            "colorbar": {
             "outlinewidth": 0,
             "ticks": ""
            },
            "type": "mesh3d"
           }
          ],
          "parcoords": [
           {
            "line": {
             "colorbar": {
              "outlinewidth": 0,
              "ticks": ""
             }
            },
            "type": "parcoords"
           }
          ],
          "pie": [
           {
            "automargin": true,
            "type": "pie"
           }
          ],
          "scatter": [
           {
            "fillpattern": {
             "fillmode": "overlay",
             "size": 10,
             "solidity": 0.2
            },
            "type": "scatter"
           }
          ],
          "scatter3d": [
           {
            "line": {
             "colorbar": {
              "outlinewidth": 0,
              "ticks": ""
             }
            },
            "marker": {
             "colorbar": {
              "outlinewidth": 0,
              "ticks": ""
             }
            },
            "type": "scatter3d"
           }
          ],
          "scattercarpet": [
           {
            "marker": {
             "colorbar": {
              "outlinewidth": 0,
              "ticks": ""
             }
            },
            "type": "scattercarpet"
           }
          ],
          "scattergeo": [
           {
            "marker": {
             "colorbar": {
              "outlinewidth": 0,
              "ticks": ""
             }
            },
            "type": "scattergeo"
           }
          ],
          "scattergl": [
           {
            "marker": {
             "colorbar": {
              "outlinewidth": 0,
              "ticks": ""
             }
            },
            "type": "scattergl"
           }
          ],
          "scattermapbox": [
           {
            "marker": {
             "colorbar": {
              "outlinewidth": 0,
              "ticks": ""
             }
            },
            "type": "scattermapbox"
           }
          ],
          "scatterpolar": [
           {
            "marker": {
             "colorbar": {
              "outlinewidth": 0,
              "ticks": ""
             }
            },
            "type": "scatterpolar"
           }
          ],
          "scatterpolargl": [
           {
            "marker": {
             "colorbar": {
              "outlinewidth": 0,
              "ticks": ""
             }
            },
            "type": "scatterpolargl"
           }
          ],
          "scatterternary": [
           {
            "marker": {
             "colorbar": {
              "outlinewidth": 0,
              "ticks": ""
             }
            },
            "type": "scatterternary"
           }
          ],
          "surface": [
           {
            "colorbar": {
             "outlinewidth": 0,
             "ticks": ""
            },
            "colorscale": [
             [
              0,
              "#0d0887"
             ],
             [
              0.1111111111111111,
              "#46039f"
             ],
             [
              0.2222222222222222,
              "#7201a8"
             ],
             [
              0.3333333333333333,
              "#9c179e"
             ],
             [
              0.4444444444444444,
              "#bd3786"
             ],
             [
              0.5555555555555556,
              "#d8576b"
             ],
             [
              0.6666666666666666,
              "#ed7953"
             ],
             [
              0.7777777777777778,
              "#fb9f3a"
             ],
             [
              0.8888888888888888,
              "#fdca26"
             ],
             [
              1,
              "#f0f921"
             ]
            ],
            "type": "surface"
           }
          ],
          "table": [
           {
            "cells": {
             "fill": {
              "color": "#EBF0F8"
             },
             "line": {
              "color": "white"
             }
            },
            "header": {
             "fill": {
              "color": "#C8D4E3"
             },
             "line": {
              "color": "white"
             }
            },
            "type": "table"
           }
          ]
         },
         "layout": {
          "annotationdefaults": {
           "arrowcolor": "#2a3f5f",
           "arrowhead": 0,
           "arrowwidth": 1
          },
          "autotypenumbers": "strict",
          "coloraxis": {
           "colorbar": {
            "outlinewidth": 0,
            "ticks": ""
           }
          },
          "colorscale": {
           "diverging": [
            [
             0,
             "#8e0152"
            ],
            [
             0.1,
             "#c51b7d"
            ],
            [
             0.2,
             "#de77ae"
            ],
            [
             0.3,
             "#f1b6da"
            ],
            [
             0.4,
             "#fde0ef"
            ],
            [
             0.5,
             "#f7f7f7"
            ],
            [
             0.6,
             "#e6f5d0"
            ],
            [
             0.7,
             "#b8e186"
            ],
            [
             0.8,
             "#7fbc41"
            ],
            [
             0.9,
             "#4d9221"
            ],
            [
             1,
             "#276419"
            ]
           ],
           "sequential": [
            [
             0,
             "#0d0887"
            ],
            [
             0.1111111111111111,
             "#46039f"
            ],
            [
             0.2222222222222222,
             "#7201a8"
            ],
            [
             0.3333333333333333,
             "#9c179e"
            ],
            [
             0.4444444444444444,
             "#bd3786"
            ],
            [
             0.5555555555555556,
             "#d8576b"
            ],
            [
             0.6666666666666666,
             "#ed7953"
            ],
            [
             0.7777777777777778,
             "#fb9f3a"
            ],
            [
             0.8888888888888888,
             "#fdca26"
            ],
            [
             1,
             "#f0f921"
            ]
           ],
           "sequentialminus": [
            [
             0,
             "#0d0887"
            ],
            [
             0.1111111111111111,
             "#46039f"
            ],
            [
             0.2222222222222222,
             "#7201a8"
            ],
            [
             0.3333333333333333,
             "#9c179e"
            ],
            [
             0.4444444444444444,
             "#bd3786"
            ],
            [
             0.5555555555555556,
             "#d8576b"
            ],
            [
             0.6666666666666666,
             "#ed7953"
            ],
            [
             0.7777777777777778,
             "#fb9f3a"
            ],
            [
             0.8888888888888888,
             "#fdca26"
            ],
            [
             1,
             "#f0f921"
            ]
           ]
          },
          "colorway": [
           "#636efa",
           "#EF553B",
           "#00cc96",
           "#ab63fa",
           "#FFA15A",
           "#19d3f3",
           "#FF6692",
           "#B6E880",
           "#FF97FF",
           "#FECB52"
          ],
          "font": {
           "color": "#2a3f5f"
          },
          "geo": {
           "bgcolor": "white",
           "lakecolor": "white",
           "landcolor": "#E5ECF6",
           "showlakes": true,
           "showland": true,
           "subunitcolor": "white"
          },
          "hoverlabel": {
           "align": "left"
          },
          "hovermode": "closest",
          "mapbox": {
           "style": "light"
          },
          "paper_bgcolor": "white",
          "plot_bgcolor": "#E5ECF6",
          "polar": {
           "angularaxis": {
            "gridcolor": "white",
            "linecolor": "white",
            "ticks": ""
           },
           "bgcolor": "#E5ECF6",
           "radialaxis": {
            "gridcolor": "white",
            "linecolor": "white",
            "ticks": ""
           }
          },
          "scene": {
           "xaxis": {
            "backgroundcolor": "#E5ECF6",
            "gridcolor": "white",
            "gridwidth": 2,
            "linecolor": "white",
            "showbackground": true,
            "ticks": "",
            "zerolinecolor": "white"
           },
           "yaxis": {
            "backgroundcolor": "#E5ECF6",
            "gridcolor": "white",
            "gridwidth": 2,
            "linecolor": "white",
            "showbackground": true,
            "ticks": "",
            "zerolinecolor": "white"
           },
           "zaxis": {
            "backgroundcolor": "#E5ECF6",
            "gridcolor": "white",
            "gridwidth": 2,
            "linecolor": "white",
            "showbackground": true,
            "ticks": "",
            "zerolinecolor": "white"
           }
          },
          "shapedefaults": {
           "line": {
            "color": "#2a3f5f"
           }
          },
          "ternary": {
           "aaxis": {
            "gridcolor": "white",
            "linecolor": "white",
            "ticks": ""
           },
           "baxis": {
            "gridcolor": "white",
            "linecolor": "white",
            "ticks": ""
           },
           "bgcolor": "#E5ECF6",
           "caxis": {
            "gridcolor": "white",
            "linecolor": "white",
            "ticks": ""
           }
          },
          "title": {
           "x": 0.05
          },
          "xaxis": {
           "automargin": true,
           "gridcolor": "white",
           "linecolor": "white",
           "ticks": "",
           "title": {
            "standoff": 15
           },
           "zerolinecolor": "white",
           "zerolinewidth": 2
          },
          "yaxis": {
           "automargin": true,
           "gridcolor": "white",
           "linecolor": "white",
           "ticks": "",
           "title": {
            "standoff": 15
           },
           "zerolinecolor": "white",
           "zerolinewidth": 2
          }
         }
        },
        "width": 600,
        "xaxis": {
         "range": [
          -0.2,
          2.6
         ],
         "showgrid": false,
         "showticklabels": false,
         "type": "linear",
         "zeroline": false
        },
        "yaxis": {
         "range": [
          -0.2,
          2.6
         ],
         "showgrid": false,
         "showticklabels": false,
         "type": "linear"
        }
       }
      },
      "image/png": "[encoded data removed]",
      "text/html": [
       "<div>                            <div id=\"4668731b-5fdc-4a8f-9829-285348a20966\" class=\"plotly-graph-div\" style=\"height:600px; width:600px;\"></div>            <script type=\"text/javascript\">                require([\"plotly\"], function(Plotly) {                    window.PLOTLYENV=window.PLOTLYENV || {};                                    if (document.getElementById(\"4668731b-5fdc-4a8f-9829-285348a20966\")) {                    Plotly.newPlot(                        \"4668731b-5fdc-4a8f-9829-285348a20966\",                        [{\"marker\":{\"color\":\"RoyalBlue\",\"size\":8.0},\"mode\":\"markers\",\"showlegend\":false,\"x\":[2.2,2.100968867902419,1.8234898018587335,1.4225209339563145,0.9774790660436856,0.5765101981412666,0.2990311320975809,0.19999999999999996,0.2990311320975808,0.5765101981412663,0.9774790660436854,1.4225209339563132,1.8234898018587333,2.100968867902419],\"y\":[1.2,1.633883739117558,1.9818314824680296,2.1749279121818237,2.1749279121818237,1.9818314824680299,1.6338837391175582,1.2000000000000002,0.7661162608824419,0.41816851753197026,0.22507208781817645,0.22507208781817611,0.41816851753197004,0.7661162608824424],\"type\":\"scatter\"},{\"mode\":\"text\",\"showlegend\":false,\"text\":[\"D, a+\",\"B, b+\",\"A, b-\",\"F, a+\",\"C, a-\",\"E, b+\",\"E, b+\",\"G, b-\",\"D, a+\",\"A, b-\",\"B, b+\",\"F, a+\",\"C, a-\",\"G, b-\"],\"x\":[2.35,2.236114198087782,1.9170132721375437,1.4558990740497617,0.9441009259502384,0.48298672786245656,0.16388580191221808,0.04999999999999996,0.16388580191221794,0.4829867278624562,0.9441009259502382,1.4558990740497602,1.9170132721375432,2.236114198087782],\"y\":[1.2,1.6989662999851918,2.0991062048382343,2.3211670990090973,2.3211670990090973,2.0991062048382343,1.698966299985192,1.2000000000000002,0.7010337000148081,0.30089379516176584,0.07883290099090293,0.07883290099090254,0.30089379516176556,0.7010337000148088],\"type\":\"scatter\"}],                        {\"template\":{\"data\":{\"histogram2dcontour\":[{\"type\":\"histogram2dcontour\",\"colorbar\":{\"outlinewidth\":0,\"ticks\":\"\"},\"colorscale\":[[0.0,\"#0d0887\"],[0.1111111111111111,\"#46039f\"],[0.2222222222222222,\"#7201a8\"],[0.3333333333333333,\"#9c179e\"],[0.4444444444444444,\"#bd3786\"],[0.5555555555555556,\"#d8576b\"],[0.6666666666666666,\"#ed7953\"],[0.7777777777777778,\"#fb9f3a\"],[0.8888888888888888,\"#fdca26\"],[1.0,\"#f0f921\"]]}],\"choropleth\":[{\"type\":\"choropleth\",\"colorbar\":{\"outlinewidth\":0,\"ticks\":\"\"}}],\"histogram2d\":[{\"type\":\"histogram2d\",\"colorbar\":{\"outlinewidth\":0,\"ticks\":\"\"},\"colorscale\":[[0.0,\"#0d0887\"],[0.1111111111111111,\"#46039f\"],[0.2222222222222222,\"#7201a8\"],[0.3333333333333333,\"#9c179e\"],[0.4444444444444444,\"#bd3786\"],[0.5555555555555556,\"#d8576b\"],[0.6666666666666666,\"#ed7953\"],[0.7777777777777778,\"#fb9f3a\"],[0.8888888888888888,\"#fdca26\"],[1.0,\"#f0f921\"]]}],\"heatmap\":[{\"type\":\"heatmap\",\"colorbar\":{\"outlinewidth\":0,\"ticks\":\"\"},\"colorscale\":[[0.0,\"#0d0887\"],[0.1111111111111111,\"#46039f\"],[0.2222222222222222,\"#7201a8\"],[0.3333333333333333,\"#9c179e\"],[0.4444444444444444,\"#bd3786\"],[0.5555555555555556,\"#d8576b\"],[0.6666666666666666,\"#ed7953\"],[0.7777777777777778,\"#fb9f3a\"],[0.8888888888888888,\"#fdca26\"],[1.0,\"#f0f921\"]]}],\"heatmapgl\":[{\"type\":\"heatmapgl\",\"colorbar\":{\"outlinewidth\":0,\"ticks\":\"\"},\"colorscale\":[[0.0,\"#0d0887\"],[0.1111111111111111,\"#46039f\"],[0.2222222222222222,\"#7201a8\"],[0.3333333333333333,\"#9c179e\"],[0.4444444444444444,\"#bd3786\"],[0.5555555555555556,\"#d8576b\"],[0.6666666666666666,\"#ed7953\"],[0.7777777777777778,\"#fb9f3a\"],[0.8888888888888888,\"#fdca26\"],[1.0,\"#f0f921\"]]}],\"contourcarpet\":[{\"type\":\"contourcarpet\",\"colorbar\":{\"outlinewidth\":0,\"ticks\":\"\"}}],\"contour\":[{\"type\":\"contour\",\"colorbar\":{\"outlinewidth\":0,\"ticks\":\"\"},\"colorscale\":[[0.0,\"#0d0887\"],[0.1111111111111111,\"#46039f\"],[0.2222222222222222,\"#7201a8\"],[0.3333333333333333,\"#9c179e\"],[0.4444444444444444,\"#bd3786\"],[0.5555555555555556,\"#d8576b\"],[0.6666666666666666,\"#ed7953\"],[0.7777777777777778,\"#fb9f3a\"],[0.8888888888888888,\"#fdca26\"],[1.0,\"#f0f921\"]]}],\"surface\":[{\"type\":\"surface\",\"colorbar\":{\"outlinewidth\":0,\"ticks\":\"\"},\"colorscale\":[[0.0,\"#0d0887\"],[0.1111111111111111,\"#46039f\"],[0.2222222222222222,\"#7201a8\"],[0.3333333333333333,\"#9c179e\"],[0.4444444444444444,\"#bd3786\"],[0.5555555555555556,\"#d8576b\"],[0.6666666666666666,\"#ed7953\"],[0.7777777777777778,\"#fb9f3a\"],[0.8888888888888888,\"#fdca26\"],[1.0,\"#f0f921\"]]}],\"mesh3d\":[{\"type\":\"mesh3d\",\"colorbar\":{\"outlinewidth\":0,\"ticks\":\"\"}}],\"scatter\":[{\"fillpattern\":{\"fillmode\":\"overlay\",\"size\":10,\"solidity\":0.2},\"type\":\"scatter\"}],\"parcoords\":[{\"type\":\"parcoords\",\"line\":{\"colorbar\":{\"outlinewidth\":0,\"ticks\":\"\"}}}],\"scatterpolargl\":[{\"type\":\"scatterpolargl\",\"marker\":{\"colorbar\":{\"outlinewidth\":0,\"ticks\":\"\"}}}],\"bar\":[{\"error_x\":{\"color\":\"#2a3f5f\"},\"error_y\":{\"color\":\"#2a3f5f\"},\"marker\":{\"line\":{\"color\":\"#E5ECF6\",\"width\":0.5},\"pattern\":{\"fillmode\":\"overlay\",\"size\":10,\"solidity\":0.2}},\"type\":\"bar\"}],\"scattergeo\":[{\"type\":\"scattergeo\",\"marker\":{\"colorbar\":{\"outlinewidth\":0,\"ticks\":\"\"}}}],\"scatterpolar\":[{\"type\":\"scatterpolar\",\"marker\":{\"colorbar\":{\"outlinewidth\":0,\"ticks\":\"\"}}}],\"histogram\":[{\"marker\":{\"pattern\":{\"fillmode\":\"overlay\",\"size\":10,\"solidity\":0.2}},\"type\":\"histogram\"}],\"scattergl\":[{\"type\":\"scattergl\",\"marker\":{\"colorbar\":{\"outlinewidth\":0,\"ticks\":\"\"}}}],\"scatter3d\":[{\"type\":\"scatter3d\",\"line\":{\"colorbar\":{\"outlinewidth\":0,\"ticks\":\"\"}},\"marker\":{\"colorbar\":{\"outlinewidth\":0,\"ticks\":\"\"}}}],\"scattermapbox\":[{\"type\":\"scattermapbox\",\"marker\":{\"colorbar\":{\"outlinewidth\":0,\"ticks\":\"\"}}}],\"scatterternary\":[{\"type\":\"scatterternary\",\"marker\":{\"colorbar\":{\"outlinewidth\":0,\"ticks\":\"\"}}}],\"scattercarpet\":[{\"type\":\"scattercarpet\",\"marker\":{\"colorbar\":{\"outlinewidth\":0,\"ticks\":\"\"}}}],\"carpet\":[{\"aaxis\":{\"endlinecolor\":\"#2a3f5f\",\"gridcolor\":\"white\",\"linecolor\":\"white\",\"minorgridcolor\":\"white\",\"startlinecolor\":\"#2a3f5f\"},\"baxis\":{\"endlinecolor\":\"#2a3f5f\",\"gridcolor\":\"white\",\"linecolor\":\"white\",\"minorgridcolor\":\"white\",\"startlinecolor\":\"#2a3f5f\"},\"type\":\"carpet\"}],\"table\":[{\"cells\":{\"fill\":{\"color\":\"#EBF0F8\"},\"line\":{\"color\":\"white\"}},\"header\":{\"fill\":{\"color\":\"#C8D4E3\"},\"line\":{\"color\":\"white\"}},\"type\":\"table\"}],\"barpolar\":[{\"marker\":{\"line\":{\"color\":\"#E5ECF6\",\"width\":0.5},\"pattern\":{\"fillmode\":\"overlay\",\"size\":10,\"solidity\":0.2}},\"type\":\"barpolar\"}],\"pie\":[{\"automargin\":true,\"type\":\"pie\"}]},\"layout\":{\"autotypenumbers\":\"strict\",\"colorway\":[\"#636efa\",\"#EF553B\",\"#00cc96\",\"#ab63fa\",\"#FFA15A\",\"#19d3f3\",\"#FF6692\",\"#B6E880\",\"#FF97FF\",\"#FECB52\"],\"font\":{\"color\":\"#2a3f5f\"},\"hovermode\":\"closest\",\"hoverlabel\":{\"align\":\"left\"},\"paper_bgcolor\":\"white\",\"plot_bgcolor\":\"#E5ECF6\",\"polar\":{\"bgcolor\":\"#E5ECF6\",\"angularaxis\":{\"gridcolor\":\"white\",\"linecolor\":\"white\",\"ticks\":\"\"},\"radialaxis\":{\"gridcolor\":\"white\",\"linecolor\":\"white\",\"ticks\":\"\"}},\"ternary\":{\"bgcolor\":\"#E5ECF6\",\"aaxis\":{\"gridcolor\":\"white\",\"linecolor\":\"white\",\"ticks\":\"\"},\"baxis\":{\"gridcolor\":\"white\",\"linecolor\":\"white\",\"ticks\":\"\"},\"caxis\":{\"gridcolor\":\"white\",\"linecolor\":\"white\",\"ticks\":\"\"}},\"coloraxis\":{\"colorbar\":{\"outlinewidth\":0,\"ticks\":\"\"}},\"colorscale\":{\"sequential\":[[0.0,\"#0d0887\"],[0.1111111111111111,\"#46039f\"],[0.2222222222222222,\"#7201a8\"],[0.3333333333333333,\"#9c179e\"],[0.4444444444444444,\"#bd3786\"],[0.5555555555555556,\"#d8576b\"],[0.6666666666666666,\"#ed7953\"],[0.7777777777777778,\"#fb9f3a\"],[0.8888888888888888,\"#fdca26\"],[1.0,\"#f0f921\"]],\"sequentialminus\":[[0.0,\"#0d0887\"],[0.1111111111111111,\"#46039f\"],[0.2222222222222222,\"#7201a8\"],[0.3333333333333333,\"#9c179e\"],[0.4444444444444444,\"#bd3786\"],[0.5555555555555556,\"#d8576b\"],[0.6666666666666666,\"#ed7953\"],[0.7777777777777778,\"#fb9f3a\"],[0.8888888888888888,\"#fdca26\"],[1.0,\"#f0f921\"]],\"diverging\":[[0,\"#8e0152\"],[0.1,\"#c51b7d\"],[0.2,\"#de77ae\"],[0.3,\"#f1b6da\"],[0.4,\"#fde0ef\"],[0.5,\"#f7f7f7\"],[0.6,\"#e6f5d0\"],[0.7,\"#b8e186\"],[0.8,\"#7fbc41\"],[0.9,\"#4d9221\"],[1,\"#276419\"]]},\"xaxis\":{\"gridcolor\":\"white\",\"linecolor\":\"white\",\"ticks\":\"\",\"title\":{\"standoff\":15},\"zerolinecolor\":\"white\",\"automargin\":true,\"zerolinewidth\":2},\"yaxis\":{\"gridcolor\":\"white\",\"linecolor\":\"white\",\"ticks\":\"\",\"title\":{\"standoff\":15},\"zerolinecolor\":\"white\",\"automargin\":true,\"zerolinewidth\":2},\"scene\":{\"xaxis\":{\"backgroundcolor\":\"#E5ECF6\",\"gridcolor\":\"white\",\"linecolor\":\"white\",\"showbackground\":true,\"ticks\":\"\",\"zerolinecolor\":\"white\",\"gridwidth\":2},\"yaxis\":{\"backgroundcolor\":\"#E5ECF6\",\"gridcolor\":\"white\",\"linecolor\":\"white\",\"showbackground\":true,\"ticks\":\"\",\"zerolinecolor\":\"white\",\"gridwidth\":2},\"zaxis\":{\"backgroundcolor\":\"#E5ECF6\",\"gridcolor\":\"white\",\"linecolor\":\"white\",\"showbackground\":true,\"ticks\":\"\",\"zerolinecolor\":\"white\",\"gridwidth\":2}},\"shapedefaults\":{\"line\":{\"color\":\"#2a3f5f\"}},\"annotationdefaults\":{\"arrowcolor\":\"#2a3f5f\",\"arrowhead\":0,\"arrowwidth\":1},\"geo\":{\"bgcolor\":\"white\",\"landcolor\":\"#E5ECF6\",\"subunitcolor\":\"white\",\"showland\":true,\"showlakes\":true,\"lakecolor\":\"white\"},\"title\":{\"x\":0.05},\"mapbox\":{\"style\":\"light\"}}},\"xaxis\":{\"range\":[-0.2,2.6],\"zeroline\":false,\"showgrid\":false,\"showticklabels\":false},\"yaxis\":{\"range\":[-0.2,2.6],\"showgrid\":false,\"showticklabels\":false},\"shapes\":[{\"line\":{\"color\":\"orange\"},\"path\":\"M 1.8234898018587335,1.9818314824680296 Q 1.2,1.2 0.5765101981412663,0.41816851753197026\",\"type\":\"path\"},{\"line\":{\"color\":\"orange\"},\"path\":\"M 2.100968867902419,1.633883739117558 Q 1.2,1.2 0.9774790660436854,0.22507208781817645\",\"type\":\"path\"},{\"line\":{\"color\":\"orange\"},\"path\":\"M 0.9774790660436856,2.1749279121818237 Q 1.2,1.2 1.8234898018587333,0.41816851753197004\",\"type\":\"path\"},{\"line\":{\"color\":\"orange\"},\"path\":\"M 2.2,1.2 Q 1.2,1.2 0.2990311320975808,0.7661162608824419\",\"type\":\"path\"},{\"line\":{\"color\":\"orange\"},\"path\":\"M 0.5765101981412666,1.9818314824680299 Q 1.2,1.2 0.2990311320975809,1.6338837391175582\",\"type\":\"path\"},{\"line\":{\"color\":\"orange\"},\"path\":\"M 1.4225209339563145,2.1749279121818237 Q 1.2,1.2 1.4225209339563132,0.22507208781817611\",\"type\":\"path\"},{\"line\":{\"color\":\"orange\"},\"path\":\"M 0.19999999999999996,1.2000000000000002 Q 1.2,1.2 2.100968867902419,0.7661162608824424\",\"type\":\"path\"},{\"line\":{\"color\":\"LightSeaGreen\"},\"type\":\"circle\",\"x0\":0.2,\"x1\":2.2,\"xref\":\"x\",\"y0\":0.2,\"y1\":2.2,\"yref\":\"y\"}],\"width\":600,\"height\":600,\"plot_bgcolor\":\"white\",\"margin\":{\"t\":0,\"b\":0,\"l\":0,\"r\":0}},                        {\"responsive\": true}                    ).then(function(){\n",
       "                            \n",
       "var gd = document.getElementById('4668731b-5fdc-4a8f-9829-285348a20966');\n",
       "var x = new MutationObserver(function (mutations, observer) {{\n",
       "        var display = window.getComputedStyle(gd).display;\n",
       "        if (!display || display === 'none') {{\n",
       "            console.log([gd, 'removed!']);\n",
       "            Plotly.purge(gd);\n",
       "            observer.disconnect();\n",
       "        }}\n",
       "}});\n",
       "\n",
       "// Listen for the removal of the full notebook cells\n",
       "var notebookContainer = gd.closest('#notebook-container');\n",
       "if (notebookContainer) {{\n",
       "    x.observe(notebookContainer, {childList: true});\n",
       "}}\n",
       "\n",
       "// Listen for the clearing of the current output cell\n",
       "var outputEl = gd.closest('.output');\n",
       "if (outputEl) {{\n",
       "    x.observe(outputEl, {childList: true});\n",
       "}}\n",
       "\n",
       "                        })                };                });            </script>        </div>"
      ]
     },
     "metadata": {},
     "output_type": "display_data"
    }
   ],
   "source": [
    "import math\n",
    "import plotly.graph_objects as go\n",
    "fig = go.Figure()\n",
    "\n",
    "nw = Nanoword.generate_random_nanoword(7) #('ABCDBACD', [Letter('A','a+'), Letter('B','b+'), Letter('C','a-'), Letter('D','a-')])  #\n",
    "s = int(nw.size/2)\n",
    "#------------b\n",
    "\n",
    "# Set axes properties\n",
    "fig.update_xaxes(range=[-0.2, 2.6], zeroline=False)\n",
    "fig.update_yaxes(range=[-0.2, 2.6])\n",
    "\n",
    "points_data = []\n",
    "for i, c in enumerate(nw.word):\n",
    "    points_data.append({'letter': [l for l in nw.alphabet if l.char == c].pop(), \n",
    "                   'coord': (math.cos(i*math.pi/s)+1.2, math.sin(i*math.pi/s)+1.2)})\n",
    "fig.add_trace(\n",
    "    go.Scatter(\n",
    "        x = [p['coord'][0] for p in points_data],\n",
    "        y = [p['coord'][1] for p in points_data],\n",
    "        mode=\"markers\", marker=dict(size=8.0, color=\"RoyalBlue\"),\n",
    "        showlegend=False,\n",
    "        # text=[p['letter'].char for p in points_data],\n",
    "    ))\n",
    "def margin(tup):\n",
    "    x, y = tup\n",
    "    return (0.15*(x-1.2), 0.15*(y-1.2))    \n",
    "fig.add_trace(\n",
    "    go.Scatter(\n",
    "        x = [p['coord'][0]+margin(p['coord'])[0] for p in points_data],\n",
    "        y = [p['coord'][1]+margin(p['coord'])[1] for p in points_data],\n",
    "        text=[p['letter'] for p in points_data],\n",
    "        mode=\"text\", showlegend=False,\n",
    "    ))\n",
    "\n",
    "paths = []\n",
    "for ltr in nw.alphabet:\n",
    "    coords = [p['coord'] for p in points_data if p['letter'] == ltr]\n",
    "    paths.append(dict(type=\"path\",\n",
    "                     path=\"M {},{} Q 1.2,1.2 {},{}\".format(\n",
    "                         coords[0][0],coords[0][1],coords[1][0], coords[1][1]),\n",
    "                     line_color=\"orange\",))\n",
    "else: fig.update_layout(shapes=paths)\n",
    "        \n",
    "fig.add_shape(type=\"circle\",\n",
    "    xref=\"x\", yref=\"y\",\n",
    "    x0=0.2, y0=0.2, x1=2.2, y1=2.2,\n",
    "    line_color=\"LightSeaGreen\",\n",
    ")\n",
    "\n",
    "# Set figure size\n",
    "fig.update_layout(width=600, height=600)\n",
    "\n",
    "print(nw)\n",
    "fig.update_layout(plot_bgcolor=\"white\")\n",
    "fig.update_xaxes(showgrid=False,showticklabels=False)\n",
    "fig.update_yaxes(showgrid=False,showticklabels=False)\n",
    "fig.update_layout(margin=dict(t=0, b=0, l=0, r=0))\n",
    "fig.show()"
   ]
  },
  {
   "cell_type": "code",
   "execution_count": 221,
   "id": "8d6db28c-9d7a-47ee-b00b-643a7d024654",
   "metadata": {},
   "outputs": [
    {
     "data": {
      "text/plain": [
       "plotly.graph_objs._figure.Figure"
      ]
     },
     "execution_count": 221,
     "metadata": {},
     "output_type": "execute_result"
    }
   ],
   "source": [
    "type(fig)"
   ]
  },
  {
   "cell_type": "code",
   "execution_count": 145,
   "id": "3ab065d6-8e7a-4c0c-afbd-5a645d585223",
   "metadata": {},
   "outputs": [
    {
     "name": "stdout",
     "output_type": "stream",
     "text": [
      "[{'coordinate': (2.2, 1.2), 'letter': (A,a+)},\n",
      " {'coordinate': (1.7000000000000002, 2.0660254037844386), 'letter': (B,b+)},\n",
      " {'coordinate': (0.7000000000000002, 2.0660254037844386), 'letter': (C,a-)},\n",
      " {'coordinate': (0.19999999999999996, 1.2000000000000002), 'letter': (B,b+)},\n",
      " {'coordinate': (0.6999999999999995, 0.3339745962155616), 'letter': (A,a+)},\n",
      " {'coordinate': (1.7, 0.33397459621556136), 'letter': (C,a-)}]\n"
     ]
    }
   ],
   "source": [
    "nw = Nanoword('ABCBAC', [Letter('A','a+'), Letter('B','b+'), Letter('C','a-')])  #.generate_random_nanoword(3)\n",
    "alph = nw.alphabet\n",
    "\n",
    "alph_posi = [{'ltr': ltr, 'positions': tuple([i for i, x in enumerate(nw.word) if x == ltr.char])}  for ltr in alph] \n",
    "\n",
    "s = int(nw.size/2)\n",
    "points = []\n",
    "for i, c in enumerate(nw.word):\n",
    "    points.append({'letter': [l for l in nw.alphabet if l.char == c].pop(), \n",
    "                   'coordinate': (math.cos(i*math.pi/s)+1.2, math.sin(i*math.pi/s)+1.2)})\n",
    "pprint.pprint(points)"
   ]
  },
  {
   "cell_type": "markdown",
   "id": "f4d311b0-3f15-4c84-a8f4-2762628c0b7f",
   "metadata": {},
   "source": [
    "# With Sympy"
   ]
  },
  {
   "cell_type": "code",
   "execution_count": null,
   "id": "08102c0f-d9f3-4f65-89a1-6ea6d37af345",
   "metadata": {},
   "outputs": [],
   "source": [
    "from sympy import *\n",
    "init_printing()\n",
    "\n",
    "t = symbols('t')"
   ]
  },
  {
   "cell_type": "code",
   "execution_count": null,
   "id": "8b97da54-434a-4f85-afff-db8ec20a382a",
   "metadata": {},
   "outputs": [],
   "source": [
    "wp = sum([d['c']*(t**d['n']-1) for d in J])\n",
    "\n",
    "display(wp)"
   ]
  },
  {
   "cell_type": "code",
   "execution_count": null,
   "id": "40661321-f9be-45c0-8e56-db54086df100",
   "metadata": {},
   "outputs": [],
   "source": [
    "random.randint(0,1)"
   ]
  }
 ],
 "metadata": {
  "kernelspec": {
   "display_name": "Python 3 (ipykernel)",
   "language": "python",
   "name": "python3"
  },
  "language_info": {
   "codemirror_mode": {
    "name": "ipython",
    "version": 3
   },
   "file_extension": ".py",
   "mimetype": "text/x-python",
   "name": "python",
   "nbconvert_exporter": "python",
   "pygments_lexer": "ipython3",
   "version": "3.12.3"
  }
 },
 "nbformat": 4,
 "nbformat_minor": 5
}
