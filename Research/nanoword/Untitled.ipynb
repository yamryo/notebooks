{
 "cells": [
  {
   "cell_type": "code",
   "execution_count": 2,
   "id": "1fc6c461-51bf-4d9a-a4d7-32dab5abf463",
   "metadata": {},
   "outputs": [],
   "source": [
    "import sympy as sym\n",
    "import pyknotid.spacecurves as sp\n",
    "import pyknotid.make as mk\n",
    "from pyknotid.catalogue import get_knot, from_invariants\n",
    "#from pyknotid.catalogue.getdb import download_database\n",
    "#download_database()"
   ]
  },
  {
   "cell_type": "code",
   "execution_count": 4,
   "id": "4aa92a89-c7be-4f05-8b2d-84f0173bb37b",
   "metadata": {},
   "outputs": [
    {
     "ename": "AttributeError",
     "evalue": "'Knot' object has no attribute 'alexander_polynomial'",
     "output_type": "error",
     "traceback": [
      "\u001b[0;31m---------------------------------------------------------------------------\u001b[0m",
      "\u001b[0;31mAttributeError\u001b[0m                            Traceback (most recent call last)",
      "Cell \u001b[0;32mIn[4], line 4\u001b[0m\n\u001b[1;32m      1\u001b[0m k \u001b[38;5;241m=\u001b[39m get_knot(\u001b[38;5;124m'\u001b[39m\u001b[38;5;124m8_16\u001b[39m\u001b[38;5;124m'\u001b[39m) \u001b[38;5;66;03m#sp.Knot(mk.figure_eight()) #trefoil()) #three_twist(num_points=100))\u001b[39;00m\n\u001b[1;32m      3\u001b[0m t \u001b[38;5;241m=\u001b[39m sym\u001b[38;5;241m.\u001b[39mvar(\u001b[38;5;124m'\u001b[39m\u001b[38;5;124mt\u001b[39m\u001b[38;5;124m'\u001b[39m)\n\u001b[0;32m----> 4\u001b[0m \u001b[43mk\u001b[49m\u001b[38;5;241;43m.\u001b[39;49m\u001b[43malexander_polynomial\u001b[49m(t)\n\u001b[1;32m      5\u001b[0m k\u001b[38;5;241m.\u001b[39mpretty_print()\n",
      "\u001b[0;31mAttributeError\u001b[0m: 'Knot' object has no attribute 'alexander_polynomial'"
     ]
    }
   ],
   "source": [
    "k = get_knot('8_16') #sp.Knot(mk.figure_eight()) #trefoil()) #three_twist(num_points=100))\n",
    "\n",
    "t = sym.var('t')\n",
    "k.alexander_polynomial(t)\n",
    "k.pretty_print()"
   ]
  },
  {
   "cell_type": "code",
   "execution_count": null,
   "id": "94a2f62b-01cb-40d9-bd9a-33563a0a4811",
   "metadata": {},
   "outputs": [],
   "source": [
    "In [5]: k.alexander_polynomial(-1)\n",
    "Finding crossings\n",
    "i = 0 / 97\n",
    "7 crossings found\n",
    "\n",
    "Simplifying: initially 14 crossings\n",
    "-> 10 crossings after 2 runs\n",
    "Out[5]: 6.9999999999999991\n",
    "\n",
    "In [6]: import sympy as sym\n",
    "\n",
    "In [7]: t = sym.var('t')\n",
    "\n",
    "In [8]: k.alexander_polynomial(t)\n",
    "Simplifying: initially 10 crossings\n",
    "-> 10 crossings after 1 runs\n",
    "Out[8]: 2/t - 3/t**2 + 2/t**3\n",
    "\n",
    "In [9]: k.octree_simplify(5)\n",
    "Run 0 of 5, 100 points remain\n",
    "Run 1 of 5, 98 points remain\n",
    "Run 2 of 5, 104 points remain\n",
    "Run 3 of 5, 92 points remain\n",
    "Run 4 of 5, 77 points remain\n",
    "\n",
    "Reduced to 77 points\n",
    "\n",
    "In [10]: k.plot()"
   ]
  }
 ],
 "metadata": {
  "kernelspec": {
   "display_name": "Python 3 (ipykernel)",
   "language": "python",
   "name": "python3"
  },
  "language_info": {
   "codemirror_mode": {
    "name": "ipython",
    "version": 3
   },
   "file_extension": ".py",
   "mimetype": "text/x-python",
   "name": "python",
   "nbconvert_exporter": "python",
   "pygments_lexer": "ipython3",
   "version": "3.12.3"
  }
 },
 "nbformat": 4,
 "nbformat_minor": 5
}
