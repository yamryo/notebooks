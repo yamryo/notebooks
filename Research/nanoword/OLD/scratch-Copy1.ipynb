{
 "cells": [
  {
   "cell_type": "markdown",
   "id": "ba76e3f3-0853-40ca-8cce-7974eefaaf43",
   "metadata": {
    "tags": []
   },
   "source": [
    "# Modules"
   ]
  },
  {
   "cell_type": "code",
   "execution_count": null,
   "id": "d10d7e0c-84ce-4c80-b147-bf928d46684d",
   "metadata": {},
   "outputs": [],
   "source": [
    "import sys; sys.path.append(\"../modules\")\n",
    "from nanoword import *\n",
    "\n",
    "import pprint"
   ]
  },
  {
   "cell_type": "markdown",
   "id": "c2c56734-a443-40cf-9fc2-6c34f9395aef",
   "metadata": {},
   "source": [
    "# writhe polynomial vs ab polynomials"
   ]
  },
  {
   "cell_type": "markdown",
   "id": "d922518a-69a7-4e1c-913e-353301db13ce",
   "metadata": {
    "jp-MarkdownHeadingCollapsed": true
   },
   "source": [
    "### nanoword の生成\n",
    "7交点(classical)の nanoword をランダムに作成。"
   ]
  },
  {
   "cell_type": "code",
   "execution_count": null,
   "id": "5e336ce9-7d09-425a-ae21-a21476edc7cb",
   "metadata": {
    "tags": []
   },
   "outputs": [],
   "source": [
    "mnw = Nanoword.random_generator(7)\n",
    "display(mnw.word, mnw.alphabet)"
   ]
  },
  {
   "cell_type": "markdown",
   "id": "611c65be-ffaa-42b9-821d-586a3afad717",
   "metadata": {
    "jp-MarkdownHeadingCollapsed": true
   },
   "source": [
    "### Ind vs self-linking\n",
    "各交点の ind と self-linking を計算し比較。"
   ]
  },
  {
   "cell_type": "code",
   "execution_count": null,
   "id": "975d564f-e47f-4696-84b0-75d2ea74d076",
   "metadata": {
    "tags": []
   },
   "outputs": [],
   "source": [
    "for ltr in mnw.alphabet:\n",
    "    print(f\"{ltr}  -->  ind: {mnw.ind(ltr):>2}  /  sl: {mnw.self_linking(ltr)}\")\n",
    "\n",
    "print(\"\\n-----\\n\")\n",
    "print(f\"writhe poly: {mnw.writhe_polynomial()}\")\n",
    "print(f\"ab polys:    {mnw.ab_polynomials()}\")"
   ]
  },
  {
   "cell_type": "markdown",
   "id": "15a3cbb7-b7e2-435b-aa89-c264d3128397",
   "metadata": {},
   "source": [
    "writhe poly が自明でも、ab polys が自明でないことがある。"
   ]
  },
  {
   "cell_type": "code",
   "execution_count": null,
   "id": "24661e11-060e-4b8e-b3d1-16d1ed66ac10",
   "metadata": {},
   "outputs": [],
   "source": [
    "Count, data = 0, []\n",
    "while len(data) < 1 and Count < 1000:\n",
    "    mnw = Nanoword.random_generator(7)\n",
    "    wp, abps = mnw.writhe_polynomial(), mnw.ab_polynomials()\n",
    "    if wp == '(0)' and abps != ['',''] and len(abps[0]) > 10:\n",
    "        data.append(mnw)\n",
    "    Count += 1\n",
    "for nw in data: print(f\"{nw.word} --> ab polys: {nw.ab_polynomials()}\")"
   ]
  },
  {
   "cell_type": "markdown",
   "id": "611cd675-164e-4bba-a2f3-582c144dc1fb",
   "metadata": {},
   "source": [
    "### ランダムに計算"
   ]
  },
  {
   "cell_type": "code",
   "execution_count": null,
   "id": "c0a6264c-8a87-4731-a42a-4c38a974673f",
   "metadata": {},
   "outputs": [],
   "source": [
    "Count = 0\n",
    "data = []\n",
    "while Count < 10:\n",
    "    nw = Nanoword.random_generator(9)\n",
    "    wp, abps = nw.writhe_polynomial(), nw.ab_polynomials()\n",
    "    print(f\"{nw.word}\\n -->   wp: {wp}\\n --> abps: {abps}\")\n",
    "    Count += 1"
   ]
  },
  {
   "cell_type": "markdown",
   "id": "aacfaa88-54bc-4358-b940-896a494f24c7",
   "metadata": {},
   "source": [
    "# Scratch"
   ]
  },
  {
   "cell_type": "code",
   "execution_count": null,
   "id": "de775968-ae7a-4d93-91e3-3d7ebdef27f5",
   "metadata": {
    "tags": []
   },
   "outputs": [],
   "source": [
    "mnw = Nanoword.random_generator(5)\n",
    "mnw_rmi = R.I(mnw, reverse=True)\n",
    "mnw_rmii = R.II(mnw, reverse=True)\n",
    "mnw_rmiii = R.III(mnw)\n",
    "print(mnw, [f\"{l}\" for l in mnw.alphabet])\n",
    "#print(mnw, mnw_rmi_inv, mnw_rmii_inv)\n",
    "#\n",
    "for ltr in mnw_rmii.alphabet:\n",
    "    for nw in [mnw, mnw_rmi, mnw_rmii, mnw_rmiii]:\n",
    "        if nw is not None:\n",
    "            print(f\"{ltr} --self_linking--> {nw.self_linking(ltr)}\")\n",
    "    print(\"-----\")"
   ]
  },
  {
   "cell_type": "markdown",
   "id": "8c584168-7826-46ae-9831-5396fef06d8c",
   "metadata": {},
   "source": [
    "## n-writhe"
   ]
  },
  {
   "cell_type": "code",
   "execution_count": null,
   "id": "12756c8e-9805-4e0e-b892-dd037c9c0938",
   "metadata": {},
   "outputs": [],
   "source": [
    "mnw = Nanoword(\"ABCDACEEBD\", [Letter('A','a+'),Letter('B','b-'),Letter('C','b-'),Letter('D','b-'),Letter('E','b+')]) #Nanoword.random_generator(4)\n",
    "print(mnw)\n",
    "\n",
    "print([f\"{l}, {s}\" for l,s in mnw.signs_on_word()])\n",
    "\n",
    "alph_w_ind=[{'letter': ltr, 'ind': mnw.ind(ltr)} for ltr in mnw.alphabet]; print(alph_w_ind)\n",
    "\n",
    "J = [{'n': ind, 'c': 0} for ind in set([x['ind'] for x in alph_w_ind])]\n",
    "for elm in J:\n",
    "    for d in alph_w_ind:\n",
    "        if d['ind'] == elm['n']:\n",
    "            elm['c'] += d['letter'].sign.pm\n",
    "if len([d for d in J if d['n'] == 0]) == 0:\n",
    "    J.append({'n': 0, 'c': 0})\n",
    "print(J)\n",
    "\n",
    "wp = \"\"\n",
    "for d in sorted(J, key=lambda x: x['n'], reverse=True):\n",
    "    if not d['n'] == 0:\n",
    "        wp += f\"+({d['c']})t^{d['n']}\"\n",
    "    else:\n",
    "        s = sum([d['c'] for d in J if not d['n'] == 0])\n",
    "        wp += f\"+({-s})\"\n",
    "        \n",
    "print(wp[1:])\n",
    "print()"
   ]
  },
  {
   "cell_type": "code",
   "execution_count": null,
   "id": "cf09b9e6-c17f-4bbb-9202-e9eba220c8ec",
   "metadata": {},
   "outputs": [],
   "source": [
    "mnw.ab_polynomials()"
   ]
  },
  {
   "cell_type": "markdown",
   "id": "19f4c413-3cf0-4f6c-a044-e7d9337ccd75",
   "metadata": {
    "jp-MarkdownHeadingCollapsed": true
   },
   "source": [
    "## Drawing Gauss diagrams"
   ]
  },
  {
   "cell_type": "code",
   "execution_count": null,
   "id": "a3b100aa-15e0-406d-be65-737da1543e7f",
   "metadata": {},
   "outputs": [],
   "source": [
    "import math\n",
    "import plotly.graph_objects as go\n",
    "fig = go.Figure()\n",
    "\n",
    "nw = Nanoword.random_generator(7) #('ABCDBACD', [Letter('A','a+'), Letter('B','b+'), Letter('C','a-'), Letter('D','a-')])  #\n",
    "s = int(nw.size/2)\n",
    "#------------b\n",
    "\n",
    "# Set axes properties\n",
    "fig.update_xaxes(range=[-0.2, 2.6], zeroline=False)\n",
    "fig.update_yaxes(range=[-0.2, 2.6])\n",
    "\n",
    "points_data = []\n",
    "for i, c in enumerate(nw.word):\n",
    "    points_data.append({'letter': [l for l in nw.alphabet if l.char == c].pop(), \n",
    "                   'coord': (math.cos(i*math.pi/s)+1.2, math.sin(i*math.pi/s)+1.2)})\n",
    "fig.add_trace(\n",
    "    go.Scatter(\n",
    "        x = [p['coord'][0] for p in points_data],\n",
    "        y = [p['coord'][1] for p in points_data],\n",
    "        mode=\"markers\", marker=dict(size=8.0, color=\"RoyalBlue\"),\n",
    "        showlegend=False,\n",
    "        # text=[p['letter'].char for p in points_data],\n",
    "    ))\n",
    "def margin(tup):\n",
    "    x, y = tup\n",
    "    return (0.15*(x-1.2), 0.15*(y-1.2))    \n",
    "fig.add_trace(\n",
    "    go.Scatter(\n",
    "        x = [p['coord'][0]+margin(p['coord'])[0] for p in points_data],\n",
    "        y = [p['coord'][1]+margin(p['coord'])[1] for p in points_data],\n",
    "        text=[p['letter'] for p in points_data],\n",
    "        mode=\"text\", showlegend=False,\n",
    "    ))\n",
    "\n",
    "paths = []\n",
    "for ltr in nw.alphabet:\n",
    "    coords = [p['coord'] for p in points_data if p['letter'] == ltr]\n",
    "    paths.append(dict(type=\"path\",\n",
    "                     path=\"M {},{} Q 1.2,1.2 {},{}\".format(\n",
    "                         coords[0][0],coords[0][1],coords[1][0], coords[1][1]),\n",
    "                     line_color=\"orange\",))\n",
    "else: fig.update_layout(shapes=paths)\n",
    "        \n",
    "fig.add_shape(type=\"circle\",\n",
    "    xref=\"x\", yref=\"y\",\n",
    "    x0=0.2, y0=0.2, x1=2.2, y1=2.2,\n",
    "    line_color=\"LightSeaGreen\",\n",
    ")\n",
    "\n",
    "# Set figure size\n",
    "fig.update_layout(width=600, height=600)\n",
    "\n",
    "print(nw)\n",
    "fig.update_layout(plot_bgcolor=\"white\")\n",
    "fig.update_xaxes(showgrid=False,showticklabels=False)\n",
    "fig.update_yaxes(showgrid=False,showticklabels=False)\n",
    "fig.update_layout(margin=dict(t=0, b=0, l=0, r=0))\n",
    "fig.show()"
   ]
  },
  {
   "cell_type": "code",
   "execution_count": null,
   "id": "8d6db28c-9d7a-47ee-b00b-643a7d024654",
   "metadata": {},
   "outputs": [],
   "source": [
    "type(fig)"
   ]
  },
  {
   "cell_type": "code",
   "execution_count": null,
   "id": "3ab065d6-8e7a-4c0c-afbd-5a645d585223",
   "metadata": {},
   "outputs": [],
   "source": [
    "nw = Nanoword('ABCBAC', [Letter('A','a+'), Letter('B','b+'), Letter('C','a-')])  #.random_generator(3)\n",
    "alph = nw.alphabet\n",
    "\n",
    "alph_posi = [{'ltr': ltr, 'positions': tuple([i for i, x in enumerate(nw.word) if x == ltr.char])}  for ltr in alph] \n",
    "\n",
    "s = int(nw.size/2)\n",
    "points = []\n",
    "for i, c in enumerate(nw.word):\n",
    "    points.append({'letter': [l for l in nw.alphabet if l.char == c].pop(), \n",
    "                   'coordinate': (math.cos(i*math.pi/s)+1.2, math.sin(i*math.pi/s)+1.2)})\n",
    "pprint.pprint(points)"
   ]
  },
  {
   "cell_type": "markdown",
   "id": "f4d311b0-3f15-4c84-a8f4-2762628c0b7f",
   "metadata": {
    "jp-MarkdownHeadingCollapsed": true
   },
   "source": [
    "## With Sympy"
   ]
  },
  {
   "cell_type": "code",
   "execution_count": null,
   "id": "08102c0f-d9f3-4f65-89a1-6ea6d37af345",
   "metadata": {},
   "outputs": [],
   "source": [
    "from sympy import *\n",
    "init_printing()\n",
    "\n",
    "t = symbols('t')"
   ]
  },
  {
   "cell_type": "code",
   "execution_count": null,
   "id": "8b97da54-434a-4f85-afff-db8ec20a382a",
   "metadata": {},
   "outputs": [],
   "source": [
    "wp = sum([d['c']*(t**d['n']-1) for d in J])\n",
    "\n",
    "display(wp)"
   ]
  },
  {
   "cell_type": "code",
   "execution_count": null,
   "id": "40661321-f9be-45c0-8e56-db54086df100",
   "metadata": {},
   "outputs": [],
   "source": [
    "random.randint(0,1)"
   ]
  },
  {
   "cell_type": "markdown",
   "id": "3cd6d864-aecf-4fd5-bc86-ad347f1a28e2",
   "metadata": {},
   "source": [
    "# Drawing virtual knot diagrams"
   ]
  },
  {
   "cell_type": "code",
   "execution_count": null,
   "id": "8017e164-c615-4bce-b234-5d2a3622f844",
   "metadata": {},
   "outputs": [],
   "source": [
    "nw = Nanoword.random_generator(3) #('ABCBCA', [Letter('A','a+'), Letter('B','b+'), Letter('C','a-')]) #\n",
    "print(nw, nw.alphabet); diag = Diagram(nw)\n",
    "\n",
    "marr = diag.matrix\n",
    "alph = nw.alphabet\n",
    "ltrs = nw.letters_on_word\n",
    "s = nw.size // 2\n",
    "rng = list(range(s))\n",
    "\n",
    "count = {ltr.char: 0 for ltr in ltrs}\n",
    "for j, ltr in enumerate(ltrs):\n",
    "    ltr_next = ltrs[(j+1)%nw.size]\n",
    "    ind, ind_next = alph.index(ltr), alph.index(ltr_next)\n",
    "    dff = ind_next-ind\n",
    "    is_a, is_next_a = (ltr.sign.ab == 'a'), (ltr_next.sign.ab)\n",
    "    #---\n",
    "    if count[ltr.char] == 0:\n",
    "        count[ltr.char] += 1\n",
    "        if dff == 0:\n",
    "            diag.create_route(start = (ind, 'r'), goal = (ind, 'b' if is_a else 't'))\n",
    "        else:\n",
    "            if count[ltr_next.char] == 0:\n",
    "                diag.create_route(start = (ind, 'r'), goal = (ind_next, 'l'))\n",
    "            # else:\n",
    "            #     diag.create_route(start = (ind, 'r'), goal = (ind_next, 'b' if is_next_a else 't'))\n",
    "    else:\n",
    "        if dff == 0:\n",
    "            diag.create_route(start = (ind, 't' if is_a else 'b'), goal = (ind, 'l'))\n",
    "        else: pass\n",
    "            \n",
    "print(marr); diag.show()"
   ]
  },
  {
   "cell_type": "code",
   "execution_count": null,
   "id": "cf9df283-1b10-4e13-9dfc-2a48efd725c0",
   "metadata": {},
   "outputs": [],
   "source": [
    "cc = Cell(4,5)\n",
    "marr[cc.move('right')] = 10\n",
    "print(marr)"
   ]
  },
  {
   "cell_type": "code",
   "execution_count": null,
   "id": "16347686-c71a-4f7c-b650-270f2eb7a254",
   "metadata": {},
   "outputs": [],
   "source": [
    "ab = 'a'\n",
    "bin(0b111 ^ (ab == 'b'))"
   ]
  },
  {
   "cell_type": "code",
   "execution_count": null,
   "id": "74f36ce0-9ff6-445a-ae9f-b8a76e6199e5",
   "metadata": {},
   "outputs": [],
   "source": [
    "bin(0b1110 | 0b1101)"
   ]
  },
  {
   "cell_type": "code",
   "execution_count": null,
   "id": "d803c8b7-905b-48f5-a198-1f84cc39f6ae",
   "metadata": {},
   "outputs": [],
   "source": [
    "ab = 'b'\n",
    "bin((0b0 if ab == 'a' else 0b10) | True)"
   ]
  },
  {
   "cell_type": "code",
   "execution_count": null,
   "id": "1a7ee246-f2fd-4e3d-9c09-4c94b605b2c6",
   "metadata": {},
   "outputs": [],
   "source": [
    "print(marr)\n",
    "marr[(2,2)]"
   ]
  },
  {
   "cell_type": "code",
   "execution_count": null,
   "id": "3aca9ad1-f7f1-4ace-b668-e65017354e59",
   "metadata": {},
   "outputs": [],
   "source": []
  }
 ],
 "metadata": {
  "kernelspec": {
   "display_name": "Python 3 (ipykernel)",
   "language": "python",
   "name": "python3"
  },
  "language_info": {
   "codemirror_mode": {
    "name": "ipython",
    "version": 3
   },
   "file_extension": ".py",
   "mimetype": "text/x-python",
   "name": "python",
   "nbconvert_exporter": "python",
   "pygments_lexer": "ipython3",
   "version": "3.12.3"
  }
 },
 "nbformat": 4,
 "nbformat_minor": 5
}
