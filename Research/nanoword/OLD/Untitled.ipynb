{
 "cells": [
  {
   "cell_type": "code",
   "execution_count": null,
   "id": "bc34d865-85ad-4654-94d8-baf400da5d80",
   "metadata": {},
   "outputs": [],
   "source": [
    "import matplotlib.pyplot as plt\n",
    "import networkx as nx\n",
    "\n",
    "def parse_gauss_code(gauss_code):\n",
    "    crossings = gauss_code.split()\n",
    "    parsed_code = []\n",
    "    for crossing in crossings:\n",
    "        sign = 1 if crossing[0] != '-' else -1\n",
    "        parsed_code.append((abs(int(crossing)), sign))\n",
    "    return parsed_code\n",
    "\n",
    "def create_knot_graph(parsed_code):\n",
    "    G = nx.MultiGraph()\n",
    "    for i, (crossing, sign) in enumerate(parsed_code):\n",
    "        G.add_node(crossing, pos=(i, 0), sign=sign)\n",
    "        if i > 0:\n",
    "            G.add_edge(parsed_code[i-1][0], crossing)\n",
    "    G.add_edge(parsed_code[-1][0], parsed_code[0][0])\n",
    "    return G\n",
    "\n",
    "def draw_knot(G):\n",
    "    pos = nx.get_node_attributes(G, 'pos')\n",
    "    signs = nx.get_node_attributes(G, 'sign')\n",
    "    labels = {node: f'{node} {\"+\" if sign > 0 else \"-\"}' for node, sign in signs.items()}\n",
    "    \n",
    "    plt.figure(figsize=(10, 5))\n",
    "    nx.draw(G, pos, with_labels=True, labels=labels, node_size=700, node_color='skyblue', font_size=16, font_weight='bold')\n",
    "    \n",
    "    plt.title(\"Virtual Knot Diagram from Gauss Code\")\n",
    "    plt.show()\n",
    "\n",
    "# Example\n",
    "gauss_code = '1 -2 -1 2' #'1 -2 3 -1 2 -3'\n",
    "parsed_code = parse_gauss_code(gauss_code)\n",
    "G = create_knot_graph(parsed_code)\n",
    "draw_knot(G)"
   ]
  },
  {
   "cell_type": "code",
   "execution_count": null,
   "id": "819b13e1-7547-4406-b2b1-4ad006ac6439",
   "metadata": {},
   "outputs": [],
   "source": [
    "gauss_code.split()"
   ]
  },
  {
   "cell_type": "code",
   "execution_count": null,
   "id": "a20dece3-28bd-418c-9b24-04d8a0bee667",
   "metadata": {},
   "outputs": [],
   "source": [
    "abs(int('-2'))"
   ]
  },
  {
   "cell_type": "code",
   "execution_count": null,
   "id": "ae2db862-4a1c-40e7-ade6-ef4b1f6359a4",
   "metadata": {},
   "outputs": [],
   "source": [
    "import matplotlib.pyplot as plt\n",
    "import numpy as np\n",
    "\n",
    "def draw_virtual_knot(gauss_code):\n",
    "    # Parse the Gauss code\n",
    "    crossings = gauss_code.split('-')\n",
    "    overcrossings = [int(c[1:]) for c in crossings if c.startswith('O')]\n",
    "    undercrossings = [int(c[1:]) for c in crossings if c.startswith('U')]\n",
    "\n",
    "    # Create a circle\n",
    "    theta = np.linspace(0, 2 * np.pi, 100)\n",
    "    x = np.cos(theta)\n",
    "    y = np.sin(theta)\n",
    "\n",
    "    # Draw overcrossings\n",
    "    for oc in overcrossings:\n",
    "        plt.plot(x, y + oc, 'r')\n",
    "\n",
    "    # Draw undercrossings\n",
    "    for uc in undercrossings:\n",
    "        plt.plot(x, y + uc, 'b')\n",
    "\n",
    "    plt.axis('equal')\n",
    "    plt.title(\"Virtual Knot Diagram\")\n",
    "    plt.show()\n",
    "\n",
    "# Example Gauss code: O1-O2-U3+U2-O3+U1\n",
    "gauss_code_example = \"O1-O2-U3+U2-O3+U1\"\n",
    "draw_virtual_knot(gauss_code_example)"
   ]
  },
  {
   "cell_type": "code",
   "execution_count": null,
   "id": "f618c466-af71-4dde-832f-9818b7082e1f",
   "metadata": {},
   "outputs": [],
   "source": [
    "import pyknotid.spacecurves as sp\n",
    "import pyknotid.make as mk\n",
    "\n",
    "# Create a knot from a Gauss code\n",
    "gauss_code_example = \"O1-O2-U3+U2-O3+U1\"\n",
    "knot = sp.Knot(mk.three_twist(num_points=100))\n",
    "\n",
    "# Plot the knot diagram\n",
    "knot.plot(mode='matplotlib')"
   ]
  },
  {
   "cell_type": "code",
   "execution_count": null,
   "id": "bdb4c5b6-fe2a-4ac6-8cfd-189e6871a4a0",
   "metadata": {},
   "outputs": [],
   "source": [
    "a = 2\n",
    "\n",
    "if (a == 1 or a == 2): \n",
    "    print('Yes')"
   ]
  },
  {
   "cell_type": "code",
   "execution_count": null,
   "id": "80711b71-201a-4393-853b-8bda3b2cda88",
   "metadata": {},
   "outputs": [],
   "source": [
    "# Calculate the Alexander polynomial\n",
    "alexander_poly = knot.alexander_polynomial(-1)\n",
    "print(f\"Alexander polynomial: {alexander_poly}\")\n",
    "\n",
    "# Simplify the knot using octree\n",
    "knot.octree_simplify(5)\n",
    "knot.plot()"
   ]
  },
  {
   "cell_type": "code",
   "execution_count": null,
   "id": "bd40f87e-d070-4dd2-85ea-9010bd0cc6e7",
   "metadata": {
    "editable": true,
    "slideshow": {
     "slide_type": ""
    },
    "tags": []
   },
   "outputs": [],
   "source": [
    "import turtle\n",
    "\n",
    "star = turtle.Turtle()\n",
    "\n",
    "# Drawing a star\n",
    "for i in range(5):\n",
    "    star.forward(100)\n",
    "    star.right(144)\n",
    "    \n",
    "turtle.done()"
   ]
  },
  {
   "cell_type": "code",
   "execution_count": null,
   "id": "61a56e29-2c6e-4323-8c56-3c4df5ac429c",
   "metadata": {},
   "outputs": [],
   "source": [
    "import numpy as np\n",
    "import itertools as itl\n",
    "\n",
    "marr = np.zeros((10,10), dtype=int)\n",
    "for i, j in itl.product(range(len(marr)), range(len(marr))):\n",
    "    marr[i,j] = i+j*(-1 if i>j else 1)\n",
    "\n",
    "print(marr)\n",
    "\n",
    "for c in marr[:8,8]:\n",
    "    print(c, type(c))\n"
   ]
  },
  {
   "cell_type": "code",
   "execution_count": null,
   "id": "ce0b1a27-eb68-4be0-af7f-f710469d0a9c",
   "metadata": {},
   "outputs": [],
   "source": [
    "import itertools\n",
    "\n",
    "l = [0,0,0,1,0,0,2,0,1,0,0]; print(l)\n",
    "\n",
    "ll = []\n",
    "ind_last = -1\n",
    "for k, g in itertools.groupby(l):\n",
    "    lg = list(g)\n",
    "    ind_first = ind_last + 1\n",
    "    ind_last = ind_first + len(lg) - 1\n",
    "    if k == 0:\n",
    "        ll.append((ind_first, ind_last))\n",
    "\n",
    "print(ll)"
   ]
  },
  {
   "cell_type": "code",
   "execution_count": null,
   "id": "1aefbeac-49a7-49ab-a4de-e1b6bc18f631",
   "metadata": {},
   "outputs": [],
   "source": [
    "i, j = tuple(sorted([10, 3]))\n",
    "print(i, j)"
   ]
  },
  {
   "cell_type": "code",
   "execution_count": null,
   "id": "cb1e68a8-703e-439f-bfa9-db1de3dd7ba7",
   "metadata": {
    "editable": true,
    "slideshow": {
     "slide_type": ""
    },
    "tags": []
   },
   "outputs": [],
   "source": [
    "max(5,2)"
   ]
  }
 ],
 "metadata": {
  "kernelspec": {
   "display_name": "Python 3 (ipykernel)",
   "language": "python",
   "name": "python3"
  },
  "language_info": {
   "codemirror_mode": {
    "name": "ipython",
    "version": 3
   },
   "file_extension": ".py",
   "mimetype": "text/x-python",
   "name": "python",
   "nbconvert_exporter": "python",
   "pygments_lexer": "ipython3",
   "version": "3.12.3"
  }
 },
 "nbformat": 4,
 "nbformat_minor": 5
}
