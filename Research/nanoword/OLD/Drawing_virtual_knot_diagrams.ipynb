{
 "cells": [
  {
   "cell_type": "markdown",
   "id": "ba76e3f3-0853-40ca-8cce-7974eefaaf43",
   "metadata": {
    "tags": []
   },
   "source": [
    "# Modules"
   ]
  },
  {
   "cell_type": "code",
   "execution_count": null,
   "id": "d10d7e0c-84ce-4c80-b147-bf928d46684d",
   "metadata": {},
   "outputs": [],
   "source": [
    "#import sys; sys.path.append(\"../modules\")\n",
    "from vkdiagram import *\n",
    "\n",
    "#import matplotlib.pyplot as plt\n",
    "#import networkx as nx"
   ]
  },
  {
   "cell_type": "markdown",
   "id": "3cd6d864-aecf-4fd5-bc86-ad347f1a28e2",
   "metadata": {},
   "source": [
    "# Drawing virtual knot diagrams"
   ]
  },
  {
   "cell_type": "code",
   "execution_count": null,
   "id": "8017e164-c615-4bce-b234-5d2a3622f844",
   "metadata": {
    "editable": true,
    "slideshow": {
     "slide_type": ""
    },
    "tags": []
   },
   "outputs": [],
   "source": [
    "#nw = Nanoword('CABADBDC', [Letter('A','b-'), Letter('B','a-'), Letter('C','b-'), Letter('D','a+')])\n",
    "nw = Nanoword.random_generator(4) #('ABCBCA', [Letter('A','a+'), Letter('B','b+'), Letter('C','a-')]) #\n",
    "print(nw, nw.alphabet); diag = Diagram(nw)\n",
    "\n",
    "marr = diag.matrix\n",
    "alph = nw.alphabet\n",
    "nwinfo = nw.get_full_info()\n",
    "\n",
    "for j in range(nw.size):\n",
    "    d, d_next = nwinfo[j], nwinfo[(j+1)%nw.size]\n",
    "    ltr, ltr_next = d['letter'], d_next['letter']\n",
    "    sind, gind = 3*alph.index(ltr)+2, 3*alph.index(ltr_next)+2\n",
    "    b_or_t = 't' if (ltr.sign.ab == 'a') else 'b'\n",
    "    b_or_t_next = 'b' if (ltr_next.sign.ab == 'a') else 't'\n",
    "    #---\n",
    "    start = Cell(sind, sind, head = 'r' if d['is_first'] else b_or_t, tail='')\n",
    "    goal = Cell(gind, gind, head = '', tail = 'l' if d_next['is_first'] else b_or_t_next)\n",
    "    diag.create_route(start, goal)\n",
    "            \n",
    "print(marr); \n",
    "# diag.show()"
   ]
  },
  {
   "cell_type": "code",
   "execution_count": null,
   "id": "8b876a05-e3ad-4ac3-83d0-03e343f6405e",
   "metadata": {},
   "outputs": [],
   "source": []
  }
 ],
 "metadata": {
  "kernelspec": {
   "display_name": "Python 3 (ipykernel)",
   "language": "python",
   "name": "python3"
  },
  "language_info": {
   "codemirror_mode": {
    "name": "ipython",
    "version": 3
   },
   "file_extension": ".py",
   "mimetype": "text/x-python",
   "name": "python",
   "nbconvert_exporter": "python",
   "pygments_lexer": "ipython3",
   "version": "3.12.3"
  }
 },
 "nbformat": 4,
 "nbformat_minor": 5
}
