{
 "cells": [
  {
   "cell_type": "code",
   "execution_count": null,
   "id": "4c1796a5-682b-487d-b402-34d3e3c0db3d",
   "metadata": {},
   "outputs": [],
   "source": [
    "from nanoword import *"
   ]
  },
  {
   "cell_type": "code",
   "execution_count": null,
   "id": "6a5b3a50-01cc-4622-9afc-7309630a2922",
   "metadata": {
    "editable": true,
    "slideshow": {
     "slide_type": ""
    },
    "tags": []
   },
   "outputs": [],
   "source": [
    "mnw = Nanoword.random_generator(7)\n",
    "print(f\"{mnw.word} on {mnw.alphabet}\"); mnw.diagram(size=300).show()"
   ]
  },
  {
   "cell_type": "markdown",
   "id": "f7feb323-ea52-4743-bfd1-ded44bd59e87",
   "metadata": {},
   "source": [
    "各交点の ind と self-linking を計算し比較する。"
   ]
  },
  {
   "cell_type": "code",
   "execution_count": null,
   "id": "20b97a91-a85d-45ee-b27b-cfecf67d2d72",
   "metadata": {
    "editable": true,
    "slideshow": {
     "slide_type": ""
    },
    "tags": []
   },
   "outputs": [],
   "source": [
    "for ltr in mnw.alphabet:\n",
    "    print(f\"{ltr}   -->  ind: {mnw.ind(ltr):>2}  /  sl: {mnw.self_linking(ltr)}\")\n",
    "\n",
    "print(\"-------\\n\")\n",
    "print(f\"writhe poly: {mnw.writhe_polynomial()}\")\n",
    "print(f\"ab polys:    {mnw.ab_polynomials()}\")"
   ]
  },
  {
   "cell_type": "code",
   "execution_count": null,
   "id": "cfacec8c-8c58-4a5f-98cb-ee79241541dc",
   "metadata": {},
   "outputs": [],
   "source": []
  }
 ],
 "metadata": {
  "kernelspec": {
   "display_name": "Python 3 (ipykernel)",
   "language": "python",
   "name": "python3"
  },
  "language_info": {
   "codemirror_mode": {
    "name": "ipython",
    "version": 3
   },
   "file_extension": ".py",
   "mimetype": "text/x-python",
   "name": "python",
   "nbconvert_exporter": "python",
   "pygments_lexer": "ipython3",
   "version": "3.12.3"
  }
 },
 "nbformat": 4,
 "nbformat_minor": 5
}
