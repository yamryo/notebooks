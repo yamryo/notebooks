{
 "cells": [
  {
   "cell_type": "markdown",
   "id": "ba76e3f3-0853-40ca-8cce-7974eefaaf43",
   "metadata": {
    "tags": []
   },
   "source": [
    "# ライブラリ"
   ]
  },
  {
   "cell_type": "code",
   "execution_count": 1,
   "id": "d10d7e0c-84ce-4c80-b147-bf928d46684d",
   "metadata": {},
   "outputs": [],
   "source": [
    "import numpy as np\n",
    "#import itertools\n",
    "\n",
    "#from ipycanvas import Canvas"
   ]
  },
  {
   "cell_type": "markdown",
   "id": "021d6f08-416e-4aee-9683-b9f1b155967e",
   "metadata": {},
   "source": [
    "# Class of nanoword"
   ]
  },
  {
   "cell_type": "code",
   "execution_count": 164,
   "id": "a720757f-e45d-4514-a6d9-dbd7f57cd32f",
   "metadata": {
    "tags": []
   },
   "outputs": [],
   "source": [
    "signs = ['a+', 'a-', 'b+', 'b-']\n",
    "pi_factors = [{'a+', 'b-'}, {'b+', 'a-'}]\n",
    "\n",
    "def get_factor(sign):\n",
    "    if sign in pi_factors[0]:\n",
    "        return pi_factors[0]\n",
    "    else:\n",
    "        return pi_factors[1]\n",
    "\n",
    "def tau(sign):\n",
    "    factor = get_factor(sign)\n",
    "    return {s for s in factors if not s == sign}.pop()\n",
    "\n",
    "def iota(self, sign):\n",
    "    result = sign.replace('+', '-')\n",
    "    if result == sign:\n",
    "        result = sign.replace('-', '+')\n",
    "    return result\n",
    "\n",
    "class nanoword:\n",
    "    def __init__(self, word, alphabet):\n",
    "        self.alphabet = alphabet\n",
    "        self.letters = [v['letter'] for v in w.alphabet]\n",
    "        self.word = word\n",
    "\n",
    "    def __str__(self):\n",
    "        return self.word\n",
    "        \n",
    "    def is_Gauss_word(self):\n",
    "        '''Check the word is a Gauss word or not'''\n",
    "        pass\n",
    "\n",
    "    def add_letter(self, letter_dict):\n",
    "        pass\n",
    "\n",
    "    def get_sign(self, letter):\n",
    "        try: \n",
    "            ind = self.letters.index(letter)\n",
    "            return self.alphabet[ind]['sign']\n",
    "        except Exception as e: \n",
    "            print(f\"{letter} is not in the alphabet of this word. [{e}]\")\n",
    "\n",
    "    #---------------------------------------#\n",
    "    def RI(self, letter=None, index=0):\n",
    "        result = None\n",
    "        if letter:\n",
    "            new_word = self.word.replace(letter+letter,'')\n",
    "            if len(new_word) < len(self.word):\n",
    "                new_alphabet = [v for v in self.alphabet if not v['letter'] == letter]\n",
    "                result = type(self)(new_word, new_alphabet)\n",
    "        else:\n",
    "            for crossing in self.alphabet:\n",
    "                result = self.RI(letter=crossing['letter'])\n",
    "                if result:\n",
    "                    break\n",
    "        return result\n",
    "        \n",
    "    def RIi(self, letter=None, sign='a+', index=0):\n",
    "        result = None\n",
    "        if letter is None:\n",
    "            remaining_letters = [x for x in [chr(i) for i in  range(ord('A'), ord('Z')+1)] if x not in [v['letter'] for v in w.alphabet]]\n",
    "            letter = remaining_letters[0]\n",
    "        if letter not in [v['letter'] for v in self.alphabet]:\n",
    "            new_word = self.word[0:index]+letter+letter+self.word[index:-1]\n",
    "            new_alphabet = self.alphabet + [{'letter': letter, 'sign': sign}]\n",
    "            result = type(self)(new_word, new_alphabet)\n",
    "        return result        \n",
    "        \n",
    "    def RII(self, letters=None, index=0):\n",
    "        result = None\n",
    "        if letters:\n",
    "            if len(letters) == 2:\n",
    "                signs = list(map(lambda x: get_sign(x), letters))\n",
    "                if tau(signs[0]) == signs[1]:\n",
    "                    ll = letters[0]+letters[1]\n",
    "                    new_word = self.word.replace(ll, '').replace(ll.reversed(), '')\n",
    "        "
   ]
  },
  {
   "cell_type": "code",
   "execution_count": 169,
   "id": "4dcc5913-aa9e-4237-890d-71b30e2f7295",
   "metadata": {},
   "outputs": [],
   "source": [
    "w = nanoword(\"ABCDBAEFCDFE\", \n",
    "             [{'letter': \"A\", 'sign': 'b+'},\n",
    "              {'letter': \"B\", 'sign': 'b-'},\n",
    "              {'letter': \"C\", 'sign': 'a-'},\n",
    "              {'letter': \"D\", 'sign': 'a-'},\n",
    "              {'letter': \"E\", 'sign': 'b+'},\n",
    "              {'letter': \"F\", 'sign': 'b+'}])"
   ]
  },
  {
   "cell_type": "code",
   "execution_count": 171,
   "id": "ae8d83a1-36b8-4dc6-b2a1-20011f9d5596",
   "metadata": {},
   "outputs": [
    {
     "name": "stdout",
     "output_type": "stream",
     "text": [
      "None\n"
     ]
    }
   ],
   "source": [
    "print(w.RII())"
   ]
  },
  {
   "cell_type": "code",
   "execution_count": 158,
   "id": "fba55a9d-644f-493b-89cb-f6a62a16dbc5",
   "metadata": {},
   "outputs": [
    {
     "name": "stdout",
     "output_type": "stream",
     "text": [
      "ABCDGGBEFCDAF\n",
      "ABCDBEFCDAF\n"
     ]
    }
   ],
   "source": [
    "ww = w.RIi('G', index=4)\n",
    "print(ww)\n",
    "print(ww.RI())"
   ]
  },
  {
   "cell_type": "code",
   "execution_count": 12,
   "id": "93668e3a-09ed-4c44-8a59-48331b23ba6f",
   "metadata": {},
   "outputs": [
    {
     "name": "stdout",
     "output_type": "stream",
     "text": [
      "AA\n"
     ]
    }
   ],
   "source": [
    "ll = 'A'\n",
    "print(ll+ll)"
   ]
  }
 ],
 "metadata": {
  "kernelspec": {
   "display_name": "Python 3 (ipykernel)",
   "language": "python",
   "name": "python3"
  },
  "language_info": {
   "codemirror_mode": {
    "name": "ipython",
    "version": 3
   },
   "file_extension": ".py",
   "mimetype": "text/x-python",
   "name": "python",
   "nbconvert_exporter": "python",
   "pygments_lexer": "ipython3",
   "version": "3.11.8"
  }
 },
 "nbformat": 4,
 "nbformat_minor": 5
}
