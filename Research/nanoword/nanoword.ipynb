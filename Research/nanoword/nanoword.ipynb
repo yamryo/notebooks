{
 "cells": [
  {
   "cell_type": "markdown",
   "id": "ba76e3f3-0853-40ca-8cce-7974eefaaf43",
   "metadata": {
    "tags": []
   },
   "source": [
    "# ライブラリ"
   ]
  },
  {
   "cell_type": "code",
   "execution_count": 1,
   "id": "d10d7e0c-84ce-4c80-b147-bf928d46684d",
   "metadata": {},
   "outputs": [],
   "source": [
    "import numpy as np\n",
    "import itertools\n",
    "\n",
    "#from ipycanvas import Canvas"
   ]
  },
  {
   "cell_type": "markdown",
   "id": "021d6f08-416e-4aee-9683-b9f1b155967e",
   "metadata": {},
   "source": [
    "# Class of nanoword"
   ]
  },
  {
   "cell_type": "code",
   "execution_count": 2,
   "id": "a720757f-e45d-4514-a6d9-dbd7f57cd32f",
   "metadata": {
    "tags": []
   },
   "outputs": [],
   "source": [
    "SIGNS = ['a+', 'a-', 'b+', 'b-']\n",
    "FACTORS = [{'a+', 'b-'}, {'b+', 'a-'}]\n",
    "\n",
    "def get_factor(sign):\n",
    "    if not sign in SIGNS: raise ValueError(f\"{sign} is not in {SIGNS}\")\n",
    "    return FACTORS[0] if sign in FACTORS[0] else FACTORS[1]\n",
    "\n",
    "def tau(sign):\n",
    "    return (get_factor(sign) - {sign}).pop()\n",
    "\n",
    "def iota(self, sign):\n",
    "    result = sign.replace('+', '-')\n",
    "    if result == sign:\n",
    "        result = sign.replace('-', '+')\n",
    "    return result\n",
    "\n",
    "#---------------------------------\n",
    "ALL_CHARS = [chr(i) for i in  range(ord('A'), ord('Z')+1)]\n",
    "\n",
    "class Letter:\n",
    "    def __init__(self, char, sign):\n",
    "        if type(char) is not str or not len(char) == 1: raise ValueError(f\"{char} is not a letter\")\n",
    "        if not sign in SIGNS: raise ValueError(f\"{sign} is not in {SIGNS}\")\n",
    "        self.char = char\n",
    "        self.sign = sign\n",
    "\n",
    "    def __eq__(self, other):\n",
    "        return True if self.char == other.char else False\n",
    "\n",
    "class Nanoword:\n",
    "    def __init__(self, word, alphabet):\n",
    "        '''\n",
    "        word <-- a word on alphabet\n",
    "        alphabet <-- a list of letters\n",
    "        '''\n",
    "        self.word = word\n",
    "        self.alphabet = alphabet\n",
    "        self.chars = [l.char for l in self.alphabet]\n",
    "\n",
    "    def __str__(self):\n",
    "        return self.word\n",
    "        \n",
    "    def is_gauss_word(self):\n",
    "        '''\n",
    "        Check the word is a Gauss word or not.\n",
    "        '''\n",
    "        pass\n",
    "\n",
    "    def add_letter(self, a_letter):\n",
    "        pass\n",
    "        \n",
    "    #---------#\n",
    "    def rmi(self, char=None, index=0):\n",
    "        result = None\n",
    "        if char:\n",
    "            new_word = self.word.replace(char+char,'')\n",
    "            if len(new_word) < len(self.word):\n",
    "                new_alphabet = [l for l in self.alphabet if not l.char == char]\n",
    "                result = type(self)(new_word, new_alphabet)\n",
    "        else:\n",
    "            for c in self.chars:\n",
    "                result = self.rmi(char=c)\n",
    "                if result:\n",
    "                    break\n",
    "        return result\n",
    "        \n",
    "    def rmi_inv(self, letter=None, sign='a+', index=0):\n",
    "        result = None\n",
    "        if letter is None:\n",
    "            remaining_chars = [c for c in ALL_CHARS if c not in self.chars]\n",
    "            try:\n",
    "                letter = remaining_letters[0]\n",
    "            except Exception as e:\n",
    "                print(e)\n",
    "        elif letter.char not in self.chars:\n",
    "            c = letter.char\n",
    "            new_word = self.word[0:index]+c+c+self.word[index:-1]\n",
    "            new_alphabet = self.alphabet + [letter]\n",
    "            result = type(self)(new_word, new_alphabet)\n",
    "        return result        \n",
    "        \n",
    "    def rmii(self, chars=None, index=0):\n",
    "        result = None\n",
    "        if chars:\n",
    "            if len(chars) != 2: raise ValueError(f\"{chars} are not a pair of characters\")\n",
    "            letters = [l for l in self.alphabet if l.char in chars]\n",
    "            if tau(letters[0].sign) == letters[1].sign:\n",
    "                ll = chars[0]+chars[1]\n",
    "                new_word = self.word.replace(ll, '').replace(ll[::-1], '')\n",
    "                new_alphabet = [v for v in self.alphabet if not v in letters]\n",
    "                result = type(self)(new_word, new_alphabet)\n",
    "        else:\n",
    "            for pair in zip(self.word, self.word[1:]):\n",
    "                result = self.rmii(chars=list(pair))\n",
    "                if result:\n",
    "                    break\n",
    "        return result\n",
    "\n",
    "    def rmiii(self, letters=None, index=0):\n",
    "        result = None\n",
    "        if letters:\n",
    "            pass\n",
    "        else:\n",
    "            pass\n",
    "        return result"
   ]
  },
  {
   "cell_type": "code",
   "execution_count": 3,
   "id": "4dcc5913-aa9e-4237-890d-71b30e2f7295",
   "metadata": {},
   "outputs": [],
   "source": [
    "w = Nanoword(\"ABCDAECBFDFE\", \n",
    "             [Letter(\"A\",'b+'),\n",
    "              Letter(\"B\", 'b-'),\n",
    "              Letter(\"C\", 'a+'),\n",
    "              Letter(\"D\", 'a-'),\n",
    "              Letter(\"E\", 'b+'),\n",
    "              Letter(\"F\", 'a-')])"
   ]
  },
  {
   "cell_type": "code",
   "execution_count": 4,
   "id": "fba55a9d-644f-493b-89cb-f6a62a16dbc5",
   "metadata": {},
   "outputs": [
    {
     "name": "stdout",
     "output_type": "stream",
     "text": [
      "ABCDGGAECBFDF\n",
      "ABCDAECBFDF\n",
      "None\n",
      "ADGGAEFDF\n",
      "GGAEFDF\n"
     ]
    }
   ],
   "source": [
    "ww = w.rmi_inv(Letter('G', 'a+'), index=4)\n",
    "print(ww)\n",
    "print(ww.rmi())\n",
    "print(ww.rmii(['A','B']))\n",
    "www = ww.rmii()\n",
    "print(www)\n",
    "print(www.rmii())"
   ]
  }
 ],
 "metadata": {
  "kernelspec": {
   "display_name": "Python 3 (ipykernel)",
   "language": "python",
   "name": "python3"
  },
  "language_info": {
   "codemirror_mode": {
    "name": "ipython",
    "version": 3
   },
   "file_extension": ".py",
   "mimetype": "text/x-python",
   "name": "python",
   "nbconvert_exporter": "python",
   "pygments_lexer": "ipython3",
   "version": "3.12.3"
  }
 },
 "nbformat": 4,
 "nbformat_minor": 5
}
