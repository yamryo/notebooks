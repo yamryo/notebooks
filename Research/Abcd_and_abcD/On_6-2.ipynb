{
 "cells": [
  {
   "cell_type": "markdown",
   "id": "b3a46c7e-7ec3-4dec-a8ce-dd1b9d632b7a",
   "metadata": {
    "id": "b3a46c7e-7ec3-4dec-a8ce-dd1b9d632b7a"
   },
   "source": [
    "# On the fibered knot 6_2\n"
   ]
  },
  {
   "cell_type": "markdown",
   "id": "KPups8IJ6oYy",
   "metadata": {
    "id": "KPups8IJ6oYy"
   },
   "source": [
    "### Modules"
   ]
  },
  {
   "cell_type": "code",
   "execution_count": 3,
   "id": "14c7ea7c-d8c9-4a75-a3a9-ccde4f2bb0cc",
   "metadata": {
    "colab": {
     "base_uri": "https://localhost:8080/"
    },
    "executionInfo": {
     "elapsed": 19392,
     "status": "ok",
     "timestamp": 1726184657592,
     "user": {
      "displayName": "山本亮介",
      "userId": "01861936879830612877"
     },
     "user_tz": -540
    },
    "id": "14c7ea7c-d8c9-4a75-a3a9-ccde4f2bb0cc",
    "outputId": "365c2cd4-ee7f-4d2a-bc32-dd178eb49258",
    "scrolled": true
   },
   "outputs": [
    {
     "name": "stderr",
     "output_type": "stream",
     "text": [
      "/home/ryosuke/.venv/jupyter/lib/python3.12/site-packages/plink/gui.py:33: UserWarning: Plink failed to import tkinter, GUI will not be available\n",
      "  warnings.warn('Plink failed to import tkinter, GUI will not be available')\n"
     ]
    }
   ],
   "source": [
    "#import os\n",
    "#import numpy as np\n",
    "#import pandas as pd\n",
    "#import ast\n",
    "\n",
    "#from multiprocessing import Pool, cpu_count\n",
    "#from tqdm.notebook import tqdm\n",
    "\n",
    "from snappy import *\n",
    "S = twister.Surface('S_2_1')"
   ]
  },
  {
   "cell_type": "markdown",
   "id": "16d9ab3a-82d9-4e0d-9ff0-dee263c980b9",
   "metadata": {},
   "source": [
    "## monodromy"
   ]
  },
  {
   "cell_type": "code",
   "execution_count": 2,
   "id": "2b01aa51-9baf-4bdb-ba7a-1241f5ad2dcb",
   "metadata": {
    "executionInfo": {
     "elapsed": 6,
     "status": "aborted",
     "timestamp": 1726184657593,
     "user": {
      "displayName": "山本亮介",
      "userId": "01861936879830612877"
     },
     "user_tz": -540
    },
    "id": "TuLV1eo61SQ6"
   },
   "outputs": [
    {
     "name": "stdout",
     "output_type": "stream",
     "text": [
      "abcD\n"
     ]
    },
    {
     "ename": "NameError",
     "evalue": "name 'S' is not defined",
     "output_type": "error",
     "traceback": [
      "\u001b[31m---------------------------------------------------------------------------\u001b[39m",
      "\u001b[31mNameError\u001b[39m                                 Traceback (most recent call last)",
      "\u001b[36mCell\u001b[39m\u001b[36m \u001b[39m\u001b[32mIn[2]\u001b[39m\u001b[32m, line 4\u001b[39m\n\u001b[32m      1\u001b[39m md = \u001b[33m'\u001b[39m\u001b[33mabcD\u001b[39m\u001b[33m'\u001b[39m \u001b[38;5;66;03m#'dbcA' #'Dbca' #'ABCd' #'Dcba' #\u001b[39;00m\n\u001b[32m      2\u001b[39m \u001b[38;5;28mprint\u001b[39m(\u001b[33mf\u001b[39m\u001b[33m\"\u001b[39m\u001b[38;5;132;01m{\u001b[39;00mmd\u001b[38;5;132;01m}\u001b[39;00m\u001b[33m\"\u001b[39m) \n\u001b[32m----> \u001b[39m\u001b[32m4\u001b[39m M3 = \u001b[43mS\u001b[49m.bundle(monodromy=md)\n\u001b[32m      5\u001b[39m \u001b[38;5;28mprint\u001b[39m(M3.volume())\n\u001b[32m      7\u001b[39m L = M3.exterior_to_link()\n",
      "\u001b[31mNameError\u001b[39m: name 'S' is not defined"
     ]
    }
   ],
   "source": [
    "md = 'abcD' #'dbcA' #'Dbca' #'ABCd' #'Dcba' #\n",
    "print(f\"{md}\") \n",
    "\n",
    "M3 = S.bundle(monodromy=md)\n",
    "print(M3.volume())\n",
    "\n",
    "L = M3.exterior_to_link()\n",
    "print(len(L.DT_code()[0]))\n",
    "#pd = L.PD_code(); print(pd)\n",
    "\n",
    "hfk = L.knot_floer_homology()\n",
    "lmd = list(hfk['ranks'].keys())[-1][1]; print(f\"{lmd=}\")"
   ]
  },
  {
   "cell_type": "code",
   "execution_count": null,
   "id": "b9c6ebc5-d2c0-4e6a-a4fa-f93544ad547a",
   "metadata": {
    "executionInfo": {
     "elapsed": 6,
     "status": "aborted",
     "timestamp": 1726184657593,
     "user": {
      "displayName": "山本亮介",
      "userId": "01861936879830612877"
     },
     "user_tz": -540
    },
    "id": "TuLV1eo61SQ6"
   },
   "outputs": [],
   "source": [
    "Ms = [S.bundle(monodromy=mc) for mc in ['abcD', 'Dcba']]#'dCBA']]#'ABCd']]#\n",
    "print(f\"is_isometric?: {Ms[0].is_isometric_to(Ms[1])}\")"
   ]
  },
  {
   "cell_type": "code",
   "execution_count": null,
   "id": "504e6840-ff76-4281-a37b-87c99ed19b8c",
   "metadata": {
    "executionInfo": {
     "elapsed": 6,
     "status": "aborted",
     "timestamp": 1726184657593,
     "user": {
      "displayName": "山本亮介",
      "userId": "01861936879830612877"
     },
     "user_tz": -540
    },
    "id": "TuLV1eo61SQ6"
   },
   "outputs": [],
   "source": [
    "Ms = [S.bundle(monodromy=mc) for mc in ['abcD', 'dCBA']]#'ABCd']]#'Dcba']]\n",
    "print(f\"is_isometric?: {Ms[0].is_isometric_to(Ms[1])}\")"
   ]
  },
  {
   "cell_type": "code",
   "execution_count": null,
   "id": "6bd22f0b-256e-42ae-ae8c-68cf33e9611d",
   "metadata": {
    "executionInfo": {
     "elapsed": 6,
     "status": "aborted",
     "timestamp": 1726184657593,
     "user": {
      "displayName": "山本亮介",
      "userId": "01861936879830612877"
     },
     "user_tz": -540
    },
    "id": "TuLV1eo61SQ6"
   },
   "outputs": [],
   "source": [
    "Ms = [S.bundle(monodromy=mc) for mc in ['AbCd', 'abCD']]\n",
    "print(f\"is_isometric?: {Ms[0].is_isometric_to(Ms[1])}\")"
   ]
  },
  {
   "cell_type": "code",
   "execution_count": null,
   "id": "653bf6c1-96d6-4696-820f-a772246d077d",
   "metadata": {
    "executionInfo": {
     "elapsed": 6,
     "status": "aborted",
     "timestamp": 1726184657593,
     "user": {
      "displayName": "山本亮介",
      "userId": "01861936879830612877"
     },
     "user_tz": -540
    },
    "id": "TuLV1eo61SQ6"
   },
   "outputs": [],
   "source": [
    "Ms = [S.bundle(monodromy=mc) for mc in ['ABcd', 'aBcD']]\n",
    "print(f\"is_isometric?: {Ms[0].is_isometric_to(Ms[1])}\")"
   ]
  },
  {
   "cell_type": "code",
   "execution_count": null,
   "id": "95357853-5147-4e11-8a50-3feb05c3736f",
   "metadata": {
    "executionInfo": {
     "elapsed": 6,
     "status": "aborted",
     "timestamp": 1726184657593,
     "user": {
      "displayName": "山本亮介",
      "userId": "01861936879830612877"
     },
     "user_tz": -540
    },
    "id": "TuLV1eo61SQ6",
    "scrolled": true
   },
   "outputs": [],
   "source": [
    "Ms = [S.bundle(monodromy=mc) for mc in ['dAbB', 'DabB']]\n",
    "print(f\"is_isometric?: {Ms[0].is_isometric_to(Ms[1])}\")"
   ]
  },
  {
   "cell_type": "code",
   "execution_count": null,
   "id": "b1693685-bbc7-46c0-a678-cb26e0d69aca",
   "metadata": {
    "executionInfo": {
     "elapsed": 6,
     "status": "aborted",
     "timestamp": 1726184657593,
     "user": {
      "displayName": "山本亮介",
      "userId": "01861936879830612877"
     },
     "user_tz": -540
    },
    "id": "TuLV1eo61SQ6"
   },
   "outputs": [],
   "source": [
    "Ms = [S.bundle(monodromy=mc) for mc in ['fecFbaBfCEF'+'C'+'Dbca', 'dcbA']]\n",
    "print(f\"is_isometric?: {Ms[0].is_isometric_to(Ms[1])}\")"
   ]
  },
  {
   "cell_type": "code",
   "execution_count": null,
   "id": "b51bd178-f2bb-4601-a2ce-97e3cb65a012",
   "metadata": {
    "executionInfo": {
     "elapsed": 6,
     "status": "aborted",
     "timestamp": 1726184657593,
     "user": {
      "displayName": "山本亮介",
      "userId": "01861936879830612877"
     },
     "user_tz": -540
    },
    "id": "TuLV1eo61SQ6"
   },
   "outputs": [],
   "source": [
    "Ms = [S.bundle(monodromy=mc) for mc in ['DCBA'+'Abcd'+'abcd', 'abcD']]\n",
    "print(f\"is_isometric?: {Ms[0].is_isometric_to(Ms[1])}\")"
   ]
  },
  {
   "cell_type": "code",
   "execution_count": null,
   "id": "ca02daec-5da3-43bd-844a-46b07e501d89",
   "metadata": {
    "executionInfo": {
     "elapsed": 6,
     "status": "aborted",
     "timestamp": 1726184657593,
     "user": {
      "displayName": "山本亮介",
      "userId": "01861936879830612877"
     },
     "user_tz": -540
    },
    "id": "TuLV1eo61SQ6"
   },
   "outputs": [],
   "source": [
    "Ms = [S.bundle(monodromy=mc) for mc in ['Abcd', 'abfD']]\n",
    "print(f\"is_isometric?: {Ms[0].is_isometric_to(Ms[1])}\")"
   ]
  },
  {
   "cell_type": "markdown",
   "id": "4d32ba2e-cffc-4f1f-ace9-b92e58aba691",
   "metadata": {},
   "source": [
    "## Sequence of annulus twisted 6_2"
   ]
  },
  {
   "cell_type": "code",
   "execution_count": null,
   "id": "53fe6492-da40-4861-b337-055d576737e1",
   "metadata": {
    "executionInfo": {
     "elapsed": 6,
     "status": "aborted",
     "timestamp": 1726184657593,
     "user": {
      "displayName": "山本亮介",
      "userId": "01861936879830612877"
     },
     "user_tz": -540
    },
    "id": "TuLV1eo61SQ6"
   },
   "outputs": [],
   "source": [
    "def inv(s):\n",
    "    return s[::-1].swapcase()\n",
    "def conj(x,y):\n",
    "    return y + x + inv(y)\n",
    "#----------\n",
    "phi = 'fecFb'\n",
    "\n",
    "def A(n):\n",
    "    if n == 0:\n",
    "        return ''\n",
    "    elif n > 0:\n",
    "        return conj('a'*n, phi) + ('C'*n)\n",
    "    else:\n",
    "        return conj('A'*(abs(n)), phi) + ('c'*abs(n))\n",
    "#----------\n",
    "for n in [-2, -1, 0, 1, 2, 3]:\n",
    "    mc = A(n) + 'Dbca'\n",
    "#    mc = mc.swapcase() #mc[::-1]\n",
    "\n",
    "    M = S.bundle(monodromy=mc)\n",
    "    print(f\"{n}/ {mc} --> vol={M.volume()}\")\n",
    "\n",
    "    L = M.exterior_to_link()\n",
    "    print(len(L.DT_code()[0]))\n",
    "    hfk = L.knot_floer_homology()\n",
    "\n",
    "#    MM = Manifold('6_3').dehn_fill((1,0))\n",
    "#    print(f\"vol={MM.volume()}\")\n",
    "    \n",
    "    lmd = list(hfk['ranks'].keys())[-1][1]; print(f\"{lmd=}\\n-----\\n\")"
   ]
  }
 ],
 "metadata": {
  "colab": {
   "collapsed_sections": [
    "PGII4NrboFOE"
   ],
   "provenance": []
  },
  "kernelspec": {
   "display_name": "Python 3 (ipykernel)",
   "language": "python",
   "name": "python3"
  },
  "language_info": {
   "codemirror_mode": {
    "name": "ipython",
    "version": 3
   },
   "file_extension": ".py",
   "mimetype": "text/x-python",
   "name": "python",
   "nbconvert_exporter": "python",
   "pygments_lexer": "ipython3",
   "version": "3.12.3"
  }
 },
 "nbformat": 4,
 "nbformat_minor": 5
}
