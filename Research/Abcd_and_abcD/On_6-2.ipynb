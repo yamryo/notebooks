{
 "cells": [
  {
   "cell_type": "markdown",
   "id": "b3a46c7e-7ec3-4dec-a8ce-dd1b9d632b7a",
   "metadata": {
    "id": "b3a46c7e-7ec3-4dec-a8ce-dd1b9d632b7a"
   },
   "source": [
    "# On the fibered knot 6_2\n"
   ]
  },
  {
   "cell_type": "markdown",
   "id": "KPups8IJ6oYy",
   "metadata": {
    "id": "KPups8IJ6oYy",
    "jp-MarkdownHeadingCollapsed": true
   },
   "source": [
    "### Modules"
   ]
  },
  {
   "cell_type": "code",
   "execution_count": 1,
   "id": "14c7ea7c-d8c9-4a75-a3a9-ccde4f2bb0cc",
   "metadata": {
    "colab": {
     "base_uri": "https://localhost:8080/"
    },
    "executionInfo": {
     "elapsed": 19392,
     "status": "ok",
     "timestamp": 1726184657592,
     "user": {
      "displayName": "山本亮介",
      "userId": "01861936879830612877"
     },
     "user_tz": -540
    },
    "id": "14c7ea7c-d8c9-4a75-a3a9-ccde4f2bb0cc",
    "outputId": "365c2cd4-ee7f-4d2a-bc32-dd178eb49258",
    "scrolled": true
   },
   "outputs": [],
   "source": [
    "#import os\n",
    "#import numpy as np\n",
    "#import pandas as pd\n",
    "#import ast\n",
    "\n",
    "#from multiprocessing import Pool, cpu_count\n",
    "#from tqdm.notebook import tqdm\n",
    "\n",
    "from snappy import *\n",
    "S = twister.Surface('S_2_1')"
   ]
  },
  {
   "cell_type": "markdown",
   "id": "16d9ab3a-82d9-4e0d-9ff0-dee263c980b9",
   "metadata": {},
   "source": [
    "## monodromy"
   ]
  },
  {
   "cell_type": "code",
   "execution_count": 2,
   "id": "2b01aa51-9baf-4bdb-ba7a-1241f5ad2dcb",
   "metadata": {
    "executionInfo": {
     "elapsed": 6,
     "status": "aborted",
     "timestamp": 1726184657593,
     "user": {
      "displayName": "山本亮介",
      "userId": "01861936879830612877"
     },
     "user_tz": -540
    },
    "id": "TuLV1eo61SQ6"
   },
   "outputs": [
    {
     "name": "stdout",
     "output_type": "stream",
     "text": [
      "abcD\n",
      "4.40083251612\n",
      "6\n",
      "lmd=3\n"
     ]
    }
   ],
   "source": [
    "md = 'abcD' #'dbcA' #'Dbca' #'ABCd' #'Dcba' #\n",
    "print(f\"{md}\") \n",
    "\n",
    "M3 = S.bundle(monodromy=md)\n",
    "print(M3.volume())\n",
    "\n",
    "L = M3.exterior_to_link()\n",
    "print(len(L.DT_code()[0]))\n",
    "#pd = L.PD_code(); print(pd)\n",
    "\n",
    "hfk = L.knot_floer_homology()\n",
    "lmd = list(hfk['ranks'].keys())[-1][1]; print(f\"{lmd=}\")"
   ]
  },
  {
   "cell_type": "code",
   "execution_count": 14,
   "id": "b9c6ebc5-d2c0-4e6a-a4fa-f93544ad547a",
   "metadata": {
    "executionInfo": {
     "elapsed": 6,
     "status": "aborted",
     "timestamp": 1726184657593,
     "user": {
      "displayName": "山本亮介",
      "userId": "01861936879830612877"
     },
     "user_tz": -540
    },
    "id": "TuLV1eo61SQ6"
   },
   "outputs": [
    {
     "name": "stdout",
     "output_type": "stream",
     "text": [
      "is_isometric?: True\n"
     ]
    }
   ],
   "source": [
    "Ms = [S.bundle(monodromy=mc) for mc in ['abcD', 'Dcba']]#'dCBA']]#'ABCd']]#\n",
    "print(f\"is_isometric?: {Ms[0].is_isometric_to(Ms[1])}\")"
   ]
  },
  {
   "cell_type": "code",
   "execution_count": 5,
   "id": "504e6840-ff76-4281-a37b-87c99ed19b8c",
   "metadata": {
    "executionInfo": {
     "elapsed": 6,
     "status": "aborted",
     "timestamp": 1726184657593,
     "user": {
      "displayName": "山本亮介",
      "userId": "01861936879830612877"
     },
     "user_tz": -540
    },
    "id": "TuLV1eo61SQ6"
   },
   "outputs": [
    {
     "name": "stdout",
     "output_type": "stream",
     "text": [
      "is_isometric?: True\n"
     ]
    }
   ],
   "source": [
    "Ms = [S.bundle(monodromy=mc) for mc in ['abcD', 'dCBA']]#'ABCd']]#'Dcba']]\n",
    "print(f\"is_isometric?: {Ms[0].is_isometric_to(Ms[1])}\")"
   ]
  },
  {
   "cell_type": "code",
   "execution_count": 6,
   "id": "6bd22f0b-256e-42ae-ae8c-68cf33e9611d",
   "metadata": {
    "executionInfo": {
     "elapsed": 6,
     "status": "aborted",
     "timestamp": 1726184657593,
     "user": {
      "displayName": "山本亮介",
      "userId": "01861936879830612877"
     },
     "user_tz": -540
    },
    "id": "TuLV1eo61SQ6"
   },
   "outputs": [
    {
     "name": "stdout",
     "output_type": "stream",
     "text": [
      "is_isometric?: False\n"
     ]
    }
   ],
   "source": [
    "Ms = [S.bundle(monodromy=mc) for mc in ['AbCd', 'abCD']]\n",
    "print(f\"is_isometric?: {Ms[0].is_isometric_to(Ms[1])}\")"
   ]
  },
  {
   "cell_type": "code",
   "execution_count": 7,
   "id": "653bf6c1-96d6-4696-820f-a772246d077d",
   "metadata": {
    "executionInfo": {
     "elapsed": 6,
     "status": "aborted",
     "timestamp": 1726184657593,
     "user": {
      "displayName": "山本亮介",
      "userId": "01861936879830612877"
     },
     "user_tz": -540
    },
    "id": "TuLV1eo61SQ6"
   },
   "outputs": [
    {
     "name": "stdout",
     "output_type": "stream",
     "text": [
      "is_isometric?: False\n"
     ]
    }
   ],
   "source": [
    "Ms = [S.bundle(monodromy=mc) for mc in ['ABcd', 'aBcD']]\n",
    "print(f\"is_isometric?: {Ms[0].is_isometric_to(Ms[1])}\")"
   ]
  },
  {
   "cell_type": "code",
   "execution_count": 8,
   "id": "95357853-5147-4e11-8a50-3feb05c3736f",
   "metadata": {
    "executionInfo": {
     "elapsed": 6,
     "status": "aborted",
     "timestamp": 1726184657593,
     "user": {
      "displayName": "山本亮介",
      "userId": "01861936879830612877"
     },
     "user_tz": -540
    },
    "id": "TuLV1eo61SQ6",
    "scrolled": true
   },
   "outputs": [
    {
     "ename": "RuntimeError",
     "evalue": "The SnapPea kernel was not able to determine if the manifolds are isometric.",
     "output_type": "error",
     "traceback": [
      "\u001b[0;31m---------------------------------------------------------------------------\u001b[0m",
      "\u001b[0;31mRuntimeError\u001b[0m                              Traceback (most recent call last)",
      "Cell \u001b[0;32mIn[8], line 2\u001b[0m\n\u001b[1;32m      1\u001b[0m Ms \u001b[38;5;241m=\u001b[39m [S\u001b[38;5;241m.\u001b[39mbundle(monodromy\u001b[38;5;241m=\u001b[39mmc) \u001b[38;5;28;01mfor\u001b[39;00m mc \u001b[38;5;129;01min\u001b[39;00m [\u001b[38;5;124m'\u001b[39m\u001b[38;5;124mdAbB\u001b[39m\u001b[38;5;124m'\u001b[39m, \u001b[38;5;124m'\u001b[39m\u001b[38;5;124mDabB\u001b[39m\u001b[38;5;124m'\u001b[39m]]\n\u001b[0;32m----> 2\u001b[0m \u001b[38;5;28mprint\u001b[39m(\u001b[38;5;124mf\u001b[39m\u001b[38;5;124m\"\u001b[39m\u001b[38;5;124mis_isometric?: \u001b[39m\u001b[38;5;132;01m{\u001b[39;00m\u001b[43mMs\u001b[49m\u001b[43m[\u001b[49m\u001b[38;5;241;43m0\u001b[39;49m\u001b[43m]\u001b[49m\u001b[38;5;241;43m.\u001b[39;49m\u001b[43mis_isometric_to\u001b[49m\u001b[43m(\u001b[49m\u001b[43mMs\u001b[49m\u001b[43m[\u001b[49m\u001b[38;5;241;43m1\u001b[39;49m\u001b[43m]\u001b[49m\u001b[43m)\u001b[49m\u001b[38;5;132;01m}\u001b[39;00m\u001b[38;5;124m\"\u001b[39m)\n",
      "File \u001b[0;32m~/workspace/Projects/notebooks/venv/lib/python3.12/site-packages/snappy/__init__.py:94\u001b[0m, in \u001b[0;36mManifold.is_isometric_to\u001b[0;34m(self, other, return_isometries)\u001b[0m\n\u001b[1;32m     91\u001b[0m \u001b[38;5;28;01mif\u001b[39;00m other\u001b[38;5;241m.\u001b[39m\u001b[38;5;18m__class__\u001b[39m \u001b[38;5;129;01mis\u001b[39;00m ManifoldHP:\n\u001b[1;32m     92\u001b[0m     \u001b[38;5;28;01mreturn\u001b[39;00m _ManifoldHP\u001b[38;5;241m.\u001b[39mis_isometric_to(\u001b[38;5;28mself\u001b[39m\u001b[38;5;241m.\u001b[39mhigh_precision(), other,\n\u001b[1;32m     93\u001b[0m                                           return_isometries)\n\u001b[0;32m---> 94\u001b[0m \u001b[38;5;28;01mreturn\u001b[39;00m \u001b[43m_ManifoldLP\u001b[49m\u001b[38;5;241;43m.\u001b[39;49m\u001b[43mis_isometric_to\u001b[49m\u001b[43m(\u001b[49m\u001b[38;5;28;43mself\u001b[39;49m\u001b[43m,\u001b[49m\u001b[43m \u001b[49m\u001b[43mother\u001b[49m\u001b[43m,\u001b[49m\u001b[43m \u001b[49m\u001b[43mreturn_isometries\u001b[49m\u001b[43m)\u001b[49m\n",
      "File \u001b[0;32mcython/core/manifold.pyx:1597\u001b[0m, in \u001b[0;36mSnapPy.Manifold.is_isometric_to\u001b[0;34m()\u001b[0m\n",
      "\u001b[0;31mRuntimeError\u001b[0m: The SnapPea kernel was not able to determine if the manifolds are isometric."
     ]
    }
   ],
   "source": [
    "Ms = [S.bundle(monodromy=mc) for mc in ['dAbB', 'DabB']]\n",
    "print(f\"is_isometric?: {Ms[0].is_isometric_to(Ms[1])}\")"
   ]
  },
  {
   "cell_type": "code",
   "execution_count": 9,
   "id": "b1693685-bbc7-46c0-a678-cb26e0d69aca",
   "metadata": {
    "executionInfo": {
     "elapsed": 6,
     "status": "aborted",
     "timestamp": 1726184657593,
     "user": {
      "displayName": "山本亮介",
      "userId": "01861936879830612877"
     },
     "user_tz": -540
    },
    "id": "TuLV1eo61SQ6"
   },
   "outputs": [
    {
     "name": "stdout",
     "output_type": "stream",
     "text": [
      "is_isometric?: True\n"
     ]
    }
   ],
   "source": [
    "Ms = [S.bundle(monodromy=mc) for mc in ['fecFbaBfCEF'+'C'+'Dbca', 'dcbA']]\n",
    "print(f\"is_isometric?: {Ms[0].is_isometric_to(Ms[1])}\")"
   ]
  },
  {
   "cell_type": "code",
   "execution_count": 10,
   "id": "b51bd178-f2bb-4601-a2ce-97e3cb65a012",
   "metadata": {
    "executionInfo": {
     "elapsed": 6,
     "status": "aborted",
     "timestamp": 1726184657593,
     "user": {
      "displayName": "山本亮介",
      "userId": "01861936879830612877"
     },
     "user_tz": -540
    },
    "id": "TuLV1eo61SQ6"
   },
   "outputs": [
    {
     "name": "stdout",
     "output_type": "stream",
     "text": [
      "is_isometric?: True\n"
     ]
    }
   ],
   "source": [
    "Ms = [S.bundle(monodromy=mc) for mc in ['DCBA'+'Abcd'+'abcd', 'abcD']]\n",
    "print(f\"is_isometric?: {Ms[0].is_isometric_to(Ms[1])}\")"
   ]
  },
  {
   "cell_type": "code",
   "execution_count": 11,
   "id": "ca02daec-5da3-43bd-844a-46b07e501d89",
   "metadata": {
    "executionInfo": {
     "elapsed": 6,
     "status": "aborted",
     "timestamp": 1726184657593,
     "user": {
      "displayName": "山本亮介",
      "userId": "01861936879830612877"
     },
     "user_tz": -540
    },
    "id": "TuLV1eo61SQ6"
   },
   "outputs": [
    {
     "name": "stdout",
     "output_type": "stream",
     "text": [
      "is_isometric?: False\n"
     ]
    }
   ],
   "source": [
    "Ms = [S.bundle(monodromy=mc) for mc in ['Abcd', 'abfD']]\n",
    "print(f\"is_isometric?: {Ms[0].is_isometric_to(Ms[1])}\")"
   ]
  },
  {
   "cell_type": "markdown",
   "id": "4d32ba2e-cffc-4f1f-ace9-b92e58aba691",
   "metadata": {},
   "source": [
    "## Sequence of annulus twisted 6_2"
   ]
  },
  {
   "cell_type": "code",
   "execution_count": null,
   "id": "53fe6492-da40-4861-b337-055d576737e1",
   "metadata": {
    "executionInfo": {
     "elapsed": 6,
     "status": "aborted",
     "timestamp": 1726184657593,
     "user": {
      "displayName": "山本亮介",
      "userId": "01861936879830612877"
     },
     "user_tz": -540
    },
    "id": "TuLV1eo61SQ6"
   },
   "outputs": [],
   "source": [
    "def inv(s):\n",
    "    return s[::-1].swapcase()\n",
    "def conj(x,y):\n",
    "    return y + x + inv(y)\n",
    "#----------\n",
    "phi = 'fecFb'\n",
    "\n",
    "def A(n):\n",
    "    if n == 0:\n",
    "        return ''\n",
    "    elif n > 0:\n",
    "        return conj('a'*n, phi) + ('C'*n)\n",
    "    else:\n",
    "        return conj('A'*(abs(n)), phi) + ('c'*abs(n))\n",
    "#----------\n",
    "for n in [-2, -1, 0, 1, 2, 3]:\n",
    "    mc = A(n) + 'Dbca'\n",
    "#    mc = mc.swapcase() #mc[::-1]\n",
    "\n",
    "    M = S.bundle(monodromy=mc)\n",
    "    print(f\"{n}/ {mc} --> vol={M.volume()}\")\n",
    "\n",
    "    L = M.exterior_to_link()\n",
    "    print(len(L.DT_code()[0]))\n",
    "    hfk = L.knot_floer_homology()\n",
    "\n",
    "#    MM = Manifold('6_3').dehn_fill((1,0))\n",
    "#    print(f\"vol={MM.volume()}\")\n",
    "    \n",
    "    lmd = list(hfk['ranks'].keys())[-1][1]; print(f\"{lmd=}\\n-----\\n\")"
   ]
  }
 ],
 "metadata": {
  "colab": {
   "collapsed_sections": [
    "PGII4NrboFOE"
   ],
   "provenance": []
  },
  "kernelspec": {
   "display_name": "Python 3 (ipykernel)",
   "language": "python",
   "name": "python3"
  },
  "language_info": {
   "codemirror_mode": {
    "name": "ipython",
    "version": 3
   },
   "file_extension": ".py",
   "mimetype": "text/x-python",
   "name": "python",
   "nbconvert_exporter": "python",
   "pygments_lexer": "ipython3",
   "version": "3.12.6"
  }
 },
 "nbformat": 4,
 "nbformat_minor": 5
}
