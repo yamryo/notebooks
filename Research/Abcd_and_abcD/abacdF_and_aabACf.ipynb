{
 "cells": [
  {
   "cell_type": "code",
   "execution_count": 4,
   "id": "0053f610-dbb7-42e1-83b4-01f30cf98482",
   "metadata": {},
   "outputs": [],
   "source": [
    "import sys; sys.path.append(\"../modules\")\n",
    "from Ideal_elm_pair_class import *\n",
    "%display latex"
   ]
  },
  {
   "cell_type": "code",
   "execution_count": 142,
   "id": "3c0d8389-3032-449f-8905-21b2f04f2a56",
   "metadata": {},
   "outputs": [
    {
     "data": {
      "text/html": [
       "<html>\\(\\displaystyle \\left[\\left(\\begin{array}{rrrr}\n",
       "0 & 1 & 1 & 0 \\\\\n",
       "-1 & 1 & -1 & 0 \\\\\n",
       "1 & -2 & 0 & 1 \\\\\n",
       "0 & 0 & -1 & 0\n",
       "\\end{array}\\right), \\left(\\begin{array}{rrrr}\n",
       "2 & 3 & -1 & -1 \\\\\n",
       "-3 & -4 & 2 & 2 \\\\\n",
       "-1 & -2 & 2 & 1 \\\\\n",
       "0 & 0 & 1 & 1\n",
       "\\end{array}\\right)\\right]\\)</html>"
      ],
      "text/latex": [
       "$\\displaystyle \\left[\\left(\\begin{array}{rrrr}\n",
       "0 & 1 & 1 & 0 \\\\\n",
       "-1 & 1 & -1 & 0 \\\\\n",
       "1 & -2 & 0 & 1 \\\\\n",
       "0 & 0 & -1 & 0\n",
       "\\end{array}\\right), \\left(\\begin{array}{rrrr}\n",
       "2 & 3 & -1 & -1 \\\\\n",
       "-3 & -4 & 2 & 2 \\\\\n",
       "-1 & -2 & 2 & 1 \\\\\n",
       "0 & 0 & 1 & 1\n",
       "\\end{array}\\right)\\right]$"
      ],
      "text/plain": [
       "[\n",
       "[ 0  1  1  0]  [ 2  3 -1 -1]\n",
       "[-1  1 -1  0]  [-3 -4  2  2]\n",
       "[ 1 -2  0  1]  [-1 -2  2  1]\n",
       "[ 0  0 -1  0], [ 0  0  1  1]\n",
       "]"
      ]
     },
     "metadata": {},
     "output_type": "display_data"
    },
    {
     "data": {
      "text/html": [
       "<html>\\(\\displaystyle \\verb|{t^4|\\verb| |\\verb|-|\\verb| |\\verb|t^3|\\verb| |\\verb|-|\\verb| |\\verb|t^2|\\verb| |\\verb|-|\\verb| |\\verb|t|\\verb| |\\verb|+|\\verb| |\\verb|1}|\\)</html>"
      ],
      "text/latex": [
       "$\\displaystyle \\verb|{t^4|\\verb| |\\verb|-|\\verb| |\\verb|t^3|\\verb| |\\verb|-|\\verb| |\\verb|t^2|\\verb| |\\verb|-|\\verb| |\\verb|t|\\verb| |\\verb|+|\\verb| |\\verb|1}|$"
      ],
      "text/plain": [
       "{t^4 - t^3 - t^2 - t + 1}"
      ]
     },
     "metadata": {},
     "output_type": "display_data"
    },
    {
     "data": {
      "text/html": [
       "<html>\\(\\displaystyle \\left[\\left(1,\\,\\alpha^{3} + \\alpha^{2} + \\alpha,\\,-\\alpha^{3} - \\alpha^{2},\\,\\alpha^{2} + \\alpha\\right), \\left(1,\\,\\alpha^{3} + \\alpha^{2} + \\alpha - 1,\\,2 \\alpha^{3} + \\alpha^{2} - 2,\\,\\alpha^{3} + 2 \\alpha^{2} + 2 \\alpha + 1\\right)\\right]\\)</html>"
      ],
      "text/latex": [
       "$\\displaystyle \\left[\\left(1,\\,\\alpha^{3} + \\alpha^{2} + \\alpha,\\,-\\alpha^{3} - \\alpha^{2},\\,\\alpha^{2} + \\alpha\\right), \\left(1,\\,\\alpha^{3} + \\alpha^{2} + \\alpha - 1,\\,2 \\alpha^{3} + \\alpha^{2} - 2,\\,\\alpha^{3} + 2 \\alpha^{2} + 2 \\alpha + 1\\right)\\right]$"
      ],
      "text/plain": [
       "[(1, alpha^3 + alpha^2 + alpha, -alpha^3 - alpha^2, alpha^2 + alpha),\n",
       " (1, alpha^3 + alpha^2 + alpha - 1, 2*alpha^3 + alpha^2 - 2, alpha^3 + 2*alpha^2 + 2*alpha + 1)]"
      ]
     },
     "metadata": {},
     "output_type": "display_data"
    },
    {
     "data": {
      "text/html": [
       "<html>\\(\\displaystyle \\left[\\alpha^{3} - \\alpha^{2} - 2 \\alpha - 2, -3 \\alpha^{3} + 3 \\alpha^{2} + 6 \\alpha + 7\\right]\\)</html>"
      ],
      "text/latex": [
       "$\\displaystyle \\left[\\alpha^{3} - \\alpha^{2} - 2 \\alpha - 2, -3 \\alpha^{3} + 3 \\alpha^{2} + 6 \\alpha + 7\\right]$"
      ],
      "text/plain": [
       "[alpha^3 - alpha^2 - 2*alpha - 2, -3*alpha^3 + 3*alpha^2 + 6*alpha + 7]"
      ]
     },
     "metadata": {},
     "output_type": "display_data"
    }
   ],
   "source": [
    "monodromy_list = ['abacdF', 'aabACf'] #['abcd', 'abaCDf'] #['Abcd', 'abcD'] #['abCDf', 'abbCDf', 'aaBACBaadf', 'abbbCDf'] #\n",
    "\n",
    "ideal_list = [ideal(m) for m in monodromy_list]\n",
    "matarr = [i.matrix for i in ideal_list]; display(matarr)\n",
    "pset = set([i.char_poly for i in ideal_list]); display(pset)\n",
    "varr = [i.eigen_vector for i in ideal_list]; display(varr)\n",
    "marr = [i.generator for i in ideal_list]; display(marr)"
   ]
  },
  {
   "cell_type": "code",
   "execution_count": 151,
   "id": "4bbf5c83-4b5f-439a-afd0-0f79be82f95b",
   "metadata": {},
   "outputs": [
    {
     "name": "stdout",
     "output_type": "stream",
     "text": [
      "c = alpha^3 - alpha^2 - 2*alpha + 1,  c=tau(c)?--> True\n"
     ]
    },
    {
     "data": {
      "text/html": [
       "<html>\\(\\displaystyle \\left[-1, \\alpha, -\\alpha^{3} + \\alpha^{2} + \\alpha\\right]\\)</html>"
      ],
      "text/latex": [
       "$\\displaystyle \\left[-1, \\alpha, -\\alpha^{3} + \\alpha^{2} + \\alpha\\right]$"
      ],
      "text/plain": [
       "[-1, alpha, -alpha^3 + alpha^2 + alpha]"
      ]
     },
     "metadata": {},
     "output_type": "display_data"
    },
    {
     "data": {
      "text/html": [
       "<html>\\(\\displaystyle \\mathrm{True}\\)</html>"
      ],
      "text/latex": [
       "$\\displaystyle \\mathrm{True}$"
      ],
      "text/plain": [
       "True"
      ]
     },
     "execution_count": 151,
     "metadata": {},
     "output_type": "execute_result"
    }
   ],
   "source": [
    "i = ideal_list[0]\n",
    "\n",
    "z,w = marr\n",
    "c = z/w\n",
    "print(f\"{c = },  c=tau(c)?-->\", c==i.tau(c))\n",
    "\n",
    "u0, u1, u2 = i.UnitGroup.gens_values()\n",
    "display([u0, u1, u2])\n",
    "#print(i.equiv_rel(w))\n",
    "\n",
    "ids, u = conjugate_check(*monodromy_list)\n",
    "c == u*(i.tau(u))"
   ]
  },
  {
   "cell_type": "code",
   "execution_count": 25,
   "id": "053dff00-3635-47b5-9075-4a29bfe02f8f",
   "metadata": {},
   "outputs": [
    {
     "name": "stdout",
     "output_type": "stream",
     "text": [
      "整数基: [1, alpha, alpha^2, alpha^3]\n",
      "類数: 1\n"
     ]
    }
   ],
   "source": [
    "OK = i.field.ring_of_integers()\n",
    "print(\"整数基:\", OK.basis())\n",
    "print(\"類数:\", OK.class_number())"
   ]
  },
  {
   "cell_type": "code",
   "execution_count": 152,
   "id": "dec1ccf9-7ed3-41b1-8b28-a1823b89f5da",
   "metadata": {},
   "outputs": [
    {
     "data": {
      "text/html": [
       "<html>\\(\\displaystyle \\left[\\left(\\begin{array}{rrrr}\n",
       "0 & 1 & 1 & 0 \\\\\n",
       "-1 & 1 & -1 & 0 \\\\\n",
       "1 & -2 & 0 & 1 \\\\\n",
       "0 & 0 & -1 & 0\n",
       "\\end{array}\\right), \\left(\\begin{array}{rrrr}\n",
       "2 & 3 & -1 & -1 \\\\\n",
       "-3 & -4 & 2 & 2 \\\\\n",
       "-1 & -2 & 2 & 1 \\\\\n",
       "0 & 0 & 1 & 1\n",
       "\\end{array}\\right)\\right]\\)</html>"
      ],
      "text/latex": [
       "$\\displaystyle \\left[\\left(\\begin{array}{rrrr}\n",
       "0 & 1 & 1 & 0 \\\\\n",
       "-1 & 1 & -1 & 0 \\\\\n",
       "1 & -2 & 0 & 1 \\\\\n",
       "0 & 0 & -1 & 0\n",
       "\\end{array}\\right), \\left(\\begin{array}{rrrr}\n",
       "2 & 3 & -1 & -1 \\\\\n",
       "-3 & -4 & 2 & 2 \\\\\n",
       "-1 & -2 & 2 & 1 \\\\\n",
       "0 & 0 & 1 & 1\n",
       "\\end{array}\\right)\\right]$"
      ],
      "text/plain": [
       "[\n",
       "[ 0  1  1  0]  [ 2  3 -1 -1]\n",
       "[-1  1 -1  0]  [-3 -4  2  2]\n",
       "[ 1 -2  0  1]  [-1 -2  2  1]\n",
       "[ 0  0 -1  0], [ 0  0  1  1]\n",
       "]"
      ]
     },
     "metadata": {},
     "output_type": "display_data"
    },
    {
     "data": {
      "text/html": [
       "<html>\\(\\displaystyle \\left(1,\\,\\alpha^{3} + \\alpha^{2} + \\alpha,\\,-\\alpha^{3} - \\alpha^{2},\\,\\alpha^{2} + \\alpha\\right)\\)</html>"
      ],
      "text/latex": [
       "$\\displaystyle \\left(1,\\,\\alpha^{3} + \\alpha^{2} + \\alpha,\\,-\\alpha^{3} - \\alpha^{2},\\,\\alpha^{2} + \\alpha\\right)$"
      ],
      "text/plain": [
       "(1, alpha^3 + alpha^2 + alpha, -alpha^3 - alpha^2, alpha^2 + alpha)"
      ]
     },
     "metadata": {},
     "output_type": "display_data"
    },
    {
     "data": {
      "text/html": [
       "<html>\\(\\displaystyle \\mathrm{True}\\)</html>"
      ],
      "text/latex": [
       "$\\displaystyle \\mathrm{True}$"
      ],
      "text/plain": [
       "True"
      ]
     },
     "metadata": {},
     "output_type": "display_data"
    },
    {
     "data": {
      "text/html": [
       "<html>\\(\\displaystyle \\left(1,\\,\\alpha^{3} + \\alpha^{2} + \\alpha - 1,\\,2 \\alpha^{3} + \\alpha^{2} - 2,\\,\\alpha^{3} + 2 \\alpha^{2} + 2 \\alpha + 1\\right)\\)</html>"
      ],
      "text/latex": [
       "$\\displaystyle \\left(1,\\,\\alpha^{3} + \\alpha^{2} + \\alpha - 1,\\,2 \\alpha^{3} + \\alpha^{2} - 2,\\,\\alpha^{3} + 2 \\alpha^{2} + 2 \\alpha + 1\\right)$"
      ],
      "text/plain": [
       "(1, alpha^3 + alpha^2 + alpha - 1, 2*alpha^3 + alpha^2 - 2, alpha^3 + 2*alpha^2 + 2*alpha + 1)"
      ]
     },
     "metadata": {},
     "output_type": "display_data"
    },
    {
     "data": {
      "text/html": [
       "<html>\\(\\displaystyle \\mathrm{True}\\)</html>"
      ],
      "text/latex": [
       "$\\displaystyle \\mathrm{True}$"
      ],
      "text/plain": [
       "True"
      ]
     },
     "metadata": {},
     "output_type": "display_data"
    }
   ],
   "source": [
    "M, N = (i.matrix for i in ideal_list); display([M, N])\n",
    "v, w = varr\n",
    "\n",
    "display(v, (i.root)*v == M*v)\n",
    "display(w, (i.root)*w == N*w)"
   ]
  },
  {
   "cell_type": "code",
   "execution_count": 137,
   "id": "00ef9847-33df-4525-b3c5-c5278ea4d499",
   "metadata": {},
   "outputs": [
    {
     "data": {
      "text/html": [
       "<html>\\(\\displaystyle \\left(\\left(1,\\,\\alpha,\\,\\alpha^{2},\\,\\alpha^{3}\\right), \\left(\\begin{array}{rrrr}\n",
       "1 & 0 & 0 & 0 \\\\\n",
       "0 & 1 & 1 & 0 \\\\\n",
       "0 & -1 & -1 & 1 \\\\\n",
       "0 & 1 & 0 & -1\n",
       "\\end{array}\\right)\\right)\\)</html>"
      ],
      "text/latex": [
       "$\\displaystyle \\left(\\left(1,\\,\\alpha,\\,\\alpha^{2},\\,\\alpha^{3}\\right), \\left(\\begin{array}{rrrr}\n",
       "1 & 0 & 0 & 0 \\\\\n",
       "0 & 1 & 1 & 0 \\\\\n",
       "0 & -1 & -1 & 1 \\\\\n",
       "0 & 1 & 0 & -1\n",
       "\\end{array}\\right)\\right)$"
      ],
      "text/plain": [
       "(\n",
       "                              [ 1  0  0  0]\n",
       "                              [ 0  1  1  0]\n",
       "                              [ 0 -1 -1  1]\n",
       "(1, alpha, alpha^2, alpha^3), [ 0  1  0 -1]\n",
       ")"
      ]
     },
     "execution_count": 137,
     "metadata": {},
     "output_type": "execute_result"
    }
   ],
   "source": [
    "T = matrix([[1,0,0,0],[0,0,0,1],[0,1,1,0],[0,1,0,-1]])\n",
    "T = (matrix([[1,0,0,0],[0,0,1,0],[0,1,-1,0],[0,0,0,1]]))*T\n",
    "T*v, T"
   ]
  },
  {
   "cell_type": "code",
   "execution_count": 155,
   "id": "2a3ef511-6344-47a6-bc21-cea6bf2ef4cb",
   "metadata": {},
   "outputs": [
    {
     "data": {
      "text/html": [
       "<html>\\(\\displaystyle \\left(\\left(1,\\,\\alpha,\\,\\alpha^{2},\\,\\alpha^{3}\\right), \\left(\\begin{array}{rrrr}\n",
       "0 & 1 & -1 & 0 \\\\\n",
       "-2 & -2 & 0 & 1 \\\\\n",
       "2 & 2 & -1 & -1 \\\\\n",
       "-1 & 0 & -1 & 0\n",
       "\\end{array}\\right)\\right)\\)</html>"
      ],
      "text/latex": [
       "$\\displaystyle \\left(\\left(1,\\,\\alpha,\\,\\alpha^{2},\\,\\alpha^{3}\\right), \\left(\\begin{array}{rrrr}\n",
       "0 & 1 & -1 & 0 \\\\\n",
       "-2 & -2 & 0 & 1 \\\\\n",
       "2 & 2 & -1 & -1 \\\\\n",
       "-1 & 0 & -1 & 0\n",
       "\\end{array}\\right)\\right)$"
      ],
      "text/plain": [
       "(\n",
       "                              [ 0  1 -1  0]\n",
       "                              [-2 -2  0  1]\n",
       "                              [ 2  2 -1 -1]\n",
       "(1, alpha, alpha^2, alpha^3), [-1  0 -1  0]\n",
       ")"
      ]
     },
     "execution_count": 155,
     "metadata": {},
     "output_type": "execute_result"
    }
   ],
   "source": [
    "S = matrix([[1,0,1,0],[0,1,-1,0],[0,0,1,0],[0,0,0,1]])\n",
    "S = (matrix([[-1,0,0,0],[0,1,0,0],[0,0,1,0],[-2,-2,0,1]]))*S\n",
    "S = (matrix([[0,0,0,1],[0,1,0,0],[0,0,-1,-1],[1,0,0,0]]))*S\n",
    "S = (matrix([[0,1,0,0],[1,0,0,0],[0,0,1,0],[0,0,0,1]]))*S\n",
    "S*(u*w), S"
   ]
  },
  {
   "cell_type": "code",
   "execution_count": 156,
   "id": "2cbf85e2-0182-430f-8eb5-9b359e29c158",
   "metadata": {},
   "outputs": [
    {
     "data": {
      "text/html": [
       "<html>\\(\\displaystyle \\left(\\begin{array}{rrrr}\n",
       "0 & -1 & 0 & 2 \\\\\n",
       "1 & 0 & 0 & -1 \\\\\n",
       "0 & 0 & 0 & -1 \\\\\n",
       "2 & -1 & 1 & 2\n",
       "\\end{array}\\right)\\)</html>"
      ],
      "text/latex": [
       "$\\displaystyle \\left(\\begin{array}{rrrr}\n",
       "0 & -1 & 0 & 2 \\\\\n",
       "1 & 0 & 0 & -1 \\\\\n",
       "0 & 0 & 0 & -1 \\\\\n",
       "2 & -1 & 1 & 2\n",
       "\\end{array}\\right)$"
      ],
      "text/plain": [
       "[ 0 -1  0  2]\n",
       "[ 1  0  0 -1]\n",
       "[ 0  0  0 -1]\n",
       "[ 2 -1  1  2]"
      ]
     },
     "metadata": {},
     "output_type": "display_data"
    },
    {
     "data": {
      "text/html": [
       "<html>\\(\\displaystyle \\left(\\begin{array}{rrrr}\n",
       "0 & 1 & -1 & 0 \\\\\n",
       "-1 & 0 & -2 & 0 \\\\\n",
       "-1 & -2 & 2 & 1 \\\\\n",
       "0 & 0 & -1 & 0\n",
       "\\end{array}\\right)\\)</html>"
      ],
      "text/latex": [
       "$\\displaystyle \\left(\\begin{array}{rrrr}\n",
       "0 & 1 & -1 & 0 \\\\\n",
       "-1 & 0 & -2 & 0 \\\\\n",
       "-1 & -2 & 2 & 1 \\\\\n",
       "0 & 0 & -1 & 0\n",
       "\\end{array}\\right)$"
      ],
      "text/plain": [
       "[ 0  1 -1  0]\n",
       "[-1  0 -2  0]\n",
       "[-1 -2  2  1]\n",
       "[ 0  0 -1  0]"
      ]
     },
     "metadata": {},
     "output_type": "display_data"
    },
    {
     "data": {
      "text/html": [
       "<html>\\(\\displaystyle \\mathrm{True}\\)</html>"
      ],
      "text/latex": [
       "$\\displaystyle \\mathrm{True}$"
      ],
      "text/plain": [
       "True"
      ]
     },
     "execution_count": 156,
     "metadata": {},
     "output_type": "execute_result"
    }
   ],
   "source": [
    "Q = (S.inverse())*T; display(Q, Q.inverse())\n",
    "\n",
    "Q*v == u*w"
   ]
  },
  {
   "cell_type": "code",
   "execution_count": 157,
   "id": "1e4f6a1d-6f7d-47b6-a990-b94e3354b9ea",
   "metadata": {},
   "outputs": [
    {
     "data": {
      "text/html": [
       "<html>\\(\\displaystyle \\mathrm{True}\\)</html>"
      ],
      "text/latex": [
       "$\\displaystyle \\mathrm{True}$"
      ],
      "text/plain": [
       "True"
      ]
     },
     "execution_count": 157,
     "metadata": {},
     "output_type": "execute_result"
    }
   ],
   "source": [
    "Q*M*v == Q*(i.root)*v\n",
    "N*(Q*v) == (i.root)*(Q*v)"
   ]
  },
  {
   "cell_type": "code",
   "execution_count": 160,
   "id": "7f9fbd7d-5db8-4ae9-8488-7d50cfd8a98e",
   "metadata": {},
   "outputs": [
    {
     "data": {
      "text/html": [
       "<html>\\(\\displaystyle \\left(\\left(-\\alpha^{3} + \\alpha^{2} + \\alpha,\\,-\\alpha^{2} - \\alpha + 1,\\,-\\alpha^{2} - \\alpha,\\,-2 \\alpha^{3} + \\alpha + 2\\right), \\left(1,\\,\\alpha^{3} + \\alpha^{2} + \\alpha - 1,\\,2 \\alpha^{3} + \\alpha^{2} - 2,\\,\\alpha^{3} + 2 \\alpha^{2} + 2 \\alpha + 1\\right)\\right)\\)</html>"
      ],
      "text/latex": [
       "$\\displaystyle \\left(\\left(-\\alpha^{3} + \\alpha^{2} + \\alpha,\\,-\\alpha^{2} - \\alpha + 1,\\,-\\alpha^{2} - \\alpha,\\,-2 \\alpha^{3} + \\alpha + 2\\right), \\left(1,\\,\\alpha^{3} + \\alpha^{2} + \\alpha - 1,\\,2 \\alpha^{3} + \\alpha^{2} - 2,\\,\\alpha^{3} + 2 \\alpha^{2} + 2 \\alpha + 1\\right)\\right)$"
      ],
      "text/plain": [
       "((-alpha^3 + alpha^2 + alpha, -alpha^2 - alpha + 1, -alpha^2 - alpha, -2*alpha^3 + alpha + 2),\n",
       " (1, alpha^3 + alpha^2 + alpha - 1, 2*alpha^3 + alpha^2 - 2, alpha^3 + 2*alpha^2 + 2*alpha + 1))"
      ]
     },
     "execution_count": 160,
     "metadata": {},
     "output_type": "execute_result"
    }
   ],
   "source": [
    "Q*v, w\n",
    "#Q*v, ((Q*v)[0])*w\n",
    "#(Q*v)[0], u"
   ]
  },
  {
   "cell_type": "code",
   "execution_count": 161,
   "id": "c65bc5ab-b6d1-46b0-a780-e30e03501631",
   "metadata": {},
   "outputs": [
    {
     "data": {
      "text/html": [
       "<html>\\(\\displaystyle \\mathrm{True}\\)</html>"
      ],
      "text/latex": [
       "$\\displaystyle \\mathrm{True}$"
      ],
      "text/plain": [
       "True"
      ]
     },
     "execution_count": 161,
     "metadata": {},
     "output_type": "execute_result"
    }
   ],
   "source": [
    "Q*M == N*Q"
   ]
  }
 ],
 "metadata": {
  "kernelspec": {
   "display_name": "SageMath 10.7",
   "language": "sage",
   "name": "sagemath-10.7"
  },
  "language_info": {
   "codemirror_mode": {
    "name": "ipython",
    "version": 3
   },
   "file_extension": ".py",
   "mimetype": "text/x-python",
   "name": "python",
   "nbconvert_exporter": "python",
   "pygments_lexer": "ipython3",
   "version": "3.13.3"
  }
 },
 "nbformat": 4,
 "nbformat_minor": 5
}
