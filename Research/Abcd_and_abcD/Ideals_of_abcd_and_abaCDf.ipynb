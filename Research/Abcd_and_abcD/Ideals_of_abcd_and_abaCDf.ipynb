{
 "cells": [
  {
   "cell_type": "markdown",
   "id": "0eca0c30-9bf8-4a83-b199-45c6b5c65a2e",
   "metadata": {},
   "source": [
    "# 1. Symplectic representation"
   ]
  },
  {
   "cell_type": "markdown",
   "id": "63ccd808-6f3e-45fe-b508-634b51edc713",
   "metadata": {},
   "source": [
    "## 1.1. On Humphries generators"
   ]
  },
  {
   "cell_type": "markdown",
   "id": "b96f01f6-1b90-41fd-b0bd-60cdcfebd13c",
   "metadata": {
    "jp-MarkdownHeadingCollapsed": true
   },
   "source": [
    "### Sp_repr class and functions"
   ]
  },
  {
   "cell_type": "code",
   "execution_count": 1,
   "id": "e4904364-e347-42dd-8219-f82f9587039d",
   "metadata": {},
   "outputs": [],
   "source": [
    "from sage.all import *"
   ]
  },
  {
   "cell_type": "code",
   "execution_count": 2,
   "id": "eb906321-414c-4614-b1ef-63577388aebf",
   "metadata": {},
   "outputs": [],
   "source": [
    "%display latex"
   ]
  },
  {
   "cell_type": "code",
   "execution_count": 3,
   "id": "ca5b79fe-7655-4ffc-a9b7-055616c6e6d6",
   "metadata": {},
   "outputs": [],
   "source": [
    "class Sp_repr:\n",
    "    #--- 2x2 ---\n",
    "    I = identity_matrix(2)\n",
    "    O = zero_matrix(ZZ,2)\n",
    "    J = matrix([[0,1],[-1,0]])\n",
    "    #---\n",
    "    L = matrix([[1,0],[1,1]])\n",
    "    K = matrix([[0,-1],[0,0]])\n",
    "    #--- 4x4 ---\n",
    "    J4 = block_matrix([[J, O], [O, J]])\n",
    "    # J4 = J4_bm.subs([(J, evJ)]).as_explicit()\n",
    "    #---\n",
    "    CHR_2_MTX = {'a': block_matrix([[L.inverse(), O], [O, I]]),\n",
    "                 'b': block_matrix([[L.T, K], [K, L.T]]),\n",
    "                 'c': block_matrix([[I, O], [O, L.inverse()]]),\n",
    "                 'd': block_matrix([[I, O], [O, L.T]]),\n",
    "                 'f': block_matrix([[L.T, O], [O,I]])}\n",
    "    #---\n",
    "    \n",
    "    def __init__(self, l:str):\n",
    "        self.loop = l\n",
    "        self.matrix = self.CHR_2_MTX.get(l) if l.islower() else self.CHR_2_MTX.get(l.lower()).inverse()"
   ]
  },
  {
   "cell_type": "code",
   "execution_count": 4,
   "id": "b7c2f2c1-8285-48aa-acd3-edc93922e79c",
   "metadata": {},
   "outputs": [
    {
     "data": {
      "text/html": [
       "<html>\\(\\displaystyle \\left[\\mathrm{True}, \\mathrm{True}, \\mathrm{True}, \\mathrm{True}, \\mathrm{True}, \\mathrm{True}\\right]\\)</html>"
      ],
      "text/latex": [
       "$\\displaystyle \\left[\\mathrm{True}, \\mathrm{True}, \\mathrm{True}, \\mathrm{True}, \\mathrm{True}, \\mathrm{True}\\right]$"
      ],
      "text/plain": [
       "[True, True, True, True, True, True]"
      ]
     },
     "execution_count": 4,
     "metadata": {},
     "output_type": "execute_result"
    }
   ],
   "source": [
    "def is_Sp(M):\n",
    "    J = Sp_repr.J4\n",
    "    return M.transpose()*J*M == J\n",
    "\n",
    "list(map(lambda l: is_Sp(Sp_repr(l).matrix), ['a','b','c','d','f', 'A'])) "
   ]
  },
  {
   "cell_type": "markdown",
   "id": "acdb99e7-cb13-40a4-9c05-4450aa74d9c8",
   "metadata": {
    "jp-MarkdownHeadingCollapsed": true
   },
   "source": [
    "## 1.2. The symplectic images of Abcd and abcD"
   ]
  },
  {
   "cell_type": "code",
   "execution_count": 5,
   "id": "3124d2d8-8314-4e0f-b6c1-74796f8b5070",
   "metadata": {},
   "outputs": [
    {
     "data": {
      "text/html": [
       "<html>\\(\\displaystyle \\left(\\left(\\begin{array}{rr|rr}\n",
       "1 & 0 & 0 & 0 \\\\\n",
       "-1 & 1 & 0 & 0 \\\\\n",
       "\\hline\n",
       " 0 & 0 & 1 & 0 \\\\\n",
       "0 & 0 & 0 & 1\n",
       "\\end{array}\\right), \\left(\\begin{array}{rr|rr}\n",
       "1 & 1 & 0 & -1 \\\\\n",
       "0 & 1 & 0 & 0 \\\\\n",
       "\\hline\n",
       " 0 & -1 & 1 & 1 \\\\\n",
       "0 & 0 & 0 & 1\n",
       "\\end{array}\\right), \\left(\\begin{array}{rr|rr}\n",
       "1 & 0 & 0 & 0 \\\\\n",
       "0 & 1 & 0 & 0 \\\\\n",
       "\\hline\n",
       " 0 & 0 & 1 & 0 \\\\\n",
       "0 & 0 & -1 & 1\n",
       "\\end{array}\\right), \\left(\\begin{array}{rr|rr}\n",
       "1 & 0 & 0 & 0 \\\\\n",
       "0 & 1 & 0 & 0 \\\\\n",
       "\\hline\n",
       " 0 & 0 & 1 & 1 \\\\\n",
       "0 & 0 & 0 & 1\n",
       "\\end{array}\\right), \\left(\\begin{array}{rr|rr}\n",
       "1 & 1 & 0 & 0 \\\\\n",
       "0 & 1 & 0 & 0 \\\\\n",
       "\\hline\n",
       " 0 & 0 & 1 & 0 \\\\\n",
       "0 & 0 & 0 & 1\n",
       "\\end{array}\\right), \\left(\\begin{array}{rr|rr}\n",
       "0 & 1 & 0 & 0 \\\\\n",
       "-1 & 0 & 0 & 0 \\\\\n",
       "\\hline\n",
       " 0 & 0 & 0 & 1 \\\\\n",
       "0 & 0 & -1 & 0\n",
       "\\end{array}\\right)\\right)\\)</html>"
      ],
      "text/latex": [
       "$\\displaystyle \\left(\\left(\\begin{array}{rr|rr}\n",
       "1 & 0 & 0 & 0 \\\\\n",
       "-1 & 1 & 0 & 0 \\\\\n",
       "\\hline\n",
       " 0 & 0 & 1 & 0 \\\\\n",
       "0 & 0 & 0 & 1\n",
       "\\end{array}\\right), \\left(\\begin{array}{rr|rr}\n",
       "1 & 1 & 0 & -1 \\\\\n",
       "0 & 1 & 0 & 0 \\\\\n",
       "\\hline\n",
       " 0 & -1 & 1 & 1 \\\\\n",
       "0 & 0 & 0 & 1\n",
       "\\end{array}\\right), \\left(\\begin{array}{rr|rr}\n",
       "1 & 0 & 0 & 0 \\\\\n",
       "0 & 1 & 0 & 0 \\\\\n",
       "\\hline\n",
       " 0 & 0 & 1 & 0 \\\\\n",
       "0 & 0 & -1 & 1\n",
       "\\end{array}\\right), \\left(\\begin{array}{rr|rr}\n",
       "1 & 0 & 0 & 0 \\\\\n",
       "0 & 1 & 0 & 0 \\\\\n",
       "\\hline\n",
       " 0 & 0 & 1 & 1 \\\\\n",
       "0 & 0 & 0 & 1\n",
       "\\end{array}\\right), \\left(\\begin{array}{rr|rr}\n",
       "1 & 1 & 0 & 0 \\\\\n",
       "0 & 1 & 0 & 0 \\\\\n",
       "\\hline\n",
       " 0 & 0 & 1 & 0 \\\\\n",
       "0 & 0 & 0 & 1\n",
       "\\end{array}\\right), \\left(\\begin{array}{rr|rr}\n",
       "0 & 1 & 0 & 0 \\\\\n",
       "-1 & 0 & 0 & 0 \\\\\n",
       "\\hline\n",
       " 0 & 0 & 0 & 1 \\\\\n",
       "0 & 0 & -1 & 0\n",
       "\\end{array}\\right)\\right)$"
      ],
      "text/plain": [
       "(\n",
       "[ 1  0| 0  0]  [ 1  1| 0 -1]  [ 1  0| 0  0]  [1 0|0 0]  [1 1|0 0]\n",
       "[-1  1| 0  0]  [ 0  1| 0  0]  [ 0  1| 0  0]  [0 1|0 0]  [0 1|0 0]\n",
       "[-----+-----]  [-----+-----]  [-----+-----]  [---+---]  [---+---]\n",
       "[ 0  0| 1  0]  [ 0 -1| 1  1]  [ 0  0| 1  0]  [0 0|1 1]  [0 0|1 0]\n",
       "[ 0  0| 0  1], [ 0  0| 0  1], [ 0  0|-1  1], [0 0|0 1], [0 0|0 1],\n",
       "\n",
       "[ 0  1| 0  0]\n",
       "[-1  0| 0  0]\n",
       "[-----+-----]\n",
       "[ 0  0| 0  1]\n",
       "[ 0  0|-1  0]\n",
       ")"
      ]
     },
     "execution_count": 5,
     "metadata": {},
     "output_type": "execute_result"
    }
   ],
   "source": [
    "a,b,c,d,f = tuple(map(lambda l: Sp_repr(l).matrix, ['a','b','c','d','f']))\n",
    "J4 = Sp_repr.J4\n",
    "\n",
    "a,b,c,d,f, J4 "
   ]
  },
  {
   "cell_type": "code",
   "execution_count": 6,
   "id": "91718540-8b61-4383-b757-749b0b101bbf",
   "metadata": {},
   "outputs": [
    {
     "data": {
      "text/html": [
       "<html>\\(\\displaystyle \\left(\\left(\\begin{array}{rrrr}\n",
       "1 & 0 & 0 & 0 \\\\\n",
       "1 & 1 & 0 & 0 \\\\\n",
       "0 & 0 & 1 & 0 \\\\\n",
       "0 & 0 & 0 & 1\n",
       "\\end{array}\\right), \\left(\\begin{array}{rrrr}\n",
       "1 & -1 & 0 & 1 \\\\\n",
       "0 & 1 & 0 & 0 \\\\\n",
       "0 & 1 & 1 & -1 \\\\\n",
       "0 & 0 & 0 & 1\n",
       "\\end{array}\\right), \\left(\\begin{array}{rrrr}\n",
       "1 & 0 & 0 & 0 \\\\\n",
       "0 & 1 & 0 & 0 \\\\\n",
       "0 & 0 & 1 & 0 \\\\\n",
       "0 & 0 & 1 & 1\n",
       "\\end{array}\\right), \\left(\\begin{array}{rrrr}\n",
       "1 & 0 & 0 & 0 \\\\\n",
       "0 & 1 & 0 & 0 \\\\\n",
       "0 & 0 & 1 & -1 \\\\\n",
       "0 & 0 & 0 & 1\n",
       "\\end{array}\\right), \\left(\\begin{array}{rrrr}\n",
       "1 & -1 & 0 & 0 \\\\\n",
       "0 & 1 & 0 & 0 \\\\\n",
       "0 & 0 & 1 & 0 \\\\\n",
       "0 & 0 & 0 & 1\n",
       "\\end{array}\\right)\\right)\\)</html>"
      ],
      "text/latex": [
       "$\\displaystyle \\left(\\left(\\begin{array}{rrrr}\n",
       "1 & 0 & 0 & 0 \\\\\n",
       "1 & 1 & 0 & 0 \\\\\n",
       "0 & 0 & 1 & 0 \\\\\n",
       "0 & 0 & 0 & 1\n",
       "\\end{array}\\right), \\left(\\begin{array}{rrrr}\n",
       "1 & -1 & 0 & 1 \\\\\n",
       "0 & 1 & 0 & 0 \\\\\n",
       "0 & 1 & 1 & -1 \\\\\n",
       "0 & 0 & 0 & 1\n",
       "\\end{array}\\right), \\left(\\begin{array}{rrrr}\n",
       "1 & 0 & 0 & 0 \\\\\n",
       "0 & 1 & 0 & 0 \\\\\n",
       "0 & 0 & 1 & 0 \\\\\n",
       "0 & 0 & 1 & 1\n",
       "\\end{array}\\right), \\left(\\begin{array}{rrrr}\n",
       "1 & 0 & 0 & 0 \\\\\n",
       "0 & 1 & 0 & 0 \\\\\n",
       "0 & 0 & 1 & -1 \\\\\n",
       "0 & 0 & 0 & 1\n",
       "\\end{array}\\right), \\left(\\begin{array}{rrrr}\n",
       "1 & -1 & 0 & 0 \\\\\n",
       "0 & 1 & 0 & 0 \\\\\n",
       "0 & 0 & 1 & 0 \\\\\n",
       "0 & 0 & 0 & 1\n",
       "\\end{array}\\right)\\right)$"
      ],
      "text/plain": [
       "(\n",
       "[1 0 0 0]  [ 1 -1  0  1]  [1 0 0 0]  [ 1  0  0  0]  [ 1 -1  0  0]\n",
       "[1 1 0 0]  [ 0  1  0  0]  [0 1 0 0]  [ 0  1  0  0]  [ 0  1  0  0]\n",
       "[0 0 1 0]  [ 0  1  1 -1]  [0 0 1 0]  [ 0  0  1 -1]  [ 0  0  1  0]\n",
       "[0 0 0 1], [ 0  0  0  1], [0 0 1 1], [ 0  0  0  1], [ 0  0  0  1]\n",
       ")"
      ]
     },
     "execution_count": 6,
     "metadata": {},
     "output_type": "execute_result"
    }
   ],
   "source": [
    "A, B, C, D, F = (k.inverse() for k in [a,b,c,d,f])\n",
    "A,B,C,D,F"
   ]
  },
  {
   "cell_type": "code",
   "execution_count": 7,
   "id": "5b64dafc-f82c-4c1b-b784-562718f37ea5",
   "metadata": {
    "scrolled": true
   },
   "outputs": [
    {
     "data": {
      "text/html": [
       "<html>\\(\\displaystyle \\left(\\begin{array}{rrrr}\n",
       "1 & 1 & 1 & 0 \\\\\n",
       "-1 & 0 & -1 & 0 \\\\\n",
       "0 & -1 & 0 & 1 \\\\\n",
       "0 & 0 & -1 & 0\n",
       "\\end{array}\\right)\\)</html>"
      ],
      "text/latex": [
       "$\\displaystyle \\left(\\begin{array}{rrrr}\n",
       "1 & 1 & 1 & 0 \\\\\n",
       "-1 & 0 & -1 & 0 \\\\\n",
       "0 & -1 & 0 & 1 \\\\\n",
       "0 & 0 & -1 & 0\n",
       "\\end{array}\\right)$"
      ],
      "text/plain": [
       "[ 1  1  1  0]\n",
       "[-1  0 -1  0]\n",
       "[ 0 -1  0  1]\n",
       "[ 0  0 -1  0]"
      ]
     },
     "metadata": {},
     "output_type": "display_data"
    },
    {
     "data": {
      "text/html": [
       "<html>\\(\\displaystyle \\left(\\begin{array}{rrrr}\n",
       "0 & 1 & -1 & 0 \\\\\n",
       "-1 & -1 & 1 & 0 \\\\\n",
       "1 & 0 & 2 & -1 \\\\\n",
       "0 & 0 & 1 & 0\n",
       "\\end{array}\\right)\\)</html>"
      ],
      "text/latex": [
       "$\\displaystyle \\left(\\begin{array}{rrrr}\n",
       "0 & 1 & -1 & 0 \\\\\n",
       "-1 & -1 & 1 & 0 \\\\\n",
       "1 & 0 & 2 & -1 \\\\\n",
       "0 & 0 & 1 & 0\n",
       "\\end{array}\\right)$"
      ],
      "text/plain": [
       "[ 0  1 -1  0]\n",
       "[-1 -1  1  0]\n",
       "[ 1  0  2 -1]\n",
       "[ 0  0  1  0]"
      ]
     },
     "metadata": {},
     "output_type": "display_data"
    },
    {
     "data": {
      "text/html": [
       "<html>\\(\\displaystyle \\left[\\mathrm{True}, \\mathrm{True}\\right]\\)</html>"
      ],
      "text/latex": [
       "$\\displaystyle \\left[\\mathrm{True}, \\mathrm{True}\\right]$"
      ],
      "text/plain": [
       "[True, True]"
      ]
     },
     "execution_count": 7,
     "metadata": {},
     "output_type": "execute_result"
    }
   ],
   "source": [
    "M = a*b*c*d\n",
    "display(M)\n",
    "N = a*b*a*C*D*f\n",
    "display(N)\n",
    "\n",
    "list(map(is_Sp, [M, N]))"
   ]
  },
  {
   "cell_type": "markdown",
   "id": "fc59ddcb-4d93-4bb5-aafc-599a25155a43",
   "metadata": {},
   "source": [
    "### The charactoristic polynomial of M (and N)"
   ]
  },
  {
   "cell_type": "code",
   "execution_count": 8,
   "id": "dd6304d6-7bb0-4ec3-99a9-0513b1b72980",
   "metadata": {},
   "outputs": [
    {
     "data": {
      "text/html": [
       "<html>\\(\\displaystyle t^{4} - t^{3} + t^{2} - t + 1\\)</html>"
      ],
      "text/latex": [
       "$\\displaystyle t^{4} - t^{3} + t^{2} - t + 1$"
      ],
      "text/plain": [
       "t^4 - t^3 + t^2 - t + 1"
      ]
     },
     "metadata": {},
     "output_type": "display_data"
    },
    {
     "data": {
      "text/html": [
       "<html>\\(\\displaystyle (t^{4} - t^{3} + t^{2} - t + 1)\\)</html>"
      ],
      "text/latex": [
       "$\\displaystyle (t^{4} - t^{3} + t^{2} - t + 1)$"
      ],
      "text/plain": [
       "t^4 - t^3 + t^2 - t + 1"
      ]
     },
     "metadata": {},
     "output_type": "display_data"
    },
    {
     "name": "stdout",
     "output_type": "stream",
     "text": [
      "cp_M == cp_N ?   --> True\n"
     ]
    }
   ],
   "source": [
    "R.<alpha> = PolynomialRing(ZZ)\n",
    "cp_M = M.charpoly('t'); display(cp_M, cp_M.factor())\n",
    "cp_N = N.charpoly('t'); #display(cp_N)\n",
    "\n",
    "print(f\"cp_M == cp_N ?   --> {cp_M == cp_N}\")"
   ]
  },
  {
   "cell_type": "markdown",
   "id": "09564ad3-c81e-487d-a387-6a5104a697e8",
   "metadata": {},
   "source": [
    "# 2. The ideal for fibered knots"
   ]
  },
  {
   "cell_type": "code",
   "execution_count": 9,
   "id": "2bd3d4fb-cf6d-4a11-a388-4598d3638ab5",
   "metadata": {},
   "outputs": [
    {
     "name": "stdout",
     "output_type": "stream",
     "text": [
      "整数基: [1, alpha, alpha^2, alpha^3]\n",
      "類数: 1\n",
      "[alpha, -alpha + 1]\n",
      "tau(alpha) = -alpha^3 + alpha^2 - alpha + 1\n"
     ]
    }
   ],
   "source": [
    "K.<alpha> = NumberField(cp_M)\n",
    "OK = K.ring_of_integers()\n",
    "print(\"整数基:\", OK.basis())\n",
    "print(\"類数:\", OK.class_number())\n",
    "\n",
    "U = UnitGroup(K)\n",
    "print(U.gens_values())\n",
    "\n",
    "G = K.galois_group()\n",
    "tau = K.hom([1/alpha],K); print(f\"{tau(alpha) = }\")"
   ]
  },
  {
   "cell_type": "code",
   "execution_count": 10,
   "id": "75df8674-0bc8-437a-b11d-0a695517e567",
   "metadata": {},
   "outputs": [],
   "source": [
    "def ev_wrt_a(X):\n",
    "    X_K = X.change_ring(K)\n",
    "    evlist = X_K.eigenvectors_right();\n",
    "    v = [v[1][0] for v in evlist if v[0] == alpha][0]\n",
    "    if X_K*v == alpha*v:\n",
    "        return v\n",
    "    else:\n",
    "        return None"
   ]
  },
  {
   "cell_type": "markdown",
   "id": "ab26e5d9-360f-4442-8702-342cf4e810f3",
   "metadata": {},
   "source": [
    "### Eigenvectors of M and N with respect to the eigen value $a$"
   ]
  },
  {
   "cell_type": "code",
   "execution_count": 11,
   "id": "5a55569d-062e-49c6-a384-b3f955799aec",
   "metadata": {},
   "outputs": [
    {
     "data": {
      "text/html": [
       "<html>\\(\\displaystyle \\left(1,\\,\\alpha^{3} + \\alpha - 1,\\,-\\alpha^{3},\\,\\alpha^{2}\\right)\\)</html>"
      ],
      "text/latex": [
       "$\\displaystyle \\left(1,\\,\\alpha^{3} + \\alpha - 1,\\,-\\alpha^{3},\\,\\alpha^{2}\\right)$"
      ],
      "text/plain": [
       "(1, alpha^3 + alpha - 1, -alpha^3, alpha^2)"
      ]
     },
     "metadata": {},
     "output_type": "display_data"
    },
    {
     "data": {
      "text/html": [
       "<html>\\(\\displaystyle \\left(1,\\,\\alpha^{3} - \\alpha^{2} + \\alpha - 2,\\,\\alpha^{3} - \\alpha^{2} - 2,\\,2 \\alpha^{3} - \\alpha^{2} + \\alpha - 2\\right)\\)</html>"
      ],
      "text/latex": [
       "$\\displaystyle \\left(1,\\,\\alpha^{3} - \\alpha^{2} + \\alpha - 2,\\,\\alpha^{3} - \\alpha^{2} - 2,\\,2 \\alpha^{3} - \\alpha^{2} + \\alpha - 2\\right)$"
      ],
      "text/plain": [
       "(1, alpha^3 - alpha^2 + alpha - 2, alpha^3 - alpha^2 - 2, 2*alpha^3 - alpha^2 + alpha - 2)"
      ]
     },
     "metadata": {},
     "output_type": "display_data"
    },
    {
     "name": "stdout",
     "output_type": "stream",
     "text": [
      "------- Check -------\n",
      "True True\n"
     ]
    }
   ],
   "source": [
    "v, w = [ev_wrt_a(X) for X in (M,N)]\n",
    "display(v, w)\n",
    "print(\"------- Check -------\")\n",
    "print(M*v == alpha*v, N*w == alpha*w)"
   ]
  },
  {
   "cell_type": "markdown",
   "id": "b2c7cd37-c6b9-4c6e-8515-4738011ed86b",
   "metadata": {},
   "source": [
    "### Ideals of M and N"
   ]
  },
  {
   "cell_type": "code",
   "execution_count": 12,
   "id": "0ce78770-f2cd-4499-a06f-e9be1077fa19",
   "metadata": {},
   "outputs": [
    {
     "data": {
      "text/html": [
       "<html>\\(\\displaystyle \\left(\\begin{array}{rrrr}\n",
       "1 & 0 & 0 & 0 \\\\\n",
       "1 & 1 & 1 & 0 \\\\\n",
       "0 & 0 & 0 & 1 \\\\\n",
       "0 & 0 & -1 & 0\n",
       "\\end{array}\\right)\\)</html>"
      ],
      "text/latex": [
       "$\\displaystyle \\left(\\begin{array}{rrrr}\n",
       "1 & 0 & 0 & 0 \\\\\n",
       "1 & 1 & 1 & 0 \\\\\n",
       "0 & 0 & 0 & 1 \\\\\n",
       "0 & 0 & -1 & 0\n",
       "\\end{array}\\right)$"
      ],
      "text/plain": [
       "[ 1  0  0  0]\n",
       "[ 1  1  1  0]\n",
       "[ 0  0  0  1]\n",
       "[ 0  0 -1  0]"
      ]
     },
     "metadata": {},
     "output_type": "display_data"
    },
    {
     "data": {
      "text/html": [
       "<html>\\(\\displaystyle \\left(1,\\,\\alpha,\\,\\alpha^{2},\\,\\alpha^{3}\\right)\\)</html>"
      ],
      "text/latex": [
       "$\\displaystyle \\left(1,\\,\\alpha,\\,\\alpha^{2},\\,\\alpha^{3}\\right)$"
      ],
      "text/plain": [
       "(1, alpha, alpha^2, alpha^3)"
      ]
     },
     "metadata": {},
     "output_type": "display_data"
    },
    {
     "data": {
      "text/html": [
       "<html>\\(\\displaystyle \\left(\\begin{array}{rrrr}\n",
       "1 & 0 & 0 & 0 \\\\\n",
       "1 & 1 & 1 & 0 \\\\\n",
       "0 & 0 & 0 & 1 \\\\\n",
       "0 & 0 & -1 & 0\n",
       "\\end{array}\\right)\\)</html>"
      ],
      "text/latex": [
       "$\\displaystyle \\left(\\begin{array}{rrrr}\n",
       "1 & 0 & 0 & 0 \\\\\n",
       "1 & 1 & 1 & 0 \\\\\n",
       "0 & 0 & 0 & 1 \\\\\n",
       "0 & 0 & -1 & 0\n",
       "\\end{array}\\right)$"
      ],
      "text/plain": [
       "[ 1  0  0  0]\n",
       "[ 1  1  1  0]\n",
       "[ 0  0  0  1]\n",
       "[ 0  0 -1  0]"
      ]
     },
     "metadata": {},
     "output_type": "display_data"
    }
   ],
   "source": [
    "# The integral ideal (v) is equal to ZZ[a]\n",
    "\n",
    "T = matrix([[1,0,0,0],[1,1,1,0],[0,0,0,1],[0,0,-1,0]]); display(T, T*v)\n",
    "X = T; display(X)"
   ]
  },
  {
   "cell_type": "code",
   "execution_count": 13,
   "id": "c98e3974-acad-4dfd-9cfa-55e22deced12",
   "metadata": {},
   "outputs": [
    {
     "data": {
      "text/html": [
       "<html>\\(\\displaystyle \\left(\\begin{array}{rrrr}\n",
       "1 & 0 & 0 & 0 \\\\\n",
       "1 & 1 & 1 & 0 \\\\\n",
       "0 & 0 & 0 & 1 \\\\\n",
       "0 & 0 & -1 & 0\n",
       "\\end{array}\\right)\\)</html>"
      ],
      "text/latex": [
       "$\\displaystyle \\left(\\begin{array}{rrrr}\n",
       "1 & 0 & 0 & 0 \\\\\n",
       "1 & 1 & 1 & 0 \\\\\n",
       "0 & 0 & 0 & 1 \\\\\n",
       "0 & 0 & -1 & 0\n",
       "\\end{array}\\right)$"
      ],
      "text/plain": [
       "[ 1  0  0  0]\n",
       "[ 1  1  1  0]\n",
       "[ 0  0  0  1]\n",
       "[ 0  0 -1  0]"
      ]
     },
     "metadata": {},
     "output_type": "display_data"
    },
    {
     "data": {
      "text/html": [
       "<html>\\(\\displaystyle \\left(1,\\,\\alpha,\\,2 \\alpha^{3} - \\alpha^{2} + \\alpha - 2,\\,\\alpha^{3} - \\alpha^{2} - 2\\right)\\)</html>"
      ],
      "text/latex": [
       "$\\displaystyle \\left(1,\\,\\alpha,\\,2 \\alpha^{3} - \\alpha^{2} + \\alpha - 2,\\,\\alpha^{3} - \\alpha^{2} - 2\\right)$"
      ],
      "text/plain": [
       "(1, alpha, 2*alpha^3 - alpha^2 + alpha - 2, alpha^3 - alpha^2 - 2)"
      ]
     },
     "metadata": {},
     "output_type": "display_data"
    },
    {
     "data": {
      "text/html": [
       "<html>\\(\\displaystyle \\left(1,\\,\\alpha,\\,\\alpha^{2},\\,\\alpha^{3} - \\alpha^{2} - 2\\right)\\)</html>"
      ],
      "text/latex": [
       "$\\displaystyle \\left(1,\\,\\alpha,\\,\\alpha^{2},\\,\\alpha^{3} - \\alpha^{2} - 2\\right)$"
      ],
      "text/plain": [
       "(1, alpha, alpha^2, alpha^3 - alpha^2 - 2)"
      ]
     },
     "metadata": {},
     "output_type": "display_data"
    },
    {
     "data": {
      "text/html": [
       "<html>\\(\\displaystyle \\left(1,\\,\\alpha,\\,\\alpha^{2},\\,\\alpha^{3}\\right)\\)</html>"
      ],
      "text/latex": [
       "$\\displaystyle \\left(1,\\,\\alpha,\\,\\alpha^{2},\\,\\alpha^{3}\\right)$"
      ],
      "text/plain": [
       "(1, alpha, alpha^2, alpha^3)"
      ]
     },
     "metadata": {},
     "output_type": "display_data"
    },
    {
     "data": {
      "text/html": [
       "<html>\\(\\displaystyle \\left(\\begin{array}{rrrr}\n",
       "1 & 0 & 0 & 0 \\\\\n",
       "0 & 1 & -1 & 0 \\\\\n",
       "-2 & -1 & -1 & 1 \\\\\n",
       "0 & -1 & 0 & 1\n",
       "\\end{array}\\right)\\)</html>"
      ],
      "text/latex": [
       "$\\displaystyle \\left(\\begin{array}{rrrr}\n",
       "1 & 0 & 0 & 0 \\\\\n",
       "0 & 1 & -1 & 0 \\\\\n",
       "-2 & -1 & -1 & 1 \\\\\n",
       "0 & -1 & 0 & 1\n",
       "\\end{array}\\right)$"
      ],
      "text/plain": [
       "[ 1  0  0  0]\n",
       "[ 0  1 -1  0]\n",
       "[-2 -1 -1  1]\n",
       "[ 0 -1  0  1]"
      ]
     },
     "metadata": {},
     "output_type": "display_data"
    }
   ],
   "source": [
    "# The integral ideal (w) is equal to ZZ[a]\n",
    "display(T)\n",
    "T = matrix([[1,0,0,0],[0,1,-1,0],[0,0,0,1],[0,0,1,0]]); display(T*w)\n",
    "T2 = matrix([[1,0,0,0],[0,1,0,0],[-2,-1,1,-2],[0,0,0,1]]); display(T2*(T*w))\n",
    "T3 = matrix([[1,0,0,0],[0,1,0,0],[0,0,1,0],[2,0,1,1]]); display(T3*(T2*(T*w)))\n",
    "Y = T3*T2*T; display(Y)"
   ]
  },
  {
   "cell_type": "code",
   "execution_count": 14,
   "id": "cf931ecc-2668-46b2-aacf-0bc4a5826965",
   "metadata": {
    "scrolled": true
   },
   "outputs": [
    {
     "data": {
      "text/html": [
       "<html>\\(\\displaystyle \\left(\\begin{array}{rrrr}\n",
       "1 & 0 & 0 & 0 \\\\\n",
       "-1 & 1 & 0 & -1 \\\\\n",
       "-2 & 0 & -1 & -1 \\\\\n",
       "-1 & 1 & -1 & -1\n",
       "\\end{array}\\right)\\)</html>"
      ],
      "text/latex": [
       "$\\displaystyle \\left(\\begin{array}{rrrr}\n",
       "1 & 0 & 0 & 0 \\\\\n",
       "-1 & 1 & 0 & -1 \\\\\n",
       "-2 & 0 & -1 & -1 \\\\\n",
       "-1 & 1 & -1 & -1\n",
       "\\end{array}\\right)$"
      ],
      "text/plain": [
       "[ 1  0  0  0]\n",
       "[-1  1  0 -1]\n",
       "[-2  0 -1 -1]\n",
       "[-1  1 -1 -1]"
      ]
     },
     "metadata": {},
     "output_type": "display_data"
    },
    {
     "data": {
      "text/html": [
       "<html>\\(\\displaystyle \\left(\\begin{array}{rrrr}\n",
       "1 & 0 & 0 & 0 \\\\\n",
       "-1 & 0 & -1 & 1 \\\\\n",
       "0 & 1 & 0 & -1 \\\\\n",
       "-2 & -1 & -1 & 1\n",
       "\\end{array}\\right)\\)</html>"
      ],
      "text/latex": [
       "$\\displaystyle \\left(\\begin{array}{rrrr}\n",
       "1 & 0 & 0 & 0 \\\\\n",
       "-1 & 0 & -1 & 1 \\\\\n",
       "0 & 1 & 0 & -1 \\\\\n",
       "-2 & -1 & -1 & 1\n",
       "\\end{array}\\right)$"
      ],
      "text/plain": [
       "[ 1  0  0  0]\n",
       "[-1  0 -1  1]\n",
       "[ 0  1  0 -1]\n",
       "[-2 -1 -1  1]"
      ]
     },
     "metadata": {},
     "output_type": "display_data"
    },
    {
     "name": "stdout",
     "output_type": "stream",
     "text": [
      "(S*v == w) = True\n"
     ]
    },
    {
     "data": {
      "text/html": [
       "<html>\\(\\displaystyle \\left(1,\\,\\alpha^{3} - \\alpha^{2} + \\alpha - 2,\\,\\alpha^{3} - \\alpha^{2} - 2,\\,2 \\alpha^{3} - \\alpha^{2} + \\alpha - 2\\right)\\)</html>"
      ],
      "text/latex": [
       "$\\displaystyle \\left(1,\\,\\alpha^{3} - \\alpha^{2} + \\alpha - 2,\\,\\alpha^{3} - \\alpha^{2} - 2,\\,2 \\alpha^{3} - \\alpha^{2} + \\alpha - 2\\right)$"
      ],
      "text/plain": [
       "(1, alpha^3 - alpha^2 + alpha - 2, alpha^3 - alpha^2 - 2, 2*alpha^3 - alpha^2 + alpha - 2)"
      ]
     },
     "metadata": {},
     "output_type": "display_data"
    },
    {
     "data": {
      "text/html": [
       "<html>\\(\\displaystyle \\left(1,\\,\\alpha^{3} - \\alpha^{2} + \\alpha - 2,\\,\\alpha^{3} - \\alpha^{2} - 2,\\,2 \\alpha^{3} - \\alpha^{2} + \\alpha - 2\\right)\\)</html>"
      ],
      "text/latex": [
       "$\\displaystyle \\left(1,\\,\\alpha^{3} - \\alpha^{2} + \\alpha - 2,\\,\\alpha^{3} - \\alpha^{2} - 2,\\,2 \\alpha^{3} - \\alpha^{2} + \\alpha - 2\\right)$"
      ],
      "text/plain": [
       "(1, alpha^3 - alpha^2 + alpha - 2, alpha^3 - alpha^2 - 2, 2*alpha^3 - alpha^2 + alpha - 2)"
      ]
     },
     "metadata": {},
     "output_type": "display_data"
    },
    {
     "name": "stdout",
     "output_type": "stream",
     "text": [
      "is_Sp(S)=False\n"
     ]
    }
   ],
   "source": [
    "S = Y.inverse()*X\n",
    "display(S, S.inverse())\n",
    "\n",
    "print(f\"{(S*v == w) = }\")\n",
    "display(S*v, w)\n",
    "print(f\"{is_Sp(S)=}\")"
   ]
  },
  {
   "cell_type": "markdown",
   "id": "8d3d115c-4eb2-4fce-99e2-4c557d285df5",
   "metadata": {},
   "source": [
    "### The values of M and N"
   ]
  },
  {
   "cell_type": "code",
   "execution_count": 15,
   "id": "948beca7-f2bb-4d99-98f1-0d66c3332fc7",
   "metadata": {},
   "outputs": [],
   "source": [
    "# 双一次形式を関数として定義\n",
    "def bilinear_form(x, y, A = identity_matrix(ZZ, 4)):\n",
    "    \"\"\"\n",
    "    行列Aで定義される双一次形式b(x, y) = x^T * A * y を計算する\n",
    "    \"\"\"\n",
    "    return x.dot_product(A * y)"
   ]
  },
  {
   "cell_type": "code",
   "execution_count": 16,
   "id": "cd9b7740-fa82-42fb-ae98-29fd7c53d86c",
   "metadata": {},
   "outputs": [
    {
     "data": {
      "text/html": [
       "<html>\\(\\displaystyle \\alpha^{3} + 3 \\alpha^{2} - 2 \\alpha + 1\\)</html>"
      ],
      "text/latex": [
       "$\\displaystyle \\alpha^{3} + 3 \\alpha^{2} - 2 \\alpha + 1$"
      ],
      "text/plain": [
       "alpha^3 + 3*alpha^2 - 2*alpha + 1"
      ]
     },
     "metadata": {},
     "output_type": "display_data"
    }
   ],
   "source": [
    "df = diff(cp_M)\n",
    "Del = df(alpha)/alpha; display(Del)"
   ]
  },
  {
   "cell_type": "code",
   "execution_count": 17,
   "id": "75961f47-8b08-415c-90a0-213ce208add4",
   "metadata": {},
   "outputs": [],
   "source": [
    "def Va(v):\n",
    "    tau_v = vector([tau(e) for e in v])\n",
    "    aD = bilinear_form(v, tau_v, J4)\n",
    "    return aD/Del"
   ]
  },
  {
   "cell_type": "code",
   "execution_count": 18,
   "id": "8cd61082-54f7-4b50-a1d2-6c11e09d8fd9",
   "metadata": {},
   "outputs": [
    {
     "data": {
      "text/html": [
       "<html>\\(\\displaystyle \\left[\\alpha^{3} - \\alpha^{2} - 1, -\\alpha^{3} + \\alpha^{2} + 2\\right]\\)</html>"
      ],
      "text/latex": [
       "$\\displaystyle \\left[\\alpha^{3} - \\alpha^{2} - 1, -\\alpha^{3} + \\alpha^{2} + 2\\right]$"
      ],
      "text/plain": [
       "[alpha^3 - alpha^2 - 1, -alpha^3 + alpha^2 + 2]"
      ]
     },
     "execution_count": 18,
     "metadata": {},
     "output_type": "execute_result"
    }
   ],
   "source": [
    "[Va(vec) for vec in [v,w]]"
   ]
  },
  {
   "cell_type": "code",
   "execution_count": null,
   "id": "ee259c7c-45d1-4897-9a9b-40ecf46fecf7",
   "metadata": {},
   "outputs": [],
   "source": [
    "(v, Va(v)), (w, Va(w))"
   ]
  },
  {
   "cell_type": "code",
   "execution_count": 19,
   "id": "d56a0c61-4f7f-47a0-a21a-55960818fc2e",
   "metadata": {},
   "outputs": [
    {
     "data": {
      "text/html": [
       "<html>\\(\\displaystyle \\alpha^{3} - \\alpha^{2}\\)</html>"
      ],
      "text/latex": [
       "$\\displaystyle \\alpha^{3} - \\alpha^{2}$"
      ],
      "text/plain": [
       "alpha^3 - alpha^2"
      ]
     },
     "metadata": {},
     "output_type": "display_data"
    },
    {
     "data": {
      "text/html": [
       "<html>\\(\\displaystyle \\mathrm{True}\\)</html>"
      ],
      "text/latex": [
       "$\\displaystyle \\mathrm{True}$"
      ],
      "text/plain": [
       "True"
      ]
     },
     "metadata": {},
     "output_type": "display_data"
    }
   ],
   "source": [
    "c = Va(v)/Va(w)\n",
    "display(c, c == tau(c))"
   ]
  },
  {
   "cell_type": "code",
   "execution_count": 20,
   "id": "3ef26992-9550-4b1b-bf30-65b2206237a7",
   "metadata": {},
   "outputs": [
    {
     "name": "stdout",
     "output_type": "stream",
     "text": [
      "\n",
      "--- 元 x = alpha^3 - alpha^2 の検証 ---\n",
      "不変性チェック成功: σ(x) = alpha^3 - alpha^2 で、x と一致します。\n",
      "分解できる可能性があります。\n",
      "ノルム: 1\n",
      "ノルムは平方数です。分解できる可能性があります。\n"
     ]
    },
    {
     "data": {
      "text/html": [
       "<html>\\(\\displaystyle \\mathrm{True}\\)</html>"
      ],
      "text/latex": [
       "$\\displaystyle \\mathrm{True}$"
      ],
      "text/plain": [
       "True"
      ]
     },
     "execution_count": 20,
     "metadata": {},
     "output_type": "execute_result"
    }
   ],
   "source": [
    "# --- 判定処理 ---\n",
    "def check_decomposition(x, sigma, O):\n",
    "    \"\"\"\n",
    "    x が u*sigma(u) の形に分解できるか検証する\n",
    "    \"\"\"\n",
    "    # x が代数的整数であるか確認\n",
    "    if x not in O:\n",
    "        print(f\"警告: {x} は代数的整数ではありません。\")\n",
    "        \n",
    "    print(f\"\\n--- 元 x = {x} の検証 ---\")\n",
    "    \n",
    "    # 必要条件: x が共役写像 σ で不変であるかチェック\n",
    "    if sigma(x) != x:\n",
    "        print(f\"不変性チェック失敗: σ(x) = {sigma(x)} は x と異なります。\")\n",
    "        print(\"したがって、x は u * σ(u) の形には分解できません。\")\n",
    "        return False\n",
    "    \n",
    "    print(f\"不変性チェック成功: σ(x) = {sigma(x)} で、x と一致します。\")\n",
    "    print(\"分解できる可能性があります。\")\n",
    "    \n",
    "    # # u * σ(u) = x となる u の存在を調べる\n",
    "    # # この部分の実装は、一般には困難\n",
    "    # # 幸いにも、このケースでは K^* のコホモロジー群が自明なため、\n",
    "    # # 不変元は常に u*σ(u) の形に書けます。\n",
    "    # # よって、不変性チェックが成功すれば、分解可能と判定します。\n",
    "    # # 実際には、x が代数的整数であるかどうかのチェックも重要です。\n",
    "    # print(\"理論上、不変元であるため、単数 u が存在して分解できます。\")\n",
    "    \n",
    "    # ノルムを計算\n",
    "    x_norm = x.norm()\n",
    "    print(f\"ノルム: {x_norm}\")\n",
    "\n",
    "    # 平方数であるかチェック\n",
    "    if is_square(x_norm):\n",
    "        print(\"ノルムは平方数です。分解できる可能性があります。\")\n",
    "    else:\n",
    "        print(\"ノルムは平方数ではありません。分解できません。\")\n",
    "        \n",
    "    return True\n",
    "\n",
    "# 検証を実行\n",
    "check_decomposition(c, tau, OK)"
   ]
  },
  {
   "cell_type": "code",
   "execution_count": 21,
   "id": "65ffc61d-dc0a-486a-9795-2c14e4a4bc10",
   "metadata": {},
   "outputs": [
    {
     "name": "stdout",
     "output_type": "stream",
     "text": [
      "元 x = a^3 - a^2\n",
      "共役 σ(x) = a^3 - a^2\n",
      "\n",
      "x は σ-不変です。分解できる可能性があります。\n"
     ]
    }
   ],
   "source": [
    "# 第10円分体 K を定義\n",
    "K.<a> = CyclotomicField(10)\n",
    "\n",
    "# a を 1/a に送る共役写像 σ を定義\n",
    "sigma = K.hom([1/a], K)\n",
    "\n",
    "# 調べる元 x = a^3 - a^2\n",
    "x = a^3 - a^2\n",
    "\n",
    "# x の共役 σ(x) を計算\n",
    "sigma_x = sigma(x)\n",
    "\n",
    "print(f\"元 x = {x}\")\n",
    "print(f\"共役 σ(x) = {sigma_x}\")\n",
    "\n",
    "# x と σ(x) が一致するか比較\n",
    "if x == sigma_x:\n",
    "    print(\"\\nx は σ-不変です。分解できる可能性があります。\")\n",
    "else:\n",
    "    print(f\"\\nx と σ(x) が一致しません。\")\n",
    "    print(\"したがって、x は u * σ(u) の形には分解できません。\")"
   ]
  },
  {
   "cell_type": "code",
   "execution_count": 29,
   "id": "6aa394e7-8890-492e-a9d2-85aa496bf9a4",
   "metadata": {},
   "outputs": [
    {
     "data": {
      "text/html": [
       "<html>\\(\\displaystyle \\left[\\alpha, -\\alpha + 1\\right]\\)</html>"
      ],
      "text/latex": [
       "$\\displaystyle \\left[\\alpha, -\\alpha + 1\\right]$"
      ],
      "text/plain": [
       "[alpha, -alpha + 1]"
      ]
     },
     "metadata": {},
     "output_type": "display_data"
    },
    {
     "data": {
      "text/html": [
       "<html>\\(\\displaystyle \\left[\\left(0, 0\\right), \\left(1, 1\\right), 1, \\alpha^{3} - \\alpha^{2}\\right]\\)</html>"
      ],
      "text/latex": [
       "$\\displaystyle \\left[\\left(0, 0\\right), \\left(1, 1\\right), 1, \\alpha^{3} - \\alpha^{2}\\right]$"
      ],
      "text/plain": [
       "[(0, 0), (1, 1), 1, alpha^3 - alpha^2]"
      ]
     },
     "metadata": {},
     "output_type": "display_data"
    },
    {
     "data": {
      "text/html": [
       "<html>\\(\\displaystyle \\left[\\left(0, 0\\right), \\left(1, -1\\right), 1, \\alpha^{3} - \\alpha^{2}\\right]\\)</html>"
      ],
      "text/latex": [
       "$\\displaystyle \\left[\\left(0, 0\\right), \\left(1, -1\\right), 1, \\alpha^{3} - \\alpha^{2}\\right]$"
      ],
      "text/plain": [
       "[(0, 0), (1, -1), 1, alpha^3 - alpha^2]"
      ]
     },
     "metadata": {},
     "output_type": "display_data"
    },
    {
     "data": {
      "text/html": [
       "<html>\\(\\displaystyle \\left[\\left(0, 0\\right), \\left(-1, 1\\right), 1, \\alpha^{3} - \\alpha^{2}\\right]\\)</html>"
      ],
      "text/latex": [
       "$\\displaystyle \\left[\\left(0, 0\\right), \\left(-1, 1\\right), 1, \\alpha^{3} - \\alpha^{2}\\right]$"
      ],
      "text/plain": [
       "[(0, 0), (-1, 1), 1, alpha^3 - alpha^2]"
      ]
     },
     "metadata": {},
     "output_type": "display_data"
    },
    {
     "data": {
      "text/html": [
       "<html>\\(\\displaystyle \\left[\\left(0, 0\\right), \\left(-1, -1\\right), 1, \\alpha^{3} - \\alpha^{2}\\right]\\)</html>"
      ],
      "text/latex": [
       "$\\displaystyle \\left[\\left(0, 0\\right), \\left(-1, -1\\right), 1, \\alpha^{3} - \\alpha^{2}\\right]$"
      ],
      "text/plain": [
       "[(0, 0), (-1, -1), 1, alpha^3 - alpha^2]"
      ]
     },
     "metadata": {},
     "output_type": "display_data"
    },
    {
     "data": {
      "text/html": [
       "<html>\\(\\displaystyle \\left[\\left(0, 1\\right), \\left(1, 1\\right), -\\alpha + 1, \\alpha^{3} - \\alpha^{2}\\right]\\)</html>"
      ],
      "text/latex": [
       "$\\displaystyle \\left[\\left(0, 1\\right), \\left(1, 1\\right), -\\alpha + 1, \\alpha^{3} - \\alpha^{2}\\right]$"
      ],
      "text/plain": [
       "[(0, 1), (1, 1), -alpha + 1, alpha^3 - alpha^2]"
      ]
     },
     "metadata": {},
     "output_type": "display_data"
    },
    {
     "data": {
      "text/html": [
       "<html>\\(\\displaystyle \\left[\\left(0, 1\\right), \\left(1, -1\\right), \\alpha^{3} + \\alpha, \\alpha^{3} - \\alpha^{2}\\right]\\)</html>"
      ],
      "text/latex": [
       "$\\displaystyle \\left[\\left(0, 1\\right), \\left(1, -1\\right), \\alpha^{3} + \\alpha, \\alpha^{3} - \\alpha^{2}\\right]$"
      ],
      "text/plain": [
       "[(0, 1), (1, -1), alpha^3 + alpha, alpha^3 - alpha^2]"
      ]
     },
     "metadata": {},
     "output_type": "display_data"
    },
    {
     "data": {
      "text/html": [
       "<html>\\(\\displaystyle \\left[\\left(0, 1\\right), \\left(-1, 1\\right), -\\alpha + 1, \\alpha^{3} - \\alpha^{2}\\right]\\)</html>"
      ],
      "text/latex": [
       "$\\displaystyle \\left[\\left(0, 1\\right), \\left(-1, 1\\right), -\\alpha + 1, \\alpha^{3} - \\alpha^{2}\\right]$"
      ],
      "text/plain": [
       "[(0, 1), (-1, 1), -alpha + 1, alpha^3 - alpha^2]"
      ]
     },
     "metadata": {},
     "output_type": "display_data"
    },
    {
     "data": {
      "text/html": [
       "<html>\\(\\displaystyle \\left[\\left(0, 1\\right), \\left(-1, -1\\right), \\alpha^{3} + \\alpha, \\alpha^{3} - \\alpha^{2}\\right]\\)</html>"
      ],
      "text/latex": [
       "$\\displaystyle \\left[\\left(0, 1\\right), \\left(-1, -1\\right), \\alpha^{3} + \\alpha, \\alpha^{3} - \\alpha^{2}\\right]$"
      ],
      "text/plain": [
       "[(0, 1), (-1, -1), alpha^3 + alpha, alpha^3 - alpha^2]"
      ]
     },
     "metadata": {},
     "output_type": "display_data"
    },
    {
     "data": {
      "text/html": [
       "<html>\\(\\displaystyle \\left[\\left(0, 2\\right), \\left(1, 1\\right), \\alpha^{2} - 2 \\alpha + 1, \\alpha^{3} - \\alpha^{2}\\right]\\)</html>"
      ],
      "text/latex": [
       "$\\displaystyle \\left[\\left(0, 2\\right), \\left(1, 1\\right), \\alpha^{2} - 2 \\alpha + 1, \\alpha^{3} - \\alpha^{2}\\right]$"
      ],
      "text/plain": [
       "[(0, 2), (1, 1), alpha^2 - 2*alpha + 1, alpha^3 - alpha^2]"
      ]
     },
     "metadata": {},
     "output_type": "display_data"
    },
    {
     "data": {
      "text/html": [
       "<html>\\(\\displaystyle \\left[\\left(0, 2\\right), \\left(1, -1\\right), 2 \\alpha^{3} - \\alpha^{2} + \\alpha - 2, \\alpha^{3} - \\alpha^{2}\\right]\\)</html>"
      ],
      "text/latex": [
       "$\\displaystyle \\left[\\left(0, 2\\right), \\left(1, -1\\right), 2 \\alpha^{3} - \\alpha^{2} + \\alpha - 2, \\alpha^{3} - \\alpha^{2}\\right]$"
      ],
      "text/plain": [
       "[(0, 2), (1, -1), 2*alpha^3 - alpha^2 + alpha - 2, alpha^3 - alpha^2]"
      ]
     },
     "metadata": {},
     "output_type": "display_data"
    },
    {
     "data": {
      "text/html": [
       "<html>\\(\\displaystyle \\left[\\left(0, 2\\right), \\left(-1, 1\\right), \\alpha^{2} - 2 \\alpha + 1, \\alpha^{3} - \\alpha^{2}\\right]\\)</html>"
      ],
      "text/latex": [
       "$\\displaystyle \\left[\\left(0, 2\\right), \\left(-1, 1\\right), \\alpha^{2} - 2 \\alpha + 1, \\alpha^{3} - \\alpha^{2}\\right]$"
      ],
      "text/plain": [
       "[(0, 2), (-1, 1), alpha^2 - 2*alpha + 1, alpha^3 - alpha^2]"
      ]
     },
     "metadata": {},
     "output_type": "display_data"
    },
    {
     "data": {
      "text/html": [
       "<html>\\(\\displaystyle \\left[\\left(0, 2\\right), \\left(-1, -1\\right), 2 \\alpha^{3} - \\alpha^{2} + \\alpha - 2, \\alpha^{3} - \\alpha^{2}\\right]\\)</html>"
      ],
      "text/latex": [
       "$\\displaystyle \\left[\\left(0, 2\\right), \\left(-1, -1\\right), 2 \\alpha^{3} - \\alpha^{2} + \\alpha - 2, \\alpha^{3} - \\alpha^{2}\\right]$"
      ],
      "text/plain": [
       "[(0, 2), (-1, -1), 2*alpha^3 - alpha^2 + alpha - 2, alpha^3 - alpha^2]"
      ]
     },
     "metadata": {},
     "output_type": "display_data"
    },
    {
     "data": {
      "text/html": [
       "<html>\\(\\displaystyle \\left[\\left(0, 3\\right), \\left(1, 1\\right), -\\alpha^{3} + 3 \\alpha^{2} - 3 \\alpha + 1, \\alpha^{3} - \\alpha^{2}\\right]\\)</html>"
      ],
      "text/latex": [
       "$\\displaystyle \\left[\\left(0, 3\\right), \\left(1, 1\\right), -\\alpha^{3} + 3 \\alpha^{2} - 3 \\alpha + 1, \\alpha^{3} - \\alpha^{2}\\right]$"
      ],
      "text/plain": [
       "[(0, 3), (1, 1), -alpha^3 + 3*alpha^2 - 3*alpha + 1, alpha^3 - alpha^2]"
      ]
     },
     "metadata": {},
     "output_type": "display_data"
    },
    {
     "data": {
      "text/html": [
       "<html>\\(\\displaystyle \\left[\\left(0, 3\\right), \\left(1, -1\\right), -2 \\alpha^{2} - \\alpha - 2, \\alpha^{3} - \\alpha^{2}\\right]\\)</html>"
      ],
      "text/latex": [
       "$\\displaystyle \\left[\\left(0, 3\\right), \\left(1, -1\\right), -2 \\alpha^{2} - \\alpha - 2, \\alpha^{3} - \\alpha^{2}\\right]$"
      ],
      "text/plain": [
       "[(0, 3), (1, -1), -2*alpha^2 - alpha - 2, alpha^3 - alpha^2]"
      ]
     },
     "metadata": {},
     "output_type": "display_data"
    },
    {
     "data": {
      "text/html": [
       "<html>\\(\\displaystyle \\left[\\left(0, 3\\right), \\left(-1, 1\\right), -\\alpha^{3} + 3 \\alpha^{2} - 3 \\alpha + 1, \\alpha^{3} - \\alpha^{2}\\right]\\)</html>"
      ],
      "text/latex": [
       "$\\displaystyle \\left[\\left(0, 3\\right), \\left(-1, 1\\right), -\\alpha^{3} + 3 \\alpha^{2} - 3 \\alpha + 1, \\alpha^{3} - \\alpha^{2}\\right]$"
      ],
      "text/plain": [
       "[(0, 3), (-1, 1), -alpha^3 + 3*alpha^2 - 3*alpha + 1, alpha^3 - alpha^2]"
      ]
     },
     "metadata": {},
     "output_type": "display_data"
    },
    {
     "data": {
      "text/html": [
       "<html>\\(\\displaystyle \\left[\\left(0, 3\\right), \\left(-1, -1\\right), -2 \\alpha^{2} - \\alpha - 2, \\alpha^{3} - \\alpha^{2}\\right]\\)</html>"
      ],
      "text/latex": [
       "$\\displaystyle \\left[\\left(0, 3\\right), \\left(-1, -1\\right), -2 \\alpha^{2} - \\alpha - 2, \\alpha^{3} - \\alpha^{2}\\right]$"
      ],
      "text/plain": [
       "[(0, 3), (-1, -1), -2*alpha^2 - alpha - 2, alpha^3 - alpha^2]"
      ]
     },
     "metadata": {},
     "output_type": "display_data"
    },
    {
     "data": {
      "text/html": [
       "<html>\\(\\displaystyle \\left[\\left(0, 4\\right), \\left(1, 1\\right), -3 \\alpha^{3} + 5 \\alpha^{2} - 3 \\alpha, \\alpha^{3} - \\alpha^{2}\\right]\\)</html>"
      ],
      "text/latex": [
       "$\\displaystyle \\left[\\left(0, 4\\right), \\left(1, 1\\right), -3 \\alpha^{3} + 5 \\alpha^{2} - 3 \\alpha, \\alpha^{3} - \\alpha^{2}\\right]$"
      ],
      "text/plain": [
       "[(0, 4), (1, 1), -3*alpha^3 + 5*alpha^2 - 3*alpha, alpha^3 - alpha^2]"
      ]
     },
     "metadata": {},
     "output_type": "display_data"
    },
    {
     "data": {
      "text/html": [
       "<html>\\(\\displaystyle \\left[\\left(0, 4\\right), \\left(1, -1\\right), -5 \\alpha^{3} - 3 \\alpha + 3, \\alpha^{3} - \\alpha^{2}\\right]\\)</html>"
      ],
      "text/latex": [
       "$\\displaystyle \\left[\\left(0, 4\\right), \\left(1, -1\\right), -5 \\alpha^{3} - 3 \\alpha + 3, \\alpha^{3} - \\alpha^{2}\\right]$"
      ],
      "text/plain": [
       "[(0, 4), (1, -1), -5*alpha^3 - 3*alpha + 3, alpha^3 - alpha^2]"
      ]
     },
     "metadata": {},
     "output_type": "display_data"
    },
    {
     "data": {
      "text/html": [
       "<html>\\(\\displaystyle \\left[\\left(0, 4\\right), \\left(-1, 1\\right), -3 \\alpha^{3} + 5 \\alpha^{2} - 3 \\alpha, \\alpha^{3} - \\alpha^{2}\\right]\\)</html>"
      ],
      "text/latex": [
       "$\\displaystyle \\left[\\left(0, 4\\right), \\left(-1, 1\\right), -3 \\alpha^{3} + 5 \\alpha^{2} - 3 \\alpha, \\alpha^{3} - \\alpha^{2}\\right]$"
      ],
      "text/plain": [
       "[(0, 4), (-1, 1), -3*alpha^3 + 5*alpha^2 - 3*alpha, alpha^3 - alpha^2]"
      ]
     },
     "metadata": {},
     "output_type": "display_data"
    },
    {
     "data": {
      "text/html": [
       "<html>\\(\\displaystyle \\left[\\left(0, 4\\right), \\left(-1, -1\\right), -5 \\alpha^{3} - 3 \\alpha + 3, \\alpha^{3} - \\alpha^{2}\\right]\\)</html>"
      ],
      "text/latex": [
       "$\\displaystyle \\left[\\left(0, 4\\right), \\left(-1, -1\\right), -5 \\alpha^{3} - 3 \\alpha + 3, \\alpha^{3} - \\alpha^{2}\\right]$"
      ],
      "text/plain": [
       "[(0, 4), (-1, -1), -5*alpha^3 - 3*alpha + 3, alpha^3 - alpha^2]"
      ]
     },
     "metadata": {},
     "output_type": "display_data"
    },
    {
     "data": {
      "text/html": [
       "<html>\\(\\displaystyle \\left[\\left(1, 0\\right), \\left(1, 1\\right), \\alpha, \\alpha^{3} - \\alpha^{2}\\right]\\)</html>"
      ],
      "text/latex": [
       "$\\displaystyle \\left[\\left(1, 0\\right), \\left(1, 1\\right), \\alpha, \\alpha^{3} - \\alpha^{2}\\right]$"
      ],
      "text/plain": [
       "[(1, 0), (1, 1), alpha, alpha^3 - alpha^2]"
      ]
     },
     "metadata": {},
     "output_type": "display_data"
    },
    {
     "data": {
      "text/html": [
       "<html>\\(\\displaystyle \\left[\\left(1, 0\\right), \\left(1, -1\\right), \\alpha, \\alpha^{3} - \\alpha^{2}\\right]\\)</html>"
      ],
      "text/latex": [
       "$\\displaystyle \\left[\\left(1, 0\\right), \\left(1, -1\\right), \\alpha, \\alpha^{3} - \\alpha^{2}\\right]$"
      ],
      "text/plain": [
       "[(1, 0), (1, -1), alpha, alpha^3 - alpha^2]"
      ]
     },
     "metadata": {},
     "output_type": "display_data"
    },
    {
     "data": {
      "text/html": [
       "<html>\\(\\displaystyle \\left[\\left(1, 0\\right), \\left(-1, 1\\right), -\\alpha^{3} + \\alpha^{2} - \\alpha + 1, \\alpha^{3} - \\alpha^{2}\\right]\\)</html>"
      ],
      "text/latex": [
       "$\\displaystyle \\left[\\left(1, 0\\right), \\left(-1, 1\\right), -\\alpha^{3} + \\alpha^{2} - \\alpha + 1, \\alpha^{3} - \\alpha^{2}\\right]$"
      ],
      "text/plain": [
       "[(1, 0), (-1, 1), -alpha^3 + alpha^2 - alpha + 1, alpha^3 - alpha^2]"
      ]
     },
     "metadata": {},
     "output_type": "display_data"
    },
    {
     "data": {
      "text/html": [
       "<html>\\(\\displaystyle \\left[\\left(1, 0\\right), \\left(-1, -1\\right), -\\alpha^{3} + \\alpha^{2} - \\alpha + 1, \\alpha^{3} - \\alpha^{2}\\right]\\)</html>"
      ],
      "text/latex": [
       "$\\displaystyle \\left[\\left(1, 0\\right), \\left(-1, -1\\right), -\\alpha^{3} + \\alpha^{2} - \\alpha + 1, \\alpha^{3} - \\alpha^{2}\\right]$"
      ],
      "text/plain": [
       "[(1, 0), (-1, -1), -alpha^3 + alpha^2 - alpha + 1, alpha^3 - alpha^2]"
      ]
     },
     "metadata": {},
     "output_type": "display_data"
    },
    {
     "data": {
      "text/html": [
       "<html>\\(\\displaystyle \\left[\\left(1, 1\\right), \\left(1, 1\\right), -\\alpha^{2} + \\alpha, \\alpha^{3} - \\alpha^{2}\\right]\\)</html>"
      ],
      "text/latex": [
       "$\\displaystyle \\left[\\left(1, 1\\right), \\left(1, 1\\right), -\\alpha^{2} + \\alpha, \\alpha^{3} - \\alpha^{2}\\right]$"
      ],
      "text/plain": [
       "[(1, 1), (1, 1), -alpha^2 + alpha, alpha^3 - alpha^2]"
      ]
     },
     "metadata": {},
     "output_type": "display_data"
    },
    {
     "data": {
      "text/html": [
       "<html>\\(\\displaystyle \\left[\\left(1, 1\\right), \\left(1, -1\\right), \\alpha^{3} + \\alpha - 1, \\alpha^{3} - \\alpha^{2}\\right]\\)</html>"
      ],
      "text/latex": [
       "$\\displaystyle \\left[\\left(1, 1\\right), \\left(1, -1\\right), \\alpha^{3} + \\alpha - 1, \\alpha^{3} - \\alpha^{2}\\right]$"
      ],
      "text/plain": [
       "[(1, 1), (1, -1), alpha^3 + alpha - 1, alpha^3 - alpha^2]"
      ]
     },
     "metadata": {},
     "output_type": "display_data"
    },
    {
     "data": {
      "text/html": [
       "<html>\\(\\displaystyle \\left[\\left(1, 1\\right), \\left(-1, 1\\right), -\\alpha^{3} + \\alpha^{2} - \\alpha, \\alpha^{3} - \\alpha^{2}\\right]\\)</html>"
      ],
      "text/latex": [
       "$\\displaystyle \\left[\\left(1, 1\\right), \\left(-1, 1\\right), -\\alpha^{3} + \\alpha^{2} - \\alpha, \\alpha^{3} - \\alpha^{2}\\right]$"
      ],
      "text/plain": [
       "[(1, 1), (-1, 1), -alpha^3 + alpha^2 - alpha, alpha^3 - alpha^2]"
      ]
     },
     "metadata": {},
     "output_type": "display_data"
    },
    {
     "data": {
      "text/html": [
       "<html>\\(\\displaystyle \\left[\\left(1, 1\\right), \\left(-1, -1\\right), \\alpha^{2} + 1, \\alpha^{3} - \\alpha^{2}\\right]\\)</html>"
      ],
      "text/latex": [
       "$\\displaystyle \\left[\\left(1, 1\\right), \\left(-1, -1\\right), \\alpha^{2} + 1, \\alpha^{3} - \\alpha^{2}\\right]$"
      ],
      "text/plain": [
       "[(1, 1), (-1, -1), alpha^2 + 1, alpha^3 - alpha^2]"
      ]
     },
     "metadata": {},
     "output_type": "display_data"
    },
    {
     "data": {
      "text/html": [
       "<html>\\(\\displaystyle \\left[\\left(1, 2\\right), \\left(1, 1\\right), \\alpha^{3} - 2 \\alpha^{2} + \\alpha, \\alpha^{3} - \\alpha^{2}\\right]\\)</html>"
      ],
      "text/latex": [
       "$\\displaystyle \\left[\\left(1, 2\\right), \\left(1, 1\\right), \\alpha^{3} - 2 \\alpha^{2} + \\alpha, \\alpha^{3} - \\alpha^{2}\\right]$"
      ],
      "text/plain": [
       "[(1, 2), (1, 1), alpha^3 - 2*alpha^2 + alpha, alpha^3 - alpha^2]"
      ]
     },
     "metadata": {},
     "output_type": "display_data"
    },
    {
     "data": {
      "text/html": [
       "<html>\\(\\displaystyle \\left[\\left(1, 2\\right), \\left(1, -1\\right), \\alpha^{3} - \\alpha^{2} - 2, \\alpha^{3} - \\alpha^{2}\\right]\\)</html>"
      ],
      "text/latex": [
       "$\\displaystyle \\left[\\left(1, 2\\right), \\left(1, -1\\right), \\alpha^{3} - \\alpha^{2} - 2, \\alpha^{3} - \\alpha^{2}\\right]$"
      ],
      "text/plain": [
       "[(1, 2), (1, -1), alpha^3 - alpha^2 - 2, alpha^3 - alpha^2]"
      ]
     },
     "metadata": {},
     "output_type": "display_data"
    },
    {
     "data": {
      "text/html": [
       "<html>\\(\\displaystyle \\left[\\left(1, 2\\right), \\left(-1, 1\\right), -\\alpha^{3} + \\alpha^{2} - 1, \\alpha^{3} - \\alpha^{2}\\right]\\)</html>"
      ],
      "text/latex": [
       "$\\displaystyle \\left[\\left(1, 2\\right), \\left(-1, 1\\right), -\\alpha^{3} + \\alpha^{2} - 1, \\alpha^{3} - \\alpha^{2}\\right]$"
      ],
      "text/plain": [
       "[(1, 2), (-1, 1), -alpha^3 + alpha^2 - 1, alpha^3 - alpha^2]"
      ]
     },
     "metadata": {},
     "output_type": "display_data"
    },
    {
     "data": {
      "text/html": [
       "<html>\\(\\displaystyle \\left[\\left(1, 2\\right), \\left(-1, -1\\right), 2 \\alpha^{3} + \\alpha - 1, \\alpha^{3} - \\alpha^{2}\\right]\\)</html>"
      ],
      "text/latex": [
       "$\\displaystyle \\left[\\left(1, 2\\right), \\left(-1, -1\\right), 2 \\alpha^{3} + \\alpha - 1, \\alpha^{3} - \\alpha^{2}\\right]$"
      ],
      "text/plain": [
       "[(1, 2), (-1, -1), 2*alpha^3 + alpha - 1, alpha^3 - alpha^2]"
      ]
     },
     "metadata": {},
     "output_type": "display_data"
    },
    {
     "data": {
      "text/html": [
       "<html>\\(\\displaystyle \\left[\\left(1, 3\\right), \\left(1, 1\\right), 2 \\alpha^{3} - 2 \\alpha^{2} + 1, \\alpha^{3} - \\alpha^{2}\\right]\\)</html>"
      ],
      "text/latex": [
       "$\\displaystyle \\left[\\left(1, 3\\right), \\left(1, 1\\right), 2 \\alpha^{3} - 2 \\alpha^{2} + 1, \\alpha^{3} - \\alpha^{2}\\right]$"
      ],
      "text/plain": [
       "[(1, 3), (1, 1), 2*alpha^3 - 2*alpha^2 + 1, alpha^3 - alpha^2]"
      ]
     },
     "metadata": {},
     "output_type": "display_data"
    },
    {
     "data": {
      "text/html": [
       "<html>\\(\\displaystyle \\left[\\left(1, 3\\right), \\left(1, -1\\right), -2 \\alpha^{3} - \\alpha^{2} - 2 \\alpha, \\alpha^{3} - \\alpha^{2}\\right]\\)</html>"
      ],
      "text/latex": [
       "$\\displaystyle \\left[\\left(1, 3\\right), \\left(1, -1\\right), -2 \\alpha^{3} - \\alpha^{2} - 2 \\alpha, \\alpha^{3} - \\alpha^{2}\\right]$"
      ],
      "text/plain": [
       "[(1, 3), (1, -1), -2*alpha^3 - alpha^2 - 2*alpha, alpha^3 - alpha^2]"
      ]
     },
     "metadata": {},
     "output_type": "display_data"
    },
    {
     "data": {
      "text/html": [
       "<html>\\(\\displaystyle \\left[\\left(1, 3\\right), \\left(-1, 1\\right), -\\alpha^{3} + 2 \\alpha - 2, \\alpha^{3} - \\alpha^{2}\\right]\\)</html>"
      ],
      "text/latex": [
       "$\\displaystyle \\left[\\left(1, 3\\right), \\left(-1, 1\\right), -\\alpha^{3} + 2 \\alpha - 2, \\alpha^{3} - \\alpha^{2}\\right]$"
      ],
      "text/plain": [
       "[(1, 3), (-1, 1), -alpha^3 + 2*alpha - 2, alpha^3 - alpha^2]"
      ]
     },
     "metadata": {},
     "output_type": "display_data"
    },
    {
     "data": {
      "text/html": [
       "<html>\\(\\displaystyle \\left[\\left(1, 3\\right), \\left(-1, -1\\right), 2 \\alpha^{3} - 2 \\alpha^{2} - 3, \\alpha^{3} - \\alpha^{2}\\right]\\)</html>"
      ],
      "text/latex": [
       "$\\displaystyle \\left[\\left(1, 3\\right), \\left(-1, -1\\right), 2 \\alpha^{3} - 2 \\alpha^{2} - 3, \\alpha^{3} - \\alpha^{2}\\right]$"
      ],
      "text/plain": [
       "[(1, 3), (-1, -1), 2*alpha^3 - 2*alpha^2 - 3, alpha^3 - alpha^2]"
      ]
     },
     "metadata": {},
     "output_type": "display_data"
    },
    {
     "data": {
      "text/html": [
       "<html>\\(\\displaystyle \\left[\\left(1, 4\\right), \\left(1, 1\\right), 2 \\alpha^{3} - 3 \\alpha + 3, \\alpha^{3} - \\alpha^{2}\\right]\\)</html>"
      ],
      "text/latex": [
       "$\\displaystyle \\left[\\left(1, 4\\right), \\left(1, 1\\right), 2 \\alpha^{3} - 3 \\alpha + 3, \\alpha^{3} - \\alpha^{2}\\right]$"
      ],
      "text/plain": [
       "[(1, 4), (1, 1), 2*alpha^3 - 3*alpha + 3, alpha^3 - alpha^2]"
      ]
     },
     "metadata": {},
     "output_type": "display_data"
    },
    {
     "data": {
      "text/html": [
       "<html>\\(\\displaystyle \\left[\\left(1, 4\\right), \\left(1, -1\\right), -5 \\alpha^{3} + 2 \\alpha^{2} - 2 \\alpha + 5, \\alpha^{3} - \\alpha^{2}\\right]\\)</html>"
      ],
      "text/latex": [
       "$\\displaystyle \\left[\\left(1, 4\\right), \\left(1, -1\\right), -5 \\alpha^{3} + 2 \\alpha^{2} - 2 \\alpha + 5, \\alpha^{3} - \\alpha^{2}\\right]$"
      ],
      "text/plain": [
       "[(1, 4), (1, -1), -5*alpha^3 + 2*alpha^2 - 2*alpha + 5, alpha^3 - alpha^2]"
      ]
     },
     "metadata": {},
     "output_type": "display_data"
    },
    {
     "data": {
      "text/html": [
       "<html>\\(\\displaystyle \\left[\\left(1, 4\\right), \\left(-1, 1\\right), -3 \\alpha^{2} + 5 \\alpha - 3, \\alpha^{3} - \\alpha^{2}\\right]\\)</html>"
      ],
      "text/latex": [
       "$\\displaystyle \\left[\\left(1, 4\\right), \\left(-1, 1\\right), -3 \\alpha^{2} + 5 \\alpha - 3, \\alpha^{3} - \\alpha^{2}\\right]$"
      ],
      "text/plain": [
       "[(1, 4), (-1, 1), -3*alpha^2 + 5*alpha - 3, alpha^3 - alpha^2]"
      ]
     },
     "metadata": {},
     "output_type": "display_data"
    },
    {
     "data": {
      "text/html": [
       "<html>\\(\\displaystyle \\left[\\left(1, 4\\right), \\left(-1, -1\\right), -3 \\alpha^{3} - 2 \\alpha^{2} - 3 \\alpha, \\alpha^{3} - \\alpha^{2}\\right]\\)</html>"
      ],
      "text/latex": [
       "$\\displaystyle \\left[\\left(1, 4\\right), \\left(-1, -1\\right), -3 \\alpha^{3} - 2 \\alpha^{2} - 3 \\alpha, \\alpha^{3} - \\alpha^{2}\\right]$"
      ],
      "text/plain": [
       "[(1, 4), (-1, -1), -3*alpha^3 - 2*alpha^2 - 3*alpha, alpha^3 - alpha^2]"
      ]
     },
     "metadata": {},
     "output_type": "display_data"
    },
    {
     "data": {
      "text/html": [
       "<html>\\(\\displaystyle \\left[\\left(2, 0\\right), \\left(1, 1\\right), \\alpha^{2}, \\alpha^{3} - \\alpha^{2}\\right]\\)</html>"
      ],
      "text/latex": [
       "$\\displaystyle \\left[\\left(2, 0\\right), \\left(1, 1\\right), \\alpha^{2}, \\alpha^{3} - \\alpha^{2}\\right]$"
      ],
      "text/plain": [
       "[(2, 0), (1, 1), alpha^2, alpha^3 - alpha^2]"
      ]
     },
     "metadata": {},
     "output_type": "display_data"
    },
    {
     "data": {
      "text/html": [
       "<html>\\(\\displaystyle \\left[\\left(2, 0\\right), \\left(1, -1\\right), \\alpha^{2}, \\alpha^{3} - \\alpha^{2}\\right]\\)</html>"
      ],
      "text/latex": [
       "$\\displaystyle \\left[\\left(2, 0\\right), \\left(1, -1\\right), \\alpha^{2}, \\alpha^{3} - \\alpha^{2}\\right]$"
      ],
      "text/plain": [
       "[(2, 0), (1, -1), alpha^2, alpha^3 - alpha^2]"
      ]
     },
     "metadata": {},
     "output_type": "display_data"
    },
    {
     "data": {
      "text/html": [
       "<html>\\(\\displaystyle \\left[\\left(2, 0\\right), \\left(-1, 1\\right), -\\alpha^{3}, \\alpha^{3} - \\alpha^{2}\\right]\\)</html>"
      ],
      "text/latex": [
       "$\\displaystyle \\left[\\left(2, 0\\right), \\left(-1, 1\\right), -\\alpha^{3}, \\alpha^{3} - \\alpha^{2}\\right]$"
      ],
      "text/plain": [
       "[(2, 0), (-1, 1), -alpha^3, alpha^3 - alpha^2]"
      ]
     },
     "metadata": {},
     "output_type": "display_data"
    },
    {
     "data": {
      "text/html": [
       "<html>\\(\\displaystyle \\left[\\left(2, 0\\right), \\left(-1, -1\\right), -\\alpha^{3}, \\alpha^{3} - \\alpha^{2}\\right]\\)</html>"
      ],
      "text/latex": [
       "$\\displaystyle \\left[\\left(2, 0\\right), \\left(-1, -1\\right), -\\alpha^{3}, \\alpha^{3} - \\alpha^{2}\\right]$"
      ],
      "text/plain": [
       "[(2, 0), (-1, -1), -alpha^3, alpha^3 - alpha^2]"
      ]
     },
     "metadata": {},
     "output_type": "display_data"
    },
    {
     "data": {
      "text/html": [
       "<html>\\(\\displaystyle \\left[\\left(2, 1\\right), \\left(1, 1\\right), -\\alpha^{3} + \\alpha^{2}, \\alpha^{3} - \\alpha^{2}\\right]\\)</html>"
      ],
      "text/latex": [
       "$\\displaystyle \\left[\\left(2, 1\\right), \\left(1, 1\\right), -\\alpha^{3} + \\alpha^{2}, \\alpha^{3} - \\alpha^{2}\\right]$"
      ],
      "text/plain": [
       "[(2, 1), (1, 1), -alpha^3 + alpha^2, alpha^3 - alpha^2]"
      ]
     },
     "metadata": {},
     "output_type": "display_data"
    },
    {
     "data": {
      "text/html": [
       "<html>\\(\\displaystyle \\left[\\left(2, 1\\right), \\left(1, -1\\right), \\alpha^{3} - 1, \\alpha^{3} - \\alpha^{2}\\right]\\)</html>"
      ],
      "text/latex": [
       "$\\displaystyle \\left[\\left(2, 1\\right), \\left(1, -1\\right), \\alpha^{3} - 1, \\alpha^{3} - \\alpha^{2}\\right]$"
      ],
      "text/plain": [
       "[(2, 1), (1, -1), alpha^3 - 1, alpha^3 - alpha^2]"
      ]
     },
     "metadata": {},
     "output_type": "display_data"
    },
    {
     "data": {
      "text/html": [
       "<html>\\(\\displaystyle \\left[\\left(2, 1\\right), \\left(-1, 1\\right), -\\alpha^{2} + \\alpha - 1, \\alpha^{3} - \\alpha^{2}\\right]\\)</html>"
      ],
      "text/latex": [
       "$\\displaystyle \\left[\\left(2, 1\\right), \\left(-1, 1\\right), -\\alpha^{2} + \\alpha - 1, \\alpha^{3} - \\alpha^{2}\\right]$"
      ],
      "text/plain": [
       "[(2, 1), (-1, 1), -alpha^2 + alpha - 1, alpha^3 - alpha^2]"
      ]
     },
     "metadata": {},
     "output_type": "display_data"
    },
    {
     "data": {
      "text/html": [
       "<html>\\(\\displaystyle \\left[\\left(2, 1\\right), \\left(-1, -1\\right), -\\alpha^{3} + \\alpha^{2} + 1, \\alpha^{3} - \\alpha^{2}\\right]\\)</html>"
      ],
      "text/latex": [
       "$\\displaystyle \\left[\\left(2, 1\\right), \\left(-1, -1\\right), -\\alpha^{3} + \\alpha^{2} + 1, \\alpha^{3} - \\alpha^{2}\\right]$"
      ],
      "text/plain": [
       "[(2, 1), (-1, -1), -alpha^3 + alpha^2 + 1, alpha^3 - alpha^2]"
      ]
     },
     "metadata": {},
     "output_type": "display_data"
    },
    {
     "data": {
      "text/html": [
       "<html>\\(\\displaystyle \\left[\\left(2, 2\\right), \\left(1, 1\\right), -\\alpha^{3} + \\alpha - 1, \\alpha^{3} - \\alpha^{2}\\right]\\)</html>"
      ],
      "text/latex": [
       "$\\displaystyle \\left[\\left(2, 2\\right), \\left(1, 1\\right), -\\alpha^{3} + \\alpha - 1, \\alpha^{3} - \\alpha^{2}\\right]$"
      ],
      "text/plain": [
       "[(2, 2), (1, 1), -alpha^3 + alpha - 1, alpha^3 - alpha^2]"
      ]
     },
     "metadata": {},
     "output_type": "display_data"
    },
    {
     "data": {
      "text/html": [
       "<html>\\(\\displaystyle \\left[\\left(2, 2\\right), \\left(1, -1\\right), -\\alpha^{2} - \\alpha - 1, \\alpha^{3} - \\alpha^{2}\\right]\\)</html>"
      ],
      "text/latex": [
       "$\\displaystyle \\left[\\left(2, 2\\right), \\left(1, -1\\right), -\\alpha^{2} - \\alpha - 1, \\alpha^{3} - \\alpha^{2}\\right]$"
      ],
      "text/plain": [
       "[(2, 2), (1, -1), -alpha^2 - alpha - 1, alpha^3 - alpha^2]"
      ]
     },
     "metadata": {},
     "output_type": "display_data"
    },
    {
     "data": {
      "text/html": [
       "<html>\\(\\displaystyle \\left[\\left(2, 2\\right), \\left(-1, 1\\right), \\alpha^{3} - 2 \\alpha^{2} + 2 \\alpha - 1, \\alpha^{3} - \\alpha^{2}\\right]\\)</html>"
      ],
      "text/latex": [
       "$\\displaystyle \\left[\\left(2, 2\\right), \\left(-1, 1\\right), \\alpha^{3} - 2 \\alpha^{2} + 2 \\alpha - 1, \\alpha^{3} - \\alpha^{2}\\right]$"
      ],
      "text/plain": [
       "[(2, 2), (-1, 1), alpha^3 - 2*alpha^2 + 2*alpha - 1, alpha^3 - alpha^2]"
      ]
     },
     "metadata": {},
     "output_type": "display_data"
    },
    {
     "data": {
      "text/html": [
       "<html>\\(\\displaystyle \\left[\\left(2, 2\\right), \\left(-1, -1\\right), \\alpha^{3} + \\alpha^{2} + \\alpha, \\alpha^{3} - \\alpha^{2}\\right]\\)</html>"
      ],
      "text/latex": [
       "$\\displaystyle \\left[\\left(2, 2\\right), \\left(-1, -1\\right), \\alpha^{3} + \\alpha^{2} + \\alpha, \\alpha^{3} - \\alpha^{2}\\right]$"
      ],
      "text/plain": [
       "[(2, 2), (-1, -1), alpha^3 + alpha^2 + alpha, alpha^3 - alpha^2]"
      ]
     },
     "metadata": {},
     "output_type": "display_data"
    },
    {
     "data": {
      "text/html": [
       "<html>\\(\\displaystyle \\left[\\left(2, 3\\right), \\left(1, 1\\right), -2 \\alpha^{2} + 3 \\alpha - 2, \\alpha^{3} - \\alpha^{2}\\right]\\)</html>"
      ],
      "text/latex": [
       "$\\displaystyle \\left[\\left(2, 3\\right), \\left(1, 1\\right), -2 \\alpha^{2} + 3 \\alpha - 2, \\alpha^{3} - \\alpha^{2}\\right]$"
      ],
      "text/plain": [
       "[(2, 3), (1, 1), -2*alpha^2 + 3*alpha - 2, alpha^3 - alpha^2]"
      ]
     },
     "metadata": {},
     "output_type": "display_data"
    },
    {
     "data": {
      "text/html": [
       "<html>\\(\\displaystyle \\left[\\left(2, 3\\right), \\left(1, -1\\right), -3 \\alpha^{3} - 2 \\alpha + 2, \\alpha^{3} - \\alpha^{2}\\right]\\)</html>"
      ],
      "text/latex": [
       "$\\displaystyle \\left[\\left(2, 3\\right), \\left(1, -1\\right), -3 \\alpha^{3} - 2 \\alpha + 2, \\alpha^{3} - \\alpha^{2}\\right]$"
      ],
      "text/plain": [
       "[(2, 3), (1, -1), -3*alpha^3 - 2*alpha + 2, alpha^3 - alpha^2]"
      ]
     },
     "metadata": {},
     "output_type": "display_data"
    },
    {
     "data": {
      "text/html": [
       "<html>\\(\\displaystyle \\left[\\left(2, 3\\right), \\left(-1, 1\\right), 2 \\alpha^{3} - 3 \\alpha^{2} + 2 \\alpha, \\alpha^{3} - \\alpha^{2}\\right]\\)</html>"
      ],
      "text/latex": [
       "$\\displaystyle \\left[\\left(2, 3\\right), \\left(-1, 1\\right), 2 \\alpha^{3} - 3 \\alpha^{2} + 2 \\alpha, \\alpha^{3} - \\alpha^{2}\\right]$"
      ],
      "text/plain": [
       "[(2, 3), (-1, 1), 2*alpha^3 - 3*alpha^2 + 2*alpha, alpha^3 - alpha^2]"
      ]
     },
     "metadata": {},
     "output_type": "display_data"
    },
    {
     "data": {
      "text/html": [
       "<html>\\(\\displaystyle \\left[\\left(2, 3\\right), \\left(-1, -1\\right), 3 \\alpha^{3} - \\alpha^{2} + \\alpha - 3, \\alpha^{3} - \\alpha^{2}\\right]\\)</html>"
      ],
      "text/latex": [
       "$\\displaystyle \\left[\\left(2, 3\\right), \\left(-1, -1\\right), 3 \\alpha^{3} - \\alpha^{2} + \\alpha - 3, \\alpha^{3} - \\alpha^{2}\\right]$"
      ],
      "text/plain": [
       "[(2, 3), (-1, -1), 3*alpha^3 - alpha^2 + alpha - 3, alpha^3 - alpha^2]"
      ]
     },
     "metadata": {},
     "output_type": "display_data"
    },
    {
     "data": {
      "text/html": [
       "<html>\\(\\displaystyle \\left[\\left(2, 4\\right), \\left(1, 1\\right), 2 \\alpha^{3} - 5 \\alpha^{2} + 5 \\alpha - 2, \\alpha^{3} - \\alpha^{2}\\right]\\)</html>"
      ],
      "text/latex": [
       "$\\displaystyle \\left[\\left(2, 4\\right), \\left(1, 1\\right), 2 \\alpha^{3} - 5 \\alpha^{2} + 5 \\alpha - 2, \\alpha^{3} - \\alpha^{2}\\right]$"
      ],
      "text/plain": [
       "[(2, 4), (1, 1), 2*alpha^3 - 5*alpha^2 + 5*alpha - 2, alpha^3 - alpha^2]"
      ]
     },
     "metadata": {},
     "output_type": "display_data"
    },
    {
     "data": {
      "text/html": [
       "<html>\\(\\displaystyle \\left[\\left(2, 4\\right), \\left(1, -1\\right), -3 \\alpha^{3} + 3 \\alpha^{2} + 5, \\alpha^{3} - \\alpha^{2}\\right]\\)</html>"
      ],
      "text/latex": [
       "$\\displaystyle \\left[\\left(2, 4\\right), \\left(1, -1\\right), -3 \\alpha^{3} + 3 \\alpha^{2} + 5, \\alpha^{3} - \\alpha^{2}\\right]$"
      ],
      "text/plain": [
       "[(2, 4), (1, -1), -3*alpha^3 + 3*alpha^2 + 5, alpha^3 - alpha^2]"
      ]
     },
     "metadata": {},
     "output_type": "display_data"
    },
    {
     "data": {
      "text/html": [
       "<html>\\(\\displaystyle \\left[\\left(2, 4\\right), \\left(-1, 1\\right), 3 \\alpha^{3} - 3 \\alpha^{2} + 2, \\alpha^{3} - \\alpha^{2}\\right]\\)</html>"
      ],
      "text/latex": [
       "$\\displaystyle \\left[\\left(2, 4\\right), \\left(-1, 1\\right), 3 \\alpha^{3} - 3 \\alpha^{2} + 2, \\alpha^{3} - \\alpha^{2}\\right]$"
      ],
      "text/plain": [
       "[(2, 4), (-1, 1), 3*alpha^3 - 3*alpha^2 + 2, alpha^3 - alpha^2]"
      ]
     },
     "metadata": {},
     "output_type": "display_data"
    },
    {
     "data": {
      "text/html": [
       "<html>\\(\\displaystyle \\left[\\left(2, 4\\right), \\left(-1, -1\\right), -3 \\alpha^{2} - 2 \\alpha - 3, \\alpha^{3} - \\alpha^{2}\\right]\\)</html>"
      ],
      "text/latex": [
       "$\\displaystyle \\left[\\left(2, 4\\right), \\left(-1, -1\\right), -3 \\alpha^{2} - 2 \\alpha - 3, \\alpha^{3} - \\alpha^{2}\\right]$"
      ],
      "text/plain": [
       "[(2, 4), (-1, -1), -3*alpha^2 - 2*alpha - 3, alpha^3 - alpha^2]"
      ]
     },
     "metadata": {},
     "output_type": "display_data"
    },
    {
     "data": {
      "text/html": [
       "<html>\\(\\displaystyle \\left[\\left(3, 0\\right), \\left(1, 1\\right), \\alpha^{3}, \\alpha^{3} - \\alpha^{2}\\right]\\)</html>"
      ],
      "text/latex": [
       "$\\displaystyle \\left[\\left(3, 0\\right), \\left(1, 1\\right), \\alpha^{3}, \\alpha^{3} - \\alpha^{2}\\right]$"
      ],
      "text/plain": [
       "[(3, 0), (1, 1), alpha^3, alpha^3 - alpha^2]"
      ]
     },
     "metadata": {},
     "output_type": "display_data"
    },
    {
     "data": {
      "text/html": [
       "<html>\\(\\displaystyle \\left[\\left(3, 0\\right), \\left(1, -1\\right), \\alpha^{3}, \\alpha^{3} - \\alpha^{2}\\right]\\)</html>"
      ],
      "text/latex": [
       "$\\displaystyle \\left[\\left(3, 0\\right), \\left(1, -1\\right), \\alpha^{3}, \\alpha^{3} - \\alpha^{2}\\right]$"
      ],
      "text/plain": [
       "[(3, 0), (1, -1), alpha^3, alpha^3 - alpha^2]"
      ]
     },
     "metadata": {},
     "output_type": "display_data"
    },
    {
     "data": {
      "text/html": [
       "<html>\\(\\displaystyle \\left[\\left(3, 0\\right), \\left(-1, 1\\right), -\\alpha^{2}, \\alpha^{3} - \\alpha^{2}\\right]\\)</html>"
      ],
      "text/latex": [
       "$\\displaystyle \\left[\\left(3, 0\\right), \\left(-1, 1\\right), -\\alpha^{2}, \\alpha^{3} - \\alpha^{2}\\right]$"
      ],
      "text/plain": [
       "[(3, 0), (-1, 1), -alpha^2, alpha^3 - alpha^2]"
      ]
     },
     "metadata": {},
     "output_type": "display_data"
    },
    {
     "data": {
      "text/html": [
       "<html>\\(\\displaystyle \\left[\\left(3, 0\\right), \\left(-1, -1\\right), -\\alpha^{2}, \\alpha^{3} - \\alpha^{2}\\right]\\)</html>"
      ],
      "text/latex": [
       "$\\displaystyle \\left[\\left(3, 0\\right), \\left(-1, -1\\right), -\\alpha^{2}, \\alpha^{3} - \\alpha^{2}\\right]$"
      ],
      "text/plain": [
       "[(3, 0), (-1, -1), -alpha^2, alpha^3 - alpha^2]"
      ]
     },
     "metadata": {},
     "output_type": "display_data"
    },
    {
     "data": {
      "text/html": [
       "<html>\\(\\displaystyle \\left[\\left(3, 1\\right), \\left(1, 1\\right), \\alpha^{2} - \\alpha + 1, \\alpha^{3} - \\alpha^{2}\\right]\\)</html>"
      ],
      "text/latex": [
       "$\\displaystyle \\left[\\left(3, 1\\right), \\left(1, 1\\right), \\alpha^{2} - \\alpha + 1, \\alpha^{3} - \\alpha^{2}\\right]$"
      ],
      "text/plain": [
       "[(3, 1), (1, 1), alpha^2 - alpha + 1, alpha^3 - alpha^2]"
      ]
     },
     "metadata": {},
     "output_type": "display_data"
    },
    {
     "data": {
      "text/html": [
       "<html>\\(\\displaystyle \\left[\\left(3, 1\\right), \\left(1, -1\\right), \\alpha^{3} - \\alpha^{2} - 1, \\alpha^{3} - \\alpha^{2}\\right]\\)</html>"
      ],
      "text/latex": [
       "$\\displaystyle \\left[\\left(3, 1\\right), \\left(1, -1\\right), \\alpha^{3} - \\alpha^{2} - 1, \\alpha^{3} - \\alpha^{2}\\right]$"
      ],
      "text/plain": [
       "[(3, 1), (1, -1), alpha^3 - alpha^2 - 1, alpha^3 - alpha^2]"
      ]
     },
     "metadata": {},
     "output_type": "display_data"
    },
    {
     "data": {
      "text/html": [
       "<html>\\(\\displaystyle \\left[\\left(3, 1\\right), \\left(-1, 1\\right), \\alpha^{3} - \\alpha^{2}, \\alpha^{3} - \\alpha^{2}\\right]\\)</html>"
      ],
      "text/latex": [
       "$\\displaystyle \\left[\\left(3, 1\\right), \\left(-1, 1\\right), \\alpha^{3} - \\alpha^{2}, \\alpha^{3} - \\alpha^{2}\\right]$"
      ],
      "text/plain": [
       "[(3, 1), (-1, 1), alpha^3 - alpha^2, alpha^3 - alpha^2]"
      ]
     },
     "metadata": {},
     "output_type": "display_data"
    },
    {
     "data": {
      "text/html": [
       "<html>\\(\\displaystyle \\left[\\left(3, 1\\right), \\left(-1, -1\\right), -\\alpha^{3} + 1, \\alpha^{3} - \\alpha^{2}\\right]\\)</html>"
      ],
      "text/latex": [
       "$\\displaystyle \\left[\\left(3, 1\\right), \\left(-1, -1\\right), -\\alpha^{3} + 1, \\alpha^{3} - \\alpha^{2}\\right]$"
      ],
      "text/plain": [
       "[(3, 1), (-1, -1), -alpha^3 + 1, alpha^3 - alpha^2]"
      ]
     },
     "metadata": {},
     "output_type": "display_data"
    },
    {
     "data": {
      "text/html": [
       "<html>\\(\\displaystyle \\left[\\left(3, 2\\right), \\left(1, 1\\right), -\\alpha^{3} + 2 \\alpha^{2} - 2 \\alpha + 1, \\alpha^{3} - \\alpha^{2}\\right]\\)</html>"
      ],
      "text/latex": [
       "$\\displaystyle \\left[\\left(3, 2\\right), \\left(1, 1\\right), -\\alpha^{3} + 2 \\alpha^{2} - 2 \\alpha + 1, \\alpha^{3} - \\alpha^{2}\\right]$"
      ],
      "text/plain": [
       "[(3, 2), (1, 1), -alpha^3 + 2*alpha^2 - 2*alpha + 1, alpha^3 - alpha^2]"
      ]
     },
     "metadata": {},
     "output_type": "display_data"
    },
    {
     "data": {
      "text/html": [
       "<html>\\(\\displaystyle \\left[\\left(3, 2\\right), \\left(1, -1\\right), -\\alpha^{3} - \\alpha^{2} - \\alpha, \\alpha^{3} - \\alpha^{2}\\right]\\)</html>"
      ],
      "text/latex": [
       "$\\displaystyle \\left[\\left(3, 2\\right), \\left(1, -1\\right), -\\alpha^{3} - \\alpha^{2} - \\alpha, \\alpha^{3} - \\alpha^{2}\\right]$"
      ],
      "text/plain": [
       "[(3, 2), (1, -1), -alpha^3 - alpha^2 - alpha, alpha^3 - alpha^2]"
      ]
     },
     "metadata": {},
     "output_type": "display_data"
    },
    {
     "data": {
      "text/html": [
       "<html>\\(\\displaystyle \\left[\\left(3, 2\\right), \\left(-1, 1\\right), \\alpha^{3} - \\alpha + 1, \\alpha^{3} - \\alpha^{2}\\right]\\)</html>"
      ],
      "text/latex": [
       "$\\displaystyle \\left[\\left(3, 2\\right), \\left(-1, 1\\right), \\alpha^{3} - \\alpha + 1, \\alpha^{3} - \\alpha^{2}\\right]$"
      ],
      "text/plain": [
       "[(3, 2), (-1, 1), alpha^3 - alpha + 1, alpha^3 - alpha^2]"
      ]
     },
     "metadata": {},
     "output_type": "display_data"
    },
    {
     "data": {
      "text/html": [
       "<html>\\(\\displaystyle \\left[\\left(3, 2\\right), \\left(-1, -1\\right), \\alpha^{2} + \\alpha + 1, \\alpha^{3} - \\alpha^{2}\\right]\\)</html>"
      ],
      "text/latex": [
       "$\\displaystyle \\left[\\left(3, 2\\right), \\left(-1, -1\\right), \\alpha^{2} + \\alpha + 1, \\alpha^{3} - \\alpha^{2}\\right]$"
      ],
      "text/plain": [
       "[(3, 2), (-1, -1), alpha^2 + alpha + 1, alpha^3 - alpha^2]"
      ]
     },
     "metadata": {},
     "output_type": "display_data"
    },
    {
     "data": {
      "text/html": [
       "<html>\\(\\displaystyle \\left[\\left(3, 3\\right), \\left(1, 1\\right), -2 \\alpha^{3} + 3 \\alpha^{2} - 2 \\alpha, \\alpha^{3} - \\alpha^{2}\\right]\\)</html>"
      ],
      "text/latex": [
       "$\\displaystyle \\left[\\left(3, 3\\right), \\left(1, 1\\right), -2 \\alpha^{3} + 3 \\alpha^{2} - 2 \\alpha, \\alpha^{3} - \\alpha^{2}\\right]$"
      ],
      "text/plain": [
       "[(3, 3), (1, 1), -2*alpha^3 + 3*alpha^2 - 2*alpha, alpha^3 - alpha^2]"
      ]
     },
     "metadata": {},
     "output_type": "display_data"
    },
    {
     "data": {
      "text/html": [
       "<html>\\(\\displaystyle \\left[\\left(3, 3\\right), \\left(1, -1\\right), -3 \\alpha^{3} + \\alpha^{2} - \\alpha + 3, \\alpha^{3} - \\alpha^{2}\\right]\\)</html>"
      ],
      "text/latex": [
       "$\\displaystyle \\left[\\left(3, 3\\right), \\left(1, -1\\right), -3 \\alpha^{3} + \\alpha^{2} - \\alpha + 3, \\alpha^{3} - \\alpha^{2}\\right]$"
      ],
      "text/plain": [
       "[(3, 3), (1, -1), -3*alpha^3 + alpha^2 - alpha + 3, alpha^3 - alpha^2]"
      ]
     },
     "metadata": {},
     "output_type": "display_data"
    },
    {
     "data": {
      "text/html": [
       "<html>\\(\\displaystyle \\left[\\left(3, 3\\right), \\left(-1, 1\\right), 2 \\alpha^{2} - 3 \\alpha + 2, \\alpha^{3} - \\alpha^{2}\\right]\\)</html>"
      ],
      "text/latex": [
       "$\\displaystyle \\left[\\left(3, 3\\right), \\left(-1, 1\\right), 2 \\alpha^{2} - 3 \\alpha + 2, \\alpha^{3} - \\alpha^{2}\\right]$"
      ],
      "text/plain": [
       "[(3, 3), (-1, 1), 2*alpha^2 - 3*alpha + 2, alpha^3 - alpha^2]"
      ]
     },
     "metadata": {},
     "output_type": "display_data"
    },
    {
     "data": {
      "text/html": [
       "<html>\\(\\displaystyle \\left[\\left(3, 3\\right), \\left(-1, -1\\right), 3 \\alpha^{3} + 2 \\alpha - 2, \\alpha^{3} - \\alpha^{2}\\right]\\)</html>"
      ],
      "text/latex": [
       "$\\displaystyle \\left[\\left(3, 3\\right), \\left(-1, -1\\right), 3 \\alpha^{3} + 2 \\alpha - 2, \\alpha^{3} - \\alpha^{2}\\right]$"
      ],
      "text/plain": [
       "[(3, 3), (-1, -1), 3*alpha^3 + 2*alpha - 2, alpha^3 - alpha^2]"
      ]
     },
     "metadata": {},
     "output_type": "display_data"
    },
    {
     "data": {
      "text/html": [
       "<html>\\(\\displaystyle \\left[\\left(3, 4\\right), \\left(1, 1\\right), -3 \\alpha^{3} + 3 \\alpha^{2} - 2, \\alpha^{3} - \\alpha^{2}\\right]\\)</html>"
      ],
      "text/latex": [
       "$\\displaystyle \\left[\\left(3, 4\\right), \\left(1, 1\\right), -3 \\alpha^{3} + 3 \\alpha^{2} - 2, \\alpha^{3} - \\alpha^{2}\\right]$"
      ],
      "text/plain": [
       "[(3, 4), (1, 1), -3*alpha^3 + 3*alpha^2 - 2, alpha^3 - alpha^2]"
      ]
     },
     "metadata": {},
     "output_type": "display_data"
    },
    {
     "data": {
      "text/html": [
       "<html>\\(\\displaystyle \\left[\\left(3, 4\\right), \\left(1, -1\\right), 3 \\alpha^{2} + 2 \\alpha + 3, \\alpha^{3} - \\alpha^{2}\\right]\\)</html>"
      ],
      "text/latex": [
       "$\\displaystyle \\left[\\left(3, 4\\right), \\left(1, -1\\right), 3 \\alpha^{2} + 2 \\alpha + 3, \\alpha^{3} - \\alpha^{2}\\right]$"
      ],
      "text/plain": [
       "[(3, 4), (1, -1), 3*alpha^2 + 2*alpha + 3, alpha^3 - alpha^2]"
      ]
     },
     "metadata": {},
     "output_type": "display_data"
    },
    {
     "data": {
      "text/html": [
       "<html>\\(\\displaystyle \\left[\\left(3, 4\\right), \\left(-1, 1\\right), -2 \\alpha^{3} + 5 \\alpha^{2} - 5 \\alpha + 2, \\alpha^{3} - \\alpha^{2}\\right]\\)</html>"
      ],
      "text/latex": [
       "$\\displaystyle \\left[\\left(3, 4\\right), \\left(-1, 1\\right), -2 \\alpha^{3} + 5 \\alpha^{2} - 5 \\alpha + 2, \\alpha^{3} - \\alpha^{2}\\right]$"
      ],
      "text/plain": [
       "[(3, 4), (-1, 1), -2*alpha^3 + 5*alpha^2 - 5*alpha + 2, alpha^3 - alpha^2]"
      ]
     },
     "metadata": {},
     "output_type": "display_data"
    },
    {
     "data": {
      "text/html": [
       "<html>\\(\\displaystyle \\left[\\left(3, 4\\right), \\left(-1, -1\\right), 3 \\alpha^{3} - 3 \\alpha^{2} - 5, \\alpha^{3} - \\alpha^{2}\\right]\\)</html>"
      ],
      "text/latex": [
       "$\\displaystyle \\left[\\left(3, 4\\right), \\left(-1, -1\\right), 3 \\alpha^{3} - 3 \\alpha^{2} - 5, \\alpha^{3} - \\alpha^{2}\\right]$"
      ],
      "text/plain": [
       "[(3, 4), (-1, -1), 3*alpha^3 - 3*alpha^2 - 5, alpha^3 - alpha^2]"
      ]
     },
     "metadata": {},
     "output_type": "display_data"
    },
    {
     "data": {
      "text/html": [
       "<html>\\(\\displaystyle \\left[\\left(4, 0\\right), \\left(1, 1\\right), \\alpha^{3} - \\alpha^{2} + \\alpha - 1, \\alpha^{3} - \\alpha^{2}\\right]\\)</html>"
      ],
      "text/latex": [
       "$\\displaystyle \\left[\\left(4, 0\\right), \\left(1, 1\\right), \\alpha^{3} - \\alpha^{2} + \\alpha - 1, \\alpha^{3} - \\alpha^{2}\\right]$"
      ],
      "text/plain": [
       "[(4, 0), (1, 1), alpha^3 - alpha^2 + alpha - 1, alpha^3 - alpha^2]"
      ]
     },
     "metadata": {},
     "output_type": "display_data"
    },
    {
     "data": {
      "text/html": [
       "<html>\\(\\displaystyle \\left[\\left(4, 0\\right), \\left(1, -1\\right), \\alpha^{3} - \\alpha^{2} + \\alpha - 1, \\alpha^{3} - \\alpha^{2}\\right]\\)</html>"
      ],
      "text/latex": [
       "$\\displaystyle \\left[\\left(4, 0\\right), \\left(1, -1\\right), \\alpha^{3} - \\alpha^{2} + \\alpha - 1, \\alpha^{3} - \\alpha^{2}\\right]$"
      ],
      "text/plain": [
       "[(4, 0), (1, -1), alpha^3 - alpha^2 + alpha - 1, alpha^3 - alpha^2]"
      ]
     },
     "metadata": {},
     "output_type": "display_data"
    },
    {
     "data": {
      "text/html": [
       "<html>\\(\\displaystyle \\left[\\left(4, 0\\right), \\left(-1, 1\\right), -\\alpha, \\alpha^{3} - \\alpha^{2}\\right]\\)</html>"
      ],
      "text/latex": [
       "$\\displaystyle \\left[\\left(4, 0\\right), \\left(-1, 1\\right), -\\alpha, \\alpha^{3} - \\alpha^{2}\\right]$"
      ],
      "text/plain": [
       "[(4, 0), (-1, 1), -alpha, alpha^3 - alpha^2]"
      ]
     },
     "metadata": {},
     "output_type": "display_data"
    },
    {
     "data": {
      "text/html": [
       "<html>\\(\\displaystyle \\left[\\left(4, 0\\right), \\left(-1, -1\\right), -\\alpha, \\alpha^{3} - \\alpha^{2}\\right]\\)</html>"
      ],
      "text/latex": [
       "$\\displaystyle \\left[\\left(4, 0\\right), \\left(-1, -1\\right), -\\alpha, \\alpha^{3} - \\alpha^{2}\\right]$"
      ],
      "text/plain": [
       "[(4, 0), (-1, -1), -alpha, alpha^3 - alpha^2]"
      ]
     },
     "metadata": {},
     "output_type": "display_data"
    },
    {
     "data": {
      "text/html": [
       "<html>\\(\\displaystyle \\left[\\left(4, 1\\right), \\left(1, 1\\right), \\alpha^{3} - \\alpha^{2} + \\alpha, \\alpha^{3} - \\alpha^{2}\\right]\\)</html>"
      ],
      "text/latex": [
       "$\\displaystyle \\left[\\left(4, 1\\right), \\left(1, 1\\right), \\alpha^{3} - \\alpha^{2} + \\alpha, \\alpha^{3} - \\alpha^{2}\\right]$"
      ],
      "text/plain": [
       "[(4, 1), (1, 1), alpha^3 - alpha^2 + alpha, alpha^3 - alpha^2]"
      ]
     },
     "metadata": {},
     "output_type": "display_data"
    },
    {
     "data": {
      "text/html": [
       "<html>\\(\\displaystyle \\left[\\left(4, 1\\right), \\left(1, -1\\right), -\\alpha^{2} - 1, \\alpha^{3} - \\alpha^{2}\\right]\\)</html>"
      ],
      "text/latex": [
       "$\\displaystyle \\left[\\left(4, 1\\right), \\left(1, -1\\right), -\\alpha^{2} - 1, \\alpha^{3} - \\alpha^{2}\\right]$"
      ],
      "text/plain": [
       "[(4, 1), (1, -1), -alpha^2 - 1, alpha^3 - alpha^2]"
      ]
     },
     "metadata": {},
     "output_type": "display_data"
    },
    {
     "data": {
      "text/html": [
       "<html>\\(\\displaystyle \\left[\\left(4, 1\\right), \\left(-1, 1\\right), \\alpha^{2} - \\alpha, \\alpha^{3} - \\alpha^{2}\\right]\\)</html>"
      ],
      "text/latex": [
       "$\\displaystyle \\left[\\left(4, 1\\right), \\left(-1, 1\\right), \\alpha^{2} - \\alpha, \\alpha^{3} - \\alpha^{2}\\right]$"
      ],
      "text/plain": [
       "[(4, 1), (-1, 1), alpha^2 - alpha, alpha^3 - alpha^2]"
      ]
     },
     "metadata": {},
     "output_type": "display_data"
    },
    {
     "data": {
      "text/html": [
       "<html>\\(\\displaystyle \\left[\\left(4, 1\\right), \\left(-1, -1\\right), -\\alpha^{3} - \\alpha + 1, \\alpha^{3} - \\alpha^{2}\\right]\\)</html>"
      ],
      "text/latex": [
       "$\\displaystyle \\left[\\left(4, 1\\right), \\left(-1, -1\\right), -\\alpha^{3} - \\alpha + 1, \\alpha^{3} - \\alpha^{2}\\right]$"
      ],
      "text/plain": [
       "[(4, 1), (-1, -1), -alpha^3 - alpha + 1, alpha^3 - alpha^2]"
      ]
     },
     "metadata": {},
     "output_type": "display_data"
    },
    {
     "data": {
      "text/html": [
       "<html>\\(\\displaystyle \\left[\\left(4, 2\\right), \\left(1, 1\\right), \\alpha^{3} - \\alpha^{2} + 1, \\alpha^{3} - \\alpha^{2}\\right]\\)</html>"
      ],
      "text/latex": [
       "$\\displaystyle \\left[\\left(4, 2\\right), \\left(1, 1\\right), \\alpha^{3} - \\alpha^{2} + 1, \\alpha^{3} - \\alpha^{2}\\right]$"
      ],
      "text/plain": [
       "[(4, 2), (1, 1), alpha^3 - alpha^2 + 1, alpha^3 - alpha^2]"
      ]
     },
     "metadata": {},
     "output_type": "display_data"
    },
    {
     "data": {
      "text/html": [
       "<html>\\(\\displaystyle \\left[\\left(4, 2\\right), \\left(1, -1\\right), -2 \\alpha^{3} - \\alpha + 1, \\alpha^{3} - \\alpha^{2}\\right]\\)</html>"
      ],
      "text/latex": [
       "$\\displaystyle \\left[\\left(4, 2\\right), \\left(1, -1\\right), -2 \\alpha^{3} - \\alpha + 1, \\alpha^{3} - \\alpha^{2}\\right]$"
      ],
      "text/plain": [
       "[(4, 2), (1, -1), -2*alpha^3 - alpha + 1, alpha^3 - alpha^2]"
      ]
     },
     "metadata": {},
     "output_type": "display_data"
    },
    {
     "data": {
      "text/html": [
       "<html>\\(\\displaystyle \\left[\\left(4, 2\\right), \\left(-1, 1\\right), -\\alpha^{3} + 2 \\alpha^{2} - \\alpha, \\alpha^{3} - \\alpha^{2}\\right]\\)</html>"
      ],
      "text/latex": [
       "$\\displaystyle \\left[\\left(4, 2\\right), \\left(-1, 1\\right), -\\alpha^{3} + 2 \\alpha^{2} - \\alpha, \\alpha^{3} - \\alpha^{2}\\right]$"
      ],
      "text/plain": [
       "[(4, 2), (-1, 1), -alpha^3 + 2*alpha^2 - alpha, alpha^3 - alpha^2]"
      ]
     },
     "metadata": {},
     "output_type": "display_data"
    },
    {
     "data": {
      "text/html": [
       "<html>\\(\\displaystyle \\left[\\left(4, 2\\right), \\left(-1, -1\\right), -\\alpha^{3} + \\alpha^{2} + 2, \\alpha^{3} - \\alpha^{2}\\right]\\)</html>"
      ],
      "text/latex": [
       "$\\displaystyle \\left[\\left(4, 2\\right), \\left(-1, -1\\right), -\\alpha^{3} + \\alpha^{2} + 2, \\alpha^{3} - \\alpha^{2}\\right]$"
      ],
      "text/plain": [
       "[(4, 2), (-1, -1), -alpha^3 + alpha^2 + 2, alpha^3 - alpha^2]"
      ]
     },
     "metadata": {},
     "output_type": "display_data"
    },
    {
     "data": {
      "text/html": [
       "<html>\\(\\displaystyle \\left[\\left(4, 3\\right), \\left(1, 1\\right), \\alpha^{3} - 2 \\alpha + 2, \\alpha^{3} - \\alpha^{2}\\right]\\)</html>"
      ],
      "text/latex": [
       "$\\displaystyle \\left[\\left(4, 3\\right), \\left(1, 1\\right), \\alpha^{3} - 2 \\alpha + 2, \\alpha^{3} - \\alpha^{2}\\right]$"
      ],
      "text/plain": [
       "[(4, 3), (1, 1), alpha^3 - 2*alpha + 2, alpha^3 - alpha^2]"
      ]
     },
     "metadata": {},
     "output_type": "display_data"
    },
    {
     "data": {
      "text/html": [
       "<html>\\(\\displaystyle \\left[\\left(4, 3\\right), \\left(1, -1\\right), -2 \\alpha^{3} + 2 \\alpha^{2} + 3, \\alpha^{3} - \\alpha^{2}\\right]\\)</html>"
      ],
      "text/latex": [
       "$\\displaystyle \\left[\\left(4, 3\\right), \\left(1, -1\\right), -2 \\alpha^{3} + 2 \\alpha^{2} + 3, \\alpha^{3} - \\alpha^{2}\\right]$"
      ],
      "text/plain": [
       "[(4, 3), (1, -1), -2*alpha^3 + 2*alpha^2 + 3, alpha^3 - alpha^2]"
      ]
     },
     "metadata": {},
     "output_type": "display_data"
    },
    {
     "data": {
      "text/html": [
       "<html>\\(\\displaystyle \\left[\\left(4, 3\\right), \\left(-1, 1\\right), -2 \\alpha^{3} + 2 \\alpha^{2} - 1, \\alpha^{3} - \\alpha^{2}\\right]\\)</html>"
      ],
      "text/latex": [
       "$\\displaystyle \\left[\\left(4, 3\\right), \\left(-1, 1\\right), -2 \\alpha^{3} + 2 \\alpha^{2} - 1, \\alpha^{3} - \\alpha^{2}\\right]$"
      ],
      "text/plain": [
       "[(4, 3), (-1, 1), -2*alpha^3 + 2*alpha^2 - 1, alpha^3 - alpha^2]"
      ]
     },
     "metadata": {},
     "output_type": "display_data"
    },
    {
     "data": {
      "text/html": [
       "<html>\\(\\displaystyle \\left[\\left(4, 3\\right), \\left(-1, -1\\right), 2 \\alpha^{3} + \\alpha^{2} + 2 \\alpha, \\alpha^{3} - \\alpha^{2}\\right]\\)</html>"
      ],
      "text/latex": [
       "$\\displaystyle \\left[\\left(4, 3\\right), \\left(-1, -1\\right), 2 \\alpha^{3} + \\alpha^{2} + 2 \\alpha, \\alpha^{3} - \\alpha^{2}\\right]$"
      ],
      "text/plain": [
       "[(4, 3), (-1, -1), 2*alpha^3 + alpha^2 + 2*alpha, alpha^3 - alpha^2]"
      ]
     },
     "metadata": {},
     "output_type": "display_data"
    },
    {
     "data": {
      "text/html": [
       "<html>\\(\\displaystyle \\left[\\left(4, 4\\right), \\left(1, 1\\right), 3 \\alpha^{2} - 5 \\alpha + 3, \\alpha^{3} - \\alpha^{2}\\right]\\)</html>"
      ],
      "text/latex": [
       "$\\displaystyle \\left[\\left(4, 4\\right), \\left(1, 1\\right), 3 \\alpha^{2} - 5 \\alpha + 3, \\alpha^{3} - \\alpha^{2}\\right]$"
      ],
      "text/plain": [
       "[(4, 4), (1, 1), 3*alpha^2 - 5*alpha + 3, alpha^3 - alpha^2]"
      ]
     },
     "metadata": {},
     "output_type": "display_data"
    },
    {
     "data": {
      "text/html": [
       "<html>\\(\\displaystyle \\left[\\left(4, 4\\right), \\left(1, -1\\right), 3 \\alpha^{3} + 2 \\alpha^{2} + 3 \\alpha, \\alpha^{3} - \\alpha^{2}\\right]\\)</html>"
      ],
      "text/latex": [
       "$\\displaystyle \\left[\\left(4, 4\\right), \\left(1, -1\\right), 3 \\alpha^{3} + 2 \\alpha^{2} + 3 \\alpha, \\alpha^{3} - \\alpha^{2}\\right]$"
      ],
      "text/plain": [
       "[(4, 4), (1, -1), 3*alpha^3 + 2*alpha^2 + 3*alpha, alpha^3 - alpha^2]"
      ]
     },
     "metadata": {},
     "output_type": "display_data"
    },
    {
     "data": {
      "text/html": [
       "<html>\\(\\displaystyle \\left[\\left(4, 4\\right), \\left(-1, 1\\right), -2 \\alpha^{3} + 3 \\alpha - 3, \\alpha^{3} - \\alpha^{2}\\right]\\)</html>"
      ],
      "text/latex": [
       "$\\displaystyle \\left[\\left(4, 4\\right), \\left(-1, 1\\right), -2 \\alpha^{3} + 3 \\alpha - 3, \\alpha^{3} - \\alpha^{2}\\right]$"
      ],
      "text/plain": [
       "[(4, 4), (-1, 1), -2*alpha^3 + 3*alpha - 3, alpha^3 - alpha^2]"
      ]
     },
     "metadata": {},
     "output_type": "display_data"
    },
    {
     "data": {
      "text/html": [
       "<html>\\(\\displaystyle \\left[\\left(4, 4\\right), \\left(-1, -1\\right), 5 \\alpha^{3} - 2 \\alpha^{2} + 2 \\alpha - 5, \\alpha^{3} - \\alpha^{2}\\right]\\)</html>"
      ],
      "text/latex": [
       "$\\displaystyle \\left[\\left(4, 4\\right), \\left(-1, -1\\right), 5 \\alpha^{3} - 2 \\alpha^{2} + 2 \\alpha - 5, \\alpha^{3} - \\alpha^{2}\\right]$"
      ],
      "text/plain": [
       "[(4, 4), (-1, -1), 5*alpha^3 - 2*alpha^2 + 2*alpha - 5, alpha^3 - alpha^2]"
      ]
     },
     "metadata": {},
     "output_type": "display_data"
    }
   ],
   "source": [
    "from itertools import product\n",
    "R = range(5)\n",
    "frag = False\n",
    "\n",
    "u0, u1 = U.gens_values(); display([u0,u1])\n",
    "for i,j in product(R,R):\n",
    "    for e, d in product([1,-1],[1,-1]):\n",
    "        u = (u0**(i*e))*(u1**(j*d)); display([(i,j),(e,d), u, c])\n",
    "        frag = (u*tau(u) == c)\n",
    "        if frag:\n",
    "            print((i*e,j*d), u)\n",
    "            break\n",
    "    if frag: break                    "
   ]
  },
  {
   "cell_type": "code",
   "execution_count": 27,
   "id": "82816173-35c9-466d-a6db-0de3e8f0b022",
   "metadata": {},
   "outputs": [
    {
     "data": {
      "text/html": [
       "<html>\\(\\displaystyle \\alpha^{3} - \\alpha^{2}\\)</html>"
      ],
      "text/latex": [
       "$\\displaystyle \\alpha^{3} - \\alpha^{2}$"
      ],
      "text/plain": [
       "alpha^3 - alpha^2"
      ]
     },
     "execution_count": 27,
     "metadata": {},
     "output_type": "execute_result"
    }
   ],
   "source": [
    "(u0**(-3))*(u1)"
   ]
  },
  {
   "cell_type": "markdown",
   "id": "a7f4c976-1f08-4d6c-b9ec-1aece3f00bb7",
   "metadata": {},
   "source": [
    "### Scratch"
   ]
  },
  {
   "cell_type": "code",
   "execution_count": null,
   "id": "9446cf76-0206-4bc6-913d-0dbfd397c334",
   "metadata": {},
   "outputs": [],
   "source": [
    "#print(v, type(v))\n",
    "display(a+1, (a+1).subs({a: 1/a}))\n",
    "display(v, v.subs({a: 1/a}), J4*(v.subs({a: 1/a})))\n",
    "# v.dot_product(J4*v)"
   ]
  },
  {
   "cell_type": "code",
   "execution_count": null,
   "id": "e89b5482-9785-4897-8f43-1184a9dba8f4",
   "metadata": {},
   "outputs": [],
   "source": [
    "tv = vector([1, 1/a^3+1/a-1, -1/a^3, 1/a^2])\n",
    "display(tv)\n",
    "alpha = v.dot_product(J4*tv)\n",
    "display(alpha)"
   ]
  },
  {
   "cell_type": "code",
   "execution_count": null,
   "id": "11cd578a-c8c6-4c0c-b5e1-b6be1b457b4b",
   "metadata": {},
   "outputs": [],
   "source": [
    "(a-2)*(1/a-2)"
   ]
  },
  {
   "cell_type": "code",
   "execution_count": null,
   "id": "126f17b4-d998-4543-b867-61043fe221b7",
   "metadata": {},
   "outputs": [],
   "source": [
    "vv = vector([1, a, a^2, a^3])\n",
    "tvv = vector([1, 1/a, 1/(a^2), 1/(a^3)])\n",
    "display(vv, tvv)\n",
    "\n",
    "aDel = bilinear_form(vv, tvv, J4)\n",
    "display(aDel)\n",
    "\n",
    "cvv = (1/aDel)*(J4*tvv)\n",
    "display(cvv)\n",
    "\n",
    "T = 10*(identity_matrix(4)+matrix([[0,0,0,-1],[0,0,0,1],[0,0,0,1],[0,0,0,0]]))\n",
    "cvv = T*cvv; display(cvv)\n",
    "T2 = (identity_matrix(4)+matrix([[0,0,0,0],[0,0,0,0],[0,-1,0,0],[2,2,0,0]]))\n",
    "cvv = T2*cvv; display(cvv)\n",
    "T3 = (identity_matrix(4)+matrix([[0,0,0,0],[0,0,0,0],[0,0,0,0],[0,0,1,0]]))\n",
    "cvv = T3*cvv; display(cvv)"
   ]
  },
  {
   "cell_type": "code",
   "execution_count": null,
   "id": "706f0227-234b-4061-addb-697b3d7548ee",
   "metadata": {},
   "outputs": [],
   "source": [
    "vv = vector([1, a, a^2, a^3])\n",
    "tvv = vector([1, 1/a, 1/(a^2), 1/(a^3)])\n",
    "display(vv, tvv)\n",
    "\n",
    "aDel = bilinear_form(vv, tvv, J4)\n",
    "\n",
    "display(aDel, aDel == 2*(1/a-a))    "
   ]
  },
  {
   "cell_type": "code",
   "execution_count": null,
   "id": "46942d12-fcca-41c4-ab75-c129636f7850",
   "metadata": {},
   "outputs": [],
   "source": [
    "t = var('t')\n",
    "df = diff(cp_M, t)\n",
    "\n",
    "Del = df(a)/a\n",
    "\n",
    "display(Del)"
   ]
  },
  {
   "cell_type": "code",
   "execution_count": null,
   "id": "46f5283d-c939-4ae7-896b-4ac84c29df73",
   "metadata": {},
   "outputs": [],
   "source": [
    "VA = 2*(1/a-a)/Del #aDel/Del\n",
    "display(VA, VA == VA)"
   ]
  }
 ],
 "metadata": {
  "kernelspec": {
   "display_name": "SageMath 10.7",
   "language": "sage",
   "name": "sagemath-10.7"
  },
  "language_info": {
   "codemirror_mode": {
    "name": "ipython",
    "version": 3
   },
   "file_extension": ".py",
   "mimetype": "text/x-python",
   "name": "python",
   "nbconvert_exporter": "python",
   "pygments_lexer": "ipython3",
   "version": "3.13.3"
  }
 },
 "nbformat": 4,
 "nbformat_minor": 5
}
