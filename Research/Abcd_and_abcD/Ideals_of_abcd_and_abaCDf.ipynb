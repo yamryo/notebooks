{
 "cells": [
  {
   "cell_type": "markdown",
   "id": "0eca0c30-9bf8-4a83-b199-45c6b5c65a2e",
   "metadata": {},
   "source": [
    "# 1. Symplectic representation"
   ]
  },
  {
   "cell_type": "markdown",
   "id": "63ccd808-6f3e-45fe-b508-634b51edc713",
   "metadata": {},
   "source": [
    "## 1.1. On Humphries generators"
   ]
  },
  {
   "cell_type": "markdown",
   "id": "b96f01f6-1b90-41fd-b0bd-60cdcfebd13c",
   "metadata": {},
   "source": [
    "### Sp_repr class and functions"
   ]
  },
  {
   "cell_type": "code",
   "execution_count": 1,
   "id": "eb906321-414c-4614-b1ef-63577388aebf",
   "metadata": {},
   "outputs": [],
   "source": [
    "%display latex"
   ]
  },
  {
   "cell_type": "code",
   "execution_count": 2,
   "id": "ca5b79fe-7655-4ffc-a9b7-055616c6e6d6",
   "metadata": {},
   "outputs": [],
   "source": [
    "class Sp_repr:\n",
    "    #--- 2x2 ---\n",
    "    I = identity_matrix(2)\n",
    "    O = zero_matrix(ZZ,2)\n",
    "    J = matrix([[0,1],[-1,0]])\n",
    "    #---\n",
    "    L = matrix([[1,0],[1,1]])\n",
    "    K = matrix([[0,-1],[0,0]])\n",
    "    #--- 4x4 ---\n",
    "    J4 = block_matrix([[J, O], [O, J]])\n",
    "    # J4 = J4_bm.subs([(J, evJ)]).as_explicit()\n",
    "    #---\n",
    "    CHR_2_MTX = {'a': block_matrix([[L.inverse(), O], [O, I]]),\n",
    "                 'b': block_matrix([[L.T, K], [K, L.T]]),\n",
    "                 'c': block_matrix([[I, O], [O, L.inverse()]]),\n",
    "                 'd': block_matrix([[I, O], [O, L.T]]),\n",
    "                 'f': block_matrix([[L.T, O], [O,I]])}\n",
    "    #---\n",
    "    \n",
    "    def __init__(self, l:str):\n",
    "        self.loop = l\n",
    "        self.matrix = self.CHR_2_MTX.get(l) if l.islower() else self.CHR_2_MTX.get(l.lower()).inverse()"
   ]
  },
  {
   "cell_type": "code",
   "execution_count": 3,
   "id": "b7c2f2c1-8285-48aa-acd3-edc93922e79c",
   "metadata": {},
   "outputs": [
    {
     "data": {
      "text/html": [
       "<html>\\(\\displaystyle \\left[\\mathrm{True}, \\mathrm{True}, \\mathrm{True}, \\mathrm{True}, \\mathrm{True}, \\mathrm{True}\\right]\\)</html>"
      ],
      "text/latex": [
       "$\\displaystyle \\left[\\mathrm{True}, \\mathrm{True}, \\mathrm{True}, \\mathrm{True}, \\mathrm{True}, \\mathrm{True}\\right]$"
      ],
      "text/plain": [
       "[True, True, True, True, True, True]"
      ]
     },
     "execution_count": 3,
     "metadata": {},
     "output_type": "execute_result"
    }
   ],
   "source": [
    "def is_Sp(M):\n",
    "    J = Sp_repr.J4\n",
    "    return M.transpose()*J*M == J\n",
    "\n",
    "list(map(lambda l: is_Sp(Sp_repr(l).matrix), ['a','b','c','d','f', 'A'])) "
   ]
  },
  {
   "cell_type": "markdown",
   "id": "acdb99e7-cb13-40a4-9c05-4450aa74d9c8",
   "metadata": {},
   "source": [
    "## 1.2. The symplectic images of Abcd and abcD"
   ]
  },
  {
   "cell_type": "code",
   "execution_count": 4,
   "id": "3124d2d8-8314-4e0f-b6c1-74796f8b5070",
   "metadata": {},
   "outputs": [
    {
     "data": {
      "text/html": [
       "<html>\\(\\displaystyle \\left(\\left(\\begin{array}{rr|rr}\n",
       "1 & 0 & 0 & 0 \\\\\n",
       "-1 & 1 & 0 & 0 \\\\\n",
       "\\hline\n",
       " 0 & 0 & 1 & 0 \\\\\n",
       "0 & 0 & 0 & 1\n",
       "\\end{array}\\right), \\left(\\begin{array}{rr|rr}\n",
       "1 & 1 & 0 & -1 \\\\\n",
       "0 & 1 & 0 & 0 \\\\\n",
       "\\hline\n",
       " 0 & -1 & 1 & 1 \\\\\n",
       "0 & 0 & 0 & 1\n",
       "\\end{array}\\right), \\left(\\begin{array}{rr|rr}\n",
       "1 & 0 & 0 & 0 \\\\\n",
       "0 & 1 & 0 & 0 \\\\\n",
       "\\hline\n",
       " 0 & 0 & 1 & 0 \\\\\n",
       "0 & 0 & -1 & 1\n",
       "\\end{array}\\right), \\left(\\begin{array}{rr|rr}\n",
       "1 & 0 & 0 & 0 \\\\\n",
       "0 & 1 & 0 & 0 \\\\\n",
       "\\hline\n",
       " 0 & 0 & 1 & 1 \\\\\n",
       "0 & 0 & 0 & 1\n",
       "\\end{array}\\right), \\left(\\begin{array}{rr|rr}\n",
       "1 & 1 & 0 & 0 \\\\\n",
       "0 & 1 & 0 & 0 \\\\\n",
       "\\hline\n",
       " 0 & 0 & 1 & 0 \\\\\n",
       "0 & 0 & 0 & 1\n",
       "\\end{array}\\right), \\left(\\begin{array}{rr|rr}\n",
       "0 & 1 & 0 & 0 \\\\\n",
       "-1 & 0 & 0 & 0 \\\\\n",
       "\\hline\n",
       " 0 & 0 & 0 & 1 \\\\\n",
       "0 & 0 & -1 & 0\n",
       "\\end{array}\\right)\\right)\\)</html>"
      ],
      "text/latex": [
       "$\\displaystyle \\left(\\left(\\begin{array}{rr|rr}\n",
       "1 & 0 & 0 & 0 \\\\\n",
       "-1 & 1 & 0 & 0 \\\\\n",
       "\\hline\n",
       " 0 & 0 & 1 & 0 \\\\\n",
       "0 & 0 & 0 & 1\n",
       "\\end{array}\\right), \\left(\\begin{array}{rr|rr}\n",
       "1 & 1 & 0 & -1 \\\\\n",
       "0 & 1 & 0 & 0 \\\\\n",
       "\\hline\n",
       " 0 & -1 & 1 & 1 \\\\\n",
       "0 & 0 & 0 & 1\n",
       "\\end{array}\\right), \\left(\\begin{array}{rr|rr}\n",
       "1 & 0 & 0 & 0 \\\\\n",
       "0 & 1 & 0 & 0 \\\\\n",
       "\\hline\n",
       " 0 & 0 & 1 & 0 \\\\\n",
       "0 & 0 & -1 & 1\n",
       "\\end{array}\\right), \\left(\\begin{array}{rr|rr}\n",
       "1 & 0 & 0 & 0 \\\\\n",
       "0 & 1 & 0 & 0 \\\\\n",
       "\\hline\n",
       " 0 & 0 & 1 & 1 \\\\\n",
       "0 & 0 & 0 & 1\n",
       "\\end{array}\\right), \\left(\\begin{array}{rr|rr}\n",
       "1 & 1 & 0 & 0 \\\\\n",
       "0 & 1 & 0 & 0 \\\\\n",
       "\\hline\n",
       " 0 & 0 & 1 & 0 \\\\\n",
       "0 & 0 & 0 & 1\n",
       "\\end{array}\\right), \\left(\\begin{array}{rr|rr}\n",
       "0 & 1 & 0 & 0 \\\\\n",
       "-1 & 0 & 0 & 0 \\\\\n",
       "\\hline\n",
       " 0 & 0 & 0 & 1 \\\\\n",
       "0 & 0 & -1 & 0\n",
       "\\end{array}\\right)\\right)$"
      ],
      "text/plain": [
       "(\n",
       "[ 1  0| 0  0]  [ 1  1| 0 -1]  [ 1  0| 0  0]  [1 0|0 0]  [1 1|0 0]\n",
       "[-1  1| 0  0]  [ 0  1| 0  0]  [ 0  1| 0  0]  [0 1|0 0]  [0 1|0 0]\n",
       "[-----+-----]  [-----+-----]  [-----+-----]  [---+---]  [---+---]\n",
       "[ 0  0| 1  0]  [ 0 -1| 1  1]  [ 0  0| 1  0]  [0 0|1 1]  [0 0|1 0]\n",
       "[ 0  0| 0  1], [ 0  0| 0  1], [ 0  0|-1  1], [0 0|0 1], [0 0|0 1],\n",
       "\n",
       "[ 0  1| 0  0]\n",
       "[-1  0| 0  0]\n",
       "[-----+-----]\n",
       "[ 0  0| 0  1]\n",
       "[ 0  0|-1  0]\n",
       ")"
      ]
     },
     "execution_count": 4,
     "metadata": {},
     "output_type": "execute_result"
    }
   ],
   "source": [
    "a,b,c,d,f = tuple(map(lambda l: Sp_repr(l).matrix, ['a','b','c','d','f']))\n",
    "J4 = Sp_repr.J4\n",
    "\n",
    "a,b,c,d,f, J4 "
   ]
  },
  {
   "cell_type": "code",
   "execution_count": 5,
   "id": "91718540-8b61-4383-b757-749b0b101bbf",
   "metadata": {},
   "outputs": [
    {
     "data": {
      "text/html": [
       "<html>\\(\\displaystyle \\left(\\left(\\begin{array}{rrrr}\n",
       "1 & 0 & 0 & 0 \\\\\n",
       "1 & 1 & 0 & 0 \\\\\n",
       "0 & 0 & 1 & 0 \\\\\n",
       "0 & 0 & 0 & 1\n",
       "\\end{array}\\right), \\left(\\begin{array}{rrrr}\n",
       "1 & -1 & 0 & 1 \\\\\n",
       "0 & 1 & 0 & 0 \\\\\n",
       "0 & 1 & 1 & -1 \\\\\n",
       "0 & 0 & 0 & 1\n",
       "\\end{array}\\right), \\left(\\begin{array}{rrrr}\n",
       "1 & 0 & 0 & 0 \\\\\n",
       "0 & 1 & 0 & 0 \\\\\n",
       "0 & 0 & 1 & 0 \\\\\n",
       "0 & 0 & 1 & 1\n",
       "\\end{array}\\right), \\left(\\begin{array}{rrrr}\n",
       "1 & 0 & 0 & 0 \\\\\n",
       "0 & 1 & 0 & 0 \\\\\n",
       "0 & 0 & 1 & -1 \\\\\n",
       "0 & 0 & 0 & 1\n",
       "\\end{array}\\right), \\left(\\begin{array}{rrrr}\n",
       "1 & -1 & 0 & 0 \\\\\n",
       "0 & 1 & 0 & 0 \\\\\n",
       "0 & 0 & 1 & 0 \\\\\n",
       "0 & 0 & 0 & 1\n",
       "\\end{array}\\right)\\right)\\)</html>"
      ],
      "text/latex": [
       "$\\displaystyle \\left(\\left(\\begin{array}{rrrr}\n",
       "1 & 0 & 0 & 0 \\\\\n",
       "1 & 1 & 0 & 0 \\\\\n",
       "0 & 0 & 1 & 0 \\\\\n",
       "0 & 0 & 0 & 1\n",
       "\\end{array}\\right), \\left(\\begin{array}{rrrr}\n",
       "1 & -1 & 0 & 1 \\\\\n",
       "0 & 1 & 0 & 0 \\\\\n",
       "0 & 1 & 1 & -1 \\\\\n",
       "0 & 0 & 0 & 1\n",
       "\\end{array}\\right), \\left(\\begin{array}{rrrr}\n",
       "1 & 0 & 0 & 0 \\\\\n",
       "0 & 1 & 0 & 0 \\\\\n",
       "0 & 0 & 1 & 0 \\\\\n",
       "0 & 0 & 1 & 1\n",
       "\\end{array}\\right), \\left(\\begin{array}{rrrr}\n",
       "1 & 0 & 0 & 0 \\\\\n",
       "0 & 1 & 0 & 0 \\\\\n",
       "0 & 0 & 1 & -1 \\\\\n",
       "0 & 0 & 0 & 1\n",
       "\\end{array}\\right), \\left(\\begin{array}{rrrr}\n",
       "1 & -1 & 0 & 0 \\\\\n",
       "0 & 1 & 0 & 0 \\\\\n",
       "0 & 0 & 1 & 0 \\\\\n",
       "0 & 0 & 0 & 1\n",
       "\\end{array}\\right)\\right)$"
      ],
      "text/plain": [
       "(\n",
       "[1 0 0 0]  [ 1 -1  0  1]  [1 0 0 0]  [ 1  0  0  0]  [ 1 -1  0  0]\n",
       "[1 1 0 0]  [ 0  1  0  0]  [0 1 0 0]  [ 0  1  0  0]  [ 0  1  0  0]\n",
       "[0 0 1 0]  [ 0  1  1 -1]  [0 0 1 0]  [ 0  0  1 -1]  [ 0  0  1  0]\n",
       "[0 0 0 1], [ 0  0  0  1], [0 0 1 1], [ 0  0  0  1], [ 0  0  0  1]\n",
       ")"
      ]
     },
     "execution_count": 5,
     "metadata": {},
     "output_type": "execute_result"
    }
   ],
   "source": [
    "A, B, C, D, F = (k.inverse() for k in [a,b,c,d,f])\n",
    "A,B,C,D,F"
   ]
  },
  {
   "cell_type": "code",
   "execution_count": 6,
   "id": "5b64dafc-f82c-4c1b-b784-562718f37ea5",
   "metadata": {
    "scrolled": true
   },
   "outputs": [
    {
     "data": {
      "text/html": [
       "<html>\\(\\displaystyle \\left(\\begin{array}{rrrr}\n",
       "1 & 1 & 1 & 0 \\\\\n",
       "-1 & 0 & -1 & 0 \\\\\n",
       "0 & -1 & 0 & 1 \\\\\n",
       "0 & 0 & -1 & 0\n",
       "\\end{array}\\right)\\)</html>"
      ],
      "text/latex": [
       "$\\displaystyle \\left(\\begin{array}{rrrr}\n",
       "1 & 1 & 1 & 0 \\\\\n",
       "-1 & 0 & -1 & 0 \\\\\n",
       "0 & -1 & 0 & 1 \\\\\n",
       "0 & 0 & -1 & 0\n",
       "\\end{array}\\right)$"
      ],
      "text/plain": [
       "[ 1  1  1  0]\n",
       "[-1  0 -1  0]\n",
       "[ 0 -1  0  1]\n",
       "[ 0  0 -1  0]"
      ]
     },
     "metadata": {},
     "output_type": "display_data"
    },
    {
     "data": {
      "text/html": [
       "<html>\\(\\displaystyle \\left(\\begin{array}{rrrr}\n",
       "0 & 1 & -1 & 0 \\\\\n",
       "-1 & -1 & 1 & 0 \\\\\n",
       "1 & 0 & 2 & -1 \\\\\n",
       "0 & 0 & 1 & 0\n",
       "\\end{array}\\right)\\)</html>"
      ],
      "text/latex": [
       "$\\displaystyle \\left(\\begin{array}{rrrr}\n",
       "0 & 1 & -1 & 0 \\\\\n",
       "-1 & -1 & 1 & 0 \\\\\n",
       "1 & 0 & 2 & -1 \\\\\n",
       "0 & 0 & 1 & 0\n",
       "\\end{array}\\right)$"
      ],
      "text/plain": [
       "[ 0  1 -1  0]\n",
       "[-1 -1  1  0]\n",
       "[ 1  0  2 -1]\n",
       "[ 0  0  1  0]"
      ]
     },
     "metadata": {},
     "output_type": "display_data"
    },
    {
     "data": {
      "text/html": [
       "<html>\\(\\displaystyle \\left[\\mathrm{True}, \\mathrm{True}\\right]\\)</html>"
      ],
      "text/latex": [
       "$\\displaystyle \\left[\\mathrm{True}, \\mathrm{True}\\right]$"
      ],
      "text/plain": [
       "[True, True]"
      ]
     },
     "execution_count": 6,
     "metadata": {},
     "output_type": "execute_result"
    }
   ],
   "source": [
    "M = a*b*c*d\n",
    "display(M)\n",
    "N = a*b*a*C*D*f\n",
    "display(N)\n",
    "\n",
    "list(map(is_Sp, [M, N]))"
   ]
  },
  {
   "cell_type": "markdown",
   "id": "fc59ddcb-4d93-4bb5-aafc-599a25155a43",
   "metadata": {},
   "source": [
    "### The charactoristic polynomial of M (and N)"
   ]
  },
  {
   "cell_type": "code",
   "execution_count": 7,
   "id": "dd6304d6-7bb0-4ec3-99a9-0513b1b72980",
   "metadata": {},
   "outputs": [
    {
     "data": {
      "text/html": [
       "<html>\\(\\displaystyle t^{4} - t^{3} + t^{2} - t + 1\\)</html>"
      ],
      "text/latex": [
       "$\\displaystyle t^{4} - t^{3} + t^{2} - t + 1$"
      ],
      "text/plain": [
       "t^4 - t^3 + t^2 - t + 1"
      ]
     },
     "metadata": {},
     "output_type": "display_data"
    },
    {
     "data": {
      "text/html": [
       "<html>\\(\\displaystyle (t^{4} - t^{3} + t^{2} - t + 1)\\)</html>"
      ],
      "text/latex": [
       "$\\displaystyle (t^{4} - t^{3} + t^{2} - t + 1)$"
      ],
      "text/plain": [
       "t^4 - t^3 + t^2 - t + 1"
      ]
     },
     "metadata": {},
     "output_type": "display_data"
    },
    {
     "name": "stdout",
     "output_type": "stream",
     "text": [
      "cp_M == cp_N ?   --> True\n"
     ]
    }
   ],
   "source": [
    "R.<a> = PolynomialRing(ZZ)\n",
    "cp_M = M.charpoly('t'); display(cp_M, cp_M.factor())\n",
    "cp_N = N.charpoly('t'); #display(cp_N)\n",
    "\n",
    "print(f\"cp_M == cp_N ?   --> {cp_M == cp_N}\")"
   ]
  },
  {
   "cell_type": "markdown",
   "id": "09564ad3-c81e-487d-a387-6a5104a697e8",
   "metadata": {},
   "source": [
    "# 2. The ideal for fibered knots"
   ]
  },
  {
   "cell_type": "code",
   "execution_count": 8,
   "id": "26ea7da3-4c98-4844-b823-835466e97788",
   "metadata": {},
   "outputs": [
    {
     "name": "stdout",
     "output_type": "stream",
     "text": [
      "整数基: [1, a, a^2, a^3]\n",
      "類数: 1\n",
      "[a, -a + 1]\n",
      "Galois group 4T1 (4) with order 4 of t^4 - t^3 + t^2 - t + 1\n"
     ]
    }
   ],
   "source": [
    "K.<a> = NumberField(cp_M)\n",
    "OK = K.ring_of_integers()\n",
    "print(\"整数基:\", OK.basis())\n",
    "print(\"類数:\", OK.class_number())\n",
    "\n",
    "U = UnitGroup(K)\n",
    "print(U.gens_values())\n",
    "\n",
    "G = K.galois_group()\n",
    "print(G)"
   ]
  },
  {
   "cell_type": "code",
   "execution_count": 9,
   "id": "75df8674-0bc8-437a-b11d-0a695517e567",
   "metadata": {},
   "outputs": [],
   "source": [
    "def ev_wrt_a(X):\n",
    "    X_K = X.change_ring(K)\n",
    "    evlist = X_K.eigenvectors_right();\n",
    "    v = [v[1][0] for v in evlist if v[0] == a][0]\n",
    "    if X_K*v == a*v:\n",
    "        return v\n",
    "    else:\n",
    "        return None"
   ]
  },
  {
   "cell_type": "markdown",
   "id": "ab26e5d9-360f-4442-8702-342cf4e810f3",
   "metadata": {},
   "source": [
    "### Eigenvectors of M and N with respect to the eigen value $a$"
   ]
  },
  {
   "cell_type": "code",
   "execution_count": 10,
   "id": "5a55569d-062e-49c6-a384-b3f955799aec",
   "metadata": {},
   "outputs": [
    {
     "data": {
      "text/html": [
       "<html>\\(\\displaystyle \\left(1,\\,a^{3} + a - 1,\\,-a^{3},\\,a^{2}\\right)\\)</html>"
      ],
      "text/latex": [
       "$\\displaystyle \\left(1,\\,a^{3} + a - 1,\\,-a^{3},\\,a^{2}\\right)$"
      ],
      "text/plain": [
       "(1, a^3 + a - 1, -a^3, a^2)"
      ]
     },
     "metadata": {},
     "output_type": "display_data"
    },
    {
     "data": {
      "text/html": [
       "<html>\\(\\displaystyle \\left(1,\\,a^{3} - a^{2} + a - 2,\\,a^{3} - a^{2} - 2,\\,2 a^{3} - a^{2} + a - 2\\right)\\)</html>"
      ],
      "text/latex": [
       "$\\displaystyle \\left(1,\\,a^{3} - a^{2} + a - 2,\\,a^{3} - a^{2} - 2,\\,2 a^{3} - a^{2} + a - 2\\right)$"
      ],
      "text/plain": [
       "(1, a^3 - a^2 + a - 2, a^3 - a^2 - 2, 2*a^3 - a^2 + a - 2)"
      ]
     },
     "metadata": {},
     "output_type": "display_data"
    },
    {
     "name": "stdout",
     "output_type": "stream",
     "text": [
      "------- Check -------\n",
      "True True\n"
     ]
    }
   ],
   "source": [
    "v, w = [ev_wrt_a(X) for X in (M,N)]\n",
    "display(v, w)\n",
    "print(\"------- Check -------\")\n",
    "print(M*v == a*v, N*w == a*w)"
   ]
  },
  {
   "cell_type": "markdown",
   "id": "b2c7cd37-c6b9-4c6e-8515-4738011ed86b",
   "metadata": {},
   "source": [
    "### Ideals of M and N"
   ]
  },
  {
   "cell_type": "code",
   "execution_count": 11,
   "id": "0ce78770-f2cd-4499-a06f-e9be1077fa19",
   "metadata": {},
   "outputs": [
    {
     "data": {
      "text/html": [
       "<html>\\(\\displaystyle \\left(\\begin{array}{rrrr}\n",
       "1 & 0 & 0 & 0 \\\\\n",
       "1 & 1 & 1 & 0 \\\\\n",
       "0 & 0 & 0 & 1 \\\\\n",
       "0 & 0 & -1 & 0\n",
       "\\end{array}\\right)\\)</html>"
      ],
      "text/latex": [
       "$\\displaystyle \\left(\\begin{array}{rrrr}\n",
       "1 & 0 & 0 & 0 \\\\\n",
       "1 & 1 & 1 & 0 \\\\\n",
       "0 & 0 & 0 & 1 \\\\\n",
       "0 & 0 & -1 & 0\n",
       "\\end{array}\\right)$"
      ],
      "text/plain": [
       "[ 1  0  0  0]\n",
       "[ 1  1  1  0]\n",
       "[ 0  0  0  1]\n",
       "[ 0  0 -1  0]"
      ]
     },
     "metadata": {},
     "output_type": "display_data"
    },
    {
     "data": {
      "text/html": [
       "<html>\\(\\displaystyle \\left(1,\\,a,\\,a^{2},\\,a^{3}\\right)\\)</html>"
      ],
      "text/latex": [
       "$\\displaystyle \\left(1,\\,a,\\,a^{2},\\,a^{3}\\right)$"
      ],
      "text/plain": [
       "(1, a, a^2, a^3)"
      ]
     },
     "metadata": {},
     "output_type": "display_data"
    },
    {
     "data": {
      "text/html": [
       "<html>\\(\\displaystyle \\left(\\begin{array}{rrrr}\n",
       "1 & 0 & 0 & 0 \\\\\n",
       "1 & 1 & 1 & 0 \\\\\n",
       "0 & 0 & 0 & 1 \\\\\n",
       "0 & 0 & -1 & 0\n",
       "\\end{array}\\right)\\)</html>"
      ],
      "text/latex": [
       "$\\displaystyle \\left(\\begin{array}{rrrr}\n",
       "1 & 0 & 0 & 0 \\\\\n",
       "1 & 1 & 1 & 0 \\\\\n",
       "0 & 0 & 0 & 1 \\\\\n",
       "0 & 0 & -1 & 0\n",
       "\\end{array}\\right)$"
      ],
      "text/plain": [
       "[ 1  0  0  0]\n",
       "[ 1  1  1  0]\n",
       "[ 0  0  0  1]\n",
       "[ 0  0 -1  0]"
      ]
     },
     "metadata": {},
     "output_type": "display_data"
    }
   ],
   "source": [
    "# The integral ideal (v) is equal to ZZ[a]\n",
    "\n",
    "T = matrix([[1,0,0,0],[1,1,1,0],[0,0,0,1],[0,0,-1,0]]); display(T, T*v)\n",
    "X = T; display(X)"
   ]
  },
  {
   "cell_type": "code",
   "execution_count": 12,
   "id": "c98e3974-acad-4dfd-9cfa-55e22deced12",
   "metadata": {},
   "outputs": [
    {
     "data": {
      "text/html": [
       "<html>\\(\\displaystyle \\left(\\begin{array}{rrrr}\n",
       "1 & 0 & 0 & 0 \\\\\n",
       "1 & 1 & 1 & 0 \\\\\n",
       "0 & 0 & 0 & 1 \\\\\n",
       "0 & 0 & -1 & 0\n",
       "\\end{array}\\right)\\)</html>"
      ],
      "text/latex": [
       "$\\displaystyle \\left(\\begin{array}{rrrr}\n",
       "1 & 0 & 0 & 0 \\\\\n",
       "1 & 1 & 1 & 0 \\\\\n",
       "0 & 0 & 0 & 1 \\\\\n",
       "0 & 0 & -1 & 0\n",
       "\\end{array}\\right)$"
      ],
      "text/plain": [
       "[ 1  0  0  0]\n",
       "[ 1  1  1  0]\n",
       "[ 0  0  0  1]\n",
       "[ 0  0 -1  0]"
      ]
     },
     "metadata": {},
     "output_type": "display_data"
    },
    {
     "data": {
      "text/html": [
       "<html>\\(\\displaystyle \\left(1,\\,a,\\,2 a^{3} - a^{2} + a - 2,\\,a^{3} - a^{2} - 2\\right)\\)</html>"
      ],
      "text/latex": [
       "$\\displaystyle \\left(1,\\,a,\\,2 a^{3} - a^{2} + a - 2,\\,a^{3} - a^{2} - 2\\right)$"
      ],
      "text/plain": [
       "(1, a, 2*a^3 - a^2 + a - 2, a^3 - a^2 - 2)"
      ]
     },
     "metadata": {},
     "output_type": "display_data"
    },
    {
     "data": {
      "text/html": [
       "<html>\\(\\displaystyle \\left(1,\\,a,\\,a^{2},\\,a^{3} - a^{2} - 2\\right)\\)</html>"
      ],
      "text/latex": [
       "$\\displaystyle \\left(1,\\,a,\\,a^{2},\\,a^{3} - a^{2} - 2\\right)$"
      ],
      "text/plain": [
       "(1, a, a^2, a^3 - a^2 - 2)"
      ]
     },
     "metadata": {},
     "output_type": "display_data"
    },
    {
     "data": {
      "text/html": [
       "<html>\\(\\displaystyle \\left(1,\\,a,\\,a^{2},\\,a^{3}\\right)\\)</html>"
      ],
      "text/latex": [
       "$\\displaystyle \\left(1,\\,a,\\,a^{2},\\,a^{3}\\right)$"
      ],
      "text/plain": [
       "(1, a, a^2, a^3)"
      ]
     },
     "metadata": {},
     "output_type": "display_data"
    },
    {
     "data": {
      "text/html": [
       "<html>\\(\\displaystyle \\left(\\begin{array}{rrrr}\n",
       "1 & 0 & 0 & 0 \\\\\n",
       "0 & 1 & -1 & 0 \\\\\n",
       "-2 & -1 & -1 & 1 \\\\\n",
       "0 & -1 & 0 & 1\n",
       "\\end{array}\\right)\\)</html>"
      ],
      "text/latex": [
       "$\\displaystyle \\left(\\begin{array}{rrrr}\n",
       "1 & 0 & 0 & 0 \\\\\n",
       "0 & 1 & -1 & 0 \\\\\n",
       "-2 & -1 & -1 & 1 \\\\\n",
       "0 & -1 & 0 & 1\n",
       "\\end{array}\\right)$"
      ],
      "text/plain": [
       "[ 1  0  0  0]\n",
       "[ 0  1 -1  0]\n",
       "[-2 -1 -1  1]\n",
       "[ 0 -1  0  1]"
      ]
     },
     "metadata": {},
     "output_type": "display_data"
    }
   ],
   "source": [
    "# The integral ideal (w) is equal to ZZ[a]\n",
    "display(T)\n",
    "T = matrix([[1,0,0,0],[0,1,-1,0],[0,0,0,1],[0,0,1,0]]); display(T*w)\n",
    "T2 = matrix([[1,0,0,0],[0,1,0,0],[-2,-1,1,-2],[0,0,0,1]]); display(T2*(T*w))\n",
    "T3 = matrix([[1,0,0,0],[0,1,0,0],[0,0,1,0],[2,0,1,1]]); display(T3*(T2*(T*w)))\n",
    "Y = T3*T2*T; display(Y)"
   ]
  },
  {
   "cell_type": "code",
   "execution_count": 13,
   "id": "cf931ecc-2668-46b2-aacf-0bc4a5826965",
   "metadata": {
    "scrolled": true
   },
   "outputs": [
    {
     "data": {
      "text/html": [
       "<html>\\(\\displaystyle \\left(\\begin{array}{rrrr}\n",
       "1 & 0 & 0 & 0 \\\\\n",
       "-1 & 1 & 0 & -1 \\\\\n",
       "-2 & 0 & -1 & -1 \\\\\n",
       "-1 & 1 & -1 & -1\n",
       "\\end{array}\\right)\\)</html>"
      ],
      "text/latex": [
       "$\\displaystyle \\left(\\begin{array}{rrrr}\n",
       "1 & 0 & 0 & 0 \\\\\n",
       "-1 & 1 & 0 & -1 \\\\\n",
       "-2 & 0 & -1 & -1 \\\\\n",
       "-1 & 1 & -1 & -1\n",
       "\\end{array}\\right)$"
      ],
      "text/plain": [
       "[ 1  0  0  0]\n",
       "[-1  1  0 -1]\n",
       "[-2  0 -1 -1]\n",
       "[-1  1 -1 -1]"
      ]
     },
     "metadata": {},
     "output_type": "display_data"
    },
    {
     "data": {
      "text/html": [
       "<html>\\(\\displaystyle \\left(\\begin{array}{rrrr}\n",
       "1 & 0 & 0 & 0 \\\\\n",
       "-1 & 0 & -1 & 1 \\\\\n",
       "0 & 1 & 0 & -1 \\\\\n",
       "-2 & -1 & -1 & 1\n",
       "\\end{array}\\right)\\)</html>"
      ],
      "text/latex": [
       "$\\displaystyle \\left(\\begin{array}{rrrr}\n",
       "1 & 0 & 0 & 0 \\\\\n",
       "-1 & 0 & -1 & 1 \\\\\n",
       "0 & 1 & 0 & -1 \\\\\n",
       "-2 & -1 & -1 & 1\n",
       "\\end{array}\\right)$"
      ],
      "text/plain": [
       "[ 1  0  0  0]\n",
       "[-1  0 -1  1]\n",
       "[ 0  1  0 -1]\n",
       "[-2 -1 -1  1]"
      ]
     },
     "metadata": {},
     "output_type": "display_data"
    },
    {
     "name": "stdout",
     "output_type": "stream",
     "text": [
      "(S*v == w) = True\n"
     ]
    },
    {
     "data": {
      "text/html": [
       "<html>\\(\\displaystyle \\left(1,\\,a^{3} - a^{2} + a - 2,\\,a^{3} - a^{2} - 2,\\,2 a^{3} - a^{2} + a - 2\\right)\\)</html>"
      ],
      "text/latex": [
       "$\\displaystyle \\left(1,\\,a^{3} - a^{2} + a - 2,\\,a^{3} - a^{2} - 2,\\,2 a^{3} - a^{2} + a - 2\\right)$"
      ],
      "text/plain": [
       "(1, a^3 - a^2 + a - 2, a^3 - a^2 - 2, 2*a^3 - a^2 + a - 2)"
      ]
     },
     "metadata": {},
     "output_type": "display_data"
    },
    {
     "data": {
      "text/html": [
       "<html>\\(\\displaystyle \\left(1,\\,a^{3} - a^{2} + a - 2,\\,a^{3} - a^{2} - 2,\\,2 a^{3} - a^{2} + a - 2\\right)\\)</html>"
      ],
      "text/latex": [
       "$\\displaystyle \\left(1,\\,a^{3} - a^{2} + a - 2,\\,a^{3} - a^{2} - 2,\\,2 a^{3} - a^{2} + a - 2\\right)$"
      ],
      "text/plain": [
       "(1, a^3 - a^2 + a - 2, a^3 - a^2 - 2, 2*a^3 - a^2 + a - 2)"
      ]
     },
     "metadata": {},
     "output_type": "display_data"
    },
    {
     "name": "stdout",
     "output_type": "stream",
     "text": [
      "is_Sp(S)=False\n"
     ]
    }
   ],
   "source": [
    "S = Y.inverse()*X\n",
    "display(S, S.inverse())\n",
    "\n",
    "print(f\"{(S*v == w) = }\")\n",
    "display(S*v, w)\n",
    "print(f\"{is_Sp(S)=}\")"
   ]
  },
  {
   "cell_type": "markdown",
   "id": "a7f4c976-1f08-4d6c-b9ec-1aece3f00bb7",
   "metadata": {},
   "source": [
    "### Scratch"
   ]
  },
  {
   "cell_type": "code",
   "execution_count": null,
   "id": "9446cf76-0206-4bc6-913d-0dbfd397c334",
   "metadata": {},
   "outputs": [],
   "source": [
    "#print(v, type(v))\n",
    "display(a+1, (a+1).subs({a: 1/a}))\n",
    "display(v, v.subs({a: 1/a}), J4*(v.subs({a: 1/a})))\n",
    "# v.dot_product(J4*v)"
   ]
  },
  {
   "cell_type": "code",
   "execution_count": 26,
   "id": "e89b5482-9785-4897-8f43-1184a9dba8f4",
   "metadata": {},
   "outputs": [
    {
     "data": {
      "text/html": [
       "<html>\\(\\displaystyle \\left(1,\\,-a^{3} - a,\\,a^{2},\\,-a^{3}\\right)\\)</html>"
      ],
      "text/latex": [
       "$\\displaystyle \\left(1,\\,-a^{3} - a,\\,a^{2},\\,-a^{3}\\right)$"
      ],
      "text/plain": [
       "(1, -a^3 - a, a^2, -a^3)"
      ]
     },
     "metadata": {},
     "output_type": "display_data"
    },
    {
     "data": {
      "text/html": [
       "<html>\\(\\displaystyle -3 a^{3} + a^{2} - 4 a + 2\\)</html>"
      ],
      "text/latex": [
       "$\\displaystyle -3 a^{3} + a^{2} - 4 a + 2$"
      ],
      "text/plain": [
       "-3*a^3 + a^2 - 4*a + 2"
      ]
     },
     "metadata": {},
     "output_type": "display_data"
    }
   ],
   "source": [
    "tv = vector([1, 1/a^3+1/a-1, -1/a^3, 1/a^2])\n",
    "display(tv)\n",
    "alpha = v.dot_product(J4*tv)\n",
    "display(alpha)"
   ]
  },
  {
   "cell_type": "code",
   "execution_count": 27,
   "id": "11cd578a-c8c6-4c0c-b5e1-b6be1b457b4b",
   "metadata": {},
   "outputs": [
    {
     "data": {
      "text/html": [
       "<html>\\(\\displaystyle 2 a^{3} - 2 a^{2} + 3\\)</html>"
      ],
      "text/latex": [
       "$\\displaystyle 2 a^{3} - 2 a^{2} + 3$"
      ],
      "text/plain": [
       "2*a^3 - 2*a^2 + 3"
      ]
     },
     "execution_count": 27,
     "metadata": {},
     "output_type": "execute_result"
    }
   ],
   "source": [
    "(a-2)*(1/a-2)"
   ]
  },
  {
   "cell_type": "code",
   "execution_count": null,
   "id": "948beca7-f2bb-4d99-98f1-0d66c3332fc7",
   "metadata": {},
   "outputs": [],
   "source": [
    "# 双一次形式を関数として定義\n",
    "def bilinear_form(x, y, A):\n",
    "    \"\"\"\n",
    "    行列Aで定義される双一次形式b(x, y) = x^T * A * y を計算する\n",
    "    \"\"\"\n",
    "    return x.dot_product(A * y)\n",
    "\n",
    "# 同じ行列とベクトルを使って計算\n",
    "A = matrix(QQ, [[1, 2, 3], [4, 5, 6], [7, 8, 9]])\n",
    "x = vector(QQ, [1, 0, 1])\n",
    "y = vector(QQ, [0, 1, 1])\n",
    "\n",
    "# 関数を呼び出す\n",
    "result_value = bilinear_form(x, y, A)[0]\n",
    "print(result_value)"
   ]
  },
  {
   "cell_type": "code",
   "execution_count": null,
   "id": "baf18894-644d-4351-933c-de237e2800ca",
   "metadata": {},
   "outputs": [],
   "source": [
    "\n",
    "\n"
   ]
  }
 ],
 "metadata": {
  "kernelspec": {
   "display_name": "SageMath 10.7",
   "language": "sage",
   "name": "sagemath"
  },
  "language_info": {
   "codemirror_mode": {
    "name": "ipython",
    "version": 3
   },
   "file_extension": ".py",
   "mimetype": "text/x-python",
   "name": "python",
   "nbconvert_exporter": "python",
   "pygments_lexer": "ipython3",
   "version": "3.12.3"
  }
 },
 "nbformat": 4,
 "nbformat_minor": 5
}
