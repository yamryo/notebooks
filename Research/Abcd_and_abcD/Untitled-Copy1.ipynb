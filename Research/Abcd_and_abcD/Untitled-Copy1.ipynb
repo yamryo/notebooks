{
 "cells": [
  {
   "cell_type": "markdown",
   "id": "0eca0c30-9bf8-4a83-b199-45c6b5c65a2e",
   "metadata": {},
   "source": [
    "# 1. Symplectic representation"
   ]
  },
  {
   "cell_type": "markdown",
   "id": "63ccd808-6f3e-45fe-b508-634b51edc713",
   "metadata": {},
   "source": [
    "## 1.1. On Humphries generators"
   ]
  },
  {
   "cell_type": "markdown",
   "id": "b96f01f6-1b90-41fd-b0bd-60cdcfebd13c",
   "metadata": {},
   "source": [
    "### Sp_repr class and functions"
   ]
  },
  {
   "cell_type": "code",
   "execution_count": 1,
   "id": "eb906321-414c-4614-b1ef-63577388aebf",
   "metadata": {},
   "outputs": [],
   "source": [
    "%display latex"
   ]
  },
  {
   "cell_type": "code",
   "execution_count": 2,
   "id": "ca5b79fe-7655-4ffc-a9b7-055616c6e6d6",
   "metadata": {},
   "outputs": [],
   "source": [
    "class Sp_repr:\n",
    "    #--- 2x2 ---\n",
    "    I = identity_matrix(2)\n",
    "    O = zero_matrix(ZZ,2)\n",
    "    J = matrix([[0,1],[-1,0]])\n",
    "    #---\n",
    "    L = matrix([[1,0],[1,1]])\n",
    "    K = matrix([[0,-1],[0,0]])\n",
    "    #--- 4x4 ---\n",
    "    J4 = block_matrix([[J, O], [O, J]])\n",
    "    # J4 = J4_bm.subs([(J, evJ)]).as_explicit()\n",
    "    #---\n",
    "    CHR_2_MTX = {'a': block_matrix([[L.inverse(), O], [O, I]]),\n",
    "                 'b': block_matrix([[L.T, K], [K, L.T]]),\n",
    "                 'c': block_matrix([[I, O], [O, L.inverse()]]),\n",
    "                 'd': block_matrix([[I, O], [O, L.T]]),\n",
    "                 'f': block_matrix([[L.T, O], [O,I]])}\n",
    "    #---\n",
    "    \n",
    "    def __init__(self, l:str):\n",
    "        self.loop = l\n",
    "        self.matrix = self.CHR_2_MTX.get(l) if l.islower() else self.CHR_2_MTX.get(l.lower()).inverse()"
   ]
  },
  {
   "cell_type": "code",
   "execution_count": 3,
   "id": "b7c2f2c1-8285-48aa-acd3-edc93922e79c",
   "metadata": {},
   "outputs": [
    {
     "data": {
      "text/html": [
       "<html>\\(\\displaystyle \\left[\\mathrm{True}, \\mathrm{True}, \\mathrm{True}, \\mathrm{True}, \\mathrm{True}, \\mathrm{True}\\right]\\)</html>"
      ],
      "text/latex": [
       "$\\displaystyle \\left[\\mathrm{True}, \\mathrm{True}, \\mathrm{True}, \\mathrm{True}, \\mathrm{True}, \\mathrm{True}\\right]$"
      ],
      "text/plain": [
       "[True, True, True, True, True, True]"
      ]
     },
     "execution_count": 3,
     "metadata": {},
     "output_type": "execute_result"
    }
   ],
   "source": [
    "def is_Sp(M):\n",
    "    J = Sp_repr.J4\n",
    "    return M.transpose()*J*M == J\n",
    "\n",
    "list(map(lambda l: is_Sp(Sp_repr(l).matrix), ['a','b','c','d','f', 'A'])) "
   ]
  },
  {
   "cell_type": "markdown",
   "id": "acdb99e7-cb13-40a4-9c05-4450aa74d9c8",
   "metadata": {},
   "source": [
    "## 1.2. The symplectic images of Abcd and abcD"
   ]
  },
  {
   "cell_type": "code",
   "execution_count": 4,
   "id": "3124d2d8-8314-4e0f-b6c1-74796f8b5070",
   "metadata": {},
   "outputs": [
    {
     "data": {
      "text/html": [
       "<html>\\(\\displaystyle \\left(\\left(\\begin{array}{rr|rr}\n",
       "1 & 0 & 0 & 0 \\\\\n",
       "-1 & 1 & 0 & 0 \\\\\n",
       "\\hline\n",
       " 0 & 0 & 1 & 0 \\\\\n",
       "0 & 0 & 0 & 1\n",
       "\\end{array}\\right), \\left(\\begin{array}{rr|rr}\n",
       "1 & 1 & 0 & -1 \\\\\n",
       "0 & 1 & 0 & 0 \\\\\n",
       "\\hline\n",
       " 0 & -1 & 1 & 1 \\\\\n",
       "0 & 0 & 0 & 1\n",
       "\\end{array}\\right), \\left(\\begin{array}{rr|rr}\n",
       "1 & 0 & 0 & 0 \\\\\n",
       "0 & 1 & 0 & 0 \\\\\n",
       "\\hline\n",
       " 0 & 0 & 1 & 0 \\\\\n",
       "0 & 0 & -1 & 1\n",
       "\\end{array}\\right), \\left(\\begin{array}{rr|rr}\n",
       "1 & 0 & 0 & 0 \\\\\n",
       "0 & 1 & 0 & 0 \\\\\n",
       "\\hline\n",
       " 0 & 0 & 1 & 1 \\\\\n",
       "0 & 0 & 0 & 1\n",
       "\\end{array}\\right), \\left(\\begin{array}{rr|rr}\n",
       "1 & 1 & 0 & 0 \\\\\n",
       "0 & 1 & 0 & 0 \\\\\n",
       "\\hline\n",
       " 0 & 0 & 1 & 0 \\\\\n",
       "0 & 0 & 0 & 1\n",
       "\\end{array}\\right), \\left(\\begin{array}{rr|rr}\n",
       "0 & 1 & 0 & 0 \\\\\n",
       "-1 & 0 & 0 & 0 \\\\\n",
       "\\hline\n",
       " 0 & 0 & 0 & 1 \\\\\n",
       "0 & 0 & -1 & 0\n",
       "\\end{array}\\right)\\right)\\)</html>"
      ],
      "text/latex": [
       "$\\displaystyle \\left(\\left(\\begin{array}{rr|rr}\n",
       "1 & 0 & 0 & 0 \\\\\n",
       "-1 & 1 & 0 & 0 \\\\\n",
       "\\hline\n",
       " 0 & 0 & 1 & 0 \\\\\n",
       "0 & 0 & 0 & 1\n",
       "\\end{array}\\right), \\left(\\begin{array}{rr|rr}\n",
       "1 & 1 & 0 & -1 \\\\\n",
       "0 & 1 & 0 & 0 \\\\\n",
       "\\hline\n",
       " 0 & -1 & 1 & 1 \\\\\n",
       "0 & 0 & 0 & 1\n",
       "\\end{array}\\right), \\left(\\begin{array}{rr|rr}\n",
       "1 & 0 & 0 & 0 \\\\\n",
       "0 & 1 & 0 & 0 \\\\\n",
       "\\hline\n",
       " 0 & 0 & 1 & 0 \\\\\n",
       "0 & 0 & -1 & 1\n",
       "\\end{array}\\right), \\left(\\begin{array}{rr|rr}\n",
       "1 & 0 & 0 & 0 \\\\\n",
       "0 & 1 & 0 & 0 \\\\\n",
       "\\hline\n",
       " 0 & 0 & 1 & 1 \\\\\n",
       "0 & 0 & 0 & 1\n",
       "\\end{array}\\right), \\left(\\begin{array}{rr|rr}\n",
       "1 & 1 & 0 & 0 \\\\\n",
       "0 & 1 & 0 & 0 \\\\\n",
       "\\hline\n",
       " 0 & 0 & 1 & 0 \\\\\n",
       "0 & 0 & 0 & 1\n",
       "\\end{array}\\right), \\left(\\begin{array}{rr|rr}\n",
       "0 & 1 & 0 & 0 \\\\\n",
       "-1 & 0 & 0 & 0 \\\\\n",
       "\\hline\n",
       " 0 & 0 & 0 & 1 \\\\\n",
       "0 & 0 & -1 & 0\n",
       "\\end{array}\\right)\\right)$"
      ],
      "text/plain": [
       "(\n",
       "[ 1  0| 0  0]  [ 1  1| 0 -1]  [ 1  0| 0  0]  [1 0|0 0]  [1 1|0 0]\n",
       "[-1  1| 0  0]  [ 0  1| 0  0]  [ 0  1| 0  0]  [0 1|0 0]  [0 1|0 0]\n",
       "[-----+-----]  [-----+-----]  [-----+-----]  [---+---]  [---+---]\n",
       "[ 0  0| 1  0]  [ 0 -1| 1  1]  [ 0  0| 1  0]  [0 0|1 1]  [0 0|1 0]\n",
       "[ 0  0| 0  1], [ 0  0| 0  1], [ 0  0|-1  1], [0 0|0 1], [0 0|0 1],\n",
       "\n",
       "[ 0  1| 0  0]\n",
       "[-1  0| 0  0]\n",
       "[-----+-----]\n",
       "[ 0  0| 0  1]\n",
       "[ 0  0|-1  0]\n",
       ")"
      ]
     },
     "execution_count": 4,
     "metadata": {},
     "output_type": "execute_result"
    }
   ],
   "source": [
    "a,b,c,d,f = tuple(map(lambda l: Sp_repr(l).matrix, ['a','b','c','d','f']))\n",
    "J4 = Sp_repr.J4\n",
    "\n",
    "a,b,c,d,f, J4 "
   ]
  },
  {
   "cell_type": "code",
   "execution_count": 5,
   "id": "91718540-8b61-4383-b757-749b0b101bbf",
   "metadata": {},
   "outputs": [
    {
     "data": {
      "text/html": [
       "<html>\\(\\displaystyle \\left(\\left(\\begin{array}{rrrr}\n",
       "1 & 0 & 0 & 0 \\\\\n",
       "1 & 1 & 0 & 0 \\\\\n",
       "0 & 0 & 1 & 0 \\\\\n",
       "0 & 0 & 0 & 1\n",
       "\\end{array}\\right), \\left(\\begin{array}{rrrr}\n",
       "1 & -1 & 0 & 1 \\\\\n",
       "0 & 1 & 0 & 0 \\\\\n",
       "0 & 1 & 1 & -1 \\\\\n",
       "0 & 0 & 0 & 1\n",
       "\\end{array}\\right), \\left(\\begin{array}{rrrr}\n",
       "1 & 0 & 0 & 0 \\\\\n",
       "0 & 1 & 0 & 0 \\\\\n",
       "0 & 0 & 1 & 0 \\\\\n",
       "0 & 0 & 1 & 1\n",
       "\\end{array}\\right), \\left(\\begin{array}{rrrr}\n",
       "1 & 0 & 0 & 0 \\\\\n",
       "0 & 1 & 0 & 0 \\\\\n",
       "0 & 0 & 1 & -1 \\\\\n",
       "0 & 0 & 0 & 1\n",
       "\\end{array}\\right), \\left(\\begin{array}{rrrr}\n",
       "1 & -1 & 0 & 0 \\\\\n",
       "0 & 1 & 0 & 0 \\\\\n",
       "0 & 0 & 1 & 0 \\\\\n",
       "0 & 0 & 0 & 1\n",
       "\\end{array}\\right)\\right)\\)</html>"
      ],
      "text/latex": [
       "$\\displaystyle \\left(\\left(\\begin{array}{rrrr}\n",
       "1 & 0 & 0 & 0 \\\\\n",
       "1 & 1 & 0 & 0 \\\\\n",
       "0 & 0 & 1 & 0 \\\\\n",
       "0 & 0 & 0 & 1\n",
       "\\end{array}\\right), \\left(\\begin{array}{rrrr}\n",
       "1 & -1 & 0 & 1 \\\\\n",
       "0 & 1 & 0 & 0 \\\\\n",
       "0 & 1 & 1 & -1 \\\\\n",
       "0 & 0 & 0 & 1\n",
       "\\end{array}\\right), \\left(\\begin{array}{rrrr}\n",
       "1 & 0 & 0 & 0 \\\\\n",
       "0 & 1 & 0 & 0 \\\\\n",
       "0 & 0 & 1 & 0 \\\\\n",
       "0 & 0 & 1 & 1\n",
       "\\end{array}\\right), \\left(\\begin{array}{rrrr}\n",
       "1 & 0 & 0 & 0 \\\\\n",
       "0 & 1 & 0 & 0 \\\\\n",
       "0 & 0 & 1 & -1 \\\\\n",
       "0 & 0 & 0 & 1\n",
       "\\end{array}\\right), \\left(\\begin{array}{rrrr}\n",
       "1 & -1 & 0 & 0 \\\\\n",
       "0 & 1 & 0 & 0 \\\\\n",
       "0 & 0 & 1 & 0 \\\\\n",
       "0 & 0 & 0 & 1\n",
       "\\end{array}\\right)\\right)$"
      ],
      "text/plain": [
       "(\n",
       "[1 0 0 0]  [ 1 -1  0  1]  [1 0 0 0]  [ 1  0  0  0]  [ 1 -1  0  0]\n",
       "[1 1 0 0]  [ 0  1  0  0]  [0 1 0 0]  [ 0  1  0  0]  [ 0  1  0  0]\n",
       "[0 0 1 0]  [ 0  1  1 -1]  [0 0 1 0]  [ 0  0  1 -1]  [ 0  0  1  0]\n",
       "[0 0 0 1], [ 0  0  0  1], [0 0 1 1], [ 0  0  0  1], [ 0  0  0  1]\n",
       ")"
      ]
     },
     "execution_count": 5,
     "metadata": {},
     "output_type": "execute_result"
    }
   ],
   "source": [
    "A, B, C, D, F = (k.inverse() for k in [a,b,c,d,f])\n",
    "A,B,C,D,F"
   ]
  },
  {
   "cell_type": "code",
   "execution_count": 6,
   "id": "5b64dafc-f82c-4c1b-b784-562718f37ea5",
   "metadata": {
    "scrolled": true
   },
   "outputs": [
    {
     "data": {
      "text/html": [
       "<html>\\(\\displaystyle \\left(\\begin{array}{rrrr}\n",
       "1 & 1 & 1 & -2 \\\\\n",
       "-1 & 0 & -1 & 2 \\\\\n",
       "0 & -1 & 0 & 1 \\\\\n",
       "0 & 0 & -1 & 2\n",
       "\\end{array}\\right)\\)</html>"
      ],
      "text/latex": [
       "$\\displaystyle \\left(\\begin{array}{rrrr}\n",
       "1 & 1 & 1 & -2 \\\\\n",
       "-1 & 0 & -1 & 2 \\\\\n",
       "0 & -1 & 0 & 1 \\\\\n",
       "0 & 0 & -1 & 2\n",
       "\\end{array}\\right)$"
      ],
      "text/plain": [
       "[ 1  1  1 -2]\n",
       "[-1  0 -1  2]\n",
       "[ 0 -1  0  1]\n",
       "[ 0  0 -1  2]"
      ]
     },
     "metadata": {},
     "output_type": "display_data"
    },
    {
     "data": {
      "text/html": [
       "<html>\\(\\displaystyle \\left(\\begin{array}{rrrr}\n",
       "1 & 1 & 1 & 0 \\\\\n",
       "1 & 2 & 1 & 0 \\\\\n",
       "0 & -1 & 0 & 1 \\\\\n",
       "0 & 0 & -1 & 0\n",
       "\\end{array}\\right)\\)</html>"
      ],
      "text/latex": [
       "$\\displaystyle \\left(\\begin{array}{rrrr}\n",
       "1 & 1 & 1 & 0 \\\\\n",
       "1 & 2 & 1 & 0 \\\\\n",
       "0 & -1 & 0 & 1 \\\\\n",
       "0 & 0 & -1 & 0\n",
       "\\end{array}\\right)$"
      ],
      "text/plain": [
       "[ 1  1  1  0]\n",
       "[ 1  2  1  0]\n",
       "[ 0 -1  0  1]\n",
       "[ 0  0 -1  0]"
      ]
     },
     "metadata": {},
     "output_type": "display_data"
    },
    {
     "data": {
      "text/html": [
       "<html>\\(\\displaystyle \\left[\\mathrm{True}, \\mathrm{True}\\right]\\)</html>"
      ],
      "text/latex": [
       "$\\displaystyle \\left[\\mathrm{True}, \\mathrm{True}\\right]$"
      ],
      "text/plain": [
       "[True, True]"
      ]
     },
     "execution_count": 6,
     "metadata": {},
     "output_type": "execute_result"
    }
   ],
   "source": [
    "M = a*b*c*D\n",
    "display(M)\n",
    "N = A*b*c*d\n",
    "display(N)\n",
    "\n",
    "list(map(is_Sp, [M, N]))"
   ]
  },
  {
   "cell_type": "markdown",
   "id": "fc59ddcb-4d93-4bb5-aafc-599a25155a43",
   "metadata": {},
   "source": [
    "### The charactoristic polynomial of M (and N)"
   ]
  },
  {
   "cell_type": "code",
   "execution_count": 7,
   "id": "dd6304d6-7bb0-4ec3-99a9-0513b1b72980",
   "metadata": {},
   "outputs": [
    {
     "data": {
      "text/html": [
       "<html>\\(\\displaystyle t^{4} - 3 t^{3} + 3 t^{2} - 3 t + 1\\)</html>"
      ],
      "text/latex": [
       "$\\displaystyle t^{4} - 3 t^{3} + 3 t^{2} - 3 t + 1$"
      ],
      "text/plain": [
       "t^4 - 3*t^3 + 3*t^2 - 3*t + 1"
      ]
     },
     "metadata": {},
     "output_type": "display_data"
    },
    {
     "data": {
      "text/html": [
       "<html>\\(\\displaystyle (t^{4} - 3 t^{3} + 3 t^{2} - 3 t + 1)\\)</html>"
      ],
      "text/latex": [
       "$\\displaystyle (t^{4} - 3 t^{3} + 3 t^{2} - 3 t + 1)$"
      ],
      "text/plain": [
       "t^4 - 3*t^3 + 3*t^2 - 3*t + 1"
      ]
     },
     "metadata": {},
     "output_type": "display_data"
    },
    {
     "name": "stdout",
     "output_type": "stream",
     "text": [
      "cp_M == cp_N ?   --> True\n"
     ]
    }
   ],
   "source": [
    "R.<a> = PolynomialRing(ZZ)\n",
    "cp_M = M.charpoly('t'); display(cp_M, cp_M.factor())\n",
    "cp_N = N.charpoly('t'); #display(cp_N)\n",
    "\n",
    "print(f\"cp_M == cp_N ?   --> {cp_M == cp_N}\")"
   ]
  },
  {
   "cell_type": "markdown",
   "id": "09564ad3-c81e-487d-a387-6a5104a697e8",
   "metadata": {},
   "source": [
    "# 2. The ideal for fibered knots"
   ]
  },
  {
   "cell_type": "code",
   "execution_count": 8,
   "id": "26ea7da3-4c98-4844-b823-835466e97788",
   "metadata": {},
   "outputs": [
    {
     "name": "stdout",
     "output_type": "stream",
     "text": [
      "整数基: [1, a, a^2, a^3]\n",
      "類数: 1\n",
      "[-1, a - 1, -a^3 + 3*a^2 - 3*a + 2]\n",
      "Galois group 4T3 (D(4)) with order 8 of t^4 - 3*t^3 + 3*t^2 - 3*t + 1\n"
     ]
    }
   ],
   "source": [
    "K.<a> = NumberField(cp_M)\n",
    "OK = K.ring_of_integers()\n",
    "print(\"整数基:\", OK.basis())\n",
    "print(\"類数:\", OK.class_number())\n",
    "\n",
    "U = UnitGroup(K)\n",
    "print(U.gens_values())\n",
    "\n",
    "G = K.galois_group()\n",
    "print(G)"
   ]
  },
  {
   "cell_type": "code",
   "execution_count": 9,
   "id": "75df8674-0bc8-437a-b11d-0a695517e567",
   "metadata": {},
   "outputs": [],
   "source": [
    "def ev_wrt_a(X):\n",
    "    X_K = X.change_ring(K)\n",
    "    evlist = X_K.eigenvectors_right();\n",
    "    v = [v[1][0] for v in evlist if v[0] == a][0]\n",
    "    if X_K*v == a*v:\n",
    "        return v\n",
    "    else:\n",
    "        return None"
   ]
  },
  {
   "cell_type": "markdown",
   "id": "e22ed535-f31a-435a-9c18-2cda883b14d8",
   "metadata": {},
   "source": [
    "### Eigenvectors of M and N with respect to the eigen value $a$"
   ]
  },
  {
   "cell_type": "code",
   "execution_count": 93,
   "id": "552dacb1-38ab-4ea4-ac08-67bcbc3b80a2",
   "metadata": {},
   "outputs": [
    {
     "data": {
      "text/html": [
       "<html>\\(\\displaystyle \\left(1,\\,-a^{3} + 2 a^{2} - a + 1,\\,-3 a^{3} + 8 a^{2} - 6 a + 6,\\,-2 a^{3} + 5 a^{2} - 4 a + 4\\right)\\)</html>"
      ],
      "text/latex": [
       "$\\displaystyle \\left(1,\\,-a^{3} + 2 a^{2} - a + 1,\\,-3 a^{3} + 8 a^{2} - 6 a + 6,\\,-2 a^{3} + 5 a^{2} - 4 a + 4\\right)$"
      ],
      "text/plain": [
       "(1, -a^3 + 2*a^2 - a + 1, -3*a^3 + 8*a^2 - 6*a + 6, -2*a^3 + 5*a^2 - 4*a + 4)"
      ]
     },
     "metadata": {},
     "output_type": "display_data"
    },
    {
     "data": {
      "text/html": [
       "<html>\\(\\displaystyle \\left(1,\\,a^{3} - 2 a^{2} + a - 1,\\,-a^{3} + 2 a^{2},\\,a^{2} - 2 a\\right)\\)</html>"
      ],
      "text/latex": [
       "$\\displaystyle \\left(1,\\,a^{3} - 2 a^{2} + a - 1,\\,-a^{3} + 2 a^{2},\\,a^{2} - 2 a\\right)$"
      ],
      "text/plain": [
       "(1, a^3 - 2*a^2 + a - 1, -a^3 + 2*a^2, a^2 - 2*a)"
      ]
     },
     "metadata": {},
     "output_type": "display_data"
    },
    {
     "name": "stdout",
     "output_type": "stream",
     "text": [
      "------- Check -------\n",
      "True True\n"
     ]
    }
   ],
   "source": [
    "v, w = [ev_wrt_a(X) for X in (M,N)]\n",
    "display(v, w)\n",
    "print(\"------- Check -------\")\n",
    "print(M*v == a*v, N*w == a*w)"
   ]
  },
  {
   "cell_type": "markdown",
   "id": "716c528a-7dbd-4439-b662-6a17f3435555",
   "metadata": {},
   "source": [
    "### Ideals of M and N"
   ]
  },
  {
   "cell_type": "code",
   "execution_count": 95,
   "id": "8d0b0f79-a610-4fa1-b074-510691457bac",
   "metadata": {},
   "outputs": [
    {
     "data": {
      "text/html": [
       "<html>\\(\\displaystyle \\left(\\begin{array}{rrrr}\n",
       "1 & 0 & 0 & 0 \\\\\n",
       "0 & 1 & 0 & 0 \\\\\n",
       "0 & 0 & -1 & 1 \\\\\n",
       "0 & 0 & 1 & -2\n",
       "\\end{array}\\right)\\)</html>"
      ],
      "text/latex": [
       "$\\displaystyle \\left(\\begin{array}{rrrr}\n",
       "1 & 0 & 0 & 0 \\\\\n",
       "0 & 1 & 0 & 0 \\\\\n",
       "0 & 0 & -1 & 1 \\\\\n",
       "0 & 0 & 1 & -2\n",
       "\\end{array}\\right)$"
      ],
      "text/plain": [
       "[ 1  0  0  0]\n",
       "[ 0  1  0  0]\n",
       "[ 0  0 -1  1]\n",
       "[ 0  0  1 -2]"
      ]
     },
     "metadata": {},
     "output_type": "display_data"
    },
    {
     "data": {
      "text/html": [
       "<html>\\(\\displaystyle \\left(1,\\,-a^{3} + 2 a^{2} - a + 1,\\,a^{3} - 3 a^{2} + 2 a - 2,\\,a^{3} - 2 a^{2} + 2 a - 2\\right)\\)</html>"
      ],
      "text/latex": [
       "$\\displaystyle \\left(1,\\,-a^{3} + 2 a^{2} - a + 1,\\,a^{3} - 3 a^{2} + 2 a - 2,\\,a^{3} - 2 a^{2} + 2 a - 2\\right)$"
      ],
      "text/plain": [
       "(1, -a^3 + 2*a^2 - a + 1, a^3 - 3*a^2 + 2*a - 2, a^3 - 2*a^2 + 2*a - 2)"
      ]
     },
     "metadata": {},
     "output_type": "display_data"
    },
    {
     "data": {
      "text/html": [
       "<html>\\(\\displaystyle \\left(1,\\,a - 1,\\,-a^{2},\\,a^{3} - 2 a^{2} + 2 a - 2\\right)\\)</html>"
      ],
      "text/latex": [
       "$\\displaystyle \\left(1,\\,a - 1,\\,-a^{2},\\,a^{3} - 2 a^{2} + 2 a - 2\\right)$"
      ],
      "text/plain": [
       "(1, a - 1, -a^2, a^3 - 2*a^2 + 2*a - 2)"
      ]
     },
     "metadata": {},
     "output_type": "display_data"
    },
    {
     "data": {
      "text/html": [
       "<html>\\(\\displaystyle \\left(1,\\,a,\\,a^{2},\\,a^{3}\\right)\\)</html>"
      ],
      "text/latex": [
       "$\\displaystyle \\left(1,\\,a,\\,a^{2},\\,a^{3}\\right)$"
      ],
      "text/plain": [
       "(1, a, a^2, a^3)"
      ]
     },
     "metadata": {},
     "output_type": "display_data"
    },
    {
     "data": {
      "text/html": [
       "<html>\\(\\displaystyle \\left(\\begin{array}{rrrr}\n",
       "1 & 0 & 0 & 0 \\\\\n",
       "1 & 1 & 1 & -2 \\\\\n",
       "0 & 0 & 2 & -3 \\\\\n",
       "0 & -2 & 3 & -4\n",
       "\\end{array}\\right)\\)</html>"
      ],
      "text/latex": [
       "$\\displaystyle \\left(\\begin{array}{rrrr}\n",
       "1 & 0 & 0 & 0 \\\\\n",
       "1 & 1 & 1 & -2 \\\\\n",
       "0 & 0 & 2 & -3 \\\\\n",
       "0 & -2 & 3 & -4\n",
       "\\end{array}\\right)$"
      ],
      "text/plain": [
       "[ 1  0  0  0]\n",
       "[ 1  1  1 -2]\n",
       "[ 0  0  2 -3]\n",
       "[ 0 -2  3 -4]"
      ]
     },
     "metadata": {},
     "output_type": "display_data"
    }
   ],
   "source": [
    "# The integral ideal (v) is equal to ZZ[a]\n",
    "\n",
    "T = matrix([[1,0,0,0],[0,1,0,0],[0,0,-1,1],[0,0,1,-2]]); display(T, T*v)\n",
    "T2 = matrix([[1,0,0,0],[0,1,0,1],[0,0,1,-1],[0,0,0,1]]); display(T2*(T*v))\n",
    "T3 = matrix([[1,0,0,0],[1,1,0,0],[0,0,-1,0],[0,-2,-2,1]]); display(T3*(T2*(T*v)))\n",
    "X = T3*T2*T; display(X)"
   ]
  },
  {
   "cell_type": "code",
   "execution_count": 96,
   "id": "48cbc75c-badf-4413-9208-09009362e71e",
   "metadata": {},
   "outputs": [
    {
     "data": {
      "text/html": [
       "<html>\\(\\displaystyle \\left(\\begin{array}{rrrr}\n",
       "1 & 0 & 0 & 0 \\\\\n",
       "0 & 1 & 1 & 0 \\\\\n",
       "0 & 0 & 0 & 1 \\\\\n",
       "0 & 0 & 1 & 0\n",
       "\\end{array}\\right)\\)</html>"
      ],
      "text/latex": [
       "$\\displaystyle \\left(\\begin{array}{rrrr}\n",
       "1 & 0 & 0 & 0 \\\\\n",
       "0 & 1 & 1 & 0 \\\\\n",
       "0 & 0 & 0 & 1 \\\\\n",
       "0 & 0 & 1 & 0\n",
       "\\end{array}\\right)$"
      ],
      "text/plain": [
       "[1 0 0 0]\n",
       "[0 1 1 0]\n",
       "[0 0 0 1]\n",
       "[0 0 1 0]"
      ]
     },
     "metadata": {},
     "output_type": "display_data"
    },
    {
     "data": {
      "text/html": [
       "<html>\\(\\displaystyle \\left(1,\\,a - 1,\\,a^{2} - 2 a,\\,-a^{3} + 2 a^{2}\\right)\\)</html>"
      ],
      "text/latex": [
       "$\\displaystyle \\left(1,\\,a - 1,\\,a^{2} - 2 a,\\,-a^{3} + 2 a^{2}\\right)$"
      ],
      "text/plain": [
       "(1, a - 1, a^2 - 2*a, -a^3 + 2*a^2)"
      ]
     },
     "metadata": {},
     "output_type": "display_data"
    },
    {
     "data": {
      "text/html": [
       "<html>\\(\\displaystyle \\left(1,\\,a - 1,\\,a^{2} - 2 a,\\,-a^{3} + 2 a^{2}\\right)\\)</html>"
      ],
      "text/latex": [
       "$\\displaystyle \\left(1,\\,a - 1,\\,a^{2} - 2 a,\\,-a^{3} + 2 a^{2}\\right)$"
      ],
      "text/plain": [
       "(1, a - 1, a^2 - 2*a, -a^3 + 2*a^2)"
      ]
     },
     "metadata": {},
     "output_type": "display_data"
    },
    {
     "data": {
      "text/html": [
       "<html>\\(\\displaystyle \\left(1,\\,a,\\,a^{2},\\,a^{3}\\right)\\)</html>"
      ],
      "text/latex": [
       "$\\displaystyle \\left(1,\\,a,\\,a^{2},\\,a^{3}\\right)$"
      ],
      "text/plain": [
       "(1, a, a^2, a^3)"
      ]
     },
     "metadata": {},
     "output_type": "display_data"
    },
    {
     "data": {
      "text/html": [
       "<html>\\(\\displaystyle \\left(\\begin{array}{rrrr}\n",
       "1 & 0 & 0 & 0 \\\\\n",
       "1 & 1 & 1 & 0 \\\\\n",
       "2 & 2 & 2 & 1 \\\\\n",
       "4 & 4 & 3 & 2\n",
       "\\end{array}\\right)\\)</html>"
      ],
      "text/latex": [
       "$\\displaystyle \\left(\\begin{array}{rrrr}\n",
       "1 & 0 & 0 & 0 \\\\\n",
       "1 & 1 & 1 & 0 \\\\\n",
       "2 & 2 & 2 & 1 \\\\\n",
       "4 & 4 & 3 & 2\n",
       "\\end{array}\\right)$"
      ],
      "text/plain": [
       "[1 0 0 0]\n",
       "[1 1 1 0]\n",
       "[2 2 2 1]\n",
       "[4 4 3 2]"
      ]
     },
     "metadata": {},
     "output_type": "display_data"
    }
   ],
   "source": [
    "# The integral ideal (w) is equal to ZZ[a]\n",
    "\n",
    "T = matrix([[1,0,0,0],[0,1,1,0],[0,0,0,1],[0,0,1,0]]); display(T, T*w)\n",
    "T2 = matrix([[1,0,0,0],[1,1,0,0],[2,2,1,0],[4,4,2,-1]]); display(T*w, T2*(T*w))\n",
    "Y = T2*T; display(Y)"
   ]
  },
  {
   "cell_type": "code",
   "execution_count": 122,
   "id": "3136315f-56ae-4557-9c43-a532a468cf00",
   "metadata": {},
   "outputs": [
    {
     "data": {
      "text/html": [
       "<html>\\(\\displaystyle \\left(\\begin{array}{rrrr}\n",
       "1 & 0 & 0 & 0 \\\\\n",
       "0 & -1 & 0 & 0 \\\\\n",
       "0 & 2 & 1 & -2 \\\\\n",
       "-2 & -2 & 0 & 1\n",
       "\\end{array}\\right)\\)</html>"
      ],
      "text/latex": [
       "$\\displaystyle \\left(\\begin{array}{rrrr}\n",
       "1 & 0 & 0 & 0 \\\\\n",
       "0 & -1 & 0 & 0 \\\\\n",
       "0 & 2 & 1 & -2 \\\\\n",
       "-2 & -2 & 0 & 1\n",
       "\\end{array}\\right)$"
      ],
      "text/plain": [
       "[ 1  0  0  0]\n",
       "[ 0 -1  0  0]\n",
       "[ 0  2  1 -2]\n",
       "[-2 -2  0  1]"
      ]
     },
     "metadata": {},
     "output_type": "display_data"
    },
    {
     "data": {
      "text/html": [
       "<html>\\(\\displaystyle \\left(\\begin{array}{rrrr}\n",
       "1 & 0 & 0 & 0 \\\\\n",
       "0 & -1 & 0 & 0 \\\\\n",
       "4 & -2 & 1 & 2 \\\\\n",
       "2 & -2 & 0 & 1\n",
       "\\end{array}\\right)\\)</html>"
      ],
      "text/latex": [
       "$\\displaystyle \\left(\\begin{array}{rrrr}\n",
       "1 & 0 & 0 & 0 \\\\\n",
       "0 & -1 & 0 & 0 \\\\\n",
       "4 & -2 & 1 & 2 \\\\\n",
       "2 & -2 & 0 & 1\n",
       "\\end{array}\\right)$"
      ],
      "text/plain": [
       "[ 1  0  0  0]\n",
       "[ 0 -1  0  0]\n",
       "[ 4 -2  1  2]\n",
       "[ 2 -2  0  1]"
      ]
     },
     "metadata": {},
     "output_type": "display_data"
    },
    {
     "name": "stdout",
     "output_type": "stream",
     "text": [
      "(S*v == w) = True\n"
     ]
    },
    {
     "data": {
      "text/html": [
       "<html>\\(\\displaystyle \\left(1,\\,a^{3} - 2 a^{2} + a - 1,\\,-a^{3} + 2 a^{2},\\,a^{2} - 2 a\\right)\\)</html>"
      ],
      "text/latex": [
       "$\\displaystyle \\left(1,\\,a^{3} - 2 a^{2} + a - 1,\\,-a^{3} + 2 a^{2},\\,a^{2} - 2 a\\right)$"
      ],
      "text/plain": [
       "(1, a^3 - 2*a^2 + a - 1, -a^3 + 2*a^2, a^2 - 2*a)"
      ]
     },
     "metadata": {},
     "output_type": "display_data"
    },
    {
     "data": {
      "text/html": [
       "<html>\\(\\displaystyle \\left(1,\\,a^{3} - 2 a^{2} + a - 1,\\,-a^{3} + 2 a^{2},\\,a^{2} - 2 a\\right)\\)</html>"
      ],
      "text/latex": [
       "$\\displaystyle \\left(1,\\,a^{3} - 2 a^{2} + a - 1,\\,-a^{3} + 2 a^{2},\\,a^{2} - 2 a\\right)$"
      ],
      "text/plain": [
       "(1, a^3 - 2*a^2 + a - 1, -a^3 + 2*a^2, a^2 - 2*a)"
      ]
     },
     "metadata": {},
     "output_type": "display_data"
    },
    {
     "name": "stdout",
     "output_type": "stream",
     "text": [
      "is_Sp(S)=False\n"
     ]
    }
   ],
   "source": [
    "S = Y.inverse()*X\n",
    "display(S, S.inverse())\n",
    "\n",
    "print(f\"{(S*v == w) = }\")\n",
    "display(S*v, w)\n",
    "print(f\"{is_Sp(S)=}\")"
   ]
  },
  {
   "cell_type": "markdown",
   "id": "6d72d2d0-ef36-4b42-88d5-fc9d321f374e",
   "metadata": {},
   "source": [
    "### Scratch"
   ]
  },
  {
   "cell_type": "code",
   "execution_count": 22,
   "id": "7de5b69b-c371-4d64-a561-307674aa8705",
   "metadata": {},
   "outputs": [
    {
     "data": {
      "text/html": [
       "<html>\\(\\displaystyle \\left(\\begin{array}{rrrr}\n",
       "-1 & 0 & -2 & -2 \\\\\n",
       "0 & 1 & 2 & 0 \\\\\n",
       "0 & 0 & 1 & 2 \\\\\n",
       "0 & 0 & 0 & 1\n",
       "\\end{array}\\right)\\)</html>"
      ],
      "text/latex": [
       "$\\displaystyle \\left(\\begin{array}{rrrr}\n",
       "-1 & 0 & -2 & -2 \\\\\n",
       "0 & 1 & 2 & 0 \\\\\n",
       "0 & 0 & 1 & 2 \\\\\n",
       "0 & 0 & 0 & 1\n",
       "\\end{array}\\right)$"
      ],
      "text/plain": [
       "[-1  0 -2 -2]\n",
       "[ 0  1  2  0]\n",
       "[ 0  0  1  2]\n",
       "[ 0  0  0  1]"
      ]
     },
     "metadata": {},
     "output_type": "display_data"
    },
    {
     "data": {
      "text/html": [
       "<html>\\(\\displaystyle \\mathrm{False}\\)</html>"
      ],
      "text/latex": [
       "$\\displaystyle \\mathrm{False}$"
      ],
      "text/plain": [
       "False"
      ]
     },
     "execution_count": 22,
     "metadata": {},
     "output_type": "execute_result"
    }
   ],
   "source": [
    "T = matrix([[-1,0,-2,-2],[0,1,2,0],[0,0,1,2],[0,0,0,1]])\n",
    "display(T)\n",
    "is_Sp(T)"
   ]
  },
  {
   "cell_type": "code",
   "execution_count": 15,
   "id": "e309af2f-df65-4851-a56e-cb17dd46ffb7",
   "metadata": {},
   "outputs": [
    {
     "data": {
      "text/html": [
       "<html>\\(\\displaystyle \\left(a^{3} - 2 a^{2} + 2 a - 2,\\,a^{2} + 1,\\,-a,\\,1\\right)\\)</html>"
      ],
      "text/latex": [
       "$\\displaystyle \\left(a^{3} - 2 a^{2} + 2 a - 2,\\,a^{2} + 1,\\,-a,\\,1\\right)$"
      ],
      "text/plain": [
       "(a^3 - 2*a^2 + 2*a - 2, a^2 + 1, -a, 1)"
      ]
     },
     "metadata": {},
     "output_type": "display_data"
    },
    {
     "data": {
      "text/html": [
       "<html>\\(\\displaystyle \\left(-a^{3} + 2 a^{2},\\,a^{2} - 2 a + 1,\\,-a + 2,\\,1\\right)\\)</html>"
      ],
      "text/latex": [
       "$\\displaystyle \\left(-a^{3} + 2 a^{2},\\,a^{2} - 2 a + 1,\\,-a + 2,\\,1\\right)$"
      ],
      "text/plain": [
       "(-a^3 + 2*a^2, a^2 - 2*a + 1, -a + 2, 1)"
      ]
     },
     "metadata": {},
     "output_type": "display_data"
    },
    {
     "data": {
      "text/html": [
       "<html>\\(\\displaystyle \\left(-a^{3} + 2 a^{2},\\,a^{2} - 2 a + 1,\\,-a + 2,\\,1\\right)\\)</html>"
      ],
      "text/latex": [
       "$\\displaystyle \\left(-a^{3} + 2 a^{2},\\,a^{2} - 2 a + 1,\\,-a + 2,\\,1\\right)$"
      ],
      "text/plain": [
       "(-a^3 + 2*a^2, a^2 - 2*a + 1, -a + 2, 1)"
      ]
     },
     "metadata": {},
     "output_type": "display_data"
    },
    {
     "data": {
      "text/html": [
       "<html>\\(\\displaystyle \\mathrm{True}\\)</html>"
      ],
      "text/latex": [
       "$\\displaystyle \\mathrm{True}$"
      ],
      "text/plain": [
       "True"
      ]
     },
     "metadata": {},
     "output_type": "display_data"
    }
   ],
   "source": [
    "v = vector([a^3-2*a^2+2*a-2, a^2+1, -a, 1])\n",
    "w = vector([a^2*(2-a), (a-1)^2, -(a-2), 1])\n",
    "display(v,w, T*v, T*v == w)"
   ]
  },
  {
   "cell_type": "code",
   "execution_count": 16,
   "id": "c4b6ac3e-f7f3-4674-8daf-9e733c8fdd4a",
   "metadata": {},
   "outputs": [
    {
     "data": {
      "text/html": [
       "<html>\\(\\displaystyle \\left(-a^{3} + 3 a^{2} - 3 a + 3,\\,-a^{3} + 4 a^{2} - 5 a + 4,\\,-a^{2} + 2 a,\\,a - 2\\right)\\)</html>"
      ],
      "text/latex": [
       "$\\displaystyle \\left(-a^{3} + 3 a^{2} - 3 a + 3,\\,-a^{3} + 4 a^{2} - 5 a + 4,\\,-a^{2} + 2 a,\\,a - 2\\right)$"
      ],
      "text/plain": [
       "(-a^3 + 3*a^2 - 3*a + 3, -a^3 + 4*a^2 - 5*a + 4, -a^2 + 2*a, a - 2)"
      ]
     },
     "metadata": {},
     "output_type": "display_data"
    },
    {
     "data": {
      "text/html": [
       "<html>\\(\\displaystyle \\left(-a^{3} + 3 a^{2} - 3 a + 1,\\,a^{3} - 2 a^{2} + a,\\,-a^{2} + 2 a,\\,a\\right)\\)</html>"
      ],
      "text/latex": [
       "$\\displaystyle \\left(-a^{3} + 3 a^{2} - 3 a + 1,\\,a^{3} - 2 a^{2} + a,\\,-a^{2} + 2 a,\\,a\\right)$"
      ],
      "text/plain": [
       "(-a^3 + 3*a^2 - 3*a + 1, a^3 - 2*a^2 + a, -a^2 + 2*a, a)"
      ]
     },
     "metadata": {},
     "output_type": "display_data"
    }
   ],
   "source": [
    "display(N*w, a*w)"
   ]
  },
  {
   "cell_type": "code",
   "execution_count": null,
   "id": "07d8df00-ad93-4985-98f9-1121537a0eb0",
   "metadata": {},
   "outputs": [],
   "source": [
    "#display(X.inverse()*M*X)"
   ]
  }
 ],
 "metadata": {
  "kernelspec": {
   "display_name": "SageMath 10.7",
   "language": "sage",
   "name": "sagemath"
  },
  "language_info": {
   "codemirror_mode": {
    "name": "ipython",
    "version": 3
   },
   "file_extension": ".py",
   "mimetype": "text/x-python",
   "name": "python",
   "nbconvert_exporter": "python",
   "pygments_lexer": "ipython3",
   "version": "3.12.3"
  }
 },
 "nbformat": 4,
 "nbformat_minor": 5
}
