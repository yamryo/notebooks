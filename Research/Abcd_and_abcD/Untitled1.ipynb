{
 "cells": [
  {
   "cell_type": "code",
   "execution_count": 1,
   "id": "ca469e08-098b-4e03-90c7-838e6feecdb7",
   "metadata": {},
   "outputs": [],
   "source": [
    "%display latex"
   ]
  },
  {
   "cell_type": "code",
   "execution_count": 13,
   "id": "8e305e24-6c51-474e-840f-0bcfc679f020",
   "metadata": {},
   "outputs": [
    {
     "data": {
      "text/html": [
       "<html>\\(\\displaystyle -z^{4} - z^{2} + 1\\)</html>"
      ],
      "text/latex": [
       "$\\displaystyle -z^{4} - z^{2} + 1$"
      ],
      "text/plain": [
       "-z^4 - z^2 + 1"
      ]
     },
     "metadata": {},
     "output_type": "display_data"
    },
    {
     "data": {
      "text/html": [
       "<html>\\(\\displaystyle -t^{4} + 3 \\, t^{3} - 3 \\, t^{2} + 3 \\, t - 1\\)</html>"
      ],
      "text/latex": [
       "$\\displaystyle -t^{4} + 3 \\, t^{3} - 3 \\, t^{2} + 3 \\, t - 1$"
      ],
      "text/plain": [
       "-t^4 + 3*t^3 - 3*t^2 + 3*t - 1"
      ]
     },
     "metadata": {},
     "output_type": "display_data"
    }
   ],
   "source": [
    "z, c, e = var('z','c', 'e')\n",
    "c, e = (-1, -1)\n",
    "\n",
    "cp = 1+c*z^2+e*z^4; display(cp)\n",
    "\n",
    "t = var('t')\n",
    "ap = cp.subs({z: t^(-1/2)-t^(1/2)})*t^(cp.degree(z)/2)\n",
    "display(ap.expand().simplify().collect(t))"
   ]
  },
  {
   "cell_type": "code",
   "execution_count": null,
   "id": "17706962-b38c-477e-a8b8-0a6dd1446ca3",
   "metadata": {},
   "outputs": [],
   "source": []
  }
 ],
 "metadata": {
  "kernelspec": {
   "display_name": "SageMath 10.7",
   "language": "sage",
   "name": "sagemath"
  },
  "language_info": {
   "codemirror_mode": {
    "name": "ipython",
    "version": 3
   },
   "file_extension": ".py",
   "mimetype": "text/x-python",
   "name": "python",
   "nbconvert_exporter": "python",
   "pygments_lexer": "ipython3",
   "version": "3.12.3"
  }
 },
 "nbformat": 4,
 "nbformat_minor": 5
}
