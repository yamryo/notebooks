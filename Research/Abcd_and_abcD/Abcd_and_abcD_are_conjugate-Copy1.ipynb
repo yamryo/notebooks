{
 "cells": [
  {
   "cell_type": "markdown",
   "id": "b3a46c7e-7ec3-4dec-a8ce-dd1b9d632b7a",
   "metadata": {
    "id": "b3a46c7e-7ec3-4dec-a8ce-dd1b9d632b7a"
   },
   "source": [
    "# Mapping classes Abcd and abcD are conjugate."
   ]
  },
  {
   "cell_type": "markdown",
   "id": "KPups8IJ6oYy",
   "metadata": {
    "id": "KPups8IJ6oYy",
    "jp-MarkdownHeadingCollapsed": true
   },
   "source": [
    "### Modules"
   ]
  },
  {
   "cell_type": "code",
   "execution_count": 1,
   "id": "14c7ea7c-d8c9-4a75-a3a9-ccde4f2bb0cc",
   "metadata": {
    "colab": {
     "base_uri": "https://localhost:8080/"
    },
    "executionInfo": {
     "elapsed": 19392,
     "status": "ok",
     "timestamp": 1726184657592,
     "user": {
      "displayName": "山本亮介",
      "userId": "01861936879830612877"
     },
     "user_tz": -540
    },
    "id": "14c7ea7c-d8c9-4a75-a3a9-ccde4f2bb0cc",
    "outputId": "365c2cd4-ee7f-4d2a-bc32-dd178eb49258",
    "scrolled": true
   },
   "outputs": [],
   "source": [
    "import sympy as sp\n",
    "sp.init_printing(use_latex='mathjax')"
   ]
  },
  {
   "cell_type": "markdown",
   "id": "19f91826-936d-4239-acc6-be3a860b7b0c",
   "metadata": {},
   "source": [
    "# 1. Conjugacy on the symplectic representation"
   ]
  },
  {
   "cell_type": "markdown",
   "id": "96f4c9a0-2842-42af-965d-eeb7cd6ba6ce",
   "metadata": {},
   "source": [
    "## 1.1. Symplectic representation"
   ]
  },
  {
   "cell_type": "markdown",
   "id": "a078c256-638f-4e2f-a3ba-41619752c88b",
   "metadata": {},
   "source": [
    "### Sp_repr class and functions"
   ]
  },
  {
   "cell_type": "code",
   "execution_count": 2,
   "id": "9643b74d-c877-4307-8c60-6517d53bda17",
   "metadata": {},
   "outputs": [],
   "source": [
    "class Sp_repr:\n",
    "    #--- 2x2 ---\n",
    "    I = sp.Identity(2)\n",
    "    O = sp.ZeroMatrix(2,2)\n",
    "    J, evJ = sp.MatrixSymbol('J',2,2), sp.Matrix([[0,1],[-1,0]])\n",
    "    #---\n",
    "    L, evL = sp.MatrixSymbol('L',2,2), sp.Matrix([[1,0],[1,1]])\n",
    "    K, evK = sp.MatrixSymbol('K',2,2), sp.Matrix([[0,-1],[0,0]])\n",
    "    #--- 4x4 ---\n",
    "    J4_bm = sp.BlockMatrix([[J, O], [O, J]])\n",
    "    J4 = J4_bm.subs([(J, evJ)]).as_explicit()\n",
    "    #---\n",
    "    CHR_2_MTX = {'a': sp.BlockMatrix([[L.inv(), O], [O, I]]),\n",
    "                 'b': sp.BlockMatrix([[L.transpose(), K], [K, L.transpose()]]),\n",
    "                 'c': sp.BlockMatrix([[I, O], [O, L.inv()]]),\n",
    "                 'd': sp.BlockMatrix([[I, O], [O, L.transpose()]]),\n",
    "                 'f': sp.BlockMatrix([[L.transpose(), O], [O,I]])}\n",
    "    #---\n",
    "    \n",
    "    def __init__(self, l:str):\n",
    "        self.loop = l\n",
    "        self.block_matrix = self.CHR_2_MTX.get(l) if l.islower() else self.CHR_2_MTX.get(l.lower()).inv()\n",
    "        self.matrix = self.block_matrix.subs([\n",
    "            (self.L, self.evL), (self.K, self.evK) #, (self.tl, self.evtl), (self.br, self.evbr)\n",
    "        ]).as_explicit()"
   ]
  },
  {
   "cell_type": "code",
   "execution_count": 3,
   "id": "9ba6b863-c8d5-48eb-8727-1a2ff412dc88",
   "metadata": {},
   "outputs": [
    {
     "data": {
      "text/plain": [
       "[True, True, True, True, True, True]"
      ]
     },
     "execution_count": 3,
     "metadata": {},
     "output_type": "execute_result"
    }
   ],
   "source": [
    "def is_Sp(M):\n",
    "    J = Sp_repr.J4\n",
    "    return M.transpose()*J*M == J\n",
    "    \n",
    "list(map(lambda l: is_Sp(Sp_repr(l).matrix), ['a','b','c','d','f', 'A'])) "
   ]
  },
  {
   "cell_type": "markdown",
   "id": "97674002-175d-4e57-bce2-da47612f4161",
   "metadata": {},
   "source": [
    "### The symplectic images of Abcd and abcD"
   ]
  },
  {
   "cell_type": "code",
   "execution_count": 4,
   "id": "6c291677-487a-4904-b792-48885a44ca3a",
   "metadata": {},
   "outputs": [
    {
     "data": {
      "text/latex": [
       "$\\displaystyle \\left( \\left[\\begin{matrix}1 & 0 & 0 & 0\\\\-1 & 1 & 0 & 0\\\\0 & 0 & 1 & 0\\\\0 & 0 & 0 & 1\\end{matrix}\\right], \\  \\left[\\begin{matrix}1 & 1 & 0 & -1\\\\0 & 1 & 0 & 0\\\\0 & -1 & 1 & 1\\\\0 & 0 & 0 & 1\\end{matrix}\\right], \\  \\left[\\begin{matrix}1 & 0 & 0 & 0\\\\0 & 1 & 0 & 0\\\\0 & 0 & 1 & 0\\\\0 & 0 & -1 & 1\\end{matrix}\\right], \\  \\left[\\begin{matrix}1 & 0 & 0 & 0\\\\0 & 1 & 0 & 0\\\\0 & 0 & 1 & 1\\\\0 & 0 & 0 & 1\\end{matrix}\\right], \\  \\left[\\begin{matrix}1 & 1 & 0 & 0\\\\0 & 1 & 0 & 0\\\\0 & 0 & 1 & 0\\\\0 & 0 & 0 & 1\\end{matrix}\\right], \\  \\left[\\begin{matrix}0 & 1 & 0 & 0\\\\-1 & 0 & 0 & 0\\\\0 & 0 & 0 & 1\\\\0 & 0 & -1 & 0\\end{matrix}\\right]\\right)$"
      ],
      "text/plain": [
       "⎛⎡1   0  0  0⎤  ⎡1  1   0  -1⎤  ⎡1  0  0   0⎤  ⎡1  0  0  0⎤  ⎡1  1  0  0⎤  ⎡0\n",
       "⎜⎢           ⎥  ⎢            ⎥  ⎢           ⎥  ⎢          ⎥  ⎢          ⎥  ⎢ \n",
       "⎜⎢-1  1  0  0⎥  ⎢0  1   0  0 ⎥  ⎢0  1  0   0⎥  ⎢0  1  0  0⎥  ⎢0  1  0  0⎥  ⎢-\n",
       "⎜⎢           ⎥, ⎢            ⎥, ⎢           ⎥, ⎢          ⎥, ⎢          ⎥, ⎢ \n",
       "⎜⎢0   0  1  0⎥  ⎢0  -1  1  1 ⎥  ⎢0  0  1   0⎥  ⎢0  0  1  1⎥  ⎢0  0  1  0⎥  ⎢0\n",
       "⎜⎢           ⎥  ⎢            ⎥  ⎢           ⎥  ⎢          ⎥  ⎢          ⎥  ⎢ \n",
       "⎝⎣0   0  0  1⎦  ⎣0  0   0  1 ⎦  ⎣0  0  -1  1⎦  ⎣0  0  0  1⎦  ⎣0  0  0  1⎦  ⎣0\n",
       "\n",
       "   1  0   0⎤⎞\n",
       "           ⎥⎟\n",
       "1  0  0   0⎥⎟\n",
       "           ⎥⎟\n",
       "   0  0   1⎥⎟\n",
       "           ⎥⎟\n",
       "   0  -1  0⎦⎠"
      ]
     },
     "execution_count": 4,
     "metadata": {},
     "output_type": "execute_result"
    }
   ],
   "source": [
    "a,b,c,d,f = tuple(map(lambda l: Sp_repr(l).matrix, ['a','b','c','d','f']))\n",
    "J4 = Sp_repr.J4\n",
    "\n",
    "a,b,c,d,f, J4 "
   ]
  },
  {
   "cell_type": "code",
   "execution_count": 5,
   "id": "40c501fe-2a41-43f8-862d-63c3b2d913ab",
   "metadata": {},
   "outputs": [
    {
     "data": {
      "text/latex": [
       "$\\displaystyle \\left( \\left[\\begin{matrix}1 & 0 & 0 & 0\\\\1 & 1 & 0 & 0\\\\0 & 0 & 1 & 0\\\\0 & 0 & 0 & 1\\end{matrix}\\right], \\  \\left[\\begin{matrix}1 & -1 & 0 & 1\\\\0 & 1 & 0 & 0\\\\0 & 1 & 1 & -1\\\\0 & 0 & 0 & 1\\end{matrix}\\right], \\  \\left[\\begin{matrix}1 & 0 & 0 & 0\\\\0 & 1 & 0 & 0\\\\0 & 0 & 1 & 0\\\\0 & 0 & 1 & 1\\end{matrix}\\right], \\  \\left[\\begin{matrix}1 & 0 & 0 & 0\\\\0 & 1 & 0 & 0\\\\0 & 0 & 1 & -1\\\\0 & 0 & 0 & 1\\end{matrix}\\right], \\  \\left[\\begin{matrix}1 & -1 & 0 & 0\\\\0 & 1 & 0 & 0\\\\0 & 0 & 1 & 0\\\\0 & 0 & 0 & 1\\end{matrix}\\right]\\right)$"
      ],
      "text/plain": [
       "⎛⎡1  0  0  0⎤  ⎡1  -1  0  1 ⎤  ⎡1  0  0  0⎤  ⎡1  0  0  0 ⎤  ⎡1  -1  0  0⎤⎞\n",
       "⎜⎢          ⎥  ⎢            ⎥  ⎢          ⎥  ⎢           ⎥  ⎢           ⎥⎟\n",
       "⎜⎢1  1  0  0⎥  ⎢0  1   0  0 ⎥  ⎢0  1  0  0⎥  ⎢0  1  0  0 ⎥  ⎢0  1   0  0⎥⎟\n",
       "⎜⎢          ⎥, ⎢            ⎥, ⎢          ⎥, ⎢           ⎥, ⎢           ⎥⎟\n",
       "⎜⎢0  0  1  0⎥  ⎢0  1   1  -1⎥  ⎢0  0  1  0⎥  ⎢0  0  1  -1⎥  ⎢0  0   1  0⎥⎟\n",
       "⎜⎢          ⎥  ⎢            ⎥  ⎢          ⎥  ⎢           ⎥  ⎢           ⎥⎟\n",
       "⎝⎣0  0  0  1⎦  ⎣0  0   0  1 ⎦  ⎣0  0  1  1⎦  ⎣0  0  0  1 ⎦  ⎣0  0   0  1⎦⎠"
      ]
     },
     "execution_count": 5,
     "metadata": {},
     "output_type": "execute_result"
    }
   ],
   "source": [
    "A, B, C, D, F = (k.inv() for k in [a,b,c,d,f])\n",
    "A,B,C,D,F"
   ]
  },
  {
   "cell_type": "code",
   "execution_count": 6,
   "id": "150bba78-67ca-4ba8-afaa-c490b2f85547",
   "metadata": {},
   "outputs": [
    {
     "data": {
      "text/latex": [
       "$\\displaystyle \\left[\\begin{matrix}1 & 1 & 1 & 0\\\\1 & 2 & 1 & 0\\\\0 & -1 & 0 & 1\\\\0 & 0 & -1 & 0\\end{matrix}\\right]$"
      ],
      "text/plain": [
       "⎡1  1   1   0⎤\n",
       "⎢            ⎥\n",
       "⎢1  2   1   0⎥\n",
       "⎢            ⎥\n",
       "⎢0  -1  0   1⎥\n",
       "⎢            ⎥\n",
       "⎣0  0   -1  0⎦"
      ]
     },
     "metadata": {},
     "output_type": "display_data"
    },
    {
     "data": {
      "text/latex": [
       "$\\displaystyle \\left[\\begin{matrix}1 & 1 & 1 & -2\\\\-1 & 0 & -1 & 2\\\\0 & -1 & 0 & 1\\\\0 & 0 & -1 & 2\\end{matrix}\\right]$"
      ],
      "text/plain": [
       "⎡1   1   1   -2⎤\n",
       "⎢              ⎥\n",
       "⎢-1  0   -1  2 ⎥\n",
       "⎢              ⎥\n",
       "⎢0   -1  0   1 ⎥\n",
       "⎢              ⎥\n",
       "⎣0   0   -1  2 ⎦"
      ]
     },
     "metadata": {},
     "output_type": "display_data"
    },
    {
     "data": {
      "text/plain": [
       "[True, True]"
      ]
     },
     "execution_count": 6,
     "metadata": {},
     "output_type": "execute_result"
    }
   ],
   "source": [
    "M1 = sp.block_collapse(A*b*c*d)\n",
    "display(M1)\n",
    "M2 = sp.block_collapse(a*b*c*D)\n",
    "display(M2)\n",
    "\n",
    "list(map(is_Sp, [M1, M2]))"
   ]
  },
  {
   "cell_type": "markdown",
   "id": "4589ee1d-b557-4bdc-b8d3-ebf90bd9ddc3",
   "metadata": {},
   "source": [
    "### The charactoristic polynomial of M1 (M2)"
   ]
  },
  {
   "cell_type": "code",
   "execution_count": 7,
   "id": "c1c0f397-7ea8-4bb5-a1a0-adc4d4a81dd3",
   "metadata": {},
   "outputs": [
    {
     "data": {
      "text/latex": [
       "$\\displaystyle \\lambda^{4} - 3 \\lambda^{3} + 3 \\lambda^{2} - 3 \\lambda + 1$"
      ],
      "text/plain": [
       " 4      3      2          \n",
       "λ  - 3⋅λ  + 3⋅λ  - 3⋅λ + 1"
      ]
     },
     "metadata": {},
     "output_type": "display_data"
    },
    {
     "name": "stdout",
     "output_type": "stream",
     "text": [
      "cp_M1 == cp_M2 ?   --> True\n"
     ]
    }
   ],
   "source": [
    "cp_M1 = M1.charpoly().as_expr().factor()\n",
    "display(cp_M1)\n",
    "\n",
    "cp_M2 = M2.charpoly().as_expr()\n",
    "print(f\"cp_M1 == cp_M2 ?   --> {cp_M1==cp_M2}\")"
   ]
  },
  {
   "cell_type": "markdown",
   "id": "e5bba8fe-37a4-47f5-9be4-ba7014256d09",
   "metadata": {},
   "source": [
    "## 1.2. Rational canonical form"
   ]
  },
  {
   "cell_type": "markdown",
   "id": "f651f69f-e501-4d3f-8e90-855dbfabe5e2",
   "metadata": {},
   "source": [
    "### The rational form of M1 and M2"
   ]
  },
  {
   "cell_type": "code",
   "execution_count": 8,
   "id": "8421e341-9349-4cfd-ad80-b176d3ca1fce",
   "metadata": {},
   "outputs": [
    {
     "data": {
      "text/latex": [
       "$\\displaystyle \\left[\\begin{matrix}0 & 0 & 0 & -1\\\\1 & 0 & 0 & 3\\\\0 & 1 & 0 & -3\\\\0 & 0 & 1 & 3\\end{matrix}\\right]$"
      ],
      "text/plain": [
       "⎡0  0  0  -1⎤\n",
       "⎢           ⎥\n",
       "⎢1  0  0  3 ⎥\n",
       "⎢           ⎥\n",
       "⎢0  1  0  -3⎥\n",
       "⎢           ⎥\n",
       "⎣0  0  1  3 ⎦"
      ]
     },
     "metadata": {},
     "output_type": "display_data"
    },
    {
     "name": "stdout",
     "output_type": "stream",
     "text": [
      "is_Sp? --> False\n"
     ]
    }
   ],
   "source": [
    "Cpn = sp.matrices.expressions.CompanionMatrix(M1.charpoly()).as_explicit()\n",
    "display(Cpn)\n",
    "print(f\"is_Sp? --> {is_Sp(Cpn)}\")"
   ]
  },
  {
   "cell_type": "code",
   "execution_count": 9,
   "id": "c36fbbb5-2e43-48c2-9207-f3cae47f4318",
   "metadata": {},
   "outputs": [],
   "source": [
    "def transition_matrix(M,v):\n",
    "    if type(v) == list:\n",
    "        v = sp.Matrix(4,1,v)\n",
    "    vecs = [(M**k)*v for k in range(5)]\n",
    "    return sp.Matrix(4,4,lambda i,j: vecs[j][i])\n",
    "def tm(M,v):\n",
    "    return transition_matrix(M,v)"
   ]
  },
  {
   "cell_type": "code",
   "execution_count": 10,
   "id": "dc9a9157-3e79-4368-8eb8-389707281095",
   "metadata": {},
   "outputs": [
    {
     "data": {
      "text/latex": [
       "$\\displaystyle \\left( \\left[ 0, \\  -8, \\  -8, \\  -10\\right], \\  \\left[\\begin{matrix}0 & -16 & -42 & -76\\\\-8 & -24 & -66 & -142\\\\-8 & -2 & 32 & 68\\\\-10 & 8 & 2 & -32\\end{matrix}\\right], \\  \\left[\\begin{matrix}0 & 0 & 0 & -1\\\\1 & 0 & 0 & 3\\\\0 & 1 & 0 & -3\\\\0 & 0 & 1 & 3\\end{matrix}\\right]\\right)$"
      ],
      "text/plain": [
       "⎛                  ⎡ 0   -16  -42  -76 ⎤  ⎡0  0  0  -1⎤⎞\n",
       "⎜                  ⎢                   ⎥  ⎢           ⎥⎟\n",
       "⎜                  ⎢-8   -24  -66  -142⎥  ⎢1  0  0  3 ⎥⎟\n",
       "⎜[0, -8, -8, -10], ⎢                   ⎥, ⎢           ⎥⎟\n",
       "⎜                  ⎢-8   -2   32    68 ⎥  ⎢0  1  0  -3⎥⎟\n",
       "⎜                  ⎢                   ⎥  ⎢           ⎥⎟\n",
       "⎝                  ⎣-10   8    2   -32 ⎦  ⎣0  0  1  3 ⎦⎠"
      ]
     },
     "execution_count": 10,
     "metadata": {},
     "output_type": "execute_result"
    }
   ],
   "source": [
    "from random import randint\n",
    "\n",
    "v = [randint(-10,10) for _ in range(4)]\n",
    "P = tm(M1, v)\n",
    "\n",
    "v, P, (P.inv())*M1*P"
   ]
  },
  {
   "cell_type": "markdown",
   "id": "74e7c2de-bc1a-45ef-9623-2a1f01e400cf",
   "metadata": {},
   "source": [
    "## 1.3. Base symplectic matrix $S_0$"
   ]
  },
  {
   "cell_type": "code",
   "execution_count": 11,
   "id": "4cc97de0-b11d-4b63-824a-1a50066ba013",
   "metadata": {},
   "outputs": [],
   "source": [
    "def conjugation_matrix(v, w):\n",
    "    P, Q = tm(M1,v), tm(M2,w)\n",
    "    return P*(Q.inv())"
   ]
  },
  {
   "cell_type": "code",
   "execution_count": 12,
   "id": "6a6b563a-ae57-497b-add9-bead03530062",
   "metadata": {},
   "outputs": [
    {
     "data": {
      "text/latex": [
       "$\\displaystyle \\left[\\begin{matrix}0 & 0 & 0 & 1\\\\-1 & 0 & -1 & 1\\\\1 & 0 & 0 & 0\\\\0 & 1 & 0 & -1\\end{matrix}\\right]$"
      ],
      "text/plain": [
       "⎡0   0  0   1 ⎤\n",
       "⎢             ⎥\n",
       "⎢-1  0  -1  1 ⎥\n",
       "⎢             ⎥\n",
       "⎢1   0  0   0 ⎥\n",
       "⎢             ⎥\n",
       "⎣0   1  0   -1⎦"
      ]
     },
     "metadata": {},
     "output_type": "display_data"
    },
    {
     "name": "stdout",
     "output_type": "stream",
     "text": [
      "(M2 == S0.inv()*M1*S0)=True, is_Sp(S0)=True\n"
     ]
    }
   ],
   "source": [
    "v0, w0 = [0,-1,1,0], [1,0,0,0]\n",
    "S0 = conjugation_matrix(v0,w0)\n",
    "display(S0)\n",
    "print(f\"{(M2 == S0.inv()*M1*S0)=}, {is_Sp(S0)=}\")"
   ]
  },
  {
   "cell_type": "code",
   "execution_count": 26,
   "id": "222812da-1c4e-479a-9324-e4e395908eea",
   "metadata": {},
   "outputs": [
    {
     "data": {
      "text/latex": [
       "$\\displaystyle \\left[\\begin{matrix}0 & 0 & 1 & -1\\\\0 & 0 & 1 & -2\\\\0 & -1 & -1 & 2\\\\1 & 1 & 0 & -1\\end{matrix}\\right]$"
      ],
      "text/plain": [
       "⎡0  0   1   -1⎤\n",
       "⎢             ⎥\n",
       "⎢0  0   1   -2⎥\n",
       "⎢             ⎥\n",
       "⎢0  -1  -1  2 ⎥\n",
       "⎢             ⎥\n",
       "⎣1  1   0   -1⎦"
      ]
     },
     "metadata": {},
     "output_type": "display_data"
    },
    {
     "name": "stdout",
     "output_type": "stream",
     "text": [
      "(M2 == S0.inv()*M1*S0)=True, is_Sp(S0)=False\n"
     ]
    }
   ],
   "source": [
    "v0, w0 = [0,0,0,1], [1,0,0,0]\n",
    "S0 = conjugation_matrix(v0,w0)\n",
    "display(S0)\n",
    "print(f\"{(M2 == S0.inv()*M1*S0)=}, {is_Sp(S0)=}\")"
   ]
  },
  {
   "cell_type": "markdown",
   "id": "3b98faba-7f18-4f02-a581-5ff17f0e8b1d",
   "metadata": {},
   "source": [
    "### Generating other symplectic matrices from the base matrix"
   ]
  },
  {
   "cell_type": "code",
   "execution_count": null,
   "id": "13e1bd48-b11e-4e43-bb76-a0f482688946",
   "metadata": {},
   "outputs": [],
   "source": [
    "display(M1*S0)\n",
    "\n",
    "v, w = [1,1,0,0], [0,1,1,1]\n",
    "S = conjugation_matrix(v,w)\n",
    "print(f\"{(S == M1*S0)=}, {(M2 == S.inv()*M1*S)=}, {is_Sp(S)=}\")"
   ]
  },
  {
   "cell_type": "code",
   "execution_count": null,
   "id": "cf9fb9c1-9086-4366-9bd7-5264985cd004",
   "metadata": {},
   "outputs": [],
   "source": [
    "v0, v = sp.Matrix(4,1,v0), sp.Matrix(4,1,v)\n",
    "Q1 = tm(M1,v)*(tm(M1,v0).inv())\n",
    "print(f\"{(Q1*v0 == v) =}\")\n",
    "\n",
    "w0, w = sp.Matrix(4,1,w0), sp.Matrix(4,1,w)\n",
    "Q2 = (S0.inv())*(M1**(-1))*Q1*S0\n",
    "print(f\"{(Q2*w0 == w) =}\")"
   ]
  },
  {
   "cell_type": "code",
   "execution_count": null,
   "id": "689a1f85-f2af-48bf-94a1-f1bdcc753eef",
   "metadata": {
    "scrolled": true
   },
   "outputs": [],
   "source": [
    "for k in range(-5,5):\n",
    "    S = conjugation_matrix((M1**k)*v0, w0)\n",
    "    display(S, S.inv())\n",
    "    print(f\"{k=}, {is_Sp(S)=}, {(M2 == (S.inv())*M1*S)=} \\n--------------\")"
   ]
  },
  {
   "cell_type": "code",
   "execution_count": null,
   "id": "4f38dfa2-d2b6-4bf8-935e-ad1f7a95c874",
   "metadata": {},
   "outputs": [],
   "source": [
    "v0, v = sp.Matrix(4,1,v0), sp.Matrix(4,1,[1, -1, 0, -1])\n",
    "CM1 = tm(M1,v)*(tm(M1,v0).inv())\n",
    "print(f\"{(CM1*v0 == v) =}\")\n",
    "\n",
    "w0, w = sp.Matrix(4,1,w0), sp.Matrix(4,1,[1, -1, 0, -1])\n",
    "\n",
    "for k in range(-20, 20):\n",
    "    CM2 = (S0.inv())*(M1**k)*CM1*S0\n",
    "    if CM2*w0 == w:\n",
    "        print(k)\n",
    "\n",
    "S = conjugation_matrix(v,w)\n",
    "display(S)\n",
    "print(f\"{is_Sp(S)=}\")"
   ]
  },
  {
   "cell_type": "markdown",
   "id": "b7a97194-b430-40da-90ac-57f3b0a1aad7",
   "metadata": {},
   "source": [
    "### Another base matrix $S_1$"
   ]
  },
  {
   "cell_type": "code",
   "execution_count": null,
   "id": "ef0e697a-c6d5-4cd0-b12e-4fb8bb731da7",
   "metadata": {},
   "outputs": [],
   "source": [
    "S1 = M1.inv()*S0 #(-1)*sp.Matrix([[0,1,0,-1],[-1,-1,0,0],[0,0,0,1],[-1,-1,-1,0]]).inv()\n",
    "display(S1)\n",
    "#print(f\"{is_Sp(S1)=}, {(M2 == (S1.inv())*M1*S1)=}\")\n",
    "#Q = S0*(S1.inv())\n",
    "#print(f\"{(Q*M1 == M1*Q)=}, {(Q == M1)=}\")"
   ]
  },
  {
   "cell_type": "code",
   "execution_count": null,
   "id": "31dc230f-f095-4b28-ab7e-ac4ac11cf2f1",
   "metadata": {
    "scrolled": true
   },
   "outputs": [],
   "source": [
    "v = (S1*(S0.inv()))*v0 #(-1)*(M1.inv())*v0\n",
    "display(v)\n",
    "\n",
    "conjugation_matrix(v, w0)"
   ]
  },
  {
   "cell_type": "markdown",
   "id": "1440f0e6-39c0-40dc-ba53-f598896eb6f5",
   "metadata": {},
   "source": [
    "# 2. Lifting $S_0$ and $S_1$ to a mapping class"
   ]
  },
  {
   "cell_type": "markdown",
   "id": "2d909612-afe1-45f8-b696-85b03bffb2c7",
   "metadata": {},
   "source": [
    "## 2.1. Generators of $Sp(4, \\mathbb{Z})$"
   ]
  },
  {
   "cell_type": "code",
   "execution_count": null,
   "id": "66c9ca54-560b-4cbf-b8c3-85e4289816f6",
   "metadata": {},
   "outputs": [],
   "source": [
    "I, O, L, K = Sp_repr.I, Sp_repr.O, Sp_repr.L, Sp_repr.K\n",
    "evL = sp.Matrix([[1,0],[1,1]])\n",
    "evK = sp.Matrix([[0,-1],[0,0]])\n",
    "#---\n",
    "tl, evtl = sp.MatrixSymbol('tl',2,2), sp.Matrix([[1,0],[0,0]])\n",
    "br, evbr = sp.MatrixSymbol('br',2,2), sp.Matrix([[0,0],[0,1]])\n",
    "\n",
    "def ev(M):\n",
    "    return M.subs([(L, evL), (K, evK), (tl, evtl), (br, evbr)]).as_explicit()\n",
    "    \n",
    "I4 = ev(sp.BlockMatrix([[I, O], [O, I]]))\n",
    "#---\n",
    "GA1 = ev(sp.BlockMatrix([[L.transpose(), O], [O, I]]))\n",
    "GA2 = ev(sp.BlockMatrix([[I, O], [O, L.transpose()]]))\n",
    "\n",
    "GB1 = ev(sp.BlockMatrix([[L, O], [O, I]]))\n",
    "GB2 = ev(sp.BlockMatrix([[I, O], [O, L]]))\n",
    "\n",
    "GC = ev(sp.BlockMatrix([[I, -K], [-K, I]]))\n",
    "GD = ev(sp.BlockMatrix([[I, -K.transpose()], [-K.transpose(), I]]))\n",
    "\n",
    "GE12 = ev(sp.BlockMatrix([[I, -br], [tl, I]]))\n",
    "GE21 = ev(sp.BlockMatrix([[I, tl], [-br, I]]))\n",
    "\n",
    "basis_of_sp4Z = [GA1, GA2, GB1, GB2, GC, GD, GE12, GE21]\n",
    "basis_of_sp4Z"
   ]
  },
  {
   "cell_type": "markdown",
   "id": "a3be805f-991c-4eca-806c-193a82896ef0",
   "metadata": {},
   "source": [
    "## 2.2. Convert basic matrices into products of $\\{a, b, c, d, f\\}$"
   ]
  },
  {
   "cell_type": "markdown",
   "id": "864e6efe-382f-4745-8af5-c72eb86dc08e",
   "metadata": {},
   "source": [
    "### GA, GB, and GC"
   ]
  },
  {
   "cell_type": "code",
   "execution_count": null,
   "id": "566190d0-bd66-4fbc-8763-fa719e3f328b",
   "metadata": {},
   "outputs": [],
   "source": [
    "[GA1 == f, \\\n",
    " GA2 == d, \\\n",
    " #-----\n",
    " GB1 == A, \\\n",
    " GB2 == C, \\\n",
    " #-----\n",
    " GC == f*B*d]"
   ]
  },
  {
   "cell_type": "markdown",
   "id": "6eea84fa-674d-4493-a7d0-fd13fdea7ab4",
   "metadata": {},
   "source": [
    "### GD"
   ]
  },
  {
   "cell_type": "code",
   "execution_count": null,
   "id": "4c835fa4-f315-4ca0-8fb5-8b1c376a6b5e",
   "metadata": {},
   "outputs": [],
   "source": [
    "GD == GC.transpose()"
   ]
  },
  {
   "cell_type": "code",
   "execution_count": null,
   "id": "9ca4124b-98ca-4b63-8983-4e7cb5461039",
   "metadata": {},
   "outputs": [],
   "source": [
    "GD == (a*(b.transpose())*c).inv()\n",
    "\n",
    "# Need to convert b.transpose() into a product in {a,b,c,d,f}"
   ]
  },
  {
   "cell_type": "markdown",
   "id": "0a3d810d-276b-4cfd-a458-b8d48d050b63",
   "metadata": {},
   "source": [
    "### GE"
   ]
  },
  {
   "cell_type": "code",
   "execution_count": null,
   "id": "ee63afa8-4c75-4224-93d6-70d39ed32418",
   "metadata": {},
   "outputs": [],
   "source": [
    "H = (F*b)*a*((F*b).inv())\n",
    "        \n",
    "GE12, A*D*H"
   ]
  },
  {
   "cell_type": "markdown",
   "id": "e1402760-9e3f-4f76-b462-ad6a2e2e3839",
   "metadata": {
    "jp-MarkdownHeadingCollapsed": true
   },
   "source": [
    "#### Trial 01"
   ]
  },
  {
   "cell_type": "raw",
   "id": "68e8998f-e08b-4c4e-a98d-dcc5eb30b3af",
   "metadata": {},
   "source": [
    "bta = ev((b.transpose())*a)\n",
    "N = (bta.inv())*ev(F)*bta\n",
    "        \n",
    "ev(GE21), ev(N*c*f)"
   ]
  },
  {
   "cell_type": "raw",
   "id": "55490672-dd02-4805-b1d4-4fa9d0cd250a",
   "metadata": {},
   "source": [
    "##### Mb.transpose()"
   ]
  },
  {
   "cell_type": "raw",
   "id": "6f938e4a-0714-420d-b4cb-f75c4fe41ad6",
   "metadata": {},
   "source": [
    "ev(b.transpose()), ev(GE12*GB2*(GE12.inv()))  #, ev((MJ.inv())*(Mb.inv())*(MJ))"
   ]
  },
  {
   "cell_type": "raw",
   "id": "32192e90-98ec-4185-a4ea-923273b0c600",
   "metadata": {},
   "source": [
    "ev(A*D*H) * ev(C) * (H.inv())*ev(d*a)"
   ]
  },
  {
   "cell_type": "raw",
   "id": "97abdf7a-6c9d-4d99-933d-668b3ed798dc",
   "metadata": {},
   "source": [
    "#(ev(Ma.inv())*ev(G)*ev(Ma)*ev(G.inv()))*ev(Md.inv())*ev(Mc.inv())*ev(Md)*(H.inv())*ev(Ma)\n",
    "#(ev(Ma.inv())*ev(G)*ev(Ma)*ev(G.inv()))*ev(Md.inv())*ev(Mc.inv())*ev(Md)*(H.inv())*ev(Ma)\n",
    "ev(A*H)*ev(D*C*d)*ev(H.inv()*a)"
   ]
  },
  {
   "cell_type": "raw",
   "id": "b6cd7e7a-3d38-4d68-9e9b-d8f3c581b6bb",
   "metadata": {},
   "source": [
    "def cm(X,Y):\n",
    "    return X*Y*(X.inv())*(Y.inv())"
   ]
  },
  {
   "cell_type": "raw",
   "id": "54f80c7b-e595-4497-8a02-d9ff74e53aa7",
   "metadata": {},
   "source": [
    "CC = ev(cm(F*b, A))\n",
    "ev((CC*d).inv()) * ev(C*CC*d)"
   ]
  },
  {
   "cell_type": "raw",
   "id": "394320b2-d0f7-4240-9d46-a6d4ef16426e",
   "metadata": {},
   "source": [
    "bT = D[Fb,A]^(-1)*C*[Fb,A]d\n",
    "   = (DAFbaBf)C(FbABfad)"
   ]
  },
  {
   "cell_type": "raw",
   "id": "8521b1b9-e6c9-47fc-b4bb-bd20c21269d6",
   "metadata": {},
   "source": [
    "CC = ev(cm(D*b, C))\n",
    "#F = ev(cm((CC*Mf).inv(), Ma.inv()))  #( = ev(Mb.transpose())*ev(Ma))\n",
    "#N = (F.inv())*ev(Mf.inv())*F\n",
    "        \n",
    "ev(GE21), ev(c)*ev(cm(cm(A, (CC*f).inv()), F))"
   ]
  },
  {
   "cell_type": "markdown",
   "id": "2d0945d1-bb56-4e98-b053-b2ce98981e88",
   "metadata": {},
   "source": [
    "#### Trial 02"
   ]
  },
  {
   "cell_type": "code",
   "execution_count": null,
   "id": "edea2570-4c47-4f44-b94c-b8596120805f",
   "metadata": {},
   "outputs": [],
   "source": [
    "prd = {'left': [D, C, B, d, c], 'right': [f,b]}\n",
    "\n",
    "Z = GE21\n",
    "for m in reversed(prd['left']):\n",
    "    Z = m*Z\n",
    "for m in prd['right']: \n",
    "    Z *= m\n",
    "    \n",
    "display(Z)"
   ]
  },
  {
   "cell_type": "code",
   "execution_count": null,
   "id": "f2276788-1f23-4ac2-acfa-9ef4890b300c",
   "metadata": {},
   "outputs": [],
   "source": [
    "GE21, C*D*b*c*d*B*F"
   ]
  },
  {
   "cell_type": "markdown",
   "id": "98c8e72a-909b-4a63-8b6f-c07e2cc64dd4",
   "metadata": {},
   "source": [
    "## 2.3. Decomposion of $S_0$ and of $S_1$"
   ]
  },
  {
   "cell_type": "markdown",
   "id": "93658729-9faf-455b-9984-69c4f6137e56",
   "metadata": {},
   "source": [
    "### $S_0$"
   ]
  },
  {
   "cell_type": "code",
   "execution_count": null,
   "id": "91186b88-f6fd-4b24-9dd3-197920de56ac",
   "metadata": {},
   "outputs": [],
   "source": [
    "display(S0)"
   ]
  },
  {
   "cell_type": "code",
   "execution_count": null,
   "id": "04168dce-1dc4-4c35-a48c-fe966b1d8974",
   "metadata": {},
   "outputs": [],
   "source": [
    "Z = (-1)*GB1*(GC.inv())*(GA1.inv())*GB1*(GA1.inv())*GE21\n",
    "S0, Z"
   ]
  },
  {
   "cell_type": "markdown",
   "id": "a6b200cf-91a3-4ac2-8c88-3ddd5be96d8c",
   "metadata": {
    "jp-MarkdownHeadingCollapsed": true
   },
   "source": [
    "#### Trial 01"
   ]
  },
  {
   "cell_type": "raw",
   "id": "1af5ecbf-408b-4cb6-bc48-1065ef0de582",
   "metadata": {},
   "source": [
    "Z = (-1)*ev(D)*ev(A)*ev(b)*ev(F**2)*ev(A)*ev(F)*ev(GE21)\n",
    "S0, Z"
   ]
  },
  {
   "cell_type": "raw",
   "id": "8a71f97b-818a-4e0e-9689-2dd52d6bd818",
   "metadata": {},
   "source": [
    "Z = D*A*b*(F**2)*A*F*N*f*c\n",
    "S0, ev((-1)*Z)"
   ]
  },
  {
   "cell_type": "raw",
   "id": "26d7cf24-0cd7-4f02-8d55-6883c39c29b8",
   "metadata": {},
   "source": [
    "#marr = [D, A, b, F**2, A, F, \\\n",
    "#        c, cm(cm(A, (CC*f).inv()), F)]\n",
    "marr = [D, A, b*c, F, A, F, A, cm(cm(A, F*cm(C, D*b)), F)]\n",
    "\n",
    "Z = ev(I4)\n",
    "for m in marr:\n",
    "    Z *= ev(m)\n",
    "\n",
    "S0, ev((-1)*Z)"
   ]
  },
  {
   "cell_type": "raw",
   "id": "fe531271-4c08-4c60-9021-5432aabced58",
   "metadata": {},
   "source": [
    "DAbcFAFA[[A,F[C,Db]],F] = D(M1)DFAFA[[A,F[C,Db]],F]\n",
    "\n",
    "[[A,F[C,Db]],F] = [A,F[C,Db]]F[F[C,Db],A]f\n",
    "                = AF[C,Db]a[Db,C]fFF[C,Db]Af[Db,C]ff\n",
    "                = AF[C,Db]a[Db,C]F[C,Db]Af[Db,C]ff\n",
    "                = AFCDbcBdaDbCBdcFCDbcBdAfDbCBdcff\n",
    "                = CDAbcBFaFAbCBdcfff"
   ]
  },
  {
   "cell_type": "markdown",
   "id": "648c7afe-0a04-4c54-b271-178e6df7ea05",
   "metadata": {},
   "source": [
    "#### Trial 02"
   ]
  },
  {
   "cell_type": "code",
   "execution_count": null,
   "id": "a101a214-3896-4962-a0f4-8aacab36244e",
   "metadata": {},
   "outputs": [],
   "source": [
    "#prd = [GB1, GC.inv()]+[GA1.inv(), GB1, GA1.inv()]+[GE21]\n",
    "#prd = [A, D, b, F] + [F, A, F] + [C, D, b, c, d, B, F]\n",
    "#---\n",
    "prd = [A, b, F] + [F, A, F, F] + [D, C, D, b, c, d, B]\n",
    "\n",
    "Z = (-1)*S0.inv()\n",
    "for m in prd[::-1]:\n",
    "    Z = m*Z\n",
    "    \n",
    "display(Z)"
   ]
  },
  {
   "cell_type": "markdown",
   "id": "c4ee19bc-da7f-4ea3-928c-69bcd4db2adf",
   "metadata": {},
   "source": [
    "#### Trial 03"
   ]
  },
  {
   "cell_type": "code",
   "execution_count": null,
   "id": "9b8a5113-d8dc-4aa9-b771-bbde9106ed34",
   "metadata": {},
   "outputs": [],
   "source": [
    "prd = {\n",
    "    'left':  [GB1, GA1.inv(), GB1] + [GB1.inv()],\n",
    "    'right': [GE21.inv(), GE12] + [GB2, GA2.inv(), GB2]*2\n",
    "}\n",
    "\n",
    "Z = S0\n",
    "for m in prd['left'][::-1]: Z = m*Z\n",
    "for m in prd['right']: Z = Z*m\n",
    "    \n",
    "display(Z)"
   ]
  },
  {
   "cell_type": "code",
   "execution_count": null,
   "id": "0ac96769-91d2-4e7d-8823-3e5a086ac728",
   "metadata": {},
   "outputs": [],
   "source": [
    "#prd = [GB1]+[GB1.inv(), GA1, GB1.inv()] + [GB2.inv(), GA2, GB2.inv()]*2 + [GE12.inv()] + [GE21] \n",
    "#---\n",
    "#prd = [A]+[a,f,a]+[c,d,c]*2+[F,b,A,B,f,a,d]+[C,D,b,c,d,B,F]\n",
    "#---\n",
    "prd = [c,d,c,c,d,c]+[f,a,b,F,A,B]+[f,a,F]+[d,C,D,b,c,d,B]\n",
    "\n",
    "Z = I4\n",
    "for m in prd[::-1]: Z = m*Z\n",
    "    \n",
    "S0 == Z"
   ]
  },
  {
   "cell_type": "markdown",
   "id": "d279247a-7cef-4752-8f87-b4ad4d72f373",
   "metadata": {
    "jp-MarkdownHeadingCollapsed": true
   },
   "source": [
    "### Trial 04"
   ]
  },
  {
   "cell_type": "code",
   "execution_count": null,
   "id": "8e1414d5-9337-4f66-b7b8-d6287a58dbe1",
   "metadata": {},
   "outputs": [],
   "source": [
    "#prd = [M1.inv(), (a*b*c*d).inv()]\n",
    "prd = [(A*b*c*d).inv(), (a*b*c*d).inv()]\n",
    "Z = S0\n",
    "for m in prd:\n",
    "    Z = m*Z\n",
    "\n",
    "Z"
   ]
  },
  {
   "cell_type": "code",
   "execution_count": null,
   "id": "f6259bd1-d9d8-49dd-bda4-d6a558477b15",
   "metadata": {},
   "outputs": [],
   "source": [
    "S0, ev(A*b*c*d)*ev(a*b*c*d)"
   ]
  },
  {
   "cell_type": "markdown",
   "id": "14abc802-4db5-4b0c-a226-f80d0910aeb0",
   "metadata": {},
   "source": [
    "### $S_1$"
   ]
  },
  {
   "cell_type": "code",
   "execution_count": null,
   "id": "f680bfe1-4208-4737-bf39-ef8ad1f0876e",
   "metadata": {},
   "outputs": [],
   "source": [
    "#prd = {'left': [GE21], 'right': [GA1.inv()]}\n",
    "prd = {'left': [GA1], 'right': [GE21.inv()]}\n",
    "\n",
    "Z = S1\n",
    "for m in prd['left']: Z = m*Z\n",
    "for m in prd['right']: Z *= m\n",
    "    \n",
    "display(Z)"
   ]
  },
  {
   "cell_type": "code",
   "execution_count": null,
   "id": "ee68650d-f88e-4e94-abe5-a6d2004aaf53",
   "metadata": {},
   "outputs": [],
   "source": [
    "prd = {\n",
    "    'left':  [GB2, GA2.inv(), GB2] + [GB1, GA1.inv(), GB1] + [GA1], \n",
    "    'right': [GE21.inv()]\n",
    "}\n",
    "\n",
    "Z = S1\n",
    "for m in prd['left'][::-1]: Z = m*Z\n",
    "for m in prd['right']: Z *= m\n",
    "    \n",
    "display(Z)"
   ]
  },
  {
   "cell_type": "code",
   "execution_count": null,
   "id": "c837ca87-ba30-43c8-8004-2a7121b05ccb",
   "metadata": {},
   "outputs": [],
   "source": [
    "#F*(c*d*c)*(a*f*a)*(GE21) == S1\n",
    "F*(c*d*c)*(a*f*a)*(C*D*b*c*d*B*F) == S1"
   ]
  },
  {
   "cell_type": "code",
   "execution_count": null,
   "id": "a1de65d8-ecde-4b92-9974-7a8c7ec4bcc6",
   "metadata": {},
   "outputs": [],
   "source": [
    "#prd = [F, c, d, c, a, f, a, C, D, b, c, d, B, F]\n",
    "#prd = [c, d, c] + [F] + [f, a, f] + [F] + [C, D, b, c, d, B]\n",
    "#prd = [c, d, c] + [a] + [C, D, b, c, d, B]\n",
    "#prd = [c, d] + [a] + [c] + [C, D, b, c, d, B]\n",
    "#prd = [c, d, a, D, b, c, d, B]\n",
    "#prd = [c, a, b, c, d, B]\n",
    "#prd = [a, c, b, c, d, B]\n",
    "#prd = [a, b, c, b, d, B]\n",
    "prd = [a, b, c, d]\n",
    "\n",
    "Z = S1.inv()\n",
    "for m in prd:\n",
    "    Z *= m\n",
    "\n",
    "display(Z)"
   ]
  },
  {
   "cell_type": "code",
   "execution_count": null,
   "id": "06a21a26-91fe-4a66-9d6c-68f1b14b3578",
   "metadata": {},
   "outputs": [],
   "source": [
    "S1 == a*b*c*d, M2 == ((a*b*c*d).inv()) * M1 * (a*b*c*d)"
   ]
  },
  {
   "cell_type": "code",
   "execution_count": null,
   "id": "0bb76597-99a3-4c3a-8bcd-59f627317980",
   "metadata": {},
   "outputs": [],
   "source": [
    "prd = ([D, C, B, A] + [A, b, c, d] + [a, b, c, d]) + [d, C, B, A]\n",
    "     #   S1.inv()          M1             S1           M2.inv()\n",
    "\n",
    "Z = I4\n",
    "for m in prd:\n",
    "    Z *= m\n",
    "\n",
    "Z"
   ]
  },
  {
   "cell_type": "markdown",
   "id": "c33320ef-069c-460a-8da3-8f824421759a",
   "metadata": {},
   "source": [
    "# 3. Finding the appropriate lift of $S_1$"
   ]
  },
  {
   "cell_type": "markdown",
   "id": "3bd601fb-d8b2-44ee-84e2-7bdbd1e89fdd",
   "metadata": {},
   "source": [
    "## 3.1. Word class, DehnTwist class and MappingClass class"
   ]
  },
  {
   "cell_type": "markdown",
   "id": "30943218-27a1-440d-9a39-15dfff4da0c3",
   "metadata": {
    "jp-MarkdownHeadingCollapsed": true
   },
   "source": [
    "### Word class"
   ]
  },
  {
   "cell_type": "code",
   "execution_count": null,
   "id": "656b8d6f-3d07-4db7-888d-72e96a6db474",
   "metadata": {},
   "outputs": [],
   "source": [
    "import copy\n",
    "\n",
    "class Word(list):\n",
    "    def __init__(self, string):\n",
    "        list.__init__(self, list(string))\n",
    "        self.str = string\n",
    "#-----  \n",
    "    def __eq__(self, aWord):\n",
    "        return self.str == aWord.str\n",
    "#-----        \n",
    "    def show(self):\n",
    "        return self.str\n",
    "    def __str__(self):\n",
    "        return self.show()\n",
    "    def __repr__(self):\n",
    "        return self.show()\n",
    "#-----\n",
    "    def __mul__(self, aWord):\n",
    "        if not isinstance(aWord, type(self)): raise(TypeError)\n",
    "        return type(self)(self.str+aWord.str)\n",
    "    def inv(self):\n",
    "        return type(self)(self.str[::-1].swapcase())\n",
    "#-----        \n",
    "    def contract_once(self):\n",
    "        myword = copy.copy(self)\n",
    "        new = []\n",
    "        while len(myword) > 1:\n",
    "            last = myword.pop()\n",
    "#             print [myword, last, new]\n",
    "            if (last.upper() == myword[-1].upper() \n",
    "                and last != myword[-1]):\n",
    "                last = '1'\n",
    "                myword.pop()\n",
    "            new.insert(0,last)\n",
    "#             print [myword, new]\n",
    "        mystr = ''.join([x for x in myword + new if x != '1'])\n",
    "        result = type(self)(mystr) if mystr != '' else Word('1')\n",
    "        return result\n",
    "    \n",
    "    def contract(self):\n",
    "        myword = copy.copy(self)\n",
    "        length_diff = 1\n",
    "        while length_diff > 0 and len(myword) > 1:\n",
    "            pre_length = len(myword)\n",
    "            myword = myword.contract_once()\n",
    "            length_diff = pre_length - len(myword)\n",
    "        return myword"
   ]
  },
  {
   "cell_type": "markdown",
   "id": "c10b9c16-bca6-4be9-9c0c-999c754b38db",
   "metadata": {
    "jp-MarkdownHeadingCollapsed": true
   },
   "source": [
    "#### scratch"
   ]
  },
  {
   "cell_type": "code",
   "execution_count": null,
   "id": "ee26fd02-fb4e-402a-a625-c73c37eca1cd",
   "metadata": {},
   "outputs": [],
   "source": [
    "mw = Word('abc')\n",
    "print(mw, mw.inv())\n",
    "\n",
    "ew = mw*(mw.inv())\n",
    "\n",
    "print(ew, ew.contract())"
   ]
  },
  {
   "cell_type": "code",
   "execution_count": null,
   "id": "09bb3cd1-1b21-495e-85d6-75591fd9144a",
   "metadata": {},
   "outputs": [],
   "source": [
    "from functools import reduce\n",
    "\n",
    "marr = ['ab', 'c', 'D']\n",
    "mwarr = list(map(lambda s: Word(s), marr))\n",
    "reduce(lambda x,y: x*y, mwarr)"
   ]
  },
  {
   "cell_type": "markdown",
   "id": "8bf49b2d-4b49-4646-a205-c4fc5b2cf358",
   "metadata": {
    "jp-MarkdownHeadingCollapsed": true
   },
   "source": [
    "### DehnTwist and MappingClass classes"
   ]
  },
  {
   "cell_type": "code",
   "execution_count": null,
   "id": "8c030a43-7eea-4b21-be54-7d555ae98ef6",
   "metadata": {},
   "outputs": [],
   "source": [
    "from functools import reduce\n",
    "\n",
    "class fundamentalGroup:\n",
    "    (x,y,z,w) = tuple(map(lambda c: Word(c), list('xyzw')))\n",
    "    (X,Y,Z,W) = tuple(map(lambda gw: gw.inv(), (x,y,z,w)))\n",
    "    bnd = z*(x*Y*X*y)*(z.inv())*(z*W*Z*w)\n",
    "#    def __init__(self):\n",
    "#        self.gen = (x,y,z,w)\n",
    "fg = fundamentalGroup\n",
    "\n",
    "class DehnTwist(fg):\n",
    "    x,y,z,w,X,Y,Z,W,bnd = (fg.x, fg.y, fg.z, fg.w, fg.X, fg.Y, fg.Z, fg.W, fg.bnd)\n",
    "    ACTION = {'a': {'y': X*y},\\\n",
    "              'A': {'y': x*y},\\\n",
    "              'b': {'x': y*W*x, 'z': z*w*Y},\\\n",
    "              'B': {'x': w*Y*x, 'z': z*y*W},\\\n",
    "              'c': {'w': Z*w},\\\n",
    "              'C': {'w': z*w},\\\n",
    "              'd': {'z': w*(bnd.inv())*z},\\\n",
    "              'D': {'z': bnd*W*z},\\\n",
    "              'f': {'x': x*y},\\\n",
    "              'F': {'x': x*Y}}\n",
    "    \n",
    "    def __init__(self, twisting_loop:str):\n",
    "        self.loop = twisting_loop\n",
    "        self.act = self.ACTION[twisting_loop]\n",
    "        self.sp_repr = Sp_repr(self.loop).matrix\n",
    "        \n",
    "    def twist(self, w:Word):\n",
    "        if len(w) == 1:\n",
    "            c = w.str\n",
    "            is_not_inv = c.islower()\n",
    "            rtn = self.act.get(c.lower())\n",
    "            if rtn is None:\n",
    "                return w\n",
    "            else:\n",
    "                return rtn if is_not_inv else rtn.inv()\n",
    "        else:\n",
    "            return reduce(lambda x,y: x*y, [self.twist(Word(c)) for c in w])\n",
    "DT = DehnTwist\n",
    "\n",
    "class MappingClass:\n",
    "    def __init__(self,loops:str):\n",
    "        self.loops = loops\n",
    "        self.sp_repr = reduce(lambda x,y: x*y, [DehnTwist(l).sp_repr for l in self.loops])\n",
    "#-----\n",
    "    def __mul__(self, aMC):\n",
    "        return type(self)(self.loops + aMC.loops)\n",
    "    def inv(self):\n",
    "        return type(self)(self.loops[::-1].swapcase())\n",
    "    def conj(self, aMC):\n",
    "        return aMC.inv()*self*aMC\n",
    "        \n",
    "    def act_on_basis(self):\n",
    "        basis_of_pi = [DehnTwist.x, DehnTwist.y, DehnTwist.z, DehnTwist.w]\n",
    "        result = []\n",
    "        for g in basis_of_pi:\n",
    "            myw = g\n",
    "            for l in self.loops[::-1]:\n",
    "                myw = DehnTwist(l).twist(myw).contract()\n",
    "            result.append(myw)\n",
    "        return result\n",
    "MC = MappingClass"
   ]
  },
  {
   "cell_type": "code",
   "execution_count": null,
   "id": "b9908650-fd03-4ed8-b9bf-584151bf0dec",
   "metadata": {},
   "outputs": [],
   "source": [
    "a*b, DT('a').sp_repr*DT('b').sp_repr, MC('ab').sp_repr"
   ]
  },
  {
   "cell_type": "code",
   "execution_count": null,
   "id": "4eac1000-e065-4fc5-abe4-8b063ef3d8b4",
   "metadata": {},
   "outputs": [],
   "source": [
    "a*B, DT('a').sp_repr*DT('B').sp_repr, MC('aB').sp_repr"
   ]
  },
  {
   "cell_type": "markdown",
   "id": "a6aa7d0e-8b6e-4cef-a35c-b15dc3806e0a",
   "metadata": {},
   "source": [
    "#### scratch"
   ]
  },
  {
   "cell_type": "code",
   "execution_count": null,
   "id": "643ebdea-d920-41c0-bc00-0c9275ca6fa2",
   "metadata": {},
   "outputs": [],
   "source": [
    "bnd = DT.bnd\n",
    "print(bnd, bnd.inv())"
   ]
  },
  {
   "cell_type": "code",
   "execution_count": null,
   "id": "4bb2ae1d-1f2a-4644-bd4a-2cebbe3d9031",
   "metadata": {},
   "outputs": [],
   "source": [
    "basis_plus_bnd = [DT.x, DT.y, DT.z, DT.w] + [DT.bnd]\n",
    "print(basis_plus_bnd, \"\\n\")\n",
    "\n",
    "for loop in ['a','b','c','d']:\n",
    "    twisted = list(map(lambda g: DT(loop).twist(g).contract(), basis_plus_bnd))\n",
    "    print(f\"--{loop}-> {twisted}\")"
   ]
  },
  {
   "cell_type": "code",
   "execution_count": null,
   "id": "5245b845-16ca-424d-8cee-263ff3e90270",
   "metadata": {},
   "outputs": [],
   "source": [
    "print(MC('aB').act_on_basis())"
   ]
  },
  {
   "cell_type": "code",
   "execution_count": null,
   "id": "50073066-6a0a-40fa-b579-d6d14c9d720a",
   "metadata": {},
   "outputs": [],
   "source": [
    "print(MC('Dd').act_on_basis())"
   ]
  },
  {
   "cell_type": "code",
   "execution_count": null,
   "id": "9c238d38-aa86-47f7-b73a-990429685587",
   "metadata": {},
   "outputs": [],
   "source": [
    "list(map(lambda mc: mc.act_on_basis(), [MC('dA').inv(), MC('aD'), MC('a')*MC('D')]))"
   ]
  },
  {
   "cell_type": "markdown",
   "id": "d71911d3-9b0e-4fdf-b857-d095e719b351",
   "metadata": {},
   "source": [
    "## 3.2. Abcd is conjugate with abcD by abcd"
   ]
  },
  {
   "cell_type": "code",
   "execution_count": null,
   "id": "366c0c82-48c1-4096-96ed-fa29993b2f39",
   "metadata": {},
   "outputs": [],
   "source": [
    "m1, m2 = MC('Abcd'), MC('abcD')\n",
    "u = MC('abcd')\n",
    "\n",
    "( (u.inv()*m1*u) * (m2.inv()) ).act_on_basis()"
   ]
  },
  {
   "cell_type": "code",
   "execution_count": null,
   "id": "8197c9c4-b1e0-468f-807a-9f8be6b34046",
   "metadata": {},
   "outputs": [],
   "source": [
    "( u.inv()*m1*u ).act_on_basis() , m2.act_on_basis()"
   ]
  },
  {
   "cell_type": "code",
   "execution_count": null,
   "id": "ca24a47d-cfa2-4981-9cfc-2d5bca01d350",
   "metadata": {},
   "outputs": [],
   "source": [
    "m2_action = MC('abcD').act_on_basis()\n",
    "\n",
    "#word = 'DCBA'+'Abcd'+'abcd'\n",
    "#word = 'DCaBAB'+'Abcd'+'abcd'\n",
    "#word = 'DCaB'+'ABAbcd'+'abcd'\n",
    "#word = 'DCaB'+'BABbcd'+'abcd'\n",
    "#word = 'DCaB'+'BAcd'+'abcd'\n",
    "#word = 'DCaB'+'Bcd'+'bcd'\n",
    "#word = 'aDCB'+'Bcd'+'bcd'\n",
    "#word = 'aDCB'+'Bcb'+'cdc'\n",
    "#word = 'aDCB'+'Bcbc'+'dc'\n",
    "#word = 'aDCB'+'Bbcb'+'dc'\n",
    "#word = 'aDCB'+'cbdc'\n",
    "#word = 'aDbBCB'+'cbdc'\n",
    "#word = 'aDbCBC'+'cbdc'\n",
    "#word = 'abDC'+'dc'\n",
    "#word = 'ab'+'DCdc'\n",
    "#word = 'ab'+'cCDCdc'\n",
    "#word = 'ab'+'cDCDdc'\n",
    "word = 'abcD'\n",
    "\n",
    "print(MC(word).act_on_basis() == m2_action)"
   ]
  },
  {
   "cell_type": "markdown",
   "id": "d9b35449-740b-47b8-a495-b24bc3ffeb80",
   "metadata": {},
   "source": [
    "## 3.3. Experiments"
   ]
  },
  {
   "cell_type": "code",
   "execution_count": null,
   "id": "2a171815-d5ed-4f75-b45e-07a3dfd3041b",
   "metadata": {},
   "outputs": [],
   "source": [
    "u = MC('acbcdB')  # = 'abcd'\n",
    "\n",
    "( u.inv()*m1*u ).act_on_basis() , m2.act_on_basis()"
   ]
  },
  {
   "cell_type": "code",
   "execution_count": null,
   "id": "333bad4a-715b-41c9-b38b-f3e14cf3c518",
   "metadata": {},
   "outputs": [],
   "source": [
    "#prd = [A, b, F, F, A, F, F] + [D, C, D, b, c, d, B]\n",
    "u = MC('AbFFAFF'+'DCDbcdB')  # a lift of (-1)*S0\n",
    "print((-1)*S0 == u.sp_repr)\n",
    "\n",
    "( u.inv()*m1*u ).act_on_basis() , m2.act_on_basis()"
   ]
  },
  {
   "cell_type": "code",
   "execution_count": null,
   "id": "b598e8ac-6380-4fd8-a40e-9c4ab609cdba",
   "metadata": {},
   "outputs": [],
   "source": [
    "u.act_on_basis(), MC('abcd').act_on_basis()"
   ]
  }
 ],
 "metadata": {
  "colab": {
   "collapsed_sections": [
    "PGII4NrboFOE"
   ],
   "provenance": []
  },
  "kernelspec": {
   "display_name": "Python 3 (ipykernel)",
   "language": "python",
   "name": "python3"
  },
  "language_info": {
   "codemirror_mode": {
    "name": "ipython",
    "version": 3
   },
   "file_extension": ".py",
   "mimetype": "text/x-python",
   "name": "python",
   "nbconvert_exporter": "python",
   "pygments_lexer": "ipython3",
   "version": "3.12.3"
  }
 },
 "nbformat": 4,
 "nbformat_minor": 5
}
