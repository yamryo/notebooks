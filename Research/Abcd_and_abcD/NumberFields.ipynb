{
 "cells": [
  {
   "cell_type": "code",
   "execution_count": 11,
   "id": "885ae455-99f2-4d19-a873-99af31adb312",
   "metadata": {},
   "outputs": [
    {
     "name": "stdout",
     "output_type": "stream",
     "text": [
      "整数基: [1, a, a^2, a^3]\n",
      "類数: 1\n",
      "[-1, a - 1, -a^3 + 3*a^2 - 3*a + 2]\n",
      "Galois group 4T3 (D(4)) with order 8 of x^4 - 3*x^3 + 3*x^2 - 3*x + 1\n"
     ]
    }
   ],
   "source": [
    "f(x) = x^4-3*x^3+3*x^2-3*x+1\n",
    "\n",
    "K.<a> = NumberField(f)\n",
    "OK = K.ring_of_integers()\n",
    "print(\"整数基:\", OK.basis())\n",
    "print(\"類数:\", OK.class_number())\n",
    "\n",
    "U = UnitGroup(K)\n",
    "print(U.gens_values())\n",
    "\n",
    "G = K.galois_group()\n",
    "print(G)"
   ]
  },
  {
   "cell_type": "code",
   "execution_count": 10,
   "id": "0e3bba6a-e07f-4a76-8b6b-80e60609965f",
   "metadata": {},
   "outputs": [
    {
     "name": "stdout",
     "output_type": "stream",
     "text": [
      "整数基: [1, a, a^2, a^3]\n",
      "類数: 1\n",
      "[a, -a + 1]\n",
      "Galois group 4T1 (4) with order 4 of x^4 - x^3 + x^2 - x + 1\n"
     ]
    }
   ],
   "source": [
    "f(x) = x^4-x^3+x^2-x+1\n",
    "\n",
    "K.<a> = NumberField(f)\n",
    "OK = K.ring_of_integers()\n",
    "print(\"整数基:\", OK.basis())\n",
    "print(\"類数:\", OK.class_number())\n",
    "\n",
    "U = UnitGroup(K)\n",
    "print(U.gens_values())\n",
    "\n",
    "G = K.galois_group()\n",
    "print(G)"
   ]
  },
  {
   "cell_type": "code",
   "execution_count": 14,
   "id": "a64024ca-c35a-4496-8faa-486aef6213a1",
   "metadata": {},
   "outputs": [
    {
     "name": "stdout",
     "output_type": "stream",
     "text": [
      "整数基: [1, a]\n",
      "類数: 2\n",
      "[-1]\n",
      "Galois group 2T1 (S2) with order 2 of x^2 + 5\n"
     ]
    }
   ],
   "source": [
    "f(x) = x^2+5 #x^2-2\n",
    "\n",
    "K.<a> = NumberField(f)\n",
    "OK = K.ring_of_integers()\n",
    "print(\"整数基:\", OK.basis())\n",
    "print(\"類数:\", OK.class_number())\n",
    "\n",
    "U = UnitGroup(K)\n",
    "print(U.gens_values())\n",
    "\n",
    "G = K.galois_group()\n",
    "print(G)"
   ]
  },
  {
   "cell_type": "code",
   "execution_count": 15,
   "id": "37dbbb2e-9cbb-4831-aaff-b539b5a401bc",
   "metadata": {},
   "outputs": [
    {
     "name": "stdout",
     "output_type": "stream",
     "text": [
      "整数基: [1/2*a + 1/2, a]\n",
      "類数: 1\n",
      "[-1, -1/2*a + 1/2]\n",
      "Galois group 2T1 (S2) with order 2 of x^2 - 5\n"
     ]
    }
   ],
   "source": [
    "f(x) = x^2-5 #x^2-2\n",
    "\n",
    "K.<a> = NumberField(f)\n",
    "OK = K.ring_of_integers()\n",
    "print(\"整数基:\", OK.basis())\n",
    "print(\"類数:\", OK.class_number())\n",
    "\n",
    "U = UnitGroup(K)\n",
    "print(U.gens_values())\n",
    "\n",
    "G = K.galois_group()\n",
    "print(G)"
   ]
  },
  {
   "cell_type": "code",
   "execution_count": null,
   "id": "ae244c59-8868-4d76-b85f-1dac690a1297",
   "metadata": {},
   "outputs": [],
   "source": []
  }
 ],
 "metadata": {
  "kernelspec": {
   "display_name": "SageMath 10.7",
   "language": "sage",
   "name": "sagemath-10.7"
  },
  "language_info": {
   "codemirror_mode": {
    "name": "ipython",
    "version": 3
   },
   "file_extension": ".py",
   "mimetype": "text/x-python",
   "name": "python",
   "nbconvert_exporter": "python",
   "pygments_lexer": "ipython3",
   "version": "3.13.3"
  }
 },
 "nbformat": 4,
 "nbformat_minor": 5
}
