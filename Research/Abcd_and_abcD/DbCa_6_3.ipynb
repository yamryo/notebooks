{
 "cells": [
  {
   "cell_type": "code",
   "execution_count": 1,
   "id": "43c7e941-950a-4130-b08d-dce5e24f19b0",
   "metadata": {},
   "outputs": [
    {
     "name": "stderr",
     "output_type": "stream",
     "text": [
      "/home/ryosuke/.sage/local/var/lib/sage/venv-python3.12/lib/python3.12/site-packages/plink/gui.py:33: UserWarning: Plink failed to import tkinter, GUI will not be available\n",
      "  warnings.warn('Plink failed to import tkinter, GUI will not be available')\n"
     ]
    }
   ],
   "source": [
    "import sys; sys.path.append(\"../modules\")\n",
    "from Ideal_elm_pair_class import *\n",
    "%display latex\n",
    "\n",
    "from snappy import *\n",
    "S = twister.Surface('S_2_1')"
   ]
  },
  {
   "cell_type": "code",
   "execution_count": 2,
   "id": "48805fcd-a2f9-47af-bfeb-11676650f96a",
   "metadata": {
    "executionInfo": {
     "elapsed": 6,
     "status": "aborted",
     "timestamp": 1726184657593,
     "user": {
      "displayName": "山本亮介",
      "userId": "01861936879830612877"
     },
     "user_tz": -540
    },
    "id": "TuLV1eo61SQ6"
   },
   "outputs": [],
   "source": [
    "def inv(s):\n",
    "    return s[::-1].swapcase()\n",
    "def conj(x,y):\n",
    "    return y + x + inv(y)\n",
    "    \n",
    "#----------\n",
    "def A(phi, n):\n",
    "    if n >= 0:\n",
    "        return 'C'*n + conj('a', phi)*n\n",
    "    else:\n",
    "        return 'c'*abs(n) + inv(conj('a', phi))*abs(n)\n",
    "#----------\n",
    "def St(phi, n):\n",
    "    if n >= 0:\n",
    "        return conj('a', phi)*n\n",
    "    else:\n",
    "        return inv(conj('a', phi))*abs(n)        "
   ]
  },
  {
   "cell_type": "code",
   "execution_count": 3,
   "id": "1cf7115b-e4e8-4b91-bec8-ffbddbe6634a",
   "metadata": {
    "executionInfo": {
     "elapsed": 6,
     "status": "aborted",
     "timestamp": 1726184657593,
     "user": {
      "displayName": "山本亮介",
      "userId": "01861936879830612877"
     },
     "user_tz": -540
    },
    "id": "TuLV1eo61SQ6"
   },
   "outputs": [
    {
     "name": "stdout",
     "output_type": "stream",
     "text": [
      "-3 cccecbABCEecbABCEecbABCEDbCa 45 8\n"
     ]
    },
    {
     "data": {
      "text/html": [
       "<html>\\(\\displaystyle \\left[\\left(\\begin{array}{rrrr}\n",
       "6 & -2 & -1 & -4 \\\\\n",
       "5 & -2 & 0 & -3 \\\\\n",
       "1 & -1 & 1 & 0 \\\\\n",
       "3 & 0 & -2 & -2\n",
       "\\end{array}\\right), 38 \\alpha^{3} - 114 \\alpha^{2} + 152 \\alpha + 19, \\left(19,\\,-14 \\alpha^{3} + 43 \\alpha^{2} - 69 \\alpha + 51,\\,-8 \\alpha^{3} + 30 \\alpha^{2} - 53 \\alpha + 40,\\,9 \\alpha^{3} - 29 \\alpha^{2} + 43 \\alpha - 7\\right)\\right]\\)</html>"
      ],
      "text/latex": [
       "$\\displaystyle \\left[\\left(\\begin{array}{rrrr}\n",
       "6 & -2 & -1 & -4 \\\\\n",
       "5 & -2 & 0 & -3 \\\\\n",
       "1 & -1 & 1 & 0 \\\\\n",
       "3 & 0 & -2 & -2\n",
       "\\end{array}\\right), 38 \\alpha^{3} - 114 \\alpha^{2} + 152 \\alpha + 19, \\left(19,\\,-14 \\alpha^{3} + 43 \\alpha^{2} - 69 \\alpha + 51,\\,-8 \\alpha^{3} + 30 \\alpha^{2} - 53 \\alpha + 40,\\,9 \\alpha^{3} - 29 \\alpha^{2} + 43 \\alpha - 7\\right)\\right]$"
      ],
      "text/plain": [
       "[\n",
       "[ 6 -2 -1 -4]                                                                                                                                                                           \n",
       "[ 5 -2  0 -3]                                                                                                                                                                           \n",
       "[ 1 -1  1  0]                                                                                                                                                                           \n",
       "[ 3  0 -2 -2], 38*alpha^3 - 114*alpha^2 + 152*alpha + 19, (19, -14*alpha^3 + 43*alpha^2 - 69*alpha + 51, -8*alpha^3 + 30*alpha^2 - 53*alpha + 40, 9*alpha^3 - 29*alpha^2 + 43*alpha - 7)\n",
       "]"
      ]
     },
     "metadata": {},
     "output_type": "display_data"
    },
    {
     "name": "stdout",
     "output_type": "stream",
     "text": [
      "-2 ccecbABCEecbABCEDbCa 19 4\n"
     ]
    },
    {
     "data": {
      "text/html": [
       "<html>\\(\\displaystyle \\left[\\left(\\begin{array}{rrrr}\n",
       "4 & -1 & -1 & -3 \\\\\n",
       "3 & -1 & 0 & -2 \\\\\n",
       "1 & -1 & 1 & 0 \\\\\n",
       "2 & 0 & -1 & -1\n",
       "\\end{array}\\right), \\alpha^{3} - 3 \\alpha^{2} + 4 \\alpha - 1, \\left(1,\\,-\\alpha^{3} + 4 \\alpha^{2} - 7 \\alpha + 6,\\,\\alpha^{3} - \\alpha^{2} + 4,\\,-\\alpha^{2} + 2 \\alpha - 2\\right)\\right]\\)</html>"
      ],
      "text/latex": [
       "$\\displaystyle \\left[\\left(\\begin{array}{rrrr}\n",
       "4 & -1 & -1 & -3 \\\\\n",
       "3 & -1 & 0 & -2 \\\\\n",
       "1 & -1 & 1 & 0 \\\\\n",
       "2 & 0 & -1 & -1\n",
       "\\end{array}\\right), \\alpha^{3} - 3 \\alpha^{2} + 4 \\alpha - 1, \\left(1,\\,-\\alpha^{3} + 4 \\alpha^{2} - 7 \\alpha + 6,\\,\\alpha^{3} - \\alpha^{2} + 4,\\,-\\alpha^{2} + 2 \\alpha - 2\\right)\\right]$"
      ],
      "text/plain": [
       "[\n",
       "[ 4 -1 -1 -3]                                                                                                                           \n",
       "[ 3 -1  0 -2]                                                                                                                           \n",
       "[ 1 -1  1  0]                                                                                                                           \n",
       "[ 2  0 -1 -1], alpha^3 - 3*alpha^2 + 4*alpha - 1, (1, -alpha^3 + 4*alpha^2 - 7*alpha + 6, alpha^3 - alpha^2 + 4, -alpha^2 + 2*alpha - 2)\n",
       "]"
      ]
     },
     "metadata": {},
     "output_type": "display_data"
    },
    {
     "name": "stdout",
     "output_type": "stream",
     "text": [
      "-1 cecbABCEDbCa 6 2\n"
     ]
    },
    {
     "data": {
      "text/html": [
       "<html>\\(\\displaystyle \\left[\\left(\\begin{array}{rrrr}\n",
       "2 & 0 & -1 & -2 \\\\\n",
       "1 & 0 & 0 & -1 \\\\\n",
       "1 & -1 & 1 & 0 \\\\\n",
       "1 & 0 & 0 & 0\n",
       "\\end{array}\\right), -1, \\left(1,\\,2 \\alpha^{3} - 5 \\alpha^{2} + 7 \\alpha - 1,\\,2 \\alpha^{3} - 6 \\alpha^{2} + 9 \\alpha - 4,\\,-\\alpha^{3} + 3 \\alpha^{2} - 5 \\alpha + 3\\right)\\right]\\)</html>"
      ],
      "text/latex": [
       "$\\displaystyle \\left[\\left(\\begin{array}{rrrr}\n",
       "2 & 0 & -1 & -2 \\\\\n",
       "1 & 0 & 0 & -1 \\\\\n",
       "1 & -1 & 1 & 0 \\\\\n",
       "1 & 0 & 0 & 0\n",
       "\\end{array}\\right), -1, \\left(1,\\,2 \\alpha^{3} - 5 \\alpha^{2} + 7 \\alpha - 1,\\,2 \\alpha^{3} - 6 \\alpha^{2} + 9 \\alpha - 4,\\,-\\alpha^{3} + 3 \\alpha^{2} - 5 \\alpha + 3\\right)\\right]$"
      ],
      "text/plain": [
       "[\n",
       "[ 2  0 -1 -2]                                                                                                                       \n",
       "[ 1  0  0 -1]                                                                                                                       \n",
       "[ 1 -1  1  0]                                                                                                                       \n",
       "[ 1  0  0  0], -1, (1, 2*alpha^3 - 5*alpha^2 + 7*alpha - 1, 2*alpha^3 - 6*alpha^2 + 9*alpha - 4, -alpha^3 + 3*alpha^2 - 5*alpha + 3)\n",
       "]"
      ]
     },
     "metadata": {},
     "output_type": "display_data"
    },
    {
     "name": "stdout",
     "output_type": "stream",
     "text": [
      "0 DbCa 6 2\n"
     ]
    },
    {
     "data": {
      "text/html": [
       "<html>\\(\\displaystyle \\left[\\left(\\begin{array}{rrrr}\n",
       "0 & 1 & -1 & -1 \\\\\n",
       "-1 & 1 & 0 & 0 \\\\\n",
       "1 & -1 & 1 & 0 \\\\\n",
       "0 & 0 & 1 & 1\n",
       "\\end{array}\\right), -\\alpha^{3} + 3 \\alpha^{2} - 4 \\alpha + 1, \\left(1,\\,\\alpha^{3} - 2 \\alpha^{2} + 3 \\alpha,\\,\\alpha^{3} - 3 \\alpha^{2} + 4 \\alpha - 2,\\,\\alpha^{2} - 2 \\alpha + 2\\right)\\right]\\)</html>"
      ],
      "text/latex": [
       "$\\displaystyle \\left[\\left(\\begin{array}{rrrr}\n",
       "0 & 1 & -1 & -1 \\\\\n",
       "-1 & 1 & 0 & 0 \\\\\n",
       "1 & -1 & 1 & 0 \\\\\n",
       "0 & 0 & 1 & 1\n",
       "\\end{array}\\right), -\\alpha^{3} + 3 \\alpha^{2} - 4 \\alpha + 1, \\left(1,\\,\\alpha^{3} - 2 \\alpha^{2} + 3 \\alpha,\\,\\alpha^{3} - 3 \\alpha^{2} + 4 \\alpha - 2,\\,\\alpha^{2} - 2 \\alpha + 2\\right)\\right]$"
      ],
      "text/plain": [
       "[\n",
       "[ 0  1 -1 -1]                                                                                                                                  \n",
       "[-1  1  0  0]                                                                                                                                  \n",
       "[ 1 -1  1  0]                                                                                                                                  \n",
       "[ 0  0  1  1], -alpha^3 + 3*alpha^2 - 4*alpha + 1, (1, alpha^3 - 2*alpha^2 + 3*alpha, alpha^3 - 3*alpha^2 + 4*alpha - 2, alpha^2 - 2*alpha + 2)\n",
       "]"
      ]
     },
     "metadata": {},
     "output_type": "display_data"
    },
    {
     "name": "stdout",
     "output_type": "stream",
     "text": [
      "1 CecbaBCEDbCa 19 4\n"
     ]
    },
    {
     "data": {
      "text/html": [
       "<html>\\(\\displaystyle \\left[\\left(\\begin{array}{rrrr}\n",
       "-2 & 2 & -1 & 0 \\\\\n",
       "-3 & 2 & 0 & 1 \\\\\n",
       "1 & -1 & 1 & 0 \\\\\n",
       "-1 & 0 & 2 & 2\n",
       "\\end{array}\\right), -14 \\alpha^{3} + 42 \\alpha^{2} - 56 \\alpha + 35, \\left(7,\\,2 \\alpha^{3} - 5 \\alpha^{2} + 11 \\alpha + 3,\\,4 \\alpha^{3} - 10 \\alpha^{2} + 15 \\alpha - 8,\\,-3 \\alpha^{3} + 11 \\alpha^{2} - 13 \\alpha + 13\\right)\\right]\\)</html>"
      ],
      "text/latex": [
       "$\\displaystyle \\left[\\left(\\begin{array}{rrrr}\n",
       "-2 & 2 & -1 & 0 \\\\\n",
       "-3 & 2 & 0 & 1 \\\\\n",
       "1 & -1 & 1 & 0 \\\\\n",
       "-1 & 0 & 2 & 2\n",
       "\\end{array}\\right), -14 \\alpha^{3} + 42 \\alpha^{2} - 56 \\alpha + 35, \\left(7,\\,2 \\alpha^{3} - 5 \\alpha^{2} + 11 \\alpha + 3,\\,4 \\alpha^{3} - 10 \\alpha^{2} + 15 \\alpha - 8,\\,-3 \\alpha^{3} + 11 \\alpha^{2} - 13 \\alpha + 13\\right)\\right]$"
      ],
      "text/plain": [
       "[\n",
       "[-2  2 -1  0]                                                                                                                                                                     \n",
       "[-3  2  0  1]                                                                                                                                                                     \n",
       "[ 1 -1  1  0]                                                                                                                                                                     \n",
       "[-1  0  2  2], -14*alpha^3 + 42*alpha^2 - 56*alpha + 35, (7, 2*alpha^3 - 5*alpha^2 + 11*alpha + 3, 4*alpha^3 - 10*alpha^2 + 15*alpha - 8, -3*alpha^3 + 11*alpha^2 - 13*alpha + 13)\n",
       "]"
      ]
     },
     "metadata": {},
     "output_type": "display_data"
    },
    {
     "name": "stdout",
     "output_type": "stream",
     "text": [
      "2 CCecbaBCEecbaBCEDbCa 41 8\n"
     ]
    },
    {
     "data": {
      "text/html": [
       "<html>\\(\\displaystyle \\left[\\left(\\begin{array}{rrrr}\n",
       "-4 & 3 & -1 & 1 \\\\\n",
       "-5 & 3 & 0 & 2 \\\\\n",
       "1 & -1 & 1 & 0 \\\\\n",
       "-2 & 0 & 3 & 3\n",
       "\\end{array}\\right), -147 \\alpha^{3} + 441 \\alpha^{2} - 588 \\alpha + 539, \\left(49,\\,11 \\alpha^{3} - 32 \\alpha^{2} + 61 \\alpha + 26,\\,17 \\alpha^{3} - 45 \\alpha^{2} + 72 \\alpha - 40,\\,-16 \\alpha^{3} + 51 \\alpha^{2} - 62 \\alpha + 78\\right)\\right]\\)</html>"
      ],
      "text/latex": [
       "$\\displaystyle \\left[\\left(\\begin{array}{rrrr}\n",
       "-4 & 3 & -1 & 1 \\\\\n",
       "-5 & 3 & 0 & 2 \\\\\n",
       "1 & -1 & 1 & 0 \\\\\n",
       "-2 & 0 & 3 & 3\n",
       "\\end{array}\\right), -147 \\alpha^{3} + 441 \\alpha^{2} - 588 \\alpha + 539, \\left(49,\\,11 \\alpha^{3} - 32 \\alpha^{2} + 61 \\alpha + 26,\\,17 \\alpha^{3} - 45 \\alpha^{2} + 72 \\alpha - 40,\\,-16 \\alpha^{3} + 51 \\alpha^{2} - 62 \\alpha + 78\\right)\\right]$"
      ],
      "text/plain": [
       "[\n",
       "[-4  3 -1  1]                                                                                                                                                                                \n",
       "[-5  3  0  2]                                                                                                                                                                                \n",
       "[ 1 -1  1  0]                                                                                                                                                                                \n",
       "[-2  0  3  3], -147*alpha^3 + 441*alpha^2 - 588*alpha + 539, (49, 11*alpha^3 - 32*alpha^2 + 61*alpha + 26, 17*alpha^3 - 45*alpha^2 + 72*alpha - 40, -16*alpha^3 + 51*alpha^2 - 62*alpha + 78)\n",
       "]"
      ]
     },
     "metadata": {},
     "output_type": "display_data"
    },
    {
     "data": {
      "text/html": [
       "<html>\\(\\displaystyle \\verb|{t^4|\\verb| |\\verb|-|\\verb| |\\verb|3*t^3|\\verb| |\\verb|+|\\verb| |\\verb|5*t^2|\\verb| |\\verb|-|\\verb| |\\verb|3*t|\\verb| |\\verb|+|\\verb| |\\verb|1}|\\)</html>"
      ],
      "text/latex": [
       "$\\displaystyle \\verb|{t^4|\\verb| |\\verb|-|\\verb| |\\verb|3*t^3|\\verb| |\\verb|+|\\verb| |\\verb|5*t^2|\\verb| |\\verb|-|\\verb| |\\verb|3*t|\\verb| |\\verb|+|\\verb| |\\verb|1}|$"
      ],
      "text/plain": [
       "{t^4 - 3*t^3 + 5*t^2 - 3*t + 1}"
      ]
     },
     "metadata": {},
     "output_type": "display_data"
    }
   ],
   "source": [
    "m63 = 'DbCa' #'aCbD' #\n",
    "phi = 'ecb' #'fecFb'\n",
    "\n",
    "alex_polys = set()\n",
    "\n",
    "for n in [-3, -2, -1, 0, 1, 2]:\n",
    "    mc = A(phi, n) + m63\n",
    "    # mc = mc[::-1]\n",
    "    \n",
    "    M = S.bundle(monodromy=mc)\n",
    "    L = M.exterior_to_link()\n",
    "    hfk = L.knot_floer_homology()\n",
    "    lmd = list(hfk['ranks'].keys())[-1][1]\n",
    "    print(n, mc, len(L.DT_code()[0]), lmd)\n",
    "\n",
    "    i = ideal(mc)\n",
    "    alex_polys.add(i.char_poly)\n",
    "    display([i.matrix, i.generator, i.eigen_vector])\n",
    "    \n",
    "display(alex_polys)"
   ]
  },
  {
   "cell_type": "code",
   "execution_count": 9,
   "id": "b0c0d9b0-6114-4f9e-a102-eef2273a119d",
   "metadata": {
    "executionInfo": {
     "elapsed": 6,
     "status": "aborted",
     "timestamp": 1726184657593,
     "user": {
      "displayName": "山本亮介",
      "userId": "01861936879830612877"
     },
     "user_tz": -540
    },
    "id": "TuLV1eo61SQ6"
   },
   "outputs": [
    {
     "name": "stdout",
     "output_type": "stream",
     "text": [
      "-3 cccECBAbceECBAbceECBAbceaCbD 43 8\n"
     ]
    },
    {
     "data": {
      "text/html": [
       "<html>\\(\\displaystyle \\left[\\left(\\begin{array}{rrrr}\n",
       "1 & 1 & -3 & -1 \\\\\n",
       "-1 & 0 & 3 & 1 \\\\\n",
       "0 & -1 & 1 & 0 \\\\\n",
       "0 & 2 & 1 & 1\n",
       "\\end{array}\\right), -\\alpha^{3} + 3 \\alpha^{2} - 4 \\alpha + 1, \\left(1,\\,\\alpha^{3} - 2 \\alpha^{2} + 3 \\alpha - 1,\\,\\alpha^{3} - 3 \\alpha^{2} + 4 \\alpha - 2,\\,-2 \\alpha^{3} + 7 \\alpha^{2} - 10 \\alpha + 6\\right)\\right]\\)</html>"
      ],
      "text/latex": [
       "$\\displaystyle \\left[\\left(\\begin{array}{rrrr}\n",
       "1 & 1 & -3 & -1 \\\\\n",
       "-1 & 0 & 3 & 1 \\\\\n",
       "0 & -1 & 1 & 0 \\\\\n",
       "0 & 2 & 1 & 1\n",
       "\\end{array}\\right), -\\alpha^{3} + 3 \\alpha^{2} - 4 \\alpha + 1, \\left(1,\\,\\alpha^{3} - 2 \\alpha^{2} + 3 \\alpha - 1,\\,\\alpha^{3} - 3 \\alpha^{2} + 4 \\alpha - 2,\\,-2 \\alpha^{3} + 7 \\alpha^{2} - 10 \\alpha + 6\\right)\\right]$"
      ],
      "text/plain": [
       "[\n",
       "[ 1  1 -3 -1]                                                                                                                                                      \n",
       "[-1  0  3  1]                                                                                                                                                      \n",
       "[ 0 -1  1  0]                                                                                                                                                      \n",
       "[ 0  2  1  1], -alpha^3 + 3*alpha^2 - 4*alpha + 1, (1, alpha^3 - 2*alpha^2 + 3*alpha - 1, alpha^3 - 3*alpha^2 + 4*alpha - 2, -2*alpha^3 + 7*alpha^2 - 10*alpha + 6)\n",
       "]"
      ]
     },
     "metadata": {},
     "output_type": "display_data"
    },
    {
     "name": "stdout",
     "output_type": "stream",
     "text": [
      "-2 ccECBAbceECBAbceaCbD 19 4\n"
     ]
    },
    {
     "data": {
      "text/html": [
       "<html>\\(\\displaystyle \\left[\\left(\\begin{array}{rrrr}\n",
       "1 & 1 & -2 & -1 \\\\\n",
       "-1 & 0 & 2 & 1 \\\\\n",
       "0 & -1 & 1 & 0 \\\\\n",
       "0 & 1 & 1 & 1\n",
       "\\end{array}\\right), -\\alpha^{3} + 3 \\alpha^{2} - 4 \\alpha + 1, \\left(1,\\,\\alpha^{3} - 2 \\alpha^{2} + 3 \\alpha - 1,\\,\\alpha^{3} - 3 \\alpha^{2} + 4 \\alpha - 2,\\,-\\alpha^{3} + 4 \\alpha^{2} - 6 \\alpha + 4\\right)\\right]\\)</html>"
      ],
      "text/latex": [
       "$\\displaystyle \\left[\\left(\\begin{array}{rrrr}\n",
       "1 & 1 & -2 & -1 \\\\\n",
       "-1 & 0 & 2 & 1 \\\\\n",
       "0 & -1 & 1 & 0 \\\\\n",
       "0 & 1 & 1 & 1\n",
       "\\end{array}\\right), -\\alpha^{3} + 3 \\alpha^{2} - 4 \\alpha + 1, \\left(1,\\,\\alpha^{3} - 2 \\alpha^{2} + 3 \\alpha - 1,\\,\\alpha^{3} - 3 \\alpha^{2} + 4 \\alpha - 2,\\,-\\alpha^{3} + 4 \\alpha^{2} - 6 \\alpha + 4\\right)\\right]$"
      ],
      "text/plain": [
       "[\n",
       "[ 1  1 -2 -1]                                                                                                                                                   \n",
       "[-1  0  2  1]                                                                                                                                                   \n",
       "[ 0 -1  1  0]                                                                                                                                                   \n",
       "[ 0  1  1  1], -alpha^3 + 3*alpha^2 - 4*alpha + 1, (1, alpha^3 - 2*alpha^2 + 3*alpha - 1, alpha^3 - 3*alpha^2 + 4*alpha - 2, -alpha^3 + 4*alpha^2 - 6*alpha + 4)\n",
       "]"
      ]
     },
     "metadata": {},
     "output_type": "display_data"
    },
    {
     "name": "stdout",
     "output_type": "stream",
     "text": [
      "-1 cECBAbceaCbD 6 2\n"
     ]
    },
    {
     "data": {
      "text/html": [
       "<html>\\(\\displaystyle \\left[\\left(\\begin{array}{rrrr}\n",
       "1 & 1 & -1 & -1 \\\\\n",
       "-1 & 0 & 1 & 1 \\\\\n",
       "0 & -1 & 1 & 0 \\\\\n",
       "0 & 0 & 1 & 1\n",
       "\\end{array}\\right), -\\alpha^{3} + 3 \\alpha^{2} - 4 \\alpha + 1, \\left(1,\\,\\alpha^{3} - 2 \\alpha^{2} + 3 \\alpha - 1,\\,\\alpha^{3} - 3 \\alpha^{2} + 4 \\alpha - 2,\\,\\alpha^{2} - 2 \\alpha + 2\\right)\\right]\\)</html>"
      ],
      "text/latex": [
       "$\\displaystyle \\left[\\left(\\begin{array}{rrrr}\n",
       "1 & 1 & -1 & -1 \\\\\n",
       "-1 & 0 & 1 & 1 \\\\\n",
       "0 & -1 & 1 & 0 \\\\\n",
       "0 & 0 & 1 & 1\n",
       "\\end{array}\\right), -\\alpha^{3} + 3 \\alpha^{2} - 4 \\alpha + 1, \\left(1,\\,\\alpha^{3} - 2 \\alpha^{2} + 3 \\alpha - 1,\\,\\alpha^{3} - 3 \\alpha^{2} + 4 \\alpha - 2,\\,\\alpha^{2} - 2 \\alpha + 2\\right)\\right]$"
      ],
      "text/plain": [
       "[\n",
       "[ 1  1 -1 -1]                                                                                                                                      \n",
       "[-1  0  1  1]                                                                                                                                      \n",
       "[ 0 -1  1  0]                                                                                                                                      \n",
       "[ 0  0  1  1], -alpha^3 + 3*alpha^2 - 4*alpha + 1, (1, alpha^3 - 2*alpha^2 + 3*alpha - 1, alpha^3 - 3*alpha^2 + 4*alpha - 2, alpha^2 - 2*alpha + 2)\n",
       "]"
      ]
     },
     "metadata": {},
     "output_type": "display_data"
    },
    {
     "name": "stdout",
     "output_type": "stream",
     "text": [
      "0 aCbD 6 2\n"
     ]
    },
    {
     "data": {
      "text/html": [
       "<html>\\(\\displaystyle \\left[\\left(\\begin{array}{rrrr}\n",
       "1 & 1 & 0 & -1 \\\\\n",
       "-1 & 0 & 0 & 1 \\\\\n",
       "0 & -1 & 1 & 0 \\\\\n",
       "0 & -1 & 1 & 1\n",
       "\\end{array}\\right), -\\alpha^{3} + 3 \\alpha^{2} - 4 \\alpha + 1, \\left(1,\\,\\alpha^{3} - 2 \\alpha^{2} + 3 \\alpha - 1,\\,\\alpha^{3} - 3 \\alpha^{2} + 4 \\alpha - 2,\\,\\alpha^{3} - 2 \\alpha^{2} + 2 \\alpha\\right)\\right]\\)</html>"
      ],
      "text/latex": [
       "$\\displaystyle \\left[\\left(\\begin{array}{rrrr}\n",
       "1 & 1 & 0 & -1 \\\\\n",
       "-1 & 0 & 0 & 1 \\\\\n",
       "0 & -1 & 1 & 0 \\\\\n",
       "0 & -1 & 1 & 1\n",
       "\\end{array}\\right), -\\alpha^{3} + 3 \\alpha^{2} - 4 \\alpha + 1, \\left(1,\\,\\alpha^{3} - 2 \\alpha^{2} + 3 \\alpha - 1,\\,\\alpha^{3} - 3 \\alpha^{2} + 4 \\alpha - 2,\\,\\alpha^{3} - 2 \\alpha^{2} + 2 \\alpha\\right)\\right]$"
      ],
      "text/plain": [
       "[\n",
       "[ 1  1  0 -1]                                                                                                                                              \n",
       "[-1  0  0  1]                                                                                                                                              \n",
       "[ 0 -1  1  0]                                                                                                                                              \n",
       "[ 0 -1  1  1], -alpha^3 + 3*alpha^2 - 4*alpha + 1, (1, alpha^3 - 2*alpha^2 + 3*alpha - 1, alpha^3 - 3*alpha^2 + 4*alpha - 2, alpha^3 - 2*alpha^2 + 2*alpha)\n",
       "]"
      ]
     },
     "metadata": {},
     "output_type": "display_data"
    },
    {
     "name": "stdout",
     "output_type": "stream",
     "text": [
      "1 CECBabceaCbD 19 4\n"
     ]
    },
    {
     "data": {
      "text/html": [
       "<html>\\(\\displaystyle \\left[\\left(\\begin{array}{rrrr}\n",
       "1 & 1 & 1 & -1 \\\\\n",
       "-1 & 0 & -1 & 1 \\\\\n",
       "0 & -1 & 1 & 0 \\\\\n",
       "0 & -2 & 1 & 1\n",
       "\\end{array}\\right), -\\alpha^{3} + 3 \\alpha^{2} - 4 \\alpha + 1, \\left(1,\\,\\alpha^{3} - 2 \\alpha^{2} + 3 \\alpha - 1,\\,\\alpha^{3} - 3 \\alpha^{2} + 4 \\alpha - 2,\\,2 \\alpha^{3} - 5 \\alpha^{2} + 6 \\alpha - 2\\right)\\right]\\)</html>"
      ],
      "text/latex": [
       "$\\displaystyle \\left[\\left(\\begin{array}{rrrr}\n",
       "1 & 1 & 1 & -1 \\\\\n",
       "-1 & 0 & -1 & 1 \\\\\n",
       "0 & -1 & 1 & 0 \\\\\n",
       "0 & -2 & 1 & 1\n",
       "\\end{array}\\right), -\\alpha^{3} + 3 \\alpha^{2} - 4 \\alpha + 1, \\left(1,\\,\\alpha^{3} - 2 \\alpha^{2} + 3 \\alpha - 1,\\,\\alpha^{3} - 3 \\alpha^{2} + 4 \\alpha - 2,\\,2 \\alpha^{3} - 5 \\alpha^{2} + 6 \\alpha - 2\\right)\\right]$"
      ],
      "text/plain": [
       "[\n",
       "[ 1  1  1 -1]                                                                                                                                                    \n",
       "[-1  0 -1  1]                                                                                                                                                    \n",
       "[ 0 -1  1  0]                                                                                                                                                    \n",
       "[ 0 -2  1  1], -alpha^3 + 3*alpha^2 - 4*alpha + 1, (1, alpha^3 - 2*alpha^2 + 3*alpha - 1, alpha^3 - 3*alpha^2 + 4*alpha - 2, 2*alpha^3 - 5*alpha^2 + 6*alpha - 2)\n",
       "]"
      ]
     },
     "metadata": {},
     "output_type": "display_data"
    },
    {
     "name": "stdout",
     "output_type": "stream",
     "text": [
      "2 CCECBabceECBabceaCbD 43 8\n"
     ]
    },
    {
     "data": {
      "text/html": [
       "<html>\\(\\displaystyle \\left[\\left(\\begin{array}{rrrr}\n",
       "1 & 1 & 2 & -1 \\\\\n",
       "-1 & 0 & -2 & 1 \\\\\n",
       "0 & -1 & 1 & 0 \\\\\n",
       "0 & -3 & 1 & 1\n",
       "\\end{array}\\right), -\\alpha^{3} + 3 \\alpha^{2} - 4 \\alpha + 1, \\left(1,\\,\\alpha^{3} - 2 \\alpha^{2} + 3 \\alpha - 1,\\,\\alpha^{3} - 3 \\alpha^{2} + 4 \\alpha - 2,\\,3 \\alpha^{3} - 8 \\alpha^{2} + 10 \\alpha - 4\\right)\\right]\\)</html>"
      ],
      "text/latex": [
       "$\\displaystyle \\left[\\left(\\begin{array}{rrrr}\n",
       "1 & 1 & 2 & -1 \\\\\n",
       "-1 & 0 & -2 & 1 \\\\\n",
       "0 & -1 & 1 & 0 \\\\\n",
       "0 & -3 & 1 & 1\n",
       "\\end{array}\\right), -\\alpha^{3} + 3 \\alpha^{2} - 4 \\alpha + 1, \\left(1,\\,\\alpha^{3} - 2 \\alpha^{2} + 3 \\alpha - 1,\\,\\alpha^{3} - 3 \\alpha^{2} + 4 \\alpha - 2,\\,3 \\alpha^{3} - 8 \\alpha^{2} + 10 \\alpha - 4\\right)\\right]$"
      ],
      "text/plain": [
       "[\n",
       "[ 1  1  2 -1]                                                                                                                                                     \n",
       "[-1  0 -2  1]                                                                                                                                                     \n",
       "[ 0 -1  1  0]                                                                                                                                                     \n",
       "[ 0 -3  1  1], -alpha^3 + 3*alpha^2 - 4*alpha + 1, (1, alpha^3 - 2*alpha^2 + 3*alpha - 1, alpha^3 - 3*alpha^2 + 4*alpha - 2, 3*alpha^3 - 8*alpha^2 + 10*alpha - 4)\n",
       "]"
      ]
     },
     "metadata": {},
     "output_type": "display_data"
    },
    {
     "data": {
      "text/html": [
       "<html>\\(\\displaystyle \\verb|{t^4|\\verb| |\\verb|-|\\verb| |\\verb|3*t^3|\\verb| |\\verb|+|\\verb| |\\verb|5*t^2|\\verb| |\\verb|-|\\verb| |\\verb|3*t|\\verb| |\\verb|+|\\verb| |\\verb|1}|\\)</html>"
      ],
      "text/latex": [
       "$\\displaystyle \\verb|{t^4|\\verb| |\\verb|-|\\verb| |\\verb|3*t^3|\\verb| |\\verb|+|\\verb| |\\verb|5*t^2|\\verb| |\\verb|-|\\verb| |\\verb|3*t|\\verb| |\\verb|+|\\verb| |\\verb|1}|$"
      ],
      "text/plain": [
       "{t^4 - 3*t^3 + 5*t^2 - 3*t + 1}"
      ]
     },
     "metadata": {},
     "output_type": "display_data"
    }
   ],
   "source": [
    "m63 = 'aCbD' #'DbCa' #'dBcA' #\n",
    "phi = 'ECB'\n",
    "\n",
    "alex_polys = set()\n",
    "\n",
    "#----------\n",
    "for n in [-3, -2, -1, 0, 1, 2]:\n",
    "    mc = A(phi, n) + m63  #'aCbD' #\n",
    "#    mc = mc.swapcase() #mc[::-1]\n",
    "    \n",
    "    M = S.bundle(monodromy=mc)\n",
    "    L = M.exterior_to_link()\n",
    "    hfk = L.knot_floer_homology()\n",
    "    lmd = list(hfk['ranks'].keys())[-1][1]\n",
    "    print(n, mc, len(L.DT_code()[0]), lmd)\n",
    "\n",
    "    i = ideal(mc)\n",
    "    alex_polys.add(i.char_poly)\n",
    "    display([i.matrix, i.generator, i.eigen_vector])\n",
    "    \n",
    "display(alex_polys)"
   ]
  },
  {
   "cell_type": "code",
   "execution_count": 7,
   "id": "bd2e0f8f-52df-45e2-a59e-0b8a3c44898a",
   "metadata": {
    "executionInfo": {
     "elapsed": 6,
     "status": "aborted",
     "timestamp": 1726184657593,
     "user": {
      "displayName": "山本亮介",
      "userId": "01861936879830612877"
     },
     "user_tz": -540
    },
    "id": "TuLV1eo61SQ6"
   },
   "outputs": [
    {
     "name": "stdout",
     "output_type": "stream",
     "text": [
      "-3 bFAfBbFAfBbFAfBDbCa 13 2\n",
      "defining polynomial (t^4 - 6*t^3 + 11*t^2 - 6*t + 1) must be irreducible ,  Char_poly = (t^2 - 3*t + 1)^2\n"
     ]
    },
    {
     "data": {
      "text/html": [
       "<html>\\(\\displaystyle \\left(\\begin{array}{rrrr}\n",
       "0 & 1 & -1 & -1 \\\\\n",
       "-1 & 4 & 0 & 0 \\\\\n",
       "1 & -4 & 1 & 0 \\\\\n",
       "0 & 0 & 1 & 1\n",
       "\\end{array}\\right)\\)</html>"
      ],
      "text/latex": [
       "$\\displaystyle \\left(\\begin{array}{rrrr}\n",
       "0 & 1 & -1 & -1 \\\\\n",
       "-1 & 4 & 0 & 0 \\\\\n",
       "1 & -4 & 1 & 0 \\\\\n",
       "0 & 0 & 1 & 1\n",
       "\\end{array}\\right)$"
      ],
      "text/plain": [
       "[ 0  1 -1 -1]\n",
       "[-1  4  0  0]\n",
       "[ 1 -4  1  0]\n",
       "[ 0  0  1  1]"
      ]
     },
     "metadata": {},
     "output_type": "display_data"
    },
    {
     "name": "stdout",
     "output_type": "stream",
     "text": [
      "-2 bFAfBbFAfBDbCa 11 2\n"
     ]
    },
    {
     "data": {
      "text/html": [
       "<html>\\(\\displaystyle \\left[\\left(\\begin{array}{rrrr}\n",
       "0 & 1 & -1 & -1 \\\\\n",
       "-1 & 3 & 0 & 0 \\\\\n",
       "1 & -3 & 1 & 0 \\\\\n",
       "0 & 0 & 1 & 1\n",
       "\\end{array}\\right), -13 \\alpha^{3} + 65 \\alpha^{2} - 104 \\alpha - 13, \\left(13,\\,\\alpha^{3} - 2 \\alpha^{2} + 3 \\alpha + 4,\\,5 \\alpha^{3} - 23 \\alpha^{2} + 28 \\alpha - 6,\\,-4 \\alpha^{3} + 21 \\alpha^{2} - 38 \\alpha + 10\\right)\\right]\\)</html>"
      ],
      "text/latex": [
       "$\\displaystyle \\left[\\left(\\begin{array}{rrrr}\n",
       "0 & 1 & -1 & -1 \\\\\n",
       "-1 & 3 & 0 & 0 \\\\\n",
       "1 & -3 & 1 & 0 \\\\\n",
       "0 & 0 & 1 & 1\n",
       "\\end{array}\\right), -13 \\alpha^{3} + 65 \\alpha^{2} - 104 \\alpha - 13, \\left(13,\\,\\alpha^{3} - 2 \\alpha^{2} + 3 \\alpha + 4,\\,5 \\alpha^{3} - 23 \\alpha^{2} + 28 \\alpha - 6,\\,-4 \\alpha^{3} + 21 \\alpha^{2} - 38 \\alpha + 10\\right)\\right]$"
      ],
      "text/plain": [
       "[\n",
       "[ 0  1 -1 -1]                                                                                                                                                                    \n",
       "[-1  3  0  0]                                                                                                                                                                    \n",
       "[ 1 -3  1  0]                                                                                                                                                                    \n",
       "[ 0  0  1  1], -13*alpha^3 + 65*alpha^2 - 104*alpha - 13, (13, alpha^3 - 2*alpha^2 + 3*alpha + 4, 5*alpha^3 - 23*alpha^2 + 28*alpha - 6, -4*alpha^3 + 21*alpha^2 - 38*alpha + 10)\n",
       "]"
      ]
     },
     "metadata": {},
     "output_type": "display_data"
    },
    {
     "name": "stdout",
     "output_type": "stream",
     "text": [
      "-1 bFAfBDbCa 9 2\n"
     ]
    },
    {
     "data": {
      "text/html": [
       "<html>\\(\\displaystyle \\left[\\left(\\begin{array}{rrrr}\n",
       "0 & 1 & -1 & -1 \\\\\n",
       "-1 & 2 & 0 & 0 \\\\\n",
       "1 & -2 & 1 & 0 \\\\\n",
       "0 & 0 & 1 & 1\n",
       "\\end{array}\\right), -5 \\alpha^{3} + 20 \\alpha^{2} - 30 \\alpha, \\left(5,\\,\\alpha^{3} - 2 \\alpha^{2} + 3 \\alpha + 2,\\,3 \\alpha^{3} - 11 \\alpha^{2} + 14 \\alpha - 4,\\,-2 \\alpha^{3} + 9 \\alpha^{2} - 16 \\alpha + 6\\right)\\right]\\)</html>"
      ],
      "text/latex": [
       "$\\displaystyle \\left[\\left(\\begin{array}{rrrr}\n",
       "0 & 1 & -1 & -1 \\\\\n",
       "-1 & 2 & 0 & 0 \\\\\n",
       "1 & -2 & 1 & 0 \\\\\n",
       "0 & 0 & 1 & 1\n",
       "\\end{array}\\right), -5 \\alpha^{3} + 20 \\alpha^{2} - 30 \\alpha, \\left(5,\\,\\alpha^{3} - 2 \\alpha^{2} + 3 \\alpha + 2,\\,3 \\alpha^{3} - 11 \\alpha^{2} + 14 \\alpha - 4,\\,-2 \\alpha^{3} + 9 \\alpha^{2} - 16 \\alpha + 6\\right)\\right]$"
      ],
      "text/plain": [
       "[\n",
       "[ 0  1 -1 -1]                                                                                                                                                          \n",
       "[-1  2  0  0]                                                                                                                                                          \n",
       "[ 1 -2  1  0]                                                                                                                                                          \n",
       "[ 0  0  1  1], -5*alpha^3 + 20*alpha^2 - 30*alpha, (5, alpha^3 - 2*alpha^2 + 3*alpha + 2, 3*alpha^3 - 11*alpha^2 + 14*alpha - 4, -2*alpha^3 + 9*alpha^2 - 16*alpha + 6)\n",
       "]"
      ]
     },
     "metadata": {},
     "output_type": "display_data"
    },
    {
     "name": "stdout",
     "output_type": "stream",
     "text": [
      "0 DbCa 6 2\n"
     ]
    },
    {
     "data": {
      "text/html": [
       "<html>\\(\\displaystyle \\left[\\left(\\begin{array}{rrrr}\n",
       "0 & 1 & -1 & -1 \\\\\n",
       "-1 & 1 & 0 & 0 \\\\\n",
       "1 & -1 & 1 & 0 \\\\\n",
       "0 & 0 & 1 & 1\n",
       "\\end{array}\\right), -\\alpha^{3} + 3 \\alpha^{2} - 4 \\alpha + 1, \\left(1,\\,\\alpha^{3} - 2 \\alpha^{2} + 3 \\alpha,\\,\\alpha^{3} - 3 \\alpha^{2} + 4 \\alpha - 2,\\,\\alpha^{2} - 2 \\alpha + 2\\right)\\right]\\)</html>"
      ],
      "text/latex": [
       "$\\displaystyle \\left[\\left(\\begin{array}{rrrr}\n",
       "0 & 1 & -1 & -1 \\\\\n",
       "-1 & 1 & 0 & 0 \\\\\n",
       "1 & -1 & 1 & 0 \\\\\n",
       "0 & 0 & 1 & 1\n",
       "\\end{array}\\right), -\\alpha^{3} + 3 \\alpha^{2} - 4 \\alpha + 1, \\left(1,\\,\\alpha^{3} - 2 \\alpha^{2} + 3 \\alpha,\\,\\alpha^{3} - 3 \\alpha^{2} + 4 \\alpha - 2,\\,\\alpha^{2} - 2 \\alpha + 2\\right)\\right]$"
      ],
      "text/plain": [
       "[\n",
       "[ 0  1 -1 -1]                                                                                                                                  \n",
       "[-1  1  0  0]                                                                                                                                  \n",
       "[ 1 -1  1  0]                                                                                                                                  \n",
       "[ 0  0  1  1], -alpha^3 + 3*alpha^2 - 4*alpha + 1, (1, alpha^3 - 2*alpha^2 + 3*alpha, alpha^3 - 3*alpha^2 + 4*alpha - 2, alpha^2 - 2*alpha + 2)\n",
       "]"
      ]
     },
     "metadata": {},
     "output_type": "display_data"
    },
    {
     "name": "stdout",
     "output_type": "stream",
     "text": [
      "1 bFafBDbCa 8 2\n",
      "defining polynomial (t^4 - 2*t^3 + 3*t^2 - 2*t + 1) must be irreducible ,  Char_poly = (t^2 - t + 1)^2\n"
     ]
    },
    {
     "data": {
      "text/html": [
       "<html>\\(\\displaystyle \\left(\\begin{array}{rrrr}\n",
       "0 & 1 & -1 & -1 \\\\\n",
       "-1 & 0 & 0 & 0 \\\\\n",
       "1 & 0 & 1 & 0 \\\\\n",
       "0 & 0 & 1 & 1\n",
       "\\end{array}\\right)\\)</html>"
      ],
      "text/latex": [
       "$\\displaystyle \\left(\\begin{array}{rrrr}\n",
       "0 & 1 & -1 & -1 \\\\\n",
       "-1 & 0 & 0 & 0 \\\\\n",
       "1 & 0 & 1 & 0 \\\\\n",
       "0 & 0 & 1 & 1\n",
       "\\end{array}\\right)$"
      ],
      "text/plain": [
       "[ 0  1 -1 -1]\n",
       "[-1  0  0  0]\n",
       "[ 1  0  1  0]\n",
       "[ 0  0  1  1]"
      ]
     },
     "metadata": {},
     "output_type": "display_data"
    },
    {
     "name": "stdout",
     "output_type": "stream",
     "text": [
      "2 bFafBbFafBDbCa 10 2\n"
     ]
    },
    {
     "data": {
      "text/html": [
       "<html>\\(\\displaystyle \\left[\\left(\\begin{array}{rrrr}\n",
       "0 & 1 & -1 & -1 \\\\\n",
       "-1 & -1 & 0 & 0 \\\\\n",
       "1 & 1 & 1 & 0 \\\\\n",
       "0 & 0 & 1 & 1\n",
       "\\end{array}\\right), -5 \\alpha^{3} + 5 \\alpha^{2} + 15, \\left(5,\\,\\alpha^{3} - 2 \\alpha^{2} + 3 \\alpha - 4,\\,-3 \\alpha^{3} + \\alpha^{2} - 4 \\alpha + 2,\\,4 \\alpha^{3} - 3 \\alpha^{2} + 2 \\alpha - 6\\right)\\right]\\)</html>"
      ],
      "text/latex": [
       "$\\displaystyle \\left[\\left(\\begin{array}{rrrr}\n",
       "0 & 1 & -1 & -1 \\\\\n",
       "-1 & -1 & 0 & 0 \\\\\n",
       "1 & 1 & 1 & 0 \\\\\n",
       "0 & 0 & 1 & 1\n",
       "\\end{array}\\right), -5 \\alpha^{3} + 5 \\alpha^{2} + 15, \\left(5,\\,\\alpha^{3} - 2 \\alpha^{2} + 3 \\alpha - 4,\\,-3 \\alpha^{3} + \\alpha^{2} - 4 \\alpha + 2,\\,4 \\alpha^{3} - 3 \\alpha^{2} + 2 \\alpha - 6\\right)\\right]$"
      ],
      "text/plain": [
       "[\n",
       "[ 0  1 -1 -1]                                                                                                                                              \n",
       "[-1 -1  0  0]                                                                                                                                              \n",
       "[ 1  1  1  0]                                                                                                                                              \n",
       "[ 0  0  1  1], -5*alpha^3 + 5*alpha^2 + 15, (5, alpha^3 - 2*alpha^2 + 3*alpha - 4, -3*alpha^3 + alpha^2 - 4*alpha + 2, 4*alpha^3 - 3*alpha^2 + 2*alpha - 6)\n",
       "]"
      ]
     },
     "metadata": {},
     "output_type": "display_data"
    },
    {
     "data": {
      "text/html": [
       "<html>\\(\\displaystyle \\verb|{t^4|\\verb| |\\verb|-|\\verb| |\\verb|3*t^3|\\verb| |\\verb|+|\\verb| |\\verb|5*t^2|\\verb| |\\verb|-|\\verb| |\\verb|3*t|\\verb| |\\verb|+|\\verb| |\\verb|1,|\\verb| |\\verb|t^4|\\verb| |\\verb|-|\\verb| |\\verb|4*t^3|\\verb| |\\verb|+|\\verb| |\\verb|7*t^2|\\verb| |\\verb|-|\\verb| |\\verb|4*t|\\verb| |\\verb|+|\\verb| |\\verb|1,|\\verb| |\\verb|t^4|\\verb| |\\verb|-|\\verb| |\\verb|5*t^3|\\verb| |\\verb|+|\\verb| |\\verb|9*t^2|\\verb| |\\verb|-|\\verb| |\\verb|5*t|\\verb| |\\verb|+|\\verb| |\\verb|1,|\\verb| |\\verb|t^4|\\verb| |\\verb|-|\\verb| |\\verb|2*t^3|\\verb| |\\verb|+|\\verb| |\\verb|3*t^2|\\verb| |\\verb|-|\\verb| |\\verb|2*t|\\verb| |\\verb|+|\\verb| |\\verb|1,|\\verb| |\\verb|t^4|\\verb| |\\verb|-|\\verb| |\\verb|6*t^3|\\verb| |\\verb|+|\\verb| |\\verb|11*t^2|\\verb| |\\verb|-|\\verb| |\\verb|6*t|\\verb| |\\verb|+|\\verb| |\\verb|1,|\\verb| |\\verb|t^4|\\verb| |\\verb|-|\\verb| |\\verb|t^3|\\verb| |\\verb|+|\\verb| |\\verb|t^2|\\verb| |\\verb|-|\\verb| |\\verb|t|\\verb| |\\verb|+|\\verb| |\\verb|1}|\\)</html>"
      ],
      "text/latex": [
       "$\\displaystyle \\verb|{t^4|\\verb| |\\verb|-|\\verb| |\\verb|3*t^3|\\verb| |\\verb|+|\\verb| |\\verb|5*t^2|\\verb| |\\verb|-|\\verb| |\\verb|3*t|\\verb| |\\verb|+|\\verb| |\\verb|1,|\\verb| |\\verb|t^4|\\verb| |\\verb|-|\\verb| |\\verb|4*t^3|\\verb| |\\verb|+|\\verb| |\\verb|7*t^2|\\verb| |\\verb|-|\\verb| |\\verb|4*t|\\verb| |\\verb|+|\\verb| |\\verb|1,|\\verb| |\\verb|t^4|\\verb| |\\verb|-|\\verb| |\\verb|5*t^3|\\verb| |\\verb|+|\\verb| |\\verb|9*t^2|\\verb| |\\verb|-|\\verb| |\\verb|5*t|\\verb| |\\verb|+|\\verb| |\\verb|1,|\\verb| |\\verb|t^4|\\verb| |\\verb|-|\\verb| |\\verb|2*t^3|\\verb| |\\verb|+|\\verb| |\\verb|3*t^2|\\verb| |\\verb|-|\\verb| |\\verb|2*t|\\verb| |\\verb|+|\\verb| |\\verb|1,|\\verb| |\\verb|t^4|\\verb| |\\verb|-|\\verb| |\\verb|6*t^3|\\verb| |\\verb|+|\\verb| |\\verb|11*t^2|\\verb| |\\verb|-|\\verb| |\\verb|6*t|\\verb| |\\verb|+|\\verb| |\\verb|1,|\\verb| |\\verb|t^4|\\verb| |\\verb|-|\\verb| |\\verb|t^3|\\verb| |\\verb|+|\\verb| |\\verb|t^2|\\verb| |\\verb|-|\\verb| |\\verb|t|\\verb| |\\verb|+|\\verb| |\\verb|1}|$"
      ],
      "text/plain": [
       "{t^4 - 6*t^3 + 11*t^2 - 6*t + 1,\n",
       " t^4 - 5*t^3 + 9*t^2 - 5*t + 1,\n",
       " t^4 - 4*t^3 + 7*t^2 - 4*t + 1,\n",
       " t^4 - 3*t^3 + 5*t^2 - 3*t + 1,\n",
       " t^4 - 2*t^3 + 3*t^2 - 2*t + 1,\n",
       " t^4 - t^3 + t^2 - t + 1}"
      ]
     },
     "metadata": {},
     "output_type": "display_data"
    }
   ],
   "source": [
    "m63 = 'DbCa' #'aCbD' #\n",
    "phi = 'bF' #'fecFb'\n",
    "\n",
    "alex_polys = set()\n",
    "\n",
    "for n in range(-3, 2+1):\n",
    "    mc = St(phi, n) + m63\n",
    "    \n",
    "    M = S.bundle(monodromy=mc)\n",
    "    L = M.exterior_to_link()\n",
    "    hfk = L.knot_floer_homology()\n",
    "    lmd = list(hfk['ranks'].keys())[-1][1]\n",
    "    print(n, mc, len(L.DT_code()[0]), lmd)\n",
    "\n",
    "    i = ideal(mc)\n",
    "    alex_polys.add(i.char_poly)\n",
    "    try:\n",
    "        display([i.matrix, i.generator, i.eigen_vector])\n",
    "    except:\n",
    "        display(i.matrix)\n",
    "    \n",
    "display(alex_polys)"
   ]
  },
  {
   "cell_type": "code",
   "execution_count": 79,
   "id": "f0bee6c5-5d6a-4eff-9e07-e6775e23938d",
   "metadata": {},
   "outputs": [
    {
     "data": {
      "text/html": [
       "<html>\\(\\displaystyle \\left(\\begin{array}{rrrr}\n",
       "1 & 1 & -1 & -1 \\\\\n",
       "-1 & 0 & 1 & 1 \\\\\n",
       "0 & -1 & 1 & 0 \\\\\n",
       "0 & 0 & 1 & 1\n",
       "\\end{array}\\right)\\)</html>"
      ],
      "text/latex": [
       "$\\displaystyle \\left(\\begin{array}{rrrr}\n",
       "1 & 1 & -1 & -1 \\\\\n",
       "-1 & 0 & 1 & 1 \\\\\n",
       "0 & -1 & 1 & 0 \\\\\n",
       "0 & 0 & 1 & 1\n",
       "\\end{array}\\right)$"
      ],
      "text/plain": [
       "[ 1  1 -1 -1]\n",
       "[-1  0  1  1]\n",
       "[ 0 -1  1  0]\n",
       "[ 0  0  1  1]"
      ]
     },
     "execution_count": 79,
     "metadata": {},
     "output_type": "execute_result"
    }
   ],
   "source": [
    "#(ECB)A(bce)(c)aCbD = (ECB)A(bce)(abD) =\n",
    "i_bD = ideal('ECBAbacbeD') #'bD')\n",
    "i_bD.matrix"
   ]
  },
  {
   "cell_type": "code",
   "execution_count": 65,
   "id": "c1c29007-7850-4968-81f5-4f7685bfcd91",
   "metadata": {},
   "outputs": [
    {
     "data": {
      "text/html": [
       "<html>\\(\\displaystyle \\left[\\left(\\begin{array}{rrrr}\n",
       "-4 & -3 & -1 & -1 \\\\\n",
       "5 & 3 & 0 & 2 \\\\\n",
       "1 & 1 & 1 & 0 \\\\\n",
       "2 & 0 & -3 & 3\n",
       "\\end{array}\\right), \\left(\\begin{array}{rrrr}\n",
       "-2 & -2 & -1 & 0 \\\\\n",
       "3 & 2 & 0 & 1 \\\\\n",
       "1 & 1 & 1 & 0 \\\\\n",
       "1 & 0 & -2 & 2\n",
       "\\end{array}\\right), \\left(\\begin{array}{rrrr}\n",
       "0 & -1 & -1 & 1 \\\\\n",
       "1 & 1 & 0 & 0 \\\\\n",
       "1 & 1 & 1 & 0 \\\\\n",
       "0 & 0 & -1 & 1\n",
       "\\end{array}\\right), \\left(\\begin{array}{rrrr}\n",
       "2 & 0 & -1 & 2 \\\\\n",
       "-1 & 0 & 0 & -1 \\\\\n",
       "1 & 1 & 1 & 0 \\\\\n",
       "-1 & 0 & 0 & 0\n",
       "\\end{array}\\right), \\left(\\begin{array}{rrrr}\n",
       "4 & 1 & -1 & 3 \\\\\n",
       "-3 & -1 & 0 & -2 \\\\\n",
       "1 & 1 & 1 & 0 \\\\\n",
       "-2 & 0 & 1 & -1\n",
       "\\end{array}\\right), \\left(\\begin{array}{rrrr}\n",
       "6 & 2 & -1 & 4 \\\\\n",
       "-5 & -2 & 0 & -3 \\\\\n",
       "1 & 1 & 1 & 0 \\\\\n",
       "-3 & 0 & 2 & -2\n",
       "\\end{array}\\right), \\left(\\begin{array}{rrrr}\n",
       "8 & 3 & -1 & 5 \\\\\n",
       "-7 & -3 & 0 & -4 \\\\\n",
       "1 & 1 & 1 & 0 \\\\\n",
       "-4 & 0 & 3 & -3\n",
       "\\end{array}\\right), \\left(\\begin{array}{rrrr}\n",
       "10 & 4 & -1 & 6 \\\\\n",
       "-9 & -4 & 0 & -5 \\\\\n",
       "1 & 1 & 1 & 0 \\\\\n",
       "-5 & 0 & 4 & -4\n",
       "\\end{array}\\right)\\right]\\)</html>"
      ],
      "text/latex": [
       "$\\displaystyle \\left[\\left(\\begin{array}{rrrr}\n",
       "-4 & -3 & -1 & -1 \\\\\n",
       "5 & 3 & 0 & 2 \\\\\n",
       "1 & 1 & 1 & 0 \\\\\n",
       "2 & 0 & -3 & 3\n",
       "\\end{array}\\right), \\left(\\begin{array}{rrrr}\n",
       "-2 & -2 & -1 & 0 \\\\\n",
       "3 & 2 & 0 & 1 \\\\\n",
       "1 & 1 & 1 & 0 \\\\\n",
       "1 & 0 & -2 & 2\n",
       "\\end{array}\\right), \\left(\\begin{array}{rrrr}\n",
       "0 & -1 & -1 & 1 \\\\\n",
       "1 & 1 & 0 & 0 \\\\\n",
       "1 & 1 & 1 & 0 \\\\\n",
       "0 & 0 & -1 & 1\n",
       "\\end{array}\\right), \\left(\\begin{array}{rrrr}\n",
       "2 & 0 & -1 & 2 \\\\\n",
       "-1 & 0 & 0 & -1 \\\\\n",
       "1 & 1 & 1 & 0 \\\\\n",
       "-1 & 0 & 0 & 0\n",
       "\\end{array}\\right), \\left(\\begin{array}{rrrr}\n",
       "4 & 1 & -1 & 3 \\\\\n",
       "-3 & -1 & 0 & -2 \\\\\n",
       "1 & 1 & 1 & 0 \\\\\n",
       "-2 & 0 & 1 & -1\n",
       "\\end{array}\\right), \\left(\\begin{array}{rrrr}\n",
       "6 & 2 & -1 & 4 \\\\\n",
       "-5 & -2 & 0 & -3 \\\\\n",
       "1 & 1 & 1 & 0 \\\\\n",
       "-3 & 0 & 2 & -2\n",
       "\\end{array}\\right), \\left(\\begin{array}{rrrr}\n",
       "8 & 3 & -1 & 5 \\\\\n",
       "-7 & -3 & 0 & -4 \\\\\n",
       "1 & 1 & 1 & 0 \\\\\n",
       "-4 & 0 & 3 & -3\n",
       "\\end{array}\\right), \\left(\\begin{array}{rrrr}\n",
       "10 & 4 & -1 & 6 \\\\\n",
       "-9 & -4 & 0 & -5 \\\\\n",
       "1 & 1 & 1 & 0 \\\\\n",
       "-5 & 0 & 4 & -4\n",
       "\\end{array}\\right)\\right]$"
      ],
      "text/plain": [
       "[\n",
       "[-4 -3 -1 -1]  [-2 -2 -1  0]  [ 0 -1 -1  1]  [ 2  0 -1  2]\n",
       "[ 5  3  0  2]  [ 3  2  0  1]  [ 1  1  0  0]  [-1  0  0 -1]\n",
       "[ 1  1  1  0]  [ 1  1  1  0]  [ 1  1  1  0]  [ 1  1  1  0]\n",
       "[ 2  0 -3  3], [ 1  0 -2  2], [ 0  0 -1  1], [-1  0  0  0],\n",
       "\n",
       "[ 4  1 -1  3]  [ 6  2 -1  4]  [ 8  3 -1  5]  [10  4 -1  6]\n",
       "[-3 -1  0 -2]  [-5 -2  0 -3]  [-7 -3  0 -4]  [-9 -4  0 -5]\n",
       "[ 1  1  1  0]  [ 1  1  1  0]  [ 1  1  1  0]  [ 1  1  1  0]\n",
       "[-2  0  1 -1], [-3  0  2 -2], [-4  0  3 -3], [-5  0  4 -4]\n",
       "]"
      ]
     },
     "metadata": {},
     "output_type": "display_data"
    },
    {
     "data": {
      "text/html": [
       "<html>\\(\\displaystyle \\verb|{t^4|\\verb| |\\verb|-|\\verb| |\\verb|3*t^3|\\verb| |\\verb|+|\\verb| |\\verb|5*t^2|\\verb| |\\verb|-|\\verb| |\\verb|3*t|\\verb| |\\verb|+|\\verb| |\\verb|1}|\\)</html>"
      ],
      "text/latex": [
       "$\\displaystyle \\verb|{t^4|\\verb| |\\verb|-|\\verb| |\\verb|3*t^3|\\verb| |\\verb|+|\\verb| |\\verb|5*t^2|\\verb| |\\verb|-|\\verb| |\\verb|3*t|\\verb| |\\verb|+|\\verb| |\\verb|1}|$"
      ],
      "text/plain": [
       "{t^4 - 3*t^3 + 5*t^2 - 3*t + 1}"
      ]
     },
     "metadata": {},
     "output_type": "display_data"
    },
    {
     "data": {
      "text/html": [
       "<html>\\(\\displaystyle \\left[\\left(49,\\,-11 \\alpha^{3} + 32 \\alpha^{2} - 61 \\alpha - 26,\\,17 \\alpha^{3} - 45 \\alpha^{2} + 72 \\alpha - 40,\\,16 \\alpha^{3} - 51 \\alpha^{2} + 62 \\alpha - 78\\right), \\left(7,\\,-2 \\alpha^{3} + 5 \\alpha^{2} - 11 \\alpha - 3,\\,4 \\alpha^{3} - 10 \\alpha^{2} + 15 \\alpha - 8,\\,3 \\alpha^{3} - 11 \\alpha^{2} + 13 \\alpha - 13\\right), \\left(1,\\,-\\alpha^{3} + 2 \\alpha^{2} - 3 \\alpha,\\,\\alpha^{3} - 3 \\alpha^{2} + 4 \\alpha - 2,\\,-\\alpha^{2} + 2 \\alpha - 2\\right), \\left(1,\\,-2 \\alpha^{3} + 5 \\alpha^{2} - 7 \\alpha + 1,\\,2 \\alpha^{3} - 6 \\alpha^{2} + 9 \\alpha - 4,\\,\\alpha^{3} - 3 \\alpha^{2} + 5 \\alpha - 3\\right), \\left(1,\\,\\alpha^{3} - 4 \\alpha^{2} + 7 \\alpha - 6,\\,\\alpha^{3} - \\alpha^{2} + 4,\\,\\alpha^{2} - 2 \\alpha + 2\\right), \\left(19,\\,14 \\alpha^{3} - 43 \\alpha^{2} + 69 \\alpha - 51,\\,-8 \\alpha^{3} + 30 \\alpha^{2} - 53 \\alpha + 40,\\,-9 \\alpha^{3} + 29 \\alpha^{2} - 43 \\alpha + 7\\right), \\left(97,\\,43 \\alpha^{3} - 130 \\alpha^{2} + 209 \\alpha - 188,\\,-31 \\alpha^{3} + 105 \\alpha^{2} - 180 \\alpha + 122,\\,-32 \\alpha^{3} + 99 \\alpha^{2} - 142 \\alpha - 18\\right), \\left(301,\\,94 \\alpha^{3} - 283 \\alpha^{2} + 457 \\alpha - 495,\\,-74 \\alpha^{3} + 242 \\alpha^{2} - 411 \\alpha + 268,\\,-75 \\alpha^{3} + 229 \\alpha^{2} - 323 \\alpha - 127\\right)\\right]\\)</html>"
      ],
      "text/latex": [
       "$\\displaystyle \\left[\\left(49,\\,-11 \\alpha^{3} + 32 \\alpha^{2} - 61 \\alpha - 26,\\,17 \\alpha^{3} - 45 \\alpha^{2} + 72 \\alpha - 40,\\,16 \\alpha^{3} - 51 \\alpha^{2} + 62 \\alpha - 78\\right), \\left(7,\\,-2 \\alpha^{3} + 5 \\alpha^{2} - 11 \\alpha - 3,\\,4 \\alpha^{3} - 10 \\alpha^{2} + 15 \\alpha - 8,\\,3 \\alpha^{3} - 11 \\alpha^{2} + 13 \\alpha - 13\\right), \\left(1,\\,-\\alpha^{3} + 2 \\alpha^{2} - 3 \\alpha,\\,\\alpha^{3} - 3 \\alpha^{2} + 4 \\alpha - 2,\\,-\\alpha^{2} + 2 \\alpha - 2\\right), \\left(1,\\,-2 \\alpha^{3} + 5 \\alpha^{2} - 7 \\alpha + 1,\\,2 \\alpha^{3} - 6 \\alpha^{2} + 9 \\alpha - 4,\\,\\alpha^{3} - 3 \\alpha^{2} + 5 \\alpha - 3\\right), \\left(1,\\,\\alpha^{3} - 4 \\alpha^{2} + 7 \\alpha - 6,\\,\\alpha^{3} - \\alpha^{2} + 4,\\,\\alpha^{2} - 2 \\alpha + 2\\right), \\left(19,\\,14 \\alpha^{3} - 43 \\alpha^{2} + 69 \\alpha - 51,\\,-8 \\alpha^{3} + 30 \\alpha^{2} - 53 \\alpha + 40,\\,-9 \\alpha^{3} + 29 \\alpha^{2} - 43 \\alpha + 7\\right), \\left(97,\\,43 \\alpha^{3} - 130 \\alpha^{2} + 209 \\alpha - 188,\\,-31 \\alpha^{3} + 105 \\alpha^{2} - 180 \\alpha + 122,\\,-32 \\alpha^{3} + 99 \\alpha^{2} - 142 \\alpha - 18\\right), \\left(301,\\,94 \\alpha^{3} - 283 \\alpha^{2} + 457 \\alpha - 495,\\,-74 \\alpha^{3} + 242 \\alpha^{2} - 411 \\alpha + 268,\\,-75 \\alpha^{3} + 229 \\alpha^{2} - 323 \\alpha - 127\\right)\\right]$"
      ],
      "text/plain": [
       "[(49, -11*alpha^3 + 32*alpha^2 - 61*alpha - 26, 17*alpha^3 - 45*alpha^2 + 72*alpha - 40, 16*alpha^3 - 51*alpha^2 + 62*alpha - 78),\n",
       " (7, -2*alpha^3 + 5*alpha^2 - 11*alpha - 3, 4*alpha^3 - 10*alpha^2 + 15*alpha - 8, 3*alpha^3 - 11*alpha^2 + 13*alpha - 13),\n",
       " (1, -alpha^3 + 2*alpha^2 - 3*alpha, alpha^3 - 3*alpha^2 + 4*alpha - 2, -alpha^2 + 2*alpha - 2),\n",
       " (1, -2*alpha^3 + 5*alpha^2 - 7*alpha + 1, 2*alpha^3 - 6*alpha^2 + 9*alpha - 4, alpha^3 - 3*alpha^2 + 5*alpha - 3),\n",
       " (1, alpha^3 - 4*alpha^2 + 7*alpha - 6, alpha^3 - alpha^2 + 4, alpha^2 - 2*alpha + 2),\n",
       " (19, 14*alpha^3 - 43*alpha^2 + 69*alpha - 51, -8*alpha^3 + 30*alpha^2 - 53*alpha + 40, -9*alpha^3 + 29*alpha^2 - 43*alpha + 7),\n",
       " (97, 43*alpha^3 - 130*alpha^2 + 209*alpha - 188, -31*alpha^3 + 105*alpha^2 - 180*alpha + 122, -32*alpha^3 + 99*alpha^2 - 142*alpha - 18),\n",
       " (301, 94*alpha^3 - 283*alpha^2 + 457*alpha - 495, -74*alpha^3 + 242*alpha^2 - 411*alpha + 268, -75*alpha^3 + 229*alpha^2 - 323*alpha - 127)]"
      ]
     },
     "metadata": {},
     "output_type": "display_data"
    },
    {
     "data": {
      "text/html": [
       "<html>\\(\\displaystyle \\left[147 \\alpha^{3} - 441 \\alpha^{2} + 588 \\alpha - 539, 14 \\alpha^{3} - 42 \\alpha^{2} + 56 \\alpha - 35, \\alpha^{3} - 3 \\alpha^{2} + 4 \\alpha - 1, 1, -\\alpha^{3} + 3 \\alpha^{2} - 4 \\alpha + 1, -38 \\alpha^{3} + 114 \\alpha^{2} - 152 \\alpha - 19, -291 \\alpha^{3} + 873 \\alpha^{2} - 1164 \\alpha - 485, -1204 \\alpha^{3} + 3612 \\alpha^{2} - 4816 \\alpha - 3311\\right]\\)</html>"
      ],
      "text/latex": [
       "$\\displaystyle \\left[147 \\alpha^{3} - 441 \\alpha^{2} + 588 \\alpha - 539, 14 \\alpha^{3} - 42 \\alpha^{2} + 56 \\alpha - 35, \\alpha^{3} - 3 \\alpha^{2} + 4 \\alpha - 1, 1, -\\alpha^{3} + 3 \\alpha^{2} - 4 \\alpha + 1, -38 \\alpha^{3} + 114 \\alpha^{2} - 152 \\alpha - 19, -291 \\alpha^{3} + 873 \\alpha^{2} - 1164 \\alpha - 485, -1204 \\alpha^{3} + 3612 \\alpha^{2} - 4816 \\alpha - 3311\\right]$"
      ],
      "text/plain": [
       "[147*alpha^3 - 441*alpha^2 + 588*alpha - 539,\n",
       " 14*alpha^3 - 42*alpha^2 + 56*alpha - 35,\n",
       " alpha^3 - 3*alpha^2 + 4*alpha - 1,\n",
       " 1,\n",
       " -alpha^3 + 3*alpha^2 - 4*alpha + 1,\n",
       " -38*alpha^3 + 114*alpha^2 - 152*alpha - 19,\n",
       " -291*alpha^3 + 873*alpha^2 - 1164*alpha - 485,\n",
       " -1204*alpha^3 + 3612*alpha^2 - 4816*alpha - 3311]"
      ]
     },
     "metadata": {},
     "output_type": "display_data"
    }
   ],
   "source": [
    "R = 5\n",
    "monodromy_list = [A(phi, n)+m63 for n in range(-2,R+1)] #[m63+('dcFbFafBfCD')*n+('c'*n) for n in range(R)] \n",
    "\n",
    "ideal_list = [ideal(m) for m in monodromy_list]\n",
    "matarr = [i.matrix for i in ideal_list]; display(matarr)\n",
    "pset = set([i.char_poly for i in ideal_list]); display(pset)\n",
    "varr = [i.eigen_vector for i in ideal_list]; display(varr)\n",
    "marr = [i.generator for i in ideal_list]; display(marr)"
   ]
  },
  {
   "cell_type": "code",
   "execution_count": 12,
   "id": "28b67ab1-510c-43f1-83d9-fdf7c865da18",
   "metadata": {},
   "outputs": [
    {
     "data": {
      "text/html": [
       "<html>\\(\\displaystyle \\left(1, \\left(1,\\,\\alpha^{3} - 2 \\alpha^{2} + 3 \\alpha - 1,\\,\\alpha^{3} - 3 \\alpha^{2} + 4 \\alpha - 2,\\,-\\alpha^{3} + 4 \\alpha^{2} - 6 \\alpha + 4\\right)\\right)\\)</html>"
      ],
      "text/latex": [
       "$\\displaystyle \\left(1, \\left(1,\\,\\alpha^{3} - 2 \\alpha^{2} + 3 \\alpha - 1,\\,\\alpha^{3} - 3 \\alpha^{2} + 4 \\alpha - 2,\\,-\\alpha^{3} + 4 \\alpha^{2} - 6 \\alpha + 4\\right)\\right)$"
      ],
      "text/plain": [
       "(1,\n",
       " (1, alpha^3 - 2*alpha^2 + 3*alpha - 1, alpha^3 - 3*alpha^2 + 4*alpha - 2, -alpha^3 + 4*alpha^2 - 6*alpha + 4))"
      ]
     },
     "execution_count": 12,
     "metadata": {},
     "output_type": "execute_result"
    }
   ],
   "source": [
    "vec = varr[0]\n",
    "(vec[1].denominator(), (vec[1].denominator())*vec)"
   ]
  },
  {
   "cell_type": "code",
   "execution_count": 15,
   "id": "4bbf5c83-4b5f-439a-afd0-0f79be82f95b",
   "metadata": {},
   "outputs": [
    {
     "data": {
      "text/html": [
       "<html>\\(\\displaystyle -\\alpha^{3} + 3 \\alpha^{2} - 4 \\alpha + 1\\)</html>"
      ],
      "text/latex": [
       "$\\displaystyle -\\alpha^{3} + 3 \\alpha^{2} - 4 \\alpha + 1$"
      ],
      "text/plain": [
       "-alpha^3 + 3*alpha^2 - 4*alpha + 1"
      ]
     },
     "metadata": {},
     "output_type": "display_data"
    },
    {
     "data": {
      "text/html": [
       "<html>\\(\\displaystyle -\\alpha^{3} + 3 \\alpha^{2} - 4 \\alpha + 1\\)</html>"
      ],
      "text/latex": [
       "$\\displaystyle -\\alpha^{3} + 3 \\alpha^{2} - 4 \\alpha + 1$"
      ],
      "text/plain": [
       "-alpha^3 + 3*alpha^2 - 4*alpha + 1"
      ]
     },
     "metadata": {},
     "output_type": "display_data"
    },
    {
     "name": "stdout",
     "output_type": "stream",
     "text": [
      "z = -alpha^3 + 3*alpha^2 - 4*alpha + 1, c = 1,  c=tau(c)?--> True\n",
      "[alpha^3 - 3*alpha^2 + 4*alpha - 1, -alpha^3 + 2*alpha^2 - 3*alpha]\n"
     ]
    }
   ],
   "source": [
    "i = ideal_list[1]\n",
    "\n",
    "z,w = marr[0], marr[1]; display(z,w)\n",
    "c = z/w\n",
    "print(f\"{z = }, {c = },  c=tau(c)?-->\", c==i.tau(c))\n",
    "\n",
    "conjugate_check(monodromy_list[0], monodromy_list[4], rng=1000)\n",
    "print(i.UnitGroup.gens_values())\n",
    "#c == u*(i.tau(u))"
   ]
  },
  {
   "cell_type": "code",
   "execution_count": 87,
   "id": "053dff00-3635-47b5-9075-4a29bfe02f8f",
   "metadata": {},
   "outputs": [
    {
     "name": "stdout",
     "output_type": "stream",
     "text": [
      "整数基: [1, alpha, alpha^2, alpha^3]\n",
      "類数: 1\n",
      "[alpha^3 - 3*alpha^2 + 4*alpha - 1, -alpha^3 + 2*alpha^2 - 3*alpha]\n"
     ]
    }
   ],
   "source": [
    "OK = i.field.ring_of_integers()\n",
    "print(\"整数基:\", OK.basis())\n",
    "print(\"類数:\", OK.class_number())\n",
    "\n",
    "U = i.UnitGroup.gens_values()\n",
    "print(U)"
   ]
  },
  {
   "cell_type": "code",
   "execution_count": 88,
   "id": "dec1ccf9-7ed3-41b1-8b28-a1823b89f5da",
   "metadata": {},
   "outputs": [
    {
     "data": {
      "text/html": [
       "<html>\\(\\displaystyle \\left[\\left(\\begin{array}{rrrr}\n",
       "1 & 1 & -2 & -1 \\\\\n",
       "-1 & 0 & 2 & 1 \\\\\n",
       "0 & -1 & 1 & 0 \\\\\n",
       "0 & 1 & 1 & 1\n",
       "\\end{array}\\right), \\left(\\begin{array}{rrrr}\n",
       "1 & 1 & -1 & -1 \\\\\n",
       "-1 & 0 & 1 & 1 \\\\\n",
       "0 & -1 & 1 & 0 \\\\\n",
       "0 & 0 & 1 & 1\n",
       "\\end{array}\\right)\\right]\\)</html>"
      ],
      "text/latex": [
       "$\\displaystyle \\left[\\left(\\begin{array}{rrrr}\n",
       "1 & 1 & -2 & -1 \\\\\n",
       "-1 & 0 & 2 & 1 \\\\\n",
       "0 & -1 & 1 & 0 \\\\\n",
       "0 & 1 & 1 & 1\n",
       "\\end{array}\\right), \\left(\\begin{array}{rrrr}\n",
       "1 & 1 & -1 & -1 \\\\\n",
       "-1 & 0 & 1 & 1 \\\\\n",
       "0 & -1 & 1 & 0 \\\\\n",
       "0 & 0 & 1 & 1\n",
       "\\end{array}\\right)\\right]$"
      ],
      "text/plain": [
       "[\n",
       "[ 1  1 -2 -1]  [ 1  1 -1 -1]\n",
       "[-1  0  2  1]  [-1  0  1  1]\n",
       "[ 0 -1  1  0]  [ 0 -1  1  0]\n",
       "[ 0  1  1  1], [ 0  0  1  1]\n",
       "]"
      ]
     },
     "metadata": {},
     "output_type": "display_data"
    },
    {
     "data": {
      "text/html": [
       "<html>\\(\\displaystyle \\left(1,\\,\\alpha^{3} - 2 \\alpha^{2} + 3 \\alpha - 1,\\,\\alpha^{3} - 3 \\alpha^{2} + 4 \\alpha - 2,\\,-\\alpha^{3} + 4 \\alpha^{2} - 6 \\alpha + 4\\right)\\)</html>"
      ],
      "text/latex": [
       "$\\displaystyle \\left(1,\\,\\alpha^{3} - 2 \\alpha^{2} + 3 \\alpha - 1,\\,\\alpha^{3} - 3 \\alpha^{2} + 4 \\alpha - 2,\\,-\\alpha^{3} + 4 \\alpha^{2} - 6 \\alpha + 4\\right)$"
      ],
      "text/plain": [
       "(1, alpha^3 - 2*alpha^2 + 3*alpha - 1, alpha^3 - 3*alpha^2 + 4*alpha - 2, -alpha^3 + 4*alpha^2 - 6*alpha + 4)"
      ]
     },
     "metadata": {},
     "output_type": "display_data"
    },
    {
     "data": {
      "text/html": [
       "<html>\\(\\displaystyle \\mathrm{True}\\)</html>"
      ],
      "text/latex": [
       "$\\displaystyle \\mathrm{True}$"
      ],
      "text/plain": [
       "True"
      ]
     },
     "metadata": {},
     "output_type": "display_data"
    },
    {
     "data": {
      "text/html": [
       "<html>\\(\\displaystyle \\left(1,\\,\\alpha^{3} - 2 \\alpha^{2} + 3 \\alpha - 1,\\,\\alpha^{3} - 3 \\alpha^{2} + 4 \\alpha - 2,\\,\\alpha^{2} - 2 \\alpha + 2\\right)\\)</html>"
      ],
      "text/latex": [
       "$\\displaystyle \\left(1,\\,\\alpha^{3} - 2 \\alpha^{2} + 3 \\alpha - 1,\\,\\alpha^{3} - 3 \\alpha^{2} + 4 \\alpha - 2,\\,\\alpha^{2} - 2 \\alpha + 2\\right)$"
      ],
      "text/plain": [
       "(1, alpha^3 - 2*alpha^2 + 3*alpha - 1, alpha^3 - 3*alpha^2 + 4*alpha - 2, alpha^2 - 2*alpha + 2)"
      ]
     },
     "metadata": {},
     "output_type": "display_data"
    },
    {
     "data": {
      "text/html": [
       "<html>\\(\\displaystyle \\mathrm{True}\\)</html>"
      ],
      "text/latex": [
       "$\\displaystyle \\mathrm{True}$"
      ],
      "text/plain": [
       "True"
      ]
     },
     "metadata": {},
     "output_type": "display_data"
    }
   ],
   "source": [
    "M, N = matarr[:2] #(i.matrix for i in ideal_list); \n",
    "display([M, N])\n",
    "v, w = varr[:2]\n",
    "\n",
    "display(v, (i.root)*v == M*v)\n",
    "display(w, (i.root)*w == N*w)"
   ]
  },
  {
   "cell_type": "code",
   "execution_count": null,
   "id": "6ff1f606-bca2-4054-8f7c-738fb2b4b2fa",
   "metadata": {},
   "outputs": [],
   "source": []
  },
  {
   "cell_type": "code",
   "execution_count": 35,
   "id": "00ef9847-33df-4525-b3c5-c5278ea4d499",
   "metadata": {},
   "outputs": [
    {
     "data": {
      "text/html": [
       "<html>\\(\\displaystyle \\left(\\left(1,\\,\\alpha,\\,\\alpha^{2},\\,\\alpha^{3}\\right), \\left(\\begin{array}{rrrr}\n",
       "1 & 0 & 0 & 0 \\\\\n",
       "0 & 1 & -1 & -1 \\\\\n",
       "-2 & 2 & -2 & -1 \\\\\n",
       "-4 & 2 & -1 & 1\n",
       "\\end{array}\\right)\\right)\\)</html>"
      ],
      "text/latex": [
       "$\\displaystyle \\left(\\left(1,\\,\\alpha,\\,\\alpha^{2},\\,\\alpha^{3}\\right), \\left(\\begin{array}{rrrr}\n",
       "1 & 0 & 0 & 0 \\\\\n",
       "0 & 1 & -1 & -1 \\\\\n",
       "-2 & 2 & -2 & -1 \\\\\n",
       "-4 & 2 & -1 & 1\n",
       "\\end{array}\\right)\\right)$"
      ],
      "text/plain": [
       "(\n",
       "                              [ 1  0  0  0]\n",
       "                              [ 0  1 -1 -1]\n",
       "                              [-2  2 -2 -1]\n",
       "(1, alpha, alpha^2, alpha^3), [-4  2 -1  1]\n",
       ")"
      ]
     },
     "execution_count": 35,
     "metadata": {},
     "output_type": "execute_result"
    }
   ],
   "source": [
    "T = matrix([[1,0,0,0],[0,1,0,2],[0,0,1,3],[0,0,0,1]])\n",
    "T = (matrix([[1,0,0,0],[0,1,-1,0],[0,0,0,1],[0,0,1,0]]))*T\n",
    "T = (matrix([[1,0,0,0],[0,1,0,0],[-2,2,1,0],[-4,2,0,1]]))*T\n",
    "T*v, T"
   ]
  },
  {
   "cell_type": "code",
   "execution_count": 57,
   "id": "2a3ef511-6344-47a6-bc21-cea6bf2ef4cb",
   "metadata": {},
   "outputs": [
    {
     "data": {
      "text/html": [
       "<html>\\(\\displaystyle \\left(\\left(7,\\,7 \\alpha,\\,7 \\alpha^{2},\\,\\alpha^{3} + \\alpha^{2} + 2 \\alpha - 2\\right), \\left(\\begin{array}{rrrr}\n",
       "1 & 0 & 0 & 0 \\\\\n",
       "-2 & 2 & -1 & 0 \\\\\n",
       "-3 & 1 & 1 & 2 \\\\\n",
       "-1 & 0 & 1 & 1\n",
       "\\end{array}\\right)\\right)\\)</html>"
      ],
      "text/latex": [
       "$\\displaystyle \\left(\\left(7,\\,7 \\alpha,\\,7 \\alpha^{2},\\,\\alpha^{3} + \\alpha^{2} + 2 \\alpha - 2\\right), \\left(\\begin{array}{rrrr}\n",
       "1 & 0 & 0 & 0 \\\\\n",
       "-2 & 2 & -1 & 0 \\\\\n",
       "-3 & 1 & 1 & 2 \\\\\n",
       "-1 & 0 & 1 & 1\n",
       "\\end{array}\\right)\\right)$"
      ],
      "text/plain": [
       "(\n",
       "(7, 7*alpha, 7*alpha^2, alpha^3 + alpha^2 + 2*alpha - 2),\n",
       "\n",
       "[ 1  0  0  0]\n",
       "[-2  2 -1  0]\n",
       "[-3  1  1  2]\n",
       "[-1  0  1  1]\n",
       ")"
      ]
     },
     "execution_count": 57,
     "metadata": {},
     "output_type": "execute_result"
    }
   ],
   "source": [
    "u = 1\n",
    "\n",
    "S = matrix([[1,0,0,0],[0,1,0,0],[0,-2,1,0],[0,-1,0,-1]])\n",
    "S = (matrix([[1,0,0,0],[0,1,0,-2],[0,0,1,0],[0,0,0,1]]))*S\n",
    "S = (matrix([[1,0,0,0],[0,0,-1,0],[0,1,0,0],[0,0,0,1]]))*S\n",
    "S = (matrix([[1,0,0,0],[-2,1,0,0],[0,0,1,0],[0,0,0,1]]))*S\n",
    "S = (matrix([[1,0,0,0],[0,1,0,0],[-5,-1,1,0],[2,0,0,1]]))*S\n",
    "S = (matrix([[1,0,0,0],[0,1,0,0],[0,0,1,0],[0,0,1,1]]))*S\n",
    "S*(u*w), S"
   ]
  },
  {
   "cell_type": "code",
   "execution_count": 33,
   "id": "2cbf85e2-0182-430f-8eb5-9b359e29c158",
   "metadata": {},
   "outputs": [
    {
     "data": {
      "text/html": [
       "<html>\\(\\displaystyle \\left(\\begin{array}{rrrr}\n",
       "0 & -1 & 0 & 2 \\\\\n",
       "1 & 0 & 0 & -1 \\\\\n",
       "0 & 0 & 0 & -1 \\\\\n",
       "2 & -1 & 1 & 2\n",
       "\\end{array}\\right)\\)</html>"
      ],
      "text/latex": [
       "$\\displaystyle \\left(\\begin{array}{rrrr}\n",
       "0 & -1 & 0 & 2 \\\\\n",
       "1 & 0 & 0 & -1 \\\\\n",
       "0 & 0 & 0 & -1 \\\\\n",
       "2 & -1 & 1 & 2\n",
       "\\end{array}\\right)$"
      ],
      "text/plain": [
       "[ 0 -1  0  2]\n",
       "[ 1  0  0 -1]\n",
       "[ 0  0  0 -1]\n",
       "[ 2 -1  1  2]"
      ]
     },
     "metadata": {},
     "output_type": "display_data"
    },
    {
     "data": {
      "text/html": [
       "<html>\\(\\displaystyle \\left(\\begin{array}{rrrr}\n",
       "0 & 1 & -1 & 0 \\\\\n",
       "-1 & 0 & -2 & 0 \\\\\n",
       "-1 & -2 & 2 & 1 \\\\\n",
       "0 & 0 & -1 & 0\n",
       "\\end{array}\\right)\\)</html>"
      ],
      "text/latex": [
       "$\\displaystyle \\left(\\begin{array}{rrrr}\n",
       "0 & 1 & -1 & 0 \\\\\n",
       "-1 & 0 & -2 & 0 \\\\\n",
       "-1 & -2 & 2 & 1 \\\\\n",
       "0 & 0 & -1 & 0\n",
       "\\end{array}\\right)$"
      ],
      "text/plain": [
       "[ 0  1 -1  0]\n",
       "[-1  0 -2  0]\n",
       "[-1 -2  2  1]\n",
       "[ 0  0 -1  0]"
      ]
     },
     "metadata": {},
     "output_type": "display_data"
    },
    {
     "ename": "NameError",
     "evalue": "name 'u' is not defined",
     "output_type": "error",
     "traceback": [
      "\u001b[0;31m---------------------------------------------------------------------------\u001b[0m",
      "\u001b[0;31mNameError\u001b[0m                                 Traceback (most recent call last)",
      "Cell \u001b[0;32mIn[33], line 3\u001b[0m\n\u001b[1;32m      1\u001b[0m Q \u001b[38;5;241m=\u001b[39m (S\u001b[38;5;241m.\u001b[39minverse())\u001b[38;5;241m*\u001b[39mT; display(Q, Q\u001b[38;5;241m.\u001b[39minverse())\n\u001b[0;32m----> 3\u001b[0m Q\u001b[38;5;241m*\u001b[39mv \u001b[38;5;241m==\u001b[39m \u001b[43mu\u001b[49m\u001b[38;5;241m*\u001b[39mw\n",
      "\u001b[0;31mNameError\u001b[0m: name 'u' is not defined"
     ]
    }
   ],
   "source": [
    "Q = (S.inverse())*T; display(Q, Q.inverse())\n",
    "\n",
    "Q*v == u*w"
   ]
  },
  {
   "cell_type": "code",
   "execution_count": 34,
   "id": "1e4f6a1d-6f7d-47b6-a990-b94e3354b9ea",
   "metadata": {},
   "outputs": [
    {
     "data": {
      "text/html": [
       "<html>\\(\\displaystyle \\mathrm{False}\\)</html>"
      ],
      "text/latex": [
       "$\\displaystyle \\mathrm{False}$"
      ],
      "text/plain": [
       "False"
      ]
     },
     "execution_count": 34,
     "metadata": {},
     "output_type": "execute_result"
    }
   ],
   "source": [
    "Q*M*v == Q*(i.root)*v\n",
    "N*(Q*v) == (i.root)*(Q*v)"
   ]
  },
  {
   "cell_type": "code",
   "execution_count": 35,
   "id": "7f9fbd7d-5db8-4ae9-8488-7d50cfd8a98e",
   "metadata": {},
   "outputs": [
    {
     "data": {
      "text/html": [
       "<html>\\(\\displaystyle \\left(\\left(-\\alpha^{3} + 4 \\alpha^{2} - 7 \\alpha + 4,\\,-\\alpha^{2} + 2 \\alpha - 1,\\,-\\alpha^{2} + 2 \\alpha - 2,\\,\\alpha^{2} - 3 \\alpha + 4\\right), \\left(1,\\,\\frac{2}{7} \\alpha^{3} - \\frac{5}{7} \\alpha^{2} + \\frac{11}{7} \\alpha + \\frac{3}{7},\\,\\frac{4}{7} \\alpha^{3} - \\frac{10}{7} \\alpha^{2} + \\frac{15}{7} \\alpha - \\frac{8}{7},\\,-\\frac{3}{7} \\alpha^{3} + \\frac{11}{7} \\alpha^{2} - \\frac{13}{7} \\alpha + \\frac{13}{7}\\right)\\right)\\)</html>"
      ],
      "text/latex": [
       "$\\displaystyle \\left(\\left(-\\alpha^{3} + 4 \\alpha^{2} - 7 \\alpha + 4,\\,-\\alpha^{2} + 2 \\alpha - 1,\\,-\\alpha^{2} + 2 \\alpha - 2,\\,\\alpha^{2} - 3 \\alpha + 4\\right), \\left(1,\\,\\frac{2}{7} \\alpha^{3} - \\frac{5}{7} \\alpha^{2} + \\frac{11}{7} \\alpha + \\frac{3}{7},\\,\\frac{4}{7} \\alpha^{3} - \\frac{10}{7} \\alpha^{2} + \\frac{15}{7} \\alpha - \\frac{8}{7},\\,-\\frac{3}{7} \\alpha^{3} + \\frac{11}{7} \\alpha^{2} - \\frac{13}{7} \\alpha + \\frac{13}{7}\\right)\\right)$"
      ],
      "text/plain": [
       "((-alpha^3 + 4*alpha^2 - 7*alpha + 4, -alpha^2 + 2*alpha - 1, -alpha^2 + 2*alpha - 2, alpha^2 - 3*alpha + 4),\n",
       " (1, 2/7*alpha^3 - 5/7*alpha^2 + 11/7*alpha + 3/7, 4/7*alpha^3 - 10/7*alpha^2 + 15/7*alpha - 8/7, -3/7*alpha^3 + 11/7*alpha^2 - 13/7*alpha + 13/7))"
      ]
     },
     "execution_count": 35,
     "metadata": {},
     "output_type": "execute_result"
    }
   ],
   "source": [
    "Q*v, w\n",
    "#Q*v, ((Q*v)[0])*w\n",
    "#(Q*v)[0], u"
   ]
  },
  {
   "cell_type": "code",
   "execution_count": 36,
   "id": "c65bc5ab-b6d1-46b0-a780-e30e03501631",
   "metadata": {},
   "outputs": [
    {
     "data": {
      "text/html": [
       "<html>\\(\\displaystyle \\mathrm{False}\\)</html>"
      ],
      "text/latex": [
       "$\\displaystyle \\mathrm{False}$"
      ],
      "text/plain": [
       "False"
      ]
     },
     "execution_count": 36,
     "metadata": {},
     "output_type": "execute_result"
    }
   ],
   "source": [
    "Q*M == N*Q"
   ]
  },
  {
   "cell_type": "markdown",
   "id": "aa2dd467-c7c4-4a87-b81d-f9cabecbd84a",
   "metadata": {},
   "source": [
    "### Scratch"
   ]
  },
  {
   "cell_type": "code",
   "execution_count": 58,
   "id": "b445a5fc-16a2-4b57-934e-cb62fcef10e3",
   "metadata": {},
   "outputs": [
    {
     "name": "stdout",
     "output_type": "stream",
     "text": [
      "定義された拡大体: Number Field in a with defining polynomial x^2 - 2\n",
      "係数行列:\n",
      "[ a + 1      2]\n",
      "[     3 -a + 1]\n",
      "定数ベクトル: (3, a)\n",
      "解ベクトル: (5/7*a - 3/7, -1/7*a + 1)\n",
      "解x: 5/7*a - 3/7\n",
      "解y: -1/7*a + 1\n",
      "検算: A * (解) = (3, a)\n",
      "検算結果: True\n"
     ]
    }
   ],
   "source": [
    "# 1. 代数拡大体を定義\n",
    "# 拡大体の生成元を 'a' とする。これは x^2 - 2 = 0 の根\n",
    "K.<a> = NumberField(x^2 - 2, 'a')\n",
    "print(f\"定義された拡大体: {K}\")\n",
    "\n",
    "# 2. 係数行列と定数ベクトルを作成\n",
    "# 係数行列A\n",
    "A = matrix(K, [[1 + a, 2], [3, 1 - a]])\n",
    "print(f\"係数行列:\\n{A}\")\n",
    "\n",
    "# 定数ベクトルb\n",
    "b = vector(K, [3, a])\n",
    "print(f\"定数ベクトル: {b}\")\n",
    "\n",
    "# 3. 連立方程式 Ax=b を解く\n",
    "solution_vector = A.solve_right(b)\n",
    "\n",
    "# 結果の表示\n",
    "print(f\"解ベクトル: {solution_vector}\")\n",
    "print(f\"解x: {solution_vector[0]}\")\n",
    "print(f\"解y: {solution_vector[1]}\")\n",
    "\n",
    "# 検算\n",
    "check_result = A * solution_vector\n",
    "print(f\"検算: A * (解) = {check_result}\")\n",
    "print(f\"検算結果: {check_result == b}\")"
   ]
  }
 ],
 "metadata": {
  "kernelspec": {
   "display_name": "SageMath 10.7",
   "language": "sage",
   "name": "sagemath"
  },
  "language_info": {
   "codemirror_mode": {
    "name": "ipython",
    "version": 3
   },
   "file_extension": ".py",
   "mimetype": "text/x-python",
   "name": "python",
   "nbconvert_exporter": "python",
   "pygments_lexer": "ipython3",
   "version": "3.12.3"
  }
 },
 "nbformat": 4,
 "nbformat_minor": 5
}
