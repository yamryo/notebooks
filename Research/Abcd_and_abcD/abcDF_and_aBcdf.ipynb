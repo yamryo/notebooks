{
 "cells": [
  {
   "cell_type": "code",
   "execution_count": 1,
   "id": "43c7e941-950a-4130-b08d-dce5e24f19b0",
   "metadata": {},
   "outputs": [],
   "source": [
    "import sys; sys.path.append(\"../modules\")\n",
    "from Ideal_elm_pair_class import *\n",
    "%display latex"
   ]
  },
  {
   "cell_type": "code",
   "execution_count": 2,
   "id": "3c0d8389-3032-449f-8905-21b2f04f2a56",
   "metadata": {},
   "outputs": [
    {
     "name": "stdout",
     "output_type": "stream",
     "text": [
      "defining polynomial (t^4 - 3*t^2 + 1) must be irreducible ,  Char_poly = (t^2 - t - 1) * (t^2 + t - 1)\n"
     ]
    },
    {
     "ename": "AttributeError",
     "evalue": "'ideal' object has no attribute 'field'",
     "output_type": "error",
     "traceback": [
      "\u001b[31m---------------------------------------------------------------------------\u001b[39m",
      "\u001b[31mAttributeError\u001b[39m                            Traceback (most recent call last)",
      "\u001b[36mCell\u001b[39m\u001b[36m \u001b[39m\u001b[32mIn[2]\u001b[39m\u001b[32m, line 3\u001b[39m\n\u001b[32m      1\u001b[39m monodromy_list = [\u001b[33m'\u001b[39m\u001b[33mabbcdF\u001b[39m\u001b[33m'\u001b[39m, \u001b[33m'\u001b[39m\u001b[33mabAbcdF\u001b[39m\u001b[33m'\u001b[39m]\n\u001b[32m----> \u001b[39m\u001b[32m3\u001b[39m ideal_list = [\u001b[43mideal\u001b[49m\u001b[43m(\u001b[49m\u001b[43mm\u001b[49m\u001b[43m)\u001b[49m \u001b[38;5;28;01mfor\u001b[39;00m m \u001b[38;5;129;01min\u001b[39;00m monodromy_list]\n\u001b[32m      4\u001b[39m matarr = [i.matrix \u001b[38;5;28;01mfor\u001b[39;00m i \u001b[38;5;129;01min\u001b[39;00m ideal_list]; display(matarr)\n\u001b[32m      5\u001b[39m pset = \u001b[38;5;28mset\u001b[39m([i.char_poly \u001b[38;5;28;01mfor\u001b[39;00m i \u001b[38;5;129;01min\u001b[39;00m ideal_list]); display(pset)\n",
      "\u001b[36mFile \u001b[39m\u001b[32m~/workspace/Projects/notebooks/Research/Abcd_and_abcD/../modules/Ideal_elm_pair_class.py:48\u001b[39m, in \u001b[36mideal.__init__\u001b[39m\u001b[34m(self, monodromy)\u001b[39m\n\u001b[32m     46\u001b[39m             \u001b[38;5;28mprint\u001b[39m(e, \u001b[33mf\u001b[39m\u001b[33m\"\u001b[39m\u001b[33m,  Char_poly = \u001b[39m\u001b[38;5;132;01m{\u001b[39;00m\u001b[38;5;28mself\u001b[39m.char_poly.factor()\u001b[38;5;132;01m}\u001b[39;00m\u001b[33m\"\u001b[39m)\n\u001b[32m     47\u001b[39m \u001b[38;5;66;03m#        self.field = NumberField(self.char_poly, names=('alpha'))\u001b[39;00m\n\u001b[32m---> \u001b[39m\u001b[32m48\u001b[39m         \u001b[38;5;28mself\u001b[39m.UnitGroup = UnitGroup(\u001b[38;5;28;43mself\u001b[39;49m\u001b[43m.\u001b[49m\u001b[43mfield\u001b[49m)\n\u001b[32m     49\u001b[39m         \u001b[38;5;28mself\u001b[39m.root = \u001b[38;5;28mself\u001b[39m.field.gen()\n\u001b[32m     50\u001b[39m         \u001b[38;5;28mself\u001b[39m.tau = \u001b[38;5;28mself\u001b[39m.field.hom([\u001b[32m1\u001b[39m/(\u001b[38;5;28mself\u001b[39m.root)],\u001b[38;5;28mself\u001b[39m.field)\n",
      "\u001b[31mAttributeError\u001b[39m: 'ideal' object has no attribute 'field'"
     ]
    }
   ],
   "source": [
    "monodromy_list = ['abbcdF', 'abAbcdF']\n",
    "\n",
    "ideal_list = [ideal(m) for m in monodromy_list]\n",
    "matarr = [i.matrix for i in ideal_list]; display(matarr)\n",
    "pset = set([i.char_poly for i in ideal_list]); display(pset)\n",
    "varr = [i.eigen_vector for i in ideal_list]; display(varr)\n",
    "marr = [i.generator for i in ideal_list]; display(marr)"
   ]
  },
  {
   "cell_type": "code",
   "execution_count": null,
   "id": "4bbf5c83-4b5f-439a-afd0-0f79be82f95b",
   "metadata": {},
   "outputs": [],
   "source": [
    "i = ideal_list[0]\n",
    "\n",
    "z,w = marr\n",
    "c = z/w\n",
    "print(f\"{c = },  c=tau(c)?-->\", c==i.tau(c))\n",
    "\n",
    "u0, u1, u2 = i.UnitGroup.gens_values()\n",
    "display([u0, u1, u2])\n",
    "#print(i.equiv_rel(w))\n",
    "\n",
    "ids, u = conjugate_check(*monodromy_list)\n",
    "c == u*(i.tau(u))"
   ]
  },
  {
   "cell_type": "code",
   "execution_count": null,
   "id": "053dff00-3635-47b5-9075-4a29bfe02f8f",
   "metadata": {},
   "outputs": [],
   "source": [
    "OK = i.field.ring_of_integers()\n",
    "print(\"整数基:\", OK.basis())\n",
    "print(\"類数:\", OK.class_number())"
   ]
  },
  {
   "cell_type": "code",
   "execution_count": null,
   "id": "dec1ccf9-7ed3-41b1-8b28-a1823b89f5da",
   "metadata": {},
   "outputs": [],
   "source": [
    "M, N = (i.matrix for i in ideal_list); display([M, N])\n",
    "v, w = varr\n",
    "\n",
    "display(v, (i.root)*v == M*v)\n",
    "display(w, (i.root)*w == N*w)"
   ]
  },
  {
   "cell_type": "code",
   "execution_count": null,
   "id": "00ef9847-33df-4525-b3c5-c5278ea4d499",
   "metadata": {},
   "outputs": [],
   "source": [
    "T = matrix([[1,0,0,0],[0,0,0,1],[0,1,1,0],[0,1,0,-1]])\n",
    "T = (matrix([[1,0,0,0],[0,0,1,0],[0,1,-1,0],[0,0,0,1]]))*T\n",
    "T*v, T"
   ]
  },
  {
   "cell_type": "code",
   "execution_count": null,
   "id": "2a3ef511-6344-47a6-bc21-cea6bf2ef4cb",
   "metadata": {},
   "outputs": [],
   "source": [
    "S = matrix([[1,0,1,0],[0,1,-1,0],[0,0,1,0],[0,0,0,1]])\n",
    "S = (matrix([[-1,0,0,0],[0,1,0,0],[0,0,1,0],[-2,-2,0,1]]))*S\n",
    "S = (matrix([[0,0,0,1],[0,1,0,0],[0,0,-1,-1],[1,0,0,0]]))*S\n",
    "S = (matrix([[0,1,0,0],[1,0,0,0],[0,0,1,0],[0,0,0,1]]))*S\n",
    "S*(u*w), S"
   ]
  },
  {
   "cell_type": "code",
   "execution_count": null,
   "id": "2cbf85e2-0182-430f-8eb5-9b359e29c158",
   "metadata": {},
   "outputs": [],
   "source": [
    "Q = (S.inverse())*T; display(Q, Q.inverse())\n",
    "\n",
    "Q*v == u*w"
   ]
  },
  {
   "cell_type": "code",
   "execution_count": null,
   "id": "1e4f6a1d-6f7d-47b6-a990-b94e3354b9ea",
   "metadata": {},
   "outputs": [],
   "source": [
    "Q*M*v == Q*(i.root)*v\n",
    "N*(Q*v) == (i.root)*(Q*v)"
   ]
  },
  {
   "cell_type": "code",
   "execution_count": null,
   "id": "7f9fbd7d-5db8-4ae9-8488-7d50cfd8a98e",
   "metadata": {},
   "outputs": [],
   "source": [
    "Q*v, w\n",
    "#Q*v, ((Q*v)[0])*w\n",
    "#(Q*v)[0], u"
   ]
  },
  {
   "cell_type": "code",
   "execution_count": null,
   "id": "c65bc5ab-b6d1-46b0-a780-e30e03501631",
   "metadata": {},
   "outputs": [],
   "source": [
    "Q*M == N*Q"
   ]
  }
 ],
 "metadata": {
  "kernelspec": {
   "display_name": "SageMath 10.7",
   "language": "sage",
   "name": "sagemath-10.7"
  },
  "language_info": {
   "codemirror_mode": {
    "name": "ipython",
    "version": 3
   },
   "file_extension": ".py",
   "mimetype": "text/x-python",
   "name": "python",
   "nbconvert_exporter": "python",
   "pygments_lexer": "ipython3",
   "version": "3.13.3"
  }
 },
 "nbformat": 4,
 "nbformat_minor": 5
}
