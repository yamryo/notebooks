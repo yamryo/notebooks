{
 "cells": [
  {
   "cell_type": "markdown",
   "id": "b3a46c7e-7ec3-4dec-a8ce-dd1b9d632b7a",
   "metadata": {
    "id": "b3a46c7e-7ec3-4dec-a8ce-dd1b9d632b7a"
   },
   "source": [
    "# Mapping classes abcd and abaCDf are conjugate."
   ]
  },
  {
   "cell_type": "markdown",
   "id": "KPups8IJ6oYy",
   "metadata": {
    "id": "KPups8IJ6oYy",
    "jp-MarkdownHeadingCollapsed": true
   },
   "source": [
    "### Modules"
   ]
  },
  {
   "cell_type": "code",
   "execution_count": 1,
   "id": "14c7ea7c-d8c9-4a75-a3a9-ccde4f2bb0cc",
   "metadata": {
    "colab": {
     "base_uri": "https://localhost:8080/"
    },
    "executionInfo": {
     "elapsed": 19392,
     "status": "ok",
     "timestamp": 1726184657592,
     "user": {
      "displayName": "山本亮介",
      "userId": "01861936879830612877"
     },
     "user_tz": -540
    },
    "id": "14c7ea7c-d8c9-4a75-a3a9-ccde4f2bb0cc",
    "outputId": "365c2cd4-ee7f-4d2a-bc32-dd178eb49258",
    "scrolled": true
   },
   "outputs": [],
   "source": [
    "import sympy as sp\n",
    "sp.init_printing(use_latex='mathjax')"
   ]
  },
  {
   "cell_type": "markdown",
   "id": "19f91826-936d-4239-acc6-be3a860b7b0c",
   "metadata": {},
   "source": [
    "# 1. Conjugacy on the symplectic representation"
   ]
  },
  {
   "cell_type": "markdown",
   "id": "96f4c9a0-2842-42af-965d-eeb7cd6ba6ce",
   "metadata": {},
   "source": [
    "## 1.1. Symplectic representation"
   ]
  },
  {
   "cell_type": "markdown",
   "id": "a078c256-638f-4e2f-a3ba-41619752c88b",
   "metadata": {},
   "source": [
    "### Sp_repr class and functions"
   ]
  },
  {
   "cell_type": "code",
   "execution_count": 2,
   "id": "9643b74d-c877-4307-8c60-6517d53bda17",
   "metadata": {},
   "outputs": [],
   "source": [
    "class Sp_repr:\n",
    "    #--- 2x2 ---\n",
    "    I = sp.Identity(2)\n",
    "    O = sp.ZeroMatrix(2,2)\n",
    "    J, evJ = sp.MatrixSymbol('J',2,2), sp.Matrix([[0,1],[-1,0]])\n",
    "    #---\n",
    "    L, evL = sp.MatrixSymbol('L',2,2), sp.Matrix([[1,0],[1,1]])\n",
    "    K, evK = sp.MatrixSymbol('K',2,2), sp.Matrix([[0,-1],[0,0]])\n",
    "    #--- 4x4 ---\n",
    "    J4_bm = sp.BlockMatrix([[J, O], [O, J]])\n",
    "    J4 = J4_bm.subs([(J, evJ)]).as_explicit()\n",
    "    #---\n",
    "    CHR_2_MTX = {'a': sp.BlockMatrix([[L.inv(), O], [O, I]]),\n",
    "                 'b': sp.BlockMatrix([[L.transpose(), K], [K, L.transpose()]]),\n",
    "                 'c': sp.BlockMatrix([[I, O], [O, L.inv()]]),\n",
    "                 'd': sp.BlockMatrix([[I, O], [O, L.transpose()]]),\n",
    "                 'f': sp.BlockMatrix([[L.transpose(), O], [O,I]])}\n",
    "    #---\n",
    "    \n",
    "    def __init__(self, l:str):\n",
    "        self.loop = l\n",
    "        self.block_matrix = self.CHR_2_MTX.get(l) if l.islower() else self.CHR_2_MTX.get(l.lower()).inv()\n",
    "        self.matrix = self.block_matrix.subs([\n",
    "            (self.L, self.evL), (self.K, self.evK) #, (self.tl, self.evtl), (self.br, self.evbr)\n",
    "        ]).as_explicit()"
   ]
  },
  {
   "cell_type": "code",
   "execution_count": 3,
   "id": "9ba6b863-c8d5-48eb-8727-1a2ff412dc88",
   "metadata": {},
   "outputs": [
    {
     "data": {
      "text/plain": [
       "[True, True, True, True, True, True]"
      ]
     },
     "execution_count": 3,
     "metadata": {},
     "output_type": "execute_result"
    }
   ],
   "source": [
    "def is_Sp(M):\n",
    "    J = Sp_repr.J4\n",
    "    return M.transpose()*J*M == J\n",
    "    \n",
    "list(map(lambda l: is_Sp(Sp_repr(l).matrix), ['a','b','c','d','f', 'A'])) "
   ]
  },
  {
   "cell_type": "markdown",
   "id": "97674002-175d-4e57-bce2-da47612f4161",
   "metadata": {},
   "source": [
    "### The symplectic images of Abcd and abcD"
   ]
  },
  {
   "cell_type": "code",
   "execution_count": 4,
   "id": "6c291677-487a-4904-b792-48885a44ca3a",
   "metadata": {},
   "outputs": [
    {
     "data": {
      "text/latex": [
       "$\\displaystyle \\left( \\left[\\begin{matrix}1 & 0 & 0 & 0\\\\-1 & 1 & 0 & 0\\\\0 & 0 & 1 & 0\\\\0 & 0 & 0 & 1\\end{matrix}\\right], \\  \\left[\\begin{matrix}1 & 1 & 0 & -1\\\\0 & 1 & 0 & 0\\\\0 & -1 & 1 & 1\\\\0 & 0 & 0 & 1\\end{matrix}\\right], \\  \\left[\\begin{matrix}1 & 0 & 0 & 0\\\\0 & 1 & 0 & 0\\\\0 & 0 & 1 & 0\\\\0 & 0 & -1 & 1\\end{matrix}\\right], \\  \\left[\\begin{matrix}1 & 0 & 0 & 0\\\\0 & 1 & 0 & 0\\\\0 & 0 & 1 & 1\\\\0 & 0 & 0 & 1\\end{matrix}\\right], \\  \\left[\\begin{matrix}1 & 1 & 0 & 0\\\\0 & 1 & 0 & 0\\\\0 & 0 & 1 & 0\\\\0 & 0 & 0 & 1\\end{matrix}\\right], \\  \\left[\\begin{matrix}0 & 1 & 0 & 0\\\\-1 & 0 & 0 & 0\\\\0 & 0 & 0 & 1\\\\0 & 0 & -1 & 0\\end{matrix}\\right]\\right)$"
      ],
      "text/plain": [
       "(Matrix([\n",
       " [ 1, 0, 0, 0],\n",
       " [-1, 1, 0, 0],\n",
       " [ 0, 0, 1, 0],\n",
       " [ 0, 0, 0, 1]]),\n",
       " Matrix([\n",
       " [1,  1, 0, -1],\n",
       " [0,  1, 0,  0],\n",
       " [0, -1, 1,  1],\n",
       " [0,  0, 0,  1]]),\n",
       " Matrix([\n",
       " [1, 0,  0, 0],\n",
       " [0, 1,  0, 0],\n",
       " [0, 0,  1, 0],\n",
       " [0, 0, -1, 1]]),\n",
       " Matrix([\n",
       " [1, 0, 0, 0],\n",
       " [0, 1, 0, 0],\n",
       " [0, 0, 1, 1],\n",
       " [0, 0, 0, 1]]),\n",
       " Matrix([\n",
       " [1, 1, 0, 0],\n",
       " [0, 1, 0, 0],\n",
       " [0, 0, 1, 0],\n",
       " [0, 0, 0, 1]]),\n",
       " Matrix([\n",
       " [ 0, 1,  0, 0],\n",
       " [-1, 0,  0, 0],\n",
       " [ 0, 0,  0, 1],\n",
       " [ 0, 0, -1, 0]]))"
      ]
     },
     "execution_count": 4,
     "metadata": {},
     "output_type": "execute_result"
    }
   ],
   "source": [
    "a,b,c,d,f = tuple(map(lambda l: Sp_repr(l).matrix, ['a','b','c','d','f']))\n",
    "J4 = Sp_repr.J4\n",
    "\n",
    "a,b,c,d,f, J4 "
   ]
  },
  {
   "cell_type": "code",
   "execution_count": 5,
   "id": "40c501fe-2a41-43f8-862d-63c3b2d913ab",
   "metadata": {},
   "outputs": [
    {
     "data": {
      "text/latex": [
       "$\\displaystyle \\left( \\left[\\begin{matrix}1 & 0 & 0 & 0\\\\1 & 1 & 0 & 0\\\\0 & 0 & 1 & 0\\\\0 & 0 & 0 & 1\\end{matrix}\\right], \\  \\left[\\begin{matrix}1 & -1 & 0 & 1\\\\0 & 1 & 0 & 0\\\\0 & 1 & 1 & -1\\\\0 & 0 & 0 & 1\\end{matrix}\\right], \\  \\left[\\begin{matrix}1 & 0 & 0 & 0\\\\0 & 1 & 0 & 0\\\\0 & 0 & 1 & 0\\\\0 & 0 & 1 & 1\\end{matrix}\\right], \\  \\left[\\begin{matrix}1 & 0 & 0 & 0\\\\0 & 1 & 0 & 0\\\\0 & 0 & 1 & -1\\\\0 & 0 & 0 & 1\\end{matrix}\\right], \\  \\left[\\begin{matrix}1 & -1 & 0 & 0\\\\0 & 1 & 0 & 0\\\\0 & 0 & 1 & 0\\\\0 & 0 & 0 & 1\\end{matrix}\\right]\\right)$"
      ],
      "text/plain": [
       "(Matrix([\n",
       " [1, 0, 0, 0],\n",
       " [1, 1, 0, 0],\n",
       " [0, 0, 1, 0],\n",
       " [0, 0, 0, 1]]),\n",
       " Matrix([\n",
       " [1, -1, 0,  1],\n",
       " [0,  1, 0,  0],\n",
       " [0,  1, 1, -1],\n",
       " [0,  0, 0,  1]]),\n",
       " Matrix([\n",
       " [1, 0, 0, 0],\n",
       " [0, 1, 0, 0],\n",
       " [0, 0, 1, 0],\n",
       " [0, 0, 1, 1]]),\n",
       " Matrix([\n",
       " [1, 0, 0,  0],\n",
       " [0, 1, 0,  0],\n",
       " [0, 0, 1, -1],\n",
       " [0, 0, 0,  1]]),\n",
       " Matrix([\n",
       " [1, -1, 0, 0],\n",
       " [0,  1, 0, 0],\n",
       " [0,  0, 1, 0],\n",
       " [0,  0, 0, 1]]))"
      ]
     },
     "execution_count": 5,
     "metadata": {},
     "output_type": "execute_result"
    }
   ],
   "source": [
    "A, B, C, D, F = (k.inv() for k in [a,b,c,d,f])\n",
    "A,B,C,D,F"
   ]
  },
  {
   "cell_type": "code",
   "execution_count": 6,
   "id": "150bba78-67ca-4ba8-afaa-c490b2f85547",
   "metadata": {
    "scrolled": true
   },
   "outputs": [
    {
     "data": {
      "text/latex": [
       "$\\displaystyle \\left[\\begin{matrix}1 & 1 & 1 & 0\\\\-1 & 0 & -1 & 0\\\\0 & -1 & 0 & 1\\\\0 & 0 & -1 & 0\\end{matrix}\\right]$"
      ],
      "text/plain": [
       "Matrix([\n",
       "[ 1,  1,  1, 0],\n",
       "[-1,  0, -1, 0],\n",
       "[ 0, -1,  0, 1],\n",
       "[ 0,  0, -1, 0]])"
      ]
     },
     "metadata": {},
     "output_type": "display_data"
    },
    {
     "data": {
      "text/latex": [
       "$\\displaystyle \\left[\\begin{matrix}0 & 1 & -1 & 0\\\\-1 & -1 & 1 & 0\\\\1 & 0 & 2 & -1\\\\0 & 0 & 1 & 0\\end{matrix}\\right]$"
      ],
      "text/plain": [
       "Matrix([\n",
       "[ 0,  1, -1,  0],\n",
       "[-1, -1,  1,  0],\n",
       "[ 1,  0,  2, -1],\n",
       "[ 0,  0,  1,  0]])"
      ]
     },
     "metadata": {},
     "output_type": "display_data"
    },
    {
     "data": {
      "text/plain": [
       "[True, True]"
      ]
     },
     "execution_count": 6,
     "metadata": {},
     "output_type": "execute_result"
    }
   ],
   "source": [
    "M = sp.block_collapse(a*b*c*d)\n",
    "display(M)\n",
    "N = sp.block_collapse(a*b*a*C*D*f)\n",
    "display(N)\n",
    "\n",
    "list(map(is_Sp, [M, N]))"
   ]
  },
  {
   "cell_type": "markdown",
   "id": "4589ee1d-b557-4bdc-b8d3-ebf90bd9ddc3",
   "metadata": {},
   "source": [
    "### The charactoristic polynomial of M (and N)"
   ]
  },
  {
   "cell_type": "code",
   "execution_count": 7,
   "id": "c1c0f397-7ea8-4bb5-a1a0-adc4d4a81dd3",
   "metadata": {},
   "outputs": [
    {
     "data": {
      "text/latex": [
       "$\\displaystyle \\lambda^{4} - \\lambda^{3} + \\lambda^{2} - \\lambda + 1$"
      ],
      "text/plain": [
       "lambda**4 - lambda**3 + lambda**2 - lambda + 1"
      ]
     },
     "metadata": {},
     "output_type": "display_data"
    },
    {
     "name": "stdout",
     "output_type": "stream",
     "text": [
      "cp_M == cp_N ?   --> True\n"
     ]
    }
   ],
   "source": [
    "cp_M = M.charpoly().as_expr().factor()\n",
    "display(cp_M)\n",
    "\n",
    "cp_N = N.charpoly().as_expr()\n",
    "print(f\"cp_M == cp_N ?   --> {cp_M==cp_N}\")"
   ]
  },
  {
   "cell_type": "markdown",
   "id": "e5bba8fe-37a4-47f5-9be4-ba7014256d09",
   "metadata": {
    "jp-MarkdownHeadingCollapsed": true
   },
   "source": [
    "## 1.2. Rational canonical form"
   ]
  },
  {
   "cell_type": "markdown",
   "id": "f651f69f-e501-4d3f-8e90-855dbfabe5e2",
   "metadata": {},
   "source": [
    "### The rational form of M and N"
   ]
  },
  {
   "cell_type": "code",
   "execution_count": 8,
   "id": "8421e341-9349-4cfd-ad80-b176d3ca1fce",
   "metadata": {},
   "outputs": [
    {
     "data": {
      "text/latex": [
       "$\\displaystyle \\left[\\begin{matrix}0 & 0 & 0 & -1\\\\1 & 0 & 0 & 1\\\\0 & 1 & 0 & -1\\\\0 & 0 & 1 & 1\\end{matrix}\\right]$"
      ],
      "text/plain": [
       "Matrix([\n",
       "[0, 0, 0, -1],\n",
       "[1, 0, 0,  1],\n",
       "[0, 1, 0, -1],\n",
       "[0, 0, 1,  1]])"
      ]
     },
     "metadata": {},
     "output_type": "display_data"
    },
    {
     "name": "stdout",
     "output_type": "stream",
     "text": [
      "is_Sp? --> False\n"
     ]
    }
   ],
   "source": [
    "Cpn = sp.matrices.expressions.CompanionMatrix(M.charpoly()).as_explicit()\n",
    "display(Cpn)\n",
    "print(f\"is_Sp? --> {is_Sp(Cpn)}\")"
   ]
  },
  {
   "cell_type": "code",
   "execution_count": 9,
   "id": "c36fbbb5-2e43-48c2-9207-f3cae47f4318",
   "metadata": {},
   "outputs": [],
   "source": [
    "def transition_matrix(M,v):\n",
    "    if type(v) == list:\n",
    "        v = sp.Matrix(4,1,v)\n",
    "    vecs = [(M**k)*v for k in range(5)]\n",
    "    return sp.Matrix(4,4,lambda i,j: vecs[j][i])\n",
    "def tm(M,v):\n",
    "    return transition_matrix(M,v)"
   ]
  },
  {
   "cell_type": "code",
   "execution_count": 10,
   "id": "dc9a9157-3e79-4368-8eb8-389707281095",
   "metadata": {},
   "outputs": [
    {
     "data": {
      "text/latex": [
       "$\\displaystyle \\left( \\left[ -4, \\  2, \\  -9, \\  -9\\right], \\  \\left[\\begin{matrix}-4 & -11 & -9 & 9\\\\2 & 13 & 22 & 13\\\\-9 & -11 & -4 & -11\\\\-9 & 9 & 11 & 4\\end{matrix}\\right], \\  \\left[\\begin{matrix}0 & 0 & 0 & -1\\\\1 & 0 & 0 & 1\\\\0 & 1 & 0 & -1\\\\0 & 0 & 1 & 1\\end{matrix}\\right]\\right)$"
      ],
      "text/plain": [
       "([-4, 2, -9, -9],\n",
       " Matrix([\n",
       " [-4, -11, -9,   9],\n",
       " [ 2,  13, 22,  13],\n",
       " [-9, -11, -4, -11],\n",
       " [-9,   9, 11,   4]]),\n",
       " Matrix([\n",
       " [0, 0, 0, -1],\n",
       " [1, 0, 0,  1],\n",
       " [0, 1, 0, -1],\n",
       " [0, 0, 1,  1]]))"
      ]
     },
     "execution_count": 10,
     "metadata": {},
     "output_type": "execute_result"
    }
   ],
   "source": [
    "from random import randint\n",
    "\n",
    "v = [randint(-10,10) for _ in range(4)]\n",
    "P = tm(M, v)\n",
    "\n",
    "v, P, (P.inv())*M*P"
   ]
  },
  {
   "cell_type": "markdown",
   "id": "74e7c2de-bc1a-45ef-9623-2a1f01e400cf",
   "metadata": {},
   "source": [
    "## 1.3. Base symplectic matrix $S_0$"
   ]
  },
  {
   "cell_type": "code",
   "execution_count": 11,
   "id": "4cc97de0-b11d-4b63-824a-1a50066ba013",
   "metadata": {},
   "outputs": [],
   "source": [
    "def conjugation_matrix(v, w):\n",
    "    P, Q = tm(M,v), tm(N,w)\n",
    "    return P*(Q.inv())"
   ]
  },
  {
   "cell_type": "code",
   "execution_count": 12,
   "id": "6a6b563a-ae57-497b-add9-bead03530062",
   "metadata": {},
   "outputs": [
    {
     "data": {
      "text/latex": [
       "$\\displaystyle \\left[\\begin{matrix}-3 & 0 & -1 & 0\\\\1 & -1 & 1 & 0\\\\1 & -2 & 1 & 1\\\\4 & 2 & 1 & -1\\end{matrix}\\right]$"
      ],
      "text/plain": [
       "Matrix([\n",
       "[-3,  0, -1,  0],\n",
       "[ 1, -1,  1,  0],\n",
       "[ 1, -2,  1,  1],\n",
       "[ 4,  2,  1, -1]])"
      ]
     },
     "metadata": {},
     "output_type": "display_data"
    },
    {
     "name": "stdout",
     "output_type": "stream",
     "text": [
      "(N == S0.inv()*M*S0)=True, is_Sp(S0)=False\n"
     ]
    }
   ],
   "source": [
    "v0, w0 = [0,-1,-1,1], [0,1,0,1]\n",
    "S0 = conjugation_matrix(v0,w0)\n",
    "display(S0)\n",
    "print(f\"{(N == S0.inv()*M*S0)=}, {is_Sp(S0)=}\")"
   ]
  },
  {
   "cell_type": "markdown",
   "id": "e26d651d-c0ab-4ec0-a464-d3de68844fac",
   "metadata": {},
   "source": [
    "# Ideal for fibered knots"
   ]
  },
  {
   "cell_type": "code",
   "execution_count": 18,
   "id": "548c72f1-3838-4ea4-9907-29002c29340e",
   "metadata": {},
   "outputs": [
    {
     "data": {
      "text/latex": [
       "$\\displaystyle \\left[\\begin{matrix}1 & 1 & 1 & 0\\\\-1 & 0 & -1 & 0\\\\0 & -1 & 0 & 1\\\\0 & 0 & -1 & 0\\end{matrix}\\right]$"
      ],
      "text/plain": [
       "Matrix([\n",
       "[ 1,  1,  1, 0],\n",
       "[-1,  0, -1, 0],\n",
       "[ 0, -1,  0, 1],\n",
       "[ 0,  0, -1, 0]])"
      ]
     },
     "metadata": {},
     "output_type": "display_data"
    }
   ],
   "source": [
    "display(M)"
   ]
  },
  {
   "cell_type": "code",
   "execution_count": 25,
   "id": "7e9f714c-b132-48e3-a5f5-3c47c7285186",
   "metadata": {},
   "outputs": [
    {
     "data": {
      "text/latex": [
       "$\\displaystyle \\left[\\begin{matrix}0 & 1 & 2 & 0\\\\-1 & -2 & -2 & 2\\\\0 & 0 & -1 & 0\\\\0 & 0 & 0 & 1\\end{matrix}\\right]$"
      ],
      "text/plain": [
       "Matrix([\n",
       "[ 0,  1,  2, 0],\n",
       "[-1, -2, -2, 2],\n",
       "[ 0,  0, -1, 0],\n",
       "[ 0,  0,  0, 1]])"
      ]
     },
     "metadata": {},
     "output_type": "display_data"
    },
    {
     "data": {
      "text/latex": [
       "$\\displaystyle \\left[\\begin{matrix}-2 & -1 & -2 & 2\\\\1 & 0 & 2 & 0\\\\0 & 0 & -1 & 0\\\\0 & 0 & 0 & 1\\end{matrix}\\right]$"
      ],
      "text/plain": [
       "Matrix([\n",
       "[-2, -1, -2, 2],\n",
       "[ 1,  0,  2, 0],\n",
       "[ 0,  0, -1, 0],\n",
       "[ 0,  0,  0, 1]])"
      ]
     },
     "metadata": {},
     "output_type": "display_data"
    },
    {
     "data": {
      "text/plain": [
       "False"
      ]
     },
     "metadata": {},
     "output_type": "display_data"
    }
   ],
   "source": [
    "P = sp.Matrix([[0,1,2,0],[-1,-2,-2,2],[0,0,-1,0],[0,0,0,1]])\n",
    "display(P, P^(-1), is_Sp(P))"
   ]
  },
  {
   "cell_type": "code",
   "execution_count": 28,
   "id": "26176fbc-19cc-43f7-bc14-accc48d3e776",
   "metadata": {},
   "outputs": [
    {
     "data": {
      "text/plain": [
       "True"
      ]
     },
     "execution_count": 28,
     "metadata": {},
     "output_type": "execute_result"
    }
   ],
   "source": [
    "N == P*M*P^(-1)"
   ]
  }
 ],
 "metadata": {
  "colab": {
   "collapsed_sections": [
    "PGII4NrboFOE"
   ],
   "provenance": []
  },
  "kernelspec": {
   "display_name": "SageMath 10.7",
   "language": "sage",
   "name": "sagemath-10.7"
  },
  "language_info": {
   "codemirror_mode": {
    "name": "ipython",
    "version": 3
   },
   "file_extension": ".py",
   "mimetype": "text/x-python",
   "name": "python",
   "nbconvert_exporter": "python",
   "pygments_lexer": "ipython3",
   "version": "3.13.3"
  }
 },
 "nbformat": 4,
 "nbformat_minor": 5
}
