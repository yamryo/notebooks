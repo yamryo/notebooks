{
 "cells": [
  {
   "cell_type": "markdown",
   "id": "b3a46c7e-7ec3-4dec-a8ce-dd1b9d632b7a",
   "metadata": {
    "id": "b3a46c7e-7ec3-4dec-a8ce-dd1b9d632b7a"
   },
   "source": [
    "# Abcd vs abcD\n"
   ]
  },
  {
   "cell_type": "markdown",
   "id": "KPups8IJ6oYy",
   "metadata": {
    "id": "KPups8IJ6oYy",
    "jp-MarkdownHeadingCollapsed": true
   },
   "source": [
    "### Modules"
   ]
  },
  {
   "cell_type": "code",
   "execution_count": 1,
   "id": "14c7ea7c-d8c9-4a75-a3a9-ccde4f2bb0cc",
   "metadata": {
    "colab": {
     "base_uri": "https://localhost:8080/"
    },
    "executionInfo": {
     "elapsed": 19392,
     "status": "ok",
     "timestamp": 1726184657592,
     "user": {
      "displayName": "山本亮介",
      "userId": "01861936879830612877"
     },
     "user_tz": -540
    },
    "id": "14c7ea7c-d8c9-4a75-a3a9-ccde4f2bb0cc",
    "outputId": "365c2cd4-ee7f-4d2a-bc32-dd178eb49258",
    "scrolled": true
   },
   "outputs": [],
   "source": [
    "#import os\n",
    "#import numpy as np\n",
    "import sympy as sp\n",
    "sp.init_printing(use_latex='mathjax')\n",
    "#import pandas as pd\n",
    "#import ast\n",
    "import itertools as itr\n",
    "\n",
    "#from multiprocessing import Pool, cpu_count\n",
    "#from tqdm.notebook import tqdm\n",
    "\n",
    "from snappy import *\n",
    "S = twister.Surface('S_2_1')"
   ]
  },
  {
   "cell_type": "markdown",
   "id": "96f4c9a0-2842-42af-965d-eeb7cd6ba6ce",
   "metadata": {},
   "source": [
    "## Symplectic representation"
   ]
  },
  {
   "cell_type": "code",
   "execution_count": 2,
   "id": "c0ae08c1-8f11-41c0-a2bc-c12964d709f0",
   "metadata": {},
   "outputs": [],
   "source": [
    "K = sp.MatrixSymbol('K',2,2) #([[0,-1],[0,0]])\n",
    "L = sp.MatrixSymbol('L',2,2) #([[1,0],[1,1]])\n",
    "I = sp.Identity(2)\n",
    "O = sp.ZeroMatrix(2,2)\n",
    "J = sp.MatrixSymbol('J',2,2) #([[0,1],[-1,0]])\n",
    "\n",
    "Ma = sp.BlockMatrix([[L.inv(), O], [O, I]])\n",
    "Mb = sp.BlockMatrix([[L.transpose(), K], [K, L.transpose()]])\n",
    "Mc = sp.BlockMatrix([[I, O], [O, L.inv()]])\n",
    "Md = sp.BlockMatrix([[I, O], [O, L.transpose()]])\n",
    "#display(Ma, Mb, Mc, Md)\n",
    "\n",
    "MJ = sp.BlockMatrix([[J, O], [O, J]])\n",
    "#display(MJ)"
   ]
  },
  {
   "cell_type": "markdown",
   "id": "a078c256-638f-4e2f-a3ba-41619752c88b",
   "metadata": {},
   "source": [
    "### Functions"
   ]
  },
  {
   "cell_type": "code",
   "execution_count": 3,
   "id": "acaad909-1541-4411-a49e-d5e6a0a3071a",
   "metadata": {},
   "outputs": [
    {
     "name": "stdout",
     "output_type": "stream",
     "text": [
      "Matrix([\n",
      "[L.T,   K],\n",
      "[  K, L.T]]) is in Sp(4,Z)\n",
      "Matrix([\n",
      "[I,   0],\n",
      "[0, L.T]]) is in Sp(4,Z)\n",
      "Matrix([\n",
      "[I,       0],\n",
      "[0, L**(-1)]]) is in Sp(4,Z)\n",
      "Matrix([\n",
      "[L**(-1), 0],\n",
      "[      0, I]]) is in Sp(4,Z)\n"
     ]
    }
   ],
   "source": [
    "def ev(M):\n",
    "    return M.subs([\n",
    "        (L, sp.Matrix([[1,0],[1,1]])),\n",
    "        (K, sp.Matrix([[0,-1],[0,0]])),\n",
    "        (J, sp.Matrix([[0,1],[-1,0]])),\n",
    "    ]).as_explicit()\n",
    "#evMd = ev(Md); display(evMd, evMd.det())\n",
    "\n",
    "def is_Sp(M):\n",
    "    if type(M) == sp.matrices.expressions.blockmatrix.BlockMatrix:\n",
    "        return sp.block_collapse(ev(M).transpose()*ev(MJ)*ev(M)) == ev(MJ)\n",
    "    else:\n",
    "        return M.transpose()*ev(MJ)*M == ev(MJ)\n",
    "\n",
    "for M in {Ma, Mb, Mc, Md}:\n",
    "    if is_Sp(M):\n",
    "        print(f\"{M} is in Sp(4,Z)\")"
   ]
  },
  {
   "cell_type": "markdown",
   "id": "97674002-175d-4e57-bce2-da47612f4161",
   "metadata": {},
   "source": [
    "### The symplectic images of Abcd and abcD"
   ]
  },
  {
   "cell_type": "code",
   "execution_count": 4,
   "id": "150bba78-67ca-4ba8-afaa-c490b2f85547",
   "metadata": {},
   "outputs": [
    {
     "data": {
      "text/latex": [
       "$\\displaystyle \\left[\\begin{matrix}L L^{T} & L K L^{-1} L^{T}\\\\K & L^{T} L^{-1} L^{T}\\end{matrix}\\right]$"
      ],
      "text/plain": [
       "⎡   T       -1  T⎤\n",
       "⎢L⋅L   L⋅K⋅L  ⋅L ⎥\n",
       "⎢                ⎥\n",
       "⎢       T  -1  T ⎥\n",
       "⎣ K    L ⋅L  ⋅L  ⎦"
      ]
     },
     "metadata": {},
     "output_type": "display_data"
    },
    {
     "data": {
      "text/latex": [
       "$\\displaystyle \\left[\\begin{matrix}1 & 1 & 1 & 0\\\\1 & 2 & 1 & 0\\\\0 & -1 & 0 & 1\\\\0 & 0 & -1 & 0\\end{matrix}\\right]$"
      ],
      "text/plain": [
       "⎡1  1   1   0⎤\n",
       "⎢            ⎥\n",
       "⎢1  2   1   0⎥\n",
       "⎢            ⎥\n",
       "⎢0  -1  0   1⎥\n",
       "⎢            ⎥\n",
       "⎣0  0   -1  0⎦"
      ]
     },
     "metadata": {},
     "output_type": "display_data"
    },
    {
     "data": {
      "text/latex": [
       "$\\displaystyle \\left[\\begin{matrix}L^{-1} L^{T} & L^{-1} K L^{-1} \\left(L^{T}\\right)^{-1}\\\\K & L^{T} L^{-1} \\left(L^{T}\\right)^{-1}\\end{matrix}\\right]$"
      ],
      "text/plain": [
       "⎡                      -1⎤\n",
       "⎢ -1  T   -1    -1 ⎛ T⎞  ⎥\n",
       "⎢L  ⋅L   L  ⋅K⋅L  ⋅⎝L ⎠  ⎥\n",
       "⎢                        ⎥\n",
       "⎢                    -1  ⎥\n",
       "⎢          T  -1 ⎛ T⎞    ⎥\n",
       "⎣  K      L ⋅L  ⋅⎝L ⎠    ⎦"
      ]
     },
     "metadata": {},
     "output_type": "display_data"
    },
    {
     "data": {
      "text/latex": [
       "$\\displaystyle \\left[\\begin{matrix}1 & 1 & 1 & -2\\\\-1 & 0 & -1 & 2\\\\0 & -1 & 0 & 1\\\\0 & 0 & -1 & 2\\end{matrix}\\right]$"
      ],
      "text/plain": [
       "⎡1   1   1   -2⎤\n",
       "⎢              ⎥\n",
       "⎢-1  0   -1  2 ⎥\n",
       "⎢              ⎥\n",
       "⎢0   -1  0   1 ⎥\n",
       "⎢              ⎥\n",
       "⎣0   0   -1  2 ⎦"
      ]
     },
     "metadata": {},
     "output_type": "display_data"
    },
    {
     "name": "stdout",
     "output_type": "stream",
     "text": [
      "is_Sp? --> True\n",
      "is_Sp? --> True\n"
     ]
    }
   ],
   "source": [
    "M_Abcd = sp.block_collapse((Ma.inv())*Mb*Mc*Md)\n",
    "M1 = ev(M_Abcd)\n",
    "display(M_Abcd, M1)\n",
    "M_abcD = sp.block_collapse(Ma*Mb*Mc*(Md.inv()))\n",
    "M2 = ev(M_abcD)\n",
    "display(M_abcD, M2)\n",
    "\n",
    "for M in {M1,M2}:\n",
    "    print(f\"is_Sp? --> {is_Sp(M)}\")"
   ]
  },
  {
   "cell_type": "markdown",
   "id": "4589ee1d-b557-4bdc-b8d3-ebf90bd9ddc3",
   "metadata": {},
   "source": [
    "### The charactoristic polynomial of M1 (M2)"
   ]
  },
  {
   "cell_type": "code",
   "execution_count": 5,
   "id": "c1c0f397-7ea8-4bb5-a1a0-adc4d4a81dd3",
   "metadata": {},
   "outputs": [
    {
     "name": "stdout",
     "output_type": "stream",
     "text": [
      "cp_M1 == cp_M2 ?   --> True\n"
     ]
    },
    {
     "data": {
      "text/latex": [
       "$\\displaystyle \\lambda^{4} - 3 \\lambda^{3} + 3 \\lambda^{2} - 3 \\lambda + 1$"
      ],
      "text/plain": [
       " 4      3      2          \n",
       "λ  - 3⋅λ  + 3⋅λ  - 3⋅λ + 1"
      ]
     },
     "metadata": {},
     "output_type": "display_data"
    }
   ],
   "source": [
    "cp_M1 = M1.charpoly().as_expr()\n",
    "cp_M2 = M2.charpoly().as_expr()\n",
    "\n",
    "print(f\"cp_M1 == cp_M2 ?   --> {cp_M1==cp_M2}\")\n",
    "\n",
    "display(cp_M1.factor())"
   ]
  },
  {
   "cell_type": "markdown",
   "id": "e5bba8fe-37a4-47f5-9be4-ba7014256d09",
   "metadata": {},
   "source": [
    "## Rational canonical form"
   ]
  },
  {
   "cell_type": "markdown",
   "id": "f651f69f-e501-4d3f-8e90-855dbfabe5e2",
   "metadata": {},
   "source": [
    "### The rational form of M1 (M2)"
   ]
  },
  {
   "cell_type": "code",
   "execution_count": 7,
   "id": "8421e341-9349-4cfd-ad80-b176d3ca1fce",
   "metadata": {},
   "outputs": [
    {
     "data": {
      "text/latex": [
       "$\\displaystyle \\left[\\begin{matrix}0 & 0 & 0 & -1\\\\1 & 0 & 0 & 3\\\\0 & 1 & 0 & -3\\\\0 & 0 & 1 & 3\\end{matrix}\\right]$"
      ],
      "text/plain": [
       "⎡0  0  0  -1⎤\n",
       "⎢           ⎥\n",
       "⎢1  0  0  3 ⎥\n",
       "⎢           ⎥\n",
       "⎢0  1  0  -3⎥\n",
       "⎢           ⎥\n",
       "⎣0  0  1  3 ⎦"
      ]
     },
     "metadata": {},
     "output_type": "display_data"
    },
    {
     "name": "stdout",
     "output_type": "stream",
     "text": [
      "is_Sp? --> False\n"
     ]
    }
   ],
   "source": [
    "C = sp.matrices.expressions.CompanionMatrix(M1.charpoly()).as_explicit()\n",
    "display(C)\n",
    "print(f\"is_Sp? --> {is_Sp(C)}\")"
   ]
  },
  {
   "cell_type": "markdown",
   "id": "12111eee-5cee-490e-a6f3-68bc49c9bc5f",
   "metadata": {},
   "source": [
    "### basis of the T-cyclic (sub)space"
   ]
  },
  {
   "cell_type": "code",
   "execution_count": 14,
   "id": "c36fbbb5-2e43-48c2-9207-f3cae47f4318",
   "metadata": {},
   "outputs": [],
   "source": [
    "def transition_matrix(A,v):\n",
    "    if type(v) == list:\n",
    "        v = sp.Matrix(4,1,v)\n",
    "    vecs = [(A**k)*v for k in range(5)]\n",
    "    return sp.Matrix(4,4,lambda i,j: vecs[j][i])"
   ]
  },
  {
   "cell_type": "code",
   "execution_count": null,
   "id": "1b121dd4-97b3-4c4f-8eb3-2f4ece3bf27a",
   "metadata": {},
   "outputs": [],
   "source": [
    "P = transition_matrix(M1,[0,-1,1,0])\n",
    "Q = transition_matrix(M2,[1,0,0,0])\n",
    "\n",
    "for X in [P,Q]:\n",
    "    display(X, X.det(), is_Sp(X)) #, P.inv())"
   ]
  },
  {
   "cell_type": "markdown",
   "id": "4ad39789-2076-46c5-9e1d-4802ca344e05",
   "metadata": {
    "jp-MarkdownHeadingCollapsed": true
   },
   "source": [
    "### The matrix giving conjugacy of M1 with M2"
   ]
  },
  {
   "cell_type": "code",
   "execution_count": null,
   "id": "1e261609-c10d-4b73-ae5c-ee6295224bad",
   "metadata": {},
   "outputs": [],
   "source": [
    "S2 = Q*(P.inv())\n",
    "display(S2, S2.det(), is_Sp(S2))\n",
    "\n",
    "X = S2*M1*(S2.inv())\n",
    "#display(X)\n",
    "print(f\"X==M2 ? --> {X==M2}\")"
   ]
  },
  {
   "cell_type": "markdown",
   "id": "920f4f4f-5749-48a8-9ad1-49fd1bd433c5",
   "metadata": {},
   "source": [
    "### All_in_One"
   ]
  },
  {
   "cell_type": "code",
   "execution_count": 8,
   "id": "b5df5e6d-e5ca-473d-a925-794ed83e9b32",
   "metadata": {},
   "outputs": [
    {
     "data": {
      "text/latex": [
       "$\\displaystyle \\left[\\begin{matrix}1 & 1 & 2 & 4\\\\0 & 1 & 3 & 7\\\\0 & 0 & -1 & -3\\\\0 & 0 & 0 & 1\\end{matrix}\\right]$"
      ],
      "text/plain": [
       "⎡1  1  2   4 ⎤\n",
       "⎢            ⎥\n",
       "⎢0  1  3   7 ⎥\n",
       "⎢            ⎥\n",
       "⎢0  0  -1  -3⎥\n",
       "⎢            ⎥\n",
       "⎣0  0  0   1 ⎦"
      ]
     },
     "metadata": {},
     "output_type": "display_data"
    },
    {
     "data": {
      "text/latex": [
       "$\\displaystyle -1$"
      ],
      "text/plain": [
       "-1"
      ]
     },
     "metadata": {},
     "output_type": "display_data"
    },
    {
     "name": "stdout",
     "output_type": "stream",
     "text": [
      "True\n"
     ]
    }
   ],
   "source": [
    "#### dAbc (M1)\n",
    "\n",
    "e1 = sp.Matrix(4,1,[1,0,0,0])\n",
    "vecs = [(M1**k)*e1 for k in range(4)]\n",
    "\n",
    "P = sp.Matrix(4,4,lambda i,j: vecs[j][i])\n",
    "display(P, P.det()) #, P.inv())\n",
    "print(P*C*(P.inv()) == M1)"
   ]
  },
  {
   "cell_type": "code",
   "execution_count": 9,
   "id": "cc8ff622-7056-4757-8b23-c1bf337821e8",
   "metadata": {},
   "outputs": [
    {
     "data": {
      "text/latex": [
       "$\\displaystyle \\left[\\begin{matrix}0 & 2 & 2 & 1\\\\1 & -1 & -3 & -4\\\\1 & -1 & 0 & 2\\\\0 & -1 & -1 & -2\\end{matrix}\\right]$"
      ],
      "text/plain": [
       "⎡0  2   2   1 ⎤\n",
       "⎢             ⎥\n",
       "⎢1  -1  -3  -4⎥\n",
       "⎢             ⎥\n",
       "⎢1  -1  0   2 ⎥\n",
       "⎢             ⎥\n",
       "⎣0  -1  -1  -2⎦"
      ]
     },
     "metadata": {},
     "output_type": "display_data"
    },
    {
     "data": {
      "text/latex": [
       "$\\displaystyle 9$"
      ],
      "text/plain": [
       "9"
      ]
     },
     "metadata": {},
     "output_type": "display_data"
    },
    {
     "name": "stdout",
     "output_type": "stream",
     "text": [
      "True\n"
     ]
    }
   ],
   "source": [
    "#### Dabc (M2)\n",
    "\n",
    "e1 = sp.Matrix(4,1,[0,1,1,0])\n",
    "vecs = [(M2**k)*e1 for k in range(4)]\n",
    "\n",
    "Q = sp.Matrix(4,4,lambda i,j: vecs[j][i])\n",
    "display(Q, Q.det()) #, Q.inv())\n",
    "print(Q*C*(Q.inv()) == M2)"
   ]
  },
  {
   "cell_type": "code",
   "execution_count": 10,
   "id": "53064c27-89fe-425d-821c-3a3b86db2ed1",
   "metadata": {},
   "outputs": [
    {
     "data": {
      "text/latex": [
       "$\\displaystyle \\left[\\begin{matrix}0 & 2 & 4 & -1\\\\1 & -2 & -1 & 3\\\\1 & -2 & -4 & 0\\\\0 & -1 & -2 & -1\\end{matrix}\\right]$"
      ],
      "text/plain": [
       "⎡0  2   4   -1⎤\n",
       "⎢             ⎥\n",
       "⎢1  -2  -1  3 ⎥\n",
       "⎢             ⎥\n",
       "⎢1  -2  -4  0 ⎥\n",
       "⎢             ⎥\n",
       "⎣0  -1  -2  -1⎦"
      ]
     },
     "metadata": {},
     "output_type": "display_data"
    },
    {
     "data": {
      "text/latex": [
       "$\\displaystyle -9$"
      ],
      "text/plain": [
       "-9"
      ]
     },
     "metadata": {},
     "output_type": "display_data"
    }
   ],
   "source": [
    "S1 = Q*(P.inv())\n",
    "display(S1, S1.det())"
   ]
  },
  {
   "cell_type": "code",
   "execution_count": 11,
   "id": "32f4d5b9-36d1-49c8-a7e6-40369ab6a157",
   "metadata": {},
   "outputs": [
    {
     "data": {
      "text/latex": [
       "$\\displaystyle \\left[\\begin{matrix}1 & 1 & 1 & -2\\\\-1 & 0 & -1 & 2\\\\0 & -1 & 0 & 1\\\\0 & 0 & -1 & 2\\end{matrix}\\right]$"
      ],
      "text/plain": [
       "⎡1   1   1   -2⎤\n",
       "⎢              ⎥\n",
       "⎢-1  0   -1  2 ⎥\n",
       "⎢              ⎥\n",
       "⎢0   -1  0   1 ⎥\n",
       "⎢              ⎥\n",
       "⎣0   0   -1  2 ⎦"
      ]
     },
     "metadata": {},
     "output_type": "display_data"
    },
    {
     "name": "stdout",
     "output_type": "stream",
     "text": [
      "True\n"
     ]
    }
   ],
   "source": [
    "X = S1*M1*(S1.inv())\n",
    "display(X)\n",
    "\n",
    "print(X==M2)"
   ]
  },
  {
   "cell_type": "code",
   "execution_count": 12,
   "id": "4cc97de0-b11d-4b63-824a-1a50066ba013",
   "metadata": {},
   "outputs": [],
   "source": [
    "def get_matrix_connecting_M1_with_M2(v, w):\n",
    "    P = transition_matrix(M1,v)\n",
    "    Q = transition_matrix(M2,w)\n",
    "    return (P, Q, P*(Q.inv()))"
   ]
  },
  {
   "cell_type": "code",
   "execution_count": 13,
   "id": "71a35395-bdd5-4ba9-9a72-1e772d77b07d",
   "metadata": {},
   "outputs": [
    {
     "ename": "NameError",
     "evalue": "name 'transition_matrix' is not defined",
     "output_type": "error",
     "traceback": [
      "\u001b[0;31m---------------------------------------------------------------------------\u001b[0m",
      "\u001b[0;31mNameError\u001b[0m                                 Traceback (most recent call last)",
      "Cell \u001b[0;32mIn[13], line 2\u001b[0m\n\u001b[1;32m      1\u001b[0m v, w \u001b[38;5;241m=\u001b[39m [\u001b[38;5;241m0\u001b[39m,\u001b[38;5;241m1\u001b[39m,\u001b[38;5;241m0\u001b[39m,\u001b[38;5;241m0\u001b[39m], [\u001b[38;5;241m1\u001b[39m,\u001b[38;5;241m0\u001b[39m,\u001b[38;5;241m0\u001b[39m,\u001b[38;5;241m0\u001b[39m] \u001b[38;5;66;03m#[1,-1,0,0], [1,-1,0,-1] #[1,-1,0,0], [1,0,0,0] #\u001b[39;00m\n\u001b[0;32m----> 2\u001b[0m P, Q, S \u001b[38;5;241m=\u001b[39m \u001b[43mget_matrix_connecting_M1_with_M2\u001b[49m\u001b[43m(\u001b[49m\u001b[43mv\u001b[49m\u001b[43m,\u001b[49m\u001b[43mw\u001b[49m\u001b[43m)\u001b[49m\n\u001b[1;32m      3\u001b[0m \u001b[38;5;28mprint\u001b[39m(\u001b[38;5;124mf\u001b[39m\u001b[38;5;124m\"\u001b[39m\u001b[38;5;132;01m{\u001b[39;00mv\u001b[38;5;132;01m=}\u001b[39;00m\u001b[38;5;124m, \u001b[39m\u001b[38;5;132;01m{\u001b[39;00mw\u001b[38;5;132;01m=}\u001b[39;00m\u001b[38;5;124m \u001b[39m\u001b[38;5;130;01m\\n\u001b[39;00m\u001b[38;5;130;01m\\n\u001b[39;00m\u001b[38;5;124m--->  \u001b[39m\u001b[38;5;132;01m{\u001b[39;00m(P\u001b[38;5;241m.\u001b[39mdet(),\u001b[38;5;250m \u001b[39mQ\u001b[38;5;241m.\u001b[39mdet())\u001b[38;5;132;01m=}\u001b[39;00m\u001b[38;5;124m, \u001b[39m\u001b[38;5;132;01m{\u001b[39;00m(is_Sp(P),\u001b[38;5;250m \u001b[39mis_Sp(Q))\u001b[38;5;132;01m=}\u001b[39;00m\u001b[38;5;124m\"\u001b[39m) \n\u001b[1;32m      4\u001b[0m \u001b[38;5;28mprint\u001b[39m(S)\n",
      "Cell \u001b[0;32mIn[12], line 2\u001b[0m, in \u001b[0;36mget_matrix_connecting_M1_with_M2\u001b[0;34m(v, w)\u001b[0m\n\u001b[1;32m      1\u001b[0m \u001b[38;5;28;01mdef\u001b[39;00m \u001b[38;5;21mget_matrix_connecting_M1_with_M2\u001b[39m(v, w):\n\u001b[0;32m----> 2\u001b[0m     P \u001b[38;5;241m=\u001b[39m \u001b[43mtransition_matrix\u001b[49m(M1,v)\n\u001b[1;32m      3\u001b[0m     Q \u001b[38;5;241m=\u001b[39m transition_matrix(M2,w)\n\u001b[1;32m      4\u001b[0m     \u001b[38;5;28;01mreturn\u001b[39;00m (P, Q, P\u001b[38;5;241m*\u001b[39m(Q\u001b[38;5;241m.\u001b[39minv()))\n",
      "\u001b[0;31mNameError\u001b[0m: name 'transition_matrix' is not defined"
     ]
    }
   ],
   "source": [
    "v, w = [0,1,0,0], [1,0,0,0] #[1,-1,0,0], [1,-1,0,-1] #[1,-1,0,0], [1,0,0,0] #\n",
    "P, Q, S = get_matrix_connecting_M1_with_M2(v,w)\n",
    "print(f\"{v=}, {w=} \\n\\n--->  {(P.det(), Q.det())=}, {(is_Sp(P), is_Sp(Q))=}\") \n",
    "print(S)\n",
    "print(f\"{is_Sp(S)=}\")\n",
    "\n",
    "display(S)"
   ]
  },
  {
   "cell_type": "code",
   "execution_count": null,
   "id": "1de34da0-e50e-43b3-b409-2c286f79199a",
   "metadata": {},
   "outputs": [],
   "source": [
    "vects = [ list(x) for x in itr.product({-1,0,1}, repeat=4)]\n",
    "vects.pop(0)\n",
    "print(vects[0:6])\n",
    "\n",
    "v = [x*(-1) for x in vects.pop(0)]\n",
    "vects.remove(v)\n",
    "\n",
    "print(vects[0:6])\n",
    "print(vects[-1])"
   ]
  },
  {
   "cell_type": "code",
   "execution_count": null,
   "id": "8babf54a-a45d-49d5-b373-197610c2fdb3",
   "metadata": {},
   "outputs": [],
   "source": [
    "row_vecs = [list(x) for x in itr.product({-1,0,1}, repeat=4)]\n",
    "row_vecs.pop(0)\n",
    "print(row_vecs[:12], \"\\n\")\n",
    "\n",
    "vecs = []\n",
    "while len(row_vecs) > 0:\n",
    "    vecs.append(row_vecs.pop(0))\n",
    "    row_vecs.remove([x*(-1) for x in vecs[-1]])\n",
    "    \n",
    "s = len(vecs); print(vecs[:6])"
   ]
  },
  {
   "cell_type": "code",
   "execution_count": null,
   "id": "a4bdf38b-d9ae-419f-bd8e-d20d9adb8698",
   "metadata": {},
   "outputs": [],
   "source": [
    "for v, w in itr.product(vecs, repeat=2):\n",
    "    P, Q, S = get_matrix_connecting_M1_with_M2(v,w)\n",
    "    if is_Sp(S): #P.det() == Q.det():\n",
    "        print(f\"{v=}, {w=}  --->  {(P.det(), Q.det())=}\") \n",
    "        display(S)\n",
    "        print(f\"{is_Sp(S)=} \\n -----\\n\")"
   ]
  },
  {
   "cell_type": "code",
   "execution_count": null,
   "id": "045ae140-b915-455b-ab98-cef0af09ee67",
   "metadata": {},
   "outputs": [],
   "source": [
    "v, w = [0,-1,1,0], [1,0,0,0]\n",
    "S, T, X = get_matrix_connecting_M1_with_M2(v, w)\n",
    "print(f\"{v=}, {w=}  --->  {(S.det(), T.det())=}\") \n",
    "display(X)\n",
    "print(f\"{is_Sp(X)=} \\n -----\\n\")\n",
    "\n",
    "for v, w in itr.product(vecs, repeat=2):\n",
    "    P, Q, S = get_matrix_connecting_M1_with_M2(v,w)\n",
    "    if S == X: #P.det() == Q.det():\n",
    "        print(f\"{v=}, {w=}  --->  {(P.det(), Q.det())=}\") \n",
    "#        display(S)\n",
    "#        print(f\"{is_Sp(S)=} \\n -----\\n\")"
   ]
  },
  {
   "cell_type": "markdown",
   "id": "850c0477-9503-4349-abd1-fcb7817b89ad",
   "metadata": {},
   "source": [
    "## Data"
   ]
  },
  {
   "cell_type": "markdown",
   "id": "0c693d9b-d5cd-4055-8397-57ee61f444cb",
   "metadata": {},
   "source": [
    "v=[0, 1, 0, 0], w=[1, 0, 0, 0] \n",
    "--->  (P.det(), Q.det())=(1, 1)\n",
    "Matrix([[-1, 1, 0, -2], [0, 0, 1, 1], [-1, 0, -1, 1], [-1, 0, -1, 0]])\n",
    "is_Sp(S)=False\n",
    "\n",
    "----\n",
    "v=[1, -1, 0, 0], w=[1, 0, 0, 0] \n",
    "--->  (P.det(), Q.det())=(1, 1)\n",
    "Matrix([[0, -1, 0, 1], [1, 1, 0, 0], [0, 0, 0, -1], [1, 1, 1, 0]])\n",
    "is_Sp(S)=True\n",
    "\n",
    "----\n",
    "v=[0, 1, 0, 0], w=[1, -1, 0, -1] \n",
    "--->  (P.det(), Q.det())=(1, 1)\n",
    "Matrix([[0, 1, 0, -1], [-1, -1, 0, 0], [0, 0, 0, 1], [-1, -1, -1, 0]])\n",
    "is_Sp(S)=True\n",
    "\n",
    "----\n",
    "v=[1, -1, 0, -1], w=[1, -1, 0, -1] \n",
    "--->  (P.det(), Q.det())=(1, 1)\n",
    "Matrix([[-1, -2, -2, 0], [2, 3, 2, 0], [0, 0, 1, 0], [2, 2, 2, 1]])\n",
    "is_Sp(S)=True\n",
    "\n",
    "----\n",
    "v=[1, -1, 0, 0], w=[1, -1, 0, -1] \n",
    "--->  (P.det(), Q.det())=(1, 1)\n",
    "Matrix([[-4, -5, -3, -1], [8, 9, 6, 3], [-1, -1, -1, -1], [6, 7, 5, 2]])\n",
    "is_Sp(S)=False"
   ]
  },
  {
   "cell_type": "code",
   "execution_count": null,
   "id": "49b41bc5-a3cf-40b3-ab96-04e79e8d2188",
   "metadata": {},
   "outputs": [],
   "source": [
    "c = sp.symbols('c:4')\n",
    "I4 = sp.BlockMatrix([[I, O], [O, I]]).as_explicit()"
   ]
  },
  {
   "cell_type": "code",
   "execution_count": null,
   "id": "a9db4c87-19a0-4397-9d6e-72ae2e0c4af7",
   "metadata": {},
   "outputs": [],
   "source": [
    "d1 = (c[0]*I4 + c[1]*M1 + c[2]*(M1**2) + c[3]*(M1**3)).det()\n",
    "d2 = (c[0]*I4 + c[1]*C + c[2]*(C**2) + c[3]*(C**3)).det()\n",
    "\n",
    "d1 == d2"
   ]
  },
  {
   "cell_type": "code",
   "execution_count": null,
   "id": "5e029e5f-db42-47d8-b2b4-897d670d9f0b",
   "metadata": {},
   "outputs": [],
   "source": [
    "d2"
   ]
  },
  {
   "cell_type": "markdown",
   "id": "8a74ebb6-ff70-4513-a059-31e9f978854c",
   "metadata": {},
   "source": [
    "# Note for 12/9"
   ]
  },
  {
   "cell_type": "code",
   "execution_count": null,
   "id": "6a6b563a-ae57-497b-add9-bead03530062",
   "metadata": {},
   "outputs": [],
   "source": [
    "P, Q, X0 = get_matrix_connecting_M1_with_M2([0,-1,1,0],[1,0,0,0])\n",
    "display(X0)\n",
    "print(f\"{(M2 == X0.inv()*M1*X0)=}, {is_Sp(X0)=}\")"
   ]
  },
  {
   "cell_type": "code",
   "execution_count": null,
   "id": "bc546337-37b7-4ae8-a443-cd282219c778",
   "metadata": {},
   "outputs": [],
   "source": [
    "v, w = [1,1,0,0], [0,1,1,1]\n",
    "P, Q, X = get_matrix_connecting_M1_with_M2(v,w)\n",
    "\n",
    "print(f\"{(M2 == X.inv()*M1*X)=}, {is_Sp(X)=}\")\n",
    "\n",
    "print(f\"{is_Sp(Q*(P.inv()))=}\")"
   ]
  },
  {
   "cell_type": "code",
   "execution_count": null,
   "id": "ed40896f-f637-4335-8071-644b7b29bc2f",
   "metadata": {},
   "outputs": [],
   "source": [
    "def poly(v,A):\n",
    "    terms = [v[i]*(A**i) for i in range(len(v))]\n",
    "    return v[0]*(A**0)+v[1]*(A**1)+v[2]*(A**2)+v[3]*(A**3)"
   ]
  },
  {
   "cell_type": "code",
   "execution_count": null,
   "id": "fc2b5f86-6f89-4042-ad6c-70849c457b67",
   "metadata": {},
   "outputs": [],
   "source": [
    "p, q = poly([1,-1,1,1], M2), poly([1,1,0,-1], M2)\n",
    "Y = X0*p*(q.inv())\n",
    "\n",
    "display(Y)\n",
    "print(f\"{(M2 == Y.inv()*M1*Y)=},  {is_Sp(Y)=},  {is_Sp(p*(q.inv()))=}\")"
   ]
  },
  {
   "cell_type": "code",
   "execution_count": null,
   "id": "4785ad20-e5f8-4bbc-afd3-5fac119f90b1",
   "metadata": {
    "scrolled": true
   },
   "outputs": [],
   "source": [
    "row_vecs = [list(x) for x in itr.product({-1,0,1}, repeat=4)]\n",
    "row_vecs.pop(0)\n",
    "print(row_vecs[:12], \"\\n\")\n",
    "\n",
    "vecs = []\n",
    "while len(row_vecs) > 0:\n",
    "    vecs.append(row_vecs.pop(0))\n",
    "    row_vecs.remove([x*(-1) for x in vecs[-1]])\n",
    "    \n",
    "s = len(vecs); print(vecs[:6])\n",
    "\n",
    "for v, w in itr.product(vecs, repeat=2):\n",
    "    if v == w:\n",
    "        continue\n",
    "    p, q = poly(v, M2), poly(w, M2)\n",
    "    S = p*(q.inv())\n",
    "    X = X0*S\n",
    "    if is_Sp(S): #X == X0: #P.det() == Q.det():\n",
    "        print(f\"{v=}, {w=}  --->  {(p.det(), q.det())=}\") \n",
    "        display(S, X)\n",
    "        print(f\"{is_Sp(X)=} \\n -----\\n\")"
   ]
  },
  {
   "cell_type": "code",
   "execution_count": null,
   "id": "4db07fbf-e3a0-46dc-8c3e-d743f524265a",
   "metadata": {},
   "outputs": [],
   "source": [
    "A = poly([0,1,0,0], M2)\n",
    "B = poly([0,0,1,0], M2)\n",
    "\n",
    "display(A,B)"
   ]
  },
  {
   "cell_type": "code",
   "execution_count": null,
   "id": "462ee6e7-1c20-4e98-9e8a-725dab357046",
   "metadata": {},
   "outputs": [],
   "source": [
    "poly([0,1,1,0], M2)"
   ]
  },
  {
   "cell_type": "code",
   "execution_count": null,
   "id": "d1043545-5dde-44e8-b38a-6ef436ae8792",
   "metadata": {},
   "outputs": [],
   "source": [
    "c = sp.symbols('c:4')\n",
    "g = [c[i] for i in range(4)]\n",
    "\n",
    "Cg = sp.Matrix(0,0,[])\n",
    "for i in range(4):\n",
    "    v = (C**i)*sp.Matrix(4,1,g)\n",
    "    Cg = Cg.row_join(v)\n",
    "    \n",
    "display(Cg)"
   ]
  },
  {
   "cell_type": "code",
   "execution_count": null,
   "id": "7fe8b5ea-382e-46c4-8e27-d5f378bb14b7",
   "metadata": {},
   "outputs": [],
   "source": [
    "D = Cg.det()\n",
    "DCginv = D*Cg.inv()"
   ]
  },
  {
   "cell_type": "code",
   "execution_count": null,
   "id": "45aa840e-77e4-4e70-9a14-55047fa47eaf",
   "metadata": {},
   "outputs": [],
   "source": [
    "display(DCginv)"
   ]
  },
  {
   "cell_type": "code",
   "execution_count": null,
   "id": "ad799664-1b2c-4f8e-85a9-5203037184ae",
   "metadata": {
    "scrolled": true
   },
   "outputs": [],
   "source": [
    "d = sp.symbols('d:4')\n",
    "h = sp.Matrix(4,1,[d[i] for i in range(4)])\n",
    "\n",
    "display(Cg*h)\n",
    "\n",
    "t = sp.symbols('t')\n",
    "exp = (poly(c,t)*poly(d,t)).as_poly()\n",
    "\n",
    "#display(exp.degree())\n",
    "Q,R = exp.div((t**4).as_poly())\n",
    "#display(Q,R)\n",
    "exp = Q*f+R\n",
    "display(exp)"
   ]
  },
  {
   "cell_type": "code",
   "execution_count": null,
   "id": "76a26fce-6d87-4d3b-be9b-f3b202b0fea5",
   "metadata": {},
   "outputs": [],
   "source": [
    "from sympy.polys import ring, ZZ\n",
    "R, t = ring(\"t\", ZZ)\n",
    "\n",
    "R.dmp_trunc(exp, f)"
   ]
  },
  {
   "cell_type": "code",
   "execution_count": null,
   "id": "fc372531-793c-4fb5-87ab-d38b988d0f69",
   "metadata": {},
   "outputs": [],
   "source": [
    "from sympy import reduced\n",
    "\n",
    "reduced(exp, [poly([-1,3,-3,3],t)])"
   ]
  },
  {
   "cell_type": "code",
   "execution_count": null,
   "id": "6f73b2e1-f120-443d-8061-cdd9afb0d955",
   "metadata": {},
   "outputs": [],
   "source": [
    "#f = poly([-1,3,-3,3],t).as_poly()\n",
    "display(f)\n",
    "f.is_irreducible"
   ]
  },
  {
   "cell_type": "code",
   "execution_count": null,
   "id": "5607fcb3-6949-4a4b-a66c-26b8a82cfcc3",
   "metadata": {},
   "outputs": [],
   "source": [
    "for trm in exp.all_terms():\n",
    "    deg = trm[0][0]\n",
    "    display((trm[1], t**deg))#*t**trm[0][0])"
   ]
  }
 ],
 "metadata": {
  "colab": {
   "collapsed_sections": [
    "PGII4NrboFOE"
   ],
   "provenance": []
  },
  "kernelspec": {
   "display_name": "Python 3 (ipykernel)",
   "language": "python",
   "name": "python3"
  },
  "language_info": {
   "codemirror_mode": {
    "name": "ipython",
    "version": 3
   },
   "file_extension": ".py",
   "mimetype": "text/x-python",
   "name": "python",
   "nbconvert_exporter": "python",
   "pygments_lexer": "ipython3",
   "version": "3.12.6"
  }
 },
 "nbformat": 4,
 "nbformat_minor": 5
}
