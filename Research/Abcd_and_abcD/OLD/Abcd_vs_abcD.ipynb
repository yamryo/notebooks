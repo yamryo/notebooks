{
 "cells": [
  {
   "cell_type": "markdown",
   "id": "b3a46c7e-7ec3-4dec-a8ce-dd1b9d632b7a",
   "metadata": {
    "id": "b3a46c7e-7ec3-4dec-a8ce-dd1b9d632b7a"
   },
   "source": [
    "# Abcd vs abcD\n"
   ]
  },
  {
   "cell_type": "markdown",
   "id": "KPups8IJ6oYy",
   "metadata": {
    "id": "KPups8IJ6oYy",
    "jp-MarkdownHeadingCollapsed": true
   },
   "source": [
    "### Modules"
   ]
  },
  {
   "cell_type": "code",
   "execution_count": 1,
   "id": "14c7ea7c-d8c9-4a75-a3a9-ccde4f2bb0cc",
   "metadata": {
    "colab": {
     "base_uri": "https://localhost:8080/"
    },
    "executionInfo": {
     "elapsed": 19392,
     "status": "ok",
     "timestamp": 1726184657592,
     "user": {
      "displayName": "山本亮介",
      "userId": "01861936879830612877"
     },
     "user_tz": -540
    },
    "id": "14c7ea7c-d8c9-4a75-a3a9-ccde4f2bb0cc",
    "outputId": "365c2cd4-ee7f-4d2a-bc32-dd178eb49258",
    "scrolled": true
   },
   "outputs": [],
   "source": [
    "#import os\n",
    "#import numpy as np\n",
    "import sympy as sp\n",
    "sp.init_printing(use_latex='mathjax')\n",
    "#import pandas as pd\n",
    "#import ast\n",
    "\n",
    "#from multiprocessing import Pool, cpu_count\n",
    "#from tqdm.notebook import tqdm\n",
    "\n",
    "from snappy import *\n",
    "S = twister.Surface('S_2_1')"
   ]
  },
  {
   "cell_type": "markdown",
   "id": "16d9ab3a-82d9-4e0d-9ff0-dee263c980b9",
   "metadata": {
    "jp-MarkdownHeadingCollapsed": true
   },
   "source": [
    "## 6_2"
   ]
  },
  {
   "cell_type": "code",
   "execution_count": 2,
   "id": "2b01aa51-9baf-4bdb-ba7a-1241f5ad2dcb",
   "metadata": {
    "executionInfo": {
     "elapsed": 6,
     "status": "aborted",
     "timestamp": 1726184657593,
     "user": {
      "displayName": "山本亮介",
      "userId": "01861936879830612877"
     },
     "user_tz": -540
    },
    "id": "TuLV1eo61SQ6"
   },
   "outputs": [
    {
     "name": "stdout",
     "output_type": "stream",
     "text": [
      "abcD\n",
      "4.4008325161\n",
      "6\n",
      "lmd=3\n"
     ]
    }
   ],
   "source": [
    "md = 'abcD' #'Dcba' #\n",
    "print(f\"{md}\") \n",
    "\n",
    "M3 = S.bundle(monodromy=md)\n",
    "print(M3.volume())\n",
    "\n",
    "L = M3.exterior_to_link()\n",
    "print(len(L.DT_code()[0]))\n",
    "#pd = L.PD_code(); print(pd)\n",
    "\n",
    "hfk = L.knot_floer_homology()\n",
    "lmd = list(hfk['ranks'].keys())[-1][1]; print(f\"{lmd=}\")"
   ]
  },
  {
   "cell_type": "code",
   "execution_count": 3,
   "id": "f57d61e6-ad22-4342-8a73-e41e8b627b7e",
   "metadata": {
    "executionInfo": {
     "elapsed": 6,
     "status": "aborted",
     "timestamp": 1726184657593,
     "user": {
      "displayName": "山本亮介",
      "userId": "01861936879830612877"
     },
     "user_tz": -540
    },
    "id": "TuLV1eo61SQ6"
   },
   "outputs": [
    {
     "name": "stdout",
     "output_type": "stream",
     "text": [
      "Abcd\n",
      "4.4008325161\n",
      "6\n",
      "lmd=3\n"
     ]
    }
   ],
   "source": [
    "md = 'Abcd' #'DbCa''dCBA' #\n",
    "print(f\"{md}\") \n",
    "\n",
    "M3 = S.bundle(monodromy=md)\n",
    "print(M3.volume())\n",
    "\n",
    "L = M3.exterior_to_link()\n",
    "print(len(L.DT_code()[0]))\n",
    "#pd = L.PD_code(); print(pd)\n",
    "\n",
    "hfk = L.knot_floer_homology()\n",
    "lmd = list(hfk['ranks'].keys())[-1][1]; print(f\"{lmd=}\")"
   ]
  },
  {
   "cell_type": "code",
   "execution_count": 4,
   "id": "1dd1646a-6a4b-451d-8932-9f95a219e89a",
   "metadata": {
    "executionInfo": {
     "elapsed": 6,
     "status": "aborted",
     "timestamp": 1726184657593,
     "user": {
      "displayName": "山本亮介",
      "userId": "01861936879830612877"
     },
     "user_tz": -540
    },
    "id": "TuLV1eo61SQ6"
   },
   "outputs": [
    {
     "name": "stdout",
     "output_type": "stream",
     "text": [
      "is_isometric?: True\n"
     ]
    }
   ],
   "source": [
    "Ms = [S.bundle(monodromy=mc) for mc in ['Abcd', 'abcD']]\n",
    "print(f\"is_isometric?: {Ms[0].is_isometric_to(Ms[1])}\")"
   ]
  },
  {
   "cell_type": "markdown",
   "id": "96f4c9a0-2842-42af-965d-eeb7cd6ba6ce",
   "metadata": {
    "jp-MarkdownHeadingCollapsed": true
   },
   "source": [
    "## With Siegel representation"
   ]
  },
  {
   "cell_type": "code",
   "execution_count": 27,
   "id": "01e51fd6-90b1-440d-88f8-6223bdbc4818",
   "metadata": {},
   "outputs": [],
   "source": [
    "K = sp.MatrixSymbol('K',2,2) #([[0,-1],[0,0]])\n",
    "L = sp.MatrixSymbol('L',2,2) #([[1,0],[1,1]])\n",
    "I = sp.Identity(2)\n",
    "O = sp.ZeroMatrix(2,2)\n",
    "J = sp.MatrixSymbol('J',2,2) #([[0,1],[-1,0]])"
   ]
  },
  {
   "cell_type": "code",
   "execution_count": 39,
   "id": "1109de6c-4535-4b3c-97e8-40d2b50f133e",
   "metadata": {},
   "outputs": [
    {
     "data": {
      "text/latex": [
       "$\\displaystyle \\left[\\begin{matrix}L^{-1} & 0\\\\0 & \\mathbb{I}\\end{matrix}\\right]$"
      ],
      "text/plain": [
       "⎡ -1   ⎤\n",
       "⎢L    𝟘⎥\n",
       "⎢      ⎥\n",
       "⎣ 𝟘   𝕀⎦"
      ]
     },
     "metadata": {},
     "output_type": "display_data"
    },
    {
     "data": {
      "text/latex": [
       "$\\displaystyle \\left[\\begin{matrix}L^{T} & K\\\\K & L^{T}\\end{matrix}\\right]$"
      ],
      "text/plain": [
       "⎡ T    ⎤\n",
       "⎢L   K ⎥\n",
       "⎢      ⎥\n",
       "⎢     T⎥\n",
       "⎣K   L ⎦"
      ]
     },
     "metadata": {},
     "output_type": "display_data"
    },
    {
     "data": {
      "text/latex": [
       "$\\displaystyle \\left[\\begin{matrix}\\mathbb{I} & 0\\\\0 & L^{-1}\\end{matrix}\\right]$"
      ],
      "text/plain": [
       "⎡𝕀   𝟘 ⎤\n",
       "⎢      ⎥\n",
       "⎢    -1⎥\n",
       "⎣𝟘  L  ⎦"
      ]
     },
     "metadata": {},
     "output_type": "display_data"
    },
    {
     "data": {
      "text/latex": [
       "$\\displaystyle \\left[\\begin{matrix}\\mathbb{I} & 0\\\\0 & L^{T}\\end{matrix}\\right]$"
      ],
      "text/plain": [
       "⎡𝕀  𝟘 ⎤\n",
       "⎢     ⎥\n",
       "⎢    T⎥\n",
       "⎣𝟘  L ⎦"
      ]
     },
     "metadata": {},
     "output_type": "display_data"
    },
    {
     "data": {
      "text/latex": [
       "$\\displaystyle \\left[\\begin{matrix}J & 0\\\\0 & J\\end{matrix}\\right]$"
      ],
      "text/plain": [
       "⎡J  𝟘⎤\n",
       "⎢    ⎥\n",
       "⎣𝟘  J⎦"
      ]
     },
     "metadata": {},
     "output_type": "display_data"
    }
   ],
   "source": [
    "Ma = sp.BlockMatrix([[L.inv(), O], [O, I]])\n",
    "Mb = sp.BlockMatrix([[L.transpose(), K], [K, L.transpose()]])\n",
    "Mc = sp.BlockMatrix([[I, O], [O, L.inv()]])\n",
    "Md = sp.BlockMatrix([[I, O], [O, L.transpose()]])\n",
    "display(Ma, Mb, Mc, Md)\n",
    "\n",
    "MJ = sp.BlockMatrix([[J, O], [O, J]]); display(MJ)"
   ]
  },
  {
   "cell_type": "code",
   "execution_count": 44,
   "id": "0fbab72b-45ba-4d48-91ca-a76b63478bdf",
   "metadata": {},
   "outputs": [
    {
     "data": {
      "text/latex": [
       "$\\displaystyle \\left[\\begin{matrix}1 & 0 & 0 & 0\\\\0 & 1 & 0 & 0\\\\0 & 0 & 1 & 1\\\\0 & 0 & 0 & 1\\end{matrix}\\right]$"
      ],
      "text/plain": [
       "⎡1  0  0  0⎤\n",
       "⎢          ⎥\n",
       "⎢0  1  0  0⎥\n",
       "⎢          ⎥\n",
       "⎢0  0  1  1⎥\n",
       "⎢          ⎥\n",
       "⎣0  0  0  1⎦"
      ]
     },
     "metadata": {},
     "output_type": "display_data"
    },
    {
     "data": {
      "text/latex": [
       "$\\displaystyle 1$"
      ],
      "text/plain": [
       "1"
      ]
     },
     "metadata": {},
     "output_type": "display_data"
    }
   ],
   "source": [
    "def ev(M):\n",
    "    return M.subs([\n",
    "        (L, sp.Matrix([[1,0],[1,1]])),\n",
    "        (K, sp.Matrix([[0,-1],[0,0]])),\n",
    "        (J, sp.Matrix([[0,1],[-1,0]])),\n",
    "    ]).as_explicit()\n",
    "evMd = ev(Md)\n",
    "display(evMd, evMd.det())"
   ]
  },
  {
   "cell_type": "markdown",
   "id": "a078c256-638f-4e2f-a3ba-41619752c88b",
   "metadata": {},
   "source": [
    "### Checking if it's an element in Sp(4,Z)"
   ]
  },
  {
   "cell_type": "code",
   "execution_count": 86,
   "id": "552769d4-0056-43e0-8ee8-d91258e83b1a",
   "metadata": {},
   "outputs": [
    {
     "name": "stdout",
     "output_type": "stream",
     "text": [
      "Matrix([\n",
      "[L.T,   K],\n",
      "[  K, L.T]]) is in Sp(4,Z)\n",
      "Matrix([\n",
      "[I,       0],\n",
      "[0, L**(-1)]]) is in Sp(4,Z)\n",
      "Matrix([\n",
      "[I,   0],\n",
      "[0, L.T]]) is in Sp(4,Z)\n",
      "Matrix([\n",
      "[L**(-1), 0],\n",
      "[      0, I]]) is in Sp(4,Z)\n"
     ]
    }
   ],
   "source": [
    "def is_Sp(M):\n",
    "    if type(M) == sp.matrices.expressions.blockmatrix.BlockMatrix:\n",
    "        return sp.block_collapse(ev(M).transpose()*ev(MJ)*ev(M)) == ev(MJ)\n",
    "    else:\n",
    "        return M.transpose()*ev(MJ)*M == ev(MJ)\n",
    "\n",
    "for M in {Ma, Mb, Mc, Md}:\n",
    "    if in_Sp(M):\n",
    "        print(f\"{M} is in Sp(4,Z)\")"
   ]
  },
  {
   "cell_type": "markdown",
   "id": "97674002-175d-4e57-bce2-da47612f4161",
   "metadata": {},
   "source": [
    "### The symplectic expressions of dAbc and Dabc"
   ]
  },
  {
   "cell_type": "code",
   "execution_count": 99,
   "id": "ebe1fda1-ea9c-4f43-b30f-128de17f78a0",
   "metadata": {},
   "outputs": [
    {
     "data": {
      "text/latex": [
       "$\\displaystyle \\left[\\begin{matrix}L L^{T} & L K L^{-1} L^{T}\\\\K & L^{T} L^{-1} L^{T}\\end{matrix}\\right]$"
      ],
      "text/plain": [
       "⎡   T       -1  T⎤\n",
       "⎢L⋅L   L⋅K⋅L  ⋅L ⎥\n",
       "⎢                ⎥\n",
       "⎢       T  -1  T ⎥\n",
       "⎣ K    L ⋅L  ⋅L  ⎦"
      ]
     },
     "metadata": {},
     "output_type": "display_data"
    },
    {
     "data": {
      "text/latex": [
       "$\\displaystyle \\left[\\begin{matrix}L^{-1} L^{T} & L^{-1} K L^{-1} \\left(L^{T}\\right)^{-1}\\\\K & L^{T} L^{-1} \\left(L^{T}\\right)^{-1}\\end{matrix}\\right]$"
      ],
      "text/plain": [
       "⎡                      -1⎤\n",
       "⎢ -1  T   -1    -1 ⎛ T⎞  ⎥\n",
       "⎢L  ⋅L   L  ⋅K⋅L  ⋅⎝L ⎠  ⎥\n",
       "⎢                        ⎥\n",
       "⎢                    -1  ⎥\n",
       "⎢          T  -1 ⎛ T⎞    ⎥\n",
       "⎣  K      L ⋅L  ⋅⎝L ⎠    ⎦"
      ]
     },
     "metadata": {},
     "output_type": "display_data"
    }
   ],
   "source": [
    "M_Abcd = sp.block_collapse((Ma.inv())*Mb*Mc*Md)\n",
    "display(M_Abcd)\n",
    "M_abcD = sp.block_collapse(Ma*Mb*Mc*(Md.inv()))\n",
    "display(M_abcD)"
   ]
  },
  {
   "cell_type": "code",
   "execution_count": 105,
   "id": "89e037ea-a339-4822-ba03-4d33180149e8",
   "metadata": {
    "scrolled": true
   },
   "outputs": [
    {
     "data": {
      "text/latex": [
       "$\\displaystyle \\left[\\begin{matrix}1 & 1 & 1 & 0\\\\1 & 2 & 1 & 0\\\\0 & -1 & 0 & 1\\\\0 & 0 & -1 & 0\\end{matrix}\\right]$"
      ],
      "text/plain": [
       "⎡1  1   1   0⎤\n",
       "⎢            ⎥\n",
       "⎢1  2   1   0⎥\n",
       "⎢            ⎥\n",
       "⎢0  -1  0   1⎥\n",
       "⎢            ⎥\n",
       "⎣0  0   -1  0⎦"
      ]
     },
     "metadata": {},
     "output_type": "display_data"
    },
    {
     "data": {
      "text/latex": [
       "$\\displaystyle \\left[\\begin{matrix}1 & 1 & 1 & -2\\\\-1 & 0 & -1 & 2\\\\0 & -1 & 0 & 1\\\\0 & 0 & -1 & 2\\end{matrix}\\right]$"
      ],
      "text/plain": [
       "⎡1   1   1   -2⎤\n",
       "⎢              ⎥\n",
       "⎢-1  0   -1  2 ⎥\n",
       "⎢              ⎥\n",
       "⎢0   -1  0   1 ⎥\n",
       "⎢              ⎥\n",
       "⎣0   0   -1  2 ⎦"
      ]
     },
     "metadata": {},
     "output_type": "display_data"
    },
    {
     "name": "stdout",
     "output_type": "stream",
     "text": [
      "True\n",
      "True\n"
     ]
    }
   ],
   "source": [
    "M1 = ev(M_Abcd); display(M1)\n",
    "M2 = ev(M_abcD);display(M2)\n",
    "\n",
    "for M in {M1,M2}:\n",
    "    print(is_Sp(M))"
   ]
  },
  {
   "cell_type": "markdown",
   "id": "961f8f22-5c47-4b5c-b471-2ee02681f807",
   "metadata": {},
   "source": [
    "## Jordan canonical form"
   ]
  },
  {
   "cell_type": "code",
   "execution_count": 1,
   "id": "49b53157-3ceb-4c35-b524-fe9c968eedec",
   "metadata": {},
   "outputs": [
    {
     "ename": "NameError",
     "evalue": "name 'M1' is not defined",
     "output_type": "error",
     "traceback": [
      "\u001b[0;31m---------------------------------------------------------------------------\u001b[0m",
      "\u001b[0;31mNameError\u001b[0m                                 Traceback (most recent call last)",
      "Cell \u001b[0;32mIn[1], line 1\u001b[0m\n\u001b[0;32m----> 1\u001b[0m P1, JM1 \u001b[38;5;241m=\u001b[39m \u001b[43mM1\u001b[49m\u001b[38;5;241m.\u001b[39mjordan_form()\n\u001b[1;32m      2\u001b[0m display(P1, JM1)\n",
      "\u001b[0;31mNameError\u001b[0m: name 'M1' is not defined"
     ]
    }
   ],
   "source": [
    "P1, JM1 = M1.jordan_form()\n",
    "display(P1, JM1)"
   ]
  },
  {
   "cell_type": "code",
   "execution_count": null,
   "id": "ec1420d2-a95d-447e-aa90-8bb68a9b1b8c",
   "metadata": {
    "scrolled": true
   },
   "outputs": [],
   "source": [
    "P2, JM2 = M2.jordan_form()\n",
    "display(P2, JM2)"
   ]
  },
  {
   "cell_type": "code",
   "execution_count": null,
   "id": "1a371270-a296-41fd-88cb-c5e1c2e26e7b",
   "metadata": {},
   "outputs": [],
   "source": [
    "JM1 == JM2"
   ]
  },
  {
   "cell_type": "code",
   "execution_count": null,
   "id": "19bb65d7-12da-4388-ab86-e43fd87fbbe5",
   "metadata": {},
   "outputs": [],
   "source": [
    "P1_inv = P1.inv()\n",
    "display(P1_inv)"
   ]
  },
  {
   "cell_type": "code",
   "execution_count": null,
   "id": "26a5569a-426d-4a00-aa21-b4e804fb3b1b",
   "metadata": {},
   "outputs": [],
   "source": [
    "Q = (P1_inv*P2).simplify()\n",
    "display(Q)"
   ]
  },
  {
   "cell_type": "markdown",
   "id": "e5bba8fe-37a4-47f5-9be4-ba7014256d09",
   "metadata": {},
   "source": [
    "## Rational canonical form"
   ]
  },
  {
   "cell_type": "markdown",
   "id": "4589ee1d-b557-4bdc-b8d3-ebf90bd9ddc3",
   "metadata": {},
   "source": [
    "### The charactoristic polynomial of M1 (M2)"
   ]
  },
  {
   "cell_type": "code",
   "execution_count": 93,
   "id": "c1c0f397-7ea8-4bb5-a1a0-adc4d4a81dd3",
   "metadata": {},
   "outputs": [
    {
     "name": "stdout",
     "output_type": "stream",
     "text": [
      "cp_M1 == cp_M2 ?   --> True\n"
     ]
    },
    {
     "data": {
      "text/latex": [
       "$\\displaystyle \\lambda^{4} - 3 \\lambda^{3} + 3 \\lambda^{2} - 3 \\lambda + 1$"
      ],
      "text/plain": [
       " 4      3      2          \n",
       "λ  - 3⋅λ  + 3⋅λ  - 3⋅λ + 1"
      ]
     },
     "metadata": {},
     "output_type": "display_data"
    }
   ],
   "source": [
    "cp_M1 = M1.charpoly().as_expr()\n",
    "cp_M2 = M2.charpoly().as_expr()\n",
    "\n",
    "print(f\"cp_M1 == cp_M2 ?   --> {cp_M1==cp_M2}\")\n",
    "\n",
    "display(cp_M1)"
   ]
  },
  {
   "cell_type": "code",
   "execution_count": 94,
   "id": "be0564db-3c3d-43ce-b05b-396416031ebd",
   "metadata": {},
   "outputs": [
    {
     "data": {
      "text/latex": [
       "$\\displaystyle \\lambda^{4} - 3 \\lambda^{3} + 3 \\lambda^{2} - 3 \\lambda + 1$"
      ],
      "text/plain": [
       " 4      3      2          \n",
       "λ  - 3⋅λ  + 3⋅λ  - 3⋅λ + 1"
      ]
     },
     "execution_count": 94,
     "metadata": {},
     "output_type": "execute_result"
    }
   ],
   "source": [
    "cp_M1.factor()"
   ]
  },
  {
   "cell_type": "markdown",
   "id": "f651f69f-e501-4d3f-8e90-855dbfabe5e2",
   "metadata": {},
   "source": [
    "### The rational form of M1 (M2)"
   ]
  },
  {
   "cell_type": "code",
   "execution_count": 95,
   "id": "8421e341-9349-4cfd-ad80-b176d3ca1fce",
   "metadata": {},
   "outputs": [
    {
     "data": {
      "text/latex": [
       "$\\displaystyle \\left[\\begin{matrix}0 & 0 & 0 & -1\\\\1 & 0 & 0 & 3\\\\0 & 1 & 0 & -3\\\\0 & 0 & 1 & 3\\end{matrix}\\right]$"
      ],
      "text/plain": [
       "⎡0  0  0  -1⎤\n",
       "⎢           ⎥\n",
       "⎢1  0  0  3 ⎥\n",
       "⎢           ⎥\n",
       "⎢0  1  0  -3⎥\n",
       "⎢           ⎥\n",
       "⎣0  0  1  3 ⎦"
      ]
     },
     "metadata": {},
     "output_type": "display_data"
    },
    {
     "data": {
      "text/latex": [
       "$\\displaystyle 1$"
      ],
      "text/plain": [
       "1"
      ]
     },
     "metadata": {},
     "output_type": "display_data"
    },
    {
     "data": {
      "text/plain": [
       "False"
      ]
     },
     "metadata": {},
     "output_type": "display_data"
    }
   ],
   "source": [
    "C = sp.matrices.expressions.CompanionMatrix(M1.charpoly()).as_explicit()\n",
    "display(C, C.det(), is_Sp(C))"
   ]
  },
  {
   "cell_type": "markdown",
   "id": "12111eee-5cee-490e-a6f3-68bc49c9bc5f",
   "metadata": {},
   "source": [
    "### basis of the T-cyclic (sub)space"
   ]
  },
  {
   "cell_type": "code",
   "execution_count": 106,
   "id": "564e73be-95bd-470b-b0c9-c848580931c1",
   "metadata": {},
   "outputs": [
    {
     "data": {
      "text/latex": [
       "$\\displaystyle \\left[\\begin{matrix}0 & 1 & 2 & 4\\\\1 & 2 & 4 & 8\\\\0 & -1 & -2 & -3\\\\0 & 0 & 1 & 2\\end{matrix}\\right]$"
      ],
      "text/plain": [
       "⎡0  1   2   4 ⎤\n",
       "⎢             ⎥\n",
       "⎢1  2   4   8 ⎥\n",
       "⎢             ⎥\n",
       "⎢0  -1  -2  -3⎥\n",
       "⎢             ⎥\n",
       "⎣0  0   1   2 ⎦"
      ]
     },
     "metadata": {},
     "output_type": "display_data"
    },
    {
     "data": {
      "text/latex": [
       "$\\displaystyle 1$"
      ],
      "text/plain": [
       "1"
      ]
     },
     "metadata": {},
     "output_type": "display_data"
    },
    {
     "data": {
      "text/latex": [
       "$\\displaystyle \\left( \\left[\\begin{matrix}1 & 1 & 1 & 0\\\\1 & 2 & 1 & 0\\\\0 & -1 & 0 & 1\\\\0 & 0 & -1 & 0\\end{matrix}\\right], \\  \\left[\\begin{matrix}1 & 1 & 1 & 0\\\\1 & 2 & 1 & 0\\\\0 & -1 & 0 & 1\\\\0 & 0 & -1 & 0\\end{matrix}\\right]\\right)$"
      ],
      "text/plain": [
       "⎛⎡1  1   1   0⎤  ⎡1  1   1   0⎤⎞\n",
       "⎜⎢            ⎥  ⎢            ⎥⎟\n",
       "⎜⎢1  2   1   0⎥  ⎢1  2   1   0⎥⎟\n",
       "⎜⎢            ⎥, ⎢            ⎥⎟\n",
       "⎜⎢0  -1  0   1⎥  ⎢0  -1  0   1⎥⎟\n",
       "⎜⎢            ⎥  ⎢            ⎥⎟\n",
       "⎝⎣0  0   -1  0⎦  ⎣0  0   -1  0⎦⎠"
      ]
     },
     "execution_count": 106,
     "metadata": {},
     "output_type": "execute_result"
    }
   ],
   "source": [
    "### Abcd (M1)\n",
    "v = sp.Matrix(4,1,[0,1,0,0])\n",
    "vecs = [(M1**k)*v for k in range(5)]\n",
    "#display(vecs, 3*vecs[3]-3*vecs[2]+3*vecs[1]-vecs[0])\n",
    "\n",
    "P = sp.Matrix(4,4,lambda i,j: vecs[j][i])\n",
    "display(P, P.det()) #, P.inv())\n",
    "\n",
    "#(P.inv())*M1*P\n",
    "P*C*(P.inv()), M1"
   ]
  },
  {
   "cell_type": "code",
   "execution_count": 114,
   "id": "d00ae574-592b-4941-85f1-f1afd5e4748d",
   "metadata": {},
   "outputs": [
    {
     "data": {
      "text/latex": [
       "$\\displaystyle \\left[\\begin{matrix}1 & 1 & 0 & 0\\\\0 & -1 & -1 & -1\\\\0 & 0 & 1 & 1\\\\0 & 0 & 0 & -1\\end{matrix}\\right]$"
      ],
      "text/plain": [
       "⎡1  1   0   0 ⎤\n",
       "⎢             ⎥\n",
       "⎢0  -1  -1  -1⎥\n",
       "⎢             ⎥\n",
       "⎢0  0   1   1 ⎥\n",
       "⎢             ⎥\n",
       "⎣0  0   0   -1⎦"
      ]
     },
     "metadata": {},
     "output_type": "display_data"
    },
    {
     "data": {
      "text/latex": [
       "$\\displaystyle 1$"
      ],
      "text/plain": [
       "1"
      ]
     },
     "metadata": {},
     "output_type": "display_data"
    },
    {
     "data": {
      "text/latex": [
       "$\\displaystyle \\left( \\left[\\begin{matrix}1 & 1 & 1 & -2\\\\-1 & 0 & -1 & 2\\\\0 & -1 & 0 & 1\\\\0 & 0 & -1 & 2\\end{matrix}\\right], \\  \\left[\\begin{matrix}1 & 1 & 1 & -2\\\\-1 & 0 & -1 & 2\\\\0 & -1 & 0 & 1\\\\0 & 0 & -1 & 2\\end{matrix}\\right]\\right)$"
      ],
      "text/plain": [
       "⎛⎡1   1   1   -2⎤  ⎡1   1   1   -2⎤⎞\n",
       "⎜⎢              ⎥  ⎢              ⎥⎟\n",
       "⎜⎢-1  0   -1  2 ⎥  ⎢-1  0   -1  2 ⎥⎟\n",
       "⎜⎢              ⎥, ⎢              ⎥⎟\n",
       "⎜⎢0   -1  0   1 ⎥  ⎢0   -1  0   1 ⎥⎟\n",
       "⎜⎢              ⎥  ⎢              ⎥⎟\n",
       "⎝⎣0   0   -1  2 ⎦  ⎣0   0   -1  2 ⎦⎠"
      ]
     },
     "execution_count": 114,
     "metadata": {},
     "output_type": "execute_result"
    }
   ],
   "source": [
    "### abcD (M2)\n",
    "v = sp.Matrix(4,1,[1,0,0,0])\n",
    "vecs = [(M2**k)*v for k in range(5)]\n",
    "#display(vecs, 3*vecs[3]-3*vecs[2]+3*vecs[1]-vecs[0])\n",
    "\n",
    "Q = sp.Matrix(4,4,lambda i,j: vecs[j][i])\n",
    "display(Q, Q.det()) #, Q.inv())\n",
    "\n",
    "Q*C*(Q.inv()), M2"
   ]
  },
  {
   "cell_type": "markdown",
   "id": "4a5ccc7f-422e-44bd-af6e-294671bb1145",
   "metadata": {},
   "source": [
    "### The matrix giving conjugacy of M1 with M2"
   ]
  },
  {
   "cell_type": "code",
   "execution_count": 115,
   "id": "1e261609-c10d-4b73-ae5c-ee6295224bad",
   "metadata": {},
   "outputs": [
    {
     "data": {
      "text/latex": [
       "$\\displaystyle \\left[\\begin{matrix}-1 & 1 & 1 & 0\\\\-1 & 0 & -1 & 0\\\\-6 & 3 & -2 & -3\\\\-4 & 2 & -1 & -2\\end{matrix}\\right]$"
      ],
      "text/plain": [
       "⎡-1  1  1   0 ⎤\n",
       "⎢             ⎥\n",
       "⎢-1  0  -1  0 ⎥\n",
       "⎢             ⎥\n",
       "⎢-6  3  -2  -3⎥\n",
       "⎢             ⎥\n",
       "⎣-4  2  -1  -2⎦"
      ]
     },
     "metadata": {},
     "output_type": "display_data"
    },
    {
     "data": {
      "text/latex": [
       "$\\displaystyle 1$"
      ],
      "text/plain": [
       "1"
      ]
     },
     "metadata": {},
     "output_type": "display_data"
    },
    {
     "data": {
      "text/plain": [
       "True"
      ]
     },
     "metadata": {},
     "output_type": "display_data"
    },
    {
     "name": "stdout",
     "output_type": "stream",
     "text": [
      "X==M2 ? --> True\n"
     ]
    }
   ],
   "source": [
    "S2 = Q*(P.inv())\n",
    "display(S2, S2.det(), is_Sp(S2))\n",
    "\n",
    "X = S2*M1*(S2.inv())\n",
    "#display(X)\n",
    "print(f\"X==M2 ? --> {X==M2}\")"
   ]
  },
  {
   "cell_type": "markdown",
   "id": "80267067-708f-4768-8e58-f1ae95ca0fda",
   "metadata": {
    "jp-MarkdownHeadingCollapsed": true
   },
   "source": [
    "### Another trial"
   ]
  },
  {
   "cell_type": "code",
   "execution_count": 16,
   "id": "b5df5e6d-e5ca-473d-a925-794ed83e9b32",
   "metadata": {},
   "outputs": [
    {
     "data": {
      "text/latex": [
       "$\\displaystyle \\left[\\begin{matrix}1 & 1 & 2 & 4\\\\0 & 1 & 3 & 7\\\\0 & 0 & -1 & -2\\\\0 & 0 & 0 & 1\\end{matrix}\\right]$"
      ],
      "text/plain": [
       "⎡1  1  2   4 ⎤\n",
       "⎢            ⎥\n",
       "⎢0  1  3   7 ⎥\n",
       "⎢            ⎥\n",
       "⎢0  0  -1  -2⎥\n",
       "⎢            ⎥\n",
       "⎣0  0  0   1 ⎦"
      ]
     },
     "metadata": {},
     "output_type": "display_data"
    },
    {
     "data": {
      "text/latex": [
       "$\\displaystyle -1$"
      ],
      "text/plain": [
       "-1"
      ]
     },
     "metadata": {},
     "output_type": "display_data"
    },
    {
     "name": "stdout",
     "output_type": "stream",
     "text": [
      "True\n"
     ]
    }
   ],
   "source": [
    "#### dAbc (M1)\n",
    "\n",
    "e1 = sp.Matrix(4,1,[1,0,0,0])\n",
    "vecs = [(M1**k)*e1 for k in range(4)]\n",
    "\n",
    "P = sp.Matrix(4,4,lambda i,j: vecs[j][i])\n",
    "display(P, P.det()) #, P.inv())\n",
    "print(P*C*(P.inv()) == M1)"
   ]
  },
  {
   "cell_type": "code",
   "execution_count": 17,
   "id": "cc8ff622-7056-4757-8b23-c1bf337821e8",
   "metadata": {},
   "outputs": [
    {
     "data": {
      "text/latex": [
       "$\\displaystyle \\left[\\begin{matrix}0 & 2 & 2 & 1\\\\1 & -1 & -3 & -4\\\\1 & 0 & 1 & 4\\\\0 & -1 & -1 & -2\\end{matrix}\\right]$"
      ],
      "text/plain": [
       "⎡0  2   2   1 ⎤\n",
       "⎢             ⎥\n",
       "⎢1  -1  -3  -4⎥\n",
       "⎢             ⎥\n",
       "⎢1  0   1   4 ⎥\n",
       "⎢             ⎥\n",
       "⎣0  -1  -1  -2⎦"
      ]
     },
     "metadata": {},
     "output_type": "display_data"
    },
    {
     "data": {
      "text/latex": [
       "$\\displaystyle 9$"
      ],
      "text/plain": [
       "9"
      ]
     },
     "metadata": {},
     "output_type": "display_data"
    },
    {
     "name": "stdout",
     "output_type": "stream",
     "text": [
      "True\n"
     ]
    }
   ],
   "source": [
    "#### Dabc (M2)\n",
    "\n",
    "e1 = sp.Matrix(4,1,[0,1,1,0])\n",
    "vecs = [(M2**k)*e1 for k in range(4)]\n",
    "\n",
    "Q = sp.Matrix(4,4,lambda i,j: vecs[j][i])\n",
    "display(Q, Q.det()) #, Q.inv())\n",
    "print(Q*C*(Q.inv()) == M2)"
   ]
  },
  {
   "cell_type": "markdown",
   "id": "4177e630-6e0d-4349-aa45-ddc5737624cd",
   "metadata": {
    "jp-MarkdownHeadingCollapsed": true
   },
   "source": [
    "### The matrix giving conjugacy of M1 with M2"
   ]
  },
  {
   "cell_type": "code",
   "execution_count": 18,
   "id": "53064c27-89fe-425d-821c-3a3b86db2ed1",
   "metadata": {},
   "outputs": [
    {
     "data": {
      "text/latex": [
       "$\\displaystyle \\left[\\begin{matrix}0 & 2 & 4 & -5\\\\1 & -2 & -1 & 4\\\\1 & -1 & -2 & 3\\\\0 & -1 & -2 & 1\\end{matrix}\\right]$"
      ],
      "text/plain": [
       "⎡0  2   4   -5⎤\n",
       "⎢             ⎥\n",
       "⎢1  -2  -1  4 ⎥\n",
       "⎢             ⎥\n",
       "⎢1  -1  -2  3 ⎥\n",
       "⎢             ⎥\n",
       "⎣0  -1  -2  1 ⎦"
      ]
     },
     "metadata": {},
     "output_type": "display_data"
    },
    {
     "data": {
      "text/latex": [
       "$\\displaystyle -9$"
      ],
      "text/plain": [
       "-9"
      ]
     },
     "metadata": {},
     "output_type": "display_data"
    }
   ],
   "source": [
    "S1 = Q*(P.inv())\n",
    "display(S1, S1.det())"
   ]
  },
  {
   "cell_type": "code",
   "execution_count": 19,
   "id": "32f4d5b9-36d1-49c8-a7e6-40369ab6a157",
   "metadata": {},
   "outputs": [
    {
     "data": {
      "text/latex": [
       "$\\displaystyle \\left[\\begin{matrix}1 & 1 & 1 & -1\\\\-1 & 0 & -1 & 1\\\\0 & -1 & 1 & 0\\\\0 & 0 & -1 & 1\\end{matrix}\\right]$"
      ],
      "text/plain": [
       "⎡1   1   1   -1⎤\n",
       "⎢              ⎥\n",
       "⎢-1  0   -1  1 ⎥\n",
       "⎢              ⎥\n",
       "⎢0   -1  1   0 ⎥\n",
       "⎢              ⎥\n",
       "⎣0   0   -1  1 ⎦"
      ]
     },
     "metadata": {},
     "output_type": "display_data"
    },
    {
     "name": "stdout",
     "output_type": "stream",
     "text": [
      "True\n"
     ]
    }
   ],
   "source": [
    "X = S1*M1*(S1.inv())\n",
    "display(X)\n",
    "\n",
    "print(X==M2)"
   ]
  },
  {
   "cell_type": "markdown",
   "id": "c18a99a2-696c-481b-8725-66939165df4a",
   "metadata": {},
   "source": [
    "### One more"
   ]
  },
  {
   "cell_type": "code",
   "execution_count": 109,
   "id": "bd8b770e-2451-4017-bef9-921dd6b37622",
   "metadata": {},
   "outputs": [
    {
     "data": {
      "text/latex": [
       "$\\displaystyle \\left[\\begin{matrix}0 & 1 & 3 & 6\\\\1 & 2 & 5 & 11\\\\0 & 0 & -2 & -5\\\\1 & 0 & 0 & 2\\end{matrix}\\right]$"
      ],
      "text/plain": [
       "⎡0  1  3   6 ⎤\n",
       "⎢            ⎥\n",
       "⎢1  2  5   11⎥\n",
       "⎢            ⎥\n",
       "⎢0  0  -2  -5⎥\n",
       "⎢            ⎥\n",
       "⎣1  0  0   2 ⎦"
      ]
     },
     "metadata": {},
     "output_type": "display_data"
    },
    {
     "data": {
      "text/latex": [
       "$\\displaystyle 1$"
      ],
      "text/plain": [
       "1"
      ]
     },
     "metadata": {},
     "output_type": "display_data"
    },
    {
     "data": {
      "text/latex": [
       "$\\displaystyle \\left( \\left[\\begin{matrix}1 & 1 & 1 & 0\\\\1 & 2 & 1 & 0\\\\0 & -1 & 0 & 1\\\\0 & 0 & -1 & 0\\end{matrix}\\right], \\  \\left[\\begin{matrix}1 & 1 & 1 & 0\\\\1 & 2 & 1 & 0\\\\0 & -1 & 0 & 1\\\\0 & 0 & -1 & 0\\end{matrix}\\right]\\right)$"
      ],
      "text/plain": [
       "⎛⎡1  1   1   0⎤  ⎡1  1   1   0⎤⎞\n",
       "⎜⎢            ⎥  ⎢            ⎥⎟\n",
       "⎜⎢1  2   1   0⎥  ⎢1  2   1   0⎥⎟\n",
       "⎜⎢            ⎥, ⎢            ⎥⎟\n",
       "⎜⎢0  -1  0   1⎥  ⎢0  -1  0   1⎥⎟\n",
       "⎜⎢            ⎥  ⎢            ⎥⎟\n",
       "⎝⎣0  0   -1  0⎦  ⎣0  0   -1  0⎦⎠"
      ]
     },
     "execution_count": 109,
     "metadata": {},
     "output_type": "execute_result"
    }
   ],
   "source": [
    "### dAbc (M1)\n",
    "e1 = sp.Matrix(4,1,[0,1,0,1])\n",
    "vecs = [(M1**k)*e1 for k in range(5)]\n",
    "#display(vecs, 3*vecs[3]-3*vecs[2]+3*vecs[1]-vecs[0])\n",
    "\n",
    "P = sp.Matrix(4,4,lambda i,j: vecs[j][i])\n",
    "display(P, P.det()) #, P.inv())\n",
    "\n",
    "#(P.inv())*M1*P\n",
    "P*C*(P.inv()), M1"
   ]
  },
  {
   "cell_type": "code",
   "execution_count": 110,
   "id": "2002d4c9-2649-463d-8f82-ddea71b62bd1",
   "metadata": {},
   "outputs": [
    {
     "data": {
      "text/latex": [
       "$\\displaystyle \\left[\\begin{matrix}1 & 0 & 0 & 2\\\\-1 & -1 & -1 & -3\\\\0 & 1 & 1 & 0\\\\0 & 0 & -1 & -3\\end{matrix}\\right]$"
      ],
      "text/plain": [
       "⎡1   0   0   2 ⎤\n",
       "⎢              ⎥\n",
       "⎢-1  -1  -1  -3⎥\n",
       "⎢              ⎥\n",
       "⎢0   1   1   0 ⎥\n",
       "⎢              ⎥\n",
       "⎣0   0   -1  -3⎦"
      ]
     },
     "metadata": {},
     "output_type": "display_data"
    },
    {
     "data": {
      "text/latex": [
       "$\\displaystyle 1$"
      ],
      "text/plain": [
       "1"
      ]
     },
     "metadata": {},
     "output_type": "display_data"
    },
    {
     "data": {
      "text/latex": [
       "$\\displaystyle \\left( \\left[\\begin{matrix}1 & 1 & 1 & -2\\\\-1 & 0 & -1 & 2\\\\0 & -1 & 0 & 1\\\\0 & 0 & -1 & 2\\end{matrix}\\right], \\  \\left[\\begin{matrix}1 & 1 & 1 & -2\\\\-1 & 0 & -1 & 2\\\\0 & -1 & 0 & 1\\\\0 & 0 & -1 & 2\\end{matrix}\\right]\\right)$"
      ],
      "text/plain": [
       "⎛⎡1   1   1   -2⎤  ⎡1   1   1   -2⎤⎞\n",
       "⎜⎢              ⎥  ⎢              ⎥⎟\n",
       "⎜⎢-1  0   -1  2 ⎥  ⎢-1  0   -1  2 ⎥⎟\n",
       "⎜⎢              ⎥, ⎢              ⎥⎟\n",
       "⎜⎢0   -1  0   1 ⎥  ⎢0   -1  0   1 ⎥⎟\n",
       "⎜⎢              ⎥  ⎢              ⎥⎟\n",
       "⎝⎣0   0   -1  2 ⎦  ⎣0   0   -1  2 ⎦⎠"
      ]
     },
     "execution_count": 110,
     "metadata": {},
     "output_type": "execute_result"
    }
   ],
   "source": [
    "### Dabc (M2)\n",
    "e1 = sp.Matrix(4,1,[1,-1,0,0])\n",
    "vecs = [(M2**k)*e1 for k in range(5)]\n",
    "#display(vecs, 3*vecs[3]-3*vecs[2]+3*vecs[1]-vecs[0])\n",
    "\n",
    "Q = sp.Matrix(4,4,lambda i,j: vecs[j][i])\n",
    "display(Q, Q.det()) #, Q.inv())\n",
    "\n",
    "Q*C*(Q.inv()), M2"
   ]
  },
  {
   "cell_type": "markdown",
   "id": "39134398-82bd-4ad1-8c1a-02a26eb154b5",
   "metadata": {},
   "source": [
    "### The matrix giving conjugacy of M1 with M2"
   ]
  },
  {
   "cell_type": "code",
   "execution_count": 111,
   "id": "9794d1a7-05e4-42c6-b61c-0f7e360f49fa",
   "metadata": {},
   "outputs": [
    {
     "data": {
      "text/latex": [
       "$\\displaystyle \\left[\\begin{matrix}0 & 0 & 0 & 1\\\\-1 & 0 & -1 & -1\\\\-3 & 2 & 0 & -2\\\\-2 & 1 & 0 & -1\\end{matrix}\\right]$"
      ],
      "text/plain": [
       "⎡0   0  0   1 ⎤\n",
       "⎢             ⎥\n",
       "⎢-1  0  -1  -1⎥\n",
       "⎢             ⎥\n",
       "⎢-3  2  0   -2⎥\n",
       "⎢             ⎥\n",
       "⎣-2  1  0   -1⎦"
      ]
     },
     "metadata": {},
     "output_type": "display_data"
    },
    {
     "data": {
      "text/latex": [
       "$\\displaystyle 1$"
      ],
      "text/plain": [
       "1"
      ]
     },
     "metadata": {},
     "output_type": "display_data"
    },
    {
     "data": {
      "text/plain": [
       "True"
      ]
     },
     "metadata": {},
     "output_type": "display_data"
    },
    {
     "name": "stdout",
     "output_type": "stream",
     "text": [
      "X==M2? --> True\n"
     ]
    }
   ],
   "source": [
    "S3 = Q*(P.inv())\n",
    "display(S3, S3.det(), in_Sp(S3))\n",
    "\n",
    "X = S3*M1*(S3.inv())\n",
    "#display(X)\n",
    "print(f\"X==M2? --> {X==M2}\")"
   ]
  },
  {
   "cell_type": "code",
   "execution_count": 112,
   "id": "f6e3b73f-a4cc-4197-9e7d-11f9c20c68b7",
   "metadata": {},
   "outputs": [
    {
     "data": {
      "text/plain": [
       "(False, False)"
      ]
     },
     "execution_count": 112,
     "metadata": {},
     "output_type": "execute_result"
    }
   ],
   "source": [
    "S1 == S2, S2 == S3"
   ]
  },
  {
   "cell_type": "code",
   "execution_count": 113,
   "id": "8b80af8a-cb93-4ff6-b7c6-e86f5b0bfbe4",
   "metadata": {},
   "outputs": [
    {
     "data": {
      "text/latex": [
       "$\\displaystyle \\left[\\begin{matrix}1 & 1 & 2 & 1\\\\2 & 3 & 6 & -2\\\\-2 & -1 & -5 & 0\\\\0 & 2 & 4 & -5\\end{matrix}\\right]$"
      ],
      "text/plain": [
       "⎡1   1   2   1 ⎤\n",
       "⎢              ⎥\n",
       "⎢2   3   6   -2⎥\n",
       "⎢              ⎥\n",
       "⎢-2  -1  -5  0 ⎥\n",
       "⎢              ⎥\n",
       "⎣0   2   4   -5⎦"
      ]
     },
     "metadata": {},
     "output_type": "display_data"
    },
    {
     "data": {
      "text/latex": [
       "$\\displaystyle -9$"
      ],
      "text/plain": [
       "-9"
      ]
     },
     "metadata": {},
     "output_type": "display_data"
    },
    {
     "data": {
      "text/plain": [
       "False"
      ]
     },
     "execution_count": 113,
     "metadata": {},
     "output_type": "execute_result"
    }
   ],
   "source": [
    "Y = (S3.inv())*S1\n",
    "display(Y, Y.det())\n",
    "\n",
    "M1*Y == Y*M1"
   ]
  },
  {
   "cell_type": "code",
   "execution_count": null,
   "id": "8ec34e71-559a-485d-bc8c-a7a82c261cac",
   "metadata": {},
   "outputs": [],
   "source": []
  }
 ],
 "metadata": {
  "colab": {
   "collapsed_sections": [
    "PGII4NrboFOE"
   ],
   "provenance": []
  },
  "kernelspec": {
   "display_name": "Python 3 (ipykernel)",
   "language": "python",
   "name": "python3"
  },
  "language_info": {
   "codemirror_mode": {
    "name": "ipython",
    "version": 3
   },
   "file_extension": ".py",
   "mimetype": "text/x-python",
   "name": "python",
   "nbconvert_exporter": "python",
   "pygments_lexer": "ipython3",
   "version": "3.12.6"
  }
 },
 "nbformat": 4,
 "nbformat_minor": 5
}
