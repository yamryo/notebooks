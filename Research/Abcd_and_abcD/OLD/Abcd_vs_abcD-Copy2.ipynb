{
 "cells": [
  {
   "cell_type": "markdown",
   "id": "b3a46c7e-7ec3-4dec-a8ce-dd1b9d632b7a",
   "metadata": {
    "id": "b3a46c7e-7ec3-4dec-a8ce-dd1b9d632b7a"
   },
   "source": [
    "# Abcd vs abcD\n"
   ]
  },
  {
   "cell_type": "markdown",
   "id": "KPups8IJ6oYy",
   "metadata": {
    "id": "KPups8IJ6oYy",
    "jp-MarkdownHeadingCollapsed": true
   },
   "source": [
    "### Modules"
   ]
  },
  {
   "cell_type": "code",
   "execution_count": 1,
   "id": "14c7ea7c-d8c9-4a75-a3a9-ccde4f2bb0cc",
   "metadata": {
    "colab": {
     "base_uri": "https://localhost:8080/"
    },
    "executionInfo": {
     "elapsed": 19392,
     "status": "ok",
     "timestamp": 1726184657592,
     "user": {
      "displayName": "山本亮介",
      "userId": "01861936879830612877"
     },
     "user_tz": -540
    },
    "id": "14c7ea7c-d8c9-4a75-a3a9-ccde4f2bb0cc",
    "outputId": "365c2cd4-ee7f-4d2a-bc32-dd178eb49258",
    "scrolled": true
   },
   "outputs": [],
   "source": [
    "#import os\n",
    "#import numpy as np\n",
    "import sympy as sp\n",
    "sp.init_printing(use_latex='mathjax')\n",
    "#import pandas as pd\n",
    "#import ast\n",
    "import itertools as itr\n",
    "\n",
    "#from multiprocessing import Pool, cpu_count\n",
    "#from tqdm.notebook import tqdm\n",
    "\n",
    "from snappy import *\n",
    "S = twister.Surface('S_2_1')"
   ]
  },
  {
   "cell_type": "markdown",
   "id": "96f4c9a0-2842-42af-965d-eeb7cd6ba6ce",
   "metadata": {},
   "source": [
    "## Symplectic representation"
   ]
  },
  {
   "cell_type": "code",
   "execution_count": 277,
   "id": "c0ae08c1-8f11-41c0-a2bc-c12964d709f0",
   "metadata": {},
   "outputs": [],
   "source": [
    "K = sp.MatrixSymbol('K',2,2) #([[0,-1],[0,0]])\n",
    "L = sp.MatrixSymbol('L',2,2) #([[1,0],[1,1]])\n",
    "I = sp.Identity(2)\n",
    "O = sp.ZeroMatrix(2,2)\n",
    "J = sp.MatrixSymbol('J',2,2) #([[0,1],[-1,0]])\n",
    "\n",
    "Ma = sp.BlockMatrix([[L.inv(), O], [O, I]])\n",
    "Mb = sp.BlockMatrix([[L.transpose(), K], [K, L.transpose()]])\n",
    "Mc = sp.BlockMatrix([[I, O], [O, L.inv()]])\n",
    "Md = sp.BlockMatrix([[I, O], [O, L.transpose()]])\n",
    "Mf = sp.BlockMatrix([[L.transpose(), O], [O,I]])\n",
    "#display(Ma, Mb, Mc, Md)\n",
    "\n",
    "MJ = sp.BlockMatrix([[J, O], [O, J]])\n",
    "#display(MJ)"
   ]
  },
  {
   "cell_type": "markdown",
   "id": "a078c256-638f-4e2f-a3ba-41619752c88b",
   "metadata": {},
   "source": [
    "### Functions"
   ]
  },
  {
   "cell_type": "code",
   "execution_count": 255,
   "id": "acaad909-1541-4411-a49e-d5e6a0a3071a",
   "metadata": {},
   "outputs": [
    {
     "name": "stdout",
     "output_type": "stream",
     "text": [
      "Matrix([\n",
      "[L**(-1), 0],\n",
      "[      0, I]]) is in Sp(4,Z)\n",
      "Matrix([\n",
      "[L.T,   K],\n",
      "[  K, L.T]]) is in Sp(4,Z)\n",
      "Matrix([\n",
      "[I,       0],\n",
      "[0, L**(-1)]]) is in Sp(4,Z)\n",
      "Matrix([\n",
      "[I,   0],\n",
      "[0, L.T]]) is in Sp(4,Z)\n"
     ]
    }
   ],
   "source": [
    "def ev(M):\n",
    "    return M.subs([\n",
    "        (L, sp.Matrix([[1,0],[1,1]])),\n",
    "        (K, sp.Matrix([[0,-1],[0,0]])),\n",
    "        (J, sp.Matrix([[0,1],[-1,0]])),\n",
    "        (br, sp.Matrix([[0,0],[0,1]])),\n",
    "        (tl, sp.Matrix([[1,0],[0,0]])),\n",
    "    ]).as_explicit()\n",
    "#evMd = ev(Md); display(evMd, evMd.det())\n",
    "\n",
    "def is_Sp(M):\n",
    "    if type(M) == sp.matrices.expressions.blockmatrix.BlockMatrix:\n",
    "        return sp.block_collapse(ev(M).transpose()*ev(MJ)*ev(M)) == ev(MJ)\n",
    "    else:\n",
    "        return M.transpose()*ev(MJ)*M == ev(MJ)\n",
    "\n",
    "for M in {Ma, Mb, Mc, Md}:\n",
    "    if is_Sp(M):\n",
    "        print(f\"{M} is in Sp(4,Z)\")"
   ]
  },
  {
   "cell_type": "markdown",
   "id": "97674002-175d-4e57-bce2-da47612f4161",
   "metadata": {},
   "source": [
    "### The symplectic images of Abcd and abcD"
   ]
  },
  {
   "cell_type": "code",
   "execution_count": 586,
   "id": "150bba78-67ca-4ba8-afaa-c490b2f85547",
   "metadata": {},
   "outputs": [
    {
     "data": {
      "text/latex": [
       "$\\displaystyle \\left[\\begin{matrix}L L^{T} & L K L^{-1} L^{T}\\\\K & L^{T} L^{-1} L^{T}\\end{matrix}\\right]$"
      ],
      "text/plain": [
       "⎡   T       -1  T⎤\n",
       "⎢L⋅L   L⋅K⋅L  ⋅L ⎥\n",
       "⎢                ⎥\n",
       "⎢       T  -1  T ⎥\n",
       "⎣ K    L ⋅L  ⋅L  ⎦"
      ]
     },
     "metadata": {},
     "output_type": "display_data"
    },
    {
     "data": {
      "text/latex": [
       "$\\displaystyle \\left[\\begin{matrix}1 & 1 & 1 & 0\\\\1 & 2 & 1 & 0\\\\0 & -1 & 0 & 1\\\\0 & 0 & -1 & 0\\end{matrix}\\right]$"
      ],
      "text/plain": [
       "⎡1  1   1   0⎤\n",
       "⎢            ⎥\n",
       "⎢1  2   1   0⎥\n",
       "⎢            ⎥\n",
       "⎢0  -1  0   1⎥\n",
       "⎢            ⎥\n",
       "⎣0  0   -1  0⎦"
      ]
     },
     "metadata": {},
     "output_type": "display_data"
    },
    {
     "data": {
      "text/latex": [
       "$\\displaystyle \\left[\\begin{matrix}L^{-1} L^{T} & L^{-1} K L^{-1} \\left(L^{T}\\right)^{-1}\\\\K & L^{T} L^{-1} \\left(L^{T}\\right)^{-1}\\end{matrix}\\right]$"
      ],
      "text/plain": [
       "⎡                      -1⎤\n",
       "⎢ -1  T   -1    -1 ⎛ T⎞  ⎥\n",
       "⎢L  ⋅L   L  ⋅K⋅L  ⋅⎝L ⎠  ⎥\n",
       "⎢                        ⎥\n",
       "⎢                    -1  ⎥\n",
       "⎢          T  -1 ⎛ T⎞    ⎥\n",
       "⎣  K      L ⋅L  ⋅⎝L ⎠    ⎦"
      ]
     },
     "metadata": {},
     "output_type": "display_data"
    },
    {
     "data": {
      "text/latex": [
       "$\\displaystyle \\left[\\begin{matrix}1 & 1 & 1 & -2\\\\-1 & 0 & -1 & 2\\\\0 & -1 & 0 & 1\\\\0 & 0 & -1 & 2\\end{matrix}\\right]$"
      ],
      "text/plain": [
       "⎡1   1   1   -2⎤\n",
       "⎢              ⎥\n",
       "⎢-1  0   -1  2 ⎥\n",
       "⎢              ⎥\n",
       "⎢0   -1  0   1 ⎥\n",
       "⎢              ⎥\n",
       "⎣0   0   -1  2 ⎦"
      ]
     },
     "metadata": {},
     "output_type": "display_data"
    },
    {
     "name": "stdout",
     "output_type": "stream",
     "text": [
      "is_Sp? --> True\n",
      "is_Sp? --> True\n"
     ]
    }
   ],
   "source": [
    "M_Abcd = sp.block_collapse((Ma.inv())*Mb*Mc*Md)\n",
    "M1 = ev(M_Abcd)\n",
    "display(M_Abcd, M1)\n",
    "M_abcD = sp.block_collapse(Ma*Mb*Mc*(Md.inv()))\n",
    "M2 = ev(M_abcD)\n",
    "display(M_abcD, M2)\n",
    "\n",
    "for M in {M1,M2}:\n",
    "    print(f\"is_Sp? --> {is_Sp(M)}\")"
   ]
  },
  {
   "cell_type": "markdown",
   "id": "4589ee1d-b557-4bdc-b8d3-ebf90bd9ddc3",
   "metadata": {},
   "source": [
    "### The charactoristic polynomial of M1 (M2)"
   ]
  },
  {
   "cell_type": "code",
   "execution_count": 5,
   "id": "c1c0f397-7ea8-4bb5-a1a0-adc4d4a81dd3",
   "metadata": {},
   "outputs": [
    {
     "name": "stdout",
     "output_type": "stream",
     "text": [
      "cp_M1 == cp_M2 ?   --> True\n"
     ]
    },
    {
     "data": {
      "text/latex": [
       "$\\displaystyle \\lambda^{4} - 3 \\lambda^{3} + 3 \\lambda^{2} - 3 \\lambda + 1$"
      ],
      "text/plain": [
       " 4      3      2          \n",
       "λ  - 3⋅λ  + 3⋅λ  - 3⋅λ + 1"
      ]
     },
     "metadata": {},
     "output_type": "display_data"
    }
   ],
   "source": [
    "cp_M1 = M1.charpoly().as_expr()\n",
    "cp_M2 = M2.charpoly().as_expr()\n",
    "\n",
    "print(f\"cp_M1 == cp_M2 ?   --> {cp_M1==cp_M2}\")\n",
    "\n",
    "display(cp_M1.factor())"
   ]
  },
  {
   "cell_type": "markdown",
   "id": "e5bba8fe-37a4-47f5-9be4-ba7014256d09",
   "metadata": {},
   "source": [
    "## Rational canonical form"
   ]
  },
  {
   "cell_type": "markdown",
   "id": "f651f69f-e501-4d3f-8e90-855dbfabe5e2",
   "metadata": {},
   "source": [
    "### The rational form of M1 (M2)"
   ]
  },
  {
   "cell_type": "code",
   "execution_count": 6,
   "id": "8421e341-9349-4cfd-ad80-b176d3ca1fce",
   "metadata": {},
   "outputs": [
    {
     "data": {
      "text/latex": [
       "$\\displaystyle \\left[\\begin{matrix}0 & 0 & 0 & -1\\\\1 & 0 & 0 & 3\\\\0 & 1 & 0 & -3\\\\0 & 0 & 1 & 3\\end{matrix}\\right]$"
      ],
      "text/plain": [
       "⎡0  0  0  -1⎤\n",
       "⎢           ⎥\n",
       "⎢1  0  0  3 ⎥\n",
       "⎢           ⎥\n",
       "⎢0  1  0  -3⎥\n",
       "⎢           ⎥\n",
       "⎣0  0  1  3 ⎦"
      ]
     },
     "metadata": {},
     "output_type": "display_data"
    },
    {
     "name": "stdout",
     "output_type": "stream",
     "text": [
      "is_Sp? --> False\n"
     ]
    }
   ],
   "source": [
    "C = sp.matrices.expressions.CompanionMatrix(M1.charpoly()).as_explicit()\n",
    "display(C)\n",
    "print(f\"is_Sp? --> {is_Sp(C)}\")"
   ]
  },
  {
   "cell_type": "markdown",
   "id": "40bdc884-6dbd-4ac0-a77d-a957fd904087",
   "metadata": {},
   "source": [
    "### Functions"
   ]
  },
  {
   "cell_type": "code",
   "execution_count": 7,
   "id": "c36fbbb5-2e43-48c2-9207-f3cae47f4318",
   "metadata": {},
   "outputs": [],
   "source": [
    "def transition_matrix(A,v):\n",
    "    if type(v) == list:\n",
    "        v = sp.Matrix(4,1,v)\n",
    "    vecs = [(A**k)*v for k in range(5)]\n",
    "    return sp.Matrix(4,4,lambda i,j: vecs[j][i])\n",
    "def tm(A,v):\n",
    "    return transition_matrix(A,v)"
   ]
  },
  {
   "cell_type": "code",
   "execution_count": 8,
   "id": "4cc97de0-b11d-4b63-824a-1a50066ba013",
   "metadata": {},
   "outputs": [],
   "source": [
    "def get_matrix_connecting_M1_with_M2(v, w):\n",
    "    P, Q = tm(M1,v), tm(M2,w)\n",
    "    return (P, Q, P*(Q.inv()))"
   ]
  },
  {
   "cell_type": "markdown",
   "id": "74e7c2de-bc1a-45ef-9623-2a1f01e400cf",
   "metadata": {},
   "source": [
    "### Base symplectic matrix"
   ]
  },
  {
   "cell_type": "code",
   "execution_count": 9,
   "id": "6a6b563a-ae57-497b-add9-bead03530062",
   "metadata": {},
   "outputs": [
    {
     "data": {
      "text/latex": [
       "$\\displaystyle \\left[\\begin{matrix}0 & 0 & 0 & 1\\\\-1 & 0 & -1 & 1\\\\1 & 0 & 0 & 0\\\\0 & 1 & 0 & -1\\end{matrix}\\right]$"
      ],
      "text/plain": [
       "⎡0   0  0   1 ⎤\n",
       "⎢             ⎥\n",
       "⎢-1  0  -1  1 ⎥\n",
       "⎢             ⎥\n",
       "⎢1   0  0   0 ⎥\n",
       "⎢             ⎥\n",
       "⎣0   1  0   -1⎦"
      ]
     },
     "metadata": {},
     "output_type": "display_data"
    },
    {
     "name": "stdout",
     "output_type": "stream",
     "text": [
      "(M2 == S0.inv()*M1*S0)=True, is_Sp(S0)=True\n"
     ]
    }
   ],
   "source": [
    "v0, w0 = [0,-1,1,0], [1,0,0,0]\n",
    "P, Q, S0 = get_matrix_connecting_M1_with_M2(v0,w0)\n",
    "display(S0)\n",
    "print(f\"{(M2 == S0.inv()*M1*S0)=}, {is_Sp(S0)=}\")"
   ]
  },
  {
   "cell_type": "markdown",
   "id": "3b98faba-7f18-4f02-a581-5ff17f0e8b1d",
   "metadata": {},
   "source": [
    "### Generating other symplectic matrices from the base matrix"
   ]
  },
  {
   "cell_type": "code",
   "execution_count": 24,
   "id": "13e1bd48-b11e-4e43-bb76-a0f482688946",
   "metadata": {},
   "outputs": [
    {
     "data": {
      "text/latex": [
       "$\\displaystyle \\left[\\begin{matrix}0 & 0 & -1 & 2\\\\-1 & 0 & -2 & 3\\\\1 & 1 & 1 & -2\\\\-1 & 0 & 0 & 0\\end{matrix}\\right]$"
      ],
      "text/plain": [
       "⎡0   0  -1  2 ⎤\n",
       "⎢             ⎥\n",
       "⎢-1  0  -2  3 ⎥\n",
       "⎢             ⎥\n",
       "⎢1   1  1   -2⎥\n",
       "⎢             ⎥\n",
       "⎣-1  0  0   0 ⎦"
      ]
     },
     "metadata": {},
     "output_type": "display_data"
    },
    {
     "name": "stdout",
     "output_type": "stream",
     "text": [
      "(X == M1*S0)=True, (M2 == X.inv()*M1*X)=True, is_Sp(X)=True\n"
     ]
    }
   ],
   "source": [
    "display(M1*S0)\n",
    "\n",
    "v, w = [1,1,0,0], [0,1,1,1]\n",
    "P, Q, X = get_matrix_connecting_M1_with_M2(v,w)\n",
    "print(f\"{(X == M1*S0)=}, {(M2 == X.inv()*M1*X)=}, {is_Sp(X)=}\")"
   ]
  },
  {
   "cell_type": "code",
   "execution_count": 11,
   "id": "cf9fb9c1-9086-4366-9bd7-5264985cd004",
   "metadata": {},
   "outputs": [
    {
     "name": "stdout",
     "output_type": "stream",
     "text": [
      "(A*v0 == v) =True\n",
      "(B*w0 == w) =True\n"
     ]
    }
   ],
   "source": [
    "A = tm(M1,v)*(tm(M1,v0).inv())\n",
    "v0, v = sp.Matrix(4,1,v0), sp.Matrix(4,1,v)\n",
    "print(f\"{(A*v0 == v) =}\")\n",
    "\n",
    "B = (S0.inv())*(M1**(-1))*A*S0\n",
    "w0, w = sp.Matrix(4,1,w0), sp.Matrix(4,1,w)\n",
    "print(f\"{(B*w0 == w) =}\")"
   ]
  },
  {
   "cell_type": "code",
   "execution_count": 12,
   "id": "689a1f85-f2af-48bf-94a1-f1bdcc753eef",
   "metadata": {},
   "outputs": [
    {
     "data": {
      "text/latex": [
       "$\\displaystyle \\left[\\begin{matrix}26 & 14 & 20 & 3\\\\-23 & -12 & -17 & -3\\\\9 & 4 & 6 & 2\\\\-18 & -9 & -14 & -3\\end{matrix}\\right]$"
      ],
      "text/plain": [
       "⎡26   14   20   3 ⎤\n",
       "⎢                 ⎥\n",
       "⎢-23  -12  -17  -3⎥\n",
       "⎢                 ⎥\n",
       "⎢ 9    4    6   2 ⎥\n",
       "⎢                 ⎥\n",
       "⎣-18  -9   -14  -3⎦"
      ]
     },
     "metadata": {},
     "output_type": "display_data"
    },
    {
     "name": "stdout",
     "output_type": "stream",
     "text": [
      "k=-5, is_Sp(X)=True, (M2 == (X.inv())*M1*X)=True \n",
      "--------------\n"
     ]
    },
    {
     "data": {
      "text/latex": [
       "$\\displaystyle \\left[\\begin{matrix}12 & 6 & 9 & 2\\\\-11 & -6 & -8 & -1\\\\5 & 3 & 3 & 0\\\\-9 & -4 & -6 & -2\\end{matrix}\\right]$"
      ],
      "text/plain": [
       "⎡12   6   9   2 ⎤\n",
       "⎢               ⎥\n",
       "⎢-11  -6  -8  -1⎥\n",
       "⎢               ⎥\n",
       "⎢ 5   3   3   0 ⎥\n",
       "⎢               ⎥\n",
       "⎣-9   -4  -6  -2⎦"
      ]
     },
     "metadata": {},
     "output_type": "display_data"
    },
    {
     "name": "stdout",
     "output_type": "stream",
     "text": [
      "k=-4, is_Sp(X)=True, (M2 == (X.inv())*M1*X)=True \n",
      "--------------\n"
     ]
    },
    {
     "data": {
      "text/latex": [
       "$\\displaystyle \\left[\\begin{matrix}6 & 3 & 4 & 1\\\\-5 & -3 & -4 & 0\\\\2 & 2 & 2 & -1\\\\-5 & -3 & -3 & 0\\end{matrix}\\right]$"
      ],
      "text/plain": [
       "⎡6   3   4   1 ⎤\n",
       "⎢              ⎥\n",
       "⎢-5  -3  -4  0 ⎥\n",
       "⎢              ⎥\n",
       "⎢2   2   2   -1⎥\n",
       "⎢              ⎥\n",
       "⎣-5  -3  -3  0 ⎦"
      ]
     },
     "metadata": {},
     "output_type": "display_data"
    },
    {
     "name": "stdout",
     "output_type": "stream",
     "text": [
      "k=-3, is_Sp(X)=True, (M2 == (X.inv())*M1*X)=True \n",
      "--------------\n"
     ]
    },
    {
     "data": {
      "text/latex": [
       "$\\displaystyle \\left[\\begin{matrix}3 & 2 & 2 & 0\\\\-2 & -1 & -2 & 0\\\\0 & 0 & 1 & 0\\\\-2 & -2 & -2 & 1\\end{matrix}\\right]$"
      ],
      "text/plain": [
       "⎡3   2   2   0⎤\n",
       "⎢             ⎥\n",
       "⎢-2  -1  -2  0⎥\n",
       "⎢             ⎥\n",
       "⎢0   0   1   0⎥\n",
       "⎢             ⎥\n",
       "⎣-2  -2  -2  1⎦"
      ]
     },
     "metadata": {},
     "output_type": "display_data"
    },
    {
     "name": "stdout",
     "output_type": "stream",
     "text": [
      "k=-2, is_Sp(X)=True, (M2 == (X.inv())*M1*X)=True \n",
      "--------------\n"
     ]
    },
    {
     "data": {
      "text/latex": [
       "$\\displaystyle \\left[\\begin{matrix}1 & 1 & 1 & 0\\\\-1 & 0 & -1 & 0\\\\0 & -1 & 0 & 1\\\\0 & 0 & -1 & 0\\end{matrix}\\right]$"
      ],
      "text/plain": [
       "⎡1   1   1   0⎤\n",
       "⎢             ⎥\n",
       "⎢-1  0   -1  0⎥\n",
       "⎢             ⎥\n",
       "⎢0   -1  0   1⎥\n",
       "⎢             ⎥\n",
       "⎣0   0   -1  0⎦"
      ]
     },
     "metadata": {},
     "output_type": "display_data"
    },
    {
     "name": "stdout",
     "output_type": "stream",
     "text": [
      "k=-1, is_Sp(X)=True, (M2 == (X.inv())*M1*X)=True \n",
      "--------------\n"
     ]
    },
    {
     "data": {
      "text/latex": [
       "$\\displaystyle \\left[\\begin{matrix}0 & 0 & 0 & 1\\\\-1 & 0 & -1 & 1\\\\1 & 0 & 0 & 0\\\\0 & 1 & 0 & -1\\end{matrix}\\right]$"
      ],
      "text/plain": [
       "⎡0   0  0   1 ⎤\n",
       "⎢             ⎥\n",
       "⎢-1  0  -1  1 ⎥\n",
       "⎢             ⎥\n",
       "⎢1   0  0   0 ⎥\n",
       "⎢             ⎥\n",
       "⎣0   1  0   -1⎦"
      ]
     },
     "metadata": {},
     "output_type": "display_data"
    },
    {
     "name": "stdout",
     "output_type": "stream",
     "text": [
      "k=0, is_Sp(X)=True, (M2 == (X.inv())*M1*X)=True \n",
      "--------------\n"
     ]
    },
    {
     "data": {
      "text/latex": [
       "$\\displaystyle \\left[\\begin{matrix}0 & 0 & -1 & 2\\\\-1 & 0 & -2 & 3\\\\1 & 1 & 1 & -2\\\\-1 & 0 & 0 & 0\\end{matrix}\\right]$"
      ],
      "text/plain": [
       "⎡0   0  -1  2 ⎤\n",
       "⎢             ⎥\n",
       "⎢-1  0  -2  3 ⎥\n",
       "⎢             ⎥\n",
       "⎢1   1  1   -2⎥\n",
       "⎢             ⎥\n",
       "⎣-1  0  0   0 ⎦"
      ]
     },
     "metadata": {},
     "output_type": "display_data"
    },
    {
     "name": "stdout",
     "output_type": "stream",
     "text": [
      "k=1, is_Sp(X)=True, (M2 == (X.inv())*M1*X)=True \n",
      "--------------\n"
     ]
    },
    {
     "data": {
      "text/latex": [
       "$\\displaystyle \\left[\\begin{matrix}0 & 1 & -2 & 3\\\\-1 & 1 & -4 & 6\\\\0 & 0 & 2 & -3\\\\-1 & -1 & -1 & 2\\end{matrix}\\right]$"
      ],
      "text/plain": [
       "⎡0   1   -2  3 ⎤\n",
       "⎢              ⎥\n",
       "⎢-1  1   -4  6 ⎥\n",
       "⎢              ⎥\n",
       "⎢0   0   2   -3⎥\n",
       "⎢              ⎥\n",
       "⎣-1  -1  -1  2 ⎦"
      ]
     },
     "metadata": {},
     "output_type": "display_data"
    },
    {
     "name": "stdout",
     "output_type": "stream",
     "text": [
      "k=2, is_Sp(X)=True, (M2 == (X.inv())*M1*X)=True \n",
      "--------------\n"
     ]
    },
    {
     "data": {
      "text/latex": [
       "$\\displaystyle \\left[\\begin{matrix}-1 & 2 & -4 & 6\\\\-2 & 3 & -8 & 12\\\\0 & -2 & 3 & -4\\\\0 & 0 & -2 & 3\\end{matrix}\\right]$"
      ],
      "text/plain": [
       "⎡-1  2   -4  6 ⎤\n",
       "⎢              ⎥\n",
       "⎢-2  3   -8  12⎥\n",
       "⎢              ⎥\n",
       "⎢0   -2  3   -4⎥\n",
       "⎢              ⎥\n",
       "⎣0   0   -2  3 ⎦"
      ]
     },
     "metadata": {},
     "output_type": "display_data"
    },
    {
     "name": "stdout",
     "output_type": "stream",
     "text": [
      "k=3, is_Sp(X)=True, (M2 == (X.inv())*M1*X)=True \n",
      "--------------\n"
     ]
    },
    {
     "data": {
      "text/latex": [
       "$\\displaystyle \\left[\\begin{matrix}-3 & 3 & -9 & 14\\\\-5 & 6 & -17 & 26\\\\2 & -3 & 6 & -9\\\\0 & 2 & -3 & 4\\end{matrix}\\right]$"
      ],
      "text/plain": [
       "⎡-3  3   -9   14⎤\n",
       "⎢               ⎥\n",
       "⎢-5  6   -17  26⎥\n",
       "⎢               ⎥\n",
       "⎢2   -3   6   -9⎥\n",
       "⎢               ⎥\n",
       "⎣0   2   -3   4 ⎦"
      ]
     },
     "metadata": {},
     "output_type": "display_data"
    },
    {
     "name": "stdout",
     "output_type": "stream",
     "text": [
      "k=4, is_Sp(X)=True, (M2 == (X.inv())*M1*X)=True \n",
      "--------------\n"
     ]
    }
   ],
   "source": [
    "for k in range(-5,5):\n",
    "    P, Q, X = get_matrix_connecting_M1_with_M2((M1**k)*v0, w0)\n",
    "    display(X)\n",
    "    print(f\"{k=}, {is_Sp(X)=}, {(M2 == (X.inv())*M1*X)=} \\n--------------\")"
   ]
  },
  {
   "cell_type": "code",
   "execution_count": 13,
   "id": "a94919a7-8330-4661-993d-e99eb9e465c3",
   "metadata": {},
   "outputs": [
    {
     "name": "stdout",
     "output_type": "stream",
     "text": [
      "(A*v0 == v) =True\n",
      "2\n"
     ]
    }
   ],
   "source": [
    "v0, v = sp.Matrix(4,1,v0), sp.Matrix(4,1,[1, -1, 0, -1])\n",
    "A = tm(M1,v)*(tm(M1,v0).inv())\n",
    "print(f\"{(A*v0 == v) =}\")\n",
    "\n",
    "w0, w = sp.Matrix(4,1,w0), sp.Matrix(4,1,[1, -1, 0, -1])\n",
    "\n",
    "for k in range(-20, 20):\n",
    "    B = (S0.inv())*(M1**k)*A*S0\n",
    "    if B*w0 == w:\n",
    "        print(k)"
   ]
  },
  {
   "cell_type": "code",
   "execution_count": 14,
   "id": "2f8fa649-1178-4a44-a14a-aa58f48f8d4d",
   "metadata": {},
   "outputs": [
    {
     "data": {
      "text/latex": [
       "$\\displaystyle \\left[\\begin{matrix}3 & 2 & 2 & 0\\\\-2 & -1 & -2 & 0\\\\0 & 0 & 1 & 0\\\\-2 & -2 & -2 & 1\\end{matrix}\\right]$"
      ],
      "text/plain": [
       "⎡3   2   2   0⎤\n",
       "⎢             ⎥\n",
       "⎢-2  -1  -2  0⎥\n",
       "⎢             ⎥\n",
       "⎢0   0   1   0⎥\n",
       "⎢             ⎥\n",
       "⎣-2  -2  -2  1⎦"
      ]
     },
     "metadata": {},
     "output_type": "display_data"
    },
    {
     "name": "stdout",
     "output_type": "stream",
     "text": [
      "is_Sp(X)=True\n"
     ]
    }
   ],
   "source": [
    "P, Q, X = get_matrix_connecting_M1_with_M2(v,w)\n",
    "display(X)\n",
    "print(f\"{is_Sp(X)=}\")"
   ]
  },
  {
   "cell_type": "code",
   "execution_count": 152,
   "id": "ef0e697a-c6d5-4cd0-b12e-4fb8bb731da7",
   "metadata": {},
   "outputs": [
    {
     "data": {
      "text/latex": [
       "$\\displaystyle \\left[\\begin{matrix}0 & 1 & 0 & -1\\\\-1 & -1 & 0 & 0\\\\0 & 0 & 0 & 1\\\\-1 & -1 & -1 & 0\\end{matrix}\\right]$"
      ],
      "text/plain": [
       "⎡0   1   0   -1⎤\n",
       "⎢              ⎥\n",
       "⎢-1  -1  0   0 ⎥\n",
       "⎢              ⎥\n",
       "⎢0   0   0   1 ⎥\n",
       "⎢              ⎥\n",
       "⎣-1  -1  -1  0 ⎦"
      ]
     },
     "metadata": {},
     "output_type": "display_data"
    },
    {
     "name": "stdout",
     "output_type": "stream",
     "text": [
      "True\n",
      "True\n"
     ]
    }
   ],
   "source": [
    "S1 = sp.Matrix([[0,1,0,-1],[-1,-1,0,0],[0,0,0,1],[-1,-1,-1,0]])\n",
    "display(S1)\n",
    "\n",
    "Q = (S1.inv())*(S0.inv())\n",
    "print(Q*M1 == M1*Q)\n",
    "\n",
    "#display(Q, M1**(-1))\n",
    "\n",
    "print(S1.inv() == (-1)*M1.inv()*S0)"
   ]
  },
  {
   "cell_type": "markdown",
   "id": "1440f0e6-39c0-40dc-ba53-f598896eb6f5",
   "metadata": {},
   "source": [
    "# Lifting to a mapping class"
   ]
  },
  {
   "cell_type": "markdown",
   "id": "2d909612-afe1-45f8-b696-85b03bffb2c7",
   "metadata": {},
   "source": [
    "## Generators of $Sp(4, \\mathbb{Z})$"
   ]
  },
  {
   "cell_type": "code",
   "execution_count": 258,
   "id": "66c9ca54-560b-4cbf-b8c3-85e4289816f6",
   "metadata": {},
   "outputs": [
    {
     "data": {
      "text/latex": [
       "$\\displaystyle \\left[\\begin{matrix}L^{T} & 0\\\\0 & \\mathbb{I}\\end{matrix}\\right]$"
      ],
      "text/plain": [
       "⎡ T   ⎤\n",
       "⎢L   𝟘⎥\n",
       "⎢     ⎥\n",
       "⎣𝟘   𝕀⎦"
      ]
     },
     "metadata": {},
     "output_type": "display_data"
    },
    {
     "data": {
      "text/latex": [
       "$\\displaystyle \\left[\\begin{matrix}\\mathbb{I} & 0\\\\0 & L^{T}\\end{matrix}\\right]$"
      ],
      "text/plain": [
       "⎡𝕀  𝟘 ⎤\n",
       "⎢     ⎥\n",
       "⎢    T⎥\n",
       "⎣𝟘  L ⎦"
      ]
     },
     "metadata": {},
     "output_type": "display_data"
    },
    {
     "data": {
      "text/latex": [
       "$\\displaystyle \\left[\\begin{matrix}L & 0\\\\0 & \\mathbb{I}\\end{matrix}\\right]$"
      ],
      "text/plain": [
       "⎡L  𝟘⎤\n",
       "⎢    ⎥\n",
       "⎣𝟘  𝕀⎦"
      ]
     },
     "metadata": {},
     "output_type": "display_data"
    },
    {
     "data": {
      "text/latex": [
       "$\\displaystyle \\left[\\begin{matrix}\\mathbb{I} & 0\\\\0 & L\\end{matrix}\\right]$"
      ],
      "text/plain": [
       "⎡𝕀  𝟘⎤\n",
       "⎢    ⎥\n",
       "⎣𝟘  L⎦"
      ]
     },
     "metadata": {},
     "output_type": "display_data"
    },
    {
     "data": {
      "text/latex": [
       "$\\displaystyle \\left[\\begin{matrix}\\mathbb{I} & - K\\\\- K & \\mathbb{I}\\end{matrix}\\right]$"
      ],
      "text/plain": [
       "⎡𝕀   -K⎤\n",
       "⎢      ⎥\n",
       "⎣-K  𝕀 ⎦"
      ]
     },
     "metadata": {},
     "output_type": "display_data"
    },
    {
     "data": {
      "text/latex": [
       "$\\displaystyle \\left[\\begin{matrix}\\mathbb{I} & - K^{T}\\\\- K^{T} & \\mathbb{I}\\end{matrix}\\right]$"
      ],
      "text/plain": [
       "⎡       T⎤\n",
       "⎢ 𝕀   -K ⎥\n",
       "⎢        ⎥\n",
       "⎢  T     ⎥\n",
       "⎣-K    𝕀 ⎦"
      ]
     },
     "metadata": {},
     "output_type": "display_data"
    },
    {
     "data": {
      "text/latex": [
       "$\\displaystyle \\left[\\begin{matrix}\\mathbb{I} & - br\\\\tl & \\mathbb{I}\\end{matrix}\\right]$"
      ],
      "text/plain": [
       "⎡𝕀   -br⎤\n",
       "⎢       ⎥\n",
       "⎣tl   𝕀 ⎦"
      ]
     },
     "metadata": {},
     "output_type": "display_data"
    },
    {
     "data": {
      "text/latex": [
       "$\\displaystyle \\left[\\begin{matrix}\\mathbb{I} & tl\\\\- br & \\mathbb{I}\\end{matrix}\\right]$"
      ],
      "text/plain": [
       "⎡ 𝕀   tl⎤\n",
       "⎢       ⎥\n",
       "⎣-br  𝕀 ⎦"
      ]
     },
     "metadata": {},
     "output_type": "display_data"
    }
   ],
   "source": [
    "I4 = sp.BlockMatrix([[I, O], [O, I]])\n",
    "\n",
    "A1 = sp.BlockMatrix([[L.transpose(), O], [O, I]])\n",
    "A2 = sp.BlockMatrix([[I, O], [O, L.transpose()]])\n",
    "display(A1, A2)\n",
    "B1 = sp.BlockMatrix([[L, O], [O, I]])\n",
    "B2 = sp.BlockMatrix([[I, O], [O, L]])\n",
    "display(B1, B2)\n",
    "C = sp.BlockMatrix([[I, -K], [-K, I]])\n",
    "D = sp.BlockMatrix([[I, -K.transpose()], [-K.transpose(), I]])\n",
    "display(C, D)\n",
    "br, tl = sp.MatrixSymbol('br', 2,2), sp.MatrixSymbol('tl', 2,2)\n",
    "E12 = sp.BlockMatrix([[I, -br], [tl, I]])\n",
    "E21 = sp.BlockMatrix([[I, tl], [-br, I]])\n",
    "display(E12, E21)"
   ]
  },
  {
   "cell_type": "markdown",
   "id": "a3be805f-991c-4eca-806c-193a82896ef0",
   "metadata": {},
   "source": [
    "## Make basic matrices into products of $\\{M_a, \\dots, M_f\\}$"
   ]
  },
  {
   "cell_type": "markdown",
   "id": "864e6efe-382f-4745-8af5-c72eb86dc08e",
   "metadata": {},
   "source": [
    "### A, B, and C"
   ]
  },
  {
   "cell_type": "code",
   "execution_count": 608,
   "id": "566190d0-bd66-4fbc-8763-fa719e3f328b",
   "metadata": {},
   "outputs": [
    {
     "data": {
      "text/plain": [
       "[True, True, True, True, True]"
      ]
     },
     "execution_count": 608,
     "metadata": {},
     "output_type": "execute_result"
    }
   ],
   "source": [
    "[ev(A1) == ev(Mf), \\\n",
    " ev(A2) == ev(Md), \\\n",
    " #-----\n",
    " ev(B1) == ev(Ma.inv()), \\\n",
    " ev(B2) == ev(Mc.inv()), \\\n",
    " #-----\n",
    " ev(C) == ev(Mf*(Mb.inv())*Md)]"
   ]
  },
  {
   "cell_type": "markdown",
   "id": "6eea84fa-674d-4493-a7d0-fd13fdea7ab4",
   "metadata": {},
   "source": [
    "### D and X"
   ]
  },
  {
   "cell_type": "code",
   "execution_count": 609,
   "id": "9ca4124b-98ca-4b63-8983-4e7cb5461039",
   "metadata": {},
   "outputs": [
    {
     "data": {
      "text/plain": [
       "True"
      ]
     },
     "execution_count": 609,
     "metadata": {},
     "output_type": "execute_result"
    }
   ],
   "source": [
    "ev(D) == ev(Ma*(Mb.transpose())*Mc).inv()"
   ]
  },
  {
   "cell_type": "code",
   "execution_count": 93,
   "id": "2b5ce8f6-8be3-439e-929e-f0827297b17c",
   "metadata": {},
   "outputs": [
    {
     "data": {
      "text/latex": [
       "$\\displaystyle \\left[\\begin{matrix}1 & 0 & 0 & 1\\\\0 & 1 & 0 & 0\\\\0 & 1 & 1 & 0\\\\0 & 0 & 0 & 1\\end{matrix}\\right]$"
      ],
      "text/plain": [
       "⎡1  0  0  1⎤\n",
       "⎢          ⎥\n",
       "⎢0  1  0  0⎥\n",
       "⎢          ⎥\n",
       "⎢0  1  1  0⎥\n",
       "⎢          ⎥\n",
       "⎣0  0  0  1⎦"
      ]
     },
     "metadata": {},
     "output_type": "display_data"
    }
   ],
   "source": [
    "X = ev(Ma*(Mb.transpose())*Mc).transpose().inv()\n",
    "display(X)"
   ]
  },
  {
   "cell_type": "markdown",
   "id": "0a3d810d-276b-4cfd-a458-b8d48d050b63",
   "metadata": {},
   "source": [
    "### E"
   ]
  },
  {
   "cell_type": "markdown",
   "id": "e1402760-9e3f-4f76-b462-ad6a2e2e3839",
   "metadata": {},
   "source": [
    "#### Trial 01"
   ]
  },
  {
   "cell_type": "code",
   "execution_count": 435,
   "id": "dc6ebdde-a2e7-44d9-8da0-12cb26bf97ec",
   "metadata": {},
   "outputs": [
    {
     "data": {
      "text/latex": [
       "$\\displaystyle \\left( \\left[\\begin{matrix}1 & 0 & 1 & 0\\\\0 & 1 & 0 & 0\\\\0 & 0 & 1 & 0\\\\0 & -1 & 0 & 1\\end{matrix}\\right], \\  \\left[\\begin{matrix}1 & 0 & 1 & 0\\\\0 & 1 & 0 & 0\\\\0 & 0 & 1 & 0\\\\0 & -1 & 0 & 1\\end{matrix}\\right]\\right)$"
      ],
      "text/plain": [
       "⎛⎡1  0   1  0⎤  ⎡1  0   1  0⎤⎞\n",
       "⎜⎢           ⎥  ⎢           ⎥⎟\n",
       "⎜⎢0  1   0  0⎥  ⎢0  1   0  0⎥⎟\n",
       "⎜⎢           ⎥, ⎢           ⎥⎟\n",
       "⎜⎢0  0   1  0⎥  ⎢0  0   1  0⎥⎟\n",
       "⎜⎢           ⎥  ⎢           ⎥⎟\n",
       "⎝⎣0  -1  0  1⎦  ⎣0  -1  0  1⎦⎠"
      ]
     },
     "execution_count": 435,
     "metadata": {},
     "output_type": "execute_result"
    }
   ],
   "source": [
    "F = ev(Mb.transpose())*ev(Ma)\n",
    "N = (F.inv())*ev(Mf.inv())*F\n",
    "        \n",
    "ev(E21), N*ev(Mc)*ev(Mf)"
   ]
  },
  {
   "cell_type": "code",
   "execution_count": 391,
   "id": "3c52910d-5ef1-42b4-bfab-b6cbd6dde126",
   "metadata": {},
   "outputs": [
    {
     "data": {
      "text/latex": [
       "$\\displaystyle \\left( \\left[\\begin{matrix}1 & 0 & 0 & 0\\\\0 & 1 & 0 & -1\\\\1 & 0 & 1 & 0\\\\0 & 0 & 0 & 1\\end{matrix}\\right], \\  \\left[\\begin{matrix}1 & 0 & 0 & 0\\\\0 & 1 & 0 & -1\\\\1 & 0 & 1 & 0\\\\0 & 0 & 0 & 1\\end{matrix}\\right]\\right)$"
      ],
      "text/plain": [
       "⎛⎡1  0  0  0 ⎤  ⎡1  0  0  0 ⎤⎞\n",
       "⎜⎢           ⎥  ⎢           ⎥⎟\n",
       "⎜⎢0  1  0  -1⎥  ⎢0  1  0  -1⎥⎟\n",
       "⎜⎢           ⎥, ⎢           ⎥⎟\n",
       "⎜⎢1  0  1  0 ⎥  ⎢1  0  1  0 ⎥⎟\n",
       "⎜⎢           ⎥  ⎢           ⎥⎟\n",
       "⎝⎣0  0  0  1 ⎦  ⎣0  0  0  1 ⎦⎠"
      ]
     },
     "execution_count": 391,
     "metadata": {},
     "output_type": "execute_result"
    }
   ],
   "source": [
    "G = ev(Mf.inv())*ev(Mb)\n",
    "H = (G)*ev(Ma)*(G.inv())\n",
    "        \n",
    "ev(E12), ev(Ma.inv())*ev(Md.inv())*H"
   ]
  },
  {
   "cell_type": "markdown",
   "id": "98fe88ae-6313-4370-8fd7-f38fb935fd10",
   "metadata": {},
   "source": [
    "##### Mb.transpose()"
   ]
  },
  {
   "cell_type": "code",
   "execution_count": 392,
   "id": "ce47fbcb-2ab6-4cc9-a2f5-e8567d8ffcd3",
   "metadata": {},
   "outputs": [
    {
     "data": {
      "text/latex": [
       "$\\displaystyle \\left( \\left[\\begin{matrix}1 & 0 & 0 & 0\\\\1 & 1 & -1 & 0\\\\0 & 0 & 1 & 0\\\\-1 & 0 & 1 & 1\\end{matrix}\\right], \\  \\left[\\begin{matrix}1 & 0 & 0 & 0\\\\1 & 1 & -1 & 0\\\\0 & 0 & 1 & 0\\\\-1 & 0 & 1 & 1\\end{matrix}\\right]\\right)$"
      ],
      "text/plain": [
       "⎛⎡1   0  0   0⎤  ⎡1   0  0   0⎤⎞\n",
       "⎜⎢            ⎥  ⎢            ⎥⎟\n",
       "⎜⎢1   1  -1  0⎥  ⎢1   1  -1  0⎥⎟\n",
       "⎜⎢            ⎥, ⎢            ⎥⎟\n",
       "⎜⎢0   0  1   0⎥  ⎢0   0  1   0⎥⎟\n",
       "⎜⎢            ⎥  ⎢            ⎥⎟\n",
       "⎝⎣-1  0  1   1⎦  ⎣-1  0  1   1⎦⎠"
      ]
     },
     "execution_count": 392,
     "metadata": {},
     "output_type": "execute_result"
    }
   ],
   "source": [
    "ev(Mb.transpose()), ev(E12*B2*(E12.inv()))  #, ev((MJ.inv())*(Mb.inv())*(MJ))"
   ]
  },
  {
   "cell_type": "code",
   "execution_count": 421,
   "id": "174a2b9a-fc73-49c2-8071-c7bcc309cc40",
   "metadata": {
    "jupyter": {
     "source_hidden": true
    }
   },
   "outputs": [
    {
     "data": {
      "text/latex": [
       "$\\displaystyle \\left[\\begin{matrix}1 & 0 & 0 & 0\\\\1 & 1 & -1 & 0\\\\0 & 0 & 1 & 0\\\\-1 & 0 & 1 & 1\\end{matrix}\\right]$"
      ],
      "text/plain": [
       "⎡1   0  0   0⎤\n",
       "⎢            ⎥\n",
       "⎢1   1  -1  0⎥\n",
       "⎢            ⎥\n",
       "⎢0   0  1   0⎥\n",
       "⎢            ⎥\n",
       "⎣-1  0  1   1⎦"
      ]
     },
     "execution_count": 421,
     "metadata": {},
     "output_type": "execute_result"
    }
   ],
   "source": [
    "ev((Md*Ma).inv())*H * ev(Mc.inv()) * (H.inv())*ev(Md*Ma)"
   ]
  },
  {
   "cell_type": "code",
   "execution_count": 406,
   "id": "c59a321d-d090-4ca5-b4d2-244a664e6b3c",
   "metadata": {
    "jupyter": {
     "source_hidden": true
    }
   },
   "outputs": [
    {
     "data": {
      "text/latex": [
       "$\\displaystyle \\left[\\begin{matrix}1 & 0 & 0 & 0\\\\1 & 1 & -1 & 0\\\\0 & 0 & 1 & 0\\\\-1 & 0 & 1 & 1\\end{matrix}\\right]$"
      ],
      "text/plain": [
       "⎡1   0  0   0⎤\n",
       "⎢            ⎥\n",
       "⎢1   1  -1  0⎥\n",
       "⎢            ⎥\n",
       "⎢0   0  1   0⎥\n",
       "⎢            ⎥\n",
       "⎣-1  0  1   1⎦"
      ]
     },
     "execution_count": 406,
     "metadata": {},
     "output_type": "execute_result"
    }
   ],
   "source": [
    "#(ev(Ma.inv())*ev(G)*ev(Ma)*ev(G.inv()))*ev(Md.inv())*ev(Mc.inv())*ev(Md)*(H.inv())*ev(Ma)\n",
    "#(ev(Ma.inv())*ev(G)*ev(Ma)*ev(G.inv()))*ev(Md.inv())*ev(Mc.inv())*ev(Md)*(H.inv())*ev(Ma)\n",
    "ev(Ma.inv()*H)*ev(Md.inv())*ev(Mc.inv())*ev(Md)*ev(H.inv()*Ma)"
   ]
  },
  {
   "cell_type": "code",
   "execution_count": 407,
   "id": "2c790895-17fb-4e6a-90a6-cf0e2fffa6dd",
   "metadata": {
    "jupyter": {
     "source_hidden": true
    }
   },
   "outputs": [],
   "source": [
    "def cm(X,Y):\n",
    "    return X*Y*(X.inv())*(Y.inv())"
   ]
  },
  {
   "cell_type": "code",
   "execution_count": 418,
   "id": "7ee9e4b9-6f16-47ce-a8a4-5fc2570db6fa",
   "metadata": {
    "jupyter": {
     "source_hidden": true
    }
   },
   "outputs": [
    {
     "data": {
      "text/latex": [
       "$\\displaystyle \\left[\\begin{matrix}1 & 0 & 0 & 0\\\\1 & 1 & -1 & 0\\\\0 & 0 & 1 & 0\\\\-1 & 0 & 1 & 1\\end{matrix}\\right]$"
      ],
      "text/plain": [
       "⎡1   0  0   0⎤\n",
       "⎢            ⎥\n",
       "⎢1   1  -1  0⎥\n",
       "⎢            ⎥\n",
       "⎢0   0  1   0⎥\n",
       "⎢            ⎥\n",
       "⎣-1  0  1   1⎦"
      ]
     },
     "execution_count": 418,
     "metadata": {},
     "output_type": "execute_result"
    }
   ],
   "source": [
    "CC = ev(cm(Mf.inv()*Mb, Ma.inv()))\n",
    "((CC*ev(Md)).inv()) * ev(Mc.inv()) * (CC*ev(Md))"
   ]
  },
  {
   "cell_type": "raw",
   "id": "394320b2-d0f7-4240-9d46-a6d4ef16426e",
   "metadata": {
    "jupyter": {
     "source_hidden": true
    }
   },
   "source": [
    "bT = D[Fb,A]^(-1)*C*[Fb,A]d\n",
    "   = (DAFbaBf)C(FbABfad)"
   ]
  },
  {
   "cell_type": "code",
   "execution_count": 441,
   "id": "7d5be469-8573-41ff-8edb-2c78e36bfa6e",
   "metadata": {
    "jupyter": {
     "source_hidden": true
    }
   },
   "outputs": [
    {
     "data": {
      "text/latex": [
       "$\\displaystyle \\left( \\left[\\begin{matrix}1 & 0 & 1 & 0\\\\0 & 1 & 0 & 0\\\\0 & 0 & 1 & 0\\\\0 & -1 & 0 & 1\\end{matrix}\\right], \\  \\left[\\begin{matrix}1 & 0 & 1 & 0\\\\0 & 1 & 0 & 0\\\\0 & 0 & 1 & 0\\\\0 & -1 & 0 & 1\\end{matrix}\\right]\\right)$"
      ],
      "text/plain": [
       "⎛⎡1  0   1  0⎤  ⎡1  0   1  0⎤⎞\n",
       "⎜⎢           ⎥  ⎢           ⎥⎟\n",
       "⎜⎢0  1   0  0⎥  ⎢0  1   0  0⎥⎟\n",
       "⎜⎢           ⎥, ⎢           ⎥⎟\n",
       "⎜⎢0  0   1  0⎥  ⎢0  0   1  0⎥⎟\n",
       "⎜⎢           ⎥  ⎢           ⎥⎟\n",
       "⎝⎣0  -1  0  1⎦  ⎣0  -1  0  1⎦⎠"
      ]
     },
     "execution_count": 441,
     "metadata": {},
     "output_type": "execute_result"
    }
   ],
   "source": [
    "CC = ev(cm(Md.inv()*Mb, Mc.inv()))\n",
    "#F = ev(cm((CC*Mf).inv(), Ma.inv()))  #( = ev(Mb.transpose())*ev(Ma))\n",
    "#N = (F.inv())*ev(Mf.inv())*F\n",
    "        \n",
    "ev(E21), ev(Mc)*ev(cm(cm(Ma.inv(), (CC*Mf).inv()), Mf.inv()))"
   ]
  },
  {
   "cell_type": "markdown",
   "id": "db849e6e-afc1-44a0-bd52-dd672d2cb5d3",
   "metadata": {},
   "source": [
    "#### Trial 02"
   ]
  },
  {
   "cell_type": "code",
   "execution_count": 552,
   "id": "edea2570-4c47-4f44-b94c-b8596120805f",
   "metadata": {},
   "outputs": [
    {
     "data": {
      "text/latex": [
       "$\\displaystyle \\left[\\begin{matrix}1 & 0 & 0 & 0\\\\0 & 1 & 0 & 0\\\\0 & 0 & 1 & 0\\\\0 & 0 & 0 & 1\\end{matrix}\\right]$"
      ],
      "text/plain": [
       "⎡1  0  0  0⎤\n",
       "⎢          ⎥\n",
       "⎢0  1  0  0⎥\n",
       "⎢          ⎥\n",
       "⎢0  0  1  0⎥\n",
       "⎢          ⎥\n",
       "⎣0  0  0  1⎦"
      ]
     },
     "metadata": {},
     "output_type": "display_data"
    }
   ],
   "source": [
    "prd = {'left': [Md.inv(), Mc.inv(), Mf, Mb.inv(), Md, Mc], 'right': [Mb]}\n",
    "\n",
    "Z = ev(E21)\n",
    "for m in reversed(prd['left']):\n",
    "    Z = ev(m)*Z\n",
    "for m in prd['right']: \n",
    "    Z *= ev(m)\n",
    "    \n",
    "display(Z)"
   ]
  },
  {
   "cell_type": "code",
   "execution_count": 555,
   "id": "f2276788-1f23-4ac2-acfa-9ef4890b300c",
   "metadata": {},
   "outputs": [
    {
     "data": {
      "text/latex": [
       "$\\displaystyle \\left( \\left[\\begin{matrix}1 & 0 & 1 & 0\\\\0 & 1 & 0 & 0\\\\0 & 0 & 1 & 0\\\\0 & -1 & 0 & 1\\end{matrix}\\right], \\  \\left[\\begin{matrix}1 & 0 & 1 & 0\\\\0 & 1 & 0 & 0\\\\0 & 0 & 1 & 0\\\\0 & -1 & 0 & 1\\end{matrix}\\right]\\right)$"
      ],
      "text/plain": [
       "⎛⎡1  0   1  0⎤  ⎡1  0   1  0⎤⎞\n",
       "⎜⎢           ⎥  ⎢           ⎥⎟\n",
       "⎜⎢0  1   0  0⎥  ⎢0  1   0  0⎥⎟\n",
       "⎜⎢           ⎥, ⎢           ⎥⎟\n",
       "⎜⎢0  0   1  0⎥  ⎢0  0   1  0⎥⎟\n",
       "⎜⎢           ⎥  ⎢           ⎥⎟\n",
       "⎝⎣0  -1  0  1⎦  ⎣0  -1  0  1⎦⎠"
      ]
     },
     "execution_count": 555,
     "metadata": {},
     "output_type": "execute_result"
    }
   ],
   "source": [
    "ev(E21), ev((Mc.inv())*(Md.inv())*Mb*Mc*Md*(Mb.inv())*(Mf.inv()))"
   ]
  },
  {
   "cell_type": "markdown",
   "id": "98c8e72a-909b-4a63-8b6f-c07e2cc64dd4",
   "metadata": {},
   "source": [
    "## Decomposion of $S_0$"
   ]
  },
  {
   "cell_type": "code",
   "execution_count": 25,
   "id": "91186b88-f6fd-4b24-9dd3-197920de56ac",
   "metadata": {},
   "outputs": [
    {
     "data": {
      "text/latex": [
       "$\\displaystyle \\left[\\begin{matrix}0 & 0 & 0 & 1\\\\-1 & 0 & -1 & 1\\\\1 & 0 & 0 & 0\\\\0 & 1 & 0 & -1\\end{matrix}\\right]$"
      ],
      "text/plain": [
       "⎡0   0  0   1 ⎤\n",
       "⎢             ⎥\n",
       "⎢-1  0  -1  1 ⎥\n",
       "⎢             ⎥\n",
       "⎢1   0  0   0 ⎥\n",
       "⎢             ⎥\n",
       "⎣0   1  0   -1⎦"
      ]
     },
     "metadata": {},
     "output_type": "display_data"
    }
   ],
   "source": [
    "display(S0)"
   ]
  },
  {
   "cell_type": "code",
   "execution_count": 273,
   "id": "04168dce-1dc4-4c35-a48c-fe966b1d8974",
   "metadata": {},
   "outputs": [
    {
     "data": {
      "text/latex": [
       "$\\displaystyle \\left( \\left[\\begin{matrix}0 & 0 & 0 & 1\\\\-1 & 0 & -1 & 1\\\\1 & 0 & 0 & 0\\\\0 & 1 & 0 & -1\\end{matrix}\\right], \\  \\left[\\begin{matrix}0 & 0 & 0 & 1\\\\-1 & 0 & -1 & 1\\\\1 & 0 & 0 & 0\\\\0 & 1 & 0 & -1\\end{matrix}\\right]\\right)$"
      ],
      "text/plain": [
       "⎛⎡0   0  0   1 ⎤  ⎡0   0  0   1 ⎤⎞\n",
       "⎜⎢             ⎥  ⎢             ⎥⎟\n",
       "⎜⎢-1  0  -1  1 ⎥  ⎢-1  0  -1  1 ⎥⎟\n",
       "⎜⎢             ⎥, ⎢             ⎥⎟\n",
       "⎜⎢1   0  0   0 ⎥  ⎢1   0  0   0 ⎥⎟\n",
       "⎜⎢             ⎥  ⎢             ⎥⎟\n",
       "⎝⎣0   1  0   -1⎦  ⎣0   1  0   -1⎦⎠"
      ]
     },
     "execution_count": 273,
     "metadata": {},
     "output_type": "execute_result"
    }
   ],
   "source": [
    "Z = ev((-1)*B1*(X.inv())*(A1.inv())*B1*(A1.inv())*E21)\n",
    "S0, Z"
   ]
  },
  {
   "cell_type": "markdown",
   "id": "a6b200cf-91a3-4ac2-8c88-3ddd5be96d8c",
   "metadata": {
    "jp-MarkdownHeadingCollapsed": true
   },
   "source": [
    "### Trial 01"
   ]
  },
  {
   "cell_type": "code",
   "execution_count": 334,
   "id": "9de749cc-c9e8-4df4-a013-81180621d9db",
   "metadata": {},
   "outputs": [
    {
     "data": {
      "text/latex": [
       "$\\displaystyle \\left( \\left[\\begin{matrix}0 & 0 & 0 & 1\\\\-1 & 0 & -1 & 1\\\\1 & 0 & 0 & 0\\\\0 & 1 & 0 & -1\\end{matrix}\\right], \\  \\left[\\begin{matrix}0 & 0 & 0 & 1\\\\-1 & 0 & -1 & 1\\\\1 & 0 & 0 & 0\\\\0 & 1 & 0 & -1\\end{matrix}\\right]\\right)$"
      ],
      "text/plain": [
       "⎛⎡0   0  0   1 ⎤  ⎡0   0  0   1 ⎤⎞\n",
       "⎜⎢             ⎥  ⎢             ⎥⎟\n",
       "⎜⎢-1  0  -1  1 ⎥  ⎢-1  0  -1  1 ⎥⎟\n",
       "⎜⎢             ⎥, ⎢             ⎥⎟\n",
       "⎜⎢1   0  0   0 ⎥  ⎢1   0  0   0 ⎥⎟\n",
       "⎜⎢             ⎥  ⎢             ⎥⎟\n",
       "⎝⎣0   1  0   -1⎦  ⎣0   1  0   -1⎦⎠"
      ]
     },
     "execution_count": 334,
     "metadata": {},
     "output_type": "execute_result"
    }
   ],
   "source": [
    "Z = (-1)*ev((Md.inv()))*ev(Ma.inv())*ev(Mb)*ev(Mf.inv()**2)*ev(Ma.inv())*ev(Mf.inv())*ev(E21)\n",
    "S0, Z"
   ]
  },
  {
   "cell_type": "code",
   "execution_count": 348,
   "id": "c768f584-99e3-4453-907f-89d644ca327d",
   "metadata": {},
   "outputs": [
    {
     "data": {
      "text/latex": [
       "$\\displaystyle \\left( \\left[\\begin{matrix}0 & 0 & 0 & 1\\\\-1 & 0 & -1 & 1\\\\1 & 0 & 0 & 0\\\\0 & 1 & 0 & -1\\end{matrix}\\right], \\  \\left[\\begin{matrix}0 & 0 & 0 & 1\\\\-1 & 0 & -1 & 1\\\\1 & 0 & 0 & 0\\\\0 & 1 & 0 & -1\\end{matrix}\\right]\\right)$"
      ],
      "text/plain": [
       "⎛⎡0   0  0   1 ⎤  ⎡0   0  0   1 ⎤⎞\n",
       "⎜⎢             ⎥  ⎢             ⎥⎟\n",
       "⎜⎢-1  0  -1  1 ⎥  ⎢-1  0  -1  1 ⎥⎟\n",
       "⎜⎢             ⎥, ⎢             ⎥⎟\n",
       "⎜⎢1   0  0   0 ⎥  ⎢1   0  0   0 ⎥⎟\n",
       "⎜⎢             ⎥  ⎢             ⎥⎟\n",
       "⎝⎣0   1  0   -1⎦  ⎣0   1  0   -1⎦⎠"
      ]
     },
     "execution_count": 348,
     "metadata": {},
     "output_type": "execute_result"
    }
   ],
   "source": [
    "Z = (Md.inv())*(Ma.inv())*Mb*(Mf.inv()**2)*(Ma.inv())*(Mf.inv())*N*Mf*Mc\n",
    "S0, ev((-1)*Z)"
   ]
  },
  {
   "cell_type": "code",
   "execution_count": 455,
   "id": "5b0849be-37db-45fc-8ba2-cd8fa61e17ff",
   "metadata": {},
   "outputs": [
    {
     "data": {
      "text/latex": [
       "$\\displaystyle \\left( \\left[\\begin{matrix}0 & 0 & 0 & 1\\\\-1 & 0 & -1 & 1\\\\1 & 0 & 0 & 0\\\\0 & 1 & 0 & -1\\end{matrix}\\right], \\  \\left[\\begin{matrix}0 & 0 & 0 & 1\\\\-1 & 0 & -1 & 1\\\\1 & 0 & 0 & 0\\\\0 & 1 & 0 & -1\\end{matrix}\\right]\\right)$"
      ],
      "text/plain": [
       "⎛⎡0   0  0   1 ⎤  ⎡0   0  0   1 ⎤⎞\n",
       "⎜⎢             ⎥  ⎢             ⎥⎟\n",
       "⎜⎢-1  0  -1  1 ⎥  ⎢-1  0  -1  1 ⎥⎟\n",
       "⎜⎢             ⎥, ⎢             ⎥⎟\n",
       "⎜⎢1   0  0   0 ⎥  ⎢1   0  0   0 ⎥⎟\n",
       "⎜⎢             ⎥  ⎢             ⎥⎟\n",
       "⎝⎣0   1  0   -1⎦  ⎣0   1  0   -1⎦⎠"
      ]
     },
     "execution_count": 455,
     "metadata": {},
     "output_type": "execute_result"
    }
   ],
   "source": [
    "#marr = [Md.inv(), Ma.inv(), Mb, Mf.inv()**2, Ma.inv(), Mf.inv(), \\\n",
    "#        Mc, cm(cm(Ma.inv(), (CC*Mf).inv()), Mf.inv())]\n",
    "marr = [Md.inv(), Ma.inv(), Mb*Mc, Mf.inv(), Ma.inv(), Mf.inv(), Ma.inv(), \\\n",
    "        cm(cm(Ma.inv(), ev((Mf.inv())*cm(Mc.inv(), Md.inv()*Mb))), Mf.inv())]\n",
    "#marr = [Md.inv(), M1, Md.inv(), Mf.inv(), Ma.inv(), Mf.inv(), Ma.inv(), \\\n",
    "#        cm(cm(Ma.inv(), ev((Mf.inv())*cm(Mc.inv(), Md.inv()*Mb))), Mf.inv())]\n",
    "\n",
    "Z = ev(I4)\n",
    "for m in marr:\n",
    "    Z *= ev(m)\n",
    "\n",
    "S0, ev((-1)*Z)"
   ]
  },
  {
   "cell_type": "raw",
   "id": "fe531271-4c08-4c60-9021-5432aabced58",
   "metadata": {},
   "source": [
    "DAbcFAFA[[A,F[C,Db]],F] = D(M1)DFAFA[[A,F[C,Db]],F]\n",
    "\n",
    "[[A,F[C,Db]],F] = [A,F[C,Db]]F[F[C,Db],A]f\n",
    "                = AF[C,Db]a[Db,C]fFF[C,Db]Af[Db,C]ff\n",
    "                = AF[C,Db]a[Db,C]F[C,Db]Af[Db,C]ff\n",
    "                = AFCDbcBdaDbCBdcFCDbcBdAfDbCBdcff\n",
    "                = CDAbcBFaFAbCBdcfff"
   ]
  },
  {
   "cell_type": "markdown",
   "id": "648c7afe-0a04-4c54-b271-178e6df7ea05",
   "metadata": {},
   "source": [
    "### Trial 02"
   ]
  },
  {
   "cell_type": "code",
   "execution_count": 560,
   "id": "a101a214-3896-4962-a0f4-8aacab36244e",
   "metadata": {},
   "outputs": [
    {
     "data": {
      "text/latex": [
       "$\\displaystyle \\left[\\begin{matrix}1 & 0 & 0 & 0\\\\0 & 1 & 0 & 0\\\\0 & 0 & 1 & 0\\\\0 & 0 & 0 & 1\\end{matrix}\\right]$"
      ],
      "text/plain": [
       "⎡1  0  0  0⎤\n",
       "⎢          ⎥\n",
       "⎢0  1  0  0⎥\n",
       "⎢          ⎥\n",
       "⎢0  0  1  0⎥\n",
       "⎢          ⎥\n",
       "⎣0  0  0  1⎦"
      ]
     },
     "metadata": {},
     "output_type": "display_data"
    }
   ],
   "source": [
    "prd = [Md.inv(), Ma.inv(), Mb, Mf.inv()**2, Ma.inv(), Mf.inv(), \\\n",
    "       Mc.inv(), Md.inv(), Mb, Mc, Md, Mb.inv(), Mf.inv()]\n",
    "\n",
    "Z = (-1)*S0.inv()\n",
    "for m in prd:\n",
    "    Z *= ev(m)\n",
    "    \n",
    "display(Z)"
   ]
  },
  {
   "cell_type": "code",
   "execution_count": 587,
   "id": "8e1414d5-9337-4f66-b7b8-d6287a58dbe1",
   "metadata": {},
   "outputs": [
    {
     "data": {
      "text/latex": [
       "$\\displaystyle \\left[\\begin{matrix}1 & 0 & 0 & 0\\\\0 & 1 & 0 & 0\\\\0 & 0 & 1 & 0\\\\0 & 0 & 0 & 1\\end{matrix}\\right]$"
      ],
      "text/plain": [
       "⎡1  0  0  0⎤\n",
       "⎢          ⎥\n",
       "⎢0  1  0  0⎥\n",
       "⎢          ⎥\n",
       "⎢0  0  1  0⎥\n",
       "⎢          ⎥\n",
       "⎣0  0  0  1⎦"
      ]
     },
     "execution_count": 587,
     "metadata": {},
     "output_type": "execute_result"
    }
   ],
   "source": [
    "#prd = [M1.inv(), (Ma*Mb*Mc*Md).inv()]\n",
    "prd = [(Ma.inv()*Mb*Mc*Md).inv(), (Ma*Mb*Mc*Md).inv()]\n",
    "Z = S0\n",
    "for m in prd:\n",
    "    Z = ev(m)*Z\n",
    "\n",
    "Z"
   ]
  },
  {
   "cell_type": "code",
   "execution_count": 588,
   "id": "f6259bd1-d9d8-49dd-bda4-d6a558477b15",
   "metadata": {},
   "outputs": [
    {
     "data": {
      "text/latex": [
       "$\\displaystyle \\left( \\left[\\begin{matrix}0 & 0 & 0 & 1\\\\-1 & 0 & -1 & 1\\\\1 & 0 & 0 & 0\\\\0 & 1 & 0 & -1\\end{matrix}\\right], \\  \\left[\\begin{matrix}0 & 0 & 0 & 1\\\\-1 & 0 & -1 & 1\\\\1 & 0 & 0 & 0\\\\0 & 1 & 0 & -1\\end{matrix}\\right]\\right)$"
      ],
      "text/plain": [
       "⎛⎡0   0  0   1 ⎤  ⎡0   0  0   1 ⎤⎞\n",
       "⎜⎢             ⎥  ⎢             ⎥⎟\n",
       "⎜⎢-1  0  -1  1 ⎥  ⎢-1  0  -1  1 ⎥⎟\n",
       "⎜⎢             ⎥, ⎢             ⎥⎟\n",
       "⎜⎢1   0  0   0 ⎥  ⎢1   0  0   0 ⎥⎟\n",
       "⎜⎢             ⎥  ⎢             ⎥⎟\n",
       "⎝⎣0   1  0   -1⎦  ⎣0   1  0   -1⎦⎠"
      ]
     },
     "execution_count": 588,
     "metadata": {},
     "output_type": "execute_result"
    }
   ],
   "source": [
    "S0, ev((Ma.inv())*Mb*Mc*Md)*ev(Ma*Mb*Mc*Md)"
   ]
  },
  {
   "cell_type": "markdown",
   "id": "14abc802-4db5-4b0c-a226-f80d0910aeb0",
   "metadata": {},
   "source": [
    "## Decomposion of S1"
   ]
  },
  {
   "cell_type": "code",
   "execution_count": 476,
   "id": "f680bfe1-4208-4737-bf39-ef8ad1f0876e",
   "metadata": {},
   "outputs": [
    {
     "data": {
      "text/latex": [
       "$\\displaystyle \\left[\\begin{matrix}0 & 1 & 0 & 0\\\\-1 & 0 & 0 & 0\\\\0 & 0 & 0 & 1\\\\0 & 0 & -1 & 0\\end{matrix}\\right]$"
      ],
      "text/plain": [
       "⎡0   1  0   0⎤\n",
       "⎢            ⎥\n",
       "⎢-1  0  0   0⎥\n",
       "⎢            ⎥\n",
       "⎢0   0  0   1⎥\n",
       "⎢            ⎥\n",
       "⎣0   0  -1  0⎦"
      ]
     },
     "metadata": {},
     "output_type": "display_data"
    }
   ],
   "source": [
    "prd = {'left': [E21], 'right': [A1.inv()]}\n",
    "\n",
    "Z = S1\n",
    "for m in prd['left']: Z = ev(m)*Z\n",
    "for m in prd['right']: Z *= ev(m)\n",
    "    \n",
    "display(Z)"
   ]
  },
  {
   "cell_type": "code",
   "execution_count": 600,
   "id": "c93b7780-95cd-44a5-8b71-af4877c93270",
   "metadata": {},
   "outputs": [
    {
     "data": {
      "text/plain": [
       "True"
      ]
     },
     "execution_count": 600,
     "metadata": {},
     "output_type": "execute_result"
    }
   ],
   "source": [
    "#ev(E21*S1*A1.inv()) == (-1)*ev(A1.inv())*ev(B1)*ev(A1.inv())*ev(A2.inv())*ev(B2)*ev(A2.inv())\n",
    "(-1)*ev((E21.inv())*(A1.inv())*ev(B1)*(A1.inv())*(A2.inv())*ev(B2)*(A2.inv())*A1) == S1"
   ]
  },
  {
   "cell_type": "code",
   "execution_count": 602,
   "id": "c837ca87-ba30-43c8-8004-2a7121b05ccb",
   "metadata": {},
   "outputs": [
    {
     "data": {
      "text/plain": [
       "True"
      ]
     },
     "execution_count": 602,
     "metadata": {},
     "output_type": "execute_result"
    }
   ],
   "source": [
    "#(-1)*ev((E21.inv())*((Md*Mc*Md).inv())*((Mf*Ma*Mf).inv())*Mf) == S1\n",
    "#(-1)*ev((E21.inv())*((Md*Mc*Md).inv())*((Mf.inv())*(Ma.inv()))*(Mf.inv())*Mf) == S1\n",
    "#(-1)*ev((E21.inv())*((Md*Mc*Md).inv())*((Ma*Mf).inv())) == S1\n",
    "ev((Md*Mc*Md)*(Ma*Mf)*E21) == (-1)*(S1.inv())"
   ]
  },
  {
   "cell_type": "code",
   "execution_count": 601,
   "id": "03b6d56f-055c-4a2e-a3a2-73bed8f50871",
   "metadata": {},
   "outputs": [
    {
     "data": {
      "text/latex": [
       "$\\displaystyle \\left[\\begin{matrix}1 & 0 & 0 & 0\\\\0 & 1 & 0 & 0\\\\0 & 0 & 1 & 0\\\\0 & 0 & 0 & 1\\end{matrix}\\right]$"
      ],
      "text/plain": [
       "⎡1  0  0  0⎤\n",
       "⎢          ⎥\n",
       "⎢0  1  0  0⎥\n",
       "⎢          ⎥\n",
       "⎢0  0  1  0⎥\n",
       "⎢          ⎥\n",
       "⎣0  0  0  1⎦"
      ]
     },
     "metadata": {},
     "output_type": "display_data"
    }
   ],
   "source": [
    "#prd = [Md, Mc, Md, Ma, Mf, Mc.inv(), Md.inv(), Mb, Mc, Md, Mb.inv(), Mf.inv()]\n",
    "#prd = [Md, Mc, Md, Ma, Mc.inv(), Md.inv(), Mb, Mc, Md, Mb.inv()]\n",
    "#prd = [Mc, Md, Ma, Md.inv(), Mb, Mc, Md, Mb.inv()]\n",
    "#prd = [Mc, Ma, Mb, Mc, Md, Mb.inv()]\n",
    "prd = [Ma, Mb, Mc, Md]\n",
    "\n",
    "Z = (-1)*S1\n",
    "for m in prd:\n",
    "    Z *= ev(m)\n",
    "\n",
    "display(Z)"
   ]
  },
  {
   "cell_type": "code",
   "execution_count": 592,
   "id": "6049645e-ea44-4b58-ac00-ba28a89dbb08",
   "metadata": {},
   "outputs": [
    {
     "data": {
      "text/latex": [
       "$\\displaystyle \\left( \\left[\\begin{matrix}1 & 1 & 1 & 0\\\\-1 & 0 & -1 & 0\\\\0 & -1 & 0 & 1\\\\0 & 0 & -1 & 0\\end{matrix}\\right], \\  \\left[\\begin{matrix}1 & 1 & 1 & 0\\\\-1 & 0 & -1 & 0\\\\0 & -1 & 0 & 1\\\\0 & 0 & -1 & 0\\end{matrix}\\right]\\right)$"
      ],
      "text/plain": [
       "⎛⎡1   1   1   0⎤  ⎡1   1   1   0⎤⎞\n",
       "⎜⎢             ⎥  ⎢             ⎥⎟\n",
       "⎜⎢-1  0   -1  0⎥  ⎢-1  0   -1  0⎥⎟\n",
       "⎜⎢             ⎥, ⎢             ⎥⎟\n",
       "⎜⎢0   -1  0   1⎥  ⎢0   -1  0   1⎥⎟\n",
       "⎜⎢             ⎥  ⎢             ⎥⎟\n",
       "⎝⎣0   0   -1  0⎦  ⎣0   0   -1  0⎦⎠"
      ]
     },
     "execution_count": 592,
     "metadata": {},
     "output_type": "execute_result"
    }
   ],
   "source": [
    "(-1)*(S1.inv()), ev(Ma*Mb*Mc*Md)"
   ]
  },
  {
   "cell_type": "code",
   "execution_count": 595,
   "id": "64716754-4071-40ee-8c04-734b450303dc",
   "metadata": {},
   "outputs": [
    {
     "data": {
      "text/latex": [
       "$\\displaystyle \\left( \\left[\\begin{matrix}1 & 1 & 1 & -2\\\\-1 & 0 & -1 & 2\\\\0 & -1 & 0 & 1\\\\0 & 0 & -1 & 2\\end{matrix}\\right], \\  \\left[\\begin{matrix}1 & 1 & 1 & -2\\\\-1 & 0 & -1 & 2\\\\0 & -1 & 0 & 1\\\\0 & 0 & -1 & 2\\end{matrix}\\right]\\right)$"
      ],
      "text/plain": [
       "⎛⎡1   1   1   -2⎤  ⎡1   1   1   -2⎤⎞\n",
       "⎜⎢              ⎥  ⎢              ⎥⎟\n",
       "⎜⎢-1  0   -1  2 ⎥  ⎢-1  0   -1  2 ⎥⎟\n",
       "⎜⎢              ⎥, ⎢              ⎥⎟\n",
       "⎜⎢0   -1  0   1 ⎥  ⎢0   -1  0   1 ⎥⎟\n",
       "⎜⎢              ⎥  ⎢              ⎥⎟\n",
       "⎝⎣0   0   -1  2 ⎦  ⎣0   0   -1  2 ⎦⎠"
      ]
     },
     "execution_count": 595,
     "metadata": {},
     "output_type": "execute_result"
    }
   ],
   "source": [
    "ev(M2), ev( ((Ma*Mb*Mc*Md).inv()) * M1 * (Ma*Mb*Mc*Md) )"
   ]
  },
  {
   "cell_type": "code",
   "execution_count": 598,
   "id": "0bb76597-99a3-4c3a-8bcd-59f627317980",
   "metadata": {},
   "outputs": [
    {
     "data": {
      "text/latex": [
       "$\\displaystyle \\left[\\begin{matrix}1 & 0 & 0 & 0\\\\0 & 1 & 0 & 0\\\\0 & 0 & 1 & 0\\\\0 & 0 & 0 & 1\\end{matrix}\\right]$"
      ],
      "text/plain": [
       "⎡1  0  0  0⎤\n",
       "⎢          ⎥\n",
       "⎢0  1  0  0⎥\n",
       "⎢          ⎥\n",
       "⎢0  0  1  0⎥\n",
       "⎢          ⎥\n",
       "⎣0  0  0  1⎦"
      ]
     },
     "execution_count": 598,
     "metadata": {},
     "output_type": "execute_result"
    }
   ],
   "source": [
    "prd = [Md.inv(), Mc.inv(), Mb.inv(), Ma.inv(),\\  # <-- (-1)*S1\n",
    "       Ma.inv(), Mb, Mc, Md, \\                   # <-- M1\n",
    "       Ma, Mb, Mc, Md, \\                         # <-- (-1)*S1.inv()\n",
    "       Md, Mc.inv(), Mb.inv(), Ma.inv()]         # <-- M2.inv()\n",
    "\n",
    "Z = I4\n",
    "for m in prd:\n",
    "    Z *= ev(m)\n",
    "\n",
    "Z"
   ]
  },
  {
   "cell_type": "markdown",
   "id": "c33320ef-069c-460a-8da3-8f824421759a",
   "metadata": {},
   "source": [
    "# Ajustment of the lift of $S_1$"
   ]
  },
  {
   "cell_type": "code",
   "execution_count": null,
   "id": "8fbce8e7-535d-4241-9631-5f33290c89bc",
   "metadata": {},
   "outputs": [],
   "source": []
  }
 ],
 "metadata": {
  "colab": {
   "collapsed_sections": [
    "PGII4NrboFOE"
   ],
   "provenance": []
  },
  "kernelspec": {
   "display_name": "Python 3 (ipykernel)",
   "language": "python",
   "name": "python3"
  },
  "language_info": {
   "codemirror_mode": {
    "name": "ipython",
    "version": 3
   },
   "file_extension": ".py",
   "mimetype": "text/x-python",
   "name": "python",
   "nbconvert_exporter": "python",
   "pygments_lexer": "ipython3",
   "version": "3.12.6"
  }
 },
 "nbformat": 4,
 "nbformat_minor": 5
}
