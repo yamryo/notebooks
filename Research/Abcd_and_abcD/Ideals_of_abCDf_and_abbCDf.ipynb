{
 "cells": [
  {
   "cell_type": "markdown",
   "id": "0eca0c30-9bf8-4a83-b199-45c6b5c65a2e",
   "metadata": {},
   "source": [
    "# 1. Symplectic representation"
   ]
  },
  {
   "cell_type": "markdown",
   "id": "63ccd808-6f3e-45fe-b508-634b51edc713",
   "metadata": {},
   "source": [
    "## 1.1. On Humphries generators"
   ]
  },
  {
   "cell_type": "markdown",
   "id": "b96f01f6-1b90-41fd-b0bd-60cdcfebd13c",
   "metadata": {
    "jp-MarkdownHeadingCollapsed": true
   },
   "source": [
    "### Sp_repr class and functions"
   ]
  },
  {
   "cell_type": "code",
   "execution_count": 1,
   "id": "e4904364-e347-42dd-8219-f82f9587039d",
   "metadata": {},
   "outputs": [],
   "source": [
    "from sage.all import *"
   ]
  },
  {
   "cell_type": "code",
   "execution_count": 2,
   "id": "eb906321-414c-4614-b1ef-63577388aebf",
   "metadata": {},
   "outputs": [],
   "source": [
    "%display latex"
   ]
  },
  {
   "cell_type": "code",
   "execution_count": 3,
   "id": "ca5b79fe-7655-4ffc-a9b7-055616c6e6d6",
   "metadata": {},
   "outputs": [],
   "source": [
    "class Sp_repr:\n",
    "    #--- 2x2 ---\n",
    "    I = identity_matrix(2)\n",
    "    O = zero_matrix(ZZ,2)\n",
    "    J = matrix([[0,1],[-1,0]])\n",
    "    #---\n",
    "    L = matrix([[1,0],[1,1]])\n",
    "    K = matrix([[0,-1],[0,0]])\n",
    "    #--- 4x4 ---\n",
    "    J4 = block_matrix([[J, O], [O, J]])\n",
    "    # J4 = J4_bm.subs([(J, evJ)]).as_explicit()\n",
    "    #---\n",
    "    CHR_2_MTX = {'a': block_matrix([[L.inverse(), O], [O, I]]),\n",
    "                 'b': block_matrix([[L.T, K], [K, L.T]]),\n",
    "                 'c': block_matrix([[I, O], [O, L.inverse()]]),\n",
    "                 'd': block_matrix([[I, O], [O, L.T]]),\n",
    "                 'f': block_matrix([[L.T, O], [O,I]])}\n",
    "    #---\n",
    "    \n",
    "    def __init__(self, l:str):\n",
    "        self.loop = l\n",
    "        self.matrix = self.CHR_2_MTX.get(l) if l.islower() else self.CHR_2_MTX.get(l.lower()).inverse()"
   ]
  },
  {
   "cell_type": "code",
   "execution_count": 4,
   "id": "b7c2f2c1-8285-48aa-acd3-edc93922e79c",
   "metadata": {},
   "outputs": [
    {
     "data": {
      "text/html": [
       "<html>\\(\\displaystyle \\left[\\mathrm{True}, \\mathrm{True}, \\mathrm{True}, \\mathrm{True}, \\mathrm{True}, \\mathrm{True}\\right]\\)</html>"
      ],
      "text/latex": [
       "$\\displaystyle \\left[\\mathrm{True}, \\mathrm{True}, \\mathrm{True}, \\mathrm{True}, \\mathrm{True}, \\mathrm{True}\\right]$"
      ],
      "text/plain": [
       "[True, True, True, True, True, True]"
      ]
     },
     "execution_count": 4,
     "metadata": {},
     "output_type": "execute_result"
    }
   ],
   "source": [
    "def is_Sp(M):\n",
    "    J = Sp_repr.J4\n",
    "    return M.transpose()*J*M == J\n",
    "\n",
    "list(map(lambda l: is_Sp(Sp_repr(l).matrix), ['a','b','c','d','f', 'A'])) "
   ]
  },
  {
   "cell_type": "markdown",
   "id": "acdb99e7-cb13-40a4-9c05-4450aa74d9c8",
   "metadata": {},
   "source": [
    "## 1.2. The symplectic images of Abcd and abcD"
   ]
  },
  {
   "cell_type": "code",
   "execution_count": 5,
   "id": "3124d2d8-8314-4e0f-b6c1-74796f8b5070",
   "metadata": {},
   "outputs": [
    {
     "data": {
      "text/html": [
       "<html>\\(\\displaystyle \\left(\\left(\\begin{array}{rr|rr}\n",
       "1 & 0 & 0 & 0 \\\\\n",
       "-1 & 1 & 0 & 0 \\\\\n",
       "\\hline\n",
       " 0 & 0 & 1 & 0 \\\\\n",
       "0 & 0 & 0 & 1\n",
       "\\end{array}\\right), \\left(\\begin{array}{rr|rr}\n",
       "1 & 1 & 0 & -1 \\\\\n",
       "0 & 1 & 0 & 0 \\\\\n",
       "\\hline\n",
       " 0 & -1 & 1 & 1 \\\\\n",
       "0 & 0 & 0 & 1\n",
       "\\end{array}\\right), \\left(\\begin{array}{rr|rr}\n",
       "1 & 0 & 0 & 0 \\\\\n",
       "0 & 1 & 0 & 0 \\\\\n",
       "\\hline\n",
       " 0 & 0 & 1 & 0 \\\\\n",
       "0 & 0 & -1 & 1\n",
       "\\end{array}\\right), \\left(\\begin{array}{rr|rr}\n",
       "1 & 0 & 0 & 0 \\\\\n",
       "0 & 1 & 0 & 0 \\\\\n",
       "\\hline\n",
       " 0 & 0 & 1 & 1 \\\\\n",
       "0 & 0 & 0 & 1\n",
       "\\end{array}\\right), \\left(\\begin{array}{rr|rr}\n",
       "1 & 1 & 0 & 0 \\\\\n",
       "0 & 1 & 0 & 0 \\\\\n",
       "\\hline\n",
       " 0 & 0 & 1 & 0 \\\\\n",
       "0 & 0 & 0 & 1\n",
       "\\end{array}\\right), \\left(\\begin{array}{rr|rr}\n",
       "0 & 1 & 0 & 0 \\\\\n",
       "-1 & 0 & 0 & 0 \\\\\n",
       "\\hline\n",
       " 0 & 0 & 0 & 1 \\\\\n",
       "0 & 0 & -1 & 0\n",
       "\\end{array}\\right)\\right)\\)</html>"
      ],
      "text/latex": [
       "$\\displaystyle \\left(\\left(\\begin{array}{rr|rr}\n",
       "1 & 0 & 0 & 0 \\\\\n",
       "-1 & 1 & 0 & 0 \\\\\n",
       "\\hline\n",
       " 0 & 0 & 1 & 0 \\\\\n",
       "0 & 0 & 0 & 1\n",
       "\\end{array}\\right), \\left(\\begin{array}{rr|rr}\n",
       "1 & 1 & 0 & -1 \\\\\n",
       "0 & 1 & 0 & 0 \\\\\n",
       "\\hline\n",
       " 0 & -1 & 1 & 1 \\\\\n",
       "0 & 0 & 0 & 1\n",
       "\\end{array}\\right), \\left(\\begin{array}{rr|rr}\n",
       "1 & 0 & 0 & 0 \\\\\n",
       "0 & 1 & 0 & 0 \\\\\n",
       "\\hline\n",
       " 0 & 0 & 1 & 0 \\\\\n",
       "0 & 0 & -1 & 1\n",
       "\\end{array}\\right), \\left(\\begin{array}{rr|rr}\n",
       "1 & 0 & 0 & 0 \\\\\n",
       "0 & 1 & 0 & 0 \\\\\n",
       "\\hline\n",
       " 0 & 0 & 1 & 1 \\\\\n",
       "0 & 0 & 0 & 1\n",
       "\\end{array}\\right), \\left(\\begin{array}{rr|rr}\n",
       "1 & 1 & 0 & 0 \\\\\n",
       "0 & 1 & 0 & 0 \\\\\n",
       "\\hline\n",
       " 0 & 0 & 1 & 0 \\\\\n",
       "0 & 0 & 0 & 1\n",
       "\\end{array}\\right), \\left(\\begin{array}{rr|rr}\n",
       "0 & 1 & 0 & 0 \\\\\n",
       "-1 & 0 & 0 & 0 \\\\\n",
       "\\hline\n",
       " 0 & 0 & 0 & 1 \\\\\n",
       "0 & 0 & -1 & 0\n",
       "\\end{array}\\right)\\right)$"
      ],
      "text/plain": [
       "(\n",
       "[ 1  0| 0  0]  [ 1  1| 0 -1]  [ 1  0| 0  0]  [1 0|0 0]  [1 1|0 0]\n",
       "[-1  1| 0  0]  [ 0  1| 0  0]  [ 0  1| 0  0]  [0 1|0 0]  [0 1|0 0]\n",
       "[-----+-----]  [-----+-----]  [-----+-----]  [---+---]  [---+---]\n",
       "[ 0  0| 1  0]  [ 0 -1| 1  1]  [ 0  0| 1  0]  [0 0|1 1]  [0 0|1 0]\n",
       "[ 0  0| 0  1], [ 0  0| 0  1], [ 0  0|-1  1], [0 0|0 1], [0 0|0 1],\n",
       "\n",
       "[ 0  1| 0  0]\n",
       "[-1  0| 0  0]\n",
       "[-----+-----]\n",
       "[ 0  0| 0  1]\n",
       "[ 0  0|-1  0]\n",
       ")"
      ]
     },
     "execution_count": 5,
     "metadata": {},
     "output_type": "execute_result"
    }
   ],
   "source": [
    "a,b,c,d,f = tuple(map(lambda l: Sp_repr(l).matrix, ['a','b','c','d','f']))\n",
    "J4 = Sp_repr.J4\n",
    "\n",
    "a,b,c,d,f, J4 "
   ]
  },
  {
   "cell_type": "code",
   "execution_count": 6,
   "id": "91718540-8b61-4383-b757-749b0b101bbf",
   "metadata": {},
   "outputs": [
    {
     "data": {
      "text/html": [
       "<html>\\(\\displaystyle \\left(\\left(\\begin{array}{rrrr}\n",
       "1 & 0 & 0 & 0 \\\\\n",
       "1 & 1 & 0 & 0 \\\\\n",
       "0 & 0 & 1 & 0 \\\\\n",
       "0 & 0 & 0 & 1\n",
       "\\end{array}\\right), \\left(\\begin{array}{rrrr}\n",
       "1 & -1 & 0 & 1 \\\\\n",
       "0 & 1 & 0 & 0 \\\\\n",
       "0 & 1 & 1 & -1 \\\\\n",
       "0 & 0 & 0 & 1\n",
       "\\end{array}\\right), \\left(\\begin{array}{rrrr}\n",
       "1 & 0 & 0 & 0 \\\\\n",
       "0 & 1 & 0 & 0 \\\\\n",
       "0 & 0 & 1 & 0 \\\\\n",
       "0 & 0 & 1 & 1\n",
       "\\end{array}\\right), \\left(\\begin{array}{rrrr}\n",
       "1 & 0 & 0 & 0 \\\\\n",
       "0 & 1 & 0 & 0 \\\\\n",
       "0 & 0 & 1 & -1 \\\\\n",
       "0 & 0 & 0 & 1\n",
       "\\end{array}\\right), \\left(\\begin{array}{rrrr}\n",
       "1 & -1 & 0 & 0 \\\\\n",
       "0 & 1 & 0 & 0 \\\\\n",
       "0 & 0 & 1 & 0 \\\\\n",
       "0 & 0 & 0 & 1\n",
       "\\end{array}\\right)\\right)\\)</html>"
      ],
      "text/latex": [
       "$\\displaystyle \\left(\\left(\\begin{array}{rrrr}\n",
       "1 & 0 & 0 & 0 \\\\\n",
       "1 & 1 & 0 & 0 \\\\\n",
       "0 & 0 & 1 & 0 \\\\\n",
       "0 & 0 & 0 & 1\n",
       "\\end{array}\\right), \\left(\\begin{array}{rrrr}\n",
       "1 & -1 & 0 & 1 \\\\\n",
       "0 & 1 & 0 & 0 \\\\\n",
       "0 & 1 & 1 & -1 \\\\\n",
       "0 & 0 & 0 & 1\n",
       "\\end{array}\\right), \\left(\\begin{array}{rrrr}\n",
       "1 & 0 & 0 & 0 \\\\\n",
       "0 & 1 & 0 & 0 \\\\\n",
       "0 & 0 & 1 & 0 \\\\\n",
       "0 & 0 & 1 & 1\n",
       "\\end{array}\\right), \\left(\\begin{array}{rrrr}\n",
       "1 & 0 & 0 & 0 \\\\\n",
       "0 & 1 & 0 & 0 \\\\\n",
       "0 & 0 & 1 & -1 \\\\\n",
       "0 & 0 & 0 & 1\n",
       "\\end{array}\\right), \\left(\\begin{array}{rrrr}\n",
       "1 & -1 & 0 & 0 \\\\\n",
       "0 & 1 & 0 & 0 \\\\\n",
       "0 & 0 & 1 & 0 \\\\\n",
       "0 & 0 & 0 & 1\n",
       "\\end{array}\\right)\\right)$"
      ],
      "text/plain": [
       "(\n",
       "[1 0 0 0]  [ 1 -1  0  1]  [1 0 0 0]  [ 1  0  0  0]  [ 1 -1  0  0]\n",
       "[1 1 0 0]  [ 0  1  0  0]  [0 1 0 0]  [ 0  1  0  0]  [ 0  1  0  0]\n",
       "[0 0 1 0]  [ 0  1  1 -1]  [0 0 1 0]  [ 0  0  1 -1]  [ 0  0  1  0]\n",
       "[0 0 0 1], [ 0  0  0  1], [0 0 1 1], [ 0  0  0  1], [ 0  0  0  1]\n",
       ")"
      ]
     },
     "execution_count": 6,
     "metadata": {},
     "output_type": "execute_result"
    }
   ],
   "source": [
    "A, B, C, D, F = (k.inverse() for k in [a,b,c,d,f])\n",
    "A,B,C,D,F"
   ]
  },
  {
   "cell_type": "code",
   "execution_count": 7,
   "id": "5b64dafc-f82c-4c1b-b784-562718f37ea5",
   "metadata": {
    "scrolled": true
   },
   "outputs": [
    {
     "data": {
      "text/html": [
       "<html>\\(\\displaystyle \\left(\\begin{array}{rrrr}\n",
       "1 & 2 & -1 & 0 \\\\\n",
       "-1 & -1 & 1 & 0 \\\\\n",
       "0 & -1 & 2 & -1 \\\\\n",
       "0 & 0 & 1 & 0\n",
       "\\end{array}\\right)\\)</html>"
      ],
      "text/latex": [
       "$\\displaystyle \\left(\\begin{array}{rrrr}\n",
       "1 & 2 & -1 & 0 \\\\\n",
       "-1 & -1 & 1 & 0 \\\\\n",
       "0 & -1 & 2 & -1 \\\\\n",
       "0 & 0 & 1 & 0\n",
       "\\end{array}\\right)$"
      ],
      "text/plain": [
       "[ 1  2 -1  0]\n",
       "[-1 -1  1  0]\n",
       "[ 0 -1  2 -1]\n",
       "[ 0  0  1  0]"
      ]
     },
     "metadata": {},
     "output_type": "display_data"
    },
    {
     "data": {
      "text/html": [
       "<html>\\(\\displaystyle \\left(\\begin{array}{rrrr}\n",
       "1 & 3 & -2 & 0 \\\\\n",
       "-1 & -2 & 2 & 0 \\\\\n",
       "0 & -2 & 3 & -1 \\\\\n",
       "0 & 0 & 1 & 0\n",
       "\\end{array}\\right)\\)</html>"
      ],
      "text/latex": [
       "$\\displaystyle \\left(\\begin{array}{rrrr}\n",
       "1 & 3 & -2 & 0 \\\\\n",
       "-1 & -2 & 2 & 0 \\\\\n",
       "0 & -2 & 3 & -1 \\\\\n",
       "0 & 0 & 1 & 0\n",
       "\\end{array}\\right)$"
      ],
      "text/plain": [
       "[ 1  3 -2  0]\n",
       "[-1 -2  2  0]\n",
       "[ 0 -2  3 -1]\n",
       "[ 0  0  1  0]"
      ]
     },
     "metadata": {},
     "output_type": "display_data"
    },
    {
     "data": {
      "text/html": [
       "<html>\\(\\displaystyle \\left[\\mathrm{True}, \\mathrm{True}\\right]\\)</html>"
      ],
      "text/latex": [
       "$\\displaystyle \\left[\\mathrm{True}, \\mathrm{True}\\right]$"
      ],
      "text/plain": [
       "[True, True]"
      ]
     },
     "execution_count": 7,
     "metadata": {},
     "output_type": "execute_result"
    }
   ],
   "source": [
    "M = a*b*C*D*f\n",
    "display(M)\n",
    "N = a*b*b*C*D*f\n",
    "display(N)\n",
    "\n",
    "list(map(is_Sp, [M, N]))"
   ]
  },
  {
   "cell_type": "markdown",
   "id": "09564ad3-c81e-487d-a387-6a5104a697e8",
   "metadata": {},
   "source": [
    "# 2. The ideal for fibered knots"
   ]
  },
  {
   "cell_type": "markdown",
   "id": "fc59ddcb-4d93-4bb5-aafc-599a25155a43",
   "metadata": {},
   "source": [
    "### The charactoristic polynomial of M (and N)"
   ]
  },
  {
   "cell_type": "code",
   "execution_count": 8,
   "id": "dd6304d6-7bb0-4ec3-99a9-0513b1b72980",
   "metadata": {},
   "outputs": [
    {
     "data": {
      "text/html": [
       "<html>\\(\\displaystyle t^{4} - 2 t^{3} + 3 t^{2} - 2 t + 1\\)</html>"
      ],
      "text/latex": [
       "$\\displaystyle t^{4} - 2 t^{3} + 3 t^{2} - 2 t + 1$"
      ],
      "text/plain": [
       "t^4 - 2*t^3 + 3*t^2 - 2*t + 1"
      ]
     },
     "metadata": {},
     "output_type": "display_data"
    },
    {
     "data": {
      "text/html": [
       "<html>\\(\\displaystyle (t^{2} - t + 1)^{2}\\)</html>"
      ],
      "text/latex": [
       "$\\displaystyle (t^{2} - t + 1)^{2}$"
      ],
      "text/plain": [
       "(t^2 - t + 1)^2"
      ]
     },
     "metadata": {},
     "output_type": "display_data"
    },
    {
     "name": "stdout",
     "output_type": "stream",
     "text": [
      "cp_M == cp_N ?   --> True\n"
     ]
    }
   ],
   "source": [
    "R.<alpha> = PolynomialRing(ZZ)\n",
    "cp_M = M.charpoly('t'); display(cp_M, cp_M.factor())\n",
    "cp_N = N.charpoly('t'); #display(cp_N)\n",
    "\n",
    "print(f\"cp_M == cp_N ?   --> {cp_M == cp_N}\")"
   ]
  },
  {
   "cell_type": "code",
   "execution_count": 9,
   "id": "2bd3d4fb-cf6d-4a11-a388-4598d3638ab5",
   "metadata": {
    "scrolled": true
   },
   "outputs": [
    {
     "ename": "ValueError",
     "evalue": "defining polynomial (t^4 - 2*t^3 + 3*t^2 - 2*t + 1) must be irreducible",
     "output_type": "error",
     "traceback": [
      "\u001b[31m---------------------------------------------------------------------------\u001b[39m",
      "\u001b[31mValueError\u001b[39m                                Traceback (most recent call last)",
      "\u001b[32m/var/folders/_2/y9pyq6t17cx_0cdgclxth5mh0000gn/T/ipykernel_55512/3741361160.py\u001b[39m in \u001b[36m?\u001b[39m\u001b[34m()\u001b[39m\n\u001b[32m----> \u001b[39m\u001b[32m1\u001b[39m K = NumberField(cp_M, names=(\u001b[33m'alpha'\u001b[39m,)); (alpha,) = K._first_ngens(\u001b[32m1\u001b[39m)\n\u001b[32m      2\u001b[39m OK = K.ring_of_integers()\n\u001b[32m      3\u001b[39m print(\u001b[33m\"整数基:\"\u001b[39m, OK.basis())\n\u001b[32m      4\u001b[39m print(\u001b[33m\"類数:\"\u001b[39m, OK.class_number())\n",
      "\u001b[32m/private/var/tmp/sage-10.7-current/local/lib/python3.13/site-packages/sage/rings/number_field/number_field.py\u001b[39m in \u001b[36m?\u001b[39m\u001b[34m(polynomial, name, check, names, embedding, latex_name, assume_disc_small, maximize_at_primes, structure, latex_names, **kwds)\u001b[39m\n\u001b[32m    546\u001b[39m             \u001b[38;5;28;01mraise\u001b[39;00m NotImplementedError(\u001b[33m\"Number field with prescribed %s is not implemented\"\u001b[39m % key)\n\u001b[32m    547\u001b[39m     \u001b[38;5;28;01mif\u001b[39;00m isinstance(polynomial, (list, tuple)):\n\u001b[32m    548\u001b[39m         \u001b[38;5;28;01mreturn\u001b[39;00m NumberFieldTower(polynomial, names=name, check=check, embeddings=embedding, latex_names=latex_name, assume_disc_small=assume_disc_small, maximize_at_primes=maximize_at_primes, structures=structure)\n\u001b[32m    549\u001b[39m \n\u001b[32m--> \u001b[39m\u001b[32m550\u001b[39m     \u001b[38;5;28;01mreturn\u001b[39;00m NumberField_version2(polynomial=polynomial, name=name, check=check, embedding=embedding, latex_name=latex_name, assume_disc_small=assume_disc_small, maximize_at_primes=maximize_at_primes, structure=structure)\n",
      "\u001b[32msage/structure/factory.pyx\u001b[39m in \u001b[36m?\u001b[39m\u001b[34m()\u001b[39m\n\u001b[32m--> \u001b[39m\u001b[32m373\u001b[39m \u001b[33m'Could not get source, probably due dynamically evaluated source code.'\u001b[39m\n",
      "\u001b[32msage/structure/factory.pyx\u001b[39m in \u001b[36m?\u001b[39m\u001b[34m()\u001b[39m\n\u001b[32m--> \u001b[39m\u001b[32m375\u001b[39m \u001b[33m'Could not get source, probably due dynamically evaluated source code.'\u001b[39m\n",
      "\u001b[32msage/structure/factory.pyx\u001b[39m in \u001b[36m?\u001b[39m\u001b[34m()\u001b[39m\n\u001b[32m--> \u001b[39m\u001b[32m375\u001b[39m \u001b[33m'Could not get source, probably due dynamically evaluated source code.'\u001b[39m\n",
      "\u001b[32msage/structure/factory.pyx\u001b[39m in \u001b[36m?\u001b[39m\u001b[34m()\u001b[39m\n\u001b[32m--> \u001b[39m\u001b[32m416\u001b[39m \u001b[33m'Could not get source, probably due dynamically evaluated source code.'\u001b[39m\n",
      "\u001b[32m/private/var/tmp/sage-10.7-current/local/lib/python3.13/site-packages/sage/rings/number_field/number_field.py\u001b[39m in \u001b[36m?\u001b[39m\u001b[34m(self, version, key, check)\u001b[39m\n\u001b[32m    681\u001b[39m                                         structure=structure)\n\u001b[32m    682\u001b[39m         \u001b[38;5;28;01mif\u001b[39;00m polynomial.degree() == \u001b[32m2\u001b[39m:\n\u001b[32m    683\u001b[39m             \u001b[38;5;28;01mreturn\u001b[39;00m NumberField_quadratic(polynomial, name, latex_name, check, embedding, assume_disc_small=assume_disc_small, maximize_at_primes=maximize_at_primes, structure=structure)\n\u001b[32m    684\u001b[39m         \u001b[38;5;28;01melse\u001b[39;00m:\n\u001b[32m--> \u001b[39m\u001b[32m685\u001b[39m             \u001b[38;5;28;01mreturn\u001b[39;00m NumberField_absolute(polynomial, name, latex_name, check, embedding, assume_disc_small=assume_disc_small, maximize_at_primes=maximize_at_primes, structure=structure)\n",
      "\u001b[32m/private/var/tmp/sage-10.7-current/local/lib/python3.13/site-packages/sage/rings/number_field/number_field.py\u001b[39m in \u001b[36m?\u001b[39m\u001b[34m(self, polynomial, name, latex_name, check, embedding, assume_disc_small, maximize_at_primes, structure)\u001b[39m\n\u001b[32m   8105\u001b[39m             sage: type(K)\n\u001b[32m   8106\u001b[39m             <\u001b[38;5;28;01mclass\u001b[39;00m \u001b[33m'sage.rings.number_field.number_field.NumberField_absolute_with_category'\u001b[39m>\n\u001b[32m   8107\u001b[39m             sage: TestSuite(K).run()\n\u001b[32m   8108\u001b[39m         \"\"\"\n\u001b[32m-> \u001b[39m\u001b[32m8109\u001b[39m         NumberField_generic.__init__(self, polynomial, name, latex_name, check, embedding,\n\u001b[32m   8110\u001b[39m                                      assume_disc_small=assume_disc_small, maximize_at_primes=maximize_at_primes, structure=structure)\n\u001b[32m   8111\u001b[39m         self._element_class = number_field_element.NumberFieldElement_absolute\n\u001b[32m   8112\u001b[39m         self._zero_element = self._element_class(self, \u001b[32m0\u001b[39m)\n",
      "\u001b[32m/private/var/tmp/sage-10.7-current/local/lib/python3.13/site-packages/sage/rings/number_field/number_field.py\u001b[39m in \u001b[36m?\u001b[39m\u001b[34m(self, polynomial, name, latex_name, check, embedding, category, assume_disc_small, maximize_at_primes, structure)\u001b[39m\n\u001b[32m   1378\u001b[39m         \u001b[38;5;28;01mif\u001b[39;00m check:\n\u001b[32m   1379\u001b[39m             \u001b[38;5;28;01mif\u001b[39;00m \u001b[38;5;28;01mnot\u001b[39;00m polynomial.parent().base_ring() == QQ:\n\u001b[32m   1380\u001b[39m                 \u001b[38;5;28;01mraise\u001b[39;00m TypeError(\u001b[33m\"polynomial must be defined over rational field\"\u001b[39m)\n\u001b[32m   1381\u001b[39m             \u001b[38;5;28;01mif\u001b[39;00m \u001b[38;5;28;01mnot\u001b[39;00m polynomial.is_irreducible():\n\u001b[32m-> \u001b[39m\u001b[32m1382\u001b[39m                 \u001b[38;5;28;01mraise\u001b[39;00m ValueError(\u001b[33m\"defining polynomial (%s) must be irreducible\"\u001b[39m % polynomial)\n\u001b[32m   1383\u001b[39m \n\u001b[32m   1384\u001b[39m         self._assign_names(name)\n\u001b[32m   1385\u001b[39m         self._latex_names = (latex_name,)\n",
      "\u001b[31mValueError\u001b[39m: defining polynomial (t^4 - 2*t^3 + 3*t^2 - 2*t + 1) must be irreducible"
     ]
    }
   ],
   "source": [
    "K.<alpha> = NumberField(cp_M)\n",
    "OK = K.ring_of_integers()\n",
    "print(\"整数基:\", OK.basis())\n",
    "print(\"類数:\", OK.class_number())\n",
    "\n",
    "U = UnitGroup(K)\n",
    "print(U.gens_values())\n",
    "\n",
    "G = K.galois_group()\n",
    "tau = K.hom([1/alpha],K); print(f\"{tau(alpha) = }\")"
   ]
  },
  {
   "cell_type": "code",
   "execution_count": 46,
   "id": "6e9becbe-7c7a-4020-bb0a-14bed9cc5bdc",
   "metadata": {},
   "outputs": [
    {
     "name": "stdout",
     "output_type": "stream",
     "text": [
      "[alpha]\n",
      "tau(alpha) = -alpha + 1\n"
     ]
    }
   ],
   "source": [
    "fac = cp_M.factor()[0][0]\n",
    "K = NumberField(fac, names=('alpha'))\n",
    "root = K.gen()\n",
    "U = UnitGroup(K); print(U.gens_values())\n",
    "tau = K.hom([1/alpha],K); print(f\"{tau(alpha) = }\")"
   ]
  },
  {
   "cell_type": "code",
   "execution_count": 34,
   "id": "75df8674-0bc8-437a-b11d-0a695517e567",
   "metadata": {},
   "outputs": [],
   "source": [
    "def ev_wrt_a(X):\n",
    "    X_K = X.change_ring(K)\n",
    "    evlist = X_K.eigenvectors_right();\n",
    "    v = [v[1][0] for v in evlist if v[0] == root][0]\n",
    "    if X_K*v == root*v:\n",
    "        return v\n",
    "    else:\n",
    "        return None"
   ]
  },
  {
   "cell_type": "markdown",
   "id": "ab26e5d9-360f-4442-8702-342cf4e810f3",
   "metadata": {},
   "source": [
    "### Eigenvectors of M and N with respect to the eigen value $a$"
   ]
  },
  {
   "cell_type": "code",
   "execution_count": 36,
   "id": "5a55569d-062e-49c6-a384-b3f955799aec",
   "metadata": {},
   "outputs": [
    {
     "data": {
      "text/html": [
       "<html>\\(\\displaystyle \\left(1,\\,\\alpha - 1,\\,\\alpha - 1,\\,\\alpha\\right)\\)</html>"
      ],
      "text/latex": [
       "$\\displaystyle \\left(1,\\,\\alpha - 1,\\,\\alpha - 1,\\,\\alpha\\right)$"
      ],
      "text/plain": [
       "(1, alpha - 1, alpha - 1, alpha)"
      ]
     },
     "metadata": {},
     "output_type": "display_data"
    },
    {
     "data": {
      "text/html": [
       "<html>\\(\\displaystyle \\left(1,\\,\\alpha - 1,\\,\\alpha - 1,\\,\\alpha\\right)\\)</html>"
      ],
      "text/latex": [
       "$\\displaystyle \\left(1,\\,\\alpha - 1,\\,\\alpha - 1,\\,\\alpha\\right)$"
      ],
      "text/plain": [
       "(1, alpha - 1, alpha - 1, alpha)"
      ]
     },
     "metadata": {},
     "output_type": "display_data"
    },
    {
     "name": "stdout",
     "output_type": "stream",
     "text": [
      "------- Check -------\n",
      "True True\n"
     ]
    }
   ],
   "source": [
    "v, w = [ev_wrt_a(X) for X in (M,N)]\n",
    "display(v, w)\n",
    "print(\"------- Check -------\")\n",
    "print(M*v == root*v, N*w == root*w)"
   ]
  },
  {
   "cell_type": "markdown",
   "id": "8d3d115c-4eb2-4fce-99e2-4c557d285df5",
   "metadata": {},
   "source": [
    "### The values of M and N"
   ]
  },
  {
   "cell_type": "code",
   "execution_count": 51,
   "id": "cd9b7740-fa82-42fb-ae98-29fd7c53d86c",
   "metadata": {},
   "outputs": [
    {
     "data": {
      "text/html": [
       "<html>\\(\\displaystyle \\frac{4 \\alpha^{3} - 6 \\alpha^{2} + 6 \\alpha - 2}{\\alpha}\\)</html>"
      ],
      "text/latex": [
       "$\\displaystyle \\frac{4 \\alpha^{3} - 6 \\alpha^{2} + 6 \\alpha - 2}{\\alpha}$"
      ],
      "text/plain": [
       "(4*alpha^3 - 6*alpha^2 + 6*alpha - 2)/alpha"
      ]
     },
     "metadata": {},
     "output_type": "display_data"
    }
   ],
   "source": [
    "df = diff(cp_M) #fac) #\n",
    "Del = df(alpha)/alpha; display(Del)"
   ]
  },
  {
   "cell_type": "code",
   "execution_count": 52,
   "id": "75961f47-8b08-415c-90a0-213ce208add4",
   "metadata": {},
   "outputs": [],
   "source": [
    "def Va(v):\n",
    "    tau_v = vector([tau(e) for e in v])\n",
    "    aD = v.dot_product(J4*tau_v)\n",
    "    return aD/Del"
   ]
  },
  {
   "cell_type": "code",
   "execution_count": 53,
   "id": "8cd61082-54f7-4b50-a1d2-6c11e09d8fd9",
   "metadata": {},
   "outputs": [
    {
     "data": {
      "text/html": [
       "<html>\\(\\displaystyle \\left[0, 0\\right]\\)</html>"
      ],
      "text/latex": [
       "$\\displaystyle \\left[0, 0\\right]$"
      ],
      "text/plain": [
       "[0, 0]"
      ]
     },
     "execution_count": 53,
     "metadata": {},
     "output_type": "execute_result"
    }
   ],
   "source": [
    "[Va(vec) for vec in [v,w]]"
   ]
  },
  {
   "cell_type": "code",
   "execution_count": 54,
   "id": "ee259c7c-45d1-4897-9a9b-40ecf46fecf7",
   "metadata": {},
   "outputs": [
    {
     "data": {
      "text/html": [
       "<html>\\(\\displaystyle \\left(\\left(\\left(1,\\,\\alpha - 1,\\,\\alpha - 1,\\,\\alpha\\right), 0\\right), \\left(\\left(1,\\,\\alpha - 1,\\,\\alpha - 1,\\,\\alpha\\right), 0\\right)\\right)\\)</html>"
      ],
      "text/latex": [
       "$\\displaystyle \\left(\\left(\\left(1,\\,\\alpha - 1,\\,\\alpha - 1,\\,\\alpha\\right), 0\\right), \\left(\\left(1,\\,\\alpha - 1,\\,\\alpha - 1,\\,\\alpha\\right), 0\\right)\\right)$"
      ],
      "text/plain": [
       "(((1, alpha - 1, alpha - 1, alpha), 0), ((1, alpha - 1, alpha - 1, alpha), 0))"
      ]
     },
     "execution_count": 54,
     "metadata": {},
     "output_type": "execute_result"
    }
   ],
   "source": [
    "(v, Va(v)), (w, Va(w))"
   ]
  },
  {
   "cell_type": "code",
   "execution_count": 55,
   "id": "d56a0c61-4f7f-47a0-a21a-55960818fc2e",
   "metadata": {},
   "outputs": [
    {
     "ename": "ZeroDivisionError",
     "evalue": "fraction field element division by zero",
     "output_type": "error",
     "traceback": [
      "\u001b[31m---------------------------------------------------------------------------\u001b[39m",
      "\u001b[31mZeroDivisionError\u001b[39m                         Traceback (most recent call last)",
      "\u001b[36mCell\u001b[39m\u001b[36m \u001b[39m\u001b[32mIn[55]\u001b[39m\u001b[32m, line 1\u001b[39m\n\u001b[32m----> \u001b[39m\u001b[32m1\u001b[39m c = \u001b[43mVa\u001b[49m\u001b[43m(\u001b[49m\u001b[43mv\u001b[49m\u001b[43m)\u001b[49m\u001b[43m/\u001b[49m\u001b[43mVa\u001b[49m\u001b[43m(\u001b[49m\u001b[43mw\u001b[49m\u001b[43m)\u001b[49m\n\u001b[32m      2\u001b[39m display(c, c == tau(c))\n",
      "\u001b[36mFile \u001b[39m\u001b[32m/private/var/tmp/sage-10.7-current/local/lib/python3.13/site-packages/sage/structure/element.pyx:1734\u001b[39m, in \u001b[36msage.structure.element.Element.__truediv__ (build/cythonized/sage/structure/element.c:22605)\u001b[39m\u001b[34m()\u001b[39m\n\u001b[32m   1732\u001b[39m cdef int cl = classify_elements(left, right)\n\u001b[32m   1733\u001b[39m if HAVE_SAME_PARENT(cl):\n\u001b[32m-> \u001b[39m\u001b[32m1734\u001b[39m     return (<Element>left)._div_(right)\n\u001b[32m   1735\u001b[39m if BOTH_ARE_ELEMENT(cl):\n\u001b[32m   1736\u001b[39m     return coercion_model.bin_op(left, right, truediv)\n",
      "\u001b[36mFile \u001b[39m\u001b[32m/private/var/tmp/sage-10.7-current/local/lib/python3.13/site-packages/sage/rings/fraction_field_element.pyx:783\u001b[39m, in \u001b[36msage.rings.fraction_field_element.FractionFieldElement._div_ (build/cythonized/sage/rings/fraction_field_element.c:15034)\u001b[39m\u001b[34m()\u001b[39m\n\u001b[32m    781\u001b[39m \n\u001b[32m    782\u001b[39m         if snum.is_zero():\n\u001b[32m--> \u001b[39m\u001b[32m783\u001b[39m             raise ZeroDivisionError(\"fraction field element division by zero\")\n\u001b[32m    784\u001b[39m \n\u001b[32m    785\u001b[39m         rightinv = self.__class__(self._parent, sden, snum,\n",
      "\u001b[31mZeroDivisionError\u001b[39m: fraction field element division by zero"
     ]
    }
   ],
   "source": [
    "c = Va(v)/Va(w)\n",
    "display(c, c == tau(c))"
   ]
  },
  {
   "cell_type": "code",
   "execution_count": null,
   "id": "3ef26992-9550-4b1b-bf30-65b2206237a7",
   "metadata": {},
   "outputs": [],
   "source": [
    "# --- 判定処理 ---\n",
    "def check_decomposition(x, sigma, O):\n",
    "    \"\"\"\n",
    "    x が u*sigma(u) の形に分解できるか検証する\n",
    "    \"\"\"\n",
    "    # x が代数的整数であるか確認\n",
    "    if x not in O:\n",
    "        print(f\"警告: {x} は代数的整数ではありません。\")\n",
    "        \n",
    "    print(f\"\\n--- 元 x = {x} の検証 ---\")\n",
    "    \n",
    "    # 必要条件: x が共役写像 σ で不変であるかチェック\n",
    "    if sigma(x) != x:\n",
    "        print(f\"不変性チェック失敗: σ(x) = {sigma(x)} は x と異なります。\")\n",
    "        print(\"したがって、x は u * σ(u) の形には分解できません。\")\n",
    "        return False\n",
    "    \n",
    "    print(f\"不変性チェック成功: σ(x) = {sigma(x)} で、x と一致します。\")\n",
    "    print(\"分解できる可能性があります。\")\n",
    "    \n",
    "    # # u * σ(u) = x となる u の存在を調べる\n",
    "    # # この部分の実装は、一般には困難\n",
    "    # # 幸いにも、このケースでは K^* のコホモロジー群が自明なため、\n",
    "    # # 不変元は常に u*σ(u) の形に書けます。\n",
    "    # # よって、不変性チェックが成功すれば、分解可能と判定します。\n",
    "    # # 実際には、x が代数的整数であるかどうかのチェックも重要です。\n",
    "    # print(\"理論上、不変元であるため、単数 u が存在して分解できます。\")\n",
    "    \n",
    "    # ノルムを計算\n",
    "    x_norm = x.norm()\n",
    "    print(f\"ノルム: {x_norm}\")\n",
    "\n",
    "    # 平方数であるかチェック\n",
    "    if is_square(x_norm):\n",
    "        print(\"ノルムは平方数です。分解できる可能性があります。\")\n",
    "    else:\n",
    "        print(\"ノルムは平方数ではありません。分解できません。\")\n",
    "        \n",
    "    return True\n",
    "\n",
    "# 検証を実行\n",
    "check_decomposition(c, tau, OK)"
   ]
  },
  {
   "cell_type": "code",
   "execution_count": null,
   "id": "65ffc61d-dc0a-486a-9795-2c14e4a4bc10",
   "metadata": {},
   "outputs": [],
   "source": [
    "# 第10円分体 K を定義\n",
    "K.<a> = CyclotomicField(10)\n",
    "\n",
    "# a を 1/a に送る共役写像 σ を定義\n",
    "sigma = K.hom([1/a], K)\n",
    "\n",
    "# 調べる元 x = a^3 - a^2\n",
    "x = a^3 - a^2\n",
    "\n",
    "# x の共役 σ(x) を計算\n",
    "sigma_x = sigma(x)\n",
    "\n",
    "print(f\"元 x = {x}\")\n",
    "print(f\"共役 σ(x) = {sigma_x}\")\n",
    "\n",
    "# x と σ(x) が一致するか比較\n",
    "if x == sigma_x:\n",
    "    print(\"\\nx は σ-不変です。分解できる可能性があります。\")\n",
    "else:\n",
    "    print(f\"\\nx と σ(x) が一致しません。\")\n",
    "    print(\"したがって、x は u * σ(u) の形には分解できません。\")"
   ]
  },
  {
   "cell_type": "code",
   "execution_count": null,
   "id": "6aa394e7-8890-492e-a9d2-85aa496bf9a4",
   "metadata": {
    "scrolled": true
   },
   "outputs": [],
   "source": [
    "from itertools import product\n",
    "R = range(100)\n",
    "frag = False\n",
    "\n",
    "u0, u1 = U.gens_values()\n",
    "for i,j in product(R,R):\n",
    "    for e, d in product([1,-1],[1,-1]):\n",
    "        u = (u0**(i*e))*(u1**(j*d))\n",
    "        frag = u*tau(u) == c\n",
    "        if frag:\n",
    "            print((i*e,j*d), u)\n",
    "            break\n",
    "    if frag: break                    "
   ]
  },
  {
   "cell_type": "markdown",
   "id": "a7f4c976-1f08-4d6c-b9ec-1aece3f00bb7",
   "metadata": {},
   "source": [
    "### Scratch"
   ]
  },
  {
   "cell_type": "code",
   "execution_count": null,
   "id": "9446cf76-0206-4bc6-913d-0dbfd397c334",
   "metadata": {},
   "outputs": [],
   "source": [
    "#print(v, type(v))\n",
    "display(a+1, (a+1).subs({a: 1/a}))\n",
    "display(v, v.subs({a: 1/a}), J4*(v.subs({a: 1/a})))\n",
    "# v.dot_product(J4*v)"
   ]
  },
  {
   "cell_type": "code",
   "execution_count": null,
   "id": "e89b5482-9785-4897-8f43-1184a9dba8f4",
   "metadata": {},
   "outputs": [],
   "source": [
    "tv = vector([1, 1/a^3+1/a-1, -1/a^3, 1/a^2])\n",
    "display(tv)\n",
    "alpha = v.dot_product(J4*tv)\n",
    "display(alpha)"
   ]
  },
  {
   "cell_type": "code",
   "execution_count": null,
   "id": "11cd578a-c8c6-4c0c-b5e1-b6be1b457b4b",
   "metadata": {},
   "outputs": [],
   "source": [
    "(a-2)*(1/a-2)"
   ]
  },
  {
   "cell_type": "code",
   "execution_count": null,
   "id": "126f17b4-d998-4543-b867-61043fe221b7",
   "metadata": {},
   "outputs": [],
   "source": [
    "vv = vector([1, a, a^2, a^3])\n",
    "tvv = vector([1, 1/a, 1/(a^2), 1/(a^3)])\n",
    "display(vv, tvv)\n",
    "\n",
    "aDel = bilinear_form(vv, tvv, J4)\n",
    "display(aDel)\n",
    "\n",
    "cvv = (1/aDel)*(J4*tvv)\n",
    "display(cvv)\n",
    "\n",
    "T = 10*(identity_matrix(4)+matrix([[0,0,0,-1],[0,0,0,1],[0,0,0,1],[0,0,0,0]]))\n",
    "cvv = T*cvv; display(cvv)\n",
    "T2 = (identity_matrix(4)+matrix([[0,0,0,0],[0,0,0,0],[0,-1,0,0],[2,2,0,0]]))\n",
    "cvv = T2*cvv; display(cvv)\n",
    "T3 = (identity_matrix(4)+matrix([[0,0,0,0],[0,0,0,0],[0,0,0,0],[0,0,1,0]]))\n",
    "cvv = T3*cvv; display(cvv)"
   ]
  },
  {
   "cell_type": "code",
   "execution_count": null,
   "id": "706f0227-234b-4061-addb-697b3d7548ee",
   "metadata": {},
   "outputs": [],
   "source": [
    "vv = vector([1, a, a^2, a^3])\n",
    "tvv = vector([1, 1/a, 1/(a^2), 1/(a^3)])\n",
    "display(vv, tvv)\n",
    "\n",
    "aDel = bilinear_form(vv, tvv, J4)\n",
    "\n",
    "display(aDel, aDel == 2*(1/a-a))    "
   ]
  },
  {
   "cell_type": "code",
   "execution_count": null,
   "id": "46942d12-fcca-41c4-ab75-c129636f7850",
   "metadata": {},
   "outputs": [],
   "source": [
    "t = var('t')\n",
    "df = diff(cp_M, t)\n",
    "\n",
    "Del = df(a)/a\n",
    "\n",
    "display(Del)"
   ]
  },
  {
   "cell_type": "code",
   "execution_count": null,
   "id": "46f5283d-c939-4ae7-896b-4ac84c29df73",
   "metadata": {},
   "outputs": [],
   "source": [
    "VA = 2*(1/a-a)/Del #aDel/Del\n",
    "display(VA, VA == VA)"
   ]
  }
 ],
 "metadata": {
  "kernelspec": {
   "display_name": "Python 3 (ipykernel)",
   "language": "python",
   "name": "python3"
  },
  "language_info": {
   "codemirror_mode": {
    "name": "ipython",
    "version": 3
   },
   "file_extension": ".py",
   "mimetype": "text/x-python",
   "name": "python",
   "nbconvert_exporter": "python",
   "pygments_lexer": "ipython3",
   "version": "3.12.3"
  }
 },
 "nbformat": 4,
 "nbformat_minor": 5
}
