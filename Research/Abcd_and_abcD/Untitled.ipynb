{
 "cells": [
  {
   "cell_type": "code",
   "execution_count": 1,
   "id": "0053f610-dbb7-42e1-83b4-01f30cf98482",
   "metadata": {},
   "outputs": [],
   "source": [
    "import sys\n",
    "sys.path.append(\"../modules\")\n",
    "from Ideal_elm_pair_class import *\n",
    "%display latex"
   ]
  },
  {
   "cell_type": "code",
   "execution_count": 2,
   "id": "999fbae6-bc4f-40aa-9bd8-880705269a15",
   "metadata": {
    "executionInfo": {
     "elapsed": 6,
     "status": "aborted",
     "timestamp": 1726184657593,
     "user": {
      "displayName": "山本亮介",
      "userId": "01861936879830612877"
     },
     "user_tz": -540
    },
    "id": "TuLV1eo61SQ6"
   },
   "outputs": [],
   "source": [
    "def inv(s):\n",
    "    return s[::-1].swapcase()\n",
    "def conj(x,y):\n",
    "    return y + x + inv(y)\n",
    "#----------\n",
    "\n",
    "def A(phi, n):\n",
    "    if n >= 0:\n",
    "        return conj('a', phi)*n + 'C'*n\n",
    "    else:\n",
    "        return inv(conj('a', phi))*abs(n) + 'c'*abs(n)"
   ]
  },
  {
   "cell_type": "code",
   "execution_count": 3,
   "id": "3c0d8389-3032-449f-8905-21b2f04f2a56",
   "metadata": {},
   "outputs": [
    {
     "data": {
      "text/html": [
       "<html>\\(\\displaystyle \\left[\\left(\\begin{array}{rrrr}\n",
       "0 & 1 & -1 & -1 \\\\\n",
       "-1 & 1 & 0 & 0 \\\\\n",
       "1 & -1 & 1 & 0 \\\\\n",
       "0 & 0 & 1 & 1\n",
       "\\end{array}\\right), \\left(\\begin{array}{rrrr}\n",
       "2 & 0 & -1 & -2 \\\\\n",
       "1 & 0 & 0 & -1 \\\\\n",
       "1 & -1 & 1 & 0 \\\\\n",
       "1 & 0 & 0 & 0\n",
       "\\end{array}\\right)\\right]\\)</html>"
      ],
      "text/latex": [
       "$\\displaystyle \\left[\\left(\\begin{array}{rrrr}\n",
       "0 & 1 & -1 & -1 \\\\\n",
       "-1 & 1 & 0 & 0 \\\\\n",
       "1 & -1 & 1 & 0 \\\\\n",
       "0 & 0 & 1 & 1\n",
       "\\end{array}\\right), \\left(\\begin{array}{rrrr}\n",
       "2 & 0 & -1 & -2 \\\\\n",
       "1 & 0 & 0 & -1 \\\\\n",
       "1 & -1 & 1 & 0 \\\\\n",
       "1 & 0 & 0 & 0\n",
       "\\end{array}\\right)\\right]$"
      ],
      "text/plain": [
       "[\n",
       "[ 0  1 -1 -1]  [ 2  0 -1 -2]\n",
       "[-1  1  0  0]  [ 1  0  0 -1]\n",
       "[ 1 -1  1  0]  [ 1 -1  1  0]\n",
       "[ 0  0  1  1], [ 1  0  0  0]\n",
       "]"
      ]
     },
     "metadata": {},
     "output_type": "display_data"
    },
    {
     "data": {
      "text/html": [
       "<html>\\(\\displaystyle \\verb|{t^4|\\verb| |\\verb|-|\\verb| |\\verb|3*t^3|\\verb| |\\verb|+|\\verb| |\\verb|5*t^2|\\verb| |\\verb|-|\\verb| |\\verb|3*t|\\verb| |\\verb|+|\\verb| |\\verb|1}|\\)</html>"
      ],
      "text/latex": [
       "$\\displaystyle \\verb|{t^4|\\verb| |\\verb|-|\\verb| |\\verb|3*t^3|\\verb| |\\verb|+|\\verb| |\\verb|5*t^2|\\verb| |\\verb|-|\\verb| |\\verb|3*t|\\verb| |\\verb|+|\\verb| |\\verb|1}|$"
      ],
      "text/plain": [
       "{t^4 - 3*t^3 + 5*t^2 - 3*t + 1}"
      ]
     },
     "metadata": {},
     "output_type": "display_data"
    },
    {
     "data": {
      "text/html": [
       "<html>\\(\\displaystyle \\left[\\left(1,\\,\\alpha^{3} - 2 \\alpha^{2} + 3 \\alpha,\\,\\alpha^{3} - 3 \\alpha^{2} + 4 \\alpha - 2,\\,\\alpha^{2} - 2 \\alpha + 2\\right), \\left(1,\\,2 \\alpha^{3} - 5 \\alpha^{2} + 7 \\alpha - 1,\\,2 \\alpha^{3} - 6 \\alpha^{2} + 9 \\alpha - 4,\\,-\\alpha^{3} + 3 \\alpha^{2} - 5 \\alpha + 3\\right)\\right]\\)</html>"
      ],
      "text/latex": [
       "$\\displaystyle \\left[\\left(1,\\,\\alpha^{3} - 2 \\alpha^{2} + 3 \\alpha,\\,\\alpha^{3} - 3 \\alpha^{2} + 4 \\alpha - 2,\\,\\alpha^{2} - 2 \\alpha + 2\\right), \\left(1,\\,2 \\alpha^{3} - 5 \\alpha^{2} + 7 \\alpha - 1,\\,2 \\alpha^{3} - 6 \\alpha^{2} + 9 \\alpha - 4,\\,-\\alpha^{3} + 3 \\alpha^{2} - 5 \\alpha + 3\\right)\\right]$"
      ],
      "text/plain": [
       "[(1, alpha^3 - 2*alpha^2 + 3*alpha, alpha^3 - 3*alpha^2 + 4*alpha - 2, alpha^2 - 2*alpha + 2),\n",
       " (1, 2*alpha^3 - 5*alpha^2 + 7*alpha - 1, 2*alpha^3 - 6*alpha^2 + 9*alpha - 4, -alpha^3 + 3*alpha^2 - 5*alpha + 3)]"
      ]
     },
     "metadata": {},
     "output_type": "display_data"
    },
    {
     "data": {
      "text/html": [
       "<html>\\(\\displaystyle \\left[-\\alpha^{3} + 3 \\alpha^{2} - 4 \\alpha + 1, -1\\right]\\)</html>"
      ],
      "text/latex": [
       "$\\displaystyle \\left[-\\alpha^{3} + 3 \\alpha^{2} - 4 \\alpha + 1, -1\\right]$"
      ],
      "text/plain": [
       "[-alpha^3 + 3*alpha^2 - 4*alpha + 1, -1]"
      ]
     },
     "metadata": {},
     "output_type": "display_data"
    },
    {
     "data": {
      "text/html": [
       "<html>\\(\\displaystyle \\left[\\left(0, 1\\right), \\alpha - 1\\right]\\)</html>"
      ],
      "text/latex": [
       "$\\displaystyle \\left[\\left(0, 1\\right), \\alpha - 1\\right]$"
      ],
      "text/plain": [
       "[(0, 1), alpha - 1]"
      ]
     },
     "execution_count": 3,
     "metadata": {},
     "output_type": "execute_result"
    }
   ],
   "source": [
    "m63, phi = ('DbCa', 'ecb')\n",
    "n1, n2 = 0, -1\n",
    "\n",
    "monodromy_list = [A(phi, n1)+m63, A(phi, n2)+m63]\n",
    "\n",
    "ideal_list = [ideal(m) for m in monodromy_list]\n",
    "matarr = [i.matrix for i in ideal_list]; display(matarr)\n",
    "pset = set([i.char_poly for i in ideal_list]); display(pset)\n",
    "varr = [i.eigen_vector for i in ideal_list]; display(varr)\n",
    "garr = [i.generator for i in ideal_list]; display(garr)\n",
    "\n",
    "conjugate_check(*monodromy_list, rng=200)"
   ]
  },
  {
   "cell_type": "code",
   "execution_count": 4,
   "id": "1eced5c7-b92c-4c43-bb0f-2cf423d18d80",
   "metadata": {},
   "outputs": [
    {
     "data": {
      "text/html": [
       "<html>\\(\\displaystyle \\left[\\left(\\begin{array}{rrrr}\n",
       "1 & 1 & 1 & -1 \\\\\n",
       "-1 & 0 & -1 & 1 \\\\\n",
       "0 & -1 & 1 & 0 \\\\\n",
       "0 & -2 & 1 & 1\n",
       "\\end{array}\\right), \\left(\\begin{array}{rrrr}\n",
       "1 & 1 & -4 & -1 \\\\\n",
       "-1 & 0 & 4 & 1 \\\\\n",
       "0 & -1 & 1 & 0 \\\\\n",
       "0 & 3 & 1 & 1\n",
       "\\end{array}\\right)\\right]\\)</html>"
      ],
      "text/latex": [
       "$\\displaystyle \\left[\\left(\\begin{array}{rrrr}\n",
       "1 & 1 & 1 & -1 \\\\\n",
       "-1 & 0 & -1 & 1 \\\\\n",
       "0 & -1 & 1 & 0 \\\\\n",
       "0 & -2 & 1 & 1\n",
       "\\end{array}\\right), \\left(\\begin{array}{rrrr}\n",
       "1 & 1 & -4 & -1 \\\\\n",
       "-1 & 0 & 4 & 1 \\\\\n",
       "0 & -1 & 1 & 0 \\\\\n",
       "0 & 3 & 1 & 1\n",
       "\\end{array}\\right)\\right]$"
      ],
      "text/plain": [
       "[\n",
       "[ 1  1  1 -1]  [ 1  1 -4 -1]\n",
       "[-1  0 -1  1]  [-1  0  4  1]\n",
       "[ 0 -1  1  0]  [ 0 -1  1  0]\n",
       "[ 0 -2  1  1], [ 0  3  1  1]\n",
       "]"
      ]
     },
     "metadata": {},
     "output_type": "display_data"
    },
    {
     "data": {
      "text/html": [
       "<html>\\(\\displaystyle \\verb|{t^4|\\verb| |\\verb|-|\\verb| |\\verb|3*t^3|\\verb| |\\verb|+|\\verb| |\\verb|5*t^2|\\verb| |\\verb|-|\\verb| |\\verb|3*t|\\verb| |\\verb|+|\\verb| |\\verb|1}|\\)</html>"
      ],
      "text/latex": [
       "$\\displaystyle \\verb|{t^4|\\verb| |\\verb|-|\\verb| |\\verb|3*t^3|\\verb| |\\verb|+|\\verb| |\\verb|5*t^2|\\verb| |\\verb|-|\\verb| |\\verb|3*t|\\verb| |\\verb|+|\\verb| |\\verb|1}|$"
      ],
      "text/plain": [
       "{t^4 - 3*t^3 + 5*t^2 - 3*t + 1}"
      ]
     },
     "metadata": {},
     "output_type": "display_data"
    },
    {
     "data": {
      "text/html": [
       "<html>\\(\\displaystyle \\left[\\left(1,\\,\\alpha^{3} - 2 \\alpha^{2} + 3 \\alpha - 1,\\,\\alpha^{3} - 3 \\alpha^{2} + 4 \\alpha - 2,\\,2 \\alpha^{3} - 5 \\alpha^{2} + 6 \\alpha - 2\\right), \\left(1,\\,\\alpha^{3} - 2 \\alpha^{2} + 3 \\alpha - 1,\\,\\alpha^{3} - 3 \\alpha^{2} + 4 \\alpha - 2,\\,-3 \\alpha^{3} + 10 \\alpha^{2} - 14 \\alpha + 8\\right)\\right]\\)</html>"
      ],
      "text/latex": [
       "$\\displaystyle \\left[\\left(1,\\,\\alpha^{3} - 2 \\alpha^{2} + 3 \\alpha - 1,\\,\\alpha^{3} - 3 \\alpha^{2} + 4 \\alpha - 2,\\,2 \\alpha^{3} - 5 \\alpha^{2} + 6 \\alpha - 2\\right), \\left(1,\\,\\alpha^{3} - 2 \\alpha^{2} + 3 \\alpha - 1,\\,\\alpha^{3} - 3 \\alpha^{2} + 4 \\alpha - 2,\\,-3 \\alpha^{3} + 10 \\alpha^{2} - 14 \\alpha + 8\\right)\\right]$"
      ],
      "text/plain": [
       "[(1, alpha^3 - 2*alpha^2 + 3*alpha - 1, alpha^3 - 3*alpha^2 + 4*alpha - 2, 2*alpha^3 - 5*alpha^2 + 6*alpha - 2),\n",
       " (1, alpha^3 - 2*alpha^2 + 3*alpha - 1, alpha^3 - 3*alpha^2 + 4*alpha - 2, -3*alpha^3 + 10*alpha^2 - 14*alpha + 8)]"
      ]
     },
     "metadata": {},
     "output_type": "display_data"
    },
    {
     "data": {
      "text/html": [
       "<html>\\(\\displaystyle \\left[-\\alpha^{3} + 3 \\alpha^{2} - 4 \\alpha + 1, -\\alpha^{3} + 3 \\alpha^{2} - 4 \\alpha + 1\\right]\\)</html>"
      ],
      "text/latex": [
       "$\\displaystyle \\left[-\\alpha^{3} + 3 \\alpha^{2} - 4 \\alpha + 1, -\\alpha^{3} + 3 \\alpha^{2} - 4 \\alpha + 1\\right]$"
      ],
      "text/plain": [
       "[-alpha^3 + 3*alpha^2 - 4*alpha + 1, -alpha^3 + 3*alpha^2 - 4*alpha + 1]"
      ]
     },
     "metadata": {},
     "output_type": "display_data"
    },
    {
     "data": {
      "text/html": [
       "<html>\\(\\displaystyle \\left[\\left(0, 0\\right), 1\\right]\\)</html>"
      ],
      "text/latex": [
       "$\\displaystyle \\left[\\left(0, 0\\right), 1\\right]$"
      ],
      "text/plain": [
       "[(0, 0), 1]"
      ]
     },
     "execution_count": 4,
     "metadata": {},
     "output_type": "execute_result"
    }
   ],
   "source": [
    "m63, phi = ('aCbD', 'ECB')\n",
    "n1, n2 = 1, -4\n",
    "\n",
    "monodromy_list = [A(phi, n1)+m63, A(phi, n2)+m63]\n",
    "\n",
    "ideal_list = [ideal(m) for m in monodromy_list]\n",
    "matarr = [i.matrix for i in ideal_list]; display(matarr)\n",
    "pset = set([i.char_poly for i in ideal_list]); display(pset)\n",
    "varr = [i.eigen_vector for i in ideal_list]; display(varr)\n",
    "garr = [i.generator for i in ideal_list]; display(garr)\n",
    "\n",
    "conjugate_check(*monodromy_list, rng=200)"
   ]
  },
  {
   "cell_type": "code",
   "execution_count": 5,
   "id": "09adf5ec-d981-4513-a1e6-a071560fb79d",
   "metadata": {},
   "outputs": [
    {
     "data": {
      "text/html": [
       "<html>\\(\\displaystyle \\left[\\left(\\begin{array}{rrrr}\n",
       "-3 & 1 & -2 & 3 \\\\\n",
       "-5 & 0 & -2 & 5 \\\\\n",
       "0 & -1 & 1 & 0 \\\\\n",
       "-4 & -3 & 1 & 5\n",
       "\\end{array}\\right), \\left(\\begin{array}{rrrr}\n",
       "7 & 1 & 3 & -7 \\\\\n",
       "5 & 0 & 3 & -5 \\\\\n",
       "0 & -1 & 1 & 0 \\\\\n",
       "6 & 2 & 1 & -5\n",
       "\\end{array}\\right)\\right]\\)</html>"
      ],
      "text/latex": [
       "$\\displaystyle \\left[\\left(\\begin{array}{rrrr}\n",
       "-3 & 1 & -2 & 3 \\\\\n",
       "-5 & 0 & -2 & 5 \\\\\n",
       "0 & -1 & 1 & 0 \\\\\n",
       "-4 & -3 & 1 & 5\n",
       "\\end{array}\\right), \\left(\\begin{array}{rrrr}\n",
       "7 & 1 & 3 & -7 \\\\\n",
       "5 & 0 & 3 & -5 \\\\\n",
       "0 & -1 & 1 & 0 \\\\\n",
       "6 & 2 & 1 & -5\n",
       "\\end{array}\\right)\\right]$"
      ],
      "text/plain": [
       "[\n",
       "[-3  1 -2  3]  [ 7  1  3 -7]\n",
       "[-5  0 -2  5]  [ 5  0  3 -5]\n",
       "[ 0 -1  1  0]  [ 0 -1  1  0]\n",
       "[-4 -3  1  5], [ 6  2  1 -5]\n",
       "]"
      ]
     },
     "metadata": {},
     "output_type": "display_data"
    },
    {
     "data": {
      "text/html": [
       "<html>\\(\\displaystyle \\verb|{t^4|\\verb| |\\verb|-|\\verb| |\\verb|3*t^3|\\verb| |\\verb|+|\\verb| |\\verb|17*t^2|\\verb| |\\verb|-|\\verb| |\\verb|3*t|\\verb| |\\verb|+|\\verb| |\\verb|1}|\\)</html>"
      ],
      "text/latex": [
       "$\\displaystyle \\verb|{t^4|\\verb| |\\verb|-|\\verb| |\\verb|3*t^3|\\verb| |\\verb|+|\\verb| |\\verb|17*t^2|\\verb| |\\verb|-|\\verb| |\\verb|3*t|\\verb| |\\verb|+|\\verb| |\\verb|1}|$"
      ],
      "text/plain": [
       "{t^4 - 3*t^3 + 17*t^2 - 3*t + 1}"
      ]
     },
     "metadata": {},
     "output_type": "display_data"
    },
    {
     "data": {
      "text/html": [
       "<html>\\(\\displaystyle \\left[\\left(145,\\,37 \\alpha^{3} - 118 \\alpha^{2} + 667 \\alpha - 53,\\,41 \\alpha^{3} - 119 \\alpha^{2} + 696 \\alpha - 94,\\,15 \\alpha^{3} - 40 \\alpha^{2} + 290 \\alpha + 100\\right), \\left(145,\\,-83 \\alpha^{3} + 232 \\alpha^{2} - 1353 \\alpha + 47,\\,-89 \\alpha^{3} + 261 \\alpha^{2} - 1484 \\alpha + 136,\\,-50 \\alpha^{3} + 145 \\alpha^{2} - 850 \\alpha + 210\\right)\\right]\\)</html>"
      ],
      "text/latex": [
       "$\\displaystyle \\left[\\left(145,\\,37 \\alpha^{3} - 118 \\alpha^{2} + 667 \\alpha - 53,\\,41 \\alpha^{3} - 119 \\alpha^{2} + 696 \\alpha - 94,\\,15 \\alpha^{3} - 40 \\alpha^{2} + 290 \\alpha + 100\\right), \\left(145,\\,-83 \\alpha^{3} + 232 \\alpha^{2} - 1353 \\alpha + 47,\\,-89 \\alpha^{3} + 261 \\alpha^{2} - 1484 \\alpha + 136,\\,-50 \\alpha^{3} + 145 \\alpha^{2} - 850 \\alpha + 210\\right)\\right]$"
      ],
      "text/plain": [
       "[(145, 37*alpha^3 - 118*alpha^2 + 667*alpha - 53, 41*alpha^3 - 119*alpha^2 + 696*alpha - 94, 15*alpha^3 - 40*alpha^2 + 290*alpha + 100),\n",
       " (145, -83*alpha^3 + 232*alpha^2 - 1353*alpha + 47, -89*alpha^3 + 261*alpha^2 - 1484*alpha + 136, -50*alpha^3 + 145*alpha^2 - 850*alpha + 210)]"
      ]
     },
     "metadata": {},
     "output_type": "display_data"
    },
    {
     "data": {
      "text/html": [
       "<html>\\(\\displaystyle \\left[-145 \\alpha^{3} + 435 \\alpha^{2} - 2320 \\alpha + 1885, -145 \\alpha^{3} + 435 \\alpha^{2} - 2320 \\alpha + 1885\\right]\\)</html>"
      ],
      "text/latex": [
       "$\\displaystyle \\left[-145 \\alpha^{3} + 435 \\alpha^{2} - 2320 \\alpha + 1885, -145 \\alpha^{3} + 435 \\alpha^{2} - 2320 \\alpha + 1885\\right]$"
      ],
      "text/plain": [
       "[-145*alpha^3 + 435*alpha^2 - 2320*alpha + 1885,\n",
       " -145*alpha^3 + 435*alpha^2 - 2320*alpha + 1885]"
      ]
     },
     "metadata": {},
     "output_type": "display_data"
    },
    {
     "data": {
      "text/html": [
       "<html>\\(\\displaystyle \\left[\\left(0, 0\\right), 1\\right]\\)</html>"
      ],
      "text/latex": [
       "$\\displaystyle \\left[\\left(0, 0\\right), 1\\right]$"
      ],
      "text/plain": [
       "[(0, 0), 1]"
      ]
     },
     "execution_count": 5,
     "metadata": {},
     "output_type": "execute_result"
    }
   ],
   "source": [
    "m63, phi = ('aCbD', 'ecb')\n",
    "n1, n2 = 2, -3\n",
    "\n",
    "monodromy_list = [A(phi, n1)+m63, A(phi, n2)+m63]\n",
    "\n",
    "ideal_list = [ideal(m) for m in monodromy_list]\n",
    "matarr = [i.matrix for i in ideal_list]; display(matarr)\n",
    "pset = set([i.char_poly for i in ideal_list]); display(pset)\n",
    "varr = [i.eigen_vector for i in ideal_list]; display(varr)\n",
    "garr = [i.generator for i in ideal_list]; display(garr)\n",
    "\n",
    "conjugate_check(*monodromy_list, rng=200)"
   ]
  },
  {
   "cell_type": "code",
   "execution_count": 6,
   "id": "fcce137b-ceef-4448-b452-248d02e4f78f",
   "metadata": {},
   "outputs": [
    {
     "ename": "SyntaxError",
     "evalue": "invalid syntax (1565010558.py, line 2)",
     "output_type": "error",
     "traceback": [
      "\u001b[0;36m  Cell \u001b[0;32mIn[6], line 2\u001b[0;36m\u001b[0m\n\u001b[0;31m    i.\u001b[0m\n\u001b[0m      ^\u001b[0m\n\u001b[0;31mSyntaxError\u001b[0m\u001b[0;31m:\u001b[0m invalid syntax\n"
     ]
    }
   ],
   "source": [
    "i = ideal_list[0]\n",
    "i.\n",
    "#print(i.equiv_rel(garr[1]); #display(ids, u)"
   ]
  },
  {
   "cell_type": "code",
   "execution_count": 50,
   "id": "243b2860-038e-44d8-bd80-d1e3543fae15",
   "metadata": {},
   "outputs": [
    {
     "data": {
      "text/html": [
       "<html>\\(\\displaystyle \\alpha^{3} - 3 \\alpha^{2} + 4 \\alpha - 1\\)</html>"
      ],
      "text/latex": [
       "$\\displaystyle \\alpha^{3} - 3 \\alpha^{2} + 4 \\alpha - 1$"
      ],
      "text/plain": [
       "alpha^3 - 3*alpha^2 + 4*alpha - 1"
      ]
     },
     "execution_count": 50,
     "metadata": {},
     "output_type": "execute_result"
    }
   ],
   "source": [
    "u*i.tau(u)"
   ]
  }
 ],
 "metadata": {
  "kernelspec": {
   "display_name": "SageMath 10.7",
   "language": "sage",
   "name": "sagemath"
  },
  "language_info": {
   "codemirror_mode": {
    "name": "ipython",
    "version": 3
   },
   "file_extension": ".py",
   "mimetype": "text/x-python",
   "name": "python",
   "nbconvert_exporter": "python",
   "pygments_lexer": "ipython3",
   "version": "3.12.3"
  }
 },
 "nbformat": 4,
 "nbformat_minor": 5
}
