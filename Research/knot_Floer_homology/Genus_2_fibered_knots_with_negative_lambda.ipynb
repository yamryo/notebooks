{
 "cells": [
  {
   "cell_type": "markdown",
   "id": "b3a46c7e-7ec3-4dec-a8ce-dd1b9d632b7a",
   "metadata": {
    "id": "b3a46c7e-7ec3-4dec-a8ce-dd1b9d632b7a"
   },
   "source": [
    "# Collecting fibered knots with genus 2 and negative lambda inv.\n"
   ]
  },
  {
   "cell_type": "markdown",
   "id": "KPups8IJ6oYy",
   "metadata": {
    "id": "KPups8IJ6oYy"
   },
   "source": [
    "### Modules"
   ]
  },
  {
   "cell_type": "code",
   "execution_count": 1,
   "id": "14c7ea7c-d8c9-4a75-a3a9-ccde4f2bb0cc",
   "metadata": {
    "colab": {
     "base_uri": "https://localhost:8080/"
    },
    "executionInfo": {
     "elapsed": 19392,
     "status": "ok",
     "timestamp": 1726184657592,
     "user": {
      "displayName": "山本亮介",
      "userId": "01861936879830612877"
     },
     "user_tz": -540
    },
    "id": "14c7ea7c-d8c9-4a75-a3a9-ccde4f2bb0cc",
    "outputId": "365c2cd4-ee7f-4d2a-bc32-dd178eb49258"
   },
   "outputs": [
    {
     "name": "stdout",
     "output_type": "stream",
     "text": [
      "A Twister surface of genus 2 with 1 boundary component(s)\n",
      "Loops: a, b, c, d, e, f\n",
      "Inverse names: A, B, C, D, E, F\n",
      "Arcs: x\n",
      "Inverse names: X\n",
      "Macros: \n",
      "Intersection matrix:\n",
      "['', 'a', 'b', 'c', 'd', 'e', 'f', 'x']\n",
      "['a', 0, 1, 0, 0, 0, 1, 0]\n",
      "['b', 1, 0, 1, 0, 0, 0, 0]\n",
      "['c', 0, 1, 0, 1, 1, 0, 1]\n",
      "['d', 0, 0, 1, 0, 0, 0, 0]\n",
      "['e', 0, 0, 1, 0, 0, 0, 0]\n",
      "['f', 1, 0, 0, 0, 0, 0, 0]\n",
      "['x', 0, 0, 1, 0, 0, 0, 0]\n"
     ]
    }
   ],
   "source": [
    "import os\n",
    "#import numpy as np\n",
    "import pandas as pd\n",
    "import ast\n",
    "\n",
    "from snappy import *\n",
    "S = twister.Surface('S_2_1')\n",
    "S.info(True)"
   ]
  },
  {
   "cell_type": "code",
   "execution_count": 2,
   "id": "5c241ed5-c0a1-48ae-a25b-2d9d4245b6b5",
   "metadata": {},
   "outputs": [],
   "source": [
    "def md_to_hfk(md: str) -> dict:\n",
    "    data = {'monodromy': md}\n",
    "    M3 = S.bundle(monodromy=md)\n",
    "    data['vol'] = M3.volume()\n",
    "    #---\n",
    "    try:\n",
    "        L = M3.exterior_to_link() #verbose=True, simplify_link=False)\n",
    "    except Exception as e:\n",
    "        print(f\"Error: {e}\")\n",
    "        return None\n",
    "    #---\n",
    "    dt = L.DT_code()[0]\n",
    "    data['cr'] = len(dt)\n",
    "    data['DT'] = dt\n",
    "    data['PD'] = L.PD_code()\n",
    "\n",
    "    hfk_dic = L.knot_floer_homology(); #print(f\"{hfk_dic=}\")\n",
    "    data['lmd'] = list(hfk_dic['ranks'].keys())[-1][1]\n",
    "    data['ranks'] = hfk_dic['ranks']\n",
    "    return data"
   ]
  },
  {
   "cell_type": "markdown",
   "id": "GTAygcIdqwrF",
   "metadata": {
    "id": "GTAygcIdqwrF"
   },
   "source": [
    "## Get HFK from monodromies"
   ]
  },
  {
   "cell_type": "code",
   "execution_count": null,
   "id": "113688c5-ad0e-4e68-94b7-af6527820160",
   "metadata": {
    "executionInfo": {
     "elapsed": 6,
     "status": "aborted",
     "timestamp": 1726184657593,
     "user": {
      "displayName": "山本亮介",
      "userId": "01861936879830612877"
     },
     "user_tz": -540
    },
    "id": "DjhApb3Nz0II"
   },
   "outputs": [],
   "source": [
    "mds = [#'aB', \n",
    "       'abcD', 'abCD', 'abCF', 'aBcD',\n",
    "       'abCDf', 'abcDF', 'abcdF', 'abCDF',\n",
    "       #---\n",
    "       'abeedcfEabC',\n",
    "       'BECeADbDFEc',\n",
    "       'abCDebDcEfb',\n",
    "       'DebEFAceBDCe',\n",
    "       'cAeABCFAFBDa',\n",
    "       'BDabAAACebec',\n",
    "       'abcDFBBdadaCbE',\n",
    "       'afCeDafDbfbcABd',\n",
    "       'FecfebfBEdBAcdfEA',\n",
    "       'ceBEcaBCbEBBEcEFaa',\n",
    "      ]"
   ]
  },
  {
   "cell_type": "code",
   "execution_count": null,
   "id": "b7ef6036-ed7c-43b8-8bf9-d76e37d6e854",
   "metadata": {
    "executionInfo": {
     "elapsed": 6,
     "status": "aborted",
     "timestamp": 1726184657593,
     "user": {
      "displayName": "山本亮介",
      "userId": "01861936879830612877"
     },
     "user_tz": -540
    },
    "id": "DjhApb3Nz0II"
   },
   "outputs": [],
   "source": [
    "filename = \"./data/hyp_fib_g2_knots_with_neg_lmd.csv\"\n",
    "DF = pd.read_csv(filename) if os.path.isfile(filename) else None\n",
    "    \n",
    "for md in mds:\n",
    "    if DF is not None:\n",
    "        df = DF[DF['monodromy'] == md]\n",
    "        if not df.empty:\n",
    "            print(f\"{md} has already calculated\")\n",
    "            continue\n",
    "    data = md_to_hfk(md)\n",
    "#    print(data)\n",
    "    df = pd.DataFrame([data]).reindex(\n",
    "        columns = ['monodromy', 'cr', 'lmd', 'vol', 'ranks','DT','PD'])\n",
    "#    display(df)\n",
    "    df.to_csv(filename, mode = 'a', index=False, header = (not os.path.isfile(filename)))"
   ]
  },
  {
   "cell_type": "markdown",
   "id": "b438cf41-3c59-4034-821e-415366710e7f",
   "metadata": {},
   "source": [
    "## Scratch"
   ]
  },
  {
   "cell_type": "code",
   "execution_count": 3,
   "id": "2b01aa51-9baf-4bdb-ba7a-1241f5ad2dcb",
   "metadata": {
    "executionInfo": {
     "elapsed": 6,
     "status": "aborted",
     "timestamp": 1726184657593,
     "user": {
      "displayName": "山本亮介",
      "userId": "01861936879830612877"
     },
     "user_tz": -540
    },
    "id": "TuLV1eo61SQ6"
   },
   "outputs": [
    {
     "name": "stdout",
     "output_type": "stream",
     "text": [
      "aCbD\n",
      "5.69302109128\n",
      "6\n",
      "lmd=2\n"
     ]
    }
   ],
   "source": [
    "md = 'aCbD'\n",
    "#'abCD' + 'ebDcEfb' #'ffbCf'\n",
    "#'abCDf' + 'AbfCf' #'fbCf' #'abce' #'aBFA' #'FaFCC' #'FecfebfBEdBAcdfEA' #'dabeedcfE' #'ebDcEfb' #'FDCCDD'\n",
    "#'ABcdFABCE'\n",
    "#'abcD' + 'dCCDBF' #'faBFAF'\n",
    "#'ABcd' + 'Abfaf' #'fAfcc' #'EBdCeFB' #'DABEEDCFe'\n",
    "#'abcD' + 'faabcc' #'CCBAAF' \n",
    "#'aBFbCD' # <-- snappy can detect the link exiterior structure. \n",
    "\n",
    "print(f\"{md}\") \n",
    "\n",
    "M3 = S.bundle(monodromy=md)\n",
    "print(M3.volume())\n",
    "\n",
    "L = M3.exterior_to_link()\n",
    "print(len(L.DT_code()[0]))\n",
    "#pd = L.PD_code(); print(pd)\n",
    "\n",
    "hfk = L.knot_floer_homology()\n",
    "lmd = list(hfk['ranks'].keys())[-1][1]; print(f\"{lmd=}\")"
   ]
  },
  {
   "cell_type": "markdown",
   "id": "60f1dade-f8d1-475c-a7a6-92cbd01373ab",
   "metadata": {},
   "source": [
    "### data\n",
    "\n",
    "ABcdfAfcc\n",
    "11.691476582\n",
    "31\n",
    "lmd=-1\n",
    "\n",
    "abCDFaFCC\n",
    "11.6914765825\n",
    "31\n",
    "lmd=5\n",
    "\n",
    "FecfebfBEdBAcdfEA\n",
    "11.6914765825\n",
    "32\n",
    "lmd=-1"
   ]
  },
  {
   "cell_type": "markdown",
   "id": "8f2edb9d-5b0c-458b-aeb1-06ebf9ce560b",
   "metadata": {},
   "source": [
    "abcD = abCDfaBFAF (=abcDdCCDfaBFAF)\n",
    "4.4008325161\n",
    "6\n",
    "lmd=1"
   ]
  },
  {
   "cell_type": "markdown",
   "id": "d0a83db0-46a0-4b2c-8945-24be917494a9",
   "metadata": {},
   "source": [
    "'abCD' + 'ebDcEfb', 'abCDf'+ 'fbCf', 'ABcd' + 'DABEEDCFe'\n",
    "8.9129751764\n",
    "29\n",
    "lmd=-1\n",
    "\n",
    "'abCD' + 'dabeedcfE', 'ABcd' + 'EBdCeFB'\n",
    "8.9129751764\n",
    "29\n",
    "lmd=5 ( = 2*2-(-1) )"
   ]
  },
  {
   "cell_type": "markdown",
   "id": "06839680-572a-42e8-9e38-6906ed18a402",
   "metadata": {},
   "source": [
    "### Isom. check"
   ]
  },
  {
   "cell_type": "code",
   "execution_count": null,
   "id": "b9c6ebc5-d2c0-4e6a-a4fa-f93544ad547a",
   "metadata": {
    "executionInfo": {
     "elapsed": 6,
     "status": "aborted",
     "timestamp": 1726184657593,
     "user": {
      "displayName": "山本亮介",
      "userId": "01861936879830612877"
     },
     "user_tz": -540
    },
    "id": "TuLV1eo61SQ6"
   },
   "outputs": [],
   "source": [
    "Ms = [S.bundle(monodromy=mc) for mc in ['abcD', 'Dbca', 'Dcba']]\n",
    "for M in Ms:\n",
    "    print(f\"M.vol={M.volume()}\")\n",
    "    L = M.exterior_to_link()\n",
    "    print(len(L.DT_code()[0]))\n",
    "    \n",
    "    hfk = L.knot_floer_homology()\n",
    "    lmd = list(hfk['ranks'].keys())[-1][1]; print(f\"{lmd=}\\n-----\\n\")\n",
    "\n",
    "print(Ms[0].is_isometric_to(Ms[1]))"
   ]
  },
  {
   "cell_type": "code",
   "execution_count": null,
   "id": "f3c5d16f-d05c-455c-ae7c-dde5ed6de66d",
   "metadata": {
    "executionInfo": {
     "elapsed": 6,
     "status": "aborted",
     "timestamp": 1726184657593,
     "user": {
      "displayName": "山本亮介",
      "userId": "01861936879830612877"
     },
     "user_tz": -540
    },
    "id": "TuLV1eo61SQ6"
   },
   "outputs": [],
   "source": [
    "mcs = ['ebDcEfb', 'ffbCf'] #['FeafECFEBFbeDbaBA', 'FaFCC']\n",
    "\n",
    "Ms = [S.bundle(monodromy='abCD'+ mc) for mc in mcs]\n",
    "for i in range(len(mcs)):\n",
    "    print(f\"abCD+{mcs[i]} --> vol={Ms[i].volume()}\")\n",
    "print(f\"is_isometric?: {Ms[0].is_isometric_to(Ms[1])}\")\n",
    "                            \n",
    "print(\"-----------\")\n",
    "\n",
    "Ms1 = [S.bundle(monodromy=mc) for mc in mcs]\n",
    "for i in range(len(mcs)):\n",
    "    print(f\"{mcs[i]} --> vol={Ms1[i].volume()}\")\n",
    "print(f\"is_isometric?: {Ms1[0].is_isometric_to(Ms1[1])}\")\n",
    "\n",
    "#print(Ms[0].is_isometric_to(Ms[2]))\n",
    "#print(Ms[2].is_isometric_to(Ms[3]))"
   ]
  },
  {
   "cell_type": "code",
   "execution_count": null,
   "id": "1c535a7e-3bfe-498f-bc20-ce88bccbefdb",
   "metadata": {
    "executionInfo": {
     "elapsed": 6,
     "status": "aborted",
     "timestamp": 1726184657593,
     "user": {
      "displayName": "山本亮介",
      "userId": "01861936879830612877"
     },
     "user_tz": -540
    },
    "id": "TuLV1eo61SQ6"
   },
   "outputs": [],
   "source": [
    "mcs = ['fecFbABfCEF' + 'fecFbABfCEF' + 'cc', 'fecFbaBfCEF' + 'C']\n",
    "\n",
    "Ms = [S.bundle(monodromy= mc+'DbCa') for mc in mcs]\n",
    "for i in range(len(mcs)):\n",
    "    print(f\"{mcs[i]} --> vol={Ms[i].volume()}\")\n",
    "print(f\"is_isometric?: {Ms[0].is_isometric_to(Ms[1])}\")\n",
    "                            \n",
    "print(\"-----------\")\n",
    "\n",
    "#print(Ms[0].is_isometric_to(Ms[2]))\n",
    "#print(Ms[2].is_isometric_to(Ms[3]))"
   ]
  },
  {
   "cell_type": "code",
   "execution_count": null,
   "id": "22f205bd-3afc-439d-96ea-3ff74b401810",
   "metadata": {
    "executionInfo": {
     "elapsed": 6,
     "status": "aborted",
     "timestamp": 1726184657593,
     "user": {
      "displayName": "山本亮介",
      "userId": "01861936879830612877"
     },
     "user_tz": -540
    },
    "id": "TuLV1eo61SQ6"
   },
   "outputs": [],
   "source": [
    "mc = 'fecFbABfCEF' + 'fecFbABfCEF' + 'cc' + 'DbCa'\n",
    "#'fecFbaBfCEF' + 'C' + 'DbCa'\n",
    "#'fecFbaBfCEF'+'fecFbaBfCEF' + 'CC' + 'DbCa'\n",
    "#'fdcFbaBfCDF' + 'C' + 'DbCa'\n",
    "\n",
    "M = S.bundle(monodromy=mc)\n",
    "print(f\"{mc} --> vol={M.volume()}\")\n",
    "\n",
    "L = M.exterior_to_link()\n",
    "print(len(L.DT_code()[0]))\n",
    "hfk = L.knot_floer_homology()\n",
    "lmd = list(hfk['ranks'].keys())[-1][1]; print(f\"{lmd=}\\n-----\\n\")\n",
    "                          \n",
    "print(\"-----------\")"
   ]
  },
  {
   "cell_type": "code",
   "execution_count": null,
   "id": "0e1a7a43-7dea-4343-99a1-5f488443b9c1",
   "metadata": {
    "executionInfo": {
     "elapsed": 6,
     "status": "aborted",
     "timestamp": 1726184657593,
     "user": {
      "displayName": "山本亮介",
      "userId": "01861936879830612877"
     },
     "user_tz": -540
    },
    "id": "TuLV1eo61SQ6"
   },
   "outputs": [],
   "source": [
    "for mc in ['dCCDBF', 'faBFAF', 'faabcc']:\n",
    "    md = 'abcD' + mc\n",
    "    print(f\"{md}\") \n",
    "    M = S.bundle(monodromy=md)\n",
    "    print(f\"M.vol={M.volume()}\")\n",
    "    #---\n",
    "    print(mc)\n",
    "    M1 = S.bundle(monodromy=mc)\n",
    "    print(f\"M1.vol={M1.volume()}\\n-----\\n\")"
   ]
  },
  {
   "cell_type": "markdown",
   "id": "2c1f913a-49e8-45ad-8da0-8233670527db",
   "metadata": {},
   "source": [
    "# Trial to use Macaw"
   ]
  },
  {
   "cell_type": "code",
   "execution_count": null,
   "id": "838598e6-d6b0-4c73-b9de-ab04ab69ab30",
   "metadata": {},
   "outputs": [],
   "source": [
    "import macaw"
   ]
  },
  {
   "cell_type": "code",
   "execution_count": null,
   "id": "f456c17b-34aa-47c3-94ff-acb33dbc6bcd",
   "metadata": {},
   "outputs": [],
   "source": [
    "A, B, c = macaw.humphries_generators(2)"
   ]
  },
  {
   "cell_type": "code",
   "execution_count": null,
   "id": "4da5ef7b-04dd-4d14-a17b-3d6d7c333885",
   "metadata": {},
   "outputs": [],
   "source": [
    "t = A[0]*B[0]**(-1)\n",
    "t.is_identity()"
   ]
  },
  {
   "cell_type": "code",
   "execution_count": null,
   "id": "790062db-dbe1-41e2-97d0-62eac8ba545a",
   "metadata": {},
   "outputs": [],
   "source": [
    "A[0]*B[0]*(A[1]**(-1))*(B[1]**(-1)) == A[0]*(A[1]**(-1))*B[0]*(B[1]**(-1))"
   ]
  },
  {
   "cell_type": "code",
   "execution_count": null,
   "id": "e8b01f59-8613-4765-a99c-faaf9618d444",
   "metadata": {},
   "outputs": [],
   "source": [
    "(A[0]*A[1]*B[0]*B[1]*c).is_identity()"
   ]
  }
 ],
 "metadata": {
  "colab": {
   "collapsed_sections": [
    "PGII4NrboFOE"
   ],
   "provenance": []
  },
  "kernelspec": {
   "display_name": "Python 3 (ipykernel)",
   "language": "python",
   "name": "python3"
  },
  "language_info": {
   "codemirror_mode": {
    "name": "ipython",
    "version": 3
   },
   "file_extension": ".py",
   "mimetype": "text/x-python",
   "name": "python",
   "nbconvert_exporter": "python",
   "pygments_lexer": "ipython3",
   "version": "3.12.6"
  }
 },
 "nbformat": 4,
 "nbformat_minor": 5
}
