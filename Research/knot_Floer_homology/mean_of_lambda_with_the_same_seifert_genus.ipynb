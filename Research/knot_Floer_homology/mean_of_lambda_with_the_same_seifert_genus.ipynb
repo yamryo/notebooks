{
 "cells": [
  {
   "cell_type": "markdown",
   "id": "1c150c64-ce43-4102-ab96-5d6490840dbe",
   "metadata": {},
   "source": [
    "# lambda と Seifert genus の関係性に関する一考察"
   ]
  },
  {
   "cell_type": "markdown",
   "id": "2caaeb66-9ba3-49c7-b70f-65b8aa876738",
   "metadata": {
    "jp-MarkdownHeadingCollapsed": true
   },
   "source": [
    "## Libraries"
   ]
  },
  {
   "cell_type": "code",
   "execution_count": null,
   "id": "e8493c67-2a2b-46b9-a0e8-6e55b141fe15",
   "metadata": {},
   "outputs": [],
   "source": [
    "# import random\n",
    "import re\n",
    "import ast\n",
    "import itertools\n",
    "from tqdm.notebook import tqdm\n",
    "\n",
    "import math\n",
    "import numpy as np\n",
    "import pandas as pd\n",
    "import seaborn as sb\n",
    "\n",
    "import plotly.express as px\n",
    "from plotly.subplots import make_subplots\n",
    "import plotly.graph_objects as go\n",
    "\n",
    "#import sys; sys.path.append(\"../modules\")\n",
    "#import sympy; sympy.init_printing()\n",
    "#import Permutation as pm\n",
    "#from Grid import *\n",
    "\n",
    "# ----- Debugger -----\n",
    "# from IPython.core.debugger import Pdb; Pdb().set_trace()\n",
    "# from knot_floer_homology import *"
   ]
  },
  {
   "cell_type": "code",
   "execution_count": null,
   "id": "a5559dac-0ba0-4fce-b1dd-bb75cc28fcef",
   "metadata": {},
   "outputs": [],
   "source": [
    "def get_heat_matrix(cr_rng, sample=0):\n",
    "    fname = f\"./data/hfk_{cr_rng}.csv\"\n",
    "    try:\n",
    "        DF = pd.read_csv(fname).set_index('Name'); DF['lambda'] = DF['lambda'].astype('Int64')\n",
    "        df = DF.query('fibered == True').loc[:, ['lambda', 'seifert_genus']]\n",
    "        if sample > 0:\n",
    "            df = df.sample(n=sample, replace = True if len(df) < sample else False)\n",
    "        #----\n",
    "        mat = np.zeros([df['lambda'].max()+1,df['seifert_genus'].max()+1], dtype = int)\n",
    "        for name, values in df.iterrows():\n",
    "            i, j = values['lambda'], values['seifert_genus']\n",
    "            mat[i][j] += 1\n",
    "        #----\n",
    "    except:\n",
    "        mat = [[0]]\n",
    "    return mat"
   ]
  },
  {
   "cell_type": "code",
   "execution_count": null,
   "id": "6aa46d45-dcc5-4053-91b2-f0eae5be11d9",
   "metadata": {
    "ExecuteTime": {
     "end_time": "2021-05-28T05:09:37.293177Z",
     "start_time": "2021-05-28T05:09:32.767515Z"
    },
    "scrolled": true,
    "tags": []
   },
   "outputs": [],
   "source": [
    "cr_rngs = [range(3,10),range(10,13),range(13,14),range(14,15),range(15,16),range(16,17)]\n",
    "Row, Col = 2, 3\n",
    "fig = make_subplots(Row, Col, subplot_titles=[f\"crossing={[*rng]}\" for rng in cr_rngs], horizontal_spacing=0.15)\n",
    "#---\n",
    "for i, j in itertools.product(range(Row), range(Col)):\n",
    "    r = i * Col + j\n",
    "    try:\n",
    "        mat = get_heat_matrix(cr_rngs[r])\n",
    "        fig.add_trace(\n",
    "            go.Heatmap(z = mat,\n",
    "                       colorscale = 'Oranges',\n",
    "                       colorbar_len=0.4, colorbar_x=0.25 + 0.385*j, colorbar_y = 0.18 + 0.63*(1-i),                        \n",
    "            ), \n",
    "            i+1, j+1)\n",
    "    except:\n",
    "        pass\n",
    "# ---\n",
    "fig.update_layout(\n",
    "    xaxis_title=\"Seifert genus\", yaxis_title=\"lambda\",\n",
    "    height = 400 * Row, width = 400 * Col, title=\"heatmaps\"\n",
    ")\n",
    "# ---\n",
    "fig.show()"
   ]
  },
  {
   "cell_type": "code",
   "execution_count": null,
   "id": "699bd356-399a-48a1-a555-61a2c48c02ad",
   "metadata": {
    "ExecuteTime": {
     "end_time": "2021-05-28T05:09:37.293177Z",
     "start_time": "2021-05-28T05:09:32.767515Z"
    },
    "scrolled": true,
    "tags": []
   },
   "outputs": [],
   "source": [
    "cr_rngs = [range(3,10),range(10,13),range(13,14),range(14,15),range(15,16),range(16,17)]\n",
    "Row, Col = 2, 3\n",
    "fig = make_subplots(Row, Col, subplot_titles=[f\"crossing={[*rng]}\" for rng in cr_rngs], horizontal_spacing=0.15)\n",
    "#---\n",
    "for i, j in itertools.product(range(Row), range(Col)):\n",
    "    r = i * Col + j\n",
    "    try:\n",
    "        mat = get_heat_matrix(cr_rngs[r], sample=1000)\n",
    "        fig.add_trace(\n",
    "            go.Heatmap(z = mat,\n",
    "                       colorscale = 'Oranges',\n",
    "                       colorbar_len=0.4, colorbar_x=0.25 + 0.385*j, colorbar_y = 0.18 + 0.63*(1-i),                        \n",
    "            ), \n",
    "            i+1, j+1)\n",
    "    except:\n",
    "        pass\n",
    "# ---\n",
    "fig.update_layout(\n",
    "    xaxis_title=\"Seifert genus\", yaxis_title=\"lambda\",\n",
    "    height = 400 * Row, width = 400 * Col, title=\"heatmaps\"\n",
    ")\n",
    "# ---\n",
    "fig.show()"
   ]
  },
  {
   "cell_type": "markdown",
   "id": "1da3eeb5-9238-4c6e-aebe-26802762cba8",
   "metadata": {},
   "source": [
    "## DataFrame of all knots with 3 to 15 crossings"
   ]
  },
  {
   "cell_type": "markdown",
   "id": "d1e97bf8-23e2-46c0-b59f-a14e6f9dd9a7",
   "metadata": {},
   "source": [
    "最小項点数3から15の全ての fibered knot の DataFrame 作成。各行が各 fibered knot. 項目は 'seifert_genus' と 'lambda'."
   ]
  },
  {
   "cell_type": "code",
   "execution_count": null,
   "id": "eb6d9c3b-3d66-4be2-a41d-bd29463a178e",
   "metadata": {
    "ExecuteTime": {
     "end_time": "2021-05-28T05:09:37.293177Z",
     "start_time": "2021-05-28T05:09:32.767515Z"
    },
    "tags": []
   },
   "outputs": [],
   "source": [
    "cr_rngs = [range(3,10),range(10,13),range(13,14),range(14,15),range(15,16)] #,range(16,17)]\n",
    "\n",
    "dfs = []\n",
    "for rng in cr_rngs:\n",
    "    fname = f\"./data/hfk_{rng}.csv\"\n",
    "    DF = pd.read_csv(fname).set_index('Name'); DF['lambda'] = DF['lambda'].astype('Int64')\n",
    "    dfs.append(DF.query('fibered == True').loc[:, ['lambda', 'seifert_genus']])\n",
    "df_all = pd.concat(dfs)\n",
    "display(df_all)"
   ]
  },
  {
   "cell_type": "markdown",
   "id": "37ba87c7-85d4-4b7f-88f8-5273d4cb6f5b",
   "metadata": {},
   "source": [
    "## Frequency distribution"
   ]
  },
  {
   "cell_type": "markdown",
   "id": "7682d706-e00c-4c3e-ac0c-d65156d28208",
   "metadata": {},
   "source": [
    "上で作った DataFrame から、大きさ5000で標本抽出して、以下の行列 `mat` を作成。\n",
    "\n",
    "    `mat`: (i,j)-成分は、('lambda', 'seifert_genus')=(i,j) である fibered knot の個数\n",
    "\n",
    "この行列を heatmap 表示もしている。"
   ]
  },
  {
   "cell_type": "code",
   "execution_count": null,
   "id": "5d615deb-4b40-4e31-ae31-a6d2b65d6c6d",
   "metadata": {
    "ExecuteTime": {
     "end_time": "2021-05-28T05:09:37.293177Z",
     "start_time": "2021-05-28T05:09:32.767515Z"
    },
    "tags": []
   },
   "outputs": [],
   "source": [
    "df_sample = df_all.sample(n=5000)\n",
    "#----\n",
    "mat = np.zeros([df_sample['lambda'].max()+1,df_sample['seifert_genus'].max()+1], dtype = int)\n",
    "for name, values in df_sample.iterrows():\n",
    "    i, j = values['lambda'], values['seifert_genus']\n",
    "    mat[i][j] += 1\n",
    "#----\n",
    "\n",
    "display(mat)\n",
    "sb.heatmap(mat, cmap='Oranges')"
   ]
  },
  {
   "cell_type": "markdown",
   "id": "35720375-77db-486d-be39-be8ad2352757",
   "metadata": {},
   "source": [
    "## Mean of lambda with the same Seifert genus"
   ]
  },
  {
   "cell_type": "markdown",
   "id": "0ac6d2c8-b2df-4138-9a01-7714d9d63d4c",
   "metadata": {},
   "source": [
    "上の結果を見ると、各 seifert genus において、lamnda の平均値が、seifert genus の値に一致しそうに見える。\n",
    "\n",
    "そこで、全 fibered knot のデータにおいて、各 seifert genus における lamnda の平均値を表示してみた。"
   ]
  },
  {
   "cell_type": "code",
   "execution_count": null,
   "id": "8e08f4be-2357-4888-8d25-4a8b6e717841",
   "metadata": {},
   "outputs": [],
   "source": [
    "df_mean_of_lambda = pd.DataFrame(\n",
    "    { 'seifert_genus': [*range(1,10)], \n",
    "     'mean of lambda': [df_all.query(f\"seifert_genus == {g}\").mean()['lambda'] for g in range(1,10)]\n",
    "    }).set_index('seifert_genus')\n",
    "\n",
    "display(df_mean_of_lambda)"
   ]
  }
 ],
 "metadata": {
  "kernelspec": {
   "display_name": "Python 3 (ipykernel)",
   "language": "python",
   "name": "python3"
  },
  "language_info": {
   "codemirror_mode": {
    "name": "ipython",
    "version": 3
   },
   "file_extension": ".py",
   "mimetype": "text/x-python",
   "name": "python",
   "nbconvert_exporter": "python",
   "pygments_lexer": "ipython3",
   "version": "3.12.3"
  }
 },
 "nbformat": 4,
 "nbformat_minor": 5
}
