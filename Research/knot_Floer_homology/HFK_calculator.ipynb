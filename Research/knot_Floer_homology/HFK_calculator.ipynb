{
 "cells": [
  {
   "cell_type": "markdown",
   "id": "b3a46c7e-7ec3-4dec-a8ce-dd1b9d632b7a",
   "metadata": {},
   "source": [
    "# HFK Caluculator for a knot represented by grid notation"
   ]
  },
  {
   "cell_type": "markdown",
   "id": "27843c05-5bed-49b1-8292-e1589cad6f9e",
   "metadata": {
    "jp-MarkdownHeadingCollapsed": true
   },
   "source": [
    "## Modules"
   ]
  },
  {
   "cell_type": "code",
   "execution_count": 1,
   "id": "14c7ea7c-d8c9-4a75-a3a9-ccde4f2bb0cc",
   "metadata": {
    "scrolled": true,
    "tags": []
   },
   "outputs": [],
   "source": [
    "import numpy as np\n",
    "import pandas as pd\n",
    "\n",
    "from multiprocessing import Pool, cpu_count\n",
    "from tqdm.notebook import tqdm\n",
    "\n",
    "from GridPythonModule import *\n",
    "from GPM_wrapper.Grid import *\n",
    "import knot_floer_homology as hfk"
   ]
  },
  {
   "cell_type": "markdown",
   "id": "fa402f97-ccc7-46f9-831e-3045b09de876",
   "metadata": {
    "jp-MarkdownHeadingCollapsed": true
   },
   "source": [
    "## Input_grid_form Class"
   ]
  },
  {
   "cell_type": "code",
   "execution_count": 2,
   "id": "5ab57611-9339-4f31-9789-55460b3fc358",
   "metadata": {},
   "outputs": [],
   "source": [
    "import ast\n",
    "from ipywidgets import Text, HTML, Button, Output\n",
    "from IPython.display import display, clear_output\n",
    "\n",
    "class Input_grid_form():\n",
    "    def __init__(self):\n",
    "        self.grid = []\n",
    "        self.xprm = Text(value='4,0,1,2,3',\n",
    "                         placeholder='x marking 対応の置換を入力',\n",
    "                         description='x の置換:',\n",
    "                         disabled=False\n",
    "                        )\n",
    "        self.oprm = Text(value='1,2,3,4,0',\n",
    "                         placeholder='o marking 対応の置換を入力',\n",
    "                         description='o の置換:',\n",
    "                         disabled=False\n",
    "                        )\n",
    "        self.start()\n",
    "        \n",
    "    def start(self):\n",
    "        self.xprm.observe(get_list_str, names='value')\n",
    "        self.oprm.observe(get_list_str, names='value')\n",
    "        \n",
    "        button = Button(description='Calculate HFK')\n",
    "        output = Output(layour={'border': '1px solid black'})\n",
    "\n",
    "        def on_click_callback(clicked_button: Button) -> None:\n",
    "            self.grid = []\n",
    "            with output:\n",
    "                output.clear_output()\n",
    "                self.grid = [ast.literal_eval(f\"[{v}]\") for v in [self.xprm.value, self.oprm.value]]\n",
    "                print(f'\\rGrid: {self.grid}', end=\"\")\n",
    "                try:\n",
    "                    G = Grid(*self.grid)\n",
    "                    G.draw()\n",
    "                    PD = G.get_PD(); print(f\"PD notation: {PD}\\n\")\n",
    "                    hfk_dict = hfk.pd_to_hfk(PD)\n",
    "                    tabulate_dict(hfk_dict)\n",
    "                except Exception as e:\n",
    "                    print(f\" --> Error {e.args}\", end=\"\")\n",
    "\n",
    "        # ボタンにイベントハンドラを登録する\n",
    "        button.on_click(on_click_callback)\n",
    "        display(self.xprm, self.oprm, button, output)\n",
    "\n",
    "    def generate_random_grid(self):\n",
    "        random\n",
    "            \n",
    "def get_list_str(arg):\n",
    "    return f\"[{arg}]\"\n",
    "\n",
    "def tabulate_dict(mydict):\n",
    "    max_key_len = max(len(key) for key in mydict)\n",
    "    max_value_len = max(len(str(val)) for val in mydict.values())\n",
    "    print(f\"{'Keys':>{max_key_len}} | {'Values':>{max_value_len}}\")\n",
    "    print('-' * (max_key_len + 3 + max_value_len))\n",
    "    for key, value in mydict.items():\n",
    "        print(f\"{key:{max_key_len}} | {str(value):{max_value_len}}\")"
   ]
  },
  {
   "cell_type": "markdown",
   "id": "895cc07c-a599-4fa9-82e5-e74f8cbd8cc2",
   "metadata": {},
   "source": [
    "## Input a knot using grid notation"
   ]
  },
  {
   "cell_type": "code",
   "execution_count": 3,
   "id": "ba6997bd-5581-4fc2-9f6a-29195b86655e",
   "metadata": {},
   "outputs": [
    {
     "data": {
      "application/vnd.jupyter.widget-view+json": {
       "model_id": "eac4e2095ace4ca39e8383b4404b8988",
       "version_major": 2,
       "version_minor": 0
      },
      "text/plain": [
       "Text(value='4,0,1,2,3', description='x の置換:', placeholder='x marking 対応の置換を入力')"
      ]
     },
     "metadata": {},
     "output_type": "display_data"
    },
    {
     "data": {
      "application/vnd.jupyter.widget-view+json": {
       "model_id": "db80a54d73ca404488ba03df36d9cf39",
       "version_major": 2,
       "version_minor": 0
      },
      "text/plain": [
       "Text(value='1,2,3,4,0', description='o の置換:', placeholder='o marking 対応の置換を入力')"
      ]
     },
     "metadata": {},
     "output_type": "display_data"
    },
    {
     "data": {
      "application/vnd.jupyter.widget-view+json": {
       "model_id": "14cff7bbdbdb4789b4c51c8cbbd455b2",
       "version_major": 2,
       "version_minor": 0
      },
      "text/plain": [
       "Button(description='Calculate HFK', style=ButtonStyle())"
      ]
     },
     "metadata": {},
     "output_type": "display_data"
    },
    {
     "data": {
      "application/vnd.jupyter.widget-view+json": {
       "model_id": "464f17ec033e4873a19ae06643e75fce",
       "version_major": 2,
       "version_minor": 0
      },
      "text/plain": [
       "Output()"
      ]
     },
     "metadata": {},
     "output_type": "display_data"
    }
   ],
   "source": [
    "igform = Input_grid_form()"
   ]
  },
  {
   "cell_type": "code",
   "execution_count": 4,
   "id": "3cf643e8-28d5-4598-8f35-4251ffd6a981",
   "metadata": {},
   "outputs": [
    {
     "data": {
      "text/plain": [
       "[[2, 1, 7, 8, 3, 5, 4, 9, 0, 10, 6], [9, 5, 10, 6, 7, 8, 2, 3, 4, 1, 0]]"
      ]
     },
     "execution_count": 4,
     "metadata": {},
     "output_type": "execute_result"
    }
   ],
   "source": [
    "load_knot('8_16')"
   ]
  }
 ],
 "metadata": {
  "kernelspec": {
   "display_name": "Python 3",
   "language": "python",
   "name": "python3"
  },
  "language_info": {
   "codemirror_mode": {
    "name": "ipython",
    "version": 3
   },
   "file_extension": ".py",
   "mimetype": "text/x-python",
   "name": "python",
   "nbconvert_exporter": "python",
   "pygments_lexer": "ipython3",
   "version": "3.6.8"
  }
 },
 "nbformat": 4,
 "nbformat_minor": 5
}
