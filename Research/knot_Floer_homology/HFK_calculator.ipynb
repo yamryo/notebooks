{
 "cells": [
  {
   "cell_type": "markdown",
   "id": "b3a46c7e-7ec3-4dec-a8ce-dd1b9d632b7a",
   "metadata": {},
   "source": [
    "# HFK Caluculator for a knot represented by grid notation"
   ]
  },
  {
   "cell_type": "markdown",
   "id": "27843c05-5bed-49b1-8292-e1589cad6f9e",
   "metadata": {},
   "source": [
    "## Modules"
   ]
  },
  {
   "cell_type": "code",
   "execution_count": null,
   "id": "14c7ea7c-d8c9-4a75-a3a9-ccde4f2bb0cc",
   "metadata": {
    "scrolled": true,
    "tags": []
   },
   "outputs": [],
   "source": [
    "import numpy as np\n",
    "import pandas as pd\n",
    "\n",
    "from multiprocessing import Pool, cpu_count\n",
    "from tqdm.notebook import tqdm\n",
    "\n",
    "from GridPythonModule import *\n",
    "from GPM_wrapper import *\n",
    "from knot_floer_homology import *"
   ]
  },
  {
   "cell_type": "markdown",
   "id": "895cc07c-a599-4fa9-82e5-e74f8cbd8cc2",
   "metadata": {},
   "source": [
    "## Input a knot using grid notation"
   ]
  },
  {
   "cell_type": "code",
   "execution_count": null,
   "id": "14da2f15-2007-4bec-95f3-2bcbdb5d1877",
   "metadata": {},
   "outputs": [],
   "source": [
    "import ast\n",
    "from ipywidgets import Text, HTML, Button, Output\n",
    "from IPython.display import display, clear_output\n",
    "\n",
    "class Grid_getter():\n",
    "    def __init__(self):\n",
    "        self.grid = []\n",
    "        self.xprm = Text(value='',\n",
    "                         placeholder='x marking 対応の置換を入力',\n",
    "                         description='x の置換:',\n",
    "                         disabled=False\n",
    "                        )\n",
    "        self.oprm = Text(value='',\n",
    "                         placeholder='o marking 対応の置換を入力',\n",
    "                         description='o の置換:',\n",
    "                         disabled=False\n",
    "                        )\n",
    "        self.start()\n",
    "        \n",
    "    def start(self):\n",
    "        self.xprm.observe(get_list_str, names='value')\n",
    "        self.oprm.observe(get_list_str, names='value')\n",
    "        \n",
    "        button = Button(description='Get Grid')\n",
    "        output = Output(layour={'border': '1px solid black'})\n",
    "\n",
    "        def on_click_callback(clicked_button: Button) -> None:\n",
    "            self.grid = []\n",
    "            with output:\n",
    "                self.grid = [ast.literal_eval(f\"[{v}]\") for v in [xprm.value, oprm.value]]\n",
    "                print(f'\\rGrid = {self.grid}', end=\"\")\n",
    "                try:\n",
    "                    Grid(*self.grid).draw()\n",
    "                except:\n",
    "                    print(\"\\nInvalid grid data\")\n",
    "\n",
    "        # ボタンにイベントハンドラを登録する\n",
    "        button.on_click(on_click_callback)\n",
    "        display(xprm, oprm, button, output)\n",
    "            \n",
    "    def get_list_str(arg): \n",
    "        return f\"[{arg}]\"\n",
    "\n",
    "gg = Grid_getter()"
   ]
  },
  {
   "cell_type": "code",
   "execution_count": null,
   "id": "98de94c0-e113-42d1-96e8-abc3ff9495a3",
   "metadata": {},
   "outputs": [],
   "source": [
    "def get_list_str(arg):\n",
    "    return f\"[{arg}]\"\n",
    "    \n",
    "xprm = Text(value='',\n",
    "            placeholder='x marking 対応の置換を入力',\n",
    "            description='x の置換:',\n",
    "            disabled=False\n",
    "           )\n",
    "oprm = Text(value='',\n",
    "            placeholder='o marking 対応の置換を入力',\n",
    "            description='o の置換:',\n",
    "            disabled=False\n",
    "           )\n",
    "xprm.observe(get_list_str, names='value')\n",
    "oprm.observe(get_list_str, names='value')\n",
    "\n",
    "grid = f\"{xprm.value},{oprm.value}\"\n",
    "html=HTML(value=\"入力した grid notation は <font color=red>\"+grid+\"</font> \")\n",
    "\n",
    "#display(f\"[[{xprm}], [{oprm}]]\")\n",
    "display(xprm, oprm)\n",
    "display(html)"
   ]
  },
  {
   "cell_type": "code",
   "execution_count": null,
   "id": "c96e7f64-d0ab-4bcf-b29a-08bfd8595142",
   "metadata": {},
   "outputs": [],
   "source": [
    "test = input()\n",
    "print(f\"You inputed this --> {test}\")"
   ]
  },
  {
   "cell_type": "code",
   "execution_count": null,
   "id": "2d53457f-02fa-4f24-ae35-b5ae29d51492",
   "metadata": {},
   "outputs": [],
   "source": [
    "abe_knot_grid = [[8,11,10,3,7,2,5,6,0,12,9,1,4],[12,7,5,9,1,6,8,11,3,4,2,10,0]]\n",
    "abe_knot = Grid(*abe_knot_grid)\n",
    "\n",
    "abe_knot.draw()\n",
    "print(f\"crossing number: {len(abe_knot.crossings)}\")"
   ]
  },
  {
   "cell_type": "code",
   "execution_count": null,
   "id": "3f0eebc3-604e-406f-835b-2885e2441abf",
   "metadata": {
    "jupyter": {
     "source_hidden": true
    }
   },
   "outputs": [],
   "source": [
    "PD = abe_knot.get_PD(); print(f\"PD notation: \\n {PD}\\n\")\n",
    "hfk = pd_to_hfk(PD); print(f\"hfk values: \\n {hfk}\\n\")"
   ]
  },
  {
   "cell_type": "markdown",
   "id": "595a092d-ec1a-4304-b476-20aa7861525a",
   "metadata": {},
   "source": [
    "'ranks' の最後が (2, 0): 1 となってますが、('maslov gr(=genus)', 'alexander gr'): rank  ですから、ラムダは 0 のようですね。\n",
    "\n",
    "また、鏡像も見ておくと、今度は 'ranks' の最初を見て、(-2, -4): 1 とありますので、鏡像のラムダは 4 ですね。"
   ]
  },
  {
   "cell_type": "code",
   "execution_count": null,
   "id": "05d68b0e-fc2b-487c-a4dc-b3b279920f5c",
   "metadata": {},
   "outputs": [],
   "source": [
    "for mgr, agr in hfk['ranks'].keys():\n",
    "    if mgr == hfk['seifert_genus']:\n",
    "        lmd = agr\n",
    "output = {'cr': 19, 'seifert_genus': mgr, 'lmd': lmd, 'ranks': hfk['ranks'], 'grid': abe_knot.orig, 'PD notation': PD}\n",
    "df = pd.DataFrame(output); display(df)"
   ]
  },
  {
   "cell_type": "markdown",
   "id": "72ca1498-58be-4c03-8cf8-8bbaf669abf7",
   "metadata": {
    "jp-MarkdownHeadingCollapsed": true
   },
   "source": [
    "## Scratch"
   ]
  },
  {
   "cell_type": "code",
   "execution_count": null,
   "id": "35f19607-c95e-49b9-9885-57e97946c29e",
   "metadata": {},
   "outputs": [],
   "source": [
    "result = []\n",
    "N, gsize = 100, 30\n",
    "\n",
    "with tqdm(total=N, desc = '# of required knots') as pbar:\n",
    "    while len(result) < N:\n",
    "        ### Collect fitted grids\n",
    "        Glist, Glist_len = [], 80\n",
    "        with tqdm(total=Glist_len, desc = 'generating Glist') as pbar_Glist:\n",
    "            fails, fmax = 0, 100\n",
    "            while len(Glist) < Glist_len and fails < fmax:\n",
    "                with Pool(processes=8) as pool:\n",
    "                    grids = [generate_random_grid(gsize) for _ in range(100)]\n",
    "                    output = [v for v in pool.map(get_fitted_grid, grids) if v is not None]\n",
    "                    if len(output) > 0: \n",
    "                        Glist += output\n",
    "                        pbar_Glist.update(len(output))\n",
    "                    else:\n",
    "                        fails += 1\n",
    "            if fails >= fmax:\n",
    "                print(f\"Fail to generate Glist {fails} times!\")\n",
    "                break\n",
    "\n",
    "        ### Collect knots satisfying seifert genus > lamda\n",
    "        with Pool(processes=8) as pool:\n",
    "            output = [v for v in list(tqdm(pool.imap(calc_lmd, Glist), total = len(Glist), desc='hfk calc')) if v is not None]\n",
    "            if len(output) > 0:\n",
    "                result += output\n",
    "                pbar.update(len(output))\n",
    "#---\n",
    "DF = pd.DataFrame(result); display(DF)\n",
    "DF.to_csv(f\"./data/big_knots_with_small_lambda.csv\", mode = 'a', index=False, header = False) #True)"
   ]
  },
  {
   "cell_type": "code",
   "execution_count": null,
   "id": "547363cf-fa34-4cc9-8f0a-676609d0916f",
   "metadata": {},
   "outputs": [],
   "source": [
    "flag, count = True, 0\n",
    "while flag:\n",
    "    count += 1\n",
    "    G = generate_random_grid(30);\n",
    "    Glist = [G, destabilize_all(G), simplify_grid(G)]\n",
    "    cnlist = list(map(lambda g: crossing_number(g), Glist))\n",
    "    if cnlist[0] < cnlist[2] or cnlist[0] < cnlist[1]:\n",
    "        flag = False\n",
    "        for g in Glist:\n",
    "            draw_grid(g); print(crossing_number(g))\n",
    "    if count > 1000:\n",
    "        flag = False"
   ]
  }
 ],
 "metadata": {
  "kernelspec": {
   "display_name": "Python 3 (ipykernel)",
   "language": "python",
   "name": "python3"
  },
  "language_info": {
   "codemirror_mode": {
    "name": "ipython",
    "version": 3
   },
   "file_extension": ".py",
   "mimetype": "text/x-python",
   "name": "python",
   "nbconvert_exporter": "python",
   "pygments_lexer": "ipython3",
   "version": "3.11.8"
  }
 },
 "nbformat": 4,
 "nbformat_minor": 5
}
