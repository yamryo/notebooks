{
 "cells": [
  {
   "cell_type": "markdown",
   "id": "b3a46c7e-7ec3-4dec-a8ce-dd1b9d632b7a",
   "metadata": {},
   "source": [
    "# Abe's knot with 23 crossings"
   ]
  },
  {
   "cell_type": "markdown",
   "id": "27843c05-5bed-49b1-8292-e1589cad6f9e",
   "metadata": {},
   "source": [
    "## Modules"
   ]
  },
  {
   "cell_type": "code",
   "execution_count": 1,
   "id": "14c7ea7c-d8c9-4a75-a3a9-ccde4f2bb0cc",
   "metadata": {
    "scrolled": true,
    "tags": []
   },
   "outputs": [],
   "source": [
    "import numpy as np\n",
    "import pandas as pd\n",
    "\n",
    "from multiprocessing import Pool, cpu_count\n",
    "from tqdm.notebook import tqdm\n",
    "\n",
    "from GridPythonModule import *\n",
    "from GPM_wrapper import *\n",
    "from knot_floer_homology import *\n",
    "\n",
    "# ----- Debugger -----\n",
    "# from IPython.core.debugger import Pdb; Pdb().set_trace()"
   ]
  },
  {
   "cell_type": "code",
   "execution_count": 2,
   "id": "2d53457f-02fa-4f24-ae35-b5ae29d51492",
   "metadata": {},
   "outputs": [
    {
     "data": {
      "image/png": "[encoded data removed]",
      "text/plain": [
       "<Figure size 432x288 with 1 Axes>"
      ]
     },
     "metadata": {
      "needs_background": "light"
     },
     "output_type": "display_data"
    },
    {
     "name": "stdout",
     "output_type": "stream",
     "text": [
      "crossing number: 23\n"
     ]
    }
   ],
   "source": [
    "abe_knot_grid = [[5,11,4,3,2,0,14,9,10,7,8,1,12,13,6],[12,2,10,1,5,4,8,13,6,11,3,9,0,7,14]]\n",
    "abe_knot = Grid(*abe_knot_grid)\n",
    "\n",
    "abe_knot.draw()\n",
    "print(f\"crossing number: {len(abe_knot.crossings)}\")"
   ]
  },
  {
   "cell_type": "code",
   "execution_count": 3,
   "id": "3f0eebc3-604e-406f-835b-2885e2441abf",
   "metadata": {
    "tags": []
   },
   "outputs": [
    {
     "name": "stdout",
     "output_type": "stream",
     "text": [
      "PD notation: \n",
      " [[40, 45, 41, 0], [7, 45, 8, 44], [24, 42, 25, 41], [42, 24, 43, 23], [43, 7, 44, 6], [4, 25, 5, 26], [5, 23, 6, 22], [17, 9, 18, 8], [16, 39, 17, 40], [15, 1, 16, 0], [30, 9, 31, 10], [31, 39, 32, 38], [32, 1, 33, 2], [11, 19, 12, 18], [10, 29, 11, 30], [36, 19, 37, 20], [37, 29, 38, 28], [21, 13, 22, 12], [20, 35, 21, 36], [26, 13, 27, 14], [27, 35, 28, 34], [3, 15, 4, 14], [2, 33, 3, 34]]\n",
      "\n",
      "hfk values: \n",
      " {'L_space_knot': False, 'epsilon': 1, 'fibered': True, 'modulus': 2, 'nu': 1, 'ranks': {(-3, -7): 1, (-2, -6): 2, (-2, -3): 2, (-1, -5): 1, (-1, -2): 5, (0, -1): 5, (1, -3): 1, (1, 0): 5, (2, -2): 2, (2, 1): 2, (3, -1): 1}, 'seifert_genus': 3, 'tau': 1, 'total_rank': 27}\n",
      "\n"
     ]
    }
   ],
   "source": [
    "PD = abe_knot.get_PD(); print(f\"PD notation: \\n {PD}\\n\")\n",
    "hfk = pd_to_hfk(PD); print(f\"hfk values: \\n {hfk}\\n\")"
   ]
  },
  {
   "cell_type": "markdown",
   "id": "595a092d-ec1a-4304-b476-20aa7861525a",
   "metadata": {},
   "source": [
    "'seifert_genus' が 3、'ranks' の最後が (3, -1): 1 となっており、('maslov gr(=genus)', 'alexander gr'): rank  ですから、ラムダは -1 ですね。"
   ]
  },
  {
   "cell_type": "code",
   "execution_count": 4,
   "id": "05d68b0e-fc2b-487c-a4dc-b3b279920f5c",
   "metadata": {},
   "outputs": [
    {
     "ename": "ValueError",
     "evalue": "arrays must all be same length",
     "output_type": "error",
     "traceback": [
      "\u001b[0;31m---------------------------------------------------------------------------\u001b[0m",
      "\u001b[0;31mValueError\u001b[0m                                Traceback (most recent call last)",
      "\u001b[0;32m<ipython-input-4-0d2c9b94b713>\u001b[0m in \u001b[0;36m<module>\u001b[0;34m\u001b[0m\n\u001b[1;32m      3\u001b[0m         \u001b[0mlmd\u001b[0m \u001b[0;34m=\u001b[0m \u001b[0magr\u001b[0m\u001b[0;34m\u001b[0m\u001b[0;34m\u001b[0m\u001b[0m\n\u001b[1;32m      4\u001b[0m \u001b[0moutput\u001b[0m \u001b[0;34m=\u001b[0m \u001b[0;34m{\u001b[0m\u001b[0;34m'cr'\u001b[0m\u001b[0;34m:\u001b[0m \u001b[0;36m23\u001b[0m\u001b[0;34m,\u001b[0m \u001b[0;34m'seifert_genus'\u001b[0m\u001b[0;34m:\u001b[0m \u001b[0mmgr\u001b[0m\u001b[0;34m,\u001b[0m \u001b[0;34m'lmd'\u001b[0m\u001b[0;34m:\u001b[0m \u001b[0mlmd\u001b[0m\u001b[0;34m,\u001b[0m \u001b[0;34m'ranks'\u001b[0m\u001b[0;34m:\u001b[0m \u001b[0mhfk\u001b[0m\u001b[0;34m[\u001b[0m\u001b[0;34m'ranks'\u001b[0m\u001b[0;34m]\u001b[0m\u001b[0;34m,\u001b[0m \u001b[0;34m'grid'\u001b[0m\u001b[0;34m:\u001b[0m \u001b[0mabe_knot\u001b[0m\u001b[0;34m.\u001b[0m\u001b[0morig\u001b[0m\u001b[0;34m,\u001b[0m \u001b[0;34m'PD notation'\u001b[0m\u001b[0;34m:\u001b[0m \u001b[0mPD\u001b[0m\u001b[0;34m}\u001b[0m\u001b[0;34m\u001b[0m\u001b[0;34m\u001b[0m\u001b[0m\n\u001b[0;32m----> 5\u001b[0;31m \u001b[0mdf\u001b[0m \u001b[0;34m=\u001b[0m \u001b[0mpd\u001b[0m\u001b[0;34m.\u001b[0m\u001b[0mDataFrame\u001b[0m\u001b[0;34m(\u001b[0m\u001b[0moutput\u001b[0m\u001b[0;34m)\u001b[0m\u001b[0;34m;\u001b[0m \u001b[0mdisplay\u001b[0m\u001b[0;34m(\u001b[0m\u001b[0mdf\u001b[0m\u001b[0;34m)\u001b[0m\u001b[0;34m\u001b[0m\u001b[0;34m\u001b[0m\u001b[0m\n\u001b[0m",
      "\u001b[0;32m~/notebooks/venv/lib64/python3.6/site-packages/pandas/core/frame.py\u001b[0m in \u001b[0;36m__init__\u001b[0;34m(self, data, index, columns, dtype, copy)\u001b[0m\n\u001b[1;32m    466\u001b[0m \u001b[0;34m\u001b[0m\u001b[0m\n\u001b[1;32m    467\u001b[0m         \u001b[0;32melif\u001b[0m \u001b[0misinstance\u001b[0m\u001b[0;34m(\u001b[0m\u001b[0mdata\u001b[0m\u001b[0;34m,\u001b[0m \u001b[0mdict\u001b[0m\u001b[0;34m)\u001b[0m\u001b[0;34m:\u001b[0m\u001b[0;34m\u001b[0m\u001b[0;34m\u001b[0m\u001b[0m\n\u001b[0;32m--> 468\u001b[0;31m             \u001b[0mmgr\u001b[0m \u001b[0;34m=\u001b[0m \u001b[0minit_dict\u001b[0m\u001b[0;34m(\u001b[0m\u001b[0mdata\u001b[0m\u001b[0;34m,\u001b[0m \u001b[0mindex\u001b[0m\u001b[0;34m,\u001b[0m \u001b[0mcolumns\u001b[0m\u001b[0;34m,\u001b[0m \u001b[0mdtype\u001b[0m\u001b[0;34m=\u001b[0m\u001b[0mdtype\u001b[0m\u001b[0;34m)\u001b[0m\u001b[0;34m\u001b[0m\u001b[0;34m\u001b[0m\u001b[0m\n\u001b[0m\u001b[1;32m    469\u001b[0m         \u001b[0;32melif\u001b[0m \u001b[0misinstance\u001b[0m\u001b[0;34m(\u001b[0m\u001b[0mdata\u001b[0m\u001b[0;34m,\u001b[0m \u001b[0mma\u001b[0m\u001b[0;34m.\u001b[0m\u001b[0mMaskedArray\u001b[0m\u001b[0;34m)\u001b[0m\u001b[0;34m:\u001b[0m\u001b[0;34m\u001b[0m\u001b[0;34m\u001b[0m\u001b[0m\n\u001b[1;32m    470\u001b[0m             \u001b[0;32mimport\u001b[0m \u001b[0mnumpy\u001b[0m\u001b[0;34m.\u001b[0m\u001b[0mma\u001b[0m\u001b[0;34m.\u001b[0m\u001b[0mmrecords\u001b[0m \u001b[0;32mas\u001b[0m \u001b[0mmrecords\u001b[0m\u001b[0;34m\u001b[0m\u001b[0;34m\u001b[0m\u001b[0m\n",
      "\u001b[0;32m~/notebooks/venv/lib64/python3.6/site-packages/pandas/core/internals/construction.py\u001b[0m in \u001b[0;36minit_dict\u001b[0;34m(data, index, columns, dtype)\u001b[0m\n\u001b[1;32m    281\u001b[0m             \u001b[0marr\u001b[0m \u001b[0;32mif\u001b[0m \u001b[0;32mnot\u001b[0m \u001b[0mis_datetime64tz_dtype\u001b[0m\u001b[0;34m(\u001b[0m\u001b[0marr\u001b[0m\u001b[0;34m)\u001b[0m \u001b[0;32melse\u001b[0m \u001b[0marr\u001b[0m\u001b[0;34m.\u001b[0m\u001b[0mcopy\u001b[0m\u001b[0;34m(\u001b[0m\u001b[0;34m)\u001b[0m \u001b[0;32mfor\u001b[0m \u001b[0marr\u001b[0m \u001b[0;32min\u001b[0m \u001b[0marrays\u001b[0m\u001b[0;34m\u001b[0m\u001b[0;34m\u001b[0m\u001b[0m\n\u001b[1;32m    282\u001b[0m         ]\n\u001b[0;32m--> 283\u001b[0;31m     \u001b[0;32mreturn\u001b[0m \u001b[0marrays_to_mgr\u001b[0m\u001b[0;34m(\u001b[0m\u001b[0marrays\u001b[0m\u001b[0;34m,\u001b[0m \u001b[0mdata_names\u001b[0m\u001b[0;34m,\u001b[0m \u001b[0mindex\u001b[0m\u001b[0;34m,\u001b[0m \u001b[0mcolumns\u001b[0m\u001b[0;34m,\u001b[0m \u001b[0mdtype\u001b[0m\u001b[0;34m=\u001b[0m\u001b[0mdtype\u001b[0m\u001b[0;34m)\u001b[0m\u001b[0;34m\u001b[0m\u001b[0;34m\u001b[0m\u001b[0m\n\u001b[0m\u001b[1;32m    284\u001b[0m \u001b[0;34m\u001b[0m\u001b[0m\n\u001b[1;32m    285\u001b[0m \u001b[0;34m\u001b[0m\u001b[0m\n",
      "\u001b[0;32m~/notebooks/venv/lib64/python3.6/site-packages/pandas/core/internals/construction.py\u001b[0m in \u001b[0;36marrays_to_mgr\u001b[0;34m(arrays, arr_names, index, columns, dtype, verify_integrity)\u001b[0m\n\u001b[1;32m     76\u001b[0m         \u001b[0;31m# figure out the index, if necessary\u001b[0m\u001b[0;34m\u001b[0m\u001b[0;34m\u001b[0m\u001b[0;34m\u001b[0m\u001b[0m\n\u001b[1;32m     77\u001b[0m         \u001b[0;32mif\u001b[0m \u001b[0mindex\u001b[0m \u001b[0;32mis\u001b[0m \u001b[0;32mNone\u001b[0m\u001b[0;34m:\u001b[0m\u001b[0;34m\u001b[0m\u001b[0;34m\u001b[0m\u001b[0m\n\u001b[0;32m---> 78\u001b[0;31m             \u001b[0mindex\u001b[0m \u001b[0;34m=\u001b[0m \u001b[0mextract_index\u001b[0m\u001b[0;34m(\u001b[0m\u001b[0marrays\u001b[0m\u001b[0;34m)\u001b[0m\u001b[0;34m\u001b[0m\u001b[0;34m\u001b[0m\u001b[0m\n\u001b[0m\u001b[1;32m     79\u001b[0m         \u001b[0;32melse\u001b[0m\u001b[0;34m:\u001b[0m\u001b[0;34m\u001b[0m\u001b[0;34m\u001b[0m\u001b[0m\n\u001b[1;32m     80\u001b[0m             \u001b[0mindex\u001b[0m \u001b[0;34m=\u001b[0m \u001b[0mensure_index\u001b[0m\u001b[0;34m(\u001b[0m\u001b[0mindex\u001b[0m\u001b[0;34m)\u001b[0m\u001b[0;34m\u001b[0m\u001b[0;34m\u001b[0m\u001b[0m\n",
      "\u001b[0;32m~/notebooks/venv/lib64/python3.6/site-packages/pandas/core/internals/construction.py\u001b[0m in \u001b[0;36mextract_index\u001b[0;34m(data)\u001b[0m\n\u001b[1;32m    395\u001b[0m             \u001b[0mlengths\u001b[0m \u001b[0;34m=\u001b[0m \u001b[0mlist\u001b[0m\u001b[0;34m(\u001b[0m\u001b[0mset\u001b[0m\u001b[0;34m(\u001b[0m\u001b[0mraw_lengths\u001b[0m\u001b[0;34m)\u001b[0m\u001b[0;34m)\u001b[0m\u001b[0;34m\u001b[0m\u001b[0;34m\u001b[0m\u001b[0m\n\u001b[1;32m    396\u001b[0m             \u001b[0;32mif\u001b[0m \u001b[0mlen\u001b[0m\u001b[0;34m(\u001b[0m\u001b[0mlengths\u001b[0m\u001b[0;34m)\u001b[0m \u001b[0;34m>\u001b[0m \u001b[0;36m1\u001b[0m\u001b[0;34m:\u001b[0m\u001b[0;34m\u001b[0m\u001b[0;34m\u001b[0m\u001b[0m\n\u001b[0;32m--> 397\u001b[0;31m                 \u001b[0;32mraise\u001b[0m \u001b[0mValueError\u001b[0m\u001b[0;34m(\u001b[0m\u001b[0;34m\"arrays must all be same length\"\u001b[0m\u001b[0;34m)\u001b[0m\u001b[0;34m\u001b[0m\u001b[0;34m\u001b[0m\u001b[0m\n\u001b[0m\u001b[1;32m    398\u001b[0m \u001b[0;34m\u001b[0m\u001b[0m\n\u001b[1;32m    399\u001b[0m             \u001b[0;32mif\u001b[0m \u001b[0mhave_dicts\u001b[0m\u001b[0;34m:\u001b[0m\u001b[0;34m\u001b[0m\u001b[0;34m\u001b[0m\u001b[0m\n",
      "\u001b[0;31mValueError\u001b[0m: arrays must all be same length"
     ]
    }
   ],
   "source": [
    "for mgr, agr in hfk['ranks'].keys():\n",
    "    if mgr == hfk['seifert_genus']:\n",
    "        lmd = agr\n",
    "output = {'cr': 23, 'seifert_genus': mgr, 'lmd': lmd, 'ranks': hfk['ranks'], 'grid': abe_knot.orig, 'PD notation': PD}\n",
    "df = pd.DataFrame(output); display(df)"
   ]
  },
  {
   "cell_type": "markdown",
   "id": "72ca1498-58be-4c03-8cf8-8bbaf669abf7",
   "metadata": {
    "jp-MarkdownHeadingCollapsed": true
   },
   "source": [
    "## Scratch"
   ]
  },
  {
   "cell_type": "code",
   "execution_count": null,
   "id": "35f19607-c95e-49b9-9885-57e97946c29e",
   "metadata": {},
   "outputs": [],
   "source": [
    "result = []\n",
    "N, gsize = 100, 30\n",
    "\n",
    "with tqdm(total=N, desc = '# of required knots') as pbar:\n",
    "    while len(result) < N:\n",
    "        ### Collect fitted grids\n",
    "        Glist, Glist_len = [], 80\n",
    "        with tqdm(total=Glist_len, desc = 'generating Glist') as pbar_Glist:\n",
    "            fails, fmax = 0, 100\n",
    "            while len(Glist) < Glist_len and fails < fmax:\n",
    "                with Pool(processes=8) as pool:\n",
    "                    grids = [generate_random_grid(gsize) for _ in range(100)]\n",
    "                    output = [v for v in pool.map(get_fitted_grid, grids) if v is not None]\n",
    "                    if len(output) > 0: \n",
    "                        Glist += output\n",
    "                        pbar_Glist.update(len(output))\n",
    "                    else:\n",
    "                        fails += 1\n",
    "            if fails >= fmax:\n",
    "                print(f\"Fail to generate Glist {fails} times!\")\n",
    "                break\n",
    "\n",
    "        ### Collect knots satisfying seifert genus > lamda\n",
    "        with Pool(processes=8) as pool:\n",
    "            output = [v for v in list(tqdm(pool.imap(calc_lmd, Glist), total = len(Glist), desc='hfk calc')) if v is not None]\n",
    "            if len(output) > 0:\n",
    "                result += output\n",
    "                pbar.update(len(output))\n",
    "#---\n",
    "DF = pd.DataFrame(result); display(DF)\n",
    "DF.to_csv(f\"./data/big_knots_with_small_lambda.csv\", mode = 'a', index=False, header = False) #True)"
   ]
  },
  {
   "cell_type": "code",
   "execution_count": null,
   "id": "547363cf-fa34-4cc9-8f0a-676609d0916f",
   "metadata": {},
   "outputs": [],
   "source": [
    "flag, count = True, 0\n",
    "while flag:\n",
    "    count += 1\n",
    "    G = generate_random_grid(30);\n",
    "    Glist = [G, destabilize_all(G), simplify_grid(G)]\n",
    "    cnlist = list(map(lambda g: crossing_number(g), Glist))\n",
    "    if cnlist[0] < cnlist[2] or cnlist[0] < cnlist[1]:\n",
    "        flag = False\n",
    "        for g in Glist:\n",
    "            draw_grid(g); print(crossing_number(g))\n",
    "    if count > 1000:\n",
    "        flag = False"
   ]
  }
 ],
 "metadata": {
  "kernelspec": {
   "display_name": "Python 3 (ipykernel)",
   "language": "python",
   "name": "python3"
  },
  "language_info": {
   "codemirror_mode": {
    "name": "ipython",
    "version": 3
   },
   "file_extension": ".py",
   "mimetype": "text/x-python",
   "name": "python",
   "nbconvert_exporter": "python",
   "pygments_lexer": "ipython3",
   "version": "3.12.3"
  }
 },
 "nbformat": 4,
 "nbformat_minor": 5
}
