{
 "cells": [
  {
   "cell_type": "markdown",
   "id": "b3a46c7e-7ec3-4dec-a8ce-dd1b9d632b7a",
   "metadata": {},
   "source": [
    "# Abe's knot with 19 crossings"
   ]
  },
  {
   "cell_type": "markdown",
   "id": "27843c05-5bed-49b1-8292-e1589cad6f9e",
   "metadata": {},
   "source": [
    "## Modules"
   ]
  },
  {
   "cell_type": "code",
   "execution_count": 1,
   "id": "14c7ea7c-d8c9-4a75-a3a9-ccde4f2bb0cc",
   "metadata": {
    "scrolled": true,
    "tags": []
   },
   "outputs": [],
   "source": [
    "import numpy as np\n",
    "import pandas as pd\n",
    "\n",
    "from multiprocessing import Pool, cpu_count\n",
    "from tqdm.notebook import tqdm\n",
    "\n",
    "from GridPythonModule import *\n",
    "from GPM_wrapper import *\n",
    "from knot_floer_homology import *\n",
    "\n",
    "# ----- Debugger -----\n",
    "# from IPython.core.debugger import Pdb; Pdb().set_trace()"
   ]
  },
  {
   "cell_type": "code",
   "execution_count": 2,
   "id": "2d53457f-02fa-4f24-ae35-b5ae29d51492",
   "metadata": {},
   "outputs": [
    {
     "data": {
      "image/png": "[encoded data removed]",
      "text/plain": [
       "<Figure size 640x480 with 1 Axes>"
      ]
     },
     "metadata": {},
     "output_type": "display_data"
    },
    {
     "name": "stdout",
     "output_type": "stream",
     "text": [
      "crossing number: 19\n"
     ]
    }
   ],
   "source": [
    "abe_knot_grid = [[8,11,10,3,7,2,5,6,0,12,9,1,4],[12,7,5,9,1,6,8,11,3,4,2,10,0]]\n",
    "abe_knot = Grid(*abe_knot_grid)\n",
    "\n",
    "abe_knot.draw()\n",
    "print(f\"crossing number: {len(abe_knot.crossings)}\")"
   ]
  },
  {
   "cell_type": "code",
   "execution_count": 4,
   "id": "3f0eebc3-604e-406f-835b-2885e2441abf",
   "metadata": {
    "jupyter": {
     "source_hidden": true
    }
   },
   "outputs": [
    {
     "name": "stdout",
     "output_type": "stream",
     "text": [
      "PD notation: \n",
      " [[20, 37, 21, 0], [30, 22, 31, 21], [29, 36, 30, 37], [8, 31, 9, 32], [9, 22, 10, 23], [10, 36, 11, 35], [24, 7, 25, 8], [23, 33, 24, 32], [15, 7, 16, 6], [16, 33, 17, 34], [34, 17, 35, 18], [18, 11, 19, 12], [19, 29, 20, 28], [4, 25, 5, 26], [5, 15, 6, 14], [1, 13, 2, 12], [0, 27, 1, 28], [13, 3, 14, 2], [26, 3, 27, 4]]\n",
      "\n",
      "hfk values: \n",
      " {'L_space_knot': False, 'epsilon': 0, 'fibered': True, 'modulus': 2, 'nu': 0, 'ranks': {(-2, -4): 1, (-1, -3): 2, (-1, -1): 1, (0, -2): 2, (0, 0): 3, (1, -1): 2, (1, 1): 1, (2, 0): 1}, 'seifert_genus': 2, 'tau': 0, 'total_rank': 13}\n",
      "\n"
     ]
    }
   ],
   "source": [
    "PD = abe_knot.get_PD(); print(f\"PD notation: \\n {PD}\\n\")\n",
    "hfk = pd_to_hfk(PD); print(f\"hfk values: \\n {hfk}\\n\")"
   ]
  },
  {
   "cell_type": "markdown",
   "id": "595a092d-ec1a-4304-b476-20aa7861525a",
   "metadata": {},
   "source": [
    "'ranks' の最後が (2, 0): 1 となってますが、('maslov gr(=genus)', 'alexander gr'): rank  ですから、ラムダは 0 のようですね。\n",
    "\n",
    "また、鏡像も見ておくと、今度は 'ranks' の最初を見て、(-2, -4): 1 とありますので、鏡像のラムダは 4 ですね。"
   ]
  },
  {
   "cell_type": "code",
   "execution_count": null,
   "id": "05d68b0e-fc2b-487c-a4dc-b3b279920f5c",
   "metadata": {},
   "outputs": [],
   "source": [
    "for mgr, agr in hfk['ranks'].keys():\n",
    "    if mgr == hfk['seifert_genus']:\n",
    "        lmd = agr\n",
    "output = {'cr': 19, 'seifert_genus': mgr, 'lmd': lmd, 'ranks': hfk['ranks'], 'grid': abe_knot.orig, 'PD notation': PD}\n",
    "df = pd.DataFrame(output); display(df)"
   ]
  },
  {
   "cell_type": "markdown",
   "id": "72ca1498-58be-4c03-8cf8-8bbaf669abf7",
   "metadata": {
    "jp-MarkdownHeadingCollapsed": true
   },
   "source": [
    "## Scratch"
   ]
  },
  {
   "cell_type": "code",
   "execution_count": null,
   "id": "35f19607-c95e-49b9-9885-57e97946c29e",
   "metadata": {},
   "outputs": [],
   "source": [
    "result = []\n",
    "N, gsize = 100, 30\n",
    "\n",
    "with tqdm(total=N, desc = '# of required knots') as pbar:\n",
    "    while len(result) < N:\n",
    "        ### Collect fitted grids\n",
    "        Glist, Glist_len = [], 80\n",
    "        with tqdm(total=Glist_len, desc = 'generating Glist') as pbar_Glist:\n",
    "            fails, fmax = 0, 100\n",
    "            while len(Glist) < Glist_len and fails < fmax:\n",
    "                with Pool(processes=8) as pool:\n",
    "                    grids = [generate_random_grid(gsize) for _ in range(100)]\n",
    "                    output = [v for v in pool.map(get_fitted_grid, grids) if v is not None]\n",
    "                    if len(output) > 0: \n",
    "                        Glist += output\n",
    "                        pbar_Glist.update(len(output))\n",
    "                    else:\n",
    "                        fails += 1\n",
    "            if fails >= fmax:\n",
    "                print(f\"Fail to generate Glist {fails} times!\")\n",
    "                break\n",
    "\n",
    "        ### Collect knots satisfying seifert genus > lamda\n",
    "        with Pool(processes=8) as pool:\n",
    "            output = [v for v in list(tqdm(pool.imap(calc_lmd, Glist), total = len(Glist), desc='hfk calc')) if v is not None]\n",
    "            if len(output) > 0:\n",
    "                result += output\n",
    "                pbar.update(len(output))\n",
    "#---\n",
    "DF = pd.DataFrame(result); display(DF)\n",
    "DF.to_csv(f\"./data/big_knots_with_small_lambda.csv\", mode = 'a', index=False, header = False) #True)"
   ]
  },
  {
   "cell_type": "code",
   "execution_count": null,
   "id": "547363cf-fa34-4cc9-8f0a-676609d0916f",
   "metadata": {},
   "outputs": [],
   "source": [
    "flag, count = True, 0\n",
    "while flag:\n",
    "    count += 1\n",
    "    G = generate_random_grid(30);\n",
    "    Glist = [G, destabilize_all(G), simplify_grid(G)]\n",
    "    cnlist = list(map(lambda g: crossing_number(g), Glist))\n",
    "    if cnlist[0] < cnlist[2] or cnlist[0] < cnlist[1]:\n",
    "        flag = False\n",
    "        for g in Glist:\n",
    "            draw_grid(g); print(crossing_number(g))\n",
    "    if count > 1000:\n",
    "        flag = False"
   ]
  }
 ],
 "metadata": {
  "kernelspec": {
   "display_name": "Python 3 (ipykernel)",
   "language": "python",
   "name": "python3"
  },
  "language_info": {
   "codemirror_mode": {
    "name": "ipython",
    "version": 3
   },
   "file_extension": ".py",
   "mimetype": "text/x-python",
   "name": "python",
   "nbconvert_exporter": "python",
   "pygments_lexer": "ipython3",
   "version": "3.11.8"
  }
 },
 "nbformat": 4,
 "nbformat_minor": 5
}
