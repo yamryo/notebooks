{
 "cells": [
  {
   "cell_type": "markdown",
   "id": "27843c05-5bed-49b1-8292-e1589cad6f9e",
   "metadata": {},
   "source": [
    "## Modules"
   ]
  },
  {
   "cell_type": "code",
   "execution_count": null,
   "id": "14c7ea7c-d8c9-4a75-a3a9-ccde4f2bb0cc",
   "metadata": {
    "scrolled": true,
    "tags": []
   },
   "outputs": [],
   "source": [
    "import sys; sys.path.append(\"../modules\")\n",
    "import random\n",
    "from itertools import product\n",
    "\n",
    "import numpy as np\n",
    "import sympy; sympy.init_printing()\n",
    "\n",
    "import Permutation as pm\n",
    "#from Grid import *\n",
    "\n",
    "from tqdm.notebook import tqdm\n",
    "# ----- Debugger -----\n",
    "# from IPython.core.debugger import Pdb; Pdb().set_trace()\n",
    "\n",
    "from knot_floer_homology import *\n",
    "#help(pd_to_hfk)\n",
    "\n",
    "from GridPythonModule import *"
   ]
  },
  {
   "cell_type": "code",
   "execution_count": null,
   "id": "32e3ac04-40b1-48d8-9ab0-040ef993d542",
   "metadata": {},
   "outputs": [],
   "source": [
    "count = 0\n",
    "for _ in tqdm(range(1000)):\n",
    "    G = generate_random_grid(20)\n",
    "    if number_of_components(G) == 1:\n",
    "        # draw_grid(G)\n",
    "        count += 1\n",
    "print(count)"
   ]
  },
  {
   "cell_type": "markdown",
   "id": "bb0b7bd7-5f16-4b2e-bc97-20a1546c36fa",
   "metadata": {},
   "source": [
    "## Classes"
   ]
  },
  {
   "cell_type": "code",
   "execution_count": null,
   "id": "d665ff12-0d76-46a7-a1bf-9b24b8c6f260",
   "metadata": {},
   "outputs": [],
   "source": [
    "class Edge:\n",
    "    '''Edge class expressing edges in a grid diagram.'''\n",
    "    def __init__(self, hv, index, xoends):\n",
    "        self.hv = hv\n",
    "        self.index = index\n",
    "        self.xoends = xoends\n",
    "        self.xend, self.oend = xoends\n",
    "        self.direction = 1 if not (self.xend < self.oend)^(self.hv == 'h') else -1\n",
    "\n",
    "class Crossing:\n",
    "    def __init__(self, hedge, vedge):\n",
    "        self.hedge, self.vedge = hedge, vedge\n",
    "        self.sign = self.get_sign()\n",
    "        self.index = (hedge.index, vedge.index)\n",
    "        \n",
    "    def get_sign(self):\n",
    "        signs = [-1]\n",
    "        he, ve = self.hedge, self.vedge\n",
    "        for e, i in [(he, ve.index), (ve, he.index)]:\n",
    "            e.sorted_end = e.xoends if e.xend < e.oend else e.xoends[::-1]\n",
    "            sign = e.direction if e.sorted_end[0] < i < e.sorted_end[1] else 0\n",
    "            signs.append(sign)\n",
    "        return np.prod(signs)\n",
    "\n",
    "    def __eq__(self, other_cr):\n",
    "        return other_cr == self.index\n",
    "\n",
    "class Grid:\n",
    "    def __init__(self, xlist, olist):\n",
    "        self.orig = [xlist, olist]\n",
    "        self.size = len(xlist)\n",
    "        self.xprm, self.oprm = pm.Permutation(xlist), pm.Permutation(olist)\n",
    "        self.hedges = [Edge('h', i, (self.xprm.act(i), self.oprm.act(i))) for i in range(self.size)]\n",
    "        self.vedges = [Edge('v', i, (self.xprm.inverse().act(i), self.oprm.inverse().act(i))) for i in range(self.size)]\n",
    "        self.crossings = self.get_crossings()\n",
    "        \n",
    "    def get_crossings(self):\n",
    "        crossings = []\n",
    "        for he, ve in product(self.hedges, self.vedges):\n",
    "            if not (he.index in [0, self.size-1] or ve.index in [0, self.size-1]):\n",
    "                cr = Crossing(he, ve)\n",
    "                crossings.append(cr) if not cr.sign == 0 else None\n",
    "        return crossings\n",
    "\n",
    "    def draw(self):\n",
    "        draw_grid(self.orig, markings='XO')\n",
    "\n",
    "    def num_of_comps(self):\n",
    "        number_of_components(self.orig)"
   ]
  },
  {
   "cell_type": "markdown",
   "id": "72ca1498-58be-4c03-8cf8-8bbaf669abf7",
   "metadata": {},
   "source": [
    "## Scratch"
   ]
  },
  {
   "cell_type": "code",
   "execution_count": null,
   "id": "dda77748-dae9-43bc-82f6-4e820ea26a53",
   "metadata": {},
   "outputs": [],
   "source": [
    "#mgrid = Grid(*[[3, 2, 5, 4, 7, 6, 0, 1], [0, 4, 3, 6, 5, 1, 2, 7]]); \n",
    "flag = True\n",
    "while flag:\n",
    "    G = generate_random_grid(12)\n",
    "    if number_of_components(G) == 1:\n",
    "        flag = False\n",
    "mgrid = Grid(*G)\n",
    "mgrid.draw()\n",
    "\n",
    "#for cr in mgrid.crossings:\n",
    "#    print([(e.index, e.xoends) for e in [cr.hedge, cr.vedge]], cr.sign)\n",
    "\n",
    "edge_trace = [mgrid.hedges[0]]\n",
    "closed = False\n",
    "while not closed:\n",
    "    edge_trace.append(mgrid.vedges[edge_trace[-1].oend])\n",
    "    edge_trace.append(mgrid.hedges[edge_trace[-1].xend])\n",
    "    if edge_trace[-1] == edge_trace[0]:\n",
    "        closed = True\n",
    "del edge_trace[-1]\n",
    "\n",
    "#print([f\"{e.hv}{e.index}{e.xoends}\" for e in edge_trace])"
   ]
  },
  {
   "cell_type": "code",
   "execution_count": null,
   "id": "e7ac5c8b-8de0-4b9b-85d1-ea39cc9e1a3b",
   "metadata": {
    "jupyter": {
     "source_hidden": true
    }
   },
   "outputs": [],
   "source": [
    "dummy_cr = Crossing(mgrid.hedges[0], mgrid.vedges[0])\n",
    "edge_trace_divided = [[(edge_trace[-1],dummy_cr)]]\n",
    "\n",
    "count = 0\n",
    "for e in edge_trace:\n",
    "    edge_trace_divided[-1].append((e, dummy_cr))\n",
    "    edge_divided = []\n",
    "    for cr in mgrid.crossings:\n",
    "        if e in [cr.hedge, cr.vedge]:\n",
    "            edge_divided.append((e, cr))\n",
    "    for ed in edge_divided[::e.direction]:\n",
    "        edge_trace_divided.append([ed])\n",
    "\n",
    "#for ll in edge_trace_divided:\n",
    "#    print([f\"{e.hv}{e.index}{cr.index}\" for e, cr in ll])\n",
    "\n",
    "PD = []\n",
    "modulo = len(edge_trace_divided)-1\n",
    "for cr in mgrid.crossings:\n",
    "    connected = {'w': None, 's': None, 'e': None, 'n': None}\n",
    "    for i, l in enumerate(edge_trace_divided):\n",
    "        e, x = l[0]\n",
    "        if x == cr:\n",
    "            pair = (i%modulo, (i-1)%modulo)\n",
    "            if e.hv == 'h':\n",
    "                connected['e'], connected['w'] = pair[::e.direction]\n",
    "                flag = e.direction\n",
    "            else:\n",
    "                connected['n'], connected['s'] = pair[::e.direction]\n",
    "    code = list(connected.values())\n",
    "    if flag == -1:\n",
    "        code = code[2:]+code[:2]\n",
    "    PD.append(code)        \n",
    "print(PD)"
   ]
  },
  {
   "cell_type": "code",
   "execution_count": null,
   "id": "1464d472-23b6-40cb-97b3-9ee65d0e9451",
   "metadata": {},
   "outputs": [],
   "source": [
    "def reduce_once(PD):\n",
    "    for i, l in enumerate(PD):\n",
    "        if len(set(l)) < len(l):\n",
    "            pair = [v for v in l if l.count(v) == 1]\n",
    "            del PD[i]\n",
    "            PD = [list(map(lambda x: min(pair) if x==max(pair) else x, l)) for l in PD]\n",
    "            break\n",
    "    return PD\n",
    "\n",
    "def reduce(PD):\n",
    "    prev = len(PD)\n",
    "    flag = True\n",
    "    while flag and prev > 0:\n",
    "        PD = reduce_once(PD)\n",
    "        if len(PD) == prev:\n",
    "            flag = False\n",
    "        else:\n",
    "            prev = len(PD)\n",
    "    flatten = list(set(sum(PD, [])))\n",
    "    return [list(map(lambda x: flatten.index(x), l)) for l in PD]\n",
    "    \n",
    "result = reduce(PD)\n",
    "print(result)"
   ]
  },
  {
   "cell_type": "code",
   "execution_count": null,
   "id": "dc5c9a77-a2c0-451d-918b-b76560ad956c",
   "metadata": {},
   "outputs": [],
   "source": [
    "print(pd_to_hfk(list(sum(PD, []))))"
   ]
  }
 ],
 "metadata": {
  "kernelspec": {
   "display_name": "Python 3 (ipykernel)",
   "language": "python",
   "name": "python3"
  },
  "language_info": {
   "codemirror_mode": {
    "name": "ipython",
    "version": 3
   },
   "file_extension": ".py",
   "mimetype": "text/x-python",
   "name": "python",
   "nbconvert_exporter": "python",
   "pygments_lexer": "ipython3",
   "version": "3.12.3"
  }
 },
 "nbformat": 4,
 "nbformat_minor": 5
}
