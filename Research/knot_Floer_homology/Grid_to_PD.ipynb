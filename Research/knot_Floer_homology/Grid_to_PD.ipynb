{
 "cells": [
  {
   "cell_type": "code",
   "execution_count": null,
   "id": "14c7ea7c-d8c9-4a75-a3a9-ccde4f2bb0cc",
   "metadata": {
    "scrolled": true,
    "tags": []
   },
   "outputs": [],
   "source": [
    "import sys; sys.path.append(\"../modules\")\n",
    "import random\n",
    "\n",
    "import numpy as np\n",
    "import sympy; sympy.init_printing()\n",
    "\n",
    "import Permutation as pm\n",
    "from Grid import *\n",
    "\n",
    "from tqdm.notebook import tqdm\n",
    "# ----- Debugger -----\n",
    "# from IPython.core.debugger import Pdb; Pdb().set_trace()\n",
    "\n",
    "#from knot_floer_homology import *\n",
    "#help(pd_to_hfk)\n",
    "\n",
    "from GridPythonModule import *"
   ]
  },
  {
   "cell_type": "code",
   "execution_count": null,
   "id": "32e3ac04-40b1-48d8-9ab0-040ef993d542",
   "metadata": {},
   "outputs": [],
   "source": [
    "for _ in range(100):\n",
    "    G = generate_random_grid(10)\n",
    "    if number_of_components(G) == 1:\n",
    "        # draw_grid(G)\n",
    "        print(Gauss_code(G), grid_length(G), grid_number(G))"
   ]
  },
  {
   "cell_type": "code",
   "execution_count": null,
   "id": "f0fce3bc-6d51-4b60-a853-ab354dbb745f",
   "metadata": {},
   "outputs": [],
   "source": [
    "G = [[3, 2, 5, 4, 7, 6, 0, 1], [0, 4, 3, 6, 5, 1, 2, 7]]\n",
    "draw_grid(G, markings='XO')"
   ]
  },
  {
   "cell_type": "code",
   "execution_count": null,
   "id": "3254a950-f7ef-4b0f-968a-9a3c0de8280c",
   "metadata": {},
   "outputs": [],
   "source": [
    "size = len(G[0])\n",
    "\n",
    "s1, s2 = pm.Permutation(G[0]), pm.Permutation(G[1])\n",
    "s1i, s2i = s1.inverse(), s2.inverse()\n",
    "\n",
    "hedges = [(s1.act(i), s2.act(i)) for i in range(size)]\n",
    "vedges = [(s2i.act(i), s1i.act(i)) for i in range(size)]\n",
    "\n",
    "#print(hedges, vedges)\n",
    "\n",
    "def ori(edge):\n",
    "    return 1 if edge[0] < edge[1] else -1\n",
    "    \n",
    "def sign(k, edge):\n",
    "    rp, lp = edge if ori(edge) == 1 else reversed(edge)\n",
    "    return ori(edge) if rp < k < lp else 0\n",
    "\n",
    "def linking(hdict,vdict):\n",
    "    return (-1)*sign(hdict['index'], vdict['edge'])*sign(vdict['index'], hdict['edge'])\n",
    "\n",
    "crossings = []\n",
    "for i, hedge in enumerate(hedges):\n",
    "    he = {'index': i, 'edge': hedge}\n",
    "    for j, vedge in enumerate(vedges):\n",
    "        ve = {'index': j, 'edge': vedge}\n",
    "        lk = linking(he, ve)\n",
    "        # if lk != 0:\n",
    "        #     crossings.append({'edges': (he, ve), 'sign': lk})\n",
    "        crossings.append({'edges': (he, ve), 'sign': lk}) if not lk == 0 else None\n",
    "            \n",
    "print(crossings)"
   ]
  },
  {
   "cell_type": "code",
   "execution_count": null,
   "id": "6a69aa91-caa0-41d8-84bf-7300b0179f9b",
   "metadata": {},
   "outputs": [],
   "source": [
    "def has_crossing(edge, ):\n",
    "    for return True\n",
    "    \n",
    "has_crossing(hedges[0])"
   ]
  }
 ],
 "metadata": {
  "kernelspec": {
   "display_name": "Python 3 (ipykernel)",
   "language": "python",
   "name": "python3"
  },
  "language_info": {
   "codemirror_mode": {
    "name": "ipython",
    "version": 3
   },
   "file_extension": ".py",
   "mimetype": "text/x-python",
   "name": "python",
   "nbconvert_exporter": "python",
   "pygments_lexer": "ipython3",
   "version": "3.11.8"
  }
 },
 "nbformat": 4,
 "nbformat_minor": 5
}
