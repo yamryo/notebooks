{
 "cells": [
  {
   "cell_type": "markdown",
   "id": "27843c05-5bed-49b1-8292-e1589cad6f9e",
   "metadata": {},
   "source": [
    "## Modules"
   ]
  },
  {
   "cell_type": "code",
   "execution_count": null,
   "id": "14c7ea7c-d8c9-4a75-a3a9-ccde4f2bb0cc",
   "metadata": {
    "scrolled": true,
    "tags": []
   },
   "outputs": [],
   "source": [
    "import numpy as np\n",
    "from GridPythonModule import *\n",
    "from GPM_wrapper import *\n",
    "\n",
    "#from tqdm.notebook import tqdm\n",
    "# ----- Debugger -----\n",
    "# from IPython.core.debugger import Pdb; Pdb().set_trace()"
   ]
  },
  {
   "cell_type": "markdown",
   "id": "72ca1498-58be-4c03-8cf8-8bbaf669abf7",
   "metadata": {},
   "source": [
    "## Scratch"
   ]
  },
  {
   "cell_type": "code",
   "execution_count": null,
   "id": "320ca7df-9420-4e4d-b3e2-deb61fafce9a",
   "metadata": {},
   "outputs": [],
   "source": [
    "mg = Grid(*[[3, 2, 5, 4, 7, 6, 0, 1], [0, 4, 3, 6, 5, 1, 2, 7]]); mg.draw()\n",
    "print(reduce(mg.get_PD()))"
   ]
  },
  {
   "cell_type": "code",
   "execution_count": null,
   "id": "782656bf-5016-41e5-9f4a-15adf49e76ef",
   "metadata": {},
   "outputs": [],
   "source": [
    "nontrivknot = None\n",
    "while nontrivknot is None:\n",
    "    G = generate_random_grid(20)\n",
    "    sG = set(sum(simplify_grid(G), []))\n",
    "    if number_of_components(G) == 1 and sG != {0,1}:\n",
    "        nontrivknot = G\n",
    "#---\n",
    "mg = Grid(*G); mg.draw()\n",
    "PD = mg.get_PD()\n",
    "print(reduce(PD))\n",
    "#---\n",
    "mgs = Grid(*simplify_grid(G)); mgs.draw()\n",
    "PDs = mgs.get_PD()\n",
    "print(reduce(PDs))"
   ]
  }
 ],
 "metadata": {
  "kernelspec": {
   "display_name": "Python 3 (ipykernel)",
   "language": "python",
   "name": "python3"
  },
  "language_info": {
   "codemirror_mode": {
    "name": "ipython",
    "version": 3
   },
   "file_extension": ".py",
   "mimetype": "text/x-python",
   "name": "python",
   "nbconvert_exporter": "python",
   "pygments_lexer": "ipython3",
   "version": "3.11.8"
  }
 },
 "nbformat": 4,
 "nbformat_minor": 5
}
