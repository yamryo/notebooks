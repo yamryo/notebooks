{
 "cells": [
  {
   "cell_type": "markdown",
   "id": "b3a46c7e-7ec3-4dec-a8ce-dd1b9d632b7a",
   "metadata": {
    "id": "b3a46c7e-7ec3-4dec-a8ce-dd1b9d632b7a"
   },
   "source": [
    "# Annulus twists on 6_3\n"
   ]
  },
  {
   "cell_type": "markdown",
   "id": "KPups8IJ6oYy",
   "metadata": {
    "id": "KPups8IJ6oYy"
   },
   "source": [
    "### Modules"
   ]
  },
  {
   "cell_type": "code",
   "execution_count": 1,
   "id": "14c7ea7c-d8c9-4a75-a3a9-ccde4f2bb0cc",
   "metadata": {
    "colab": {
     "base_uri": "https://localhost:8080/"
    },
    "executionInfo": {
     "elapsed": 19392,
     "status": "ok",
     "timestamp": 1726184657592,
     "user": {
      "displayName": "山本亮介",
      "userId": "01861936879830612877"
     },
     "user_tz": -540
    },
    "id": "14c7ea7c-d8c9-4a75-a3a9-ccde4f2bb0cc",
    "outputId": "365c2cd4-ee7f-4d2a-bc32-dd178eb49258",
    "scrolled": true
   },
   "outputs": [
    {
     "name": "stderr",
     "output_type": "stream",
     "text": [
      "/home/ryosuke/.venv/jupyter/lib/python3.12/site-packages/plink/gui.py:33: UserWarning: Plink failed to import tkinter, GUI will not be available\n",
      "  warnings.warn('Plink failed to import tkinter, GUI will not be available')\n"
     ]
    }
   ],
   "source": [
    "#import os\n",
    "#import numpy as np\n",
    "#import pandas as pd\n",
    "#import ast\n",
    "\n",
    "#from multiprocessing import Pool, cpu_count\n",
    "#from tqdm.notebook import tqdm\n",
    "\n",
    "from snappy import *\n",
    "S = twister.Surface('S_2_1')"
   ]
  },
  {
   "cell_type": "markdown",
   "id": "16d9ab3a-82d9-4e0d-9ff0-dee263c980b9",
   "metadata": {},
   "source": [
    "## 6_3"
   ]
  },
  {
   "cell_type": "code",
   "execution_count": 2,
   "id": "2b01aa51-9baf-4bdb-ba7a-1241f5ad2dcb",
   "metadata": {
    "executionInfo": {
     "elapsed": 6,
     "status": "aborted",
     "timestamp": 1726184657593,
     "user": {
      "displayName": "山本亮介",
      "userId": "01861936879830612877"
     },
     "user_tz": -540
    },
    "id": "TuLV1eo61SQ6"
   },
   "outputs": [
    {
     "name": "stdout",
     "output_type": "stream",
     "text": [
      "DbCa\n",
      "5.6930210913\n",
      "6\n",
      "lmd=2\n"
     ]
    }
   ],
   "source": [
    "md = 'DbCa' #'AcBd' #'aCbD'\n",
    "print(f\"{md}\") \n",
    "\n",
    "M3 = S.bundle(monodromy=md)\n",
    "print(M3.volume())\n",
    "\n",
    "L = M3.exterior_to_link()\n",
    "print(len(L.DT_code()[0]))\n",
    "#pd = L.PD_code(); print(pd)\n",
    "\n",
    "hfk = L.knot_floer_homology()\n",
    "lmd = list(hfk['ranks'].keys())[-1][1]; print(f\"{lmd=}\")"
   ]
  },
  {
   "cell_type": "code",
   "execution_count": 3,
   "id": "b9c6ebc5-d2c0-4e6a-a4fa-f93544ad547a",
   "metadata": {
    "executionInfo": {
     "elapsed": 6,
     "status": "aborted",
     "timestamp": 1726184657593,
     "user": {
      "displayName": "山本亮介",
      "userId": "01861936879830612877"
     },
     "user_tz": -540
    },
    "id": "TuLV1eo61SQ6"
   },
   "outputs": [
    {
     "name": "stdout",
     "output_type": "stream",
     "text": [
      "is_isometric?: True\n"
     ]
    }
   ],
   "source": [
    "Ms = [S.bundle(monodromy=mc) for mc in ['DbCa', 'abCD']]\n",
    "print(f\"is_isometric?: {Ms[0].is_isometric_to(Ms[1])}\")"
   ]
  },
  {
   "cell_type": "code",
   "execution_count": 4,
   "id": "f90dcf10-e6ee-4a71-ae1a-2662ccd96175",
   "metadata": {
    "executionInfo": {
     "elapsed": 6,
     "status": "aborted",
     "timestamp": 1726184657593,
     "user": {
      "displayName": "山本亮介",
      "userId": "01861936879830612877"
     },
     "user_tz": -540
    },
    "id": "TuLV1eo61SQ6"
   },
   "outputs": [
    {
     "name": "stdout",
     "output_type": "stream",
     "text": [
      "is_isometric?: False\n"
     ]
    }
   ],
   "source": [
    "Ms = [S.bundle(monodromy=mc) for mc in ['DbCa', 'dbCA']]\n",
    "print(f\"is_isometric?: {Ms[0].is_isometric_to(Ms[1])}\")"
   ]
  },
  {
   "cell_type": "code",
   "execution_count": 5,
   "id": "12e190d4-801d-4c8e-8f7b-33bd237c9907",
   "metadata": {
    "executionInfo": {
     "elapsed": 6,
     "status": "aborted",
     "timestamp": 1726184657593,
     "user": {
      "displayName": "山本亮介",
      "userId": "01861936879830612877"
     },
     "user_tz": -540
    },
    "id": "TuLV1eo61SQ6"
   },
   "outputs": [
    {
     "name": "stdout",
     "output_type": "stream",
     "text": [
      "is_isometric?: False\n"
     ]
    }
   ],
   "source": [
    "Ms = [S.bundle(monodromy=mc) for mc in ['abCD', 'AbCd']]\n",
    "print(f\"is_isometric?: {Ms[0].is_isometric_to(Ms[1])}\")"
   ]
  },
  {
   "cell_type": "code",
   "execution_count": 6,
   "id": "b663c5ae-c8ac-45ad-a147-4957aedbb54d",
   "metadata": {
    "executionInfo": {
     "elapsed": 6,
     "status": "aborted",
     "timestamp": 1726184657593,
     "user": {
      "displayName": "山本亮介",
      "userId": "01861936879830612877"
     },
     "user_tz": -540
    },
    "id": "TuLV1eo61SQ6"
   },
   "outputs": [
    {
     "name": "stdout",
     "output_type": "stream",
     "text": [
      "is_isometric?: True\n"
     ]
    }
   ],
   "source": [
    "Ms = [S.bundle(monodromy=mc) for mc in ['abCD', 'ABcd']]\n",
    "print(f\"is_isometric?: {Ms[0].is_isometric_to(Ms[1])}\")"
   ]
  },
  {
   "cell_type": "markdown",
   "id": "4d32ba2e-cffc-4f1f-ace9-b92e58aba691",
   "metadata": {},
   "source": [
    "## Sequence of annulus twisted 6_3"
   ]
  },
  {
   "cell_type": "code",
   "execution_count": 7,
   "id": "53fe6492-da40-4861-b337-055d576737e1",
   "metadata": {
    "executionInfo": {
     "elapsed": 6,
     "status": "aborted",
     "timestamp": 1726184657593,
     "user": {
      "displayName": "山本亮介",
      "userId": "01861936879830612877"
     },
     "user_tz": -540
    },
    "id": "TuLV1eo61SQ6"
   },
   "outputs": [
    {
     "name": "stdout",
     "output_type": "stream",
     "text": [
      "n=-3/ FECfBaaabFcefCCCdBcA --> vol=11.2414892516\n",
      "43\n",
      "lmd=-4\n",
      "-----\n",
      "\n",
      "n=-2/ FECfBaabFcefCCdBcA --> vol=9.1200065008\n",
      "19\n",
      "lmd=0\n",
      "-----\n",
      "\n",
      "n=-1/ FECfBabFcefCdBcA --> vol=5.6930210913\n",
      "6\n",
      "lmd=2\n",
      "-----\n",
      "\n",
      "n=0/ dBcA --> vol=5.6930210913\n",
      "6\n",
      "lmd=2\n",
      "-----\n",
      "\n",
      "n=1/ FECfBAbFcefcdBcA --> vol=9.1200065008\n",
      "19\n",
      "lmd=0\n",
      "-----\n",
      "\n",
      "n=2/ FECfBAAbFcefccdBcA --> vol=11.2414892516\n",
      "43\n",
      "lmd=-4\n",
      "-----\n",
      "\n"
     ]
    }
   ],
   "source": [
    "def inv(s):\n",
    "    return s[::-1].swapcase()\n",
    "def conj(x,y):\n",
    "    return y + x + inv(y)\n",
    "#----------\n",
    "phi = 'fecFb'\n",
    "\n",
    "def A(n):\n",
    "    if n == 0:\n",
    "        return ''\n",
    "    elif n > 0:\n",
    "        return conj('a'*n, phi) + ('C'*n)\n",
    "    else:\n",
    "        return conj('A'*(abs(n)), phi) + ('c'*abs(n))\n",
    "#----------\n",
    "for n in [-3, -2, -1, 0, 1, 2]:\n",
    "    mc = A(n) + 'DbCa'\n",
    "    mc = mc.swapcase() #mc[::-1]\n",
    "\n",
    "    M = S.bundle(monodromy=mc)\n",
    "    print(f\"{n=}/ {mc} --> vol={M.volume()}\")\n",
    "\n",
    "    L = M.exterior_to_link()\n",
    "    print(len(L.DT_code()[0]))\n",
    "    hfk = L.knot_floer_homology()\n",
    "    lmd = list(hfk['ranks'].keys())[-1][1]; print(f\"{lmd=}\\n-----\\n\")"
   ]
  },
  {
   "cell_type": "code",
   "execution_count": null,
   "id": "0414fcfa-37c3-4db7-8cda-21fc8f1f4be9",
   "metadata": {},
   "outputs": [],
   "source": []
  }
 ],
 "metadata": {
  "colab": {
   "collapsed_sections": [
    "PGII4NrboFOE"
   ],
   "provenance": []
  },
  "kernelspec": {
   "display_name": "Python 3 (ipykernel)",
   "language": "python",
   "name": "python3"
  },
  "language_info": {
   "codemirror_mode": {
    "name": "ipython",
    "version": 3
   },
   "file_extension": ".py",
   "mimetype": "text/x-python",
   "name": "python",
   "nbconvert_exporter": "python",
   "pygments_lexer": "ipython3",
   "version": "3.12.3"
  }
 },
 "nbformat": 4,
 "nbformat_minor": 5
}
