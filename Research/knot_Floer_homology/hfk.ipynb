{
 "cells": [
  {
   "cell_type": "code",
   "execution_count": 8,
   "id": "0d068d61-1c5a-49bb-a307-9b7e182bd4ac",
   "metadata": {
    "tags": []
   },
   "outputs": [],
   "source": [
    "import knot_floer_homology as hfk\n",
    "#help(hfk.pd_to_hfk)\n",
    "\n",
    "from GridPythonModule import *\n",
    "\n",
    "import random\n",
    "import numpy as np\n",
    "import sympy; sympy.init_printing()\n",
    "\n",
    "# import Permutations as pm\n",
    "# from Grid import *\n",
    "\n",
    "from tqdm.notebook import tqdm\n",
    "# ----- Debugger -----\n",
    "# from IPython.core.debugger import Pdb; Pdb().set_trace()"
   ]
  },
  {
   "cell_type": "code",
   "execution_count": 9,
   "id": "55c4e89a-db19-4517-99b8-48fb0afe87cf",
   "metadata": {},
   "outputs": [],
   "source": [
    "PD = [(2,0,3,15),(0,6,1,5),(6,2,7,1),(3,10,4,11),(9,4,10,5),(7,12,8,13),(13,8,14,9),(11,14,12,15)]"
   ]
  },
  {
   "cell_type": "code",
   "execution_count": 10,
   "id": "66c0da13-618d-40a1-b316-61cabf83bd55",
   "metadata": {},
   "outputs": [
    {
     "data": {
      "text/plain": [
       "{'L_space_knot': False,\n",
       " 'epsilon': 0,\n",
       " 'fibered': True,\n",
       " 'modulus': 2,\n",
       " 'nu': 0,\n",
       " 'ranks': {(-2, -2): 1, (-1, -1): 2, (0, 0): 3, (1, 1): 2, (2, 2): 1},\n",
       " 'seifert_genus': 2,\n",
       " 'tau': 0,\n",
       " 'total_rank': 9}"
      ]
     },
     "execution_count": 10,
     "metadata": {},
     "output_type": "execute_result"
    }
   ],
   "source": [
    "hfk.pd_to_hfk(PD)"
   ]
  },
  {
   "cell_type": "code",
   "execution_count": 17,
   "id": "0e592136-763e-49fa-a792-9a949aa69f95",
   "metadata": {},
   "outputs": [
    {
     "data": {
      "image/png": "[encoded data removed]",
      "text/plain": [
       "<Figure size 640x480 with 1 Axes>"
      ]
     },
     "metadata": {},
     "output_type": "display_data"
    }
   ],
   "source": [
    "gd = generate_random_grid(12)\n",
    "draw_grid(gd)"
   ]
  },
  {
   "cell_type": "code",
   "execution_count": 22,
   "id": "3eac279a-e395-4760-82f9-348ba5f4e350",
   "metadata": {},
   "outputs": [],
   "source": [
    "# available_knots()\n",
    "K816=load_knot('8_16')"
   ]
  },
  {
   "cell_type": "code",
   "execution_count": 37,
   "id": "4e5bc67b-a152-4b5d-9e97-7c977549d339",
   "metadata": {},
   "outputs": [
    {
     "name": "stdout",
     "output_type": "stream",
     "text": [
      "[(3, 1, 4, 26), (1, 8, 2, 9), (7, 2, 8, 3), (9, 5, 10, 4), (5, 14, 6, 15), (13, 6, 14, 7), (15, 11, 16, 10), (11, 19, 12, 18), (19, 13, 20, 12), (23, 17, 24, 16), (17, 23, 18, 22), (25, 20, 26, 21), (21, 24, 22, 25)]\n"
     ]
    }
   ],
   "source": [
    "import csv\n",
    "import ast\n",
    "\n",
    "knots_list = []\n",
    "filename = 'knotinfo-13a_1-20.csv'\n",
    "with open(filename, encoding='utf8', newline='') as f:\n",
    "    csvreader = csv.reader(f)\n",
    "    header = next(csvreader)\n",
    "    for row in csvreader:\n",
    "        list_literal = row[1].translate(str.maketrans({';': ','}))\n",
    "        pd = [ tuple(l) for l in ast.literal_eval(list_literal)]\n",
    "#        print(row)\n",
    "        knots_list.append({'name': row[0], 'PD': pd})\n",
    "\n",
    "print(knots_list[1]['PD'])"
   ]
  },
  {
   "cell_type": "code",
   "execution_count": 47,
   "id": "801661dd-f3b4-4804-b821-03ea7060ffec",
   "metadata": {},
   "outputs": [
    {
     "name": "stdout",
     "output_type": "stream",
     "text": [
      "13a_4\n"
     ]
    },
    {
     "data": {
      "text/plain": [
       "{'L_space_knot': False,\n",
       " 'epsilon': 1,\n",
       " 'fibered': False,\n",
       " 'modulus': 2,\n",
       " 'nu': 2,\n",
       " 'ranks': {(-4, -6): 2,\n",
       "  (-3, -5): 13,\n",
       "  (-2, -4): 37,\n",
       "  (-1, -3): 61,\n",
       "  (0, -2): 71,\n",
       "  (1, -1): 61,\n",
       "  (2, 0): 37,\n",
       "  (3, 1): 13,\n",
       "  (4, 2): 2},\n",
       " 'seifert_genus': 4,\n",
       " 'tau': 2,\n",
       " 'total_rank': 297}"
      ]
     },
     "execution_count": 47,
     "metadata": {},
     "output_type": "execute_result"
    }
   ],
   "source": [
    "KNOT = knots_list[3]\n",
    "print(KNOT['name'])\n",
    "hfk.pd_to_hfk(KNOT['PD'])"
   ]
  }
 ],
 "metadata": {
  "kernelspec": {
   "display_name": "py312",
   "language": "python",
   "name": "py312"
  },
  "language_info": {
   "codemirror_mode": {
    "name": "ipython",
    "version": 3
   },
   "file_extension": ".py",
   "mimetype": "text/x-python",
   "name": "python",
   "nbconvert_exporter": "python",
   "pygments_lexer": "ipython3",
   "version": "3.12.1"
  }
 },
 "nbformat": 4,
 "nbformat_minor": 5
}
