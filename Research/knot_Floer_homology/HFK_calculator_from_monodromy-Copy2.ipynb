{
 "cells": [
  {
   "cell_type": "markdown",
   "id": "b3a46c7e-7ec3-4dec-a8ce-dd1b9d632b7a",
   "metadata": {
    "id": "b3a46c7e-7ec3-4dec-a8ce-dd1b9d632b7a"
   },
   "source": [
    "# Calculation of lambda inv. from monodromies of fibered knots\n"
   ]
  },
  {
   "cell_type": "markdown",
   "id": "KPups8IJ6oYy",
   "metadata": {
    "id": "KPups8IJ6oYy"
   },
   "source": [
    "### Modules"
   ]
  },
  {
   "cell_type": "code",
   "execution_count": null,
   "id": "14c7ea7c-d8c9-4a75-a3a9-ccde4f2bb0cc",
   "metadata": {
    "colab": {
     "base_uri": "https://localhost:8080/"
    },
    "executionInfo": {
     "elapsed": 19392,
     "status": "ok",
     "timestamp": 1726184657592,
     "user": {
      "displayName": "山本亮介",
      "userId": "01861936879830612877"
     },
     "user_tz": -540
    },
    "id": "14c7ea7c-d8c9-4a75-a3a9-ccde4f2bb0cc",
    "outputId": "365c2cd4-ee7f-4d2a-bc32-dd178eb49258",
    "scrolled": true
   },
   "outputs": [],
   "source": [
    "#import numpy as np\n",
    "import pandas as pd\n",
    "#import ast\n",
    "\n",
    "#from multiprocessing import Pool, cpu_count\n",
    "#from tqdm.notebook import tqdm\n",
    "\n",
    "from snappy import *\n",
    "#from GridPythonModule import *\n",
    "#from GPM_wrapper.Grid import *"
   ]
  },
  {
   "cell_type": "markdown",
   "id": "PGII4NrboFOE",
   "metadata": {
    "id": "PGII4NrboFOE",
    "jp-MarkdownHeadingCollapsed": true
   },
   "source": [
    "### automatic creation of non-alternating hyperbolic fibered knot data"
   ]
  },
  {
   "cell_type": "code",
   "execution_count": null,
   "id": "d-ZzgH8amJ0T",
   "metadata": {
    "colab": {
     "base_uri": "https://localhost:8080/",
     "height": 297
    },
    "executionInfo": {
     "elapsed": 7,
     "status": "error",
     "timestamp": 1726184657592,
     "user": {
      "displayName": "山本亮介",
      "userId": "01861936879830612877"
     },
     "user_tz": -540
    },
    "id": "d-ZzgH8amJ0T",
    "outputId": "a90e77dd-3086-42a5-8d02-fa409c32ec19"
   },
   "outputs": [],
   "source": [
    "# prompt: create a data set of non-alternating knots up to 10 crossings as a list of dictionaries with keys 'name', 'monodromy' and 'genus_3D'.\n",
    "\n",
    "def create_knot_data(name):\n",
    "    \"\"\"\n",
    "    Creates a dictionary containing information about a knot.\n",
    "\n",
    "    Args:\n",
    "        name: The name of the knot.\n",
    "\n",
    "    Returns:\n",
    "        A dictionary with keys 'name', 'monodromy', and 'genus_3D'.\n",
    "    \"\"\"\n",
    "    try:\n",
    "        M = Manifold(name)\n",
    "        monodromy = M.monodromy()\n",
    "        genus_3D = M.genus()\n",
    "        return {'name': name, 'monodromy': monodromy, 'genus_3D': genus_3D}\n",
    "    except Exception as e:\n",
    "        print(f\"Error processing knot {name}: {e}\")\n",
    "        return None\n",
    "\n",
    "def create_knot_dataset(max_crossings=10):\n",
    "    \"\"\"\n",
    "    Creates a dataset of non-alternating knots up to a given number of crossings.\n",
    "\n",
    "    Args:\n",
    "        max_crossings: The maximum number of crossings for the knots.\n",
    "\n",
    "    Returns:\n",
    "        A list of dictionaries containing knot data.\n",
    "    \"\"\"\n",
    "    knot_data = []\n",
    "    for i in range(2, max_crossings + 1):\n",
    "        for knot in Knot.names(i):\n",
    "            if not Knot(knot).is_alternating():\n",
    "                data = create_knot_data(knot)\n",
    "                if data:\n",
    "                    knot_data.append(data)\n",
    "    return knot_data\n",
    "\n",
    "# Create the dataset\n",
    "knot_dataset = create_knot_dataset()\n"
   ]
  },
  {
   "cell_type": "markdown",
   "id": "0uGzULHFoQ7h",
   "metadata": {
    "id": "0uGzULHFoQ7h",
    "jp-MarkdownHeadingCollapsed": true
   },
   "source": [
    "### a trial for using SnapPy and Twister"
   ]
  },
  {
   "cell_type": "code",
   "execution_count": null,
   "id": "mpxd7FAmmHSu",
   "metadata": {
    "executionInfo": {
     "elapsed": 316,
     "status": "ok",
     "timestamp": 1726184671248,
     "user": {
      "displayName": "山本亮介",
      "userId": "01861936879830612877"
     },
     "user_tz": -540
    },
    "id": "mpxd7FAmmHSu"
   },
   "outputs": [],
   "source": [
    "#--- some hyperbolic fibered knots with genus up to 2\n",
    "knot_data = [\n",
    " #-- alternating\n",
    " {'name': '4_1', 'md':'aB', 'alt': True},\n",
    " {'name': '6_2', 'md':'abcD', 'alt': True},\n",
    " {'name': '6_3', 'md':'abCD', 'alt': True},\n",
    " {'name': '7_7', 'md':'abCF', 'alt': True},\n",
    " {'name': '8_12', 'md':'aBcD', 'alt': True},\n",
    " #-- non-alternating\n",
    " {'name': '8_20', 'md':'abCDf', 'alt': False},\n",
    " {'name': '8_21', 'md':'abcDF', 'alt': False},\n",
    " {'name': '9_42', 'md':'abcdF', 'alt': False},\n",
    " {'name': '9_44', 'md':'abCDF', 'alt': False},\n",
    " ]"
   ]
  },
  {
   "cell_type": "code",
   "execution_count": null,
   "id": "Mcrw8EQk98p1",
   "metadata": {
    "colab": {
     "base_uri": "https://localhost:8080/"
    },
    "executionInfo": {
     "elapsed": 40393,
     "status": "ok",
     "timestamp": 1726184714064,
     "user": {
      "displayName": "山本亮介",
      "userId": "01861936879830612877"
     },
     "user_tz": -540
    },
    "id": "Mcrw8EQk98p1",
    "outputId": "ad65052e-7570-4614-9005-84d7dfcf8b49"
   },
   "outputs": [],
   "source": [
    "for k in knot_data:\n",
    "    print(f\"{k=}\")\n",
    "\n",
    "    #--- create the exterior by name\n",
    "    M1 = Manifold(k['name'])\n",
    "    print(f\"{M1.volume()=}\") #, {M1.DT_code()=}\")\n",
    "\n",
    "    #--- create the exterior by monodromy\n",
    "    S = twister.Surface('S_2_1')\n",
    "    M2 = S.bundle(k['md'], optimize=True)\n",
    "    try:\n",
    "        L = M2.exterior_to_link()\n",
    "        pd = L.PD_code()\n",
    "        print(f\"{M2.volume()=}, {pd=}\")\n",
    "        hfk_dic = hfk.pd_to_hfk(pd)\n",
    "        print(f\"{hfk_dic['ranks']=}\")\n",
    "    except:\n",
    "        print(\"Error: exterior_to_link failed.\")\n",
    "        try:\n",
    "            print(f\"{M2.is_isometric_to(M1)=}\")\n",
    "        except:\n",
    "            print('Can not determine')\n",
    "    print(f\"---\")"
   ]
  },
  {
   "cell_type": "code",
   "execution_count": null,
   "id": "nuoH8y8AKagE",
   "metadata": {
    "executionInfo": {
     "elapsed": 6,
     "status": "aborted",
     "timestamp": 1726184657592,
     "user": {
      "displayName": "山本亮介",
      "userId": "01861936879830612877"
     },
     "user_tz": -540
    },
    "id": "nuoH8y8AKagE"
   },
   "outputs": [],
   "source": [
    "%%timeit\n",
    "S = twister.Surface('S_2_1')\n",
    "M3 = S.bundle(monodromy='a*b*C*D*F') #, optimize=True) #, return_type='Triangulation')\n",
    "L = M3.exterior_to_link(verbose=False) #, simplify_link=False)\n",
    "print(L.DT_code())\n",
    "#print(f\"{M3.volume()=}, {M3.DT_code()=}\")"
   ]
  },
  {
   "cell_type": "markdown",
   "id": "pBZL07eNgO3M",
   "metadata": {
    "id": "pBZL07eNgO3M"
   },
   "source": [
    "5.65 s ± 3.47"
   ]
  },
  {
   "cell_type": "markdown",
   "id": "GTAygcIdqwrF",
   "metadata": {
    "id": "GTAygcIdqwrF"
   },
   "source": [
    "## Get HFK from monodromies"
   ]
  },
  {
   "cell_type": "code",
   "execution_count": null,
   "id": "DjhApb3Nz0II",
   "metadata": {
    "executionInfo": {
     "elapsed": 6,
     "status": "aborted",
     "timestamp": 1726184657593,
     "user": {
      "displayName": "山本亮介",
      "userId": "01861936879830612877"
     },
     "user_tz": -540
    },
    "id": "DjhApb3Nz0II"
   },
   "outputs": [],
   "source": [
    "S = twister.Surface('S_2_1')\n",
    "\n",
    "mds = ['abeedcfEabC',\n",
    "       # 'BECeADbDFEc',\n",
    "       # 'cEfbabCDebD',\n",
    "       # 'DebEFAceBDCe',\n",
    "       # 'cAeABCFAFBDa',\n",
    "       # 'DebEFAceBDCe',\n",
    "       # 'BDabAAACebec',\n",
    "       # 'afCeDafDbfbcABd',\n",
    "       # 'FecfebfBEdBAcdfEA',\n",
    "       # 'ceBEcaBCbEBBEcEFaa'\n",
    "      ]\n",
    "\n",
    "result = []\n",
    "for md in mds:\n",
    "    data = {'monodromy': md}\n",
    "    M3 = S.bundle(monodromy=md)\n",
    "    data['vol'] = M3.volume()\n",
    "\n",
    "    L = M3.exterior_to_link() #verbose=True, simplify_link=False)\n",
    "    #L.view()\n",
    "    data['DT'] = L.DT_code()[0]\n",
    "    data['PD'] = L.PD_code()\n",
    "\n",
    "    hfk_dic = L.knot_floer_homology(); #print(f\"{hfk_dic=}\")\n",
    "    data['lmd'] = list(hfk_dic['ranks'].keys())[-1][1]\n",
    "    data['ranks'] = hfk_dic['ranks']\n",
    "    result.append(data)\n",
    "\n",
    "DF = pd.DataFrame(result); display(DF)\n",
    "filename = f\"./data/hyp_fib_g2_knots_with_neg_lmd.csv\"\n",
    "DF.to_csv(filename, mode = 'a', index=False, header = (not os.path.isfile(filename)))"
   ]
  },
  {
   "cell_type": "markdown",
   "id": "b438cf41-3c59-4034-821e-415366710e7f",
   "metadata": {},
   "source": [
    "## Scratch"
   ]
  },
  {
   "cell_type": "code",
   "execution_count": null,
   "id": "TuLV1eo61SQ6",
   "metadata": {
    "executionInfo": {
     "elapsed": 6,
     "status": "aborted",
     "timestamp": 1726184657593,
     "user": {
      "displayName": "山本亮介",
      "userId": "01861936879830612877"
     },
     "user_tz": -540
    },
    "id": "TuLV1eo61SQ6"
   },
   "outputs": [],
   "source": [
    "# @title An instance of a fibered knot with genus 2 that has negative lambda.\n",
    "S = twister.Surface('S_2_1')\n",
    "\n",
    "md = 'abeedcfEabC' #'DebEFAceBDCe' #'BECeADbDFEc' #'DebEFAceBDCe' #'FecfebfBEdBAcdfEA' #'afCeDafDbfbcABd' #'cAeABCFAFBDa' #'ceBEcaBCbEBBEcEFaa' #\n",
    "print(f\"{md}\") \n",
    "\n",
    "M3 = S.bundle(monodromy=md)\n",
    "print(M3.volume())\n",
    "\n",
    "L = M3.exterior_to_link()\n",
    "#L.view()\n",
    "print(len(L.DT_code()[0]))\n",
    "#pd = L.PD_code(); print(pd)\n",
    "\n",
    "hfk = L.knot_floer_homology()\n",
    "lmd = list(hfk['ranks'].keys())[-1][1]; print(f\"{lmd=}\")"
   ]
  },
  {
   "cell_type": "code",
   "execution_count": null,
   "id": "c94e74d2-a0b0-4d63-8be3-10a034a051a3",
   "metadata": {},
   "outputs": [],
   "source": []
  }
 ],
 "metadata": {
  "colab": {
   "collapsed_sections": [
    "PGII4NrboFOE"
   ],
   "provenance": []
  },
  "kernelspec": {
   "display_name": "Python 3 (ipykernel)",
   "language": "python",
   "name": "python3"
  },
  "language_info": {
   "codemirror_mode": {
    "name": "ipython",
    "version": 3
   },
   "file_extension": ".py",
   "mimetype": "text/x-python",
   "name": "python",
   "nbconvert_exporter": "python",
   "pygments_lexer": "ipython3",
   "version": "3.12.3"
  }
 },
 "nbformat": 4,
 "nbformat_minor": 5
}
