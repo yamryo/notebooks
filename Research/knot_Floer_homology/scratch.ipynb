{
 "cells": [
  {
   "cell_type": "markdown",
   "id": "2caaeb66-9ba3-49c7-b70f-65b8aa876738",
   "metadata": {},
   "source": [
    "# Libraries"
   ]
  },
  {
   "cell_type": "code",
   "execution_count": 20,
   "id": "e8493c67-2a2b-46b9-a0e8-6e55b141fe15",
   "metadata": {},
   "outputs": [],
   "source": [
    "# import random\n",
    "#import re\n",
    "import ast\n",
    "import itertools\n",
    "from tqdm.notebook import tqdm\n",
    "\n",
    "# ----- Debugger -----\n",
    "# from IPython.core.debugger import Pdb; Pdb().set_trace()\n",
    "# from knot_floer_homology import *"
   ]
  },
  {
   "cell_type": "code",
   "execution_count": null,
   "id": "a5559dac-0ba0-4fce-b1dd-bb75cc28fcef",
   "metadata": {},
   "outputs": [],
   "source": [
    "def get_heat_matrix(cr_rng, sample=0):\n",
    "    fname = f\"./data/hfk_{cr_rng}.csv\"\n",
    "    try:\n",
    "        DF = pd.read_csv(fname).set_index('Name'); DF['lambda'] = DF['lambda'].astype('Int64')\n",
    "        df = DF.query('fibered == True').loc[:, ['lambda', 'seifert_genus']]\n",
    "        if sample > 0:\n",
    "            df = df.sample(n=sample, replace = True if len(df) < sample else False)\n",
    "        #----\n",
    "        mat = np.zeros([df['lambda'].max()+1,df['seifert_genus'].max()+1], dtype = int)\n",
    "        for name, values in df.iterrows():\n",
    "            i, j = values['lambda'], values['seifert_genus']\n",
    "            mat[i][j] += 1\n",
    "        #----\n",
    "    except:\n",
    "        mat = [[0]]\n",
    "    return mat"
   ]
  },
  {
   "cell_type": "code",
   "execution_count": null,
   "id": "6aa46d45-dcc5-4053-91b2-f0eae5be11d9",
   "metadata": {
    "ExecuteTime": {
     "end_time": "2021-05-28T05:09:37.293177Z",
     "start_time": "2021-05-28T05:09:32.767515Z"
    },
    "scrolled": true,
    "tags": []
   },
   "outputs": [],
   "source": [
    "cr_rngs = [range(3,10),range(10,13),range(13,14),range(14,15),range(15,16),range(16,17)]\n",
    "Row, Col = 2, 3\n",
    "fig = make_subplots(Row, Col, subplot_titles=[f\"crossing={[*rng]}\" for rng in cr_rngs], horizontal_spacing=0.15)\n",
    "#---\n",
    "for i, j in itertools.product(range(Row), range(Col)):\n",
    "    r = i * Col + j\n",
    "    try:\n",
    "        mat = get_heat_matrix(cr_rngs[r])\n",
    "        fig.add_trace(\n",
    "            go.Heatmap(z = mat,\n",
    "                       colorscale = 'Oranges',\n",
    "                       colorbar_len=0.4, colorbar_x=0.25 + 0.385*j, colorbar_y = 0.18 + 0.63*(1-i),                        \n",
    "            ), \n",
    "            i+1, j+1)\n",
    "    except:\n",
    "        pass\n",
    "# ---\n",
    "fig.update_layout(\n",
    "    xaxis_title=\"Seifert genus\", yaxis_title=\"lambda\",\n",
    "    height = 400 * Row, width = 400 * Col, title=\"heatmaps\"\n",
    ")\n",
    "# ---\n",
    "fig.show()"
   ]
  },
  {
   "cell_type": "code",
   "execution_count": null,
   "id": "699bd356-399a-48a1-a555-61a2c48c02ad",
   "metadata": {
    "ExecuteTime": {
     "end_time": "2021-05-28T05:09:37.293177Z",
     "start_time": "2021-05-28T05:09:32.767515Z"
    },
    "scrolled": true,
    "tags": []
   },
   "outputs": [],
   "source": [
    "cr_rngs = [range(3,10),range(10,13),range(13,14),range(14,15),range(15,16),range(16,17)]\n",
    "Row, Col = 2, 3\n",
    "fig = make_subplots(Row, Col, subplot_titles=[f\"crossing={[*rng]}\" for rng in cr_rngs], horizontal_spacing=0.15)\n",
    "#---\n",
    "for i, j in itertools.product(range(Row), range(Col)):\n",
    "    r = i * Col + j\n",
    "    try:\n",
    "        mat = get_heat_matrix(cr_rngs[r], sample=1000)\n",
    "        fig.add_trace(\n",
    "            go.Heatmap(z = mat,\n",
    "                       colorscale = 'Oranges',\n",
    "                       colorbar_len=0.4, colorbar_x=0.25 + 0.385*j, colorbar_y = 0.18 + 0.63*(1-i),                        \n",
    "            ), \n",
    "            i+1, j+1)\n",
    "    except:\n",
    "        pass\n",
    "# ---\n",
    "fig.update_layout(\n",
    "    xaxis_title=\"Seifert genus\", yaxis_title=\"lambda\",\n",
    "    height = 400 * Row, width = 400 * Col, title=\"heatmaps\"\n",
    ")\n",
    "# ---\n",
    "fig.show()"
   ]
  },
  {
   "cell_type": "markdown",
   "id": "1da3eeb5-9238-4c6e-aebe-26802762cba8",
   "metadata": {},
   "source": [
    "# DF of all knots with 3 to 16 crossings"
   ]
  },
  {
   "cell_type": "code",
   "execution_count": 8,
   "id": "eb6d9c3b-3d66-4be2-a41d-bd29463a178e",
   "metadata": {
    "ExecuteTime": {
     "end_time": "2021-05-28T05:09:37.293177Z",
     "start_time": "2021-05-28T05:09:32.767515Z"
    },
    "tags": []
   },
   "outputs": [
    {
     "data": {
      "text/html": [
       "<div>\n",
       "<style scoped>\n",
       "    .dataframe tbody tr th:only-of-type {\n",
       "        vertical-align: middle;\n",
       "    }\n",
       "\n",
       "    .dataframe tbody tr th {\n",
       "        vertical-align: top;\n",
       "    }\n",
       "\n",
       "    .dataframe thead th {\n",
       "        text-align: right;\n",
       "    }\n",
       "</style>\n",
       "<table border=\"1\" class=\"dataframe\">\n",
       "  <thead>\n",
       "    <tr style=\"text-align: right;\">\n",
       "      <th></th>\n",
       "      <th>lmd</th>\n",
       "      <th>seifert_genus</th>\n",
       "    </tr>\n",
       "    <tr>\n",
       "      <th>Name</th>\n",
       "      <th></th>\n",
       "      <th></th>\n",
       "    </tr>\n",
       "  </thead>\n",
       "  <tbody>\n",
       "    <tr>\n",
       "      <th>K3a1</th>\n",
       "      <td>[2, 0]</td>\n",
       "      <td>1</td>\n",
       "    </tr>\n",
       "    <tr>\n",
       "      <th>K4a1</th>\n",
       "      <td>[1, 1]</td>\n",
       "      <td>1</td>\n",
       "    </tr>\n",
       "    <tr>\n",
       "      <th>K5a1</th>\n",
       "      <td>[4, 0]</td>\n",
       "      <td>2</td>\n",
       "    </tr>\n",
       "    <tr>\n",
       "      <th>K6a2</th>\n",
       "      <td>[3, 1]</td>\n",
       "      <td>2</td>\n",
       "    </tr>\n",
       "    <tr>\n",
       "      <th>K6a3</th>\n",
       "      <td>[2, 2]</td>\n",
       "      <td>2</td>\n",
       "    </tr>\n",
       "    <tr>\n",
       "      <th>...</th>\n",
       "      <td>...</td>\n",
       "      <td>...</td>\n",
       "    </tr>\n",
       "    <tr>\n",
       "      <th>K16n1008896</th>\n",
       "      <td>[2, 8]</td>\n",
       "      <td>5</td>\n",
       "    </tr>\n",
       "    <tr>\n",
       "      <th>K16n1008899</th>\n",
       "      <td>[14, 0]</td>\n",
       "      <td>7</td>\n",
       "    </tr>\n",
       "    <tr>\n",
       "      <th>K16n1008900</th>\n",
       "      <td>[14, 0]</td>\n",
       "      <td>7</td>\n",
       "    </tr>\n",
       "    <tr>\n",
       "      <th>K16n1008903</th>\n",
       "      <td>[14, 0]</td>\n",
       "      <td>7</td>\n",
       "    </tr>\n",
       "    <tr>\n",
       "      <th>K16n1008904</th>\n",
       "      <td>[8, 2]</td>\n",
       "      <td>5</td>\n",
       "    </tr>\n",
       "  </tbody>\n",
       "</table>\n",
       "<p>634557 rows × 2 columns</p>\n",
       "</div>"
      ],
      "text/plain": [
       "                 lmd  seifert_genus\n",
       "Name                               \n",
       "K3a1          [2, 0]              1\n",
       "K4a1          [1, 1]              1\n",
       "K5a1          [4, 0]              2\n",
       "K6a2          [3, 1]              2\n",
       "K6a3          [2, 2]              2\n",
       "...              ...            ...\n",
       "K16n1008896   [2, 8]              5\n",
       "K16n1008899  [14, 0]              7\n",
       "K16n1008900  [14, 0]              7\n",
       "K16n1008903  [14, 0]              7\n",
       "K16n1008904   [8, 2]              5\n",
       "\n",
       "[634557 rows x 2 columns]"
      ]
     },
     "metadata": {},
     "output_type": "display_data"
    }
   ],
   "source": [
    "cr_rngs = [range(3,10),range(10,13),range(13,14),range(14,15),range(15,16),range(16,17)]\n",
    "\n",
    "dfs = []\n",
    "for rng in cr_rngs:\n",
    "    fname = f\"./data/hfk_{rng}.csv\"\n",
    "    DF = pd.read_csv(fname).set_index('Name')\n",
    "    dfs.append(DF.query('fibered == True').loc[:, ['lmd', 'seifert_genus']])\n",
    "df_all = pd.concat(dfs); display(df_all)"
   ]
  },
  {
   "cell_type": "code",
   "execution_count": 19,
   "id": "02e7e6ac-d2ff-4d8f-8166-6301f4ecd9ac",
   "metadata": {},
   "outputs": [],
   "source": [
    "for name, vals in df_all.iterrows():\n",
    "    lmd = ast.literal_eval(vals['lmd'])\n",
    "    if lmd[0] < 0 or lmd[1] < 0:\n",
    "        print(name)"
   ]
  }
 ],
 "metadata": {
  "kernelspec": {
   "display_name": "Python 3 (ipykernel)",
   "language": "python",
   "name": "python3"
  },
  "language_info": {
   "codemirror_mode": {
    "name": "ipython",
    "version": 3
   },
   "file_extension": ".py",
   "mimetype": "text/x-python",
   "name": "python",
   "nbconvert_exporter": "python",
   "pygments_lexer": "ipython3",
   "version": "3.11.8"
  }
 },
 "nbformat": 4,
 "nbformat_minor": 5
}
