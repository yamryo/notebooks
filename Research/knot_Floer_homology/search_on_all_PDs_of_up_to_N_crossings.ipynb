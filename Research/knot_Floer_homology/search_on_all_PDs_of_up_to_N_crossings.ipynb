{
 "cells": [
  {
   "cell_type": "markdown",
   "id": "f8238f91-09ca-4db1-a038-19b5dfcd2c39",
   "metadata": {},
   "source": [
    "# Modules"
   ]
  },
  {
   "cell_type": "code",
   "execution_count": 1,
   "id": "276529b8-e981-43c7-a5a2-2e1aa3d72779",
   "metadata": {
    "tags": []
   },
   "outputs": [],
   "source": [
    "import math\n",
    "import random\n",
    "#import re\n",
    "from functools import reduce\n",
    "from itertools import permutations, combinations\n",
    "# import pandas as pd\n",
    "#import sympy\n",
    "#sympy.init_printing()\n",
    "\n",
    "import sys; sys.path.append(\"../modules\")\n",
    "from Permutation import *\n",
    "\n",
    "from tqdm.notebook import tqdm\n",
    "#from multiprocessing import Pool, cpu_count\n",
    "from multiprocess import Pool\n",
    "\n",
    "# ----- Debugger -----\n",
    "# from IPython.core.debugger import Pdb; Pdb().set_trace()\n",
    "\n",
    "from knot_floer_homology import *\n",
    "#help(pd_to_hfk)"
   ]
  },
  {
   "cell_type": "code",
   "execution_count": null,
   "id": "2e97f06f-8c19-4bba-b0e7-6ea7789e6bfd",
   "metadata": {
    "tags": []
   },
   "outputs": [],
   "source": [
    "N = 4\n",
    "\n",
    "def cross(x: int, y: int, sign: int):\n",
    "    if sign not in range(4): raise(ArgumentError) # signs are 0b00, 0b01, 0b10, 0b11\n",
    "    if (sign & 0b10):\n",
    "        ft, lt = (x, x%(2*N)+1), (y, y%(2*N)+1)\n",
    "    else:\n",
    "        ft, lt = (y, y%(2*N)+1), (x, x%(2*N)+1)\n",
    "    if (sign & 0b01):\n",
    "        pd = (ft[0], lt[0], ft[1], lt[1])\n",
    "    else:\n",
    "        pd = (ft[0], lt[1], ft[1], lt[0])\n",
    "    return pd    \n",
    "\n",
    "lmd_data = [0 for _ in range(10)]\n",
    "def calc_hfk(signs):\n",
    "    print(bin(signs))\n",
    "    for perm in permutations(range(1, N+1), N):\n",
    "        if (perm[0] == N) or (perm[N-1] == 1):\n",
    "            return None\n",
    "        #-----\n",
    "        pd = [cross(N+1+i, perm[i], ((signs >> 2*i) & 0b11)) for i in range(N)]\n",
    "        #---\n",
    "        cs = [Cycle([x-1 for x in tup], 2*N) for tup in pd]\n",
    "        pd_perm = reduce((lambda x,y: x*y), cs) #; print(f\"{pd_perm}\\n\\n\")\n",
    "        num_of_orbits = len(cycle_decomp(pd_perm))\n",
    "        print(f\"{perm} --> {pd_perm.image} --> {num_of_orbits}\\n\")\n",
    "        if num_of_orbits - N == 2:\n",
    "            print(pd)\n",
    "            hfk = pd_to_hfk(pd)\n",
    "            if hfk['fibered'] and hfk['seifert_genus'] > 0:\n",
    "                sg = hfk['seifert_genus']\n",
    "                ranks = hfk['ranks']\n",
    "                for pg in ranks.keys():\n",
    "                    if pg[0] == sg:\n",
    "                        lmd = pg[1]\n",
    "                print(lmd)\n",
    "                lmd_data.setdefault(str(lmd), 0) \n",
    "                lmd_data[str(lmd)] += 1\n",
    "                if lmd < 0:\n",
    "                    print(pd)\n",
    "                    return pd\n",
    "        return None\n",
    "for signs in range(4**(N-1)):\n",
    "    calc_hfk(signs)\n",
    "# with Pool(processes=8) as pool:\n",
    "#     list(tqdm(pool.imap(calc_hfk, range(4**(N-1))), total = 4**(N-1)))\n",
    "# #print(len(output), math.factorial(N)*(4**(N-1)))\n",
    "print(lmd_data)"
   ]
  },
  {
   "cell_type": "markdown",
   "id": "4af9b175-5baf-4ebd-9ed2-347141f034f6",
   "metadata": {},
   "source": [
    "## scratch"
   ]
  },
  {
   "cell_type": "code",
   "execution_count": null,
   "id": "59838845-b2dd-4b49-be67-54755d2a6554",
   "metadata": {},
   "outputs": [],
   "source": [
    "mdic = {'a': 4}\n",
    "\n",
    "mdic.setdefault('a', 0)\n",
    "mdic['a'] += 1\n",
    "print(mdic)"
   ]
  },
  {
   "cell_type": "code",
   "execution_count": null,
   "id": "4046e54b-3ed5-4ce2-b413-fca2b0adffaf",
   "metadata": {
    "tags": []
   },
   "outputs": [],
   "source": [
    "N = 6\n",
    "hfk_data = []\n",
    "\n",
    "def cross(x: int, y: int, sign: int):\n",
    "    if sign not in range(4): raise(ArgumentError) # signs are 0b00, 0b01, 0b10, 0b11\n",
    "    if (sign & 0b10):\n",
    "        ft, lt = (x, x%(2*N)+1), (y, y%(2*N)+1)\n",
    "    else:\n",
    "        ft, lt = (y, y%(2*N)+1), (x, x%(2*N)+1)\n",
    "    #---\n",
    "    pd = (ft[0], lt[0], ft[1], lt[1]) if (sign & 0b01) else (ft[0], lt[1], ft[1], lt[0])\n",
    "    return pd    \n",
    "\n",
    "for perm in tqdm(permutations(range(1,N+1), N), total=math.factorial(N)):\n",
    "#for perm in permutations(range(1,N+1), N): # iteratation on permutations on {N+1, ... ,2*N+1} \n",
    "    if (perm[0] != N) and (perm[N-1] != 1):\n",
    "        for signs in range(4**(N-1)):\n",
    "            pd = [cross(N+1+i, perm[i], ((signs >> 2*i) & 0b11)) for i in range(N)]\n",
    "            cs = [Cycle([x-1 for x in tup], 2*N) for tup in pd]\n",
    "            pd_perm = reduce((lambda x,y: x*y), cs)\n",
    "            num_of_orbits = len(cycle_decomp(pd_perm))\n",
    "            if num_of_orbits - N == 2:\n",
    "                hfk = pd_to_hfk(pd)\n",
    "                if hfk['fibered'] and hfk['seifert_genus'] > 0:\n",
    "                    hfk_data.append({'pd': pd, 'hfk': hfk})\n",
    "                    \n",
    "hfk_data_slim = [hfk_data[0]]\n",
    "for data in hfk_data:\n",
    "    not_dup = True\n",
    "    for other in hfk_data_slim:\n",
    "        if data['hfk'] == other['hfk']:\n",
    "            not_dup = False\n",
    "            #print(f\"{data}\\n{other}\\n\")\n",
    "    if not_dup:\n",
    "        hfk_data_slim.append(data)\n",
    "        \n",
    "for data in hfk_data_slim:\n",
    "#    print(f\"{data['pd']}\\n hfk: {data['hfk']['ranks']}, {data['hfk']['seifert_genus']}\\n\")\n",
    "    print(f\"{data['pd']}\\n hfk: {data['hfk']}\\n\")"
   ]
  },
  {
   "cell_type": "code",
   "execution_count": null,
   "id": "3ffe0e96-2e22-4474-b80c-0028b25f1ff2",
   "metadata": {},
   "outputs": [],
   "source": [
    "N = 5\n",
    "perm = (2,1,4,3,5)\n",
    "for i in range(N+1):\n",
    "    f_ind = perm.index(i)+1 if i != 0 else N+1\n",
    "    l_ind = perm.index(i+1)+1 if i != N else 0\n",
    "        \n",
    "    print(f\"{i, i+1} --> {f_ind, l_ind} --> {abs(f_ind-l_ind)-1}\")"
   ]
  },
  {
   "cell_type": "code",
   "execution_count": null,
   "id": "ead7a82e-1fc3-4885-a471-16a97960dbb1",
   "metadata": {
    "tags": []
   },
   "outputs": [],
   "source": [
    "#%%time\n",
    "\n",
    "N = 6\n",
    "\n",
    "def cross(x: int, y: int, sign: int):\n",
    "    if sign not in range(4): raise(ArgumentError) # signs are 0b00, 0b01, 0b10, 0b11\n",
    "    if (sign & 0b10):\n",
    "        ft, lt = (x, x%(2*N)+1), (y, y%(2*N)+1)\n",
    "    else:\n",
    "        ft, lt = (y, y%(2*N)+1), (x, x%(2*N)+1)\n",
    "    if (sign & 0b01):\n",
    "        pd = (ft[0], lt[0], ft[1], lt[1])\n",
    "    else:\n",
    "        pd = (ft[0], lt[1], ft[1], lt[0])\n",
    "    return pd    \n",
    "\n",
    "def screen_out(perm):\n",
    "    if (perm[0] == N) or (perm[N-1] == 1):\n",
    "        return True\n",
    "    else:\n",
    "        for i in range(N+1):\n",
    "            f_ind = perm.index(i)+1 if i != 0 else N+1\n",
    "            l_ind = perm.index(i+1)+1 if i != N else 0\n",
    "            if abs(f_ind-l_ind)%2 == 0:\n",
    "                return True\n",
    "    return False\n",
    "\n",
    "def calc_hfk(perm):\n",
    "    if screen_out(perm) is True:\n",
    "        return None\n",
    "    #---\n",
    "    #print(f\"NO, {perm}\\n\")\n",
    "    hfk_data = []\n",
    "    for signs in range(4**(N-1)): # dividing by 4 corresponds to giving the quatiant of the set of all signs w.r.t. reverting all signs at the same time\n",
    "        pd = [cross(N+1+i, perm[i], ((signs >> 2*i) & 0b11)) for i in range(N)]\n",
    "        cs = [Cycle([x-1 for x in tup], 2*N) for tup in pd]\n",
    "        pd_perm = reduce((lambda x,y: x*y), cs) #; print(f\"{pd_perm}\\n\\n\")\n",
    "        num_of_orbits = len(cycle_decomp(pd_perm))\n",
    "        if num_of_orbits - N == 2:\n",
    "            hfk = pd_to_hfk(pd)\n",
    "            if hfk['fibered'] and hfk['seifert_genus'] > 0:\n",
    "                hfk_data.append({'pd': pd, 'hfk': hfk})\n",
    "    return hfk_data\n",
    "\n",
    "hfk_data = []\n",
    "fct = math.factorial(N)\n",
    "with Pool(processes=8) as pool:\n",
    "    output = list(pool.imap(calc_hfk, permutations(range(1,N+1), N)))\n",
    "#    output = list(tqdm(pool.imap(calc_hfk, permutations(range(1, N+1), N)),\n",
    "#                       total=fct, desc='hfk calc'))\n",
    "    for v in output:\n",
    "        if v:\n",
    "            hfk_data += v\n",
    "\n",
    "hfk_data_slim = [hfk_data[0]]\n",
    "for data in hfk_data:\n",
    "    not_dup = True\n",
    "    for other in hfk_data_slim:\n",
    "        if data['hfk'] == other['hfk']:\n",
    "            not_dup = False\n",
    "            #print(f\"{data}\\n{other}\\n\")\n",
    "    if not_dup:\n",
    "        hfk_data_slim.append(data)\n",
    "        \n",
    "for data in hfk_data_slim:\n",
    "#    print(f\"{data['pd']}\\n hfk: {data['hfk']['ranks']}, {data['hfk']['seifert_genus']}\\n\")\n",
    "    print(f\"{data['pd']}\\n hfk: {data['hfk']}\\n\")    "
   ]
  },
  {
   "cell_type": "markdown",
   "id": "02e95c32-8182-4262-a6ad-dd0d62b5a9ec",
   "metadata": {},
   "source": [
    "# Creating PD-codes of knot diagrams with given crossing number"
   ]
  },
  {
   "cell_type": "code",
   "execution_count": 2,
   "id": "d02418e2-4e51-4f38-8769-de0550b44353",
   "metadata": {
    "tags": []
   },
   "outputs": [],
   "source": [
    "def cross(x: int, y: int, sign: int, N) -> tuple:\n",
    "    if sign not in range(4): raise(ArgumentError) # signs are 0b00, 0b01, 0b10, 0b11\n",
    "    if (sign & 0b10):\n",
    "        ft, lt = (x, x%(2*N)+1), (y, y%(2*N)+1)\n",
    "    else:\n",
    "        ft, lt = (y, y%(2*N)+1), (x, x%(2*N)+1)\n",
    "    if (sign & 0b01):\n",
    "        pd = (ft[0], lt[0], ft[1], lt[1])\n",
    "    else:\n",
    "        pd = (ft[0], lt[1], ft[1], lt[0])\n",
    "    return pd    \n",
    "\n",
    "def screen_out(dt: list, N) -> str:\n",
    "    # if there is a kink.\n",
    "    for p in dt:\n",
    "        if abs(p[0] - p[1]) in {1, 2*N-1}:\n",
    "            return 'kink'\n",
    "    # if it is not prime\n",
    "    def a(x):\n",
    "        kk = x if x%2==1 else [v for v in dt if v[1] == x][0][0]\n",
    "        return dt[int((kk-1)/2)][x%2]\n",
    "    for bnds in combinations(range(1,2*N), 2):\n",
    "        s = abs(bnds[0]-bnds[1])+1\n",
    "        if s%2 == 0 and s >= 6 and 2*N-s >= 6:\n",
    "            psi = set(range(min(bnds), max(bnds)+1))\n",
    "            phi = set(map(a, psi))\n",
    "            if psi == phi:\n",
    "                # print(dt, psi, phi)\n",
    "                return 'composite'\n",
    "    #---\n",
    "    # print(dt)\n",
    "    return None\n",
    "\n",
    "def get_DT(perm: list, N: int) -> tuple:\n",
    "    dt = [(2*k+1, 2*perm[k]) for k in range(N)]\n",
    "    #---\n",
    "    sc = screen_out(dt, N)\n",
    "    if sc: return dt, sc\n",
    "    #---\n",
    "    # - planarity check -\n",
    "    for signs in range(2**N):\n",
    "        slist = [2+(signs >> i & 1) for i in range(N)]\n",
    "        pd = [cross(dt[i][0], dt[i][1], slist[i], N) for i in range(N)]\n",
    "        cs = [Cycle([x-1 for x in tup], 2*N) for tup in pd]\n",
    "        pm = reduce((lambda x,y: x*y), cs)\n",
    "#        print(signs, slist, pd, cycle_decomp(pm))\n",
    "        if len(cycle_decomp(pm)) - N == 2:\n",
    "            return (dt, signs), 'realizable'\n",
    "    # print(dt, pm, cycle_decomp(pm))\n",
    "    return dt, 'non_planar'"
   ]
  },
  {
   "cell_type": "code",
   "execution_count": null,
   "id": "fd8a044b-f25d-4956-90fd-b252df58bd3f",
   "metadata": {},
   "outputs": [],
   "source": [
    "%%time\n",
    "\n",
    "N = 6\n",
    "counts = {'kink': 0, 'composite': 0, 'non_planar': 0, 'realizable': 0}\n",
    "\n",
    "def f(perm):\n",
    "    return get_DT(perm, N)\n",
    "\n",
    "with Pool(processes=6) as pool:\n",
    "    for v in pool.imap(f, permutations(range(1, N+1), N)):\n",
    "        # print(v)\n",
    "        counts[v[1]] += 1\n",
    "        if v[1] == 'realizable':\n",
    "            print(v[0])\n",
    "        \n",
    "print(counts)"
   ]
  },
  {
   "cell_type": "code",
   "execution_count": 3,
   "id": "691bacc2-c08f-4060-84ff-7676b09df3ad",
   "metadata": {},
   "outputs": [],
   "source": [
    "def get_PDs(dt: list, signs: int, N: int) -> list:\n",
    "    pd_list = []\n",
    "    for ud in range(1, 2**(N-1)):\n",
    "        pd = [cross(dt[i][0], dt[i][1], ((ud>>i&1)<<1) + (signs>>i&1), N) for i in range(N)]\n",
    "        pd_list.append(pd)\n",
    "    return pd_list"
   ]
  },
  {
   "cell_type": "code",
   "execution_count": 4,
   "id": "4b198634-df40-4c32-b569-d8ed4ee3f29d",
   "metadata": {
    "tags": []
   },
   "outputs": [],
   "source": [
    "def calc_hfk(perm) -> dict:\n",
    "    N = len(perm)\n",
    "    output = get_DT(perm, N)\n",
    "    if output[1] == 'realizable':\n",
    "        dt, signs = output[0]\n",
    "    else:\n",
    "        return None\n",
    "    pd_list = get_PDs(dt, signs, N)\n",
    "    lmd_dict = {}\n",
    "    for pd in pd_list:\n",
    "        hfk = pd_to_hfk(pd)\n",
    "        sg = hfk['seifert_genus']\n",
    "        if hfk['fibered'] and sg > 0:\n",
    "            ranks = hfk['ranks']\n",
    "            # print(ranks, sg)\n",
    "            for pg in ranks.keys():\n",
    "                if pg[0] == sg:\n",
    "                    lmd = pg[1]\n",
    "                # elif pg[0] == (-1)*sg:\n",
    "                #     lmd = (-1)*pg[1]\n",
    "            mlmd = 2*sg-lmd\n",
    "            if lmd < 0 or mlmd < 0:\n",
    "                print(pd)\n",
    "            else:\n",
    "                lmd_dict.setdefault(lmd, 0)\n",
    "                lmd_dict[lmd] += 1\n",
    "                lmd_dict.setdefault(mlmd, 0)\n",
    "                lmd_dict[mlmd] += 1\n",
    "                # print(pd, hfk)\n",
    "    return lmd_dict "
   ]
  },
  {
   "cell_type": "code",
   "execution_count": null,
   "id": "1860ea9f-28a6-4091-af9b-5f948186518f",
   "metadata": {
    "tags": []
   },
   "outputs": [
    {
     "data": {
      "application/vnd.jupyter.widget-view+json": {
       "model_id": "e4492f1660494b49a2375742e02e9067",
       "version_major": 2,
       "version_minor": 0
      },
      "text/plain": [
       "  0%|          | 0/25852016738884976640000 [00:00<?, ?it/s]"
      ]
     },
     "metadata": {},
     "output_type": "display_data"
    }
   ],
   "source": [
    "%%time\n",
    "\n",
    "N = 23\n",
    "COUNTS = {'kink': 0, 'composite': 0, 'non_planar': 0, 'realizable': 0}\n",
    "\n",
    "lmds = {}\n",
    "with Pool(processes=6) as pool:\n",
    "    for lmd_dict in tqdm(pool.imap(calc_hfk, permutations(range(1, N+1), N)), total=math.factorial(N)):\n",
    "        if lmd_dict:\n",
    "            COUNTS['realizable'] += 1\n",
    "            for lmd in lmd_dict.keys():\n",
    "                lmds.setdefault(lmd, 0)\n",
    "                lmds[lmd] += lmd_dict[lmd]\n",
    "        if COUNTS['realizable'] == 3:\n",
    "            break\n",
    "\n",
    "lmds_sorted = sorted(lmds.items(), key=lambda x:x[0])\n",
    "print(lmds_sorted)"
   ]
  },
  {
   "cell_type": "markdown",
   "id": "7d58357f-cac4-4e8d-bed6-7065ce199ce7",
   "metadata": {},
   "source": [
    "# scratch"
   ]
  },
  {
   "cell_type": "code",
   "execution_count": null,
   "id": "c6c04896-5740-4353-9395-05431af21ce3",
   "metadata": {
    "tags": []
   },
   "outputs": [],
   "source": [
    "%%time\n",
    "\n",
    "N = 6\n",
    "\n",
    "with Pool(processes=6) as pool:\n",
    "    output = list(pool.imap(calc_hfk, \n",
    "                            tqdm(\n",
    "                                permutations(range(1, N+1), N),\n",
    "                            total=math.factorial(N))\n",
    "                           ))\n",
    "\n",
    "lmd_dict_merged = {}\n",
    "for dic in output:\n",
    "    if dic:\n",
    "        for lmd in dic.keys():\n",
    "            lmd_dict_merged.setdefault(lmd, 0)\n",
    "            lmd_dict_merged[lmd] += dic[lmd]\n",
    "            \n",
    "print(lmd_dict_merged)"
   ]
  },
  {
   "cell_type": "code",
   "execution_count": null,
   "id": "5aab8d1f-872d-474d-8610-776b1c199934",
   "metadata": {},
   "outputs": [],
   "source": []
  },
  {
   "cell_type": "markdown",
   "id": "8a2642b1-4295-45dc-8aa6-aa2c607abf20",
   "metadata": {},
   "source": [
    "{1: 12, 0: 28, 2: 28, 3: 4, 4: 8}\n",
    "\n",
    "805 ms ± 28.9 ms per loop (mean ± std. dev. of 7 runs, 1 loop each)"
   ]
  }
 ],
 "metadata": {
  "kernelspec": {
   "display_name": "Python 3",
   "language": "python",
   "name": "python3"
  },
  "language_info": {
   "codemirror_mode": {
    "name": "ipython",
    "version": 3
   },
   "file_extension": ".py",
   "mimetype": "text/x-python",
   "name": "python",
   "nbconvert_exporter": "python",
   "pygments_lexer": "ipython3",
   "version": "3.6.8"
  }
 },
 "nbformat": 4,
 "nbformat_minor": 5
}
