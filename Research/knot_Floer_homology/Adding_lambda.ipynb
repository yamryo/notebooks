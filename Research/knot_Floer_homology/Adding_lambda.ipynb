{
 "cells": [
  {
   "cell_type": "markdown",
   "id": "ce00c133-69a0-4819-b989-c7094b6814eb",
   "metadata": {
    "jp-MarkdownHeadingCollapsed": true
   },
   "source": [
    "# Libraries"
   ]
  },
  {
   "cell_type": "code",
   "execution_count": null,
   "id": "39e4666d-0046-48ca-addc-b52e45c879b3",
   "metadata": {},
   "outputs": [],
   "source": [
    "import random\n",
    "import re\n",
    "import ast\n",
    "from tqdm.notebook import tqdm\n",
    "\n",
    "import math\n",
    "import numpy as np\n",
    "import pandas as pd\n",
    "# ----- Debugger -----\n",
    "# from IPython.core.debugger import Pdb; Pdb().set_trace()\n",
    "\n",
    "# from knot_floer_homology import *\n",
    "# help(pd_to_hfk)"
   ]
  },
  {
   "cell_type": "markdown",
   "id": "782b6f71-f4cb-4a7c-af44-458cf2528365",
   "metadata": {},
   "source": [
    "# Add a column for the lambda invariant"
   ]
  },
  {
   "cell_type": "code",
   "execution_count": null,
   "id": "5dd6429f-b229-4545-be3b-e7bbc245f46d",
   "metadata": {},
   "outputs": [],
   "source": [
    "cr_rng = range(15,16)\n",
    "filename = f\"./data/hfk_{cr_rng}.csv\"\n",
    "DF = pd.read_csv(filename).set_index('Name')\n",
    "#----------\n",
    "for col_name in ['total_rank', 'ranks', 'seifert_genus', 'fibered']:\n",
    "    col = DF[col_name]\n",
    "    DF = DF.drop(col_name, axis=1)\n",
    "    DF.insert(0, col_name, col)\n",
    "#----------\n",
    "DF = DF.drop('lambda', axis=1) if 'lambda' in DF.columns else DF\n",
    "DF.insert(1, 'lambda', pd.NA)\n",
    "DF['lambda'] = DF['lambda'].astype('Int64')\n",
    "\n",
    "count = 0\n",
    "for name, row in tqdm(DF.iterrows(), total=len(DF)):\n",
    "    if row['fibered']:\n",
    "        count +=1\n",
    "        sg = row['seifert_genus']\n",
    "        ranks = ast.literal_eval(row['ranks'])\n",
    "        for pg in ranks.keys():\n",
    "            if pg[0] == sg:\n",
    "                DF.loc[name, 'lambda'] = pg[1]\n",
    "\n",
    "DF.to_csv(filename, mode='w', na_rep='NaN')"
   ]
  }
 ],
 "metadata": {
  "kernelspec": {
   "display_name": "Python 3 (ipykernel)",
   "language": "python",
   "name": "python3"
  },
  "language_info": {
   "codemirror_mode": {
    "name": "ipython",
    "version": 3
   },
   "file_extension": ".py",
   "mimetype": "text/x-python",
   "name": "python",
   "nbconvert_exporter": "python",
   "pygments_lexer": "ipython3",
   "version": "3.12.3"
  }
 },
 "nbformat": 4,
 "nbformat_minor": 5
}
