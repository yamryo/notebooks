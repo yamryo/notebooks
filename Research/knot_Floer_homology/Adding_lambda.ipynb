{
 "cells": [
  {
   "cell_type": "markdown",
   "id": "ce00c133-69a0-4819-b989-c7094b6814eb",
   "metadata": {},
   "source": [
    "# Libraries"
   ]
  },
  {
   "cell_type": "code",
   "execution_count": 2,
   "id": "39e4666d-0046-48ca-addc-b52e45c879b3",
   "metadata": {},
   "outputs": [],
   "source": [
    "import random\n",
    "import re\n",
    "import ast\n",
    "from tqdm.notebook import tqdm\n",
    "\n",
    "import math\n",
    "import numpy as np\n",
    "import pandas as pd\n",
    "# ----- Debugger -----\n",
    "# from IPython.core.debugger import Pdb; Pdb().set_trace()\n",
    "\n",
    "# from knot_floer_homology import *\n",
    "# help(pd_to_hfk)"
   ]
  },
  {
   "cell_type": "markdown",
   "id": "782b6f71-f4cb-4a7c-af44-458cf2528365",
   "metadata": {},
   "source": [
    "# Add a column for the lambda invariant"
   ]
  },
  {
   "cell_type": "code",
   "execution_count": 10,
   "id": "2f6e8aa0-6870-4a54-8acc-06496f5f074f",
   "metadata": {},
   "outputs": [
    {
     "data": {
      "text/plain": [
       "True"
      ]
     },
     "execution_count": 10,
     "metadata": {},
     "output_type": "execute_result"
    }
   ],
   "source": [
    "'fibered' in DF.columns"
   ]
  },
  {
   "cell_type": "code",
   "execution_count": null,
   "id": "5dd6429f-b229-4545-be3b-e7bbc245f46d",
   "metadata": {},
   "outputs": [
    {
     "data": {
      "application/vnd.jupyter.widget-view+json": {
       "model_id": "6038e37d9066462f9bc240d48f0e0d58",
       "version_major": 2,
       "version_minor": 0
      },
      "text/plain": [
       "  0%|          | 0/1388705 [00:00<?, ?it/s]"
      ]
     },
     "metadata": {},
     "output_type": "display_data"
    }
   ],
   "source": [
    "cr_rng = range(16,17)\n",
    "filename = f\"./data/hfk_{cr_rng}.csv\"\n",
    "DF = pd.read_csv(filename).set_index('Name')\n",
    "#----------\n",
    "for col_name in ['total_rank', 'ranks', 'seifert_genus', 'fibered', 'lambda', 'lmd']:\n",
    "    if not col_name in {'lambda', 'lmd'}:\n",
    "        col = DF[col_name]\n",
    "        DF = DF.drop(col_name, axis=1)\n",
    "        DF.insert(0, col_name, col)\n",
    "    else:\n",
    "        if col_name in DF.columns:\n",
    "            DF = DF.drop(col_name, axis=1)   \n",
    "#----------\n",
    "DF.insert(1, 'lmd', pd.NA)\n",
    "DF['lmd'] = DF['lmd'] #.astype('Int64')\n",
    "\n",
    "count = 0\n",
    "for name, row in tqdm(DF.iterrows(), total=len(DF)):\n",
    "    if row['fibered']:\n",
    "        count +=1\n",
    "        sg = row['seifert_genus']\n",
    "        ranks = ast.literal_eval(row['ranks'])\n",
    "        lmd = []\n",
    "        for pg in ranks.keys():\n",
    "            if pg[0] == sg:\n",
    "                lmd.append(pg[1])\n",
    "            elif pg[0] == (-1)*sg:\n",
    "                lmd.append((-1)*pg[1])\n",
    "        DF.loc[name, 'lmd'] = f\"{lmd}\"\n",
    "\n",
    "DF.to_csv(filename, mode='w', na_rep='NaN')"
   ]
  },
  {
   "cell_type": "code",
   "execution_count": null,
   "id": "ca32337c-a4ae-4c14-a3ef-469b90c961db",
   "metadata": {},
   "outputs": [],
   "source": []
  }
 ],
 "metadata": {
  "kernelspec": {
   "display_name": "Python 3 (ipykernel)",
   "language": "python",
   "name": "python3"
  },
  "language_info": {
   "codemirror_mode": {
    "name": "ipython",
    "version": 3
   },
   "file_extension": ".py",
   "mimetype": "text/x-python",
   "name": "python",
   "nbconvert_exporter": "python",
   "pygments_lexer": "ipython3",
   "version": "3.12.3"
  }
 },
 "nbformat": 4,
 "nbformat_minor": 5
}
