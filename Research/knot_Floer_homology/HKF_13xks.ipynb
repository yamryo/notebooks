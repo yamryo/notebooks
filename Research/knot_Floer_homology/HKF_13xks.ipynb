{
 "cells": [
  {
   "cell_type": "code",
   "execution_count": null,
   "id": "0d068d61-1c5a-49bb-a307-9b7e182bd4ac",
   "metadata": {
    "tags": []
   },
   "outputs": [],
   "source": [
    "import sys; sys.path.append(\"../modules\")\n",
    "import random\n",
    "\n",
    "import numpy as np\n",
    "import sympy; sympy.init_printing()\n",
    "\n",
    "import Permutations as pm\n",
    "from Grid import *\n",
    "\n",
    "from tqdm.notebook import tqdm\n",
    "# ----- Debugger -----\n",
    "# from IPython.core.debugger import Pdb; Pdb().set_trace()\n",
    "\n",
    "from knot_floer_homology import *\n",
    "help(pd_to_hfk)"
   ]
  },
  {
   "cell_type": "code",
   "execution_count": null,
   "id": "55c4e89a-db19-4517-99b8-48fb0afe87cf",
   "metadata": {},
   "outputs": [],
   "source": [
    "import csv\n",
    "import ast\n",
    "\n",
    "knots_data = [] # a list of dicts which has keys 'Name', 'PD Notation', 'Rasmussen s', Ozsvath-Szabo tau', 'L-space', 'Nu' and 'Epsilon'.\n",
    "\n",
    "with open('knotinfo.csv', 'r') as f:\n",
    "    dataReader = csv.reader(f)\n",
    "    keys = next(dataReader)\n",
    "    for row in dataReader:\n",
    "        knot_dict = {}\n",
    "        for col in range(len(row)):\n",
    "            key = keys[col]\n",
    "            if key == \"PD Notation\":\n",
    "                key = 'PD'\n",
    "                value = [tuple(l) for l in ast.literal_eval(row[col].translate(str.maketrans({';': ','})))]\n",
    "            else:\n",
    "                value = row[col]\n",
    "            knot_dict[key] = value\n",
    "        knots_data.append(knot_dict)\n",
    "            \n",
    "print(knots_data[1])"
   ]
  },
  {
   "cell_type": "code",
   "execution_count": null,
   "id": "834aa85c-b442-4497-b9c6-adb7caa12931",
   "metadata": {},
   "outputs": [],
   "source": [
    "KD = knots_data[999]\n",
    "\n",
    "#print(\"[{}] -->  L-space: {}, Nu: {}\".format(KD['Name'], KD['L-space'], KD['Nu']))\n",
    "print({k: v for k,v in KD.items() if k != 'PD'})\n",
    "\n",
    "pd_to_hfk(KD['PD'])"
   ]
  },
  {
   "cell_type": "code",
   "execution_count": null,
   "id": "b17cce30-308c-4a4a-a4ba-4eef5f616ea9",
   "metadata": {},
   "outputs": [],
   "source": [
    "for kd in tqdm(knots_data):\n",
    "    knotinfo_ep = ast.literal_eval(kd['Ozsvath-Szabo tau'])\n",
    "    result = pd_to_hfk(kd['PD'])\n",
    "    calculated_ep = result['tau']\n",
    "    if knotinfo_ep != calculated_ep:\n",
    "        #print(\"Different!!\")\n",
    "        print(kd)\n",
    "        print(result)\n",
    "        exit"
   ]
  },
  {
   "cell_type": "code",
   "execution_count": null,
   "id": "46b9726e-b20b-4929-9561-3e0454b0e0b0",
   "metadata": {},
   "outputs": [],
   "source": [
    "import os\n",
    "import multiprocessing\n",
    "\n",
    "MAX_COUNT = 100000000\n",
    "ITERATION = 50000000\n",
    "\n",
    "def whoami(what):\n",
    "    #単純な加算\n",
    "    count = 0\n",
    "    for n in range(MAX_COUNT):\n",
    "        if count % ITERATION ==0:\n",
    "            #実行中のプロセスIDと,現在のcount数を表示\n",
    "            print(\"{} Process {} count {}\".format(what,os.getpid(),count))\n",
    "        count +=1\n",
    "    #どのIDのプロセスが終了したかを表示\n",
    "    print(\"end {} Process {}\".format(what,os.getpid()))\n",
    "#現在のプロセスのidを表示\n",
    "print(\"Main Process ID is {}\".format(os.getpid()))\n",
    "#メインのプロセスで実行\n",
    "whoami(\"main program\")\n",
    "\n",
    "print(\"-----------------------------------------------------\")\n",
    "#プロセスを10作りスタートさせる.\n",
    "for n in range(10):\n",
    "    p = multiprocessing.Process(target=whoami,args=(\"Process {}\".format(n),))\n",
    "    p.start()\n",
    "print(\"end of program\")\n",
    "\n"
   ]
  },
  {
   "cell_type": "code",
   "execution_count": null,
   "id": "532476f0-5ec2-445c-aa3f-2d46fc701b78",
   "metadata": {},
   "outputs": [],
   "source": []
  }
 ],
 "metadata": {
  "kernelspec": {
   "display_name": "Python 3 (ipykernel)",
   "language": "python",
   "name": "python3"
  },
  "language_info": {
   "codemirror_mode": {
    "name": "ipython",
    "version": 3
   },
   "file_extension": ".py",
   "mimetype": "text/x-python",
   "name": "python",
   "nbconvert_exporter": "python",
   "pygments_lexer": "ipython3",
   "version": "3.11.8"
  }
 },
 "nbformat": 4,
 "nbformat_minor": 5
}
