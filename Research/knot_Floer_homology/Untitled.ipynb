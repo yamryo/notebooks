{
 "cells": [
  {
   "cell_type": "code",
   "execution_count": null,
   "id": "276529b8-e981-43c7-a5a2-2e1aa3d72779",
   "metadata": {},
   "outputs": [],
   "source": [
    "import random\n",
    "import re\n",
    "import itertools\n",
    "import sympy\n",
    "sympy.init_printing()\n",
    "\n",
    "import sys; sys.path.append(\"../modules\")\n",
    "from Permutation import *\n",
    "\n",
    "# import pandas as pd\n",
    "# from tqdm.notebook import tqdm\n",
    "# ----- Debugger -----\n",
    "# from IPython.core.debugger import Pdb; Pdb().set_trace()\n",
    "\n",
    "from knot_floer_homology import *\n",
    "#help(pd_to_hfk)"
   ]
  },
  {
   "cell_type": "code",
   "execution_count": null,
   "id": "3d0df593-dd0a-41d1-bd7c-5f1706947aec",
   "metadata": {},
   "outputs": [],
   "source": [
    "img = cs[0].act(list(range(5))); print(img, cs[0].image)\n",
    "\n",
    "im = [cs[0].act(i) for i in range(5)]; print(im)"
   ]
  },
  {
   "cell_type": "markdown",
   "id": "4af9b175-5baf-4ebd-9ed2-347141f034f6",
   "metadata": {},
   "source": [
    "## scratch"
   ]
  },
  {
   "cell_type": "code",
   "execution_count": null,
   "id": "ac02066b-a505-4fb8-9e8b-09ed5c94936b",
   "metadata": {},
   "outputs": [],
   "source": [
    "hfk = pd_to_hfk([[1,5,2,4],[3,1,4,6],[5,3,6,2]])\n",
    "print(f\"{hfk}\")"
   ]
  },
  {
   "cell_type": "code",
   "execution_count": null,
   "id": "cbb61851-35e6-49fc-982b-e673c56837bb",
   "metadata": {},
   "outputs": [],
   "source": [
    "hfk = pd_to_hfk([[1,4,2,5],[3,1,4,6],[5,3,6,2]])\n",
    "print(f\"{hfk}\")"
   ]
  },
  {
   "cell_type": "code",
   "execution_count": null,
   "id": "417b7453-030c-4d85-b6b6-d8f3f0e68301",
   "metadata": {},
   "outputs": [],
   "source": [
    "hfk = pd_to_hfk([[1,5,2,4],[5,2,6,3],[3,1,4,6]])\n",
    "print(f\"{hfk}\")"
   ]
  },
  {
   "cell_type": "code",
   "execution_count": null,
   "id": "52b6f911-1166-4705-98fd-07ed707d3ce7",
   "metadata": {},
   "outputs": [],
   "source": [
    "[bin(x) for x in range(2**3)]"
   ]
  },
  {
   "cell_type": "code",
   "execution_count": null,
   "id": "97e02f15-6d38-4619-a2df-3e40a0e510ca",
   "metadata": {},
   "outputs": [],
   "source": [
    "k= 6\n",
    "for i in range(3):\n",
    "    flag = bin(k & 2**i)\n",
    "    print(flag)"
   ]
  },
  {
   "cell_type": "code",
   "execution_count": null,
   "id": "9f2e9d5e-2f8a-460a-a029-891b8bb297ec",
   "metadata": {},
   "outputs": [],
   "source": [
    "N = 3\n",
    "pd_list = []\n",
    "\n",
    "cross = lambda x,y,e: (x, y, x%(2*N)+1, y%(2*N)+1) if e == 0 else (x, y%(2*N)+1, x%(2*N)+1, y)\n",
    "\n",
    "for perm in itertools.permutations(range(N+1,2*N+1), N): # iteratation on permutations on {N+1, ... ,2*N+1} \n",
    "    if (perm[0] != 2*N) and (perm[N-1] != N+1):\n",
    "        for sign_bits in range(2**N):\n",
    "            pd_list.append([cross(i, perm[i-1], bin(sign_bits & 2**i)) for i in range(1,N+1)])\n",
    "            pd_list.append([cross(perm[i-1], i, bin(sign_bits & 2**i)) for i in range(1,N+1)])\n",
    "        \n",
    "            print(perm, bin(sign_bits))\n",
    "            print(pd_list[-2],pd_list[-1])\n",
    "            print(\"\\n\")\n",
    "            \n",
    "#print(f\"pd_lists={pd_list}\")\n",
    "print(len(pd_list))\n",
    "#display(pd_list)"
   ]
  },
  {
   "cell_type": "code",
   "execution_count": null,
   "id": "7a859220-7ea3-4d6b-850c-00a173f0055e",
   "metadata": {},
   "outputs": [],
   "source": [
    "for pd in pd_list:\n",
    "    print(pd)\n",
    "    cs = [Cycle([x-1 for x in tup], 6) for tup in pd]\n",
    "# print(cs)\n",
    "# print(cs[0].image, cs[1].act(cs[0].image))\n",
    "# cs[2].act(cs[1].act(cs[0].image))\n",
    "\n",
    "    pd_perm = cs[2]*cs[1]*cs[0]\n",
    "    display(pd_perm)\n",
    "    print(cycle_decomp(pd_perm))\n",
    "    print(\"\\n\")"
   ]
  },
  {
   "cell_type": "code",
   "execution_count": null,
   "id": "a08b07c2-58b7-4c5b-b3c7-7d8a56eebde7",
   "metadata": {},
   "outputs": [],
   "source": [
    "pd = [tuple(x-1 for x in pd) for pd in pd_lists[1]]; print(pd)\n",
    "\n",
    "perm = Cycle(list(pd[1])) #*Cycle(list(pd[2]))\n",
    "display(perm.two_line())\n",
    "print(cycle_decomp(perm))"
   ]
  },
  {
   "cell_type": "code",
   "execution_count": null,
   "id": "a81dad97-a50d-40fd-ba1a-e356d9c7a146",
   "metadata": {},
   "outputs": [],
   "source": [
    "print(cs[0], cs[0].image)\n",
    "\n",
    "print(cs[1]*cs[0], (cs[1]*cs[0]).image)"
   ]
  }
 ],
 "metadata": {
  "kernelspec": {
   "display_name": "Python 3",
   "language": "python",
   "name": "python3"
  },
  "language_info": {
   "codemirror_mode": {
    "name": "ipython",
    "version": 3
   },
   "file_extension": ".py",
   "mimetype": "text/x-python",
   "name": "python",
   "nbconvert_exporter": "python",
   "pygments_lexer": "ipython3",
   "version": "3.6.8"
  }
 },
 "nbformat": 4,
 "nbformat_minor": 5
}
