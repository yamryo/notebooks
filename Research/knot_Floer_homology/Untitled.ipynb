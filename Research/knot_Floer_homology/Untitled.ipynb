{
 "cells": [
  {
   "cell_type": "code",
   "execution_count": null,
   "id": "276529b8-e981-43c7-a5a2-2e1aa3d72779",
   "metadata": {},
   "outputs": [],
   "source": [
    "import math\n",
    "#import random\n",
    "#import re\n",
    "from functools import reduce\n",
    "from itertools import permutations\n",
    "#import sympy\n",
    "#sympy.init_printing()\n",
    "\n",
    "import sys; sys.path.append(\"../modules\")\n",
    "from Permutation import *\n",
    "\n",
    "# import pandas as pd\n",
    "from tqdm.notebook import tqdm\n",
    "# ----- Debugger -----\n",
    "# from IPython.core.debugger import Pdb; Pdb().set_trace()\n",
    "\n",
    "from knot_floer_homology import *\n",
    "#help(pd_to_hfk)"
   ]
  },
  {
   "cell_type": "markdown",
   "id": "50d250c9-330e-46c7-9f29-92b65d48a07f",
   "metadata": {},
   "source": [
    "## Creating PD-codes for knots with given crossing number"
   ]
  },
  {
   "cell_type": "code",
   "execution_count": null,
   "id": "fcea180b-2e89-4c07-bdf2-bfd8f1ff545d",
   "metadata": {},
   "outputs": [],
   "source": [
    "for a in range(4):\n",
    "    print(f\"{a} --> {bin(a & 0b01), bin(a & 0b10), bool(a & 0b01), bool(a & 0b10)}\")\n",
    "    print('ON' if a & 0b01 else 'OFF', 'ON' if a & 0b10 else 'OFF')\n",
    "    print(a not in range(4))"
   ]
  },
  {
   "cell_type": "code",
   "execution_count": null,
   "id": "232e9419-cf36-40be-a844-6585e9abd1a2",
   "metadata": {},
   "outputs": [],
   "source": [
    "b = 2**2+2**1+2**0; print(bin(b))\n",
    "\n",
    "for i in range(3):\n",
    "    print(bin(b & 2**i))"
   ]
  },
  {
   "cell_type": "code",
   "execution_count": null,
   "id": "724c4f28-b09a-4307-ac98-83c86636efd1",
   "metadata": {
    "scrolled": true
   },
   "outputs": [],
   "source": [
    "for sign_bits in range(4**3):\n",
    "    print(f\"{sign_bits:#08b} --> {[((sign_bits >> 2*i) & 0b11) for i in range(3)]}\")"
   ]
  },
  {
   "cell_type": "code",
   "execution_count": null,
   "id": "9f2e9d5e-2f8a-460a-a029-891b8bb297ec",
   "metadata": {},
   "outputs": [],
   "source": [
    "N = 6\n",
    "pd_list = []\n",
    "\n",
    "def cross(x: int, y: int, sign: int):\n",
    "    if sign not in range(4): raise(ArgumentError) # signs are 0b00, 0b01, 0b10, 0b11\n",
    "    if (sign & 0b10):\n",
    "        ft, lt = (x, x%(2*N)+1), (y, y%(2*N)+1)\n",
    "    else:\n",
    "        ft, lt = (y, y%(2*N)+1), (x, x%(2*N)+1)\n",
    "    if (sign & 0b01):\n",
    "        pd = (ft[0], lt[0], ft[1], lt[1])\n",
    "    else:\n",
    "        pd = (ft[0], lt[1], ft[1], lt[0])\n",
    "    return pd    \n",
    "\n",
    "for perm in tqdm(permutations(range(N+1,2*N+1), N), total=math.factorial(N)): # iteratation on permutations on {N+1, ... ,2*N+1} \n",
    "    if (perm[0] != 2*N) and (perm[N-1] != N+1):\n",
    "        for signs in range(2**(2*N-1)):\n",
    "            pd = [cross(i+1, perm[i], ((signs >> 2*i) & 0b11)) for i in range(N)]\n",
    "#            print(pd)\n",
    "            cs = [Cycle([x-1 for x in tup], 2*N) for tup in pd]\n",
    "            pd_perm = reduce((lambda x,y: x*y), cs)\n",
    "            num_of_orbits = len(cycle_decomp(pd_perm))\n",
    "            if num_of_orbits - N == 2:\n",
    "#                pd_list.append(pd)\n",
    "                hfk = pd_to_hfk(pd)\n",
    "                if hfk['fibered'] and hfk['seifert_genus'] > 0:\n",
    "                    print(f\"{pd=}\\n hfk: {hfk['ranks']}, {hfk['seifert_genus']}\\n\")\n",
    "                    \n",
    "#print(\"\\n\")\n",
    "#for pd in pd_list:\n",
    "#    print(f\"{pd}\")\n",
    "#print(len(pd_list))"
   ]
  },
  {
   "cell_type": "markdown",
   "id": "4af9b175-5baf-4ebd-9ed2-347141f034f6",
   "metadata": {},
   "source": [
    "## scratch"
   ]
  },
  {
   "cell_type": "code",
   "execution_count": null,
   "id": "ac02066b-a505-4fb8-9e8b-09ed5c94936b",
   "metadata": {},
   "outputs": [],
   "source": [
    "hfk = pd_to_hfk([[1,5,2,4],[5,3,6,2],[3,1,4,6]])\n",
    "print(f\"{hfk}\")"
   ]
  },
  {
   "cell_type": "code",
   "execution_count": null,
   "id": "cbb61851-35e6-49fc-982b-e673c56837bb",
   "metadata": {},
   "outputs": [],
   "source": [
    "hfk = pd_to_hfk([[1,4,2,5],[3,1,4,6],[5,3,6,2]])\n",
    "print(f\"{hfk}\")"
   ]
  },
  {
   "cell_type": "code",
   "execution_count": null,
   "id": "417b7453-030c-4d85-b6b6-d8f3f0e68301",
   "metadata": {},
   "outputs": [],
   "source": [
    "hfk = pd_to_hfk([[1,5,2,4],[5,2,6,3],[3,1,4,6]])\n",
    "print(f\"{hfk}\")"
   ]
  },
  {
   "cell_type": "code",
   "execution_count": null,
   "id": "52b6f911-1166-4705-98fd-07ed707d3ce7",
   "metadata": {},
   "outputs": [],
   "source": [
    "[bin(x) for x in range(2**3)]"
   ]
  },
  {
   "cell_type": "code",
   "execution_count": null,
   "id": "97e02f15-6d38-4619-a2df-3e40a0e510ca",
   "metadata": {},
   "outputs": [],
   "source": [
    "k= 6\n",
    "for i in range(3):\n",
    "    flag = bin(k & 2**i)\n",
    "    print(flag)"
   ]
  },
  {
   "cell_type": "code",
   "execution_count": null,
   "id": "a81dad97-a50d-40fd-ba1a-e356d9c7a146",
   "metadata": {},
   "outputs": [],
   "source": [
    "print(cs[0], cs[0].image)\n",
    "\n",
    "print(cs[1]*cs[0], (cs[1]*cs[0]).image)"
   ]
  }
 ],
 "metadata": {
  "kernelspec": {
   "display_name": "Python 3 (ipykernel)",
   "language": "python",
   "name": "python3"
  },
  "language_info": {
   "codemirror_mode": {
    "name": "ipython",
    "version": 3
   },
   "file_extension": ".py",
   "mimetype": "text/x-python",
   "name": "python",
   "nbconvert_exporter": "python",
   "pygments_lexer": "ipython3",
   "version": "3.12.3"
  }
 },
 "nbformat": 4,
 "nbformat_minor": 5
}
