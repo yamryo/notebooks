{
 "cells": [
  {
   "cell_type": "code",
   "execution_count": null,
   "id": "276529b8-e981-43c7-a5a2-2e1aa3d72779",
   "metadata": {},
   "outputs": [],
   "source": [
    "import random\n",
    "import re\n",
    "from functools import reduce\n",
    "from itertools import permutations\n",
    "import sympy\n",
    "sympy.init_printing()\n",
    "\n",
    "import sys; sys.path.append(\"../modules\")\n",
    "from Permutation import *\n",
    "\n",
    "# import pandas as pd\n",
    "# from tqdm.notebook import tqdm\n",
    "# ----- Debugger -----\n",
    "# from IPython.core.debugger import Pdb; Pdb().set_trace()\n",
    "\n",
    "from knot_floer_homology import *\n",
    "#help(pd_to_hfk)"
   ]
  },
  {
   "cell_type": "markdown",
   "id": "50d250c9-330e-46c7-9f29-92b65d48a07f",
   "metadata": {},
   "source": [
    "## Creating PD-codes for knots with given crossing number"
   ]
  },
  {
   "cell_type": "code",
   "execution_count": null,
   "id": "9f2e9d5e-2f8a-460a-a029-891b8bb297ec",
   "metadata": {},
   "outputs": [],
   "source": [
    "N = 3\n",
    "pd_list = []\n",
    "\n",
    "cross = lambda x,y,tof: (x, y, x%(2*N)+1, y%(2*N)+1) if tof else (x, y%(2*N)+1, x%(2*N)+1, y)\n",
    "\n",
    "for perm in permutations(range(N+1,2*N+1), N): # iteratation on permutations on {N+1, ... ,2*N+1} \n",
    "    if (perm[0] != 2*N) and (perm[N-1] != N+1):\n",
    "        for sign_bits in range(2**N):\n",
    "            pda = [cross(i+1, perm[i], bin(sign_bits & 2**i)==bin(0)) for i in range(N)]\n",
    "            pdb = [cross(perm[i], i+1, bin(sign_bits & 2**i)==bin(0)) for i in range(N)]\n",
    "#            print(f\"{perm}, {sign_bits} --> {pda,pdb}\")\n",
    "            for pd in [pda, pdb]:\n",
    "                cs = [Cycle([x-1 for x in tup], 2*N) for tup in pd]\n",
    "                pd_perm = reduce((lambda x,y: x*y), cs)\n",
    "                num_of_orbits = len(cycle_decomp(pd_perm))\n",
    "#                print(f\"{pd} --> {num_of_orbits}\")\n",
    "\n",
    "                if num_of_orbits - N == 2:\n",
    "                    pd_list.append(pd)\n",
    "                    \n",
    "#print(\"\\n\")\n",
    "for pd in pd_list:\n",
    "    print(f\"{pd}\")\n",
    "print(len(pd_list))\n",
    "#display(pd_list)"
   ]
  },
  {
   "cell_type": "code",
   "execution_count": null,
   "id": "484e3e7a-57fa-45cb-8c17-f6a7b7155851",
   "metadata": {},
   "outputs": [],
   "source": [
    "#[[4,2,5,1],[8,6,1,5],[6,3,7,4],[2,7,3,8]]\n",
    "\n",
    "pd = pd_list[0]\n",
    "cs = [Cycle([x-1 for x in tup], 2*N) for tup in pd]\n",
    "prod = reduce((lambda x,y: x*y), cs) \n",
    "print(prod, cycle_decomp(prod))"
   ]
  },
  {
   "cell_type": "markdown",
   "id": "4af9b175-5baf-4ebd-9ed2-347141f034f6",
   "metadata": {},
   "source": [
    "## scratch"
   ]
  },
  {
   "cell_type": "code",
   "execution_count": null,
   "id": "ac02066b-a505-4fb8-9e8b-09ed5c94936b",
   "metadata": {},
   "outputs": [],
   "source": [
    "hfk = pd_to_hfk([[1,5,2,4],[3,1,4,6],[5,3,6,2]])\n",
    "print(f\"{hfk}\")"
   ]
  },
  {
   "cell_type": "code",
   "execution_count": null,
   "id": "cbb61851-35e6-49fc-982b-e673c56837bb",
   "metadata": {},
   "outputs": [],
   "source": [
    "hfk = pd_to_hfk([[1,4,2,5],[3,1,4,6],[5,3,6,2]])\n",
    "print(f\"{hfk}\")"
   ]
  },
  {
   "cell_type": "code",
   "execution_count": null,
   "id": "417b7453-030c-4d85-b6b6-d8f3f0e68301",
   "metadata": {},
   "outputs": [],
   "source": [
    "hfk = pd_to_hfk([[1,5,2,4],[5,2,6,3],[3,1,4,6]])\n",
    "print(f\"{hfk}\")"
   ]
  },
  {
   "cell_type": "code",
   "execution_count": null,
   "id": "52b6f911-1166-4705-98fd-07ed707d3ce7",
   "metadata": {},
   "outputs": [],
   "source": [
    "[bin(x) for x in range(2**3)]"
   ]
  },
  {
   "cell_type": "code",
   "execution_count": null,
   "id": "97e02f15-6d38-4619-a2df-3e40a0e510ca",
   "metadata": {},
   "outputs": [],
   "source": [
    "k= 6\n",
    "for i in range(3):\n",
    "    flag = bin(k & 2**i)\n",
    "    print(flag)"
   ]
  },
  {
   "cell_type": "code",
   "execution_count": null,
   "id": "a81dad97-a50d-40fd-ba1a-e356d9c7a146",
   "metadata": {},
   "outputs": [],
   "source": [
    "print(cs[0], cs[0].image)\n",
    "\n",
    "print(cs[1]*cs[0], (cs[1]*cs[0]).image)"
   ]
  }
 ],
 "metadata": {
  "kernelspec": {
   "display_name": "Python 3 (ipykernel)",
   "language": "python",
   "name": "python3"
  },
  "language_info": {
   "codemirror_mode": {
    "name": "ipython",
    "version": 3
   },
   "file_extension": ".py",
   "mimetype": "text/x-python",
   "name": "python",
   "nbconvert_exporter": "python",
   "pygments_lexer": "ipython3",
   "version": "3.12.3"
  }
 },
 "nbformat": 4,
 "nbformat_minor": 5
}
