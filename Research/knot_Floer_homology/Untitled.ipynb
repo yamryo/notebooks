{
 "cells": [
  {
   "cell_type": "markdown",
   "id": "3fd5bc62-b9cb-4507-9696-30eafd61faf6",
   "metadata": {},
   "source": [
    "# Calculations in $\\frac{\\mathbb{Z}[t]}{(|tI -M_{1}|)}$"
   ]
  },
  {
   "cell_type": "markdown",
   "id": "3fb6d11e-a912-4e2d-aac6-10744a59d2e3",
   "metadata": {
    "id": "KPups8IJ6oYy",
    "jp-MarkdownHeadingCollapsed": true
   },
   "source": [
    "### Modules"
   ]
  },
  {
   "cell_type": "code",
   "execution_count": 1,
   "id": "e727560c-7f24-46ca-8426-9f29d2860862",
   "metadata": {
    "colab": {
     "base_uri": "https://localhost:8080/"
    },
    "executionInfo": {
     "elapsed": 19392,
     "status": "ok",
     "timestamp": 1726184657592,
     "user": {
      "displayName": "山本亮介",
      "userId": "01861936879830612877"
     },
     "user_tz": -540
    },
    "id": "14c7ea7c-d8c9-4a75-a3a9-ccde4f2bb0cc",
    "outputId": "365c2cd4-ee7f-4d2a-bc32-dd178eb49258",
    "scrolled": true
   },
   "outputs": [],
   "source": [
    "#import os\n",
    "#import numpy as np\n",
    "import sympy as sp\n",
    "sp.init_printing(use_latex='mathjax')\n",
    "#import pandas as pd\n",
    "#import ast\n",
    "import itertools as itr\n",
    "\n",
    "#from multiprocessing import Pool, cpu_count\n",
    "#from tqdm.notebook import tqdm\n",
    "\n",
    "#from snappy import *\n",
    "#S = twister.Surface('S_2_1')"
   ]
  },
  {
   "cell_type": "markdown",
   "id": "44dbefa0-04ac-498e-8a08-cb70133657ee",
   "metadata": {
    "jp-MarkdownHeadingCollapsed": true
   },
   "source": [
    "## Symplectic representation"
   ]
  },
  {
   "cell_type": "code",
   "execution_count": 2,
   "id": "c52e535b-8690-4f70-a070-ff7af5495004",
   "metadata": {},
   "outputs": [],
   "source": [
    "K = sp.MatrixSymbol('K',2,2) #([[0,-1],[0,0]])\n",
    "L = sp.MatrixSymbol('L',2,2) #([[1,0],[1,1]])\n",
    "I = sp.Identity(2)\n",
    "O = sp.ZeroMatrix(2,2)\n",
    "J = sp.MatrixSymbol('J',2,2) #([[0,1],[-1,0]])\n",
    "\n",
    "Ma = sp.BlockMatrix([[L.inv(), O], [O, I]])\n",
    "Mb = sp.BlockMatrix([[L.transpose(), K], [K, L.transpose()]])\n",
    "Mc = sp.BlockMatrix([[I, O], [O, L.inv()]])\n",
    "Md = sp.BlockMatrix([[I, O], [O, L.transpose()]])\n",
    "#display(Ma, Mb, Mc, Md)\n",
    "\n",
    "MJ = sp.BlockMatrix([[J, O], [O, J]])\n",
    "#display(MJ)"
   ]
  },
  {
   "cell_type": "markdown",
   "id": "62de62f4-39a3-4da2-a4ba-0a43f6eca84e",
   "metadata": {},
   "source": [
    "### Functions"
   ]
  },
  {
   "cell_type": "code",
   "execution_count": 3,
   "id": "b1137808-0c97-424a-823d-205770f35112",
   "metadata": {},
   "outputs": [],
   "source": [
    "def ev(M):\n",
    "    return M.subs([\n",
    "        (L, sp.Matrix([[1,0],[1,1]])),\n",
    "        (K, sp.Matrix([[0,-1],[0,0]])),\n",
    "        (J, sp.Matrix([[0,1],[-1,0]])),\n",
    "    ]).as_explicit()\n",
    "#evMd = ev(Md); display(evMd, evMd.det())\n",
    "\n",
    "def is_Sp(M):\n",
    "    if type(M) == sp.matrices.expressions.blockmatrix.BlockMatrix:\n",
    "        return sp.block_collapse(ev(M).transpose()*ev(MJ)*ev(M)) == ev(MJ)\n",
    "    else:\n",
    "        return M.transpose()*ev(MJ)*M == ev(MJ)\n",
    "\n",
    "#for M in {Ma, Mb, Mc, Md}:\n",
    "#    if is_Sp(M):\n",
    "#        print(f\"{M} is in Sp(4,Z)\")"
   ]
  },
  {
   "cell_type": "markdown",
   "id": "ce90f131-24a8-4266-be7c-cfae0696d086",
   "metadata": {},
   "source": [
    "### The symplectic images of Abcd and abcD"
   ]
  },
  {
   "cell_type": "code",
   "execution_count": 4,
   "id": "6f356241-6ea0-41d1-90f3-a7b2cfd7c755",
   "metadata": {},
   "outputs": [
    {
     "data": {
      "text/latex": [
       "$\\displaystyle \\left[\\begin{matrix}L L^{T} & L K L^{-1} L^{T}\\\\K & L^{T} L^{-1} L^{T}\\end{matrix}\\right]$"
      ],
      "text/plain": [
       "⎡   T       -1  T⎤\n",
       "⎢L⋅L   L⋅K⋅L  ⋅L ⎥\n",
       "⎢                ⎥\n",
       "⎢       T  -1  T ⎥\n",
       "⎣ K    L ⋅L  ⋅L  ⎦"
      ]
     },
     "metadata": {},
     "output_type": "display_data"
    },
    {
     "data": {
      "text/latex": [
       "$\\displaystyle \\left[\\begin{matrix}1 & 1 & 1 & 0\\\\1 & 2 & 1 & 0\\\\0 & -1 & 0 & 1\\\\0 & 0 & -1 & 0\\end{matrix}\\right]$"
      ],
      "text/plain": [
       "⎡1  1   1   0⎤\n",
       "⎢            ⎥\n",
       "⎢1  2   1   0⎥\n",
       "⎢            ⎥\n",
       "⎢0  -1  0   1⎥\n",
       "⎢            ⎥\n",
       "⎣0  0   -1  0⎦"
      ]
     },
     "metadata": {},
     "output_type": "display_data"
    },
    {
     "data": {
      "text/latex": [
       "$\\displaystyle \\left[\\begin{matrix}L^{-1} L^{T} & L^{-1} K L^{-1} \\left(L^{T}\\right)^{-1}\\\\K & L^{T} L^{-1} \\left(L^{T}\\right)^{-1}\\end{matrix}\\right]$"
      ],
      "text/plain": [
       "⎡                      -1⎤\n",
       "⎢ -1  T   -1    -1 ⎛ T⎞  ⎥\n",
       "⎢L  ⋅L   L  ⋅K⋅L  ⋅⎝L ⎠  ⎥\n",
       "⎢                        ⎥\n",
       "⎢                    -1  ⎥\n",
       "⎢          T  -1 ⎛ T⎞    ⎥\n",
       "⎣  K      L ⋅L  ⋅⎝L ⎠    ⎦"
      ]
     },
     "metadata": {},
     "output_type": "display_data"
    },
    {
     "data": {
      "text/latex": [
       "$\\displaystyle \\left[\\begin{matrix}1 & 1 & 1 & -2\\\\-1 & 0 & -1 & 2\\\\0 & -1 & 0 & 1\\\\0 & 0 & -1 & 2\\end{matrix}\\right]$"
      ],
      "text/plain": [
       "⎡1   1   1   -2⎤\n",
       "⎢              ⎥\n",
       "⎢-1  0   -1  2 ⎥\n",
       "⎢              ⎥\n",
       "⎢0   -1  0   1 ⎥\n",
       "⎢              ⎥\n",
       "⎣0   0   -1  2 ⎦"
      ]
     },
     "metadata": {},
     "output_type": "display_data"
    },
    {
     "name": "stdout",
     "output_type": "stream",
     "text": [
      "is_Sp? --> True\n",
      "is_Sp? --> True\n"
     ]
    }
   ],
   "source": [
    "M_Abcd = sp.block_collapse((Ma.inv())*Mb*Mc*Md)\n",
    "M1 = ev(M_Abcd)\n",
    "display(M_Abcd, M1)\n",
    "M_abcD = sp.block_collapse(Ma*Mb*Mc*(Md.inv()))\n",
    "M2 = ev(M_abcD)\n",
    "display(M_abcD, M2)\n",
    "\n",
    "for M in {M1,M2}:\n",
    "    print(f\"is_Sp? --> {is_Sp(M)}\")"
   ]
  },
  {
   "cell_type": "markdown",
   "id": "293ac6fa-f348-40a5-a74d-b78b8936ed4f",
   "metadata": {},
   "source": [
    "### The charactoristic polynomial of M1 (M2)"
   ]
  },
  {
   "cell_type": "code",
   "execution_count": 5,
   "id": "daa345c8-4a42-4acb-9eb6-506ec51ce02f",
   "metadata": {},
   "outputs": [
    {
     "name": "stdout",
     "output_type": "stream",
     "text": [
      "cp_M1 == cp_M2 ?   --> True\n"
     ]
    },
    {
     "data": {
      "text/latex": [
       "$\\displaystyle \\lambda^{4} - 3 \\lambda^{3} + 3 \\lambda^{2} - 3 \\lambda + 1$"
      ],
      "text/plain": [
       " 4      3      2          \n",
       "λ  - 3⋅λ  + 3⋅λ  - 3⋅λ + 1"
      ]
     },
     "metadata": {},
     "output_type": "display_data"
    }
   ],
   "source": [
    "cp_M1 = M1.charpoly().as_expr()\n",
    "cp_M2 = M2.charpoly().as_expr()\n",
    "\n",
    "print(f\"cp_M1 == cp_M2 ?   --> {cp_M1==cp_M2}\")\n",
    "\n",
    "display(cp_M1.factor())"
   ]
  },
  {
   "cell_type": "markdown",
   "id": "b95b35d7-2929-485a-8c18-84844b13dfff",
   "metadata": {},
   "source": [
    "### The rational form of M1 (M2)"
   ]
  },
  {
   "cell_type": "code",
   "execution_count": 8,
   "id": "f23217a7-c5ca-415c-8641-3fdefd29b6a8",
   "metadata": {},
   "outputs": [
    {
     "data": {
      "text/latex": [
       "$\\displaystyle \\left[\\begin{matrix}0 & 0 & 0 & -1\\\\1 & 0 & 0 & 3\\\\0 & 1 & 0 & -3\\\\0 & 0 & 1 & 3\\end{matrix}\\right]$"
      ],
      "text/plain": [
       "⎡0  0  0  -1⎤\n",
       "⎢           ⎥\n",
       "⎢1  0  0  3 ⎥\n",
       "⎢           ⎥\n",
       "⎢0  1  0  -3⎥\n",
       "⎢           ⎥\n",
       "⎣0  0  1  3 ⎦"
      ]
     },
     "metadata": {},
     "output_type": "display_data"
    },
    {
     "name": "stdout",
     "output_type": "stream",
     "text": [
      "is_Sp? --> False\n"
     ]
    }
   ],
   "source": [
    "C = sp.matrices.expressions.CompanionMatrix(M1.charpoly()).as_explicit()\n",
    "display(C)\n",
    "print(f\"is_Sp? --> {is_Sp(C)}\")"
   ]
  },
  {
   "cell_type": "markdown",
   "id": "1be47c17-532a-431b-9638-771fb1008284",
   "metadata": {},
   "source": [
    "## In $\\mathbb{Z}[t]$"
   ]
  },
  {
   "cell_type": "markdown",
   "id": "bb2bc6aa-be70-4c79-9707-758208a8b22d",
   "metadata": {},
   "source": [
    "### Functions"
   ]
  },
  {
   "cell_type": "code",
   "execution_count": 37,
   "id": "e2b9f8ff-d004-4cad-a6ef-248d61c831f2",
   "metadata": {},
   "outputs": [],
   "source": [
    "def poly(v,A):\n",
    "    terms = [v[i]*(A**i) for i in range(len(v))]\n",
    "    return v[0]*(A**0)+v[1]*(A**1)+v[2]*(A**2)+v[3]*(A**3)"
   ]
  },
  {
   "cell_type": "code",
   "execution_count": 38,
   "id": "bcf34496-08be-4eed-b2fd-66e37c161e5c",
   "metadata": {},
   "outputs": [
    {
     "data": {
      "text/latex": [
       "$\\displaystyle \\left[\\begin{matrix}c_{0} & - c_{3} & - c_{2} - 3 c_{3} & - c_{1} - 3 c_{2} - 6 c_{3}\\\\c_{1} & c_{0} + 3 c_{3} & 3 c_{2} + 8 c_{3} & 3 c_{1} + 8 c_{2} + 15 c_{3}\\\\c_{2} & c_{1} - 3 c_{3} & c_{0} - 3 c_{2} - 6 c_{3} & - 3 c_{1} - 6 c_{2} - 10 c_{3}\\\\c_{3} & c_{2} + 3 c_{3} & c_{1} + 3 c_{2} + 6 c_{3} & c_{0} + 3 c_{1} + 6 c_{2} + 12 c_{3}\\end{matrix}\\right]$"
      ],
      "text/plain": [
       "⎡c₀     -c₃        -c₂ - 3⋅c₃        -c₁ - 3⋅c₂ - 6⋅c₃    ⎤\n",
       "⎢                                                         ⎥\n",
       "⎢c₁  c₀ + 3⋅c₃    3⋅c₂ + 8⋅c₃       3⋅c₁ + 8⋅c₂ + 15⋅c₃   ⎥\n",
       "⎢                                                         ⎥\n",
       "⎢c₂  c₁ - 3⋅c₃  c₀ - 3⋅c₂ - 6⋅c₃    -3⋅c₁ - 6⋅c₂ - 10⋅c₃  ⎥\n",
       "⎢                                                         ⎥\n",
       "⎣c₃  c₂ + 3⋅c₃  c₁ + 3⋅c₂ + 6⋅c₃  c₀ + 3⋅c₁ + 6⋅c₂ + 12⋅c₃⎦"
      ]
     },
     "metadata": {},
     "output_type": "display_data"
    }
   ],
   "source": [
    "c = sp.symbols('c:4')\n",
    "\n",
    "Cc = sp.Matrix(0,0,[])\n",
    "for i in range(4):\n",
    "    v = (C**i)*sp.Matrix(4,1,c)\n",
    "    Cc = Cc.row_join(v)\n",
    "    \n",
    "display(Cc)"
   ]
  },
  {
   "cell_type": "code",
   "execution_count": 39,
   "id": "c5dd51c6-8e21-42d0-a79a-9bdee4ebed57",
   "metadata": {},
   "outputs": [
    {
     "data": {
      "text/latex": [
       "$\\displaystyle t^{4} - 3 t^{3} + 3 t^{2} - 3 t + 1$"
      ],
      "text/plain": [
       " 4      3      2          \n",
       "t  - 3⋅t  + 3⋅t  - 3⋅t + 1"
      ]
     },
     "metadata": {},
     "output_type": "display_data"
    }
   ],
   "source": [
    "f = cp_M1.subs('lambda', t)\n",
    "display(sp.collect(f,t))"
   ]
  },
  {
   "cell_type": "code",
   "execution_count": 56,
   "id": "029a72bc-a466-4d7d-b688-f920d694c64e",
   "metadata": {
    "scrolled": true
   },
   "outputs": [
    {
     "data": {
      "text/latex": [
       "$\\displaystyle \\left[\\begin{matrix}c_{0} d_{0} - c_{3} d_{1} + d_{2} \\left(- c_{2} - 3 c_{3}\\right) + d_{3} \\left(- c_{1} - 3 c_{2} - 6 c_{3}\\right)\\\\c_{1} d_{0} + d_{1} \\left(c_{0} + 3 c_{3}\\right) + d_{2} \\cdot \\left(3 c_{2} + 8 c_{3}\\right) + d_{3} \\cdot \\left(3 c_{1} + 8 c_{2} + 15 c_{3}\\right)\\\\c_{2} d_{0} + d_{1} \\left(c_{1} - 3 c_{3}\\right) + d_{2} \\left(c_{0} - 3 c_{2} - 6 c_{3}\\right) + d_{3} \\left(- 3 c_{1} - 6 c_{2} - 10 c_{3}\\right)\\\\c_{3} d_{0} + d_{1} \\left(c_{2} + 3 c_{3}\\right) + d_{2} \\left(c_{1} + 3 c_{2} + 6 c_{3}\\right) + d_{3} \\left(c_{0} + 3 c_{1} + 6 c_{2} + 12 c_{3}\\right)\\end{matrix}\\right]$"
      ],
      "text/plain": [
       "⎡           c₀⋅d₀ - c₃⋅d₁ + d₂⋅(-c₂ - 3⋅c₃) + d₃⋅(-c₁ - 3⋅c₂ - 6⋅c₃)           ⎤\n",
       "⎢                                                                              ⎥\n",
       "⎢     c₁⋅d₀ + d₁⋅(c₀ + 3⋅c₃) + d₂⋅(3⋅c₂ + 8⋅c₃) + d₃⋅(3⋅c₁ + 8⋅c₂ + 15⋅c₃)     ⎥\n",
       "⎢                                                                              ⎥\n",
       "⎢  c₂⋅d₀ + d₁⋅(c₁ - 3⋅c₃) + d₂⋅(c₀ - 3⋅c₂ - 6⋅c₃) + d₃⋅(-3⋅c₁ - 6⋅c₂ - 10⋅c₃)  ⎥\n",
       "⎢                                                                              ⎥\n",
       "⎣c₃⋅d₀ + d₁⋅(c₂ + 3⋅c₃) + d₂⋅(c₁ + 3⋅c₂ + 6⋅c₃) + d₃⋅(c₀ + 3⋅c₁ + 6⋅c₂ + 12⋅c₃)⎦"
      ]
     },
     "metadata": {},
     "output_type": "display_data"
    },
    {
     "name": "stdout",
     "output_type": "stream",
     "text": [
      "True\n",
      "True\n",
      "True\n"
     ]
    }
   ],
   "source": [
    "d = sp.symbols('d:4')\n",
    "h = sp.Matrix(4,1,[d[i] for i in range(4)])\n",
    "\n",
    "Cch = Cc*h\n",
    "display(Cch)\n",
    "\n",
    "t = sp.symbols('t')\n",
    "exp = sp.Poly((poly(c,t)*poly(d,t)), t)\n",
    "\n",
    "while exp.degree() >= 4:\n",
    "    Q, R = exp.div((t**4).as_poly())\n",
    "    exp = Q*(t**4-f) + R\n",
    "    \n",
    "for i in range(1,4):\n",
    "    cf = exp.as_expr().coeff(t**i)\n",
    "    #display(cf, Cch[i].as_expr().expand())\n",
    "    print(cf == Cch[i].as_expr().expand())"
   ]
  },
  {
   "cell_type": "code",
   "execution_count": null,
   "id": "379b0308-832f-43fa-9632-6bb0eb5dcdb8",
   "metadata": {},
   "outputs": [],
   "source": []
  }
 ],
 "metadata": {
  "kernelspec": {
   "display_name": "Python 3 (ipykernel)",
   "language": "python",
   "name": "python3"
  },
  "language_info": {
   "codemirror_mode": {
    "name": "ipython",
    "version": 3
   },
   "file_extension": ".py",
   "mimetype": "text/x-python",
   "name": "python",
   "nbconvert_exporter": "python",
   "pygments_lexer": "ipython3",
   "version": "3.12.6"
  }
 },
 "nbformat": 4,
 "nbformat_minor": 5
}
