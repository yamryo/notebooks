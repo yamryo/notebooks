{
 "cells": [
  {
   "cell_type": "markdown",
   "id": "ee57e2bb-c071-4b35-855b-de46bbdb2ec7",
   "metadata": {
    "tags": []
   },
   "source": [
    "# Libraries"
   ]
  },
  {
   "cell_type": "code",
   "execution_count": null,
   "id": "3f73fc84-0b14-4048-b655-2b019bebbc73",
   "metadata": {},
   "outputs": [],
   "source": [
    "import random\n",
    "import re\n",
    "import ast\n",
    "\n",
    "import pandas as pd\n",
    "from tqdm.notebook import tqdm\n",
    "# ----- Debugger -----\n",
    "# from IPython.core.debugger import Pdb; Pdb().set_trace()\n",
    "\n",
    "from knot_floer_homology import *\n",
    "#help(pd_to_hfk)"
   ]
  },
  {
   "cell_type": "markdown",
   "id": "0e4308d1-dfc5-432e-a718-e6f265cd9366",
   "metadata": {},
   "source": [
    "# Generating HFK data files"
   ]
  },
  {
   "cell_type": "code",
   "execution_count": null,
   "id": "0d136d08-f0e1-4626-b5b2-526970d45053",
   "metadata": {
    "scrolled": true,
    "tags": []
   },
   "outputs": [],
   "source": [
    "cr_rng = range(3,10) #range(16,17)\n",
    "name_re = r'({names})+'.format(names = '|'.join([f'K{k}' for k in [*cr_rng]]))\n",
    "\n",
    "hfk_list = []\n",
    "with open('./data/PD_3-16.txt') as f:\n",
    "    flag = 0\n",
    "    for s_line in tqdm(f):\n",
    "        if re.search(name_re, s_line):\n",
    "            flag = 1\n",
    "            mylst = ast.literal_eval(s_line)\n",
    "            mydct = {'Name': mylst[1], 'PD': mylst[2]}\n",
    "            hfk = pd_to_hfk(mydct['PD'])\n",
    "            hfk['Name'] = mydct['Name']\n",
    "            hfk_list.append(hfk)\n",
    "        elif flag == 1:\n",
    "            break\n",
    "            \n",
    "DF = pd.DataFrame(hfk_list).set_index('Name') \n",
    "DF.to_csv(f\"./data/hfk_{cr_rng}.csv\")"
   ]
  }
 ],
 "metadata": {
  "kernelspec": {
   "display_name": "Python 3",
   "language": "python",
   "name": "python3"
  },
  "language_info": {
   "codemirror_mode": {
    "name": "ipython",
    "version": 3
   },
   "file_extension": ".py",
   "mimetype": "text/x-python",
   "name": "python",
   "nbconvert_exporter": "python",
   "pygments_lexer": "ipython3",
   "version": "3.6.8"
  }
 },
 "nbformat": 4,
 "nbformat_minor": 5
}
