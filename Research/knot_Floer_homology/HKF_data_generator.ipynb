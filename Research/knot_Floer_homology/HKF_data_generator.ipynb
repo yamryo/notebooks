{
 "cells": [
  {
   "cell_type": "markdown",
   "id": "ee57e2bb-c071-4b35-855b-de46bbdb2ec7",
   "metadata": {
    "jp-MarkdownHeadingCollapsed": true
   },
   "source": [
    "# Libraries"
   ]
  },
  {
   "cell_type": "code",
   "execution_count": null,
   "id": "3f73fc84-0b14-4048-b655-2b019bebbc73",
   "metadata": {},
   "outputs": [],
   "source": [
    "import random\n",
    "import re\n",
    "import ast\n",
    "\n",
    "import pandas as pd\n",
    "from tqdm.notebook import tqdm\n",
    "# ----- Debugger -----\n",
    "# from IPython.core.debugger import Pdb; Pdb().set_trace()\n",
    "\n",
    "from knot_floer_homology import *\n",
    "#help(pd_to_hfk)"
   ]
  },
  {
   "cell_type": "markdown",
   "id": "0e4308d1-dfc5-432e-a718-e6f265cd9366",
   "metadata": {},
   "source": [
    "# Generating HFK data files"
   ]
  },
  {
   "cell_type": "code",
   "execution_count": 58,
   "id": "0d136d08-f0e1-4626-b5b2-526970d45053",
   "metadata": {
    "collapsed": true,
    "jupyter": {
     "outputs_hidden": true
    },
    "scrolled": true
   },
   "outputs": [
    {
     "data": {
      "application/vnd.jupyter.widget-view+json": {
       "model_id": "32aec3586fcd46c0be98c8968299a25e",
       "version_major": 2,
       "version_minor": 0
      },
      "text/plain": [
       "0it [00:00, ?it/s]"
      ]
     },
     "metadata": {},
     "output_type": "display_data"
    },
    {
     "name": "stderr",
     "output_type": "stream",
     "text": [
      "IOStream.flush timed out\n",
      "IOStream.flush timed out\n",
      "IOStream.flush timed out\n",
      "IOStream.flush timed out\n",
      "IOStream.flush timed out\n",
      "IOStream.flush timed out\n",
      "IOStream.flush timed out\n",
      "IOStream.flush timed out\n",
      "IOStream.flush timed out\n",
      "IOStream.flush timed out\n",
      "IOStream.flush timed out\n",
      "IOStream.flush timed out\n"
     ]
    },
    {
     "ename": "RuntimeError",
     "evalue": "Interrupted!",
     "output_type": "error",
     "traceback": [
      "\u001b[0;31m---------------------------------------------------------------------------\u001b[0m",
      "\u001b[0;31mRuntimeError\u001b[0m                              Traceback (most recent call last)",
      "Cell \u001b[0;32mIn[58], line 13\u001b[0m\n\u001b[1;32m     11\u001b[0m             mydct \u001b[38;5;241m=\u001b[39m {\u001b[38;5;124m'\u001b[39m\u001b[38;5;124mName\u001b[39m\u001b[38;5;124m'\u001b[39m: mylst[\u001b[38;5;241m1\u001b[39m], \u001b[38;5;124m'\u001b[39m\u001b[38;5;124mPD\u001b[39m\u001b[38;5;124m'\u001b[39m: mylst[\u001b[38;5;241m2\u001b[39m]}\n\u001b[1;32m     12\u001b[0m \u001b[38;5;66;03m#            print(mydct['Name'], mm)\u001b[39;00m\n\u001b[0;32m---> 13\u001b[0m             hfk \u001b[38;5;241m=\u001b[39m \u001b[43mpd_to_hfk\u001b[49m\u001b[43m(\u001b[49m\u001b[43mmydct\u001b[49m\u001b[43m[\u001b[49m\u001b[38;5;124;43m'\u001b[39;49m\u001b[38;5;124;43mPD\u001b[39;49m\u001b[38;5;124;43m'\u001b[39;49m\u001b[43m]\u001b[49m\u001b[43m)\u001b[49m\n\u001b[1;32m     14\u001b[0m             hfk[\u001b[38;5;124m'\u001b[39m\u001b[38;5;124mName\u001b[39m\u001b[38;5;124m'\u001b[39m] \u001b[38;5;241m=\u001b[39m mydct[\u001b[38;5;124m'\u001b[39m\u001b[38;5;124mName\u001b[39m\u001b[38;5;124m'\u001b[39m]\n\u001b[1;32m     15\u001b[0m             hfk_list\u001b[38;5;241m.\u001b[39mappend(hfk)\n",
      "File \u001b[0;32mcython_src/hfk.pyx:84\u001b[0m, in \u001b[0;36mhfk.pd_to_hfk\u001b[0;34m()\u001b[0m\n",
      "\u001b[0;31mRuntimeError\u001b[0m: Interrupted!"
     ]
    }
   ],
   "source": [
    "cr_rng = range(16,17)\n",
    "name_re = r'({names})+'.format(names = '|'.join([f'K{k}' for k in [*cr_rng]]))\n",
    "\n",
    "hfk_list = []\n",
    "with open('./data/PD_3-16.txt') as f:\n",
    "    flag = 0\n",
    "    for s_line in tqdm(f):\n",
    "        if re.search(name_re, s_line):\n",
    "            flag = 1\n",
    "            mylst = ast.literal_eval(s_line)\n",
    "            mydct = {'Name': mylst[1], 'PD': mylst[2]}\n",
    "#            print(mydct['Name'], mm)\n",
    "            hfk = pd_to_hfk(mydct['PD'])\n",
    "            hfk['Name'] = mydct['Name']\n",
    "            hfk_list.append(hfk)\n",
    "        elif flag == 1:\n",
    "            break\n",
    "            \n",
    "DF = pd.DataFrame(hfk_list).set_index('Name') \n",
    "DF.to_csv(f\"./data/hfk_{cr_rng}.csv\")"
   ]
  }
 ],
 "metadata": {
  "kernelspec": {
   "display_name": "Python 3 (ipykernel)",
   "language": "python",
   "name": "python3"
  },
  "language_info": {
   "codemirror_mode": {
    "name": "ipython",
    "version": 3
   },
   "file_extension": ".py",
   "mimetype": "text/x-python",
   "name": "python",
   "nbconvert_exporter": "python",
   "pygments_lexer": "ipython3",
   "version": "3.12.3"
  }
 },
 "nbformat": 4,
 "nbformat_minor": 5
}
