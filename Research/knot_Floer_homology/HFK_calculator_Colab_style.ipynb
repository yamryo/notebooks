{
 "cells": [
  {
   "cell_type": "markdown",
   "id": "b3a46c7e-7ec3-4dec-a8ce-dd1b9d632b7a",
   "metadata": {
    "id": "b3a46c7e-7ec3-4dec-a8ce-dd1b9d632b7a"
   },
   "source": [
    "# HFK caluculator for a knot represented by grid notation"
   ]
  },
  {
   "cell_type": "markdown",
   "id": "27843c05-5bed-49b1-8292-e1589cad6f9e",
   "metadata": {
    "id": "27843c05-5bed-49b1-8292-e1589cad6f9e",
    "jp-MarkdownHeadingCollapsed": true
   },
   "source": [
    "## Set up the environment"
   ]
  },
  {
   "cell_type": "markdown",
   "id": "sMAZnoIf6Ni2",
   "metadata": {
    "id": "sMAZnoIf6Ni2"
   },
   "source": [
    "### Mount Google Colab drive"
   ]
  },
  {
   "cell_type": "code",
   "execution_count": 5,
   "id": "gj09i4I4vFQW",
   "metadata": {
    "colab": {
     "base_uri": "https://localhost:8080/"
    },
    "executionInfo": {
     "elapsed": 25491,
     "status": "ok",
     "timestamp": 1716023504784,
     "user": {
      "displayName": "山本亮介",
      "userId": "01861936879830612877"
     },
     "user_tz": -540
    },
    "id": "gj09i4I4vFQW",
    "outputId": "86651363-c433-4cf7-cb46-ab00e4dda0bc"
   },
   "outputs": [
    {
     "name": "stdout",
     "output_type": "stream",
     "text": [
      "Mounted at /content/drive\n"
     ]
    }
   ],
   "source": [
    "# Googleドライブのマウント\n",
    "from google.colab import drive\n",
    "drive.mount('/content/drive')"
   ]
  },
  {
   "cell_type": "markdown",
   "id": "gPoXJTGH6UEd",
   "metadata": {
    "id": "gPoXJTGH6UEd"
   },
   "source": [
    "### Working directory"
   ]
  },
  {
   "cell_type": "code",
   "execution_count": 6,
   "id": "FbbxeL6bG6dZ",
   "metadata": {
    "colab": {
     "base_uri": "https://localhost:8080/"
    },
    "executionInfo": {
     "elapsed": 17,
     "status": "ok",
     "timestamp": 1716023504786,
     "user": {
      "displayName": "山本亮介",
      "userId": "01861936879830612877"
     },
     "user_tz": -540
    },
    "id": "FbbxeL6bG6dZ",
    "outputId": "acb04cb4-21b1-49f5-b9c2-805bce5e4cea"
   },
   "outputs": [
    {
     "name": "stdout",
     "output_type": "stream",
     "text": [
      "カレントワーキングディレクトリは[/content/drive/MyDrive/Colab Notebooks/Research/knot_Floer_homology]です\n"
     ]
    }
   ],
   "source": [
    "import os\n",
    "_colab_dir = \"/content/drive/MyDrive/Colab Notebooks/Research/knot_Floer_homology\"\n",
    "os.chdir(_colab_dir)\n",
    "print(\"カレントワーキングディレクトリは[\" + os.getcwd() + \"]です\")"
   ]
  },
  {
   "cell_type": "markdown",
   "id": "KPups8IJ6oYy",
   "metadata": {
    "id": "KPups8IJ6oYy"
   },
   "source": [
    "### Modules"
   ]
  },
  {
   "cell_type": "code",
   "execution_count": 10,
   "id": "14c7ea7c-d8c9-4a75-a3a9-ccde4f2bb0cc",
   "metadata": {
    "colab": {
     "base_uri": "https://localhost:8080/"
    },
    "executionInfo": {
     "elapsed": 17606,
     "status": "ok",
     "timestamp": 1716023578898,
     "user": {
      "displayName": "山本亮介",
      "userId": "01861936879830612877"
     },
     "user_tz": -540
    },
    "id": "14c7ea7c-d8c9-4a75-a3a9-ccde4f2bb0cc",
    "outputId": "039f70d7-fb4d-40d9-e238-6b8e5490bba8",
    "scrolled": true,
    "tags": []
   },
   "outputs": [
    {
     "name": "stdout",
     "output_type": "stream",
     "text": [
      "Requirement already satisfied: GridPythonModule in /usr/local/lib/python3.10/dist-packages (0.1.2)\n",
      "Requirement already satisfied: simpy in /usr/local/lib/python3.10/dist-packages (from GridPythonModule) (4.1.1)\n",
      "Requirement already satisfied: random2 in /usr/local/lib/python3.10/dist-packages (from GridPythonModule) (1.0.2)\n",
      "Requirement already satisfied: matplotlib in /usr/local/lib/python3.10/dist-packages (from GridPythonModule) (3.7.1)\n",
      "Requirement already satisfied: contourpy>=1.0.1 in /usr/local/lib/python3.10/dist-packages (from matplotlib->GridPythonModule) (1.2.1)\n",
      "Requirement already satisfied: cycler>=0.10 in /usr/local/lib/python3.10/dist-packages (from matplotlib->GridPythonModule) (0.12.1)\n",
      "Requirement already satisfied: fonttools>=4.22.0 in /usr/local/lib/python3.10/dist-packages (from matplotlib->GridPythonModule) (4.51.0)\n",
      "Requirement already satisfied: kiwisolver>=1.0.1 in /usr/local/lib/python3.10/dist-packages (from matplotlib->GridPythonModule) (1.4.5)\n",
      "Requirement already satisfied: numpy>=1.20 in /usr/local/lib/python3.10/dist-packages (from matplotlib->GridPythonModule) (1.25.2)\n",
      "Requirement already satisfied: packaging>=20.0 in /usr/local/lib/python3.10/dist-packages (from matplotlib->GridPythonModule) (24.0)\n",
      "Requirement already satisfied: pillow>=6.2.0 in /usr/local/lib/python3.10/dist-packages (from matplotlib->GridPythonModule) (9.4.0)\n",
      "Requirement already satisfied: pyparsing>=2.3.1 in /usr/local/lib/python3.10/dist-packages (from matplotlib->GridPythonModule) (3.1.2)\n",
      "Requirement already satisfied: python-dateutil>=2.7 in /usr/local/lib/python3.10/dist-packages (from matplotlib->GridPythonModule) (2.8.2)\n",
      "Requirement already satisfied: six>=1.5 in /usr/local/lib/python3.10/dist-packages (from python-dateutil>=2.7->matplotlib->GridPythonModule) (1.16.0)\n",
      "Requirement already satisfied: knot_floer_homology in /usr/local/lib/python3.10/dist-packages (1.2)\n"
     ]
    }
   ],
   "source": [
    "import numpy as np\n",
    "import pandas as pd\n",
    "import ast\n",
    "\n",
    "from multiprocessing import Pool, cpu_count\n",
    "from tqdm.notebook import tqdm\n",
    "\n",
    "!pip install GridPythonModule\n",
    "from GridPythonModule import *\n",
    "from GPM_wrapper.Grid import *\n",
    "\n",
    "!pip install knot_floer_homology\n",
    "import knot_floer_homology as hfk"
   ]
  },
  {
   "cell_type": "markdown",
   "id": "Yk91MRUuC8vf",
   "metadata": {
    "id": "Yk91MRUuC8vf"
   },
   "source": [
    "## Caluclate HFK of the knot inputted by grid"
   ]
  },
  {
   "cell_type": "code",
   "execution_count": 46,
   "id": "RA_TnxXrB2kK",
   "metadata": {
    "cellView": "form",
    "colab": {
     "base_uri": "https://localhost:8080/",
     "height": 676
    },
    "executionInfo": {
     "elapsed": 285,
     "status": "ok",
     "timestamp": 1716025490604,
     "user": {
      "displayName": "山本亮介",
      "userId": "01861936879830612877"
     },
     "user_tz": -540
    },
    "id": "RA_TnxXrB2kK",
    "outputId": "7e8a1258-43d6-440a-dc87-19c16ebc292e"
   },
   "outputs": [
    {
     "name": "stdout",
     "output_type": "stream",
     "text": [
      "Grid: [[5, 0, 10, 9, 7, 8, 4, 3, 2, 1, 6], [10, 9, 8, 3, 2, 6, 7, 1, 5, 4, 0]]\n"
     ]
    },
    {
     "data": {
      "image/png": "[encoded data removed]",
      "text/plain": [
       "<Figure size 640x480 with 1 Axes>"
      ]
     },
     "metadata": {},
     "output_type": "display_data"
    },
    {
     "name": "stdout",
     "output_type": "stream",
     "text": [
      "PD notation: [[4, 0, 5, 21], [0, 6, 1, 5], [7, 20, 8, 21], [6, 2, 7, 1], [15, 9, 16, 8], [14, 19, 15, 20], [2, 13, 3, 14], [11, 19, 12, 18], [12, 3, 13, 4], [9, 17, 10, 16], [17, 11, 18, 10]]\n",
      "\n",
      "         Keys |                                                                                Values\n",
      "-----------------------------------------------------------------------------------------------------\n",
      "L_space_knot  | False                                                                                \n",
      "epsilon       | 1                                                                                    \n",
      "fibered       | True                                                                                 \n",
      "modulus       | 2                                                                                    \n",
      "nu            | 2                                                                                    \n",
      "ranks         | {(-3, -5): 1, (-2, -4): 3, (-1, -3): 4, (0, -2): 5, (1, -1): 4, (2, 0): 3, (3, 1): 1}\n",
      "seifert_genus | 3                                                                                    \n",
      "tau           | 2                                                                                    \n",
      "total_rank    | 21                                                                                   \n"
     ]
    }
   ],
   "source": [
    "# @title Input Form & Calculator\n",
    "\n",
    "# @markdown ## Grid の2つの置換 xlist, olist の入力\n",
    "xlist = \"5, 0, 10, 9, 7, 8, 4, 3, 2, 1, 6\" # @param {type:\"string\"}\n",
    "olist = \"10, 9, 8, 3, 2, 6, 7, 1, 5, 4, 0\" # @param {type:\"string\"}\n",
    "# @markdown 入力したら、Control + Return を押してください。\n",
    "\n",
    "G = [ast.literal_eval(f\"[{v}]\") for v in [xlist, olist]]\n",
    "print(f\"Grid: {G}\")\n",
    "try:\n",
    "    mgc = Grid(*G)\n",
    "    mgc.draw()\n",
    "    PD = mgc.get_PD()\n",
    "    print(f\"PD notation: {PD}\\n\")\n",
    "    hfk_dict = hfk.pd_to_hfk(PD)\n",
    "    tabulate_dict(hfk_dict)\n",
    "except Exception as e:\n",
    "    print(f\"Caution!!  --> {e}\")\n",
    "\n",
    "# Tabulate the result\n",
    "def tabulate_dict(mydict):\n",
    "    max_key_len = max(len(key) for key in mydict)\n",
    "    max_value_len = max(len(str(val)) for val in mydict.values())\n",
    "    print(f\"{'Keys':>{max_key_len}} | {'Values':>{max_value_len}}\")\n",
    "    print('-' * (max_key_len + 3 + max_value_len))\n",
    "    for key, value in mydict.items():\n",
    "        print(f\"{key:{max_key_len}} | {str(value):{max_value_len}}\")"
   ]
  },
  {
   "cell_type": "code",
   "execution_count": null,
   "id": "3cf643e8-28d5-4598-8f35-4251ffd6a981",
   "metadata": {
    "colab": {
     "base_uri": "https://localhost:8080/"
    },
    "executionInfo": {
     "elapsed": 55,
     "status": "ok",
     "timestamp": 1716022172435,
     "user": {
      "displayName": "山本亮介",
      "userId": "01861936879830612877"
     },
     "user_tz": -540
    },
    "id": "3cf643e8-28d5-4598-8f35-4251ffd6a981",
    "outputId": "e507047e-02c1-410e-e939-2ab5addde56f"
   },
   "outputs": [
    {
     "data": {
      "text/plain": [
       "[[5, 0, 10, 9, 7, 8, 4, 3, 2, 1, 6], [10, 9, 8, 3, 2, 6, 7, 1, 5, 4, 0]]"
      ]
     },
     "execution_count": 6,
     "metadata": {},
     "output_type": "execute_result"
    }
   ],
   "source": [
    "load_knot('8_5')"
   ]
  }
 ],
 "metadata": {
  "colab": {
   "collapsed_sections": [
    "fa402f97-ccc7-46f9-831e-3045b09de876"
   ],
   "provenance": [],
   "toc_visible": true
  },
  "kernelspec": {
   "display_name": "Python 3 (ipykernel)",
   "language": "python",
   "name": "python3"
  },
  "language_info": {
   "codemirror_mode": {
    "name": "ipython",
    "version": 3
   },
   "file_extension": ".py",
   "mimetype": "text/x-python",
   "name": "python",
   "nbconvert_exporter": "python",
   "pygments_lexer": "ipython3",
   "version": "3.12.3"
  }
 },
 "nbformat": 4,
 "nbformat_minor": 5
}
