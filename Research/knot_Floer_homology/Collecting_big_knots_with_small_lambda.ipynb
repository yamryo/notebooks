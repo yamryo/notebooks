{
 "cells": [
  {
   "cell_type": "markdown",
   "id": "27843c05-5bed-49b1-8292-e1589cad6f9e",
   "metadata": {},
   "source": [
    "## Modules"
   ]
  },
  {
   "cell_type": "code",
   "execution_count": null,
   "id": "14c7ea7c-d8c9-4a75-a3a9-ccde4f2bb0cc",
   "metadata": {
    "scrolled": true,
    "tags": []
   },
   "outputs": [],
   "source": [
    "import os\n",
    "import numpy as np\n",
    "import pandas as pd\n",
    "import ast\n",
    "\n",
    "from multiprocessing import Pool, cpu_count\n",
    "from tqdm.notebook import tqdm\n",
    "\n",
    "from GridPythonModule import *\n",
    "from GPM_wrapper import *\n",
    "from knot_floer_homology import *\n",
    "\n",
    "# ----- Debugger -----\n",
    "# from IPython.core.debugger import Pdb; Pdb().set_trace()"
   ]
  },
  {
   "cell_type": "markdown",
   "id": "bb0b7bd7-5f16-4b2e-bc97-20a1546c36fa",
   "metadata": {},
   "source": [
    "## Functions"
   ]
  },
  {
   "cell_type": "code",
   "execution_count": null,
   "id": "2ef84339-2a79-485f-bb30-faf40081f52e",
   "metadata": {},
   "outputs": [],
   "source": [
    "def get_fitted_grid(G):\n",
    "    rtn = None\n",
    "    G = simplify_grid(G)\n",
    "    cr = crossing_number(G)\n",
    "    nc = number_of_components(G)\n",
    "    if nc == 1 and cr > 16:\n",
    "        rtn = (G,cr)\n",
    "    return rtn\n",
    "#---    \n",
    "def calc_hfk(G_tuple):\n",
    "    G, cr = G_tuple\n",
    "    rtn = None\n",
    "    PD = Grid(*G).get_PD()\n",
    "    hfk = pd_to_hfk(PD)\n",
    "    if hfk['fibered']:\n",
    "        sg = hfk['seifert_genus']\n",
    "        ranks = hfk['ranks']\n",
    "        hfk['lmd'] = []\n",
    "        for pg in ranks.keys():\n",
    "            if pg[0] == sg:\n",
    "                hfk['lmd'].append(pg[1])\n",
    "            elif pg[0] == (-1)*sg:\n",
    "                hfk['lmd'].append((-1)*pg[1])\n",
    "        rtn = {'cr_num': cr, 'seifert_genus': sg, 'lmd': hfk['lmd'], 'ranks': hfk['ranks'], 'grid': G, 'PD notation': PD}        \n",
    "    return rtn"
   ]
  },
  {
   "cell_type": "markdown",
   "id": "72ca1498-58be-4c03-8cf8-8bbaf669abf7",
   "metadata": {},
   "source": [
    "## Scratch"
   ]
  },
  {
   "cell_type": "code",
   "execution_count": null,
   "id": "35f19607-c95e-49b9-9885-57e97946c29e",
   "metadata": {},
   "outputs": [],
   "source": [
    "result = []\n",
    "N, gsize = 50, 20\n",
    "\n",
    "with tqdm(total=N, desc = '# of required knots') as pbar:\n",
    "    while len(result) < N:\n",
    "        ### Collect fitted grids\n",
    "        Glist, Glist_len = [], 80\n",
    "        with tqdm(total=Glist_len, desc = 'generating Glist') as pbar_Glist:\n",
    "            fails, fmax = 0, 100\n",
    "            while len(Glist) < Glist_len and fails < fmax:\n",
    "                with Pool(processes=8) as pool:\n",
    "                    grids = [generate_random_grid(gsize) for _ in range(100)]\n",
    "                    output = [v for v in pool.map(get_fitted_grid, grids) if v is not None]\n",
    "                    if len(output) > 0: \n",
    "                        Glist += output\n",
    "                        pbar_Glist.update(len(output))\n",
    "                    else:\n",
    "                        fails += 1\n",
    "            if fails >= fmax:\n",
    "                print(f\"Fail to generate Glist {fails} times!\")\n",
    "                break\n",
    "\n",
    "        ### Collect knots satisfying seifert genus > lamda\n",
    "        with Pool(processes=8) as pool:\n",
    "            output = [v for v in list(tqdm(pool.imap(calc_hfk, Glist), total = len(Glist), desc='hfk calc')) if v is not None]\n",
    "            if len(output) > 0:\n",
    "                result += output\n",
    "                pbar.update(len(output))\n",
    "#---\n",
    "DF = pd.DataFrame(result); display(DF)\n",
    "filename = f\"./data/hfk_for_knots_with_over_16_crossings.csv\"\n",
    "DF.to_csv(filename, mode = 'a', index=False, header = (not os.path.isfile(filename)))"
   ]
  },
  {
   "cell_type": "code",
   "execution_count": null,
   "id": "be06db72-a5dd-4b27-ae7a-0f58b36ea565",
   "metadata": {},
   "outputs": [],
   "source": [
    "count, trial_Max = 0, 10**3 \n",
    "gsize, Glist_len = 30, 24\n",
    "\n",
    "with tqdm(total=trial_Max, desc = 'Trial Count') as pbar:\n",
    "    result = []\n",
    "    while (not result) and count < trial_Max:\n",
    "        ### Collect fitted grids\n",
    "        Glist = []\n",
    "        fails, fmax = 0, 100\n",
    "        while len(Glist) < Glist_len and fails < fmax:\n",
    "            with Pool(processes=8) as pool:\n",
    "                grids = [generate_random_grid(gsize) for _ in range(100)]\n",
    "                output = [v for v in pool.map(get_fitted_grid, grids) if v is not None]\n",
    "                if len(output) > 0: \n",
    "                    Glist += output\n",
    "                else:\n",
    "                    fails += 1\n",
    "        if fails >= fmax:\n",
    "            print(f\"Fail to generate Glist {fails} times!\")\n",
    "            break\n",
    "        else:\n",
    "            print(f\"\\rGlist has been ready. len(Glist)={len(Glist)}\", end=\"\")\n",
    "\n",
    "        ### Collect knots with negative lamda\n",
    "        with Pool(processes=8) as pool:\n",
    "            output = [v for v in pool.imap(calc_hfk, Glist) if v is not None]\n",
    "            if len(output) > 0:\n",
    "                for hfk in output:\n",
    "                    if sum(x<0 for x in hfk['lmd']) > 0:\n",
    "                        result.append(hfk)\n",
    "        count += 1\n",
    "        pbar.update(count)\n",
    "        print(f\"\\rCompleted the computation for hfk.\", end=\"\")\n",
    "#---\n",
    "if result:\n",
    "    DF = pd.DataFrame(result); display(DF)\n",
    "    # filename = f\"./data/knots_with_negative_lambda.csv\"\n",
    "    # DF.to_csv(filename, mode = 'a', index=False, header = (not os.path.isfile(filename)))"
   ]
  }
 ],
 "metadata": {
  "kernelspec": {
   "display_name": "Python 3 (ipykernel)",
   "language": "python",
   "name": "python3"
  },
  "language_info": {
   "codemirror_mode": {
    "name": "ipython",
    "version": 3
   },
   "file_extension": ".py",
   "mimetype": "text/x-python",
   "name": "python",
   "nbconvert_exporter": "python",
   "pygments_lexer": "ipython3",
   "version": "3.11.8"
  }
 },
 "nbformat": 4,
 "nbformat_minor": 5
}
