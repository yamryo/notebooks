{
 "cells": [
  {
   "cell_type": "markdown",
   "id": "27843c05-5bed-49b1-8292-e1589cad6f9e",
   "metadata": {},
   "source": [
    "## Modules"
   ]
  },
  {
   "cell_type": "code",
   "execution_count": 1,
   "id": "14c7ea7c-d8c9-4a75-a3a9-ccde4f2bb0cc",
   "metadata": {
    "scrolled": true,
    "tags": []
   },
   "outputs": [],
   "source": [
    "import os\n",
    "import numpy as np\n",
    "import pandas as pd\n",
    "import ast\n",
    "\n",
    "from multiprocessing import Pool, cpu_count\n",
    "from tqdm.notebook import tqdm\n",
    "\n",
    "from GridPythonModule import *\n",
    "from GPM_wrapper import *\n",
    "from knot_floer_homology import *\n",
    "\n",
    "# ----- Debugger -----\n",
    "# from IPython.core.debugger import Pdb; Pdb().set_trace()"
   ]
  },
  {
   "cell_type": "markdown",
   "id": "bb0b7bd7-5f16-4b2e-bc97-20a1546c36fa",
   "metadata": {},
   "source": [
    "## Functions"
   ]
  },
  {
   "cell_type": "code",
   "execution_count": 2,
   "id": "2ef84339-2a79-485f-bb30-faf40081f52e",
   "metadata": {},
   "outputs": [],
   "source": [
    "def get_fitted_grid(G):\n",
    "    rtn = None\n",
    "    G = simplify_grid(G)\n",
    "    cr = crossing_number(G)\n",
    "    nc = number_of_components(G)\n",
    "    if nc == 1 and cr > 16:\n",
    "        rtn = (G,cr)\n",
    "    return rtn\n",
    "#---    \n",
    "def calc_hfk(G_tuple):\n",
    "    G, cr = G_tuple\n",
    "    rtn = None\n",
    "    PD = Grid(*G).get_PD()\n",
    "    hfk = pd_to_hfk(PD)\n",
    "    if hfk['fibered']:\n",
    "        sg = hfk['seifert_genus']\n",
    "        ranks = hfk['ranks']\n",
    "        hfk['lmd'] = []\n",
    "        for pg in ranks.keys():\n",
    "            if pg[0] == sg:\n",
    "                hfk['lmd'].append(pg[1])\n",
    "            elif pg[0] == (-1)*sg:\n",
    "                hfk['lmd'].append((-1)*pg[1])\n",
    "        rtn = {'cr_num': cr, 'seifert_genus': sg, 'lmd': hfk['lmd'], 'ranks': hfk['ranks'], 'grid': G, 'PD notation': PD}        \n",
    "    return rtn"
   ]
  },
  {
   "cell_type": "markdown",
   "id": "72ca1498-58be-4c03-8cf8-8bbaf669abf7",
   "metadata": {},
   "source": [
    "## Scratch"
   ]
  },
  {
   "cell_type": "code",
   "execution_count": 3,
   "id": "35f19607-c95e-49b9-9885-57e97946c29e",
   "metadata": {},
   "outputs": [
    {
     "data": {
      "application/vnd.jupyter.widget-view+json": {
       "model_id": "9de7068aa63546aca91f97721ea5cfb1",
       "version_major": 2,
       "version_minor": 0
      },
      "text/plain": [
       "# of required knots:   0%|          | 0/20 [00:00<?, ?it/s]"
      ]
     },
     "metadata": {},
     "output_type": "display_data"
    },
    {
     "data": {
      "application/vnd.jupyter.widget-view+json": {
       "model_id": "58dc7c8954614f4a9823843974d7a77a",
       "version_major": 2,
       "version_minor": 0
      },
      "text/plain": [
       "generating Glist:   0%|          | 0/80 [00:00<?, ?it/s]"
      ]
     },
     "metadata": {},
     "output_type": "display_data"
    },
    {
     "data": {
      "application/vnd.jupyter.widget-view+json": {
       "model_id": "f616076ca60f4cd6899400e550897372",
       "version_major": 2,
       "version_minor": 0
      },
      "text/plain": [
       "hfk calc:   0%|          | 0/80 [00:00<?, ?it/s]"
      ]
     },
     "metadata": {},
     "output_type": "display_data"
    },
    {
     "ename": "NameError",
     "evalue": "name 'Grid' is not defined",
     "output_type": "error",
     "traceback": [
      "\u001b[0;31m---------------------------------------------------------------------------\u001b[0m",
      "\u001b[0;31mRemoteTraceback\u001b[0m                           Traceback (most recent call last)",
      "\u001b[0;31mRemoteTraceback\u001b[0m: \n\"\"\"\nTraceback (most recent call last):\n  File \"/usr/lib64/python3.6/multiprocessing/pool.py\", line 119, in worker\n    result = (True, func(*args, **kwds))\n  File \"<ipython-input-2-c04a617926e7>\", line 13, in calc_hfk\n    PD = Grid(*G).get_PD()\nNameError: name 'Grid' is not defined\n\"\"\"",
      "\nThe above exception was the direct cause of the following exception:\n",
      "\u001b[0;31mNameError\u001b[0m                                 Traceback (most recent call last)",
      "\u001b[0;32m<ipython-input-3-404b42c350aa>\u001b[0m in \u001b[0;36m<module>\u001b[0;34m\u001b[0m\n\u001b[1;32m     23\u001b[0m         \u001b[0;31m### Collect knots satisfying seifert genus > lamda\u001b[0m\u001b[0;34m\u001b[0m\u001b[0;34m\u001b[0m\u001b[0;34m\u001b[0m\u001b[0m\n\u001b[1;32m     24\u001b[0m         \u001b[0;32mwith\u001b[0m \u001b[0mPool\u001b[0m\u001b[0;34m(\u001b[0m\u001b[0mprocesses\u001b[0m\u001b[0;34m=\u001b[0m\u001b[0;36m8\u001b[0m\u001b[0;34m)\u001b[0m \u001b[0;32mas\u001b[0m \u001b[0mpool\u001b[0m\u001b[0;34m:\u001b[0m\u001b[0;34m\u001b[0m\u001b[0;34m\u001b[0m\u001b[0m\n\u001b[0;32m---> 25\u001b[0;31m             \u001b[0moutput\u001b[0m \u001b[0;34m=\u001b[0m \u001b[0;34m[\u001b[0m\u001b[0mv\u001b[0m \u001b[0;32mfor\u001b[0m \u001b[0mv\u001b[0m \u001b[0;32min\u001b[0m \u001b[0mlist\u001b[0m\u001b[0;34m(\u001b[0m\u001b[0mtqdm\u001b[0m\u001b[0;34m(\u001b[0m\u001b[0mpool\u001b[0m\u001b[0;34m.\u001b[0m\u001b[0mimap\u001b[0m\u001b[0;34m(\u001b[0m\u001b[0mcalc_hfk\u001b[0m\u001b[0;34m,\u001b[0m \u001b[0mGlist\u001b[0m\u001b[0;34m)\u001b[0m\u001b[0;34m,\u001b[0m \u001b[0mtotal\u001b[0m \u001b[0;34m=\u001b[0m \u001b[0mlen\u001b[0m\u001b[0;34m(\u001b[0m\u001b[0mGlist\u001b[0m\u001b[0;34m)\u001b[0m\u001b[0;34m,\u001b[0m \u001b[0mdesc\u001b[0m\u001b[0;34m=\u001b[0m\u001b[0;34m'hfk calc'\u001b[0m\u001b[0;34m)\u001b[0m\u001b[0;34m)\u001b[0m \u001b[0;32mif\u001b[0m \u001b[0mv\u001b[0m \u001b[0;32mis\u001b[0m \u001b[0;32mnot\u001b[0m \u001b[0;32mNone\u001b[0m\u001b[0;34m]\u001b[0m\u001b[0;34m\u001b[0m\u001b[0;34m\u001b[0m\u001b[0m\n\u001b[0m\u001b[1;32m     26\u001b[0m             \u001b[0;32mif\u001b[0m \u001b[0mlen\u001b[0m\u001b[0;34m(\u001b[0m\u001b[0moutput\u001b[0m\u001b[0;34m)\u001b[0m \u001b[0;34m>\u001b[0m \u001b[0;36m0\u001b[0m\u001b[0;34m:\u001b[0m\u001b[0;34m\u001b[0m\u001b[0;34m\u001b[0m\u001b[0m\n\u001b[1;32m     27\u001b[0m                 \u001b[0mresult\u001b[0m \u001b[0;34m+=\u001b[0m \u001b[0moutput\u001b[0m\u001b[0;34m\u001b[0m\u001b[0;34m\u001b[0m\u001b[0m\n",
      "\u001b[0;32m~/notebooks/venv/lib64/python3.6/site-packages/tqdm/notebook.py\u001b[0m in \u001b[0;36m__iter__\u001b[0;34m(self)\u001b[0m\n\u001b[1;32m    257\u001b[0m         \u001b[0;32mtry\u001b[0m\u001b[0;34m:\u001b[0m\u001b[0;34m\u001b[0m\u001b[0;34m\u001b[0m\u001b[0m\n\u001b[1;32m    258\u001b[0m             \u001b[0mit\u001b[0m \u001b[0;34m=\u001b[0m \u001b[0msuper\u001b[0m\u001b[0;34m(\u001b[0m\u001b[0mtqdm_notebook\u001b[0m\u001b[0;34m,\u001b[0m \u001b[0mself\u001b[0m\u001b[0;34m)\u001b[0m\u001b[0;34m.\u001b[0m\u001b[0m__iter__\u001b[0m\u001b[0;34m(\u001b[0m\u001b[0;34m)\u001b[0m\u001b[0;34m\u001b[0m\u001b[0;34m\u001b[0m\u001b[0m\n\u001b[0;32m--> 259\u001b[0;31m             \u001b[0;32mfor\u001b[0m \u001b[0mobj\u001b[0m \u001b[0;32min\u001b[0m \u001b[0mit\u001b[0m\u001b[0;34m:\u001b[0m\u001b[0;34m\u001b[0m\u001b[0;34m\u001b[0m\u001b[0m\n\u001b[0m\u001b[1;32m    260\u001b[0m                 \u001b[0;31m# return super(tqdm...) will not catch exception\u001b[0m\u001b[0;34m\u001b[0m\u001b[0;34m\u001b[0m\u001b[0;34m\u001b[0m\u001b[0m\n\u001b[1;32m    261\u001b[0m                 \u001b[0;32myield\u001b[0m \u001b[0mobj\u001b[0m\u001b[0;34m\u001b[0m\u001b[0;34m\u001b[0m\u001b[0m\n",
      "\u001b[0;32m~/notebooks/venv/lib64/python3.6/site-packages/tqdm/std.py\u001b[0m in \u001b[0;36m__iter__\u001b[0;34m(self)\u001b[0m\n\u001b[1;32m   1193\u001b[0m \u001b[0;34m\u001b[0m\u001b[0m\n\u001b[1;32m   1194\u001b[0m         \u001b[0;32mtry\u001b[0m\u001b[0;34m:\u001b[0m\u001b[0;34m\u001b[0m\u001b[0;34m\u001b[0m\u001b[0m\n\u001b[0;32m-> 1195\u001b[0;31m             \u001b[0;32mfor\u001b[0m \u001b[0mobj\u001b[0m \u001b[0;32min\u001b[0m \u001b[0miterable\u001b[0m\u001b[0;34m:\u001b[0m\u001b[0;34m\u001b[0m\u001b[0;34m\u001b[0m\u001b[0m\n\u001b[0m\u001b[1;32m   1196\u001b[0m                 \u001b[0;32myield\u001b[0m \u001b[0mobj\u001b[0m\u001b[0;34m\u001b[0m\u001b[0;34m\u001b[0m\u001b[0m\n\u001b[1;32m   1197\u001b[0m                 \u001b[0;31m# Update and possibly print the progressbar.\u001b[0m\u001b[0;34m\u001b[0m\u001b[0;34m\u001b[0m\u001b[0;34m\u001b[0m\u001b[0m\n",
      "\u001b[0;32m/usr/lib64/python3.6/multiprocessing/pool.py\u001b[0m in \u001b[0;36mnext\u001b[0;34m(self, timeout)\u001b[0m\n\u001b[1;32m    733\u001b[0m         \u001b[0;32mif\u001b[0m \u001b[0msuccess\u001b[0m\u001b[0;34m:\u001b[0m\u001b[0;34m\u001b[0m\u001b[0;34m\u001b[0m\u001b[0m\n\u001b[1;32m    734\u001b[0m             \u001b[0;32mreturn\u001b[0m \u001b[0mvalue\u001b[0m\u001b[0;34m\u001b[0m\u001b[0;34m\u001b[0m\u001b[0m\n\u001b[0;32m--> 735\u001b[0;31m         \u001b[0;32mraise\u001b[0m \u001b[0mvalue\u001b[0m\u001b[0;34m\u001b[0m\u001b[0;34m\u001b[0m\u001b[0m\n\u001b[0m\u001b[1;32m    736\u001b[0m \u001b[0;34m\u001b[0m\u001b[0m\n\u001b[1;32m    737\u001b[0m     \u001b[0m__next__\u001b[0m \u001b[0;34m=\u001b[0m \u001b[0mnext\u001b[0m                    \u001b[0;31m# XXX\u001b[0m\u001b[0;34m\u001b[0m\u001b[0;34m\u001b[0m\u001b[0m\n",
      "\u001b[0;31mNameError\u001b[0m: name 'Grid' is not defined"
     ]
    }
   ],
   "source": [
    "result = []\n",
    "N, gsize = 20, 20\n",
    "\n",
    "with tqdm(total=N, desc = '# of required knots') as pbar:\n",
    "    while len(result) < N:\n",
    "        ### Collect fitted grids\n",
    "        Glist, Glist_len = [], 80\n",
    "        with tqdm(total=Glist_len, desc = 'generating Glist') as pbar_Glist:\n",
    "            fails, fmax = 0, 100\n",
    "            while len(Glist) < Glist_len and fails < fmax:\n",
    "                with Pool(processes=8) as pool:\n",
    "                    grids = [generate_random_grid(gsize) for _ in range(100)]\n",
    "                    output = [v for v in pool.map(get_fitted_grid, grids) if v is not None]\n",
    "                    if len(output) > 0: \n",
    "                        Glist += output\n",
    "                        pbar_Glist.update(len(output))\n",
    "                    else:\n",
    "                        fails += 1\n",
    "            if fails >= fmax:\n",
    "                print(f\"Fail to generate Glist {fails} times!\")\n",
    "                break\n",
    "\n",
    "        ### Collect knots satisfying seifert genus > lamda\n",
    "        with Pool(processes=8) as pool:\n",
    "            output = [v for v in list(tqdm(pool.imap(calc_hfk, Glist), total = len(Glist), desc='hfk calc')) if v is not None]\n",
    "            if len(output) > 0:\n",
    "                result += output\n",
    "                pbar.update(len(output))\n",
    "#---\n",
    "DF = pd.DataFrame(result); display(DF)\n",
    "#filename = f\"./data/hfk_for_knots_with_over_16_crossings.csv\"\n",
    "#DF.to_csv(filename, mode = 'a', index=False, header = (not os.path.isfile(filename)))"
   ]
  },
  {
   "cell_type": "code",
   "execution_count": null,
   "id": "be06db72-a5dd-4b27-ae7a-0f58b36ea565",
   "metadata": {},
   "outputs": [],
   "source": [
    "count, trial_Max = 0, 10**3 \n",
    "gsize, Glist_len = 30, 24\n",
    "\n",
    "with tqdm(total=trial_Max, desc = 'Trial Count') as pbar:\n",
    "    result = []\n",
    "    while (not result) and count < trial_Max:\n",
    "        ### Collect fitted grids\n",
    "        Glist = []\n",
    "        fails, fmax = 0, 100\n",
    "        while len(Glist) < Glist_len and fails < fmax:\n",
    "            with Pool(processes=8) as pool:\n",
    "                grids = [generate_random_grid(gsize) for _ in range(100)]\n",
    "                output = [v for v in pool.map(get_fitted_grid, grids) if v is not None]\n",
    "                if len(output) > 0: \n",
    "                    Glist += output\n",
    "                else:\n",
    "                    fails += 1\n",
    "        if fails >= fmax:\n",
    "            print(f\"Fail to generate Glist {fails} times!\")\n",
    "            break\n",
    "        else:\n",
    "            print(f\"\\rGlist has been ready. len(Glist)={len(Glist)}\", end=\"\")\n",
    "\n",
    "        ### Collect knots with negative lamda\n",
    "        with Pool(processes=8) as pool:\n",
    "            output = [v for v in pool.imap(calc_hfk, Glist) if v is not None]\n",
    "            if len(output) > 0:\n",
    "                for hfk in output:\n",
    "                    if sum(x<0 for x in hfk['lmd']) > 0:\n",
    "                        result.append(hfk)\n",
    "        count += 1\n",
    "        pbar.update(count)\n",
    "        print(f\"\\rCompleted the computation for hfk.\", end=\"\")\n",
    "#---\n",
    "if result:\n",
    "    DF = pd.DataFrame(result); display(DF)\n",
    "    # filename = f\"./data/knots_with_negative_lambda.csv\"\n",
    "    # DF.to_csv(filename, mode = 'a', index=False, header = (not os.path.isfile(filename)))"
   ]
  }
 ],
 "metadata": {
  "kernelspec": {
   "display_name": "Python 3",
   "language": "python",
   "name": "python3"
  },
  "language_info": {
   "codemirror_mode": {
    "name": "ipython",
    "version": 3
   },
   "file_extension": ".py",
   "mimetype": "text/x-python",
   "name": "python",
   "nbconvert_exporter": "python",
   "pygments_lexer": "ipython3",
   "version": "3.6.8"
  }
 },
 "nbformat": 4,
 "nbformat_minor": 5
}
