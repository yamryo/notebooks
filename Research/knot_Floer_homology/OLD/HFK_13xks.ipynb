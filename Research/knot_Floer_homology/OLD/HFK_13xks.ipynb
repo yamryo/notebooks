{
 "cells": [
  {
   "cell_type": "code",
   "execution_count": 2,
   "id": "0d068d61-1c5a-49bb-a307-9b7e182bd4ac",
   "metadata": {
    "collapsed": true,
    "jupyter": {
     "outputs_hidden": true
    },
    "scrolled": true,
    "tags": []
   },
   "outputs": [
    {
     "name": "stdout",
     "output_type": "stream",
     "text": [
      "Help on built-in function pd_to_hfk in module knot_floer_homology.hfk:\n",
      "\n",
      "pd_to_hfk(...)\n",
      "    >>> pd = 'PD[(5,3,0,2),(1,5,2,4),(3,1,4,0)]'\n",
      "    >>> HFK = pd_to_hfk(pd)\n",
      "    >>> sorted(HFK['ranks'].keys())\n",
      "    [(-1, -2), (0, -1), (1, 0)]\n",
      "    >>> HFK['total_rank']\n",
      "    3\n",
      "    \n",
      "    >>> pd = 'PD[(2,0,3,19),(6,2,7,1),(4,10,5,9),(15,8,16,9),(13,18,14,19),'\n",
      "    >>> pd +=   '(7,14,8,15),(10,4,11,3),(17,12,18,13),(0,6,1,5),(11,16,12,17)]'\n",
      "    >>> HFK = pd_to_hfk(pd)\n",
      "    >>> HFK['total_rank']\n",
      "    17\n",
      "    >>> HFK['tau'], HFK['nu'], HFK['epsilon']\n",
      "    (0, 0, 0)\n",
      "    \n",
      "    >>> pd_code = [(2,0,3,15), (0,6,1,5), (6,2,7,1), (3,11,4,10),\n",
      "    ...            (11,5,12,4), (7,13,8,12), (13,9,14,8), (9,15,10,14)]\n",
      "    >>> HFK = pd_to_hfk(pd_code)\n",
      "    >>> sum(HFK['ranks'].values()) == HFK['total_rank']\n",
      "    True\n",
      "    >>> HFK['tau'], HFK['nu'], HFK['epsilon']\n",
      "    (3, 3, 1)\n",
      "    \n",
      "    If the parameter `complex` is set to True, then the simplified\n",
      "    \"UV = 0\" knot Floer chain complex is returned. This complex is\n",
      "    computed over the ring F[U,V]/(UV = 0), where F is the integers\n",
      "    mod the chosen prime; this corresponds to only the horizontal and\n",
      "    vertical arrows in the full knot Floer complex. The complex is\n",
      "    specified by:\n",
      "    \n",
      "    * generators: a dictionary from the generator names to their\n",
      "      (Alexander, Maslov) gradings.  The number of generators is\n",
      "      equal to the total_rank.\n",
      "    \n",
      "    * differential: a dictionary whose value on (a, b) is an integer\n",
      "      specifying the coefficient on the differential from generator a\n",
      "      to generator b, where only nonzero differentials are\n",
      "      recorded. (The coefficient on the differential is really an\n",
      "      element of F[U,V]/(UV = 0), but the power of U or V can be\n",
      "      recovered from the gradings on a and b so only the element of F\n",
      "      is recorded.)\n",
      "    \n",
      "    For example, to compute the vertical differential, whose homology\n",
      "    is HFhat(S^3), you can do:\n",
      "    \n",
      "    >>> data = pd_to_hfk(pd_code, complex=True)\n",
      "    >>> gens, diff = data['generators'], data['differentials']\n",
      "    >>> vert = {(i,j):diff[i, j] for i, j in diff\n",
      "    ...                          if gens[i][1] == gens[j][1] + 1}\n",
      "    >>> len(vert)\n",
      "    2\n",
      "\n"
     ]
    }
   ],
   "source": [
    "import sys; sys.path.append(\"../modules\")\n",
    "import random\n",
    "\n",
    "import numpy as np\n",
    "import sympy; sympy.init_printing()\n",
    "\n",
    "import Permutation as pm\n",
    "from Grid import *\n",
    "\n",
    "from tqdm.notebook import tqdm\n",
    "# ----- Debugger -----\n",
    "# from IPython.core.debugger import Pdb; Pdb().set_trace()\n",
    "\n",
    "from knot_floer_homology import *\n",
    "help(pd_to_hfk)"
   ]
  },
  {
   "cell_type": "code",
   "execution_count": 3,
   "id": "55c4e89a-db19-4517-99b8-48fb0afe87cf",
   "metadata": {},
   "outputs": [
    {
     "name": "stdout",
     "output_type": "stream",
     "text": [
      "{'Name': '13a_2', 'PD': [(3, 1, 4, 26), (1, 8, 2, 9), (7, 2, 8, 3), (9, 5, 10, 4), (5, 14, 6, 15), (13, 6, 14, 7), (15, 11, 16, 10), (11, 19, 12, 18), (19, 13, 20, 12), (23, 17, 24, 16), (17, 23, 18, 22), (25, 20, 26, 21), (21, 24, 22, 25)], 'Rasmussen s': '2', 'Ozsvath-Szabo tau': '1', 'L-space': 'No', 'Nu': '1', 'Epsilon': '1'}\n"
     ]
    }
   ],
   "source": [
    "import csv\n",
    "import ast\n",
    "\n",
    "knots_data = [] # a list of dicts which has keys 'Name', 'PD Notation', 'Rasmussen s', Ozsvath-Szabo tau', 'L-space', 'Nu' and 'Epsilon'.\n",
    "\n",
    "with open('knotinfo.csv', 'r') as f:\n",
    "    dataReader = csv.reader(f)\n",
    "    keys = next(dataReader)\n",
    "    for row in dataReader:\n",
    "        knot_dict = {}\n",
    "        for col in range(len(row)):\n",
    "            key = keys[col]\n",
    "            if key == \"PD Notation\":\n",
    "                key = 'PD'\n",
    "                value = [tuple(l) for l in ast.literal_eval(row[col].translate(str.maketrans({';': ','})))]\n",
    "            else:\n",
    "                value = row[col]\n",
    "            knot_dict[key] = value\n",
    "        knots_data.append(knot_dict)\n",
    "            \n",
    "print(knots_data[1])"
   ]
  },
  {
   "cell_type": "code",
   "execution_count": 4,
   "id": "834aa85c-b442-4497-b9c6-adb7caa12931",
   "metadata": {},
   "outputs": [
    {
     "name": "stdout",
     "output_type": "stream",
     "text": [
      "{'Name': '13a_1000', 'Rasmussen s': '2', 'Ozsvath-Szabo tau': '1', 'L-space': 'No', 'Nu': '1', 'Epsilon': '1'}\n"
     ]
    },
    {
     "data": {
      "text/plain": [
       "{'L_space_knot': False,\n",
       " 'epsilon': 1,\n",
       " 'fibered': True,\n",
       " 'modulus': 2,\n",
       " 'nu': 1,\n",
       " 'ranks': {(-4, -5): 1,\n",
       "  (-3, -4): 10,\n",
       "  (-2, -3): 40,\n",
       "  (-1, -2): 86,\n",
       "  (0, -1): 109,\n",
       "  (1, 0): 86,\n",
       "  (2, 1): 40,\n",
       "  (3, 2): 10,\n",
       "  (4, 3): 1},\n",
       " 'seifert_genus': 4,\n",
       " 'tau': 1,\n",
       " 'total_rank': 383}"
      ]
     },
     "execution_count": 4,
     "metadata": {},
     "output_type": "execute_result"
    }
   ],
   "source": [
    "KD = knots_data[999]\n",
    "\n",
    "#print(\"[{}] -->  L-space: {}, Nu: {}\".format(KD['Name'], KD['L-space'], KD['Nu']))\n",
    "print({k: v for k,v in KD.items() if k != 'PD'})\n",
    "\n",
    "pd_to_hfk(KD['PD'])"
   ]
  },
  {
   "cell_type": "code",
   "execution_count": 5,
   "id": "b17cce30-308c-4a4a-a4ba-4eef5f616ea9",
   "metadata": {},
   "outputs": [
    {
     "data": {
      "application/vnd.jupyter.widget-view+json": {
       "model_id": "9d77072fd2b94855b4eeb39c505458c3",
       "version_major": 2,
       "version_minor": 0
      },
      "text/plain": [
       "  0%|          | 0/9988 [00:00<?, ?it/s]"
      ]
     },
     "metadata": {},
     "output_type": "display_data"
    }
   ],
   "source": [
    "for kd in tqdm(knots_data):\n",
    "    knotinfo_ep = ast.literal_eval(kd['Ozsvath-Szabo tau'])\n",
    "    result = pd_to_hfk(kd['PD'])\n",
    "    calculated_ep = result['tau']\n",
    "    if knotinfo_ep != calculated_ep:\n",
    "        #print(\"Different!!\")\n",
    "        print(kd)\n",
    "        print(result)\n",
    "        exit"
   ]
  },
  {
   "cell_type": "code",
   "execution_count": null,
   "id": "46b9726e-b20b-4929-9561-3e0454b0e0b0",
   "metadata": {},
   "outputs": [],
   "source": [
    "import os\n",
    "import multiprocessing\n",
    "\n",
    "MAX_COUNT = 100000000\n",
    "ITERATION = 50000000\n",
    "\n",
    "def whoami(what):\n",
    "    #単純な加算\n",
    "    count = 0\n",
    "    for n in range(MAX_COUNT):\n",
    "        if count % ITERATION ==0:\n",
    "            #実行中のプロセスIDと,現在のcount数を表示\n",
    "            print(\"{} Process {} count {}\".format(what,os.getpid(),count))\n",
    "        count +=1\n",
    "    #どのIDのプロセスが終了したかを表示\n",
    "    print(\"end {} Process {}\".format(what,os.getpid()))\n",
    "#現在のプロセスのidを表示\n",
    "print(\"Main Process ID is {}\".format(os.getpid()))\n",
    "#メインのプロセスで実行\n",
    "whoami(\"main program\")\n",
    "\n",
    "print(\"-----------------------------------------------------\")\n",
    "#プロセスを10作りスタートさせる.\n",
    "for n in range(10):\n",
    "    p = multiprocessing.Process(target=whoami,args=(\"Process {}\".format(n),))\n",
    "    p.start()\n",
    "print(\"end of program\")\n",
    "\n"
   ]
  },
  {
   "cell_type": "code",
   "execution_count": null,
   "id": "532476f0-5ec2-445c-aa3f-2d46fc701b78",
   "metadata": {},
   "outputs": [],
   "source": []
  }
 ],
 "metadata": {
  "kernelspec": {
   "display_name": "Python 3 (ipykernel)",
   "language": "python",
   "name": "python3"
  },
  "language_info": {
   "codemirror_mode": {
    "name": "ipython",
    "version": 3
   },
   "file_extension": ".py",
   "mimetype": "text/x-python",
   "name": "python",
   "nbconvert_exporter": "python",
   "pygments_lexer": "ipython3",
   "version": "3.11.8"
  }
 },
 "nbformat": 4,
 "nbformat_minor": 5
}
