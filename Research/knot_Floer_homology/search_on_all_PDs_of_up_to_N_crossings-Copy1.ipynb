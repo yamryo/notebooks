{
 "cells": [
  {
   "cell_type": "markdown",
   "id": "f8238f91-09ca-4db1-a038-19b5dfcd2c39",
   "metadata": {},
   "source": [
    "# Modules"
   ]
  },
  {
   "cell_type": "code",
   "execution_count": 1,
   "id": "276529b8-e981-43c7-a5a2-2e1aa3d72779",
   "metadata": {
    "tags": []
   },
   "outputs": [],
   "source": [
    "import math\n",
    "import random\n",
    "#import re\n",
    "from functools import reduce\n",
    "from itertools import permutations\n",
    "# import pandas as pd\n",
    "#import sympy\n",
    "#sympy.init_printing()\n",
    "\n",
    "import sys; sys.path.append(\"../modules\")\n",
    "from Permutation import *\n",
    "\n",
    "from tqdm.notebook import tqdm\n",
    "#from multiprocessing import Pool, cpu_count\n",
    "from multiprocess import Pool\n",
    "\n",
    "# ----- Debugger -----\n",
    "# from IPython.core.debugger import Pdb; Pdb().set_trace()\n",
    "\n",
    "from knot_floer_homology import *\n",
    "#help(pd_to_hfk)"
   ]
  },
  {
   "cell_type": "markdown",
   "id": "50d250c9-330e-46c7-9f29-92b65d48a07f",
   "metadata": {
    "jp-MarkdownHeadingCollapsed": true
   },
   "source": [
    "# Creating PD-codes for knots with given crossing number"
   ]
  },
  {
   "cell_type": "code",
   "execution_count": null,
   "id": "2e97f06f-8c19-4bba-b0e7-6ea7789e6bfd",
   "metadata": {
    "tags": []
   },
   "outputs": [],
   "source": [
    "N = 4\n",
    "\n",
    "def cross(x: int, y: int, sign: int):\n",
    "    if sign not in range(4): raise(ArgumentError) # signs are 0b00, 0b01, 0b10, 0b11\n",
    "    if (sign & 0b10):\n",
    "        ft, lt = (x, x%(2*N)+1), (y, y%(2*N)+1)\n",
    "    else:\n",
    "        ft, lt = (y, y%(2*N)+1), (x, x%(2*N)+1)\n",
    "    if (sign & 0b01):\n",
    "        pd = (ft[0], lt[0], ft[1], lt[1])\n",
    "    else:\n",
    "        pd = (ft[0], lt[1], ft[1], lt[0])\n",
    "    return pd    \n",
    "\n",
    "lmd_data = [0 for _ in range(10)]\n",
    "def calc_hfk(signs):\n",
    "    print(bin(signs))\n",
    "    for perm in permutations(range(1, N+1), N):\n",
    "        if (perm[0] == N) or (perm[N-1] == 1):\n",
    "            return None\n",
    "        #-----\n",
    "        pd = [cross(N+1+i, perm[i], ((signs >> 2*i) & 0b11)) for i in range(N)]\n",
    "        #---\n",
    "        cs = [Cycle([x-1 for x in tup], 2*N) for tup in pd]\n",
    "        pd_perm = reduce((lambda x,y: x*y), cs) #; print(f\"{pd_perm}\\n\\n\")\n",
    "        num_of_orbits = len(cycle_decomp(pd_perm))\n",
    "        print(f\"{perm} --> {pd_perm.image} --> {num_of_orbits}\\n\")\n",
    "        if num_of_orbits - N == 2:\n",
    "            print(pd)\n",
    "            hfk = pd_to_hfk(pd)\n",
    "            if hfk['fibered'] and hfk['seifert_genus'] > 0:\n",
    "                sg = hfk['seifert_genus']\n",
    "                ranks = hfk['ranks']\n",
    "                for pg in ranks.keys():\n",
    "                    if pg[0] == sg:\n",
    "                        lmd = pg[1]\n",
    "                print(lmd)\n",
    "                lmd_data.setdefault(str(lmd), 0) \n",
    "                lmd_data[str(lmd)] += 1\n",
    "                if lmd < 0:\n",
    "                    print(pd)\n",
    "                    return pd\n",
    "        return None\n",
    "for signs in range(4**(N-1)):\n",
    "    calc_hfk(signs)\n",
    "# with Pool(processes=8) as pool:\n",
    "#     list(tqdm(pool.imap(calc_hfk, range(4**(N-1))), total = 4**(N-1)))\n",
    "# #print(len(output), math.factorial(N)*(4**(N-1)))\n",
    "print(lmd_data)"
   ]
  },
  {
   "cell_type": "markdown",
   "id": "4af9b175-5baf-4ebd-9ed2-347141f034f6",
   "metadata": {},
   "source": [
    "## scratch"
   ]
  },
  {
   "cell_type": "code",
   "execution_count": null,
   "id": "59838845-b2dd-4b49-be67-54755d2a6554",
   "metadata": {},
   "outputs": [],
   "source": [
    "mdic = {'a': 4}\n",
    "\n",
    "mdic.setdefault('a', 0)\n",
    "mdic['a'] += 1\n",
    "print(mdic)"
   ]
  },
  {
   "cell_type": "code",
   "execution_count": null,
   "id": "4046e54b-3ed5-4ce2-b413-fca2b0adffaf",
   "metadata": {
    "tags": []
   },
   "outputs": [],
   "source": [
    "N = 6\n",
    "hfk_data = []\n",
    "\n",
    "def cross(x: int, y: int, sign: int):\n",
    "    if sign not in range(4): raise(ArgumentError) # signs are 0b00, 0b01, 0b10, 0b11\n",
    "    if (sign & 0b10):\n",
    "        ft, lt = (x, x%(2*N)+1), (y, y%(2*N)+1)\n",
    "    else:\n",
    "        ft, lt = (y, y%(2*N)+1), (x, x%(2*N)+1)\n",
    "    #---\n",
    "    pd = (ft[0], lt[0], ft[1], lt[1]) if (sign & 0b01) else (ft[0], lt[1], ft[1], lt[0])\n",
    "    return pd    \n",
    "\n",
    "for perm in tqdm(permutations(range(1,N+1), N), total=math.factorial(N)):\n",
    "#for perm in permutations(range(1,N+1), N): # iteratation on permutations on {N+1, ... ,2*N+1} \n",
    "    if (perm[0] != N) and (perm[N-1] != 1):\n",
    "        for signs in range(4**(N-1)):\n",
    "            pd = [cross(N+1+i, perm[i], ((signs >> 2*i) & 0b11)) for i in range(N)]\n",
    "            cs = [Cycle([x-1 for x in tup], 2*N) for tup in pd]\n",
    "            pd_perm = reduce((lambda x,y: x*y), cs)\n",
    "            num_of_orbits = len(cycle_decomp(pd_perm))\n",
    "            if num_of_orbits - N == 2:\n",
    "                hfk = pd_to_hfk(pd)\n",
    "                if hfk['fibered'] and hfk['seifert_genus'] > 0:\n",
    "                    hfk_data.append({'pd': pd, 'hfk': hfk})\n",
    "                    \n",
    "hfk_data_slim = [hfk_data[0]]\n",
    "for data in hfk_data:\n",
    "    not_dup = True\n",
    "    for other in hfk_data_slim:\n",
    "        if data['hfk'] == other['hfk']:\n",
    "            not_dup = False\n",
    "            #print(f\"{data}\\n{other}\\n\")\n",
    "    if not_dup:\n",
    "        hfk_data_slim.append(data)\n",
    "        \n",
    "for data in hfk_data_slim:\n",
    "#    print(f\"{data['pd']}\\n hfk: {data['hfk']['ranks']}, {data['hfk']['seifert_genus']}\\n\")\n",
    "    print(f\"{data['pd']}\\n hfk: {data['hfk']}\\n\")"
   ]
  },
  {
   "cell_type": "code",
   "execution_count": null,
   "id": "3ffe0e96-2e22-4474-b80c-0028b25f1ff2",
   "metadata": {},
   "outputs": [],
   "source": [
    "N = 5\n",
    "perm = (2,1,4,3,5)\n",
    "for i in range(N+1):\n",
    "    f_ind = perm.index(i)+1 if i != 0 else N+1\n",
    "    l_ind = perm.index(i+1)+1 if i != N else 0\n",
    "        \n",
    "    print(f\"{i, i+1} --> {f_ind, l_ind} --> {abs(f_ind-l_ind)-1}\")"
   ]
  },
  {
   "cell_type": "code",
   "execution_count": null,
   "id": "ead7a82e-1fc3-4885-a471-16a97960dbb1",
   "metadata": {
    "tags": []
   },
   "outputs": [],
   "source": [
    "#%%time\n",
    "\n",
    "N = 6\n",
    "\n",
    "def cross(x: int, y: int, sign: int):\n",
    "    if sign not in range(4): raise(ArgumentError) # signs are 0b00, 0b01, 0b10, 0b11\n",
    "    if (sign & 0b10):\n",
    "        ft, lt = (x, x%(2*N)+1), (y, y%(2*N)+1)\n",
    "    else:\n",
    "        ft, lt = (y, y%(2*N)+1), (x, x%(2*N)+1)\n",
    "    if (sign & 0b01):\n",
    "        pd = (ft[0], lt[0], ft[1], lt[1])\n",
    "    else:\n",
    "        pd = (ft[0], lt[1], ft[1], lt[0])\n",
    "    return pd    \n",
    "\n",
    "def screen_out(perm):\n",
    "    if (perm[0] == N) or (perm[N-1] == 1):\n",
    "        return True\n",
    "    else:\n",
    "        for i in range(N+1):\n",
    "            f_ind = perm.index(i)+1 if i != 0 else N+1\n",
    "            l_ind = perm.index(i+1)+1 if i != N else 0\n",
    "            if abs(f_ind-l_ind)%2 == 0:\n",
    "                return True\n",
    "    return False\n",
    "\n",
    "def calc_hfk(perm):\n",
    "    if screen_out(perm) is True:\n",
    "        return None\n",
    "    #---\n",
    "    #print(f\"NO, {perm}\\n\")\n",
    "    hfk_data = []\n",
    "    for signs in range(4**(N-1)): # dividing by 4 corresponds to giving the quatiant of the set of all signs w.r.t. reverting all signs at the same time\n",
    "        pd = [cross(N+1+i, perm[i], ((signs >> 2*i) & 0b11)) for i in range(N)]\n",
    "        cs = [Cycle([x-1 for x in tup], 2*N) for tup in pd]\n",
    "        pd_perm = reduce((lambda x,y: x*y), cs) #; print(f\"{pd_perm}\\n\\n\")\n",
    "        num_of_orbits = len(cycle_decomp(pd_perm))\n",
    "        if num_of_orbits - N == 2:\n",
    "            hfk = pd_to_hfk(pd)\n",
    "            if hfk['fibered'] and hfk['seifert_genus'] > 0:\n",
    "                hfk_data.append({'pd': pd, 'hfk': hfk})\n",
    "    return hfk_data\n",
    "\n",
    "hfk_data = []\n",
    "fct = math.factorial(N)\n",
    "with Pool(processes=8) as pool:\n",
    "    output = list(pool.imap(calc_hfk, permutations(range(1,N+1), N)))\n",
    "#    output = list(tqdm(pool.imap(calc_hfk, permutations(range(1, N+1), N)),\n",
    "#                       total=fct, desc='hfk calc'))\n",
    "    for v in output:\n",
    "        if v:\n",
    "            hfk_data += v\n",
    "\n",
    "hfk_data_slim = [hfk_data[0]]\n",
    "for data in hfk_data:\n",
    "    not_dup = True\n",
    "    for other in hfk_data_slim:\n",
    "        if data['hfk'] == other['hfk']:\n",
    "            not_dup = False\n",
    "            #print(f\"{data}\\n{other}\\n\")\n",
    "    if not_dup:\n",
    "        hfk_data_slim.append(data)\n",
    "        \n",
    "for data in hfk_data_slim:\n",
    "#    print(f\"{data['pd']}\\n hfk: {data['hfk']['ranks']}, {data['hfk']['seifert_genus']}\\n\")\n",
    "    print(f\"{data['pd']}\\n hfk: {data['hfk']}\\n\")    "
   ]
  },
  {
   "cell_type": "markdown",
   "id": "02e95c32-8182-4262-a6ad-dd0d62b5a9ec",
   "metadata": {},
   "source": [
    "# Current trial"
   ]
  },
  {
   "cell_type": "code",
   "execution_count": 37,
   "id": "56b6ce2d-c392-4cd2-a512-0914cc96d1e7",
   "metadata": {
    "tags": []
   },
   "outputs": [],
   "source": [
    "def cross(x: int, y: int, sign: int, N) -> tuple:\n",
    "    if sign not in range(4): raise(ArgumentError) # signs are 0b00, 0b01, 0b10, 0b11\n",
    "    if (sign & 0b10):\n",
    "        ft, lt = (x, x%(2*N)+1), (y, y%(2*N)+1)\n",
    "    else:\n",
    "        ft, lt = (y, y%(2*N)+1), (x, x%(2*N)+1)\n",
    "    if (sign & 0b01):\n",
    "        pd = (ft[0], lt[0], ft[1], lt[1])\n",
    "    else:\n",
    "        pd = (ft[0], lt[1], ft[1], lt[0])\n",
    "    return pd    \n",
    "\n",
    "def screen_out(perm: list) -> bool:\n",
    "    N = len(perm)\n",
    "    if (perm[0] == N) or (perm[N-1] == 1):\n",
    "        return True\n",
    "    else:\n",
    "        for i in range(N+1):\n",
    "            f_ind = perm.index(i)+1 if i != 0 else N+1\n",
    "            l_ind = perm.index(i+1)+1 if i != N else 0\n",
    "            if abs(f_ind-l_ind)%2 == 0:\n",
    "                return True\n",
    "    return False\n",
    "\n",
    "def get_PD(perm: list, N: int) -> list:\n",
    "    if screen_out(perm) is True:\n",
    "        return None\n",
    "    #---\n",
    "    pd_list = []\n",
    "    for signs in range(4**(N-1)): # dividing by 4 corresponds to giving the quatiant of the set of all signs w.r.t. reverting all signs at the same time\n",
    "        slist = [((signs >> 2*i) & 0b11) for i in range(N)]\n",
    "        flag = False\n",
    "        for i in range(1, N-1):\n",
    "            ip = perm.index(i), perm.index(i+1)\n",
    "            if (abs(ip[0] - ip[1]) == 1) and (slist[ip[0]] ^ slist[ip[1]] == 1):\n",
    "                flag = True\n",
    "                break\n",
    "        if flag:\n",
    "            continue\n",
    "        #---\n",
    "        pd = [cross(N+1+i, perm[i], slist[i], N) for i in range(N)]\n",
    "        #---\n",
    "        cs = [Cycle([x-1 for x in tup], 2*N) for tup in pd]\n",
    "        pd_perm = reduce((lambda x,y: x*y), cs) #; print(f\"{pd_perm}\\n\\n\")\n",
    "        num_of_orbits = len(cycle_decomp(pd_perm))\n",
    "        if num_of_orbits - N == 2:\n",
    "            pd_list.append(pd)\n",
    "        #---\n",
    "    # print(f\"{perm} --> {len(pd_list)}, {len(cycle_decomp(Permutation([v-1 for v in perm])))} \\n\")\n",
    "    return pd_list\n",
    "    # #---\n",
    "    # signs = random.randint(0, 4**(N-1))\n",
    "    # slist = [((signs >> 2*i) & 0b11) for i in range(N)]\n",
    "    # flag = False\n",
    "    # for i in range(1, N-1):\n",
    "    #     ip = perm.index(i), perm.index(i+1)\n",
    "    #     if (abs(ip[0] - ip[1]) == 1) and (slist[ip[0]] ^ slist[ip[1]] == 1):\n",
    "    #         flag = True\n",
    "    #         return None\n",
    "    #     #---\n",
    "    # pd = [cross(N+1+i, perm[i], slist[i], N) for i in range(N)]\n",
    "    # #---\n",
    "    # cs = [Cycle([x-1 for x in tup], 2*N) for tup in pd]\n",
    "    # pd_perm = reduce((lambda x,y: x*y), cs) #; print(f\"{pd_perm}\\n\\n\")\n",
    "    # num_of_orbits = len(cycle_decomp(pd_perm))\n",
    "    # if num_of_orbits - N == 2:\n",
    "    #     print(f\"{perm, slist} \\n\")\n",
    "    #     return [pd]\n",
    "    # else:\n",
    "    #     return None\n",
    "    \n",
    "def calc_hfk(perm) -> dict:\n",
    "    N = len(perm)\n",
    "    pd_list = get_PD(perm, N)\n",
    "    if pd_list is None or len(pd_list) == 0: return None\n",
    "    lmd_dict = {}\n",
    "    for pd in pd_list:\n",
    "        hfk = pd_to_hfk(pd)\n",
    "        sg = hfk['seifert_genus']\n",
    "        if hfk['fibered'] and sg > 0:\n",
    "            ranks = hfk['ranks']\n",
    "            # print(ranks, sg)\n",
    "            for pg in ranks.keys():\n",
    "                if pg[0] == sg:\n",
    "                    lmd = pg[1]\n",
    "                # elif pg[0] == (-1)*sg:\n",
    "                #     lmd = (-1)*pg[1]\n",
    "            mlmd = 2*sg-lmd\n",
    "            if lmd < 0 or mlmd < 0:\n",
    "                print(pd)\n",
    "            else:\n",
    "                lmd_dict.setdefault(lmd, 0)\n",
    "                lmd_dict[lmd] += 1\n",
    "                lmd_dict.setdefault(mlmd, 0)\n",
    "                lmd_dict[mlmd] += 1\n",
    "    return lmd_dict"
   ]
  },
  {
   "cell_type": "code",
   "execution_count": null,
   "id": "bad0751e-fb22-4eac-809e-ed61aa373e8c",
   "metadata": {
    "tags": []
   },
   "outputs": [],
   "source": [
    "%%time\n",
    "\n",
    "N = 7\n",
    "output = []\n",
    "with Pool(processes=6) as pool:\n",
    "    while len(output) == 0:\n",
    "        output = [v for v in list(pool.imap(calc_hfk, \n",
    "                                # tqdm(\n",
    "                                    permutations(range(1, N+1), N),\n",
    "                                # total=math.factorial(N))\n",
    "                               )) if v]\n",
    "        \n",
    "lmd_dict_merged = {}\n",
    "for dic in output:\n",
    "    if dic:\n",
    "        for lmd in dic.keys():\n",
    "            lmd_dict_merged.setdefault(lmd, 0)\n",
    "            lmd_dict_merged[lmd] += dic[lmd]\n",
    "            \n",
    "print(lmd_dict_merged)"
   ]
  },
  {
   "cell_type": "code",
   "execution_count": 54,
   "id": "6d9fb7ee-d30f-4327-bdd3-26dcab2084d3",
   "metadata": {
    "tags": []
   },
   "outputs": [
    {
     "data": {
      "application/vnd.jupyter.widget-view+json": {
       "model_id": "88d8656374c4462b963f09dcf706ab7b",
       "version_major": 2,
       "version_minor": 0
      },
      "text/plain": [
       "  0%|          | 0/5 [00:00<?, ?it/s]"
      ]
     },
     "metadata": {},
     "output_type": "display_data"
    },
    {
     "name": "stderr",
     "output_type": "stream",
     "text": [
      "Process ForkPoolWorker-298:\n",
      "Process ForkPoolWorker-295:\n",
      "Process ForkPoolWorker-294:\n"
     ]
    },
    {
     "name": "stdout",
     "output_type": "stream",
     "text": [
      "ArgumentError: [0, 1, 2, 3, 4, 5, 6, 7, 8, 9, 10, 11, 12, 25, 24, 15, 16, 17, 18, 19, 20, 21, 22, 23, 13, 14, 26, 27, 28, 29, 30, 31, 32, 33] is a wrong imageArgumentError: [27, 24, 1, 7, 28, 4, 32, 22, 25, 31, 15, 6, 13, 21, 30, 33, 0, 26, 11, 9, 5, 10, 2, 19, 18, 12, 3, 16, 14, 29, 20, 8, 17, 23] is a wrong image"
     ]
    },
    {
     "name": "stderr",
     "output_type": "stream",
     "text": [
      "Traceback (most recent call last):\n"
     ]
    },
    {
     "name": "stdout",
     "output_type": "stream",
     "text": [
      "\n"
     ]
    },
    {
     "name": "stderr",
     "output_type": "stream",
     "text": [
      "  File \"/home/ryosuke/notebooks/venv/lib64/python3.6/site-packages/multiprocess/process.py\", line 258, in _bootstrap\n",
      "    self.run()\n",
      "Traceback (most recent call last):\n",
      "Traceback (most recent call last):\n"
     ]
    },
    {
     "name": "stdout",
     "output_type": "stream",
     "text": [
      "\n"
     ]
    },
    {
     "name": "stderr",
     "output_type": "stream",
     "text": [
      "  File \"/home/ryosuke/notebooks/venv/lib64/python3.6/site-packages/multiprocess/process.py\", line 258, in _bootstrap\n",
      "    self.run()\n",
      "  File \"/home/ryosuke/notebooks/venv/lib64/python3.6/site-packages/multiprocess/process.py\", line 258, in _bootstrap\n",
      "    self.run()\n",
      "  File \"/home/ryosuke/notebooks/venv/lib64/python3.6/site-packages/multiprocess/process.py\", line 93, in run\n",
      "    self._target(*self._args, **self._kwargs)\n",
      "  File \"/home/ryosuke/notebooks/venv/lib64/python3.6/site-packages/multiprocess/process.py\", line 93, in run\n",
      "    self._target(*self._args, **self._kwargs)\n",
      "  File \"/home/ryosuke/notebooks/venv/lib64/python3.6/site-packages/multiprocess/process.py\", line 93, in run\n",
      "    self._target(*self._args, **self._kwargs)\n",
      "  File \"/home/ryosuke/notebooks/venv/lib64/python3.6/site-packages/multiprocess/pool.py\", line 119, in worker\n",
      "    result = (True, func(*args, **kwds))\n",
      "  File \"/home/ryosuke/notebooks/venv/lib64/python3.6/site-packages/multiprocess/pool.py\", line 119, in worker\n",
      "    result = (True, func(*args, **kwds))\n",
      "  File \"<ipython-input-37-96d0e4da0615>\", line 74, in calc_hfk\n",
      "    pd_list = get_PD(perm, N)\n",
      "  File \"/home/ryosuke/notebooks/venv/lib64/python3.6/site-packages/multiprocess/pool.py\", line 119, in worker\n",
      "    result = (True, func(*args, **kwds))\n",
      "  File \"<ipython-input-37-96d0e4da0615>\", line 74, in calc_hfk\n",
      "    pd_list = get_PD(perm, N)\n",
      "  File \"<ipython-input-37-96d0e4da0615>\", line 45, in get_PD\n",
      "    num_of_orbits = len(cycle_decomp(pd_perm))\n",
      "  File \"<ipython-input-37-96d0e4da0615>\", line 45, in get_PD\n",
      "    num_of_orbits = len(cycle_decomp(pd_perm))\n",
      "  File \"<ipython-input-37-96d0e4da0615>\", line 74, in calc_hfk\n",
      "    pd_list = get_PD(perm, N)\n",
      "  File \"../modules/Permutation.py\", line 108, in cycle_decomp\n",
      "    im = [v for v in im if not v in orbit]\n",
      "  File \"../modules/Permutation.py\", line 108, in cycle_decomp\n",
      "    im = [v for v in im if not v in orbit]\n",
      "  File \"<ipython-input-37-96d0e4da0615>\", line 44, in get_PD\n",
      "    pd_perm = reduce((lambda x,y: x*y), cs) #; print(f\"{pd_perm}\\n\\n\")\n",
      "  File \"../modules/Permutation.py\", line 108, in <listcomp>\n",
      "    im = [v for v in im if not v in orbit]\n",
      "  File \"../modules/Permutation.py\", line 108, in <listcomp>\n",
      "    im = [v for v in im if not v in orbit]\n",
      "KeyboardInterrupt\n",
      "  File \"<ipython-input-37-96d0e4da0615>\", line 44, in <lambda>\n",
      "    pd_perm = reduce((lambda x,y: x*y), cs) #; print(f\"{pd_perm}\\n\\n\")\n",
      "KeyboardInterrupt\n",
      "  File \"../modules/Permutation.py\", line 37, in __mul__\n",
      "    return type(self)(self.act(aPerm.image))\n",
      "KeyboardInterrupt\n"
     ]
    },
    {
     "ename": "KeyboardInterrupt",
     "evalue": "",
     "output_type": "error",
     "traceback": [
      "\u001b[0;31m---------------------------------------------------------------------------\u001b[0m",
      "\u001b[0;31mIndexError\u001b[0m                                Traceback (most recent call last)",
      "\u001b[0;32m~/notebooks/venv/lib64/python3.6/site-packages/multiprocess/pool.py\u001b[0m in \u001b[0;36mnext\u001b[0;34m(self, timeout)\u001b[0m\n\u001b[1;32m    719\u001b[0m             \u001b[0;32mtry\u001b[0m\u001b[0;34m:\u001b[0m\u001b[0;34m\u001b[0m\u001b[0;34m\u001b[0m\u001b[0m\n\u001b[0;32m--> 720\u001b[0;31m                 \u001b[0mitem\u001b[0m \u001b[0;34m=\u001b[0m \u001b[0mself\u001b[0m\u001b[0;34m.\u001b[0m\u001b[0m_items\u001b[0m\u001b[0;34m.\u001b[0m\u001b[0mpopleft\u001b[0m\u001b[0;34m(\u001b[0m\u001b[0;34m)\u001b[0m\u001b[0;34m\u001b[0m\u001b[0;34m\u001b[0m\u001b[0m\n\u001b[0m\u001b[1;32m    721\u001b[0m             \u001b[0;32mexcept\u001b[0m \u001b[0mIndexError\u001b[0m\u001b[0;34m:\u001b[0m\u001b[0;34m\u001b[0m\u001b[0;34m\u001b[0m\u001b[0m\n",
      "\u001b[0;31mIndexError\u001b[0m: pop from an empty deque",
      "\nDuring handling of the above exception, another exception occurred:\n",
      "\u001b[0;31mKeyboardInterrupt\u001b[0m                         Traceback (most recent call last)",
      "\u001b[0;32m<timed exec>\u001b[0m in \u001b[0;36m<module>\u001b[0;34m\u001b[0m\n",
      "\u001b[0;32m~/notebooks/venv/lib64/python3.6/site-packages/tqdm/notebook.py\u001b[0m in \u001b[0;36m__iter__\u001b[0;34m(self)\u001b[0m\n\u001b[1;32m    257\u001b[0m         \u001b[0;32mtry\u001b[0m\u001b[0;34m:\u001b[0m\u001b[0;34m\u001b[0m\u001b[0;34m\u001b[0m\u001b[0m\n\u001b[1;32m    258\u001b[0m             \u001b[0mit\u001b[0m \u001b[0;34m=\u001b[0m \u001b[0msuper\u001b[0m\u001b[0;34m(\u001b[0m\u001b[0mtqdm_notebook\u001b[0m\u001b[0;34m,\u001b[0m \u001b[0mself\u001b[0m\u001b[0;34m)\u001b[0m\u001b[0;34m.\u001b[0m\u001b[0m__iter__\u001b[0m\u001b[0;34m(\u001b[0m\u001b[0;34m)\u001b[0m\u001b[0;34m\u001b[0m\u001b[0;34m\u001b[0m\u001b[0m\n\u001b[0;32m--> 259\u001b[0;31m             \u001b[0;32mfor\u001b[0m \u001b[0mobj\u001b[0m \u001b[0;32min\u001b[0m \u001b[0mit\u001b[0m\u001b[0;34m:\u001b[0m\u001b[0;34m\u001b[0m\u001b[0;34m\u001b[0m\u001b[0m\n\u001b[0m\u001b[1;32m    260\u001b[0m                 \u001b[0;31m# return super(tqdm...) will not catch exception\u001b[0m\u001b[0;34m\u001b[0m\u001b[0;34m\u001b[0m\u001b[0;34m\u001b[0m\u001b[0m\n\u001b[1;32m    261\u001b[0m                 \u001b[0;32myield\u001b[0m \u001b[0mobj\u001b[0m\u001b[0;34m\u001b[0m\u001b[0;34m\u001b[0m\u001b[0m\n",
      "\u001b[0;32m~/notebooks/venv/lib64/python3.6/site-packages/tqdm/std.py\u001b[0m in \u001b[0;36m__iter__\u001b[0;34m(self)\u001b[0m\n\u001b[1;32m   1193\u001b[0m \u001b[0;34m\u001b[0m\u001b[0m\n\u001b[1;32m   1194\u001b[0m         \u001b[0;32mtry\u001b[0m\u001b[0;34m:\u001b[0m\u001b[0;34m\u001b[0m\u001b[0;34m\u001b[0m\u001b[0m\n\u001b[0;32m-> 1195\u001b[0;31m             \u001b[0;32mfor\u001b[0m \u001b[0mobj\u001b[0m \u001b[0;32min\u001b[0m \u001b[0miterable\u001b[0m\u001b[0;34m:\u001b[0m\u001b[0;34m\u001b[0m\u001b[0;34m\u001b[0m\u001b[0m\n\u001b[0m\u001b[1;32m   1196\u001b[0m                 \u001b[0;32myield\u001b[0m \u001b[0mobj\u001b[0m\u001b[0;34m\u001b[0m\u001b[0;34m\u001b[0m\u001b[0m\n\u001b[1;32m   1197\u001b[0m                 \u001b[0;31m# Update and possibly print the progressbar.\u001b[0m\u001b[0;34m\u001b[0m\u001b[0;34m\u001b[0m\u001b[0;34m\u001b[0m\u001b[0m\n",
      "\u001b[0;32m~/notebooks/venv/lib64/python3.6/site-packages/multiprocess/pool.py\u001b[0m in \u001b[0;36mnext\u001b[0;34m(self, timeout)\u001b[0m\n\u001b[1;32m    722\u001b[0m                 \u001b[0;32mif\u001b[0m \u001b[0mself\u001b[0m\u001b[0;34m.\u001b[0m\u001b[0m_index\u001b[0m \u001b[0;34m==\u001b[0m \u001b[0mself\u001b[0m\u001b[0;34m.\u001b[0m\u001b[0m_length\u001b[0m\u001b[0;34m:\u001b[0m\u001b[0;34m\u001b[0m\u001b[0;34m\u001b[0m\u001b[0m\n\u001b[1;32m    723\u001b[0m                     \u001b[0;32mraise\u001b[0m \u001b[0mStopIteration\u001b[0m\u001b[0;34m\u001b[0m\u001b[0;34m\u001b[0m\u001b[0m\n\u001b[0;32m--> 724\u001b[0;31m                 \u001b[0mself\u001b[0m\u001b[0;34m.\u001b[0m\u001b[0m_cond\u001b[0m\u001b[0;34m.\u001b[0m\u001b[0mwait\u001b[0m\u001b[0;34m(\u001b[0m\u001b[0mtimeout\u001b[0m\u001b[0;34m)\u001b[0m\u001b[0;34m\u001b[0m\u001b[0;34m\u001b[0m\u001b[0m\n\u001b[0m\u001b[1;32m    725\u001b[0m                 \u001b[0;32mtry\u001b[0m\u001b[0;34m:\u001b[0m\u001b[0;34m\u001b[0m\u001b[0;34m\u001b[0m\u001b[0m\n\u001b[1;32m    726\u001b[0m                     \u001b[0mitem\u001b[0m \u001b[0;34m=\u001b[0m \u001b[0mself\u001b[0m\u001b[0;34m.\u001b[0m\u001b[0m_items\u001b[0m\u001b[0;34m.\u001b[0m\u001b[0mpopleft\u001b[0m\u001b[0;34m(\u001b[0m\u001b[0;34m)\u001b[0m\u001b[0;34m\u001b[0m\u001b[0;34m\u001b[0m\u001b[0m\n",
      "\u001b[0;32m/usr/lib64/python3.6/threading.py\u001b[0m in \u001b[0;36mwait\u001b[0;34m(self, timeout)\u001b[0m\n\u001b[1;32m    293\u001b[0m         \u001b[0;32mtry\u001b[0m\u001b[0;34m:\u001b[0m    \u001b[0;31m# restore state no matter what (e.g., KeyboardInterrupt)\u001b[0m\u001b[0;34m\u001b[0m\u001b[0;34m\u001b[0m\u001b[0m\n\u001b[1;32m    294\u001b[0m             \u001b[0;32mif\u001b[0m \u001b[0mtimeout\u001b[0m \u001b[0;32mis\u001b[0m \u001b[0;32mNone\u001b[0m\u001b[0;34m:\u001b[0m\u001b[0;34m\u001b[0m\u001b[0;34m\u001b[0m\u001b[0m\n\u001b[0;32m--> 295\u001b[0;31m                 \u001b[0mwaiter\u001b[0m\u001b[0;34m.\u001b[0m\u001b[0macquire\u001b[0m\u001b[0;34m(\u001b[0m\u001b[0;34m)\u001b[0m\u001b[0;34m\u001b[0m\u001b[0;34m\u001b[0m\u001b[0m\n\u001b[0m\u001b[1;32m    296\u001b[0m                 \u001b[0mgotit\u001b[0m \u001b[0;34m=\u001b[0m \u001b[0;32mTrue\u001b[0m\u001b[0;34m\u001b[0m\u001b[0;34m\u001b[0m\u001b[0m\n\u001b[1;32m    297\u001b[0m             \u001b[0;32melse\u001b[0m\u001b[0;34m:\u001b[0m\u001b[0;34m\u001b[0m\u001b[0;34m\u001b[0m\u001b[0m\n",
      "\u001b[0;31mKeyboardInterrupt\u001b[0m: "
     ]
    }
   ],
   "source": [
    "%%time\n",
    "\n",
    "N = 17\n",
    "perm_list = []\n",
    "while len(perm_list) < 5:\n",
    "    perm = list(range(1, N+1))\n",
    "    random.shuffle(perm)\n",
    "    if perm not in perm_list:\n",
    "        if not screen_out(perm):\n",
    "            perm_list.append(perm)\n",
    "\n",
    "#print(perm_list)\n",
    "\n",
    "output = []\n",
    "with Pool(processes=5) as pool:\n",
    "    output = [v for v in list(tqdm(pool.imap(calc_hfk, perm_list), total = 5)) if v]\n",
    "        \n",
    "lmd_dict_merged = {}\n",
    "for dic in output:\n",
    "    if dic:\n",
    "        for lmd in dic.keys():\n",
    "            lmd_dict_merged.setdefault(lmd, 0)\n",
    "            lmd_dict_merged[lmd] += dic[lmd]\n",
    "            \n",
    "print(lmd_dict_merged)"
   ]
  },
  {
   "cell_type": "code",
   "execution_count": 56,
   "id": "5aab8d1f-872d-474d-8610-776b1c199934",
   "metadata": {},
   "outputs": [
    {
     "data": {
      "text/plain": [
       "24.184028376404992"
      ]
     },
     "execution_count": 56,
     "metadata": {},
     "output_type": "execute_result"
    }
   ],
   "source": [
    "math.log(math.factorial(17)*(4**16), 10)"
   ]
  },
  {
   "cell_type": "markdown",
   "id": "8a2642b1-4295-45dc-8aa6-aa2c607abf20",
   "metadata": {},
   "source": [
    "{1: 12, 0: 28, 2: 28, 3: 4, 4: 8}\n",
    "\n",
    "805 ms ± 28.9 ms per loop (mean ± std. dev. of 7 runs, 1 loop each)"
   ]
  }
 ],
 "metadata": {
  "kernelspec": {
   "display_name": "Python 3",
   "language": "python",
   "name": "python3"
  },
  "language_info": {
   "codemirror_mode": {
    "name": "ipython",
    "version": 3
   },
   "file_extension": ".py",
   "mimetype": "text/x-python",
   "name": "python",
   "nbconvert_exporter": "python",
   "pygments_lexer": "ipython3",
   "version": "3.6.8"
  }
 },
 "nbformat": 4,
 "nbformat_minor": 5
}
