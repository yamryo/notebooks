{
 "cells": [
  {
   "cell_type": "markdown",
   "id": "b3a46c7e-7ec3-4dec-a8ce-dd1b9d632b7a",
   "metadata": {
    "id": "b3a46c7e-7ec3-4dec-a8ce-dd1b9d632b7a"
   },
   "source": [
    "# HFK caluculator from monodromies of fibered knots\n"
   ]
  },
  {
   "cell_type": "markdown",
   "id": "KPups8IJ6oYy",
   "metadata": {
    "id": "KPups8IJ6oYy"
   },
   "source": [
    "### Modules"
   ]
  },
  {
   "cell_type": "code",
   "execution_count": 1,
   "id": "14c7ea7c-d8c9-4a75-a3a9-ccde4f2bb0cc",
   "metadata": {
    "colab": {
     "base_uri": "https://localhost:8080/"
    },
    "executionInfo": {
     "elapsed": 19392,
     "status": "ok",
     "timestamp": 1726184657592,
     "user": {
      "displayName": "山本亮介",
      "userId": "01861936879830612877"
     },
     "user_tz": -540
    },
    "id": "14c7ea7c-d8c9-4a75-a3a9-ccde4f2bb0cc",
    "outputId": "365c2cd4-ee7f-4d2a-bc32-dd178eb49258",
    "scrolled": true
   },
   "outputs": [],
   "source": [
    "#import numpy as np\n",
    "#import pandas as pd\n",
    "#import ast\n",
    "import random\n",
    "\n",
    "#from multiprocessing import Pool, cpu_count\n",
    "#from tqdm.notebook import tqdm\n",
    "\n",
    "from snappy import *\n",
    "#from GridPythonModule import *\n",
    "#from GPM_wrapper.Grid import *\n",
    "#import knot_floer_homology as hfk"
   ]
  },
  {
   "cell_type": "markdown",
   "id": "ZkQ-ucKHOAHO",
   "metadata": {
    "id": "ZkQ-ucKHOAHO"
   },
   "source": [
    "## Play with SnapPy (and Twister)"
   ]
  },
  {
   "cell_type": "code",
   "execution_count": 2,
   "id": "mpxd7FAmmHSu",
   "metadata": {
    "executionInfo": {
     "elapsed": 316,
     "status": "ok",
     "timestamp": 1726184671248,
     "user": {
      "displayName": "山本亮介",
      "userId": "01861936879830612877"
     },
     "user_tz": -540
    },
    "id": "mpxd7FAmmHSu"
   },
   "outputs": [],
   "source": [
    "#--- some hyperbolic fibered knots with genus up to 2\n",
    "knot_data = [\n",
    " #-- alternating\n",
    " {'name': '4_1', 'md':'aB', 'alt': True},\n",
    " {'name': '6_2', 'md':'abcD', 'alt': True},\n",
    " {'name': '6_3', 'md':'abCD', 'alt': True},\n",
    " {'name': '7_7', 'md':'abCF', 'alt': True},\n",
    " {'name': '8_12', 'md':'aBcD', 'alt': True},\n",
    " #-- non-alternating\n",
    " {'name': '8_20', 'md':'abCDf', 'alt': False},\n",
    " {'name': '8_21', 'md':'abcDF', 'alt': False},\n",
    " {'name': '9_42', 'md':'abcdF', 'alt': False},\n",
    " {'name': '9_44', 'md':'abCDF', 'alt': False},\n",
    " ]"
   ]
  },
  {
   "cell_type": "code",
   "execution_count": 3,
   "id": "Mcrw8EQk98p1",
   "metadata": {
    "colab": {
     "base_uri": "https://localhost:8080/"
    },
    "executionInfo": {
     "elapsed": 40393,
     "status": "ok",
     "timestamp": 1726184714064,
     "user": {
      "displayName": "山本亮介",
      "userId": "01861936879830612877"
     },
     "user_tz": -540
    },
    "id": "Mcrw8EQk98p1",
    "outputId": "ad65052e-7570-4614-9005-84d7dfcf8b49"
   },
   "outputs": [
    {
     "name": "stdout",
     "output_type": "stream",
     "text": [
      "k={'name': '4_1', 'md': 'aB', 'alt': True}\n",
      "M1.volume()=2.02988321282\n",
      "Error: exterior_to_link failed.\n",
      "M2.is_isometric_to(M1)=False\n",
      "---\n",
      "k={'name': '6_2', 'md': 'abcD', 'alt': True}\n",
      "M1.volume()=4.4008325161\n",
      "M2.volume()=4.4008325161, pd=[(3, 10, 4, 11), (7, 3, 8, 2), (9, 6, 10, 7), (11, 4, 0, 5), (1, 9, 2, 8), (5, 0, 6, 1)]\n",
      "Error: exterior_to_link failed.\n",
      "M2.is_isometric_to(M1)=True\n",
      "---\n",
      "k={'name': '6_3', 'md': 'abCD', 'alt': True}\n",
      "M1.volume()=5.69302109128\n",
      "M2.volume()=5.6930210913, pd=[(5, 9, 6, 8), (11, 7, 0, 6), (9, 2, 10, 3), (3, 10, 4, 11), (1, 4, 2, 5), (7, 1, 8, 0)]\n",
      "Error: exterior_to_link failed.\n",
      "M2.is_isometric_to(M1)=True\n",
      "---\n",
      "k={'name': '7_7', 'md': 'abCF', 'alt': True}\n",
      "M1.volume()=7.6433751724\n",
      "Error: exterior_to_link failed.\n",
      "M2.is_isometric_to(M1)=True\n",
      "---\n",
      "k={'name': '8_12', 'md': 'aBcD', 'alt': True}\n",
      "M1.volume()=8.9358569275\n",
      "M2.volume()=8.9358569275, pd=[(7, 4, 8, 5), (9, 15, 10, 14), (3, 8, 4, 9), (11, 2, 12, 3), (15, 7, 0, 6), (1, 12, 2, 13), (13, 11, 14, 10), (5, 1, 6, 0)]\n",
      "Error: exterior_to_link failed.\n",
      "M2.is_isometric_to(M1)=True\n",
      "---\n",
      "k={'name': '8_20', 'md': 'abCDf', 'alt': False}\n",
      "M1.volume()=4.12490325181\n",
      "M2.volume()=4.12490325181, pd=[(2, 8, 3, 7), (4, 12, 5, 11), (12, 4, 13, 3), (8, 6, 9, 5), (6, 2, 7, 1), (9, 14, 10, 15), (15, 10, 0, 11), (13, 0, 14, 1)]\n",
      "Error: exterior_to_link failed.\n",
      "M2.is_isometric_to(M1)=True\n",
      "---\n",
      "k={'name': '8_21', 'md': 'abcDF', 'alt': False}\n",
      "M1.volume()=6.7837135198\n",
      "Error: exterior_to_link failed.\n",
      "M2.is_isometric_to(M1)=True\n",
      "---\n",
      "k={'name': '9_42', 'md': 'abcdF', 'alt': False}\n",
      "M1.volume()=4.05686022424\n",
      "M2.volume()=4.0568602242, pd=[(9, 4, 10, 5), (12, 6, 13, 5), (6, 14, 7, 13), (3, 8, 4, 9), (17, 10, 0, 11), (11, 16, 12, 17), (1, 15, 2, 14), (7, 2, 8, 3), (15, 1, 16, 0)]\n",
      "Error: exterior_to_link failed.\n",
      "M2.is_isometric_to(M1)=True\n",
      "---\n",
      "k={'name': '9_44', 'md': 'abCDF', 'alt': False}\n",
      "M1.volume()=7.4067675724\n",
      "M2.volume()=7.4067675724, pd=[(16, 4, 17, 3), (17, 13, 0, 12), (14, 9, 15, 10), (8, 13, 9, 14), (10, 5, 11, 6), (1, 6, 2, 7), (4, 16, 5, 15), (11, 3, 12, 2), (7, 0, 8, 1)]\n",
      "Error: exterior_to_link failed.\n",
      "M2.is_isometric_to(M1)=True\n",
      "---\n"
     ]
    }
   ],
   "source": [
    "for k in knot_data:\n",
    "    print(f\"{k=}\")\n",
    "\n",
    "    #--- create the exterior by name\n",
    "    M1 = Manifold(k['name'])\n",
    "    print(f\"{M1.volume()=}\") #, {M1.DT_code()=}\")\n",
    "\n",
    "    #--- create the exterior by monodromy\n",
    "    S = twister.Surface('S_2_1')\n",
    "    M2 = S.bundle(k['md'], optimize=True)\n",
    "    try:\n",
    "        L = M2.exterior_to_link()\n",
    "        pd = L.PD_code()\n",
    "        print(f\"{M2.volume()=}, {pd=}\")\n",
    "        hfk_dic = hfk.pd_to_hfk(pd)\n",
    "        print(f\"{hfk_dic['ranks']=}\")\n",
    "    except:\n",
    "        print(\"Error: exterior_to_link failed.\")\n",
    "        try:\n",
    "            print(f\"{M2.is_isometric_to(M1)=}\")\n",
    "        except:\n",
    "            print('Can not determine')\n",
    "    print(f\"---\")"
   ]
  },
  {
   "cell_type": "code",
   "execution_count": 4,
   "id": "nuoH8y8AKagE",
   "metadata": {
    "collapsed": true,
    "executionInfo": {
     "elapsed": 6,
     "status": "aborted",
     "timestamp": 1726184657592,
     "user": {
      "displayName": "山本亮介",
      "userId": "01861936879830612877"
     },
     "user_tz": -540
    },
    "id": "nuoH8y8AKagE",
    "jupyter": {
     "outputs_hidden": true
    },
    "scrolled": true
   },
   "outputs": [
    {
     "name": "stdout",
     "output_type": "stream",
     "text": [
      "[(16, -8, 18, -12, -14, -4, -2, -10, 6)]\n"
     ]
    },
    {
     "ename": "KeyboardInterrupt",
     "evalue": "",
     "output_type": "error",
     "traceback": [
      "\u001b[0;31m---------------------------------------------------------------------------\u001b[0m",
      "\u001b[0;31mKeyboardInterrupt\u001b[0m                         Traceback (most recent call last)",
      "Cell \u001b[0;32mIn[4], line 1\u001b[0m\n\u001b[0;32m----> 1\u001b[0m \u001b[43mget_ipython\u001b[49m\u001b[43m(\u001b[49m\u001b[43m)\u001b[49m\u001b[38;5;241;43m.\u001b[39;49m\u001b[43mrun_cell_magic\u001b[49m\u001b[43m(\u001b[49m\u001b[38;5;124;43m'\u001b[39;49m\u001b[38;5;124;43mtimeit\u001b[39;49m\u001b[38;5;124;43m'\u001b[39;49m\u001b[43m,\u001b[49m\u001b[43m \u001b[49m\u001b[38;5;124;43m'\u001b[39;49m\u001b[38;5;124;43m'\u001b[39;49m\u001b[43m,\u001b[49m\u001b[43m \u001b[49m\u001b[38;5;124;43m'\u001b[39;49m\u001b[38;5;124;43mS = twister.Surface(\u001b[39;49m\u001b[38;5;130;43;01m\\'\u001b[39;49;00m\u001b[38;5;124;43mS_2_1\u001b[39;49m\u001b[38;5;130;43;01m\\'\u001b[39;49;00m\u001b[38;5;124;43m)\u001b[39;49m\u001b[38;5;130;43;01m\\n\u001b[39;49;00m\u001b[38;5;124;43mM3 = S.bundle(monodromy=\u001b[39;49m\u001b[38;5;130;43;01m\\'\u001b[39;49;00m\u001b[38;5;124;43ma*b*C*D*F\u001b[39;49m\u001b[38;5;130;43;01m\\'\u001b[39;49;00m\u001b[38;5;124;43m) #, optimize=True) #, return_type=\u001b[39;49m\u001b[38;5;130;43;01m\\'\u001b[39;49;00m\u001b[38;5;124;43mTriangulation\u001b[39;49m\u001b[38;5;130;43;01m\\'\u001b[39;49;00m\u001b[38;5;124;43m)\u001b[39;49m\u001b[38;5;130;43;01m\\n\u001b[39;49;00m\u001b[38;5;124;43mL = M3.exterior_to_link(verbose=False) #, simplify_link=False)\u001b[39;49m\u001b[38;5;130;43;01m\\n\u001b[39;49;00m\u001b[38;5;124;43mprint(L.DT_code())\u001b[39;49m\u001b[38;5;130;43;01m\\n\u001b[39;49;00m\u001b[38;5;124;43m#print(f\u001b[39;49m\u001b[38;5;124;43m\"\u001b[39;49m\u001b[38;5;124;43m{\u001b[39;49m\u001b[38;5;124;43mM3.volume()=}, \u001b[39;49m\u001b[38;5;124;43m{\u001b[39;49m\u001b[38;5;124;43mM3.DT_code()=}\u001b[39;49m\u001b[38;5;124;43m\"\u001b[39;49m\u001b[38;5;124;43m)\u001b[39;49m\u001b[38;5;130;43;01m\\n\u001b[39;49;00m\u001b[38;5;124;43m'\u001b[39;49m\u001b[43m)\u001b[49m\n",
      "File \u001b[0;32m~/workspace/Projects/notebooks/venv/lib/python3.12/site-packages/IPython/core/interactiveshell.py:2541\u001b[0m, in \u001b[0;36mInteractiveShell.run_cell_magic\u001b[0;34m(self, magic_name, line, cell)\u001b[0m\n\u001b[1;32m   2539\u001b[0m \u001b[38;5;28;01mwith\u001b[39;00m \u001b[38;5;28mself\u001b[39m\u001b[38;5;241m.\u001b[39mbuiltin_trap:\n\u001b[1;32m   2540\u001b[0m     args \u001b[38;5;241m=\u001b[39m (magic_arg_s, cell)\n\u001b[0;32m-> 2541\u001b[0m     result \u001b[38;5;241m=\u001b[39m \u001b[43mfn\u001b[49m\u001b[43m(\u001b[49m\u001b[38;5;241;43m*\u001b[39;49m\u001b[43margs\u001b[49m\u001b[43m,\u001b[49m\u001b[43m \u001b[49m\u001b[38;5;241;43m*\u001b[39;49m\u001b[38;5;241;43m*\u001b[39;49m\u001b[43mkwargs\u001b[49m\u001b[43m)\u001b[49m\n\u001b[1;32m   2543\u001b[0m \u001b[38;5;66;03m# The code below prevents the output from being displayed\u001b[39;00m\n\u001b[1;32m   2544\u001b[0m \u001b[38;5;66;03m# when using magics with decorator @output_can_be_silenced\u001b[39;00m\n\u001b[1;32m   2545\u001b[0m \u001b[38;5;66;03m# when the last Python token in the expression is a ';'.\u001b[39;00m\n\u001b[1;32m   2546\u001b[0m \u001b[38;5;28;01mif\u001b[39;00m \u001b[38;5;28mgetattr\u001b[39m(fn, magic\u001b[38;5;241m.\u001b[39mMAGIC_OUTPUT_CAN_BE_SILENCED, \u001b[38;5;28;01mFalse\u001b[39;00m):\n",
      "File \u001b[0;32m~/workspace/Projects/notebooks/venv/lib/python3.12/site-packages/IPython/core/magics/execution.py:1189\u001b[0m, in \u001b[0;36mExecutionMagics.timeit\u001b[0;34m(self, line, cell, local_ns)\u001b[0m\n\u001b[1;32m   1186\u001b[0m         \u001b[38;5;28;01mif\u001b[39;00m time_number \u001b[38;5;241m>\u001b[39m\u001b[38;5;241m=\u001b[39m \u001b[38;5;241m0.2\u001b[39m:\n\u001b[1;32m   1187\u001b[0m             \u001b[38;5;28;01mbreak\u001b[39;00m\n\u001b[0;32m-> 1189\u001b[0m all_runs \u001b[38;5;241m=\u001b[39m \u001b[43mtimer\u001b[49m\u001b[38;5;241;43m.\u001b[39;49m\u001b[43mrepeat\u001b[49m\u001b[43m(\u001b[49m\u001b[43mrepeat\u001b[49m\u001b[43m,\u001b[49m\u001b[43m \u001b[49m\u001b[43mnumber\u001b[49m\u001b[43m)\u001b[49m\n\u001b[1;32m   1190\u001b[0m best \u001b[38;5;241m=\u001b[39m \u001b[38;5;28mmin\u001b[39m(all_runs) \u001b[38;5;241m/\u001b[39m number\n\u001b[1;32m   1191\u001b[0m worst \u001b[38;5;241m=\u001b[39m \u001b[38;5;28mmax\u001b[39m(all_runs) \u001b[38;5;241m/\u001b[39m number\n",
      "File \u001b[0;32m/usr/local/Cellar/python@3.12/3.12.6/Frameworks/Python.framework/Versions/3.12/lib/python3.12/timeit.py:208\u001b[0m, in \u001b[0;36mTimer.repeat\u001b[0;34m(self, repeat, number)\u001b[0m\n\u001b[1;32m    206\u001b[0m r \u001b[38;5;241m=\u001b[39m []\n\u001b[1;32m    207\u001b[0m \u001b[38;5;28;01mfor\u001b[39;00m i \u001b[38;5;129;01min\u001b[39;00m \u001b[38;5;28mrange\u001b[39m(repeat):\n\u001b[0;32m--> 208\u001b[0m     t \u001b[38;5;241m=\u001b[39m \u001b[38;5;28;43mself\u001b[39;49m\u001b[38;5;241;43m.\u001b[39;49m\u001b[43mtimeit\u001b[49m\u001b[43m(\u001b[49m\u001b[43mnumber\u001b[49m\u001b[43m)\u001b[49m\n\u001b[1;32m    209\u001b[0m     r\u001b[38;5;241m.\u001b[39mappend(t)\n\u001b[1;32m    210\u001b[0m \u001b[38;5;28;01mreturn\u001b[39;00m r\n",
      "File \u001b[0;32m~/workspace/Projects/notebooks/venv/lib/python3.12/site-packages/IPython/core/magics/execution.py:173\u001b[0m, in \u001b[0;36mTimer.timeit\u001b[0;34m(self, number)\u001b[0m\n\u001b[1;32m    171\u001b[0m gc\u001b[38;5;241m.\u001b[39mdisable()\n\u001b[1;32m    172\u001b[0m \u001b[38;5;28;01mtry\u001b[39;00m:\n\u001b[0;32m--> 173\u001b[0m     timing \u001b[38;5;241m=\u001b[39m \u001b[38;5;28;43mself\u001b[39;49m\u001b[38;5;241;43m.\u001b[39;49m\u001b[43minner\u001b[49m\u001b[43m(\u001b[49m\u001b[43mit\u001b[49m\u001b[43m,\u001b[49m\u001b[43m \u001b[49m\u001b[38;5;28;43mself\u001b[39;49m\u001b[38;5;241;43m.\u001b[39;49m\u001b[43mtimer\u001b[49m\u001b[43m)\u001b[49m\n\u001b[1;32m    174\u001b[0m \u001b[38;5;28;01mfinally\u001b[39;00m:\n\u001b[1;32m    175\u001b[0m     \u001b[38;5;28;01mif\u001b[39;00m gcold:\n",
      "File \u001b[0;32m<magic-timeit>:3\u001b[0m, in \u001b[0;36minner\u001b[0;34m(_it, _timer)\u001b[0m\n",
      "File \u001b[0;32m~/workspace/Projects/notebooks/venv/lib/python3.12/site-packages/snappy/exterior_to_link/main.py:148\u001b[0m, in \u001b[0;36mexterior_to_link\u001b[0;34m(manifold, verbose, check_input, check_answer, careful_perturbation, simplify_link, pachner_search_tries, seed)\u001b[0m\n\u001b[1;32m    145\u001b[0m     \u001b[38;5;28;01mraise\u001b[39;00m ExteriorToLinkError(\u001b[38;5;124m'\u001b[39m\u001b[38;5;124mCould not simplify to standard triangulation of S^3\u001b[39m\u001b[38;5;124m'\u001b[39m)\n\u001b[1;32m    147\u001b[0m print_status(\u001b[38;5;124mf\u001b[39m\u001b[38;5;124m'\u001b[39m\u001b[38;5;124m    Starting with \u001b[39m\u001b[38;5;132;01m{\u001b[39;00m\u001b[38;5;28mlen\u001b[39m(M)\u001b[38;5;132;01m}\u001b[39;00m\u001b[38;5;124m tets, to do \u001b[39m\u001b[38;5;132;01m{\u001b[39;00m\u001b[38;5;28mlen\u001b[39m(moves)\u001b[38;5;132;01m}\u001b[39;00m\u001b[38;5;124m simple Pachner moves.\u001b[39m\u001b[38;5;124m'\u001b[39m)\n\u001b[0;32m--> 148\u001b[0m \u001b[43mM\u001b[49m\u001b[38;5;241;43m.\u001b[39;49m\u001b[43mperform_moves\u001b[49m\u001b[43m(\u001b[49m\u001b[43mmoves\u001b[49m\u001b[43m,\u001b[49m\u001b[43m \u001b[49m\u001b[43mpush\u001b[49m\u001b[38;5;241;43m=\u001b[39;49m\u001b[38;5;28;43;01mTrue\u001b[39;49;00m\u001b[43m,\u001b[49m\u001b[43m \u001b[49m\u001b[43mstraighten\u001b[49m\u001b[38;5;241;43m=\u001b[39;49m\u001b[38;5;28;43;01mTrue\u001b[39;49;00m\u001b[43m,\u001b[49m\u001b[43m \u001b[49m\u001b[38;5;28;43mround\u001b[39;49m\u001b[38;5;241;43m=\u001b[39;49m\u001b[38;5;28;43;01mTrue\u001b[39;49;00m\u001b[43m,\u001b[49m\u001b[43m \u001b[49m\u001b[43mcareful\u001b[49m\u001b[38;5;241;43m=\u001b[39;49m\u001b[43mcareful_perturbation\u001b[49m\u001b[43m)\u001b[49m\n\u001b[1;32m    149\u001b[0m M\u001b[38;5;241m.\u001b[39mrebuild()\n\u001b[1;32m    150\u001b[0m M\u001b[38;5;241m.\u001b[39mconnect_arcs()\n",
      "File \u001b[0;32m~/workspace/Projects/notebooks/venv/lib/python3.12/site-packages/snappy/exterior_to_link/mcomplex_with_link.py:552\u001b[0m, in \u001b[0;36mMcomplexWithLink.perform_moves\u001b[0;34m(self, moves, straighten, push, round, careful, tet_stop_num)\u001b[0m\n\u001b[1;32m    550\u001b[0m     \u001b[38;5;28mself\u001b[39m\u001b[38;5;241m.\u001b[39mcompletely_simplify_link(straighten, push)\n\u001b[1;32m    551\u001b[0m \u001b[38;5;28;01mif\u001b[39;00m \u001b[38;5;28mround\u001b[39m:\n\u001b[0;32m--> 552\u001b[0m     \u001b[38;5;28;43mself\u001b[39;49m\u001b[38;5;241;43m.\u001b[39;49m\u001b[43mround\u001b[49m\u001b[43m(\u001b[49m\u001b[43mcareful\u001b[49m\u001b[43m)\u001b[49m\n\u001b[1;32m    553\u001b[0m \u001b[38;5;66;03m# assert len(self.link_components()) == c\u001b[39;00m\n\u001b[1;32m    554\u001b[0m simplify_complete \u001b[38;5;241m=\u001b[39m time\u001b[38;5;241m.\u001b[39mtime()\n",
      "File \u001b[0;32m~/workspace/Projects/notebooks/venv/lib/python3.12/site-packages/snappy/exterior_to_link/mcomplex_with_link.py:362\u001b[0m, in \u001b[0;36mMcomplexWithLink.round\u001b[0;34m(self, careful)\u001b[0m\n\u001b[1;32m    361\u001b[0m \u001b[38;5;28;01mdef\u001b[39;00m \u001b[38;5;21mround\u001b[39m(\u001b[38;5;28mself\u001b[39m, careful\u001b[38;5;241m=\u001b[39m\u001b[38;5;28;01mTrue\u001b[39;00m):\n\u001b[0;32m--> 362\u001b[0m     max_denom \u001b[38;5;241m=\u001b[39m \u001b[38;5;28;43mself\u001b[39;49m\u001b[38;5;241;43m.\u001b[39;49m\u001b[43msafe_perturbation\u001b[49m\u001b[43m(\u001b[49m\u001b[43m)\u001b[49m \u001b[38;5;28;01mif\u001b[39;00m careful \u001b[38;5;28;01melse\u001b[39;00m \u001b[38;5;241m2\u001b[39m\u001b[38;5;241m*\u001b[39m\u001b[38;5;241m*\u001b[39m\u001b[38;5;241m32\u001b[39m\n\u001b[1;32m    363\u001b[0m     \u001b[38;5;28;01mfor\u001b[39;00m tet \u001b[38;5;129;01min\u001b[39;00m \u001b[38;5;28mself\u001b[39m:\n\u001b[1;32m    364\u001b[0m         \u001b[38;5;28;01mfor\u001b[39;00m arc \u001b[38;5;129;01min\u001b[39;00m tet\u001b[38;5;241m.\u001b[39marcs:\n",
      "File \u001b[0;32m~/workspace/Projects/notebooks/venv/lib/python3.12/site-packages/snappy/exterior_to_link/mcomplex_with_link.py:359\u001b[0m, in \u001b[0;36mMcomplexWithLink.safe_perturbation\u001b[0;34m(self)\u001b[0m\n\u001b[1;32m    356\u001b[0m                     d2 \u001b[38;5;241m=\u001b[39m pl_utils\u001b[38;5;241m.\u001b[39marc_distance_sq(points_3d[a], points_3d[b])\n\u001b[1;32m    357\u001b[0m                     min_distance_sq \u001b[38;5;241m=\u001b[39m \u001b[38;5;28mmin\u001b[39m(d2, min_distance_sq)\n\u001b[0;32m--> 359\u001b[0m \u001b[38;5;28;01mreturn\u001b[39;00m \u001b[38;5;28mint\u001b[39m(\u001b[38;5;241m4\u001b[39m\u001b[38;5;241m/\u001b[39m\u001b[43mpl_utils\u001b[49m\u001b[38;5;241;43m.\u001b[39;49m\u001b[43mrational_sqrt\u001b[49m\u001b[43m(\u001b[49m\u001b[43mmin_distance_sq\u001b[49m\u001b[43m)\u001b[49m) \u001b[38;5;241m+\u001b[39m \u001b[38;5;241m1\u001b[39m\n",
      "File \u001b[0;32m~/workspace/Projects/notebooks/venv/lib/python3.12/site-packages/snappy/exterior_to_link/rational_linear_algebra.py:71\u001b[0m, in \u001b[0;36mrational_sqrt\u001b[0;34m(x)\u001b[0m\n\u001b[1;32m     69\u001b[0m     \u001b[38;5;28;01mreturn\u001b[39;00m QQ(\u001b[38;5;241m0\u001b[39m)\n\u001b[1;32m     70\u001b[0m \u001b[38;5;28;01mfor\u001b[39;00m e \u001b[38;5;129;01min\u001b[39;00m [\u001b[38;5;241m50\u001b[39m, \u001b[38;5;241m100\u001b[39m, \u001b[38;5;241m500\u001b[39m, \u001b[38;5;241m1000\u001b[39m, \u001b[38;5;241m10000\u001b[39m]:\n\u001b[0;32m---> 71\u001b[0m     r \u001b[38;5;241m=\u001b[39m \u001b[43mQQ\u001b[49m\u001b[43m(\u001b[49m\u001b[43mx\u001b[49m\u001b[43m)\u001b[49m\u001b[38;5;241;43m.\u001b[39;49m\u001b[43msqrt\u001b[49m\u001b[43m(\u001b[49m\u001b[43m)\u001b[49m\u001b[38;5;241;43m.\u001b[39;49m\u001b[43mbestappr\u001b[49m\u001b[43m(\u001b[49m\u001b[38;5;241;43m2\u001b[39;49m\u001b[38;5;241;43m*\u001b[39;49m\u001b[38;5;241;43m*\u001b[39;49m\u001b[43me\u001b[49m\u001b[43m)\u001b[49m\n\u001b[1;32m     72\u001b[0m     \u001b[38;5;28;01mif\u001b[39;00m r \u001b[38;5;241m!=\u001b[39m \u001b[38;5;241m0\u001b[39m:\n\u001b[1;32m     73\u001b[0m         \u001b[38;5;28;01mbreak\u001b[39;00m\n",
      "\u001b[0;31mKeyboardInterrupt\u001b[0m: "
     ]
    }
   ],
   "source": [
    "%%timeit\n",
    "S = twister.Surface('S_2_1')\n",
    "M3 = S.bundle(monodromy='a*b*C*D*F') #, optimize=True) #, return_type='Triangulation')\n",
    "L = M3.exterior_to_link(verbose=False) #, simplify_link=False)\n",
    "print(L.DT_code())\n",
    "#print(f\"{M3.volume()=}, {M3.DT_code()=}\")"
   ]
  },
  {
   "cell_type": "markdown",
   "id": "pBZL07eNgO3M",
   "metadata": {
    "id": "pBZL07eNgO3M"
   },
   "source": [
    "5.65 s ± 3.47"
   ]
  },
  {
   "cell_type": "markdown",
   "id": "GTAygcIdqwrF",
   "metadata": {
    "id": "GTAygcIdqwrF"
   },
   "source": [
    "## Searching fibered genus 2 knots with negative lambda"
   ]
  },
  {
   "cell_type": "code",
   "execution_count": 2,
   "id": "EAu7GIFHrxes",
   "metadata": {
    "executionInfo": {
     "elapsed": 7,
     "status": "aborted",
     "timestamp": 1726184657593,
     "user": {
      "displayName": "山本亮介",
      "userId": "01861936879830612877"
     },
     "user_tz": -540
    },
    "id": "EAu7GIFHrxes"
   },
   "outputs": [
    {
     "name": "stdout",
     "output_type": "stream",
     "text": [
      "FBeFdFbDCF\n"
     ]
    }
   ],
   "source": [
    "# prompt: create a code generating a random word of length less than 10 with letters of {a,A,b,B,c,C,d,D,e,E,f,F}\n",
    "def generate_random_word(st:int=2, mg:int=10):\n",
    "    \"\"\"\n",
    "    Generates a random word of length less than 10 with letters from the set\n",
    "    {a,A,b,B,c,C,d,D,e,E,f,F}.\n",
    "    \"\"\"\n",
    "    letters = ['a', 'A', 'b', 'B', 'c', 'C', 'd', 'D', 'e', 'E', 'f', 'F']\n",
    "    offsets = [letters[2*i+1]+letters[2*i] for i in range(6)]\n",
    "    word_length = random.randint(st, st+mg)\n",
    "    flag = False\n",
    "    while not flag:  \n",
    "        word = ''.join(random.choice(letters) for _ in range(word_length))\n",
    "        stls = [word[i-1]+word[i] for i in range(len(word))]\n",
    "        flag = all((stl not in offsets) and (stl[::-1] not in offsets) for stl in stls)\n",
    "    return word\n",
    "\n",
    "## Example usage\n",
    "random_word = generate_random_word(10,0)\n",
    "print(random_word)"
   ]
  },
  {
   "cell_type": "code",
   "execution_count": 3,
   "id": "TMPS6uBNstP7",
   "metadata": {
    "collapsed": true,
    "executionInfo": {
     "elapsed": 7,
     "status": "aborted",
     "timestamp": 1726184657593,
     "user": {
      "displayName": "山本亮介",
      "userId": "01861936879830612877"
     },
     "user_tz": -540
    },
    "id": "TMPS6uBNstP7",
    "jupyter": {
     "outputs_hidden": true
    }
   },
   "outputs": [
    {
     "name": "stdout",
     "output_type": "stream",
     "text": [
      "{'non_S3': 11, 'nc_cn': 1, 'alt': 0, 'pos_lmd': 0, 'neg_lmd': 0}"
     ]
    },
    {
     "ename": "KeyboardInterrupt",
     "evalue": "",
     "output_type": "error",
     "traceback": [
      "\u001b[0;31m---------------------------------------------------------------------------\u001b[0m",
      "\u001b[0;31mKeyboardInterrupt\u001b[0m                         Traceback (most recent call last)",
      "Cell \u001b[0;32mIn[3], line 11\u001b[0m\n\u001b[1;32m      9\u001b[0m M3 \u001b[38;5;241m=\u001b[39m S\u001b[38;5;241m.\u001b[39mbundle(monodromy\u001b[38;5;241m=\u001b[39mmd)\n\u001b[1;32m     10\u001b[0m \u001b[38;5;28;01mtry\u001b[39;00m:\n\u001b[0;32m---> 11\u001b[0m     L \u001b[38;5;241m=\u001b[39m \u001b[43mM3\u001b[49m\u001b[38;5;241;43m.\u001b[39;49m\u001b[43mexterior_to_link\u001b[49m\u001b[43m(\u001b[49m\u001b[43mverbose\u001b[49m\u001b[38;5;241;43m=\u001b[39;49m\u001b[38;5;28;43;01mFalse\u001b[39;49;00m\u001b[43m)\u001b[49m\n\u001b[1;32m     12\u001b[0m \u001b[38;5;28;01mexcept\u001b[39;00m \u001b[38;5;167;01mException\u001b[39;00m \u001b[38;5;28;01mas\u001b[39;00m e:\n\u001b[1;32m     13\u001b[0m     counts[\u001b[38;5;124m'\u001b[39m\u001b[38;5;124mnon_S3\u001b[39m\u001b[38;5;124m'\u001b[39m] \u001b[38;5;241m+\u001b[39m\u001b[38;5;241m=\u001b[39m \u001b[38;5;241m1\u001b[39m\n",
      "File \u001b[0;32m~/workspace/Projects/notebooks/venv/lib/python3.12/site-packages/snappy/exterior_to_link/main.py:148\u001b[0m, in \u001b[0;36mexterior_to_link\u001b[0;34m(manifold, verbose, check_input, check_answer, careful_perturbation, simplify_link, pachner_search_tries, seed)\u001b[0m\n\u001b[1;32m    145\u001b[0m     \u001b[38;5;28;01mraise\u001b[39;00m ExteriorToLinkError(\u001b[38;5;124m'\u001b[39m\u001b[38;5;124mCould not simplify to standard triangulation of S^3\u001b[39m\u001b[38;5;124m'\u001b[39m)\n\u001b[1;32m    147\u001b[0m print_status(\u001b[38;5;124mf\u001b[39m\u001b[38;5;124m'\u001b[39m\u001b[38;5;124m    Starting with \u001b[39m\u001b[38;5;132;01m{\u001b[39;00m\u001b[38;5;28mlen\u001b[39m(M)\u001b[38;5;132;01m}\u001b[39;00m\u001b[38;5;124m tets, to do \u001b[39m\u001b[38;5;132;01m{\u001b[39;00m\u001b[38;5;28mlen\u001b[39m(moves)\u001b[38;5;132;01m}\u001b[39;00m\u001b[38;5;124m simple Pachner moves.\u001b[39m\u001b[38;5;124m'\u001b[39m)\n\u001b[0;32m--> 148\u001b[0m \u001b[43mM\u001b[49m\u001b[38;5;241;43m.\u001b[39;49m\u001b[43mperform_moves\u001b[49m\u001b[43m(\u001b[49m\u001b[43mmoves\u001b[49m\u001b[43m,\u001b[49m\u001b[43m \u001b[49m\u001b[43mpush\u001b[49m\u001b[38;5;241;43m=\u001b[39;49m\u001b[38;5;28;43;01mTrue\u001b[39;49;00m\u001b[43m,\u001b[49m\u001b[43m \u001b[49m\u001b[43mstraighten\u001b[49m\u001b[38;5;241;43m=\u001b[39;49m\u001b[38;5;28;43;01mTrue\u001b[39;49;00m\u001b[43m,\u001b[49m\u001b[43m \u001b[49m\u001b[38;5;28;43mround\u001b[39;49m\u001b[38;5;241;43m=\u001b[39;49m\u001b[38;5;28;43;01mTrue\u001b[39;49;00m\u001b[43m,\u001b[49m\u001b[43m \u001b[49m\u001b[43mcareful\u001b[49m\u001b[38;5;241;43m=\u001b[39;49m\u001b[43mcareful_perturbation\u001b[49m\u001b[43m)\u001b[49m\n\u001b[1;32m    149\u001b[0m M\u001b[38;5;241m.\u001b[39mrebuild()\n\u001b[1;32m    150\u001b[0m M\u001b[38;5;241m.\u001b[39mconnect_arcs()\n",
      "File \u001b[0;32m~/workspace/Projects/notebooks/venv/lib/python3.12/site-packages/snappy/exterior_to_link/mcomplex_with_link.py:552\u001b[0m, in \u001b[0;36mMcomplexWithLink.perform_moves\u001b[0;34m(self, moves, straighten, push, round, careful, tet_stop_num)\u001b[0m\n\u001b[1;32m    550\u001b[0m     \u001b[38;5;28mself\u001b[39m\u001b[38;5;241m.\u001b[39mcompletely_simplify_link(straighten, push)\n\u001b[1;32m    551\u001b[0m \u001b[38;5;28;01mif\u001b[39;00m \u001b[38;5;28mround\u001b[39m:\n\u001b[0;32m--> 552\u001b[0m     \u001b[38;5;28;43mself\u001b[39;49m\u001b[38;5;241;43m.\u001b[39;49m\u001b[43mround\u001b[49m\u001b[43m(\u001b[49m\u001b[43mcareful\u001b[49m\u001b[43m)\u001b[49m\n\u001b[1;32m    553\u001b[0m \u001b[38;5;66;03m# assert len(self.link_components()) == c\u001b[39;00m\n\u001b[1;32m    554\u001b[0m simplify_complete \u001b[38;5;241m=\u001b[39m time\u001b[38;5;241m.\u001b[39mtime()\n",
      "File \u001b[0;32m~/workspace/Projects/notebooks/venv/lib/python3.12/site-packages/snappy/exterior_to_link/mcomplex_with_link.py:362\u001b[0m, in \u001b[0;36mMcomplexWithLink.round\u001b[0;34m(self, careful)\u001b[0m\n\u001b[1;32m    361\u001b[0m \u001b[38;5;28;01mdef\u001b[39;00m \u001b[38;5;21mround\u001b[39m(\u001b[38;5;28mself\u001b[39m, careful\u001b[38;5;241m=\u001b[39m\u001b[38;5;28;01mTrue\u001b[39;00m):\n\u001b[0;32m--> 362\u001b[0m     max_denom \u001b[38;5;241m=\u001b[39m \u001b[38;5;28;43mself\u001b[39;49m\u001b[38;5;241;43m.\u001b[39;49m\u001b[43msafe_perturbation\u001b[49m\u001b[43m(\u001b[49m\u001b[43m)\u001b[49m \u001b[38;5;28;01mif\u001b[39;00m careful \u001b[38;5;28;01melse\u001b[39;00m \u001b[38;5;241m2\u001b[39m\u001b[38;5;241m*\u001b[39m\u001b[38;5;241m*\u001b[39m\u001b[38;5;241m32\u001b[39m\n\u001b[1;32m    363\u001b[0m     \u001b[38;5;28;01mfor\u001b[39;00m tet \u001b[38;5;129;01min\u001b[39;00m \u001b[38;5;28mself\u001b[39m:\n\u001b[1;32m    364\u001b[0m         \u001b[38;5;28;01mfor\u001b[39;00m arc \u001b[38;5;129;01min\u001b[39;00m tet\u001b[38;5;241m.\u001b[39marcs:\n",
      "File \u001b[0;32m~/workspace/Projects/notebooks/venv/lib/python3.12/site-packages/snappy/exterior_to_link/mcomplex_with_link.py:334\u001b[0m, in \u001b[0;36mMcomplexWithLink.safe_perturbation\u001b[0;34m(self)\u001b[0m\n\u001b[1;32m    332\u001b[0m \u001b[38;5;28;01mfor\u001b[39;00m tet \u001b[38;5;129;01min\u001b[39;00m \u001b[38;5;28mself\u001b[39m:\n\u001b[1;32m    333\u001b[0m     m \u001b[38;5;241m=\u001b[39m \u001b[38;5;28mlen\u001b[39m(tet\u001b[38;5;241m.\u001b[39marcs)\n\u001b[0;32m--> 334\u001b[0m     points_3d \u001b[38;5;241m=\u001b[39m [\u001b[43marc\u001b[49m\u001b[38;5;241;43m.\u001b[39;49m\u001b[43mto_3d_points\u001b[49m\u001b[43m(\u001b[49m\u001b[43m)\u001b[49m \u001b[38;5;28;01mfor\u001b[39;00m arc \u001b[38;5;129;01min\u001b[39;00m tet\u001b[38;5;241m.\u001b[39marcs]\n\u001b[1;32m    335\u001b[0m     \u001b[38;5;66;03m# For each arc, store the min/max for each coordinate.\u001b[39;00m\n\u001b[1;32m    336\u001b[0m     coor_min \u001b[38;5;241m=\u001b[39m [[\u001b[38;5;28mmin\u001b[39m(x[i], y[i]) \u001b[38;5;28;01mfor\u001b[39;00m i \u001b[38;5;129;01min\u001b[39;00m \u001b[38;5;28mrange\u001b[39m(\u001b[38;5;241m3\u001b[39m)] \u001b[38;5;28;01mfor\u001b[39;00m x, y \u001b[38;5;129;01min\u001b[39;00m points_3d]\n",
      "File \u001b[0;32m~/workspace/Projects/notebooks/venv/lib/python3.12/site-packages/snappy/exterior_to_link/barycentric_geometry.py:78\u001b[0m, in \u001b[0;36mArc.to_3d_points\u001b[0;34m(self)\u001b[0m\n\u001b[1;32m     77\u001b[0m \u001b[38;5;28;01mdef\u001b[39;00m \u001b[38;5;21mto_3d_points\u001b[39m(\u001b[38;5;28mself\u001b[39m):\n\u001b[0;32m---> 78\u001b[0m     \u001b[38;5;28;01mreturn\u001b[39;00m (\u001b[38;5;28;43mself\u001b[39;49m\u001b[38;5;241;43m.\u001b[39;49m\u001b[43mstart\u001b[49m\u001b[38;5;241;43m.\u001b[39;49m\u001b[43mto_3d_point\u001b[49m\u001b[43m(\u001b[49m\u001b[43m)\u001b[49m, \u001b[38;5;28mself\u001b[39m\u001b[38;5;241m.\u001b[39mend\u001b[38;5;241m.\u001b[39mto_3d_point())\n",
      "File \u001b[0;32m~/workspace/Projects/notebooks/venv/lib/python3.12/site-packages/snappy/exterior_to_link/barycentric_geometry.py:165\u001b[0m, in \u001b[0;36mBarycentricPoint.to_3d_point\u001b[0;34m(self)\u001b[0m\n\u001b[1;32m    164\u001b[0m \u001b[38;5;28;01mdef\u001b[39;00m \u001b[38;5;21mto_3d_point\u001b[39m(\u001b[38;5;28mself\u001b[39m):\n\u001b[0;32m--> 165\u001b[0m     \u001b[38;5;28;01mreturn\u001b[39;00m \u001b[38;5;28;43mself\u001b[39;49m\u001b[38;5;241;43m.\u001b[39;49m\u001b[43mvector\u001b[49m\u001b[43m[\u001b[49m\u001b[38;5;241;43m0\u001b[39;49m\u001b[43m:\u001b[49m\u001b[38;5;241;43m3\u001b[39;49m\u001b[43m]\u001b[49m\n",
      "File \u001b[0;32m~/workspace/Projects/notebooks/venv/lib/python3.12/site-packages/snappy/snap/t3mlite/linalg.py:84\u001b[0m, in \u001b[0;36mVector.__getitem__\u001b[0;34m(self, i)\u001b[0m\n\u001b[1;32m     74\u001b[0m \u001b[38;5;250m\u001b[39m\u001b[38;5;124;03m\"\"\"\u001b[39;00m\n\u001b[1;32m     75\u001b[0m \u001b[38;5;124;03m>>> v = Vector([1, 2, 3, 4])\u001b[39;00m\n\u001b[1;32m     76\u001b[0m \u001b[38;5;124;03m>>> v[1]\u001b[39;00m\n\u001b[0;32m   (...)\u001b[0m\n\u001b[1;32m     81\u001b[0m \u001b[38;5;124;03m[2, 3]\u001b[39;00m\n\u001b[1;32m     82\u001b[0m \u001b[38;5;124;03m\"\"\"\u001b[39;00m\n\u001b[1;32m     83\u001b[0m \u001b[38;5;28;01mif\u001b[39;00m \u001b[38;5;28misinstance\u001b[39m(i, \u001b[38;5;28mslice\u001b[39m):\n\u001b[0;32m---> 84\u001b[0m     \u001b[38;5;28;01mreturn\u001b[39;00m \u001b[38;5;28;43mself\u001b[39;49m\u001b[38;5;241;43m.\u001b[39;49m\u001b[38;5;18;43m__class__\u001b[39;49m\u001b[43m(\u001b[49m\u001b[38;5;28;43mlist\u001b[39;49m\u001b[43m(\u001b[49m\u001b[38;5;28;43mself\u001b[39;49m\u001b[38;5;241;43m.\u001b[39;49m\u001b[43mpari\u001b[49m\u001b[43m)\u001b[49m\u001b[43m[\u001b[49m\u001b[43mi\u001b[49m\u001b[43m]\u001b[49m\u001b[43m)\u001b[49m\n\u001b[1;32m     85\u001b[0m \u001b[38;5;28;01mif\u001b[39;00m i \u001b[38;5;241m<\u001b[39m \u001b[38;5;241m0\u001b[39m:\n\u001b[1;32m     86\u001b[0m     i \u001b[38;5;241m=\u001b[39m i \u001b[38;5;241m%\u001b[39m \u001b[38;5;28mlen\u001b[39m(\u001b[38;5;28mself\u001b[39m)\n",
      "File \u001b[0;32m~/workspace/Projects/notebooks/venv/lib/python3.12/site-packages/snappy/snap/t3mlite/linalg.py:70\u001b[0m, in \u001b[0;36mVector.__init__\u001b[0;34m(self, n, entries, pari_vector)\u001b[0m\n\u001b[1;32m     68\u001b[0m             entries \u001b[38;5;241m=\u001b[39m n\u001b[38;5;241m*\u001b[39m[\u001b[38;5;241m0\u001b[39m]\n\u001b[1;32m     69\u001b[0m     \u001b[38;5;28;01massert\u001b[39;00m n \u001b[38;5;241m==\u001b[39m \u001b[38;5;28mlen\u001b[39m(entries)\n\u001b[0;32m---> 70\u001b[0m     pari_vector \u001b[38;5;241m=\u001b[39m \u001b[43mpari\u001b[49m\u001b[38;5;241;43m.\u001b[39;49m\u001b[43mvector\u001b[49m\u001b[43m(\u001b[49m\u001b[43mn\u001b[49m\u001b[43m,\u001b[49m\u001b[43m \u001b[49m\u001b[43mentries\u001b[49m\u001b[43m)\u001b[49m\u001b[38;5;241m.\u001b[39mCol()\n\u001b[1;32m     71\u001b[0m \u001b[38;5;28mself\u001b[39m\u001b[38;5;241m.\u001b[39mpari \u001b[38;5;241m=\u001b[39m pari_vector\n",
      "\u001b[0;31mKeyboardInterrupt\u001b[0m: "
     ]
    }
   ],
   "source": [
    "S = twister.Surface('S_2_1')\n",
    "trial_limit, word_len_mgn = 5000, (10,0)\n",
    "\n",
    "counts = {'non_S3': 0, 'nc_cn': 0,'alt': 0, 'pos_lmd': 0, 'neg_lmd': 0}\n",
    "#results = []\n",
    "while (counts['non_S3'] < trial_limit): # and (len(results) < 5):\n",
    "    print(f\"\\r{counts}\", end=\"\")\n",
    "    md = generate_random_word(*word_len_mgn) #; print(md)\n",
    "    M3 = S.bundle(monodromy=md)\n",
    "    try:\n",
    "        L = M3.exterior_to_link(verbose=False)\n",
    "    except Exception as e:\n",
    "        counts['non_S3'] += 1\n",
    "#        print(f\"Error: {e}, ({count=})\")\n",
    "        continue\n",
    "    #---\n",
    "    cn = len(L.DT_code()[0])\n",
    "    if cn < 17: # or cn > 26:\n",
    "        counts['nc_cn'] += 1\n",
    "#        print(f\"\\r# of crossings is {cn}\")\n",
    "        continue\n",
    "    if L.is_alternating():\n",
    "        counts['alt'] += 1\n",
    "#        print(f\"\\r{dt} is alternating.\")\n",
    "        continue\n",
    "    #---\n",
    "    hfk_dic = L.knot_floer_homology() #hfk.pd_to_hfk(pd)\n",
    "    ranks = hfk_dic['ranks']\n",
    "    lmd = list(ranks.keys())[-1][1]\n",
    "    if lmd < 0 or lmd > 4:\n",
    "        counts['neg_lmd'] += 1\n",
    "        print(f\"\\n\\r{md, cn} \\n {hfk_dic['ranks']=}\")\n",
    "    else:\n",
    "        counts['pos_lmd'] += 1\n",
    "#        print(f\"{lmd=}\")\n",
    "#---\n",
    "print(f\"\\n=== Finish ===\")"
   ]
  },
  {
   "cell_type": "code",
   "execution_count": 4,
   "id": "3db641e9-7319-4b99-be0e-b8203557b4e0",
   "metadata": {
    "executionInfo": {
     "elapsed": 7,
     "status": "aborted",
     "timestamp": 1726184657593,
     "user": {
      "displayName": "山本亮介",
      "userId": "01861936879830612877"
     },
     "user_tz": -540
    },
    "id": "TMPS6uBNstP7"
   },
   "outputs": [
    {
     "name": "stdout",
     "output_type": "stream",
     "text": [
      "{'non_S3': 592, 'nc_cn': 95, 'alt': 0, 'pos_lmd': 4, 'neg_lmd': 0}\n",
      "('abCDfAbfCf', 31) \n",
      " hfk_dic['ranks']={(-2, -5): 1, (-1, -4): 2, (-1, -1): 2, (0, -3): 2, (0, 0): 5, (1, -2): 2, (1, 1): 2, (2, -1): 1}\n",
      "{'non_S3': 4999, 'nc_cn': 696, 'alt': 0, 'pos_lmd': 26, 'neg_lmd': 1}\n",
      "=== Finish ===\n"
     ]
    }
   ],
   "source": [
    "S = twister.Surface('S_2_1')\n",
    "trial_limit, word_len_mgn = 5000, (2,3)\n",
    "\n",
    "counts = {'non_S3': 0, 'nc_cn': 0,'alt': 0, 'pos_lmd': 0, 'neg_lmd': 0}\n",
    "#results = []\n",
    "while (counts['non_S3'] < trial_limit): # and (len(results) < 5):\n",
    "    print(f\"\\r{counts}\", end=\"\")\n",
    "    md = 'abCDf' + generate_random_word(*word_len_mgn) #; print(md)\n",
    "    M3 = S.bundle(monodromy=md)\n",
    "    try:\n",
    "        L = M3.exterior_to_link(verbose=False)\n",
    "    except Exception as e:\n",
    "        counts['non_S3'] += 1\n",
    "#        print(f\"Error: {e}, ({count=})\")\n",
    "        continue\n",
    "    #---\n",
    "    cn = len(L.DT_code()[0])\n",
    "    if cn < 17: # or cn > 26:\n",
    "        counts['nc_cn'] += 1\n",
    "#        print(f\"\\r# of crossings is {cn}\")\n",
    "        continue\n",
    "    if L.is_alternating():\n",
    "        counts['alt'] += 1\n",
    "#        print(f\"\\r{dt} is alternating.\")\n",
    "        continue\n",
    "    #---\n",
    "    hfk_dic = L.knot_floer_homology() #hfk.pd_to_hfk(pd)\n",
    "    ranks = hfk_dic['ranks']\n",
    "    lmd = list(ranks.keys())[-1][1]\n",
    "    if lmd < 0 or lmd > 4:\n",
    "        counts['neg_lmd'] += 1\n",
    "        print(f\"\\n\\r{md, cn} \\n {hfk_dic['ranks']=}\")\n",
    "    else:\n",
    "        counts['pos_lmd'] += 1\n",
    "#---\n",
    "print(f\"\\n=== Finish ===\")"
   ]
  },
  {
   "cell_type": "code",
   "execution_count": null,
   "id": "74b3542a-f0a6-48be-b1b7-64e7d01a52e3",
   "metadata": {},
   "outputs": [],
   "source": []
  }
 ],
 "metadata": {
  "colab": {
   "collapsed_sections": [
    "PGII4NrboFOE"
   ],
   "provenance": []
  },
  "kernelspec": {
   "display_name": "Python 3 (ipykernel)",
   "language": "python",
   "name": "python3"
  },
  "language_info": {
   "codemirror_mode": {
    "name": "ipython",
    "version": 3
   },
   "file_extension": ".py",
   "mimetype": "text/x-python",
   "name": "python",
   "nbconvert_exporter": "python",
   "pygments_lexer": "ipython3",
   "version": "3.12.6"
  }
 },
 "nbformat": 4,
 "nbformat_minor": 5
}
