{
 "cells": [
  {
   "cell_type": "markdown",
   "id": "a4a68d15-98e0-4a0a-bcfe-db4589b31f0b",
   "metadata": {},
   "source": [
    "# Scratch"
   ]
  },
  {
   "cell_type": "markdown",
   "id": "474fae2d-28c9-4993-a4e6-818875550200",
   "metadata": {},
   "source": [
    "## Modules"
   ]
  },
  {
   "cell_type": "code",
   "execution_count": 27,
   "id": "f25cab32-10bd-4861-acb5-861efb03be38",
   "metadata": {
    "ExecuteTime": {
     "end_time": "2021-05-28T05:09:25.860503Z",
     "start_time": "2021-05-28T05:09:25.275687Z"
    },
    "tags": []
   },
   "outputs": [],
   "source": [
    "from Mountains import *\n",
    "# import sympy\n",
    "from numpy.random import randint as ri\n",
    "\n",
    "# sympy.init_printing()\n",
    "\n",
    "# import itertools\n",
    "\n",
    "# import pandas as pd\n",
    "# import plotly.express as px\n",
    "# from plotly.subplots import make_subplots\n",
    "# from tqdm.notebook import tqdm"
   ]
  },
  {
   "cell_type": "code",
   "execution_count": 28,
   "id": "7c7ac1bd-d823-412a-823e-2a1d181324b8",
   "metadata": {
    "tags": []
   },
   "outputs": [
    {
     "name": "stdout",
     "output_type": "stream",
     "text": [
      "5\n",
      "(4, 5, 4, 4)\n"
     ]
    }
   ],
   "source": [
    "m = mountains_random_generator(10)\n",
    "print(m)"
   ]
  },
  {
   "cell_type": "code",
   "execution_count": 29,
   "id": "81b02490-2b93-4a3c-a329-b8a1f87e2f11",
   "metadata": {},
   "outputs": [
    {
     "data": {
      "text/plain": [
       "17"
      ]
     },
     "execution_count": 29,
     "metadata": {},
     "output_type": "execute_result"
    }
   ],
   "source": [
    "sum(m)"
   ]
  }
 ],
 "metadata": {
  "kernelspec": {
   "display_name": "Python 3",
   "language": "python",
   "name": "python3"
  },
  "language_info": {
   "codemirror_mode": {
    "name": "ipython",
    "version": 3
   },
   "file_extension": ".py",
   "mimetype": "text/x-python",
   "name": "python",
   "nbconvert_exporter": "python",
   "pygments_lexer": "ipython3",
   "version": "3.7.10"
  }
 },
 "nbformat": 4,
 "nbformat_minor": 5
}
