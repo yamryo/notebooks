{
 "cells": [
  {
   "cell_type": "markdown",
   "metadata": {
    "tags": []
   },
   "source": [
    "# Incidence Matrices for quasi-cords"
   ]
  },
  {
   "cell_type": "markdown",
   "metadata": {
    "heading_collapsed": true,
    "tags": []
   },
   "source": [
    "## Importing modules"
   ]
  },
  {
   "cell_type": "code",
   "execution_count": null,
   "metadata": {
    "ExecuteTime": {
     "end_time": "2021-05-27T09:21:57.935774Z",
     "start_time": "2021-05-27T09:21:53.829027Z"
    },
    "hidden": true,
    "tags": []
   },
   "outputs": [],
   "source": [
    "import numpy as np\n",
    "\n",
    "from plotly.offline import init_notebook_mode, iplot\n",
    "init_notebook_mode(connected=False)\n",
    "\n",
    "import plotly.graph_objects as go\n",
    "from ipywidgets import widgets\n",
    "\n",
    "from copy import copy\n",
    "import sympy\n",
    "sympy.init_printing()\n",
    "\n",
    "import itertools\n",
    "from functools import reduce\n",
    "\n",
    "from tqdm.notebook import tqdm"
   ]
  },
  {
   "cell_type": "code",
   "execution_count": null,
   "metadata": {
    "ExecuteTime": {
     "end_time": "2021-05-27T09:21:57.951645Z",
     "start_time": "2021-05-27T09:21:57.939372Z"
    },
    "hidden": true
   },
   "outputs": [],
   "source": [
    "%run /Users/ryosuke/workspace/Projects/notebooks/Research/Permutations"
   ]
  },
  {
   "cell_type": "markdown",
   "metadata": {
    "toc-hr-collapsed": true
   },
   "source": [
    "## Classes and functions"
   ]
  },
  {
   "cell_type": "markdown",
   "metadata": {
    "heading_collapsed": true
   },
   "source": [
    "### Code class"
   ]
  },
  {
   "cell_type": "code",
   "execution_count": null,
   "metadata": {
    "ExecuteTime": {
     "end_time": "2021-05-27T09:21:58.030638Z",
     "start_time": "2021-05-27T09:21:57.973868Z"
    },
    "hidden": true
   },
   "outputs": [],
   "source": [
    "LABELS = ['T','L','B','R']\n",
    "\n",
    "class Code(tuple):\n",
    "    '''\n",
    "    4-tuple of integers representing a quasi-cord.\n",
    "    4 integers T,L,B and R have the following rule;\n",
    "\n",
    "    1) T+L >= B+R\n",
    "    2) |T-L| <= B+R+1\n",
    "    '''\n",
    "    def __init__(self, arg):\n",
    "        self.verify_code(arg)\n",
    "        self = tuple(arg)\n",
    "        \n",
    "    def verify_code(self, code):\n",
    "        if not type(code) in [list,tuple]: raise TypeError(\"Not list or tuple.\")\n",
    "        if len(code) != 4: raise ValueError(\"Not a 4-tuple.\")\n",
    "        for v in code:\n",
    "            if not type(v) is int: ValueError(\"Not integers.\")\n",
    "            if v < 0: raise ValueError(\"Not positive values.\")  \n",
    "        tl = sum(code[:2])\n",
    "        br = sum(code[-2:])\n",
    "        if tl < br:\n",
    "            raise ValueError(\"T+L < B+R\")\n",
    "#        elif abs(code[0] - code[1]) > br+1:\n",
    "        # T=0 の場合には、L = B+R+1 がダメ (L上に trivial arc が生じる) ので、暫定的に +1 を外している。\n",
    "        elif abs(code[0]-code[1]) > br:  \n",
    "            raise ValueError(\"|T-L| > B+R+1\")\n",
    "        else: \n",
    "            return True"
   ]
  },
  {
   "cell_type": "markdown",
   "metadata": {
    "heading_collapsed": true
   },
   "source": [
    "### Side class, Segment class"
   ]
  },
  {
   "cell_type": "code",
   "execution_count": null,
   "metadata": {
    "ExecuteTime": {
     "end_time": "2021-05-27T09:21:58.088264Z",
     "start_time": "2021-05-27T09:21:58.049480Z"
    },
    "hidden": true
   },
   "outputs": [],
   "source": [
    "class Side:\n",
    "    '''A side of the square'''\n",
    "    \n",
    "    def __init__(self, label, number):\n",
    "        '''\n",
    "        Arguments\n",
    "        ---------\n",
    "        label : string\n",
    "            One of the letters in {T,L,B,R}.\n",
    "        number : int\n",
    "            The number coressponding to the points on the side of the label.\n",
    "        '''\n",
    "        self.label = label\n",
    "        self.number = number\n",
    "        self.points = self.get_points()\n",
    "        \n",
    "    def get_points(self):\n",
    "        points = [self.label+str(k)+'+' for k in range(self.number)]\n",
    "        points += [label[:-1]+'-' for label in reversed(points)]\n",
    "        if self.label in ['L','R']:\n",
    "            idx = int(len(points)/2)\n",
    "            points.insert(idx, self.label)\n",
    "        return points\n",
    "\n",
    "class Segment:\n",
    "    '''A segment on the square connecting two points on the sides'''\n",
    "    \n",
    "    def __init__(self, point01, point02):\n",
    "        '''\n",
    "        Arguments\n",
    "        ---------\n",
    "        point01, point02 : string\n",
    "            The labels of the two points on the sides.\n",
    "        '''\n",
    "        self.ends = (point01, point02)\n",
    "        \n",
    "    def show(self):\n",
    "        return self.ends"
   ]
  },
  {
   "cell_type": "markdown",
   "metadata": {
    "heading_collapsed": true
   },
   "source": [
    "### Square class"
   ]
  },
  {
   "cell_type": "code",
   "execution_count": null,
   "metadata": {
    "ExecuteTime": {
     "end_time": "2021-05-27T09:21:58.552848Z",
     "start_time": "2021-05-27T09:21:58.095427Z"
    },
    "hidden": true
   },
   "outputs": [],
   "source": [
    "class Square:\n",
    "    '''A square obtained by cut the disk with 4 points T,L,B,R along the arcs a_T, a_L, a_B, a_R'''\n",
    "    \n",
    "    def __init__(self, arg):\n",
    "        '''\n",
    "        Arguments\n",
    "        ---------\n",
    "        code : tuple\n",
    "            The 4-tuple corresponding to the quasi-cord.\n",
    "        '''\n",
    "        #---\n",
    "        self.code = Code(arg)                 # tuple: code = (\\d, \\d, \\d, \\d)\n",
    "        self.sides = self.get_sides()         # dict: sides = {label: Side(label, num),...}\n",
    "        self.segments = self.get_segments()   # list: segments = [Segment,...]\n",
    "   \n",
    "    def get_sides(self):\n",
    "        sides_dict = {}\n",
    "        for i in range(len(LABELS)):\n",
    "            sides_dict[LABELS[i]] = Side(LABELS[i], self.code[i])\n",
    "        return sides_dict\n",
    "\n",
    "    def get_segments(self):\n",
    "        segs_list = []\n",
    "        \n",
    "        # create the top-left segments \n",
    "        tl = self.sides['T'].number + self.sides['L'].number\n",
    "        br = self.sides['B'].number + self.sides['R'].number\n",
    "        diff = tl - br\n",
    "        for i in range(diff):\n",
    "            a_tlseg = Segment(self.sides['T'].points[i], self.sides['L'].points[i])\n",
    "            segs_list.append(a_tlseg)\n",
    "        \n",
    "        # the remaining\n",
    "        remaining = []\n",
    "        TL_points = list(reversed(self.sides['L'].points[diff:]))+self.sides['T'].points[diff:]\n",
    "        BR_points = self.sides['B'].points+self.sides['R'].points\n",
    "\n",
    "        for i in range(len(TL_points)):\n",
    "            a_seg = Segment(TL_points[i], BR_points[i])\n",
    "            segs_list.append(a_seg)\n",
    "        return segs_list\n",
    "    \n",
    "    def matrix(self):\n",
    "        variables = []\n",
    "        for label in LABELS:\n",
    "            num = self.sides[label].number\n",
    "            if label in ['L','R']:\n",
    "                num += 1\n",
    "            variables.append(self.sides[label].points[:num])\n",
    "        variables = [v.replace('+','') for v in sum(variables, [])] # flatten and remove '+'\n",
    "        #---\n",
    "        s = len(self.segments)\n",
    "        M = np.zeros((s,s+1), dtype=int)\n",
    "        raw = 0\n",
    "        for a_seg in self.segments:\n",
    "            i = 0\n",
    "            for end_point in a_seg.ends:\n",
    "                if end_point[-1] in ['+','-']:\n",
    "                    end_point = end_point[:-1]  # remove '+' and '-'\n",
    "                M[raw][variables.index(end_point)] = (-1)**i\n",
    "                i += 1\n",
    "            raw += 1\n",
    "\n",
    "        tl = self.sides['T'].number + self.sides['L'].number\n",
    "        C = np.roll(np.eye(1, s+1, dtype=int), shift=tl, axis=1)\n",
    "        M = np.r_[M, C]\n",
    "        return M\n",
    "\n",
    "    def grid_diagram(self):\n",
    "        M = self.matrix()\n",
    "        size = len(M)\n",
    "        #--- Initialize Grid diagram matrix ---\n",
    "        GM = np.where(M!=0, 2, M)\n",
    "        GM[size-1][size-1] = 2\n",
    "        #-----\n",
    "        rows = list(range(size))\n",
    "        next_row = []\n",
    "        #-----\n",
    "        while len(rows) > 0:\n",
    "            if len(next_row) == 1:\n",
    "                o_column = x_column\n",
    "                current_row = next_row[0]\n",
    "                rows.remove(current_row)\n",
    "            elif len(next_row) == 0:\n",
    "                o_column = -1\n",
    "                current_row = rows.pop()\n",
    "            else: raise ValueError(\"next_row = {} (rows = {})\".format(next_row,rows))\n",
    "            marking_columns = np.where(GM[current_row]==2)[0]\n",
    "            if len(marking_columns) != 2:\n",
    "                raise ValueError(\"marking_columns = {} (rows = {})\".format(marking_columns,rows))\n",
    "            if o_column >= 0:\n",
    "                another = np.where(marking_columns!=o_column)[0][0]\n",
    "                x_column = marking_columns[another]\n",
    "            elif o_column == -1:\n",
    "                o_column = marking_columns[0]\n",
    "                x_column = marking_columns[1]\n",
    "            else:\n",
    "                raise ValueError(\"marking_columns = {} (rows = {})\".format(marking_columns,rows))\n",
    "            GM[current_row][o_column] = 1\n",
    "            GM[current_row][x_column] = -1\n",
    "            #---\n",
    "            next_row = np.where(GM[:,x_column]==2)[0]\n",
    "        return GM\n",
    "    \n",
    "    def permutation(self):\n",
    "        GM = self.grid_diagram()\n",
    "        entry = np.nditer(GM, flags=['multi_index'])\n",
    "        sO, sX = [], []\n",
    "        while not entry.finished:  \n",
    "            idx = entry.multi_index\n",
    "            if GM[idx] != 0:\n",
    "                if GM[idx] == 1:\n",
    "                    sO += [idx[1]]\n",
    "                else:\n",
    "                    sX += [idx[1]]\n",
    "            entry.iternext()\n",
    "        #---\n",
    "        sigma_O = Permutation(sO)\n",
    "        sigma_X = Permutation(sX)\n",
    "        return sigma_O*(sigma_X.inverse())\n",
    "\n",
    "    def graphic(self, figsize=(400, 400)):\n",
    "        fig = go.Figure()\n",
    "        SIZE = 10\n",
    "    \n",
    "        #--- Points\n",
    "        moves = {'T': (1, SIZE*1j), 'L': (-1j, SIZE*(-1)), 'B': (1, SIZE*1j*(-1)), 'R': (1j, SIZE)}\n",
    "        all_points_dict = {}\n",
    "        for side in self.sides.values():\n",
    "            num = side.number\n",
    "            delta = SIZE/(num+1)\n",
    "            #---\n",
    "            complex_list = list(reversed([(-1)*delta*(k+1) for k in range(num)]))\n",
    "            if side.label in ['L', 'R']:\n",
    "                complex_list.append(0)\n",
    "            complex_list += [delta*(k+1) for k in range(num)]\n",
    "            complex_list = [v*moves[side.label][0]+moves[side.label][1] for v in complex_list]\n",
    "            for k in range(len(side.points)):\n",
    "                all_points_dict[side.points[k]] = complex_list[k]\n",
    "            #---\n",
    "            fig.add_trace(go.Scatter(\n",
    "                x = [z.real for z in complex_list],\n",
    "                y = [z.imag for z in complex_list],\n",
    "                mode=\"markers\",\n",
    "            ))\n",
    "     \n",
    "        #--- Frame\n",
    "        frame = go.layout.Shape(\n",
    "                    type=\"rect\",\n",
    "                    x0=SIZE, y0=SIZE, x1=(-1)*SIZE, y1=(-1)*SIZE,\n",
    "                    line=dict(color=\"RoyalBlue\",),\n",
    "                )\n",
    "        #--- Segments\n",
    "        my_shapes = [frame]\n",
    "        for seg in self.segments:\n",
    "            pnt0 = all_points_dict[seg.ends[0]]\n",
    "            pnt1 = all_points_dict[seg.ends[1]]\n",
    "            my_shapes.append(\n",
    "                go.layout.Shape(\n",
    "                    type=\"line\",\n",
    "                    x0=pnt0.real, y0=pnt0.imag,\n",
    "                    x1=pnt1.real, y1=pnt1.imag,\n",
    "                    line=dict(\n",
    "                        color=\"LightSeaGreen\",\n",
    "                        width=3,\n",
    "                    ),\n",
    "                )\n",
    "            )\n",
    "        else: fig.update_layout(shapes=my_shapes)\n",
    "     \n",
    "        #--- Update axes properties\n",
    "        rng = SIZE*1.2\n",
    "        options = dict(range=[(-1)*rng, rng], showticklabels=False, showgrid=False, zeroline=False,)\n",
    "        fig.update_xaxes(options)\n",
    "        fig.update_yaxes(options)\n",
    "        #--- Set figure size and background color\n",
    "        fig.update_layout(width=figsize[0], height=figsize[1], plot_bgcolor=\"white\", showlegend=False)\n",
    "        \n",
    "        return fig"
   ]
  },
  {
   "cell_type": "markdown",
   "metadata": {
    "heading_collapsed": true
   },
   "source": [
    "### get_diagram function"
   ]
  },
  {
   "cell_type": "code",
   "execution_count": null,
   "metadata": {
    "ExecuteTime": {
     "end_time": "2021-05-27T09:21:58.631998Z",
     "start_time": "2021-05-27T09:21:58.556090Z"
    },
    "hidden": true
   },
   "outputs": [],
   "source": [
    "def get_diagram(matrix, figsize=(400,400)):\n",
    "    fig = go.Figure()\n",
    "    SIZE = 10\n",
    "    delta = SIZE/len(matrix)\n",
    "\n",
    "    def trans(pair):\n",
    "        return (pair[1] - pair[0]*1j)*delta +(3/2+1/2*1j)*delta + SIZE*1j\n",
    "    \n",
    "    #--- Points ---\n",
    "    corners = dict(points=[], marker=dict(size=5.0, color=\"Red\"),)\n",
    "    others = dict(points=[], marker=dict(size=2.0, color=\"RoyalBlue\"),)\n",
    "\n",
    "    entry = np.nditer(matrix, flags=['multi_index'])\n",
    "    while not entry.finished:\n",
    "        if entry[0]==0:\n",
    "            others['points'].append(entry.multi_index)\n",
    "        else:\n",
    "            corners['points'].append(entry.multi_index)\n",
    "        entry.iternext()\n",
    "\n",
    "    for pdict in [others, corners]:\n",
    "        z_list = [trans(pair) for pair in pdict['points']]\n",
    "        fig.add_trace(go.Scatter(\n",
    "            x = [z.real for z in z_list],\n",
    "            y = [z.imag for z in z_list],\n",
    "            mode=\"markers\",\n",
    "            marker=pdict['marker'],\n",
    "        ))\n",
    "\n",
    "    #--- Lines ---\n",
    "    lines = []\n",
    "    for k in range(len(matrix)):\n",
    "        for i in range(2):  # 0: horizontal lines, 1: vertical lines\n",
    "            z = [trans(pair) for pair in corners['points'] if pair[i] == k]\n",
    "            if len(z) == 2:\n",
    "                lines.append(\n",
    "                    go.layout.Shape(\n",
    "                        type=\"line\",\n",
    "                        x0=z[0].real, y0=z[0].imag,\n",
    "                        x1=z[1].real, y1=z[1].imag,\n",
    "                        line=dict(color=\"LightSeaGreen\", width=1,),\n",
    "                    ))\n",
    "    else: fig.update_layout(shapes=lines)\n",
    "               \n",
    "    #--- Update axes properties\n",
    "    options = dict(\n",
    "        range=[0, SIZE+2*delta], \n",
    "        showticklabels=False,\n",
    "        showgrid=False,\n",
    "        zeroline=False,\n",
    "    )\n",
    "    fig.update_xaxes(options)\n",
    "    fig.update_yaxes(options)\n",
    "    #--- Set figure size and background color\n",
    "    fig.update_layout(\n",
    "        width=figsize[0], height=figsize[1],\n",
    "    #     plot_bgcolor=\"white\", \n",
    "        showlegend=False,\n",
    "    )\n",
    "    #---\n",
    "    return fig"
   ]
  },
  {
   "cell_type": "markdown",
   "metadata": {
    "heading_collapsed": true
   },
   "source": [
    "### square_random_generator function"
   ]
  },
  {
   "cell_type": "code",
   "execution_count": null,
   "metadata": {
    "ExecuteTime": {
     "end_time": "2021-05-27T09:21:58.646384Z",
     "start_time": "2021-05-27T09:21:58.635075Z"
    },
    "hidden": true
   },
   "outputs": [],
   "source": [
    "def square_random_generator(max=10, verbose=False):\n",
    "    while True:\n",
    "        try:\n",
    "            code = [np.random.randint(1,max) for k in range(4)]\n",
    "            sqr = Square(tuple(code))\n",
    "            break\n",
    "        except ValueError:\n",
    "            if verbose:\n",
    "                print(\"Oops!\")\n",
    "    return sqr"
   ]
  },
  {
   "cell_type": "markdown",
   "metadata": {
    "heading_collapsed": true,
    "toc-hr-collapsed": true
   },
   "source": [
    "## Create an instance of Square class."
   ]
  },
  {
   "cell_type": "code",
   "execution_count": null,
   "metadata": {
    "ExecuteTime": {
     "end_time": "2021-05-27T09:21:58.670204Z",
     "start_time": "2021-05-27T09:21:58.655670Z"
    },
    "hidden": true
   },
   "outputs": [],
   "source": [
    "sqr = square_random_generator(verbose=True)\n",
    "#sqr = Square((5,1,1,1)) #1,4,1,1)) #0,1,0,0)) #0,3,0,3)) #8,4,6,2)) #3,2,1,1)) #(3,4,5,2)) #(3,7,4,2)) #(1,3,1,1)) #(3,4,2,1)) #\n",
    "\n",
    "print(sqr.code)"
   ]
  },
  {
   "cell_type": "markdown",
   "metadata": {
    "heading_collapsed": true,
    "hidden": true
   },
   "source": [
    "### Parts of a square"
   ]
  },
  {
   "cell_type": "markdown",
   "metadata": {
    "hidden": true
   },
   "source": [
    "End points on the sides"
   ]
  },
  {
   "cell_type": "code",
   "execution_count": null,
   "metadata": {
    "ExecuteTime": {
     "end_time": "2021-05-27T09:21:58.687640Z",
     "start_time": "2021-05-27T09:21:58.676331Z"
    },
    "hidden": true
   },
   "outputs": [],
   "source": [
    "for side in sqr.sides.values():\n",
    "    print(\"side {} --> {}\".format(side.label, side.points))"
   ]
  },
  {
   "cell_type": "markdown",
   "metadata": {
    "hidden": true
   },
   "source": [
    "Segments"
   ]
  },
  {
   "cell_type": "code",
   "execution_count": null,
   "metadata": {
    "ExecuteTime": {
     "end_time": "2021-05-27T09:21:58.705317Z",
     "start_time": "2021-05-27T09:21:58.694190Z"
    },
    "hidden": true
   },
   "outputs": [],
   "source": [
    "all_segs = [seg.ends for seg in sqr.segments]\n",
    "print(all_segs)"
   ]
  },
  {
   "cell_type": "markdown",
   "metadata": {
    "hidden": true
   },
   "source": [
    "### Graphic"
   ]
  },
  {
   "cell_type": "code",
   "execution_count": null,
   "metadata": {
    "ExecuteTime": {
     "end_time": "2021-05-27T09:21:59.135366Z",
     "start_time": "2021-05-27T09:21:58.711610Z"
    },
    "hidden": true
   },
   "outputs": [],
   "source": [
    "fig = sqr.graphic(figsize=(500,500))\n",
    "fig.show()"
   ]
  },
  {
   "cell_type": "markdown",
   "metadata": {
    "hidden": true
   },
   "source": [
    "### Incidence Matrix"
   ]
  },
  {
   "cell_type": "markdown",
   "metadata": {
    "hidden": true
   },
   "source": [
    "Create the coefficient matrix of the equations coresponding to the segments"
   ]
  },
  {
   "cell_type": "code",
   "execution_count": null,
   "metadata": {
    "ExecuteTime": {
     "end_time": "2021-05-27T09:21:59.152766Z",
     "start_time": "2021-05-27T09:21:59.138090Z"
    },
    "hidden": true
   },
   "outputs": [],
   "source": [
    "M = sqr.matrix()\n",
    "print(\"{} --det--> {}\".format(M, np.linalg.det(M)))"
   ]
  },
  {
   "cell_type": "markdown",
   "metadata": {
    "hidden": true
   },
   "source": [
    "Connecting $\\pm 1$'s on the matrix"
   ]
  },
  {
   "cell_type": "code",
   "execution_count": null,
   "metadata": {
    "ExecuteTime": {
     "end_time": "2021-05-27T09:21:59.330659Z",
     "start_time": "2021-05-27T09:21:59.167156Z"
    },
    "hidden": true
   },
   "outputs": [],
   "source": [
    "fig = get_diagram(M, figsize=(500,500))\n",
    "fig.show()"
   ]
  },
  {
   "cell_type": "markdown",
   "metadata": {
    "heading_collapsed": true
   },
   "source": [
    "## All in One"
   ]
  },
  {
   "cell_type": "code",
   "execution_count": null,
   "metadata": {
    "ExecuteTime": {
     "end_time": "2021-05-27T09:22:02.310524Z",
     "start_time": "2021-05-27T09:21:59.336984Z"
    },
    "hidden": true
   },
   "outputs": [],
   "source": [
    "sqr = square_random_generator(max=6)\n",
    "# sqr = Square((2,1,0,1))\n",
    "M = sqr.matrix()\n",
    "output = \"{}\\n\\n {} |--det--> {}\\n\\n\".format(sqr.code, M, np.linalg.det(M)); print(output)\n",
    "\n",
    "figs = [get_diagram(M), sqr.graphic()]\n",
    "fws = [go.FigureWidget(data=fig['data'], layout=fig['layout']) for fig in figs]\n",
    "try:\n",
    "    display(widgets.HBox(fws))\n",
    "except NameError:\n",
    "    for fig in figs: iplot(fig)"
   ]
  },
  {
   "cell_type": "markdown",
   "metadata": {
    "heading_collapsed": true
   },
   "source": [
    "## Grid diagram"
   ]
  },
  {
   "cell_type": "code",
   "execution_count": null,
   "metadata": {
    "ExecuteTime": {
     "end_time": "2021-05-27T09:22:03.585591Z",
     "start_time": "2021-05-27T09:22:02.313714Z"
    },
    "hidden": true
   },
   "outputs": [],
   "source": [
    "sqr = square_random_generator(max=6)\n",
    "# sqr = Square([1,1,0,0])\n",
    "GM = sqr.grid_diagram()\n",
    "#-----\n",
    "print(\"cord:\",sqr.code)\n",
    "display(sympy.Matrix(GM))\n",
    "get_diagram(GM)"
   ]
  },
  {
   "cell_type": "code",
   "execution_count": null,
   "metadata": {
    "ExecuteTime": {
     "end_time": "2021-05-27T09:22:04.539836Z",
     "start_time": "2021-05-27T09:22:03.589588Z"
    },
    "hidden": true,
    "tags": []
   },
   "outputs": [],
   "source": [
    "p = sqr.permutation()\n",
    "p.display()\n",
    "print(cycle_decomp(p))"
   ]
  },
  {
   "cell_type": "markdown",
   "metadata": {},
   "source": [
    "## TODO"
   ]
  },
  {
   "cell_type": "markdown",
   "metadata": {
    "ExecuteTime": {
     "end_time": "2019-09-10T07:49:47.242251Z",
     "start_time": "2019-09-10T07:49:47.235409Z"
    }
   },
   "source": [
    "* [ ] 接続行列に対して、基本変形を自由にできるようにする。\n",
    "* [x] show_graphic 関数で、なぜか最初の segment を描画してくれない。\n",
    "* [x] 行列生成処理も何らかのクラスのメソッドにして、大量計算を実行できるようにしたい。\n",
    "* [x] 接続行列の生成について。quasi-cord が $\\tau + \\lambda = \\beta + \\rho$ の場合しかうまく行ってない。"
   ]
  }
 ],
 "metadata": {
  "kernelspec": {
   "display_name": "Python 3",
   "language": "python",
   "name": "python3"
  },
  "language_info": {
   "codemirror_mode": {
    "name": "ipython",
    "version": 3
   },
   "file_extension": ".py",
   "mimetype": "text/x-python",
   "name": "python",
   "nbconvert_exporter": "python",
   "pygments_lexer": "ipython3",
   "version": "3.6.13"
  },
  "toc": {
   "base_numbering": 1,
   "nav_menu": {},
   "number_sections": true,
   "sideBar": true,
   "skip_h1_title": true,
   "title_cell": "Table of Contents",
   "title_sidebar": "Contents",
   "toc_cell": false,
   "toc_position": {
    "height": "calc(100% - 180px)",
    "left": "10px",
    "top": "150px",
    "width": "236px"
   },
   "toc_section_display": true,
   "toc_window_display": true
  },
  "toc-autonumbering": false,
  "toc-showcode": false,
  "toc-showmarkdowntxt": false,
  "toc-showtags": false,
  "varInspector": {
   "cols": {
    "lenName": 16,
    "lenType": 16,
    "lenVar": 40
   },
   "kernels_config": {
    "python": {
     "delete_cmd_postfix": "",
     "delete_cmd_prefix": "del ",
     "library": "var_list.py",
     "varRefreshCmd": "print(var_dic_list())"
    },
    "r": {
     "delete_cmd_postfix": ") ",
     "delete_cmd_prefix": "rm(",
     "library": "var_list.r",
     "varRefreshCmd": "cat(var_dic_list()) "
    }
   },
   "types_to_exclude": [
    "module",
    "function",
    "builtin_function_or_method",
    "instance",
    "_Feature"
   ],
   "window_display": false
  }
 },
 "nbformat": 4,
 "nbformat_minor": 4
}
