{
 "cells": [
  {
   "cell_type": "markdown",
   "metadata": {
    "tags": []
   },
   "source": [
    "# Incidence Matrices for quasi-cords"
   ]
  },
  {
   "cell_type": "markdown",
   "metadata": {
    "heading_collapsed": true,
    "tags": []
   },
   "source": [
    "## Import modules"
   ]
  },
  {
   "cell_type": "code",
   "execution_count": 4,
   "metadata": {
    "ExecuteTime": {
     "end_time": "2021-05-27T09:21:57.951645Z",
     "start_time": "2021-05-27T09:21:57.939372Z"
    },
    "hidden": true,
    "tags": []
   },
   "outputs": [],
   "source": [
    "import Permutations as pm\n",
    "from ToolsForQuasiCord import *"
   ]
  },
  {
   "cell_type": "code",
   "execution_count": 16,
   "metadata": {},
   "outputs": [],
   "source": [
    "def cc(sqr):\n",
    "    return len(pm.cycle_decomp(sqr.permutation()))"
   ]
  },
  {
   "cell_type": "markdown",
   "metadata": {},
   "source": [
    "## Finding moves keeping number of components"
   ]
  },
  {
   "cell_type": "markdown",
   "metadata": {
    "heading_collapsed": true
   },
   "source": [
    "### To be $T+L = B+R$"
   ]
  },
  {
   "cell_type": "code",
   "execution_count": 17,
   "metadata": {
    "ExecuteTime": {
     "end_time": "2021-05-27T09:22:05.195059Z",
     "start_time": "2021-05-27T09:22:04.656584Z"
    },
    "hidden": true
   },
   "outputs": [
    {
     "name": "stdout",
     "output_type": "stream",
     "text": [
      "eql = 19, alt = 19, err = 12\n"
     ]
    }
   ],
   "source": [
    "N = 50\n",
    "equals,alters,errors = 0,0,0\n",
    "for i in range(N):\n",
    "    sqr_org = square_random_generator(max=20)\n",
    "    c_org = sqr_org.code\n",
    "    \n",
    "    diff = (c_org[0]+c_org[1])-(c_org[2]+c_org[3])\n",
    "    c_alt = [c_org[0], c_org[1]+diff, c_org[2], c_org[3]]\n",
    "    \n",
    "    flag = True\n",
    "    try:\n",
    "        sqrs = [sqr_org, Square(c_alt)]\n",
    "    except:\n",
    "        errors += 1\n",
    "        flag = False\n",
    "        pass\n",
    "    nums = [cc(sqr) for sqr in sqrs]\n",
    "    \n",
    "    if flag:\n",
    "        if nums[0] == nums[1]:\n",
    "            equals += 1\n",
    "        else:\n",
    "            alters += 1\n",
    "print(\"eql = {}, alt = {}, err = {}\".format(equals, alters, errors))        \n",
    "#     print([sqr.code for sqr in sqrs],nums)\n",
    "#     for i in range(2): display(get_diagram(sqrs[i].grid_diagram()))"
   ]
  },
  {
   "cell_type": "markdown",
   "metadata": {},
   "source": [
    "### $T=L$"
   ]
  },
  {
   "cell_type": "code",
   "execution_count": 21,
   "metadata": {
    "ExecuteTime": {
     "end_time": "2021-05-27T09:22:22.037610Z",
     "start_time": "2021-05-27T09:22:20.166531Z"
    }
   },
   "outputs": [
    {
     "data": {
      "image/png": "[encoded data removed]",
      "text/latex": [
       "$\\displaystyle \\left[\\begin{array}{ccccccccccccccccccc}0 & 3 & 1 & 1 & 1 & 1 & 3 & 1 & 1 & 1 & 1 & 3 & 1 & 1 & 1 & 1 & 3 & 1 & 1\\\\0 & 0 & 3 & 1 & 1 & 1 & 1 & 3 & 1 & 1 & 1 & 1 & 3 & 1 & 1 & 1 & 1 & 3 & 1\\\\0 & 0 & 0 & 3 & 1 & 1 & 1 & 1 & 3 & 1 & 1 & 1 & 1 & 3 & 1 & 1 & 1 & 1 & 3\\\\0 & 0 & 0 & 0 & 3 & 1 & 1 & 1 & 1 & 3 & 1 & 1 & 1 & 1 & 3 & 1 & 1 & 1 & 1\\\\0 & 0 & 0 & 0 & 0 & 3 & 1 & 1 & 1 & 1 & 3 & 1 & 1 & 1 & 1 & 3 & 1 & 1 & 1\\\\0 & 0 & 0 & 0 & 0 & 0 & 3 & 1 & 1 & 1 & 1 & 3 & 1 & 1 & 1 & 1 & 3 & 1 & 1\\\\0 & 0 & 0 & 0 & 0 & 0 & 0 & 3 & 1 & 1 & 1 & 1 & 3 & 1 & 1 & 1 & 1 & 3 & 1\\\\0 & 0 & 0 & 0 & 0 & 0 & 0 & 0 & 3 & 1 & 1 & 1 & 1 & 3 & 1 & 1 & 1 & 1 & 3\\\\0 & 0 & 0 & 0 & 0 & 0 & 0 & 0 & 0 & 3 & 1 & 1 & 1 & 1 & 3 & 1 & 1 & 1 & 1\\\\0 & 0 & 0 & 0 & 0 & 0 & 0 & 0 & 0 & 0 & 3 & 1 & 1 & 1 & 1 & 3 & 1 & 1 & 1\\\\0 & 0 & 0 & 0 & 0 & 0 & 0 & 0 & 0 & 0 & 0 & 3 & 1 & 1 & 1 & 1 & 3 & 1 & 1\\\\0 & 0 & 0 & 0 & 0 & 0 & 0 & 0 & 0 & 0 & 0 & 0 & 3 & 1 & 1 & 1 & 1 & 3 & 1\\\\0 & 0 & 0 & 0 & 0 & 0 & 0 & 0 & 0 & 0 & 0 & 0 & 0 & 3 & 1 & 1 & 1 & 1 & 3\\\\0 & 0 & 0 & 0 & 0 & 0 & 0 & 0 & 0 & 0 & 0 & 0 & 0 & 0 & 3 & 1 & 1 & 1 & 1\\\\0 & 0 & 0 & 0 & 0 & 0 & 0 & 0 & 0 & 0 & 0 & 0 & 0 & 0 & 0 & 3 & 1 & 1 & 1\\\\0 & 0 & 0 & 0 & 0 & 0 & 0 & 0 & 0 & 0 & 0 & 0 & 0 & 0 & 0 & 0 & 3 & 1 & 1\\\\0 & 0 & 0 & 0 & 0 & 0 & 0 & 0 & 0 & 0 & 0 & 0 & 0 & 0 & 0 & 0 & 0 & 3 & 1\\\\0 & 0 & 0 & 0 & 0 & 0 & 0 & 0 & 0 & 0 & 0 & 0 & 0 & 0 & 0 & 0 & 0 & 0 & 3\\end{array}\\right]$"
      ],
      "text/plain": [
       "⎡0  3  1  1  1  1  3  1  1  1  1  3  1  1  1  1  3  1  1⎤\n",
       "⎢                                                       ⎥\n",
       "⎢0  0  3  1  1  1  1  3  1  1  1  1  3  1  1  1  1  3  1⎥\n",
       "⎢                                                       ⎥\n",
       "⎢0  0  0  3  1  1  1  1  3  1  1  1  1  3  1  1  1  1  3⎥\n",
       "⎢                                                       ⎥\n",
       "⎢0  0  0  0  3  1  1  1  1  3  1  1  1  1  3  1  1  1  1⎥\n",
       "⎢                                                       ⎥\n",
       "⎢0  0  0  0  0  3  1  1  1  1  3  1  1  1  1  3  1  1  1⎥\n",
       "⎢                                                       ⎥\n",
       "⎢0  0  0  0  0  0  3  1  1  1  1  3  1  1  1  1  3  1  1⎥\n",
       "⎢                                                       ⎥\n",
       "⎢0  0  0  0  0  0  0  3  1  1  1  1  3  1  1  1  1  3  1⎥\n",
       "⎢                                                       ⎥\n",
       "⎢0  0  0  0  0  0  0  0  3  1  1  1  1  3  1  1  1  1  3⎥\n",
       "⎢                                                       ⎥\n",
       "⎢0  0  0  0  0  0  0  0  0  3  1  1  1  1  3  1  1  1  1⎥\n",
       "⎢                                                       ⎥\n",
       "⎢0  0  0  0  0  0  0  0  0  0  3  1  1  1  1  3  1  1  1⎥\n",
       "⎢                                                       ⎥\n",
       "⎢0  0  0  0  0  0  0  0  0  0  0  3  1  1  1  1  3  1  1⎥\n",
       "⎢                                                       ⎥\n",
       "⎢0  0  0  0  0  0  0  0  0  0  0  0  3  1  1  1  1  3  1⎥\n",
       "⎢                                                       ⎥\n",
       "⎢0  0  0  0  0  0  0  0  0  0  0  0  0  3  1  1  1  1  3⎥\n",
       "⎢                                                       ⎥\n",
       "⎢0  0  0  0  0  0  0  0  0  0  0  0  0  0  3  1  1  1  1⎥\n",
       "⎢                                                       ⎥\n",
       "⎢0  0  0  0  0  0  0  0  0  0  0  0  0  0  0  3  1  1  1⎥\n",
       "⎢                                                       ⎥\n",
       "⎢0  0  0  0  0  0  0  0  0  0  0  0  0  0  0  0  3  1  1⎥\n",
       "⎢                                                       ⎥\n",
       "⎢0  0  0  0  0  0  0  0  0  0  0  0  0  0  0  0  0  3  1⎥\n",
       "⎢                                                       ⎥\n",
       "⎣0  0  0  0  0  0  0  0  0  0  0  0  0  0  0  0  0  0  3⎦"
      ]
     },
     "metadata": {},
     "output_type": "display_data"
    }
   ],
   "source": [
    "N=20\n",
    "k = 2\n",
    "mat = []\n",
    "for r in range(k,N):\n",
    "    seq = []\n",
    "    for t in range(1,N):\n",
    "        flag = True\n",
    "        try:\n",
    "            sqr = Square([t,t,t-r,k])\n",
    "        except: \n",
    "            flag = False\n",
    "        #---\n",
    "        if flag:\n",
    "            num = cc(sqr)\n",
    "        else: num = 0\n",
    "        seq += [num]\n",
    "    mat += [seq]\n",
    "#     print(\"{},r={}\".format(seq,r))\n",
    "display(sympy.Matrix(mat))"
   ]
  },
  {
   "cell_type": "code",
   "execution_count": 19,
   "metadata": {
    "ExecuteTime": {
     "end_time": "2021-05-27T09:22:52.444719Z",
     "start_time": "2021-05-27T09:22:40.704630Z"
    },
    "tags": []
   },
   "outputs": [
    {
     "data": {
      "application/vnd.jupyter.widget-view+json": {
       "model_id": "2525ab3ef9cb49a1951c391df85e3834",
       "version_major": 2,
       "version_minor": 0
      },
      "text/plain": [
       "  0%|          | 0/500 [00:00<?, ?it/s]"
      ]
     },
     "metadata": {},
     "output_type": "display_data"
    }
   ],
   "source": [
    "N=500\n",
    "M=50\n",
    "for i in tqdm(range(N)):\n",
    "    r = np.random.randint(1,M)\n",
    "    b = np.random.randint(1,M)\n",
    "    t = (b+r) + np.random.randint(1,M)\n",
    "    try:\n",
    "        sqrs = [Square([t,t,b,r]), Square([t+1,t+1,b,r])]\n",
    "    except: pass\n",
    "    nums = [cc(sqr) for sqr in sqrs]\n",
    "    if nums[0] != nums[1]:\n",
    "#        print(f\"{nums},(b,r,t)=({b},{r},{t})\")\n",
    "        print(f\"{nums},(t,b+r)=({t},{b+r})\")"
   ]
  },
  {
   "cell_type": "code",
   "execution_count": null,
   "metadata": {
    "ExecuteTime": {
     "end_time": "2021-05-27T09:25:25.868138Z",
     "start_time": "2021-05-27T09:25:22.039549Z"
    }
   },
   "outputs": [],
   "source": [
    "N=500\n",
    "M=50\n",
    "for i in tqdm(range(N)):\n",
    "    t = np.random.randint(3,M)\n",
    "    b = np.random.randint(1,t-1)\n",
    "    r = np.random.randint(1,t-b)\n",
    "    try:\n",
    "        sqrs = [Square([t,t,b,r]), Square([t+1,t+1,b,r])]\n",
    "    except: pass\n",
    "    nums = [cc(sqr) for sqr in sqrs]\n",
    "    if nums[0] != nums[1]:\n",
    "#        print(f\"{nums},(b,r,t)=({b},{r},{t})\")\n",
    "        print(f\"{nums},(t,b+r)=({t},{b+r})\")"
   ]
  },
  {
   "cell_type": "markdown",
   "metadata": {},
   "source": [
    "### Increase numbers of 4-tuple"
   ]
  },
  {
   "cell_type": "markdown",
   "metadata": {
    "heading_collapsed": true
   },
   "source": [
    "#### Increase $T$ and $L$"
   ]
  },
  {
   "cell_type": "code",
   "execution_count": 20,
   "metadata": {
    "ExecuteTime": {
     "end_time": "2021-05-26T06:28:50.031531Z",
     "start_time": "2021-05-26T06:28:49.087217Z"
    },
    "hidden": true
   },
   "outputs": [
    {
     "name": "stdout",
     "output_type": "stream",
     "text": [
      "(2, 7, 4, 4)\n",
      "[1, 1, 1, 1, 0, 0, 0, 0, 0, 0, 0, 0, 0, 0, 0, 0, 0, 0, 0, 0]\n",
      "[2, 1, 2, 1, 1, 0, 0, 0, 0, 0, 0, 0, 0, 0, 0, 0, 0, 0, 0, 0]\n",
      "[1, 1, 3, 3, 4, 9, 0, 0, 0, 0, 0, 0, 0, 0, 0, 0, 0, 0, 0, 0]\n",
      "[1, 1, 2, 1, 1, 5, 1, 0, 0, 0, 0, 0, 0, 0, 0, 0, 0, 0, 0, 0]\n",
      "[1, 1, 1, 1, 2, 5, 2, 1, 0, 0, 0, 0, 0, 0, 0, 0, 0, 0, 0, 0]\n",
      "[1, 1, 1, 1, 1, 3, 1, 1, 1, 0, 0, 0, 0, 0, 0, 0, 0, 0, 0, 0]\n",
      "[1, 1, 2, 3, 4, 5, 4, 3, 2, 1, 0, 0, 0, 0, 0, 0, 0, 0, 0, 0]\n",
      "[2, 1, 1, 1, 1, 1, 1, 1, 2, 1, 1, 0, 0, 0, 0, 0, 0, 0, 0, 0]\n",
      "[1, 1, 1, 1, 1, 1, 1, 1, 1, 1, 1, 1, 0, 0, 0, 0, 0, 0, 0, 0]\n",
      "[1, 1, 1, 1, 1, 2, 1, 1, 2, 1, 2, 2, 1, 0, 0, 0, 0, 0, 0, 0]\n",
      "[2, 1, 1, 2, 1, 1, 1, 1, 1, 1, 1, 1, 1, 1, 0, 0, 0, 0, 0, 0]\n",
      "[3, 1, 1, 1, 1, 1, 1, 1, 3, 1, 1, 1, 1, 1, 1, 0, 0, 0, 0, 0]\n",
      "[2, 1, 1, 1, 3, 1, 1, 1, 2, 1, 1, 2, 1, 2, 1, 1, 0, 0, 0, 0]\n",
      "[1, 1, 1, 2, 1, 1, 2, 1, 1, 1, 1, 4, 1, 3, 1, 1, 1, 0, 0, 0]\n",
      "[0, 1, 2, 1, 1, 4, 1, 1, 1, 1, 1, 1, 1, 1, 1, 2, 1, 1, 0, 0]\n",
      "[0, 0, 1, 1, 1, 1, 1, 1, 1, 1, 1, 2, 1, 1, 5, 2, 3, 1, 1, 0]\n",
      "[0, 0, 0, 1, 1, 1, 5, 1, 1, 2, 1, 1, 1, 3, 1, 1, 3, 1, 1, 1]\n",
      "[0, 0, 0, 0, 1, 2, 1, 1, 1, 3, 1, 1, 1, 1, 1, 1, 1, 4, 5, 4]\n",
      "[0, 0, 0, 0, 0, 1, 1, 4, 1, 1, 1, 1, 1, 1, 2, 1, 1, 2, 1, 1]\n",
      "[0, 0, 0, 0, 0, 0, 2, 2, 3, 2, 1, 1, 2, 1, 1, 1, 1, 1, 1, 1]\n",
      "\n",
      "\n",
      "[1, 1, 3, 1, 2, 3, 4, 1, 1, 1, 1, 1, 1, 3, 1, 2, 3, 4, 1, 1]\n",
      "[2, 1, 2, 1, 1, 5, 1, 1, 2, 1, 1, 2, 1, 1, 5, 1, 1, 2, 1]\n",
      "[1, 1, 1, 1, 4, 1, 1, 1, 1, 1, 1, 4, 1, 1, 1, 1, 1, 1]\n",
      "[1, 1, 1, 3, 1, 1, 1, 1, 3, 1, 1, 1, 1, 3, 1, 1, 1]\n",
      "[1, 1, 2, 1, 1, 2, 1, 1, 2, 1, 1, 2, 1, 1, 2, 1]\n",
      "[1, 1, 1, 1, 1, 1, 1, 1, 1, 1, 1, 1, 1, 1, 1]\n",
      "[1, 1, 1, 1, 1, 1, 1, 1, 1, 1, 1, 1, 1, 1]\n",
      "[2, 1, 1, 2, 1, 1, 2, 1, 1, 2, 1, 1, 2]\n",
      "[1, 1, 1, 1, 3, 1, 1, 1, 1, 3, 1, 1]\n",
      "[1, 1, 1, 1, 1, 4, 1, 1, 1, 1, 1]\n",
      "[2, 1, 1, 2, 1, 1, 5, 1, 1, 2]\n",
      "[3, 1, 1, 1, 1, 1, 1, 4, 3]\n",
      "[2, 1, 2, 1, 1, 2, 1, 2]\n",
      "[1, 1, 1, 1, 1, 1, 2]\n",
      "[1, 2, 3, 1, 5, 1, 3, 2, 1, 2, 1, 1, 2, 1, 2, 3, 1, 5, 1]\n",
      "[1, 1, 4, 5, 2, 1, 2, 1, 1, 2, 1, 1, 1, 1, 1, 1, 1, 4]\n",
      "[1, 1, 9, 1, 1, 1, 1, 1, 1, 1, 1, 1, 1, 1, 1, 1, 1]\n"
     ]
    }
   ],
   "source": [
    "sqr_org = square_random_generator(max=8)\n",
    "c = sqr_org.code\n",
    "print(c)\n",
    "\n",
    "mat = []\n",
    "\n",
    "N=20\n",
    "for i in range(N):\n",
    "    seq = []\n",
    "    for j in range(N):\n",
    "        flag = True\n",
    "        try:\n",
    "            sqr = Square([c[0]+i, c[1]+j, c[2], c[3]])\n",
    "        except: \n",
    "            flag = False\n",
    "        #---\n",
    "        if flag:\n",
    "            num = cc(sqr)\n",
    "        else: num = 0\n",
    "        seq += [num]\n",
    "    mat += [seq]\n",
    "    print(\"{}\".format(seq))\n",
    "    \n",
    "print(\"\\n\")\n",
    "for i in range(N):\n",
    "    if mat[i][0] > 0:\n",
    "        seq = [mat[i+k][k] for k in range(N-i)]\n",
    "        print(seq)\n",
    "for j in range(1,N):\n",
    "    if mat[0][j] > 0:\n",
    "        seq = [mat[k][k+j] for k in range(N-j)]\n",
    "        print(seq)"
   ]
  },
  {
   "cell_type": "code",
   "execution_count": null,
   "metadata": {
    "ExecuteTime": {
     "end_time": "2021-05-26T06:30:33.319790Z",
     "start_time": "2021-05-26T06:30:13.328259Z"
    },
    "hidden": true
   },
   "outputs": [],
   "source": [
    "i,j = 0,5\n",
    "N=200\n",
    "seq = []\n",
    "errors = 0\n",
    "for k in tqdm(range(N)):\n",
    "    r = np.random.randint(N)\n",
    "    r -= min(c[:2])\n",
    "    flag = True\n",
    "    try:\n",
    "        sqr = Square([c[0]+i+r, c[1]+j+r, c[2], c[3]])\n",
    "    except:\n",
    "        errors += 1\n",
    "        flag = False\n",
    "    #---\n",
    "    if flag:\n",
    "        num = cc(sqr)\n",
    "        if num != 1:\n",
    "            print(\"{},{}\".format(sqr.code,num))\n",
    "print(\"err:\", errors)"
   ]
  },
  {
   "cell_type": "markdown",
   "metadata": {},
   "source": [
    "#### Increase all digits"
   ]
  },
  {
   "cell_type": "code",
   "execution_count": 22,
   "metadata": {
    "ExecuteTime": {
     "end_time": "2021-05-27T06:41:25.390905Z",
     "start_time": "2021-05-27T06:41:20.256417Z"
    }
   },
   "outputs": [
    {
     "name": "stdout",
     "output_type": "stream",
     "text": [
      "(9, 3, 1, 9)\n",
      "[1, 1, 1, 1, 3, 1, 1, 1, 1, 3, 1, 1, 1, 1, 3, 1, 1, 1, 1, 3]\n",
      "[1, 1, 1, 1, 3, 1, 1, 1, 1, 3, 1, 1, 1, 1, 3, 1, 1, 1, 1, 3]\n",
      "[1, 1, 1, 1, 3, 1, 1, 1, 1, 3, 1, 1, 1, 1, 3, 1, 1, 1, 1, 3]\n",
      "[1, 1, 1, 1, 3, 1, 1, 1, 1, 3, 1, 1, 1, 1, 3, 1, 1, 1, 1, 3]\n",
      "[1, 1, 1, 1, 3, 1, 1, 1, 1, 3, 1, 1, 1, 1, 3, 1, 1, 1, 1, 3]\n",
      "[1, 1, 1, 1, 3, 1, 1, 1, 1, 3, 1, 1, 1, 1, 3, 1, 1, 1, 1, 3]\n",
      "[1, 1, 1, 1, 3, 1, 1, 1, 1, 3, 1, 1, 1, 1, 3, 1, 1, 1, 1, 3]\n",
      "[1, 1, 1, 1, 3, 1, 1, 1, 1, 3, 1, 1, 1, 1, 3, 1, 1, 1, 1, 3]\n",
      "[1, 1, 1, 1, 3, 1, 1, 1, 1, 3, 1, 1, 1, 1, 3, 1, 1, 1, 1, 3]\n",
      "[1, 1, 1, 1, 3, 1, 1, 1, 1, 3, 1, 1, 1, 1, 3, 1, 1, 1, 1, 3]\n",
      "[1, 1, 1, 1, 3, 1, 1, 1, 1, 3, 1, 1, 1, 1, 3, 1, 1, 1, 1, 3]\n",
      "[1, 1, 1, 1, 3, 1, 1, 1, 1, 3, 1, 1, 1, 1, 3, 1, 1, 1, 1, 3]\n",
      "[1, 1, 1, 1, 3, 1, 1, 1, 1, 3, 1, 1, 1, 1, 3, 1, 1, 1, 1, 3]\n",
      "[1, 1, 1, 1, 3, 1, 1, 1, 1, 3, 1, 1, 1, 1, 3, 1, 1, 1, 1, 3]\n",
      "[1, 1, 1, 1, 3, 1, 1, 1, 1, 3, 1, 1, 1, 1, 3, 1, 1, 1, 1, 3]\n",
      "[1, 1, 1, 1, 3, 1, 1, 1, 1, 3, 1, 1, 1, 1, 3, 1, 1, 1, 1, 3]\n",
      "[1, 1, 1, 1, 3, 1, 1, 1, 1, 3, 1, 1, 1, 1, 3, 1, 1, 1, 1, 3]\n",
      "[1, 1, 1, 1, 3, 1, 1, 1, 1, 3, 1, 1, 1, 1, 3, 1, 1, 1, 1, 3]\n",
      "[1, 1, 1, 1, 3, 1, 1, 1, 1, 3, 1, 1, 1, 1, 3, 1, 1, 1, 1, 3]\n",
      "[1, 1, 1, 1, 3, 1, 1, 1, 1, 3, 1, 1, 1, 1, 3, 1, 1, 1, 1, 3]\n",
      "\n",
      "\n",
      "[1, 1, 1, 1, 3, 1, 1, 1, 1, 3, 1, 1, 1, 1, 3, 1, 1, 1, 1, 3]\n",
      "[1, 1, 1, 1, 3, 1, 1, 1, 1, 3, 1, 1, 1, 1, 3, 1, 1, 1, 1]\n",
      "[1, 1, 1, 1, 3, 1, 1, 1, 1, 3, 1, 1, 1, 1, 3, 1, 1, 1]\n",
      "[1, 1, 1, 1, 3, 1, 1, 1, 1, 3, 1, 1, 1, 1, 3, 1, 1]\n",
      "[1, 1, 1, 1, 3, 1, 1, 1, 1, 3, 1, 1, 1, 1, 3, 1]\n",
      "[1, 1, 1, 1, 3, 1, 1, 1, 1, 3, 1, 1, 1, 1, 3]\n",
      "[1, 1, 1, 1, 3, 1, 1, 1, 1, 3, 1, 1, 1, 1]\n",
      "[1, 1, 1, 1, 3, 1, 1, 1, 1, 3, 1, 1, 1]\n",
      "[1, 1, 1, 1, 3, 1, 1, 1, 1, 3, 1, 1]\n",
      "[1, 1, 1, 1, 3, 1, 1, 1, 1, 3, 1]\n",
      "[1, 1, 1, 1, 3, 1, 1, 1, 1, 3]\n",
      "[1, 1, 1, 1, 3, 1, 1, 1, 1]\n",
      "[1, 1, 1, 1, 3, 1, 1, 1]\n",
      "[1, 1, 1, 1, 3, 1, 1]\n",
      "[1, 1, 1, 1, 3, 1]\n",
      "[1, 1, 1, 1, 3]\n",
      "[1, 1, 1, 1]\n",
      "[1, 1, 1]\n",
      "[1, 1]\n",
      "[1]\n",
      "[1, 1, 1, 3, 1, 1, 1, 1, 3, 1, 1, 1, 1, 3, 1, 1, 1, 1, 3]\n",
      "[1, 1, 3, 1, 1, 1, 1, 3, 1, 1, 1, 1, 3, 1, 1, 1, 1, 3]\n",
      "[1, 3, 1, 1, 1, 1, 3, 1, 1, 1, 1, 3, 1, 1, 1, 1, 3]\n",
      "[3, 1, 1, 1, 1, 3, 1, 1, 1, 1, 3, 1, 1, 1, 1, 3]\n",
      "[1, 1, 1, 1, 3, 1, 1, 1, 1, 3, 1, 1, 1, 1, 3]\n",
      "[1, 1, 1, 3, 1, 1, 1, 1, 3, 1, 1, 1, 1, 3]\n",
      "[1, 1, 3, 1, 1, 1, 1, 3, 1, 1, 1, 1, 3]\n",
      "[1, 3, 1, 1, 1, 1, 3, 1, 1, 1, 1, 3]\n",
      "[3, 1, 1, 1, 1, 3, 1, 1, 1, 1, 3]\n",
      "[1, 1, 1, 1, 3, 1, 1, 1, 1, 3]\n",
      "[1, 1, 1, 3, 1, 1, 1, 1, 3]\n",
      "[1, 1, 3, 1, 1, 1, 1, 3]\n",
      "[1, 3, 1, 1, 1, 1, 3]\n",
      "[3, 1, 1, 1, 1, 3]\n",
      "[1, 1, 1, 1, 3]\n",
      "[1, 1, 1, 3]\n",
      "[1, 1, 3]\n",
      "[1, 3]\n",
      "[3]\n"
     ]
    }
   ],
   "source": [
    "sqr_org = square_random_generator(max=12)\n",
    "c = sqr_org.code\n",
    "print(c)\n",
    "\n",
    "mat = []\n",
    "\n",
    "N=20\n",
    "for i in range(N):\n",
    "    seq = []\n",
    "    for j in range(N):\n",
    "        flag = True\n",
    "        try:\n",
    "            sqr = Square([c[0]+i, c[1]+j, c[2]+j, c[3]+i])\n",
    "        except: \n",
    "            flag = False\n",
    "        #---\n",
    "        if flag:\n",
    "            num = cc(sqr)\n",
    "        else: num = 0\n",
    "        seq += [num]\n",
    "    mat += [seq]\n",
    "    print(\"{}\".format(seq))\n",
    "    \n",
    "print(\"\\n\")\n",
    "for i in range(N):\n",
    "    if mat[i][0] > 0:\n",
    "        seq = [mat[i+k][k] for k in range(N-i)]\n",
    "        print(seq)\n",
    "for j in range(1,N):\n",
    "    if mat[0][j] > 0:\n",
    "        seq = [mat[k][k+j] for k in range(N-j)]\n",
    "        print(seq)"
   ]
  },
  {
   "cell_type": "code",
   "execution_count": 23,
   "metadata": {
    "ExecuteTime": {
     "end_time": "2021-05-27T06:39:07.336427Z",
     "start_time": "2021-05-27T06:39:07.252993Z"
    }
   },
   "outputs": [
    {
     "data": {
      "application/vnd.jupyter.widget-view+json": {
       "model_id": "9fd0af7edb05415d8683471a9d8924d4",
       "version_major": 2,
       "version_minor": 0
      },
      "text/plain": [
       "  0%|          | 0/200 [00:00<?, ?it/s]"
      ]
     },
     "metadata": {},
     "output_type": "display_data"
    },
    {
     "name": "stdout",
     "output_type": "stream",
     "text": [
      "(99, 3, 87, 9),2\n",
      "(74, 3, 62, 9),2\n",
      "(134, 3, 122, 9),2\n",
      "(173, 3, 161, 9),2\n",
      "(71, 3, 59, 9),2\n",
      "(207, 3, 195, 9),2\n",
      "(130, 3, 118, 9),2\n",
      "(95, 3, 83, 9),2\n",
      "(134, 3, 122, 9),2\n",
      "(18, 3, 6, 9),2\n",
      "(18, 3, 6, 9),2\n",
      "(123, 3, 111, 9),2\n",
      "(172, 3, 160, 9),2\n",
      "(40, 3, 28, 9),2\n",
      "(57, 3, 45, 9),2\n",
      "(131, 3, 119, 9),2\n",
      "(169, 3, 157, 9),2\n",
      "(74, 3, 62, 9),2\n",
      "(144, 3, 132, 9),2\n",
      "(190, 3, 178, 9),2\n",
      "(22, 3, 10, 9),2\n",
      "(134, 3, 122, 9),2\n",
      "(123, 3, 111, 9),2\n",
      "(106, 3, 94, 9),2\n",
      "(134, 3, 122, 9),2\n",
      "(116, 3, 104, 9),2\n",
      "(187, 3, 175, 9),2\n",
      "(26, 3, 14, 9),2\n",
      "(137, 3, 125, 9),2\n",
      "(116, 3, 104, 9),2\n",
      "(75, 3, 63, 9),2\n",
      "(53, 3, 41, 9),2\n",
      "(102, 3, 90, 9),2\n",
      "(166, 3, 154, 9),2\n",
      "(29, 3, 17, 9),2\n",
      "(204, 3, 192, 9),2\n",
      "(138, 3, 126, 9),2\n",
      "(207, 3, 195, 9),2\n",
      "(197, 3, 185, 9),2\n",
      "(33, 3, 21, 9),2\n",
      "(131, 3, 119, 9),2\n",
      "(145, 3, 133, 9),2\n",
      "(95, 3, 83, 9),2\n",
      "(71, 3, 59, 9),2\n",
      "(71, 3, 59, 9),2\n",
      "(110, 3, 98, 9),2\n",
      "(67, 3, 55, 9),2\n",
      "(165, 3, 153, 9),2\n",
      "(99, 3, 87, 9),2\n",
      "(64, 3, 52, 9),2\n",
      "(117, 3, 105, 9),2\n",
      "(152, 3, 140, 9),2\n",
      "(131, 3, 119, 9),2\n",
      "(29, 3, 17, 9),2\n",
      "(26, 3, 14, 9),2\n",
      "(120, 3, 108, 9),2\n",
      "(29, 3, 17, 9),2\n",
      "(152, 3, 140, 9),2\n",
      "(110, 3, 98, 9),2\n",
      "(117, 3, 105, 9),2\n",
      "(75, 3, 63, 9),2\n",
      "(180, 3, 168, 9),2\n",
      "(50, 3, 38, 9),2\n",
      "(96, 3, 84, 9),2\n",
      "(138, 3, 126, 9),2\n",
      "(82, 3, 70, 9),2\n",
      "(95, 3, 83, 9),2\n",
      "(25, 3, 13, 9),2\n",
      "(193, 3, 181, 9),2\n",
      "(74, 3, 62, 9),2\n",
      "(53, 3, 41, 9),2\n",
      "(57, 3, 45, 9),2\n",
      "(158, 3, 146, 9),2\n",
      "(190, 3, 178, 9),2\n",
      "(187, 3, 175, 9),2\n",
      "(127, 3, 115, 9),2\n",
      "(89, 3, 77, 9),2\n",
      "(130, 3, 118, 9),2\n",
      "(186, 3, 174, 9),2\n",
      "(106, 3, 94, 9),2\n",
      "(106, 3, 94, 9),2\n",
      "(32, 3, 20, 9),2\n",
      "(158, 3, 146, 9),2\n",
      "(190, 3, 178, 9),2\n",
      "err: 4\n"
     ]
    }
   ],
   "source": [
    "i,j = 4,0\n",
    "N=200\n",
    "seq = []\n",
    "errors = 0\n",
    "for k in tqdm(range(N)):\n",
    "    r = np.random.randint(N)\n",
    "    r -= min(c[:2])\n",
    "    flag = True\n",
    "    try:\n",
    "        sqr = Square([c[0]+i+r, c[1], c[2]+j+r, c[3]])\n",
    "    except:\n",
    "        errors += 1\n",
    "        flag = False\n",
    "    #---\n",
    "    if flag:\n",
    "        num = cc(sqr)\n",
    "        if num != 1:\n",
    "            print(\"{},{}\".format(sqr.code,num))\n",
    "print(\"err:\", errors)"
   ]
  },
  {
   "cell_type": "markdown",
   "metadata": {
    "tags": []
   },
   "source": [
    "## Sequences of Number of Components"
   ]
  },
  {
   "cell_type": "markdown",
   "metadata": {},
   "source": [
    "__Note:__ \n",
    "* quasi-cord を与える 4-tuple を Code と呼ぶ。Code には以下のルールがある。\n",
    "$$\n",
    "|T-L|-e <= B+R <= T+L,\n",
    "$$\n",
    "ここで、$e$ は $T=0$ のときは $0$ で、それ以外では $1$.\n",
    "\n",
    "__TODO:__ 本当に上記の条件で完全か、検証が必要。"
   ]
  },
  {
   "cell_type": "markdown",
   "metadata": {
    "heading_collapsed": true
   },
   "source": [
    "### $0$ が3つ、および2つの場合の考察:"
   ]
  },
  {
   "cell_type": "markdown",
   "metadata": {
    "hidden": true
   },
   "source": [
    "* 0 が3つなら trivial cord.\n",
    "```\n",
    "proof) T=L=B=0 の場合、Code rule より R <= 0  i.e., R=0. 他も同様。\n",
    "```\n",
    "* 2つが $0$ のとき、\n",
    "    * $T=L=0$ なら trivial cord.\n",
    "    ```\n",
    "    proof) Code rule より B+R <= 0  => B=R=0.\n",
    "    ```        \n",
    "    * その他では、$0$ でない2つの値は同じ。\n",
    "    ```\n",
    "    proof) case 1: T=0, B=0  --> L-1 <= R <=L  => L=R,\n",
    "    case 2: T=0, R=0  --> L < B =< L  => L=B,\n",
    "    case 3: L=0, B=0  --> T < R =< T  => T=R,\n",
    "    case 4: L=0, R=0  --> T < B =< T  => T=B,\n",
    "    case 5: B=0, R=0  --> |T-L| < 0 0, T =< L, L =< T  => T=L. \n",
    "    ```"
   ]
  },
  {
   "cell_type": "markdown",
   "metadata": {
    "hidden": true
   },
   "source": [
    "__予想 3:__ $T,L,B,R$ のうちの 2つが $0$ の Code から得られる quasi-cord は cord.\n",
    "\n",
    "--> (0,k,0,k) のとき以外は正しそう。(0,k,0,k) のときは、逆に全く cord にならないようだ。\n",
    "\n",
    "    --> (0,k,0,k) のときは、segments が全て上辺・下辺に平行となる。よって、$k$ 個のループと1つのアーク($L$ と $R$ を直接つなぐ)となる。\n",
    "    --> そういえば、この場合は3点穴付き円盤上の quasi-cord であり、全て cord であることが示されているんだった。"
   ]
  },
  {
   "cell_type": "code",
   "execution_count": 26,
   "metadata": {
    "ExecuteTime": {
     "end_time": "2021-05-26T03:16:54.600635Z",
     "start_time": "2021-05-26T03:16:44.501387Z"
    },
    "hidden": true
   },
   "outputs": [
    {
     "name": "stdout",
     "output_type": "stream",
     "text": [
      "[1, 1, 1, 1, 1, 1, 1, 1, 1, 1, 1, 1, 1, 1, 1, 1, 1, 1, 1, 1, 1, 1, 1, 1, 1, 1, 1, 1, 1, 1, 1, 1, 1, 1, 1, 1, 1, 1, 1, 1, 1, 1, 1, 1, 1, 1, 1, 1, 1]\n"
     ]
    }
   ],
   "source": [
    "seq = []\n",
    "N=50\n",
    "for k in range(1,N):\n",
    "    sqr = Square([k,k,0,0])\n",
    "#     display(sqr.permutation())\n",
    "    seq += [cc(sqr)]\n",
    "#     M = sqr.grid_diagram()\n",
    "#     D = get_diagram(M)\n",
    "#     display(D)\n",
    "print(seq)"
   ]
  },
  {
   "cell_type": "code",
   "execution_count": 28,
   "metadata": {
    "ExecuteTime": {
     "end_time": "2021-05-25T03:42:01.021350Z",
     "start_time": "2021-05-25T03:41:52.980717Z"
    },
    "hidden": true
   },
   "outputs": [
    {
     "name": "stdout",
     "output_type": "stream",
     "text": [
      "[2, 3, 4, 5, 6, 7, 8, 9, 10, 11, 12, 13, 14, 15, 16, 17, 18, 19, 20, 21, 22, 23, 24, 25, 26, 27, 28, 29, 30, 31, 32, 33, 34, 35, 36, 37, 38, 39, 40, 41, 42, 43, 44, 45, 46, 47, 48, 49, 50]\n"
     ]
    }
   ],
   "source": [
    "seq = []\n",
    "N=50\n",
    "for k in range(1,N):\n",
    "    sqr = Square([0,k,0,k])\n",
    "    seq += [cc(sqr)]\n",
    "print(seq)"
   ]
  },
  {
   "cell_type": "markdown",
   "metadata": {},
   "source": [
    "### 1つだけが $0$ の場合の考察"
   ]
  },
  {
   "cell_type": "markdown",
   "metadata": {},
   "source": [
    "* T=0\n",
    "```\n",
    "1) L >= B+R\n",
    "2) 0 <= L+B+R\n",
    "3) L <= B+R\n",
    "```\n",
    "=> L = B+R.\n",
    "* L=0\n",
    "```\n",
    "1) T >= B+R\n",
    "2) 0 <= L+B+R\n",
    "3) T <= B+R\n",
    "```\n",
    "=> T = B+R.\n",
    "* R=0\n",
    "```\n",
    "1) T+L >= B\n",
    "2) T <= L+B\n",
    "3) L <= T+B\n",
    "```\n",
    "=> ???"
   ]
  },
  {
   "cell_type": "markdown",
   "metadata": {},
   "source": [
    "__予想 4:__ R=0 の場合、\n",
    "* (l,k,k,0) は常に cord.\n",
    "* (k,k+i,k,0) の成分数は $i+1$."
   ]
  },
  {
   "cell_type": "code",
   "execution_count": 29,
   "metadata": {
    "ExecuteTime": {
     "end_time": "2021-05-26T06:58:09.826030Z",
     "start_time": "2021-05-26T06:56:39.041104Z"
    },
    "collapsed": true,
    "jupyter": {
     "outputs_hidden": true
    },
    "tags": []
   },
   "outputs": [
    {
     "name": "stdout",
     "output_type": "stream",
     "text": [
      "[k,1,0,k-1] |-> [2, 2, 2, 2, 2, 2, 2, 2, 2, 2, 2, 2, 2, 2, 2, 2, 2, 2, 2, 2, 2, 2, 2, 2, 2, 2, 2, 2, 2]\n",
      "[k,2,0,k-2] |-> [2, 3, 2, 2, 3, 2, 2, 3, 2, 2, 3, 2, 2, 3, 2, 2, 3, 2, 2, 3, 2, 2, 3, 2, 2, 3, 2, 2, 3]\n",
      "[k,3,0,k-3] |-> [2, 2, 4, 2, 2, 2, 2, 4, 2, 2, 2, 2, 4, 2, 2, 2, 2, 4, 2, 2, 2, 2, 4, 2, 2, 2, 2, 4, 2]\n",
      "[k,4,0,k-4] |-> [2, 2, 2, 5, 2, 2, 2, 2, 2, 2, 5, 2, 2, 2, 2, 2, 2, 5, 2, 2, 2, 2, 2, 2, 5, 2, 2, 2, 2]\n",
      "[k,5,0,k-5] |-> [2, 3, 2, 2, 6, 2, 2, 3, 2, 2, 3, 2, 2, 6, 2, 2, 3, 2, 2, 3, 2, 2, 6, 2, 2, 3, 2, 2, 3]\n",
      "[k,6,0,k-6] |-> [2, 2, 2, 2, 2, 7, 2, 2, 2, 2, 2, 2, 2, 2, 2, 2, 7, 2, 2, 2, 2, 2, 2, 2, 2, 2, 2, 7, 2]\n",
      "[k,7,0,k-7] |-> [2, 2, 2, 2, 2, 2, 8, 2, 2, 2, 2, 2, 2, 2, 2, 2, 2, 2, 2, 8, 2, 2, 2, 2, 2, 2, 2, 2, 2]\n",
      "[k,8,0,k-8] |-> [2, 3, 4, 2, 3, 2, 2, 9, 2, 2, 3, 2, 4, 3, 2, 2, 3, 4, 2, 3, 2, 2, 9, 2, 2, 3, 2, 4, 3]\n",
      "[k,9,0,k-9] |-> [2, 2, 2, 2, 2, 2, 2, 2, 10, 2, 2, 2, 2, 2, 2, 2, 2, 2, 2, 2, 2, 2, 2, 2, 2, 10, 2, 2, 2]\n",
      "[k,10,0,k-10] |-> [2, 2, 2, 2, 2, 2, 2, 2, 2, 11, 2, 2, 2, 2, 2, 2, 2, 2, 2, 2, 2, 2, 2, 2, 2, 2, 2, 2, 11]\n",
      "[k,11,0,k-11] |-> [2, 3, 2, 5, 3, 2, 2, 3, 2, 2, 12, 2, 2, 3, 2, 2, 3, 5, 2, 3, 2, 2, 3, 2, 5, 3, 2, 2, 3]\n",
      "[k,12,0,k-12] |-> [2, 2, 2, 2, 2, 2, 2, 2, 2, 2, 2, 13, 2, 2, 2, 2, 2, 2, 2, 2, 2, 2, 2, 2, 2, 2, 2, 2, 2]\n",
      "[k,13,0,k-13] |-> [2, 2, 4, 2, 2, 2, 2, 4, 2, 2, 2, 2, 14, 2, 2, 2, 2, 4, 2, 2, 2, 2, 4, 2, 2, 2, 2, 4, 2]\n",
      "[k,14,0,k-14] |-> [2, 3, 2, 2, 6, 2, 2, 3, 2, 2, 3, 2, 2, 15, 2, 2, 3, 2, 2, 3, 2, 2, 6, 2, 2, 3, 2, 2, 3]\n",
      "[k,15,0,k-15] |-> [2, 2, 2, 2, 2, 2, 2, 2, 2, 2, 2, 2, 2, 2, 16, 2, 2, 2, 2, 2, 2, 2, 2, 2, 2, 2, 2, 2, 2]\n",
      "[k,16,0,k-16] |-> [2, 2, 2, 2, 2, 2, 2, 2, 2, 2, 2, 2, 2, 2, 2, 17, 2, 2, 2, 2, 2, 2, 2, 2, 2, 2, 2, 2, 2]\n",
      "[k,17,0,k-17] |-> [2, 3, 2, 2, 3, 7, 2, 3, 2, 2, 3, 2, 2, 3, 2, 2, 18, 2, 2, 3, 2, 2, 3, 2, 2, 3, 2, 7, 3]\n",
      "[k,18,0,k-18] |-> [2, 2, 4, 5, 2, 2, 2, 4, 2, 2, 5, 2, 4, 2, 2, 2, 2, 19, 2, 2, 2, 2, 4, 2, 5, 2, 2, 4, 2]\n",
      "[k,19,0,k-19] |-> [2, 2, 2, 2, 2, 2, 2, 2, 2, 2, 2, 2, 2, 2, 2, 2, 2, 2, 20, 2, 2, 2, 2, 2, 2, 2, 2, 2, 2]\n"
     ]
    }
   ],
   "source": [
    "N=30\n",
    "for s in range(1,N-10):\n",
    "    seq = []\n",
    "    for k in range(s+1,N+s):\n",
    "        sqr = Square([k,s,0,k-s]) #Square([k,s,k,0])\n",
    "#         M = sqr.grid_diagram()\n",
    "#         sigma = sqr.permutation()\n",
    "#         D = get_diagram(M)\n",
    "#         sigma.display()\n",
    "#         display(D)\n",
    "        seq += [cc(sqr)]\n",
    "    print(\"[k,{},0,k-{}] |-> {}\".format(s,s,seq))"
   ]
  },
  {
   "cell_type": "code",
   "execution_count": 30,
   "metadata": {
    "ExecuteTime": {
     "end_time": "2021-05-26T07:54:43.780892Z",
     "start_time": "2021-05-26T07:54:38.384192Z"
    },
    "collapsed": true,
    "jupyter": {
     "outputs_hidden": true
    },
    "tags": []
   },
   "outputs": [
    {
     "name": "stdout",
     "output_type": "stream",
     "text": [
      "(14, 68, 0, 54),1,True\n",
      "(2, 61, 0, 63),1,True\n",
      "(1, 39, 0, 40),1,True\n",
      "cords: 3, errors:0\n"
     ]
    }
   ],
   "source": [
    "N=100\n",
    "cord = 0\n",
    "err = 0\n",
    "for i in range(N):\n",
    "    t = np.random.randint(1,N)\n",
    "    l = np.random.randint(2,N)\n",
    "    r = np.random.randint(abs(t-l),t+l+1)\n",
    "    \n",
    "    flag = True\n",
    "    try:\n",
    "        code = [t,l,0,r]\n",
    "        sqr = Square(code)\n",
    "    except:\n",
    "        flag = False\n",
    "        err += 1\n",
    "    if flag:\n",
    "        num = cc(sqr)\n",
    "        if num == 1:\n",
    "            cord += 1\n",
    "            print(\"{},{},{}\".format(sqr.code,num,abs(r-l)==t))\n",
    "        else:\n",
    "            pass #print(\"{},{}\".format(sqr.code,num))\n",
    "print(\"cords: {}, errors:{}\".format(cord,err))"
   ]
  },
  {
   "cell_type": "code",
   "execution_count": 31,
   "metadata": {
    "ExecuteTime": {
     "end_time": "2021-05-26T08:44:59.597243Z",
     "start_time": "2021-05-26T08:44:59.243938Z"
    },
    "collapsed": true,
    "jupyter": {
     "outputs_hidden": true
    },
    "tags": []
   },
   "outputs": [
    {
     "name": "stdout",
     "output_type": "stream",
     "text": [
      "(18, 15, 0, 3),2,y=7,False\n",
      "x=y,(14, 18, 0, 10),7,y=7,False\n",
      "(13, 22, 0, 33),3,y=3,False\n",
      "(20, 8, 0, 14),4,y=15,False\n",
      "x=y,(3, 25, 0, 22),2,y=1,True\n",
      "(21, 29, 0, 47),4,y=4,False\n",
      "x=y,(11, 18, 0, 13),9,y=7,False\n",
      "(29, 16, 0, 26),17,y=20,False\n",
      "x=y,(25, 29, 0, 9),6,y=6,False\n",
      "x=y,(8, 27, 0, 27),28,y=9,False\n",
      "(10, 27, 0, 33),5,y=5,False\n",
      "(24, 14, 0, 34),5,y=5,False\n",
      "(11, 19, 0, 25),6,y=6,False\n",
      "x=y,(12, 15, 0, 11),9,y=9,False\n",
      "(29, 10, 0, 20),3,y=20,False\n",
      "(8, 21, 0, 27),4,y=3,False\n",
      "(24, 16, 0, 36),7,y=5,False\n",
      "(23, 5, 0, 27),2,y=2,False\n",
      "(23, 4, 0, 20),3,y=8,False\n",
      "(15, 27, 0, 40),3,y=3,False\n",
      "(23, 10, 0, 29),5,y=5,False\n",
      "x=y,(21, 24, 0, 5),3,y=3,False\n",
      "(7, 6, 0, 10),4,y=4,False\n",
      "(21, 15, 0, 33),4,y=4,False\n",
      "cords: 24, errors:0\n"
     ]
    }
   ],
   "source": [
    "N=30\n",
    "cord = 0\n",
    "err = 0\n",
    "for i in range(N):\n",
    "    t = np.random.randint(1,N)\n",
    "    l = np.random.randint(2,N)\n",
    "    r = np.random.randint(abs(t-l),t+l+1)\n",
    "    \n",
    "    x = r-abs(t-l)+1\n",
    "    y = t-abs(l-r)+1\n",
    "    \n",
    "    flag = True\n",
    "    try:\n",
    "        code = [t,l,0,r]\n",
    "        sqr = Square(code)\n",
    "    except:\n",
    "        flag = False\n",
    "        err += 1\n",
    "    if flag:\n",
    "#         M = sqr.grid_diagram()\n",
    "#         sigma = sqr.permutation()\n",
    "        num = cc(sqr)\n",
    "        if not num == 1:\n",
    "            cord +=1\n",
    "            if x == y:\n",
    "                print(\"x=y,{},{},y={},{}\".format(sqr.code,num,y,t==abs(l-r)))\n",
    "            else:\n",
    "                print(\"{},{},y={},{}\".format(sqr.code,num,y,t==abs(l-r)))\n",
    "print(\"cords: {}, errors:{}\".format(cord,err))"
   ]
  },
  {
   "cell_type": "markdown",
   "metadata": {},
   "source": [
    "__予想 6:__ $T > 0$ とするとき、$[T,L,0,R]$ が cord $\\Longleftrightarrow$ $T=|L-R|$"
   ]
  },
  {
   "cell_type": "code",
   "execution_count": null,
   "metadata": {
    "ExecuteTime": {
     "end_time": "2021-05-25T03:40:38.642860Z",
     "start_time": "2021-05-25T03:40:26.138Z"
    }
   },
   "outputs": [],
   "source": [
    "N=30\n",
    "for s in range(1,N-10):\n",
    "    seq = []\n",
    "    for k in range(s+1,N+s):\n",
    "        sqr = Square([0,k,s,k-s]) #Square([k,s,k,0])\n",
    "#         M = sqr.grid_diagram()\n",
    "#         sigma = sqr.permutation()\n",
    "#         D = get_diagram(M)\n",
    "#        sigma.display()\n",
    "#        display(D)\n",
    "        seq += [cc(sqr)]\n",
    "    print(\"[0,k,{},k-{}] |-> {}\".format(s,s,seq))"
   ]
  },
  {
   "cell_type": "code",
   "execution_count": null,
   "metadata": {
    "ExecuteTime": {
     "end_time": "2021-05-25T03:40:38.657796Z",
     "start_time": "2021-05-25T03:40:26.143Z"
    }
   },
   "outputs": [],
   "source": [
    "N=30\n",
    "for s in range(1,N-10):\n",
    "    seq = []\n",
    "    for k in range(1,N-10):\n",
    "        sqr = Square([k,s,k+s,0])\n",
    "#         M = sqr.grid_diagram()\n",
    "#         sigma = sqr.permutation()\n",
    "#         D = get_diagram(M)\n",
    "#        sigma.display()\n",
    "#        display(D)\n",
    "        seq += [cc(sqr)]\n",
    "    print(\"[k,{},k+{},0] |-> {}\".format(s,s,seq))"
   ]
  },
  {
   "cell_type": "code",
   "execution_count": 32,
   "metadata": {
    "ExecuteTime": {
     "end_time": "2021-05-26T09:04:00.273866Z",
     "start_time": "2021-05-26T09:04:00.080201Z"
    }
   },
   "outputs": [
    {
     "name": "stdout",
     "output_type": "stream",
     "text": [
      "(19, 13, 1, 12),1,(x,y)=(6,18)\n",
      "(19, 3, 1, 18),1,(x,y)=(2,4)\n",
      "(8, 5, 1, 10),1,(x,y)=(7,3)\n",
      "(5, 3, 1, 6),1,(x,y)=(4,2)\n",
      "(8, 3, 1, 7),1,(x,y)=(2,4)\n",
      "(18, 4, 1, 21),1,(x,y)=(7,1)\n",
      "(12, 14, 1, 19),1,(x,y)=(17,7)\n",
      "(18, 13, 1, 6),1,(x,y)=(1,11)\n",
      "(6, 10, 1, 7),1,(x,y)=(3,3)\n",
      "(8, 8, 1, 5),1,(x,y)=(5,5)\n",
      "(1, 5, 1, 4),1,(x,y)=(0,0)\n",
      "(11, 19, 1, 9),1,(x,y)=(1,1)\n",
      "(11, 2, 1, 11),1,(x,y)=(2,2)\n",
      "cords: 13, errors:3\n"
     ]
    }
   ],
   "source": [
    "N=20\n",
    "cord = 0\n",
    "err = 0\n",
    "for i in range(N):\n",
    "    t = np.random.randint(1,N)\n",
    "    l = np.random.randint(2,N)\n",
    "    r = np.random.randint(abs(t-l),t+l+1)\n",
    "    \n",
    "    x = r-abs(t-l)\n",
    "    y = t-abs(l-r)\n",
    "    \n",
    "    flag = True\n",
    "    try:\n",
    "        code = [t,l,1,r]\n",
    "        sqr = Square(code)\n",
    "    except:\n",
    "        flag = False\n",
    "        err += 1\n",
    "    if flag:\n",
    "#         M = sqr.grid_diagram()\n",
    "#         sigma = sqr.permutation()\n",
    "        num = cc(sqr)\n",
    "        if num == 1:\n",
    "            cord +=1\n",
    "            print(\"{},{},(x,y)=({},{})\".format(sqr.code,num,x,y))\n",
    "print(\"cords: {}, errors:{}\".format(cord,err))"
   ]
  },
  {
   "cell_type": "markdown",
   "metadata": {
    "heading_collapsed": true
   },
   "source": [
    "### $0$ がない場合の考察:"
   ]
  },
  {
   "cell_type": "markdown",
   "metadata": {
    "heading_collapsed": true,
    "hidden": true
   },
   "source": [
    "#### $T$=1 としてみる:"
   ]
  },
  {
   "cell_type": "markdown",
   "metadata": {
    "hidden": true
   },
   "source": [
    "    ```\n",
    "    1) L+1 >= B+R (>2)\n",
    "    2) 1-L <= B+R \n",
    "    3) L-1 <= B+R\n",
    "    ```"
   ]
  },
  {
   "cell_type": "code",
   "execution_count": 34,
   "metadata": {
    "ExecuteTime": {
     "end_time": "2021-05-26T06:54:20.013053Z",
     "start_time": "2021-05-26T06:54:19.754103Z"
    },
    "collapsed": true,
    "hidden": true,
    "jupyter": {
     "outputs_hidden": true
    },
    "tags": []
   },
   "outputs": [
    {
     "name": "stdout",
     "output_type": "stream",
     "text": [
      "[1,1,k,k] |-> [1]\n",
      "[2,2,k,k] |-> [1, 1]\n",
      "[3,3,k,k] |-> [1, 1, 1]\n",
      "[4,4,k,k] |-> [1, 1, 2, 1]\n",
      "[5,5,k,k] |-> [1, 1, 1, 1, 1]\n",
      "[6,6,k,k] |-> [1, 1, 1, 2, 1, 1]\n",
      "[7,7,k,k] |-> [1, 1, 1, 1, 3, 2, 1]\n",
      "[8,8,k,k] |-> [1, 1, 1, 1, 2, 2, 1, 1]\n",
      "[9,9,k,k] |-> [1, 1, 1, 1, 1, 1, 1, 1, 1]\n",
      "[10,10,k,k] |-> [1, 1, 1, 1, 1, 2, 2, 1, 2, 1]\n",
      "[11,11,k,k] |-> [1, 1, 1, 1, 1, 1, 1, 1, 1, 1, 1]\n",
      "[12,12,k,k] |-> [1, 1, 1, 1, 1, 1, 2, 1, 2, 2, 1, 1]\n",
      "[13,13,k,k] |-> [1, 1, 1, 1, 1, 1, 1, 1, 2, 3, 1, 2, 1]\n",
      "[14,14,k,k] |-> [1, 1, 1, 1, 1, 1, 1, 2, 1, 1, 3, 2, 1, 1]\n",
      "[15,15,k,k] |-> [1, 1, 1, 1, 1, 1, 1, 1, 1, 2, 1, 2, 2, 1, 1]\n",
      "[16,16,k,k] |-> [1, 1, 1, 1, 1, 1, 1, 1, 2, 1, 3, 1, 1, 1, 2, 1]\n",
      "[17,17,k,k] |-> [1, 1, 1, 1, 1, 1, 1, 1, 1, 1, 2, 2, 1, 2, 2, 1, 1]\n",
      "[18,18,k,k] |-> [1, 1, 1, 1, 1, 1, 1, 1, 1, 2, 1, 1, 1, 1, 1, 1, 1, 1]\n",
      "[19,19,k,k] |-> [1, 1, 1, 1, 1, 1, 1, 1, 1, 1, 1, 2, 2, 1, 2, 2, 1, 2, 1]\n"
     ]
    }
   ],
   "source": [
    "N=30\n",
    "for s in range(1,N-10):\n",
    "    seq = []\n",
    "    for k in range(1,s+1):\n",
    "        sqr = Square([s,s,k,k])\n",
    "#         M = sqr.grid_diagram()\n",
    "#         sigma = sqr.permutation()\n",
    "#         D = get_diagram(M)\n",
    "#         sigma.display()\n",
    "#         display(D)\n",
    "        seq += [cc(sqr)]\n",
    "    print(\"[{},{},k,k] |-> {}\".format(s,s,seq))"
   ]
  },
  {
   "cell_type": "markdown",
   "metadata": {
    "heading_collapsed": true,
    "hidden": true
   },
   "source": [
    "#### $B=R=1$ としてみる:"
   ]
  },
  {
   "cell_type": "markdown",
   "metadata": {
    "hidden": true
   },
   "source": [
    "```\n",
    "1) T+L >= 2\n",
    "2) T-L <= 2\n",
    "3) L-T <= 2\n",
    "```"
   ]
  },
  {
   "cell_type": "code",
   "execution_count": 36,
   "metadata": {
    "ExecuteTime": {
     "end_time": "2021-05-25T03:40:38.664480Z",
     "start_time": "2021-05-25T03:40:26.156Z"
    },
    "collapsed": true,
    "hidden": true,
    "jupyter": {
     "outputs_hidden": true
    },
    "tags": []
   },
   "outputs": [
    {
     "name": "stdout",
     "output_type": "stream",
     "text": [
      "[1,L,1,1] |-> [1, 1, 3]\n",
      "[2,L,1,1] |-> [1, 2, 1]\n",
      "[3,L,1,1] |-> [1, 1, 1]\n",
      "[4,L,1,1] |-> [1, 1, 1]\n",
      "[5,L,1,1] |-> [1, 2, 1]\n",
      "[6,L,1,1] |-> [1, 1, 3]\n",
      "[7,L,1,1] |-> [1, 1, 1]\n",
      "[8,L,1,1] |-> [1, 2, 1]\n",
      "[9,L,1,1] |-> [1, 1, 1]\n",
      "[10,L,1,1] |-> [1, 1, 1]\n",
      "[11,L,1,1] |-> [1, 2, 3]\n",
      "[12,L,1,1] |-> [1, 1, 1]\n",
      "[13,L,1,1] |-> [1, 1, 1]\n",
      "[14,L,1,1] |-> [1, 2, 1]\n",
      "[15,L,1,1] |-> [1, 1, 1]\n",
      "[16,L,1,1] |-> [1, 1, 3]\n",
      "[17,L,1,1] |-> [1, 2, 1]\n",
      "[18,L,1,1] |-> [1, 1, 1]\n",
      "[19,L,1,1] |-> [1, 1, 1]\n",
      "[20,L,1,1] |-> [1, 2, 1]\n",
      "[21,L,1,1] |-> [1, 1, 3]\n",
      "[22,L,1,1] |-> [1, 1, 1]\n",
      "[23,L,1,1] |-> [1, 2, 1]\n",
      "[24,L,1,1] |-> [1, 1, 1]\n",
      "[25,L,1,1] |-> [1, 1, 1]\n",
      "[26,L,1,1] |-> [1, 2, 3]\n",
      "[27,L,1,1] |-> [1, 1, 1]\n",
      "[28,L,1,1] |-> [1, 1, 1]\n",
      "[29,L,1,1] |-> [1, 2, 1]\n"
     ]
    }
   ],
   "source": [
    "N=30\n",
    "for t in range(1,N):\n",
    "    seq = []\n",
    "    for d in range(3):\n",
    "        l = t+d\n",
    "        sqr = Square([t,l,1,1])\n",
    "#         M = sqr.grid_diagram()\n",
    "#         sigma = sqr.permutation()\n",
    "#         D = get_diagram(M)\n",
    "#         sigma.display()\n",
    "#         display(D)\n",
    "        seq += [cc(sqr)]\n",
    "    print(\"[{},L,1,1] |-> {}\".format(t,seq))"
   ]
  },
  {
   "cell_type": "markdown",
   "metadata": {
    "hidden": true
   },
   "source": [
    "#### $T+L=B+R$ の場合:"
   ]
  },
  {
   "cell_type": "markdown",
   "metadata": {
    "ExecuteTime": {
     "end_time": "2021-05-24T09:16:59.816690Z",
     "start_time": "2021-05-24T09:16:59.807827Z"
    },
    "hidden": true
   },
   "source": [
    "* $L=B$ としてみる:"
   ]
  },
  {
   "cell_type": "code",
   "execution_count": 37,
   "metadata": {
    "ExecuteTime": {
     "end_time": "2021-05-25T06:43:35.387509Z",
     "start_time": "2021-05-25T06:42:47.120127Z"
    },
    "collapsed": true,
    "hidden": true,
    "jupyter": {
     "outputs_hidden": true
    },
    "tags": []
   },
   "outputs": [
    {
     "name": "stdout",
     "output_type": "stream",
     "text": [
      "[T,2-T,T,2-T] |-> [1]\n",
      "[T,3-T,T,3-T] |-> [1, 1]\n",
      "[T,4-T,T,4-T] |-> [1, 1, 1]\n",
      "[T,5-T,T,5-T] |-> [1, 1, 1, 1]\n",
      "[T,6-T,T,6-T] |-> [1, 1, 1, 1, 1]\n",
      "[T,7-T,T,7-T] |-> [1, 1, 1, 1, 1, 1]\n",
      "[T,8-T,T,8-T] |-> [1, 1, 1, 1, 1, 1, 1]\n",
      "[T,9-T,T,9-T] |-> [1, 1, 1, 1, 1, 1, 1, 1]\n",
      "[T,10-T,T,10-T] |-> [1, 1, 1, 1, 1, 1, 1, 1, 1]\n",
      "[T,11-T,T,11-T] |-> [1, 1, 1, 1, 1, 1, 1, 1, 1, 1]\n",
      "[T,12-T,T,12-T] |-> [1, 1, 1, 1, 1, 1, 1, 1, 1, 1, 1]\n",
      "[T,13-T,T,13-T] |-> [1, 1, 1, 1, 1, 1, 1, 1, 1, 1, 1, 1]\n",
      "[T,14-T,T,14-T] |-> [1, 1, 1, 1, 1, 1, 1, 1, 1, 1, 1, 1, 1]\n",
      "[T,15-T,T,15-T] |-> [1, 1, 1, 1, 1, 1, 1, 1, 1, 1, 1, 1, 1, 1]\n",
      "[T,16-T,T,16-T] |-> [1, 1, 1, 1, 1, 1, 1, 1, 1, 1, 1, 1, 1, 1, 1]\n",
      "[T,17-T,T,17-T] |-> [1, 1, 1, 1, 1, 1, 1, 1, 1, 1, 1, 1, 1, 1, 1, 1]\n",
      "[T,18-T,T,18-T] |-> [1, 1, 1, 1, 1, 1, 1, 1, 1, 1, 1, 1, 1, 1, 1, 1, 1]\n",
      "[T,19-T,T,19-T] |-> [1, 1, 1, 1, 1, 1, 1, 1, 1, 1, 1, 1, 1, 1, 1, 1, 1, 1]\n",
      "[T,20-T,T,20-T] |-> [1, 1, 1, 1, 1, 1, 1, 1, 1, 1, 1, 1, 1, 1, 1, 1, 1, 1, 1]\n",
      "[T,21-T,T,21-T] |-> [1, 1, 1, 1, 1, 1, 1, 1, 1, 1, 1, 1, 1, 1, 1, 1, 1, 1, 1, 1]\n",
      "[T,22-T,T,22-T] |-> [1, 1, 1, 1, 1, 1, 1, 1, 1, 1, 1, 1, 1, 1, 1, 1, 1, 1, 1, 1, 1]\n",
      "[T,23-T,T,23-T] |-> [1, 1, 1, 1, 1, 1, 1, 1, 1, 1, 1, 1, 1, 1, 1, 1, 1, 1, 1, 1, 1, 1]\n",
      "[T,24-T,T,24-T] |-> [1, 1, 1, 1, 1, 1, 1, 1, 1, 1, 1, 1, 1, 1, 1, 1, 1, 1, 1, 1, 1, 1, 1]\n",
      "[T,25-T,T,25-T] |-> [1, 1, 1, 1, 1, 1, 1, 1, 1, 1, 1, 1, 1, 1, 1, 1, 1, 1, 1, 1, 1, 1, 1, 1]\n",
      "[T,26-T,T,26-T] |-> [1, 1, 1, 1, 1, 1, 1, 1, 1, 1, 1, 1, 1, 1, 1, 1, 1, 1, 1, 1, 1, 1, 1, 1, 1]\n",
      "[T,27-T,T,27-T] |-> [1, 1, 1, 1, 1, 1, 1, 1, 1, 1, 1, 1, 1, 1, 1, 1, 1, 1, 1, 1, 1, 1, 1, 1, 1, 1]\n",
      "[T,28-T,T,28-T] |-> [1, 1, 1, 1, 1, 1, 1, 1, 1, 1, 1, 1, 1, 1, 1, 1, 1, 1, 1, 1, 1, 1, 1, 1, 1, 1, 1]\n",
      "[T,29-T,T,29-T] |-> [1, 1, 1, 1, 1, 1, 1, 1, 1, 1, 1, 1, 1, 1, 1, 1, 1, 1, 1, 1, 1, 1, 1, 1, 1, 1, 1, 1]\n"
     ]
    }
   ],
   "source": [
    "N=30\n",
    "for tl in range(2,N):\n",
    "    seq = []\n",
    "    for t in range(2,tl+1):\n",
    "        sqr = Square([t,tl-t,tl-t,t])\n",
    "#         M = sqr.grid_diagram()\n",
    "#         sigma = sqr.permutation()\n",
    "#         D = get_diagram(M)\n",
    "#         sigma.display()\n",
    "#         display(D)\n",
    "        seq += [cc(sqr)]\n",
    "    print(\"[T,{}-T,T,{}-T] |-> {}\".format(tl,tl,seq))"
   ]
  },
  {
   "cell_type": "markdown",
   "metadata": {
    "hidden": true
   },
   "source": [
    "__Note:__ $L=B+1$ の場合も全部 cord になるようだ。"
   ]
  },
  {
   "cell_type": "markdown",
   "metadata": {
    "hidden": true
   },
   "source": [
    "* $L=B+2$ の場合:"
   ]
  },
  {
   "cell_type": "code",
   "execution_count": null,
   "metadata": {
    "ExecuteTime": {
     "end_time": "2021-05-25T06:44:52.176513Z",
     "start_time": "2021-05-25T06:44:03.453225Z"
    },
    "hidden": true
   },
   "outputs": [],
   "source": [
    "N=30\n",
    "for tl in range(3,N):\n",
    "    seq = []\n",
    "    for t in range(1,tl-2):\n",
    "        sqr = Square([t,tl-t,(tl-t)-2,t+2])\n",
    "#         M = sqr.grid_diagram()\n",
    "#         sigma = sqr.permutation()\n",
    "#         D = get_diagram(M)\n",
    "#         sigma.display()\n",
    "#         display(D)\n",
    "        seq += [cc(sqr)]\n",
    "    print(\"[T,{}-T,{}-T-2,T+2] |-> {}\".format(tl,tl,seq))"
   ]
  },
  {
   "cell_type": "markdown",
   "metadata": {
    "hidden": true
   },
   "source": [
    "* $L=B+3$ の場合:"
   ]
  },
  {
   "cell_type": "code",
   "execution_count": null,
   "metadata": {
    "ExecuteTime": {
     "end_time": "2021-05-25T06:45:47.874583Z",
     "start_time": "2021-05-25T06:45:01.788474Z"
    },
    "hidden": true
   },
   "outputs": [],
   "source": [
    "N=30\n",
    "for tl in range(3,N):\n",
    "    seq = []\n",
    "    for t in range(1,tl-2):\n",
    "        sqr = Square([t,tl-t,(tl-t)-3,t+3])\n",
    "#         M = sqr.grid_diagram()\n",
    "#         sigma = sqr.permutation()\n",
    "#         D = get_diagram(M)\n",
    "#         sigma.display()\n",
    "#         display(D)\n",
    "        seq += [cc(sqr)]\n",
    "    print(\"[T,{}-T,{}-T-2,T+2] |-> {}\".format(tl,tl,seq))"
   ]
  },
  {
   "cell_type": "markdown",
   "metadata": {
    "hidden": true
   },
   "source": [
    "__予想 5:__ $[T,tl-T,(tl-T)-k,T+k]$ の成分数は、$tl$, $k$ を固定したとき、$T$ には依らず一定。"
   ]
  },
  {
   "cell_type": "code",
   "execution_count": null,
   "metadata": {
    "ExecuteTime": {
     "end_time": "2021-05-25T09:21:55.831306Z",
     "start_time": "2021-05-25T09:21:55.478954Z"
    },
    "hidden": true
   },
   "outputs": [],
   "source": [
    "N = 10\n",
    "k = np.random.randint(2,N)\n",
    "tl = np.random.randint(k+3,N+k+3)\n",
    "\n",
    "Ts = [np.random.randint(1,tl-k-1) for i in range(2)]\n",
    "sqrs = [Square([T,tl-T,tl-T-k,T+k]) for T in Ts]\n",
    "nums = [len(cycle_decomp(sqr.permutation())) for sqr in sqrs]\n",
    "\n",
    "print([sqr.code for sqr in sqrs],nums)\n",
    "for i in range(2): display(get_diagram(sqrs[i].grid_diagram()))"
   ]
  },
  {
   "cell_type": "code",
   "execution_count": null,
   "metadata": {
    "ExecuteTime": {
     "end_time": "2021-05-25T06:33:35.240734Z",
     "start_time": "2021-05-25T06:33:13.864780Z"
    },
    "hidden": true
   },
   "outputs": [],
   "source": [
    "N = 30\n",
    "for i in tqdm(range(10)):\n",
    "    k = np.random.randint(2,N)\n",
    "    tl = np.random.randint(k+3,N+k+3)\n",
    "    for j in range(100):\n",
    "        Ts = [np.random.randint(1,tl-k-1) for i in range(2)]\n",
    "        sqrs = [Square([T,tl-T,tl-T-k,T+k]) for T in Ts]\n",
    "        nums = [len(cycle_decomp(sqr.permutation())) for sqr in sqrs]\n",
    "        \n",
    "        if nums[0] != nums[1]:\n",
    "            print([sqr.code for sqr in sqrs],nums)"
   ]
  },
  {
   "cell_type": "markdown",
   "metadata": {
    "hidden": true
   },
   "source": [
    "* $[1, L, L-k, 1+k]$ のラインナップ:"
   ]
  },
  {
   "cell_type": "code",
   "execution_count": null,
   "metadata": {
    "ExecuteTime": {
     "end_time": "2021-05-25T06:29:50.067966Z",
     "start_time": "2021-05-25T06:28:21.831816Z"
    },
    "hidden": true
   },
   "outputs": [],
   "source": [
    "N=20\n",
    "for k in range(N):\n",
    "    seq = []\n",
    "    for tl in range(k,N+k):\n",
    "        sqr = Square([1,tl,tl-k,1+k])\n",
    "#         M = sqr.grid_diagram()\n",
    "#         sigma = sqr.permutation()\n",
    "#         D = get_diagram(M)\n",
    "#         sigma.display()\n",
    "#         display(D)\n",
    "        seq += [cc(sqr)]\n",
    "    print(\"[1,L,L-{},1+{}] |-> {}\".format(k,k,seq))"
   ]
  },
  {
   "cell_type": "code",
   "execution_count": null,
   "metadata": {
    "ExecuteTime": {
     "end_time": "2021-05-25T06:49:31.867030Z",
     "start_time": "2021-05-25T06:48:42.980261Z"
    },
    "hidden": true
   },
   "outputs": [],
   "source": [
    "N=20\n",
    "for k in range(N):\n",
    "    seq = []\n",
    "    for tl in range(k,N+k):\n",
    "        sqr = Square([tl,1,tl-k,1+k])\n",
    "#         M = sqr.grid_diagram()\n",
    "#         sigma = sqr.permutation()\n",
    "#         D = get_diagram(M)\n",
    "#         sigma.display()\n",
    "#         display(D)\n",
    "        seq += [cc(sqr)]\n",
    "    print(\"[T,1,T-{},1+{}] |-> {}\".format(k,k,seq))"
   ]
  },
  {
   "cell_type": "markdown",
   "metadata": {
    "heading_collapsed": true
   },
   "source": [
    "### Others"
   ]
  },
  {
   "cell_type": "code",
   "execution_count": null,
   "metadata": {
    "ExecuteTime": {
     "end_time": "2021-05-13T06:22:28.922714Z",
     "start_time": "2021-05-13T06:22:28.913811Z"
    },
    "hidden": true
   },
   "outputs": [],
   "source": [
    "sqr = square_random_generator(verbose=False) #Square((0,1,1,0)) #\n",
    "s = len(sqr.segments)\n",
    "\n",
    "N = copy(sqr.matrix())\n",
    "det0 = np.linalg.det(N)\n",
    "N[s][s]=1\n",
    "det1 = np.linalg.det(N)\n",
    "print(\"{} --det0--> {} --det1--> {}\".format(sqr.code, det0, det1))"
   ]
  },
  {
   "cell_type": "code",
   "execution_count": null,
   "metadata": {
    "ExecuteTime": {
     "end_time": "2021-05-25T09:21:55.831306Z",
     "start_time": "2021-05-25T09:21:55.478954Z"
    },
    "hidden": true
   },
   "outputs": [],
   "source": [
    "N = 10\n",
    "k = np.random.randint(2,N)\n",
    "tl = np.random.randint(k+3,N+k+3)\n",
    "\n",
    "Ts = [np.random.randint(1,tl-k-1) for i in range(2)]\n",
    "sqrs = [Square([T,tl-T,tl-T-k,T+k]) for T in Ts]\n",
    "nums = [len(cycle_decomp(sqr.permutation())) for sqr in sqrs]\n",
    "\n",
    "print([sqr.code for sqr in sqrs],nums)\n",
    "for i in range(2): display(get_diagram(sqrs[i].grid_diagram()))"
   ]
  },
  {
   "cell_type": "markdown",
   "metadata": {
    "hidden": true
   },
   "source": [
    "__予想 (Others):__ 右下を1にした行列の行列式は、もとの2倍である。"
   ]
  },
  {
   "cell_type": "markdown",
   "metadata": {},
   "source": [
    "## TODO"
   ]
  }
 ],
 "metadata": {
  "kernelspec": {
   "display_name": "Python 3",
   "language": "python",
   "name": "python3"
  },
  "language_info": {
   "codemirror_mode": {
    "name": "ipython",
    "version": 3
   },
   "file_extension": ".py",
   "mimetype": "text/x-python",
   "name": "python",
   "nbconvert_exporter": "python",
   "pygments_lexer": "ipython3",
   "version": "3.6.13"
  },
  "toc": {
   "base_numbering": 1,
   "nav_menu": {},
   "number_sections": true,
   "sideBar": true,
   "skip_h1_title": true,
   "title_cell": "Table of Contents",
   "title_sidebar": "Contents",
   "toc_cell": false,
   "toc_position": {
    "height": "calc(100% - 180px)",
    "left": "10px",
    "top": "150px",
    "width": "236px"
   },
   "toc_section_display": true,
   "toc_window_display": true
  },
  "toc-autonumbering": false,
  "toc-showcode": false,
  "toc-showmarkdowntxt": false,
  "toc-showtags": false,
  "varInspector": {
   "cols": {
    "lenName": 16,
    "lenType": 16,
    "lenVar": 40
   },
   "kernels_config": {
    "python": {
     "delete_cmd_postfix": "",
     "delete_cmd_prefix": "del ",
     "library": "var_list.py",
     "varRefreshCmd": "print(var_dic_list())"
    },
    "r": {
     "delete_cmd_postfix": ") ",
     "delete_cmd_prefix": "rm(",
     "library": "var_list.r",
     "varRefreshCmd": "cat(var_dic_list()) "
    }
   },
   "types_to_exclude": [
    "module",
    "function",
    "builtin_function_or_method",
    "instance",
    "_Feature"
   ],
   "window_display": false
  }
 },
 "nbformat": 4,
 "nbformat_minor": 4
}
