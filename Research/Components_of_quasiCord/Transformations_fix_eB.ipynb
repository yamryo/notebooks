{
 "cells": [
  {
   "cell_type": "markdown",
   "id": "810ad619-7dd9-4c54-90f3-f6b1059b5109",
   "metadata": {},
   "source": [
    "# Transformations fixing $T-L$ and $B$"
   ]
  },
  {
   "cell_type": "code",
   "execution_count": 1,
   "id": "e3bcb345-c725-47ee-8c1b-9d0795ed663f",
   "metadata": {
    "ExecuteTime": {
     "end_time": "2021-05-28T05:09:25.860503Z",
     "start_time": "2021-05-28T05:09:25.275687Z"
    },
    "tags": []
   },
   "outputs": [],
   "source": [
    "import sympy\n",
    "\n",
    "sympy.init_printing()\n",
    "\n",
    "import itertools\n",
    "\n",
    "import pandas as pd\n",
    "import plotly.express as px\n",
    "\n",
    "# ---\n",
    "from numpy.random import randint as ri\n",
    "from plotly.subplots import make_subplots\n",
    "from ToolsForQuasiCord import *\n",
    "from tqdm.notebook import tqdm"
   ]
  },
  {
   "cell_type": "markdown",
   "id": "4dea1a2e-930e-4c6f-9a4b-1295b23e5d06",
   "metadata": {},
   "source": [
    "## Translations"
   ]
  },
  {
   "cell_type": "code",
   "execution_count": 6,
   "id": "ccd55746-5560-4277-a069-8deeea33a02b",
   "metadata": {
    "tags": []
   },
   "outputs": [
    {
     "data": {
      "application/vnd.plotly.v1+json": {
       "config": {
        "plotlyServerURL": "https://plot.ly"
       },
       "data": [
        {
         "coloraxis": "coloraxis",
         "hovertemplate": "x: %{x}<br>y: %{y}<br>color: %{z}<extra></extra>",
         "name": "0",
         "type": "heatmap",
         "xaxis": "x",
         "yaxis": "y",
         "z": [
          [
           0,
           0,
           0,
           0,
           0,
           0,
           0,
           0,
           0,
           0,
           0,
           0,
           0,
           0,
           0,
           0,
           0,
           0,
           0,
           0,
           0,
           0,
           0,
           0,
           0,
           0,
           0,
           0,
           0,
           0
          ],
          [
           0,
           0,
           0,
           0,
           0,
           0,
           0,
           0,
           0,
           0,
           0,
           0,
           0,
           0,
           0,
           0,
           0,
           0,
           0,
           0,
           0,
           0,
           0,
           0,
           0,
           0,
           0,
           0,
           0,
           0
          ],
          [
           1,
           1,
           5,
           1,
           1,
           2,
           1,
           1,
           2,
           1,
           1,
           5,
           1,
           1,
           2,
           1,
           1,
           2,
           1,
           1,
           5,
           1,
           1,
           2,
           1,
           1,
           2,
           1,
           1,
           5
          ],
          [
           1,
           1,
           2,
           4,
           2,
           1,
           1,
           1,
           1,
           1,
           1,
           2,
           4,
           2,
           1,
           1,
           1,
           1,
           1,
           1,
           2,
           4,
           2,
           1,
           1,
           1,
           1,
           1,
           1,
           2
          ],
          [
           0,
           2,
           1,
           1,
           5,
           1,
           1,
           2,
           1,
           1,
           2,
           1,
           1,
           5,
           1,
           1,
           2,
           1,
           1,
           2,
           1,
           1,
           5,
           1,
           1,
           2,
           1,
           1,
           2,
           1
          ],
          [
           0,
           1,
           1,
           1,
           2,
           4,
           2,
           1,
           1,
           1,
           1,
           1,
           1,
           2,
           4,
           2,
           1,
           1,
           1,
           1,
           1,
           1,
           2,
           4,
           2,
           1,
           1,
           1,
           1,
           1
          ],
          [
           0,
           0,
           1,
           2,
           1,
           1,
           5,
           1,
           1,
           2,
           1,
           1,
           2,
           1,
           1,
           5,
           1,
           1,
           2,
           1,
           1,
           2,
           1,
           1,
           5,
           1,
           1,
           2,
           1,
           1
          ],
          [
           0,
           0,
           1,
           1,
           1,
           1,
           2,
           4,
           2,
           1,
           1,
           1,
           1,
           1,
           1,
           2,
           4,
           2,
           1,
           1,
           1,
           1,
           1,
           1,
           2,
           4,
           2,
           1,
           1,
           1
          ],
          [
           0,
           0,
           0,
           1,
           1,
           2,
           1,
           1,
           5,
           1,
           1,
           2,
           1,
           1,
           2,
           1,
           1,
           5,
           1,
           1,
           2,
           1,
           1,
           2,
           1,
           1,
           5,
           1,
           1,
           2
          ],
          [
           0,
           0,
           0,
           1,
           1,
           1,
           1,
           1,
           2,
           4,
           2,
           1,
           1,
           1,
           1,
           1,
           1,
           2,
           4,
           2,
           1,
           1,
           1,
           1,
           1,
           1,
           2,
           4,
           2,
           1
          ],
          [
           0,
           0,
           0,
           0,
           2,
           1,
           1,
           2,
           1,
           1,
           5,
           1,
           1,
           2,
           1,
           1,
           2,
           1,
           1,
           5,
           1,
           1,
           2,
           1,
           1,
           2,
           1,
           1,
           5,
           1
          ],
          [
           0,
           0,
           0,
           0,
           1,
           1,
           1,
           1,
           1,
           1,
           2,
           4,
           2,
           1,
           1,
           1,
           1,
           1,
           1,
           2,
           4,
           2,
           1,
           1,
           1,
           1,
           1,
           1,
           2,
           4
          ],
          [
           0,
           0,
           0,
           0,
           0,
           2,
           2,
           1,
           1,
           2,
           1,
           1,
           5,
           1,
           1,
           2,
           1,
           1,
           2,
           1,
           1,
           5,
           1,
           1,
           2,
           1,
           1,
           2,
           1,
           1
          ],
          [
           0,
           0,
           0,
           0,
           0,
           1,
           1,
           1,
           1,
           1,
           1,
           1,
           2,
           4,
           2,
           1,
           1,
           1,
           1,
           1,
           1,
           2,
           4,
           2,
           1,
           1,
           1,
           1,
           1,
           1
          ],
          [
           0,
           0,
           0,
           0,
           0,
           0,
           1,
           2,
           2,
           1,
           1,
           2,
           1,
           1,
           5,
           1,
           1,
           2,
           1,
           1,
           2,
           1,
           1,
           5,
           1,
           1,
           2,
           1,
           1,
           2
          ],
          [
           0,
           0,
           0,
           0,
           0,
           0,
           1,
           1,
           1,
           1,
           1,
           1,
           1,
           1,
           2,
           4,
           2,
           1,
           1,
           1,
           1,
           1,
           1,
           2,
           4,
           2,
           1,
           1,
           1,
           1
          ],
          [
           0,
           0,
           0,
           0,
           0,
           0,
           0,
           1,
           1,
           2,
           2,
           1,
           1,
           2,
           1,
           1,
           5,
           1,
           1,
           2,
           1,
           1,
           2,
           1,
           1,
           5,
           1,
           1,
           2,
           1
          ],
          [
           0,
           0,
           0,
           0,
           0,
           0,
           0,
           1,
           1,
           1,
           1,
           1,
           1,
           1,
           1,
           1,
           2,
           4,
           2,
           1,
           1,
           1,
           1,
           1,
           1,
           2,
           4,
           2,
           1,
           1
          ],
          [
           0,
           0,
           0,
           0,
           0,
           0,
           0,
           0,
           1,
           1,
           1,
           2,
           2,
           1,
           1,
           2,
           1,
           1,
           5,
           1,
           1,
           2,
           1,
           1,
           2,
           1,
           1,
           5,
           1,
           1
          ],
          [
           0,
           0,
           0,
           0,
           0,
           0,
           0,
           0,
           1,
           1,
           1,
           1,
           1,
           1,
           1,
           1,
           1,
           1,
           2,
           4,
           2,
           1,
           1,
           1,
           1,
           1,
           1,
           2,
           4,
           2
          ],
          [
           0,
           0,
           0,
           0,
           0,
           0,
           0,
           0,
           0,
           1,
           1,
           1,
           1,
           2,
           2,
           1,
           1,
           2,
           1,
           1,
           5,
           1,
           1,
           2,
           1,
           1,
           2,
           1,
           1,
           5
          ],
          [
           0,
           0,
           0,
           0,
           0,
           0,
           0,
           0,
           0,
           1,
           1,
           1,
           1,
           1,
           1,
           1,
           1,
           1,
           1,
           1,
           2,
           4,
           2,
           1,
           1,
           1,
           1,
           1,
           1,
           2
          ],
          [
           0,
           0,
           0,
           0,
           0,
           0,
           0,
           0,
           0,
           0,
           2,
           1,
           1,
           1,
           1,
           2,
           2,
           1,
           1,
           2,
           1,
           1,
           5,
           1,
           1,
           2,
           1,
           1,
           2,
           1
          ],
          [
           0,
           0,
           0,
           0,
           0,
           0,
           0,
           0,
           0,
           0,
           9,
           1,
           1,
           1,
           1,
           1,
           1,
           1,
           1,
           1,
           1,
           1,
           2,
           4,
           2,
           1,
           1,
           1,
           1,
           1
          ],
          [
           0,
           0,
           0,
           0,
           0,
           0,
           0,
           0,
           0,
           0,
           0,
           8,
           2,
           1,
           1,
           1,
           1,
           2,
           2,
           1,
           1,
           2,
           1,
           1,
           5,
           1,
           1,
           2,
           1,
           1
          ],
          [
           0,
           0,
           0,
           0,
           0,
           0,
           0,
           0,
           0,
           0,
           0,
           1,
           9,
           1,
           1,
           1,
           1,
           1,
           1,
           1,
           1,
           1,
           1,
           1,
           2,
           4,
           2,
           1,
           1,
           1
          ],
          [
           0,
           0,
           0,
           0,
           0,
           0,
           0,
           0,
           0,
           0,
           0,
           0,
           2,
           8,
           2,
           1,
           1,
           1,
           1,
           2,
           2,
           1,
           1,
           2,
           1,
           1,
           5,
           1,
           1,
           2
          ],
          [
           0,
           0,
           0,
           0,
           0,
           0,
           0,
           0,
           0,
           0,
           0,
           0,
           1,
           1,
           9,
           1,
           1,
           1,
           1,
           1,
           1,
           1,
           1,
           1,
           1,
           1,
           2,
           4,
           2,
           1
          ],
          [
           0,
           0,
           0,
           0,
           0,
           0,
           0,
           0,
           0,
           0,
           0,
           0,
           0,
           1,
           2,
           8,
           2,
           1,
           1,
           1,
           1,
           2,
           2,
           1,
           1,
           2,
           1,
           1,
           5,
           1
          ],
          [
           0,
           0,
           0,
           0,
           0,
           0,
           0,
           0,
           0,
           0,
           0,
           0,
           0,
           1,
           1,
           1,
           9,
           1,
           1,
           1,
           1,
           1,
           1,
           1,
           1,
           1,
           1,
           1,
           2,
           4
          ]
         ]
        }
       ],
       "layout": {
        "autosize": true,
        "coloraxis": {
         "cmax": 9,
         "cmin": 0,
         "colorscale": [
          [
           0,
           "#0d0887"
          ],
          [
           0.1111111111111111,
           "#46039f"
          ],
          [
           0.2222222222222222,
           "#7201a8"
          ],
          [
           0.3333333333333333,
           "#9c179e"
          ],
          [
           0.4444444444444444,
           "#bd3786"
          ],
          [
           0.5555555555555556,
           "#d8576b"
          ],
          [
           0.6666666666666666,
           "#ed7953"
          ],
          [
           0.7777777777777778,
           "#fb9f3a"
          ],
          [
           0.8888888888888888,
           "#fdca26"
          ],
          [
           1,
           "#f0f921"
          ]
         ]
        },
        "template": {
         "data": {
          "bar": [
           {
            "error_x": {
             "color": "#2a3f5f"
            },
            "error_y": {
             "color": "#2a3f5f"
            },
            "marker": {
             "line": {
              "color": "#E5ECF6",
              "width": 0.5
             }
            },
            "type": "bar"
           }
          ],
          "barpolar": [
           {
            "marker": {
             "line": {
              "color": "#E5ECF6",
              "width": 0.5
             }
            },
            "type": "barpolar"
           }
          ],
          "carpet": [
           {
            "aaxis": {
             "endlinecolor": "#2a3f5f",
             "gridcolor": "white",
             "linecolor": "white",
             "minorgridcolor": "white",
             "startlinecolor": "#2a3f5f"
            },
            "baxis": {
             "endlinecolor": "#2a3f5f",
             "gridcolor": "white",
             "linecolor": "white",
             "minorgridcolor": "white",
             "startlinecolor": "#2a3f5f"
            },
            "type": "carpet"
           }
          ],
          "choropleth": [
           {
            "colorbar": {
             "outlinewidth": 0,
             "ticks": ""
            },
            "type": "choropleth"
           }
          ],
          "contour": [
           {
            "colorbar": {
             "outlinewidth": 0,
             "ticks": ""
            },
            "colorscale": [
             [
              0,
              "#0d0887"
             ],
             [
              0.1111111111111111,
              "#46039f"
             ],
             [
              0.2222222222222222,
              "#7201a8"
             ],
             [
              0.3333333333333333,
              "#9c179e"
             ],
             [
              0.4444444444444444,
              "#bd3786"
             ],
             [
              0.5555555555555556,
              "#d8576b"
             ],
             [
              0.6666666666666666,
              "#ed7953"
             ],
             [
              0.7777777777777778,
              "#fb9f3a"
             ],
             [
              0.8888888888888888,
              "#fdca26"
             ],
             [
              1,
              "#f0f921"
             ]
            ],
            "type": "contour"
           }
          ],
          "contourcarpet": [
           {
            "colorbar": {
             "outlinewidth": 0,
             "ticks": ""
            },
            "type": "contourcarpet"
           }
          ],
          "heatmap": [
           {
            "colorbar": {
             "outlinewidth": 0,
             "ticks": ""
            },
            "colorscale": [
             [
              0,
              "#0d0887"
             ],
             [
              0.1111111111111111,
              "#46039f"
             ],
             [
              0.2222222222222222,
              "#7201a8"
             ],
             [
              0.3333333333333333,
              "#9c179e"
             ],
             [
              0.4444444444444444,
              "#bd3786"
             ],
             [
              0.5555555555555556,
              "#d8576b"
             ],
             [
              0.6666666666666666,
              "#ed7953"
             ],
             [
              0.7777777777777778,
              "#fb9f3a"
             ],
             [
              0.8888888888888888,
              "#fdca26"
             ],
             [
              1,
              "#f0f921"
             ]
            ],
            "type": "heatmap"
           }
          ],
          "heatmapgl": [
           {
            "colorbar": {
             "outlinewidth": 0,
             "ticks": ""
            },
            "colorscale": [
             [
              0,
              "#0d0887"
             ],
             [
              0.1111111111111111,
              "#46039f"
             ],
             [
              0.2222222222222222,
              "#7201a8"
             ],
             [
              0.3333333333333333,
              "#9c179e"
             ],
             [
              0.4444444444444444,
              "#bd3786"
             ],
             [
              0.5555555555555556,
              "#d8576b"
             ],
             [
              0.6666666666666666,
              "#ed7953"
             ],
             [
              0.7777777777777778,
              "#fb9f3a"
             ],
             [
              0.8888888888888888,
              "#fdca26"
             ],
             [
              1,
              "#f0f921"
             ]
            ],
            "type": "heatmapgl"
           }
          ],
          "histogram": [
           {
            "marker": {
             "colorbar": {
              "outlinewidth": 0,
              "ticks": ""
             }
            },
            "type": "histogram"
           }
          ],
          "histogram2d": [
           {
            "colorbar": {
             "outlinewidth": 0,
             "ticks": ""
            },
            "colorscale": [
             [
              0,
              "#0d0887"
             ],
             [
              0.1111111111111111,
              "#46039f"
             ],
             [
              0.2222222222222222,
              "#7201a8"
             ],
             [
              0.3333333333333333,
              "#9c179e"
             ],
             [
              0.4444444444444444,
              "#bd3786"
             ],
             [
              0.5555555555555556,
              "#d8576b"
             ],
             [
              0.6666666666666666,
              "#ed7953"
             ],
             [
              0.7777777777777778,
              "#fb9f3a"
             ],
             [
              0.8888888888888888,
              "#fdca26"
             ],
             [
              1,
              "#f0f921"
             ]
            ],
            "type": "histogram2d"
           }
          ],
          "histogram2dcontour": [
           {
            "colorbar": {
             "outlinewidth": 0,
             "ticks": ""
            },
            "colorscale": [
             [
              0,
              "#0d0887"
             ],
             [
              0.1111111111111111,
              "#46039f"
             ],
             [
              0.2222222222222222,
              "#7201a8"
             ],
             [
              0.3333333333333333,
              "#9c179e"
             ],
             [
              0.4444444444444444,
              "#bd3786"
             ],
             [
              0.5555555555555556,
              "#d8576b"
             ],
             [
              0.6666666666666666,
              "#ed7953"
             ],
             [
              0.7777777777777778,
              "#fb9f3a"
             ],
             [
              0.8888888888888888,
              "#fdca26"
             ],
             [
              1,
              "#f0f921"
             ]
            ],
            "type": "histogram2dcontour"
           }
          ],
          "mesh3d": [
           {
            "colorbar": {
             "outlinewidth": 0,
             "ticks": ""
            },
            "type": "mesh3d"
           }
          ],
          "parcoords": [
           {
            "line": {
             "colorbar": {
              "outlinewidth": 0,
              "ticks": ""
             }
            },
            "type": "parcoords"
           }
          ],
          "pie": [
           {
            "automargin": true,
            "type": "pie"
           }
          ],
          "scatter": [
           {
            "marker": {
             "colorbar": {
              "outlinewidth": 0,
              "ticks": ""
             }
            },
            "type": "scatter"
           }
          ],
          "scatter3d": [
           {
            "line": {
             "colorbar": {
              "outlinewidth": 0,
              "ticks": ""
             }
            },
            "marker": {
             "colorbar": {
              "outlinewidth": 0,
              "ticks": ""
             }
            },
            "type": "scatter3d"
           }
          ],
          "scattercarpet": [
           {
            "marker": {
             "colorbar": {
              "outlinewidth": 0,
              "ticks": ""
             }
            },
            "type": "scattercarpet"
           }
          ],
          "scattergeo": [
           {
            "marker": {
             "colorbar": {
              "outlinewidth": 0,
              "ticks": ""
             }
            },
            "type": "scattergeo"
           }
          ],
          "scattergl": [
           {
            "marker": {
             "colorbar": {
              "outlinewidth": 0,
              "ticks": ""
             }
            },
            "type": "scattergl"
           }
          ],
          "scattermapbox": [
           {
            "marker": {
             "colorbar": {
              "outlinewidth": 0,
              "ticks": ""
             }
            },
            "type": "scattermapbox"
           }
          ],
          "scatterpolar": [
           {
            "marker": {
             "colorbar": {
              "outlinewidth": 0,
              "ticks": ""
             }
            },
            "type": "scatterpolar"
           }
          ],
          "scatterpolargl": [
           {
            "marker": {
             "colorbar": {
              "outlinewidth": 0,
              "ticks": ""
             }
            },
            "type": "scatterpolargl"
           }
          ],
          "scatterternary": [
           {
            "marker": {
             "colorbar": {
              "outlinewidth": 0,
              "ticks": ""
             }
            },
            "type": "scatterternary"
           }
          ],
          "surface": [
           {
            "colorbar": {
             "outlinewidth": 0,
             "ticks": ""
            },
            "colorscale": [
             [
              0,
              "#0d0887"
             ],
             [
              0.1111111111111111,
              "#46039f"
             ],
             [
              0.2222222222222222,
              "#7201a8"
             ],
             [
              0.3333333333333333,
              "#9c179e"
             ],
             [
              0.4444444444444444,
              "#bd3786"
             ],
             [
              0.5555555555555556,
              "#d8576b"
             ],
             [
              0.6666666666666666,
              "#ed7953"
             ],
             [
              0.7777777777777778,
              "#fb9f3a"
             ],
             [
              0.8888888888888888,
              "#fdca26"
             ],
             [
              1,
              "#f0f921"
             ]
            ],
            "type": "surface"
           }
          ],
          "table": [
           {
            "cells": {
             "fill": {
              "color": "#EBF0F8"
             },
             "line": {
              "color": "white"
             }
            },
            "header": {
             "fill": {
              "color": "#C8D4E3"
             },
             "line": {
              "color": "white"
             }
            },
            "type": "table"
           }
          ]
         },
         "layout": {
          "annotationdefaults": {
           "arrowcolor": "#2a3f5f",
           "arrowhead": 0,
           "arrowwidth": 1
          },
          "autotypenumbers": "strict",
          "coloraxis": {
           "colorbar": {
            "outlinewidth": 0,
            "ticks": ""
           }
          },
          "colorscale": {
           "diverging": [
            [
             0,
             "#8e0152"
            ],
            [
             0.1,
             "#c51b7d"
            ],
            [
             0.2,
             "#de77ae"
            ],
            [
             0.3,
             "#f1b6da"
            ],
            [
             0.4,
             "#fde0ef"
            ],
            [
             0.5,
             "#f7f7f7"
            ],
            [
             0.6,
             "#e6f5d0"
            ],
            [
             0.7,
             "#b8e186"
            ],
            [
             0.8,
             "#7fbc41"
            ],
            [
             0.9,
             "#4d9221"
            ],
            [
             1,
             "#276419"
            ]
           ],
           "sequential": [
            [
             0,
             "#0d0887"
            ],
            [
             0.1111111111111111,
             "#46039f"
            ],
            [
             0.2222222222222222,
             "#7201a8"
            ],
            [
             0.3333333333333333,
             "#9c179e"
            ],
            [
             0.4444444444444444,
             "#bd3786"
            ],
            [
             0.5555555555555556,
             "#d8576b"
            ],
            [
             0.6666666666666666,
             "#ed7953"
            ],
            [
             0.7777777777777778,
             "#fb9f3a"
            ],
            [
             0.8888888888888888,
             "#fdca26"
            ],
            [
             1,
             "#f0f921"
            ]
           ],
           "sequentialminus": [
            [
             0,
             "#0d0887"
            ],
            [
             0.1111111111111111,
             "#46039f"
            ],
            [
             0.2222222222222222,
             "#7201a8"
            ],
            [
             0.3333333333333333,
             "#9c179e"
            ],
            [
             0.4444444444444444,
             "#bd3786"
            ],
            [
             0.5555555555555556,
             "#d8576b"
            ],
            [
             0.6666666666666666,
             "#ed7953"
            ],
            [
             0.7777777777777778,
             "#fb9f3a"
            ],
            [
             0.8888888888888888,
             "#fdca26"
            ],
            [
             1,
             "#f0f921"
            ]
           ]
          },
          "colorway": [
           "#636efa",
           "#EF553B",
           "#00cc96",
           "#ab63fa",
           "#FFA15A",
           "#19d3f3",
           "#FF6692",
           "#B6E880",
           "#FF97FF",
           "#FECB52"
          ],
          "font": {
           "color": "#2a3f5f"
          },
          "geo": {
           "bgcolor": "white",
           "lakecolor": "white",
           "landcolor": "#E5ECF6",
           "showlakes": true,
           "showland": true,
           "subunitcolor": "white"
          },
          "hoverlabel": {
           "align": "left"
          },
          "hovermode": "closest",
          "mapbox": {
           "style": "light"
          },
          "paper_bgcolor": "white",
          "plot_bgcolor": "#E5ECF6",
          "polar": {
           "angularaxis": {
            "gridcolor": "white",
            "linecolor": "white",
            "ticks": ""
           },
           "bgcolor": "#E5ECF6",
           "radialaxis": {
            "gridcolor": "white",
            "linecolor": "white",
            "ticks": ""
           }
          },
          "scene": {
           "xaxis": {
            "backgroundcolor": "#E5ECF6",
            "gridcolor": "white",
            "gridwidth": 2,
            "linecolor": "white",
            "showbackground": true,
            "ticks": "",
            "zerolinecolor": "white"
           },
           "yaxis": {
            "backgroundcolor": "#E5ECF6",
            "gridcolor": "white",
            "gridwidth": 2,
            "linecolor": "white",
            "showbackground": true,
            "ticks": "",
            "zerolinecolor": "white"
           },
           "zaxis": {
            "backgroundcolor": "#E5ECF6",
            "gridcolor": "white",
            "gridwidth": 2,
            "linecolor": "white",
            "showbackground": true,
            "ticks": "",
            "zerolinecolor": "white"
           }
          },
          "shapedefaults": {
           "line": {
            "color": "#2a3f5f"
           }
          },
          "ternary": {
           "aaxis": {
            "gridcolor": "white",
            "linecolor": "white",
            "ticks": ""
           },
           "baxis": {
            "gridcolor": "white",
            "linecolor": "white",
            "ticks": ""
           },
           "bgcolor": "#E5ECF6",
           "caxis": {
            "gridcolor": "white",
            "linecolor": "white",
            "ticks": ""
           }
          },
          "title": {
           "x": 0.05
          },
          "xaxis": {
           "automargin": true,
           "gridcolor": "white",
           "linecolor": "white",
           "ticks": "",
           "title": {
            "standoff": 15
           },
           "zerolinecolor": "white",
           "zerolinewidth": 2
          },
          "yaxis": {
           "automargin": true,
           "gridcolor": "white",
           "linecolor": "white",
           "ticks": "",
           "title": {
            "standoff": 15
           },
           "zerolinecolor": "white",
           "zerolinewidth": 2
          }
         }
        },
        "title": {
         "text": "T-L=5, B=2, L: horizontal, R: vertical"
        },
        "xaxis": {
         "anchor": "y",
         "autorange": true,
         "constrain": "domain",
         "domain": [
          0.3400473933649289,
          0.6599526066350712
         ],
         "range": [
          -0.5,
          29.5
         ],
         "scaleanchor": "y"
        },
        "yaxis": {
         "anchor": "x",
         "autorange": true,
         "constrain": "domain",
         "domain": [
          0,
          1
         ],
         "range": [
          -0.5,
          29.5
         ]
        }
       }
      },
      "image/png": "[encoded data removed]",
      "text/html": [
       "<div>                            <div id=\"a2ae1fbc-2929-48ea-a319-8ce856436f11\" class=\"plotly-graph-div\" style=\"height:525px; width:100%;\"></div>            <script type=\"text/javascript\">                require([\"plotly\"], function(Plotly) {                    window.PLOTLYENV=window.PLOTLYENV || {};                                    if (document.getElementById(\"a2ae1fbc-2929-48ea-a319-8ce856436f11\")) {                    Plotly.newPlot(                        \"a2ae1fbc-2929-48ea-a319-8ce856436f11\",                        [{\"coloraxis\": \"coloraxis\", \"hovertemplate\": \"x: %{x}<br>y: %{y}<br>color: %{z}<extra></extra>\", \"name\": \"0\", \"type\": \"heatmap\", \"xaxis\": \"x\", \"yaxis\": \"y\", \"z\": [[0, 0, 0, 0, 0, 0, 0, 0, 0, 0, 0, 0, 0, 0, 0, 0, 0, 0, 0, 0, 0, 0, 0, 0, 0, 0, 0, 0, 0, 0], [0, 0, 0, 0, 0, 0, 0, 0, 0, 0, 0, 0, 0, 0, 0, 0, 0, 0, 0, 0, 0, 0, 0, 0, 0, 0, 0, 0, 0, 0], [1, 1, 5, 1, 1, 2, 1, 1, 2, 1, 1, 5, 1, 1, 2, 1, 1, 2, 1, 1, 5, 1, 1, 2, 1, 1, 2, 1, 1, 5], [1, 1, 2, 4, 2, 1, 1, 1, 1, 1, 1, 2, 4, 2, 1, 1, 1, 1, 1, 1, 2, 4, 2, 1, 1, 1, 1, 1, 1, 2], [0, 2, 1, 1, 5, 1, 1, 2, 1, 1, 2, 1, 1, 5, 1, 1, 2, 1, 1, 2, 1, 1, 5, 1, 1, 2, 1, 1, 2, 1], [0, 1, 1, 1, 2, 4, 2, 1, 1, 1, 1, 1, 1, 2, 4, 2, 1, 1, 1, 1, 1, 1, 2, 4, 2, 1, 1, 1, 1, 1], [0, 0, 1, 2, 1, 1, 5, 1, 1, 2, 1, 1, 2, 1, 1, 5, 1, 1, 2, 1, 1, 2, 1, 1, 5, 1, 1, 2, 1, 1], [0, 0, 1, 1, 1, 1, 2, 4, 2, 1, 1, 1, 1, 1, 1, 2, 4, 2, 1, 1, 1, 1, 1, 1, 2, 4, 2, 1, 1, 1], [0, 0, 0, 1, 1, 2, 1, 1, 5, 1, 1, 2, 1, 1, 2, 1, 1, 5, 1, 1, 2, 1, 1, 2, 1, 1, 5, 1, 1, 2], [0, 0, 0, 1, 1, 1, 1, 1, 2, 4, 2, 1, 1, 1, 1, 1, 1, 2, 4, 2, 1, 1, 1, 1, 1, 1, 2, 4, 2, 1], [0, 0, 0, 0, 2, 1, 1, 2, 1, 1, 5, 1, 1, 2, 1, 1, 2, 1, 1, 5, 1, 1, 2, 1, 1, 2, 1, 1, 5, 1], [0, 0, 0, 0, 1, 1, 1, 1, 1, 1, 2, 4, 2, 1, 1, 1, 1, 1, 1, 2, 4, 2, 1, 1, 1, 1, 1, 1, 2, 4], [0, 0, 0, 0, 0, 2, 2, 1, 1, 2, 1, 1, 5, 1, 1, 2, 1, 1, 2, 1, 1, 5, 1, 1, 2, 1, 1, 2, 1, 1], [0, 0, 0, 0, 0, 1, 1, 1, 1, 1, 1, 1, 2, 4, 2, 1, 1, 1, 1, 1, 1, 2, 4, 2, 1, 1, 1, 1, 1, 1], [0, 0, 0, 0, 0, 0, 1, 2, 2, 1, 1, 2, 1, 1, 5, 1, 1, 2, 1, 1, 2, 1, 1, 5, 1, 1, 2, 1, 1, 2], [0, 0, 0, 0, 0, 0, 1, 1, 1, 1, 1, 1, 1, 1, 2, 4, 2, 1, 1, 1, 1, 1, 1, 2, 4, 2, 1, 1, 1, 1], [0, 0, 0, 0, 0, 0, 0, 1, 1, 2, 2, 1, 1, 2, 1, 1, 5, 1, 1, 2, 1, 1, 2, 1, 1, 5, 1, 1, 2, 1], [0, 0, 0, 0, 0, 0, 0, 1, 1, 1, 1, 1, 1, 1, 1, 1, 2, 4, 2, 1, 1, 1, 1, 1, 1, 2, 4, 2, 1, 1], [0, 0, 0, 0, 0, 0, 0, 0, 1, 1, 1, 2, 2, 1, 1, 2, 1, 1, 5, 1, 1, 2, 1, 1, 2, 1, 1, 5, 1, 1], [0, 0, 0, 0, 0, 0, 0, 0, 1, 1, 1, 1, 1, 1, 1, 1, 1, 1, 2, 4, 2, 1, 1, 1, 1, 1, 1, 2, 4, 2], [0, 0, 0, 0, 0, 0, 0, 0, 0, 1, 1, 1, 1, 2, 2, 1, 1, 2, 1, 1, 5, 1, 1, 2, 1, 1, 2, 1, 1, 5], [0, 0, 0, 0, 0, 0, 0, 0, 0, 1, 1, 1, 1, 1, 1, 1, 1, 1, 1, 1, 2, 4, 2, 1, 1, 1, 1, 1, 1, 2], [0, 0, 0, 0, 0, 0, 0, 0, 0, 0, 2, 1, 1, 1, 1, 2, 2, 1, 1, 2, 1, 1, 5, 1, 1, 2, 1, 1, 2, 1], [0, 0, 0, 0, 0, 0, 0, 0, 0, 0, 9, 1, 1, 1, 1, 1, 1, 1, 1, 1, 1, 1, 2, 4, 2, 1, 1, 1, 1, 1], [0, 0, 0, 0, 0, 0, 0, 0, 0, 0, 0, 8, 2, 1, 1, 1, 1, 2, 2, 1, 1, 2, 1, 1, 5, 1, 1, 2, 1, 1], [0, 0, 0, 0, 0, 0, 0, 0, 0, 0, 0, 1, 9, 1, 1, 1, 1, 1, 1, 1, 1, 1, 1, 1, 2, 4, 2, 1, 1, 1], [0, 0, 0, 0, 0, 0, 0, 0, 0, 0, 0, 0, 2, 8, 2, 1, 1, 1, 1, 2, 2, 1, 1, 2, 1, 1, 5, 1, 1, 2], [0, 0, 0, 0, 0, 0, 0, 0, 0, 0, 0, 0, 1, 1, 9, 1, 1, 1, 1, 1, 1, 1, 1, 1, 1, 1, 2, 4, 2, 1], [0, 0, 0, 0, 0, 0, 0, 0, 0, 0, 0, 0, 0, 1, 2, 8, 2, 1, 1, 1, 1, 2, 2, 1, 1, 2, 1, 1, 5, 1], [0, 0, 0, 0, 0, 0, 0, 0, 0, 0, 0, 0, 0, 1, 1, 1, 9, 1, 1, 1, 1, 1, 1, 1, 1, 1, 1, 1, 2, 4]]}],                        {\"coloraxis\": {\"cmax\": 9, \"cmin\": 0, \"colorscale\": [[0.0, \"#0d0887\"], [0.1111111111111111, \"#46039f\"], [0.2222222222222222, \"#7201a8\"], [0.3333333333333333, \"#9c179e\"], [0.4444444444444444, \"#bd3786\"], [0.5555555555555556, \"#d8576b\"], [0.6666666666666666, \"#ed7953\"], [0.7777777777777778, \"#fb9f3a\"], [0.8888888888888888, \"#fdca26\"], [1.0, \"#f0f921\"]]}, \"template\": {\"data\": {\"bar\": [{\"error_x\": {\"color\": \"#2a3f5f\"}, \"error_y\": {\"color\": \"#2a3f5f\"}, \"marker\": {\"line\": {\"color\": \"#E5ECF6\", \"width\": 0.5}}, \"type\": \"bar\"}], \"barpolar\": [{\"marker\": {\"line\": {\"color\": \"#E5ECF6\", \"width\": 0.5}}, \"type\": \"barpolar\"}], \"carpet\": [{\"aaxis\": {\"endlinecolor\": \"#2a3f5f\", \"gridcolor\": \"white\", \"linecolor\": \"white\", \"minorgridcolor\": \"white\", \"startlinecolor\": \"#2a3f5f\"}, \"baxis\": {\"endlinecolor\": \"#2a3f5f\", \"gridcolor\": \"white\", \"linecolor\": \"white\", \"minorgridcolor\": \"white\", \"startlinecolor\": \"#2a3f5f\"}, \"type\": \"carpet\"}], \"choropleth\": [{\"colorbar\": {\"outlinewidth\": 0, \"ticks\": \"\"}, \"type\": \"choropleth\"}], \"contour\": [{\"colorbar\": {\"outlinewidth\": 0, \"ticks\": \"\"}, \"colorscale\": [[0.0, \"#0d0887\"], [0.1111111111111111, \"#46039f\"], [0.2222222222222222, \"#7201a8\"], [0.3333333333333333, \"#9c179e\"], [0.4444444444444444, \"#bd3786\"], [0.5555555555555556, \"#d8576b\"], [0.6666666666666666, \"#ed7953\"], [0.7777777777777778, \"#fb9f3a\"], [0.8888888888888888, \"#fdca26\"], [1.0, \"#f0f921\"]], \"type\": \"contour\"}], \"contourcarpet\": [{\"colorbar\": {\"outlinewidth\": 0, \"ticks\": \"\"}, \"type\": \"contourcarpet\"}], \"heatmap\": [{\"colorbar\": {\"outlinewidth\": 0, \"ticks\": \"\"}, \"colorscale\": [[0.0, \"#0d0887\"], [0.1111111111111111, \"#46039f\"], [0.2222222222222222, \"#7201a8\"], [0.3333333333333333, \"#9c179e\"], [0.4444444444444444, \"#bd3786\"], [0.5555555555555556, \"#d8576b\"], [0.6666666666666666, \"#ed7953\"], [0.7777777777777778, \"#fb9f3a\"], [0.8888888888888888, \"#fdca26\"], [1.0, \"#f0f921\"]], \"type\": \"heatmap\"}], \"heatmapgl\": [{\"colorbar\": {\"outlinewidth\": 0, \"ticks\": \"\"}, \"colorscale\": [[0.0, \"#0d0887\"], [0.1111111111111111, \"#46039f\"], [0.2222222222222222, \"#7201a8\"], [0.3333333333333333, \"#9c179e\"], [0.4444444444444444, \"#bd3786\"], [0.5555555555555556, \"#d8576b\"], [0.6666666666666666, \"#ed7953\"], [0.7777777777777778, \"#fb9f3a\"], [0.8888888888888888, \"#fdca26\"], [1.0, \"#f0f921\"]], \"type\": \"heatmapgl\"}], \"histogram\": [{\"marker\": {\"colorbar\": {\"outlinewidth\": 0, \"ticks\": \"\"}}, \"type\": \"histogram\"}], \"histogram2d\": [{\"colorbar\": {\"outlinewidth\": 0, \"ticks\": \"\"}, \"colorscale\": [[0.0, \"#0d0887\"], [0.1111111111111111, \"#46039f\"], [0.2222222222222222, \"#7201a8\"], [0.3333333333333333, \"#9c179e\"], [0.4444444444444444, \"#bd3786\"], [0.5555555555555556, \"#d8576b\"], [0.6666666666666666, \"#ed7953\"], [0.7777777777777778, \"#fb9f3a\"], [0.8888888888888888, \"#fdca26\"], [1.0, \"#f0f921\"]], \"type\": \"histogram2d\"}], \"histogram2dcontour\": [{\"colorbar\": {\"outlinewidth\": 0, \"ticks\": \"\"}, \"colorscale\": [[0.0, \"#0d0887\"], [0.1111111111111111, \"#46039f\"], [0.2222222222222222, \"#7201a8\"], [0.3333333333333333, \"#9c179e\"], [0.4444444444444444, \"#bd3786\"], [0.5555555555555556, \"#d8576b\"], [0.6666666666666666, \"#ed7953\"], [0.7777777777777778, \"#fb9f3a\"], [0.8888888888888888, \"#fdca26\"], [1.0, \"#f0f921\"]], \"type\": \"histogram2dcontour\"}], \"mesh3d\": [{\"colorbar\": {\"outlinewidth\": 0, \"ticks\": \"\"}, \"type\": \"mesh3d\"}], \"parcoords\": [{\"line\": {\"colorbar\": {\"outlinewidth\": 0, \"ticks\": \"\"}}, \"type\": \"parcoords\"}], \"pie\": [{\"automargin\": true, \"type\": \"pie\"}], \"scatter\": [{\"marker\": {\"colorbar\": {\"outlinewidth\": 0, \"ticks\": \"\"}}, \"type\": \"scatter\"}], \"scatter3d\": [{\"line\": {\"colorbar\": {\"outlinewidth\": 0, \"ticks\": \"\"}}, \"marker\": {\"colorbar\": {\"outlinewidth\": 0, \"ticks\": \"\"}}, \"type\": \"scatter3d\"}], \"scattercarpet\": [{\"marker\": {\"colorbar\": {\"outlinewidth\": 0, \"ticks\": \"\"}}, \"type\": \"scattercarpet\"}], \"scattergeo\": [{\"marker\": {\"colorbar\": {\"outlinewidth\": 0, \"ticks\": \"\"}}, \"type\": \"scattergeo\"}], \"scattergl\": [{\"marker\": {\"colorbar\": {\"outlinewidth\": 0, \"ticks\": \"\"}}, \"type\": \"scattergl\"}], \"scattermapbox\": [{\"marker\": {\"colorbar\": {\"outlinewidth\": 0, \"ticks\": \"\"}}, \"type\": \"scattermapbox\"}], \"scatterpolar\": [{\"marker\": {\"colorbar\": {\"outlinewidth\": 0, \"ticks\": \"\"}}, \"type\": \"scatterpolar\"}], \"scatterpolargl\": [{\"marker\": {\"colorbar\": {\"outlinewidth\": 0, \"ticks\": \"\"}}, \"type\": \"scatterpolargl\"}], \"scatterternary\": [{\"marker\": {\"colorbar\": {\"outlinewidth\": 0, \"ticks\": \"\"}}, \"type\": \"scatterternary\"}], \"surface\": [{\"colorbar\": {\"outlinewidth\": 0, \"ticks\": \"\"}, \"colorscale\": [[0.0, \"#0d0887\"], [0.1111111111111111, \"#46039f\"], [0.2222222222222222, \"#7201a8\"], [0.3333333333333333, \"#9c179e\"], [0.4444444444444444, \"#bd3786\"], [0.5555555555555556, \"#d8576b\"], [0.6666666666666666, \"#ed7953\"], [0.7777777777777778, \"#fb9f3a\"], [0.8888888888888888, \"#fdca26\"], [1.0, \"#f0f921\"]], \"type\": \"surface\"}], \"table\": [{\"cells\": {\"fill\": {\"color\": \"#EBF0F8\"}, \"line\": {\"color\": \"white\"}}, \"header\": {\"fill\": {\"color\": \"#C8D4E3\"}, \"line\": {\"color\": \"white\"}}, \"type\": \"table\"}]}, \"layout\": {\"annotationdefaults\": {\"arrowcolor\": \"#2a3f5f\", \"arrowhead\": 0, \"arrowwidth\": 1}, \"autotypenumbers\": \"strict\", \"coloraxis\": {\"colorbar\": {\"outlinewidth\": 0, \"ticks\": \"\"}}, \"colorscale\": {\"diverging\": [[0, \"#8e0152\"], [0.1, \"#c51b7d\"], [0.2, \"#de77ae\"], [0.3, \"#f1b6da\"], [0.4, \"#fde0ef\"], [0.5, \"#f7f7f7\"], [0.6, \"#e6f5d0\"], [0.7, \"#b8e186\"], [0.8, \"#7fbc41\"], [0.9, \"#4d9221\"], [1, \"#276419\"]], \"sequential\": [[0.0, \"#0d0887\"], [0.1111111111111111, \"#46039f\"], [0.2222222222222222, \"#7201a8\"], [0.3333333333333333, \"#9c179e\"], [0.4444444444444444, \"#bd3786\"], [0.5555555555555556, \"#d8576b\"], [0.6666666666666666, \"#ed7953\"], [0.7777777777777778, \"#fb9f3a\"], [0.8888888888888888, \"#fdca26\"], [1.0, \"#f0f921\"]], \"sequentialminus\": [[0.0, \"#0d0887\"], [0.1111111111111111, \"#46039f\"], [0.2222222222222222, \"#7201a8\"], [0.3333333333333333, \"#9c179e\"], [0.4444444444444444, \"#bd3786\"], [0.5555555555555556, \"#d8576b\"], [0.6666666666666666, \"#ed7953\"], [0.7777777777777778, \"#fb9f3a\"], [0.8888888888888888, \"#fdca26\"], [1.0, \"#f0f921\"]]}, \"colorway\": [\"#636efa\", \"#EF553B\", \"#00cc96\", \"#ab63fa\", \"#FFA15A\", \"#19d3f3\", \"#FF6692\", \"#B6E880\", \"#FF97FF\", \"#FECB52\"], \"font\": {\"color\": \"#2a3f5f\"}, \"geo\": {\"bgcolor\": \"white\", \"lakecolor\": \"white\", \"landcolor\": \"#E5ECF6\", \"showlakes\": true, \"showland\": true, \"subunitcolor\": \"white\"}, \"hoverlabel\": {\"align\": \"left\"}, \"hovermode\": \"closest\", \"mapbox\": {\"style\": \"light\"}, \"paper_bgcolor\": \"white\", \"plot_bgcolor\": \"#E5ECF6\", \"polar\": {\"angularaxis\": {\"gridcolor\": \"white\", \"linecolor\": \"white\", \"ticks\": \"\"}, \"bgcolor\": \"#E5ECF6\", \"radialaxis\": {\"gridcolor\": \"white\", \"linecolor\": \"white\", \"ticks\": \"\"}}, \"scene\": {\"xaxis\": {\"backgroundcolor\": \"#E5ECF6\", \"gridcolor\": \"white\", \"gridwidth\": 2, \"linecolor\": \"white\", \"showbackground\": true, \"ticks\": \"\", \"zerolinecolor\": \"white\"}, \"yaxis\": {\"backgroundcolor\": \"#E5ECF6\", \"gridcolor\": \"white\", \"gridwidth\": 2, \"linecolor\": \"white\", \"showbackground\": true, \"ticks\": \"\", \"zerolinecolor\": \"white\"}, \"zaxis\": {\"backgroundcolor\": \"#E5ECF6\", \"gridcolor\": \"white\", \"gridwidth\": 2, \"linecolor\": \"white\", \"showbackground\": true, \"ticks\": \"\", \"zerolinecolor\": \"white\"}}, \"shapedefaults\": {\"line\": {\"color\": \"#2a3f5f\"}}, \"ternary\": {\"aaxis\": {\"gridcolor\": \"white\", \"linecolor\": \"white\", \"ticks\": \"\"}, \"baxis\": {\"gridcolor\": \"white\", \"linecolor\": \"white\", \"ticks\": \"\"}, \"bgcolor\": \"#E5ECF6\", \"caxis\": {\"gridcolor\": \"white\", \"linecolor\": \"white\", \"ticks\": \"\"}}, \"title\": {\"x\": 0.05}, \"xaxis\": {\"automargin\": true, \"gridcolor\": \"white\", \"linecolor\": \"white\", \"ticks\": \"\", \"title\": {\"standoff\": 15}, \"zerolinecolor\": \"white\", \"zerolinewidth\": 2}, \"yaxis\": {\"automargin\": true, \"gridcolor\": \"white\", \"linecolor\": \"white\", \"ticks\": \"\", \"title\": {\"standoff\": 15}, \"zerolinecolor\": \"white\", \"zerolinewidth\": 2}}}, \"title\": {\"text\": \"T-L=5, B=2, L: horizontal, R: vertical\"}, \"xaxis\": {\"anchor\": \"y\", \"constrain\": \"domain\", \"domain\": [0.0, 1.0], \"scaleanchor\": \"y\"}, \"yaxis\": {\"anchor\": \"x\", \"autorange\": true, \"constrain\": \"domain\", \"domain\": [0.0, 1.0]}},                        {\"responsive\": true}                    ).then(function(){\n",
       "                            \n",
       "var gd = document.getElementById('a2ae1fbc-2929-48ea-a319-8ce856436f11');\n",
       "var x = new MutationObserver(function (mutations, observer) {{\n",
       "        var display = window.getComputedStyle(gd).display;\n",
       "        if (!display || display === 'none') {{\n",
       "            console.log([gd, 'removed!']);\n",
       "            Plotly.purge(gd);\n",
       "            observer.disconnect();\n",
       "        }}\n",
       "}});\n",
       "\n",
       "// Listen for the removal of the full notebook cells\n",
       "var notebookContainer = gd.closest('#notebook-container');\n",
       "if (notebookContainer) {{\n",
       "    x.observe(notebookContainer, {childList: true});\n",
       "}}\n",
       "\n",
       "// Listen for the clearing of the current output cell\n",
       "var outputEl = gd.closest('.output');\n",
       "if (outputEl) {{\n",
       "    x.observe(outputEl, {childList: true});\n",
       "}}\n",
       "\n",
       "                        })                };                });            </script>        </div>"
      ]
     },
     "metadata": {},
     "output_type": "display_data"
    }
   ],
   "source": [
    "e, b = 5, 2\n",
    "size = 30\n",
    "mtx = []\n",
    "df = pd.read_csv(f\"data/fix_T-L_B/T-L={e}_B={b}_100x100.csv\")\n",
    "dfv_trans = np.transpose(df.values)\n",
    "for r in range(size):\n",
    "    seq = []\n",
    "    s = 0  #b + r + b%2 - 1 #int((b+r)/2) -5 + 0*(b+r-e)%2  #\n",
    "    for i in range(size):\n",
    "        try:\n",
    "            seq += [dfv_trans[r][s + i]]\n",
    "        except:\n",
    "            seq += [0]\n",
    "    mtx += [seq]\n",
    "mtx = np.array(mtx)\n",
    "px.imshow(\n",
    "    mtx,\n",
    "    origin=\"lower\",\n",
    "    zmin=0,\n",
    "    title=f\"T-L={e}, B={b}, L: horizontal, R: vertical\",\n",
    ").show()\n",
    "# fig = px.imshow(mtx[:b, : 2 * e - 1], origin=\"lower\", zmin=0, aspect=\"equal\",)\n",
    "# fig.show()"
   ]
  },
  {
   "cell_type": "markdown",
   "id": "46111b4e-f0e4-4bf5-9d54-9423a19651d1",
   "metadata": {},
   "source": [
    "### Translation along B-axis"
   ]
  },
  {
   "cell_type": "code",
   "execution_count": null,
   "id": "9ed500f1-9ddb-46e4-991b-8529e66599f8",
   "metadata": {
    "ExecuteTime": {
     "end_time": "2021-05-28T05:09:37.293177Z",
     "start_time": "2021-05-28T05:09:32.767515Z"
    },
    "tags": []
   },
   "outputs": [],
   "source": [
    "d = 2 * r + 1\n",
    "# ---\n",
    "Row, Col = 4, 3\n",
    "fig = make_subplots(Row, Col, subplot_titles=[f\"s={s}\" for s in range(Row * Col)])\n",
    "# ---\n",
    "for i, j in itertools.product(range(Row), range(Col)):\n",
    "    s = i * Col + j\n",
    "    try:\n",
    "        mat = [tamed_matrix[s + n * d] for n in range(int(size / d) + 1)]\n",
    "        fig.append_trace(px.imshow(mat).data[0], i + 1, j + 1)\n",
    "    except:\n",
    "        pass\n",
    "# ---\n",
    "fig.update_layout(title=f\"T-L={e}, R={r}, d={d}\")\n",
    "fig.show()"
   ]
  },
  {
   "cell_type": "markdown",
   "id": "0fe0cf28-046a-4a15-bd93-05b86639537d",
   "metadata": {},
   "source": [
    "### Translation along L-axis"
   ]
  },
  {
   "cell_type": "code",
   "execution_count": null,
   "id": "2c040844-eecf-44eb-8cb5-dee97fe35394",
   "metadata": {
    "ExecuteTime": {
     "end_time": "2021-05-28T05:09:37.293177Z",
     "start_time": "2021-05-28T05:09:32.767515Z"
    },
    "tags": []
   },
   "outputs": [],
   "source": [
    "d = 2 * e - 1\n",
    "# ---\n",
    "Row, Col = 3, 3\n",
    "fig = make_subplots(Row, Col, subplot_titles=[f\"s={s}\" for s in range(Row * Col)])\n",
    "# ---\n",
    "for i, j in itertools.product(range(Row), range(Col)):\n",
    "    s = i * Col + j\n",
    "    mat = np.transpose(\n",
    "        np.stack([tamed_matrix[:, s + n * d] for n in range(int(size / d) - 5)], 0)\n",
    "    )\n",
    "    fig.append_trace(px.imshow(mat).data[0], i + 1, j + 1)\n",
    "# ---\n",
    "fig.update_layout(height=400 * Row, width=200 * Col, title=f\"T-L={e}, R={r}, d={d}\")\n",
    "fig.show()"
   ]
  },
  {
   "cell_type": "code",
   "execution_count": null,
   "id": "6cb835b1-624a-49ba-b2a0-658f62cc3d67",
   "metadata": {
    "tags": []
   },
   "outputs": [],
   "source": [
    "Row, Col = 6, 6\n",
    "fig = make_subplots(Row, Col)\n",
    "# ---\n",
    "for e, r in itertools.product(range(2, Row + 2), range(1, Col + 1)):\n",
    "    shift = max(0, e - r)\n",
    "    size = 20\n",
    "    tamed_matrix = []\n",
    "    df = pd.read_csv(f\"data/T-L_R_series/T-L={e}_R={r}_100x100.csv\")\n",
    "    for b in range(size):\n",
    "        seq = []\n",
    "        s = b + r\n",
    "        for i in range(size):\n",
    "            try:\n",
    "                seq += [df.values[b + shift][s + i]]\n",
    "            except:\n",
    "                seq += [0]\n",
    "        tamed_matrix += [seq]\n",
    "    tv = [2 * r + 1, 2 * e - 1]\n",
    "    fig.append_trace(px.imshow(tamed_matrix).data[0], e - 1, r)\n",
    "# ---\n",
    "fig.update_layout(\n",
    "    height=200 * Row,\n",
    "    width=200 * Col,\n",
    "    title=f\"Number of Components Maps: [Rows: 2 <= e <={Row+1}, Cols: 1 <= r <= {Col}\",\n",
    ")\n",
    "fig.show()"
   ]
  },
  {
   "cell_type": "code",
   "execution_count": null,
   "id": "93687965-2f60-44da-ab99-c864cce2fac2",
   "metadata": {
    "tags": []
   },
   "outputs": [],
   "source": [
    "Row, Col = 6, 6\n",
    "box_size = 20  # max(2*Col+1, 2*Row-1)\n",
    "fig = make_subplots(Row, Col)\n",
    "# ---\n",
    "for e, r in itertools.product(range(2, Row + 2), range(1, Col + 1)):\n",
    "    funda_area = np.zeros((box_size, box_size), dtype=int)\n",
    "    shift = max(0, e - r)\n",
    "    size = 20\n",
    "    tamed_matrix = []\n",
    "    df = pd.read_csv(f\"data/T-L_R_series/T-L={e}_R={r}_100x100.csv\")\n",
    "    for b in range(size):\n",
    "        seq = []\n",
    "        s = b + r\n",
    "        for i in range(size):\n",
    "            try:\n",
    "                seq += [df.values[b + shift - 1][s + i]]\n",
    "            except:\n",
    "                seq += [0]\n",
    "        tamed_matrix += [seq]\n",
    "    tv = [2 * r + 1, 2 * e - 1]\n",
    "    for i, j in itertools.product(range(box_size), range(box_size)):\n",
    "        try:\n",
    "            funda_area[i][j] = np.array(tamed_matrix)[1 : tv[0] + 1, : tv[1]][i][j]\n",
    "        except:\n",
    "            pass\n",
    "    hm = px.imshow(funda_area, aspect=\"equal\")\n",
    "    fig.append_trace(hm.data[0], e - 1, r)\n",
    "#     fig.append_trace(px.imshow(tamed_matrix).data[0], e-1, r)\n",
    "# ---\n",
    "fig.update_layout(\n",
    "    height=210 * Row,\n",
    "    width=200 * Col,\n",
    "    title=f\"Fundarmental Areas: [Rows: 2 <= e <={Row+1}, Cols: 1 <= r <= {Col}\",\n",
    ")\n",
    "# ---\n",
    "fig.show()"
   ]
  },
  {
   "cell_type": "markdown",
   "id": "3af6af93-17cb-4bd7-a409-e100474116b1",
   "metadata": {},
   "source": [
    "## Not tamed"
   ]
  },
  {
   "cell_type": "code",
   "execution_count": null,
   "id": "cdf22cf3-86a3-48fd-819b-cb931fd52912",
   "metadata": {
    "tags": []
   },
   "outputs": [],
   "source": [
    "e, r = 5, 2\n",
    "shift = max(0, e - r)\n",
    "size = 100\n",
    "df = pd.read_csv(f\"data/fix_T-L_B/T-L={e}_B={b}_100x100.csv\")\n",
    "px.imshow(df.values[:size, :size], origin=\"lower\").show()\n",
    "#---\n",
    "mtx1 = []\n",
    "for r in range(size):\n",
    "    seq = []\n",
    "    for i in range(size):\n",
    "        try:\n",
    "            seq += [df.values[r][i] - df.values[r + b][i + b]]\n",
    "        except:\n",
    "            seq += [0]\n",
    "    mtx1 += [seq]\n",
    "px.imshow(mtx1, origin=\"lower\", title=\"(b,b)-trans\").show()\n",
    "#---\n",
    "mtx2 = []\n",
    "for r in range(size):\n",
    "    seq = []\n",
    "    for i in range(size):\n",
    "        try:\n",
    "            seq += [df.values[r][i] - df.values[r + 2 *e-1][i]]\n",
    "        except:\n",
    "            seq += [0]\n",
    "    mtx2 += [seq]\n",
    "px.imshow(mtx2, origin=\"lower\", title=\"(2e-1,0)-trans\").show()"
   ]
  },
  {
   "cell_type": "markdown",
   "id": "f2b0f7db-9627-4917-ba2d-7de41fbb842b",
   "metadata": {},
   "source": [
    "## Reducing procedure"
   ]
  },
  {
   "cell_type": "markdown",
   "id": "a03acb60-db8b-42ac-9088-8700323dfe93",
   "metadata": {},
   "source": [
    "### Translation along L (and T)"
   ]
  },
  {
   "cell_type": "code",
   "execution_count": null,
   "id": "3aed3356-fe3b-43d4-b311-2a06d173aa7e",
   "metadata": {
    "tags": []
   },
   "outputs": [],
   "source": [
    "N = 50\n",
    "b, r = ri(1, N), ri(1, N)\n",
    "l = (b + r) + ri(N)\n",
    "t = l + ri(b + r + 1)\n",
    "# ---\n",
    "\n",
    "c = (t, l, b, r)\n",
    "sqr = Square(c)\n",
    "print(c, cc(sqr))\n",
    "print(f\"T+L={c[0]+c[1]}, B+R={c[2]+c[3]}, L-(B+R)={c[1]-c[2]-c[3]}\")\n",
    "e = c[0] - c[1]\n",
    "r = c[3]\n",
    "ed, rd = 2 * e - 1, 2 * r + 1\n",
    "print(f\"e={e}, ed={ed}, rd={rd}\")"
   ]
  },
  {
   "cell_type": "code",
   "execution_count": null,
   "id": "043fbbeb-d203-4021-9747-f612e9c876de",
   "metadata": {
    "tags": []
   },
   "outputs": [],
   "source": [
    "cn = list(c)\n",
    "cn[0] -= ed\n",
    "cn[1] -= ed\n",
    "cn = tuple(cn)\n",
    "\n",
    "sqrn = Square(cn)\n",
    "print(cn, cc(sqrn))\n",
    "print(f\"T+L={cn[0]+cn[1]}, B+R={cn[2]+cn[3]}, L-(B+R)={cn[1]-cn[2]-cn[3]}\")"
   ]
  },
  {
   "cell_type": "code",
   "execution_count": null,
   "id": "9af0308e-d2e5-4b9e-b07e-186b646a2762",
   "metadata": {},
   "outputs": [],
   "source": [
    "N = 50\n",
    "count = 0\n",
    "for itr in tqdm(range(100)):\n",
    "    b, r = ri(N), ri(N)\n",
    "    l = (b + r) + ri(N)\n",
    "    e = ri(b + r + 1)\n",
    "    # ---\n",
    "    c = (l + e, l, b, r)\n",
    "    sqr = Square(c)\n",
    "    # ---\n",
    "    ed, rd = 2 * e - 1, 2 * r + 1\n",
    "    cn = list(c)\n",
    "    cn[0] += ed\n",
    "    cn[1] += ed\n",
    "    cn = tuple(cn)\n",
    "    flag = True\n",
    "    try:\n",
    "        sqrn = Square(cn)\n",
    "    except:\n",
    "        #         print(c,ed)\n",
    "        flag = False\n",
    "    # ---\n",
    "    if flag:\n",
    "        n, nn = cc(sqr), cc(sqrn)\n",
    "        delta = cn[1] - cn[2] - cn[3]\n",
    "        if n != nn:\n",
    "            print(f\"[{c},{n}],[{cn},{nn}],ed={ed}, L-(B+R)={delta}\")\n",
    "            if delta < 0:\n",
    "                coutn += 1\n",
    "print(count)"
   ]
  },
  {
   "cell_type": "markdown",
   "id": "20df9f08-6169-4dab-acac-8dd8bb4f185d",
   "metadata": {},
   "source": [
    " $|T,L, B, R|=|T+ed,L+ed, B, R|$ が $L-(B+R) \\geq 0$ のときに成立すること。"
   ]
  },
  {
   "cell_type": "code",
   "execution_count": null,
   "id": "437c7ff3-2eea-446a-b0f9-83fda1e4eb4b",
   "metadata": {
    "tags": []
   },
   "outputs": [],
   "source": [
    "N = 100\n",
    "iteration_count = 200\n",
    "count = 0\n",
    "for itr in tqdm(range(iteration_count)):\n",
    "    sqr = square_random_generator(N)\n",
    "    c = sqr.code\n",
    "    ed = abs(2 * (c[0] - c[1]) - 1)\n",
    "    rd = 2 * c[3] + 1\n",
    "    # ---\n",
    "    cn = list(c)\n",
    "    cn[0] += ed\n",
    "    cn[1] += ed\n",
    "    cn[2] += 0\n",
    "    cn = tuple(cn)\n",
    "    flag = True\n",
    "    try:\n",
    "        sqrn = Square(cn)\n",
    "    except:\n",
    "        print(c, ed)\n",
    "        flag = False\n",
    "    # ---\n",
    "    if flag:\n",
    "        n, nn = cc(sqr), cc(sqrn)\n",
    "        delta = c[1] - (c[2] + c[3])\n",
    "        deltat = c[0] - (c[2] + c[3])\n",
    "        if n != nn:\n",
    "            print(f\"({n},{nn}), ({c},{cn}),ed={ed}, L-(B+R)={delta}, T-(B+R)={deltat}\")\n",
    "            count += 1\n",
    "print(count)"
   ]
  },
  {
   "cell_type": "markdown",
   "id": "9814ecb2-8e81-44be-bad7-d2a2ced0ad67",
   "metadata": {},
   "source": [
    "$|T,L, B, R|=|T+ed,L+ed, B, R|$ が $T-(B+R)$ の正負に依らないこと"
   ]
  },
  {
   "cell_type": "code",
   "execution_count": null,
   "id": "f04a9bcb-4a08-495e-9dbd-58090379a4ad",
   "metadata": {
    "tags": []
   },
   "outputs": [],
   "source": [
    "N = 50\n",
    "pos, neg, err = 0, 0, 0\n",
    "for itr in tqdm(range(500)):\n",
    "    b, r, e = ri(N), ri(N), ri(10)\n",
    "    l = b + r + ri(N)\n",
    "    t = ri(l - (b + r), N)\n",
    "    # ---\n",
    "    c = (t, l, b, r)\n",
    "    ed = abs(2 * (c[0] - c[1]) - 1)\n",
    "    delta = l - (b + r)\n",
    "    deltat = t - (b + r)\n",
    "    if delta < 0:\n",
    "        print(\"Oops\")\n",
    "\n",
    "    try:\n",
    "        s = Square(c)\n",
    "        cn = (t + ed, l + ed, b, r)\n",
    "        sn = Square(cn)\n",
    "        n, nn = cc(s), cc(sn)\n",
    "        if deltat > 0:\n",
    "            pos += 1\n",
    "        else:\n",
    "            neg += 1\n",
    "        if not (n == nn):\n",
    "            print(n, nn, delta, deltat)\n",
    "    except Exception as e:\n",
    "        err += 1\n",
    "#         print(f\"{c},{e}\\n\")\n",
    "print(f\"pos={pos},neg={neg}, err={err}\")"
   ]
  },
  {
   "cell_type": "markdown",
   "id": "e84491e0-b4d3-45dd-ab04-ffad5c8f2cc6",
   "metadata": {},
   "source": [
    "### Translation along B"
   ]
  },
  {
   "cell_type": "code",
   "execution_count": null,
   "id": "87a611df-0ada-463d-b4fe-b30bb8c0d5b9",
   "metadata": {},
   "outputs": [],
   "source": [
    "N = 50\n",
    "# ---\n",
    "c = (t, l, b, r)\n",
    "sqr = square_random_generator(N)\n",
    "c = sqr.code\n",
    "t, b, r, l = c[0], c[1], c[2], c[3]\n",
    "e = t - l\n",
    "print(c, cc(sqr))\n",
    "print(f\"T-L={c[0]-c[1]}, L-(B+R)={c[1]-c[2]-c[3]}\")\n",
    "e = c[0] - c[1]\n",
    "r = c[3]\n",
    "ed, rd = abs(2 * e - 1), 2 * r + 1\n",
    "print(f\"e={e}, ed={ed}, rd={rd} \\n\")\n",
    "# ---\n",
    "\n",
    "cn = list(c)\n",
    "cn[0] += rd  # + ed\n",
    "cn[1] += rd  # + ed\n",
    "cn[2] += rd\n",
    "cn = tuple(cn)\n",
    "\n",
    "sqrn = Square(cn)\n",
    "print(cn, cc(sqrn))\n",
    "print(f\"T+L={cn[0]+cn[1]}, B+R={cn[2]+cn[3]}, L-(B+R)={cn[1]-cn[2]-cn[3]}\")"
   ]
  },
  {
   "cell_type": "code",
   "execution_count": null,
   "id": "eb214c3f-88a8-47dc-beb4-5e0c82317f9e",
   "metadata": {
    "tags": []
   },
   "outputs": [],
   "source": [
    "N = 50\n",
    "iteration_count = 200\n",
    "count = 0\n",
    "for itr in tqdm(range(iteration_count)):\n",
    "    sqr = square_random_generator(N)  # , True)\n",
    "    # ---\n",
    "    c = sqr.code\n",
    "    rd = 2 * c[3] + 1\n",
    "    cn = [c[0] + rd, c[1] + rd, c[2] + rd, c[3]]\n",
    "    # ---\n",
    "    try:\n",
    "        sqrn = Square(cn)\n",
    "        n, nn = cc(sqr), cc(sqrn)\n",
    "        if n != nn:\n",
    "            print(f\"({n},{nn}), ({c},{cn})\")\n",
    "            count += 1\n",
    "    except:\n",
    "        print(c, rd)\n",
    "# ---\n",
    "print(count)"
   ]
  },
  {
   "cell_type": "markdown",
   "id": "5369c5d3-1d93-414d-98fc-95a734f22178",
   "metadata": {},
   "source": [
    "## Point refrection"
   ]
  },
  {
   "cell_type": "code",
   "execution_count": null,
   "id": "d2a246cc-982c-4f31-b7b4-d6acba3aa39b",
   "metadata": {
    "tags": []
   },
   "outputs": [],
   "source": [
    "e, r = 9, 16\n",
    "shift = max(0, e - r)\n",
    "size = 50\n",
    "tamed_matrix = []\n",
    "df = pd.read_csv(f\"data/T-L_R_series/T-L={e}_R={r}_100x100.csv\")\n",
    "for b in range(size):\n",
    "    seq = []\n",
    "    s = b + r\n",
    "    for i in range(size):\n",
    "        try:\n",
    "            seq += [df.values[b][s + i]]\n",
    "        except:\n",
    "            seq += [0]\n",
    "    tamed_matrix += [seq]\n",
    "tamed_matrix = np.array(tamed_matrix)\n",
    "# px.imshow(tamed_matrix, origin='lower').show()\n",
    "# ---\n",
    "funda_matrix = tamed_matrix[shift : (shift + 2 * r + 1), : 2 * e - 1]\n",
    "px.imshow(funda_matrix, origin=\"lower\", zmin=0, aspect=\"equal\").show()\n",
    "\n",
    "pr_matrix = np.zeros((2 * r + 1, 2 * e - 1), dtype=int)\n",
    "for i, j in itertools.product(range(2 * r + 1), range(2 * e - 1)):\n",
    "    pr_matrix[i][j] = tamed_matrix[2 * r + 1 - i][2 * e - 1 - j]\n",
    "px.imshow(pr_matrix, origin=\"lower\", zmin=0, aspect=\"equal\").show()\n",
    "px.imshow(funda_matrix - pr_matrix, origin=\"lower\", zmin=0, aspect=\"equal\").show()"
   ]
  }
 ],
 "metadata": {
  "kernelspec": {
   "display_name": "Python 3",
   "language": "python",
   "name": "python3"
  },
  "language_info": {
   "codemirror_mode": {
    "name": "ipython",
    "version": 3
   },
   "file_extension": ".py",
   "mimetype": "text/x-python",
   "name": "python",
   "nbconvert_exporter": "python",
   "pygments_lexer": "ipython3",
   "version": "3.6.13"
  }
 },
 "nbformat": 4,
 "nbformat_minor": 5
}
