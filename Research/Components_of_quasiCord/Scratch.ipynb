{
 "cells": [
  {
   "cell_type": "markdown",
   "id": "a4a68d15-98e0-4a0a-bcfe-db4589b31f0b",
   "metadata": {},
   "source": [
    "# Scratch"
   ]
  },
  {
   "cell_type": "markdown",
   "id": "b981b7d4-c250-4f28-afb5-4494fdc73dbc",
   "metadata": {},
   "source": [
    "## Modules"
   ]
  },
  {
   "cell_type": "code",
   "execution_count": 1,
   "id": "3a10f3c9-f3ea-471b-9a3a-1af2a6865c36",
   "metadata": {
    "ExecuteTime": {
     "end_time": "2021-05-28T05:09:25.860503Z",
     "start_time": "2021-05-28T05:09:25.275687Z"
    },
    "tags": []
   },
   "outputs": [],
   "source": [
    "import numpy as np\n",
    "import Permutations as pm\n",
    "import sympy\n",
    "from numpy.random import randint as ri\n",
    "from QuasiCord import *\n",
    "\n",
    "sympy.init_printing()\n",
    "\n",
    "import itertools\n",
    "\n",
    "import pandas as pd\n",
    "import plotly.express as px\n",
    "from plotly.subplots import make_subplots\n",
    "from tqdm.notebook import tqdm"
   ]
  },
  {
   "cell_type": "code",
   "execution_count": 16,
   "id": "95abff3c-3d0b-4bf1-ac0e-b18bc2b4a092",
   "metadata": {},
   "outputs": [
    {
     "name": "stdout",
     "output_type": "stream",
     "text": [
      "(5, 8, 2, 8) <class 'QuasiCord.Code'>\n",
      "(5, 8, 2, 8)\n",
      "(5, 8, 2, 8)\n",
      "(5, 8, 2, 8)\n",
      "(5, 8, 2, 8)\n",
      "(5, 8, 2, 8)\n"
     ]
    }
   ],
   "source": [
    "sqr_org = square_random_generator(10)\n",
    "c = sqr_org.code\n",
    "print(c, type(c))\n",
    "\n",
    "sqr = Square(c)\n",
    "print(sqr.code)\n",
    "M = sqr.matrix()\n",
    "print(sqr.code)\n",
    "GM = sqr.grid_diagram()\n",
    "print(sqr.code)\n",
    "p = sqr.permutation()\n",
    "print(sqr.code)\n",
    "n = cc(sqr)\n",
    "print(sqr.code)"
   ]
  },
  {
   "cell_type": "markdown",
   "id": "a2ad57e1-2ec1-45eb-9750-402e0a561c4a",
   "metadata": {},
   "source": [
    "## Translation on the area of $L < B+R - e$ "
   ]
  },
  {
   "cell_type": "markdown",
   "id": "3e09cb8a-76ce-40de-b8de-695fa30a12d3",
   "metadata": {},
   "source": [
    "$L < B+R-e  \n",
    "\\Leftrightarrow L < B+R - (T-L) \n",
    "\\Leftrightarrow 0 < B+R - T\n",
    "\\Leftrightarrow T < B+R$"
   ]
  },
  {
   "cell_type": "code",
   "execution_count": null,
   "id": "d6d00c2a-69d1-414e-ae64-385ecc3d9570",
   "metadata": {
    "tags": []
   },
   "outputs": [],
   "source": [
    "N = 10\n",
    "iteration_count = 200\n",
    "count, error = 0, 0\n",
    "for itr in tqdm(range(iteration_count)):\n",
    "    sqr = square_random_generator(N)  # , True)\n",
    "    # ---\n",
    "    c = sqr.code\n",
    "    e = c[0] - c[1]\n",
    "    # ------\n",
    "    alpha = abs(4 * c[3] - 2 * e + 3)  # alpha=|4r-2e+3|\n",
    "    # ------\n",
    "    cn = tuple([c[0] + alpha, c[1] + alpha, c[2] + 2 * alpha, c[3]])\n",
    "    # ---\n",
    "    if c[0] < c[2] + c[3]:  # c[1] < c[2] + c[3] - e:\n",
    "        try:\n",
    "            sqrn = Square(cn)\n",
    "            n, nn = cc(sqr), cc(sqrn)\n",
    "            if n != nn:\n",
    "                print(\n",
    "                    f\"(B+int((R-e)/2))-L={(c[2]+int((c[3]-e)/2))-c[1]}, e={e}, r={c[3]}, alpha={alpha},  ({n},{nn}), ({c},{cn})\"\n",
    "                )\n",
    "                count += 1\n",
    "        except:\n",
    "            print(c, e, alpha)\n",
    "    else:\n",
    "        error += 1\n",
    "# ---\n",
    "print(f\"{count}/{iteration_count-error}\")"
   ]
  },
  {
   "cell_type": "code",
   "execution_count": null,
   "id": "b337cbbc-b818-4841-a909-b79345fde5b6",
   "metadata": {
    "tags": []
   },
   "outputs": [],
   "source": [
    "N = 20\n",
    "iteration_count = 200\n",
    "count, error = 0, 0\n",
    "for itr in tqdm(range(iteration_count)):\n",
    "    sqr = square_random_generator(N)  # , True)\n",
    "    # ---\n",
    "    c = sqr.code\n",
    "    e = c[0] - c[1]\n",
    "    # ------\n",
    "    eps = abs(4 * c[2] + 2 * e - 1)  # epsilon = |4b+2e-1|\n",
    "    # ------\n",
    "    cn = tuple([c[0] + eps, c[1] + eps, c[2], c[3] + 2 * eps])\n",
    "    # ---\n",
    "    if c[0] < c[2] + c[3]:\n",
    "        try:\n",
    "            sqrn = Square(cn)\n",
    "            n, nn = cc(sqr), cc(sqrn)\n",
    "            if not n == nn:\n",
    "                print(\n",
    "                    f\"(B+R-e)-L={(c[2]+c[3]-e)-c[1]}, e={e}, eps={eps}, ({n},{nn}), ({c},{cn})\"\n",
    "                )\n",
    "                count += 1\n",
    "        except:\n",
    "            print(c, e, eps)\n",
    "    else:\n",
    "        error += 1\n",
    "# ---\n",
    "print(f\"{count}/{iteration_count-error}\")"
   ]
  },
  {
   "cell_type": "markdown",
   "id": "cb2feb1c-c006-4795-b24c-5a816dc1ae49",
   "metadata": {},
   "source": [
    "## $|L, L, L-R, R| = |L+1, L, L-R, R| = |L+R+1, L, 1, R|$"
   ]
  },
  {
   "cell_type": "code",
   "execution_count": null,
   "id": "c6e9514b-e522-4514-a8d8-fd62b7466e7f",
   "metadata": {},
   "outputs": [],
   "source": [
    "N = 20\n",
    "for itr in tqdm(range(N * 10)):\n",
    "    r = np.random.randint(1, N)\n",
    "    l = r + np.random.randint(1, N)\n",
    "    b = np.random.randint(1, (2 * l + 1) + 1)\n",
    "\n",
    "    sqrs = [\n",
    "        Square([l, l, l - r, r]),\n",
    "        Square([l + 1, l, l - r, r]),\n",
    "        Square([l + r + 1, l, 1, r]),\n",
    "        Square([l + r + 1, l, b, r]),\n",
    "    ]\n",
    "    nums = [cc(sqr) for sqr in sqrs]\n",
    "    if len(list(set(nums))) != 1:\n",
    "        print([sqr.code for sqr in sqrs], [n for n in nums])"
   ]
  },
  {
   "cell_type": "code",
   "execution_count": null,
   "id": "3454b0f0-e425-477c-9b13-24aac58c19ee",
   "metadata": {
    "tags": []
   },
   "outputs": [],
   "source": [
    "r = ri(10)\n",
    "t = r + ri(10)\n",
    "sqrs = [Square([t, t, t - r, r]), Square([t + 1, t, t - r, r])]\n",
    "print([cc(sqr) for sqr in sqrs])\n",
    "for sqr in sqrs:\n",
    "    sqr.graphic().show()"
   ]
  },
  {
   "cell_type": "code",
   "execution_count": null,
   "id": "9fec78f3-e83a-4efd-b1b3-5e0d3255a095",
   "metadata": {
    "tags": []
   },
   "outputs": [],
   "source": [
    "N = 20\n",
    "for itr in range(100):\n",
    "    b, r, t = ri(N), ri(N), ri(N)\n",
    "    try:\n",
    "        sqrs = [Square([t, t, b, r]), Square([t + 1, t, b, r])]\n",
    "        nums = [cc(sqr) for sqr in sqrs]\n",
    "        if len(set(nums)) != 1:\n",
    "            print(t - (b + r), nums)\n",
    "    #         for sqr in sqrs:\n",
    "    #             sqr.graphic().show()\n",
    "    except:\n",
    "        pass"
   ]
  },
  {
   "cell_type": "code",
   "execution_count": null,
   "id": "c9335b12-ce4b-4b30-83c7-f24a1a2345fd",
   "metadata": {
    "tags": []
   },
   "outputs": [],
   "source": [
    "r = ri(1, 10)\n",
    "t = r + ri(10)\n",
    "sqrs = [\n",
    "    Square([t, t, t - r, r]),\n",
    "    Square([t + r + 1, t, t - r, r]),\n",
    "    Square([t + r + 1, t, 1, r]),\n",
    "]\n",
    "print([cc(sqr) for sqr in sqrs])\n",
    "for sqr in sqrs:\n",
    "    sqr.graphic().show()"
   ]
  },
  {
   "cell_type": "code",
   "execution_count": null,
   "id": "b1529bd9-f687-439f-a688-0ab7e68dca9f",
   "metadata": {
    "tags": []
   },
   "outputs": [],
   "source": [
    "N = 50\n",
    "b, r = ri(1, N), ri(1, N)\n",
    "print(b, r)\n",
    "# ---\n",
    "seq = []\n",
    "for t in range(2 * (b + r) + 1 + 1):\n",
    "    try:\n",
    "        sqr = Square([t, b + r, b, r])\n",
    "        num = cc(sqr)\n",
    "        if len(seq) > 0 and num != seq[-1]:\n",
    "            print(seq[-1], num)\n",
    "            sqr.graphic().show()\n",
    "    except:\n",
    "        num = 0\n",
    "    seq += [num]\n",
    "print(seq)"
   ]
  },
  {
   "cell_type": "code",
   "execution_count": null,
   "id": "3c684aab-8b54-4f5b-ac4e-58346d107cd7",
   "metadata": {
    "tags": []
   },
   "outputs": [],
   "source": [
    "b, r = ri(1, 10), ri(1, 10)\n",
    "print(b, r)\n",
    "seq = []\n",
    "for t in range(1, 100):\n",
    "    try:\n",
    "        num = cc(Square([b + r + t, b + r + t, b, r]))\n",
    "    except:\n",
    "        num = 0\n",
    "    seq += [num]\n",
    "print(seq)"
   ]
  },
  {
   "cell_type": "code",
   "execution_count": null,
   "id": "df41367a-8755-494b-b9e5-43cec9cffe71",
   "metadata": {},
   "outputs": [],
   "source": [
    "N = 5\n",
    "r, b = ri(N), ri(N)\n",
    "t = r + ri(N)\n",
    "\n",
    "sqrs = [Square([t + r + 1, t, b, r]), Square([t + r + 1, t, 1, r])]\n",
    "print([cc(sqr) for sqr in sqrs])\n",
    "for sqr in sqrs:\n",
    "    sqr.graphic().show()"
   ]
  },
  {
   "cell_type": "code",
   "execution_count": null,
   "id": "1316a3c5-141a-43fe-b4e0-01f87253837a",
   "metadata": {},
   "outputs": [],
   "source": [
    "N = 20\n",
    "for itr in tqdm(range(N * 10)):\n",
    "    b, r = ri(N), ri(N)\n",
    "    t = (b + r) + ri(N)\n",
    "\n",
    "    try:\n",
    "        sqrs = [\n",
    "            Square([t, t, b, r]),\n",
    "            Square([t + 1, t, b, r]),\n",
    "            Square([t, t, b, r]),\n",
    "            Square([0, b + r, b, r]),\n",
    "            Square([b + 2 * r + 1, b + r, 0, r]),\n",
    "        ]\n",
    "        nums = [cc(sqr) for sqr in sqrs]\n",
    "        if len(list(set(nums))) != 1:\n",
    "            print([sqr.code for sqr in sqrs], [n for n in nums])\n",
    "    except:\n",
    "        print(f\"\\n-----\\n({t},{t},{b},{r})\")"
   ]
  },
  {
   "cell_type": "markdown",
   "id": "50f6bcf3-7e05-41ad-a80e-161393ee3bb3",
   "metadata": {},
   "source": [
    "## Fixing B,R"
   ]
  },
  {
   "cell_type": "code",
   "execution_count": null,
   "id": "212d4ddf-a696-4e44-b5a1-57c640e99a20",
   "metadata": {
    "tags": []
   },
   "outputs": [],
   "source": [
    "N = 10\n",
    "iteration_count = 100\n",
    "count = 0\n",
    "for itr in tqdm(range(iteration_count)):\n",
    "    sqr = square_random_generator(N)  # , True)\n",
    "    # ---\n",
    "    c = sqr.code\n",
    "    ed = 2 * c[3] + 1\n",
    "    cn = [c[0] + rd, c[1] + rd, c[2] + rd, c[3]]\n",
    "    # ---\n",
    "    try:\n",
    "        sqrn = Square(cn)\n",
    "        n, nn = cc(sqr), cc(sqrn)\n",
    "        if n != nn:\n",
    "            print(f\"({n},{nn}), ({c},{cn})\")\n",
    "            count += 1\n",
    "    except:\n",
    "        print(c, rd)\n",
    "# ---\n",
    "print(count)"
   ]
  },
  {
   "cell_type": "code",
   "execution_count": null,
   "id": "55a7ea77-e430-46aa-b2fb-c4a392564234",
   "metadata": {
    "tags": []
   },
   "outputs": [],
   "source": [
    "N = 10\n",
    "iteration_count = 200\n",
    "count, error = 0, 0\n",
    "for itr in tqdm(range(iteration_count)):\n",
    "    sqr = square_random_generator(N)  # , True)\n",
    "    # ---\n",
    "    c = sqr.code\n",
    "    e = c[0] - c[1]\n",
    "    # ------\n",
    "    D = 2 * e\n",
    "    # ------\n",
    "    cn = tuple([c[0] + D + 1, c[1] + D, c[2], c[3]])\n",
    "    # ---\n",
    "    if c[0] >= c[2] + c[3]:\n",
    "        try:\n",
    "            sqrn = Square(cn)\n",
    "            n, nn = cc(sqr), cc(sqrn)\n",
    "            if n != nn:\n",
    "                print(\n",
    "                    f\"e={e}, D={D},  ({n},{nn}), ({c},{cn})\"\n",
    "                )\n",
    "                count += 1\n",
    "        except Exception as ex:\n",
    "            if not e < 0:\n",
    "#                 print(c, D, ex)\n",
    "                pass\n",
    "    else:\n",
    "        error += 1\n",
    "# ---\n",
    "print(f\"{count}/{iteration_count-error}\")"
   ]
  },
  {
   "cell_type": "markdown",
   "id": "58bb887d-3e98-400e-8822-2d36f009810e",
   "metadata": {},
   "source": [
    "# Drawing the fundarmental area"
   ]
  },
  {
   "cell_type": "code",
   "execution_count": null,
   "id": "56eb72d0-8cd2-4d81-b794-d36fbec09aef",
   "metadata": {},
   "outputs": [],
   "source": [
    "def tl_d(c):\n",
    "    r = c[3]\n",
    "    d = 2 * r + 1\n",
    "    flag = True\n",
    "    while flag:\n",
    "        t, l, b = c[0], c[1], c[2]\n",
    "        # ---\n",
    "        cn = [t - d, l - d, b - d, r]\n",
    "        try:\n",
    "            c = Code(cn)\n",
    "        except Exception as e:\n",
    "            flag = False\n",
    "    return c\n",
    "\n",
    "\n",
    "def tl_b(c):\n",
    "    b = c[2]\n",
    "    flag = True\n",
    "    while flag and b > 0:\n",
    "        t, l, r = c[0], c[1], c[3]\n",
    "        # ---\n",
    "        cn = [t - b, l - b, b, r - b]\n",
    "        try:\n",
    "            c = Code(cn)\n",
    "        except Exception as e:\n",
    "            flag = False\n",
    "    return c\n",
    "\n",
    "\n",
    "def tl_D(c):\n",
    "    D = abs(2 * (c[0] - c[1]) - 1)\n",
    "    flag = True\n",
    "    while flag and (c[0] - (c[2] + c[3]) >= 0):\n",
    "        t, l, b, r = c[0], c[1], c[2], c[3]\n",
    "        # ---\n",
    "        cn = [t - D, l - D, b, r]\n",
    "        try:\n",
    "            c = Code(cn)\n",
    "        except Exception as e:\n",
    "            flag = False\n",
    "    return c\n",
    "\n",
    "\n",
    "def tl_alpha(c):\n",
    "    alpha = abs(4 * c[3] - 2 * (c[0] - c[1]) + 3)\n",
    "    flag = True\n",
    "    while flag and (c[0] - (c[2] + c[3]) < 0):\n",
    "        t, l, b, r = c[0], c[1], c[2], c[3]\n",
    "        # ---\n",
    "        cn = [t - alpha, l - alpha, b - 2 * alpha, r]\n",
    "        try:\n",
    "            c = Code(cn)\n",
    "        except Exception as e:\n",
    "            flag = False\n",
    "    return c\n",
    "\n",
    "\n",
    "def tl_beta(c):\n",
    "    beta = abs(4 * c[2] + 2 * (c[0] - c[1]) - 1)\n",
    "    flag = True\n",
    "    while flag and (c[0] - (c[2] + c[3]) < 0):\n",
    "        t, l, b, r = c[0], c[1], c[2], c[3]\n",
    "        # ---\n",
    "        cn = [t - beta, l - beta, b, r - 2 * beta]\n",
    "        try:\n",
    "            c = Code(cn)\n",
    "        except Exception as e:\n",
    "            flag = False\n",
    "    return c\n",
    "\n",
    "\n",
    "def tl_delta(c):\n",
    "    f = c[1] - c[3]\n",
    "    delta = abs(2 * c[2] - f)\n",
    "    flag = True\n",
    "    while flag and delta != 0 and (c[0] - (c[3] + abs(c[2] - f)) >= 0):\n",
    "        t, l, b, r = c[0], c[1], c[2], c[3]\n",
    "        # ---\n",
    "        cn = [t, l - delta, b, r - delta]\n",
    "        try:\n",
    "            c = Code(cn)\n",
    "        except Exception as e:\n",
    "            flag = False\n",
    "    return c\n",
    "\n",
    "\n",
    "def tl_f(c):\n",
    "    f = abs(c[1] - c[3])\n",
    "    flag = True\n",
    "    while flag and f != 0 and (c[0] - (c[3] + abs(c[2] - f)) < 0):\n",
    "        t, l, b, r = c[0], c[1], c[2], c[3]\n",
    "        # ---\n",
    "        cn = [t - 2 * f, l - f, b, r - f]\n",
    "        try:\n",
    "            c = Code(cn)\n",
    "        except Exception as e:\n",
    "            flag = False\n",
    "    return c"
   ]
  },
  {
   "cell_type": "code",
   "execution_count": null,
   "id": "d02a31be-0316-443d-b778-a09122d374b4",
   "metadata": {},
   "outputs": [],
   "source": [
    "N, Cnt = 200, 8000\n",
    "# ---\n",
    "codes = []\n",
    "for itr in tqdm(range(Cnt)):\n",
    "    sqr = square_random_generator(N)\n",
    "    c = list(sqr.code)\n",
    "    #---\n",
    "    c[1] = 120\n",
    "    #---\n",
    "    c = tl_b(tl_d(c))\n",
    "    c = tl_D(c)\n",
    "    c = tl_beta(tl_alpha(c))\n",
    "    c = tl_f(tl_delta(c))\n",
    "    # ---\n",
    "    codes += [c]\n",
    "# print(codes)"
   ]
  },
  {
   "cell_type": "code",
   "execution_count": null,
   "id": "0b757b17-488f-499c-b92d-fc49068f59e3",
   "metadata": {
    "tags": []
   },
   "outputs": [],
   "source": [
    "T, L, B, R = (\n",
    "    [c[0] for c in codes],\n",
    "    [c[1] for c in codes],\n",
    "    [c[2] for c in codes],\n",
    "    [c[3] for c in codes],\n",
    ")\n",
    "\n",
    "options = dict(\n",
    "    width=840,\n",
    "    height=800,\n",
    "    range_x=[0, N],\n",
    "    range_y=[0, N],\n",
    ")\n",
    "\n",
    "px.scatter(x=T, y=B, labels={\"x\": \"T\", \"y\": \"B\"}, **options).show()\n",
    "px.scatter(x=L, y=R, labels={\"x\": \"L\", \"y\": \"R\"}, **options).show()\n",
    "px.scatter(x=T, y=L, labels={\"x\": \"T\", \"y\": \"L\"}, **options).show()\n",
    "px.scatter(x=B, y=R, labels={\"x\": \"B\", \"y\": \"R\"}, **options).show()"
   ]
  },
  {
   "cell_type": "code",
   "execution_count": null,
   "id": "7f934996-b337-4ca5-9855-b2b6f816c5a9",
   "metadata": {
    "jupyter": {
     "source_hidden": true
    },
    "tags": []
   },
   "outputs": [],
   "source": [
    "T, L, B, R = (\n",
    "    [c[0] for c in codes],\n",
    "    [c[1] for c in codes],\n",
    "    [c[2] for c in codes],\n",
    "    [c[3] for c in codes],\n",
    ")\n",
    "\n",
    "fig = make_subplots(2, 2)\n",
    "\n",
    "fig.append_trace(\n",
    "    px.scatter(\n",
    "        x=T, y=B, range_x=[0, 2 * N], range_y=[0, 2 * N], labels={\"x\": \"T\", \"y\": \"B\"}\n",
    "    ).data[0],\n",
    "    1,\n",
    "    1,\n",
    ")\n",
    "fig.append_trace(\n",
    "    px.scatter(\n",
    "        x=L, y=R, range_x=[0, 2 * N], range_y=[0, 2 * N], labels={\"x\": \"L\", \"y\": \"R\"}\n",
    "    ).data[0],\n",
    "    1,\n",
    "    2,\n",
    ")\n",
    "fig.append_trace(\n",
    "    px.scatter(\n",
    "        x=T, y=L, range_x=[0, 2 * N], range_y=[0, 2 * N], labels={\"x\": \"T\", \"y\": \"L\"}\n",
    "    ).data[0],\n",
    "    2,\n",
    "    1,\n",
    ")\n",
    "fig.append_trace(\n",
    "    px.scatter(\n",
    "        x=B, y=R, range_x=[0, 2 * N], range_y=[0, 2 * N], labels={\"x\": \"B\", \"y\": \"R\"}\n",
    "    ).data[0],\n",
    "    2,\n",
    "    2,\n",
    ")\n",
    "fig.update_layout(height=800, width=800)\n",
    "fig.show()"
   ]
  },
  {
   "cell_type": "markdown",
   "id": "5ae2286e-887f-4c19-9689-eac5ea1e2883",
   "metadata": {},
   "source": [
    "# Charactor Polynomial of quasi-Cords"
   ]
  },
  {
   "cell_type": "code",
   "execution_count": null,
   "id": "86ef17ac-db89-42cb-98e9-66a68d4624cd",
   "metadata": {},
   "outputs": [],
   "source": [
    "N = 5\n",
    "sqr = square_random_generator(N)\n",
    "print(sqr.code, cc(sqr))\n",
    "#---\n",
    "M = sympy.Matrix(sqr.grid_diagram())\n",
    "# display(M)\n",
    "#---\n",
    "t = sympy.symbols('t')\n",
    "# p = M.charpoly(t)\n",
    "# print(p)\n",
    "# print(sympy.factor(p.as_expr()))\n",
    "# evsm = M.eigenvals()\n",
    "\n",
    "pm=sqr.permutation()\n",
    "s = pm.size\n",
    "arr = np.zeros((s,s), dtype=int)\n",
    "for i in range(pm.size):\n",
    "    arr[i][pm.act(i)] = 1\n",
    "A = sympy.Matrix(arr)\n",
    "# display(A)\n",
    "pp = A.charpoly(t)\n",
    "print(pp, sympy.factor(pp.as_expr()))\n",
    "evsa = A.eigenvals()\n",
    "evsa[1]"
   ]
  },
  {
   "cell_type": "code",
   "execution_count": 18,
   "id": "83bc89fa-3f3e-4d71-a7d2-fa221f91a3f7",
   "metadata": {},
   "outputs": [
    {
     "name": "stdout",
     "output_type": "stream",
     "text": [
      "abc\n",
      "abc1\n"
     ]
    }
   ],
   "source": [
    "mstr = \"abc\"\n",
    "print(mstr)\n",
    "mstr += \"1\"\n",
    "print(mstr)"
   ]
  }
 ],
 "metadata": {
  "kernelspec": {
   "display_name": "Python 3",
   "language": "python",
   "name": "python3"
  },
  "language_info": {
   "codemirror_mode": {
    "name": "ipython",
    "version": 3
   },
   "file_extension": ".py",
   "mimetype": "text/x-python",
   "name": "python",
   "nbconvert_exporter": "python",
   "pygments_lexer": "ipython3",
   "version": "3.6.13"
  }
 },
 "nbformat": 4,
 "nbformat_minor": 5
}
