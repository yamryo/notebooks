{
 "cells": [
  {
   "cell_type": "code",
   "execution_count": 1,
   "id": "0031bb4f-c9ef-4e55-ae1e-881011b10489",
   "metadata": {
    "ExecuteTime": {
     "end_time": "2021-05-28T05:09:25.860503Z",
     "start_time": "2021-05-28T05:09:25.275687Z"
    },
    "tags": []
   },
   "outputs": [],
   "source": [
    "import Permutations as pm\n",
    "from ToolsForQuasiCord import *\n",
    "\n",
    "import numpy as np\n",
    "from numpy.random import randint as ri\n",
    "import sympy\n",
    "sympy.init_printing()\n",
    "\n",
    "import itertools\n",
    "from tqdm.notebook import tqdm\n",
    "\n",
    "import pandas as pd\n",
    "\n",
    "import plotly.express as px"
   ]
  },
  {
   "cell_type": "code",
   "execution_count": 2,
   "id": "620ffbed-aa38-4bc5-ae67-e95d948ea191",
   "metadata": {
    "ExecuteTime": {
     "end_time": "2021-05-28T05:09:29.173109Z",
     "start_time": "2021-05-28T05:09:29.167766Z"
    }
   },
   "outputs": [],
   "source": [
    "def cc(sqr):\n",
    "    \"\"\"Return the number of components of the quasi-cord associated with a given Square\"\"\"\n",
    "    return len(pm.cycle_decomp(sqr.permutation()))"
   ]
  },
  {
   "cell_type": "markdown",
   "id": "72d5bb86-493e-453a-8a71-480a1f6328fc",
   "metadata": {},
   "source": [
    "# Scratch"
   ]
  },
  {
   "cell_type": "code",
   "execution_count": null,
   "id": "c6e9514b-e522-4514-a8d8-fd62b7466e7f",
   "metadata": {},
   "outputs": [],
   "source": [
    "N = 20\n",
    "for itr in tqdm(range(N * 10)):\n",
    "    r = np.random.randint(1, N)\n",
    "    t = r + np.random.randint(1, N)\n",
    "    b = np.random.randint(1, t)\n",
    "\n",
    "    sqrs = [\n",
    "        Square([t, t, t - r, r]),\n",
    "        Square([t + 1, t, t - r, r]),\n",
    "        Square([t + r + 1, t, 1, r]),\n",
    "        Square([t + r + 1, t, b, r])\n",
    "    ]\n",
    "    nums = [cc(sqr) for sqr in sqrs]\n",
    "    if len(list(set(nums))) != 1:\n",
    "        print([sqr.code for sqr in sqrs], [n for n in nums])"
   ]
  },
  {
   "cell_type": "code",
   "execution_count": null,
   "id": "3454b0f0-e425-477c-9b13-24aac58c19ee",
   "metadata": {
    "tags": []
   },
   "outputs": [],
   "source": [
    "r = ri(10)\n",
    "t = r + ri(10)\n",
    "sqrs = [Square([t,t,t-r,r]), Square([t+1,t,t-r,r])]\n",
    "print([cc(sqr) for sqr in sqrs])\n",
    "for sqr in sqrs:\n",
    "    sqr.graphic().show()"
   ]
  },
  {
   "cell_type": "code",
   "execution_count": null,
   "id": "c9335b12-ce4b-4b30-83c7-f24a1a2345fd",
   "metadata": {
    "tags": []
   },
   "outputs": [],
   "source": [
    "r = ri(1,10)\n",
    "t = r + ri(10)\n",
    "sqrs = [Square([t,t,t-r,r]), Square([t+r+1,t,t-r,r]), Square([t+r+1,t,1,r])]\n",
    "print([cc(sqr) for sqr in sqrs])\n",
    "for sqr in sqrs:\n",
    "    sqr.graphic().show()"
   ]
  },
  {
   "cell_type": "code",
   "execution_count": null,
   "id": "b1529bd9-f687-439f-a688-0ab7e68dca9f",
   "metadata": {
    "tags": []
   },
   "outputs": [],
   "source": [
    "b,r = ri(1,10), ri(1,10)\n",
    "print(b,r)\n",
    "seq = []\n",
    "for t in range(1, 2*(b+r)+2):\n",
    "    try:\n",
    "        sqr = Square([t,b+r-1,b,r])\n",
    "        num = cc(sqr)\n",
    "        if len(seq) > 0 and num != seq[-1]:\n",
    "            print(seq[-1], num)\n",
    "            sqr.graphic().show() \n",
    "    except: \n",
    "        num = 0\n",
    "    seq += [ num ]\n",
    "print(seq)"
   ]
  },
  {
   "cell_type": "code",
   "execution_count": null,
   "id": "3c684aab-8b54-4f5b-ac4e-58346d107cd7",
   "metadata": {
    "tags": []
   },
   "outputs": [],
   "source": [
    "b,r = ri(1,10), ri(1,10)\n",
    "print(b,r)\n",
    "seq = []\n",
    "for t in range(1, 100):\n",
    "    try:\n",
    "        num = cc(Square([b+r+t,b+r+t,b,r]))\n",
    "    except: \n",
    "        num = 0\n",
    "    seq += [ num ]\n",
    "print(seq)"
   ]
  },
  {
   "cell_type": "code",
   "execution_count": null,
   "id": "df41367a-8755-494b-b9e5-43cec9cffe71",
   "metadata": {},
   "outputs": [],
   "source": [
    "N = 5\n",
    "r, b = ri(N), ri(N)\n",
    "t = r + ri(N)\n",
    "\n",
    "sqrs = [Square([t+r+1,t,b,r]), Square([t+r+1,t,1,r])]\n",
    "print([cc(sqr) for sqr in sqrs])\n",
    "for sqr in sqrs:\n",
    "    sqr.graphic().show()"
   ]
  },
  {
   "cell_type": "markdown",
   "id": "fb237d9e-0363-46b8-ae64-3117300a51e4",
   "metadata": {},
   "source": [
    "## Reducing procedure"
   ]
  },
  {
   "cell_type": "markdown",
   "id": "15f3e183-2241-4a74-8416-3cebdb0da2bf",
   "metadata": {},
   "source": [
    "### Transposition along L"
   ]
  },
  {
   "cell_type": "code",
   "execution_count": 120,
   "id": "c31abf83-bcdf-4489-bea0-49d5030af086",
   "metadata": {
    "tags": []
   },
   "outputs": [
    {
     "name": "stdout",
     "output_type": "stream",
     "text": [
      "(133, 94, 25, 21) 1\n",
      "T+L=227, B+R=46, L-(B+R)=48\n",
      "e=39, ed=77, rd=43\n"
     ]
    }
   ],
   "source": [
    "N = 50\n",
    "b, r = ri(1,N), ri(1,N)\n",
    "l = (b + r) + ri(N)\n",
    "t = l + ri(b+r+1)\n",
    "# ---\n",
    "\n",
    "c = (t,l,b,r)\n",
    "sqr = Square(c)\n",
    "print(c, cc(sqr))\n",
    "print(f\"T+L={c[0]+c[1]}, B+R={c[2]+c[3]}, L-(B+R)={c[1]-c[2]-c[3]}\")\n",
    "e = c[0] - c[1]\n",
    "r = c[3]\n",
    "ed, rd = 2 * e - 1, 2 * r + 1\n",
    "print(f\"e={e}, ed={ed}, rd={rd}\")"
   ]
  },
  {
   "cell_type": "code",
   "execution_count": 90,
   "id": "f562e407-1e2f-4325-bb99-d2325d755626",
   "metadata": {},
   "outputs": [
    {
     "name": "stdout",
     "output_type": "stream",
     "text": [
      "(78, 76, 15, 22) 8\n",
      "T+L=154, B+R=37, L-(B+R)=39\n"
     ]
    }
   ],
   "source": [
    "cn = list(c)\n",
    "cn[0] -= ed\n",
    "cn[1] -= ed\n",
    "cn = tuple(cn)\n",
    "\n",
    "sqrn = Square(cn)\n",
    "print(cn, cc(sqrn))\n",
    "print(f\"T+L={cn[0]+cn[1]}, B+R={cn[2]+cn[3]}, L-(B+R)={cn[1]-cn[2]-cn[3]}\")"
   ]
  },
  {
   "cell_type": "code",
   "execution_count": 82,
   "id": "8586999f-5eab-457e-8d83-ed543fbe1d4c",
   "metadata": {},
   "outputs": [
    {
     "name": "stdout",
     "output_type": "stream",
     "text": [
      "68\n"
     ]
    }
   ],
   "source": [
    "N = 50\n",
    "count = 0\n",
    "for itr in range(200):\n",
    "    b, r = ri(N), ri(N)\n",
    "    l = (b + r) + ri(N)\n",
    "    e = ri(b + r + 1)\n",
    "    # ---\n",
    "    c = (l+e, l, b, r)\n",
    "    sqr = Square(c)\n",
    "    #---\n",
    "    ed, rd = 2 * e - 1, 2 * r + 1\n",
    "    cn = list(c)\n",
    "    cn[0] -= ed\n",
    "    cn[1] -= ed\n",
    "    cn = tuple(cn)\n",
    "    flag = True\n",
    "    try:\n",
    "        sqrn = Square(cn)\n",
    "    except:\n",
    "#         print(c,ed)\n",
    "        flag = False\n",
    "    #---\n",
    "    if flag:\n",
    "        n, nn = cc(sqr), cc(sqrn)\n",
    "        delta = cn[1]-cn[2]-cn[3]\n",
    "        if delta >= 0:\n",
    "            if n != nn:\n",
    "                print(f\"[c{c},{n}],[cn{cn},{nn}],ed={ed}, L-(B+R)={delta}\")\n",
    "        else:\n",
    "            count += 1\n",
    "print(count)"
   ]
  },
  {
   "cell_type": "markdown",
   "id": "04a5f51f-2b59-423a-a3c1-7a8ae01ac21c",
   "metadata": {},
   "source": [
    "### Transposition along B"
   ]
  },
  {
   "cell_type": "code",
   "execution_count": 179,
   "id": "9557f54c-f04f-499a-8fb6-72168bff9fac",
   "metadata": {
    "tags": []
   },
   "outputs": [
    {
     "name": "stdout",
     "output_type": "stream",
     "text": [
      "(15, 15, 7, 2) 1\n",
      "T-L=0, L-(B+R)=6\n",
      "e=0, ed=-1, rd=5\n"
     ]
    }
   ],
   "source": [
    "N = 10\n",
    "r = ri(1,10)\n",
    "b = r + ri(1,N)\n",
    "l = (b + r) + ri(N)\n",
    "t = l + ri(b+r+1)\n",
    "# ---\n",
    "\n",
    "c = (t,l,b,r)\n",
    "sqr = Square(c)\n",
    "print(c, cc(sqr))\n",
    "print(f\"T-L={c[0]-c[1]}, L-(B+R)={c[1]-c[2]-c[3]}\")\n",
    "e = c[0] - c[1]\n",
    "r = c[3]\n",
    "ed, rd = 2 * e - 1, 2 * r + 1\n",
    "print(f\"e={e}, ed={ed}, rd={rd}\")"
   ]
  },
  {
   "cell_type": "code",
   "execution_count": 180,
   "id": "8caf25ce-0e73-4892-8438-57f26312291d",
   "metadata": {},
   "outputs": [
    {
     "name": "stdout",
     "output_type": "stream",
     "text": [
      "(60, 60, 12, 2) 1\n",
      "T+L=120, B+R=14, L-(B+R)=46\n"
     ]
    }
   ],
   "source": [
    "cn = list(c)\n",
    "cn[0] += rd*(b+r)\n",
    "cn[1] += rd*(b+r)\n",
    "cn[2] += rd\n",
    "cn = tuple(cn)\n",
    "\n",
    "sqrn = Square(cn)\n",
    "print(cn, cc(sqrn))\n",
    "print(f\"T+L={cn[0]+cn[1]}, B+R={cn[2]+cn[3]}, L-(B+R)={cn[1]-cn[2]-cn[3]}\")"
   ]
  },
  {
   "cell_type": "code",
   "execution_count": 176,
   "id": "ecd3e669-7a15-4404-920f-3583794fa402",
   "metadata": {},
   "outputs": [
    {
     "name": "stdout",
     "output_type": "stream",
     "text": [
      "[c(79, 62, 31, 7),10],[cn(649, 632, 31, 22),1],ed=33, L-(B+R)=579\n",
      "[c(43, 25, 21, 0),4],[cn(64, 46, 21, 1),2],ed=35, L-(B+R)=24\n",
      "[c(43, 27, 18, 8),1],[cn(485, 469, 18, 25),11],ed=31, L-(B+R)=426\n",
      "[c(25, 16, 11, 5),6],[cn(201, 192, 11, 16),1],ed=17, L-(B+R)=165\n",
      "[c(39, 33, 6, 3),1],[cn(102, 96, 6, 10),2],ed=11, L-(B+R)=80\n",
      "[c(48, 27, 17, 9),7],[cn(542, 521, 17, 28),1],ed=41, L-(B+R)=476\n",
      "[c(69, 42, 32, 6),1],[cn(563, 536, 32, 19),3],ed=53, L-(B+R)=485\n",
      "[c(60, 41, 11, 9),2],[cn(440, 421, 11, 28),3],ed=37, L-(B+R)=382\n",
      "[c(51, 31, 19, 3),2],[cn(205, 185, 19, 10),1],ed=39, L-(B+R)=156\n",
      "[c(31, 30, 9, 5),1],[cn(185, 184, 9, 16),2],ed=1, L-(B+R)=159\n",
      "[c(51, 44, 16, 0),1],[cn(67, 60, 16, 1),2],ed=13, L-(B+R)=43\n",
      "[c(69, 44, 25, 1),1],[cn(147, 122, 25, 4),2],ed=49, L-(B+R)=93\n",
      "[c(59, 41, 14, 9),2],[cn(496, 478, 14, 28),1],ed=35, L-(B+R)=436\n",
      "[c(24, 20, 18, 1),1],[cn(81, 77, 18, 4),2],ed=7, L-(B+R)=55\n",
      "[c(57, 38, 23, 7),3],[cn(507, 488, 23, 22),1],ed=37, L-(B+R)=443\n",
      "[c(49, 33, 24, 4),5],[cn(301, 285, 24, 13),2],ed=31, L-(B+R)=248\n",
      "[c(91, 52, 37, 9),1],[cn(965, 926, 37, 28),4],ed=77, L-(B+R)=861\n",
      "[c(58, 42, 14, 4),1],[cn(220, 204, 14, 13),3],ed=31, L-(B+R)=177\n",
      "[c(85, 56, 20, 9),1],[cn(636, 607, 20, 28),2],ed=57, L-(B+R)=559\n",
      "[c(95, 67, 34, 6),1],[cn(615, 587, 34, 19),2],ed=55, L-(B+R)=534\n",
      "[c(91, 58, 32, 7),2],[cn(676, 643, 32, 22),1],ed=65, L-(B+R)=589\n",
      "[c(46, 43, 18, 7),1],[cn(421, 418, 18, 22),3],ed=5, L-(B+R)=378\n",
      "[c(62, 48, 28, 8),1],[cn(674, 660, 28, 25),2],ed=27, L-(B+R)=607\n",
      "[c(78, 62, 31, 3),3],[cn(316, 300, 31, 10),1],ed=31, L-(B+R)=259\n",
      "[c(32, 26, 8, 1),2],[cn(59, 53, 8, 4),1],ed=11, L-(B+R)=41\n",
      "[c(38, 36, 11, 6),2],[cn(259, 257, 11, 19),1],ed=3, L-(B+R)=227\n",
      "[c(46, 39, 12, 1),2],[cn(85, 78, 12, 4),5],ed=13, L-(B+R)=62\n",
      "[c(55, 40, 25, 4),4],[cn(316, 301, 25, 13),12],ed=29, L-(B+R)=263\n",
      "[c(58, 48, 25, 2),3],[cn(193, 183, 25, 7),2],ed=19, L-(B+R)=151\n",
      "[c(42, 35, 13, 9),1],[cn(460, 453, 13, 28),5],ed=13, L-(B+R)=412\n",
      "[c(32, 26, 20, 4),2],[cn(248, 242, 20, 13),1],ed=11, L-(B+R)=209\n",
      "[c(51, 30, 24, 1),1],[cn(126, 105, 24, 4),2],ed=41, L-(B+R)=77\n",
      "[c(44, 43, 33, 5),6],[cn(462, 461, 33, 16),17],ed=1, L-(B+R)=412\n",
      "[c(21, 15, 4, 4),3],[cn(93, 87, 4, 13),1],ed=11, L-(B+R)=70\n",
      "[c(54, 47, 14, 7),1],[cn(369, 362, 14, 22),2],ed=13, L-(B+R)=326\n",
      "[c(64, 61, 34, 6),2],[cn(584, 581, 34, 19),3],ed=5, L-(B+R)=528\n",
      "[c(56, 41, 11, 7),3],[cn(326, 311, 11, 22),1],ed=29, L-(B+R)=278\n",
      "[c(66, 38, 30, 2),1],[cn(226, 198, 30, 7),5],ed=55, L-(B+R)=161\n",
      "[c(48, 43, 21, 0),1],[cn(69, 64, 21, 1),5],ed=9, L-(B+R)=42\n",
      "[c(61, 44, 30, 4),6],[cn(367, 350, 30, 13),1],ed=33, L-(B+R)=307\n",
      "[c(45, 34, 18, 7),2],[cn(420, 409, 18, 22),5],ed=21, L-(B+R)=369\n",
      "[c(63, 53, 21, 6),1],[cn(414, 404, 21, 19),2],ed=19, L-(B+R)=364\n",
      "[c(36, 33, 8, 3),1],[cn(113, 110, 8, 10),3],ed=5, L-(B+R)=92\n",
      "[c(29, 19, 10, 4),1],[cn(155, 145, 10, 13),4],ed=19, L-(B+R)=122\n",
      "[c(42, 36, 10, 5),1],[cn(207, 201, 10, 16),2],ed=11, L-(B+R)=175\n",
      "[c(67, 38, 26, 9),7],[cn(732, 703, 26, 28),2],ed=57, L-(B+R)=649\n",
      "[c(41, 25, 22, 1),1],[cn(110, 94, 22, 4),2],ed=31, L-(B+R)=68\n",
      "[c(56, 52, 25, 2),1],[cn(191, 187, 25, 7),2],ed=7, L-(B+R)=155\n",
      "[c(32, 27, 5, 0),1],[cn(37, 32, 5, 1),2],ed=9, L-(B+R)=26\n",
      "[c(60, 40, 18, 2),2],[cn(160, 140, 18, 7),1],ed=39, L-(B+R)=115\n",
      "[c(51, 38, 9, 4),5],[cn(168, 155, 9, 13),2],ed=25, L-(B+R)=133\n",
      "[c(52, 49, 22, 4),3],[cn(286, 283, 22, 13),2],ed=5, L-(B+R)=248\n",
      "[c(49, 45, 27, 2),1],[cn(194, 190, 27, 7),3],ed=7, L-(B+R)=156\n",
      "[c(69, 41, 26, 9),4],[cn(734, 706, 26, 28),1],ed=55, L-(B+R)=652\n",
      "[c(39, 35, 12, 4),3],[cn(183, 179, 12, 13),2],ed=7, L-(B+R)=154\n",
      "[c(12, 10, 2, 1),2],[cn(21, 19, 2, 4),1],ed=3, L-(B+R)=13\n",
      "[c(52, 41, 23, 9),1],[cn(660, 649, 23, 28),5],ed=21, L-(B+R)=598\n",
      "[c(55, 42, 11, 2),2],[cn(120, 107, 11, 7),3],ed=25, L-(B+R)=89\n",
      "[c(7, 7, 3, 0),1],[cn(10, 10, 3, 1),2],ed=-1, L-(B+R)=6\n",
      "[c(50, 34, 21, 1),2],[cn(116, 100, 21, 4),1],ed=31, L-(B+R)=75\n",
      "[c(72, 53, 26, 3),2],[cn(275, 256, 26, 10),1],ed=37, L-(B+R)=220\n",
      "[c(70, 49, 21, 3),1],[cn(238, 217, 21, 10),2],ed=41, L-(B+R)=186\n",
      "[c(99, 55, 37, 9),1],[cn(973, 929, 37, 28),2],ed=87, L-(B+R)=864\n",
      "[c(52, 48, 15, 4),1],[cn(223, 219, 15, 13),3],ed=7, L-(B+R)=191\n",
      "[c(62, 49, 21, 5),3],[cn(348, 335, 21, 16),1],ed=25, L-(B+R)=298\n",
      "[c(65, 62, 29, 4),1],[cn(362, 359, 29, 13),2],ed=5, L-(B+R)=317\n",
      "[c(62, 38, 25, 3),3],[cn(258, 234, 25, 10),1],ed=47, L-(B+R)=199\n",
      "[c(57, 47, 13, 5),2],[cn(255, 245, 13, 16),1],ed=19, L-(B+R)=216\n",
      "[c(41, 32, 13, 2),1],[cn(116, 107, 13, 7),6],ed=17, L-(B+R)=87\n",
      "[c(52, 41, 9, 3),2],[cn(136, 125, 9, 10),1],ed=21, L-(B+R)=106\n",
      "[c(68, 52, 27, 8),1],[cn(663, 647, 27, 25),2],ed=31, L-(B+R)=595\n",
      "[c(50, 44, 14, 7),6],[cn(365, 359, 14, 22),1],ed=11, L-(B+R)=323\n",
      "[c(56, 38, 18, 5),1],[cn(309, 291, 18, 16),2],ed=35, L-(B+R)=257\n",
      "[c(94, 49, 36, 9),2],[cn(949, 904, 36, 28),4],ed=89, L-(B+R)=840\n",
      "[c(59, 41, 15, 4),14],[cn(230, 212, 15, 13),1],ed=35, L-(B+R)=184\n",
      "[c(49, 31, 28, 0),3],[cn(77, 59, 28, 1),1],ed=35, L-(B+R)=30\n",
      "[c(62, 32, 26, 5),3],[cn(403, 373, 26, 16),1],ed=59, L-(B+R)=331\n",
      "[c(26, 22, 6, 0),1],[cn(32, 28, 6, 1),2],ed=7, L-(B+R)=21\n",
      "[c(21, 18, 2, 2),1],[cn(41, 38, 2, 7),2],ed=5, L-(B+R)=29\n",
      "[c(33, 31, 8, 4),2],[cn(141, 139, 8, 13),1],ed=3, L-(B+R)=118\n",
      "[c(49, 45, 15, 3),4],[cn(175, 171, 15, 10),1],ed=7, L-(B+R)=146\n",
      "[c(36, 33, 15, 0),3],[cn(51, 48, 15, 1),1],ed=5, L-(B+R)=32\n",
      "[c(31, 20, 11, 8),2],[cn(354, 343, 11, 25),1],ed=21, L-(B+R)=307\n",
      "[c(47, 38, 23, 2),1],[cn(172, 163, 23, 7),2],ed=17, L-(B+R)=133\n",
      "[c(44, 38, 32, 4),2],[cn(368, 362, 32, 13),3],ed=11, L-(B+R)=317\n"
     ]
    },
    {
     "ename": "KeyboardInterrupt",
     "evalue": "",
     "output_type": "error",
     "traceback": [
      "\u001b[0;31m---------------------------------------------------------------------------\u001b[0m",
      "\u001b[0;31mKeyboardInterrupt\u001b[0m                         Traceback (most recent call last)",
      "\u001b[0;32m<ipython-input-176-3b7b7a547ac1>\u001b[0m in \u001b[0;36m<module>\u001b[0;34m()\u001b[0m\n\u001b[1;32m     24\u001b[0m     \u001b[0;31m#---\u001b[0m\u001b[0;34m\u001b[0m\u001b[0;34m\u001b[0m\u001b[0;34m\u001b[0m\u001b[0m\n\u001b[1;32m     25\u001b[0m     \u001b[0;32mif\u001b[0m \u001b[0mflag\u001b[0m\u001b[0;34m:\u001b[0m\u001b[0;34m\u001b[0m\u001b[0;34m\u001b[0m\u001b[0m\n\u001b[0;32m---> 26\u001b[0;31m         \u001b[0mn\u001b[0m\u001b[0;34m,\u001b[0m \u001b[0mnn\u001b[0m \u001b[0;34m=\u001b[0m \u001b[0mcc\u001b[0m\u001b[0;34m(\u001b[0m\u001b[0msqr\u001b[0m\u001b[0;34m)\u001b[0m\u001b[0;34m,\u001b[0m \u001b[0mcc\u001b[0m\u001b[0;34m(\u001b[0m\u001b[0msqrn\u001b[0m\u001b[0;34m)\u001b[0m\u001b[0;34m\u001b[0m\u001b[0;34m\u001b[0m\u001b[0m\n\u001b[0m\u001b[1;32m     27\u001b[0m         \u001b[0mdelta\u001b[0m \u001b[0;34m=\u001b[0m \u001b[0mcn\u001b[0m\u001b[0;34m[\u001b[0m\u001b[0;36m1\u001b[0m\u001b[0;34m]\u001b[0m\u001b[0;34m-\u001b[0m\u001b[0mcn\u001b[0m\u001b[0;34m[\u001b[0m\u001b[0;36m2\u001b[0m\u001b[0;34m]\u001b[0m\u001b[0;34m-\u001b[0m\u001b[0mcn\u001b[0m\u001b[0;34m[\u001b[0m\u001b[0;36m3\u001b[0m\u001b[0;34m]\u001b[0m\u001b[0;34m\u001b[0m\u001b[0;34m\u001b[0m\u001b[0m\n\u001b[1;32m     28\u001b[0m         \u001b[0;32mif\u001b[0m \u001b[0mdelta\u001b[0m \u001b[0;34m>=\u001b[0m \u001b[0;36m0\u001b[0m\u001b[0;34m:\u001b[0m\u001b[0;34m\u001b[0m\u001b[0;34m\u001b[0m\u001b[0m\n",
      "\u001b[0;32m<ipython-input-2-2a20488d92af>\u001b[0m in \u001b[0;36mcc\u001b[0;34m(sqr)\u001b[0m\n\u001b[1;32m      1\u001b[0m \u001b[0;32mdef\u001b[0m \u001b[0mcc\u001b[0m\u001b[0;34m(\u001b[0m\u001b[0msqr\u001b[0m\u001b[0;34m)\u001b[0m\u001b[0;34m:\u001b[0m\u001b[0;34m\u001b[0m\u001b[0;34m\u001b[0m\u001b[0m\n\u001b[1;32m      2\u001b[0m     \u001b[0;34m\"\"\"Return the number of components of the quasi-cord associated with a given Square\"\"\"\u001b[0m\u001b[0;34m\u001b[0m\u001b[0;34m\u001b[0m\u001b[0m\n\u001b[0;32m----> 3\u001b[0;31m     \u001b[0;32mreturn\u001b[0m \u001b[0mlen\u001b[0m\u001b[0;34m(\u001b[0m\u001b[0mpm\u001b[0m\u001b[0;34m.\u001b[0m\u001b[0mcycle_decomp\u001b[0m\u001b[0;34m(\u001b[0m\u001b[0msqr\u001b[0m\u001b[0;34m.\u001b[0m\u001b[0mpermutation\u001b[0m\u001b[0;34m(\u001b[0m\u001b[0;34m)\u001b[0m\u001b[0;34m)\u001b[0m\u001b[0;34m)\u001b[0m\u001b[0;34m\u001b[0m\u001b[0;34m\u001b[0m\u001b[0m\n\u001b[0m",
      "\u001b[0;32m/Users/ryosuke/workspace/Projects/notebooks/Research/Components_of_quasiCord/ToolsForQuasiCord.py\u001b[0m in \u001b[0;36mpermutation\u001b[0;34m(self)\u001b[0m\n\u001b[1;32m    201\u001b[0m         \u001b[0mentry\u001b[0m \u001b[0;34m=\u001b[0m \u001b[0mnp\u001b[0m\u001b[0;34m.\u001b[0m\u001b[0mnditer\u001b[0m\u001b[0;34m(\u001b[0m\u001b[0mGM\u001b[0m\u001b[0;34m,\u001b[0m \u001b[0mflags\u001b[0m\u001b[0;34m=\u001b[0m\u001b[0;34m[\u001b[0m\u001b[0;34m'multi_index'\u001b[0m\u001b[0;34m]\u001b[0m\u001b[0;34m)\u001b[0m\u001b[0;34m\u001b[0m\u001b[0;34m\u001b[0m\u001b[0m\n\u001b[1;32m    202\u001b[0m         \u001b[0msO\u001b[0m\u001b[0;34m,\u001b[0m \u001b[0msX\u001b[0m \u001b[0;34m=\u001b[0m \u001b[0;34m[\u001b[0m\u001b[0;34m]\u001b[0m\u001b[0;34m,\u001b[0m \u001b[0;34m[\u001b[0m\u001b[0;34m]\u001b[0m\u001b[0;34m\u001b[0m\u001b[0;34m\u001b[0m\u001b[0m\n\u001b[0;32m--> 203\u001b[0;31m         \u001b[0;32mwhile\u001b[0m \u001b[0;32mnot\u001b[0m \u001b[0mentry\u001b[0m\u001b[0;34m.\u001b[0m\u001b[0mfinished\u001b[0m\u001b[0;34m:\u001b[0m\u001b[0;34m\u001b[0m\u001b[0;34m\u001b[0m\u001b[0m\n\u001b[0m\u001b[1;32m    204\u001b[0m             \u001b[0midx\u001b[0m \u001b[0;34m=\u001b[0m \u001b[0mentry\u001b[0m\u001b[0;34m.\u001b[0m\u001b[0mmulti_index\u001b[0m\u001b[0;34m\u001b[0m\u001b[0;34m\u001b[0m\u001b[0m\n\u001b[1;32m    205\u001b[0m             \u001b[0;32mif\u001b[0m \u001b[0mGM\u001b[0m\u001b[0;34m[\u001b[0m\u001b[0midx\u001b[0m\u001b[0;34m]\u001b[0m \u001b[0;34m!=\u001b[0m \u001b[0;36m0\u001b[0m\u001b[0;34m:\u001b[0m\u001b[0;34m\u001b[0m\u001b[0;34m\u001b[0m\u001b[0m\n",
      "\u001b[0;31mKeyboardInterrupt\u001b[0m: "
     ]
    }
   ],
   "source": [
    "N = 30\n",
    "count = 0\n",
    "for itr in range(200):\n",
    "    r = ri(10)\n",
    "    b = r + ri(N)\n",
    "    l = (b + r) + ri(N)\n",
    "    e = ri(b + r + 1)\n",
    "    # ---\n",
    "    c = (l+e, l, b, r)\n",
    "    sqr = Square(c)\n",
    "    #---\n",
    "    ed, rd = 2 * e - 1, 2 * r + 1\n",
    "    cn = list(c)\n",
    "    cn[0] += rd*(b+r)\n",
    "    cn[1] += rd*(b+r)\n",
    "    cn[3] += rd\n",
    "    cn = tuple(cn)\n",
    "    flag = True\n",
    "    try:\n",
    "        sqrn = Square(cn)\n",
    "    except:\n",
    "#         print(c,ed)\n",
    "        flag = False\n",
    "    #---\n",
    "    if flag:\n",
    "        n, nn = cc(sqr), cc(sqrn)\n",
    "        delta = cn[1]-cn[2]-cn[3]\n",
    "        if delta >= 0:\n",
    "            if n != nn:\n",
    "                print(f\"[c{c},{n}],[cn{cn},{nn}],ed={ed}, L-(B+R)={delta}\")\n",
    "        else:\n",
    "            count += 1\n",
    "print(count)"
   ]
  }
 ],
 "metadata": {
  "kernelspec": {
   "display_name": "Python 3",
   "language": "python",
   "name": "python3"
  },
  "language_info": {
   "codemirror_mode": {
    "name": "ipython",
    "version": 3
   },
   "file_extension": ".py",
   "mimetype": "text/x-python",
   "name": "python",
   "nbconvert_exporter": "python",
   "pygments_lexer": "ipython3",
   "version": "3.6.13"
  }
 },
 "nbformat": 4,
 "nbformat_minor": 5
}
