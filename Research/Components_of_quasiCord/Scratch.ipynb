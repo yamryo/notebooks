{
 "cells": [
  {
   "cell_type": "markdown",
   "id": "a4a68d15-98e0-4a0a-bcfe-db4589b31f0b",
   "metadata": {},
   "source": [
    "# Scratch"
   ]
  },
  {
   "cell_type": "markdown",
   "id": "474fae2d-28c9-4993-a4e6-818875550200",
   "metadata": {},
   "source": [
    "## Modules"
   ]
  },
  {
   "cell_type": "code",
   "execution_count": 1,
   "id": "0031bb4f-c9ef-4e55-ae1e-881011b10489",
   "metadata": {
    "ExecuteTime": {
     "end_time": "2021-05-28T05:09:25.860503Z",
     "start_time": "2021-05-28T05:09:25.275687Z"
    },
    "tags": []
   },
   "outputs": [],
   "source": [
    "import numpy as np\n",
    "import Permutations as pm\n",
    "import sympy\n",
    "from numpy.random import randint as ri\n",
    "from ToolsForQuasiCord import *\n",
    "\n",
    "sympy.init_printing()\n",
    "\n",
    "import itertools\n",
    "\n",
    "import pandas as pd\n",
    "import plotly.express as px\n",
    "from tqdm.notebook import tqdm"
   ]
  },
  {
   "cell_type": "markdown",
   "id": "cb2feb1c-c006-4795-b24c-5a816dc1ae49",
   "metadata": {},
   "source": [
    "## $|L, L, L-R, R| = |L+1, L, L-R, R| = |L+R+1, L, 1, R|$"
   ]
  },
  {
   "cell_type": "code",
   "execution_count": null,
   "id": "c6e9514b-e522-4514-a8d8-fd62b7466e7f",
   "metadata": {},
   "outputs": [],
   "source": [
    "N = 20\n",
    "for itr in tqdm(range(N * 10)):\n",
    "    r = np.random.randint(1, N)\n",
    "    l = r + np.random.randint(1, N)\n",
    "    b = np.random.randint(1, (2 * l + 1) + 1)\n",
    "\n",
    "    sqrs = [\n",
    "        Square([l, l, l - r, r]),\n",
    "        Square([l + 1, l, l - r, r]),\n",
    "        Square([l + r + 1, l, 1, r]),\n",
    "        Square([l + r + 1, l, b, r]),\n",
    "    ]\n",
    "    nums = [cc(sqr) for sqr in sqrs]\n",
    "    if len(list(set(nums))) != 1:\n",
    "        print([sqr.code for sqr in sqrs], [n for n in nums])"
   ]
  },
  {
   "cell_type": "code",
   "execution_count": null,
   "id": "3454b0f0-e425-477c-9b13-24aac58c19ee",
   "metadata": {
    "tags": []
   },
   "outputs": [],
   "source": [
    "r = ri(10)\n",
    "t = r + ri(10)\n",
    "sqrs = [Square([t, t, t - r, r]), Square([t + 1, t, t - r, r])]\n",
    "print([cc(sqr) for sqr in sqrs])\n",
    "for sqr in sqrs:\n",
    "    sqr.graphic().show()"
   ]
  },
  {
   "cell_type": "code",
   "execution_count": null,
   "id": "9fec78f3-e83a-4efd-b1b3-5e0d3255a095",
   "metadata": {
    "tags": []
   },
   "outputs": [],
   "source": [
    "N = 20\n",
    "for itr in range(100):\n",
    "    b, r, t = ri(N), ri(N), ri(N)\n",
    "    try:\n",
    "        sqrs = [Square([t, t, b, r]), Square([t + 1, t, b, r])]\n",
    "        nums = [cc(sqr) for sqr in sqrs]\n",
    "        if len(set(nums)) != 1:\n",
    "            print(t - (b + r), nums)\n",
    "    #         for sqr in sqrs:\n",
    "    #             sqr.graphic().show()\n",
    "    except:\n",
    "        pass"
   ]
  },
  {
   "cell_type": "code",
   "execution_count": null,
   "id": "c9335b12-ce4b-4b30-83c7-f24a1a2345fd",
   "metadata": {
    "tags": []
   },
   "outputs": [],
   "source": [
    "r = ri(1, 10)\n",
    "t = r + ri(10)\n",
    "sqrs = [\n",
    "    Square([t, t, t - r, r]),\n",
    "    Square([t + r + 1, t, t - r, r]),\n",
    "    Square([t + r + 1, t, 1, r]),\n",
    "]\n",
    "print([cc(sqr) for sqr in sqrs])\n",
    "for sqr in sqrs:\n",
    "    sqr.graphic().show()"
   ]
  },
  {
   "cell_type": "code",
   "execution_count": 62,
   "id": "b1529bd9-f687-439f-a688-0ab7e68dca9f",
   "metadata": {
    "tags": []
   },
   "outputs": [
    {
     "name": "stdout",
     "output_type": "stream",
     "text": [
      "37 31\n",
      "[1, 1, 1, 1, 1, 1, 1, 1, 1, 1, 1, 1, 1, 1, 1, 1, 1, 1, 1, 1, 1, 1, 1, 1, 1, 1, 1, 1, 1, 1, 1, 1, 1, 1, 1, 1, 1, 1, 1, 1, 1, 1, 1, 1, 1, 1, 1, 1, 1, 1, 1, 1, 1, 1, 1, 1, 1, 1, 1, 1, 1, 1, 1, 1, 1, 1, 1, 1, 1, 1, 1, 1, 1, 1, 1, 1, 1, 1, 1, 1, 1, 1, 1, 1, 1, 1, 1, 1, 1, 1, 1, 1, 1, 1, 1, 1, 1, 1, 1, 1, 1, 1, 1, 1, 1, 1, 1, 1, 1, 1, 1, 1, 1, 1, 1, 1, 1, 1, 1, 1, 1, 1, 1, 1, 1, 1, 1, 1, 1, 1, 1, 1, 1, 1, 1, 1, 1, 1]\n"
     ]
    }
   ],
   "source": [
    "N = 50\n",
    "b, r = ri(1, N), ri(1, N)\n",
    "print(b, r)\n",
    "# ---\n",
    "seq = []\n",
    "for t in range(2 * (b + r) + 1 + 1):\n",
    "    try:\n",
    "        sqr = Square([t, b + r, b, r])\n",
    "        num = cc(sqr)\n",
    "        if len(seq) > 0 and num != seq[-1]:\n",
    "            print(seq[-1], num)\n",
    "            sqr.graphic().show()\n",
    "    except:\n",
    "        num = 0\n",
    "    seq += [num]\n",
    "print(seq)"
   ]
  },
  {
   "cell_type": "code",
   "execution_count": 63,
   "id": "3c684aab-8b54-4f5b-ac4e-58346d107cd7",
   "metadata": {
    "tags": []
   },
   "outputs": [
    {
     "name": "stdout",
     "output_type": "stream",
     "text": [
      "7 6\n",
      "[1, 1, 1, 1, 1, 1, 1, 1, 1, 1, 1, 1, 1, 1, 1, 1, 1, 1, 1, 1, 1, 1, 1, 1, 1, 1, 1, 1, 1, 1, 1, 1, 1, 1, 1, 1, 1, 1, 1, 1, 1, 1, 1, 1, 1, 1, 1, 1, 1, 1, 1, 1, 1, 1, 1, 1, 1, 1, 1, 1, 1, 1, 1, 1, 1, 1, 1, 1, 1, 1, 1, 1, 1, 1, 1, 1, 1, 1, 1, 1, 1, 1, 1, 1, 1, 1, 1, 1, 1, 1, 1, 1, 1, 1, 1, 1, 1, 1, 1]\n"
     ]
    }
   ],
   "source": [
    "b, r = ri(1, 10), ri(1, 10)\n",
    "print(b, r)\n",
    "seq = []\n",
    "for t in range(1, 100):\n",
    "    try:\n",
    "        num = cc(Square([b + r + t, b + r + t, b, r]))\n",
    "    except:\n",
    "        num = 0\n",
    "    seq += [num]\n",
    "print(seq)"
   ]
  },
  {
   "cell_type": "code",
   "execution_count": null,
   "id": "df41367a-8755-494b-b9e5-43cec9cffe71",
   "metadata": {},
   "outputs": [],
   "source": [
    "N = 5\n",
    "r, b = ri(N), ri(N)\n",
    "t = r + ri(N)\n",
    "\n",
    "sqrs = [Square([t + r + 1, t, b, r]), Square([t + r + 1, t, 1, r])]\n",
    "print([cc(sqr) for sqr in sqrs])\n",
    "for sqr in sqrs:\n",
    "    sqr.graphic().show()"
   ]
  },
  {
   "cell_type": "code",
   "execution_count": 35,
   "id": "1316a3c5-141a-43fe-b4e0-01f87253837a",
   "metadata": {},
   "outputs": [
    {
     "data": {
      "application/vnd.jupyter.widget-view+json": {
       "model_id": "4dbec6a88d5b41a7a4445458dd94d50c",
       "version_major": 2,
       "version_minor": 0
      },
      "text/plain": [
       "  0%|          | 0/200 [00:00<?, ?it/s]"
      ]
     },
     "metadata": {},
     "output_type": "display_data"
    }
   ],
   "source": [
    "N = 20\n",
    "for itr in tqdm(range(N * 10)):\n",
    "    b, r = ri(N), ri(N)\n",
    "    t = (b + r) + ri(N)\n",
    "\n",
    "    try:\n",
    "        sqrs = [\n",
    "            Square([t, t, b, r]),\n",
    "            Square([t + 1, t, b, r]),\n",
    "            Square([t, t, b, r]),\n",
    "            Square([0, b + r, b, r]),\n",
    "            Square([b + 2 * r + 1, b + r, 0, r]),\n",
    "        ]\n",
    "        nums = [cc(sqr) for sqr in sqrs]\n",
    "        if len(list(set(nums))) != 1:\n",
    "            print([sqr.code for sqr in sqrs], [n for n in nums])\n",
    "    except:\n",
    "        print(f\"\\n-----\\n({t},{t},{b},{r})\")"
   ]
  },
  {
   "cell_type": "markdown",
   "id": "50f6bcf3-7e05-41ad-a80e-161393ee3bb3",
   "metadata": {},
   "source": [
    "## Fixing B,R"
   ]
  },
  {
   "cell_type": "code",
   "execution_count": null,
   "id": "212d4ddf-a696-4e44-b5a1-57c640e99a20",
   "metadata": {
    "tags": []
   },
   "outputs": [],
   "source": [
    "N = 10\n",
    "iteration_count = 100\n",
    "count = 0\n",
    "for itr in tqdm(range(iteration_count)):\n",
    "    sqr = square_random_generator(N)  # , True)\n",
    "    # ---\n",
    "    c = sqr.code\n",
    "    ed = 2 * c[3] + 1\n",
    "    cn = [c[0] + rd, c[1] + rd, c[2] + rd, c[3]]\n",
    "    # ---\n",
    "    try:\n",
    "        sqrn = Square(cn)\n",
    "        n, nn = cc(sqr), cc(sqrn)\n",
    "        if n != nn:\n",
    "            print(f\"({n},{nn}), ({c},{cn})\")\n",
    "            count += 1\n",
    "    except:\n",
    "        print(c, rd)\n",
    "# ---\n",
    "print(count)"
   ]
  }
 ],
 "metadata": {
  "kernelspec": {
   "display_name": "Python 3",
   "language": "python",
   "name": "python3"
  },
  "language_info": {
   "codemirror_mode": {
    "name": "ipython",
    "version": 3
   },
   "file_extension": ".py",
   "mimetype": "text/x-python",
   "name": "python",
   "nbconvert_exporter": "python",
   "pygments_lexer": "ipython3",
   "version": "3.7.10"
  }
 },
 "nbformat": 4,
 "nbformat_minor": 5
}
