{
 "cells": [
  {
   "cell_type": "markdown",
   "id": "c02f374b-e117-43a0-a24e-7d4b7c1a1ee8",
   "metadata": {},
   "source": [
    "## Point refrection"
   ]
  },
  {
   "cell_type": "code",
   "execution_count": null,
   "id": "32350c65-c8ee-4f6e-bf46-f85ec9b24b80",
   "metadata": {
    "tags": []
   },
   "outputs": [],
   "source": [
    "e, r = 9, 16\n",
    "shift = max(0, e - r)\n",
    "size = 50\n",
    "tamed_matrix = []\n",
    "df = pd.read_csv(f\"data/T-L_R_series/T-L={e}_R={r}_100x100.csv\")\n",
    "for b in range(size):\n",
    "    seq = []\n",
    "    s = b + r\n",
    "    for i in range(size):\n",
    "        try:\n",
    "            seq += [df.values[b][s + i]]\n",
    "        except:\n",
    "            seq += [0]\n",
    "    tamed_matrix += [seq]\n",
    "tamed_matrix = np.array(tamed_matrix)\n",
    "# px.imshow(tamed_matrix, origin='lower').show()\n",
    "# ---\n",
    "funda_matrix = tamed_matrix[shift : (shift + 2 * r + 1), : 2 * e - 1]\n",
    "px.imshow(funda_matrix, origin=\"lower\", zmin=0, aspect=\"equal\").show()\n",
    "\n",
    "pr_matrix = np.zeros((2 * r + 1, 2 * e - 1), dtype=int)\n",
    "for i, j in itertools.product(range(2 * r + 1), range(2 * e - 1)):\n",
    "    pr_matrix[i][j] = tamed_matrix[2 * r + 1 - i][2 * e - 1 - j]\n",
    "px.imshow(pr_matrix, origin=\"lower\", zmin=0, aspect=\"equal\").show()\n",
    "px.imshow(funda_matrix - pr_matrix, origin=\"lower\", zmin=0, aspect=\"equal\").show()"
   ]
  }
 ],
 "metadata": {
  "kernelspec": {
   "display_name": "Python 3",
   "language": "python",
   "name": "python3"
  },
  "language_info": {
   "codemirror_mode": {
    "name": "ipython",
    "version": 3
   },
   "file_extension": ".py",
   "mimetype": "text/x-python",
   "name": "python",
   "nbconvert_exporter": "python",
   "pygments_lexer": "ipython3",
   "version": "3.7.10"
  }
 },
 "nbformat": 4,
 "nbformat_minor": 5
}
