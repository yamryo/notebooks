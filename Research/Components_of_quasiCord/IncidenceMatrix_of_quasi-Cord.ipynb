{
 "cells": [
  {
   "cell_type": "markdown",
   "metadata": {
    "tags": []
   },
   "source": [
    "# Incidence Matrices for quasi-cords"
   ]
  },
  {
   "cell_type": "markdown",
   "metadata": {
    "heading_collapsed": true,
    "tags": []
   },
   "source": [
    "## Importing modules"
   ]
  },
  {
   "cell_type": "code",
   "execution_count": 1,
   "metadata": {
    "ExecuteTime": {
     "end_time": "2021-05-27T09:21:57.935774Z",
     "start_time": "2021-05-27T09:21:53.829027Z"
    },
    "hidden": true,
    "tags": []
   },
   "outputs": [
    {
     "ename": "ModuleNotFoundError",
     "evalue": "No module named 'Permutations'",
     "output_type": "error",
     "traceback": [
      "\u001b[0;31m---------------------------------------------------------------------------\u001b[0m",
      "\u001b[0;31mModuleNotFoundError\u001b[0m                       Traceback (most recent call last)",
      "\u001b[0;32m/tmp/ipykernel_12861/98603057.py\u001b[0m in \u001b[0;36m<module>\u001b[0;34m\u001b[0m\n\u001b[0;32m----> 1\u001b[0;31m \u001b[0;32mimport\u001b[0m \u001b[0mPermutations\u001b[0m \u001b[0;32mas\u001b[0m \u001b[0mpm\u001b[0m\u001b[0;34m\u001b[0m\u001b[0;34m\u001b[0m\u001b[0m\n\u001b[0m\u001b[1;32m      2\u001b[0m \u001b[0;32mfrom\u001b[0m \u001b[0mQuasiCord\u001b[0m \u001b[0;32mimport\u001b[0m \u001b[0;34m*\u001b[0m\u001b[0;34m\u001b[0m\u001b[0;34m\u001b[0m\u001b[0m\n\u001b[1;32m      3\u001b[0m \u001b[0;34m\u001b[0m\u001b[0m\n\u001b[1;32m      4\u001b[0m \u001b[0;32mfrom\u001b[0m \u001b[0mcopy\u001b[0m \u001b[0;32mimport\u001b[0m \u001b[0mcopy\u001b[0m\u001b[0;34m\u001b[0m\u001b[0;34m\u001b[0m\u001b[0m\n\u001b[1;32m      5\u001b[0m \u001b[0;31m# import numpy as np\u001b[0m\u001b[0;34m\u001b[0m\u001b[0;34m\u001b[0m\u001b[0;34m\u001b[0m\u001b[0m\n",
      "\u001b[0;31mModuleNotFoundError\u001b[0m: No module named 'Permutations'"
     ]
    }
   ],
   "source": [
    "import Permutations as pm\n",
    "from QuasiCord import *\n",
    "\n",
    "from copy import copy\n",
    "# import numpy as np\n",
    "# import sympy\n",
    "# sympy.init_printing()\n",
    "# import itertools\n",
    "# from functools import reduce\n",
    "\n",
    "from plotly.offline import init_notebook_mode, iplot\n",
    "init_notebook_mode(connected=False)\n",
    "# from ipywidgets import interactive, HBox, VBox\n",
    "# from plotly import tools\n",
    "\n",
    "# from tqdm.notebook import tqdm"
   ]
  },
  {
   "cell_type": "markdown",
   "metadata": {
    "heading_collapsed": true,
    "toc-hr-collapsed": true
   },
   "source": [
    "## Create an instance of Square class."
   ]
  },
  {
   "cell_type": "code",
   "execution_count": null,
   "metadata": {
    "ExecuteTime": {
     "end_time": "2021-05-27T09:21:58.670204Z",
     "start_time": "2021-05-27T09:21:58.655670Z"
    },
    "hidden": true,
    "jupyter": {
     "source_hidden": true
    },
    "tags": []
   },
   "outputs": [],
   "source": [
    "sqr = square_random_generator(verbose=True)\n",
    "#sqr = Square((5,1,1,1)) #1,4,1,1)) #0,1,0,0)) #0,3,0,3)) #8,4,6,2)) #3,2,1,1)) #(3,4,5,2)) #(3,7,4,2)) #(1,3,1,1)) #(3,4,2,1)) #\n",
    "\n",
    "print(sqr.code)"
   ]
  },
  {
   "cell_type": "markdown",
   "metadata": {
    "heading_collapsed": true,
    "hidden": true,
    "tags": []
   },
   "source": [
    "### Parts of a square"
   ]
  },
  {
   "cell_type": "markdown",
   "metadata": {
    "hidden": true,
    "tags": []
   },
   "source": [
    "End points on the sides"
   ]
  },
  {
   "cell_type": "code",
   "execution_count": null,
   "metadata": {
    "ExecuteTime": {
     "end_time": "2021-05-27T09:21:58.687640Z",
     "start_time": "2021-05-27T09:21:58.676331Z"
    },
    "hidden": true,
    "jupyter": {
     "source_hidden": true
    },
    "tags": []
   },
   "outputs": [],
   "source": [
    "for side in sqr.sides.values():\n",
    "    print(\"side {} --> {}\".format(side.label, side.points))"
   ]
  },
  {
   "cell_type": "markdown",
   "metadata": {
    "hidden": true,
    "tags": []
   },
   "source": [
    "Segments"
   ]
  },
  {
   "cell_type": "code",
   "execution_count": null,
   "metadata": {
    "ExecuteTime": {
     "end_time": "2021-05-27T09:21:58.705317Z",
     "start_time": "2021-05-27T09:21:58.694190Z"
    },
    "hidden": true,
    "jupyter": {
     "source_hidden": true
    },
    "tags": []
   },
   "outputs": [],
   "source": [
    "all_segs = [seg.ends for seg in sqr.segments]\n",
    "print(all_segs)"
   ]
  },
  {
   "cell_type": "markdown",
   "metadata": {
    "hidden": true,
    "tags": []
   },
   "source": [
    "### Graphic"
   ]
  },
  {
   "cell_type": "code",
   "execution_count": null,
   "metadata": {
    "ExecuteTime": {
     "end_time": "2021-05-27T09:21:59.135366Z",
     "start_time": "2021-05-27T09:21:58.711610Z"
    },
    "hidden": true,
    "jupyter": {
     "source_hidden": true
    },
    "tags": []
   },
   "outputs": [],
   "source": [
    "fig = sqr.graphic(figsize=(500,500))\n",
    "fig.show()"
   ]
  },
  {
   "cell_type": "markdown",
   "metadata": {
    "hidden": true
   },
   "source": [
    "### Incidence Matrix"
   ]
  },
  {
   "cell_type": "markdown",
   "metadata": {
    "hidden": true
   },
   "source": [
    "Create the coefficient matrix of the equations coresponding to the segments"
   ]
  },
  {
   "cell_type": "code",
   "execution_count": null,
   "metadata": {
    "ExecuteTime": {
     "end_time": "2021-05-27T09:21:59.152766Z",
     "start_time": "2021-05-27T09:21:59.138090Z"
    },
    "hidden": true
   },
   "outputs": [],
   "source": [
    "M = sqr.matrix()\n",
    "print(\"{} --det--> {}\".format(M, np.linalg.det(M)))"
   ]
  },
  {
   "cell_type": "markdown",
   "metadata": {
    "hidden": true
   },
   "source": [
    "Connecting $\\pm 1$'s on the matrix"
   ]
  },
  {
   "cell_type": "code",
   "execution_count": null,
   "metadata": {
    "ExecuteTime": {
     "end_time": "2021-05-27T09:21:59.330659Z",
     "start_time": "2021-05-27T09:21:59.167156Z"
    },
    "hidden": true
   },
   "outputs": [],
   "source": [
    "fig = get_diagram(M, figsize=(500,500))\n",
    "fig.show()"
   ]
  },
  {
   "cell_type": "markdown",
   "metadata": {
    "heading_collapsed": true
   },
   "source": [
    "## All in One"
   ]
  },
  {
   "cell_type": "code",
   "execution_count": null,
   "metadata": {
    "ExecuteTime": {
     "end_time": "2021-05-27T09:22:02.310524Z",
     "start_time": "2021-05-27T09:21:59.336984Z"
    },
    "hidden": true
   },
   "outputs": [],
   "source": [
    "sqr = square_random_generator(max=6)\n",
    "# sqr = Square((2,1,0,1))\n",
    "M = sqr.matrix()\n",
    "\n",
    "output = \"{}\\n\\n {} |--det--> {}\\n\\n\".format(sqr.code, M, np.linalg.det(M))\n",
    "print(output)\n",
    "\n",
    "figs = [get_diagram(M), sqr.graphic()]\n",
    "for i in range(len(figs)): figs[i].show()"
   ]
  },
  {
   "cell_type": "code",
   "execution_count": null,
   "metadata": {},
   "outputs": [],
   "source": [
    "print(figs[0])"
   ]
  },
  {
   "cell_type": "markdown",
   "metadata": {
    "heading_collapsed": true,
    "tags": [],
    "toc-hr-collapsed": true
   },
   "source": [
    "## Observation on the incidenceMatrices"
   ]
  },
  {
   "cell_type": "markdown",
   "metadata": {
    "heading_collapsed": true,
    "hidden": true
   },
   "source": [
    "### Cofactor expansion "
   ]
  },
  {
   "cell_type": "code",
   "execution_count": null,
   "metadata": {
    "ExecuteTime": {
     "end_time": "2021-05-27T09:22:04.554020Z",
     "start_time": "2021-05-27T09:22:04.543895Z"
    },
    "hidden": true
   },
   "outputs": [],
   "source": [
    "def cofexp_raw(sqr_matrix, raw_num=0):\n",
    "    expansion = []\n",
    "    raw = sqr_matrix[raw_num]\n",
    "    for j in range(raw.size):\n",
    "        if raw[j] != 0:\n",
    "            shrinked = np.delete(np.delete(sqr_matrix, raw_num, 0),j,1)\n",
    "            sign = (-1)**(raw_num+j)\n",
    "            expansion.append([sign*raw[j], shrinked])\n",
    "    return expansion"
   ]
  },
  {
   "cell_type": "markdown",
   "metadata": {
    "hidden": true
   },
   "source": [
    "__予想1:__ 接続行列のどの行(最終行を除く)で余因子展開しても、\n",
    "全体が正則なら、必ず行列式 $\\pm 1$ のものが一つだけ。\n",
    "\n",
    "これが正しいなら、正則な接続行列の行列式は $\\pm 1$ であるとも言える。\n",
    "\n",
    "__予想2:__ 同様の余因子展開について、非正則ならすべて行列式 $0$.\n",
    "\n",
    "こちらの予想は反例があった。ex) Square(9,7,9,7), Square(8,4,6,2)"
   ]
  },
  {
   "cell_type": "code",
   "execution_count": null,
   "metadata": {
    "ExecuteTime": {
     "end_time": "2021-05-27T09:22:04.575597Z",
     "start_time": "2021-05-27T09:22:04.558063Z"
    },
    "hidden": true
   },
   "outputs": [],
   "source": [
    "#sqr = square_random_generator(); #Square((0,3,0,3))\n",
    "#M = sqr.matrix()\n",
    "\n",
    "print(\"{} --det--> {}\\n\".format(sqr.code, np.linalg.det(M)))\n",
    "# print(\"{}\\n\".format(M))\n",
    "\n",
    "for rn in range(len(sqr.segments)):\n",
    "    expn = cofexp_raw(M, raw_num=rn)\n",
    "    values = []\n",
    "    for pair in expn:\n",
    "        m = pair[1]\n",
    "        values.append(int(np.linalg.det(m)))\n",
    "    else: print(\"raw {} --raw_exp--> {}\".format(rn, values))"
   ]
  },
  {
   "cell_type": "markdown",
   "metadata": {
    "hidden": true
   },
   "source": [
    "__予想2(修正):__ 同様の余因子展開について、非正則なら、どの行でも 2つの行列式を足すと $0\\mod 2$.\n"
   ]
  },
  {
   "cell_type": "code",
   "execution_count": null,
   "metadata": {
    "ExecuteTime": {
     "end_time": "2021-05-27T09:22:04.587165Z",
     "start_time": "2021-05-27T09:22:04.578883Z"
    },
    "hidden": true
   },
   "outputs": [],
   "source": [
    "def recursive_cofexp_raw(coeff_matrix_pair, count=2):\n",
    "    if count > 0:\n",
    "        count += -1\n",
    "        sqr_matrix = coeff_matrix_pair[1]\n",
    "#         print(sqr_matrix)\n",
    "        coeff_matrix_pair[1] = [recursive_cofexp_raw(pair, count) for pair in cofexp_raw(sqr_matrix)]\n",
    "    return coeff_matrix_pair"
   ]
  },
  {
   "cell_type": "code",
   "execution_count": null,
   "metadata": {
    "ExecuteTime": {
     "end_time": "2021-05-27T09:22:04.613514Z",
     "start_time": "2021-05-27T09:22:04.595068Z"
    },
    "hidden": true
   },
   "outputs": [],
   "source": [
    "expansion = recursive_cofexp_raw([1,M], count=5)\n",
    "# print(expansion)\n",
    "\n",
    "def show_expansion(expn, depth=0):\n",
    "    for v in expn:\n",
    "        if isinstance(v, list):\n",
    "            show_expansion(v, depth+1)\n",
    "        else:\n",
    "            if isinstance(v, np.ndarray):\n",
    "                det = np.linalg.det(v)\n",
    "                if det != 0:\n",
    "                    print(\"{} --> {}\".format(v, np.linalg.det(v)))\n",
    "\n",
    "show_expansion(expansion, depth=3)            "
   ]
  },
  {
   "cell_type": "markdown",
   "metadata": {
    "heading_collapsed": true,
    "hidden": true
   },
   "source": [
    "### Elementary deformations"
   ]
  },
  {
   "cell_type": "code",
   "execution_count": null,
   "metadata": {
    "ExecuteTime": {
     "end_time": "2021-05-27T09:22:04.626404Z",
     "start_time": "2021-05-27T09:22:04.618515Z"
    },
    "hidden": true
   },
   "outputs": [],
   "source": [
    "def elem_matrix(size=1, position=(1,1)):\n",
    "    i,j = position\n",
    "    P = np.eye(size, size, dtype=int)\n",
    "    P[i][j] = 1\n",
    "    return P\n",
    "def P(n,ij):\n",
    "    return elem_matrix(size=n, position=ij)"
   ]
  },
  {
   "cell_type": "markdown",
   "metadata": {
    "hidden": true
   },
   "source": [
    "deform an incidence matrix by elementary matrices"
   ]
  },
  {
   "cell_type": "code",
   "execution_count": null,
   "metadata": {
    "ExecuteTime": {
     "end_time": "2021-05-27T09:22:04.644864Z",
     "start_time": "2021-05-27T09:22:04.630814Z"
    },
    "hidden": true
   },
   "outputs": [],
   "source": [
    "sqr = square_random_generator(max=5)\n",
    "s = len(sqr.segments)\n",
    "\n",
    "N = copy(sqr.matrix())\n",
    "\n",
    "num = 0\n",
    "for side in sqr.sides.values():\n",
    "    for k in range(side.number):\n",
    "            N = N@P(s+1,(num+k+1, num+0))\n",
    "            N = P(s+1,(num+0, num+k+1))@N\n",
    "    num += side.number\n",
    "\n",
    "print(N)"
   ]
  },
  {
   "cell_type": "markdown",
   "metadata": {
    "heading_collapsed": true
   },
   "source": [
    "### Others"
   ]
  },
  {
   "cell_type": "code",
   "execution_count": null,
   "metadata": {
    "ExecuteTime": {
     "end_time": "2021-05-13T06:22:28.922714Z",
     "start_time": "2021-05-13T06:22:28.913811Z"
    },
    "hidden": true
   },
   "outputs": [],
   "source": [
    "sqr = square_random_generator(verbose=False) #Square((0,1,1,0)) #\n",
    "s = len(sqr.segments)\n",
    "\n",
    "N = copy(sqr.matrix())\n",
    "det0 = np.linalg.det(N)\n",
    "N[s][s]=1\n",
    "det1 = np.linalg.det(N)\n",
    "print(\"{} --det0--> {} --det1--> {}\".format(sqr.code, det0, det1))"
   ]
  },
  {
   "cell_type": "markdown",
   "metadata": {
    "hidden": true
   },
   "source": [
    "__予想 (Others):__ 右下を1にした行列の行列式は、もとの2倍である。"
   ]
  }
 ],
 "metadata": {
  "kernelspec": {
   "display_name": "Python 3 (ipykernel)",
   "language": "python",
   "name": "python3"
  },
  "language_info": {
   "codemirror_mode": {
    "name": "ipython",
    "version": 3
   },
   "file_extension": ".py",
   "mimetype": "text/x-python",
   "name": "python",
   "nbconvert_exporter": "python",
   "pygments_lexer": "ipython3",
   "version": "3.7.10"
  },
  "toc": {
   "base_numbering": 1,
   "nav_menu": {},
   "number_sections": true,
   "sideBar": true,
   "skip_h1_title": true,
   "title_cell": "Table of Contents",
   "title_sidebar": "Contents",
   "toc_cell": false,
   "toc_position": {
    "height": "calc(100% - 180px)",
    "left": "10px",
    "top": "150px",
    "width": "236px"
   },
   "toc_section_display": true,
   "toc_window_display": true
  },
  "toc-autonumbering": false,
  "toc-showcode": false,
  "toc-showmarkdowntxt": false,
  "toc-showtags": false,
  "varInspector": {
   "cols": {
    "lenName": 16,
    "lenType": 16,
    "lenVar": 40
   },
   "kernels_config": {
    "python": {
     "delete_cmd_postfix": "",
     "delete_cmd_prefix": "del ",
     "library": "var_list.py",
     "varRefreshCmd": "print(var_dic_list())"
    },
    "r": {
     "delete_cmd_postfix": ") ",
     "delete_cmd_prefix": "rm(",
     "library": "var_list.r",
     "varRefreshCmd": "cat(var_dic_list()) "
    }
   },
   "types_to_exclude": [
    "module",
    "function",
    "builtin_function_or_method",
    "instance",
    "_Feature"
   ],
   "window_display": false
  }
 },
 "nbformat": 4,
 "nbformat_minor": 4
}
