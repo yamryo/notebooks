{
 "cells": [
  {
   "cell_type": "markdown",
   "id": "810ad619-7dd9-4c54-90f3-f6b1059b5109",
   "metadata": {},
   "source": [
    "# Translations fixing $T-L$ and $R$"
   ]
  },
  {
   "cell_type": "code",
   "execution_count": 1,
   "id": "e3bcb345-c725-47ee-8c1b-9d0795ed663f",
   "metadata": {
    "ExecuteTime": {
     "end_time": "2021-05-28T05:09:25.860503Z",
     "start_time": "2021-05-28T05:09:25.275687Z"
    },
    "tags": []
   },
   "outputs": [],
   "source": [
    "import Permutations as pm\n",
    "import sympy\n",
    "from numpy.random import randint as ri\n",
    "from ToolsForQuasiCord import *\n",
    "\n",
    "sympy.init_printing()\n",
    "\n",
    "import itertools\n",
    "\n",
    "import pandas as pd\n",
    "import plotly.express as px\n",
    "from plotly.subplots import make_subplots\n",
    "from tqdm.notebook import tqdm"
   ]
  },
  {
   "cell_type": "markdown",
   "id": "4dea1a2e-930e-4c6f-9a4b-1295b23e5d06",
   "metadata": {},
   "source": [
    "## Tamed matrix"
   ]
  },
  {
   "cell_type": "code",
   "execution_count": null,
   "id": "ccd55746-5560-4277-a069-8deeea33a02b",
   "metadata": {
    "tags": []
   },
   "outputs": [],
   "source": [
    "e, r = 3, 4\n",
    "shift = max(0, e - r)\n",
    "size = 50\n",
    "tamed_matrix = []\n",
    "df = pd.read_csv(f\"data/fix_T-L_R/T-L={e}_R={r}_100x100.csv\")\n",
    "for b in range(size):\n",
    "    seq = []\n",
    "    s = (b + r - e) + 1  # int((b+r-e)/2)+(b+r-e)%2\n",
    "    for i in range(size):\n",
    "        try:\n",
    "            seq += [df.values[b][s + i]]\n",
    "        except:\n",
    "            seq += [0]\n",
    "    tamed_matrix += [seq]\n",
    "tamed_matrix = np.array(tamed_matrix)\n",
    "px.imshow(tamed_matrix, origin=\"lower\", zmin=0).show()\n",
    "fig = px.imshow(\n",
    "    tamed_matrix[shift : (shift + 2 * r + 1), : 2 * e - 1],\n",
    "    origin=\"lower\",\n",
    "    zmin=0,\n",
    "    aspect=\"equal\",\n",
    ")\n",
    "fig.show()"
   ]
  },
  {
   "cell_type": "markdown",
   "id": "46111b4e-f0e4-4bf5-9d54-9423a19651d1",
   "metadata": {},
   "source": [
    "## Translation along B-axis"
   ]
  },
  {
   "cell_type": "code",
   "execution_count": null,
   "id": "9ed500f1-9ddb-46e4-991b-8529e66599f8",
   "metadata": {
    "ExecuteTime": {
     "end_time": "2021-05-28T05:09:37.293177Z",
     "start_time": "2021-05-28T05:09:32.767515Z"
    },
    "tags": []
   },
   "outputs": [],
   "source": [
    "d = 2 * r + 1\n",
    "# ---\n",
    "Row, Col = 4, 3\n",
    "fig = make_subplots(Row, Col, subplot_titles=[f\"s={s}\" for s in range(Row * Col)])\n",
    "# ---\n",
    "for i, j in itertools.product(range(Row), range(Col)):\n",
    "    s = i * Col + j\n",
    "    try:\n",
    "        mat = [tamed_matrix[s + n * d] for n in range(int(size / d) + 1)]\n",
    "        fig.append_trace(px.imshow(mat).data[0], i + 1, j + 1)\n",
    "    except:\n",
    "        pass\n",
    "# ---\n",
    "fig.update_layout(title=f\"T-L={e}, R={r}, d={d}\")\n",
    "fig.show()"
   ]
  },
  {
   "cell_type": "markdown",
   "id": "0fe0cf28-046a-4a15-bd93-05b86639537d",
   "metadata": {},
   "source": [
    "## Translation along L-axis"
   ]
  },
  {
   "cell_type": "code",
   "execution_count": null,
   "id": "2c040844-eecf-44eb-8cb5-dee97fe35394",
   "metadata": {
    "ExecuteTime": {
     "end_time": "2021-05-28T05:09:37.293177Z",
     "start_time": "2021-05-28T05:09:32.767515Z"
    },
    "tags": []
   },
   "outputs": [],
   "source": [
    "d = 2 * e - 1\n",
    "# ---\n",
    "Row, Col = 3, 3\n",
    "fig = make_subplots(Row, Col, subplot_titles=[f\"s={s}\" for s in range(Row * Col)])\n",
    "# ---\n",
    "for i, j in itertools.product(range(Row), range(Col)):\n",
    "    s = i * Col + j\n",
    "    mat = np.transpose(\n",
    "        np.stack([tamed_matrix[:, s + n * d] for n in range(int(size / d) - 5)], 0)\n",
    "    )\n",
    "    fig.append_trace(px.imshow(mat).data[0], i + 1, j + 1)\n",
    "# ---\n",
    "fig.update_layout(height=400 * Row, width=200 * Col, title=f\"T-L={e}, R={r}, d={d}\")\n",
    "fig.show()"
   ]
  },
  {
   "cell_type": "code",
   "execution_count": null,
   "id": "6cb835b1-624a-49ba-b2a0-658f62cc3d67",
   "metadata": {
    "tags": []
   },
   "outputs": [],
   "source": [
    "Row, Col = 6, 6\n",
    "fig = make_subplots(Row, Col)\n",
    "# ---\n",
    "for e, r in itertools.product(range(2, Row + 2), range(1, Col + 1)):\n",
    "    shift = max(0, e - r)\n",
    "    size = 20\n",
    "    tamed_matrix = []\n",
    "    df = pd.read_csv(f\"data/T-L_R_series/T-L={e}_R={r}_100x100.csv\")\n",
    "    for b in range(size):\n",
    "        seq = []\n",
    "        s = b + r\n",
    "        for i in range(size):\n",
    "            try:\n",
    "                seq += [df.values[b + shift][s + i]]\n",
    "            except:\n",
    "                seq += [0]\n",
    "        tamed_matrix += [seq]\n",
    "    tv = [2 * r + 1, 2 * e - 1]\n",
    "    fig.append_trace(px.imshow(tamed_matrix).data[0], e - 1, r)\n",
    "# ---\n",
    "fig.update_layout(\n",
    "    height=200 * Row,\n",
    "    width=200 * Col,\n",
    "    title=f\"Number of Components Maps: [Rows: 2 <= e <={Row+1}, Cols: 1 <= r <= {Col}\",\n",
    ")\n",
    "fig.show()"
   ]
  },
  {
   "cell_type": "code",
   "execution_count": null,
   "id": "93687965-2f60-44da-ab99-c864cce2fac2",
   "metadata": {
    "tags": []
   },
   "outputs": [],
   "source": [
    "Row, Col = 6, 6\n",
    "box_size = 20  # max(2*Col+1, 2*Row-1)\n",
    "fig = make_subplots(Row, Col)\n",
    "# ---\n",
    "for e, r in itertools.product(range(2, Row + 2), range(1, Col + 1)):\n",
    "    funda_area = np.zeros((box_size, box_size), dtype=int)\n",
    "    shift = max(0, e - r)\n",
    "    size = 20\n",
    "    tamed_matrix = []\n",
    "    df = pd.read_csv(f\"data/T-L_R_series/T-L={e}_R={r}_100x100.csv\")\n",
    "    for b in range(size):\n",
    "        seq = []\n",
    "        s = b + r\n",
    "        for i in range(size):\n",
    "            try:\n",
    "                seq += [df.values[b + shift - 1][s + i]]\n",
    "            except:\n",
    "                seq += [0]\n",
    "        tamed_matrix += [seq]\n",
    "    tv = [2 * r + 1, 2 * e - 1]\n",
    "    for i, j in itertools.product(range(box_size), range(box_size)):\n",
    "        try:\n",
    "            funda_area[i][j] = np.array(tamed_matrix)[1 : tv[0] + 1, : tv[1]][i][j]\n",
    "        except:\n",
    "            pass\n",
    "    hm = px.imshow(funda_area, aspect=\"equal\")\n",
    "    fig.append_trace(hm.data[0], e - 1, r)\n",
    "#     fig.append_trace(px.imshow(tamed_matrix).data[0], e-1, r)\n",
    "# ---\n",
    "fig.update_layout(\n",
    "    height=210 * Row,\n",
    "    width=200 * Col,\n",
    "    title=f\"Fundarmental Areas: [Rows: 2 <= e <={Row+1}, Cols: 1 <= r <= {Col}\",\n",
    ")\n",
    "# ---\n",
    "fig.show()"
   ]
  },
  {
   "cell_type": "markdown",
   "id": "3af6af93-17cb-4bd7-a409-e100474116b1",
   "metadata": {},
   "source": [
    "## Not tamed"
   ]
  },
  {
   "cell_type": "code",
   "execution_count": null,
   "id": "d7c8fbc0-2784-41e8-a55f-b771a28ac939",
   "metadata": {
    "tags": []
   },
   "outputs": [],
   "source": [
    "e, r = 3, 4\n",
    "shift = max(0, e - r)\n",
    "size = 50\n",
    "tamed_matrix = []\n",
    "df = pd.read_csv(f\"data/T-L_R_series/T-L={e}_R={r}_100x100.csv\")\n",
    "for b in range(size):\n",
    "    seq = []\n",
    "    s = int((b + r - e) / 2) + (b + r - e) % 2  # (b+r-e) +1 #\n",
    "    for i in range(size):\n",
    "        try:\n",
    "            seq += [df.values[b][s + i]]\n",
    "        except:\n",
    "            seq += [0]\n",
    "    tamed_matrix += [seq]\n",
    "tamed_matrix = np.array(tamed_matrix)\n",
    "px.imshow(tamed_matrix, origin=\"lower\", zmin=0).show()\n",
    "fig = px.imshow(\n",
    "    tamed_matrix[shift : (shift + 2 * r + 1), :size],\n",
    "    origin=\"lower\",\n",
    "    zmin=0,\n",
    "    aspect=\"equal\",\n",
    ")\n",
    "fig.show()"
   ]
  },
  {
   "cell_type": "code",
   "execution_count": null,
   "id": "cdf22cf3-86a3-48fd-819b-cb931fd52912",
   "metadata": {
    "tags": []
   },
   "outputs": [],
   "source": [
    "e, r = 3, 7\n",
    "shift = max(0, e - r)\n",
    "size = 70\n",
    "matrix = []\n",
    "df = pd.read_csv(f\"data/T-L_R_series/T-L={e}_R={r}_100x100.csv\")\n",
    "px.imshow(df.values[:size, :size], origin=\"lower\", zmax=13).show()\n",
    "for b in range(size):\n",
    "    seq = []\n",
    "    for i in range(size):\n",
    "        try:\n",
    "            seq += [df.values[b][i] - df.values[b][i + 2 * e - 1]]\n",
    "        #             seq += [df.values[b][i+2*e-1]]\n",
    "        except:\n",
    "            seq += [0]\n",
    "    matrix += [seq]\n",
    "matrix = np.array(matrix)\n",
    "px.imshow(matrix, origin=\"lower\").show()\n",
    "# fig = px.imshow(matrix[shift:(shift+2*r+1),:2*e-1], origin='lower', zmin=0, aspect='equal')\n",
    "# fig.show()"
   ]
  },
  {
   "cell_type": "code",
   "execution_count": null,
   "id": "62b8a53f-425a-4b7f-ac6d-862601c4cfce",
   "metadata": {
    "tags": []
   },
   "outputs": [],
   "source": [
    "e, r = 3, 7\n",
    "shift = max(0, e - r)\n",
    "size = 70\n",
    "matrix = []\n",
    "df = pd.read_csv(f\"data/T-L_R_series/T-L={e}_R={r}_100x100.csv\")\n",
    "px.imshow(df.values[:size, :size], origin=\"lower\", zmax=13).show()\n",
    "for b in range(size):\n",
    "    seq = []\n",
    "    for i in range(size):\n",
    "        try:\n",
    "            seq += [df.values[b][i] - df.values[b + 2 * r + 1][i + 2 * r + 1]]\n",
    "        except:\n",
    "            seq += [0]\n",
    "    matrix += [seq]\n",
    "matrix = np.array(matrix)\n",
    "px.imshow(matrix, origin=\"lower\", zmax=13).show()\n",
    "# fig = px.imshow(matrix[shift:(shift+2*r+1),:2*e-1], origin='lower', zmin=0, aspect='equal')\n",
    "# fig.show()"
   ]
  },
  {
   "cell_type": "markdown",
   "id": "f2b0f7db-9627-4917-ba2d-7de41fbb842b",
   "metadata": {},
   "source": [
    "## Reduction"
   ]
  },
  {
   "cell_type": "markdown",
   "id": "a03acb60-db8b-42ac-9088-8700323dfe93",
   "metadata": {},
   "source": [
    "### Translation along L (and T)"
   ]
  },
  {
   "cell_type": "code",
   "execution_count": null,
   "id": "3aed3356-fe3b-43d4-b311-2a06d173aa7e",
   "metadata": {
    "tags": []
   },
   "outputs": [],
   "source": [
    "N = 50\n",
    "b, r = ri(1, N), ri(1, N)\n",
    "l = (b + r) + ri(N)\n",
    "t = l + ri(b + r + 1)\n",
    "# ---\n",
    "\n",
    "c = (t, l, b, r)\n",
    "sqr = Square(c)\n",
    "print(c, cc(sqr))\n",
    "print(f\"T+L={c[0]+c[1]}, B+R={c[2]+c[3]}, L-(B+R)={c[1]-c[2]-c[3]}\")\n",
    "e = c[0] - c[1]\n",
    "r = c[3]\n",
    "ed, rd = 2 * e - 1, 2 * r + 1\n",
    "print(f\"e={e}, ed={ed}, rd={rd}\")"
   ]
  },
  {
   "cell_type": "code",
   "execution_count": null,
   "id": "043fbbeb-d203-4021-9747-f612e9c876de",
   "metadata": {
    "tags": []
   },
   "outputs": [],
   "source": [
    "cn = list(c)\n",
    "cn[0] -= ed\n",
    "cn[1] -= ed\n",
    "cn = tuple(cn)\n",
    "\n",
    "sqrn = Square(cn)\n",
    "print(cn, cc(sqrn))\n",
    "print(f\"T+L={cn[0]+cn[1]}, B+R={cn[2]+cn[3]}, L-(B+R)={cn[1]-cn[2]-cn[3]}\")"
   ]
  },
  {
   "cell_type": "code",
   "execution_count": null,
   "id": "9af0308e-d2e5-4b9e-b07e-186b646a2762",
   "metadata": {},
   "outputs": [],
   "source": [
    "N = 50\n",
    "count = 0\n",
    "for itr in tqdm(range(100)):\n",
    "    b, r = ri(N), ri(N)\n",
    "    l = (b + r) + ri(N)\n",
    "    e = ri(b + r + 1)\n",
    "    # ---\n",
    "    c = (l + e, l, b, r)\n",
    "    sqr = Square(c)\n",
    "    # ---\n",
    "    ed, rd = 2 * e - 1, 2 * r + 1\n",
    "    cn = list(c)\n",
    "    cn[0] += ed\n",
    "    cn[1] += ed\n",
    "    cn = tuple(cn)\n",
    "    flag = True\n",
    "    try:\n",
    "        sqrn = Square(cn)\n",
    "    except:\n",
    "        #         print(c,ed)\n",
    "        flag = False\n",
    "    # ---\n",
    "    if flag:\n",
    "        n, nn = cc(sqr), cc(sqrn)\n",
    "        delta = cn[1] - cn[2] - cn[3]\n",
    "        if n != nn:\n",
    "            print(f\"[{c},{n}],[{cn},{nn}],ed={ed}, L-(B+R)={delta}\")\n",
    "            if delta < 0:\n",
    "                coutn += 1\n",
    "print(count)"
   ]
  },
  {
   "cell_type": "markdown",
   "id": "20df9f08-6169-4dab-acac-8dd8bb4f185d",
   "metadata": {},
   "source": [
    " $|T,L, B, R|=|T+ed,L+ed, B, R|$ が $L-(B+R) \\geq 0$ のときに成立すること。"
   ]
  },
  {
   "cell_type": "code",
   "execution_count": null,
   "id": "437c7ff3-2eea-446a-b0f9-83fda1e4eb4b",
   "metadata": {
    "tags": []
   },
   "outputs": [],
   "source": [
    "N = 100\n",
    "iteration_count = 200\n",
    "count = 0\n",
    "for itr in tqdm(range(iteration_count)):\n",
    "    sqr = square_random_generator(N)\n",
    "    c = sqr.code\n",
    "    ed = abs(2 * (c[0] - c[1]) - 1)\n",
    "    rd = 2 * c[3] + 1\n",
    "    # ---\n",
    "    cn = list(c)\n",
    "    cn[0] += ed\n",
    "    cn[1] += ed\n",
    "    cn[2] += 0\n",
    "    cn = tuple(cn)\n",
    "    flag = True\n",
    "    try:\n",
    "        sqrn = Square(cn)\n",
    "    except:\n",
    "        print(c, ed)\n",
    "        flag = False\n",
    "    # ---\n",
    "    if flag:\n",
    "        n, nn = cc(sqr), cc(sqrn)\n",
    "        delta = c[1] - (c[2] + c[3])\n",
    "        deltat = c[0] - (c[2] + c[3])\n",
    "        if n != nn:\n",
    "            print(f\"({n},{nn}), ({c},{cn}),ed={ed}, L-(B+R)={delta}, T-(B+R)={deltat}\")\n",
    "            count += 1\n",
    "print(count)"
   ]
  },
  {
   "cell_type": "markdown",
   "id": "9814ecb2-8e81-44be-bad7-d2a2ced0ad67",
   "metadata": {},
   "source": [
    "$|T,L, B, R|=|T+ed,L+ed, B, R|$ が $T-(B+R)$ の正負に依らないこと"
   ]
  },
  {
   "cell_type": "code",
   "execution_count": null,
   "id": "f04a9bcb-4a08-495e-9dbd-58090379a4ad",
   "metadata": {
    "tags": []
   },
   "outputs": [],
   "source": [
    "N = 50\n",
    "pos, neg, err = 0, 0, 0\n",
    "for itr in tqdm(range(500)):\n",
    "    b, r, e = ri(N), ri(N), ri(10)\n",
    "    l = b + r + ri(N)\n",
    "    t = ri(l - (b + r), N)\n",
    "    # ---\n",
    "    c = (t, l, b, r)\n",
    "    ed = abs(2 * (c[0] - c[1]) - 1)\n",
    "    delta = l - (b + r)\n",
    "    deltat = t - (b + r)\n",
    "    if delta < 0:\n",
    "        print(\"Oops\")\n",
    "\n",
    "    try:\n",
    "        s = Square(c)\n",
    "        cn = (t + ed, l + ed, b, r)\n",
    "        sn = Square(cn)\n",
    "        n, nn = cc(s), cc(sn)\n",
    "        if deltat > 0:\n",
    "            pos += 1\n",
    "        else:\n",
    "            neg += 1\n",
    "        if not (n == nn):\n",
    "            print(n, nn, delta, deltat)\n",
    "    except Exception as e:\n",
    "        err += 1\n",
    "#         print(f\"{c},{e}\\n\")\n",
    "print(f\"pos={pos},neg={neg}, err={err}\")"
   ]
  },
  {
   "cell_type": "markdown",
   "id": "e84491e0-b4d3-45dd-ab04-ffad5c8f2cc6",
   "metadata": {},
   "source": [
    "### Translation along B"
   ]
  },
  {
   "cell_type": "code",
   "execution_count": null,
   "id": "87a611df-0ada-463d-b4fe-b30bb8c0d5b9",
   "metadata": {},
   "outputs": [],
   "source": [
    "N = 50\n",
    "# ---\n",
    "c = (t, l, b, r)\n",
    "sqr = square_random_generator(N)\n",
    "c = sqr.code\n",
    "t, b, r, l = c[0], c[1], c[2], c[3]\n",
    "e = t - l\n",
    "print(c, cc(sqr))\n",
    "print(f\"T-L={c[0]-c[1]}, L-(B+R)={c[1]-c[2]-c[3]}\")\n",
    "e = c[0] - c[1]\n",
    "r = c[3]\n",
    "ed, rd = abs(2 * e - 1), 2 * r + 1\n",
    "print(f\"e={e}, ed={ed}, rd={rd} \\n\")\n",
    "# ---\n",
    "\n",
    "cn = list(c)\n",
    "cn[0] += rd  # + ed\n",
    "cn[1] += rd  # + ed\n",
    "cn[2] += rd\n",
    "cn = tuple(cn)\n",
    "\n",
    "sqrn = Square(cn)\n",
    "print(cn, cc(sqrn))\n",
    "print(f\"T+L={cn[0]+cn[1]}, B+R={cn[2]+cn[3]}, L-(B+R)={cn[1]-cn[2]-cn[3]}\")"
   ]
  },
  {
   "cell_type": "code",
   "execution_count": 10,
   "id": "eb214c3f-88a8-47dc-beb4-5e0c82317f9e",
   "metadata": {
    "tags": []
   },
   "outputs": [
    {
     "data": {
      "application/vnd.jupyter.widget-view+json": {
       "model_id": "954a3077c636437380406e961b4ac85a",
       "version_major": 2,
       "version_minor": 0
      },
      "text/plain": [
       "  0%|          | 0/200 [00:00<?, ?it/s]"
      ]
     },
     "metadata": {},
     "output_type": "display_data"
    },
    {
     "name": "stdout",
     "output_type": "stream",
     "text": [
      "0\n"
     ]
    }
   ],
   "source": [
    "N = 50\n",
    "iteration_count = 200\n",
    "count = 0\n",
    "for itr in tqdm(range(iteration_count)):\n",
    "    sqr = square_random_generator(N)  # , True)\n",
    "    # ---\n",
    "    c = sqr.code\n",
    "    rd = 2 * c[3] + 1\n",
    "    cn = [c[0] + rd, c[1] + rd, c[2] + rd, c[3]]\n",
    "    # ---\n",
    "    try:\n",
    "        sqrn = Square(cn)\n",
    "        n, nn = cc(sqr), cc(sqrn)\n",
    "        if n != nn:\n",
    "            print(f\"({n},{nn}), ({c},{cn})\")\n",
    "            count += 1\n",
    "    except:\n",
    "        print(c, rd)\n",
    "# ---\n",
    "print(count)"
   ]
  }
 ],
 "metadata": {
  "kernelspec": {
   "display_name": "Python 3",
   "language": "python",
   "name": "python3"
  },
  "language_info": {
   "codemirror_mode": {
    "name": "ipython",
    "version": 3
   },
   "file_extension": ".py",
   "mimetype": "text/x-python",
   "name": "python",
   "nbconvert_exporter": "python",
   "pygments_lexer": "ipython3",
   "version": "3.7.10"
  }
 },
 "nbformat": 4,
 "nbformat_minor": 5
}
