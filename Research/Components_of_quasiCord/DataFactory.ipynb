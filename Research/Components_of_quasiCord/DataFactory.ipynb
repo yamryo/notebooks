{
 "cells": [
  {
   "cell_type": "markdown",
   "id": "55424fff-c23b-454d-9ba4-695e670af691",
   "metadata": {},
   "source": [
    "# Data Factory"
   ]
  },
  {
   "cell_type": "code",
   "execution_count": 1,
   "id": "0031bb4f-c9ef-4e55-ae1e-881011b10489",
   "metadata": {
    "ExecuteTime": {
     "end_time": "2021-05-28T05:09:25.860503Z",
     "start_time": "2021-05-28T05:09:25.275687Z"
    },
    "tags": []
   },
   "outputs": [],
   "source": [
    "import numpy as np\n",
    "import sympy\n",
    "from ToolsForQuasiCord import *\n",
    "\n",
    "sympy.init_printing()\n",
    "\n",
    "import itertools\n",
    "import os\n",
    "\n",
    "import pandas as pd\n",
    "import plotly.express as px\n",
    "from tqdm.notebook import tqdm"
   ]
  },
  {
   "cell_type": "code",
   "execution_count": 10,
   "id": "c346ab73-b5b2-425c-9822-2caf15d35490",
   "metadata": {
    "tags": []
   },
   "outputs": [],
   "source": [
    "def data_file_generator(func, fix, rng=[range(5), range(5)], size=100):\n",
    "    itr = itertools.product(rng[0], rng[1])\n",
    "    for f0, f1 in tqdm(itr, total=len(rng[0]) * len(rng[1])):\n",
    "        file_name = (\n",
    "            f\"data/fix_{fix[0]}_{fix[1]}/{fix[0]}={f0}_{fix[1]}={f1}_{size}x{size}.csv\"\n",
    "        )\n",
    "        if not os.path.exists(file_name):\n",
    "            M = np.zeros((size, size), dtype=int)\n",
    "            for i, j in itertools.product(range(size), range(size)):\n",
    "                try:\n",
    "                    M[s][t] = func(f0, f1, i, j)\n",
    "                except:\n",
    "                    pass\n",
    "            pd.DataFrame(M).to_csv(file_name, index=False)"
   ]
  },
  {
   "cell_type": "markdown",
   "id": "1a738879-2cd5-4ec4-bb0a-a1864761c897",
   "metadata": {},
   "source": [
    "## Setting $T>L>R$. On each $T-L$ and $R$, changing $B$ and $L$"
   ]
  },
  {
   "cell_type": "code",
   "execution_count": 11,
   "id": "ffb2bb0d-f906-434e-8648-f561034f66cf",
   "metadata": {
    "ExecuteTime": {
     "end_time": "2021-05-28T05:09:37.293177Z",
     "start_time": "2021-05-28T05:09:32.767515Z"
    },
    "tags": []
   },
   "outputs": [
    {
     "data": {
      "application/vnd.jupyter.widget-view+json": {
       "model_id": "823174bf85d8432eabcfd8e89d61f5c1",
       "version_major": 2,
       "version_minor": 0
      },
      "text/plain": [
       "  0%|          | 0/25 [00:00<?, ?it/s]"
      ]
     },
     "metadata": {},
     "output_type": "display_data"
    }
   ],
   "source": [
    "def cc_fix_e_r(e, r, i, j):\n",
    "    c = [j + e, j, i, r]\n",
    "    return cc(Square(c))\n",
    "# ---\n",
    "data_file_generator(cc_fix_e_r, (\"T-L\", \"R\"))"
   ]
  },
  {
   "cell_type": "markdown",
   "id": "e2e452ac-1fb7-433c-9000-51e78aefec32",
   "metadata": {},
   "source": [
    "## fixing $T-L$ and $B$, changing $L$ and $R$"
   ]
  },
  {
   "cell_type": "code",
   "execution_count": 12,
   "id": "92f3d5b0-ef1d-424f-82c1-5fc74eedd4f8",
   "metadata": {
    "ExecuteTime": {
     "end_time": "2021-05-28T05:09:37.293177Z",
     "start_time": "2021-05-28T05:09:32.767515Z"
    },
    "tags": []
   },
   "outputs": [
    {
     "data": {
      "application/vnd.jupyter.widget-view+json": {
       "model_id": "34aa8a74da1b4c5d8a79e2aa75d4745e",
       "version_major": 2,
       "version_minor": 0
      },
      "text/plain": [
       "  0%|          | 0/25 [00:00<?, ?it/s]"
      ]
     },
     "metadata": {},
     "output_type": "display_data"
    }
   ],
   "source": [
    "def cc_fix_e_b(e, b, i, j):\n",
    "    return cc(Square([i + e, i, b, j]))\n",
    "# ---\n",
    "data_file_generator(cc_fix_e_b, (\"T-L\", \"B\"))"
   ]
  },
  {
   "cell_type": "markdown",
   "id": "0a857589-1274-4f8d-b3f2-5f75ee0346b8",
   "metadata": {},
   "source": [
    "## fixing $L-R$ and $B$, changing $T$ and $R$"
   ]
  },
  {
   "cell_type": "code",
   "execution_count": null,
   "id": "b186bf00-5cf8-4ab3-81d7-4ccfc6d93329",
   "metadata": {
    "ExecuteTime": {
     "end_time": "2021-05-28T05:09:37.293177Z",
     "start_time": "2021-05-28T05:09:32.767515Z"
    },
    "tags": []
   },
   "outputs": [
    {
     "data": {
      "application/vnd.jupyter.widget-view+json": {
       "model_id": "e899253e18784e9ca248ca8a06ffee75",
       "version_major": 2,
       "version_minor": 0
      },
      "text/plain": [
       "  0%|          | 0/25 [00:00<?, ?it/s]"
      ]
     },
     "metadata": {},
     "output_type": "display_data"
    }
   ],
   "source": [
    "def cc_fix_f_b(f, b, i, j):\n",
    "    c = [i, f + j, b, j]\n",
    "    return cc(Square(c))\n",
    "#---\n",
    "data_file_generator(cc_fix_f_b, (\"L-R\", \"B\"))"
   ]
  },
  {
   "cell_type": "markdown",
   "id": "999b7edd-d307-4c03-95a1-bf31b5b3db5a",
   "metadata": {},
   "source": [
    "## fixing $B$ and $R$, changing $T$ and $L$"
   ]
  },
  {
   "cell_type": "code",
   "execution_count": null,
   "id": "f1b13095-e134-4cfc-80e4-3e4968af78f4",
   "metadata": {
    "ExecuteTime": {
     "end_time": "2021-05-28T05:09:37.293177Z",
     "start_time": "2021-05-28T05:09:32.767515Z"
    },
    "tags": []
   },
   "outputs": [],
   "source": [
    "def cc_fix_b_r(b, r, i, j):\n",
    "    c = [i, j, b, r]\n",
    "    return cc(Square(c))\n",
    "#---\n",
    "data_file_generator(cc_fix_b_r, (\"B\", \"R\"))"
   ]
  },
  {
   "cell_type": "markdown",
   "id": "937a3896-f553-4db4-b056-0701d363847a",
   "metadata": {},
   "source": [
    "## fixing $T$ and $L$, changing $B$ and $R$"
   ]
  },
  {
   "cell_type": "code",
   "execution_count": null,
   "id": "5931f5af-41d8-4c65-8366-ca878f7ca6fa",
   "metadata": {
    "ExecuteTime": {
     "end_time": "2021-05-28T05:09:37.293177Z",
     "start_time": "2021-05-28T05:09:32.767515Z"
    },
    "tags": []
   },
   "outputs": [],
   "source": [
    "def cc_fix_t_l(t, l, i, j):\n",
    "    c = [t, l, i, j]\n",
    "    return cc(Square(c))\n",
    "#---\n",
    "data_file_generator(cc_fix_t_l, (\"T\", \"L\"))"
   ]
  },
  {
   "cell_type": "markdown",
   "id": "68766120-8d25-4215-9237-c65dd15f5821",
   "metadata": {},
   "source": [
    "## fixing $T+L$ and $R$, changing $T$ and $B$"
   ]
  },
  {
   "cell_type": "code",
   "execution_count": null,
   "id": "a2140d5a-d060-48f0-b089-7cbeae4d6398",
   "metadata": {
    "ExecuteTime": {
     "end_time": "2021-05-28T05:09:37.293177Z",
     "start_time": "2021-05-28T05:09:32.767515Z"
    },
    "tags": []
   },
   "outputs": [],
   "source": [
    "def cc_fix_sum_r(s, r, i, j):\n",
    "    c = [i, s-i, j, r]\n",
    "    return cc(Square(c))\n",
    "#---\n",
    "data_file_generator(cc_fix_sum_r, (\"Sum\", \"R\"))"
   ]
  },
  {
   "cell_type": "markdown",
   "id": "4f1f1bf9-d53d-4cc7-907c-2c906b294e72",
   "metadata": {},
   "source": [
    "## fixing $T$ and $B$, changing $L$ and $R$"
   ]
  },
  {
   "cell_type": "code",
   "execution_count": null,
   "id": "9b0bef1e-d8cb-4ed4-8edb-23450508d1f8",
   "metadata": {
    "ExecuteTime": {
     "end_time": "2021-05-28T05:09:37.293177Z",
     "start_time": "2021-05-28T05:09:32.767515Z"
    },
    "tags": []
   },
   "outputs": [],
   "source": [
    "def cc_fix_t_b(t, b, i, j):\n",
    "    c = [t, i, b, j]\n",
    "    return cc(Square(c))\n",
    "#---\n",
    "data_file_generator(cc_fix_t_b, (\"T\", \"B\"))"
   ]
  }
 ],
 "metadata": {
  "kernelspec": {
   "display_name": "Python 3",
   "language": "python",
   "name": "python3"
  },
  "language_info": {
   "codemirror_mode": {
    "name": "ipython",
    "version": 3
   },
   "file_extension": ".py",
   "mimetype": "text/x-python",
   "name": "python",
   "nbconvert_exporter": "python",
   "pygments_lexer": "ipython3",
   "version": "3.7.10"
  }
 },
 "nbformat": 4,
 "nbformat_minor": 5
}
