{
 "cells": [
  {
   "cell_type": "markdown",
   "id": "55424fff-c23b-454d-9ba4-695e670af691",
   "metadata": {},
   "source": [
    "# Data Factory"
   ]
  },
  {
   "cell_type": "code",
   "execution_count": 1,
   "id": "0031bb4f-c9ef-4e55-ae1e-881011b10489",
   "metadata": {
    "ExecuteTime": {
     "end_time": "2021-05-28T05:09:25.860503Z",
     "start_time": "2021-05-28T05:09:25.275687Z"
    },
    "tags": []
   },
   "outputs": [],
   "source": [
    "import numpy as np\n",
    "import sympy\n",
    "from ToolsForQuasiCord import *\n",
    "\n",
    "sympy.init_printing()\n",
    "\n",
    "import itertools\n",
    "import os\n",
    "\n",
    "import pandas as pd\n",
    "import plotly.express as px\n",
    "from tqdm.notebook import tqdm"
   ]
  },
  {
   "cell_type": "markdown",
   "id": "1a738879-2cd5-4ec4-bb0a-a1864761c897",
   "metadata": {},
   "source": [
    "## Setting $T>L>R$. On each $T-L$ and $R$, changing $B$ and $L$"
   ]
  },
  {
   "cell_type": "code",
   "execution_count": null,
   "id": "ffb2bb0d-f906-434e-8648-f561034f66cf",
   "metadata": {
    "ExecuteTime": {
     "end_time": "2021-05-28T05:09:37.293177Z",
     "start_time": "2021-05-28T05:09:32.767515Z"
    },
    "tags": []
   },
   "outputs": [],
   "source": [
    "def comp_matrix_fix_er(e, r, size):\n",
    "    M = np.zeros((size, size), dtype=int)\n",
    "    for i, j in itertools.product(range(size), range(size)):\n",
    "        try:\n",
    "            M[i][j] = cc(Square([j + e, j, i, r]))\n",
    "        except:\n",
    "            pass\n",
    "    return M"
   ]
  },
  {
   "cell_type": "code",
   "execution_count": null,
   "id": "21c73787-ddce-4a2f-93e8-4c959fbc1681",
   "metadata": {
    "jupyter": {
     "source_hidden": true
    },
    "tags": []
   },
   "outputs": [],
   "source": [
    "size = 100\n",
    "emin, emax = 1, 17\n",
    "rmin, rmax = 1, 17\n",
    "itr = itertools.product(range(emin, emax + 1), range(rmin, rmax + 1))\n",
    "for e, r in tqdm(itr, total=(emax - emin + 1) * (rmax - rmin + 1)):\n",
    "    file_name = f\"data/fix_T-L_R/T-L={e}_R={r}_{size}x{size}.csv\"\n",
    "    if not os.path.exists(file_name):\n",
    "        cmat = comp_matrix_fix_er(e, r, size)\n",
    "        pd.DataFrame(cmat).to_csv(file_name, index=False)"
   ]
  },
  {
   "cell_type": "markdown",
   "id": "e2e452ac-1fb7-433c-9000-51e78aefec32",
   "metadata": {},
   "source": [
    "## fixing $T-L$ and $B$, changing $L$ and $R$"
   ]
  },
  {
   "cell_type": "code",
   "execution_count": 2,
   "id": "92f3d5b0-ef1d-424f-82c1-5fc74eedd4f8",
   "metadata": {
    "ExecuteTime": {
     "end_time": "2021-05-28T05:09:37.293177Z",
     "start_time": "2021-05-28T05:09:32.767515Z"
    },
    "tags": []
   },
   "outputs": [],
   "source": [
    "def comp_matrix_fix_eb(e, b, size):\n",
    "    M = np.zeros((size, size), dtype=int)\n",
    "    for i, j in itertools.product(range(size), range(size)):\n",
    "        try:\n",
    "            M[i][j] = cc(Square([i + e, i, b, j]))\n",
    "        except:\n",
    "            pass\n",
    "    return M"
   ]
  },
  {
   "cell_type": "code",
   "execution_count": null,
   "id": "e6c6e8ee-f015-465f-95b8-06d1e88d53f6",
   "metadata": {
    "tags": []
   },
   "outputs": [
    {
     "data": {
      "application/vnd.jupyter.widget-view+json": {
       "model_id": "768044359a1d4dfaaca7c6294247bb41",
       "version_major": 2,
       "version_minor": 0
      },
      "text/plain": [
       "  0%|          | 0/289 [00:00<?, ?it/s]"
      ]
     },
     "metadata": {},
     "output_type": "display_data"
    }
   ],
   "source": [
    "size = 100\n",
    "emin, emax = 1, 17\n",
    "bmin, bmax = 1, 17\n",
    "itr = itertools.product(range(emin, emax + 1), range(bmin, bmax + 1))\n",
    "for e, b in tqdm(itr, total=(emax - emin + 1) * (bmax - bmin + 1)):\n",
    "    file_name = f\"data/fix_T-L_B/T-L={e}_B={b}_{size}x{size}.csv\"\n",
    "    if not os.path.exists(file_name):\n",
    "        cmat = comp_matrix_fix_eb(e, b, size)\n",
    "        pd.DataFrame(cmat).to_csv(file_name, index=False)"
   ]
  },
  {
   "cell_type": "markdown",
   "id": "999b7edd-d307-4c03-95a1-bf31b5b3db5a",
   "metadata": {},
   "source": [
    "## fixing $B$ and $R$, changing $T$ and $L$"
   ]
  },
  {
   "cell_type": "code",
   "execution_count": null,
   "id": "3a6f1602-a7a0-4b91-b850-178fff2b2158",
   "metadata": {
    "ExecuteTime": {
     "end_time": "2021-05-28T05:09:37.293177Z",
     "start_time": "2021-05-28T05:09:32.767515Z"
    },
    "jupyter": {
     "source_hidden": true
    },
    "tags": []
   },
   "outputs": [],
   "source": [
    "def comp_matrix_fix_br(b, r, size):\n",
    "    M = np.zeros((size, size), dtype=int)\n",
    "    for i, j in itertools.product(range(size), range(size)):\n",
    "        try:\n",
    "            M[i][j] = cc(Square([i, j, b, r]))\n",
    "        except:\n",
    "            pass\n",
    "    return M"
   ]
  },
  {
   "cell_type": "code",
   "execution_count": null,
   "id": "52576f0e-04e4-49a2-a18b-5b3201a15f8f",
   "metadata": {
    "jupyter": {
     "source_hidden": true
    },
    "tags": []
   },
   "outputs": [],
   "source": [
    "size = 100\n",
    "bmin, bmax = 1, 16\n",
    "rmin, rmax = 1, 16\n",
    "itr = itertools.product(range(bmin, bmax + 1), range(rmin, rmax + 1))\n",
    "for b, r in tqdm(itr, total=(bmax - bmin + 1) * (rmax - rmin + 1)):\n",
    "    file_name = f\"data/fix_BR/B={b}_R={r}_{size}x{size}.csv\"\n",
    "    if not os.path.exists(file_name):\n",
    "        cmat = comp_matrix_fix_br(b, r, size)\n",
    "        pd.DataFrame(cmat).to_csv(file_name, index=False)"
   ]
  },
  {
   "cell_type": "markdown",
   "id": "937a3896-f553-4db4-b056-0701d363847a",
   "metadata": {},
   "source": [
    "## fixing $T$ and $L$, changing $B$ and $R$"
   ]
  },
  {
   "cell_type": "code",
   "execution_count": null,
   "id": "240d58cf-5f2f-4c81-8f06-c9f17f2432b2",
   "metadata": {
    "ExecuteTime": {
     "end_time": "2021-05-28T05:09:37.293177Z",
     "start_time": "2021-05-28T05:09:32.767515Z"
    },
    "jupyter": {
     "source_hidden": true
    },
    "tags": []
   },
   "outputs": [],
   "source": [
    "def comp_matrix_fix_tl(t, l, size):\n",
    "    M = np.zeros((size, size), dtype=int)\n",
    "    for i, j in itertools.product(range(size), range(size)):\n",
    "        try:\n",
    "            M[i][j] = cc(Square([t, l, i, j]))\n",
    "        except:\n",
    "            pass\n",
    "    return M"
   ]
  },
  {
   "cell_type": "code",
   "execution_count": null,
   "id": "70c425fb-66dc-42c3-986b-171c68873ebd",
   "metadata": {
    "jupyter": {
     "source_hidden": true
    },
    "tags": []
   },
   "outputs": [],
   "source": [
    "size = 100\n",
    "tmin, tmax = 0, 17\n",
    "lmin, lmax = 0, 17\n",
    "itr = itertools.product(range(tmin, tmax + 1), range(lmin, lmax + 1))\n",
    "for t, l in tqdm(itr, total=(tmax - tmin + 1) * (lmax - lmin + 1)):\n",
    "    file_name = f\"data/fix_TL/T={t}_L={l}_{size}x{size}.csv\"\n",
    "    if not os.path.exists(file_name):\n",
    "        cmat = comp_matrix_fix_tl(t, l, size)\n",
    "        pd.DataFrame(cmat).to_csv(file_name, index=False)"
   ]
  },
  {
   "cell_type": "markdown",
   "id": "68766120-8d25-4215-9237-c65dd15f5821",
   "metadata": {},
   "source": [
    "## fixing $T+L$ and $R$, changing $T$ and $B$"
   ]
  },
  {
   "cell_type": "code",
   "execution_count": null,
   "id": "28fc5b47-36de-4779-8824-5898a8abbc15",
   "metadata": {
    "ExecuteTime": {
     "end_time": "2021-05-28T05:09:37.293177Z",
     "start_time": "2021-05-28T05:09:32.767515Z"
    },
    "jupyter": {
     "source_hidden": true
    },
    "tags": []
   },
   "outputs": [],
   "source": [
    "def comp_matrix_fix_sum_r(s, r, size):\n",
    "    M = np.zeros((size, size), dtype=int)\n",
    "    for i, j in itertools.product(range(size), range(size)):\n",
    "        try:\n",
    "            M[i][j] = cc(Square([i, s - i, j, r]))\n",
    "        except:\n",
    "            pass\n",
    "    return M"
   ]
  },
  {
   "cell_type": "code",
   "execution_count": null,
   "id": "8852aa55-bf39-46c4-8d12-e50ae446a4b0",
   "metadata": {
    "jupyter": {
     "source_hidden": true
    },
    "tags": []
   },
   "outputs": [],
   "source": [
    "size = 100\n",
    "smin, smax = 0, 50\n",
    "rmin, rmax = 0, 17\n",
    "itr = itertools.product(range(smin, smax + 1), range(rmin, rmax + 1))\n",
    "for s, r in tqdm(itr, total=(smax - smin + 1) * (rmax - rmin + 1)):\n",
    "    file_name = f\"data/fix_Sum_R/Sum={s}_R={r}_{size}x{size}.csv\"\n",
    "    if not os.path.exists(file_name):\n",
    "        cmat = comp_matrix_fix_sum_r(s, r, size)\n",
    "        pd.DataFrame(cmat).to_csv(file_name, index=False)"
   ]
  }
 ],
 "metadata": {
  "kernelspec": {
   "display_name": "Python 3",
   "language": "python",
   "name": "python3"
  },
  "language_info": {
   "codemirror_mode": {
    "name": "ipython",
    "version": 3
   },
   "file_extension": ".py",
   "mimetype": "text/x-python",
   "name": "python",
   "nbconvert_exporter": "python",
   "pygments_lexer": "ipython3",
   "version": "3.7.10"
  }
 },
 "nbformat": 4,
 "nbformat_minor": 5
}
