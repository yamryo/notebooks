{
 "cells": [
  {
   "cell_type": "code",
   "execution_count": null,
   "id": "0031bb4f-c9ef-4e55-ae1e-881011b10489",
   "metadata": {
    "ExecuteTime": {
     "end_time": "2021-05-28T05:09:25.860503Z",
     "start_time": "2021-05-28T05:09:25.275687Z"
    },
    "tags": []
   },
   "outputs": [],
   "source": [
    "import Permutations as pm\n",
    "from ToolsForQuasiCord import *\n",
    "\n",
    "import numpy as np\n",
    "import sympy\n",
    "sympy.init_printing()\n",
    "\n",
    "import itertools\n",
    "from tqdm.notebook import tqdm\n",
    "\n",
    "import pandas as pd\n",
    "\n",
    "import plotly.express as px"
   ]
  },
  {
   "cell_type": "code",
   "execution_count": null,
   "id": "620ffbed-aa38-4bc5-ae67-e95d948ea191",
   "metadata": {
    "ExecuteTime": {
     "end_time": "2021-05-28T05:09:29.173109Z",
     "start_time": "2021-05-28T05:09:29.167766Z"
    }
   },
   "outputs": [],
   "source": [
    "def cc(sqr):\n",
    "    \"\"\"Return the number of components of the quasi-cord associated with a given Square\"\"\"\n",
    "    return len(pm.cycle_decomp(sqr.permutation()))"
   ]
  },
  {
   "cell_type": "markdown",
   "id": "1a738879-2cd5-4ec4-bb0a-a1864761c897",
   "metadata": {},
   "source": [
    "## Setting $T>L>R$. On each $T-L$ and $R$, changing $B$ and $L$ one by one"
   ]
  },
  {
   "cell_type": "code",
   "execution_count": null,
   "id": "ffb2bb0d-f906-434e-8648-f561034f66cf",
   "metadata": {
    "ExecuteTime": {
     "end_time": "2021-05-28T05:09:37.293177Z",
     "start_time": "2021-05-28T05:09:32.767515Z"
    },
    "tags": []
   },
   "outputs": [],
   "source": [
    "def comp_matrix(delta, r, size):\n",
    "    M = np.zeros((size,size), dtype=int)\n",
    "    for i,j in itertools.product(range(size),range(size)):\n",
    "        try:\n",
    "            M[i][j] = cc(Square([j+delta, j, i, r]))\n",
    "        except: pass\n",
    "    return M"
   ]
  },
  {
   "cell_type": "code",
   "execution_count": null,
   "id": "21c73787-ddce-4a2f-93e8-4c959fbc1681",
   "metadata": {},
   "outputs": [],
   "source": [
    "size = 100\n",
    "dmin, dmax = 17, 17\n",
    "rmin, rmax = 16, 16\n",
    "itr = itertools.product(range(dmin,dmax+1),range(rmin,rmax+1))\n",
    "for d,r in tqdm(itr, total=(dmax-dmin+1)*(rmax-rmin+1)):\n",
    "    cmat = comp_matrix(d, r, size)\n",
    "    pd.DataFrame(cmat).to_csv(f\"data/T-L={d}_R={r}_{size}x{size}.csv\", index=False)"
   ]
  }
 ],
 "metadata": {
  "kernelspec": {
   "display_name": "Python 3",
   "language": "python",
   "name": "python3"
  },
  "language_info": {
   "codemirror_mode": {
    "name": "ipython",
    "version": 3
   },
   "file_extension": ".py",
   "mimetype": "text/x-python",
   "name": "python",
   "nbconvert_exporter": "python",
   "pygments_lexer": "ipython3",
   "version": "3.7.10"
  }
 },
 "nbformat": 4,
 "nbformat_minor": 5
}
