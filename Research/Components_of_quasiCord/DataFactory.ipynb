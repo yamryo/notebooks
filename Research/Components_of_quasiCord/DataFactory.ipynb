{
 "cells": [
  {
   "cell_type": "code",
   "execution_count": 1,
   "id": "0031bb4f-c9ef-4e55-ae1e-881011b10489",
   "metadata": {
    "ExecuteTime": {
     "end_time": "2021-05-28T05:09:25.860503Z",
     "start_time": "2021-05-28T05:09:25.275687Z"
    },
    "tags": []
   },
   "outputs": [],
   "source": [
    "import Permutations as pm\n",
    "from ToolsForQuasiCord import *\n",
    "\n",
    "import numpy as np\n",
    "import sympy\n",
    "sympy.init_printing()\n",
    "\n",
    "import itertools\n",
    "from tqdm.notebook import tqdm\n",
    "\n",
    "import pandas as pd\n",
    "\n",
    "import plotly.express as px"
   ]
  },
  {
   "cell_type": "code",
   "execution_count": 2,
   "id": "620ffbed-aa38-4bc5-ae67-e95d948ea191",
   "metadata": {
    "ExecuteTime": {
     "end_time": "2021-05-28T05:09:29.173109Z",
     "start_time": "2021-05-28T05:09:29.167766Z"
    }
   },
   "outputs": [],
   "source": [
    "def cc(sqr):\n",
    "    \"\"\"Return the number of components of the quasi-cord associated with a given Square\"\"\"\n",
    "    return len(pm.cycle_decomp(sqr.permutation()))"
   ]
  },
  {
   "cell_type": "markdown",
   "id": "1a738879-2cd5-4ec4-bb0a-a1864761c897",
   "metadata": {},
   "source": [
    "## Setting $T>L>R$. On each $T-L$ and $R$, changing $B$ and $L$ one by one"
   ]
  },
  {
   "cell_type": "code",
   "execution_count": 3,
   "id": "ffb2bb0d-f906-434e-8648-f561034f66cf",
   "metadata": {
    "ExecuteTime": {
     "end_time": "2021-05-28T05:09:37.293177Z",
     "start_time": "2021-05-28T05:09:32.767515Z"
    },
    "tags": []
   },
   "outputs": [],
   "source": [
    "def comp_matrix(delta, r, size):\n",
    "    M = np.zeros((size,size), dtype=int)\n",
    "    for i,j in itertools.product(range(size),range(size)):\n",
    "        try:\n",
    "            M[i][j] = cc(Square([j+delta, j, i, r]))\n",
    "        except: pass\n",
    "    return M"
   ]
  },
  {
   "cell_type": "code",
   "execution_count": null,
   "id": "21c73787-ddce-4a2f-93e8-4c959fbc1681",
   "metadata": {},
   "outputs": [
    {
     "data": {
      "application/vnd.jupyter.widget-view+json": {
       "model_id": "4129a559eabf4ba7b1baa311aefc600a",
       "version_major": 2,
       "version_minor": 0
      },
      "text/plain": [
       "  0%|          | 0/224 [00:00<?, ?it/s]"
      ]
     },
     "metadata": {},
     "output_type": "display_data"
    }
   ],
   "source": [
    "size = 100\n",
    "dmin, dmax = 3, 16\n",
    "rmin, rmax = 1, 16\n",
    "itr = itertools.product(range(dmin,dmax+1),range(rmin,rmax+1))\n",
    "for d,r in tqdm(itr, total=(dmax-dmin+1)*(rmax-rmin+1)):\n",
    "    cmat = comp_matrix(d, r, size)\n",
    "    pd.DataFrame(cmat).to_csv(f\"data/T-L={d}_R={r}_{size}x{size}.csv\", index=False)"
   ]
  },
  {
   "cell_type": "markdown",
   "id": "a6b8ff79-8f01-4eb0-8304-680d9ce44ecd",
   "metadata": {},
   "source": [
    "## $T-L=R+1$ series"
   ]
  },
  {
   "cell_type": "markdown",
   "id": "660a8eaf-bafc-46ea-ad2b-e8b834764c59",
   "metadata": {},
   "source": [
    "$[L+R+1,L,B,R],~ (1 \\leq R \\leq L \\leq T)$\n",
    "\n",
    "__予想:__  \n",
    "* $\\forall B, |[L+R+1,L,B,R]|=|[L+R+1,L,1,R]|$\n",
    "* $|[(L)+R+1,L,1,R]|=R+1$ "
   ]
  },
  {
   "cell_type": "code",
   "execution_count": null,
   "id": "9f3c3190-c26b-4952-90d4-f8efbcfaba3e",
   "metadata": {
    "ExecuteTime": {
     "end_time": "2021-05-28T05:09:37.293177Z",
     "start_time": "2021-05-28T05:09:32.767515Z"
    },
    "tags": []
   },
   "outputs": [],
   "source": [
    "size = 20\n",
    "Row, Col = 2, 4\n",
    "fig = make_subplots(\n",
    "    Row, Col, subplot_titles=[\"R={}\".format(v) for v in range(1, Row * Col + 1)]\n",
    ")\n",
    "# ---\n",
    "for i, j in tqdm(itertools.product(range(Row), range(Col)), total=Row * Col):\n",
    "    mat = []\n",
    "    r = i * Col + j\n",
    "    for b in range(1, size):\n",
    "        seq = []\n",
    "        s = 1\n",
    "        for l in range(s, size + s):\n",
    "            t = l + r + 1\n",
    "            try:\n",
    "                num = cc(Square([t, l, b, r]))\n",
    "            except:\n",
    "                num = 0\n",
    "            seq += [num]\n",
    "        mat += [seq]\n",
    "    # ---\n",
    "    fig.append_trace(px.imshow(mat).data[0], i + 1, j + 1)\n",
    "# ---\n",
    "fig.update_layout(height=380 * Row, width=300 * Col, title=\"T-L=R+1, L>B>R\")\n",
    "figure_name = \"figure/T-L=R+1_s={}_{}x{}.png\".format(s,size,size)\n",
    "fig.write_image(figure_name, engine=\"kaleido\")"
   ]
  },
  {
   "cell_type": "code",
   "execution_count": null,
   "id": "907bb60e-0d48-48fe-a075-69a685710829",
   "metadata": {
    "ExecuteTime": {
     "end_time": "2021-05-28T05:09:37.293177Z",
     "start_time": "2021-05-28T05:09:32.767515Z"
    },
    "tags": []
   },
   "outputs": [],
   "source": [
    "size = 50\n",
    "# ---\n",
    "mat = []\n",
    "for r in range(16 + 1):\n",
    "    seq = []\n",
    "    s = 1\n",
    "    for l in range(s, size + s):\n",
    "        t = l + r + 1\n",
    "        try:\n",
    "            num = cc(Square([t, l, 1, r]))\n",
    "        except:\n",
    "            num = 0\n",
    "        seq += [num]\n",
    "    mat += [seq]\n",
    "    # ---\n",
    "display(sympy.Matrix(mat))\n",
    "px.imshow(mat)"
   ]
  },
  {
   "cell_type": "markdown",
   "id": "fb455b7f-2b44-487a-9691-9114d73e75fe",
   "metadata": {},
   "source": [
    "## $T-L=R$ series"
   ]
  },
  {
   "cell_type": "code",
   "execution_count": null,
   "id": "e944f7b6-3a0d-4b2d-838b-3479def3e1ab",
   "metadata": {
    "ExecuteTime": {
     "end_time": "2021-05-28T05:09:37.293177Z",
     "start_time": "2021-05-28T05:09:32.767515Z"
    },
    "tags": []
   },
   "outputs": [],
   "source": [
    "size = 30\n",
    "Row, Col = 4, 4\n",
    "fig = make_subplots(\n",
    "    Row, Col, subplot_titles=[\"R={}\".format(v) for v in range(1, Row * Col + 1)]\n",
    ")\n",
    "# ---\n",
    "for i, j in tqdm(itertools.product(range(Row), range(Col)), total=Row * Col):\n",
    "    mat = []\n",
    "    r = i * Col + j + 1\n",
    "    for b in range(r, size + r):\n",
    "        seq = []\n",
    "        s = 1\n",
    "        for l in range(s, size + s):\n",
    "            t = l + r\n",
    "            try:\n",
    "                num = cc(Square([t, l, b, r]))\n",
    "            except:\n",
    "                num = 0\n",
    "            seq += [num]\n",
    "        mat += [seq]\n",
    "    # ---\n",
    "    fig.append_trace(px.imshow(mat).data[0], i + 1, j + 1)\n",
    "# ---\n",
    "fig.update_layout(height=380 * Row, width=300 * Col, title=\"T-L=R, L>B>R\")\n",
    "figure_name = \"figure/T-L=R_s={}_{}x{}.png\".format(s,size,size)\n",
    "fig.write_image(figure_name, engine=\"kaleido\")"
   ]
  },
  {
   "cell_type": "markdown",
   "id": "5c7a2f30-dbe8-4c9f-9223-deeda7a25cfb",
   "metadata": {},
   "source": [
    "## $T-L=R+2$ series"
   ]
  },
  {
   "cell_type": "code",
   "execution_count": null,
   "id": "48b5cc6a-0a02-4014-afc4-ccdb6cb6d0ae",
   "metadata": {
    "ExecuteTime": {
     "end_time": "2021-05-28T05:09:37.293177Z",
     "start_time": "2021-05-28T05:09:32.767515Z"
    },
    "tags": []
   },
   "outputs": [],
   "source": [
    "size = 30\n",
    "Row, Col = 4, 4\n",
    "fig = make_subplots(\n",
    "    Row, Col, subplot_titles=[\"R={}\".format(v) for v in range(1, Row * Col + 1)]\n",
    ")\n",
    "# ---\n",
    "for i, j in tqdm(itertools.product(range(Row), range(Col)), total=Row * Col):\n",
    "    mat = []\n",
    "    r = i * Col + j + 1\n",
    "    for b in range(r, size + r):\n",
    "        seq = []\n",
    "        s = 1\n",
    "        for l in range(s, size + s):\n",
    "            t = l + r + 2\n",
    "            try:\n",
    "                num = cc(Square([t, l, b, r]))\n",
    "            except:\n",
    "                num = 0\n",
    "            seq += [num]\n",
    "        mat += [seq]\n",
    "    # ---\n",
    "    fig.append_trace(px.imshow(mat).data[0], i + 1, j + 1)\n",
    "# ---\n",
    "name = \"T-L=R+2\"\n",
    "fig.update_layout(height=380 * Row, width=300 * Col, title=name + \", L>B>R\")\n",
    "figure_name = \"figure/{}_s={}_{}x{}.png\".format(name,s,size,size)\n",
    "fig.write_image(figure_name, engine=\"kaleido\")"
   ]
  },
  {
   "cell_type": "markdown",
   "id": "eb08430b-a6b0-4259-a879-c4cbd4cfd4c7",
   "metadata": {},
   "source": [
    "## $T-L=R-1$ series"
   ]
  },
  {
   "cell_type": "code",
   "execution_count": null,
   "id": "c17a7363-7d27-4797-bfab-f1463e99dd77",
   "metadata": {
    "ExecuteTime": {
     "end_time": "2021-05-28T05:09:37.293177Z",
     "start_time": "2021-05-28T05:09:32.767515Z"
    },
    "tags": []
   },
   "outputs": [],
   "source": [
    "size = 30\n",
    "Row, Col = 4, 4\n",
    "fig = make_subplots(\n",
    "    Row, Col, subplot_titles=[\"R={}\".format(v) for v in range(1, Row * Col + 1)]\n",
    ")\n",
    "# ---\n",
    "for i, j in tqdm(itertools.product(range(Row), range(Col)), total=Row * Col):\n",
    "    mat = []\n",
    "    r = i * Col + j + 1\n",
    "    for b in range(r, size + r):\n",
    "        seq = []\n",
    "        s = 1\n",
    "        for l in range(s, size + s):\n",
    "            t = l + r - 1\n",
    "            try:\n",
    "                num = cc(Square([t, l, b, r]))\n",
    "            except:\n",
    "                num = 0\n",
    "            seq += [num]\n",
    "        mat += [seq]\n",
    "    # ---\n",
    "    fig.append_trace(px.imshow(mat).data[0], i + 1, j + 1)\n",
    "# ---\n",
    "name = \"T-L=R-1\"\n",
    "fig.update_layout(height=380 * Row, width=300 * Col, title=name + \", L>B>R\")\n",
    "figure_name = \"figure/{}_s={}_{}x{}.png\".format(name,s,size,size)\n",
    "fig.write_image(figure_name, engine=\"kaleido\")"
   ]
  },
  {
   "cell_type": "markdown",
   "id": "2e14fe0d-d208-4875-ad78-7eb0c2f0f9dc",
   "metadata": {},
   "source": [
    "## $T-L=R-2$ series"
   ]
  },
  {
   "cell_type": "code",
   "execution_count": null,
   "id": "49758a00-d471-44d6-b3de-f71286e7faa8",
   "metadata": {
    "ExecuteTime": {
     "end_time": "2021-05-28T05:09:37.293177Z",
     "start_time": "2021-05-28T05:09:32.767515Z"
    },
    "tags": []
   },
   "outputs": [],
   "source": [
    "size = 30\n",
    "Row, Col = 4, 4\n",
    "fig = make_subplots(\n",
    "    Row, Col, subplot_titles=[\"R={}\".format(v) for v in range(1, Row * Col + 1)]\n",
    ")\n",
    "# ---\n",
    "for i, j in tqdm(itertools.product(range(Row), range(Col)), total=Row * Col):\n",
    "    mat = []\n",
    "    r = i * Col + j + 1\n",
    "    for b in range(r, size + r):\n",
    "        seq = []\n",
    "        s = 1\n",
    "        for l in range(s, size + s):\n",
    "            t = l + r - 2\n",
    "            try:\n",
    "                num = cc(Square([t, l, b, r]))\n",
    "            except:\n",
    "                num = 0\n",
    "            seq += [num]\n",
    "        mat += [seq]\n",
    "    # ---\n",
    "    fig.append_trace(px.imshow(mat).data[0], i + 1, j + 1)\n",
    "# ---\n",
    "name = \"T-L=R-2\"\n",
    "fig.update_layout(height=380 * Row, width=300 * Col, title=name + \", L>B>R\")\n",
    "figure_name = \"figure/{}_s={}_{}x{}.png\".format(name,s,size,size)\n",
    "fig.write_image(figure_name, engine=\"kaleido\")"
   ]
  },
  {
   "cell_type": "markdown",
   "id": "83a08a4b-cdaa-419a-a85b-5334f2813e4b",
   "metadata": {},
   "source": [
    "## Setting $T>L>B>R$ and fixing $T-L$ and $B$, changing $R$ and $L$ one by one"
   ]
  },
  {
   "cell_type": "code",
   "execution_count": null,
   "id": "393c57b3-6a90-4dbd-8617-9559b4a919d5",
   "metadata": {
    "ExecuteTime": {
     "end_time": "2021-05-28T05:09:37.293177Z",
     "start_time": "2021-05-28T05:09:32.767515Z"
    },
    "tags": []
   },
   "outputs": [],
   "source": [
    "def map_maker_fix_B(delta=1, size=20, Row=4, Col=4):\n",
    "    fig = make_subplots(\n",
    "        Row, Col, subplot_titles=[\"B={}\".format(v) for v in range(1, Row * Col + 1)]\n",
    "    )\n",
    "    # ---\n",
    "    for i, j in itertools.product(range(Row), range(Col)):\n",
    "        mat = []\n",
    "        b = i * Col + j + 1\n",
    "        for r in range(b, size + b):\n",
    "            seq = []\n",
    "            s = 1\n",
    "            for l in range(s, size + s):\n",
    "                t = l + delta\n",
    "                try:\n",
    "                    num = cc(Square([t, l, b, r]))\n",
    "                except:\n",
    "                    num = 0\n",
    "                seq += [num]\n",
    "            mat += [seq]\n",
    "        # ---\n",
    "        fig.append_trace(px.imshow(mat).data[0], i + 1, j + 1)\n",
    "    # ---\n",
    "    fig.update_layout(\n",
    "        height=380 * Row, width=300 * Col, title=\"T-L={}, L>B>R\".format(delta)\n",
    "    )\n",
    "    postfix = \"_fix_B\"\n",
    "    figure_name = \"figure/T-L={}{}.png\".format(delta, postfix)\n",
    "    fig.write_image(figure_name, engine=\"kaleido\")"
   ]
  },
  {
   "cell_type": "code",
   "execution_count": null,
   "id": "600f1b00-15aa-4c67-b97a-7ea38c382304",
   "metadata": {},
   "outputs": [],
   "source": [
    "Max = 5\n",
    "for d in tqdm(range(1, Max + 1)):\n",
    "    map_maker_fix_B(delta=d, size=50)"
   ]
  }
 ],
 "metadata": {
  "kernelspec": {
   "display_name": "Python 3",
   "language": "python",
   "name": "python3"
  },
  "language_info": {
   "codemirror_mode": {
    "name": "ipython",
    "version": 3
   },
   "file_extension": ".py",
   "mimetype": "text/x-python",
   "name": "python",
   "nbconvert_exporter": "python",
   "pygments_lexer": "ipython3",
   "version": "3.7.10"
  }
 },
 "nbformat": 4,
 "nbformat_minor": 5
}
