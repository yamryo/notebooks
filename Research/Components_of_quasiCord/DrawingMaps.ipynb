{
 "cells": [
  {
   "cell_type": "code",
   "execution_count": 1,
   "id": "0031bb4f-c9ef-4e55-ae1e-881011b10489",
   "metadata": {
    "ExecuteTime": {
     "end_time": "2021-05-28T05:09:25.860503Z",
     "start_time": "2021-05-28T05:09:25.275687Z"
    },
    "tags": []
   },
   "outputs": [],
   "source": [
    "import Permutations as pm\n",
    "from ToolsForQuasiCord import *\n",
    "\n",
    "import sympy\n",
    "\n",
    "sympy.init_printing()\n",
    "\n",
    "import itertools\n",
    "from tqdm.notebook import tqdm\n",
    "\n",
    "import plotly.express as px\n",
    "from plotly.subplots import make_subplots\n",
    "\n",
    "# from ipywidgets import interactive, HBox, VBox"
   ]
  },
  {
   "cell_type": "code",
   "execution_count": 2,
   "id": "620ffbed-aa38-4bc5-ae67-e95d948ea191",
   "metadata": {
    "ExecuteTime": {
     "end_time": "2021-05-28T05:09:29.173109Z",
     "start_time": "2021-05-28T05:09:29.167766Z"
    }
   },
   "outputs": [],
   "source": [
    "def cc(sqr):\n",
    "    \"\"\"Return the number of components of the quasi-cord associated with a given Square\"\"\"\n",
    "    return len(pm.cycle_decomp(sqr.permutation()))"
   ]
  },
  {
   "cell_type": "markdown",
   "id": "1a738879-2cd5-4ec4-bb0a-a1864761c897",
   "metadata": {},
   "source": [
    "## Setting $T>L>B>R$ and fixing $T-L$ and $R$, changing $B$ and $L$ one by one"
   ]
  },
  {
   "cell_type": "code",
   "execution_count": null,
   "id": "ce1a1e8d-d920-4e62-9371-e711a4a6a912",
   "metadata": {
    "ExecuteTime": {
     "end_time": "2021-05-28T05:09:37.293177Z",
     "start_time": "2021-05-28T05:09:32.767515Z"
    },
    "tags": []
   },
   "outputs": [],
   "source": [
    "def map_maker(delta=1, size=20, flag=True, Row=4, Col=4):\n",
    "    fig = make_subplots(\n",
    "        Row, Col, subplot_titles=[\"R={}\".format(v) for v in range(1, Row * Col + 1)]\n",
    "    )\n",
    "    # ---\n",
    "    for i, j in itertools.product(range(Row), range(Col)):\n",
    "        mat = []\n",
    "        r = i * Col + j + 1\n",
    "        for b in range(r, size + r):\n",
    "            seq = []\n",
    "            s = 1  # int((b + b%2)/2) + (int((r+r%2)/2)-1) if flag else b\n",
    "            for l in range(s, size + s):\n",
    "                t = l + delta\n",
    "                try:\n",
    "                    num = cc(Square([t, l, b, r]))\n",
    "                except:\n",
    "                    num = 0\n",
    "                seq += [num]\n",
    "            mat += [seq]\n",
    "        # ---\n",
    "        fig.append_trace(px.imshow(mat).data[0], i + 1, j + 1)\n",
    "    # ---\n",
    "    fig.update_layout(\n",
    "        height=380 * Row, width=300 * Col, title=\"T-L={}, L>B>R\".format(delta)\n",
    "    )\n",
    "    postfix = \"\" if flag else \"_tame\"\n",
    "    figure_name = \"figure/T-L={}{}.png\".format(delta, postfix)\n",
    "    fig.write_image(figure_name, engine=\"kaleido\")"
   ]
  },
  {
   "cell_type": "code",
   "execution_count": null,
   "id": "b266f242-5209-4377-9dd0-b2be8b3cda35",
   "metadata": {},
   "outputs": [],
   "source": [
    "Max = 10\n",
    "for d in tqdm(range(1, Max + 1)):\n",
    "    map_maker(delta=d, size=50)\n",
    "    map_maker(delta=d, size=50, flag=False)"
   ]
  },
  {
   "cell_type": "code",
   "execution_count": null,
   "id": "a7592ea4-a5c6-49ea-bae2-e5403b7d7d7e",
   "metadata": {},
   "outputs": [],
   "source": [
    "Max = 3\n",
    "for d in tqdm(range(1, Max + 1)):\n",
    "    map_maker(delta=d, size=100, Row=3, Col=3)"
   ]
  },
  {
   "cell_type": "markdown",
   "id": "a6b8ff79-8f01-4eb0-8304-680d9ce44ecd",
   "metadata": {},
   "source": [
    "## $T-L=R+1$ series"
   ]
  },
  {
   "cell_type": "code",
   "execution_count": 5,
   "id": "f13f501e-f404-4f40-a44a-324bbca833c7",
   "metadata": {
    "ExecuteTime": {
     "end_time": "2021-05-28T05:09:37.293177Z",
     "start_time": "2021-05-28T05:09:32.767515Z"
    },
    "tags": []
   },
   "outputs": [
    {
     "data": {
      "application/vnd.jupyter.widget-view+json": {
       "model_id": "ad16099f72dd407686544b465a62cb34",
       "version_major": 2,
       "version_minor": 0
      },
      "text/plain": [
       "  0%|          | 0/16 [00:00<?, ?it/s]"
      ]
     },
     "metadata": {},
     "output_type": "display_data"
    }
   ],
   "source": [
    "size = 50\n",
    "Row, Col = 4, 4\n",
    "fig = make_subplots(\n",
    "    Row, Col, subplot_titles=[\"R={}\".format(v) for v in range(1, Row * Col + 1)]\n",
    ")\n",
    "# ---\n",
    "for i, j in tqdm(itertools.product(range(Row), range(Col)), total=Row * Col):\n",
    "    mat = []\n",
    "    r = i * Col + j + 1\n",
    "    for b in range(r, size + r):\n",
    "        seq = []\n",
    "        for l in range(1, size + 1):\n",
    "            t = l + r + 1\n",
    "            try:\n",
    "                num = cc(Square([t, l, b, r]))\n",
    "            except:\n",
    "                num = 0\n",
    "            seq += [num]\n",
    "        mat += [seq]\n",
    "    # ---\n",
    "    fig.append_trace(px.imshow(mat).data[0], i + 1, j + 1)\n",
    "# ---\n",
    "fig.update_layout(height=380 * Row, width=300 * Col, title=\"T-L=R+1, L>B>R\")\n",
    "figure_name = \"figure/T-L=R+1.png\"\n",
    "fig.write_image(figure_name, engine=\"kaleido\")"
   ]
  }
 ],
 "metadata": {
  "kernelspec": {
   "display_name": "Python 3",
   "language": "python",
   "name": "python3"
  },
  "language_info": {
   "codemirror_mode": {
    "name": "ipython",
    "version": 3
   },
   "file_extension": ".py",
   "mimetype": "text/x-python",
   "name": "python",
   "nbconvert_exporter": "python",
   "pygments_lexer": "ipython3",
   "version": "3.6.13"
  }
 },
 "nbformat": 4,
 "nbformat_minor": 5
}
