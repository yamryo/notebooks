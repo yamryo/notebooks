{
 "cells": [
  {
   "cell_type": "markdown",
   "id": "d22474ed-bed8-459e-bafc-bd727c981f93",
   "metadata": {},
   "source": [
    "# 20210615"
   ]
  },
  {
   "cell_type": "markdown",
   "id": "2256eb5c-32d6-4960-b59c-d613df9d955c",
   "metadata": {},
   "source": [
    "## Modules"
   ]
  },
  {
   "cell_type": "code",
   "execution_count": 2,
   "id": "28b03660-5eb6-46e1-ae85-467a2935c493",
   "metadata": {
    "ExecuteTime": {
     "end_time": "2021-05-28T05:09:25.860503Z",
     "start_time": "2021-05-28T05:09:25.275687Z"
    },
    "jupyter": {
     "source_hidden": true
    },
    "tags": []
   },
   "outputs": [],
   "source": [
    "import numpy as np\n",
    "import Permutations as pm\n",
    "import sympy\n",
    "from numpy.random import randint as ri\n",
    "from ToolsForQuasiCord import *\n",
    "\n",
    "sympy.init_printing()\n",
    "\n",
    "import itertools\n",
    "\n",
    "import pandas as pd\n",
    "import plotly.express as px\n",
    "from tqdm.notebook import tqdm"
   ]
  },
  {
   "cell_type": "markdown",
   "id": "e4c68f4e-d786-4fa5-a911-49a65df15a17",
   "metadata": {},
   "source": [
    "## Case where $[T,T,B,R]$,  $(T \\geq B+R)$"
   ]
  },
  {
   "cell_type": "markdown",
   "id": "c6ff95fc-b69e-4aea-82ff-abc49864b732",
   "metadata": {},
   "source": [
    "When $T \\geq B+R$, the following holds;\n",
    "\n",
    "$|T,T,B,R|=|T+1,T,B,R|$\n",
    "\n",
    "$=|B+R,B+R,B,R|$\n",
    "\n",
    "$=|0,B+R,B,R|$\n",
    "\n",
    "$=|B+2R+1,B+R,0,R|$"
   ]
  },
  {
   "cell_type": "code",
   "execution_count": 3,
   "id": "f9b83172-e673-4727-97e6-78bccb006814",
   "metadata": {},
   "outputs": [
    {
     "data": {
      "application/vnd.jupyter.widget-view+json": {
       "model_id": "9a9847ef6ba742ffb7258756aa90c1e7",
       "version_major": 2,
       "version_minor": 0
      },
      "text/plain": [
       "  0%|          | 0/200 [00:00<?, ?it/s]"
      ]
     },
     "metadata": {},
     "output_type": "display_data"
    }
   ],
   "source": [
    "N = 20\n",
    "for itr in tqdm(range(N * 10)):\n",
    "    b, r = ri(N), ri(N)\n",
    "    t = (b + r) + ri(N)\n",
    "\n",
    "    try:\n",
    "        sqrs = [\n",
    "            Square([t, t, b, r]),\n",
    "            Square([t + 1, t, b, r]),\n",
    "            Square([t, t, b, r]),\n",
    "            Square([0, b + r, b, r]),\n",
    "            Square([b + 2 * r + 1, b + r, 0, r]),\n",
    "        ]\n",
    "        nums = [cc(sqr) for sqr in sqrs]\n",
    "        if len(list(set(nums))) != 1:\n",
    "            print([sqr.code for sqr in sqrs], [n for n in nums])\n",
    "    except:\n",
    "        print(f\"\\n-----\\n({t},{t},{b},{r})\")"
   ]
  }
 ],
 "metadata": {
  "kernelspec": {
   "display_name": "Python 3",
   "language": "python",
   "name": "python3"
  },
  "language_info": {
   "codemirror_mode": {
    "name": "ipython",
    "version": 3
   },
   "file_extension": ".py",
   "mimetype": "text/x-python",
   "name": "python",
   "nbconvert_exporter": "python",
   "pygments_lexer": "ipython3",
   "version": "3.7.10"
  }
 },
 "nbformat": 4,
 "nbformat_minor": 5
}
