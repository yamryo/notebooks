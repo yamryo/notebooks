{
 "cells": [
  {
   "cell_type": "code",
   "execution_count": 3,
   "id": "0031bb4f-c9ef-4e55-ae1e-881011b10489",
   "metadata": {
    "ExecuteTime": {
     "end_time": "2021-05-28T05:09:25.860503Z",
     "start_time": "2021-05-28T05:09:25.275687Z"
    },
    "tags": []
   },
   "outputs": [],
   "source": [
    "import Permutations as pm\n",
    "from ToolsForQuasiCord import *\n",
    "\n",
    "from numpy.random import randint as ri\n",
    "\n",
    "import sympy\n",
    "sympy.init_printing()\n",
    "\n",
    "import itertools\n",
    "from tqdm.notebook import tqdm\n",
    "\n",
    "import plotly.express as px\n",
    "from plotly.subplots import make_subplots\n",
    "\n",
    "import pandas as pd"
   ]
  },
  {
   "cell_type": "markdown",
   "id": "1a738879-2cd5-4ec4-bb0a-a1864761c897",
   "metadata": {},
   "source": [
    "## Setting $T>L>R$. On each $T-L$ and $R$, changing $B$ and $L$ one by one"
   ]
  },
  {
   "cell_type": "code",
   "execution_count": null,
   "id": "ffb2bb0d-f906-434e-8648-f561034f66cf",
   "metadata": {
    "ExecuteTime": {
     "end_time": "2021-05-28T05:09:37.293177Z",
     "start_time": "2021-05-28T05:09:32.767515Z"
    },
    "tags": []
   },
   "outputs": [],
   "source": [
    "def map_maker(delta=1, size=20, Row=4, Col=4):\n",
    "    fig = make_subplots(\n",
    "        Row, Col, subplot_titles=[\"R={}\".format(v) for v in range(1, Row * Col + 1)]\n",
    "    )\n",
    "    # ---\n",
    "    for i, j in itertools.product(range(Row), range(Col)):\n",
    "        r = 1 + i*Col + j\n",
    "        df = pd.read_csv(f\"data/T-L_R_series/T-L={delta}_R={r}_100x100.csv\")\n",
    "        mat = df.values[:size,:size]\n",
    "        fig.append_trace(px.imshow(mat).data[0], i + 1, j + 1)\n",
    "    # ---\n",
    "    fig.update_layout(\n",
    "        height=320 * Row, width=250 * Col, title=\"T>L>R, T-L={}\".format(delta)\n",
    "    )\n",
    "    return fig"
   ]
  },
  {
   "cell_type": "code",
   "execution_count": null,
   "id": "412887d2-4f31-4893-9eb4-3cb979e3eda7",
   "metadata": {
    "tags": []
   },
   "outputs": [],
   "source": [
    "map_maker(4,50,4,4).show()"
   ]
  },
  {
   "cell_type": "markdown",
   "id": "a6b8ff79-8f01-4eb0-8304-680d9ce44ecd",
   "metadata": {},
   "source": [
    "## $T-L=R+1$ series"
   ]
  },
  {
   "cell_type": "markdown",
   "id": "660a8eaf-bafc-46ea-ad2b-e8b834764c59",
   "metadata": {},
   "source": [
    "$[L+R+1,L,B,R],~ (1 \\leq R \\leq L)$\n",
    "\n",
    "__予想:__  \n",
    "* $|L+R+1,L,B,R|=|L+R+1,L,1,R|$\n",
    "* $L_{n} = (R+1)+(2R+1)n$ として、$|L_{n}+R+1,L_{n},1,R|=R+1,~~ \\forall n \\in \\mathbb{N}$ "
   ]
  },
  {
   "cell_type": "code",
   "execution_count": null,
   "id": "24239ff5-b800-4c5c-83f5-887b20e0a0dc",
   "metadata": {
    "ExecuteTime": {
     "end_time": "2021-05-28T05:09:37.293177Z",
     "start_time": "2021-05-28T05:09:32.767515Z"
    },
    "jupyter": {
     "source_hidden": true
    },
    "tags": []
   },
   "outputs": [],
   "source": [
    "def map_maker_01(delta=1, size=20, Row=4, Col=4):\n",
    "    fig = make_subplots(\n",
    "        Row, Col, subplot_titles=[\"R={}\".format(v) for v in range(1, Row * Col + 1)]\n",
    "    )\n",
    "    # ---\n",
    "    for i, j in itertools.product(range(Row), range(Col)):\n",
    "        r = 1 + i*Col + j\n",
    "        df = pd.read_csv(f\"data/T-L={delta}_R={r}_100x100.csv\")\n",
    "        mat = df.values[:size,:size]\n",
    "        fig.append_trace(px.imshow(mat).data[0], i + 1, j + 1)\n",
    "    # ---\n",
    "    fig.update_layout(\n",
    "        height=380 * Row, width=300 * Col, title=\"T>L>R, T-L={}\".format(delta)\n",
    "    )\n",
    "    return fig"
   ]
  },
  {
   "cell_type": "code",
   "execution_count": null,
   "id": "9f3c3190-c26b-4952-90d4-f8efbcfaba3e",
   "metadata": {
    "ExecuteTime": {
     "end_time": "2021-05-28T05:09:37.293177Z",
     "start_time": "2021-05-28T05:09:32.767515Z"
    },
    "tags": []
   },
   "outputs": [],
   "source": [
    "size = 30\n",
    "Row, Col = 5, 3\n",
    "fig = make_subplots(\n",
    "    Row, Col, subplot_titles=[\"R={}\".format(v) for v in range(1, Row * Col + 1)]\n",
    ")\n",
    "# ---\n",
    "for i, j in tqdm(itertools.product(range(Row), range(Col)), total=Row * Col):\n",
    "    r = 1 + i * Col + j\n",
    "    d = r + 1\n",
    "    try:\n",
    "        df = pd.read_csv(f\"data/T-L_R_series/T-L={d}_R={r}_100x100.csv\")\n",
    "        mat = df.values[:size,:size]\n",
    "        fig.append_trace(px.imshow(mat).data[0], i + 1, j + 1)\n",
    "    except: pass\n",
    "# ---\n",
    "fig.update_layout(height=320 * Row, width=240 * Col, title=\"T>L>R, T-L=R+1\")\n",
    "fig.show()"
   ]
  },
  {
   "cell_type": "code",
   "execution_count": null,
   "id": "907bb60e-0d48-48fe-a075-69a685710829",
   "metadata": {
    "ExecuteTime": {
     "end_time": "2021-05-28T05:09:37.293177Z",
     "start_time": "2021-05-28T05:09:32.767515Z"
    },
    "tags": []
   },
   "outputs": [],
   "source": [
    "N = 16\n",
    "size = 50\n",
    "# ---\n",
    "mat = []\n",
    "ylabel = []\n",
    "for r in range(N+1):\n",
    "    try:\n",
    "        df = pd.read_csv(f\"data/T-L_R_series/T-L={r+1}_R={r}_100x100.csv\")\n",
    "        b = 1\n",
    "        mat += [df.values[b, :size]]\n",
    "        ylabel += [f\"R={r}\"]\n",
    "    except: pass\n",
    "# ---\n",
    "display(sympy.Matrix(mat))\n",
    "fig = px.imshow(mat, y=ylabel, aspect='equal')\n",
    "# ---\n",
    "fig.update_layout(height=24*len(ylabel), width=960, title=f\"T>L>R, |L+R+1, L, {b}, R|\")\n",
    "fig.show()"
   ]
  },
  {
   "cell_type": "code",
   "execution_count": null,
   "id": "88df31f5-372a-42cf-8c56-3231508739a3",
   "metadata": {
    "tags": []
   },
   "outputs": [],
   "source": [
    "for r in range(1,17):\n",
    "    seq = []\n",
    "    try:\n",
    "        for n in range(50):\n",
    "            seq += [mat[r-1][((r+1)+(2*r+1)*n)-1]]\n",
    "    except: pass\n",
    "    print(seq)"
   ]
  },
  {
   "cell_type": "code",
   "execution_count": null,
   "id": "f3f12d5c-e7be-40f5-88c2-75481056cc45",
   "metadata": {
    "tags": []
   },
   "outputs": [],
   "source": [
    "mtx = []\n",
    "for r in range(1,17):\n",
    "    seq = []\n",
    "    try:\n",
    "        for n in range(50):\n",
    "            seq += [mat[r-1][((1+1)+(2*1+1)*n)-1]]\n",
    "    except: pass\n",
    "    mtx += [seq]\n",
    "display(sympy.Matrix(mtx))\n",
    "px.imshow(mtx)"
   ]
  },
  {
   "cell_type": "markdown",
   "id": "b43bafca-c5d9-4ac6-bdca-ded2fba9ab5c",
   "metadata": {},
   "source": [
    "## $T-L=R+e$ series"
   ]
  },
  {
   "cell_type": "code",
   "execution_count": null,
   "id": "12e22b6d-7729-4171-b8d6-b445b807fe36",
   "metadata": {
    "ExecuteTime": {
     "end_time": "2021-05-28T05:09:37.293177Z",
     "start_time": "2021-05-28T05:09:32.767515Z"
    },
    "tags": []
   },
   "outputs": [],
   "source": [
    "e = 2\n",
    "size = 50\n",
    "Row, Col = 4, 4\n",
    "fig = make_subplots(\n",
    "    Row, Col, subplot_titles=[\"R={}\".format(v) for v in range(1, Row * Col + 1)]\n",
    ")\n",
    "# ---\n",
    "for i, j in tqdm(itertools.product(range(Row), range(Col)), total=Row * Col):\n",
    "    r = 1 + i * Col + j\n",
    "    d = r + e\n",
    "    try:\n",
    "        df = pd.read_csv(f\"data/T-L_R_series/T-L={d}_R={r}_100x100.csv\")\n",
    "        mat = df.values[:size,:size]\n",
    "        fig.append_trace(px.imshow(mat).data[0], i + 1, j + 1)\n",
    "    except: pass\n",
    "# ---\n",
    "fig.update_layout(height=320 * Row, width=240 * Col, title=f\"T>L>R, T-L=R+{e}\")\n",
    "fig.show()"
   ]
  },
  {
   "cell_type": "markdown",
   "id": "75f700ce-83ca-42b6-b2af-4ca81c03426a",
   "metadata": {},
   "source": [
    "## $T=L+e$ series"
   ]
  },
  {
   "cell_type": "markdown",
   "id": "5863d8e5-ca8f-4a1a-a519-ecadbdbfe7ab",
   "metadata": {},
   "source": [
    "$[L+e,L,B,R],~~(L \\geq B+R)$\n",
    "\n",
    "__予想01:__ \n",
    "* $|L,L,B,R| = |L+1,L,B,R| = |B+R,B+R,B,R|,~ (L \\geq B + R)$"
   ]
  },
  {
   "cell_type": "code",
   "execution_count": null,
   "id": "7ed41fd7-682b-4fda-9983-a3e9e9c41d34",
   "metadata": {
    "ExecuteTime": {
     "end_time": "2021-05-28T05:09:37.293177Z",
     "start_time": "2021-05-28T05:09:32.767515Z"
    },
    "tags": []
   },
   "outputs": [],
   "source": [
    "e = 2\n",
    "size = 30\n",
    "Row, Col = 4, 4\n",
    "fig = make_subplots(\n",
    "    Row, Col, subplot_titles=[\"R={}\".format(v) for v in range(1, Row * Col + 1)]\n",
    ")\n",
    "# ---\n",
    "for i, j in tqdm(itertools.product(range(Row), range(Col)), total=Row * Col):\n",
    "    r = 1 + i * Col + j\n",
    "    mat = []\n",
    "    try:\n",
    "        df = pd.read_csv(f\"data/T-L_R_series/T-L={e}_R={r}_100x100.csv\")\n",
    "        for b in range(size):\n",
    "            s = b+r  #int((b+r)/2) + ((b+r)%2)  #0  #\n",
    "            try:\n",
    "                mat += [df.values[b, s:size+s]]\n",
    "            except: pass\n",
    "        fig.append_trace(px.imshow(mat).data[0], i + 1, j + 1)\n",
    "    except: pass\n",
    "# ---\n",
    "fig.update_layout(height=320 * Row, width=240 * Col, title=f\"T-L={e}\")\n",
    "fig.show()"
   ]
  },
  {
   "cell_type": "markdown",
   "id": "2c891ebc-e42a-4d2f-8655-040e86a572c9",
   "metadata": {},
   "source": [
    "## $[B+R,B+R,B,R]$\n",
    "\n",
    "__予想02:__\n",
    "* $|B+R,B+R,B,R| = |B+2R+1,B+R,1,R|$"
   ]
  },
  {
   "cell_type": "code",
   "execution_count": null,
   "id": "1f8e8637-43ad-4da3-a7f7-e7942e8958b6",
   "metadata": {
    "ExecuteTime": {
     "end_time": "2021-05-28T05:09:37.293177Z",
     "start_time": "2021-05-28T05:09:32.767515Z"
    },
    "tags": []
   },
   "outputs": [],
   "source": [
    "e = 0\n",
    "N = 16\n",
    "size = 50\n",
    "# ---\n",
    "mat, ylabel = [], []\n",
    "for r in range(1, N + 1):\n",
    "    try:\n",
    "        df = pd.read_csv(f\"data/T-L_R_series/T-L={e}_R={r}_100x100.csv\")\n",
    "        # ---\n",
    "        mat += [[df.values[b, b + r] for b in range(size)]]\n",
    "        ylabel += [f\"R={r}\"]\n",
    "    except:\n",
    "        pass\n",
    "# ---\n",
    "fig = px.imshow(mat, y=ylabel, aspect=\"equal\")\n",
    "fig.update_layout(height=24 * len(ylabel), width=960, title=f\"|B+R+{e},B+R,B,R|\")\n",
    "fig.show()"
   ]
  }
 ],
 "metadata": {
  "kernelspec": {
   "display_name": "Python 3",
   "language": "python",
   "name": "python3"
  },
  "language_info": {
   "codemirror_mode": {
    "name": "ipython",
    "version": 3
   },
   "file_extension": ".py",
   "mimetype": "text/x-python",
   "name": "python",
   "nbconvert_exporter": "python",
   "pygments_lexer": "ipython3",
   "version": "3.7.10"
  }
 },
 "nbformat": 4,
 "nbformat_minor": 5
}
