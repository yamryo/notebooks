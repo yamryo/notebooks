{
 "cells": [
  {
   "cell_type": "markdown",
   "id": "11685fdb-2099-4709-a30a-866394083909",
   "metadata": {},
   "source": [
    "# Half-twists along the T-L arc"
   ]
  },
  {
   "cell_type": "markdown",
   "id": "c0d5d65f-28d1-4fd4-8145-9e545dae0e05",
   "metadata": {},
   "source": [
    "## Modules"
   ]
  },
  {
   "cell_type": "code",
   "execution_count": 1,
   "id": "dad9bc96-3b51-4d74-911b-9197650b0e9b",
   "metadata": {
    "ExecuteTime": {
     "end_time": "2021-05-28T05:09:25.860503Z",
     "start_time": "2021-05-28T05:09:25.275687Z"
    },
    "tags": []
   },
   "outputs": [],
   "source": [
    "import numpy as np\n",
    "import Permutations as pm\n",
    "import sympy\n",
    "from numpy.random import randint as ri\n",
    "from QuasiCord import *\n",
    "\n",
    "sympy.init_printing()\n",
    "\n",
    "import itertools\n",
    "\n",
    "import pandas as pd\n",
    "import plotly.express as px\n",
    "from plotly.subplots import make_subplots\n",
    "from tqdm.notebook import tqdm"
   ]
  },
  {
   "cell_type": "markdown",
   "id": "06c83c41-e9c8-42b5-b217-0da481f35ff0",
   "metadata": {},
   "source": [
    "## $T-\\Delta \\geq 0, L-\\Delta \\geq 0$"
   ]
  },
  {
   "cell_type": "code",
   "execution_count": null,
   "id": "f5c9bd09-a383-4f8c-87d3-4296c7bfc6fa",
   "metadata": {
    "jupyter": {
     "source_hidden": true
    },
    "tags": []
   },
   "outputs": [],
   "source": [
    "N = 30\n",
    "Max = 500\n",
    "\n",
    "count = 0\n",
    "while count < Max:\n",
    "    sqr = square_random_generator(N)\n",
    "    c = sqr.code\n",
    "    t, l, b, r = c[0], c[1], c[2], c[3]\n",
    "    delta = (t + l) - (b + r)\n",
    "    x = (t - delta) + (l - delta)\n",
    "    # ---\n",
    "    if (t - delta >= 0) and (l - delta >= 0):\n",
    "        # ---c\n",
    "        cnl = (t + 2 * (l - delta) + 1, l + (2 * x + 1), b, r)\n",
    "        cnr = (t + (2 * x + 1), l + 2 * (t - delta), b, r)\n",
    "        # ---\n",
    "        sqrnl, sqrnr = Square(cnl), Square(cnr)\n",
    "        n, nnl, nnr = cc(sqr), cc(sqrnl), cc(sqrnr)\n",
    "        # Output exceptions\n",
    "        if n != nnl:\n",
    "            print(f\"{n} --(ltw)--> {nnl}, {c}\")\n",
    "        elif n != nnr:\n",
    "            print(f\"{n} --(rtw)--> {nnr}, {c}\")\n",
    "        else:\n",
    "            pass\n",
    "#         if t - delta == 0 and l - delta == 0:\n",
    "#             print(c)\n",
    "        count += 1"
   ]
  },
  {
   "cell_type": "markdown",
   "id": "548dee91-7560-49ef-b4d6-beae1e324d5b",
   "metadata": {},
   "source": [
    "## $(T-\\Delta)(L-\\Delta) \\leq 0$"
   ]
  },
  {
   "cell_type": "code",
   "execution_count": null,
   "id": "0f5e8fc8-1a3b-4c65-9032-e7663841aebc",
   "metadata": {
    "jupyter": {
     "source_hidden": true
    },
    "tags": []
   },
   "outputs": [],
   "source": [
    "N = 10\n",
    "Max = 500\n",
    "\n",
    "count = 0\n",
    "while count < Max:\n",
    "    sqr = square_random_generator(N)\n",
    "    c = sqr.code\n",
    "    t, l, b, r = c[0], c[1], c[2], c[3]\n",
    "    delta = (t + l) - (b + r)\n",
    "    x = (t - delta) + (l - delta)\n",
    "    # ---\n",
    "    if (t - delta)*(l - delta) <= 0 and (t-delta < 0 or l-delta < 0):\n",
    "        # ---\n",
    "        cnl = (t + abs(2 * (t - l) - 1), l + abs(2 * (t - l) - 1), b, r)\n",
    "        cnr = (t + 2 * (l - delta) + 1, l + 2 * (t - delta), b, r) \n",
    "        # ---\n",
    "        sqrnl, sqrnr = Square(cnl), Square(cnr)\n",
    "        n, nnl, nnr = cc(sqr), cc(sqrnl), cc(sqrnr)\n",
    "        # Output exceptions\n",
    "        if n != nnl:\n",
    "            print(f\"{n},{c} --(ltw)--> {nnl}, {sqrnl.code}\")\n",
    "        elif n != nnr:\n",
    "            print(f\"{n} --(rtw)--> {nnr}, {c}\")\n",
    "        else:\n",
    "            pass\n",
    "        count += 1"
   ]
  },
  {
   "cell_type": "markdown",
   "id": "2abd2068-29f2-4fc2-9485-a9d5c50e41e1",
   "metadata": {},
   "source": [
    "## $T-\\Delta < 0$, $L-\\Delta < 0$"
   ]
  },
  {
   "cell_type": "markdown",
   "id": "0e2022e8-8756-46cb-8056-486dd556e244",
   "metadata": {
    "jupyter": {
     "source_hidden": true
    },
    "tags": []
   },
   "source": [
    "### $T \\geq L$"
   ]
  },
  {
   "cell_type": "code",
   "execution_count": null,
   "id": "21a5e8d2-4796-4cb0-b5d3-ba893a44c7bb",
   "metadata": {
    "jupyter": {
     "source_hidden": true
    },
    "tags": []
   },
   "outputs": [],
   "source": [
    "N = 30\n",
    "Max = 500\n",
    "\n",
    "counts = [0, 0]\n",
    "while sum(counts) < Max:\n",
    "    sqr = square_random_generator(N)\n",
    "    c = sqr.code\n",
    "    t, l, b, r = c[0], c[1], c[2], c[3]\n",
    "    delta = (t + l) - (b + r)\n",
    "    x = (t - delta) + (l - delta)\n",
    "    # ---\n",
    "    if (t - delta < 0) and (l - delta < 0) and (t - l >= 0):\n",
    "        # ---\n",
    "        if delta - t < t - l:\n",
    "            counts[0] += 1\n",
    "            cnl = (t - (2 * (t - l) - 1), l - 2 * (delta - t), b, r)\n",
    "        else:\n",
    "            counts[1] += 1\n",
    "            cnl = (t - (2 * (t - l) - 1), l - (2 * (t - l) - 1), b, r)  #\n",
    "        # ---\n",
    "        cnr = (t + (2 * (t - l) - 1), l + (2 * (t - l) - 1), b, r)\n",
    "        # ---\n",
    "        sqrnl, sqrnr = Square(cnl), Square(cnr)\n",
    "        n, nnl, nnr = cc(sqr), cc(sqrnl), cc(sqrnr)\n",
    "        # Output exceptions\n",
    "        if n != nnl:\n",
    "            print(f\"{n} --(ltw)--> {nnl}, {c}\")\n",
    "        elif n != nnr:\n",
    "            print(f\"{n} --(rtw)--> {nnr}, {c}\")\n",
    "        else:\n",
    "            pass\n",
    "print(counts)"
   ]
  },
  {
   "cell_type": "markdown",
   "id": "d2473ab2-ba34-4d9f-b849-341efe3deaa8",
   "metadata": {
    "jupyter": {
     "source_hidden": true
    },
    "tags": []
   },
   "source": [
    "### $T<L$"
   ]
  },
  {
   "cell_type": "code",
   "execution_count": null,
   "id": "ee467688-6fc8-4fca-8682-4ffcce3a30b2",
   "metadata": {
    "jupyter": {
     "source_hidden": true
    },
    "tags": []
   },
   "outputs": [],
   "source": [
    "N = 30\n",
    "Max = 500\n",
    "\n",
    "counts = [0,0]\n",
    "while sum(counts) < Max:\n",
    "    sqr = square_random_generator(N)\n",
    "    c = sqr.code\n",
    "    t, l, b, r = c[0], c[1], c[2], c[3]\n",
    "    delta = (t + l) - (b + r)\n",
    "    x = (t - delta) + (l - delta)\n",
    "    # ---\n",
    "    if (t - delta < 0) and (l - delta < 0) and (t - l < 0):\n",
    "        # ---\n",
    "        cnl = (t + abs(2 * (t - l) - 1), l + abs(2 * (t - l) - 1), b, r)  #\n",
    "        if -(t - l) >= delta - l - 1:\n",
    "            counts[0] += 1\n",
    "            cnr = (\n",
    "                t + 2 * (l - delta) + 1,\n",
    "                l - abs(2 * (t - l) - 1),\n",
    "                b,\n",
    "                r,\n",
    "            )  # (t,l,b,r)  #\n",
    "        else:\n",
    "            counts[1] += 1\n",
    "            cnr = (t - abs(2 * (t - l) - 1), l - abs(2 * (t - l) - 1), b, r)\n",
    "            # ---\n",
    "        sqrnl, sqrnr = Square(cnl), Square(cnr)\n",
    "        n, nnl, nnr = cc(sqr), cc(sqrnl), cc(sqrnr)\n",
    "        # Output exceptions\n",
    "        if n != nnl:\n",
    "            print(f\"{n} --(ltw)--> {nnl}, {c}\")\n",
    "        elif n != nnr:\n",
    "            print(f\"{n} --(rtw)--> {nnr}, {c}\")\n",
    "        else:\n",
    "            pass\n",
    "print(counts)"
   ]
  },
  {
   "cell_type": "markdown",
   "id": "c6cf25f9-feed-428b-aac1-6aea8c019e8c",
   "metadata": {},
   "source": [
    "## Integration"
   ]
  },
  {
   "cell_type": "code",
   "execution_count": 2,
   "id": "7cec7af7-70b2-45ef-8b11-eaaa53a3dbb2",
   "metadata": {},
   "outputs": [],
   "source": [
    "def twist(c, hand):\n",
    "    t, l, b, r = c[0], c[1], c[2], c[3]\n",
    "    # ---\n",
    "    delta = (t + l) - (b + r)\n",
    "    x = (t - delta) + (l - delta)\n",
    "\n",
    "    e = t - l\n",
    "    E = abs(2 * e - 1)\n",
    "    # ---\n",
    "    position = None\n",
    "    td, ld = 0, 0\n",
    "# --------------------------------------------\n",
    "    # -- 1 --\n",
    "    if (t - delta >= 0) and (l - delta >= 0):\n",
    "        position = \"1\"\n",
    "        if t - delta == 0 and l - delta == 0:  # --> t = l = b+r (= delta)\n",
    "            position += \"1\"\n",
    "            if hand == \"left\":\n",
    "                td, ld = 1, 1\n",
    "            else:\n",
    "                td, ld = 1, 0\n",
    "        else:\n",
    "            position += \"2\"\n",
    "            if hand == \"left\":\n",
    "                td, ld = 2 * (l - delta) + 1, 2 * x + 1\n",
    "            else:\n",
    "                td, ld = 2 * x + 1, 2 * (t - delta)\n",
    "    # -- 2 --\n",
    "    elif (t - delta) * (l - delta) <= 0:\n",
    "        position = \"2\"\n",
    "        if t - delta >= 0:  # --> l-delta < 0\n",
    "            position += \"1\"\n",
    "            if hand == \"left\":\n",
    "                td, ld = 2 * (l - delta) + 1, 2 * (t - delta)\n",
    "            else:\n",
    "                td, ld = E, E\n",
    "        else:  # i.e., t-delta < 0 and l-delta >= 0\n",
    "            position += \"2\"\n",
    "            if hand == \"left\":\n",
    "                td, ld = E, E\n",
    "            else:\n",
    "                td, ld = 2 * (l - delta) + 1, 2 * (t - delta)                \n",
    "    # -- 3 --\n",
    "    elif (t - delta < 0) and (l - delta < 0):\n",
    "        position = \"3\"\n",
    "        if e >= 0:\n",
    "            position += \"1\"\n",
    "            if hand == \"left\":\n",
    "                if t - delta + e > 0:\n",
    "                    position += \"1\"\n",
    "                    td, ld = -E, 2 * (t - delta)\n",
    "                else:\n",
    "                    position += \"2\"\n",
    "                    td, ld = -E, -E\n",
    "            else:\n",
    "                td, ld = E, E\n",
    "        else:\n",
    "            position += \"2\"\n",
    "            if hand == \"left\":\n",
    "                td, ld = E, E\n",
    "            else:\n",
    "                if l - delta + 1 - e >= 0:\n",
    "                    position += \"1\"\n",
    "                    td, ld = 2 * (l - delta) + 1, -E\n",
    "                else:\n",
    "                    position += \"2\"\n",
    "                    td, ld = -E, -E\n",
    "    # -- Exception --            \n",
    "    else:\n",
    "        print(c, \"Why??\")\n",
    "# --------------------------------------------\n",
    "    try:\n",
    "        cn = (t + td, l + ld, b, r)\n",
    "        nsqr = Square(cn)\n",
    "    except Exception as ex:\n",
    "        print(f\"{c} -- {hand}_{position},{t-delta},{l-delta} --> {cn},{ex}\")\n",
    "    # ---\n",
    "    return nsqr, hand + \"_\" + position"
   ]
  },
  {
   "cell_type": "code",
   "execution_count": null,
   "id": "9ffa4c2a-e8f5-4fb3-817b-c6a082dd5993",
   "metadata": {
    "jupyter": {
     "source_hidden": true
    },
    "tags": []
   },
   "outputs": [],
   "source": [
    "N = 30\n",
    "Max = 500\n",
    "# ---\n",
    "count = 0\n",
    "while count < Max:\n",
    "    sqr = square_random_generator(N)\n",
    "    c = sqr.code\n",
    "    delta = (c[0] + c[1]) - (c[2] + c[3])\n",
    "    # ---\n",
    "    n = cc(sqr)\n",
    "    sqrnl, posil = twist(c, \"left\")\n",
    "    sqrnr, posir = twist(c, \"right\")\n",
    "    nnl, nnr = cc(sqrnl), cc(sqrnr)\n",
    "    # Output exceptions\n",
    "    if n != nnl:\n",
    "        print(f\"{n} --(ltw)--> {nnl}, {c}\")\n",
    "    elif n != nnr:\n",
    "        print(f\"{n} --(rtw)--> {nnr}, {c}\")\n",
    "    else:\n",
    "        pass\n",
    "    #     if (c[0] - delta == 0) and (c[1]-delta)<0:\n",
    "    #         print(f\"{c} --(ltw)--> {twist(c, 'left').code}\")\n",
    "    #     if (c[1] - delta == 0) and (c[0] > c[1]):\n",
    "    #         print(f\"{c,n} --(ltw, {posil})--> {sqrnl.code,nnl}\")\n",
    "    #         print(f\"{c,n} --(rtw, {posir})--> {sqrnr.code,nnr}\")\n",
    "    count += 1"
   ]
  },
  {
   "cell_type": "markdown",
   "id": "4ddd9cf7-624f-4875-bff0-11b7b1f01e5c",
   "metadata": {},
   "source": [
    "## Are the left and the right inverses of each other?"
   ]
  },
  {
   "cell_type": "code",
   "execution_count": 7,
   "id": "6b72d82a-77d4-4e0b-a5d9-9a880d142eae",
   "metadata": {
    "tags": []
   },
   "outputs": [
    {
     "name": "stdout",
     "output_type": "stream",
     "text": [
      "(19, 19, 17, 2):1 --[left_11]-->(20, 20, 17, 2):1 --[right_31]-->(21, 21, 17, 2):1\n",
      "(27, 27, 9, 17):1 --[left_312]-->(26, 26, 9, 17):1 --[right_11]-->(27, 26, 9, 17):1\n",
      "(27, 27, 21, 5):1 --[left_312]-->(26, 26, 21, 5):1 --[right_11]-->(27, 26, 21, 5):1\n"
     ]
    }
   ],
   "source": [
    "N = 30\n",
    "Max = 30\n",
    "# ---\n",
    "count, error = 0, 0\n",
    "while count < Max*50 and error < Max:\n",
    "    count += 1\n",
    "    sqr = square_random_generator(N)\n",
    "    c = sqr.code\n",
    "    n = cc(sqr)\n",
    "\n",
    "    sqr_tl, pos_tl = twist(c, \"left\")\n",
    "    c_tl = sqr_tl.code\n",
    "    n_tl = cc(sqr_tl)\n",
    "\n",
    "    sqr_tl_tr, pos_tl_tr = twist(c_tl, \"right\")\n",
    "    c_tl_tr = sqr_tl_tr.code\n",
    "    n_tl_tr = cc(sqr_tl_tr)\n",
    "\n",
    "    if c != c_tl_tr:  #pos_tl == 'l1':  #\n",
    "        error += 1\n",
    "        print(f\"{c}:{n} --[{pos_tl}]-->{c_tl}:{n_tl} --[{pos_tl_tr}]-->{c_tl_tr}:{n_tl_tr}\")"
   ]
  },
  {
   "cell_type": "code",
   "execution_count": 6,
   "id": "525fcacb-1df2-427b-a473-69696e904a6a",
   "metadata": {},
   "outputs": [],
   "source": [
    "N = 30\n",
    "Max = 30\n",
    "# ---\n",
    "count, error = 0, 0\n",
    "while count < Max*50 and error < Max:\n",
    "    count += 1\n",
    "    sqr = square_random_generator(N)\n",
    "    c = sqr.code\n",
    "    n = cc(sqr)\n",
    "\n",
    "    sqr_tr, pos_tr = twist(c, \"right\")\n",
    "    c_tr = sqr_tr.code\n",
    "    n_tr = cc(sqr_tr)\n",
    "\n",
    "    sqr_tr_tl, pos_tr_tl = twist(c_tr, \"left\")\n",
    "    c_tr_tl = sqr_tr_tl.code\n",
    "    n_tr_tl = cc(sqr_tr_tl)\n",
    "\n",
    "    if c != c_tr_tl:\n",
    "        error += 1\n",
    "        print(f\"{c}:{n} --[{pos_tr}]-->{c_tr}:{n_tr} --[{pos_tr_tl}]-->{c_tr_tl}:{n_tr_tl}\")"
   ]
  },
  {
   "cell_type": "markdown",
   "id": "71144dc7-294d-4c97-b66d-5e248d2454ec",
   "metadata": {},
   "source": [
    "## Twisting to be $e=1$"
   ]
  },
  {
   "cell_type": "code",
   "execution_count": null,
   "id": "da2e4b20-849d-4fc5-8a0e-7fd743f4e6e6",
   "metadata": {
    "tags": []
   },
   "outputs": [],
   "source": [
    "N = 10\n",
    "Max = 20\n",
    "# ---\n",
    "sqr = square_random_generator(N)\n",
    "c = sqr.code\n",
    "e = c[0] - c[1]\n",
    "#---\n",
    "count = 0\n",
    "while count < Max*10 and e != 0:\n",
    "    count += 1\n",
    "    #---\n",
    "    sqr_tl, pos_tl = twist(c, \"left\")\n",
    "    c_tl = sqr_tl.code\n",
    "\n",
    "    print(f\"{c}:{e} --[{pos_tl}]-->{c_tl}\")\n",
    "    #---\n",
    "    sqr = sqr_tl\n",
    "    c = sqr.code\n",
    "    e = c[0]-c[1]"
   ]
  },
  {
   "cell_type": "code",
   "execution_count": null,
   "id": "3802148a-378b-4074-a310-21e140076ea7",
   "metadata": {
    "tags": []
   },
   "outputs": [],
   "source": [
    "N = 10\n",
    "Max = 20\n",
    "# ---\n",
    "sqr = square_random_generator(N)\n",
    "c = sqr.code\n",
    "e = c[0] - c[1]\n",
    "#---\n",
    "count = 0\n",
    "while count < Max*10 and e != 0:\n",
    "    count += 1\n",
    "    #---\n",
    "    sqr_tr, pos_tr = twist(c, \"right\")\n",
    "    c_tr = sqr_tr.code\n",
    "#     n_tr = cc(sqr_tr)\n",
    "\n",
    "    print(f\"{c}:{e} --[{pos_tr}]-->{c_tr}\")\n",
    "    #---\n",
    "    sqr = sqr_tr\n",
    "    c = sqr.code\n",
    "    e = c[0]-c[1]"
   ]
  },
  {
   "cell_type": "code",
   "execution_count": null,
   "id": "d95032ba-305c-46b4-ac2b-d9813f1dd4c6",
   "metadata": {
    "tags": []
   },
   "outputs": [],
   "source": [
    "N = 30\n",
    "Max = 20\n",
    "# ---\n",
    "count = 0\n",
    "while count < Max*10:\n",
    "    sqr = square_random_generator(N)\n",
    "    c = sqr.code\n",
    "    e = c[0] - c[1]\n",
    "\n",
    "    if e < 0:\n",
    "        count += 1\n",
    "        #---\n",
    "        marr = []\n",
    "        while e < 0:\n",
    "            #---\n",
    "            sqr_tr, pos_tr = twist(c, \"right\")\n",
    "            c_tr = sqr_tr.code\n",
    "\n",
    "            marr += [f\"{c}:{e} --[{pos_tr}]-->\"]  #{c_tr}:{c_tr[0]-c_tr[1]}\"]\n",
    "            #---\n",
    "            sqr = sqr_tr\n",
    "            c = sqr.code\n",
    "            e = c[0]-c[1]\n",
    "        if len(marr) > 1:\n",
    "            print(len(marr), *marr, f\"{c_tr}:{c_tr[0]-c_tr[1]}\")\n",
    "            print(\"-----\")"
   ]
  },
  {
   "cell_type": "code",
   "execution_count": null,
   "id": "02da7a77-5f0d-4c01-bed1-89ed7c397099",
   "metadata": {},
   "outputs": [],
   "source": []
  }
 ],
 "metadata": {
  "kernelspec": {
   "display_name": "Python 3",
   "language": "python",
   "name": "python3"
  },
  "language_info": {
   "codemirror_mode": {
    "name": "ipython",
    "version": 3
   },
   "file_extension": ".py",
   "mimetype": "text/x-python",
   "name": "python",
   "nbconvert_exporter": "python",
   "pygments_lexer": "ipython3",
   "version": "3.6.13"
  }
 },
 "nbformat": 4,
 "nbformat_minor": 5
}
