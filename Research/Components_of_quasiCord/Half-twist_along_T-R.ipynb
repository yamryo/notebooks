{
 "cells": [
  {
   "cell_type": "markdown",
   "id": "11685fdb-2099-4709-a30a-866394083909",
   "metadata": {},
   "source": [
    "# Half-twists along the T-R arc"
   ]
  },
  {
   "cell_type": "markdown",
   "id": "c0d5d65f-28d1-4fd4-8145-9e545dae0e05",
   "metadata": {},
   "source": [
    "## Modules"
   ]
  },
  {
   "cell_type": "code",
   "execution_count": 1,
   "id": "dad9bc96-3b51-4d74-911b-9197650b0e9b",
   "metadata": {
    "ExecuteTime": {
     "end_time": "2021-05-28T05:09:25.860503Z",
     "start_time": "2021-05-28T05:09:25.275687Z"
    },
    "tags": []
   },
   "outputs": [],
   "source": [
    "import numpy as np\n",
    "import Permutations as pm\n",
    "import sympy\n",
    "from numpy.random import randint as ri\n",
    "from QuasiCord import *\n",
    "\n",
    "sympy.init_printing()\n",
    "\n",
    "import itertools\n",
    "\n",
    "import pandas as pd\n",
    "import plotly.express as px\n",
    "from plotly.subplots import make_subplots\n",
    "from tqdm.notebook import tqdm"
   ]
  },
  {
   "cell_type": "markdown",
   "id": "c6cf25f9-feed-428b-aac1-6aea8c019e8c",
   "metadata": {},
   "source": [
    "## Integration"
   ]
  },
  {
   "cell_type": "code",
   "execution_count": 134,
   "id": "25518252-ebeb-40e6-acbb-027b055fa534",
   "metadata": {},
   "outputs": [],
   "source": [
    "def twist(c, hand):\n",
    "    t, l, b, r = c[0], c[1], c[2], c[3]\n",
    "    # ---\n",
    "    delta = (t + l) - (b + r)\n",
    "    alpha = 2 * t - delta  # = min(2*t-delta, 2*r+1)\n",
    "    y = (t - alpha) + (r - alpha)\n",
    "\n",
    "    f = t - r\n",
    "    F = abs(2 * f - 1)\n",
    "    # ---\n",
    "    position = None\n",
    "    td, rd = 0, 0\n",
    "\n",
    "    # -- 1 --\n",
    "    if (t - alpha >= 0) and (r - alpha >= 0):\n",
    "        position = \"1\"\n",
    "        if (t - alpha == 0) and (r - alpha == 0):\n",
    "            position += \"1\"\n",
    "            if hand == \"left\":\n",
    "                td, rd = 1, 0\n",
    "            else:\n",
    "                td, rd = 1, 1\n",
    "        else:\n",
    "            position += \"2\"\n",
    "            if hand == \"left\":\n",
    "                td, rd = 2 * y + 1, 2 * (t - alpha)\n",
    "            else:\n",
    "                td, rd = 2 * (r - alpha) + 1, 2 * y + 1\n",
    "    # -- 2 --\n",
    "    elif (t - alpha) * (r - alpha) <= 0:\n",
    "        position = \"2\"\n",
    "        if r - alpha >= 0:  # --> (t - alpha < 0):\n",
    "            position += \"1\"\n",
    "            if hand == \"left\":\n",
    "                td, rd = 2 * (r - alpha) + 1, 2 * (t - alpha)\n",
    "            else:\n",
    "                td, rd = F, F\n",
    "        else:  # r - alpha < 0  (--> t-alpha >=0)\n",
    "            position += \"2\"\n",
    "            if hand == \"left\":\n",
    "                td, rd = F, F\n",
    "            else:\n",
    "                if 2 * r + 1 >= alpha:\n",
    "                    position += \"1\"\n",
    "                    td, rd = 2 * (r - alpha) + 1, 2 * (t - alpha)\n",
    "                else:\n",
    "                    position += \"2\"\n",
    "                    td, rd = -2 * r - 1, 2 * (t - 2 * r - 1)\n",
    "    # -- 3 --\n",
    "    elif (t - alpha < 0) and (r - alpha < 0):\n",
    "        position = \"3\"\n",
    "        if f > 0:\n",
    "            position += \"1\"\n",
    "            if alpha < 2 * r + 1:  # <--> alpha-t < t-2f-1\n",
    "                position += \"1\"\n",
    "                if hand == \"left\":\n",
    "                    td, rd = F, F\n",
    "                else:\n",
    "                    if f > alpha - t:\n",
    "                        position += \"1\"\n",
    "                        td, rd = -F, 2 * (t - alpha)\n",
    "                    else:\n",
    "                        position += \"2\"\n",
    "                        td, rd = -F, -F\n",
    "            else:\n",
    "                position += \"2\"\n",
    "                if hand == \"left\":\n",
    "                    td, rd = F, F\n",
    "                else:\n",
    "                    if 2 * r + 1 <= t:\n",
    "                        position += \"1\"\n",
    "                        td, rd = -2 * r - 1, 2 * (t - 2 * r - 1)\n",
    "                    else:\n",
    "                        position += \"2\"\n",
    "                        if 2 * r + 1 - t < f:\n",
    "                            position += \"1\"\n",
    "                            td, rd = -F, 2 * (t - 2 * r - 1)\n",
    "                        else:\n",
    "                            position += \"2\"\n",
    "                            td, rd = -F, -F\n",
    "        else:  # f <= 0\n",
    "            position += \"2\"\n",
    "            if alpha < 2 * r + 1:  # <--> alpha < 2r+1  <--> 2f-1 < delta\n",
    "                if hand == \"left\":\n",
    "                    if alpha - r - 1 >= -f:\n",
    "                        position += \"1\"\n",
    "                        td, rd = -F, -F\n",
    "                    else:\n",
    "                        position += \"2\"\n",
    "                        td, rd = 2 * (r - alpha) + 1, -F\n",
    "                else:\n",
    "                    td, rd = F, F\n",
    "            else:\n",
    "                position += \"2\"\n",
    "                if hand == \"left\":\n",
    "                    td, rd = 0, 0\n",
    "                else:\n",
    "                    td, rd = 0, 0\n",
    "                print(c, position)\n",
    "    # -- Exception --\n",
    "    else:\n",
    "        print(c, alpha, (t - alpha, r - alpha), hand, \"Why??\")\n",
    "    # ---\n",
    "    try:\n",
    "        sqr = Square(c)\n",
    "        # ---\n",
    "        cn = (t + td, l, b, r + rd)\n",
    "        nsqr = Square(cn)\n",
    "        # ---\n",
    "        n = cc(sqr)\n",
    "        nn = cc(nsqr)\n",
    "        if n != nn:\n",
    "            print(\n",
    "                f\"{c}:{n} -- {hand}_{position},{alpha},{t-alpha},{r-alpha} --> {cn}:{nn}\"\n",
    "            )\n",
    "        # ---\n",
    "    except Exception as ex:\n",
    "        print(f\"{c} -- {hand}_{position},{alpha},{t-alpha},{r-alpha} --> {cn},{ex}\")\n",
    "        nsqr = sqr\n",
    "    # ---\n",
    "    return nsqr, hand + \"_\" + position"
   ]
  },
  {
   "cell_type": "code",
   "execution_count": 154,
   "id": "9ffa4c2a-e8f5-4fb3-817b-c6a082dd5993",
   "metadata": {
    "tags": []
   },
   "outputs": [
    {
     "name": "stdout",
     "output_type": "stream",
     "text": [
      "(9, 4, 8, 3) -- right_3121,16,-7,-13 --> (2, 4, 8, 7),T+L < B+R\n",
      "(8, 4, 8, 1) -- right_3121,13,-5,-12 --> (5, 4, 8, 11),T+L < B+R\n",
      "(8, 2, 7, 2) -- right_3121,15,-7,-13 --> (3, 2, 7, 8),T+L < B+R\n",
      "(7, 7, 5, 1) -- right_222,6,1,-5 --> (4, 7, 5, 9),T+L < B+R\n",
      "(6, 3, 1, 2) -- right_222,6,0,-4 --> (1, 3, 1, 4),T+L < B+R\n",
      "(6, 4, 3, 3):1 -- right_31221,8,-2,-5 --> (1, 4, 3, 1):2\n",
      "(6, 6, 4, 1) -- right_222,5,1,-4 --> (3, 6, 4, 7),T+L < B+R\n",
      "(6, 7, 5, 1) -- right_222,5,1,-4 --> (3, 7, 5, 7),T+L < B+R\n",
      "(7, 4, 8, 2) -- right_3121,13,-6,-11 --> (2, 4, 8, 6),T+L < B+R\n",
      "(4, 7, 8, 1) -- right_3121,6,-2,-5 --> (1, 7, 8, 3),T+L < B+R\n"
     ]
    }
   ],
   "source": [
    "N = 10\n",
    "Max = 30\n",
    "# ---\n",
    "count = 0\n",
    "while count < Max:\n",
    "    sqr = square_random_generator(N)\n",
    "    c = sqr.code\n",
    "    delta = (c[0] + c[1]) - (c[2] + c[3])\n",
    "    # ---\n",
    "    n = cc(sqr)\n",
    "    sqrnl, posil = twist(c, \"left\")\n",
    "    sqrnr, posir = twist(c, \"right\")\n",
    "    nnl = cc(sqrnl)\n",
    "    nnr = cc(sqrnr)\n",
    "    # Output exceptions\n",
    "#     if n != nnl:\n",
    "#         print(f\"{n} --{posil}--> {nnl}, {c}\")\n",
    "#     elif n != nnr:\n",
    "#         print(f\"{n} --{posil}--> {nnr}, {c}\")\n",
    "#     else:\n",
    "#         pass\n",
    "    #     if (c[0] - delta == 0) and (c[1]-delta)<0:\n",
    "    #         print(f\"{c} --(ltw)--> {twist(c, 'left').code}\")\n",
    "    #     if (c[1] - delta == 0) and (c[0] > c[1]):\n",
    "    #         print(f\"{c,n} --(ltw, {posil})--> {sqrnl.code,nnl}\")\n",
    "    #         print(f\"{c,n} --(rtw, {posir})--> {sqrnr.code,nnr}\")\n",
    "    count += 1"
   ]
  },
  {
   "cell_type": "markdown",
   "id": "4ddd9cf7-624f-4875-bff0-11b7b1f01e5c",
   "metadata": {},
   "source": [
    "## Are the left and the right inverses of each other?"
   ]
  },
  {
   "cell_type": "code",
   "execution_count": 38,
   "id": "6b72d82a-77d4-4e0b-a5d9-9a880d142eae",
   "metadata": {
    "tags": []
   },
   "outputs": [],
   "source": [
    "N = 20\n",
    "Max = 20\n",
    "# ---\n",
    "count, error = 0, 0\n",
    "while count < Max*50 and error < Max:\n",
    "    count += 1\n",
    "    sqr = square_random_generator(N)\n",
    "    c = sqr.code\n",
    "    n = cc(sqr)\n",
    "\n",
    "    sqr_tl, pos_tl = twist(c, \"left\")\n",
    "    c_tl = sqr_tl.code\n",
    "    n_tl = cc(sqr_tl)\n",
    "\n",
    "    sqr_tl_tr, pos_tl_tr = twist(c_tl, \"right\")\n",
    "    c_tl_tr = sqr_tl_tr.code\n",
    "    n_tl_tr = cc(sqr_tl_tr)\n",
    "\n",
    "    if c != c_tl_tr:  #pos_tl == 'l1':  #\n",
    "        error += 1\n",
    "        print(f\"{c}:{n} --[{pos_tl}]-->{c_tl}:{n_tl} --[{pos_tl_tr}]-->{c_tl_tr}:{n_tl_tr}\")"
   ]
  },
  {
   "cell_type": "code",
   "execution_count": 39,
   "id": "525fcacb-1df2-427b-a473-69696e904a6a",
   "metadata": {},
   "outputs": [
    {
     "name": "stdout",
     "output_type": "stream",
     "text": [
      "(7, 3, 5, 1) -- right_3121,10,-3,-9 --> (4, 3, 5, 9),T+L < B+R\n"
     ]
    },
    {
     "ename": "UnboundLocalError",
     "evalue": "local variable 'nsqr' referenced before assignment",
     "output_type": "error",
     "traceback": [
      "\u001b[0;31m---------------------------------------------------------------------------\u001b[0m",
      "\u001b[0;31mUnboundLocalError\u001b[0m                         Traceback (most recent call last)",
      "\u001b[0;32m<ipython-input-39-333050b4c513>\u001b[0m in \u001b[0;36m<module>\u001b[0;34m()\u001b[0m\n\u001b[1;32m      9\u001b[0m     \u001b[0mn\u001b[0m \u001b[0;34m=\u001b[0m \u001b[0mcc\u001b[0m\u001b[0;34m(\u001b[0m\u001b[0msqr\u001b[0m\u001b[0;34m)\u001b[0m\u001b[0;34m\u001b[0m\u001b[0;34m\u001b[0m\u001b[0m\n\u001b[1;32m     10\u001b[0m \u001b[0;34m\u001b[0m\u001b[0m\n\u001b[0;32m---> 11\u001b[0;31m     \u001b[0msqr_tr\u001b[0m\u001b[0;34m,\u001b[0m \u001b[0mpos_tr\u001b[0m \u001b[0;34m=\u001b[0m \u001b[0mtwist\u001b[0m\u001b[0;34m(\u001b[0m\u001b[0mc\u001b[0m\u001b[0;34m,\u001b[0m \u001b[0;34m\"right\"\u001b[0m\u001b[0;34m)\u001b[0m\u001b[0;34m\u001b[0m\u001b[0;34m\u001b[0m\u001b[0m\n\u001b[0m\u001b[1;32m     12\u001b[0m     \u001b[0mc_tr\u001b[0m \u001b[0;34m=\u001b[0m \u001b[0msqr_tr\u001b[0m\u001b[0;34m.\u001b[0m\u001b[0mcode\u001b[0m\u001b[0;34m\u001b[0m\u001b[0;34m\u001b[0m\u001b[0m\n\u001b[1;32m     13\u001b[0m     \u001b[0mn_tr\u001b[0m \u001b[0;34m=\u001b[0m \u001b[0mcc\u001b[0m\u001b[0;34m(\u001b[0m\u001b[0msqr_tr\u001b[0m\u001b[0;34m)\u001b[0m\u001b[0;34m\u001b[0m\u001b[0;34m\u001b[0m\u001b[0m\n",
      "\u001b[0;32m<ipython-input-25-3970adecff19>\u001b[0m in \u001b[0;36mtwist\u001b[0;34m(c, hand)\u001b[0m\n\u001b[1;32m    118\u001b[0m         \u001b[0mprint\u001b[0m\u001b[0;34m(\u001b[0m\u001b[0;34mf\"{c} -- {hand}_{position},{alpha},{t-alpha},{r-alpha} --> {cn},{ex}\"\u001b[0m\u001b[0;34m)\u001b[0m\u001b[0;34m\u001b[0m\u001b[0;34m\u001b[0m\u001b[0m\n\u001b[1;32m    119\u001b[0m     \u001b[0;31m# ---\u001b[0m\u001b[0;34m\u001b[0m\u001b[0;34m\u001b[0m\u001b[0;34m\u001b[0m\u001b[0m\n\u001b[0;32m--> 120\u001b[0;31m     \u001b[0;32mreturn\u001b[0m \u001b[0mnsqr\u001b[0m\u001b[0;34m,\u001b[0m \u001b[0mhand\u001b[0m \u001b[0;34m+\u001b[0m \u001b[0;34m\"_\"\u001b[0m \u001b[0;34m+\u001b[0m \u001b[0mposition\u001b[0m\u001b[0;34m\u001b[0m\u001b[0;34m\u001b[0m\u001b[0m\n\u001b[0m",
      "\u001b[0;31mUnboundLocalError\u001b[0m: local variable 'nsqr' referenced before assignment"
     ]
    }
   ],
   "source": [
    "N = 10\n",
    "Max = 20\n",
    "# ---\n",
    "count, error = 0, 0\n",
    "while count < Max*50 and error < Max:\n",
    "    count += 1\n",
    "    sqr = square_random_generator(N)\n",
    "    c = sqr.code\n",
    "    n = cc(sqr)\n",
    "\n",
    "    sqr_tr, pos_tr = twist(c, \"right\")\n",
    "    c_tr = sqr_tr.code\n",
    "    n_tr = cc(sqr_tr)\n",
    "\n",
    "    sqr_tr_tl, pos_tr_tl = twist(c_tr, \"left\")\n",
    "    c_tr_tl = sqr_tr_tl.code\n",
    "    n_tr_tl = cc(sqr_tr_tl)\n",
    "\n",
    "    if c != c_tr_tl:\n",
    "        error += 1\n",
    "        print(f\"{c}:{n} --[{pos_tr}]-->{c_tr}:{n_tr} --[{pos_tr_tl}]-->{c_tr_tl}:{n_tr_tl}\")"
   ]
  }
 ],
 "metadata": {
  "kernelspec": {
   "display_name": "Python 3",
   "language": "python",
   "name": "python3"
  },
  "language_info": {
   "codemirror_mode": {
    "name": "ipython",
    "version": 3
   },
   "file_extension": ".py",
   "mimetype": "text/x-python",
   "name": "python",
   "nbconvert_exporter": "python",
   "pygments_lexer": "ipython3",
   "version": "3.6.13"
  }
 },
 "nbformat": 4,
 "nbformat_minor": 5
}
