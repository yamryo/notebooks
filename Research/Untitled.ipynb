{
 "cells": [
  {
   "cell_type": "markdown",
   "id": "319f7f30-f763-495c-a424-76573c9a21a0",
   "metadata": {},
   "source": [
    "## Libraries"
   ]
  },
  {
   "cell_type": "code",
   "execution_count": 1,
   "id": "148bae30-444d-4c5e-ab7e-ac590065dff9",
   "metadata": {},
   "outputs": [],
   "source": [
    "import random\n",
    "import numpy as np\n",
    "import sympy\n",
    "sympy.init_printing()\n",
    "import sys\n",
    "sys.path.append(\"modules\")\n",
    "\n",
    "import Permutations as pm\n",
    "import Grid as gd\n",
    "\n",
    "# ----- Debugger -----\n",
    "# from IPython.core.debugger import Pdb; Pdb().set_trace()\n",
    "# --------------------"
   ]
  },
  {
   "cell_type": "markdown",
   "id": "76af9b87-39b6-4e32-82f3-0d8001f5eff3",
   "metadata": {},
   "source": [
    "## Experiments"
   ]
  },
  {
   "cell_type": "code",
   "execution_count": null,
   "id": "ccc6a7b5-81e4-4e38-9768-6b17639313cc",
   "metadata": {},
   "outputs": [],
   "source": [
    "img = [10,11,12,7,8,17,18,19,20,21,22,9,4,5,6,13,14,15,16,23,24,1,2,3]\n",
    "prm = pm.Permutation([k-1 for k in img])\n",
    "display(sympy.Matrix(prm.two_line()))\n",
    "cd = pm.cycle_decomp(prm); print(\"{},{}\".format(cd, len(cd)))"
   ]
  },
  {
   "cell_type": "code",
   "execution_count": null,
   "id": "5dd75d9a-a900-4372-b13a-f3ddf994ccff",
   "metadata": {},
   "outputs": [],
   "source": [
    "G = gd.Grid(prm)\n",
    "G.show()"
   ]
  },
  {
   "cell_type": "code",
   "execution_count": null,
   "id": "ccd93197-62e5-4471-b062-7ee58c914502",
   "metadata": {
    "tags": []
   },
   "outputs": [],
   "source": [
    "descending_seq = G.get_reduction()\n",
    "\n",
    "total = 0\n",
    "for d in descending_seq:\n",
    "    if not d[\"direction\"] == None:\n",
    "        total += d[\"num\"]\n",
    "        mstr = \"↓ {}  [{}]\".format(d[\"direction\"], total)\n",
    "        print(\"\\n {} \\n\".format(mstr))\n",
    "        d[\"grid\"].show()\n",
    "#---    \n",
    "print(\"\\n |G| = {}\".format(total+descending_seq[-1][\"grid\"].matrix[0][0]))"
   ]
  },
  {
   "cell_type": "code",
   "execution_count": null,
   "id": "12059ebb-3215-49b2-8734-d7cd29ecd8e4",
   "metadata": {},
   "outputs": [],
   "source": [
    "mtx = np.zeros((6,6), dtype=int)\n",
    "mtx[0][3]=5*3\n",
    "mtx[1][0]=2*3\n",
    "mtx[2][4]=1\n",
    "mtx[3][1]=1\n",
    "mtx[4][5]=5*3\n",
    "mtx[5][2]=2*3\n",
    "# display(mtx)\n",
    "\n",
    "prm1 = gd.restore_permutation(mtx); # display(sympy.Matrix(prm1.two_line()))\n",
    "\n",
    "G1 = gd.Grid(prm1)\n",
    "G1.show()"
   ]
  },
  {
   "cell_type": "code",
   "execution_count": null,
   "id": "d4f7ef3f-273e-449a-ab4c-e4eb0e442838",
   "metadata": {
    "tags": []
   },
   "outputs": [],
   "source": [
    "descending_seq = G1.get_reduction()\n",
    "\n",
    "total = 0\n",
    "for d in descending_seq:\n",
    "    if not d[\"direction\"] == None:\n",
    "        total += d[\"num\"]\n",
    "        mstr = \"↓ {}  [{}]\".format(d[\"direction\"], total)\n",
    "    print(\"\\n {} \\n\".format(mstr))\n",
    "    d[\"grid\"].show()\n",
    "#---    \n",
    "print(\"\\n |G| = {}\".format(total+descending_seq[-1][\"grid\"].matrix[0][0]))"
   ]
  },
  {
   "cell_type": "code",
   "execution_count": null,
   "id": "d3198026-5588-4087-9eb8-30e03589e68d",
   "metadata": {
    "tags": []
   },
   "outputs": [],
   "source": [
    "#-- Settings and Calculations --\n",
    "a = random.randint(2,20)\n",
    "r = random.randint(2, a)\n",
    "d = 2*a+1\n",
    "\n",
    "mtx = np.zeros((6,6), dtype=int)\n",
    "mtx[0][5]=d-r-1\n",
    "mtx[1][3]=r\n",
    "mtx[2][1]=1\n",
    "mtx[3][4]=1\n",
    "mtx[4][2]=d-r\n",
    "mtx[5][0]=r-1\n",
    "# display(mtx)\n",
    "\n",
    "prm1 = gd.restore_permutation(mtx); \n",
    "grid = gd.Grid(prm1)\n",
    "descending_seq = grid.get_reduction()\n",
    "\n",
    "#-- Display --\n",
    "print(\"({},0,1,{}) --> (d,r)=({},{})\".format(a,r, d,r))\n",
    "#--\n",
    "print(\"# of orbits = {}\".format(len(pm.cycle_decomp(prm1))))\n",
    "#--\n",
    "# grid.show()\n",
    "# total = 0\n",
    "# for dct in descending_seq:\n",
    "#     if not dct[\"direction\"] == None:\n",
    "#         total += dct[\"num\"]\n",
    "#         mstr = \"↓ {}  [{}]\".format(dct[\"direction\"], total)\n",
    "#     print(\"\\n {} \\n\".format(mstr))\n",
    "#     dct[\"grid\"].show()\n",
    "# print(\"\\n |G| = {}\".format(total+descending_seq[-1][\"grid\"].matrix[0][0]))"
   ]
  },
  {
   "cell_type": "code",
   "execution_count": null,
   "id": "dbd30169-8c9d-4bfd-bab3-6f4643f7eb77",
   "metadata": {},
   "outputs": [],
   "source": [
    "#-- Settings and Calculations --\n",
    "mymtx = [[0,0,0,0,d%(2*r)],[r-1,0,0,0,0],[0,0,0,1,0],[0,0,r-1,0,0],[0,1,0,0,0]]\n",
    "display(sympy.Matrix(mymtx))\n",
    "\n",
    "prm2 = gd.restore_permutation(mymtx); \n",
    "grid2 = gd.Grid(prm2)\n",
    "descending_seq = grid2.get_reduction()\n",
    "\n",
    "#-- Display --\n",
    "print(\"# of orbits = {}\".format(len(pm.cycle_decomp(prm2))))\n",
    "#--\n",
    "# grid2.show()\n",
    "# total = 0\n",
    "# for d in descending_seq:\n",
    "#     if not d[\"direction\"] == None:\n",
    "#         total += d[\"num\"]\n",
    "#         mstr = \"↓ {}  [{}]\".format(d[\"direction\"], total)\n",
    "#     print(\"\\n {} \\n\".format(mstr))\n",
    "#     d[\"grid\"].show()\n",
    "# print(\"\\n |G| = {}\".format(total+descending_seq[-1][\"grid\"].matrix[0][0]))"
   ]
  },
  {
   "cell_type": "code",
   "execution_count": null,
   "id": "efb01a77-295d-47db-8495-be6072b7e7b2",
   "metadata": {},
   "outputs": [],
   "source": []
  }
 ],
 "metadata": {
  "kernelspec": {
   "display_name": "Python 3 (ipykernel)",
   "language": "python",
   "name": "python3"
  },
  "language_info": {
   "codemirror_mode": {
    "name": "ipython",
    "version": 3
   },
   "file_extension": ".py",
   "mimetype": "text/x-python",
   "name": "python",
   "nbconvert_exporter": "python",
   "pygments_lexer": "ipython3",
   "version": "3.7.10"
  }
 },
 "nbformat": 4,
 "nbformat_minor": 5
}
