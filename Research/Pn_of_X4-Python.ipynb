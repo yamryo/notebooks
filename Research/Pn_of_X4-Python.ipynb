{
 "cells": [
  {
   "cell_type": "markdown",
   "metadata": {},
   "source": [
    "## $P^{n}(X_{4})$ の位数"
   ]
  },
  {
   "cell_type": "markdown",
   "metadata": {},
   "source": [
    "$$\n",
    "P^{n}(X_{4}) = \\{(\\sigma_{1}, \\dots, \\sigma_{n}) | \\sigma_{1}\\sigma_{2} \\cdots \\sigma_{n} = 1, \\sigma_{i} \\neq \\sigma_{j} [\\forall i,j] \\}\n",
    "$$"
   ]
  },
  {
   "cell_type": "code",
   "execution_count": 1,
   "metadata": {
    "ExecuteTime": {
     "end_time": "2020-01-17T06:19:36.186838Z",
     "start_time": "2020-01-17T06:19:36.180544Z"
    }
   },
   "outputs": [],
   "source": [
    "import itertools\n",
    "from functools import reduce"
   ]
  },
  {
   "cell_type": "markdown",
   "metadata": {},
   "source": [
    "## Permutations"
   ]
  },
  {
   "cell_type": "code",
   "execution_count": 2,
   "metadata": {
    "ExecuteTime": {
     "end_time": "2020-01-17T06:19:36.202793Z",
     "start_time": "2020-01-17T06:19:36.194789Z"
    }
   },
   "outputs": [],
   "source": [
    "def act(sigma, k):\n",
    "    if type(k) == list:\n",
    "        return [act(sigma, v) for v in k]\n",
    "    else:\n",
    "        return sigma[(sigma.index(k)+1)%4]"
   ]
  },
  {
   "cell_type": "code",
   "execution_count": 3,
   "metadata": {
    "ExecuteTime": {
     "end_time": "2020-01-17T06:19:36.228137Z",
     "start_time": "2020-01-17T06:19:36.207159Z"
    }
   },
   "outputs": [
    {
     "data": {
      "text/plain": [
       "[1, 3, 0, 2]"
      ]
     },
     "execution_count": 3,
     "metadata": {},
     "output_type": "execute_result"
    }
   ],
   "source": [
    "act([2,0,1,3], [0,1,2,3])"
   ]
  },
  {
   "cell_type": "markdown",
   "metadata": {
    "ExecuteTime": {
     "end_time": "2020-01-16T06:02:16.120422Z",
     "start_time": "2020-01-16T06:02:16.113Z"
    }
   },
   "source": [
    "## Getting the sequence"
   ]
  },
  {
   "cell_type": "code",
   "execution_count": 4,
   "metadata": {
    "ExecuteTime": {
     "end_time": "2020-01-17T06:19:36.244132Z",
     "start_time": "2020-01-17T06:19:36.232016Z"
    }
   },
   "outputs": [
    {
     "name": "stdout",
     "output_type": "stream",
     "text": [
      "[(0, 1, 2, 3), (0, 2, 1, 3), (1, 0, 2, 3), (1, 2, 0, 3), (2, 0, 1, 3), (2, 1, 0, 3)]\n"
     ]
    }
   ],
   "source": [
    "num = 4\n",
    "cplist = itertools.permutations(list(range(num-1)), num-1)\n",
    "\n",
    "def add_last(x):\n",
    "    x = list(x)\n",
    "    x.append(num-1)\n",
    "    return tuple(x)\n",
    "    \n",
    "cplist = list(map(add_last, cplist))\n",
    "\n",
    "print(cplist)\n",
    "initial = list(range(num))\n",
    "evens = list(map(lambda x: 2*x, range(1, 100)))"
   ]
  },
  {
   "cell_type": "code",
   "execution_count": 28,
   "metadata": {
    "ExecuteTime": {
     "end_time": "2020-01-17T09:09:33.056098Z",
     "start_time": "2020-01-17T09:09:33.049051Z"
    }
   },
   "outputs": [
    {
     "name": "stdout",
     "output_type": "stream",
     "text": [
      "[0, 1, 2, 3, 4, 5]\n"
     ]
    }
   ],
   "source": [
    "indices = list(range(len(cplist)))\n",
    "print(indices)"
   ]
  },
  {
   "cell_type": "code",
   "execution_count": 39,
   "metadata": {
    "ExecuteTime": {
     "end_time": "2020-01-17T09:16:18.192952Z",
     "start_time": "2020-01-17T09:16:18.180251Z"
    }
   },
   "outputs": [
    {
     "ename": "SyntaxError",
     "evalue": "invalid syntax (<ipython-input-39-b04c074b0a25>, line 4)",
     "output_type": "error",
     "traceback": [
      "\u001b[0;36m  File \u001b[0;32m\"<ipython-input-39-b04c074b0a25>\"\u001b[0;36m, line \u001b[0;32m4\u001b[0m\n\u001b[0;31m    ind_prod = list(map(lambda tp, list(itertools.chain.from_iterable(tp))), ind_prod)\u001b[0m\n\u001b[0m                                       ^\u001b[0m\n\u001b[0;31mSyntaxError\u001b[0m\u001b[0;31m:\u001b[0m invalid syntax\n"
     ]
    }
   ],
   "source": [
    "ind_prod = indices\n",
    "for k in range(num - 1):\n",
    "    ind_prod = list(itertools.product(ind_prod, indices))\n",
    "    ind_prod = list(map(lambda tp, list(itertools.chain.from_iterable(tp))), ind_prod)\n",
    "        \n",
    "for cps in ind_prod:\n",
    "    print(cps)"
   ]
  },
  {
   "cell_type": "code",
   "execution_count": 53,
   "metadata": {
    "ExecuteTime": {
     "end_time": "2020-01-17T09:22:03.868421Z",
     "start_time": "2020-01-17T09:22:03.840471Z"
    }
   },
   "outputs": [],
   "source": [
    "def get_cardinality(num):\n",
    "    cp_prod = [()]\n",
    "    for k in range(num):\n",
    "        cp_prod = list(itertools.product(cp_prod, cplist))\n",
    "            \n",
    "    cp_tuples = []\n",
    "    for cps in cp_prod:\n",
    "        rtn = []\n",
    "        for j in range(num):\n",
    "            cps = list(cps)\n",
    "            rtn.append(cps.pop())\n",
    "            cps = list(itertools.chain.from_iterable(cps))\n",
    "        cp_tuples.append(rtn)\n",
    "    \n",
    "    pnx = []\n",
    "    for cps in cp_tuples:\n",
    "        mlist = initial\n",
    "        for cp in cps:\n",
    "            mlist = act(cp, mlist)\n",
    "        if mlist == initial:\n",
    "            pnx.append(cps)\n",
    "    return len(pnx)"
   ]
  },
  {
   "cell_type": "code",
   "execution_count": 54,
   "metadata": {
    "ExecuteTime": {
     "end_time": "2020-01-17T09:22:06.292396Z",
     "start_time": "2020-01-17T09:22:04.611720Z"
    }
   },
   "outputs": [
    {
     "data": {
      "text/plain": [
       "[6, 120, 3936]"
      ]
     },
     "execution_count": 54,
     "metadata": {},
     "output_type": "execute_result"
    }
   ],
   "source": [
    "max = 3\n",
    "list(map(get_cardinality, evens[:max]))"
   ]
  },
  {
   "cell_type": "markdown",
   "metadata": {},
   "source": [
    "## Experiments"
   ]
  },
  {
   "cell_type": "code",
   "execution_count": 24,
   "metadata": {
    "ExecuteTime": {
     "end_time": "2020-01-17T09:06:55.431797Z",
     "start_time": "2020-01-17T09:06:55.359192Z"
    }
   },
   "outputs": [],
   "source": [
    "def get_cardinality_01(num):\n",
    "    cp_prod = [()]\n",
    "    for k in range(num):\n",
    "        cp_prod = list(itertools.product(cp_prod, cplist))\n",
    "            \n",
    "    cp_tuples = []\n",
    "    for cps in cp_prod:\n",
    "        rtn = []\n",
    "        for j in range(num):\n",
    "            cps = list(cps)\n",
    "            rtn.append(cps.pop())\n",
    "            cps = list(itertools.chain.from_iterable(cps))\n",
    "        cp_tuples.append(rtn)\n",
    "    \n",
    "    pnx = []\n",
    "    for cps in cp_tuples:\n",
    "        mlist = initial\n",
    "        for cp in cps:\n",
    "            mlist = act(cp, mlist)\n",
    "        if mlist == initial:\n",
    "            pnx.append(cps)\n",
    "    return len(pnx)"
   ]
  },
  {
   "cell_type": "code",
   "execution_count": 25,
   "metadata": {
    "ExecuteTime": {
     "end_time": "2020-01-17T09:08:09.563792Z",
     "start_time": "2020-01-17T09:08:07.021936Z"
    }
   },
   "outputs": [
    {
     "name": "stdout",
     "output_type": "stream",
     "text": [
      "30.9 ms ± 3.75 ms per loop (mean ± std. dev. of 7 runs, 10 loops each)\n"
     ]
    }
   ],
   "source": [
    "%timeit get_cardinality_01(4)"
   ]
  },
  {
   "cell_type": "code",
   "execution_count": 23,
   "metadata": {
    "ExecuteTime": {
     "end_time": "2020-01-17T09:00:55.365377Z",
     "start_time": "2020-01-17T09:00:55.259772Z"
    },
    "scrolled": true
   },
   "outputs": [
    {
     "name": "stdout",
     "output_type": "stream",
     "text": [
      " "
     ]
    }
   ],
   "source": [
    "%prun get_cardinality(4)"
   ]
  }
 ],
 "metadata": {
  "kernelspec": {
   "display_name": "Python 3",
   "language": "python",
   "name": "python3"
  },
  "language_info": {
   "codemirror_mode": {
    "name": "ipython",
    "version": 3
   },
   "file_extension": ".py",
   "mimetype": "text/x-python",
   "name": "python",
   "nbconvert_exporter": "python",
   "pygments_lexer": "ipython3",
   "version": "3.6.13"
  },
  "toc": {
   "base_numbering": 1,
   "nav_menu": {},
   "number_sections": false,
   "sideBar": true,
   "skip_h1_title": true,
   "title_cell": "Table of Contents",
   "title_sidebar": "Contents",
   "toc_cell": false,
   "toc_position": {},
   "toc_section_display": true,
   "toc_window_display": false
  }
 },
 "nbformat": 4,
 "nbformat_minor": 2
}
