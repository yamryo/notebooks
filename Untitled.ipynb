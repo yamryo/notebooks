{
 "cells": [
  {
   "cell_type": "code",
   "execution_count": 26,
   "id": "f3ec5280-c8ab-48dc-b21a-16981d925850",
   "metadata": {},
   "outputs": [],
   "source": [
    "marr = [((318/319)**i)*(1/319) for i in range(100)]"
   ]
  },
  {
   "cell_type": "code",
   "execution_count": 27,
   "id": "be0f7935-fe7f-45b2-ab7c-e35267cfd8e2",
   "metadata": {},
   "outputs": [
    {
     "data": {
      "text/plain": [
       "0.003134796238244514"
      ]
     },
     "execution_count": 27,
     "metadata": {},
     "output_type": "execute_result"
    }
   ],
   "source": [
    "marr[0]"
   ]
  },
  {
   "cell_type": "code",
   "execution_count": 28,
   "id": "a638274b-952b-485f-b1f5-96ebaaf60d92",
   "metadata": {},
   "outputs": [
    {
     "data": {
      "text/plain": [
       "0.2694605173624169"
      ]
     },
     "execution_count": 28,
     "metadata": {},
     "output_type": "execute_result"
    }
   ],
   "source": [
    "sum(marr)"
   ]
  },
  {
   "cell_type": "code",
   "execution_count": null,
   "id": "e57c90e0-04bb-4a24-b484-68618a3d1af4",
   "metadata": {},
   "outputs": [],
   "source": []
  }
 ],
 "metadata": {
  "kernelspec": {
   "display_name": "Python 3 (ipykernel)",
   "language": "python",
   "name": "python3"
  },
  "language_info": {
   "codemirror_mode": {
    "name": "ipython",
    "version": 3
   },
   "file_extension": ".py",
   "mimetype": "text/x-python",
   "name": "python",
   "nbconvert_exporter": "python",
   "pygments_lexer": "ipython3",
   "version": "3.12.6"
  }
 },
 "nbformat": 4,
 "nbformat_minor": 5
}
