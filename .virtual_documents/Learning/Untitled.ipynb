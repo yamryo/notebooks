import sys; sys.path.append("../Modules/py_hfk/dist")
import py_hfk

import math


a = example.fact(5)
b = math.factorial(5)

a==b
