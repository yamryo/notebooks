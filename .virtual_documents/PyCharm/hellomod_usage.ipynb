#import sys; sys.path.append('~/notebooks/PyCharm/')  # exp配下のパスを追加
import pybridge as pyb

import hellomod
hellomod.greet()  # "Hello from your C++ module!" と表示されます


print(sys.path)



