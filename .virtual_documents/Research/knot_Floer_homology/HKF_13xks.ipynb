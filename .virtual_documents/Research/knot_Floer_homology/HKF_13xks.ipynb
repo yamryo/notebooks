import sys; sys.path.append("../modules")
import random

import numpy as np
import sympy; sympy.init_printing()

import Permutations as pm
from Grid import *

from tqdm.notebook import tqdm
# ----- Debugger -----
# from IPython.core.debugger import Pdb; Pdb().set_trace()

from knot_floer_homology import *
help(pd_to_hfk)


import csv
import ast

knots_data = [] # a list of dicts which has keys 'Name', 'PD Notation', 'Rasmussen s', Ozsvath-Szabo tau', 'L-space', 'Nu' and 'Epsilon'.

with open('knotinfo.csv', 'r') as f:
    dataReader = csv.reader(f)
    keys = next(dataReader)
    for row in dataReader:
        knot_dict = {}
        for col in range(len(row)):
            key = keys[col]
            if key == "PD Notation":
                key = 'PD'
                value = [tuple(l) for l in ast.literal_eval(row[col].translate(str.maketrans({';': ','})))]
            else:
                value = row[col]
            knot_dict[key] = value
        knots_data.append(knot_dict)
            
print(knots_data[1])


KD = knots_data[999]

#print("[{}] -->  L-space: {}, Nu: {}".format(KD['Name'], KD['L-space'], KD['Nu']))
print({k: v for k,v in KD.items() if k != 'PD'})

pd_to_hfk(KD['PD'])


for kd in tqdm(knots_data):
    knotinfo_ep = ast.literal_eval(kd['Ozsvath-Szabo tau'])
    result = pd_to_hfk(kd['PD'])
    calculated_ep = result['tau']
    if knotinfo_ep != calculated_ep:
        #print("Different!!")
        print(kd)
        print(result)
        exit


import os
import multiprocessing

MAX_COUNT = 100000000
ITERATION = 50000000

def whoami(what):
    #単純な加算
    count = 0
    for n in range(MAX_COUNT):
        if count % ITERATION ==0:
            #実行中のプロセスIDと,現在のcount数を表示
            print("{} Process {} count {}".format(what,os.getpid(),count))
        count +=1
    #どのIDのプロセスが終了したかを表示
    print("end {} Process {}".format(what,os.getpid()))
#現在のプロセスのidを表示
print("Main Process ID is {}".format(os.getpid()))
#メインのプロセスで実行
whoami("main program")

print("-----------------------------------------------------")
#プロセスを10作りスタートさせる.
for n in range(10):
    p = multiprocessing.Process(target=whoami,args=("Process {}".format(n),))
    p.start()
print("end of program")





