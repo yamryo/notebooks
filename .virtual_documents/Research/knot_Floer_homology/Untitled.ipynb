import sys; sys.path.append("../modules")
import random

import numpy as np
import sympy; sympy.init_printing()

import Permutations as pm
from Grid import *

from tqdm.notebook import tqdm
# ----- Debugger -----
# from IPython.core.debugger import Pdb; Pdb().set_trace()

#from gridlink import * 
import gridlink as gl



