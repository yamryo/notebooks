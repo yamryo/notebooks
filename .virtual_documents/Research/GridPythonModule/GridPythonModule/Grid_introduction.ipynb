from GridPythonModule import *





draw_grid(generate_random_grid(7), markings='XO')





G = [[3, 2, 5, 4, 7, 6, 0, 1], [0, 4, 3, 6, 5, 1, 2, 7]]
draw_grid(G, markings='XO')





draw_grid(generate_torus_link(3,12))
draw_grid(generate_unknot(6)) 
draw_grid(load_knot('7_3')) 





trefoil = generate_torus_link(3,2)
trefoil_stab1 = stabilisation(trefoil, 2, 'XSE')
trefoil_stab2 = stabilisation(trefoil, 2, 'XSW')
trefoil_stab3 = stabilisation(trefoil, 2, 'XNW')
trefoil_stab4 = stabilisation(trefoil, 2, 'XNE')
draw_grid(trefoil)
draw_grid(trefoil_stab1)
draw_grid(trefoil_stab2)
draw_grid(trefoil_stab3)
draw_grid(trefoil_stab4)





new_grid_row = commute_rows(trefoil_stab2, 3,interleaving = 'N')
draw_grid(new_grid_row)
new_grid_column = commute_columns(trefoil_stab2, 3,interleaving = 'N')
draw_grid(new_grid_column)





G = generate_random_grid(100)
draw_grid(G)
trefoil = generate_torus_link(3,2)
trefoil_scrambled = scramble_grid(trefoil, effort = 'low')
draw_grid(trefoil)
draw_grid(trefoil_scrambled)





G = generate_random_grid(30)
simplified_G = simplify_grid(G, effort='medium')
draw_grid(G)
draw_grid(simplified_G)





U = scramble_grid(generate_unknot(10), effort='high')
draw_grid(U)
U_simp = simplify_grid(U)
draw_grid(U_simp)





F = mirror_grid(generate_torus_link(3,2))
H = load_knot('4_1')
conn_sum = connected_sum(F,H) 
draw_grid(conn_sum)
print('the number of crossings in this grid is:', crossing_number(conn_sum))





print('This link can be represented as the following braid word:\n\n',convert_to_braid(conn_sum))





draw_grid(cyclic_shift(conn_sum,1))
draw_grid(parallel_copies(conn_sum,3))





G = [[2, 0, 1], [1, 2, 0]]
print('This is the starting grid:')
draw_grid(G)
print('And these are all of its neighbours:')
for neig_G in perform_all_moves(G):
    draw_grid(neig_G, markings= 'XO')
