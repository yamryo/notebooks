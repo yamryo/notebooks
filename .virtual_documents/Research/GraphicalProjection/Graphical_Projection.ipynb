


import numpy as np
import itertools

from ipycanvas import Canvas





canvas = Canvas(size=(100, 100))
canvas.translate(50, 50)

vertices = []
Mag = 50
for v in itertools.product(range(2),repeat=2):
    vm = [int(x) for x in np.array(v)*Mag]
    vertices.append(vm)

#print(vertices)

edges = []
for couple in itertools.combinations(vertices, 2):
    if (couple[0][0] == couple[1][0] or couple[0][1] == couple[1][1]):
        edges.append(couple)

#print(edges)

for e in edges:
    canvas.stroke_line(*e[0], *e[1])
    
canvas








vertices = []
for v in itertools.product(range(2), repeat=3):
    vm = [int(x) for x in np.array(v)]
    vertices.append(vm)

#print(vertices)

edges = []
for couple in itertools.combinations(vertices, 2):
    count = 0
    for i in range(3):
        if couple[0][i] == couple[1][i]:
            count += 1
    if count == 2:
        edges.append(couple)

#print(edges, len(edges))








canvas = Canvas(size=(200, 200))

#--- 射影 ---
def projection(vec, hole = [0,0,0], s=5):
    k = (s+hole[0])/(vec[0]-hole[0]) 
    return np.array([(vec[1]-hole[1])*k+hole[1], (vec[2]-hole[2])*k+hole[2]])

#--- 描画 ---
hole = [-2/3, 1+1/3, -1/2]
screen = 10
Mag = 10
for e in edges:
    tr = np.array([20,10])
    pe = [(projection(bp, hole, screen)+tr)*Mag for bp in e]
    canvas.stroke_line(*pe[0], *pe[1])
#canvas.stroke_rect(10, 10, 400)
canvas








canvas = Canvas(size=(200, 200))

def projection(vec, ray = [1,0,0]):
    k = (1+vec[0])/ray[0]
    return np.array([vec[1], vec[2]]) - np.array([ray[1],ray[2]])*k

r = [2/3, -1/2, 1/3]
Mag = 100
for e in edges:
    tr = np.array([0,2])
    pe = [(projection(bp, r)+tr)*Mag for bp in e]
    canvas.stroke_line(*pe[0], *pe[1])
canvas
