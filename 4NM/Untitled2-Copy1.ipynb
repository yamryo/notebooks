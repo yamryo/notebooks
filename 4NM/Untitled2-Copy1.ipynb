{
 "cells": [
  {
   "cell_type": "code",
   "execution_count": 1,
   "id": "9bde2757-5966-484f-913e-7c28b84cb108",
   "metadata": {},
   "outputs": [],
   "source": [
    "import math\n",
    "from sympy import *\n",
    "init_printing()"
   ]
  },
  {
   "cell_type": "code",
   "execution_count": 2,
   "id": "5e008bdf-56f9-42cb-81e1-b096f78a876e",
   "metadata": {
    "ExecuteTime": {
     "end_time": "2020-09-30T01:37:42.478950Z",
     "start_time": "2020-09-30T01:37:41.889186Z"
    }
   },
   "outputs": [],
   "source": [
    "from __future__ import print_function, division\n",
    "import numpy as np\n",
    "import matplotlib as mpl\n",
    "import matplotlib.pyplot as plt\n",
    "import matplotlib.path as mpath\n",
    "import matplotlib.patches as mpatches\n",
    "%matplotlib inline"
   ]
  },
  {
   "cell_type": "markdown",
   "id": "215d9f2c-194a-4fd1-a909-a09f7f870fbd",
   "metadata": {},
   "source": [
    "# Functions"
   ]
  },
  {
   "cell_type": "code",
   "execution_count": 3,
   "id": "e4e453d9-9c22-4baa-aadb-baa7e9cda6b0",
   "metadata": {},
   "outputs": [],
   "source": [
    "l_1 = lambda x: 2*x+1\n",
    "l_2 = lambda x: 1/2*x-2"
   ]
  },
  {
   "cell_type": "code",
   "execution_count": 4,
   "id": "595b1ccf-a990-4e53-89e0-f7b4670b5acf",
   "metadata": {},
   "outputs": [
    {
     "name": "stdout",
     "output_type": "stream",
     "text": [
      "4*a*c - 4*a + b**2 - 4*b + 4\n",
      "[(-6*sqrt(a) + 8*a + 2, 24*sqrt(a) - 16*a - 8), (6*sqrt(a) + 8*a + 2, -24*sqrt(a) - 16*a - 8)]\n"
     ]
    }
   ],
   "source": [
    "x,a,b,c = symbols('x,a,b,c')\n",
    "\n",
    "f = lambda x: -a*x**2+b*x+c\n",
    "D = discriminant(l_1(x)-f(x)); print(D.simplify())\n",
    "\n",
    "x_1 = 4\n",
    "sol = solve([f(x_1)-l_2(x_1), D], [b,c]); print(sol)"
   ]
  },
  {
   "cell_type": "code",
   "execution_count": 21,
   "id": "4fbbad71-e007-4748-b460-81fd23a2ca3a",
   "metadata": {},
   "outputs": [
    {
     "name": "stdout",
     "output_type": "stream",
     "text": [
      "-6*sqrt(a) + 8*a + 2 -6*sqrt(a) + 8*a + 2\n"
     ]
    }
   ],
   "source": [
    "kk = lambda a: sol[0][0] \n",
    "print(kk(1), sol[0][0])"
   ]
  },
  {
   "cell_type": "code",
   "execution_count": 5,
   "id": "8dc7b477-7cfa-492f-8b27-0e70be2e4c6e",
   "metadata": {
    "tags": []
   },
   "outputs": [],
   "source": [
    "a = 1\n",
    "ff = lambda x: -a*x**2+sol[0]*x+sol[1]\n",
    "g = lambda x: ((f(x_1)-f(0))/(x_1-0))*x+f(0)"
   ]
  },
  {
   "cell_type": "code",
   "execution_count": 6,
   "id": "53acf468-9229-4250-8017-ab9ebf17ee4b",
   "metadata": {},
   "outputs": [
    {
     "ename": "ValueError",
     "evalue": "operands could not be broadcast together with shapes (2,) (100,) ",
     "output_type": "error",
     "traceback": [
      "\u001b[0;31m---------------------------------------------------------------------------\u001b[0m",
      "\u001b[0;31mValueError\u001b[0m                                Traceback (most recent call last)",
      "\u001b[0;32m/tmp/ipykernel_18231/1343707469.py\u001b[0m in \u001b[0;36m<module>\u001b[0;34m\u001b[0m\n\u001b[1;32m      9\u001b[0m \u001b[0mplt\u001b[0m\u001b[0;34m.\u001b[0m\u001b[0mplot\u001b[0m\u001b[0;34m(\u001b[0m\u001b[0mp\u001b[0m \u001b[0;34m,\u001b[0m \u001b[0ml_2\u001b[0m\u001b[0;34m(\u001b[0m\u001b[0mp\u001b[0m\u001b[0;34m)\u001b[0m\u001b[0;34m)\u001b[0m\u001b[0;34m\u001b[0m\u001b[0;34m\u001b[0m\u001b[0m\n\u001b[1;32m     10\u001b[0m \u001b[0;34m\u001b[0m\u001b[0m\n\u001b[0;32m---> 11\u001b[0;31m \u001b[0mplt\u001b[0m\u001b[0;34m.\u001b[0m\u001b[0mplot\u001b[0m\u001b[0;34m(\u001b[0m\u001b[0mp\u001b[0m \u001b[0;34m,\u001b[0m \u001b[0mff\u001b[0m\u001b[0;34m(\u001b[0m\u001b[0mp\u001b[0m\u001b[0;34m)\u001b[0m\u001b[0;34m)\u001b[0m\u001b[0;34m\u001b[0m\u001b[0;34m\u001b[0m\u001b[0m\n\u001b[0m\u001b[1;32m     12\u001b[0m \u001b[0mplt\u001b[0m\u001b[0;34m.\u001b[0m\u001b[0mplot\u001b[0m\u001b[0;34m(\u001b[0m\u001b[0mp\u001b[0m \u001b[0;34m,\u001b[0m \u001b[0mg\u001b[0m\u001b[0;34m(\u001b[0m\u001b[0mp\u001b[0m\u001b[0;34m)\u001b[0m\u001b[0;34m)\u001b[0m\u001b[0;34m\u001b[0m\u001b[0;34m\u001b[0m\u001b[0m\n\u001b[1;32m     13\u001b[0m \u001b[0;34m\u001b[0m\u001b[0m\n",
      "\u001b[0;32m/tmp/ipykernel_18231/1957816275.py\u001b[0m in \u001b[0;36m<lambda>\u001b[0;34m(x)\u001b[0m\n\u001b[1;32m      1\u001b[0m \u001b[0ma\u001b[0m \u001b[0;34m=\u001b[0m \u001b[0;36m1\u001b[0m\u001b[0;34m\u001b[0m\u001b[0;34m\u001b[0m\u001b[0m\n\u001b[0;32m----> 2\u001b[0;31m \u001b[0mff\u001b[0m \u001b[0;34m=\u001b[0m \u001b[0;32mlambda\u001b[0m \u001b[0mx\u001b[0m\u001b[0;34m:\u001b[0m \u001b[0;34m-\u001b[0m\u001b[0ma\u001b[0m\u001b[0;34m*\u001b[0m\u001b[0mx\u001b[0m\u001b[0;34m**\u001b[0m\u001b[0;36m2\u001b[0m\u001b[0;34m+\u001b[0m\u001b[0msol\u001b[0m\u001b[0;34m[\u001b[0m\u001b[0;36m0\u001b[0m\u001b[0;34m]\u001b[0m\u001b[0;34m*\u001b[0m\u001b[0mx\u001b[0m\u001b[0;34m+\u001b[0m\u001b[0msol\u001b[0m\u001b[0;34m[\u001b[0m\u001b[0;36m1\u001b[0m\u001b[0;34m]\u001b[0m\u001b[0;34m\u001b[0m\u001b[0;34m\u001b[0m\u001b[0m\n\u001b[0m\u001b[1;32m      3\u001b[0m \u001b[0mg\u001b[0m \u001b[0;34m=\u001b[0m \u001b[0;32mlambda\u001b[0m \u001b[0mx\u001b[0m\u001b[0;34m:\u001b[0m \u001b[0;34m(\u001b[0m\u001b[0;34m(\u001b[0m\u001b[0mf\u001b[0m\u001b[0;34m(\u001b[0m\u001b[0mx_1\u001b[0m\u001b[0;34m)\u001b[0m\u001b[0;34m-\u001b[0m\u001b[0mf\u001b[0m\u001b[0;34m(\u001b[0m\u001b[0;36m0\u001b[0m\u001b[0;34m)\u001b[0m\u001b[0;34m)\u001b[0m\u001b[0;34m/\u001b[0m\u001b[0;34m(\u001b[0m\u001b[0mx_1\u001b[0m\u001b[0;34m-\u001b[0m\u001b[0;36m0\u001b[0m\u001b[0;34m)\u001b[0m\u001b[0;34m)\u001b[0m\u001b[0;34m*\u001b[0m\u001b[0mx\u001b[0m\u001b[0;34m+\u001b[0m\u001b[0mf\u001b[0m\u001b[0;34m(\u001b[0m\u001b[0;36m0\u001b[0m\u001b[0;34m)\u001b[0m\u001b[0;34m\u001b[0m\u001b[0;34m\u001b[0m\u001b[0m\n",
      "\u001b[0;31mValueError\u001b[0m: operands could not be broadcast together with shapes (2,) (100,) "
     ]
    },
    {
     "data": {
      "image/png": "[encoded data removed]",
      "text/plain": [
       "<Figure size 720x720 with 1 Axes>"
      ]
     },
     "metadata": {
      "needs_background": "light"
     },
     "output_type": "display_data"
    }
   ],
   "source": [
    "fig, ax = plt.subplots(figsize=(10,10))\n",
    "\n",
    "N = 100\n",
    "c, w = 1.0, 4.0\n",
    "xmin, xmax = c-w, c+w\n",
    "\n",
    "p = np.linspace(xmin, xmax, N)\n",
    "plt.plot(p , l_1(p))\n",
    "plt.plot(p , l_2(p))\n",
    "\n",
    "plt.plot(p , ff(p))\n",
    "plt.plot(p , g(p))\n",
    "\n",
    "ax.grid()\n",
    "ax.axis('equal')\n",
    "\n",
    "plt.show()"
   ]
  },
  {
   "cell_type": "markdown",
   "id": "7187ba93-2b24-4904-bbf3-d2b87f329565",
   "metadata": {},
   "source": [
    "# The area of the region enclosed with the parabola and the line"
   ]
  },
  {
   "cell_type": "code",
   "execution_count": null,
   "id": "603d40c1-f793-473d-9daa-dd769d0a8ea2",
   "metadata": {},
   "outputs": [],
   "source": [
    "x = symbols('x')\n",
    "sol1 = solve(f(x)-g(x),x); sol1"
   ]
  },
  {
   "cell_type": "code",
   "execution_count": null,
   "id": "5740d6c2-3536-4ecc-bade-44efd8312b8c",
   "metadata": {},
   "outputs": [],
   "source": [
    "A = Integral(f(x)-g(x),(x,sol1[0],sol1[1])); A.doit()"
   ]
  },
  {
   "cell_type": "markdown",
   "id": "87aebc67-8969-48ca-bd00-82f0e6e098aa",
   "metadata": {},
   "source": [
    "# Derivatives"
   ]
  },
  {
   "cell_type": "code",
   "execution_count": null,
   "id": "5189c312-dd10-47f0-ac0c-2c0df3578ea1",
   "metadata": {},
   "outputs": [],
   "source": [
    "diff(f(x),x)"
   ]
  },
  {
   "cell_type": "code",
   "execution_count": null,
   "id": "51899a24-3cb5-4b92-b9de-5bfae4ddd974",
   "metadata": {},
   "outputs": [],
   "source": [
    "m = symbols('m')\n",
    "\n",
    "k = 0\n",
    "a, b = -2+k, -3+2*k; display((a,b))\n",
    "\n",
    "h = lambda x: m*(x-a)+b"
   ]
  },
  {
   "cell_type": "code",
   "execution_count": null,
   "id": "b3466f76-cbd9-4252-a22b-7d35ca50ac3d",
   "metadata": {},
   "outputs": [],
   "source": [
    "eq = (h(x)-f(x)).expand().collect(x); display(eq)\n",
    "D = discriminant(eq); display(D)\n",
    "\n",
    "sol2 = solve(D, m); sol2"
   ]
  },
  {
   "cell_type": "code",
   "execution_count": null,
   "id": "0bd2be23-1749-498d-aad6-627134211122",
   "metadata": {},
   "outputs": [],
   "source": [
    "line1 = lambda x: sol2[0]*(x-a)+b; display(line1(x))\n",
    "line2 = lambda x: (g(sol1[1])-b)/(sol1[1]-a)*(x-a)+b; display(line2(x))"
   ]
  },
  {
   "cell_type": "code",
   "execution_count": null,
   "id": "7d130287-3411-48c4-a9ce-7e3e64c981a5",
   "metadata": {},
   "outputs": [],
   "source": [
    "fig, ax = plt.subplots(figsize=(10,10))\n",
    "\n",
    "N = 100\n",
    "c, w = 2.0, 6.2\n",
    "xmin, xmax = c-w, c+w\n",
    "\n",
    "p = np.linspace(xmin, xmax, N)\n",
    "plt.plot(p, f(p))\n",
    "plt.plot(p, g(p))\n",
    "\n",
    "point, = ax.plot(a,b, 'g.', ms = 10.0)\n",
    "plt.plot(p, line1(p), 'g.', ms = 3.0)\n",
    "plt.plot(p, line2(p), 'g.', ms = 3.0)\n",
    "\n",
    "ax.grid()\n",
    "ax.axis('equal')\n",
    "\n",
    "plt.show()"
   ]
  },
  {
   "cell_type": "code",
   "execution_count": null,
   "id": "1304ddc5-44eb-44c8-8b59-346348cdd8c7",
   "metadata": {},
   "outputs": [],
   "source": []
  }
 ],
 "metadata": {
  "kernelspec": {
   "display_name": "Python 3 (ipykernel)",
   "language": "python",
   "name": "python3"
  },
  "language_info": {
   "codemirror_mode": {
    "name": "ipython",
    "version": 3
   },
   "file_extension": ".py",
   "mimetype": "text/x-python",
   "name": "python",
   "nbconvert_exporter": "python",
   "pygments_lexer": "ipython3",
   "version": "3.7.10"
  }
 },
 "nbformat": 4,
 "nbformat_minor": 5
}
