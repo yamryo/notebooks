{
 "cells": [
  {
   "cell_type": "code",
   "execution_count": null,
   "id": "9bde2757-5966-484f-913e-7c28b84cb108",
   "metadata": {
    "tags": []
   },
   "outputs": [],
   "source": [
    "import math\n",
    "from sympy import *\n",
    "init_printing()"
   ]
  },
  {
   "cell_type": "code",
   "execution_count": null,
   "id": "5e008bdf-56f9-42cb-81e1-b096f78a876e",
   "metadata": {
    "ExecuteTime": {
     "end_time": "2020-09-30T01:37:42.478950Z",
     "start_time": "2020-09-30T01:37:41.889186Z"
    },
    "tags": []
   },
   "outputs": [],
   "source": [
    "from __future__ import print_function, division\n",
    "import numpy as np\n",
    "import matplotlib as mpl\n",
    "import matplotlib.pyplot as plt\n",
    "import matplotlib.path as mpath\n",
    "import matplotlib.patches as mpatches\n",
    "%matplotlib inline"
   ]
  },
  {
   "cell_type": "markdown",
   "id": "215d9f2c-194a-4fd1-a909-a09f7f870fbd",
   "metadata": {
    "tags": []
   },
   "source": [
    "# Functions"
   ]
  },
  {
   "cell_type": "code",
   "execution_count": null,
   "id": "e4e453d9-9c22-4baa-aadb-baa7e9cda6b0",
   "metadata": {
    "tags": []
   },
   "outputs": [],
   "source": [
    "l_1 = lambda x: 2**x\n",
    "l_2 = lambda x: x**3+1"
   ]
  },
  {
   "cell_type": "code",
   "execution_count": null,
   "id": "53acf468-9229-4250-8017-ab9ebf17ee4b",
   "metadata": {
    "tags": []
   },
   "outputs": [],
   "source": [
    "fig, ax = plt.subplots(figsize=(8,8))\n",
    "\n",
    "N = 100\n",
    "c, w = 4.0, 6.0\n",
    "xmin, xmax = c-w, c+w\n",
    "\n",
    "p = np.linspace(xmin, xmax, N)\n",
    "plt.plot(p , l_1(p))\n",
    "plt.plot(p , l_2(p))\n",
    "\n",
    "ax.grid()\n",
    "# ax.axis('equal')\n",
    "\n",
    "plt.show()"
   ]
  },
  {
   "cell_type": "code",
   "execution_count": null,
   "id": "4304e16c-1266-409b-9313-31f4073edb59",
   "metadata": {
    "tags": []
   },
   "outputs": [],
   "source": [
    "2**10"
   ]
  }
 ],
 "metadata": {
  "kernelspec": {
   "display_name": "Python 3 (ipykernel)",
   "language": "python",
   "name": "python3"
  },
  "language_info": {
   "codemirror_mode": {
    "name": "ipython",
    "version": 3
   },
   "file_extension": ".py",
   "mimetype": "text/x-python",
   "name": "python",
   "nbconvert_exporter": "python",
   "pygments_lexer": "ipython3",
   "version": "3.11.5"
  }
 },
 "nbformat": 4,
 "nbformat_minor": 5
}
