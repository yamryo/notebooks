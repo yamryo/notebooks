{
 "cells": [
  {
   "cell_type": "code",
   "execution_count": 1,
   "id": "9bde2757-5966-484f-913e-7c28b84cb108",
   "metadata": {
    "tags": []
   },
   "outputs": [],
   "source": [
    "import math\n",
    "from sympy import *\n",
    "init_printing()"
   ]
  },
  {
   "cell_type": "code",
   "execution_count": 2,
   "id": "5e008bdf-56f9-42cb-81e1-b096f78a876e",
   "metadata": {
    "ExecuteTime": {
     "end_time": "2020-09-30T01:37:42.478950Z",
     "start_time": "2020-09-30T01:37:41.889186Z"
    },
    "tags": []
   },
   "outputs": [],
   "source": [
    "from __future__ import print_function, division\n",
    "import numpy as np\n",
    "import matplotlib as mpl\n",
    "import matplotlib.pyplot as plt\n",
    "import matplotlib.path as mpath\n",
    "import matplotlib.patches as mpatches\n",
    "%matplotlib inline"
   ]
  },
  {
   "cell_type": "markdown",
   "id": "215d9f2c-194a-4fd1-a909-a09f7f870fbd",
   "metadata": {
    "tags": []
   },
   "source": [
    "# Functions"
   ]
  },
  {
   "cell_type": "code",
   "execution_count": 15,
   "id": "c3a43a57-e0ad-4bab-8880-d587aeecfc79",
   "metadata": {
    "tags": []
   },
   "outputs": [
    {
     "data": {
      "image/png": "[encoded data removed]",
      "text/plain": [
       "<Figure size 800x800 with 1 Axes>"
      ]
     },
     "metadata": {},
     "output_type": "display_data"
    }
   ],
   "source": [
    "f = lambda x: x**3+x**2+a*x+b\n",
    "a, b = 0, 1\n",
    "\n",
    "#------\n",
    "fig, ax = plt.subplots(figsize=(8,8))\n",
    "N = 100\n",
    "try:\n",
    "    alpha, beta = (-1-math.sqrt(1-3*a))/3, (-1+math.sqrt(1-3*a))/3, \n",
    "except:\n",
    "    alpha, beta = 0, 0\n",
    "    \n",
    "xmin, xmax = -3-alpha, beta+3\n",
    "p = np.linspace(xmin, xmax, N)\n",
    "plt.plot(p , f(p))\n",
    "ax.grid()\n",
    "plt.show()"
   ]
  },
  {
   "cell_type": "code",
   "execution_count": 52,
   "id": "a7098db1-70d7-49dd-876f-e2588535008d",
   "metadata": {
    "tags": []
   },
   "outputs": [
    {
     "data": {
      "application/vnd.jupyter.widget-view+json": {
       "model_id": "38d2c05d973a45829a23783f1c452c1c",
       "version_major": 2,
       "version_minor": 0
      },
      "text/plain": [
       "interactive(children=(FloatSlider(value=2.5, description='a', max=5.0), Output()), _dom_classes=('widget-inter…"
      ]
     },
     "metadata": {},
     "output_type": "display_data"
    },
    {
     "data": {
      "text/plain": [
       "<function __main__.g(a)>"
      ]
     },
     "execution_count": 52,
     "metadata": {},
     "output_type": "execute_result"
    }
   ],
   "source": [
    "def g(a):\n",
    "    x = np.linspace(-1,2,21)\n",
    "    y = 3*x**3-3*a*x**2+2*a\n",
    "    \n",
    "    fig,ax = plt.subplots(figsize=(4,3),facecolor='white',dpi=150)\n",
    "    ax.plot(x,y,marker='.')\n",
    "    \n",
    "    ax.spines['bottom'].set_position('zero')\n",
    "    ax.spines['left'].set_position('zero')\n",
    "    ax.spines['top'].set_visible(False)\n",
    "    ax.spines['right'].set_visible(False)\n",
    "    ax.tick_params(direction='inout')\n",
    "    \n",
    "    plt.show()\n",
    "#---    \n",
    "interact(g, a=(0.0,5.0,0.1))"
   ]
  },
  {
   "cell_type": "code",
   "execution_count": 58,
   "id": "b74cb354-fce3-410c-abb0-563a522c453d",
   "metadata": {
    "tags": []
   },
   "outputs": [
    {
     "data": {
      "application/vnd.jupyter.widget-view+json": {
       "model_id": "2c2b1699f69b4b98a75e289ee3a2f3db",
       "version_major": 2,
       "version_minor": 0
      },
      "text/plain": [
       "interactive(children=(FloatSlider(value=2.5, description='a', max=5.0), FloatSlider(value=0.0, description='b'…"
      ]
     },
     "metadata": {},
     "output_type": "display_data"
    },
    {
     "data": {
      "text/plain": [
       "<function __main__.g(a, b)>"
      ]
     },
     "execution_count": 58,
     "metadata": {},
     "output_type": "execute_result"
    }
   ],
   "source": [
    "def g(a, b):\n",
    "    x = np.linspace(-1,6,35)\n",
    "    y = x**3-3*a*x**2+b\n",
    "    \n",
    "    fig,ax = plt.subplots(figsize=(4,3),facecolor='white',dpi=150)\n",
    "    ax.plot(x,y,marker='.')\n",
    "    \n",
    "    ax.spines['bottom'].set_position('zero')\n",
    "    ax.spines['left'].set_position('zero')\n",
    "    ax.spines['top'].set_visible(False)\n",
    "    ax.spines['right'].set_visible(False)\n",
    "    ax.tick_params(direction='inout')\n",
    "    \n",
    "    plt.show()\n",
    "#---    \n",
    "interact(g, a=(0.0,5.0,0.1), b=(-5.0,5.0,0.1))"
   ]
  },
  {
   "cell_type": "code",
   "execution_count": 64,
   "id": "507575d0-33a8-41d9-999f-3bd307cd233b",
   "metadata": {
    "tags": []
   },
   "outputs": [
    {
     "data": {
      "application/vnd.jupyter.widget-view+json": {
       "model_id": "2490dbfd37ac4be8a465285a17aa3639",
       "version_major": 2,
       "version_minor": 0
      },
      "text/plain": [
       "interactive(children=(FloatSlider(value=2.5, description='a', max=5.0), FloatSlider(value=0.0, description='b'…"
      ]
     },
     "metadata": {},
     "output_type": "display_data"
    },
    {
     "data": {
      "text/plain": [
       "<function __main__.g(a, b)>"
      ]
     },
     "execution_count": 64,
     "metadata": {},
     "output_type": "execute_result"
    }
   ],
   "source": [
    "def g(a, b):\n",
    "    x = np.linspace(-1,2,21)\n",
    "    y = x**3 + x**2 + a*x + b\n",
    "    \n",
    "    fig,ax = plt.subplots(figsize=(4,3),facecolor='white',dpi=150)\n",
    "    ax.plot(x,y,marker='.')\n",
    "    \n",
    "    ax.spines['bottom'].set_position('zero')\n",
    "    ax.spines['left'].set_position('zero')\n",
    "    ax.spines['top'].set_visible(False)\n",
    "    ax.spines['right'].set_visible(False)\n",
    "    ax.tick_params(direction='inout')\n",
    "    \n",
    "    plt.show()\n",
    "#---    \n",
    "interact(g, a=(0.0,5.0,0.1), b=(-5.0,5.0,0.1))"
   ]
  },
  {
   "cell_type": "code",
   "execution_count": null,
   "id": "dc8470b6-d13a-4b4e-8253-608e109fee0e",
   "metadata": {},
   "outputs": [],
   "source": []
  }
 ],
 "metadata": {
  "kernelspec": {
   "display_name": "Python 3 (ipykernel)",
   "language": "python",
   "name": "python3"
  },
  "language_info": {
   "codemirror_mode": {
    "name": "ipython",
    "version": 3
   },
   "file_extension": ".py",
   "mimetype": "text/x-python",
   "name": "python",
   "nbconvert_exporter": "python",
   "pygments_lexer": "ipython3",
   "version": "3.11.8"
  }
 },
 "nbformat": 4,
 "nbformat_minor": 5
}
