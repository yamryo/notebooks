{
 "cells": [
  {
   "cell_type": "code",
   "execution_count": 138,
   "id": "70ada5e7-d0f3-4cbc-8af0-06eabe05ded4",
   "metadata": {},
   "outputs": [
    {
     "name": "stdout",
     "output_type": "stream",
     "text": [
      "1 b\n"
     ]
    }
   ],
   "source": [
    "r = randint(0,5)\n",
    "c = ('a' if r == 0 else\n",
    "     'b' if r == 1 else\n",
    "     'c' if r == 2 else\n",
    "     'd' if r == 3 else\n",
    "     'e' if r == 4 else\n",
    "     'f' if r == 5 else\n",
    "     '?')\n",
    "print(r, c)"
   ]
  },
  {
   "cell_type": "code",
   "execution_count": 142,
   "id": "066c8087-a384-4902-8631-5e45307b00e3",
   "metadata": {},
   "outputs": [
    {
     "name": "stdout",
     "output_type": "stream",
     "text": [
      "{'a': 1, 'b': 1, 'c': 2}\n"
     ]
    }
   ],
   "source": [
    "d = {'a': 0, 'b': 1, 'c': 2}\n",
    "d[list(d.keys())[0]] += 1; print(d)"
   ]
  },
  {
   "cell_type": "code",
   "execution_count": 163,
   "id": "b13eeed9-2ba9-4896-9dd6-486f4de47ab4",
   "metadata": {},
   "outputs": [
    {
     "data": {
      "text/plain": [
       "'a'"
      ]
     },
     "execution_count": 163,
     "metadata": {},
     "output_type": "execute_result"
    }
   ],
   "source": [
    "random.sample(list(d.keys()), 1)[0]"
   ]
  }
 ],
 "metadata": {
  "kernelspec": {
   "display_name": "Python 3 (ipykernel)",
   "language": "python",
   "name": "python3"
  },
  "language_info": {
   "codemirror_mode": {
    "name": "ipython",
    "version": 3
   },
   "file_extension": ".py",
   "mimetype": "text/x-python",
   "name": "python",
   "nbconvert_exporter": "python",
   "pygments_lexer": "ipython3",
   "version": "3.12.3"
  }
 },
 "nbformat": 4,
 "nbformat_minor": 5
}
