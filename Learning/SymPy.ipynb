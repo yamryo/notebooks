{
 "cells": [
  {
   "cell_type": "markdown",
   "metadata": {},
   "source": [
    "# Learning SymPy with the official tutorial"
   ]
  },
  {
   "cell_type": "code",
   "execution_count": 1,
   "metadata": {
    "ExecuteTime": {
     "end_time": "2019-03-27T03:50:10.826592Z",
     "start_time": "2019-03-27T03:50:10.465650Z"
    }
   },
   "outputs": [],
   "source": [
    "from sympy import *\n",
    "init_printing()"
   ]
  },
  {
   "cell_type": "markdown",
   "metadata": {},
   "source": [
    "# 1. Sqrt"
   ]
  },
  {
   "cell_type": "code",
   "execution_count": 2,
   "metadata": {
    "ExecuteTime": {
     "end_time": "2019-03-27T03:50:12.207560Z",
     "start_time": "2019-03-27T03:50:11.842904Z"
    }
   },
   "outputs": [
    {
     "data": {
      "image/png": "[encoded data removed]",
      "text/latex": [
       "$$\\sqrt{3}$$"
      ],
      "text/plain": [
       "√3"
      ]
     },
     "execution_count": 2,
     "metadata": {},
     "output_type": "execute_result"
    }
   ],
   "source": [
    "sqrt(3)"
   ]
  },
  {
   "cell_type": "code",
   "execution_count": 3,
   "metadata": {
    "ExecuteTime": {
     "end_time": "2019-03-27T03:50:12.859024Z",
     "start_time": "2019-03-27T03:50:12.783861Z"
    }
   },
   "outputs": [
    {
     "data": {
      "image/png": "[encoded data removed]",
      "text/latex": [
       "$$1.73205080756888$$"
      ],
      "text/plain": [
       "1.73205080756888"
      ]
     },
     "execution_count": 3,
     "metadata": {},
     "output_type": "execute_result"
    }
   ],
   "source": [
    "sqrt(3).evalf()"
   ]
  },
  {
   "cell_type": "code",
   "execution_count": 4,
   "metadata": {
    "ExecuteTime": {
     "end_time": "2019-03-27T03:50:13.471535Z",
     "start_time": "2019-03-27T03:50:13.417485Z"
    }
   },
   "outputs": [
    {
     "data": {
      "image/png": "[encoded data removed]",
      "text/latex": [
       "$$2 \\sqrt{2}$$"
      ],
      "text/plain": [
       "2⋅√2"
      ]
     },
     "execution_count": 4,
     "metadata": {},
     "output_type": "execute_result"
    }
   ],
   "source": [
    "sqrt(8)"
   ]
  },
  {
   "cell_type": "markdown",
   "metadata": {},
   "source": [
    "# 2. Symbolic expressions"
   ]
  },
  {
   "cell_type": "code",
   "execution_count": 5,
   "metadata": {
    "ExecuteTime": {
     "end_time": "2019-03-27T03:50:15.152078Z",
     "start_time": "2019-03-27T03:50:15.148540Z"
    }
   },
   "outputs": [],
   "source": [
    "x, y = symbols('x y')"
   ]
  },
  {
   "cell_type": "code",
   "execution_count": 6,
   "metadata": {
    "ExecuteTime": {
     "end_time": "2019-03-27T03:50:15.436232Z",
     "start_time": "2019-03-27T03:50:15.409500Z"
    }
   },
   "outputs": [
    {
     "data": {
      "image/png": "[encoded data removed]",
      "text/latex": [
       "$$x^{2} - 2 x + 1$$"
      ],
      "text/plain": [
       " 2          \n",
       "x  - 2⋅x + 1"
      ]
     },
     "execution_count": 6,
     "metadata": {},
     "output_type": "execute_result"
    }
   ],
   "source": [
    "expr = x**2 -2*x +1\n",
    "expr"
   ]
  },
  {
   "cell_type": "code",
   "execution_count": 7,
   "metadata": {
    "ExecuteTime": {
     "end_time": "2019-03-27T03:50:15.663855Z",
     "start_time": "2019-03-27T03:50:15.635705Z"
    }
   },
   "outputs": [
    {
     "data": {
      "image/png": "[encoded data removed]",
      "text/latex": [
       "$$x^{2} - 3 x + 1$$"
      ],
      "text/plain": [
       " 2          \n",
       "x  - 3⋅x + 1"
      ]
     },
     "execution_count": 7,
     "metadata": {},
     "output_type": "execute_result"
    }
   ],
   "source": [
    "expr-x"
   ]
  },
  {
   "cell_type": "code",
   "execution_count": 8,
   "metadata": {
    "ExecuteTime": {
     "end_time": "2019-03-27T03:50:15.931672Z",
     "start_time": "2019-03-27T03:50:15.901871Z"
    }
   },
   "outputs": [
    {
     "data": {
      "image/png": "[encoded data removed]",
      "text/latex": [
       "$$\\left(x - 1\\right)^{2}$$"
      ],
      "text/plain": [
       "       2\n",
       "(x - 1) "
      ]
     },
     "execution_count": 8,
     "metadata": {},
     "output_type": "execute_result"
    }
   ],
   "source": [
    "expr.factor()"
   ]
  },
  {
   "cell_type": "code",
   "execution_count": 9,
   "metadata": {
    "ExecuteTime": {
     "end_time": "2019-03-27T03:50:16.089494Z",
     "start_time": "2019-03-27T03:50:16.058152Z"
    }
   },
   "outputs": [
    {
     "data": {
      "image/png": "[encoded data removed]",
      "text/latex": [
       "$$x^{3} - 2 x^{2} + x$$"
      ],
      "text/plain": [
       " 3      2    \n",
       "x  - 2⋅x  + x"
      ]
     },
     "execution_count": 9,
     "metadata": {},
     "output_type": "execute_result"
    }
   ],
   "source": [
    "(x*expr).expand()"
   ]
  },
  {
   "cell_type": "code",
   "execution_count": 24,
   "metadata": {
    "ExecuteTime": {
     "end_time": "2019-03-27T03:51:53.159704Z",
     "start_time": "2019-03-27T03:51:53.151330Z"
    }
   },
   "outputs": [],
   "source": [
    "xval = sqrt(3+sqrt(5))\n",
    "yval = sqrt(3-sqrt(5))"
   ]
  },
  {
   "cell_type": "code",
   "execution_count": 25,
   "metadata": {
    "ExecuteTime": {
     "end_time": "2019-03-27T03:52:05.201963Z",
     "start_time": "2019-03-27T03:52:05.167939Z"
    }
   },
   "outputs": [
    {
     "data": {
      "image/png": "[encoded data removed]",
      "text/latex": [
       "$$\\sqrt{- \\sqrt{5} + 3} \\sqrt{\\sqrt{5} + 3}$$"
      ],
      "text/plain": [
       "  _________   ________\n",
       "╲╱ -√5 + 3 ⋅╲╱ √5 + 3 "
      ]
     },
     "execution_count": 25,
     "metadata": {},
     "output_type": "execute_result"
    }
   ],
   "source": [
    "eqn = x*y\n",
    "(eqn).subs([(x,xval),(y,yval)])"
   ]
  },
  {
   "cell_type": "code",
   "execution_count": 26,
   "metadata": {
    "ExecuteTime": {
     "end_time": "2019-03-27T03:52:12.520160Z",
     "start_time": "2019-03-27T03:52:12.389595Z"
    }
   },
   "outputs": [
    {
     "data": {
      "text/plain": [
       "True"
      ]
     },
     "execution_count": 26,
     "metadata": {},
     "output_type": "execute_result"
    }
   ],
   "source": [
    "xval.equals((1+sqrt(5))/sqrt(2))"
   ]
  },
  {
   "cell_type": "code",
   "execution_count": 13,
   "metadata": {
    "ExecuteTime": {
     "end_time": "2019-03-27T03:50:18.675710Z",
     "start_time": "2019-03-27T03:50:18.573684Z"
    }
   },
   "outputs": [
    {
     "data": {
      "image/png": "[encoded data removed]",
      "text/latex": [
       "$$\\frac{2 \\sqrt{x}}{\\sqrt{x} + \\sqrt{y}}$$"
      ],
      "text/plain": [
       "  2⋅√x \n",
       "───────\n",
       "√x + √y"
      ]
     },
     "execution_count": 13,
     "metadata": {},
     "output_type": "execute_result"
    }
   ],
   "source": [
    "eqn = 2*sqrt(x)/(sqrt(x)+sqrt(y))\n",
    "eqn.simplify()"
   ]
  },
  {
   "cell_type": "code",
   "execution_count": 14,
   "metadata": {
    "ExecuteTime": {
     "end_time": "2019-03-27T03:50:18.808168Z",
     "start_time": "2019-03-27T03:50:18.760800Z"
    }
   },
   "outputs": [
    {
     "data": {
      "text/plain": [
       "True"
      ]
     },
     "execution_count": 14,
     "metadata": {},
     "output_type": "execute_result"
    }
   ],
   "source": [
    "eqn.equals(2*sqrt(x)*(sqrt(x)-sqrt(y))/(x-y))"
   ]
  },
  {
   "cell_type": "code",
   "execution_count": 15,
   "metadata": {
    "ExecuteTime": {
     "end_time": "2019-03-27T03:50:20.134768Z",
     "start_time": "2019-03-27T03:50:20.009404Z"
    }
   },
   "outputs": [
    {
     "data": {
      "image/png": "[encoded data removed]",
      "text/latex": [
       "$$\\frac{1}{x - y} \\left(- 2 \\sqrt{x} \\sqrt{y} + 2 x\\right)$$"
      ],
      "text/plain": [
       "2⋅(-√x⋅√y + x)\n",
       "──────────────\n",
       "    x - y     "
      ]
     },
     "execution_count": 15,
     "metadata": {},
     "output_type": "execute_result"
    }
   ],
   "source": [
    "eqn =2*sqrt(x)*(sqrt(x)-sqrt(y))/(x-y)\n",
    "eqn.expand().simplify()"
   ]
  },
  {
   "cell_type": "code",
   "execution_count": 16,
   "metadata": {
    "ExecuteTime": {
     "end_time": "2019-03-27T03:50:20.706387Z",
     "start_time": "2019-03-27T03:50:20.270557Z"
    }
   },
   "outputs": [
    {
     "data": {
      "text/plain": [
       "False"
      ]
     },
     "execution_count": 16,
     "metadata": {},
     "output_type": "execute_result"
    }
   ],
   "source": [
    "eqn.equals((-x + sqrt(2))/(-x + y))\n",
    "eqn.equals((x - sqrt(2))*(x+y)/(x**2 - y**2))"
   ]
  },
  {
   "cell_type": "code",
   "execution_count": 27,
   "metadata": {
    "ExecuteTime": {
     "end_time": "2019-03-27T03:52:25.940649Z",
     "start_time": "2019-03-27T03:52:25.804726Z"
    }
   },
   "outputs": [
    {
     "data": {
      "image/png": "[encoded data removed]",
      "text/latex": [
       "$$\\frac{10 x - 10 \\sqrt{2}}{x - y}$$"
      ],
      "text/plain": [
       "10⋅(x - √2)\n",
       "───────────\n",
       "   x - y   "
      ]
     },
     "execution_count": 27,
     "metadata": {},
     "output_type": "execute_result"
    }
   ],
   "source": [
    "(10*(x - sqrt(2))*(x+y)/(x**2 - y**2)).simplify()"
   ]
  },
  {
   "cell_type": "markdown",
   "metadata": {},
   "source": [
    "# 3. Functions"
   ]
  },
  {
   "cell_type": "code",
   "execution_count": 18,
   "metadata": {
    "ExecuteTime": {
     "end_time": "2019-03-27T03:50:22.813524Z",
     "start_time": "2019-03-27T03:50:22.767889Z"
    }
   },
   "outputs": [
    {
     "data": {
      "image/png": "[encoded data removed]",
      "text/latex": [
       "$$- \\pi - 1.0$$"
      ],
      "text/plain": [
       "-π - 1.0"
      ]
     },
     "execution_count": 18,
     "metadata": {},
     "output_type": "execute_result"
    }
   ],
   "source": [
    "t = symbols('t')\n",
    "f=lambdify(t, cos(t)-t)\n",
    "f(pi)"
   ]
  },
  {
   "cell_type": "code",
   "execution_count": 19,
   "metadata": {
    "ExecuteTime": {
     "end_time": "2019-03-27T03:50:23.097494Z",
     "start_time": "2019-03-27T03:50:23.065744Z"
    }
   },
   "outputs": [
    {
     "data": {
      "image/png": "[encoded data removed]",
      "text/latex": [
       "$$- \\pi - 1$$"
      ],
      "text/plain": [
       "-π - 1"
      ]
     },
     "execution_count": 19,
     "metadata": {},
     "output_type": "execute_result"
    }
   ],
   "source": [
    "ff = lambda x: cos(x)-x\n",
    "ff(pi)"
   ]
  },
  {
   "cell_type": "code",
   "execution_count": 20,
   "metadata": {
    "ExecuteTime": {
     "end_time": "2019-03-27T03:50:24.310465Z",
     "start_time": "2019-03-27T03:50:24.278232Z"
    }
   },
   "outputs": [
    {
     "data": {
      "image/png": "[encoded data removed]",
      "text/latex": [
       "$$- \\pi - 1$$"
      ],
      "text/plain": [
       "-π - 1"
      ]
     },
     "execution_count": 20,
     "metadata": {},
     "output_type": "execute_result"
    }
   ],
   "source": [
    "(cos(t)-t).subs(t,pi)"
   ]
  },
  {
   "cell_type": "markdown",
   "metadata": {},
   "source": [
    "# 4. Calculus"
   ]
  },
  {
   "cell_type": "markdown",
   "metadata": {},
   "source": [
    "## Derivatives"
   ]
  },
  {
   "cell_type": "code",
   "execution_count": 21,
   "metadata": {
    "ExecuteTime": {
     "end_time": "2019-03-27T03:50:25.869700Z",
     "start_time": "2019-03-27T03:50:25.864127Z"
    }
   },
   "outputs": [],
   "source": [
    "init_printing(use_unicode=True)"
   ]
  },
  {
   "cell_type": "code",
   "execution_count": 22,
   "metadata": {
    "ExecuteTime": {
     "end_time": "2019-03-27T03:50:26.617851Z",
     "start_time": "2019-03-27T03:50:26.549947Z"
    }
   },
   "outputs": [
    {
     "data": {
      "image/png": "[encoded data removed]",
      "text/latex": [
       "$$- \\sin{\\left (x \\right )}$$"
      ],
      "text/plain": [
       "-sin(x)"
      ]
     },
     "execution_count": 22,
     "metadata": {},
     "output_type": "execute_result"
    }
   ],
   "source": [
    "diff(cos(x), x)"
   ]
  },
  {
   "cell_type": "code",
   "execution_count": 41,
   "metadata": {
    "ExecuteTime": {
     "end_time": "2019-03-27T06:58:43.039838Z",
     "start_time": "2019-03-27T06:58:42.968180Z"
    }
   },
   "outputs": [
    {
     "data": {
      "image/png": "[encoded data removed]",
      "text/latex": [
       "$$\\left ( - \\frac{1}{\\sqrt{- x^{2} + 1}}, \\quad - \\frac{1}{\\sqrt{- x^{2} + 1}}\\right )$$"
      ],
      "text/plain": [
       "⎛     -1             -1      ⎞\n",
       "⎜─────────────, ─────────────⎟\n",
       "⎜   __________     __________⎟\n",
       "⎜  ╱    2         ╱    2     ⎟\n",
       "⎝╲╱  - x  + 1   ╲╱  - x  + 1 ⎠"
      ]
     },
     "execution_count": 41,
     "metadata": {},
     "output_type": "execute_result"
    }
   ],
   "source": [
    "fn = acos(x)\n",
    "diff(fn, x), fn.diff(x)"
   ]
  },
  {
   "cell_type": "code",
   "execution_count": 52,
   "metadata": {
    "ExecuteTime": {
     "end_time": "2019-03-27T07:00:28.797589Z",
     "start_time": "2019-03-27T07:00:28.708604Z"
    }
   },
   "outputs": [
    {
     "data": {
      "image/png": "[encoded data removed]",
      "text/latex": [
       "$$\\left ( - \\frac{x}{\\left(- x^{2} + 1\\right)^{\\frac{3}{2}}}, \\quad - \\frac{x}{\\left(- x^{2} + 1\\right)^{\\frac{3}{2}}}\\right )$$"
      ],
      "text/plain": [
       "⎛     -x             -x      ⎞\n",
       "⎜─────────────, ─────────────⎟\n",
       "⎜          3/2            3/2⎟\n",
       "⎜⎛   2    ⎞     ⎛   2    ⎞   ⎟\n",
       "⎝⎝- x  + 1⎠     ⎝- x  + 1⎠   ⎠"
      ]
     },
     "execution_count": 52,
     "metadata": {},
     "output_type": "execute_result"
    }
   ],
   "source": [
    "diff(fn, x, 2), fn.diff(x, 2)"
   ]
  },
  {
   "cell_type": "code",
   "execution_count": 43,
   "metadata": {
    "ExecuteTime": {
     "end_time": "2019-03-27T06:59:03.178618Z",
     "start_time": "2019-03-27T06:59:03.068614Z"
    }
   },
   "outputs": [
    {
     "data": {
      "image/png": "[encoded data removed]",
      "text/latex": [
       "$$\\frac{d^{2}}{d x^{2}}  \\operatorname{acos}{\\left (x \\right )}$$"
      ],
      "text/plain": [
       "  2         \n",
       " d          \n",
       "───(acos(x))\n",
       "  2         \n",
       "dx          "
      ]
     },
     "execution_count": 43,
     "metadata": {},
     "output_type": "execute_result"
    }
   ],
   "source": [
    "deriv = Derivative(fn, x, 2)\n",
    "deriv"
   ]
  },
  {
   "cell_type": "code",
   "execution_count": 44,
   "metadata": {
    "ExecuteTime": {
     "end_time": "2019-03-27T06:59:09.846613Z",
     "start_time": "2019-03-27T06:59:09.783363Z"
    }
   },
   "outputs": [
    {
     "data": {
      "image/png": "[encoded data removed]",
      "text/latex": [
       "$$- \\frac{x}{\\left(- x^{2} + 1\\right)^{\\frac{3}{2}}}$$"
      ],
      "text/plain": [
       "     -x      \n",
       "─────────────\n",
       "          3/2\n",
       "⎛   2    ⎞   \n",
       "⎝- x  + 1⎠   "
      ]
     },
     "execution_count": 44,
     "metadata": {},
     "output_type": "execute_result"
    }
   ],
   "source": [
    "deriv.doit()"
   ]
  },
  {
   "cell_type": "code",
   "execution_count": 67,
   "metadata": {
    "ExecuteTime": {
     "end_time": "2019-03-27T07:03:55.062078Z",
     "start_time": "2019-03-27T07:03:55.005257Z"
    }
   },
   "outputs": [
    {
     "data": {
      "image/png": "[encoded data removed]",
      "text/latex": [
       "$$\\frac{d^{2}}{d xd n}  \\operatorname{acos}{\\left (x \\right )}$$"
      ],
      "text/plain": [
       "   2          \n",
       "  d           \n",
       "─────(acos(x))\n",
       "dn dx         "
      ]
     },
     "execution_count": 67,
     "metadata": {},
     "output_type": "execute_result"
    }
   ],
   "source": [
    "n = symbols('n')\n",
    "Derivative(fn, x, n)"
   ]
  },
  {
   "cell_type": "code",
   "execution_count": 62,
   "metadata": {
    "ExecuteTime": {
     "end_time": "2019-03-27T07:02:56.065106Z",
     "start_time": "2019-03-27T07:02:56.012858Z"
    }
   },
   "outputs": [
    {
     "data": {
      "image/png": "[encoded data removed]",
      "text/latex": [
       "$$n x^{n - 2} \\left(n - 1\\right)$$"
      ],
      "text/plain": [
       "   n - 2        \n",
       "n⋅x     ⋅(n - 1)"
      ]
     },
     "execution_count": 62,
     "metadata": {},
     "output_type": "execute_result"
    }
   ],
   "source": [
    "(x**n).diff(x, 2).powsimp()"
   ]
  },
  {
   "cell_type": "markdown",
   "metadata": {},
   "source": [
    "## Integrals"
   ]
  },
  {
   "cell_type": "code",
   "execution_count": 69,
   "metadata": {
    "ExecuteTime": {
     "end_time": "2019-03-27T07:06:05.780793Z",
     "start_time": "2019-03-27T07:06:05.733216Z"
    }
   },
   "outputs": [
    {
     "data": {
      "image/png": "[encoded data removed]",
      "text/latex": [
       "$$\\int \\log^{2}{\\left (x \\right )}\\, dx$$"
      ],
      "text/plain": [
       "⌠           \n",
       "⎮    2      \n",
       "⎮ log (x) dx\n",
       "⌡           "
      ]
     },
     "execution_count": 69,
     "metadata": {},
     "output_type": "execute_result"
    }
   ],
   "source": [
    "itg = Integral(log(x)**2, x)\n",
    "itg"
   ]
  },
  {
   "cell_type": "code",
   "execution_count": 71,
   "metadata": {
    "ExecuteTime": {
     "end_time": "2019-03-27T07:06:45.629504Z",
     "start_time": "2019-03-27T07:06:45.550105Z"
    }
   },
   "outputs": [
    {
     "data": {
      "image/png": "[encoded data removed]",
      "text/latex": [
       "$$\\left ( x \\log^{2}{\\left (x \\right )} - 2 x \\log{\\left (x \\right )} + 2 x, \\quad \\log^{2}{\\left (x \\right )}\\right )$$"
      ],
      "text/plain": [
       "⎛     2                           2   ⎞\n",
       "⎝x⋅log (x) - 2⋅x⋅log(x) + 2⋅x, log (x)⎠"
      ]
     },
     "execution_count": 71,
     "metadata": {},
     "output_type": "execute_result"
    }
   ],
   "source": [
    "rst = itg.doit()\n",
    "rst, rst.diff(x)"
   ]
  },
  {
   "cell_type": "markdown",
   "metadata": {},
   "source": [
    "## Limits"
   ]
  },
  {
   "cell_type": "code",
   "execution_count": 74,
   "metadata": {
    "ExecuteTime": {
     "end_time": "2019-03-27T07:09:21.907476Z",
     "start_time": "2019-03-27T07:09:21.838277Z"
    }
   },
   "outputs": [
    {
     "data": {
      "image/png": "[encoded data removed]",
      "text/latex": [
       "$$\\left ( \\frac{x^{2} + 6 x + 5}{x + 1}, \\quad x + 5, \\quad 4\\right )$$"
      ],
      "text/plain": [
       "⎛ 2                    ⎞\n",
       "⎜x  + 6⋅x + 5          ⎟\n",
       "⎜────────────, x + 5, 4⎟\n",
       "⎝   x + 1              ⎠"
      ]
     },
     "execution_count": 74,
     "metadata": {},
     "output_type": "execute_result"
    }
   ],
   "source": [
    "expr = (x**2+6*x+5)/(x+1)\n",
    "expr, expr.factor(), limit(expr, x, -1, '+')"
   ]
  },
  {
   "cell_type": "markdown",
   "metadata": {},
   "source": [
    "# 5. Matrices"
   ]
  },
  {
   "cell_type": "code",
   "execution_count": 122,
   "metadata": {
    "ExecuteTime": {
     "end_time": "2019-03-27T07:40:26.210850Z",
     "start_time": "2019-03-27T07:40:26.170198Z"
    }
   },
   "outputs": [
    {
     "data": {
      "text/latex": [
       "$$\\left ( \\left[\\begin{matrix}1 & 2 & 1\\\\4 & 1 & -2\\end{matrix}\\right], \\quad \\left[\\begin{matrix}4 & 1 & -2\\end{matrix}\\right], \\quad \\left[\\begin{matrix}1\\\\-2\\end{matrix}\\right]\\right )$$"
      ],
      "text/plain": [
       "⎛⎡1  2  1 ⎤, [4  1  -2], ⎡1 ⎤⎞\n",
       "⎜⎢        ⎥              ⎢  ⎥⎟\n",
       "⎝⎣4  1  -2⎦              ⎣-2⎦⎠"
      ]
     },
     "execution_count": 122,
     "metadata": {},
     "output_type": "execute_result"
    }
   ],
   "source": [
    "M = Matrix([[1,2,1],[4,1,-2]])\n",
    "M, M.row(1), M.col(-1)"
   ]
  },
  {
   "cell_type": "code",
   "execution_count": 123,
   "metadata": {
    "ExecuteTime": {
     "end_time": "2019-03-27T07:40:27.303071Z",
     "start_time": "2019-03-27T07:40:27.258198Z"
    }
   },
   "outputs": [
    {
     "data": {
      "text/latex": [
       "$$\\left ( \\left[\\begin{matrix}3 & 6 & 3\\\\12 & 3 & -6\\end{matrix}\\right], \\quad \\left[\\begin{matrix}-1 & -2 & -1\\\\-4 & -1 & 2\\end{matrix}\\right]\\right )$$"
      ],
      "text/plain": [
       "⎛⎡3   6  3 ⎤, ⎡-1  -2  -1⎤⎞\n",
       "⎜⎢         ⎥  ⎢          ⎥⎟\n",
       "⎝⎣12  3  -6⎦  ⎣-4  -1  2 ⎦⎠"
      ]
     },
     "execution_count": 123,
     "metadata": {},
     "output_type": "execute_result"
    }
   ],
   "source": [
    "3*M, 2*M-3*M"
   ]
  },
  {
   "cell_type": "code",
   "execution_count": 81,
   "metadata": {
    "ExecuteTime": {
     "end_time": "2019-03-27T07:28:55.946393Z",
     "start_time": "2019-03-27T07:28:55.863961Z"
    },
    "collapsed": true
   },
   "outputs": [
    {
     "ename": "NonSquareMatrixError",
     "evalue": "",
     "output_type": "error",
     "traceback": [
      "\u001b[0;31m---------------------------------------------------------------------------\u001b[0m",
      "\u001b[0;31mNonSquareMatrixError\u001b[0m                      Traceback (most recent call last)",
      "\u001b[0;32m<ipython-input-81-fb7249c8c3ef>\u001b[0m in \u001b[0;36m<module>\u001b[0;34m()\u001b[0m\n\u001b[0;32m----> 1\u001b[0;31m \u001b[0mM\u001b[0m\u001b[0;34m**\u001b[0m\u001b[0;34m(\u001b[0m\u001b[0;34m-\u001b[0m\u001b[0;36m1\u001b[0m\u001b[0;34m)\u001b[0m\u001b[0;34m\u001b[0m\u001b[0;34m\u001b[0m\u001b[0m\n\u001b[0m",
      "\u001b[0;32m/opt/anaconda3/lib/python3.6/site-packages/sympy/core/decorators.py\u001b[0m in \u001b[0;36mbinary_op_wrapper\u001b[0;34m(self, other)\u001b[0m\n\u001b[1;32m    116\u001b[0m                     \u001b[0;32melse\u001b[0m\u001b[0;34m:\u001b[0m\u001b[0;34m\u001b[0m\u001b[0;34m\u001b[0m\u001b[0m\n\u001b[1;32m    117\u001b[0m                         \u001b[0;32mreturn\u001b[0m \u001b[0mf\u001b[0m\u001b[0;34m(\u001b[0m\u001b[0mself\u001b[0m\u001b[0;34m)\u001b[0m\u001b[0;34m\u001b[0m\u001b[0;34m\u001b[0m\u001b[0m\n\u001b[0;32m--> 118\u001b[0;31m             \u001b[0;32mreturn\u001b[0m \u001b[0mfunc\u001b[0m\u001b[0;34m(\u001b[0m\u001b[0mself\u001b[0m\u001b[0;34m,\u001b[0m \u001b[0mother\u001b[0m\u001b[0;34m)\u001b[0m\u001b[0;34m\u001b[0m\u001b[0;34m\u001b[0m\u001b[0m\n\u001b[0m\u001b[1;32m    119\u001b[0m         \u001b[0;32mreturn\u001b[0m \u001b[0mbinary_op_wrapper\u001b[0m\u001b[0;34m\u001b[0m\u001b[0;34m\u001b[0m\u001b[0m\n\u001b[1;32m    120\u001b[0m     \u001b[0;32mreturn\u001b[0m \u001b[0mpriority_decorator\u001b[0m\u001b[0;34m\u001b[0m\u001b[0;34m\u001b[0m\u001b[0m\n",
      "\u001b[0;32m/opt/anaconda3/lib/python3.6/site-packages/sympy/matrices/dense.py\u001b[0m in \u001b[0;36m__pow__\u001b[0;34m(self, other)\u001b[0m\n\u001b[1;32m    577\u001b[0m     \u001b[0;34m@\u001b[0m\u001b[0mcall_highest_priority\u001b[0m\u001b[0;34m(\u001b[0m\u001b[0;34m'__rpow__'\u001b[0m\u001b[0;34m)\u001b[0m\u001b[0;34m\u001b[0m\u001b[0;34m\u001b[0m\u001b[0m\n\u001b[1;32m    578\u001b[0m     \u001b[0;32mdef\u001b[0m \u001b[0m__pow__\u001b[0m\u001b[0;34m(\u001b[0m\u001b[0mself\u001b[0m\u001b[0;34m,\u001b[0m \u001b[0mother\u001b[0m\u001b[0;34m)\u001b[0m\u001b[0;34m:\u001b[0m\u001b[0;34m\u001b[0m\u001b[0;34m\u001b[0m\u001b[0m\n\u001b[0;32m--> 579\u001b[0;31m         \u001b[0;32mreturn\u001b[0m \u001b[0msuper\u001b[0m\u001b[0;34m(\u001b[0m\u001b[0mDenseMatrix\u001b[0m\u001b[0;34m,\u001b[0m \u001b[0mself\u001b[0m\u001b[0;34m)\u001b[0m\u001b[0;34m.\u001b[0m\u001b[0m__pow__\u001b[0m\u001b[0;34m(\u001b[0m\u001b[0mother\u001b[0m\u001b[0;34m)\u001b[0m\u001b[0;34m\u001b[0m\u001b[0;34m\u001b[0m\u001b[0m\n\u001b[0m\u001b[1;32m    580\u001b[0m \u001b[0;34m\u001b[0m\u001b[0m\n\u001b[1;32m    581\u001b[0m     \u001b[0;34m@\u001b[0m\u001b[0mcall_highest_priority\u001b[0m\u001b[0;34m(\u001b[0m\u001b[0;34m'__pow__'\u001b[0m\u001b[0;34m)\u001b[0m\u001b[0;34m\u001b[0m\u001b[0;34m\u001b[0m\u001b[0m\n",
      "\u001b[0;32m/opt/anaconda3/lib/python3.6/site-packages/sympy/matrices/matrices.py\u001b[0m in \u001b[0;36m__pow__\u001b[0;34m(self, num)\u001b[0m\n\u001b[1;32m    528\u001b[0m \u001b[0;34m\u001b[0m\u001b[0m\n\u001b[1;32m    529\u001b[0m         \u001b[0;32mif\u001b[0m \u001b[0;32mnot\u001b[0m \u001b[0mself\u001b[0m\u001b[0;34m.\u001b[0m\u001b[0mis_square\u001b[0m\u001b[0;34m:\u001b[0m\u001b[0;34m\u001b[0m\u001b[0;34m\u001b[0m\u001b[0m\n\u001b[0;32m--> 530\u001b[0;31m             \u001b[0;32mraise\u001b[0m \u001b[0mNonSquareMatrixError\u001b[0m\u001b[0;34m(\u001b[0m\u001b[0;34m)\u001b[0m\u001b[0;34m\u001b[0m\u001b[0;34m\u001b[0m\u001b[0m\n\u001b[0m\u001b[1;32m    531\u001b[0m         \u001b[0;32mif\u001b[0m \u001b[0misinstance\u001b[0m\u001b[0;34m(\u001b[0m\u001b[0mnum\u001b[0m\u001b[0;34m,\u001b[0m \u001b[0mint\u001b[0m\u001b[0;34m)\u001b[0m \u001b[0;32mor\u001b[0m \u001b[0misinstance\u001b[0m\u001b[0;34m(\u001b[0m\u001b[0mnum\u001b[0m\u001b[0;34m,\u001b[0m \u001b[0mInteger\u001b[0m\u001b[0;34m)\u001b[0m\u001b[0;34m:\u001b[0m\u001b[0;34m\u001b[0m\u001b[0;34m\u001b[0m\u001b[0m\n\u001b[1;32m    532\u001b[0m             \u001b[0mn\u001b[0m \u001b[0;34m=\u001b[0m \u001b[0mint\u001b[0m\u001b[0;34m(\u001b[0m\u001b[0mnum\u001b[0m\u001b[0;34m)\u001b[0m\u001b[0;34m\u001b[0m\u001b[0;34m\u001b[0m\u001b[0m\n",
      "\u001b[0;31mNonSquareMatrixError\u001b[0m: "
     ]
    }
   ],
   "source": [
    "M**(-1)"
   ]
  },
  {
   "cell_type": "code",
   "execution_count": 124,
   "metadata": {
    "ExecuteTime": {
     "end_time": "2019-03-27T07:40:28.899984Z",
     "start_time": "2019-03-27T07:40:28.857225Z"
    }
   },
   "outputs": [
    {
     "data": {
      "text/latex": [
       "$$\\left ( \\left[\\begin{matrix}1 & 2 & 1\\\\4 & 1 & -2\\\\0 & -1 & 2\\end{matrix}\\right], \\quad \\left[\\begin{matrix}0 & \\frac{1}{4} & \\frac{1}{4}\\\\\\frac{2}{5} & - \\frac{1}{10} & - \\frac{3}{10}\\\\\\frac{1}{5} & - \\frac{1}{20} & \\frac{7}{20}\\end{matrix}\\right], \\quad -20\\right )$$"
      ],
      "text/plain": [
       "⎛⎡1  2   1 ⎤, ⎡ 0    1/4    1/4 ⎤, -20⎞\n",
       "⎜⎢         ⎥  ⎢                 ⎥     ⎟\n",
       "⎜⎢4  1   -2⎥  ⎢2/5  -1/10  -3/10⎥     ⎟\n",
       "⎜⎢         ⎥  ⎢                 ⎥     ⎟\n",
       "⎝⎣0  -1  2 ⎦  ⎣1/5  -1/20  7/20 ⎦     ⎠"
      ]
     },
     "execution_count": 124,
     "metadata": {},
     "output_type": "execute_result"
    }
   ],
   "source": [
    "N = M.row_insert(2,Matrix([[0,-1,2]]))\n",
    "N, N**(-1), N.det()"
   ]
  },
  {
   "cell_type": "code",
   "execution_count": 125,
   "metadata": {
    "ExecuteTime": {
     "end_time": "2019-03-27T07:40:30.132060Z",
     "start_time": "2019-03-27T07:40:30.072602Z"
    }
   },
   "outputs": [
    {
     "data": {
      "text/latex": [
       "$$\\left[\\begin{matrix}9\\end{matrix}\\right]$$"
      ],
      "text/plain": [
       "[9]"
      ]
     },
     "execution_count": 125,
     "metadata": {},
     "output_type": "execute_result"
    }
   ],
   "source": [
    "N.row(0)*N.col(0)"
   ]
  },
  {
   "cell_type": "code",
   "execution_count": 126,
   "metadata": {
    "ExecuteTime": {
     "end_time": "2019-03-27T07:40:33.168793Z",
     "start_time": "2019-03-27T07:40:32.569649Z"
    }
   },
   "outputs": [
    {
     "data": {
      "text/latex": [
       "$$\\left [ \\left ( 4, \\quad 1, \\quad \\left [ \\left[\\begin{matrix}-1\\\\-2\\\\1\\end{matrix}\\right]\\right ]\\right ), \\quad \\left ( - \\sqrt{5}, \\quad 1, \\quad \\left [ \\left[\\begin{matrix}\\frac{-4 - \\frac{8}{1 + \\sqrt{5}}}{\\left(1 + \\sqrt{5}\\right) \\left(- \\sqrt{5} + 3\\right)} - \\frac{1}{1 + \\sqrt{5}}\\\\- \\frac{-2 - \\frac{4}{1 + \\sqrt{5}}}{- \\sqrt{5} + 3}\\\\1\\end{matrix}\\right]\\right ]\\right ), \\quad \\left ( \\sqrt{5}, \\quad 1, \\quad \\left [ \\left[\\begin{matrix}\\frac{-4 - \\frac{8}{- \\sqrt{5} + 1}}{\\left(- \\sqrt{5} + 1\\right) \\left(\\sqrt{5} + 3\\right)} - \\frac{1}{- \\sqrt{5} + 1}\\\\- \\frac{-2 - \\frac{4}{- \\sqrt{5} + 1}}{\\sqrt{5} + 3}\\\\1\\end{matrix}\\right]\\right ]\\right )\\right ]$$"
      ],
      "text/plain": [
       "⎡                ⎛        ⎡⎡   ⎛       4   ⎞           ⎤⎤⎞  ⎛       ⎡⎡   ⎛    \n",
       "⎢                ⎜        ⎢⎢ 2⋅⎜-2 - ──────⎟           ⎥⎥⎟  ⎜       ⎢⎢ 2⋅⎜-2 -\n",
       "⎢                ⎜        ⎢⎢   ⎝     1 + √5⎠       1   ⎥⎥⎟  ⎜       ⎢⎢   ⎝    \n",
       "⎢⎛4, 1, ⎡⎡-1⎤⎤⎞, ⎜-√5, 1, ⎢⎢────────────────── - ──────⎥⎥⎟, ⎜√5, 1, ⎢⎢────────\n",
       "⎢⎜      ⎢⎢  ⎥⎥⎟  ⎜        ⎢⎢(1 + √5)⋅(-√5 + 3)   1 + √5⎥⎥⎟  ⎜       ⎢⎢(-√5 + 1\n",
       "⎢⎜      ⎢⎢-2⎥⎥⎟  ⎜        ⎢⎢                           ⎥⎥⎟  ⎜       ⎢⎢        \n",
       "⎢⎜      ⎢⎢  ⎥⎥⎟  ⎜        ⎢⎢       ⎛       4   ⎞       ⎥⎥⎟  ⎜       ⎢⎢       ⎛\n",
       "⎢⎝      ⎣⎣1 ⎦⎦⎠  ⎜        ⎢⎢      -⎜-2 - ──────⎟       ⎥⎥⎟  ⎜       ⎢⎢      -⎜\n",
       "⎢                ⎜        ⎢⎢       ⎝     1 + √5⎠       ⎥⎥⎟  ⎜       ⎢⎢       ⎝\n",
       "⎢                ⎜        ⎢⎢      ───────────────      ⎥⎥⎟  ⎜       ⎢⎢      ──\n",
       "⎢                ⎜        ⎢⎢          -√5 + 3          ⎥⎥⎟  ⎜       ⎢⎢        \n",
       "⎢                ⎜        ⎢⎢                           ⎥⎥⎟  ⎜       ⎢⎢        \n",
       "⎣                ⎝        ⎣⎣             1             ⎦⎦⎠  ⎝       ⎣⎣        \n",
       "\n",
       "    4   ⎞           ⎤⎤⎞⎤\n",
       " ───────⎟           ⎥⎥⎟⎥\n",
       " -√5 + 1⎠       1   ⎥⎥⎟⎥\n",
       "────────── - ───────⎥⎥⎟⎥\n",
       ")⋅(√5 + 3)   -√5 + 1⎥⎥⎟⎥\n",
       "                    ⎥⎥⎟⎥\n",
       "        4   ⎞       ⎥⎥⎟⎥\n",
       "-2 - ───────⎟       ⎥⎥⎟⎥\n",
       "     -√5 + 1⎠       ⎥⎥⎟⎥\n",
       "──────────────      ⎥⎥⎟⎥\n",
       "   √5 + 3           ⎥⎥⎟⎥\n",
       "                    ⎥⎥⎟⎥\n",
       "     1              ⎦⎦⎠⎦"
      ]
     },
     "execution_count": 126,
     "metadata": {},
     "output_type": "execute_result"
    }
   ],
   "source": [
    "N.eigenvects()"
   ]
  },
  {
   "cell_type": "code",
   "execution_count": 136,
   "metadata": {
    "ExecuteTime": {
     "end_time": "2019-03-27T09:28:42.784848Z",
     "start_time": "2019-03-27T09:28:42.772317Z"
    }
   },
   "outputs": [
    {
     "name": "stdout",
     "output_type": "stream",
     "text": [
      "⎡1  2   1 ⎤\n",
      "⎢         ⎥\n",
      "⎢4  1   -2⎥\n",
      "⎢         ⎥\n",
      "⎣0  -1  2 ⎦\n"
     ]
    },
    {
     "data": {
      "text/plain": [
       "'\\\\left[\\\\begin{matrix}1 & 2 & 1\\\\\\\\4 & 1 & -2\\\\\\\\0 & -1 & 2\\\\end{matrix}\\\\right]'"
      ]
     },
     "execution_count": 136,
     "metadata": {},
     "output_type": "execute_result"
    }
   ],
   "source": [
    "pprint(N)\n",
    "latex(N)"
   ]
  },
  {
   "cell_type": "code",
   "execution_count": null,
   "metadata": {},
   "outputs": [],
   "source": []
  }
 ],
 "metadata": {
  "kernelspec": {
   "display_name": "Python 3",
   "language": "python",
   "name": "python3"
  },
  "language_info": {
   "codemirror_mode": {
    "name": "ipython",
    "version": 3
   },
   "file_extension": ".py",
   "mimetype": "text/x-python",
   "name": "python",
   "nbconvert_exporter": "python",
   "pygments_lexer": "ipython3",
   "version": "3.7.3"
  },
  "varInspector": {
   "cols": {
    "lenName": 16,
    "lenType": 16,
    "lenVar": 40
   },
   "kernels_config": {
    "python": {
     "delete_cmd_postfix": "",
     "delete_cmd_prefix": "del ",
     "library": "var_list.py",
     "varRefreshCmd": "print(var_dic_list())"
    },
    "r": {
     "delete_cmd_postfix": ") ",
     "delete_cmd_prefix": "rm(",
     "library": "var_list.r",
     "varRefreshCmd": "cat(var_dic_list()) "
    }
   },
   "types_to_exclude": [
    "module",
    "function",
    "builtin_function_or_method",
    "instance",
    "_Feature"
   ],
   "window_display": false
  }
 },
 "nbformat": 4,
 "nbformat_minor": 2
}
