{
 "cells": [
  {
   "cell_type": "code",
   "execution_count": 10,
   "metadata": {
    "ExecuteTime": {
     "end_time": "2018-06-28T00:06:12.790987Z",
     "start_time": "2018-06-28T00:06:12.786270Z"
    }
   },
   "outputs": [],
   "source": [
    "from __future__ import print_function, division\n",
    "import numpy as np\n",
    "import math"
   ]
  },
  {
   "cell_type": "code",
   "execution_count": 15,
   "metadata": {
    "ExecuteTime": {
     "end_time": "2018-06-28T00:07:43.621926Z",
     "start_time": "2018-06-28T00:07:43.617187Z"
    }
   },
   "outputs": [],
   "source": [
    "u1, u2 = np.array([1,3,0])*(1/math.sqrt(10)), np.array([-3,1,10])*(1/math.sqrt(110))"
   ]
  },
  {
   "cell_type": "code",
   "execution_count": 17,
   "metadata": {
    "ExecuteTime": {
     "end_time": "2018-06-28T00:07:53.797722Z",
     "start_time": "2018-06-28T00:07:53.790745Z"
    }
   },
   "outputs": [
    {
     "data": {
      "text/plain": [
       "-1.3877787807814457e-17"
      ]
     },
     "execution_count": 17,
     "metadata": {},
     "output_type": "execute_result"
    }
   ],
   "source": [
    "np.dot(u1,u2)"
   ]
  },
  {
   "cell_type": "code",
   "execution_count": 18,
   "metadata": {
    "ExecuteTime": {
     "end_time": "2018-06-28T00:08:35.440023Z",
     "start_time": "2018-06-28T00:08:35.433130Z"
    }
   },
   "outputs": [
    {
     "data": {
      "text/plain": [
       "array([-2.4, -5.2,  2. ])"
      ]
     },
     "execution_count": 18,
     "metadata": {},
     "output_type": "execute_result"
    }
   ],
   "source": [
    "u1*(-18/math.sqrt(10))+u2*(22/math.sqrt(110))"
   ]
  },
  {
   "cell_type": "code",
   "execution_count": 19,
   "metadata": {
    "ExecuteTime": {
     "end_time": "2018-06-28T00:10:59.224802Z",
     "start_time": "2018-06-28T00:10:59.218619Z"
    }
   },
   "outputs": [
    {
     "data": {
      "text/plain": [
       "-1.2000000000000002"
      ]
     },
     "execution_count": 19,
     "metadata": {},
     "output_type": "execute_result"
    }
   ],
   "source": [
    "(-18/10)+(22*3/110)"
   ]
  },
  {
   "cell_type": "code",
   "execution_count": 23,
   "metadata": {
    "ExecuteTime": {
     "end_time": "2018-06-28T00:12:15.166194Z",
     "start_time": "2018-06-28T00:12:15.160684Z"
    }
   },
   "outputs": [
    {
     "data": {
      "text/plain": [
       "-1.2"
      ]
     },
     "execution_count": 23,
     "metadata": {},
     "output_type": "execute_result"
    }
   ],
   "source": [
    "(-18*110+66*10)/1100"
   ]
  },
  {
   "cell_type": "code",
   "execution_count": 3,
   "metadata": {
    "ExecuteTime": {
     "end_time": "2019-10-03T08:39:40.129153Z",
     "start_time": "2019-10-03T08:39:39.990213Z"
    }
   },
   "outputs": [
    {
     "name": "stdout",
     "output_type": "stream",
     "text": [
      "total 424\r\n",
      "drwxr-xr-x  18 ryosuke  staff    576 Sep 24 15:43 \u001b[34m.\u001b[m\u001b[m/\r\n",
      "drwxr-xr-x  11 ryosuke  staff    352 Apr  6  2018 \u001b[34m..\u001b[m\u001b[m/\r\n",
      "drwxr-xr-x  14 ryosuke  staff    448 Oct  3 17:38 \u001b[34m.git\u001b[m\u001b[m/\r\n",
      "-rw-r--r--   1 ryosuke  staff    560 Apr  3  2019 .gitignore\r\n",
      "drwxr-xr-x   6 ryosuke  staff    192 Sep 24 15:43 \u001b[34m.ipynb_checkpoints\u001b[m\u001b[m/\r\n",
      "-rw-r--r--   1 ryosuke  staff      7 Apr 30 02:31 .ruby-version\r\n",
      "drwxr-xr-x   8 ryosuke  staff    256 Jun 13 18:06 \u001b[34m4NM\u001b[m\u001b[m/\r\n",
      "drwxr-xr-x   5 ryosuke  staff    160 Sep 11 18:34 \u001b[34mComponents_of_quasiCord\u001b[m\u001b[m/\r\n",
      "-rw-r--r--   1 ryosuke  staff  88110 May 28 18:44 Graphs.ipynb\r\n",
      "-rw-r--r--   1 ryosuke  staff   4281 May 24 16:46 Lambda_Calculus.ipynb\r\n",
      "drwxr-xr-x  15 ryosuke  staff    480 Sep 24 16:44 \u001b[34mLecture\u001b[m\u001b[m/\r\n",
      "-rw-r--r--   1 ryosuke  staff   6448 Apr 26 16:40 MultiProcessing.ipynb\r\n",
      "drwxr-xr-x  15 ryosuke  staff    480 Mar  7  2019 \u001b[34mSageMath\u001b[m\u001b[m/\r\n",
      "-rw-r--r--   1 ryosuke  staff   3960 Jun 28  2018 Untitled.ipynb\r\n",
      "-rw-r--r--   1 ryosuke  staff  88224 May 28 18:44 Untitled1.ipynb\r\n",
      "-rw-r--r--   1 ryosuke  staff   4734 Apr 12  2018 Word_and_FreeGroup.ipynb\r\n",
      "drwxr-xr-x   9 ryosuke  staff    288 Sep 24 15:12 \u001b[34mexercise_notebooks\u001b[m\u001b[m/\r\n",
      "drwxr-xr-x  11 ryosuke  staff    352 May 25 00:06 \u001b[34miruby\u001b[m\u001b[m/\r\n"
     ]
    }
   ],
   "source": [
    "ls -la"
   ]
  },
  {
   "cell_type": "code",
   "execution_count": 6,
   "metadata": {
    "ExecuteTime": {
     "end_time": "2019-10-03T08:44:03.194943Z",
     "start_time": "2019-10-03T08:44:02.739970Z"
    }
   },
   "outputs": [
    {
     "data": {
      "image/png": "[encoded data removed]",
      "text/plain": [
       "<Figure size 432x288 with 5 Axes>"
      ]
     },
     "metadata": {
      "needs_background": "light"
     },
     "output_type": "display_data"
    }
   ],
   "source": [
    "import numpy as np\n",
    "import matplotlib.pyplot as plt\n",
    "from matplotlib.widgets import Slider, Button, RadioButtons\n",
    "\n",
    "fig, ax = plt.subplots()\n",
    "plt.subplots_adjust(left=0.25, bottom=0.25)\n",
    "t = np.arange(0.0, 1.0, 0.001)\n",
    "a0 = 5\n",
    "f0 = 3\n",
    "delta_f = 5.0\n",
    "s = a0 * np.sin(2 * np.pi * f0 * t)\n",
    "l, = plt.plot(t, s, lw=2)\n",
    "ax.margins(x=0)\n",
    "\n",
    "axcolor = 'lightgoldenrodyellow'\n",
    "axfreq = plt.axes([0.25, 0.1, 0.65, 0.03], facecolor=axcolor)\n",
    "axamp = plt.axes([0.25, 0.15, 0.65, 0.03], facecolor=axcolor)\n",
    "\n",
    "sfreq = Slider(axfreq, 'Freq', 0.1, 30.0, valinit=f0, valstep=delta_f)\n",
    "samp = Slider(axamp, 'Amp', 0.1, 10.0, valinit=a0)\n",
    "\n",
    "\n",
    "def update(val):\n",
    "    amp = samp.val\n",
    "    freq = sfreq.val\n",
    "    l.set_ydata(amp*np.sin(2*np.pi*freq*t))\n",
    "    fig.canvas.draw_idle()\n",
    "\n",
    "\n",
    "sfreq.on_changed(update)\n",
    "samp.on_changed(update)\n",
    "\n",
    "resetax = plt.axes([0.8, 0.025, 0.1, 0.04])\n",
    "button = Button(resetax, 'Reset', color=axcolor, hovercolor='0.975')\n",
    "\n",
    "\n",
    "def reset(event):\n",
    "    sfreq.reset()\n",
    "    samp.reset()\n",
    "button.on_clicked(reset)\n",
    "\n",
    "rax = plt.axes([0.025, 0.5, 0.15, 0.15], facecolor=axcolor)\n",
    "radio = RadioButtons(rax, ('red', 'blue', 'green'), active=0)\n",
    "\n",
    "\n",
    "def colorfunc(label):\n",
    "    l.set_color(label)\n",
    "    fig.canvas.draw_idle()\n",
    "radio.on_clicked(colorfunc)\n",
    "\n",
    "plt.show()"
   ]
  },
  {
   "cell_type": "code",
   "execution_count": 7,
   "metadata": {
    "ExecuteTime": {
     "end_time": "2019-10-03T08:45:17.127665Z",
     "start_time": "2019-10-03T08:45:16.883730Z"
    }
   },
   "outputs": [
    {
     "data": {
      "image/png": "[encoded data removed]",
      "text/plain": [
       "<Figure size 432x288 with 1 Axes>"
      ]
     },
     "metadata": {
      "needs_background": "light"
     },
     "output_type": "display_data"
    }
   ],
   "source": [
    "import numpy as np\n",
    "\n",
    "from matplotlib.widgets import LassoSelector\n",
    "from matplotlib.path import Path\n",
    "\n",
    "\n",
    "class SelectFromCollection(object):\n",
    "    \"\"\"Select indices from a matplotlib collection using `LassoSelector`.\n",
    "\n",
    "    Selected indices are saved in the `ind` attribute. This tool fades out the\n",
    "    points that are not part of the selection (i.e., reduces their alpha\n",
    "    values). If your collection has alpha < 1, this tool will permanently\n",
    "    alter the alpha values.\n",
    "\n",
    "    Note that this tool selects collection objects based on their *origins*\n",
    "    (i.e., `offsets`).\n",
    "\n",
    "    Parameters\n",
    "    ----------\n",
    "    ax : :class:`~matplotlib.axes.Axes`\n",
    "        Axes to interact with.\n",
    "\n",
    "    collection : :class:`matplotlib.collections.Collection` subclass\n",
    "        Collection you want to select from.\n",
    "\n",
    "    alpha_other : 0 <= float <= 1\n",
    "        To highlight a selection, this tool sets all selected points to an\n",
    "        alpha value of 1 and non-selected points to `alpha_other`.\n",
    "    \"\"\"\n",
    "\n",
    "    def __init__(self, ax, collection, alpha_other=0.3):\n",
    "        self.canvas = ax.figure.canvas\n",
    "        self.collection = collection\n",
    "        self.alpha_other = alpha_other\n",
    "\n",
    "        self.xys = collection.get_offsets()\n",
    "        self.Npts = len(self.xys)\n",
    "\n",
    "        # Ensure that we have separate colors for each object\n",
    "        self.fc = collection.get_facecolors()\n",
    "        if len(self.fc) == 0:\n",
    "            raise ValueError('Collection must have a facecolor')\n",
    "        elif len(self.fc) == 1:\n",
    "            self.fc = np.tile(self.fc, (self.Npts, 1))\n",
    "\n",
    "        self.lasso = LassoSelector(ax, onselect=self.onselect)\n",
    "        self.ind = []\n",
    "\n",
    "    def onselect(self, verts):\n",
    "        path = Path(verts)\n",
    "        self.ind = np.nonzero(path.contains_points(self.xys))[0]\n",
    "        self.fc[:, -1] = self.alpha_other\n",
    "        self.fc[self.ind, -1] = 1\n",
    "        self.collection.set_facecolors(self.fc)\n",
    "        self.canvas.draw_idle()\n",
    "\n",
    "    def disconnect(self):\n",
    "        self.lasso.disconnect_events()\n",
    "        self.fc[:, -1] = 1\n",
    "        self.collection.set_facecolors(self.fc)\n",
    "        self.canvas.draw_idle()\n",
    "\n",
    "\n",
    "if __name__ == '__main__':\n",
    "    import matplotlib.pyplot as plt\n",
    "\n",
    "    # Fixing random state for reproducibility\n",
    "    np.random.seed(19680801)\n",
    "\n",
    "    data = np.random.rand(100, 2)\n",
    "\n",
    "    subplot_kw = dict(xlim=(0, 1), ylim=(0, 1), autoscale_on=False)\n",
    "    fig, ax = plt.subplots(subplot_kw=subplot_kw)\n",
    "\n",
    "    pts = ax.scatter(data[:, 0], data[:, 1], s=80)\n",
    "    selector = SelectFromCollection(ax, pts)\n",
    "\n",
    "    def accept(event):\n",
    "        if event.key == \"enter\":\n",
    "            print(\"Selected points:\")\n",
    "            print(selector.xys[selector.ind])\n",
    "            selector.disconnect()\n",
    "            ax.set_title(\"\")\n",
    "            fig.canvas.draw()\n",
    "\n",
    "    fig.canvas.mpl_connect(\"key_press_event\", accept)\n",
    "    ax.set_title(\"Press enter to accept selected points.\")\n",
    "\n",
    "    plt.show()"
   ]
  },
  {
   "cell_type": "code",
   "execution_count": 8,
   "metadata": {
    "ExecuteTime": {
     "end_time": "2019-10-03T08:49:04.714364Z",
     "start_time": "2019-10-03T08:49:04.427627Z"
    }
   },
   "outputs": [
    {
     "data": {
      "image/png": "[encoded data removed]",
      "text/plain": [
       "<Figure size 432x288 with 1 Axes>"
      ]
     },
     "metadata": {
      "needs_background": "light"
     },
     "output_type": "display_data"
    }
   ],
   "source": [
    "import matplotlib.pyplot as plt\n",
    "from matplotlib.tri import Triangulation\n",
    "from matplotlib.patches import Polygon\n",
    "import numpy as np\n",
    "\n",
    "\n",
    "def update_polygon(tri):\n",
    "    if tri == -1:\n",
    "        points = [0, 0, 0]\n",
    "    else:\n",
    "        points = triang.triangles[tri]\n",
    "    xs = triang.x[points]\n",
    "    ys = triang.y[points]\n",
    "    polygon.set_xy(np.column_stack([xs, ys]))\n",
    "\n",
    "\n",
    "def motion_notify(event):\n",
    "    if event.inaxes is None:\n",
    "        tri = -1\n",
    "    else:\n",
    "        tri = trifinder(event.xdata, event.ydata)\n",
    "    update_polygon(tri)\n",
    "    plt.title('In triangle %i' % tri)\n",
    "    event.canvas.draw()\n",
    "\n",
    "\n",
    "# Create a Triangulation.\n",
    "n_angles = 16\n",
    "n_radii = 5\n",
    "min_radius = 0.25\n",
    "radii = np.linspace(min_radius, 0.95, n_radii)\n",
    "angles = np.linspace(0, 2 * np.pi, n_angles, endpoint=False)\n",
    "angles = np.repeat(angles[..., np.newaxis], n_radii, axis=1)\n",
    "angles[:, 1::2] += np.pi / n_angles\n",
    "x = (radii*np.cos(angles)).flatten()\n",
    "y = (radii*np.sin(angles)).flatten()\n",
    "triang = Triangulation(x, y)\n",
    "triang.set_mask(np.hypot(x[triang.triangles].mean(axis=1),\n",
    "                         y[triang.triangles].mean(axis=1))\n",
    "                < min_radius)\n",
    "\n",
    "# Use the triangulation's default TriFinder object.\n",
    "trifinder = triang.get_trifinder()\n",
    "\n",
    "# Setup plot and callbacks.\n",
    "plt.subplot(111, aspect='equal')\n",
    "plt.triplot(triang, 'bo-')\n",
    "polygon = Polygon([[0, 0], [0, 0]], facecolor='y')  # dummy data for xs,ys\n",
    "update_polygon(-1)\n",
    "plt.gca().add_patch(polygon)\n",
    "plt.gcf().canvas.mpl_connect('motion_notify_event', motion_notify)\n",
    "plt.show()"
   ]
  },
  {
   "cell_type": "code",
   "execution_count": null,
   "metadata": {},
   "outputs": [],
   "source": []
  }
 ],
 "metadata": {
  "kernelspec": {
   "display_name": "Python 3",
   "language": "python",
   "name": "python3"
  },
  "language_info": {
   "codemirror_mode": {
    "name": "ipython",
    "version": 3
   },
   "file_extension": ".py",
   "mimetype": "text/x-python",
   "name": "python",
   "nbconvert_exporter": "python",
   "pygments_lexer": "ipython3",
   "version": "3.6.7"
  },
  "toc": {
   "base_numbering": 1,
   "nav_menu": {},
   "number_sections": true,
   "sideBar": true,
   "skip_h1_title": true,
   "title_cell": "Table of Contents",
   "title_sidebar": "Contents",
   "toc_cell": false,
   "toc_position": {},
   "toc_section_display": true,
   "toc_window_display": false
  },
  "varInspector": {
   "cols": {
    "lenName": 16,
    "lenType": 16,
    "lenVar": 40
   },
   "kernels_config": {
    "python": {
     "delete_cmd_postfix": "",
     "delete_cmd_prefix": "del ",
     "library": "var_list.py",
     "varRefreshCmd": "print(var_dic_list())"
    },
    "r": {
     "delete_cmd_postfix": ") ",
     "delete_cmd_prefix": "rm(",
     "library": "var_list.r",
     "varRefreshCmd": "cat(var_dic_list()) "
    }
   },
   "types_to_exclude": [
    "module",
    "function",
    "builtin_function_or_method",
    "instance",
    "_Feature"
   ],
   "window_display": false
  }
 },
 "nbformat": 4,
 "nbformat_minor": 2
}
