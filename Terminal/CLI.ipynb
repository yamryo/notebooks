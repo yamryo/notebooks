{
 "cells": [
  {
   "cell_type": "code",
   "execution_count": 1,
   "metadata": {
    "ExecuteTime": {
     "end_time": "2019-10-25T09:38:51.316355Z",
     "start_time": "2019-10-25T09:36:05.409267Z"
    }
   },
   "outputs": [
    {
     "name": "stdout",
     "output_type": "stream",
     "text": [
      "Running `brew update --preinstall`...\n",
      "\u001b[34m==>\u001b[0m \u001b[1mDownloading https://ghcr.io/v2/homebrew/portable-ruby/portable-ruby/blobs/sha256:1f50bf80583bd436c9542d4fa5ad47df0ef0f0bea22ae710c4f04c42d7560bca\u001b[0m\n",
      "######################################################################### 100.0%\n",
      "\u001b[34m==>\u001b[0m \u001b[1mPouring portable-ruby-2.6.8_1.el_capitan.bottle.tar.gz\u001b[0m\n",
      "\u001b[34m==>\u001b[0m \u001b[1mAuto-updated Homebrew!\u001b[0m\n",
      "Updated 5 taps (railwaycat/emacsmacport, homebrew/cask-versions, homebrew/core, homebrew/cask and homebrew/cask-fonts).\n",
      "\n",
      "You have \u001b[1m46\u001b[0m outdated formulae and \u001b[1m3\u001b[0m outdated casks installed.\n",
      "You can upgrade them with \u001b[1mbrew upgrade\u001b[0m\n",
      "or list them with \u001b[1mbrew outdated\u001b[0m.\n",
      "\n",
      "\u001b[34m==>\u001b[0m \u001b[1mCasks with 'auto_updates true' or 'version :latest' will not be upgraded; pa\u001b[0m\n",
      "\u001b[32m==>\u001b[0m \u001b[1mUpgrading 3 outdated packages:\u001b[0m\n",
      "railwaycat/emacsmacport/emacs-mac emacs-28.1-mac-9.0 -> emacs-28.1-mac-9.0.1\n",
      "geogebra 6.0.703.0 -> 6.0.709.0\n",
      "inkscape 1.1.2 -> 1.2\n",
      "\u001b[32m==>\u001b[0m \u001b[1mUpgrading \u001b[32memacs-mac\u001b[39m\u001b[0m\n",
      "\u001b[34m==>\u001b[0m \u001b[1mDownloading https://github.com/railwaycat/homebrew-emacsmacport/releases/dow\u001b[0m\n",
      "\u001b[34m==>\u001b[0m \u001b[1mDownloading from https://objects.githubusercontent.com/github-production-rel\u001b[0m\n",
      "######################################################################## 100.0%\n",
      "\u001b[34m==>\u001b[0m \u001b[1mBacking App 'Emacs.app' up to '/usr/local/Caskroom/emacs-mac/emacs-28.1-mac-\u001b[0m\n",
      "\u001b[34m==>\u001b[0m \u001b[1mRemoving App '/Applications/Emacs.app'\u001b[0m\n",
      "\u001b[34m==>\u001b[0m \u001b[1mUnlinking Binary '/usr/local/bin/emacs'\u001b[0m\n",
      "\u001b[34m==>\u001b[0m \u001b[1mUnlinking Binary '/usr/local/bin/ebrowse'\u001b[0m\n",
      "\u001b[34m==>\u001b[0m \u001b[1mUnlinking Binary '/usr/local/bin/emacsclient'\u001b[0m\n",
      "\u001b[34m==>\u001b[0m \u001b[1mUnlinking Binary '/usr/local/include/emacs-module.h'\u001b[0m\n",
      "\u001b[34m==>\u001b[0m \u001b[1mUnlinking Binary '/usr/local/share/emacs/site-lisp/subdirs.el'\u001b[0m\n",
      "\u001b[34m==>\u001b[0m \u001b[1mUnlinking Binary '/usr/local/bin/etags'\u001b[0m\n",
      "\u001b[34m==>\u001b[0m \u001b[1mMoving App 'Emacs.app' to '/Applications/Emacs.app'\u001b[0m\n",
      "\u001b[34m==>\u001b[0m \u001b[1mLinking Binary 'Emacs.sh' to '/usr/local/bin/emacs'\u001b[0m\n",
      "\u001b[34m==>\u001b[0m \u001b[1mLinking Binary 'ebrowse' to '/usr/local/bin/ebrowse'\u001b[0m\n",
      "\u001b[34m==>\u001b[0m \u001b[1mLinking Binary 'emacsclient' to '/usr/local/bin/emacsclient'\u001b[0m\n",
      "\u001b[34m==>\u001b[0m \u001b[1mLinking Binary 'emacs-module.h' to '/usr/local/include/emacs-module.h'\u001b[0m\n",
      "\u001b[34m==>\u001b[0m \u001b[1mLinking Binary 'subdirs.el' to '/usr/local/share/emacs/site-lisp/subdirs.el'\u001b[0m\n",
      "\u001b[34m==>\u001b[0m \u001b[1mLinking Binary 'etags' to '/usr/local/bin/etags'\u001b[0m\n",
      "\u001b[34m==>\u001b[0m \u001b[1mPurging files for version emacs-28.1-mac-9.0 of Cask emacs-mac\u001b[0m\n",
      "🍺  emacs-mac was successfully upgraded!\n",
      "\u001b[32m==>\u001b[0m \u001b[1mUpgrading \u001b[32mgeogebra\u001b[39m\u001b[0m\n",
      "\u001b[34m==>\u001b[0m \u001b[1mDownloading https://download.geogebra.org/installers/6.0/GeoGebra-Classic-6-\u001b[0m\n",
      "######################################################################## 100.0%\n",
      "\u001b[34m==>\u001b[0m \u001b[1mUninstalling packages; your password may be necessary:\u001b[0m\n",
      "\u001b[34m==>\u001b[0m \u001b[1mBacking App 'GeoGebra Classic 6.app' up to '/usr/local/Caskroom/geogebra/6.0\u001b[0m\n",
      "\u001b[34m==>\u001b[0m \u001b[1mRemoving App '/Applications/GeoGebra Classic 6.app'\u001b[0m\n",
      "\u001b[34m==>\u001b[0m \u001b[1mMoving App 'GeoGebra Classic 6.app' to '/Applications/GeoGebra Classic 6.app\u001b[0m\n",
      "\u001b[34m==>\u001b[0m \u001b[1mPurging files for version 6.0.703.0 of Cask geogebra\u001b[0m\n",
      "🍺  geogebra was successfully upgraded!\n",
      "\u001b[32m==>\u001b[0m \u001b[1mUpgrading \u001b[32minkscape\u001b[39m\u001b[0m\n",
      "\u001b[34m==>\u001b[0m \u001b[1mDownloading https://media.inkscape.org/dl/resources/file/Inkscape-1.2.0_x86_\u001b[0m\n",
      "######################################################################## 100.0%\n",
      "\u001b[34m==>\u001b[0m \u001b[1mBacking App 'Inkscape.app' up to '/usr/local/Caskroom/inkscape/1.1.2/Inkscap\u001b[0m\n",
      "\u001b[34m==>\u001b[0m \u001b[1mRemoving App '/Applications/Inkscape.app'\u001b[0m\n",
      "\u001b[34m==>\u001b[0m \u001b[1mUnlinking Binary '/usr/local/bin/inkscape'\u001b[0m\n",
      "\u001b[34m==>\u001b[0m \u001b[1mMoving App 'Inkscape.app' to '/Applications/Inkscape.app'\u001b[0m\n",
      "\u001b[34m==>\u001b[0m \u001b[1mLinking Binary 'inkscape.wrapper.sh' to '/usr/local/bin/inkscape'\u001b[0m\n",
      "\u001b[34m==>\u001b[0m \u001b[1mPurging files for version 1.1.2 of Cask inkscape\u001b[0m\n",
      "🍺  inkscape was successfully upgraded!\n"
     ]
    }
   ],
   "source": [
    "!brew upgrade --cask"
   ]
  },
  {
   "cell_type": "code",
   "execution_count": 2,
   "metadata": {
    "ExecuteTime": {
     "end_time": "2019-10-25T09:38:51.688092Z",
     "start_time": "2019-10-25T09:38:51.546995Z"
    }
   },
   "outputs": [
    {
     "name": "stdout",
     "output_type": "stream",
     "text": [
      "Filesystem      Size   Used  Avail Capacity     iused      ifree %iused  Mounted on\n",
      "/dev/disk1s5    121G    11G    17G    40%      488531 1182353949    0%   /\n",
      "devfs           256k   256k     0B   100%         866          0  100%   /dev\n",
      "/dev/disk1s1    121G    89G    17G    84%     2049365 1180793115    0%   /System/Volumes/Data\n",
      "/dev/disk1s4    121G   3.2G    17G    16%           4 1182842476    0%   /private/var/vm\n",
      "map auto_home     0B     0B     0B   100%           0          0  100%   /System/Volumes/Data/home\n",
      "/dev/disk2s1    125G    92G    33G    74%      113687 4294853592    0%   /Volumes/JetDrive 1\n",
      "drivefs         121G   105G    16G    87% 18446744069414585724 4294967295 1314807132531331840%   /Volumes/GoogleDrive\n"
     ]
    }
   ],
   "source": [
    "!df -H"
   ]
  },
  {
   "cell_type": "code",
   "execution_count": null,
   "metadata": {},
   "outputs": [],
   "source": []
  }
 ],
 "metadata": {
  "kernelspec": {
   "display_name": "Python 3",
   "language": "python",
   "name": "python3"
  },
  "language_info": {
   "codemirror_mode": {
    "name": "ipython",
    "version": 3
   },
   "file_extension": ".py",
   "mimetype": "text/x-python",
   "name": "python",
   "nbconvert_exporter": "python",
   "pygments_lexer": "ipython3",
   "version": "3.6.13"
  },
  "toc": {
   "base_numbering": 1,
   "nav_menu": {},
   "number_sections": false,
   "sideBar": true,
   "skip_h1_title": true,
   "title_cell": "Table of Contents",
   "title_sidebar": "Contents",
   "toc_cell": false,
   "toc_position": {},
   "toc_section_display": true,
   "toc_window_display": false
  },
  "varInspector": {
   "cols": {
    "lenName": 16,
    "lenType": 16,
    "lenVar": 40
   },
   "kernels_config": {
    "python": {
     "delete_cmd_postfix": "",
     "delete_cmd_prefix": "del ",
     "library": "var_list.py",
     "varRefreshCmd": "print(var_dic_list())"
    },
    "r": {
     "delete_cmd_postfix": ") ",
     "delete_cmd_prefix": "rm(",
     "library": "var_list.r",
     "varRefreshCmd": "cat(var_dic_list()) "
    }
   },
   "types_to_exclude": [
    "module",
    "function",
    "builtin_function_or_method",
    "instance",
    "_Feature"
   ],
   "window_display": false
  }
 },
 "nbformat": 4,
 "nbformat_minor": 4
}
