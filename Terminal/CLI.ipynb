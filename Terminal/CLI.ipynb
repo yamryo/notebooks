{
 "cells": [
  {
   "cell_type": "code",
   "execution_count": 3,
   "metadata": {
    "ExecuteTime": {
     "end_time": "2019-10-25T09:38:51.316355Z",
     "start_time": "2019-10-25T09:36:05.409267Z"
    }
   },
   "outputs": [
    {
     "name": "stdout",
     "output_type": "stream",
     "text": [
      "Running `brew update --auto-update`...\n",
      "\u001b[34m==>\u001b[0m \u001b[1mAuto-updated Homebrew!\u001b[0m\n",
      "Updated 4 taps (homebrew/cask-versions, homebrew/core, homebrew/cask and homebrew/cask-fonts).\n",
      "\u001b[34m==>\u001b[0m \u001b[1mNew Formulae\u001b[0m\n",
      "psysh                                    secp256k1\n",
      "\u001b[34m==>\u001b[0m \u001b[1mNew Casks\u001b[0m\n",
      "devsquadron\n",
      "\n",
      "You have \u001b[1m1\u001b[0m outdated formula and \u001b[1m1\u001b[0m outdated cask installed.\n",
      "You can upgrade them with \u001b[1mbrew upgrade\u001b[0m\n",
      "or list them with \u001b[1mbrew outdated\u001b[0m.\n",
      "\n",
      "\u001b[33mWarning:\u001b[0m You are using macOS 10.15.\n",
      "We (and Apple) do not provide support for this old version.\n",
      "It is expected behaviour that some formulae will fail to build in this old version.\n",
      "It is expected behaviour that Homebrew will be buggy and slow.\n",
      "Do not create any issues about this on Homebrew's GitHub repositories.\n",
      "Do not create any issues even if you think this message is unrelated.\n",
      "Any opened issues will be immediately closed without response.\n",
      "Do not ask for help from MacHomebrew on Twitter.\n",
      "You may ask for help in Homebrew's discussions but are unlikely to receive a response.\n",
      "Try to figure out the problem yourself and submit a fix as a pull request.\n",
      "We will review it but may or may not accept it.\n",
      "\n",
      "\u001b[32m==>\u001b[0m \u001b[1mUpgrading 1 outdated package:\u001b[0m\n",
      "qt 6.3.1_4 -> 6.4.1\n",
      "qt: A full installation of Xcode.app is required to compile\n",
      "this software. Installing just the Command Line Tools is not sufficient.\n",
      "\n",
      "Xcode can be installed from the App Store.\n",
      "\u001b[31mError:\u001b[0m qt: An unsatisfied requirement failed this build.\n",
      "\u001b[34m==>\u001b[0m \u001b[1mCasks with 'auto_updates true' or 'version :latest' will not be upgraded; pa\u001b[0m\n",
      "\u001b[32m==>\u001b[0m \u001b[1mUpgrading 1 outdated package:\u001b[0m\n",
      "railwaycat/emacsmacport/emacs-mac emacs-28.1-mac-9.0.1 -> emacs-28.2-mac-9.1\n",
      "\u001b[32m==>\u001b[0m \u001b[1mUpgrading \u001b[32memacs-mac\u001b[39m\u001b[0m\n",
      "\u001b[34m==>\u001b[0m \u001b[1mDownloading https://github.com/railwaycat/homebrew-emacsmacport/releases/dow\u001b[0m\n",
      "Already downloaded: /Users/ryosuke/Library/Caches/Homebrew/downloads/36c19f66b5205b7077ab84ba97012d02c137ba30eb6a80ac64f2cf3acd4f0989--emacs-28.2-mac-9.1-11.6.8.zip\n",
      "\u001b[34m==>\u001b[0m \u001b[1mPurging files for version emacs-28.2-mac-9.1 of Cask emacs-mac\u001b[0m\n",
      "\u001b[31mError:\u001b[0m railwaycat/emacsmacport/emacs-mac: macOS Big Sur or newer is required for this software.\n"
     ]
    }
   ],
   "source": [
    "!brew upgrade"
   ]
  },
  {
   "cell_type": "code",
   "execution_count": 2,
   "metadata": {
    "ExecuteTime": {
     "end_time": "2019-10-25T09:38:51.688092Z",
     "start_time": "2019-10-25T09:38:51.546995Z"
    }
   },
   "outputs": [
    {
     "name": "stdout",
     "output_type": "stream",
     "text": [
      "Filesystem                               Size   Used  Avail Capacity  iused      ifree %iused  Mounted on\n",
      "/dev/disk2s5                             121G    11G    29G    28%   488709 1182353771    0%   /\n",
      "devfs                                    218k   218k     0B   100%      739          0  100%   /dev\n",
      "/dev/disk2s1                             121G    79G    29G    73%  2137618 1180704862    0%   /System/Volumes/Data\n",
      "/dev/disk2s4                             121G   1.1G    29G     4%        2 1182842478    0%   /private/var/vm\n",
      "map auto_home                              0B     0B     0B   100%        0          0  100%   /System/Volumes/Data/home\n",
      "/dev/disk1s1                             125G    97G    28G    78%   114927 4294852352    0%   /Volumes/JetDrive 1\n",
      "//DRIVE@127.0.0.1:59244/Google%20Drive   121G    93G    28G    78% 22783217    6787843   77%   /Volumes/GoogleDrive\n"
     ]
    }
   ],
   "source": [
    "!df -H"
   ]
  },
  {
   "cell_type": "code",
   "execution_count": null,
   "metadata": {},
   "outputs": [],
   "source": []
  }
 ],
 "metadata": {
  "kernelspec": {
   "display_name": "Python 3",
   "language": "python",
   "name": "python3"
  },
  "language_info": {
   "codemirror_mode": {
    "name": "ipython",
    "version": 3
   },
   "file_extension": ".py",
   "mimetype": "text/x-python",
   "name": "python",
   "nbconvert_exporter": "python",
   "pygments_lexer": "ipython3",
   "version": "3.6.13"
  },
  "toc": {
   "base_numbering": 1,
   "nav_menu": {},
   "number_sections": false,
   "sideBar": true,
   "skip_h1_title": true,
   "title_cell": "Table of Contents",
   "title_sidebar": "Contents",
   "toc_cell": false,
   "toc_position": {},
   "toc_section_display": true,
   "toc_window_display": false
  },
  "varInspector": {
   "cols": {
    "lenName": 16,
    "lenType": 16,
    "lenVar": 40
   },
   "kernels_config": {
    "python": {
     "delete_cmd_postfix": "",
     "delete_cmd_prefix": "del ",
     "library": "var_list.py",
     "varRefreshCmd": "print(var_dic_list())"
    },
    "r": {
     "delete_cmd_postfix": ") ",
     "delete_cmd_prefix": "rm(",
     "library": "var_list.r",
     "varRefreshCmd": "cat(var_dic_list()) "
    }
   },
   "types_to_exclude": [
    "module",
    "function",
    "builtin_function_or_method",
    "instance",
    "_Feature"
   ],
   "window_display": false
  }
 },
 "nbformat": 4,
 "nbformat_minor": 4
}
