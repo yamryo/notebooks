{
 "cells": [
  {
   "cell_type": "code",
   "execution_count": 1,
   "metadata": {
    "ExecuteTime": {
     "end_time": "2019-10-25T09:38:51.316355Z",
     "start_time": "2019-10-25T09:36:05.409267Z"
    }
   },
   "outputs": [
    {
     "name": "stdout",
     "output_type": "stream",
     "text": [
      "Updating Homebrew...\n",
      "\u001b[34m==>\u001b[0m \u001b[1mAuto-updated Homebrew!\u001b[0m\n",
      "Updated 5 taps (railwaycat/emacsmacport, homebrew/cask-versions, homebrew/core, homebrew/cask and homebrew/cask-fonts).\n",
      "\u001b[34m==>\u001b[0m \u001b[1mNew Formulae\u001b[0m\n",
      "btop                       java-service-wrapper       pocsuite3\n",
      "cava                       lua-language-server        sevenzip\n",
      "fastfec                    mt32emu                    tsduck\n",
      "git-branchless             php@8.0\n",
      "goplus                     pip-audit\n",
      "\u001b[34m==>\u001b[0m \u001b[1mUpdated Formulae\u001b[0m\n",
      "Updated 580 formulae.\n",
      "\u001b[34m==>\u001b[0m \u001b[1mDeleted Formulae\u001b[0m\n",
      "sdhash                                   soundpipe\n",
      "\u001b[34m==>\u001b[0m \u001b[1mNew Casks\u001b[0m\n",
      "appflowy            grammarly-desktop   semeru-jdk11-open   teamspeak-client\n",
      "clips-ide           inso-beta           semeru-jdk8-open    textsniper\n",
      "cron                ludwig              soundtoys           valkyrie\n",
      "datasette           mana-security       spaceid             videoduke\n",
      "\u001b[34m==>\u001b[0m \u001b[1mUpdated Casks\u001b[0m\n",
      "Updated 461 casks.\n",
      "\u001b[34m==>\u001b[0m \u001b[1mDeleted Casks\u001b[0m\n",
      "air-connect         aja-system-test     asc-timetables      inso-alpha\n",
      "\n",
      "\u001b[34m==>\u001b[0m \u001b[1mCasks with 'auto_updates true' or 'version :latest' will not be upgraded; pa\u001b[0m\n",
      "\u001b[32m==>\u001b[0m \u001b[1mUpgrading 1 outdated package:\u001b[0m\n",
      "geogebra 6.0.675.0 -> 6.0.676.0\n",
      "\u001b[32m==>\u001b[0m \u001b[1mUpgrading \u001b[32mgeogebra\u001b[39m\u001b[0m\n",
      "\u001b[34m==>\u001b[0m \u001b[1mDownloading https://download.geogebra.org/installers/6.0/GeoGebra-Classic-6-\u001b[0m\n",
      "######################################################################## 100.0%\n",
      "\u001b[34m==>\u001b[0m \u001b[1mUninstalling packages; your password may be necessary:\u001b[0m\n",
      "\u001b[34m==>\u001b[0m \u001b[1mBacking App 'GeoGebra Classic 6.app' up to '/usr/local/Caskroom/geogebra/6.0\u001b[0m\n",
      "\u001b[34m==>\u001b[0m \u001b[1mRemoving App '/Applications/GeoGebra Classic 6.app'\u001b[0m\n",
      "\u001b[34m==>\u001b[0m \u001b[1mMoving App 'GeoGebra Classic 6.app' to '/Applications/GeoGebra Classic 6.app\u001b[0m\n",
      "\u001b[34m==>\u001b[0m \u001b[1mPurging files for version 6.0.675.0 of Cask geogebra\u001b[0m\n",
      "🍺  geogebra was successfully upgraded!\n"
     ]
    }
   ],
   "source": [
    "!brew upgrade --cask"
   ]
  },
  {
   "cell_type": "code",
   "execution_count": 3,
   "metadata": {
    "ExecuteTime": {
     "end_time": "2019-10-25T09:38:51.688092Z",
     "start_time": "2019-10-25T09:38:51.546995Z"
    }
   },
   "outputs": [
    {
     "name": "stdout",
     "output_type": "stream",
     "text": [
      "Filesystem      Size   Used  Avail Capacity     iused      ifree %iused  Mounted on\n",
      "/dev/disk1s5    121G    11G    15G    44%      488470 1182354010    0%   /\n",
      "devfs           251k   251k     0B   100%         850          0  100%   /dev\n",
      "/dev/disk1s1    121G    91G    15G    87%     1664762 1181177718    0%   /System/Volumes/Data\n",
      "/dev/disk1s4    121G   3.2G    15G    19%           4 1182842476    0%   /private/var/vm\n",
      "map auto_home     0B     0B     0B   100%           0          0  100%   /System/Volumes/Data/home\n",
      "/dev/disk2s1    125G   101G    24G    81%      121460 4294845819    0%   /Volumes/JetDrive 1\n",
      "/dev/disk1s3    121G   526M    15G     4%          46 1182842434    0%   /Volumes/Recovery\n",
      "drivefs         121G   107G    14G    89% 18446744069414586726 4294967295 767016385422643840%   /Volumes/GoogleDrive\n"
     ]
    }
   ],
   "source": [
    "!df -H"
   ]
  },
  {
   "cell_type": "code",
   "execution_count": null,
   "metadata": {},
   "outputs": [],
   "source": []
  }
 ],
 "metadata": {
  "kernelspec": {
   "display_name": "Python 3",
   "language": "python",
   "name": "python3"
  },
  "language_info": {
   "codemirror_mode": {
    "name": "ipython",
    "version": 3
   },
   "file_extension": ".py",
   "mimetype": "text/x-python",
   "name": "python",
   "nbconvert_exporter": "python",
   "pygments_lexer": "ipython3",
   "version": "3.6.13"
  },
  "toc": {
   "base_numbering": 1,
   "nav_menu": {},
   "number_sections": false,
   "sideBar": true,
   "skip_h1_title": true,
   "title_cell": "Table of Contents",
   "title_sidebar": "Contents",
   "toc_cell": false,
   "toc_position": {},
   "toc_section_display": true,
   "toc_window_display": false
  },
  "varInspector": {
   "cols": {
    "lenName": 16,
    "lenType": 16,
    "lenVar": 40
   },
   "kernels_config": {
    "python": {
     "delete_cmd_postfix": "",
     "delete_cmd_prefix": "del ",
     "library": "var_list.py",
     "varRefreshCmd": "print(var_dic_list())"
    },
    "r": {
     "delete_cmd_postfix": ") ",
     "delete_cmd_prefix": "rm(",
     "library": "var_list.r",
     "varRefreshCmd": "cat(var_dic_list()) "
    }
   },
   "types_to_exclude": [
    "module",
    "function",
    "builtin_function_or_method",
    "instance",
    "_Feature"
   ],
   "window_display": false
  }
 },
 "nbformat": 4,
 "nbformat_minor": 4
}
