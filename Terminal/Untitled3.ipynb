{
 "cells": [
  {
   "cell_type": "code",
   "execution_count": 2,
   "metadata": {
    "ExecuteTime": {
     "end_time": "2019-10-25T09:38:51.316355Z",
     "start_time": "2019-10-25T09:36:05.409267Z"
    }
   },
   "outputs": [
    {
     "name": "stdout",
     "output_type": "stream",
     "text": [
      "Updating Homebrew...\n",
      "\u001b[34m==>\u001b[0m \u001b[1mAuto-updated Homebrew!\u001b[0m\n",
      "Updated 4 taps (homebrew/cask-versions, homebrew/core, homebrew/cask and homebrew/cask-fonts).\n",
      "\u001b[34m==>\u001b[0m \u001b[1mNew Formulae\u001b[0m\n",
      "matterbridge                             storj-uplink\n",
      "\u001b[34m==>\u001b[0m \u001b[1mUpdated Formulae\u001b[0m\n",
      "Updated 158 formulae.\n",
      "\u001b[34m==>\u001b[0m \u001b[1mRenamed Formulae\u001b[0m\n",
      "badtouch -> authoscope\n",
      "\u001b[34m==>\u001b[0m \u001b[1mNew Casks\u001b[0m\n",
      "blobsaver                  font-iosevka-ss18          microsoft-openjdk11\n",
      "carbon-copy-cloner5        microsoft-openjdk\n",
      "\u001b[34m==>\u001b[0m \u001b[1mUpdated Casks\u001b[0m\n",
      "Updated 184 casks.\n",
      "\u001b[34m==>\u001b[0m \u001b[1mDeleted Casks\u001b[0m\n",
      "appstudio                  hex                        opera-mail\n",
      "auristor-client            iograph                    resxtreme\n",
      "cricut-design-space        itrash                     rss\n",
      "filedrop                   netbeans-php               wraparound\n",
      "\n",
      "\u001b[34m==>\u001b[0m \u001b[1mCasks with 'auto_updates' or 'version :latest' will not be upgraded; pass `-\u001b[0m\n",
      "\u001b[32m==>\u001b[0m \u001b[1mUpgrading 2 outdated packages:\u001b[0m\n",
      "font-source-code-pro 2.038R-ro-1.058R-it-1.018R-VAR -> latest\n",
      "mactex 2020.0407 -> 2021.0328\n",
      "\u001b[32m==>\u001b[0m \u001b[1mUpgrading \u001b[32mfont-source-code-pro\u001b[39m\u001b[0m\n",
      "\u001b[34m==>\u001b[0m \u001b[1mCloning https://github.com/google/fonts/trunk/ofl/sourcecodepro\u001b[0m\n",
      "You must: brew install svn\n",
      "\u001b[34m==>\u001b[0m \u001b[1mPurging files for version latest of Cask font-source-code-pro\u001b[0m\n",
      "\u001b[32m==>\u001b[0m \u001b[1mUpgrading \u001b[32mmactex\u001b[39m\u001b[0m\n",
      "\u001b[34m==>\u001b[0m \u001b[1mCaveats\u001b[0m\n",
      "You must restart your terminal window for the installation of MacTex CLI tools to take effect.\n",
      "Alternatively, Bash and Zsh users can run the command:\n",
      "\n",
      "  eval \"$(/usr/libexec/path_helper)\"\n",
      "\n",
      "\u001b[34m==>\u001b[0m \u001b[1mDownloading http://mirror.ctan.org/systems/mac/mactex/mactex-20210328.pkg\u001b[0m\n",
      "Already downloaded: /Users/ryosuke/Library/Caches/Homebrew/downloads/d9dd25d7711fdf85129fb968dafab69c08b62513e619366f66ea0735893d23b2--mactex-20210328.pkg\n",
      "All formula dependencies satisfied.\n",
      "\u001b[34m==>\u001b[0m \u001b[1mUninstalling packages; your password may be necessary:\u001b[0m\n",
      "org.tug.mactex.gui2020\n",
      "Password:\n",
      "\n"
     ]
    }
   ],
   "source": [
    "!brew upgrade --cask"
   ]
  },
  {
   "cell_type": "code",
   "execution_count": 3,
   "metadata": {
    "ExecuteTime": {
     "end_time": "2019-10-25T09:38:51.688092Z",
     "start_time": "2019-10-25T09:38:51.546995Z"
    }
   },
   "outputs": [
    {
     "name": "stdout",
     "output_type": "stream",
     "text": [
      "Filesystem      Size   Used  Avail Capacity     iused      ifree %iused  Mounted on\n",
      "/dev/disk1s5    121G    11G    15G    44%      488470 1182354010    0%   /\n",
      "devfs           251k   251k     0B   100%         850          0  100%   /dev\n",
      "/dev/disk1s1    121G    91G    15G    87%     1664762 1181177718    0%   /System/Volumes/Data\n",
      "/dev/disk1s4    121G   3.2G    15G    19%           4 1182842476    0%   /private/var/vm\n",
      "map auto_home     0B     0B     0B   100%           0          0  100%   /System/Volumes/Data/home\n",
      "/dev/disk2s1    125G   101G    24G    81%      121460 4294845819    0%   /Volumes/JetDrive 1\n",
      "/dev/disk1s3    121G   526M    15G     4%          46 1182842434    0%   /Volumes/Recovery\n",
      "drivefs         121G   107G    14G    89% 18446744069414586726 4294967295 767016385422643840%   /Volumes/GoogleDrive\n"
     ]
    }
   ],
   "source": [
    "!df -H"
   ]
  },
  {
   "cell_type": "code",
   "execution_count": null,
   "metadata": {},
   "outputs": [],
   "source": []
  }
 ],
 "metadata": {
  "kernelspec": {
   "display_name": "Python 3",
   "language": "python",
   "name": "python3"
  },
  "language_info": {
   "codemirror_mode": {
    "name": "ipython",
    "version": 3
   },
   "file_extension": ".py",
   "mimetype": "text/x-python",
   "name": "python",
   "nbconvert_exporter": "python",
   "pygments_lexer": "ipython3",
   "version": "3.6.13"
  },
  "toc": {
   "base_numbering": 1,
   "nav_menu": {},
   "number_sections": false,
   "sideBar": true,
   "skip_h1_title": true,
   "title_cell": "Table of Contents",
   "title_sidebar": "Contents",
   "toc_cell": false,
   "toc_position": {},
   "toc_section_display": true,
   "toc_window_display": false
  },
  "varInspector": {
   "cols": {
    "lenName": 16,
    "lenType": 16,
    "lenVar": 40
   },
   "kernels_config": {
    "python": {
     "delete_cmd_postfix": "",
     "delete_cmd_prefix": "del ",
     "library": "var_list.py",
     "varRefreshCmd": "print(var_dic_list())"
    },
    "r": {
     "delete_cmd_postfix": ") ",
     "delete_cmd_prefix": "rm(",
     "library": "var_list.r",
     "varRefreshCmd": "cat(var_dic_list()) "
    }
   },
   "types_to_exclude": [
    "module",
    "function",
    "builtin_function_or_method",
    "instance",
    "_Feature"
   ],
   "window_display": false
  }
 },
 "nbformat": 4,
 "nbformat_minor": 4
}
