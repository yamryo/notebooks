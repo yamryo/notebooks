{
 "cells": [
  {
   "cell_type": "code",
   "execution_count": 1,
   "metadata": {
    "ExecuteTime": {
     "end_time": "2019-04-09T06:16:06.893695Z",
     "start_time": "2019-04-09T06:16:05.018Z"
    }
   },
   "outputs": [],
   "source": [
    "def find_a_factor(num, start=2)\n",
    "  num = num.to_i.abs\n",
    "  sqi = Math.sqrt(num).to_i\n",
    "  \n",
    "  res = 1\n",
    "  (start..sqi).each do |k|\n",
    "    res = num%k\n",
    "    if (res == 0)\n",
    "      return k\n",
    "      break\n",
    "    end\n",
    "  end\n",
    "  return num\n",
    "end\n",
    "\n",
    "def is_prime?(num)\n",
    "  return find_a_factor(num)==num\n",
    "end\n",
    "\n",
    "def factorisation(num, factors=[])\n",
    "    start = factors.empty? ? 2 : factors.last\n",
    "    factors << find_a_factor(num, start)\n",
    "    if factors.last < num\n",
    "        num = (num/factors.last).to_i\n",
    "        factorisation(num, factors)\n",
    "    else\n",
    "    return factors\n",
    "end\n",
    "end; nil"
   ]
  },
  {
   "cell_type": "code",
   "execution_count": 2,
   "metadata": {
    "ExecuteTime": {
     "end_time": "2019-04-09T06:03:40.051959Z",
     "start_time": "2019-04-09T06:03:38.184Z"
    }
   },
   "outputs": [
    {
     "name": "stdout",
     "output_type": "stream",
     "text": [
      "24072\n",
      "2\n",
      "false\n",
      "[2, 2, 2, 3, 17, 59]\n"
     ]
    }
   ],
   "source": [
    "n = 2**3*3*17*59; p n\n",
    "p find_a_factor(n), is_prime?(n)\n",
    "p factorisation(n); nil"
   ]
  },
  {
   "cell_type": "code",
   "execution_count": 3,
   "metadata": {
    "ExecuteTime": {
     "end_time": "2019-04-09T06:16:30.200921Z",
     "start_time": "2019-04-09T06:16:28.330Z"
    }
   },
   "outputs": [],
   "source": [
    "def prime_generator(start=1, max)\n",
    "    k = start\n",
    "    while (k<=max)\n",
    "        yield k if is_prime?(k)\n",
    "        k += 1\n",
    "    end\n",
    "end; nil"
   ]
  },
  {
   "cell_type": "code",
   "execution_count": 4,
   "metadata": {
    "ExecuteTime": {
     "end_time": "2019-04-09T06:23:04.534227Z",
     "start_time": "2019-04-09T06:21:37.226Z"
    }
   },
   "outputs": [
    {
     "name": "stdout",
     "output_type": "stream",
     "text": [
      "2^3-1 = 7\n",
      "2^5-1 = 31\n",
      "2^7-1 = 127\n",
      "2^11-1 = 23 * 89\n",
      "2^13-1 = 8191\n",
      "2^17-1 = 131071\n",
      "2^19-1 = 524287\n",
      "2^23-1 = 47 * 178481\n",
      "2^29-1 = 233 * 1103 * 2089\n",
      "2^31-1 = 2147483647\n",
      "2^37-1 = 223 * 616318177\n",
      "2^41-1 = 13367 * 164511353\n",
      "2^43-1 = 431 * 9719 * 2099863\n",
      "2^47-1 = 2351 * 4513 * 13264529\n",
      "2^53-1 = 6361 * 69431 * 20394401\n",
      "2^59-1 = 179951 * 3203431780337\n"
     ]
    }
   ],
   "source": [
    "nn = 60\n",
    "prime_generator(start=3, nn){ |p|\n",
    "    mp = 2**p-1\n",
    "    puts \"2^#{p}-1 = \"+ factorisation(mp).join(' * ')\n",
    "}; nil"
   ]
  },
  {
   "cell_type": "code",
   "execution_count": 5,
   "metadata": {},
   "outputs": [
    {
     "name": "stdout",
     "output_type": "stream",
     "text": [
      "\"193.69073400000343秒\"\n"
     ]
    }
   ],
   "source": [
    "require 'benchmark'\n",
    "\n",
    "result = Benchmark.realtime do\n",
    "    factorisation(2**61-1)\n",
    "end\n",
    "p \"#{result}秒\"; nil"
   ]
  }
 ],
 "metadata": {
  "kernelspec": {
   "display_name": "Ruby 3.3.0",
   "language": "ruby",
   "name": "ruby"
  },
  "language_info": {
   "file_extension": ".rb",
   "mimetype": "application/x-ruby",
   "name": "ruby",
   "version": "3.3.0"
  },
  "varInspector": {
   "cols": {
    "lenName": 16,
    "lenType": 16,
    "lenVar": 40
   },
   "kernels_config": {
    "python": {
     "delete_cmd_postfix": "",
     "delete_cmd_prefix": "del ",
     "library": "var_list.py",
     "varRefreshCmd": "print(var_dic_list())"
    },
    "r": {
     "delete_cmd_postfix": ") ",
     "delete_cmd_prefix": "rm(",
     "library": "var_list.r",
     "varRefreshCmd": "cat(var_dic_list()) "
    }
   },
   "types_to_exclude": [
    "module",
    "function",
    "builtin_function_or_method",
    "instance",
    "_Feature"
   ],
   "window_display": false
  }
 },
 "nbformat": 4,
 "nbformat_minor": 4
}
