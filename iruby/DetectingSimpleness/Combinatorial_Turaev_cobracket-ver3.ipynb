{
 "cells": [
  {
   "cell_type": "markdown",
   "metadata": {},
   "source": [
    "# The fundarmental group of $\\Sigma_{g,1}$ "
   ]
  },
  {
   "cell_type": "code",
   "execution_count": 1,
   "metadata": {
    "ExecuteTime": {
     "end_time": "2019-06-13T00:53:02.737484Z",
     "start_time": "2019-06-13T00:53:02.728Z"
    }
   },
   "outputs": [
    {
     "data": {
      "text/plain": [
       "true"
      ]
     },
     "execution_count": 1,
     "metadata": {},
     "output_type": "execute_result"
    }
   ],
   "source": [
    "require './freegroup.rb'"
   ]
  },
  {
   "cell_type": "markdown",
   "metadata": {},
   "source": [
    "## generators"
   ]
  },
  {
   "cell_type": "code",
   "execution_count": 2,
   "metadata": {
    "ExecuteTime": {
     "end_time": "2019-06-13T00:53:04.961060Z",
     "start_time": "2019-06-13T00:53:04.952Z"
    }
   },
   "outputs": [
    {
     "name": "stdout",
     "output_type": "stream",
     "text": [
      "[\"a\", \"b\", \"c\", \"d\", \"e\", \"f\"]\n",
      "[\"1\", \"a\", \"c\", \"e\"]\n"
     ]
    }
   ],
   "source": [
    "genus = 3\n",
    "alphabet = %w(a b c d e f)\n",
    "\n",
    "Gens = [Letter.new] + alphabet.map{|x| Letter.new(x)}\n",
    "Gens.freeze\n",
    "p Gens[1..-1].map(&:show)\n",
    "\n",
    "a = [Gens[0]] + Gens[1..-1].each_slice(2).map(&:first)\n",
    "b = [Gens[0]] + Gens[1..-1].each_slice(2).map(&:last)\n",
    "p a.map(&:show)\n",
    "nil"
   ]
  },
  {
   "cell_type": "code",
   "execution_count": 3,
   "metadata": {
    "ExecuteTime": {
     "end_time": "2019-06-13T00:53:06.168214Z",
     "start_time": "2019-06-13T00:53:06.159Z"
    }
   },
   "outputs": [
    {
     "name": "stdout",
     "output_type": "stream",
     "text": [
      "[\"1111\", \"abAB\", \"cdCD\", \"efEF\"]\n"
     ]
    },
    {
     "data": {
      "text/plain": [
       "[\"1111\", \"abAB\", \"cdCD\", \"efEF\"]"
      ]
     },
     "execution_count": 3,
     "metadata": {},
     "output_type": "execute_result"
    }
   ],
   "source": [
    "comms = []\n",
    "(Gens.size/2 + 1).times do |i|\n",
    "  comms << Group.commutator(a[i], b[i])\n",
    "end\n",
    "p comms.map(&:show)"
   ]
  },
  {
   "cell_type": "code",
   "execution_count": 4,
   "metadata": {
    "ExecuteTime": {
     "end_time": "2019-06-13T00:53:07.324749Z",
     "start_time": "2019-06-13T00:53:07.314Z"
    }
   },
   "outputs": [
    {
     "name": "stderr",
     "output_type": "stream",
     "text": [
      "<main>:2: warning: already initialized constant Rseq\n",
      "<main>:2: warning: already initialized constant Rseq\n",
      "<main>:2: warning: previous definition of Rseq was here\n",
      "<main>:2: warning: already initialized constant Rseq\n",
      "<main>:2: warning: previous definition of Rseq was here\n"
     ]
    },
    {
     "name": "stdout",
     "output_type": "stream",
     "text": [
      "[\"a\", \"B\", \"A\", \"b\", \"c\", \"D\", \"C\", \"d\", \"e\", \"F\", \"E\", \"f\"]\n"
     ]
    }
   ],
   "source": [
    "Rseq = []\n",
    "(Gens.size/2).times do |i|\n",
    "  Rseq += [a[i+1], b[i+1].inverse, a[i+1].inverse, b[i+1]]\n",
    "end\n",
    "Rseq.freeze\n",
    "p Rseq.map(&:show) #.index('A')\n",
    "nil"
   ]
  },
  {
   "cell_type": "markdown",
   "metadata": {},
   "source": [
    "## Turaev cobraket"
   ]
  },
  {
   "cell_type": "code",
   "execution_count": null,
   "metadata": {
    "ExecuteTime": {
     "end_time": "2019-06-13T01:18:51.446974Z",
     "start_time": "2019-06-13T01:18:51.440Z"
    },
    "code_folding": [],
    "scrolled": true
   },
   "outputs": [],
   "source": [
    "def cobracket(myw, verbose: false, narrow: true)\n",
    "  \n",
    "  monomials = \n",
    "  .map do |mono|\n",
    "\n",
    "    mono.merge({coeff: mono[:linking], words: words})\n",
    "  end\n",
    "\n",
    "  if verbose\n",
    "    result = monomials\n",
    "  else\n",
    "    result = []\n",
    "    while monomials.size > 0\n",
    "      pop = monomials.pop\n",
    "      pop[:divs] = [pop[:divs]]\n",
    "      #---\n",
    "      monomials.each do |mono|\n",
    "        if mono[:words][0].conjugate?(pop[:words][0]) and mono[:words][1].conjugate?(pop[:words][1])\n",
    "          pop[:coeff] += mono[:coeff]\n",
    "          pop[:divs] << mono[:divs]\n",
    "          mono[:coeff] = nil\n",
    "        elsif mono[:words][0].conjugate?(pop[:words][1]) and mono[:words][1].conjugate?(pop[:words][0])\n",
    "          pop[:coeff] += mono[:coeff]*(-1)\n",
    "          pop[:divs] << mono[:divs]\n",
    "          mono[:coeff] = nil\n",
    "        end\n",
    "      end\n",
    "      #---\n",
    "      if pop[:coeff] != 0 or verbose\n",
    "        result << pop\n",
    "      end\n",
    "      #---\n",
    "      monomials.delete_if{|mono| mono[:coeff].nil?}\n",
    "    end \n",
    "  end\n",
    "  return (result.empty?) ? {coeff: 0, words: []} : result\n",
    "end; nil"
   ]
  },
  {
   "cell_type": "code",
   "execution_count": null,
   "metadata": {},
   "outputs": [],
   "source": [
    "def ep(letter1, letter2, bar=false)\n",
    "  result = if letter1.show == letter2.show\n",
    "    (bar) ? -1 : 1        \n",
    "  else\n",
    "    (Rseq.index(letter1) < Rseq.index(letter2)) ? 1 : -1\n",
    "  end\n",
    "  return result\n",
    "end\n",
    "\n",
    "def lk(myw, idxs)\n",
    "  facs = myw.flatten.factors\n",
    "  #---\n",
    "  divs =  idxs.map{|k| [facs[(k+1)/2-1], facs[((k+1)/2)%myw.size]]}\n",
    "  lts = divs.map{|pair| [pair[1], pair[0].inverse]}\n",
    "  arr = [\n",
    "    [lts[0][0], lts[1][0], false], \n",
    "    [lts[0][0], lts[1][1], true], \n",
    "    [lts[0][1], lts[1][0], false], \n",
    "    [lts[0][1], lts[1][1], true]\n",
    "    ]\n",
    "  vals = arr.map{|a| ep(a[0], a[1], a[2])}\n",
    "  #return (0..arr.size-1).map{|i| \"#{arr[i][0].show}.#{arr[i][1].show} = #{vals[i]}\"}\n",
    "  return (vals[0] - vals[1] - vals[2] + vals[3])/2\n",
    "end\n",
    "\n",
    "def show_linkings(myw)\n",
    "vb = true #false #\n",
    "  \n",
    "facs = myw.flatten.factors\n",
    "#p facs.map(&:show)\n",
    "printf(\"=====\\n\")\n",
    "\n",
    "cobra = cobracket(myw, verbose: vb)\n",
    "linking_sum = 0\n",
    "\n",
    "cobra.each do |h|\n",
    "  h.each do |k,v|\n",
    "    case k \n",
    "    when :odds\n",
    "      str = facs.map(&:show).join\n",
    "      idx = v.map{|n| (n+1)/2}\n",
    "      str = [str[0..idx[0]-1], str[idx[0]..idx[1]-1], str[idx[1]..-1]].join('|')\n",
    "      puts \"#{k}: #{v},  #{str}\"\n",
    "      p lk(myw, v)\n",
    "    when :linking\n",
    "      p \"#{k}: #{v}\"\n",
    "    when :factors\n",
    "#      p h[:factors].map(&:show).join(\" , \")\n",
    "    when :words\n",
    "#      coeff = (h[:coeff]==1) ? '' : \"(#{h[:coeff].to_s})\"\n",
    "#      p coeff + \"#{h[:words].join(\" \\u{2227} \")}\"\n",
    "    else\n",
    "    end\n",
    "  end\n",
    "  linking_sum += h[:linking]\n",
    "  printf(\"----------\\n\")\n",
    "end\n",
    "return \"linking_sum = #{linking_sum}\"\n",
    "end; nil"
   ]
  },
  {
   "cell_type": "markdown",
   "metadata": {},
   "source": [
    "# Execution"
   ]
  },
  {
   "cell_type": "code",
   "execution_count": null,
   "metadata": {
    "ExecuteTime": {
     "end_time": "2019-06-13T01:18:54.100601Z",
     "start_time": "2019-06-13T01:18:54.080Z"
    }
   },
   "outputs": [],
   "source": [
    "a1 = Word.new(a[1])\n",
    "c = (a1*Word.new(b[1])*(a1.inverse)).flatten\n",
    "\n",
    "samples = {\n",
    "  s0: [\n",
    "    a1, \n",
    "    a1*Word.new(b[2]),\n",
    "    a1*(Word.new(b[2]).inverse)\n",
    "  ],\n",
    "  s1: [\n",
    "    a1^4,\n",
    "    c,\n",
    "    comms[1]\n",
    "  ],\n",
    "  s2: [\n",
    "    a1*(comms[2].inverse),\n",
    "    a1*(c.inverse)*(comms[2].inverse)*c\n",
    "  ],\n",
    "  s3: [\n",
    "    a1*comms[2],\n",
    "    a1*(comms[2]^2),\n",
    "    a1*comms[2]*c*comms[2]*(c.inverse)\n",
    "  ],\n",
    "  s4: [\n",
    "    a1*(a2^3),\n",
    "    a1*(Word.new(a[2], b[2].inverse)^3)\n",
    "  ],\n",
    "  s5: [\n",
    "    a1*Group.commutator(a[2], a[3]),\n",
    "    a1*(comms[2]*comms[3])*Group.commutator(a[2], a[3])*((comms[2]*comms[3]).inverse)\n",
    "  ],\n",
    "  s6: [\n",
    "    a1*Group.commutator(b[1], a[2])\n",
    "  ]\n",
    "  }\n",
    "\n",
    "arr = samples #.slice(:s2, :s3) #:s0, :s1)\n",
    "arr.each do |k, v|\n",
    "  printf \"--- #{k} ---\\n \"\n",
    "  v.each do |s|\n",
    "    ws = s.show\n",
    "    cob = cobracket(s).map do |h|\n",
    "      coeff = (h[:coeff]==1) ? '' : \"(#{h[:coeff].to_s})\"\n",
    "      coeff + \"#{h[:words].join(\" \\u{2227} \")}\"\n",
    "    end\n",
    "    #---\n",
    "    puts \"#{ws}  |--\\u{03B4}-->  #{cob.join(' + ')}\"\n",
    "  end\n",
    "end;nil"
   ]
  },
  {
   "cell_type": "code",
   "execution_count": null,
   "metadata": {},
   "outputs": [],
   "source": [
    "myw = samples[:s6][-1]\n",
    "wcode = Wcode.new(myw)\n",
    "p myw.show, wcode.show\n",
    "\n",
    "vb = true\n",
    "printf(\"=====\\n\")\n",
    "cobracket(myw, verbose: vb).each do |h|\n",
    "  h.each do |k,v|\n",
    "    case k \n",
    "    when :odds, :linking\n",
    "      p \"#{k}: #{v}\"\n",
    "    when :factors\n",
    "      p h[:factors].map(&:show).join(\" , \")\n",
    "    when :words\n",
    "      coeff = (h[:coeff]==1) ? '' : \"(#{h[:coeff].to_s})\"\n",
    "      p coeff + \"#{h[:words].join(\" \\u{2227} \")}\"\n",
    "    else\n",
    "    end\n",
    "  end\n",
    "  printf(\"----------\\n\")\n",
    "end; nil"
   ]
  },
  {
   "cell_type": "markdown",
   "metadata": {},
   "source": [
    "## Experiments"
   ]
  },
  {
   "cell_type": "code",
   "execution_count": null,
   "metadata": {},
   "outputs": [],
   "source": [
    "ws = [a1*(comms[2].inverse), a1*(c.inverse)*(comms[2].inverse)*c]\n",
    "wcs = ws.map{|w| Wcode.new(w)}\n",
    "wcs.each{|wc| p \"#{wc.word.show} --> #{wc.show(3)}\" }\n",
    "\n",
    "cobras = ws.map{|w| cobracket(w, verbose: true, narrow: false)} # false)} #\n",
    "printf \"\\n\\n\"\n",
    "#---\n",
    "\n",
    "(1..ws[0].size).map{|n| 2*n-1}.combination(2).each do |op|\n",
    "  op2 = op.map{|o| (o == 1) ? o : o+6 }\n",
    "  c0 = cobras[0].select{|h| h[:odds]==op}\n",
    "  c1 = cobras[1].select{|h| h[:odds]==op2}\n",
    "\n",
    "[c0, c1].each do |c|\n",
    "  c.each do |h|\n",
    "    h.each do |k,v|\n",
    "      case k \n",
    "      when :odds, :linking\n",
    "        p \"#{k}: #{v}\"\n",
    "      when :factors\n",
    "        p h[:factors].map{|f| f.show(3)}.join(\" , \")\n",
    "      when :words\n",
    "        coeff = (h[:coeff]==1) ? '' : \"(#{h[:coeff].to_s})\"\n",
    "        p coeff + \"#{h[:words].join(\" \\u{2227} \")}\"\n",
    "      else\n",
    "      end\n",
    "    end\n",
    "    printf(\"----------\\n\")\n",
    "  end;\n",
    "end\n",
    "  printf(\"=================\\n\")\n",
    "end; nil"
   ]
  },
  {
   "cell_type": "code",
   "execution_count": null,
   "metadata": {},
   "outputs": [],
   "source": [
    "myw = a1*(comms[2].inverse)\n",
    "wcode = Wcode.new(myw)\n",
    "p myw.show, wcode.show\n",
    "\n",
    "vb = true\n",
    "printf(\"=====\\n\")\n",
    "cobracket(myw, verbose: vb).each do |h|\n",
    "  h.each do |k,v|\n",
    "    case k \n",
    "    when :odds, :linking\n",
    "      p \"#{k}: #{v}\"\n",
    "    when :factors\n",
    "      p h[:factors].map(&:show).join(\" , \")\n",
    "    when :words\n",
    "      coeff = (h[:coeff]==1) ? '' : \"(#{h[:coeff].to_s})\"\n",
    "      p coeff + \"#{h[:words].join(\" \\u{2227} \")}\"\n",
    "    else\n",
    "    end\n",
    "  end\n",
    "  printf(\"----------\\n\")\n",
    "end; nil"
   ]
  },
  {
   "cell_type": "code",
   "execution_count": null,
   "metadata": {},
   "outputs": [],
   "source": [
    "p myw.show\n",
    "d1 = (a1.size)+1\n",
    "d2 = cif + c.size\n",
    "d3 = myw.size - (c.size-1)\n",
    "d4 = myw.size + 1\n",
    "\n",
    "r1 = (d1..d2-1).map{|n| 2*n-1}.to_a\n",
    "r2 = (d3..d4-1).map{|n| 2*n-1}.to_a\n",
    "p r1, r2\n",
    "p r1.include?(9)\n",
    "nil"
   ]
  },
  {
   "cell_type": "code",
   "execution_count": null,
   "metadata": {},
   "outputs": [],
   "source": [
    "myw = a1*(c.inverse)*(comms[2].inverse)*c\n",
    "wcode = Wcode.new(myw)\n",
    "p myw.show, wcode.show\n",
    "\n",
    "vb = true #false #\n",
    "printf(\"=====\\n\")\n",
    "\n",
    "cobra = cobracket(myw, verbose: vb)\n",
    "\n",
    "d1 = (a1.size)+1\n",
    "d2 = cif + c.size\n",
    "d3 = myw.size - (c.size-1)\n",
    "d4 = myw.size + 1\n",
    "r1 = (d1..d2-1).map{|n| 2*n-1}.to_a\n",
    "r2 = (d3..d4-1).map{|n| 2*n-1}.to_a\n",
    "rng = r1+r2\n",
    "cobra.select! do |h|\n",
    "  rng.include?(h[:odds][0]) or rng.include?(h[:odds][1])\n",
    "end\n",
    "\n",
    "cobra.each do |h|\n",
    "  cnt = 0\n",
    "  str = ''\n",
    "#  str += myw.show.each_char do |c|\n",
    "#    unless c == '.'\n",
    "#      cnt += 1\n",
    "#      c = \"***\" #if (h[:odds].include?(2*cnt-1))\n",
    "#    end\n",
    "#    '|||'\n",
    "#  end\n",
    "  str = myw.show.delete('.')\n",
    "  idx = h[:odds].map{|n| (n+1)/2}\n",
    "  str = [str[0..idx[0]-1], str[idx[0]..idx[1]-1], str[idx[1]..-1]].join('|')\n",
    "  puts \"#{h[:odds]}, #{str}\"\n",
    "  h.each do |k,v|\n",
    "    case k \n",
    "    when :linking #, :odds \n",
    "      p \"#{k}: #{v}\"\n",
    "    when :factors\n",
    "      p h[:factors].map(&:show).join(\" , \")\n",
    "    when :words\n",
    "      coeff = (h[:coeff]==1) ? '' : \"(#{h[:coeff].to_s})\"\n",
    "      p coeff + \"#{h[:words].join(\" \\u{2227} \")}\"\n",
    "    else\n",
    "    end\n",
    "  end\n",
    "  printf(\"----------\\n\")\n",
    "end; nil"
   ]
  },
  {
   "cell_type": "markdown",
   "metadata": {},
   "source": [
    "### TODO\n",
    "\n",
    "* [ ] Wcode#devide して得られる2つの Wcode instance の show(2) (および show(3)) がバグってる。なぜか each_slice(4) が2つずつくくる。\n",
    "* [ ] 係数がプラマイ逆かな。\n",
    "* [x] simple subword たちによる計算を実装する。<-- ダメだった。各 simple subword が内部では確実に交差しない保証がないとダメだから。"
   ]
  },
  {
   "cell_type": "code",
   "execution_count": null,
   "metadata": {},
   "outputs": [],
   "source": []
  }
 ],
 "metadata": {
  "kernelspec": {
   "display_name": "Ruby 3.3.0",
   "language": "ruby",
   "name": "ruby"
  },
  "language_info": {
   "file_extension": ".rb",
   "mimetype": "application/x-ruby",
   "name": "ruby",
   "version": "3.3.0"
  },
  "toc": {
   "base_numbering": 1,
   "nav_menu": {},
   "number_sections": false,
   "sideBar": true,
   "skip_h1_title": true,
   "title_cell": "Table of Contents",
   "title_sidebar": "Contents",
   "toc_cell": false,
   "toc_position": {},
   "toc_section_display": true,
   "toc_window_display": false
  },
  "varInspector": {
   "cols": {
    "lenName": 16,
    "lenType": 16,
    "lenVar": 40
   },
   "kernels_config": {
    "python": {
     "delete_cmd_postfix": "",
     "delete_cmd_prefix": "del ",
     "library": "var_list.py",
     "varRefreshCmd": "print(var_dic_list())"
    },
    "r": {
     "delete_cmd_postfix": ") ",
     "delete_cmd_prefix": "rm(",
     "library": "var_list.r",
     "varRefreshCmd": "cat(var_dic_list()) "
    }
   },
   "types_to_exclude": [
    "module",
    "function",
    "builtin_function_or_method",
    "instance",
    "_Feature"
   ],
   "window_display": false
  }
 },
 "nbformat": 4,
 "nbformat_minor": 4
}
