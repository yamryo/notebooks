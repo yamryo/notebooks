{
 "cells": [
  {
   "cell_type": "code",
   "execution_count": 1,
   "metadata": {
    "ExecuteTime": {
     "end_time": "2019-12-29T08:56:16.907347Z",
     "start_time": "2019-12-29T08:56:16.900Z"
    }
   },
   "outputs": [
    {
     "data": {
      "text/plain": [
       "42"
      ]
     },
     "execution_count": 1,
     "metadata": {},
     "output_type": "execute_result"
    }
   ],
   "source": [
    "mh = Hash.new\n",
    "mh[:value] = 42"
   ]
  },
  {
   "cell_type": "code",
   "execution_count": 2,
   "metadata": {
    "ExecuteTime": {
     "end_time": "2019-12-29T08:56:45.704408Z",
     "start_time": "2019-12-29T08:56:45.695Z"
    }
   },
   "outputs": [
    {
     "data": {
      "text/plain": [
       "{:value=>42}"
      ]
     },
     "execution_count": 2,
     "metadata": {},
     "output_type": "execute_result"
    }
   ],
   "source": [
    "mh = Hash.new\n",
    "mh.tap {|h| h[:value] = 42}"
   ]
  },
  {
   "cell_type": "code",
   "execution_count": 10,
   "metadata": {
    "ExecuteTime": {
     "end_time": "2019-12-30T08:55:01.366784Z",
     "start_time": "2019-12-30T08:55:01.359Z"
    }
   },
   "outputs": [
    {
     "name": "stdout",
     "output_type": "stream",
     "text": [
      "[1, 8, 27]\n",
      "[1, 2, 0]\n",
      "[1, 8, 27]\n"
     ]
    }
   ],
   "source": [
    "marr = Array.new(3){|v| (v+1)**3}\n",
    "puts marr.inspect\n",
    "puts marr.then {|a| a.map {|v| v%3} }\n",
    "puts marr.inspect"
   ]
  }
 ],
 "metadata": {
  "kernelspec": {
   "display_name": "Ruby 2.7.0",
   "language": "ruby",
   "name": "ruby"
  },
  "language_info": {
   "file_extension": ".rb",
   "mimetype": "application/x-ruby",
   "name": "ruby",
   "version": "2.7.0"
  },
  "toc": {
   "base_numbering": 1,
   "nav_menu": {},
   "number_sections": false,
   "sideBar": true,
   "skip_h1_title": true,
   "title_cell": "Table of Contents",
   "title_sidebar": "Contents",
   "toc_cell": false,
   "toc_position": {},
   "toc_section_display": true,
   "toc_window_display": false
  }
 },
 "nbformat": 4,
 "nbformat_minor": 4
}
